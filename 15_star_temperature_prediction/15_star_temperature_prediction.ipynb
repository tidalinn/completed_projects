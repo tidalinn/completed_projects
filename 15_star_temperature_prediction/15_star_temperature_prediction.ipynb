{
 "cells": [
  {
   "cell_type": "markdown",
   "id": "21bbc125",
   "metadata": {},
   "source": [
    "# Прогнозирование температуры звезды"
   ]
  },
  {
   "cell_type": "markdown",
   "id": "d8e78970",
   "metadata": {},
   "source": [
    "**Источник данных:** данные предоставлены заказчиком.\n",
    "\n",
    "**Характер данных:** характеристики изученных 240 звёзд.\n",
    "\n",
    "**Цель заказчика:** внедрение технологии машинного обучения для предсказания температуры звёзд.\n",
    "\n",
    "**Задача исследования:** разработка нейронной сети, предсказывающей абсолютную температуру на поверхности звезды.\n",
    "\n",
    "**Заказчику важны:** качество предсказания."
   ]
  },
  {
   "cell_type": "markdown",
   "id": "a19dd61a",
   "metadata": {},
   "source": [
    "<div style=\"background-color: blue; height: 2px; margin: 10px 0;\"></div>"
   ]
  },
  {
   "cell_type": "markdown",
   "id": "corresponding-armstrong",
   "metadata": {
    "ExecuteTime": {
     "end_time": "2022-05-05T04:58:05.692448Z",
     "start_time": "2022-05-05T04:58:05.688565Z"
    }
   },
   "source": [
    "## Загрузка данных"
   ]
  },
  {
   "cell_type": "markdown",
   "id": "e33e0294",
   "metadata": {},
   "source": [
    "Импорт необходимых библиотек:"
   ]
  },
  {
   "cell_type": "code",
   "execution_count": 1,
   "id": "spectacular-folder",
   "metadata": {},
   "outputs": [],
   "source": [
    "import numpy as np\n",
    "import pandas as pd\n",
    "\n",
    "import itertools\n",
    "from typing import Tuple\n",
    "from tqdm.notebook import tqdm\n",
    "\n",
    "import torch\n",
    "import torch.nn as nn\n",
    "\n",
    "import matplotlib.pyplot as plt\n",
    "import matplotlib.gridspec as gridspec\n",
    "\n",
    "from sklearn.preprocessing import OneHotEncoder, StandardScaler\n",
    "from sklearn.compose import make_column_transformer, make_column_selector\n",
    "from sklearn.model_selection import train_test_split"
   ]
  },
  {
   "cell_type": "markdown",
   "id": "0e76369a",
   "metadata": {},
   "source": [
    "Задание случайных величин:"
   ]
  },
  {
   "cell_type": "code",
   "execution_count": 2,
   "id": "6b27fb68",
   "metadata": {},
   "outputs": [],
   "source": [
    "np.random.seed(42)\n",
    "torch.manual_seed(42)\n",
    "torch.use_deterministic_algorithms(True)\n",
    "\n",
    "RANDOM_STATE = 42"
   ]
  },
  {
   "cell_type": "markdown",
   "id": "83de4b33",
   "metadata": {},
   "source": [
    "Загрузка исходного набора данных:"
   ]
  },
  {
   "cell_type": "code",
   "execution_count": 3,
   "id": "3d193c9a",
   "metadata": {},
   "outputs": [],
   "source": [
    "data = pd.read_csv('/datasets/6_class.csv').iloc[:, 1:]"
   ]
  },
  {
   "cell_type": "markdown",
   "id": "ac2c8f87",
   "metadata": {},
   "source": [
    "Выведение на экран первых пяти строк набора данных:"
   ]
  },
  {
   "cell_type": "code",
   "execution_count": 4,
   "id": "7700cc27",
   "metadata": {},
   "outputs": [
    {
     "data": {
      "text/html": [
       "<div>\n",
       "<style scoped>\n",
       "    .dataframe tbody tr th:only-of-type {\n",
       "        vertical-align: middle;\n",
       "    }\n",
       "\n",
       "    .dataframe tbody tr th {\n",
       "        vertical-align: top;\n",
       "    }\n",
       "\n",
       "    .dataframe thead th {\n",
       "        text-align: right;\n",
       "    }\n",
       "</style>\n",
       "<table border=\"1\" class=\"dataframe\">\n",
       "  <thead>\n",
       "    <tr style=\"text-align: right;\">\n",
       "      <th></th>\n",
       "      <th>Temperature (K)</th>\n",
       "      <th>Luminosity(L/Lo)</th>\n",
       "      <th>Radius(R/Ro)</th>\n",
       "      <th>Absolute magnitude(Mv)</th>\n",
       "      <th>Star type</th>\n",
       "      <th>Star color</th>\n",
       "    </tr>\n",
       "  </thead>\n",
       "  <tbody>\n",
       "    <tr>\n",
       "      <th>0</th>\n",
       "      <td>3068</td>\n",
       "      <td>0.002400</td>\n",
       "      <td>0.1700</td>\n",
       "      <td>16.12</td>\n",
       "      <td>0</td>\n",
       "      <td>Red</td>\n",
       "    </tr>\n",
       "    <tr>\n",
       "      <th>1</th>\n",
       "      <td>3042</td>\n",
       "      <td>0.000500</td>\n",
       "      <td>0.1542</td>\n",
       "      <td>16.60</td>\n",
       "      <td>0</td>\n",
       "      <td>Red</td>\n",
       "    </tr>\n",
       "    <tr>\n",
       "      <th>2</th>\n",
       "      <td>2600</td>\n",
       "      <td>0.000300</td>\n",
       "      <td>0.1020</td>\n",
       "      <td>18.70</td>\n",
       "      <td>0</td>\n",
       "      <td>Red</td>\n",
       "    </tr>\n",
       "    <tr>\n",
       "      <th>3</th>\n",
       "      <td>2800</td>\n",
       "      <td>0.000200</td>\n",
       "      <td>0.1600</td>\n",
       "      <td>16.65</td>\n",
       "      <td>0</td>\n",
       "      <td>Red</td>\n",
       "    </tr>\n",
       "    <tr>\n",
       "      <th>4</th>\n",
       "      <td>1939</td>\n",
       "      <td>0.000138</td>\n",
       "      <td>0.1030</td>\n",
       "      <td>20.06</td>\n",
       "      <td>0</td>\n",
       "      <td>Red</td>\n",
       "    </tr>\n",
       "  </tbody>\n",
       "</table>\n",
       "</div>"
      ],
      "text/plain": [
       "   Temperature (K)  Luminosity(L/Lo)  Radius(R/Ro)  Absolute magnitude(Mv)  \\\n",
       "0             3068          0.002400        0.1700                   16.12   \n",
       "1             3042          0.000500        0.1542                   16.60   \n",
       "2             2600          0.000300        0.1020                   18.70   \n",
       "3             2800          0.000200        0.1600                   16.65   \n",
       "4             1939          0.000138        0.1030                   20.06   \n",
       "\n",
       "   Star type Star color  \n",
       "0          0        Red  \n",
       "1          0        Red  \n",
       "2          0        Red  \n",
       "3          0        Red  \n",
       "4          0        Red  "
      ]
     },
     "execution_count": 4,
     "metadata": {},
     "output_type": "execute_result"
    }
   ],
   "source": [
    "data.head()"
   ]
  },
  {
   "cell_type": "markdown",
   "id": "5a12953d",
   "metadata": {},
   "source": [
    "Выведение на экран размера исходных данных:"
   ]
  },
  {
   "cell_type": "code",
   "execution_count": 5,
   "id": "a91a6531",
   "metadata": {},
   "outputs": [
    {
     "name": "stdout",
     "output_type": "stream",
     "text": [
      "Размер набора данных: (240, 6)\n"
     ]
    }
   ],
   "source": [
    "print('Размер набора данных:', data.shape)"
   ]
  },
  {
   "cell_type": "markdown",
   "id": "ca5f955b",
   "metadata": {},
   "source": [
    "<div style=\"background-color: #EBF3FA; border-radius: 3px; padding: 20px;\">\n",
    "\n",
    "<strong>Вывод</strong>\n",
    "    \n",
    "Предоставленные данные соответствуют заявленному описанию и поставленной задаче.\n",
    "\n",
    "</div>"
   ]
  },
  {
   "cell_type": "markdown",
   "id": "cf6c1426",
   "metadata": {},
   "source": [
    "<div style=\"background-color: blue; height: 2px; margin: 10px 0;\"></div>"
   ]
  },
  {
   "cell_type": "markdown",
   "id": "f5bb8e29",
   "metadata": {},
   "source": [
    "## Общий анализ данных"
   ]
  },
  {
   "cell_type": "markdown",
   "id": "66c71c05",
   "metadata": {},
   "source": [
    "Задание функции, выводящей на экран графики распределения значений в переданном столбце:"
   ]
  },
  {
   "cell_type": "code",
   "execution_count": 6,
   "id": "292e662d",
   "metadata": {},
   "outputs": [],
   "source": [
    "def plot_box_hist(col_name: str, df: pd.DataFrame):\n",
    "    font_s = 12\n",
    "\n",
    "    fig, (ax_box, ax_hist) = plt.subplots(2, \n",
    "                                          sharex=True, \n",
    "                                          gridspec_kw={\"height_ratios\": (.25, .75)},\n",
    "                                          figsize=(6,5))\n",
    "\n",
    "    plt.suptitle(f'Столбец {col_name}\\n', fontsize=font_s+4)\n",
    "    \n",
    "    ax_box.boxplot(df[col_name], vert=False)\n",
    "    ax_hist.hist(df[col_name])\n",
    "\n",
    "    ax_box.grid()\n",
    "    ax_hist.grid()\n",
    "\n",
    "    plt.xlabel(col_name, fontsize=font_s)\n",
    "    plt.ylabel('frequency', fontsize=font_s)\n",
    "\n",
    "    plt.show()"
   ]
  },
  {
   "cell_type": "markdown",
   "id": "a59a58e9",
   "metadata": {},
   "source": [
    "---"
   ]
  },
  {
   "cell_type": "markdown",
   "id": "1679d4f4",
   "metadata": {},
   "source": [
    "Выведение на экран общей информации об исходном наборе данных:"
   ]
  },
  {
   "cell_type": "code",
   "execution_count": 7,
   "id": "ca85db7e",
   "metadata": {},
   "outputs": [
    {
     "name": "stdout",
     "output_type": "stream",
     "text": [
      "<class 'pandas.core.frame.DataFrame'>\n",
      "RangeIndex: 240 entries, 0 to 239\n",
      "Data columns (total 6 columns):\n",
      " #   Column                  Non-Null Count  Dtype  \n",
      "---  ------                  --------------  -----  \n",
      " 0   Temperature (K)         240 non-null    int64  \n",
      " 1   Luminosity(L/Lo)        240 non-null    float64\n",
      " 2   Radius(R/Ro)            240 non-null    float64\n",
      " 3   Absolute magnitude(Mv)  240 non-null    float64\n",
      " 4   Star type               240 non-null    int64  \n",
      " 5   Star color              240 non-null    object \n",
      "dtypes: float64(3), int64(2), object(1)\n",
      "memory usage: 11.4+ KB\n"
     ]
    }
   ],
   "source": [
    "data.info()"
   ]
  },
  {
   "cell_type": "markdown",
   "id": "e0aa7e44",
   "metadata": {},
   "source": [
    "<div style=\"background-color: #f9f9f9; border-radius: 2px; padding: 20px 20px 10px 20px;\">\n",
    "    \n",
    "* Категориальные столбцы `Star type` и `Star color` можно привести к типу данных `category` для сокращения объёма занимаемой набором данных памяти.\n",
    "    \n",
    "</div>"
   ]
  },
  {
   "cell_type": "markdown",
   "id": "0afb4df9",
   "metadata": {},
   "source": [
    "Выведение на экран названий столбцов исходного набора данных:"
   ]
  },
  {
   "cell_type": "code",
   "execution_count": 8,
   "id": "20063c55",
   "metadata": {},
   "outputs": [
    {
     "data": {
      "text/plain": [
       "Index(['Temperature (K)', 'Luminosity(L/Lo)', 'Radius(R/Ro)',\n",
       "       'Absolute magnitude(Mv)', 'Star type', 'Star color'],\n",
       "      dtype='object')"
      ]
     },
     "execution_count": 8,
     "metadata": {},
     "output_type": "execute_result"
    }
   ],
   "source": [
    "data.columns"
   ]
  },
  {
   "cell_type": "markdown",
   "id": "a1640515",
   "metadata": {},
   "source": [
    "<div style=\"background-color: #f9f9f9; border-radius: 2px; padding: 20px 20px 10px 20px;\">\n",
    "    \n",
    "* Оформление названий столбцов необходимо привести к удобному для работы с набором данных формату.\n",
    "    \n",
    "</div>"
   ]
  },
  {
   "cell_type": "markdown",
   "id": "3af3e123",
   "metadata": {},
   "source": [
    "Выведение на экран числовых характеристик исходного набора данных:"
   ]
  },
  {
   "cell_type": "code",
   "execution_count": 9,
   "id": "a38b99ef",
   "metadata": {},
   "outputs": [
    {
     "data": {
      "text/html": [
       "<div>\n",
       "<style scoped>\n",
       "    .dataframe tbody tr th:only-of-type {\n",
       "        vertical-align: middle;\n",
       "    }\n",
       "\n",
       "    .dataframe tbody tr th {\n",
       "        vertical-align: top;\n",
       "    }\n",
       "\n",
       "    .dataframe thead th {\n",
       "        text-align: right;\n",
       "    }\n",
       "</style>\n",
       "<table border=\"1\" class=\"dataframe\">\n",
       "  <thead>\n",
       "    <tr style=\"text-align: right;\">\n",
       "      <th></th>\n",
       "      <th>count</th>\n",
       "      <th>mean</th>\n",
       "      <th>std</th>\n",
       "      <th>min</th>\n",
       "      <th>25%</th>\n",
       "      <th>50%</th>\n",
       "      <th>75%</th>\n",
       "      <th>max</th>\n",
       "    </tr>\n",
       "  </thead>\n",
       "  <tbody>\n",
       "    <tr>\n",
       "      <th>Temperature (K)</th>\n",
       "      <td>240.0</td>\n",
       "      <td>10497.462500</td>\n",
       "      <td>9552.425037</td>\n",
       "      <td>1939.00000</td>\n",
       "      <td>3344.250000</td>\n",
       "      <td>5776.0000</td>\n",
       "      <td>15055.5000</td>\n",
       "      <td>40000.00</td>\n",
       "    </tr>\n",
       "    <tr>\n",
       "      <th>Luminosity(L/Lo)</th>\n",
       "      <td>240.0</td>\n",
       "      <td>107188.361635</td>\n",
       "      <td>179432.244940</td>\n",
       "      <td>0.00008</td>\n",
       "      <td>0.000865</td>\n",
       "      <td>0.0705</td>\n",
       "      <td>198050.0000</td>\n",
       "      <td>849420.00</td>\n",
       "    </tr>\n",
       "    <tr>\n",
       "      <th>Radius(R/Ro)</th>\n",
       "      <td>240.0</td>\n",
       "      <td>237.157781</td>\n",
       "      <td>517.155763</td>\n",
       "      <td>0.00840</td>\n",
       "      <td>0.102750</td>\n",
       "      <td>0.7625</td>\n",
       "      <td>42.7500</td>\n",
       "      <td>1948.50</td>\n",
       "    </tr>\n",
       "    <tr>\n",
       "      <th>Absolute magnitude(Mv)</th>\n",
       "      <td>240.0</td>\n",
       "      <td>4.382396</td>\n",
       "      <td>10.532512</td>\n",
       "      <td>-11.92000</td>\n",
       "      <td>-6.232500</td>\n",
       "      <td>8.3130</td>\n",
       "      <td>13.6975</td>\n",
       "      <td>20.06</td>\n",
       "    </tr>\n",
       "  </tbody>\n",
       "</table>\n",
       "</div>"
      ],
      "text/plain": [
       "                        count           mean            std         min  \\\n",
       "Temperature (K)         240.0   10497.462500    9552.425037  1939.00000   \n",
       "Luminosity(L/Lo)        240.0  107188.361635  179432.244940     0.00008   \n",
       "Radius(R/Ro)            240.0     237.157781     517.155763     0.00840   \n",
       "Absolute magnitude(Mv)  240.0       4.382396      10.532512   -11.92000   \n",
       "\n",
       "                                25%        50%          75%        max  \n",
       "Temperature (K)         3344.250000  5776.0000   15055.5000   40000.00  \n",
       "Luminosity(L/Lo)           0.000865     0.0705  198050.0000  849420.00  \n",
       "Radius(R/Ro)               0.102750     0.7625      42.7500    1948.50  \n",
       "Absolute magnitude(Mv)    -6.232500     8.3130      13.6975      20.06  "
      ]
     },
     "execution_count": 9,
     "metadata": {},
     "output_type": "execute_result"
    }
   ],
   "source": [
    "data.drop('Star type', axis=1).describe().T"
   ]
  },
  {
   "cell_type": "markdown",
   "id": "f0aacbda",
   "metadata": {},
   "source": [
    "<div style=\"background-color: #f9f9f9; border-radius: 2px; padding: 20px 20px 10px 20px;\">\n",
    "    \n",
    "* В столбце `Absolute magnitude(Mv)` допускаются отрицательные значения ([Wikipedia](https://en.wikipedia.org/wiki/Absolute_magnitude)).\n",
    "    \n",
    "</div>"
   ]
  },
  {
   "cell_type": "markdown",
   "id": "9a201992",
   "metadata": {},
   "source": [
    "Выведение на экран количества пропущенных значений в исходном наборе данных:"
   ]
  },
  {
   "cell_type": "code",
   "execution_count": 10,
   "id": "62a8c7a3",
   "metadata": {},
   "outputs": [
    {
     "data": {
      "text/plain": [
       "Temperature (K)           0\n",
       "Luminosity(L/Lo)          0\n",
       "Radius(R/Ro)              0\n",
       "Absolute magnitude(Mv)    0\n",
       "Star type                 0\n",
       "Star color                0\n",
       "dtype: int64"
      ]
     },
     "execution_count": 10,
     "metadata": {},
     "output_type": "execute_result"
    }
   ],
   "source": [
    "data.isna().sum()"
   ]
  },
  {
   "cell_type": "markdown",
   "id": "b01ab9fd",
   "metadata": {},
   "source": [
    "Выведение на экран общего числа дубликатов в исходном наборе данных:"
   ]
  },
  {
   "cell_type": "code",
   "execution_count": 11,
   "id": "114dd6d2",
   "metadata": {},
   "outputs": [
    {
     "name": "stdout",
     "output_type": "stream",
     "text": [
      "Количество дубликатов: 0\n"
     ]
    }
   ],
   "source": [
    "print('Количество дубликатов:', data.duplicated().sum())"
   ]
  },
  {
   "cell_type": "markdown",
   "id": "c2ae2c74",
   "metadata": {},
   "source": [
    "Выведение на экран распределения значений в категориальных столбцах:"
   ]
  },
  {
   "cell_type": "code",
   "execution_count": 12,
   "id": "1cdc3ac3",
   "metadata": {},
   "outputs": [
    {
     "name": "stdout",
     "output_type": "stream",
     "text": [
      "Столбец: Star type\n",
      "0    40\n",
      "1    40\n",
      "2    40\n",
      "3    40\n",
      "4    40\n",
      "5    40\n",
      "Name: Star type, dtype: int64\n",
      "\n",
      "---\n",
      "\n",
      "Столбец: Star color\n",
      "Red                   112\n",
      "Blue                   55\n",
      "Blue-white             26\n",
      "Blue White             10\n",
      "yellow-white            8\n",
      "White                   7\n",
      "white                   3\n",
      "Yellowish White         3\n",
      "Blue white              3\n",
      "Orange                  2\n",
      "yellowish               2\n",
      "Whitish                 2\n",
      "White-Yellow            1\n",
      "Blue white              1\n",
      "Orange-Red              1\n",
      "Yellowish               1\n",
      "Blue                    1\n",
      "Blue-White              1\n",
      "Pale yellow orange      1\n",
      "Name: Star color, dtype: int64\n",
      "\n",
      "---\n",
      "\n"
     ]
    }
   ],
   "source": [
    "for col_name in data[['Star type', 'Star color']]:\n",
    "    print('Столбец:', col_name)\n",
    "    print(data[col_name].value_counts())\n",
    "    print('\\n---\\n')"
   ]
  },
  {
   "cell_type": "markdown",
   "id": "f027bce9",
   "metadata": {},
   "source": [
    "<div style=\"background-color: #f9f9f9; border-radius: 2px; padding: 20px 20px 10px 20px;\">\n",
    "    \n",
    "* В столбце `Star color` обнаружены неявные дубликаты значений. \n",
    "    \n",
    "</div>"
   ]
  },
  {
   "cell_type": "markdown",
   "id": "a28a4918",
   "metadata": {},
   "source": [
    "Выведение на экран количества строк в наборе данных, значения которых превышают светимость Солнца:"
   ]
  },
  {
   "cell_type": "code",
   "execution_count": 13,
   "id": "a287c8fb",
   "metadata": {},
   "outputs": [
    {
     "name": "stdout",
     "output_type": "stream",
     "text": [
      "Значений, превышающих светимость Солнца: 0\n"
     ]
    }
   ],
   "source": [
    "l_sun = 3.828 * 10 ** 26\n",
    "\n",
    "print('Значений, превышающих светимость Солнца:', \n",
    "      data[data['Luminosity(L/Lo)'] >= l_sun]['Luminosity(L/Lo)'].count())"
   ]
  },
  {
   "cell_type": "markdown",
   "id": "a32e4f06",
   "metadata": {},
   "source": [
    "Выведение на экран количества строк в наборе данных, значения которых превышают радиус Солнца:"
   ]
  },
  {
   "cell_type": "code",
   "execution_count": 14,
   "id": "020f0072",
   "metadata": {},
   "outputs": [
    {
     "name": "stdout",
     "output_type": "stream",
     "text": [
      "Значений, превышающих радиус Солнца: 0\n"
     ]
    }
   ],
   "source": [
    "r_sun = 6.9551 * 10 ** 8\n",
    "\n",
    "print('Значений, превышающих радиус Солнца:', \n",
    "      data[data['Radius(R/Ro)'] >= r_sun]['Radius(R/Ro)'].count())"
   ]
  },
  {
   "cell_type": "markdown",
   "id": "9327dbd9",
   "metadata": {},
   "source": [
    "Выведение на экран графика распределений в числовых столбцах исходного набора данных:"
   ]
  },
  {
   "cell_type": "code",
   "execution_count": 15,
   "id": "ff3475a8",
   "metadata": {},
   "outputs": [
    {
     "data": {
      "image/png": "[encoded data removed]",
      "text/plain": [
       "<Figure size 432x360 with 2 Axes>"
      ]
     },
     "metadata": {
      "needs_background": "light"
     },
     "output_type": "display_data"
    },
    {
     "data": {
      "image/png": "[encoded data removed]",
      "text/plain": [
       "<Figure size 432x360 with 2 Axes>"
      ]
     },
     "metadata": {
      "needs_background": "light"
     },
     "output_type": "display_data"
    },
    {
     "data": {
      "image/png": "[encoded data removed]",
      "text/plain": [
       "<Figure size 432x360 with 2 Axes>"
      ]
     },
     "metadata": {
      "needs_background": "light"
     },
     "output_type": "display_data"
    },
    {
     "data": {
      "image/png": "[encoded data removed]",
      "text/plain": [
       "<Figure size 432x360 with 2 Axes>"
      ]
     },
     "metadata": {
      "needs_background": "light"
     },
     "output_type": "display_data"
    }
   ],
   "source": [
    "for column in data.columns[:-2]:\n",
    "    plot_box_hist(column, data)"
   ]
  },
  {
   "cell_type": "markdown",
   "id": "7931d60c",
   "metadata": {},
   "source": [
    "Выведение на экран матрицы рассеяния числовых значений:"
   ]
  },
  {
   "cell_type": "code",
   "execution_count": 16,
   "id": "5d135989",
   "metadata": {},
   "outputs": [
    {
     "data": {
      "image/png": "[encoded data removed]",
      "text/plain": [
       "<Figure size 576x576 with 16 Axes>"
      ]
     },
     "metadata": {
      "needs_background": "light"
     },
     "output_type": "display_data"
    }
   ],
   "source": [
    "pd.plotting.scatter_matrix(data.drop(['Star type', 'Star color'], axis=1), figsize=(8,8))\n",
    "\n",
    "plt.suptitle('Матрица рассеяния числовых значений', fontsize=16)\n",
    "\n",
    "plt.show()"
   ]
  },
  {
   "cell_type": "markdown",
   "id": "8f19d9a9",
   "metadata": {},
   "source": [
    "<div style=\"background-color: #f9f9f9; border-radius: 2px; padding: 20px 20px 10px 20px;\">\n",
    "    \n",
    "* Явных линейных зависимостей в данных не обнаружено.\n",
    "    \n",
    "</div>"
   ]
  },
  {
   "cell_type": "markdown",
   "id": "3e0b2fdc",
   "metadata": {},
   "source": [
    "<div style=\"background-color: #EBF3FA; border-radius: 3px; padding: 20px;\">\n",
    "\n",
    "<strong>Вывод</strong>\n",
    "    \n",
    "В ходе предварительного анализа были обнаружены ошибки в формате значений набора данных, которые необходимо исправить для обеспечения корректности построения модели нейронной сети.\n",
    "\n",
    "</div>"
   ]
  },
  {
   "cell_type": "markdown",
   "id": "e54c281e",
   "metadata": {},
   "source": [
    "<div style=\"background-color: blue; height: 2px; margin: 10px 0;\"></div>"
   ]
  },
  {
   "cell_type": "markdown",
   "id": "simple-subdivision",
   "metadata": {},
   "source": [
    "## Предобработка данных"
   ]
  },
  {
   "cell_type": "markdown",
   "id": "9a54e285",
   "metadata": {},
   "source": [
    "### Названия столбцов"
   ]
  },
  {
   "cell_type": "markdown",
   "id": "690146c3",
   "metadata": {},
   "source": [
    "Переименовывание столбцов:"
   ]
  },
  {
   "cell_type": "code",
   "execution_count": 17,
   "id": "flush-dream",
   "metadata": {},
   "outputs": [],
   "source": [
    "data.columns = ['temperature', 'luminosity', 'radius', 'absolute_magnitude', 'type', 'color']"
   ]
  },
  {
   "cell_type": "markdown",
   "id": "b1c775bb",
   "metadata": {},
   "source": [
    "Выведение на экран названий столбцов для проверки применённых изменений:"
   ]
  },
  {
   "cell_type": "code",
   "execution_count": 18,
   "id": "2ffdd94a",
   "metadata": {},
   "outputs": [
    {
     "data": {
      "text/plain": [
       "Index(['temperature', 'luminosity', 'radius', 'absolute_magnitude', 'type',\n",
       "       'color'],\n",
       "      dtype='object')"
      ]
     },
     "execution_count": 18,
     "metadata": {},
     "output_type": "execute_result"
    }
   ],
   "source": [
    "data.columns"
   ]
  },
  {
   "cell_type": "markdown",
   "id": "b70ea0f5",
   "metadata": {},
   "source": [
    "<div style=\"background-color: #f9f9f9; border-radius: 2px; padding: 20px 20px 10px 20px;\">\n",
    "    \n",
    "* Названия столбцов были приведены к удобному для работы с набором данных виду.\n",
    "    \n",
    "</div>"
   ]
  },
  {
   "cell_type": "markdown",
   "id": "653ee56b",
   "metadata": {},
   "source": [
    "---"
   ]
  },
  {
   "cell_type": "markdown",
   "id": "5534cc35",
   "metadata": {},
   "source": [
    "### Неявные дубликаты"
   ]
  },
  {
   "cell_type": "markdown",
   "id": "e4f2082f",
   "metadata": {},
   "source": [
    "Выведение на экран уникальных значений столбца `color`:"
   ]
  },
  {
   "cell_type": "code",
   "execution_count": 19,
   "id": "a0d13ee8",
   "metadata": {},
   "outputs": [
    {
     "data": {
      "text/plain": [
       "array(['Red', 'Blue White', 'White', 'Yellowish White', 'Blue white',\n",
       "       'Pale yellow orange', 'Blue', 'Blue-white', 'Whitish',\n",
       "       'yellow-white', 'Orange', 'White-Yellow', 'white', 'Blue ',\n",
       "       'yellowish', 'Yellowish', 'Orange-Red', 'Blue white ',\n",
       "       'Blue-White'], dtype=object)"
      ]
     },
     "execution_count": 19,
     "metadata": {},
     "output_type": "execute_result"
    }
   ],
   "source": [
    "data['color'].unique()"
   ]
  },
  {
   "cell_type": "markdown",
   "id": "0419d75c",
   "metadata": {},
   "source": [
    "Приведение значений столбца `color` к нижнему регистру и удаление лишних пробелов:"
   ]
  },
  {
   "cell_type": "code",
   "execution_count": 20,
   "id": "2447e1c1",
   "metadata": {},
   "outputs": [],
   "source": [
    "data['color'] = data['color'].str.lower()\n",
    "data['color'] = data['color'].apply(lambda x: x.strip().replace('-', ' '))"
   ]
  },
  {
   "cell_type": "markdown",
   "id": "81e9421e",
   "metadata": {},
   "source": [
    "Выведение на экран уникальных значений столбца `color` для проверки применённых изменений:"
   ]
  },
  {
   "cell_type": "code",
   "execution_count": 21,
   "id": "cd03f97d",
   "metadata": {},
   "outputs": [
    {
     "data": {
      "text/plain": [
       "array(['red', 'blue white', 'white', 'yellowish white',\n",
       "       'pale yellow orange', 'blue', 'whitish', 'yellow white', 'orange',\n",
       "       'white yellow', 'yellowish', 'orange red'], dtype=object)"
      ]
     },
     "execution_count": 21,
     "metadata": {},
     "output_type": "execute_result"
    }
   ],
   "source": [
    "data['color'].unique()"
   ]
  },
  {
   "cell_type": "markdown",
   "id": "a56fb2e0",
   "metadata": {},
   "source": [
    "С учётом вариаций цветов \"беловатый\" и \"желтоватый\" наравне с \"белый\" и \"жёлтый\" замена значений на единый вариант не допускается."
   ]
  },
  {
   "cell_type": "markdown",
   "id": "e1fdec71",
   "metadata": {},
   "source": [
    "Выведение на экран распределения значений в столбце `color`:"
   ]
  },
  {
   "cell_type": "code",
   "execution_count": 22,
   "id": "415769bd",
   "metadata": {},
   "outputs": [
    {
     "data": {
      "text/plain": [
       "red                   112\n",
       "blue                   56\n",
       "blue white             41\n",
       "white                  10\n",
       "yellow white            8\n",
       "yellowish               3\n",
       "yellowish white         3\n",
       "orange                  2\n",
       "whitish                 2\n",
       "pale yellow orange      1\n",
       "orange red              1\n",
       "white yellow            1\n",
       "Name: color, dtype: int64"
      ]
     },
     "execution_count": 22,
     "metadata": {},
     "output_type": "execute_result"
    }
   ],
   "source": [
    "data['color'].value_counts()"
   ]
  },
  {
   "cell_type": "markdown",
   "id": "1c3d2c79",
   "metadata": {},
   "source": [
    "<div style=\"background-color: #f9f9f9; border-radius: 2px; padding: 20px 20px 10px 20px;\">\n",
    "    \n",
    "* Значения столбца `color` были очищены от неявных дубликатов.\n",
    "    \n",
    "</div>"
   ]
  },
  {
   "cell_type": "markdown",
   "id": "60949e8e",
   "metadata": {},
   "source": [
    "---"
   ]
  },
  {
   "cell_type": "markdown",
   "id": "56434667",
   "metadata": {},
   "source": [
    "### Типы данных"
   ]
  },
  {
   "cell_type": "markdown",
   "id": "398d3b89",
   "metadata": {},
   "source": [
    "Исправление типов данных категориальных столбцов:"
   ]
  },
  {
   "cell_type": "code",
   "execution_count": 23,
   "id": "a48fc86b",
   "metadata": {},
   "outputs": [],
   "source": [
    "for col_name in ['type', 'color']:\n",
    "    data[col_name] = data[col_name].astype('category')"
   ]
  },
  {
   "cell_type": "markdown",
   "id": "d67373dc",
   "metadata": {},
   "source": [
    "Выведение на экран общей информации об исходном наборе данных для проверки применённых изменений:"
   ]
  },
  {
   "cell_type": "code",
   "execution_count": 24,
   "id": "25912cd1",
   "metadata": {},
   "outputs": [
    {
     "name": "stdout",
     "output_type": "stream",
     "text": [
      "<class 'pandas.core.frame.DataFrame'>\n",
      "RangeIndex: 240 entries, 0 to 239\n",
      "Data columns (total 6 columns):\n",
      " #   Column              Non-Null Count  Dtype   \n",
      "---  ------              --------------  -----   \n",
      " 0   temperature         240 non-null    int64   \n",
      " 1   luminosity          240 non-null    float64 \n",
      " 2   radius              240 non-null    float64 \n",
      " 3   absolute_magnitude  240 non-null    float64 \n",
      " 4   type                240 non-null    category\n",
      " 5   color               240 non-null    category\n",
      "dtypes: category(2), float64(3), int64(1)\n",
      "memory usage: 8.7 KB\n"
     ]
    }
   ],
   "source": [
    "data.info()"
   ]
  },
  {
   "cell_type": "markdown",
   "id": "e91666fe",
   "metadata": {},
   "source": [
    "<div style=\"background-color: #f9f9f9; border-radius: 2px; padding: 20px 20px 10px 20px;\">\n",
    "    \n",
    "* Данные в столбцах были приведены к соответствующему им типу и понижены в разрядах для сокращения объёма занимаемой исходным набором данных памяти.\n",
    "    \n",
    "</div>"
   ]
  },
  {
   "cell_type": "markdown",
   "id": "7c6fdf90",
   "metadata": {},
   "source": [
    "<div style=\"background-color: #EBF3FA; border-radius: 3px; padding: 20px;\">\n",
    "\n",
    "<strong>Вывод</strong>\n",
    "    \n",
    "Исходные данные были подготовлены для построения нейронной модели.\n",
    "\n",
    "</div>"
   ]
  },
  {
   "cell_type": "markdown",
   "id": "d12d6eb3",
   "metadata": {},
   "source": [
    "<div style=\"background-color: blue; height: 2px; margin: 10px 0;\"></div>"
   ]
  },
  {
   "cell_type": "markdown",
   "id": "funded-electric",
   "metadata": {},
   "source": [
    "## Подготовка данных"
   ]
  },
  {
   "cell_type": "markdown",
   "id": "46a11fa2",
   "metadata": {},
   "source": [
    "### Разделение на выборки"
   ]
  },
  {
   "cell_type": "markdown",
   "id": "31930af4",
   "metadata": {},
   "source": [
    "Разделение набора данных на признаки объектов и целевой признак:"
   ]
  },
  {
   "cell_type": "code",
   "execution_count": 25,
   "id": "89c0172d",
   "metadata": {},
   "outputs": [],
   "source": [
    "features = data.drop('temperature', axis=1)\n",
    "target = data['temperature']"
   ]
  },
  {
   "cell_type": "markdown",
   "id": "13de8cab",
   "metadata": {},
   "source": [
    "Сохранение названий столбцов с числовыми и категориальными признаками:"
   ]
  },
  {
   "cell_type": "code",
   "execution_count": 26,
   "id": "af7f4e69",
   "metadata": {},
   "outputs": [],
   "source": [
    "num_cols = features.select_dtypes(['float64', 'int64']).columns\n",
    "cat_cols = features.select_dtypes(['category']).columns"
   ]
  },
  {
   "cell_type": "markdown",
   "id": "7e6b3886",
   "metadata": {},
   "source": [
    "Выведение на экран названий столбцов с числовыми и категориальными признаками:"
   ]
  },
  {
   "cell_type": "code",
   "execution_count": 27,
   "id": "15e4886f",
   "metadata": {},
   "outputs": [
    {
     "name": "stdout",
     "output_type": "stream",
     "text": [
      "Столбцы с числовыми признаками: luminosity radius absolute_magnitude\n",
      "Столбцы с категориальными признаками: type color\n"
     ]
    }
   ],
   "source": [
    "print('Столбцы с числовыми признаками:', *num_cols)\n",
    "print('Столбцы с категориальными признаками:', *cat_cols)"
   ]
  },
  {
   "cell_type": "markdown",
   "id": "ce098fdb",
   "metadata": {},
   "source": [
    "Разделение выборок на тренировочную и тестовую выборки:"
   ]
  },
  {
   "cell_type": "code",
   "execution_count": 28,
   "id": "3ada983a",
   "metadata": {},
   "outputs": [],
   "source": [
    "X_train, X_test, y_train, y_test = train_test_split(features, target, test_size=0.25, random_state=RANDOM_STATE)"
   ]
  },
  {
   "cell_type": "markdown",
   "id": "ed5d920d",
   "metadata": {},
   "source": [
    "Выведение на экран размеров тренировочной и тестовой выборок:"
   ]
  },
  {
   "cell_type": "code",
   "execution_count": 29,
   "id": "2a8601d4",
   "metadata": {},
   "outputs": [
    {
     "name": "stdout",
     "output_type": "stream",
     "text": [
      "Размер тренировочной выборки: (180, 5)\n",
      "Размер тестовой выборки: (60, 5)\n"
     ]
    }
   ],
   "source": [
    "print(f'Размер тренировочной выборки:', X_train.shape)\n",
    "print(f'Размер тестовой выборки:', X_test.shape)"
   ]
  },
  {
   "cell_type": "markdown",
   "id": "224ab206",
   "metadata": {},
   "source": [
    "<div style=\"background-color: #f9f9f9; border-radius: 2px; padding: 20px 20px 10px 20px;\">\n",
    "    \n",
    "* Данные были разделены на тернировочную и тестовую выборки.\n",
    "    \n",
    "</div>"
   ]
  },
  {
   "cell_type": "markdown",
   "id": "ed7c45f2",
   "metadata": {},
   "source": [
    "---"
   ]
  },
  {
   "cell_type": "markdown",
   "id": "cd28cdff",
   "metadata": {},
   "source": [
    "### Кодирование данных"
   ]
  },
  {
   "cell_type": "markdown",
   "id": "3e536bb0",
   "metadata": {},
   "source": [
    "Задание функции определения значений категориальных признаков, различных для тестовой и тренировочной выборок:"
   ]
  },
  {
   "cell_type": "code",
   "execution_count": 30,
   "id": "78e9b93e",
   "metadata": {},
   "outputs": [],
   "source": [
    "def print_train_test_cat_difference(cat_cols: list, \n",
    "                                    X_train: np.array, \n",
    "                                    X_test: np.array):\n",
    "    \n",
    "    for col_name in cat_cols:\n",
    "        cat_train = set(X_train[col_name].unique())\n",
    "        cat_test = set(X_test[col_name].unique())\n",
    "\n",
    "        if (len(cat_train) != len(cat_test) or cat_train != cat_test):\n",
    "            print(f'Признак {col_name.upper()}\\n')\n",
    "            print('Разные значения признака в тренировочной и тестовой выборках')\n",
    "\n",
    "            if cat_train - cat_test != set():\n",
    "                print('Значения только в тренировочной выборке:\\n',\n",
    "                      cat_train - cat_test, '\\n')\n",
    "\n",
    "            if cat_test - cat_train != set():\n",
    "                print('Значения только в тестовой выборке:\\n',\n",
    "                      cat_test - cat_train, '\\n')\n",
    "\n",
    "            print('---\\n')"
   ]
  },
  {
   "cell_type": "markdown",
   "id": "1b0cdda9",
   "metadata": {},
   "source": [
    "Выведение на экран значений категориальных признаков, различных для тестовой и тренировочной выборок:"
   ]
  },
  {
   "cell_type": "code",
   "execution_count": 31,
   "id": "29444f79",
   "metadata": {},
   "outputs": [
    {
     "name": "stdout",
     "output_type": "stream",
     "text": [
      "Признак COLOR\n",
      "\n",
      "Разные значения признака в тренировочной и тестовой выборках\n",
      "Значения только в тренировочной выборке:\n",
      " {'white yellow', 'pale yellow orange', 'whitish'} \n",
      "\n",
      "Значения только в тестовой выборке:\n",
      " {'orange red'} \n",
      "\n",
      "---\n",
      "\n"
     ]
    }
   ],
   "source": [
    "print_train_test_cat_difference(cat_cols, X_train, X_test)"
   ]
  },
  {
   "cell_type": "markdown",
   "id": "23350150",
   "metadata": {},
   "source": [
    "<div style=\"background-color: #f9f9f9; border-radius: 2px; padding: 20px 20px 10px 20px;\">\n",
    "    \n",
    "* В тренировочной и тестовой выборках в столбцах признаков нет полного соответствия значений - кодирование данных необходимо произвести с помощью техники One-Hot Encoding. \n",
    "    \n",
    "\n",
    "* Значения в столбце `luminosity` отличаются большим диапазоном - данные необходимо масштабировать.\n",
    "    \n",
    "\n",
    "* Кодирование и масштабирование значений тестовой выборки должны происходить на объектах кодирования и масштабирования, обученных на тренировочной выборке.\n",
    "    \n",
    "</div>"
   ]
  },
  {
   "cell_type": "markdown",
   "id": "21c366e8",
   "metadata": {},
   "source": [
    "Сохранение копий тренировочной и тестовой выборок:"
   ]
  },
  {
   "cell_type": "code",
   "execution_count": 32,
   "id": "fd86353c",
   "metadata": {},
   "outputs": [],
   "source": [
    "X_train_ohe = X_train.copy()\n",
    "X_test_ohe = X_test.copy()"
   ]
  },
  {
   "cell_type": "markdown",
   "id": "166cc931",
   "metadata": {},
   "source": [
    "Задание объекта кодирования:"
   ]
  },
  {
   "cell_type": "code",
   "execution_count": 33,
   "id": "3245a195",
   "metadata": {},
   "outputs": [],
   "source": [
    "encoder = OneHotEncoder(handle_unknown='ignore', sparse=False)"
   ]
  },
  {
   "cell_type": "markdown",
   "id": "7516ca01",
   "metadata": {},
   "source": [
    "Обучение кодировщика:"
   ]
  },
  {
   "cell_type": "code",
   "execution_count": 34,
   "id": "262d38ce",
   "metadata": {},
   "outputs": [
    {
     "data": {
      "text/plain": [
       "OneHotEncoder(handle_unknown='ignore', sparse=False)"
      ]
     },
     "execution_count": 34,
     "metadata": {},
     "output_type": "execute_result"
    }
   ],
   "source": [
    "encoder.fit(X_train_ohe[cat_cols])"
   ]
  },
  {
   "cell_type": "markdown",
   "id": "d484fa47",
   "metadata": {},
   "source": [
    "Добавление столбцов с закодированными данными:"
   ]
  },
  {
   "cell_type": "code",
   "execution_count": 35,
   "id": "a1f286b6",
   "metadata": {},
   "outputs": [],
   "source": [
    "X_train_ohe[encoder.get_feature_names()] = encoder.transform(X_train_ohe[cat_cols])\n",
    "X_test_ohe[encoder.get_feature_names()] = encoder.transform(X_test_ohe[cat_cols])"
   ]
  },
  {
   "cell_type": "markdown",
   "id": "406fc3d9",
   "metadata": {},
   "source": [
    "Удаление исходных незакодированных столбцов:"
   ]
  },
  {
   "cell_type": "code",
   "execution_count": 36,
   "id": "4db21d39",
   "metadata": {},
   "outputs": [],
   "source": [
    "X_train_ohe = X_train_ohe.drop(cat_cols, axis=1)\n",
    "X_test_ohe = X_test_ohe.drop(cat_cols, axis=1)"
   ]
  },
  {
   "cell_type": "markdown",
   "id": "7c83f96a",
   "metadata": {},
   "source": [
    "Задание объекта масштабирования:"
   ]
  },
  {
   "cell_type": "code",
   "execution_count": 37,
   "id": "8b303513",
   "metadata": {},
   "outputs": [],
   "source": [
    "scaler = StandardScaler()"
   ]
  },
  {
   "cell_type": "markdown",
   "id": "8261773e",
   "metadata": {},
   "source": [
    "Масштабирование столбцов с числовыми значениями:"
   ]
  },
  {
   "cell_type": "code",
   "execution_count": 38,
   "id": "02823d11",
   "metadata": {},
   "outputs": [],
   "source": [
    "X_train_ohe[num_cols] = scaler.fit_transform(X_train_ohe[num_cols])\n",
    "X_test_ohe[num_cols] = scaler.fit_transform(X_test_ohe[num_cols])"
   ]
  },
  {
   "cell_type": "markdown",
   "id": "e5df1a0e",
   "metadata": {},
   "source": [
    "Выведение на экран первых пяти строк тренировочной выборки для проверки применённых изменений:"
   ]
  },
  {
   "cell_type": "code",
   "execution_count": 39,
   "id": "c8e11893",
   "metadata": {},
   "outputs": [
    {
     "data": {
      "text/html": [
       "<div>\n",
       "<style scoped>\n",
       "    .dataframe tbody tr th:only-of-type {\n",
       "        vertical-align: middle;\n",
       "    }\n",
       "\n",
       "    .dataframe tbody tr th {\n",
       "        vertical-align: top;\n",
       "    }\n",
       "\n",
       "    .dataframe thead th {\n",
       "        text-align: right;\n",
       "    }\n",
       "</style>\n",
       "<table border=\"1\" class=\"dataframe\">\n",
       "  <thead>\n",
       "    <tr style=\"text-align: right;\">\n",
       "      <th></th>\n",
       "      <th>luminosity</th>\n",
       "      <th>radius</th>\n",
       "      <th>absolute_magnitude</th>\n",
       "      <th>x0_0</th>\n",
       "      <th>x0_1</th>\n",
       "      <th>x0_2</th>\n",
       "      <th>x0_3</th>\n",
       "      <th>x0_4</th>\n",
       "      <th>x0_5</th>\n",
       "      <th>x1_blue</th>\n",
       "      <th>x1_blue white</th>\n",
       "      <th>x1_orange</th>\n",
       "      <th>x1_pale yellow orange</th>\n",
       "      <th>x1_red</th>\n",
       "      <th>x1_white</th>\n",
       "      <th>x1_white yellow</th>\n",
       "      <th>x1_whitish</th>\n",
       "      <th>x1_yellow white</th>\n",
       "      <th>x1_yellowish</th>\n",
       "      <th>x1_yellowish white</th>\n",
       "    </tr>\n",
       "  </thead>\n",
       "  <tbody>\n",
       "    <tr>\n",
       "      <th>95</th>\n",
       "      <td>-0.590699</td>\n",
       "      <td>-0.427420</td>\n",
       "      <td>-0.651610</td>\n",
       "      <td>0.0</td>\n",
       "      <td>0.0</td>\n",
       "      <td>0.0</td>\n",
       "      <td>1.0</td>\n",
       "      <td>0.0</td>\n",
       "      <td>0.0</td>\n",
       "      <td>0.0</td>\n",
       "      <td>1.0</td>\n",
       "      <td>0.0</td>\n",
       "      <td>0.0</td>\n",
       "      <td>0.0</td>\n",
       "      <td>0.0</td>\n",
       "      <td>0.0</td>\n",
       "      <td>0.0</td>\n",
       "      <td>0.0</td>\n",
       "      <td>0.0</td>\n",
       "      <td>0.0</td>\n",
       "    </tr>\n",
       "    <tr>\n",
       "      <th>126</th>\n",
       "      <td>-0.594615</td>\n",
       "      <td>-0.441198</td>\n",
       "      <td>1.183989</td>\n",
       "      <td>1.0</td>\n",
       "      <td>0.0</td>\n",
       "      <td>0.0</td>\n",
       "      <td>0.0</td>\n",
       "      <td>0.0</td>\n",
       "      <td>0.0</td>\n",
       "      <td>0.0</td>\n",
       "      <td>0.0</td>\n",
       "      <td>0.0</td>\n",
       "      <td>0.0</td>\n",
       "      <td>1.0</td>\n",
       "      <td>0.0</td>\n",
       "      <td>0.0</td>\n",
       "      <td>0.0</td>\n",
       "      <td>0.0</td>\n",
       "      <td>0.0</td>\n",
       "      <td>0.0</td>\n",
       "    </tr>\n",
       "    <tr>\n",
       "      <th>120</th>\n",
       "      <td>-0.594615</td>\n",
       "      <td>-0.441202</td>\n",
       "      <td>1.210786</td>\n",
       "      <td>1.0</td>\n",
       "      <td>0.0</td>\n",
       "      <td>0.0</td>\n",
       "      <td>0.0</td>\n",
       "      <td>0.0</td>\n",
       "      <td>0.0</td>\n",
       "      <td>0.0</td>\n",
       "      <td>0.0</td>\n",
       "      <td>0.0</td>\n",
       "      <td>0.0</td>\n",
       "      <td>1.0</td>\n",
       "      <td>0.0</td>\n",
       "      <td>0.0</td>\n",
       "      <td>0.0</td>\n",
       "      <td>0.0</td>\n",
       "      <td>0.0</td>\n",
       "      <td>0.0</td>\n",
       "    </tr>\n",
       "    <tr>\n",
       "      <th>67</th>\n",
       "      <td>-0.594615</td>\n",
       "      <td>-0.441203</td>\n",
       "      <td>1.142836</td>\n",
       "      <td>1.0</td>\n",
       "      <td>0.0</td>\n",
       "      <td>0.0</td>\n",
       "      <td>0.0</td>\n",
       "      <td>0.0</td>\n",
       "      <td>0.0</td>\n",
       "      <td>0.0</td>\n",
       "      <td>0.0</td>\n",
       "      <td>0.0</td>\n",
       "      <td>0.0</td>\n",
       "      <td>1.0</td>\n",
       "      <td>0.0</td>\n",
       "      <td>0.0</td>\n",
       "      <td>0.0</td>\n",
       "      <td>0.0</td>\n",
       "      <td>0.0</td>\n",
       "      <td>0.0</td>\n",
       "    </tr>\n",
       "    <tr>\n",
       "      <th>101</th>\n",
       "      <td>4.142061</td>\n",
       "      <td>-0.413374</td>\n",
       "      <td>-1.027726</td>\n",
       "      <td>0.0</td>\n",
       "      <td>0.0</td>\n",
       "      <td>0.0</td>\n",
       "      <td>0.0</td>\n",
       "      <td>1.0</td>\n",
       "      <td>0.0</td>\n",
       "      <td>1.0</td>\n",
       "      <td>0.0</td>\n",
       "      <td>0.0</td>\n",
       "      <td>0.0</td>\n",
       "      <td>0.0</td>\n",
       "      <td>0.0</td>\n",
       "      <td>0.0</td>\n",
       "      <td>0.0</td>\n",
       "      <td>0.0</td>\n",
       "      <td>0.0</td>\n",
       "      <td>0.0</td>\n",
       "    </tr>\n",
       "  </tbody>\n",
       "</table>\n",
       "</div>"
      ],
      "text/plain": [
       "     luminosity    radius  absolute_magnitude  x0_0  x0_1  x0_2  x0_3  x0_4  \\\n",
       "95    -0.590699 -0.427420           -0.651610   0.0   0.0   0.0   1.0   0.0   \n",
       "126   -0.594615 -0.441198            1.183989   1.0   0.0   0.0   0.0   0.0   \n",
       "120   -0.594615 -0.441202            1.210786   1.0   0.0   0.0   0.0   0.0   \n",
       "67    -0.594615 -0.441203            1.142836   1.0   0.0   0.0   0.0   0.0   \n",
       "101    4.142061 -0.413374           -1.027726   0.0   0.0   0.0   0.0   1.0   \n",
       "\n",
       "     x0_5  x1_blue  x1_blue white  x1_orange  x1_pale yellow orange  x1_red  \\\n",
       "95    0.0      0.0            1.0        0.0                    0.0     0.0   \n",
       "126   0.0      0.0            0.0        0.0                    0.0     1.0   \n",
       "120   0.0      0.0            0.0        0.0                    0.0     1.0   \n",
       "67    0.0      0.0            0.0        0.0                    0.0     1.0   \n",
       "101   0.0      1.0            0.0        0.0                    0.0     0.0   \n",
       "\n",
       "     x1_white  x1_white yellow  x1_whitish  x1_yellow white  x1_yellowish  \\\n",
       "95        0.0              0.0         0.0              0.0           0.0   \n",
       "126       0.0              0.0         0.0              0.0           0.0   \n",
       "120       0.0              0.0         0.0              0.0           0.0   \n",
       "67        0.0              0.0         0.0              0.0           0.0   \n",
       "101       0.0              0.0         0.0              0.0           0.0   \n",
       "\n",
       "     x1_yellowish white  \n",
       "95                  0.0  \n",
       "126                 0.0  \n",
       "120                 0.0  \n",
       "67                  0.0  \n",
       "101                 0.0  "
      ]
     },
     "execution_count": 39,
     "metadata": {},
     "output_type": "execute_result"
    }
   ],
   "source": [
    "X_train_ohe.head()"
   ]
  },
  {
   "cell_type": "markdown",
   "id": "3daef065",
   "metadata": {},
   "source": [
    "Преобразование признаков объектов и целевых признаков тренировочной и тестовой выборок в тензоры:"
   ]
  },
  {
   "cell_type": "code",
   "execution_count": 40,
   "id": "17dc80b6",
   "metadata": {},
   "outputs": [],
   "source": [
    "X_train_ohe = torch.FloatTensor(X_train_ohe.values)\n",
    "X_test_ohe = torch.FloatTensor(X_test_ohe.values)\n",
    "\n",
    "y_train = torch.FloatTensor(y_train.values)\n",
    "y_test = torch.FloatTensor(y_test.values)"
   ]
  },
  {
   "cell_type": "markdown",
   "id": "7333d176",
   "metadata": {},
   "source": [
    "<div style=\"background-color: #f9f9f9; border-radius: 2px; padding: 20px 20px 10px 20px;\">\n",
    "    \n",
    "* Данные были закодированы и масштабированы, а также переведены в тензоры.\n",
    "    \n",
    "</div>"
   ]
  },
  {
   "cell_type": "markdown",
   "id": "bb98e6fc",
   "metadata": {},
   "source": [
    "<div style=\"background-color: blue; height: 2px; margin: 10px 0;\"></div>"
   ]
  },
  {
   "cell_type": "markdown",
   "id": "90562dd0",
   "metadata": {},
   "source": [
    "## Построение нейронной сети"
   ]
  },
  {
   "cell_type": "markdown",
   "id": "6ce00f64",
   "metadata": {},
   "source": [
    "Целевой признак исследования содержит числовой диапазон значений, следовательно исследование сводится к построению модели, решающей задачу регрессии."
   ]
  },
  {
   "cell_type": "markdown",
   "id": "891f984d",
   "metadata": {},
   "source": [
    "---"
   ]
  },
  {
   "cell_type": "markdown",
   "id": "00ca59fc",
   "metadata": {},
   "source": [
    "**Функции активации** - добавляют нелинейность в нейросеть."
   ]
  },
  {
   "cell_type": "markdown",
   "id": "8965be54",
   "metadata": {},
   "source": [
    "* `nn.Sigmoid()` - логистическая функция активации.\n",
    "\n",
    ">Применяется в моделях, предсказывающих вероятность от `0` до `1` на выходе.\n",
    ">\n",
    ">Может приводить к \"взрыву градиентов\" (слишком большим градиентам).\n",
    "\n",
    "$$ Sigmoid(x) = \\frac {1}{1 + e^{-x}} $$\n",
    "\n",
    "* `nn.Tanh()` - гиперболический тангенс\n",
    "\n",
    "$$ Tanh(x) = \\frac {e^x - e ^{-x}}{e^x + e^{-x}} $$\n",
    "\n",
    ">Используется в скрытых слоях при небольшом их количестве.\n",
    "\n",
    "* `nn.ReLU()` - параметрическая выпрямительная функция.\n",
    "\n",
    "$$ ReLU(x) = max(0, x) $$\n",
    "\n",
    ">При отрицательных значениях признаков принимает значение `0`, что может снижать качество обучения.\n",
    "\n",
    "* `nn.LeakyReLU()` - частный случай `nn.ReLu()`.\n",
    "\n",
    "$$ LeakyReLU(x) = max(0.1 x, x) $$\n",
    "\n",
    "* `nn.ELU()` - экспоненциальная линейная функция (разновидность `nn.ReLu()`).\n",
    "\n",
    "$$ ELU(x) = \\begin{cases}\n",
    "k (e^x - 1),&x<0 \\\\\n",
    "x,&x>=0\n",
    "\\end{cases} $$\n",
    "\n",
    "* `nn.SiLU()` - саморегулируемая функция активации.\n",
    "\n",
    "$$ SiLU(x) = x Sigmoid(x) = \\frac {x}{1 + e^{-x}} $$"
   ]
  },
  {
   "cell_type": "markdown",
   "id": "73cd926c",
   "metadata": {},
   "source": [
    "---"
   ]
  },
  {
   "cell_type": "markdown",
   "id": "df9c91f6",
   "metadata": {},
   "source": [
    "**Функции потерь** - помогают найти наилучшее значение параметров на тренировочных данных."
   ]
  },
  {
   "cell_type": "markdown",
   "id": "47538abf",
   "metadata": {},
   "source": [
    "Функции потерь для **одного** объекта:\n",
    "\n",
    "* `nn.MSELoss` - среднеквадратичное отклонение.\n",
    "\n",
    "$$ MSE(y, \\hat y) = (y - \\hat y)^2 $$\n",
    "\n",
    "* `nn.L1Loss` - среднее абсолютное отклонение.\n",
    "\n",
    "$$ MAE(y, \\hat y) = |y - \\hat y| $$"
   ]
  },
  {
   "cell_type": "markdown",
   "id": "eef3aba7",
   "metadata": {},
   "source": [
    "Вычисление функции потерь для **набора данных**:\n",
    "\n",
    "* Подсчёт среднего арифметического функции потерь для всех объектов набора данных.\n",
    "* Вычисление суммы значений функции потерь для всех наборов данных."
   ]
  },
  {
   "cell_type": "markdown",
   "id": "b185ccc6",
   "metadata": {},
   "source": [
    "---"
   ]
  },
  {
   "cell_type": "markdown",
   "id": "79ec63d3",
   "metadata": {},
   "source": [
    "**Оптимизатор** - содержит параметры, которые необходимо оптимизировать, реализацию алгоритма численной минимизации и необходимые гиперпараметры алгоритма."
   ]
  },
  {
   "cell_type": "markdown",
   "id": "df4f43cf",
   "metadata": {},
   "source": [
    "* `optim.SGD` - метод стохастического градиентного спуска.\n",
    "\n",
    ">Качество обучения зависит от величины шага.\n",
    "\n",
    "$$ w_i = w_i - \\eta \\nabla L_i  $$\n",
    "\n",
    "* `optim.RMSprop` - метод корневого среднеквадратического распространения (улучшение `optim.SGD()`).\n",
    "\n",
    "$$ v_i = \\gamma v_{i-1} + (1 - \\gamma) (\\nabla L_i)^2 $$\n",
    "\n",
    "$$ w_i = w_{i-1} - \\frac {\\eta}{\\sqrt {v_i}} \\nabla L_i $$\n",
    "\n",
    "* `optim.Adam` - метод адаптивной оценки моментов (улучшение `optim.SGD()`).\n",
    "\n",
    ">Обладает быстрой сходимостью к локальному минимуму.\n",
    "\n",
    "$$ m_i = \\beta_1 m_{i-1} + (1 - \\beta_1) \\nabla L_i $$\n",
    "$$ v_i = \\beta_2 v_{i-1} + (1 - \\beta_2) (\\nabla L)^2 $$\n",
    "$$ \\hat m_i = \\frac {m_i}{1 - \\beta_1^i} $$\n",
    "$$ \\hat v_i = \\frac {v_i}{1 - \\beta_2^i} $$\n",
    "$$ w_i = w_{i-1} - \\frac {\\alpha \\hat m_i}{\\sqrt {\\hat v_i} + \\epsilon} $$\n",
    "\n",
    "* $ \\nabla L $ - градиент функции потерь\n",
    "* $ \\eta $ - скорость обучения\n",
    "* $ \\gamma $ - параметр забывания\n",
    "* $ \\alpha = 0.0001 $\n",
    "* $ \\beta_1 = 0.9 $\n",
    "* $ \\beta_2 = 0.999 $"
   ]
  },
  {
   "cell_type": "markdown",
   "id": "7e33e2d5",
   "metadata": {},
   "source": [
    "---"
   ]
  },
  {
   "cell_type": "markdown",
   "id": "91193915",
   "metadata": {},
   "source": [
    "**Инициализация весов** - влияет на скорость нахождения функцией её минимума."
   ]
  },
  {
   "cell_type": "markdown",
   "id": "b2413d13",
   "metadata": {},
   "source": [
    "* `init.uniform_()`, `init.normal_()` - инициализация равномерным и нормальным распределением.\n",
    "\n",
    "* `init.xavier_uniform_()` / `init.xavier_normal_()` - инициализация Ксавье (симметричная функция активации относительно `0`).\n",
    "\n",
    "* `init.kaiming_uniform_()` / `init.kaiming_normal_()` - инициализация Кайминга (несимметричная функция активации относительно `0`)."
   ]
  },
  {
   "cell_type": "markdown",
   "id": "54747081",
   "metadata": {},
   "source": [
    "---"
   ]
  },
  {
   "cell_type": "markdown",
   "id": "b3427451",
   "metadata": {},
   "source": [
    "**Регуляризация весов** - подход, при котором модель штрафуется за большие значения весов."
   ]
  },
  {
   "cell_type": "markdown",
   "id": "5f259ae9",
   "metadata": {},
   "source": [
    "* `nn.BatchNorm1d()` - метод регуляризации и стабилизации обучения.\n",
    "\n",
    ">Борется со \"взрывом градиента\".\n",
    ">\n",
    ">Улучшает сходимость обучения.\n",
    ">\n",
    ">Уменьшает зависимость от гиперпараметров и влияние инициализации весов.\n",
    "\n",
    "$$ y_i = \\gamma \\hat X + \\beta $$\n",
    "\n",
    "* $ \\hat X $ - нормализованные признаки\n",
    "* $ \\gamma $ - масштаб\n",
    "* $ \\beta $ - сдвиг\n",
    "\n",
    "\n",
    "* `nn.Dropout()` - \"выключение\" части нейронов из сети.\n",
    "\n",
    ">Применяется при переобучении.\n",
    ">\n",
    ">Не применяется вместе с `nn.BatchNorm1d()`.\n",
    ">\n",
    ">Требует больше эпох обучения для сходимости."
   ]
  },
  {
   "cell_type": "markdown",
   "id": "cccebc8e",
   "metadata": {},
   "source": [
    "---"
   ]
  },
  {
   "cell_type": "markdown",
   "id": "71120e45",
   "metadata": {},
   "source": [
    "Задание функции, вычленяющей из строки с типом данных непосредственное название класса:"
   ]
  },
  {
   "cell_type": "code",
   "execution_count": 41,
   "id": "d786cafc",
   "metadata": {},
   "outputs": [],
   "source": [
    "def get_type(value: str):\n",
    "    return str(value).strip('<>\\'').split('.')[-1]"
   ]
  },
  {
   "cell_type": "markdown",
   "id": "732f0ff9",
   "metadata": {},
   "source": [
    "Задание функции, формирующей слои нейросети:"
   ]
  },
  {
   "cell_type": "code",
   "execution_count": 42,
   "id": "857d6dbb",
   "metadata": {},
   "outputs": [],
   "source": [
    "def get_net(n_neurons: list,\n",
    "            acts: list = None,\n",
    "            reg = None):\n",
    "    \n",
    "    '''Network generator\n",
    "       \n",
    "       Args:\n",
    "           n_neurons (list): \n",
    "           acts (list, optional): list of activation functions. Defaults to None\n",
    "                                  [<in layer>, <even hidden layer>, <odd hidden layer>, <output layer>]\n",
    "           reg (layer, optional): regularization method. Defaults to None\n",
    "           \n",
    "        Return:\n",
    "            nn.Sequential network\n",
    "    '''\n",
    "    \n",
    "    net_layers = []\n",
    "    \n",
    "    act = None\n",
    "    act_in, act_even, act_odd, act_out = None, None, None, None\n",
    "    \n",
    "    \n",
    "    # check act_layers\n",
    "    \n",
    "    if acts != None and len(acts) == 4:\n",
    "        act_in = acts[0]\n",
    "        act_even = acts[1]\n",
    "        act_odd = acts[2]\n",
    "        act_out = acts[-1]\n",
    "        \n",
    "    elif acts == None:\n",
    "        pass\n",
    "    \n",
    "    else:\n",
    "        raise Exception('act_layers takes 3 activation elements in a list:',\n",
    "                        '[<in layer>, <even hidden layer>, <odd hidden layer>, <output layer>]')\n",
    "        \n",
    "\n",
    "    # generate network layers\n",
    "    \n",
    "    for i in range(len(n_neurons) - 1):\n",
    "        n_in_neurons = n_neurons[i]\n",
    "        n_out_neurons = n_neurons[i+1]\n",
    "        \n",
    "        fc = nn.Linear(n_in_neurons, n_out_neurons)\n",
    "\n",
    "        if i % 2 == 0:         \n",
    "            act = act_even\n",
    "        else:\n",
    "            act = act_odd\n",
    "\n",
    "        # output layer\n",
    "        if i == len(n_neurons) - 1:\n",
    "            act = act_out\n",
    "            \n",
    "        \n",
    "        # check reg        \n",
    "        if reg != None and type(reg) == list:\n",
    "            reg_m = reg[0](reg[1])\n",
    "        \n",
    "        elif reg != None and get_type(type(reg) == 'BatchNorm1d') and i != len(n_neurons) - 1:\n",
    "            reg_m = reg(n_out_neurons)\n",
    "        \n",
    "        else:\n",
    "            pass\n",
    "        \n",
    "                \n",
    "        # save layers\n",
    "        if act == None and reg == None:\n",
    "            net_layers.append(fc)\n",
    "            \n",
    "        elif act == None:\n",
    "            net_layers.extend([fc, reg_m])\n",
    "            \n",
    "        elif reg == None:\n",
    "            net_layers.extend([fc, act])\n",
    "            \n",
    "        else:\n",
    "            net_layers.extend([fc, reg_m, act])\n",
    "\n",
    "    return nn.Sequential(*net_layers)"
   ]
  },
  {
   "cell_type": "markdown",
   "id": "aba49840",
   "metadata": {},
   "source": [
    "Задание функции определения оптимизатора:"
   ]
  },
  {
   "cell_type": "code",
   "execution_count": 43,
   "id": "76048b0a",
   "metadata": {},
   "outputs": [],
   "source": [
    "def get_optim(net, \n",
    "              optim: str = None,\n",
    "              lr: float = 0.01, \n",
    "              alpha: float = 0.99, \n",
    "              eps: float = 1e-08):\n",
    "    \n",
    "    '''Optimizer generator\n",
    "    \n",
    "       Args:\n",
    "           net (network): network\n",
    "           optim (str, optional): optimizer type. Defaults to 'adam'\n",
    "           lr (float, optional): learning rate value. Defaults to 0.01\n",
    "    '''\n",
    "    \n",
    "    if optim == None:\n",
    "        pass\n",
    "    \n",
    "    elif optim.lower() == 'adam':\n",
    "        return torch.optim.Adam(net.parameters(), lr=lr)\n",
    "    \n",
    "    elif optim.lower() == 'sgd':\n",
    "        return torch.optim.SGD(net.parameters(), lr=lr)\n",
    "    \n",
    "    else:\n",
    "        raise Exception('Invalid optim value')"
   ]
  },
  {
   "cell_type": "markdown",
   "id": "d194af19",
   "metadata": {},
   "source": [
    "Задание функции, инициализирующей веса:"
   ]
  },
  {
   "cell_type": "code",
   "execution_count": 44,
   "id": "41477573",
   "metadata": {},
   "outputs": [],
   "source": [
    "def init_weights(layer, **kwargs):\n",
    "    \n",
    "    '''Weights initialization\n",
    "    \n",
    "       Args:\n",
    "           layer (network layer): network layer\n",
    "           **kwargs (dict): arguments to initialize weights\n",
    "    '''\n",
    "    \n",
    "    if type(layer) == nn.Linear:\n",
    "        \n",
    "        init_w = kwargs['init_w']\n",
    "        \n",
    "        if init_w == None:\n",
    "            pass\n",
    "        \n",
    "        else:\n",
    "            init_w = init_w.lower()\n",
    "            \n",
    "            if init_w == 'uniform':\n",
    "                a_b_w = kwargs['a_b_w']\n",
    "                a_b_b = kwargs['a_b_b']\n",
    "\n",
    "                nn.init.uniform_(layer.weight, a=a_b_w[0], b=a_b_w[1])\n",
    "                nn.init.uniform_(layer.bias, a=a_b_b[0], b=a_b_b[1])\n",
    "\n",
    "            elif init_w == 'normal':\n",
    "                mean_std_w = kwargs['mean_std_w']\n",
    "                mean_std_b = kwargs['mean_std_b']\n",
    "\n",
    "                nn.init.normal_(layer.weight, mean=mean_std_w[0], std=mean_std_w[1])\n",
    "                nn.init.normal_(layer.bias, mean=mean_std_b[0], std=mean_std_b[1])\n",
    "\n",
    "            elif init_w == 'xavier_uniform':\n",
    "                nn.init.xavier_uniform_(layer.weight)\n",
    "\n",
    "            elif init_w == 'xavier_normal':\n",
    "                nn.init.xavier_normal_(layer.weight)\n",
    "\n",
    "            elif init_w == 'kaiming_uniform':\n",
    "                mode_w = kwargs['mode_w']\n",
    "                nonlinearity_w = kwargs['nonlinearity_w']\n",
    "\n",
    "                nn.init.kaiming_uniform_(layer.weight, mode=mode_w, nonlinearity=nonlinearity_w)\n",
    "\n",
    "            elif init_w == 'kaiming_normal':\n",
    "                mode_w = kwargs['mode_w']\n",
    "                nonlinearity_w = kwargs['nonlinearity_w']\n",
    "\n",
    "                nn.init.kaiming_normal_(layer.weight, mode=mode_w, nonlinearity=nonlinearity_w)\n",
    "\n",
    "            else:\n",
    "                raise Exception('Invalid init_type value')"
   ]
  },
  {
   "cell_type": "markdown",
   "id": "c0730d4e",
   "metadata": {},
   "source": [
    "Задание функции, задающей диапазон подбираемых значений инициализации весов:"
   ]
  },
  {
   "cell_type": "code",
   "execution_count": 45,
   "id": "6a5965ed",
   "metadata": {},
   "outputs": [],
   "source": [
    "def get_init_w_args(init_w: str,\n",
    "                    args_range: np.array = None) -> list:\n",
    "    \n",
    "    '''Get list of init_w arguments\n",
    "    \n",
    "       Args:\n",
    "           init_w (str, optional): init weights type. Defaults to 'uniform'\n",
    "       \n",
    "       Return:\n",
    "           [init_w, ab_w, ab_b] || [init_w, mean_std_w, mean_std_b] || [init_w, mode_w, nonlinearity_w]\n",
    "    '''\n",
    "    \n",
    "    if init_w in ['uniform']:        \n",
    "        init_w_args = {\n",
    "            'init_w': init_w, \n",
    "            'a_b_w': args_range[:2], \n",
    "            'a_b_b': args_range[-2:]\n",
    "        }\n",
    "\n",
    "    if init_w in ['normal']:        \n",
    "        init_w_args = {\n",
    "            'init_w': init_w, \n",
    "            'mean_std_w': args_range[:2], \n",
    "            'mean_std_b': args_range[-2:]\n",
    "        }\n",
    "    \n",
    "    if init_w in ['xavier_uniform', 'xavier_normal'] or init_w == None:\n",
    "        init_w_args = {\n",
    "            'init_w': init_w\n",
    "        }\n",
    "\n",
    "    if init_w in ['kaiming_uniform', 'kaiming_normal']:\n",
    "        init_w_args = {\n",
    "            'init_w': init_w, \n",
    "            'mode_w': args_range[0], \n",
    "            'nonlinearity_w': args_range[1]\n",
    "        }\n",
    "    \n",
    "    return init_w_args"
   ]
  },
  {
   "cell_type": "markdown",
   "id": "43d1c3a1",
   "metadata": {},
   "source": [
    "Задание функции обучения сети:"
   ]
  },
  {
   "cell_type": "code",
   "execution_count": 46,
   "id": "cd9d444a",
   "metadata": {},
   "outputs": [],
   "source": [
    "def train_net(net,\n",
    "              n_in_hidden_out: list,\n",
    "              X_train: torch.Tensor,\n",
    "              y_train: torch.Tensor,\n",
    "              n_epochs: int,\n",
    "              loss = nn.MSELoss(),\n",
    "              batch_s: int = 100,\n",
    "              optim = None,\n",
    "              n_epochs_check: int = 100,\n",
    "              rmse_threshold: float = np.inf,\n",
    "              print_status: bool = True) -> dict:\n",
    "    \n",
    "    '''Network training\n",
    "    \n",
    "       Args:\n",
    "           net (network): network\n",
    "           X_train (torch.Tensor): train features\n",
    "           y_train (torch.Tensor): target values\n",
    "           n_epochs (int): epochs quantity\n",
    "           loss (func): loss function. Defaults to nn.MSELoss()\n",
    "           batch_s (int, optional): batch size. Defaults to 100\n",
    "           optim (func, optional): optimization method. Defaults to None\n",
    "           n_epochs_check (int, optional): number of epoch to check output metrics. Defaults to 100 \n",
    "           rmse_threshold (int, optional): RMSE threshold. Defaults to 4500\n",
    "           print_status (bool, optional): print of not epochs and loss values. Defaults to True\n",
    "        \n",
    "       Return:\n",
    "           best result\n",
    "    '''\n",
    "    \n",
    "    best_result = {\n",
    "        'n_in_hidden_out': [], \n",
    "        'epoch': 0,\n",
    "        'batch_s': 0, \n",
    "        'optim': None, \n",
    "        'rmse': rmse_threshold\n",
    "    }\n",
    "    \n",
    "    n_batches = int(np.ceil(X_train.shape[0] / batch_s))\n",
    "    \n",
    "    predictions = []\n",
    "    \n",
    "\n",
    "    # training\n",
    "        \n",
    "    for epoch in range(n_epochs):\n",
    "        order = np.random.permutation(X_train.shape[0])\n",
    "        \n",
    "        for batch in range(n_batches):            \n",
    "            start = batch * batch_s\n",
    "            \n",
    "            if optim != None:\n",
    "                optim.zero_grad()\n",
    "                \n",
    "            batch_indexes = order[start : start + batch_s]\n",
    "            \n",
    "            X_batch = X_train[batch_indexes]\n",
    "            y_batch = y_train[batch_indexes]\n",
    "\n",
    "            preds = net.forward(X_batch).flatten()\n",
    "            loss_v = loss(preds, y_batch)\n",
    "\n",
    "            loss_v.backward()\n",
    "\n",
    "            if optim != None:\n",
    "                optim.step()\n",
    "\n",
    "            rmse = torch.sqrt(loss_v).float().data\n",
    "            \n",
    "\n",
    "            # saving best result\n",
    "\n",
    "            if rmse < best_result['rmse']:\n",
    "                best_result['n_in_hidden_out'] = '-'.join([str(neuron) \n",
    "                                                            for neuron in n_in_hidden_out])\n",
    "                best_result['epoch'] = epoch + 1\n",
    "                best_result['batch_s'] = batch_s\n",
    "                best_result['rmse'] = rmse.item()\n",
    "\n",
    "            if optim != None:\n",
    "                best_result['optim'] = get_type(type(optim))\n",
    "                \n",
    "            predictions = np.array([preds.detach().numpy(), y_batch.detach().numpy()])\n",
    "            \n",
    "\n",
    "            # printing epochs\n",
    "\n",
    "        if (epoch % n_epochs_check == 0 or epoch == n_epochs - 1) and print_status:\n",
    "            net.eval()\n",
    "            print(f'Epoch {epoch} | RMSE {rmse}')\n",
    "            \n",
    "        \n",
    "    return best_result, predictions"
   ]
  },
  {
   "cell_type": "markdown",
   "id": "a6b194f5",
   "metadata": {},
   "source": [
    "Задание функции подбора параметров при обучении нейросети:"
   ]
  },
  {
   "cell_type": "code",
   "execution_count": 47,
   "id": "840f7a52",
   "metadata": {},
   "outputs": [],
   "source": [
    "def train_network_applying_params(X_train,\n",
    "                                  y_train,\n",
    "                                  n_in_hidden_out_neurons_range: list,\n",
    "                                  n_epochs: int,\n",
    "                                  batch_s: int,\n",
    "                                  acts_range: list = [None],\n",
    "                                  regs_range: list = [None],\n",
    "                                  optim_range: list = [None],\n",
    "                                  init_w_range: list = [[None]],\n",
    "                                  rmse_threshold: float = np.inf,\n",
    "                                  check_progress_acts: bool = False,\n",
    "                                  check_progress_reg: bool = False,\n",
    "                                  check_progress_optim: bool = False,\n",
    "                                  check_progress_init_w: bool = False,\n",
    "                                  check_progress_in_hidden_out: bool = False) -> Tuple:\n",
    "    \n",
    "    if check_progress_acts == True:\n",
    "        acts_range = tqdm(acts_range, desc='Activation functions progress')\n",
    "    \n",
    "    if check_progress_init_w == True:\n",
    "        init_w_range = tqdm(init_w_range, desc='Init weights progress')\n",
    "    \n",
    "    if check_progress_reg == True:\n",
    "        regs_range = tqdm(regs_range, desc='Regularization methods progress')\n",
    "        \n",
    "    if check_progress_optim == True:\n",
    "        optim_range = tqdm(optim_range, desc='Optimization methods progress')\n",
    "        \n",
    "    if check_progress_in_hidden_out == True:\n",
    "        n_in_hidden_out_neurons_range = tqdm(n_in_hidden_out_neurons_range, \n",
    "                                             desc='Input-Hidden-Output neurons progress')\n",
    "        \n",
    "        \n",
    "    best_result = {\n",
    "        'rmse': rmse_threshold\n",
    "    }\n",
    "\n",
    "    predictions = []\n",
    "    \n",
    "    \n",
    "    # activation functions\n",
    "    for acts in acts_range:\n",
    "        \n",
    "        # weights initialization\n",
    "        for init_w in init_w_range:\n",
    "            if type(init_w) == dict:\n",
    "                init_w_args = init_w\n",
    "            else:\n",
    "                init_w_args = get_init_w_args(*init_w)\n",
    "        \n",
    "            # regularization methods\n",
    "            for reg in regs_range:\n",
    "                \n",
    "                # in-hidden-out neurons\n",
    "                for n_in_hidden_out_neurons in n_in_hidden_out_neurons_range:\n",
    "\n",
    "                    # creating network\n",
    "                    net = get_net(n_in_hidden_out_neurons, acts, reg)\n",
    "                    net.apply(lambda x: init_weights(x, **init_w_args))\n",
    "\n",
    "                    # optimizers\n",
    "                    for optim in optim_range:\n",
    "                        optim = get_optim(net, optim)\n",
    "                        \n",
    "\n",
    "                        # training\n",
    "                        best_r, preds = train_net(\n",
    "                            net, \n",
    "                            n_in_hidden_out_neurons,\n",
    "                            X_train, \n",
    "                            y_train, \n",
    "                            n_epochs=n_epochs, \n",
    "                            batch_s=batch_s,\n",
    "                            optim=optim,\n",
    "                            print_status=False\n",
    "                        )\n",
    "                        \n",
    "\n",
    "                        if best_r['rmse'] < best_result['rmse']:\n",
    "                            best_result = best_r\n",
    "\n",
    "                            if acts != None:\n",
    "                                best_result['acts'] = ', '.join([get_type(type(act)) \n",
    "                                                                 if act != None else 'None'\n",
    "                                                                 for act in acts])\n",
    "                            else:\n",
    "                                best_result['acts'] = acts\n",
    "\n",
    "                            if type(reg) == list:\n",
    "                                reg = f'{get_type(reg[0])}(p={round(reg[1], 1)})'\n",
    "                            elif reg == None:\n",
    "                                pass\n",
    "                            else:\n",
    "                                reg = get_type(reg)\n",
    "\n",
    "                            best_result['reg'] = reg\n",
    "\n",
    "                            if type(init_w_args) == dict:                        \n",
    "                                best_result['init_w'] = init_w_args\n",
    "\n",
    "                            if init_w[0] == None:\n",
    "                                best_result['init_w'] = init_w[0]\n",
    "\n",
    "                            predictions = preds\n",
    "    \n",
    "    return best_result, predictions"
   ]
  },
  {
   "cell_type": "markdown",
   "id": "c6de6bf1",
   "metadata": {},
   "source": [
    "Задание функции, генерирующей вариации списков элементов фиксированной длины:"
   ]
  },
  {
   "cell_type": "code",
   "execution_count": 48,
   "id": "502a75f6",
   "metadata": {},
   "outputs": [],
   "source": [
    "def product_values(values: list,\n",
    "                   repeat: int) -> list:\n",
    "    \n",
    "    '''List elements permutator\n",
    "    \n",
    "       Args:\n",
    "           values (list): list of elements\n",
    "           repeat (int): number of products\n",
    "        \n",
    "       Return:\n",
    "           list of elements permutation variations\n",
    "    '''\n",
    "    \n",
    "    return [list(values_set) \n",
    "            for values_set in itertools.product(values, repeat=repeat)]"
   ]
  },
  {
   "cell_type": "markdown",
   "id": "742a9aae",
   "metadata": {},
   "source": [
    "Задание функции, конвертирующей словарь значений в таблицу:"
   ]
  },
  {
   "cell_type": "code",
   "execution_count": 49,
   "id": "7da5a920",
   "metadata": {},
   "outputs": [],
   "source": [
    "def convert_to_dataframe(results: dict,\n",
    "                         row_name: str = 'results') -> pd.DataFrame:\n",
    "    \n",
    "    '''Dictionary to pd.DataFrame converter\n",
    "    \n",
    "       Args:\n",
    "           results (dict): dict of best model params\n",
    "           row_name (str, optional): row name. Defaults to 'results'\n",
    "       \n",
    "       Return:\n",
    "           DataFrame\n",
    "    '''\n",
    "    \n",
    "    return pd.DataFrame(results.values(), \n",
    "                        results.keys(),\n",
    "                        columns=[row_name]).T"
   ]
  },
  {
   "cell_type": "markdown",
   "id": "0a8015e7",
   "metadata": {},
   "source": [
    "Задание функции построения графика сравнения предсказаний с фактическими результатами:"
   ]
  },
  {
   "cell_type": "code",
   "execution_count": 50,
   "id": "89b90217",
   "metadata": {},
   "outputs": [],
   "source": [
    "def plot_real_pred(X: np.array,\n",
    "                   y_real: np.array,\n",
    "                   y_pred: np.array,\n",
    "                   title: str):\n",
    "    font_s = 12\n",
    "    plt.figure(figsize=(16,6))\n",
    "\n",
    "    plt.title(f'{title}\\n', fontsize=font_s+4)\n",
    "\n",
    "    plt.bar(X, y_real, alpha=0.5, label='факт')\n",
    "    plt.bar(X, y_pred, alpha=0.5, color='orange', label='прогноз')\n",
    "\n",
    "    plt.xlabel('Номер звезды в таблице', fontsize=font_s)\n",
    "    plt.ylabel('Температура', fontsize=font_s)\n",
    "\n",
    "    plt.legend(loc='upper right')\n",
    "\n",
    "    plt.grid()\n",
    "    plt.show()"
   ]
  },
  {
   "cell_type": "markdown",
   "id": "6592f555",
   "metadata": {},
   "source": [
    "---"
   ]
  },
  {
   "cell_type": "markdown",
   "id": "daba0dbb",
   "metadata": {},
   "source": [
    "### Базовая нейросеть"
   ]
  },
  {
   "cell_type": "markdown",
   "id": "f12ccba1",
   "metadata": {},
   "source": [
    "Задание значений входного и выходных нейронов:"
   ]
  },
  {
   "cell_type": "code",
   "execution_count": 51,
   "id": "4d02cdd8",
   "metadata": {},
   "outputs": [],
   "source": [
    "n_in_neurons = X_train_ohe.shape[1]\n",
    "n_out_neurons = 1"
   ]
  },
  {
   "cell_type": "markdown",
   "id": "7887136c",
   "metadata": {},
   "source": [
    "Задание констант:"
   ]
  },
  {
   "cell_type": "code",
   "execution_count": 52,
   "id": "cf341f42",
   "metadata": {},
   "outputs": [],
   "source": [
    "n_epochs = 1000\n",
    "batch_s = X_train_ohe.shape[0]\n",
    "batch_mini_s = 50"
   ]
  },
  {
   "cell_type": "markdown",
   "id": "56f9f329",
   "metadata": {},
   "source": [
    "---"
   ]
  },
  {
   "cell_type": "markdown",
   "id": "c495639a",
   "metadata": {},
   "source": [
    "**Однослойная нейросеть без подбора параметров**"
   ]
  },
  {
   "cell_type": "markdown",
   "id": "aa60086c",
   "metadata": {},
   "source": [
    "Задание нейронов в слоях нейросети:"
   ]
  },
  {
   "cell_type": "code",
   "execution_count": 53,
   "id": "a083146f",
   "metadata": {},
   "outputs": [],
   "source": [
    "n_in_hidden_out_neurons = [n_in_neurons, n_out_neurons]"
   ]
  },
  {
   "cell_type": "markdown",
   "id": "e5d35bcb",
   "metadata": {},
   "source": [
    "Объявление однослойной нейросети:"
   ]
  },
  {
   "cell_type": "code",
   "execution_count": 54,
   "id": "e4081de8",
   "metadata": {},
   "outputs": [],
   "source": [
    "net_1_l = get_net(n_in_hidden_out_neurons)"
   ]
  },
  {
   "cell_type": "markdown",
   "id": "2391318f",
   "metadata": {},
   "source": [
    "**Без деления на батчи**"
   ]
  },
  {
   "cell_type": "markdown",
   "id": "250e421d",
   "metadata": {},
   "source": [
    "Обучение однослойной нейросети без подбора параметров:"
   ]
  },
  {
   "cell_type": "code",
   "execution_count": 55,
   "id": "bd863973",
   "metadata": {},
   "outputs": [],
   "source": [
    "results_1_l = train_net(\n",
    "    net_1_l, \n",
    "    n_in_hidden_out_neurons,\n",
    "    X_train_ohe, \n",
    "    y_train, \n",
    "    n_epochs=n_epochs, \n",
    "    batch_s=batch_s,\n",
    "    print_status=False\n",
    ")"
   ]
  },
  {
   "cell_type": "markdown",
   "id": "eb89f19e",
   "metadata": {},
   "source": [
    "Выведение на экран лучшего результата:"
   ]
  },
  {
   "cell_type": "code",
   "execution_count": 56,
   "id": "466231db",
   "metadata": {},
   "outputs": [
    {
     "data": {
      "text/html": [
       "<div>\n",
       "<style scoped>\n",
       "    .dataframe tbody tr th:only-of-type {\n",
       "        vertical-align: middle;\n",
       "    }\n",
       "\n",
       "    .dataframe tbody tr th {\n",
       "        vertical-align: top;\n",
       "    }\n",
       "\n",
       "    .dataframe thead th {\n",
       "        text-align: right;\n",
       "    }\n",
       "</style>\n",
       "<table border=\"1\" class=\"dataframe\">\n",
       "  <thead>\n",
       "    <tr style=\"text-align: right;\">\n",
       "      <th></th>\n",
       "      <th>n_in_hidden_out</th>\n",
       "      <th>epoch</th>\n",
       "      <th>batch_s</th>\n",
       "      <th>optim</th>\n",
       "      <th>rmse</th>\n",
       "    </tr>\n",
       "  </thead>\n",
       "  <tbody>\n",
       "    <tr>\n",
       "      <th>results</th>\n",
       "      <td>20-1</td>\n",
       "      <td>246</td>\n",
       "      <td>180</td>\n",
       "      <td>None</td>\n",
       "      <td>14027.525391</td>\n",
       "    </tr>\n",
       "  </tbody>\n",
       "</table>\n",
       "</div>"
      ],
      "text/plain": [
       "        n_in_hidden_out epoch batch_s optim          rmse\n",
       "results            20-1   246     180  None  14027.525391"
      ]
     },
     "execution_count": 56,
     "metadata": {},
     "output_type": "execute_result"
    }
   ],
   "source": [
    "convert_to_dataframe(results_1_l[0])"
   ]
  },
  {
   "cell_type": "markdown",
   "id": "efde4c1a",
   "metadata": {},
   "source": [
    "**С делением на батчи**"
   ]
  },
  {
   "cell_type": "markdown",
   "id": "e64f7f5c",
   "metadata": {},
   "source": [
    "Обучение однослойной нейросети без подбора параметров:"
   ]
  },
  {
   "cell_type": "code",
   "execution_count": 57,
   "id": "c2db1076",
   "metadata": {},
   "outputs": [],
   "source": [
    "results_1b_l = train_net(\n",
    "    net_1_l, \n",
    "    n_in_hidden_out_neurons,\n",
    "    X_train_ohe, \n",
    "    y_train, \n",
    "    n_epochs=n_epochs, \n",
    "    batch_s=batch_mini_s,\n",
    "    print_status=False\n",
    ")"
   ]
  },
  {
   "cell_type": "markdown",
   "id": "c863942e",
   "metadata": {},
   "source": [
    "Выведение на экран лучшего результата:"
   ]
  },
  {
   "cell_type": "code",
   "execution_count": 58,
   "id": "f9a307d3",
   "metadata": {},
   "outputs": [
    {
     "data": {
      "text/html": [
       "<div>\n",
       "<style scoped>\n",
       "    .dataframe tbody tr th:only-of-type {\n",
       "        vertical-align: middle;\n",
       "    }\n",
       "\n",
       "    .dataframe tbody tr th {\n",
       "        vertical-align: top;\n",
       "    }\n",
       "\n",
       "    .dataframe thead th {\n",
       "        text-align: right;\n",
       "    }\n",
       "</style>\n",
       "<table border=\"1\" class=\"dataframe\">\n",
       "  <thead>\n",
       "    <tr style=\"text-align: right;\">\n",
       "      <th></th>\n",
       "      <th>n_in_hidden_out</th>\n",
       "      <th>epoch</th>\n",
       "      <th>batch_s</th>\n",
       "      <th>optim</th>\n",
       "      <th>rmse</th>\n",
       "    </tr>\n",
       "  </thead>\n",
       "  <tbody>\n",
       "    <tr>\n",
       "      <th>results</th>\n",
       "      <td>20-1</td>\n",
       "      <td>578</td>\n",
       "      <td>50</td>\n",
       "      <td>None</td>\n",
       "      <td>7379.14502</td>\n",
       "    </tr>\n",
       "  </tbody>\n",
       "</table>\n",
       "</div>"
      ],
      "text/plain": [
       "        n_in_hidden_out epoch batch_s optim        rmse\n",
       "results            20-1   578      50  None  7379.14502"
      ]
     },
     "execution_count": 58,
     "metadata": {},
     "output_type": "execute_result"
    }
   ],
   "source": [
    "convert_to_dataframe(results_1b_l[0])"
   ]
  },
  {
   "cell_type": "markdown",
   "id": "7e69a5f5",
   "metadata": {},
   "source": [
    "Выведение на экран графика соотношения предсказаний с фактическими значениями:"
   ]
  },
  {
   "cell_type": "code",
   "execution_count": 59,
   "id": "ea421caa",
   "metadata": {},
   "outputs": [
    {
     "data": {
      "image/png": "[encoded data removed]",
      "text/plain": [
       "<Figure size 1152x432 with 1 Axes>"
      ]
     },
     "metadata": {
      "needs_background": "light"
     },
     "output_type": "display_data"
    }
   ],
   "source": [
    "plot_real_pred(np.array(range(results_1b_l[1][1].shape[0])), \n",
    "               results_1b_l[1][1], results_1b_l[1][0], \n",
    "               'Однослойная нейросеть без подбора параметров')"
   ]
  },
  {
   "cell_type": "markdown",
   "id": "885ea674",
   "metadata": {},
   "source": [
    "<div style=\"background-color: #f9f9f9; border-radius: 2px; padding: 20px 20px 10px 20px;\">\n",
    "    \n",
    "* Значение метрики RMSE показывает большое различие между предсказанными и фактическими значениями, что подтверждает выведенный график их соотношения. \n",
    "    \n",
    "    \n",
    "* Нейросеть, обученная на батчах, показала самое низкое значение метрики RMSE.\n",
    "    \n",
    "    \n",
    "* Необходимо подобрать подходящие функции активации, методы регуляризации и инициализации весов, а также оптимизаторы для уменьшения значения метрики RMSE.\n",
    "    \n",
    "</div>"
   ]
  },
  {
   "cell_type": "markdown",
   "id": "425ebc0b",
   "metadata": {},
   "source": [
    "---"
   ]
  },
  {
   "cell_type": "markdown",
   "id": "84cac111",
   "metadata": {},
   "source": [
    "### Вариации параметров"
   ]
  },
  {
   "cell_type": "markdown",
   "id": "8bd47c45",
   "metadata": {},
   "source": [
    "Задание вариаций функций активации:"
   ]
  },
  {
   "cell_type": "code",
   "execution_count": 60,
   "id": "64a9898c",
   "metadata": {},
   "outputs": [],
   "source": [
    "acts_funcs = [nn.ELU(), nn.Tanh(), nn.ReLU(), None]\n",
    "\n",
    "acts_range = product_values([*acts_funcs], 4)"
   ]
  },
  {
   "cell_type": "markdown",
   "id": "6b4976e5",
   "metadata": {},
   "source": [
    "Задание вариаций методов регуляризации:"
   ]
  },
  {
   "cell_type": "code",
   "execution_count": 61,
   "id": "593e5edb",
   "metadata": {},
   "outputs": [],
   "source": [
    "dropout_p_range = np.arange(0.1, 0.6, 0.1)\n",
    "dropout_range = [[nn.Dropout, p] for p in dropout_p_range]\n",
    "\n",
    "regs_range = [nn.BatchNorm1d, *dropout_range, None]"
   ]
  },
  {
   "cell_type": "markdown",
   "id": "8c8b3178",
   "metadata": {},
   "source": [
    "Задание вариаций инициализации весов:"
   ]
  },
  {
   "cell_type": "code",
   "execution_count": 62,
   "id": "ac4f75bf",
   "metadata": {},
   "outputs": [],
   "source": [
    "a_b = np.arange(-2, 2.5, 0.5)\n",
    "\n",
    "a_b_range = [[a_b[i], a_b[j]]\n",
    "             for j in range(len(a_b))\n",
    "             for i in range(len(a_b))\n",
    "             if i < j]\n",
    "\n",
    "mean_std_range = [[mean[0], std[0], mean[0], std[1]] \n",
    "                  for std in product_values(np.arange(0.0, 1.1, 0.5), 2)\n",
    "                  for mean in product_values(np.arange(-0.5, 0.6, 0.5), 2)]\n",
    "\n",
    "modes_nonlinearity_range = [\n",
    "    ['fan_in', 'leaky_relu'], \n",
    "    ['fan_in', 'relu'], \n",
    "    ['fan_out', 'leaky_relu'],\n",
    "    ['fan_out', 'relu']\n",
    "]"
   ]
  },
  {
   "cell_type": "markdown",
   "id": "4489bdfb",
   "metadata": {},
   "source": [
    "Формирование списка вариаций инициализации весов:"
   ]
  },
  {
   "cell_type": "code",
   "execution_count": 63,
   "id": "f4abfa2f",
   "metadata": {},
   "outputs": [],
   "source": [
    "init_w_a_b_range = [['uniform', values] \n",
    "                    for values in a_b_range]"
   ]
  },
  {
   "cell_type": "code",
   "execution_count": 64,
   "id": "495b4e4e",
   "metadata": {},
   "outputs": [],
   "source": [
    "init_w_mean_std_range = [[init_w, values] \n",
    "                         for values in mean_std_range\n",
    "                         for init_w in ['normal']]"
   ]
  },
  {
   "cell_type": "code",
   "execution_count": 65,
   "id": "85363a3e",
   "metadata": {},
   "outputs": [],
   "source": [
    "init_w_modes_nonlinearity_range = [[init_w, values]\n",
    "                                   for values in modes_nonlinearity_range\n",
    "                                   for init_w in ['kaiming_uniform', 'kaiming_normal']]"
   ]
  },
  {
   "cell_type": "code",
   "execution_count": 66,
   "id": "47a2051d",
   "metadata": {},
   "outputs": [],
   "source": [
    "init_w_range = init_w_a_b_range\n",
    "init_w_range.extend(init_w_mean_std_range)\n",
    "init_w_range.extend(init_w_modes_nonlinearity_range)\n",
    "init_w_range.extend([['xavier_uniform'], ['xavier_normal'], [None]])"
   ]
  },
  {
   "cell_type": "markdown",
   "id": "8fa54bba",
   "metadata": {},
   "source": [
    "Задание вариаций оптимизаторов:"
   ]
  },
  {
   "cell_type": "code",
   "execution_count": 67,
   "id": "680d6640",
   "metadata": {},
   "outputs": [],
   "source": [
    "optim_range = ['Adam', 'Sgd', None]"
   ]
  },
  {
   "cell_type": "markdown",
   "id": "ba8f2eb1",
   "metadata": {},
   "source": [
    "---"
   ]
  },
  {
   "cell_type": "markdown",
   "id": "1b674cbe",
   "metadata": {},
   "source": [
    "Задание переменной, которая будет хранить результаты сравнительного анализа:"
   ]
  },
  {
   "cell_type": "code",
   "execution_count": 68,
   "id": "b4d18036",
   "metadata": {},
   "outputs": [],
   "source": [
    "results_1_l_params = pd.DataFrame()"
   ]
  },
  {
   "cell_type": "markdown",
   "id": "b772eb25",
   "metadata": {},
   "source": [
    "---"
   ]
  },
  {
   "cell_type": "markdown",
   "id": "b1082114",
   "metadata": {},
   "source": [
    "**Однослойная нейросеть с подбором параметров**"
   ]
  },
  {
   "cell_type": "markdown",
   "id": "c0e852d5",
   "metadata": {},
   "source": [
    "Задание нейронов в слоях нейросети:"
   ]
  },
  {
   "cell_type": "code",
   "execution_count": 69,
   "id": "4cde5da7",
   "metadata": {},
   "outputs": [],
   "source": [
    "n_in_hidden_out_neurons = [[n_in_neurons, n_out_neurons]]"
   ]
  },
  {
   "cell_type": "markdown",
   "id": "16710bde",
   "metadata": {},
   "source": [
    "---"
   ]
  },
  {
   "cell_type": "markdown",
   "id": "9eba2042",
   "metadata": {},
   "source": [
    "**Функции активации**"
   ]
  },
  {
   "cell_type": "markdown",
   "id": "2fc881dd",
   "metadata": {},
   "source": [
    "Обучение однослойной нейросети с подбором параметров:"
   ]
  },
  {
   "cell_type": "code",
   "execution_count": 70,
   "id": "1a0b7a25",
   "metadata": {},
   "outputs": [
    {
     "data": {
      "application/vnd.jupyter.widget-view+json": {
       "model_id": "aa6454a523464deb8a6ad3ae2703721e",
       "version_major": 2,
       "version_minor": 0
      },
      "text/plain": [
       "Activation functions progress:   0%|          | 0/256 [00:00<?, ?it/s]"
      ]
     },
     "metadata": {},
     "output_type": "display_data"
    }
   ],
   "source": [
    "results_1bp_l_acts = train_network_applying_params(X_train_ohe, \n",
    "                                                   y_train, \n",
    "                                                   n_in_hidden_out_neurons,\n",
    "                                                   n_epochs=n_epochs, \n",
    "                                                   batch_s=batch_mini_s,\n",
    "                                                   acts_range=acts_range,\n",
    "                                                   check_progress_acts=True)"
   ]
  },
  {
   "cell_type": "markdown",
   "id": "bff4365c",
   "metadata": {},
   "source": [
    "Сохранение лучшего результата:"
   ]
  },
  {
   "cell_type": "code",
   "execution_count": 71,
   "id": "3381dc4a",
   "metadata": {},
   "outputs": [],
   "source": [
    "results_1_l_params = results_1_l_params.append(convert_to_dataframe(results_1bp_l_acts[0], 'with_acts_b'))"
   ]
  },
  {
   "cell_type": "markdown",
   "id": "1e4fd0ae",
   "metadata": {},
   "source": [
    "---"
   ]
  },
  {
   "cell_type": "markdown",
   "id": "20446360",
   "metadata": {},
   "source": [
    "**Регуляризация весов**"
   ]
  },
  {
   "cell_type": "markdown",
   "id": "62588125",
   "metadata": {},
   "source": [
    "Обучение однослойной нейросети с подбором параметров:"
   ]
  },
  {
   "cell_type": "code",
   "execution_count": 72,
   "id": "c5b5fc29",
   "metadata": {},
   "outputs": [
    {
     "data": {
      "application/vnd.jupyter.widget-view+json": {
       "model_id": "6e2fd37a73604d68b988ae78e9ff4f69",
       "version_major": 2,
       "version_minor": 0
      },
      "text/plain": [
       "Regularization methods progress:   0%|          | 0/7 [00:00<?, ?it/s]"
      ]
     },
     "metadata": {},
     "output_type": "display_data"
    }
   ],
   "source": [
    "results_1pb_l_reg = train_network_applying_params(X_train_ohe, \n",
    "                                                  y_train, \n",
    "                                                  n_in_hidden_out_neurons,\n",
    "                                                  n_epochs=n_epochs, \n",
    "                                                  batch_s=batch_mini_s,\n",
    "                                                  regs_range=regs_range,\n",
    "                                                  check_progress_reg=True)"
   ]
  },
  {
   "cell_type": "markdown",
   "id": "88a4d231",
   "metadata": {},
   "source": [
    "Сохранение лучшего результата:"
   ]
  },
  {
   "cell_type": "code",
   "execution_count": 73,
   "id": "b4761657",
   "metadata": {},
   "outputs": [],
   "source": [
    "results_1_l_params = results_1_l_params.append(convert_to_dataframe(results_1pb_l_reg[0], 'with_reg_b'))"
   ]
  },
  {
   "cell_type": "markdown",
   "id": "fd842fb2",
   "metadata": {},
   "source": [
    "---"
   ]
  },
  {
   "cell_type": "markdown",
   "id": "38c94963",
   "metadata": {},
   "source": [
    "**Методы оптимизации**"
   ]
  },
  {
   "cell_type": "markdown",
   "id": "4b620208",
   "metadata": {},
   "source": [
    "Обучение однослойной нейросети с подбором параметров:"
   ]
  },
  {
   "cell_type": "code",
   "execution_count": 74,
   "id": "9f8a566b",
   "metadata": {},
   "outputs": [
    {
     "data": {
      "application/vnd.jupyter.widget-view+json": {
       "model_id": "665e71f783f74983aa42b9519d806d1f",
       "version_major": 2,
       "version_minor": 0
      },
      "text/plain": [
       "Optimization methods progress:   0%|          | 0/3 [00:00<?, ?it/s]"
      ]
     },
     "metadata": {},
     "output_type": "display_data"
    }
   ],
   "source": [
    "results_1pb_l_optim = train_network_applying_params(X_train_ohe, \n",
    "                                                   y_train, \n",
    "                                                   n_in_hidden_out_neurons,\n",
    "                                                   n_epochs=n_epochs, \n",
    "                                                   batch_s=batch_mini_s,\n",
    "                                                   optim_range=optim_range,\n",
    "                                                   check_progress_optim=True)"
   ]
  },
  {
   "cell_type": "markdown",
   "id": "8741692a",
   "metadata": {},
   "source": [
    "Сохранение лучшего результата:"
   ]
  },
  {
   "cell_type": "code",
   "execution_count": 75,
   "id": "e828bcd9",
   "metadata": {},
   "outputs": [],
   "source": [
    "results_1_l_params = results_1_l_params.append(convert_to_dataframe(results_1pb_l_optim[0], 'with_optim_b'))"
   ]
  },
  {
   "cell_type": "markdown",
   "id": "c660dcb4",
   "metadata": {},
   "source": [
    "---"
   ]
  },
  {
   "cell_type": "markdown",
   "id": "37802e23",
   "metadata": {},
   "source": [
    "**Инициализация весов**"
   ]
  },
  {
   "cell_type": "markdown",
   "id": "11b688ad",
   "metadata": {},
   "source": [
    "Обучение однослойной нейросети с подбором параметров:"
   ]
  },
  {
   "cell_type": "code",
   "execution_count": 76,
   "id": "688fd986",
   "metadata": {},
   "outputs": [
    {
     "data": {
      "application/vnd.jupyter.widget-view+json": {
       "model_id": "8aff5d47e9ae455792c3c2f450802355",
       "version_major": 2,
       "version_minor": 0
      },
      "text/plain": [
       "Init weights progress:   0%|          | 0/128 [00:00<?, ?it/s]"
      ]
     },
     "metadata": {},
     "output_type": "display_data"
    }
   ],
   "source": [
    "results_1pb_l_init_w = train_network_applying_params(X_train_ohe, \n",
    "                                                     y_train, \n",
    "                                                     n_in_hidden_out_neurons,\n",
    "                                                     n_epochs=n_epochs, \n",
    "                                                     batch_s=batch_mini_s,\n",
    "                                                     init_w_range=init_w_range,\n",
    "                                                     check_progress_init_w=True)"
   ]
  },
  {
   "cell_type": "markdown",
   "id": "ac7d9ccf",
   "metadata": {},
   "source": [
    "Сохранение лучшего результата:"
   ]
  },
  {
   "cell_type": "code",
   "execution_count": 77,
   "id": "c11d0e31",
   "metadata": {},
   "outputs": [],
   "source": [
    "results_1_l_params = results_1_l_params.append(convert_to_dataframe(results_1pb_l_init_w[0], 'with_init_w_b'))"
   ]
  },
  {
   "cell_type": "markdown",
   "id": "cba1bbcf",
   "metadata": {},
   "source": [
    "---"
   ]
  },
  {
   "cell_type": "markdown",
   "id": "bc4fe767",
   "metadata": {},
   "source": [
    "Выведение на экран сравнительной таблицы:"
   ]
  },
  {
   "cell_type": "code",
   "execution_count": 78,
   "id": "d363ef66",
   "metadata": {},
   "outputs": [
    {
     "data": {
      "text/html": [
       "<div>\n",
       "<style scoped>\n",
       "    .dataframe tbody tr th:only-of-type {\n",
       "        vertical-align: middle;\n",
       "    }\n",
       "\n",
       "    .dataframe tbody tr th {\n",
       "        vertical-align: top;\n",
       "    }\n",
       "\n",
       "    .dataframe thead th {\n",
       "        text-align: right;\n",
       "    }\n",
       "</style>\n",
       "<table border=\"1\" class=\"dataframe\">\n",
       "  <thead>\n",
       "    <tr style=\"text-align: right;\">\n",
       "      <th></th>\n",
       "      <th>n_in_hidden_out</th>\n",
       "      <th>epoch</th>\n",
       "      <th>batch_s</th>\n",
       "      <th>optim</th>\n",
       "      <th>rmse</th>\n",
       "      <th>acts</th>\n",
       "      <th>reg</th>\n",
       "      <th>init_w</th>\n",
       "    </tr>\n",
       "  </thead>\n",
       "  <tbody>\n",
       "    <tr>\n",
       "      <th>with_optim_b</th>\n",
       "      <td>20-1</td>\n",
       "      <td>650</td>\n",
       "      <td>50</td>\n",
       "      <td>SGD</td>\n",
       "      <td>1818.429321</td>\n",
       "      <td>None</td>\n",
       "      <td>None</td>\n",
       "      <td>None</td>\n",
       "    </tr>\n",
       "    <tr>\n",
       "      <th>with_acts_b</th>\n",
       "      <td>20-1</td>\n",
       "      <td>189</td>\n",
       "      <td>50</td>\n",
       "      <td>None</td>\n",
       "      <td>5424.929199</td>\n",
       "      <td>ReLU, Tanh, ELU, Tanh</td>\n",
       "      <td>None</td>\n",
       "      <td>None</td>\n",
       "    </tr>\n",
       "    <tr>\n",
       "      <th>with_init_w_b</th>\n",
       "      <td>20-1</td>\n",
       "      <td>56</td>\n",
       "      <td>50</td>\n",
       "      <td>None</td>\n",
       "      <td>5627.499023</td>\n",
       "      <td>None</td>\n",
       "      <td>None</td>\n",
       "      <td>{'init_w': 'uniform', 'a_b_w': [-0.5, 1.5], 'a...</td>\n",
       "    </tr>\n",
       "    <tr>\n",
       "      <th>with_reg_b</th>\n",
       "      <td>20-1</td>\n",
       "      <td>476</td>\n",
       "      <td>50</td>\n",
       "      <td>None</td>\n",
       "      <td>6318.290039</td>\n",
       "      <td>None</td>\n",
       "      <td>Dropout(p=0.5)</td>\n",
       "      <td>None</td>\n",
       "    </tr>\n",
       "  </tbody>\n",
       "</table>\n",
       "</div>"
      ],
      "text/plain": [
       "              n_in_hidden_out epoch batch_s optim         rmse  \\\n",
       "with_optim_b             20-1   650      50   SGD  1818.429321   \n",
       "with_acts_b              20-1   189      50  None  5424.929199   \n",
       "with_init_w_b            20-1    56      50  None  5627.499023   \n",
       "with_reg_b               20-1   476      50  None  6318.290039   \n",
       "\n",
       "                                acts             reg  \\\n",
       "with_optim_b                    None            None   \n",
       "with_acts_b    ReLU, Tanh, ELU, Tanh            None   \n",
       "with_init_w_b                   None            None   \n",
       "with_reg_b                      None  Dropout(p=0.5)   \n",
       "\n",
       "                                                          init_w  \n",
       "with_optim_b                                                None  \n",
       "with_acts_b                                                 None  \n",
       "with_init_w_b  {'init_w': 'uniform', 'a_b_w': [-0.5, 1.5], 'a...  \n",
       "with_reg_b                                                  None  "
      ]
     },
     "execution_count": 78,
     "metadata": {},
     "output_type": "execute_result"
    }
   ],
   "source": [
    "results_1_l_params.sort_values('rmse')"
   ]
  },
  {
   "cell_type": "markdown",
   "id": "aa336926",
   "metadata": {},
   "source": [
    "<div style=\"background-color: #f9f9f9; border-radius: 2px; padding: 20px 20px 10px 20px;\">\n",
    "    \n",
    "* Наименьшее значение метрики RMSE показала нейросеть, обученная c применением оптимизатора `optim.SGD()`.\n",
    "    \n",
    "* Обучение уложилось в 1000 эпох.\n",
    "\n",
    "* Обучение происходило на батчах.\n",
    "    \n",
    "---\n",
    "    \n",
    "* Параметры, посредством которых однослойная нейросеть показала хороший результат, могут быть плохо применимы в многослойной нейронной сети.\n",
    "    \n",
    "</div>"
   ]
  },
  {
   "cell_type": "markdown",
   "id": "e7957ac1",
   "metadata": {},
   "source": [
    "Выведение на экран графика соотношения предсказаний и фактических значений:"
   ]
  },
  {
   "cell_type": "code",
   "execution_count": 79,
   "id": "cec70456",
   "metadata": {},
   "outputs": [
    {
     "data": {
      "image/png": "[encoded data removed]",
      "text/plain": [
       "<Figure size 1152x432 with 1 Axes>"
      ]
     },
     "metadata": {
      "needs_background": "light"
     },
     "output_type": "display_data"
    }
   ],
   "source": [
    "plot_real_pred(np.array(range(results_1pb_l_optim[1][1].shape[0])), \n",
    "               results_1pb_l_optim[1][1], results_1pb_l_optim[1][0], \n",
    "               'Однослойная нейросеть с подбором параметров')"
   ]
  },
  {
   "cell_type": "markdown",
   "id": "5e93b2a7",
   "metadata": {},
   "source": [
    "<div style=\"background-color: #f9f9f9; border-radius: 2px; padding: 20px 20px 10px 20px;\">\n",
    "    \n",
    "* Значение метрики RMSE показало некоторые различия между предсказанными и фактическими значениями: предсказания либо недотягивают до целевых значений, либо наоборот их переоценивают.\n",
    "    \n",
    "    \n",
    "* Необходимо подобрать подходящее для решения поставленной задачи число скрытых слоёв нейросети.\n",
    "    \n",
    "    \n",
    "* Дальнейшая работа будет происходить обучением на батчах с оптимизатором `optim.SGD()`. Необходимо подобрать подходящее соотношение функций активации, методовы регуляризации и инициализации весов для уменьшения значения метрики RMSE.\n",
    "    \n",
    "</div>"
   ]
  },
  {
   "cell_type": "markdown",
   "id": "68f47407",
   "metadata": {},
   "source": [
    "---"
   ]
  },
  {
   "cell_type": "markdown",
   "id": "b1081743",
   "metadata": {},
   "source": [
    "### Улучшение нейросети"
   ]
  },
  {
   "cell_type": "markdown",
   "id": "c9f6668a",
   "metadata": {},
   "source": [
    "**Многослойная нейросеть с подбором параметров**"
   ]
  },
  {
   "cell_type": "markdown",
   "id": "50c48e4e",
   "metadata": {},
   "source": [
    "В качестве порога метрики RMSE будет взято значение 4500.\n",
    "\n",
    "Поскольку однослойная нейросеть показала наименьшее значение RMSE при использовании оптимизатора `optim.SGD()` на батчах, необходимо провести обучение многослойной нейросети по подбору оптимизатора для сравнения поведения с однослойной нейросетью. Полученная в результате модель станет основой для её улучшения посредством подбора функций активации, методов регуляризации и инициализации весов."
   ]
  },
  {
   "cell_type": "markdown",
   "id": "26ee6c55",
   "metadata": {},
   "source": [
    "Задание переменной, которая будет хранить результаты сравнительного анализа:"
   ]
  },
  {
   "cell_type": "code",
   "execution_count": 80,
   "id": "6fbb9d55",
   "metadata": {},
   "outputs": [],
   "source": [
    "results_n_l_params = pd.DataFrame()"
   ]
  },
  {
   "cell_type": "markdown",
   "id": "4f31ed37",
   "metadata": {},
   "source": [
    "---"
   ]
  },
  {
   "cell_type": "markdown",
   "id": "8a5b03af",
   "metadata": {},
   "source": [
    "Задание вариаций нейронов в слоях нейросети:"
   ]
  },
  {
   "cell_type": "code",
   "execution_count": 81,
   "id": "a711c3e8",
   "metadata": {},
   "outputs": [],
   "source": [
    "neurons_range = np.array([n_in_neurons // 2, n_in_neurons // 2 // 2, n_in_neurons // 2 // 2 // 2])"
   ]
  },
  {
   "cell_type": "code",
   "execution_count": 82,
   "id": "71e7b33d",
   "metadata": {},
   "outputs": [],
   "source": [
    "n_in_hidden_out_neurons_range = product_values(neurons_range, 3)\n",
    "n_in_hidden_out_neurons_range.extend(product_values(neurons_range[:-1], 2))\n",
    "n_in_hidden_out_neurons_range.extend(product_values(neurons_range[1:], 2))\n",
    "n_in_hidden_out_neurons_range.extend(product_values(neurons_range[[0, 2]], 2))\n",
    "n_in_hidden_out_neurons_range.extend([[n_in_neurons] * 3])\n",
    "n_in_hidden_out_neurons_range.extend([[n_in_neurons] * 2])"
   ]
  },
  {
   "cell_type": "code",
   "execution_count": 83,
   "id": "d7fce860",
   "metadata": {},
   "outputs": [],
   "source": [
    "n_in_hidden_out_neurons_range = [[n_in_neurons, *n_in_hidden_out, n_out_neurons]\n",
    "                                 for n_in_hidden_out in n_in_hidden_out_neurons_range]"
   ]
  },
  {
   "cell_type": "markdown",
   "id": "ae96c4c6",
   "metadata": {},
   "source": [
    "---"
   ]
  },
  {
   "cell_type": "markdown",
   "id": "f5ca18bf",
   "metadata": {},
   "source": [
    "**Оптимизаторы и количество слоёв**"
   ]
  },
  {
   "cell_type": "markdown",
   "id": "782db7ae",
   "metadata": {},
   "source": [
    "Обучение многослойной нейросети с подбором параметров:"
   ]
  },
  {
   "cell_type": "code",
   "execution_count": 84,
   "id": "e81cfdf6",
   "metadata": {
    "scrolled": true
   },
   "outputs": [
    {
     "data": {
      "application/vnd.jupyter.widget-view+json": {
       "model_id": "1dc1c85b5e464222ae47349ebdc4db0e",
       "version_major": 2,
       "version_minor": 0
      },
      "text/plain": [
       "Optimization methods progress:   0%|          | 0/3 [00:00<?, ?it/s]"
      ]
     },
     "metadata": {},
     "output_type": "display_data"
    },
    {
     "data": {
      "application/vnd.jupyter.widget-view+json": {
       "model_id": "6b5506d3d04c4a18abca0dc45ff3c20f",
       "version_major": 2,
       "version_minor": 0
      },
      "text/plain": [
       "Input-Hidden-Output neurons progress:   0%|          | 0/41 [00:00<?, ?it/s]"
      ]
     },
     "metadata": {},
     "output_type": "display_data"
    }
   ],
   "source": [
    "results_np_l_imp = train_network_applying_params(X_train_ohe, \n",
    "                                                 y_train, \n",
    "                                                 n_in_hidden_out_neurons_range=n_in_hidden_out_neurons_range,\n",
    "                                                 n_epochs=n_epochs, \n",
    "                                                 batch_s=batch_mini_s,\n",
    "                                                 optim_range=optim_range,\n",
    "                                                 rmse_threshold=np.inf,\n",
    "                                                 check_progress_in_hidden_out=True,\n",
    "                                                 check_progress_optim=True)"
   ]
  },
  {
   "cell_type": "markdown",
   "id": "18b1d26a",
   "metadata": {},
   "source": [
    "Выведение на экран лучшего результата:"
   ]
  },
  {
   "cell_type": "code",
   "execution_count": 85,
   "id": "928e83b7",
   "metadata": {},
   "outputs": [
    {
     "data": {
      "text/html": [
       "<div>\n",
       "<style scoped>\n",
       "    .dataframe tbody tr th:only-of-type {\n",
       "        vertical-align: middle;\n",
       "    }\n",
       "\n",
       "    .dataframe tbody tr th {\n",
       "        vertical-align: top;\n",
       "    }\n",
       "\n",
       "    .dataframe thead th {\n",
       "        text-align: right;\n",
       "    }\n",
       "</style>\n",
       "<table border=\"1\" class=\"dataframe\">\n",
       "  <thead>\n",
       "    <tr style=\"text-align: right;\">\n",
       "      <th></th>\n",
       "      <th>n_in_hidden_out</th>\n",
       "      <th>epoch</th>\n",
       "      <th>batch_s</th>\n",
       "      <th>optim</th>\n",
       "      <th>rmse</th>\n",
       "      <th>acts</th>\n",
       "      <th>reg</th>\n",
       "      <th>init_w</th>\n",
       "    </tr>\n",
       "  </thead>\n",
       "  <tbody>\n",
       "    <tr>\n",
       "      <th>results</th>\n",
       "      <td>20-10-5-1</td>\n",
       "      <td>333</td>\n",
       "      <td>50</td>\n",
       "      <td>Adam</td>\n",
       "      <td>1293.946533</td>\n",
       "      <td>None</td>\n",
       "      <td>None</td>\n",
       "      <td>None</td>\n",
       "    </tr>\n",
       "  </tbody>\n",
       "</table>\n",
       "</div>"
      ],
      "text/plain": [
       "        n_in_hidden_out epoch batch_s optim         rmse  acts   reg init_w\n",
       "results       20-10-5-1   333      50  Adam  1293.946533  None  None   None"
      ]
     },
     "execution_count": 85,
     "metadata": {},
     "output_type": "execute_result"
    }
   ],
   "source": [
    "convert_to_dataframe(results_np_l_imp[0])"
   ]
  },
  {
   "cell_type": "markdown",
   "id": "ec324ab9",
   "metadata": {},
   "source": [
    "<div style=\"background-color: #f9f9f9; border-radius: 2px; padding: 20px 20px 10px 20px;\">    \n",
    "    \n",
    "* Оптимизатор, уменьшающий значение метрики RMSE в многослойной нейросети, отличается от оптимизатора, выявленного при обучении однослойной нейросети.\n",
    "    \n",
    "    \n",
    "* Следующий шаг уменьшения значения метрики RMSE заключается в подборе функций активации.\n",
    "    \n",
    "</div>"
   ]
  },
  {
   "cell_type": "markdown",
   "id": "e8d2b644",
   "metadata": {},
   "source": [
    "Задание значений оптимизатора и количества входных, скрытых и выходных нейронов:"
   ]
  },
  {
   "cell_type": "code",
   "execution_count": 86,
   "id": "0b6e81c7",
   "metadata": {},
   "outputs": [],
   "source": [
    "optim = [results_np_l_imp[0]['optim']]\n",
    "\n",
    "n_in_hidden_out_neurons = [[int(n) \n",
    "                            for n in results_np_l_imp[0]['n_in_hidden_out'].split('-')]]"
   ]
  },
  {
   "cell_type": "markdown",
   "id": "0c489d76",
   "metadata": {},
   "source": [
    "Обучение многослойной нейросети с подбором параметров:"
   ]
  },
  {
   "cell_type": "code",
   "execution_count": 87,
   "id": "a337c302",
   "metadata": {},
   "outputs": [
    {
     "data": {
      "application/vnd.jupyter.widget-view+json": {
       "model_id": "b5efcaffb28a4d52b738c48380908a62",
       "version_major": 2,
       "version_minor": 0
      },
      "text/plain": [
       "Activation functions progress:   0%|          | 0/256 [00:00<?, ?it/s]"
      ]
     },
     "metadata": {},
     "output_type": "display_data"
    }
   ],
   "source": [
    "results_np_l_imp = train_network_applying_params(X_train_ohe, \n",
    "                                                 y_train, \n",
    "                                                 n_in_hidden_out_neurons_range=n_in_hidden_out_neurons,\n",
    "                                                 n_epochs=n_epochs, \n",
    "                                                 batch_s=batch_mini_s,\n",
    "                                                 acts_range=acts_range,\n",
    "                                                 optim_range=optim,\n",
    "                                                 rmse_threshold=4500.,\n",
    "                                                 check_progress_acts=True)"
   ]
  },
  {
   "cell_type": "markdown",
   "id": "8a86a9b2",
   "metadata": {},
   "source": [
    "Выведение на экран лучшего результата:"
   ]
  },
  {
   "cell_type": "code",
   "execution_count": 88,
   "id": "ee2a814f",
   "metadata": {},
   "outputs": [
    {
     "data": {
      "text/html": [
       "<div>\n",
       "<style scoped>\n",
       "    .dataframe tbody tr th:only-of-type {\n",
       "        vertical-align: middle;\n",
       "    }\n",
       "\n",
       "    .dataframe tbody tr th {\n",
       "        vertical-align: top;\n",
       "    }\n",
       "\n",
       "    .dataframe thead th {\n",
       "        text-align: right;\n",
       "    }\n",
       "</style>\n",
       "<table border=\"1\" class=\"dataframe\">\n",
       "  <thead>\n",
       "    <tr style=\"text-align: right;\">\n",
       "      <th></th>\n",
       "      <th>n_in_hidden_out</th>\n",
       "      <th>epoch</th>\n",
       "      <th>batch_s</th>\n",
       "      <th>optim</th>\n",
       "      <th>rmse</th>\n",
       "      <th>acts</th>\n",
       "      <th>reg</th>\n",
       "      <th>init_w</th>\n",
       "    </tr>\n",
       "  </thead>\n",
       "  <tbody>\n",
       "    <tr>\n",
       "      <th>results</th>\n",
       "      <td>20-10-5-1</td>\n",
       "      <td>694</td>\n",
       "      <td>50</td>\n",
       "      <td>Adam</td>\n",
       "      <td>963.119568</td>\n",
       "      <td>Tanh, ELU, ELU, ReLU</td>\n",
       "      <td>None</td>\n",
       "      <td>None</td>\n",
       "    </tr>\n",
       "  </tbody>\n",
       "</table>\n",
       "</div>"
      ],
      "text/plain": [
       "        n_in_hidden_out epoch batch_s optim        rmse                  acts  \\\n",
       "results       20-10-5-1   694      50  Adam  963.119568  Tanh, ELU, ELU, ReLU   \n",
       "\n",
       "          reg init_w  \n",
       "results  None   None  "
      ]
     },
     "execution_count": 88,
     "metadata": {},
     "output_type": "execute_result"
    }
   ],
   "source": [
    "convert_to_dataframe(results_np_l_imp[0])"
   ]
  },
  {
   "cell_type": "markdown",
   "id": "efce5213",
   "metadata": {},
   "source": [
    "<div style=\"background-color: #f9f9f9; border-radius: 2px; padding: 20px 20px 10px 20px;\">\n",
    "    \n",
    "* Дальнейшее уменьшение значения метрики RMSE может привести к переобучению.\n",
    "    \n",
    "</div>"
   ]
  },
  {
   "cell_type": "markdown",
   "id": "5938bac0",
   "metadata": {},
   "source": [
    "Сохранение значений функций активации на слоях:"
   ]
  },
  {
   "cell_type": "code",
   "execution_count": 89,
   "id": "9d71c495",
   "metadata": {},
   "outputs": [],
   "source": [
    "acts = [[]]\n",
    "\n",
    "for act in results_np_l_imp[0]['acts'].split(', '):\n",
    "    for func in acts_funcs:\n",
    "        if act in str(func):\n",
    "            acts[0].append(func)"
   ]
  },
  {
   "cell_type": "markdown",
   "id": "42f6a396",
   "metadata": {},
   "source": [
    "Выведение на экран графика соотношения предсказаний и фактических значений:"
   ]
  },
  {
   "cell_type": "code",
   "execution_count": 90,
   "id": "322d4f3e",
   "metadata": {},
   "outputs": [
    {
     "data": {
      "image/png": "[encoded data removed]",
      "text/plain": [
       "<Figure size 1152x432 with 1 Axes>"
      ]
     },
     "metadata": {
      "needs_background": "light"
     },
     "output_type": "display_data"
    }
   ],
   "source": [
    "plot_real_pred(np.array(range(results_np_l_imp[1][1].shape[0])), \n",
    "               results_np_l_imp[1][1], results_np_l_imp[1][0], \n",
    "               'Многослойная нейросеть с подбором параметров')"
   ]
  },
  {
   "cell_type": "markdown",
   "id": "ec327ac3",
   "metadata": {},
   "source": [
    "<div style=\"background-color: #f9f9f9; border-radius: 2px; padding: 20px 20px 10px 20px;\">\n",
    "    \n",
    "* Наблюдаются некоторые различия между предсказанными и фактическими значениями: предсказания у некоторых номеров звёзд недотягивают до целевых значений.\n",
    "    \n",
    "</div>"
   ]
  },
  {
   "cell_type": "markdown",
   "id": "748f44f7",
   "metadata": {},
   "source": [
    "<div style=\"background-color: blue; height: 2px; margin: 10px 0;\"></div>"
   ]
  },
  {
   "cell_type": "markdown",
   "id": "a7833607",
   "metadata": {},
   "source": [
    "### Тестирование нейросети"
   ]
  },
  {
   "cell_type": "markdown",
   "id": "b1b923cf",
   "metadata": {},
   "source": [
    "Объявление нейросети:"
   ]
  },
  {
   "cell_type": "code",
   "execution_count": 91,
   "id": "5f6c987f",
   "metadata": {},
   "outputs": [],
   "source": [
    "net_test = get_net(*n_in_hidden_out_neurons, *acts)"
   ]
  },
  {
   "cell_type": "markdown",
   "id": "7e954466",
   "metadata": {},
   "source": [
    "Обучение нейросети: "
   ]
  },
  {
   "cell_type": "code",
   "execution_count": 92,
   "id": "0bb44d7a",
   "metadata": {},
   "outputs": [
    {
     "name": "stdout",
     "output_type": "stream",
     "text": [
      "Epoch 0 | RMSE 19000.548828125\n",
      "Epoch 100 | RMSE 16718.7578125\n",
      "Epoch 200 | RMSE 8972.3798828125\n",
      "Epoch 300 | RMSE 7972.9326171875\n",
      "Epoch 400 | RMSE 4540.23046875\n",
      "Epoch 500 | RMSE 1914.6158447265625\n",
      "Epoch 600 | RMSE 1586.60986328125\n",
      "Epoch 700 | RMSE 3365.235107421875\n",
      "Epoch 800 | RMSE 6972.95654296875\n",
      "Epoch 900 | RMSE 3768.3759765625\n",
      "Epoch 999 | RMSE 2699.00341796875\n"
     ]
    }
   ],
   "source": [
    "results_test = train_net(\n",
    "    net_test, \n",
    "    *n_in_hidden_out_neurons,\n",
    "    X_test_ohe, \n",
    "    y_test, \n",
    "    n_epochs=n_epochs, \n",
    "    batch_s=batch_mini_s,\n",
    "    optim=get_optim(net_test, *optim)\n",
    ")"
   ]
  },
  {
   "cell_type": "markdown",
   "id": "b87962e5",
   "metadata": {},
   "source": [
    "Выведение на экран лучшего результата:"
   ]
  },
  {
   "cell_type": "code",
   "execution_count": 93,
   "id": "81ba4331",
   "metadata": {},
   "outputs": [
    {
     "data": {
      "text/html": [
       "<div>\n",
       "<style scoped>\n",
       "    .dataframe tbody tr th:only-of-type {\n",
       "        vertical-align: middle;\n",
       "    }\n",
       "\n",
       "    .dataframe tbody tr th {\n",
       "        vertical-align: top;\n",
       "    }\n",
       "\n",
       "    .dataframe thead th {\n",
       "        text-align: right;\n",
       "    }\n",
       "</style>\n",
       "<table border=\"1\" class=\"dataframe\">\n",
       "  <thead>\n",
       "    <tr style=\"text-align: right;\">\n",
       "      <th></th>\n",
       "      <th>n_in_hidden_out</th>\n",
       "      <th>epoch</th>\n",
       "      <th>batch_s</th>\n",
       "      <th>optim</th>\n",
       "      <th>rmse</th>\n",
       "    </tr>\n",
       "  </thead>\n",
       "  <tbody>\n",
       "    <tr>\n",
       "      <th>results</th>\n",
       "      <td>20-10-5-1</td>\n",
       "      <td>558</td>\n",
       "      <td>50</td>\n",
       "      <td>Adam</td>\n",
       "      <td>304.754791</td>\n",
       "    </tr>\n",
       "  </tbody>\n",
       "</table>\n",
       "</div>"
      ],
      "text/plain": [
       "        n_in_hidden_out epoch batch_s optim        rmse\n",
       "results       20-10-5-1   558      50  Adam  304.754791"
      ]
     },
     "execution_count": 93,
     "metadata": {},
     "output_type": "execute_result"
    }
   ],
   "source": [
    "convert_to_dataframe(results_test[0])"
   ]
  },
  {
   "cell_type": "markdown",
   "id": "8acbf232",
   "metadata": {},
   "source": [
    "Выведение на экран графика соотношения предсказаний и фактических значений:"
   ]
  },
  {
   "cell_type": "code",
   "execution_count": 94,
   "id": "f2d75f8b",
   "metadata": {},
   "outputs": [
    {
     "data": {
      "image/png": "[encoded data removed]",
      "text/plain": [
       "<Figure size 1152x432 with 1 Axes>"
      ]
     },
     "metadata": {
      "needs_background": "light"
     },
     "output_type": "display_data"
    }
   ],
   "source": [
    "plot_real_pred(np.array(range(results_test[1][1].shape[0])), \n",
    "               results_test[1][1], results_test[1][0], \n",
    "               'Поведение многослойной нейросети с подбором параметров\\nна тестовых данных')"
   ]
  },
  {
   "cell_type": "markdown",
   "id": "9179290b",
   "metadata": {},
   "source": [
    "<div style=\"background-color: #f9f9f9; border-radius: 2px; padding: 20px 20px 10px 20px;\">\n",
    "    \n",
    "* Наблюдается хорошая предсказательная способность обученной нейросети.\n",
    "    \n",
    "</div>"
   ]
  },
  {
   "cell_type": "markdown",
   "id": "4866a201",
   "metadata": {},
   "source": [
    "<div style=\"background-color: blue; height: 2px; margin: 10px 0;\"></div>"
   ]
  },
  {
   "cell_type": "markdown",
   "id": "accurate-infrastructure",
   "metadata": {},
   "source": [
    "## Выводы"
   ]
  },
  {
   "cell_type": "markdown",
   "id": "cbe23254",
   "metadata": {},
   "source": [
    "Были проведены анализ и предподготовка исходного набора данных для приведения значений к надлежащему виду перед построением нейронной сети, решающей поставленную задачу.\n",
    "\n",
    "В ходе выбора подхода к построению нейросети были изучены базовая и улучшенная нейросети. Изучение поведения данных на базовой нейросети помогло установить необходимый подход для улучшения модели.\n",
    "\n",
    "Исследование показало, что применение нейросети решает задачу определения температуры на поверхности звёзд. При этом качество предсказания было улучшено за счёт:\n",
    "\n",
    "* увеличения числа слоёв\n",
    "* подбора оптимизатора\n",
    "* тестирования на вариациях размерностей скрытых слоёв\n",
    "* подбора функций активации для входного, скрытых чётных, скрытых нечётных и выходных слоёв\n",
    "\n",
    "Нейросеть была протестирована на тестовой выборке, результат вычисленния значения метрики RMSE на которой также удовлетворил установленному порогу её значения."
   ]
  },
  {
   "cell_type": "markdown",
   "id": "e00b1535",
   "metadata": {},
   "source": [
    "<div style=\"text-align: center; font-size: 20px; padding: 15px 0;\">\n",
    "    <a href=\"#Прогнозирование-температуры-звезды\" data-toc-modified-id=\"Прогнозирование-температуры-звезды\" style=\"text-decoration: none; color: #296eaa; border: 2px dashed #296eaa; opacity: 0.8; border-radius: 3px; padding: 10px 80px;\">\n",
    "        В начало файла ↑\n",
    "    </a>\n",
    "</div>"
   ]
  }
 ],
 "metadata": {
  "ExecuteTimeLog": [
   {
    "duration": 411,
    "start_time": "2023-03-29T04:12:02.547Z"
   },
   {
    "duration": 412,
    "start_time": "2023-03-29T21:27:20.420Z"
   },
   {
    "duration": 61,
    "start_time": "2023-03-29T21:27:21.448Z"
   },
   {
    "duration": 15,
    "start_time": "2023-03-29T21:27:33.729Z"
   },
   {
    "duration": 13,
    "start_time": "2023-03-29T21:27:56.401Z"
   },
   {
    "duration": 7,
    "start_time": "2023-03-29T21:28:09.487Z"
   },
   {
    "duration": 4,
    "start_time": "2023-03-29T21:28:46.502Z"
   },
   {
    "duration": 9,
    "start_time": "2023-03-29T21:28:55.985Z"
   },
   {
    "duration": 3,
    "start_time": "2023-03-29T21:29:06.802Z"
   },
   {
    "duration": 10,
    "start_time": "2023-03-29T21:29:23.906Z"
   },
   {
    "duration": 11,
    "start_time": "2023-03-29T21:30:27.731Z"
   },
   {
    "duration": 12,
    "start_time": "2023-03-29T21:30:53.973Z"
   },
   {
    "duration": 4,
    "start_time": "2023-03-30T07:18:13.750Z"
   },
   {
    "duration": 98,
    "start_time": "2023-03-30T07:19:44.688Z"
   },
   {
    "duration": 13,
    "start_time": "2023-03-30T07:19:53.787Z"
   },
   {
    "duration": 10,
    "start_time": "2023-03-30T07:20:18.202Z"
   },
   {
    "duration": 4,
    "start_time": "2023-03-30T07:20:38.790Z"
   },
   {
    "duration": 56,
    "start_time": "2023-03-30T07:21:02.403Z"
   },
   {
    "duration": 27,
    "start_time": "2023-03-30T07:21:02.733Z"
   },
   {
    "duration": 21,
    "start_time": "2023-03-30T07:22:36.933Z"
   },
   {
    "duration": 5,
    "start_time": "2023-03-30T07:22:37.331Z"
   },
   {
    "duration": 22,
    "start_time": "2023-03-30T07:22:46.249Z"
   },
   {
    "duration": 17,
    "start_time": "2023-03-30T07:22:46.732Z"
   },
   {
    "duration": 293,
    "start_time": "2023-03-30T07:23:09.646Z"
   },
   {
    "duration": 4,
    "start_time": "2023-03-30T07:25:27.312Z"
   },
   {
    "duration": 15,
    "start_time": "2023-03-30T07:26:25.001Z"
   },
   {
    "duration": 4,
    "start_time": "2023-03-30T07:26:51.851Z"
   },
   {
    "duration": 42,
    "start_time": "2023-03-30T07:29:40.095Z"
   },
   {
    "duration": 8,
    "start_time": "2023-03-30T07:30:47.711Z"
   },
   {
    "duration": 1375,
    "start_time": "2023-03-30T08:20:17.752Z"
   },
   {
    "duration": 4,
    "start_time": "2023-03-30T08:20:19.129Z"
   },
   {
    "duration": 26,
    "start_time": "2023-03-30T08:20:19.135Z"
   },
   {
    "duration": 15,
    "start_time": "2023-03-30T08:20:19.163Z"
   },
   {
    "duration": 14,
    "start_time": "2023-03-30T08:20:19.179Z"
   },
   {
    "duration": 35,
    "start_time": "2023-03-30T08:20:19.195Z"
   },
   {
    "duration": 5,
    "start_time": "2023-03-30T08:20:19.232Z"
   },
   {
    "duration": 28,
    "start_time": "2023-03-30T08:20:19.239Z"
   },
   {
    "duration": 7,
    "start_time": "2023-03-30T08:20:19.268Z"
   },
   {
    "duration": 5,
    "start_time": "2023-03-30T08:32:20.914Z"
   },
   {
    "duration": 33,
    "start_time": "2023-03-30T08:32:50.915Z"
   },
   {
    "duration": 18,
    "start_time": "2023-03-30T08:33:03.540Z"
   },
   {
    "duration": 7,
    "start_time": "2023-03-30T08:33:52.506Z"
   },
   {
    "duration": 7,
    "start_time": "2023-03-30T08:33:57.468Z"
   },
   {
    "duration": 9,
    "start_time": "2023-03-30T08:34:24.007Z"
   },
   {
    "duration": 1383,
    "start_time": "2023-03-30T09:29:08.099Z"
   },
   {
    "duration": 4,
    "start_time": "2023-03-30T09:29:09.484Z"
   },
   {
    "duration": 61,
    "start_time": "2023-03-30T09:29:09.489Z"
   },
   {
    "duration": 13,
    "start_time": "2023-03-30T09:29:09.552Z"
   },
   {
    "duration": 4,
    "start_time": "2023-03-30T09:29:09.567Z"
   },
   {
    "duration": 13,
    "start_time": "2023-03-30T09:29:09.573Z"
   },
   {
    "duration": 7,
    "start_time": "2023-03-30T09:29:09.588Z"
   },
   {
    "duration": 27,
    "start_time": "2023-03-30T09:29:09.597Z"
   },
   {
    "duration": 8,
    "start_time": "2023-03-30T09:29:09.631Z"
   },
   {
    "duration": 5,
    "start_time": "2023-03-30T09:29:09.642Z"
   },
   {
    "duration": 8,
    "start_time": "2023-03-30T09:29:09.648Z"
   },
   {
    "duration": 29,
    "start_time": "2023-03-30T09:30:09.605Z"
   },
   {
    "duration": 7,
    "start_time": "2023-03-30T09:39:43.027Z"
   },
   {
    "duration": 713,
    "start_time": "2023-03-30T09:41:14.762Z"
   },
   {
    "duration": 338,
    "start_time": "2023-03-30T09:41:37.537Z"
   },
   {
    "duration": 549,
    "start_time": "2023-03-30T09:41:43.879Z"
   },
   {
    "duration": 502,
    "start_time": "2023-03-30T09:42:18.316Z"
   },
   {
    "duration": 239,
    "start_time": "2023-03-30T09:44:52.885Z"
   },
   {
    "duration": 85,
    "start_time": "2023-03-30T09:45:00.984Z"
   },
   {
    "duration": 298,
    "start_time": "2023-03-30T09:45:14.122Z"
   },
   {
    "duration": 467,
    "start_time": "2023-03-30T09:45:17.997Z"
   },
   {
    "duration": 437,
    "start_time": "2023-03-30T09:45:22.485Z"
   },
   {
    "duration": 429,
    "start_time": "2023-03-30T09:46:38.300Z"
   },
   {
    "duration": 445,
    "start_time": "2023-03-30T09:46:43.311Z"
   },
   {
    "duration": 454,
    "start_time": "2023-03-30T09:46:47.549Z"
   },
   {
    "duration": 551,
    "start_time": "2023-03-30T09:46:52.462Z"
   },
   {
    "duration": 556,
    "start_time": "2023-03-30T09:47:09.263Z"
   },
   {
    "duration": 452,
    "start_time": "2023-03-30T09:47:19.724Z"
   },
   {
    "duration": 678,
    "start_time": "2023-03-30T09:47:38.951Z"
   },
   {
    "duration": 804,
    "start_time": "2023-03-30T09:47:44.077Z"
   },
   {
    "duration": 687,
    "start_time": "2023-03-30T09:47:49.414Z"
   },
   {
    "duration": 779,
    "start_time": "2023-03-30T09:48:23.715Z"
   },
   {
    "duration": 16,
    "start_time": "2023-03-30T09:49:01.129Z"
   },
   {
    "duration": 14,
    "start_time": "2023-03-30T09:49:12.892Z"
   },
   {
    "duration": 111,
    "start_time": "2023-03-30T09:49:22.193Z"
   },
   {
    "duration": 16,
    "start_time": "2023-03-30T09:49:27.055Z"
   },
   {
    "duration": 182,
    "start_time": "2023-03-30T09:49:33.481Z"
   },
   {
    "duration": 150,
    "start_time": "2023-03-30T09:49:37.430Z"
   },
   {
    "duration": 181,
    "start_time": "2023-03-30T09:49:45.995Z"
   },
   {
    "duration": 185,
    "start_time": "2023-03-30T09:49:51.856Z"
   },
   {
    "duration": 343,
    "start_time": "2023-03-30T09:49:57.893Z"
   },
   {
    "duration": 178,
    "start_time": "2023-03-30T09:50:05.981Z"
   },
   {
    "duration": 206,
    "start_time": "2023-03-30T09:50:16.656Z"
   },
   {
    "duration": 201,
    "start_time": "2023-03-30T09:50:54.457Z"
   },
   {
    "duration": 197,
    "start_time": "2023-03-30T09:50:58.400Z"
   },
   {
    "duration": 254,
    "start_time": "2023-03-30T09:51:11.657Z"
   },
   {
    "duration": 231,
    "start_time": "2023-03-30T09:51:19.245Z"
   },
   {
    "duration": 258,
    "start_time": "2023-03-30T09:51:24.020Z"
   },
   {
    "duration": 260,
    "start_time": "2023-03-30T09:51:32.120Z"
   },
   {
    "duration": 273,
    "start_time": "2023-03-30T09:51:43.233Z"
   },
   {
    "duration": 364,
    "start_time": "2023-03-30T09:51:48.008Z"
   },
   {
    "duration": 197,
    "start_time": "2023-03-30T09:52:50.573Z"
   },
   {
    "duration": 199,
    "start_time": "2023-03-30T09:52:57.648Z"
   },
   {
    "duration": 269,
    "start_time": "2023-03-30T09:53:09.936Z"
   },
   {
    "duration": 198,
    "start_time": "2023-03-30T09:53:22.100Z"
   },
   {
    "duration": 192,
    "start_time": "2023-03-30T09:53:40.625Z"
   },
   {
    "duration": 194,
    "start_time": "2023-03-30T09:53:51.639Z"
   },
   {
    "duration": 1396,
    "start_time": "2023-03-30T09:54:56.129Z"
   },
   {
    "duration": 178,
    "start_time": "2023-03-30T09:55:14.993Z"
   },
   {
    "duration": 125,
    "start_time": "2023-03-30T09:55:37.681Z"
   },
   {
    "duration": 166,
    "start_time": "2023-03-30T09:56:34.433Z"
   },
   {
    "duration": 184,
    "start_time": "2023-03-30T09:56:43.920Z"
   },
   {
    "duration": 376,
    "start_time": "2023-03-30T09:57:14.872Z"
   },
   {
    "duration": 198,
    "start_time": "2023-03-30T09:57:46.311Z"
   },
   {
    "duration": 202,
    "start_time": "2023-03-30T09:57:54.887Z"
   },
   {
    "duration": 204,
    "start_time": "2023-03-30T09:57:58.860Z"
   },
   {
    "duration": 183,
    "start_time": "2023-03-30T09:58:09.173Z"
   },
   {
    "duration": 206,
    "start_time": "2023-03-30T09:58:53.113Z"
   },
   {
    "duration": 338,
    "start_time": "2023-03-30T09:59:02.175Z"
   },
   {
    "duration": 165,
    "start_time": "2023-03-30T09:59:28.251Z"
   },
   {
    "duration": 153,
    "start_time": "2023-03-30T09:59:31.439Z"
   },
   {
    "duration": 319,
    "start_time": "2023-03-30T09:59:41.088Z"
   },
   {
    "duration": 309,
    "start_time": "2023-03-30T10:00:38.489Z"
   },
   {
    "duration": 174,
    "start_time": "2023-03-30T10:01:32.144Z"
   },
   {
    "duration": 170,
    "start_time": "2023-03-30T10:01:38.306Z"
   },
   {
    "duration": 186,
    "start_time": "2023-03-30T10:01:47.806Z"
   },
   {
    "duration": 189,
    "start_time": "2023-03-30T10:02:00.220Z"
   },
   {
    "duration": 427,
    "start_time": "2023-03-30T10:02:06.519Z"
   },
   {
    "duration": 190,
    "start_time": "2023-03-30T10:02:14.620Z"
   },
   {
    "duration": 230,
    "start_time": "2023-03-30T10:02:35.044Z"
   },
   {
    "duration": 237,
    "start_time": "2023-03-30T10:02:50.933Z"
   },
   {
    "duration": 197,
    "start_time": "2023-03-30T10:02:57.121Z"
   },
   {
    "duration": 207,
    "start_time": "2023-03-30T10:03:04.733Z"
   },
   {
    "duration": 870,
    "start_time": "2023-03-30T10:03:39.522Z"
   },
   {
    "duration": 1216,
    "start_time": "2023-03-30T10:03:59.661Z"
   },
   {
    "duration": 1084,
    "start_time": "2023-03-30T10:04:10.814Z"
   },
   {
    "duration": 1074,
    "start_time": "2023-03-30T10:04:29.875Z"
   },
   {
    "duration": 912,
    "start_time": "2023-03-30T10:04:58.826Z"
   },
   {
    "duration": 1094,
    "start_time": "2023-03-30T10:05:22.115Z"
   },
   {
    "duration": 1313,
    "start_time": "2023-03-30T10:05:26.515Z"
   },
   {
    "duration": 842,
    "start_time": "2023-03-30T10:05:50.566Z"
   },
   {
    "duration": 667,
    "start_time": "2023-03-30T10:07:14.619Z"
   },
   {
    "duration": 3120,
    "start_time": "2023-03-30T10:07:20.882Z"
   },
   {
    "duration": 4,
    "start_time": "2023-03-30T10:07:54.575Z"
   },
   {
    "duration": 185,
    "start_time": "2023-03-30T10:08:01.695Z"
   },
   {
    "duration": 24,
    "start_time": "2023-03-30T10:08:25.410Z"
   },
   {
    "duration": 18,
    "start_time": "2023-03-30T10:08:57.587Z"
   },
   {
    "duration": 19,
    "start_time": "2023-03-30T10:09:03.361Z"
   },
   {
    "duration": 871,
    "start_time": "2023-03-30T10:09:15.413Z"
   },
   {
    "duration": 238,
    "start_time": "2023-03-30T10:10:04.276Z"
   },
   {
    "duration": 320,
    "start_time": "2023-03-30T10:10:32.715Z"
   },
   {
    "duration": 320,
    "start_time": "2023-03-30T10:12:33.634Z"
   },
   {
    "duration": 264,
    "start_time": "2023-03-30T10:12:46.947Z"
   },
   {
    "duration": 255,
    "start_time": "2023-03-30T10:13:01.836Z"
   },
   {
    "duration": 651,
    "start_time": "2023-03-30T10:13:07.560Z"
   },
   {
    "duration": 590,
    "start_time": "2023-03-30T10:14:54.192Z"
   },
   {
    "duration": 30,
    "start_time": "2023-03-30T10:15:03.930Z"
   },
   {
    "duration": 694,
    "start_time": "2023-03-30T10:15:26.045Z"
   },
   {
    "duration": 1013,
    "start_time": "2023-03-30T10:15:34.456Z"
   },
   {
    "duration": 782,
    "start_time": "2023-03-30T10:15:53.756Z"
   },
   {
    "duration": 780,
    "start_time": "2023-03-30T10:15:58.556Z"
   },
   {
    "duration": 786,
    "start_time": "2023-03-30T10:16:01.419Z"
   },
   {
    "duration": 1032,
    "start_time": "2023-03-30T10:16:06.781Z"
   },
   {
    "duration": 708,
    "start_time": "2023-03-30T10:16:10.819Z"
   },
   {
    "duration": 1829,
    "start_time": "2023-03-30T10:17:01.534Z"
   },
   {
    "duration": 194,
    "start_time": "2023-03-30T10:17:11.121Z"
   },
   {
    "duration": 184,
    "start_time": "2023-03-30T10:17:58.049Z"
   },
   {
    "duration": 601,
    "start_time": "2023-03-30T10:18:11.711Z"
   },
   {
    "duration": 28,
    "start_time": "2023-03-30T10:18:19.937Z"
   },
   {
    "duration": 28,
    "start_time": "2023-03-30T10:19:13.416Z"
   },
   {
    "duration": 867,
    "start_time": "2023-03-30T10:19:19.065Z"
   },
   {
    "duration": 659,
    "start_time": "2023-03-30T10:19:34.853Z"
   },
   {
    "duration": 631,
    "start_time": "2023-03-30T10:19:46.754Z"
   },
   {
    "duration": 663,
    "start_time": "2023-03-30T10:19:57.990Z"
   },
   {
    "duration": 28,
    "start_time": "2023-03-30T10:20:07.741Z"
   },
   {
    "duration": 621,
    "start_time": "2023-03-30T10:20:11.129Z"
   },
   {
    "duration": 1034,
    "start_time": "2023-03-30T10:22:14.474Z"
   },
   {
    "duration": 220,
    "start_time": "2023-03-30T10:22:44.528Z"
   },
   {
    "duration": 264,
    "start_time": "2023-03-30T10:22:50.175Z"
   },
   {
    "duration": 74,
    "start_time": "2023-03-30T10:24:22.831Z"
   },
   {
    "duration": 1616,
    "start_time": "2023-03-30T10:24:26.730Z"
   },
   {
    "duration": 1519,
    "start_time": "2023-03-30T10:24:41.394Z"
   },
   {
    "duration": 1148,
    "start_time": "2023-03-30T10:25:08.144Z"
   },
   {
    "duration": 1148,
    "start_time": "2023-03-30T10:25:19.919Z"
   },
   {
    "duration": 175,
    "start_time": "2023-03-30T10:25:44.458Z"
   },
   {
    "duration": 868,
    "start_time": "2023-03-30T10:25:48.296Z"
   },
   {
    "duration": 194,
    "start_time": "2023-03-30T10:26:25.526Z"
   },
   {
    "duration": 945,
    "start_time": "2023-03-30T10:26:28.297Z"
   },
   {
    "duration": 983,
    "start_time": "2023-03-30T10:26:40.298Z"
   },
   {
    "duration": 1252,
    "start_time": "2023-03-30T10:26:45.685Z"
   },
   {
    "duration": 8,
    "start_time": "2023-03-30T10:28:20.224Z"
   },
   {
    "duration": 4,
    "start_time": "2023-03-30T10:29:18.088Z"
   },
   {
    "duration": 883,
    "start_time": "2023-03-30T10:29:18.426Z"
   },
   {
    "duration": 5,
    "start_time": "2023-03-30T10:29:30.664Z"
   },
   {
    "duration": 1244,
    "start_time": "2023-03-30T10:29:31.028Z"
   },
   {
    "duration": 7,
    "start_time": "2023-03-30T10:29:40.751Z"
   },
   {
    "duration": 898,
    "start_time": "2023-03-30T10:29:41.239Z"
   },
   {
    "duration": 5,
    "start_time": "2023-03-30T10:30:01.027Z"
   },
   {
    "duration": 1207,
    "start_time": "2023-03-30T10:30:01.403Z"
   },
   {
    "duration": 6,
    "start_time": "2023-03-30T10:30:10.366Z"
   },
   {
    "duration": 830,
    "start_time": "2023-03-30T10:30:10.705Z"
   },
   {
    "duration": 1830,
    "start_time": "2023-03-30T20:48:59.869Z"
   },
   {
    "duration": 5,
    "start_time": "2023-03-30T20:49:01.702Z"
   },
   {
    "duration": 89,
    "start_time": "2023-03-30T20:49:01.708Z"
   },
   {
    "duration": 14,
    "start_time": "2023-03-30T20:49:01.799Z"
   },
   {
    "duration": 35,
    "start_time": "2023-03-30T20:49:01.816Z"
   },
   {
    "duration": 31,
    "start_time": "2023-03-30T20:49:01.853Z"
   },
   {
    "duration": 48,
    "start_time": "2023-03-30T20:49:01.886Z"
   },
   {
    "duration": 8,
    "start_time": "2023-03-30T20:49:01.937Z"
   },
   {
    "duration": 40,
    "start_time": "2023-03-30T20:49:01.947Z"
   },
   {
    "duration": 9,
    "start_time": "2023-03-30T20:49:01.989Z"
   },
   {
    "duration": 27,
    "start_time": "2023-03-30T20:49:02.000Z"
   },
   {
    "duration": 23,
    "start_time": "2023-03-30T20:49:02.029Z"
   },
   {
    "duration": 1019,
    "start_time": "2023-03-30T20:49:02.053Z"
   },
   {
    "duration": 4,
    "start_time": "2023-03-30T20:49:44.324Z"
   },
   {
    "duration": 4,
    "start_time": "2023-03-30T20:51:03.315Z"
   },
   {
    "duration": 6,
    "start_time": "2023-03-30T20:51:54.406Z"
   },
   {
    "duration": 5,
    "start_time": "2023-03-30T20:53:04.082Z"
   },
   {
    "duration": 127,
    "start_time": "2023-03-30T20:54:03.721Z"
   },
   {
    "duration": 9,
    "start_time": "2023-03-30T20:54:21.521Z"
   },
   {
    "duration": 15,
    "start_time": "2023-03-30T20:54:35.641Z"
   },
   {
    "duration": 18,
    "start_time": "2023-03-30T20:54:52.410Z"
   },
   {
    "duration": 9,
    "start_time": "2023-03-30T20:54:59.597Z"
   },
   {
    "duration": 7,
    "start_time": "2023-03-30T20:55:11.471Z"
   },
   {
    "duration": 3,
    "start_time": "2023-03-30T20:55:17.821Z"
   },
   {
    "duration": 5,
    "start_time": "2023-03-30T20:55:30.887Z"
   },
   {
    "duration": 11,
    "start_time": "2023-03-30T20:55:51.235Z"
   },
   {
    "duration": 3,
    "start_time": "2023-03-30T20:55:58.548Z"
   },
   {
    "duration": 96,
    "start_time": "2023-03-30T20:57:23.250Z"
   },
   {
    "duration": 305,
    "start_time": "2023-03-30T20:57:26.564Z"
   },
   {
    "duration": 11,
    "start_time": "2023-03-30T20:57:35.251Z"
   },
   {
    "duration": 5,
    "start_time": "2023-03-30T20:57:43.139Z"
   },
   {
    "duration": 5,
    "start_time": "2023-03-30T20:57:46.214Z"
   },
   {
    "duration": 1390,
    "start_time": "2023-03-30T20:57:55.164Z"
   },
   {
    "duration": 3,
    "start_time": "2023-03-30T20:57:56.556Z"
   },
   {
    "duration": 27,
    "start_time": "2023-03-30T20:57:56.561Z"
   },
   {
    "duration": 14,
    "start_time": "2023-03-30T20:57:56.590Z"
   },
   {
    "duration": 4,
    "start_time": "2023-03-30T20:57:56.605Z"
   },
   {
    "duration": 5,
    "start_time": "2023-03-30T20:57:56.611Z"
   },
   {
    "duration": 17,
    "start_time": "2023-03-30T20:57:56.618Z"
   },
   {
    "duration": 6,
    "start_time": "2023-03-30T20:57:56.636Z"
   },
   {
    "duration": 35,
    "start_time": "2023-03-30T20:57:56.644Z"
   },
   {
    "duration": 6,
    "start_time": "2023-03-30T20:57:56.682Z"
   },
   {
    "duration": 37,
    "start_time": "2023-03-30T20:57:56.690Z"
   },
   {
    "duration": 8,
    "start_time": "2023-03-30T20:57:56.729Z"
   },
   {
    "duration": 931,
    "start_time": "2023-03-30T20:57:56.739Z"
   },
   {
    "duration": 3,
    "start_time": "2023-03-30T20:57:57.672Z"
   },
   {
    "duration": 7,
    "start_time": "2023-03-30T20:57:57.676Z"
   },
   {
    "duration": 9,
    "start_time": "2023-03-30T20:57:57.684Z"
   },
   {
    "duration": 12,
    "start_time": "2023-03-30T20:57:57.694Z"
   },
   {
    "duration": 18,
    "start_time": "2023-03-30T20:57:57.708Z"
   },
   {
    "duration": 5,
    "start_time": "2023-03-30T21:01:39.615Z"
   },
   {
    "duration": 6,
    "start_time": "2023-03-30T21:01:40.511Z"
   },
   {
    "duration": 7,
    "start_time": "2023-03-30T21:03:30.750Z"
   },
   {
    "duration": 116,
    "start_time": "2023-03-30T21:12:54.351Z"
   },
   {
    "duration": 1571,
    "start_time": "2023-03-30T21:13:09.280Z"
   },
   {
    "duration": 4,
    "start_time": "2023-03-30T21:13:10.853Z"
   },
   {
    "duration": 24,
    "start_time": "2023-03-30T21:13:10.858Z"
   },
   {
    "duration": 14,
    "start_time": "2023-03-30T21:13:10.884Z"
   },
   {
    "duration": 4,
    "start_time": "2023-03-30T21:13:10.901Z"
   },
   {
    "duration": 5,
    "start_time": "2023-03-30T21:13:10.923Z"
   },
   {
    "duration": 14,
    "start_time": "2023-03-30T21:13:10.930Z"
   },
   {
    "duration": 6,
    "start_time": "2023-03-30T21:13:10.946Z"
   },
   {
    "duration": 26,
    "start_time": "2023-03-30T21:13:10.953Z"
   },
   {
    "duration": 42,
    "start_time": "2023-03-30T21:13:10.981Z"
   },
   {
    "duration": 7,
    "start_time": "2023-03-30T21:13:11.025Z"
   },
   {
    "duration": 8,
    "start_time": "2023-03-30T21:13:11.034Z"
   },
   {
    "duration": 966,
    "start_time": "2023-03-30T21:13:11.043Z"
   },
   {
    "duration": 856,
    "start_time": "2023-03-30T21:13:12.012Z"
   },
   {
    "duration": 762,
    "start_time": "2023-03-30T21:13:17.689Z"
   },
   {
    "duration": 127,
    "start_time": "2023-03-30T21:13:28.626Z"
   },
   {
    "duration": 881,
    "start_time": "2023-03-30T21:13:35.928Z"
   },
   {
    "duration": 999,
    "start_time": "2023-03-30T21:13:49.777Z"
   },
   {
    "duration": 991,
    "start_time": "2023-03-30T21:14:01.525Z"
   },
   {
    "duration": 853,
    "start_time": "2023-03-30T21:14:10.704Z"
   },
   {
    "duration": 1063,
    "start_time": "2023-03-30T21:15:01.143Z"
   },
   {
    "duration": 915,
    "start_time": "2023-03-30T21:15:10.554Z"
   },
   {
    "duration": 3,
    "start_time": "2023-03-30T21:17:38.972Z"
   },
   {
    "duration": 50,
    "start_time": "2023-03-30T21:18:36.125Z"
   },
   {
    "duration": 1883,
    "start_time": "2023-03-30T21:18:46.624Z"
   },
   {
    "duration": 3,
    "start_time": "2023-03-30T21:18:48.510Z"
   },
   {
    "duration": 37,
    "start_time": "2023-03-30T21:18:48.515Z"
   },
   {
    "duration": 16,
    "start_time": "2023-03-30T21:18:48.554Z"
   },
   {
    "duration": 12,
    "start_time": "2023-03-30T21:18:48.572Z"
   },
   {
    "duration": 9,
    "start_time": "2023-03-30T21:18:48.588Z"
   },
   {
    "duration": 26,
    "start_time": "2023-03-30T21:18:48.598Z"
   },
   {
    "duration": 20,
    "start_time": "2023-03-30T21:18:48.625Z"
   },
   {
    "duration": 35,
    "start_time": "2023-03-30T21:18:48.647Z"
   },
   {
    "duration": 6,
    "start_time": "2023-03-30T21:18:48.685Z"
   },
   {
    "duration": 19,
    "start_time": "2023-03-30T21:18:48.693Z"
   },
   {
    "duration": 20,
    "start_time": "2023-03-30T21:18:48.714Z"
   },
   {
    "duration": 1019,
    "start_time": "2023-03-30T21:18:48.737Z"
   },
   {
    "duration": 1106,
    "start_time": "2023-03-30T21:18:49.758Z"
   },
   {
    "duration": 3,
    "start_time": "2023-03-30T21:18:50.866Z"
   },
   {
    "duration": 18,
    "start_time": "2023-03-30T21:18:50.871Z"
   },
   {
    "duration": 13,
    "start_time": "2023-03-30T21:18:50.891Z"
   },
   {
    "duration": 15,
    "start_time": "2023-03-30T21:18:50.905Z"
   },
   {
    "duration": 18,
    "start_time": "2023-03-30T21:18:50.922Z"
   },
   {
    "duration": 19,
    "start_time": "2023-03-30T21:18:50.942Z"
   },
   {
    "duration": 12,
    "start_time": "2023-03-30T21:18:50.963Z"
   },
   {
    "duration": 6,
    "start_time": "2023-03-30T21:19:20.224Z"
   },
   {
    "duration": 4,
    "start_time": "2023-03-30T21:20:40.804Z"
   },
   {
    "duration": 4,
    "start_time": "2023-03-30T21:22:11.209Z"
   },
   {
    "duration": 5,
    "start_time": "2023-03-30T21:22:13.820Z"
   },
   {
    "duration": 181,
    "start_time": "2023-03-30T21:22:43.965Z"
   },
   {
    "duration": 1963,
    "start_time": "2023-03-30T21:22:56.842Z"
   },
   {
    "duration": 4,
    "start_time": "2023-03-30T21:22:58.807Z"
   },
   {
    "duration": 39,
    "start_time": "2023-03-30T21:22:58.813Z"
   },
   {
    "duration": 16,
    "start_time": "2023-03-30T21:22:58.854Z"
   },
   {
    "duration": 4,
    "start_time": "2023-03-30T21:22:58.872Z"
   },
   {
    "duration": 6,
    "start_time": "2023-03-30T21:22:58.878Z"
   },
   {
    "duration": 13,
    "start_time": "2023-03-30T21:22:58.886Z"
   },
   {
    "duration": 5,
    "start_time": "2023-03-30T21:22:58.901Z"
   },
   {
    "duration": 47,
    "start_time": "2023-03-30T21:22:58.908Z"
   },
   {
    "duration": 9,
    "start_time": "2023-03-30T21:22:58.959Z"
   },
   {
    "duration": 6,
    "start_time": "2023-03-30T21:22:58.970Z"
   },
   {
    "duration": 8,
    "start_time": "2023-03-30T21:22:58.978Z"
   },
   {
    "duration": 1106,
    "start_time": "2023-03-30T21:22:58.988Z"
   },
   {
    "duration": 1160,
    "start_time": "2023-03-30T21:23:00.096Z"
   },
   {
    "duration": 4,
    "start_time": "2023-03-30T21:23:01.257Z"
   },
   {
    "duration": 20,
    "start_time": "2023-03-30T21:23:01.263Z"
   },
   {
    "duration": 53,
    "start_time": "2023-03-30T21:23:01.285Z"
   },
   {
    "duration": 26,
    "start_time": "2023-03-30T21:23:01.340Z"
   },
   {
    "duration": 61,
    "start_time": "2023-03-30T21:23:01.368Z"
   },
   {
    "duration": 29,
    "start_time": "2023-03-30T21:23:01.431Z"
   },
   {
    "duration": 45,
    "start_time": "2023-03-30T21:23:01.462Z"
   },
   {
    "duration": 28,
    "start_time": "2023-03-30T21:23:01.509Z"
   },
   {
    "duration": 150,
    "start_time": "2023-03-30T21:26:05.293Z"
   },
   {
    "duration": 8,
    "start_time": "2023-03-30T21:26:10.432Z"
   },
   {
    "duration": 5,
    "start_time": "2023-03-30T21:26:25.556Z"
   },
   {
    "duration": 76,
    "start_time": "2023-03-30T21:27:54.986Z"
   },
   {
    "duration": 6,
    "start_time": "2023-03-30T21:28:01.586Z"
   },
   {
    "duration": 4,
    "start_time": "2023-03-30T21:28:46.888Z"
   },
   {
    "duration": 5,
    "start_time": "2023-03-30T21:29:00.563Z"
   },
   {
    "duration": 5,
    "start_time": "2023-03-30T21:30:01.403Z"
   },
   {
    "duration": 4,
    "start_time": "2023-03-30T21:31:30.138Z"
   },
   {
    "duration": 4,
    "start_time": "2023-03-30T21:31:44.571Z"
   },
   {
    "duration": 3,
    "start_time": "2023-03-30T21:32:38.399Z"
   },
   {
    "duration": 10,
    "start_time": "2023-03-30T21:33:05.676Z"
   },
   {
    "duration": 14,
    "start_time": "2023-03-30T21:33:08.613Z"
   },
   {
    "duration": 3,
    "start_time": "2023-03-30T21:33:21.477Z"
   },
   {
    "duration": 23,
    "start_time": "2023-03-30T21:33:22.117Z"
   },
   {
    "duration": 4,
    "start_time": "2023-03-30T21:33:37.265Z"
   },
   {
    "duration": 24,
    "start_time": "2023-03-30T21:33:38.202Z"
   },
   {
    "duration": 3,
    "start_time": "2023-03-30T21:33:42.128Z"
   },
   {
    "duration": 23,
    "start_time": "2023-03-30T21:33:42.702Z"
   },
   {
    "duration": 7,
    "start_time": "2023-03-30T21:34:53.968Z"
   },
   {
    "duration": 21,
    "start_time": "2023-03-30T21:35:02.543Z"
   },
   {
    "duration": 5,
    "start_time": "2023-03-30T21:35:07.394Z"
   },
   {
    "duration": 4,
    "start_time": "2023-03-30T21:35:08.313Z"
   },
   {
    "duration": 23,
    "start_time": "2023-03-30T21:35:09.060Z"
   },
   {
    "duration": 1999,
    "start_time": "2023-03-30T21:38:22.819Z"
   },
   {
    "duration": 5,
    "start_time": "2023-03-30T21:38:24.820Z"
   },
   {
    "duration": 29,
    "start_time": "2023-03-30T21:38:24.828Z"
   },
   {
    "duration": 20,
    "start_time": "2023-03-30T21:38:24.859Z"
   },
   {
    "duration": 4,
    "start_time": "2023-03-30T21:38:24.883Z"
   },
   {
    "duration": 6,
    "start_time": "2023-03-30T21:38:24.889Z"
   },
   {
    "duration": 38,
    "start_time": "2023-03-30T21:38:24.897Z"
   },
   {
    "duration": 6,
    "start_time": "2023-03-30T21:38:24.938Z"
   },
   {
    "duration": 42,
    "start_time": "2023-03-30T21:38:24.947Z"
   },
   {
    "duration": 39,
    "start_time": "2023-03-30T21:38:24.991Z"
   },
   {
    "duration": 9,
    "start_time": "2023-03-30T21:38:25.033Z"
   },
   {
    "duration": 11,
    "start_time": "2023-03-30T21:38:25.045Z"
   },
   {
    "duration": 1172,
    "start_time": "2023-03-30T21:38:25.061Z"
   },
   {
    "duration": 1051,
    "start_time": "2023-03-30T21:38:26.237Z"
   },
   {
    "duration": 4,
    "start_time": "2023-03-30T21:38:27.289Z"
   },
   {
    "duration": 12,
    "start_time": "2023-03-30T21:38:27.295Z"
   },
   {
    "duration": 6,
    "start_time": "2023-03-30T21:38:27.309Z"
   },
   {
    "duration": 13,
    "start_time": "2023-03-30T21:38:27.317Z"
   },
   {
    "duration": 9,
    "start_time": "2023-03-30T21:38:27.333Z"
   },
   {
    "duration": 11,
    "start_time": "2023-03-30T21:38:27.344Z"
   },
   {
    "duration": 13,
    "start_time": "2023-03-30T21:38:27.357Z"
   },
   {
    "duration": 19,
    "start_time": "2023-03-30T21:38:27.372Z"
   },
   {
    "duration": 31,
    "start_time": "2023-03-30T21:38:27.393Z"
   },
   {
    "duration": 4,
    "start_time": "2023-03-30T21:38:51.699Z"
   },
   {
    "duration": 151,
    "start_time": "2023-03-30T21:38:54.438Z"
   },
   {
    "duration": 18,
    "start_time": "2023-03-30T21:38:59.611Z"
   },
   {
    "duration": 1963,
    "start_time": "2023-03-31T21:18:12.487Z"
   },
   {
    "duration": 4,
    "start_time": "2023-03-31T21:18:14.452Z"
   },
   {
    "duration": 91,
    "start_time": "2023-03-31T21:18:14.457Z"
   },
   {
    "duration": 12,
    "start_time": "2023-03-31T21:18:14.551Z"
   },
   {
    "duration": 4,
    "start_time": "2023-03-31T21:18:14.564Z"
   },
   {
    "duration": 8,
    "start_time": "2023-03-31T21:18:14.569Z"
   },
   {
    "duration": 13,
    "start_time": "2023-03-31T21:18:14.579Z"
   },
   {
    "duration": 7,
    "start_time": "2023-03-31T21:18:14.593Z"
   },
   {
    "duration": 33,
    "start_time": "2023-03-31T21:18:14.602Z"
   },
   {
    "duration": 9,
    "start_time": "2023-03-31T21:18:14.638Z"
   },
   {
    "duration": 7,
    "start_time": "2023-03-31T21:18:14.649Z"
   },
   {
    "duration": 10,
    "start_time": "2023-03-31T21:18:14.657Z"
   },
   {
    "duration": 910,
    "start_time": "2023-03-31T21:18:14.669Z"
   },
   {
    "duration": 875,
    "start_time": "2023-03-31T21:18:15.580Z"
   },
   {
    "duration": 3,
    "start_time": "2023-03-31T21:18:16.457Z"
   },
   {
    "duration": 7,
    "start_time": "2023-03-31T21:18:16.461Z"
   },
   {
    "duration": 10,
    "start_time": "2023-03-31T21:18:16.469Z"
   },
   {
    "duration": 7,
    "start_time": "2023-03-31T21:18:16.481Z"
   },
   {
    "duration": 8,
    "start_time": "2023-03-31T21:18:16.490Z"
   },
   {
    "duration": 7,
    "start_time": "2023-03-31T21:18:16.499Z"
   },
   {
    "duration": 6,
    "start_time": "2023-03-31T21:18:16.507Z"
   },
   {
    "duration": 12,
    "start_time": "2023-03-31T21:18:16.515Z"
   },
   {
    "duration": 8,
    "start_time": "2023-03-31T21:18:16.528Z"
   },
   {
    "duration": 8,
    "start_time": "2023-03-31T21:18:16.537Z"
   },
   {
    "duration": 11,
    "start_time": "2023-03-31T21:18:16.547Z"
   },
   {
    "duration": 9,
    "start_time": "2023-03-31T21:18:16.560Z"
   },
   {
    "duration": 14,
    "start_time": "2023-03-31T21:18:16.570Z"
   },
   {
    "duration": 13,
    "start_time": "2023-03-31T21:18:16.588Z"
   },
   {
    "duration": 12,
    "start_time": "2023-03-31T21:18:16.603Z"
   },
   {
    "duration": 20,
    "start_time": "2023-03-31T21:18:16.617Z"
   },
   {
    "duration": 23,
    "start_time": "2023-03-31T21:18:16.639Z"
   },
   {
    "duration": 8,
    "start_time": "2023-03-31T21:18:16.664Z"
   },
   {
    "duration": 17,
    "start_time": "2023-03-31T21:18:16.673Z"
   },
   {
    "duration": 4,
    "start_time": "2023-03-31T21:18:16.691Z"
   },
   {
    "duration": 5,
    "start_time": "2023-03-31T21:18:16.696Z"
   },
   {
    "duration": 19,
    "start_time": "2023-03-31T21:18:16.703Z"
   },
   {
    "duration": 23,
    "start_time": "2023-03-31T21:18:16.723Z"
   },
   {
    "duration": 4,
    "start_time": "2023-03-31T21:18:16.748Z"
   },
   {
    "duration": 5,
    "start_time": "2023-03-31T21:18:16.754Z"
   },
   {
    "duration": 7,
    "start_time": "2023-03-31T21:18:16.760Z"
   },
   {
    "duration": 9,
    "start_time": "2023-03-31T21:18:16.769Z"
   },
   {
    "duration": 13,
    "start_time": "2023-03-31T21:18:16.779Z"
   },
   {
    "duration": 4,
    "start_time": "2023-03-31T21:18:50.691Z"
   },
   {
    "duration": 3,
    "start_time": "2023-03-31T21:18:53.954Z"
   },
   {
    "duration": 3,
    "start_time": "2023-03-31T21:19:41.430Z"
   },
   {
    "duration": 3,
    "start_time": "2023-03-31T21:21:23.034Z"
   },
   {
    "duration": 126,
    "start_time": "2023-03-31T21:23:07.246Z"
   },
   {
    "duration": 3,
    "start_time": "2023-03-31T21:23:23.735Z"
   },
   {
    "duration": 3,
    "start_time": "2023-03-31T21:23:27.397Z"
   },
   {
    "duration": 5,
    "start_time": "2023-03-31T21:25:05.888Z"
   },
   {
    "duration": 4,
    "start_time": "2023-03-31T21:25:11.927Z"
   },
   {
    "duration": 3,
    "start_time": "2023-03-31T21:25:13.814Z"
   },
   {
    "duration": 4,
    "start_time": "2023-03-31T21:25:14.100Z"
   },
   {
    "duration": 72,
    "start_time": "2023-03-31T21:25:31.581Z"
   },
   {
    "duration": 24,
    "start_time": "2023-03-31T21:25:53.954Z"
   },
   {
    "duration": 26,
    "start_time": "2023-03-31T21:26:29.912Z"
   },
   {
    "duration": 26,
    "start_time": "2023-03-31T21:26:42.730Z"
   },
   {
    "duration": 10,
    "start_time": "2023-03-31T21:27:03.956Z"
   },
   {
    "duration": 1683,
    "start_time": "2023-03-31T21:27:10.666Z"
   },
   {
    "duration": 4,
    "start_time": "2023-03-31T21:27:12.351Z"
   },
   {
    "duration": 33,
    "start_time": "2023-03-31T21:27:12.356Z"
   },
   {
    "duration": 13,
    "start_time": "2023-03-31T21:27:12.391Z"
   },
   {
    "duration": 13,
    "start_time": "2023-03-31T21:27:12.406Z"
   },
   {
    "duration": 9,
    "start_time": "2023-03-31T21:27:12.420Z"
   },
   {
    "duration": 27,
    "start_time": "2023-03-31T21:27:12.430Z"
   },
   {
    "duration": 7,
    "start_time": "2023-03-31T21:27:12.459Z"
   },
   {
    "duration": 29,
    "start_time": "2023-03-31T21:27:12.468Z"
   },
   {
    "duration": 6,
    "start_time": "2023-03-31T21:27:12.498Z"
   },
   {
    "duration": 17,
    "start_time": "2023-03-31T21:27:12.506Z"
   },
   {
    "duration": 28,
    "start_time": "2023-03-31T21:27:12.525Z"
   },
   {
    "duration": 887,
    "start_time": "2023-03-31T21:27:12.555Z"
   },
   {
    "duration": 825,
    "start_time": "2023-03-31T21:27:13.446Z"
   },
   {
    "duration": 3,
    "start_time": "2023-03-31T21:27:14.274Z"
   },
   {
    "duration": 10,
    "start_time": "2023-03-31T21:27:14.279Z"
   },
   {
    "duration": 8,
    "start_time": "2023-03-31T21:27:14.291Z"
   },
   {
    "duration": 5,
    "start_time": "2023-03-31T21:27:14.300Z"
   },
   {
    "duration": 7,
    "start_time": "2023-03-31T21:27:14.306Z"
   },
   {
    "duration": 7,
    "start_time": "2023-03-31T21:27:14.315Z"
   },
   {
    "duration": 6,
    "start_time": "2023-03-31T21:27:14.324Z"
   },
   {
    "duration": 15,
    "start_time": "2023-03-31T21:27:14.331Z"
   },
   {
    "duration": 6,
    "start_time": "2023-03-31T21:27:14.347Z"
   },
   {
    "duration": 10,
    "start_time": "2023-03-31T21:27:14.354Z"
   },
   {
    "duration": 15,
    "start_time": "2023-03-31T21:27:14.365Z"
   },
   {
    "duration": 13,
    "start_time": "2023-03-31T21:27:14.382Z"
   },
   {
    "duration": 17,
    "start_time": "2023-03-31T21:27:14.396Z"
   },
   {
    "duration": 9,
    "start_time": "2023-03-31T21:27:14.415Z"
   },
   {
    "duration": 24,
    "start_time": "2023-03-31T21:27:14.425Z"
   },
   {
    "duration": 39,
    "start_time": "2023-03-31T21:27:14.451Z"
   },
   {
    "duration": 6,
    "start_time": "2023-03-31T21:27:14.491Z"
   },
   {
    "duration": 7,
    "start_time": "2023-03-31T21:27:14.499Z"
   },
   {
    "duration": 11,
    "start_time": "2023-03-31T21:27:14.508Z"
   },
   {
    "duration": 6,
    "start_time": "2023-03-31T21:27:14.521Z"
   },
   {
    "duration": 5,
    "start_time": "2023-03-31T21:27:14.528Z"
   },
   {
    "duration": 38,
    "start_time": "2023-03-31T21:27:14.535Z"
   },
   {
    "duration": 38,
    "start_time": "2023-03-31T21:27:14.575Z"
   },
   {
    "duration": 14,
    "start_time": "2023-03-31T21:27:14.615Z"
   },
   {
    "duration": 3,
    "start_time": "2023-03-31T21:27:19.857Z"
   },
   {
    "duration": 6,
    "start_time": "2023-03-31T21:27:20.310Z"
   },
   {
    "duration": 6,
    "start_time": "2023-03-31T21:27:20.994Z"
   },
   {
    "duration": 3,
    "start_time": "2023-03-31T21:27:22.506Z"
   },
   {
    "duration": 3,
    "start_time": "2023-03-31T21:27:23.019Z"
   },
   {
    "duration": 4,
    "start_time": "2023-03-31T21:27:23.895Z"
   },
   {
    "duration": 3,
    "start_time": "2023-03-31T21:27:24.419Z"
   },
   {
    "duration": 16,
    "start_time": "2023-03-31T21:27:25.506Z"
   },
   {
    "duration": 6,
    "start_time": "2023-03-31T21:27:32.583Z"
   },
   {
    "duration": 26,
    "start_time": "2023-03-31T21:28:07.495Z"
   },
   {
    "duration": 92,
    "start_time": "2023-03-31T21:28:19.658Z"
   },
   {
    "duration": 226,
    "start_time": "2023-03-31T21:28:34.622Z"
   },
   {
    "duration": 271,
    "start_time": "2023-03-31T21:28:40.675Z"
   },
   {
    "duration": 68,
    "start_time": "2023-03-31T21:29:00.385Z"
   },
   {
    "duration": 107,
    "start_time": "2023-03-31T21:29:57.337Z"
   },
   {
    "duration": 40,
    "start_time": "2023-03-31T21:30:45.218Z"
   },
   {
    "duration": 106,
    "start_time": "2023-03-31T21:31:02.343Z"
   },
   {
    "duration": 128,
    "start_time": "2023-03-31T21:31:40.718Z"
   },
   {
    "duration": 20,
    "start_time": "2023-03-31T21:31:47.595Z"
   },
   {
    "duration": 5,
    "start_time": "2023-03-31T21:32:06.855Z"
   },
   {
    "duration": 5,
    "start_time": "2023-03-31T21:32:12.056Z"
   },
   {
    "duration": 4,
    "start_time": "2023-03-31T21:32:12.429Z"
   },
   {
    "duration": 6,
    "start_time": "2023-03-31T21:32:13.005Z"
   },
   {
    "duration": 2,
    "start_time": "2023-03-31T21:32:14.143Z"
   },
   {
    "duration": 4,
    "start_time": "2023-03-31T21:32:14.767Z"
   },
   {
    "duration": 4,
    "start_time": "2023-03-31T21:32:14.959Z"
   },
   {
    "duration": 3,
    "start_time": "2023-03-31T21:32:15.144Z"
   },
   {
    "duration": 17,
    "start_time": "2023-03-31T21:32:15.305Z"
   },
   {
    "duration": 5,
    "start_time": "2023-03-31T21:32:31.381Z"
   },
   {
    "duration": 6,
    "start_time": "2023-03-31T21:32:31.781Z"
   },
   {
    "duration": 2,
    "start_time": "2023-03-31T21:32:32.749Z"
   },
   {
    "duration": 3,
    "start_time": "2023-03-31T21:32:32.818Z"
   },
   {
    "duration": 3,
    "start_time": "2023-03-31T21:32:33.044Z"
   },
   {
    "duration": 4,
    "start_time": "2023-03-31T21:32:33.218Z"
   },
   {
    "duration": 41,
    "start_time": "2023-03-31T21:32:33.444Z"
   },
   {
    "duration": 66,
    "start_time": "2023-03-31T21:32:46.007Z"
   },
   {
    "duration": 103,
    "start_time": "2023-03-31T21:32:55.407Z"
   },
   {
    "duration": 70,
    "start_time": "2023-03-31T21:33:01.707Z"
   },
   {
    "duration": 5,
    "start_time": "2023-03-31T21:33:16.382Z"
   },
   {
    "duration": 4,
    "start_time": "2023-03-31T21:34:03.535Z"
   },
   {
    "duration": 7,
    "start_time": "2023-03-31T21:34:04.135Z"
   },
   {
    "duration": 3,
    "start_time": "2023-03-31T21:34:05.810Z"
   },
   {
    "duration": 4,
    "start_time": "2023-03-31T21:34:07.710Z"
   },
   {
    "duration": 5,
    "start_time": "2023-03-31T21:34:09.836Z"
   },
   {
    "duration": 5,
    "start_time": "2023-03-31T21:34:20.510Z"
   },
   {
    "duration": 4,
    "start_time": "2023-03-31T21:34:42.088Z"
   },
   {
    "duration": 5,
    "start_time": "2023-03-31T21:34:42.687Z"
   },
   {
    "duration": 4,
    "start_time": "2023-03-31T21:34:46.261Z"
   },
   {
    "duration": 5,
    "start_time": "2023-03-31T21:34:46.524Z"
   },
   {
    "duration": 4,
    "start_time": "2023-03-31T21:34:56.113Z"
   },
   {
    "duration": 5,
    "start_time": "2023-03-31T21:34:57.064Z"
   },
   {
    "duration": 4,
    "start_time": "2023-03-31T21:35:06.575Z"
   },
   {
    "duration": 5,
    "start_time": "2023-03-31T21:35:06.749Z"
   },
   {
    "duration": 5,
    "start_time": "2023-03-31T21:35:39.901Z"
   },
   {
    "duration": 4,
    "start_time": "2023-03-31T21:36:05.792Z"
   },
   {
    "duration": 5,
    "start_time": "2023-03-31T21:36:09.930Z"
   },
   {
    "duration": 4,
    "start_time": "2023-03-31T21:37:14.784Z"
   },
   {
    "duration": 4,
    "start_time": "2023-03-31T21:37:15.083Z"
   },
   {
    "duration": 4,
    "start_time": "2023-03-31T21:37:27.032Z"
   },
   {
    "duration": 4,
    "start_time": "2023-03-31T21:37:27.591Z"
   },
   {
    "duration": 10,
    "start_time": "2023-03-31T21:37:33.382Z"
   },
   {
    "duration": 5,
    "start_time": "2023-03-31T21:37:34.668Z"
   },
   {
    "duration": 8,
    "start_time": "2023-03-31T21:37:34.904Z"
   },
   {
    "duration": 4,
    "start_time": "2023-03-31T21:37:48.730Z"
   },
   {
    "duration": 5,
    "start_time": "2023-03-31T21:37:50.706Z"
   },
   {
    "duration": 4,
    "start_time": "2023-03-31T21:37:58.341Z"
   },
   {
    "duration": 4,
    "start_time": "2023-03-31T21:37:58.743Z"
   },
   {
    "duration": 4,
    "start_time": "2023-03-31T21:38:27.691Z"
   },
   {
    "duration": 6,
    "start_time": "2023-03-31T21:38:28.043Z"
   },
   {
    "duration": 3,
    "start_time": "2023-03-31T21:39:35.622Z"
   },
   {
    "duration": 3,
    "start_time": "2023-03-31T21:39:36.122Z"
   },
   {
    "duration": 4,
    "start_time": "2023-03-31T21:39:44.135Z"
   },
   {
    "duration": 4,
    "start_time": "2023-03-31T21:39:44.360Z"
   },
   {
    "duration": 1926,
    "start_time": "2023-03-31T21:40:21.243Z"
   },
   {
    "duration": 4,
    "start_time": "2023-03-31T21:40:23.171Z"
   },
   {
    "duration": 32,
    "start_time": "2023-03-31T21:40:23.176Z"
   },
   {
    "duration": 11,
    "start_time": "2023-03-31T21:40:23.210Z"
   },
   {
    "duration": 3,
    "start_time": "2023-03-31T21:40:23.222Z"
   },
   {
    "duration": 7,
    "start_time": "2023-03-31T21:40:23.227Z"
   },
   {
    "duration": 13,
    "start_time": "2023-03-31T21:40:23.235Z"
   },
   {
    "duration": 7,
    "start_time": "2023-03-31T21:40:23.249Z"
   },
   {
    "duration": 26,
    "start_time": "2023-03-31T21:40:23.257Z"
   },
   {
    "duration": 5,
    "start_time": "2023-03-31T21:40:23.285Z"
   },
   {
    "duration": 9,
    "start_time": "2023-03-31T21:40:23.291Z"
   },
   {
    "duration": 8,
    "start_time": "2023-03-31T21:40:23.302Z"
   },
   {
    "duration": 845,
    "start_time": "2023-03-31T21:40:23.311Z"
   },
   {
    "duration": 866,
    "start_time": "2023-03-31T21:40:24.157Z"
   },
   {
    "duration": 3,
    "start_time": "2023-03-31T21:40:25.025Z"
   },
   {
    "duration": 19,
    "start_time": "2023-03-31T21:40:25.029Z"
   },
   {
    "duration": 6,
    "start_time": "2023-03-31T21:40:25.049Z"
   },
   {
    "duration": 14,
    "start_time": "2023-03-31T21:40:25.056Z"
   },
   {
    "duration": 6,
    "start_time": "2023-03-31T21:40:25.071Z"
   },
   {
    "duration": 9,
    "start_time": "2023-03-31T21:40:25.079Z"
   },
   {
    "duration": 15,
    "start_time": "2023-03-31T21:40:25.089Z"
   },
   {
    "duration": 18,
    "start_time": "2023-03-31T21:40:25.105Z"
   },
   {
    "duration": 6,
    "start_time": "2023-03-31T21:40:25.125Z"
   },
   {
    "duration": 12,
    "start_time": "2023-03-31T21:40:25.133Z"
   },
   {
    "duration": 6,
    "start_time": "2023-03-31T21:40:25.146Z"
   },
   {
    "duration": 5,
    "start_time": "2023-03-31T21:40:25.154Z"
   },
   {
    "duration": 4,
    "start_time": "2023-03-31T21:40:25.161Z"
   },
   {
    "duration": 4,
    "start_time": "2023-03-31T21:40:25.169Z"
   },
   {
    "duration": 13,
    "start_time": "2023-03-31T21:40:25.175Z"
   },
   {
    "duration": 3,
    "start_time": "2023-03-31T21:40:25.190Z"
   },
   {
    "duration": 5,
    "start_time": "2023-03-31T21:40:25.195Z"
   },
   {
    "duration": 7,
    "start_time": "2023-03-31T21:40:25.202Z"
   },
   {
    "duration": 33,
    "start_time": "2023-03-31T21:40:25.211Z"
   },
   {
    "duration": 5,
    "start_time": "2023-03-31T21:40:25.246Z"
   },
   {
    "duration": 7,
    "start_time": "2023-03-31T21:40:25.252Z"
   },
   {
    "duration": 19,
    "start_time": "2023-03-31T21:40:25.261Z"
   },
   {
    "duration": 26,
    "start_time": "2023-03-31T21:40:25.282Z"
   },
   {
    "duration": 7,
    "start_time": "2023-03-31T21:40:25.309Z"
   },
   {
    "duration": 19,
    "start_time": "2023-03-31T21:40:25.317Z"
   },
   {
    "duration": 13,
    "start_time": "2023-03-31T21:40:25.337Z"
   },
   {
    "duration": 9,
    "start_time": "2023-03-31T21:40:25.352Z"
   },
   {
    "duration": 1321,
    "start_time": "2023-03-31T21:40:25.723Z"
   },
   {
    "duration": 53,
    "start_time": "2023-03-31T21:40:39.287Z"
   },
   {
    "duration": 371,
    "start_time": "2023-03-31T21:40:47.929Z"
   },
   {
    "duration": 398,
    "start_time": "2023-03-31T21:41:19.039Z"
   },
   {
    "duration": 383,
    "start_time": "2023-03-31T21:41:47.428Z"
   },
   {
    "duration": 296,
    "start_time": "2023-03-31T21:42:05.104Z"
   },
   {
    "duration": 311,
    "start_time": "2023-03-31T21:42:27.105Z"
   },
   {
    "duration": 318,
    "start_time": "2023-03-31T21:42:32.872Z"
   },
   {
    "duration": 298,
    "start_time": "2023-03-31T21:42:38.253Z"
   },
   {
    "duration": 316,
    "start_time": "2023-03-31T21:42:45.003Z"
   },
   {
    "duration": 304,
    "start_time": "2023-03-31T21:42:50.241Z"
   },
   {
    "duration": 277,
    "start_time": "2023-03-31T21:44:54.559Z"
   },
   {
    "duration": 337,
    "start_time": "2023-03-31T21:45:05.048Z"
   },
   {
    "duration": 501,
    "start_time": "2023-03-31T21:45:27.421Z"
   },
   {
    "duration": 122,
    "start_time": "2023-03-31T21:45:54.988Z"
   },
   {
    "duration": 559,
    "start_time": "2023-03-31T21:46:08.050Z"
   },
   {
    "duration": 581,
    "start_time": "2023-03-31T21:46:11.787Z"
   },
   {
    "duration": 583,
    "start_time": "2023-03-31T21:46:28.698Z"
   },
   {
    "duration": 525,
    "start_time": "2023-03-31T21:46:31.124Z"
   },
   {
    "duration": 11,
    "start_time": "2023-03-31T21:54:01.940Z"
   },
   {
    "duration": 11,
    "start_time": "2023-03-31T21:54:05.791Z"
   },
   {
    "duration": 11,
    "start_time": "2023-03-31T21:54:12.027Z"
   },
   {
    "duration": 5,
    "start_time": "2023-03-31T21:54:17.504Z"
   },
   {
    "duration": 4,
    "start_time": "2023-03-31T21:54:28.110Z"
   },
   {
    "duration": 5,
    "start_time": "2023-03-31T21:54:39.067Z"
   },
   {
    "duration": 6,
    "start_time": "2023-03-31T21:54:45.029Z"
   },
   {
    "duration": 175,
    "start_time": "2023-03-31T22:00:02.392Z"
   },
   {
    "duration": 66,
    "start_time": "2023-03-31T22:00:35.830Z"
   },
   {
    "duration": 13,
    "start_time": "2023-03-31T22:00:38.292Z"
   },
   {
    "duration": 12,
    "start_time": "2023-03-31T22:01:37.356Z"
   },
   {
    "duration": 3,
    "start_time": "2023-03-31T22:01:41.228Z"
   },
   {
    "duration": 530,
    "start_time": "2023-03-31T22:01:43.444Z"
   },
   {
    "duration": 4,
    "start_time": "2023-03-31T22:02:52.860Z"
   },
   {
    "duration": 5,
    "start_time": "2023-03-31T22:02:56.235Z"
   },
   {
    "duration": 4,
    "start_time": "2023-03-31T22:03:02.316Z"
   },
   {
    "duration": 4,
    "start_time": "2023-03-31T22:03:19.647Z"
   },
   {
    "duration": 3,
    "start_time": "2023-03-31T22:04:33.149Z"
   },
   {
    "duration": 526,
    "start_time": "2023-03-31T22:04:48.688Z"
   },
   {
    "duration": 5,
    "start_time": "2023-03-31T22:04:55.313Z"
   },
   {
    "duration": 5,
    "start_time": "2023-03-31T22:05:03.179Z"
   },
   {
    "duration": 12,
    "start_time": "2023-03-31T22:05:31.276Z"
   },
   {
    "duration": 118,
    "start_time": "2023-03-31T22:17:39.843Z"
   },
   {
    "duration": 5,
    "start_time": "2023-03-31T22:17:50.145Z"
   },
   {
    "duration": 6,
    "start_time": "2023-03-31T22:22:26.191Z"
   },
   {
    "duration": 22,
    "start_time": "2023-03-31T22:23:40.469Z"
   },
   {
    "duration": 13,
    "start_time": "2023-03-31T22:24:17.910Z"
   },
   {
    "duration": 4,
    "start_time": "2023-03-31T22:24:33.447Z"
   },
   {
    "duration": 14,
    "start_time": "2023-03-31T22:24:49.135Z"
   },
   {
    "duration": 4,
    "start_time": "2023-03-31T22:24:52.484Z"
   },
   {
    "duration": 5,
    "start_time": "2023-03-31T22:25:12.686Z"
   },
   {
    "duration": 16,
    "start_time": "2023-03-31T22:25:37.001Z"
   },
   {
    "duration": 5,
    "start_time": "2023-03-31T22:25:52.587Z"
   },
   {
    "duration": 17,
    "start_time": "2023-03-31T22:25:55.363Z"
   },
   {
    "duration": 15,
    "start_time": "2023-03-31T22:26:07.363Z"
   },
   {
    "duration": 1801,
    "start_time": "2023-03-31T22:26:33.121Z"
   },
   {
    "duration": 3,
    "start_time": "2023-03-31T22:26:34.925Z"
   },
   {
    "duration": 38,
    "start_time": "2023-03-31T22:26:34.930Z"
   },
   {
    "duration": 12,
    "start_time": "2023-03-31T22:26:34.970Z"
   },
   {
    "duration": 4,
    "start_time": "2023-03-31T22:26:34.984Z"
   },
   {
    "duration": 19,
    "start_time": "2023-03-31T22:26:34.990Z"
   },
   {
    "duration": 32,
    "start_time": "2023-03-31T22:26:35.011Z"
   },
   {
    "duration": 32,
    "start_time": "2023-03-31T22:26:35.045Z"
   },
   {
    "duration": 24,
    "start_time": "2023-03-31T22:26:35.078Z"
   },
   {
    "duration": 8,
    "start_time": "2023-03-31T22:26:35.105Z"
   },
   {
    "duration": 19,
    "start_time": "2023-03-31T22:26:35.114Z"
   },
   {
    "duration": 18,
    "start_time": "2023-03-31T22:26:35.135Z"
   },
   {
    "duration": 910,
    "start_time": "2023-03-31T22:26:35.155Z"
   },
   {
    "duration": 852,
    "start_time": "2023-03-31T22:26:36.067Z"
   },
   {
    "duration": 3,
    "start_time": "2023-03-31T22:26:36.921Z"
   },
   {
    "duration": 7,
    "start_time": "2023-03-31T22:26:36.926Z"
   },
   {
    "duration": 6,
    "start_time": "2023-03-31T22:26:36.935Z"
   },
   {
    "duration": 9,
    "start_time": "2023-03-31T22:26:36.943Z"
   },
   {
    "duration": 8,
    "start_time": "2023-03-31T22:26:36.953Z"
   },
   {
    "duration": 9,
    "start_time": "2023-03-31T22:26:36.963Z"
   },
   {
    "duration": 5,
    "start_time": "2023-03-31T22:26:36.974Z"
   },
   {
    "duration": 16,
    "start_time": "2023-03-31T22:26:36.981Z"
   },
   {
    "duration": 8,
    "start_time": "2023-03-31T22:26:36.999Z"
   },
   {
    "duration": 9,
    "start_time": "2023-03-31T22:26:37.009Z"
   },
   {
    "duration": 18,
    "start_time": "2023-03-31T22:26:37.020Z"
   },
   {
    "duration": 11,
    "start_time": "2023-03-31T22:26:37.040Z"
   },
   {
    "duration": 8,
    "start_time": "2023-03-31T22:26:37.052Z"
   },
   {
    "duration": 7,
    "start_time": "2023-03-31T22:26:37.063Z"
   },
   {
    "duration": 11,
    "start_time": "2023-03-31T22:26:37.071Z"
   },
   {
    "duration": 5,
    "start_time": "2023-03-31T22:26:37.083Z"
   },
   {
    "duration": 9,
    "start_time": "2023-03-31T22:26:37.089Z"
   },
   {
    "duration": 16,
    "start_time": "2023-03-31T22:26:37.099Z"
   },
   {
    "duration": 20,
    "start_time": "2023-03-31T22:26:37.116Z"
   },
   {
    "duration": 5,
    "start_time": "2023-03-31T22:26:37.137Z"
   },
   {
    "duration": 7,
    "start_time": "2023-03-31T22:26:37.143Z"
   },
   {
    "duration": 13,
    "start_time": "2023-03-31T22:26:37.151Z"
   },
   {
    "duration": 20,
    "start_time": "2023-03-31T22:26:37.165Z"
   },
   {
    "duration": 7,
    "start_time": "2023-03-31T22:26:37.187Z"
   },
   {
    "duration": 8,
    "start_time": "2023-03-31T22:26:37.196Z"
   },
   {
    "duration": 30,
    "start_time": "2023-03-31T22:26:37.205Z"
   },
   {
    "duration": 5,
    "start_time": "2023-03-31T22:26:38.516Z"
   },
   {
    "duration": 135,
    "start_time": "2023-03-31T22:27:00.615Z"
   },
   {
    "duration": 3,
    "start_time": "2023-03-31T22:27:30.917Z"
   },
   {
    "duration": 4,
    "start_time": "2023-03-31T22:27:36.056Z"
   },
   {
    "duration": 5,
    "start_time": "2023-03-31T22:27:43.255Z"
   },
   {
    "duration": 4,
    "start_time": "2023-03-31T22:27:55.108Z"
   },
   {
    "duration": 6,
    "start_time": "2023-03-31T22:28:04.170Z"
   },
   {
    "duration": 7,
    "start_time": "2023-03-31T22:29:13.125Z"
   },
   {
    "duration": 5,
    "start_time": "2023-03-31T22:29:15.860Z"
   },
   {
    "duration": 6,
    "start_time": "2023-03-31T22:29:32.905Z"
   },
   {
    "duration": 5,
    "start_time": "2023-03-31T22:29:33.496Z"
   },
   {
    "duration": 3,
    "start_time": "2023-03-31T22:30:08.699Z"
   },
   {
    "duration": 6,
    "start_time": "2023-03-31T22:30:09.061Z"
   },
   {
    "duration": 6,
    "start_time": "2023-03-31T22:30:21.760Z"
   },
   {
    "duration": 5,
    "start_time": "2023-03-31T22:30:54.325Z"
   },
   {
    "duration": 6,
    "start_time": "2023-03-31T22:31:06.491Z"
   },
   {
    "duration": 3,
    "start_time": "2023-03-31T22:31:10.491Z"
   },
   {
    "duration": 4,
    "start_time": "2023-03-31T22:31:11.738Z"
   },
   {
    "duration": 21,
    "start_time": "2023-03-31T22:31:25.326Z"
   },
   {
    "duration": 56,
    "start_time": "2023-03-31T22:32:25.655Z"
   },
   {
    "duration": 59,
    "start_time": "2023-03-31T22:32:33.198Z"
   },
   {
    "duration": 20,
    "start_time": "2023-03-31T22:32:44.593Z"
   },
   {
    "duration": 19,
    "start_time": "2023-03-31T22:33:13.958Z"
   },
   {
    "duration": 18,
    "start_time": "2023-03-31T22:33:56.619Z"
   },
   {
    "duration": 13,
    "start_time": "2023-03-31T22:34:05.331Z"
   },
   {
    "duration": 886,
    "start_time": "2023-03-31T22:34:18.255Z"
   },
   {
    "duration": 10,
    "start_time": "2023-03-31T22:34:19.143Z"
   },
   {
    "duration": 13,
    "start_time": "2023-03-31T22:38:05.501Z"
   },
   {
    "duration": 1015,
    "start_time": "2023-03-31T22:38:11.629Z"
   },
   {
    "duration": 73,
    "start_time": "2023-03-31T22:38:32.720Z"
   },
   {
    "duration": 885,
    "start_time": "2023-03-31T22:38:51.089Z"
   },
   {
    "duration": 911,
    "start_time": "2023-03-31T22:40:55.035Z"
   },
   {
    "duration": 893,
    "start_time": "2023-03-31T22:41:22.748Z"
   },
   {
    "duration": 2137,
    "start_time": "2023-04-01T09:10:40.606Z"
   },
   {
    "duration": 9,
    "start_time": "2023-04-01T09:10:42.745Z"
   },
   {
    "duration": 66,
    "start_time": "2023-04-01T09:10:42.756Z"
   },
   {
    "duration": 14,
    "start_time": "2023-04-01T09:10:42.824Z"
   },
   {
    "duration": 10,
    "start_time": "2023-04-01T09:10:42.839Z"
   },
   {
    "duration": 11,
    "start_time": "2023-04-01T09:10:42.851Z"
   },
   {
    "duration": 27,
    "start_time": "2023-04-01T09:10:42.864Z"
   },
   {
    "duration": 16,
    "start_time": "2023-04-01T09:10:42.893Z"
   },
   {
    "duration": 33,
    "start_time": "2023-04-01T09:10:42.910Z"
   },
   {
    "duration": 6,
    "start_time": "2023-04-01T09:10:42.945Z"
   },
   {
    "duration": 24,
    "start_time": "2023-04-01T09:10:42.952Z"
   },
   {
    "duration": 20,
    "start_time": "2023-04-01T09:10:42.978Z"
   },
   {
    "duration": 15,
    "start_time": "2023-04-01T09:11:53.601Z"
   },
   {
    "duration": 4,
    "start_time": "2023-04-01T09:13:00.504Z"
   },
   {
    "duration": 154,
    "start_time": "2023-04-01T09:13:03.426Z"
   },
   {
    "duration": 71,
    "start_time": "2023-04-01T09:13:23.565Z"
   },
   {
    "duration": 18,
    "start_time": "2023-04-01T09:13:26.203Z"
   },
   {
    "duration": 8,
    "start_time": "2023-04-01T09:13:48.866Z"
   },
   {
    "duration": 6,
    "start_time": "2023-04-01T09:13:57.296Z"
   },
   {
    "duration": 6,
    "start_time": "2023-04-01T09:14:07.592Z"
   },
   {
    "duration": 569,
    "start_time": "2023-04-01T09:14:10.703Z"
   },
   {
    "duration": 8,
    "start_time": "2023-04-01T09:14:16.672Z"
   },
   {
    "duration": 11,
    "start_time": "2023-04-01T09:14:44.765Z"
   },
   {
    "duration": 5,
    "start_time": "2023-04-01T09:16:35.271Z"
   },
   {
    "duration": 5,
    "start_time": "2023-04-01T09:16:37.571Z"
   },
   {
    "duration": 5,
    "start_time": "2023-04-01T09:16:44.105Z"
   },
   {
    "duration": 979,
    "start_time": "2023-04-01T09:16:49.940Z"
   },
   {
    "duration": 1142,
    "start_time": "2023-04-01T09:16:50.921Z"
   },
   {
    "duration": 3,
    "start_time": "2023-04-01T09:16:52.064Z"
   },
   {
    "duration": 8,
    "start_time": "2023-04-01T09:16:52.069Z"
   },
   {
    "duration": 5,
    "start_time": "2023-04-01T09:16:52.079Z"
   },
   {
    "duration": 10,
    "start_time": "2023-04-01T09:16:52.086Z"
   },
   {
    "duration": 13,
    "start_time": "2023-04-01T09:16:52.097Z"
   },
   {
    "duration": 11,
    "start_time": "2023-04-01T09:16:52.111Z"
   },
   {
    "duration": 7,
    "start_time": "2023-04-01T09:16:52.124Z"
   },
   {
    "duration": 13,
    "start_time": "2023-04-01T09:16:55.308Z"
   },
   {
    "duration": 4,
    "start_time": "2023-04-01T09:16:56.367Z"
   },
   {
    "duration": 8,
    "start_time": "2023-04-01T09:16:56.668Z"
   },
   {
    "duration": 4,
    "start_time": "2023-04-01T09:16:57.004Z"
   },
   {
    "duration": 6,
    "start_time": "2023-04-01T09:16:57.263Z"
   },
   {
    "duration": 4,
    "start_time": "2023-04-01T09:16:57.567Z"
   },
   {
    "duration": 5,
    "start_time": "2023-04-01T09:16:58.303Z"
   },
   {
    "duration": 6,
    "start_time": "2023-04-01T09:16:58.603Z"
   },
   {
    "duration": 3,
    "start_time": "2023-04-01T09:16:59.067Z"
   },
   {
    "duration": 3,
    "start_time": "2023-04-01T09:16:59.352Z"
   },
   {
    "duration": 7,
    "start_time": "2023-04-01T09:16:59.740Z"
   },
   {
    "duration": 15,
    "start_time": "2023-04-01T09:16:59.967Z"
   },
   {
    "duration": 5,
    "start_time": "2023-04-01T09:17:00.240Z"
   },
   {
    "duration": 3,
    "start_time": "2023-04-01T09:17:00.515Z"
   },
   {
    "duration": 13,
    "start_time": "2023-04-01T09:17:00.820Z"
   },
   {
    "duration": 24,
    "start_time": "2023-04-01T09:17:01.119Z"
   },
   {
    "duration": 3,
    "start_time": "2023-04-01T09:17:01.469Z"
   },
   {
    "duration": 7,
    "start_time": "2023-04-01T09:17:10.411Z"
   },
   {
    "duration": 4,
    "start_time": "2023-04-01T09:17:10.771Z"
   },
   {
    "duration": 6,
    "start_time": "2023-04-01T09:17:12.927Z"
   },
   {
    "duration": 3,
    "start_time": "2023-04-01T09:17:17.364Z"
   },
   {
    "duration": 6,
    "start_time": "2023-04-01T09:17:17.578Z"
   },
   {
    "duration": 84,
    "start_time": "2023-04-01T09:17:18.366Z"
   },
   {
    "duration": 20,
    "start_time": "2023-04-01T09:18:27.666Z"
   },
   {
    "duration": 16,
    "start_time": "2023-04-01T09:18:44.064Z"
   },
   {
    "duration": 5,
    "start_time": "2023-04-01T09:19:08.103Z"
   },
   {
    "duration": 1025,
    "start_time": "2023-04-01T09:19:08.420Z"
   },
   {
    "duration": 1019,
    "start_time": "2023-04-01T09:19:37.304Z"
   },
   {
    "duration": 12,
    "start_time": "2023-04-01T09:23:34.454Z"
   },
   {
    "duration": 11,
    "start_time": "2023-04-01T09:23:42.404Z"
   },
   {
    "duration": 3,
    "start_time": "2023-04-01T09:24:14.255Z"
   },
   {
    "duration": 3,
    "start_time": "2023-04-01T09:24:22.959Z"
   },
   {
    "duration": 3,
    "start_time": "2023-04-01T09:24:32.955Z"
   },
   {
    "duration": 5,
    "start_time": "2023-04-01T09:25:36.340Z"
   },
   {
    "duration": 10,
    "start_time": "2023-04-01T09:27:52.765Z"
   },
   {
    "duration": 4,
    "start_time": "2023-04-01T09:27:55.134Z"
   },
   {
    "duration": 89,
    "start_time": "2023-04-01T09:40:46.422Z"
   },
   {
    "duration": 72,
    "start_time": "2023-04-01T09:41:08.972Z"
   },
   {
    "duration": 4,
    "start_time": "2023-04-01T09:41:12.169Z"
   },
   {
    "duration": 3,
    "start_time": "2023-04-01T09:43:06.605Z"
   },
   {
    "duration": 2,
    "start_time": "2023-04-01T09:46:55.872Z"
   },
   {
    "duration": 4,
    "start_time": "2023-04-01T09:47:07.299Z"
   },
   {
    "duration": 11,
    "start_time": "2023-04-01T09:47:16.633Z"
   },
   {
    "duration": 4,
    "start_time": "2023-04-01T09:47:24.922Z"
   },
   {
    "duration": 4,
    "start_time": "2023-04-01T09:47:32.259Z"
   },
   {
    "duration": 4,
    "start_time": "2023-04-01T09:47:43.962Z"
   },
   {
    "duration": 4,
    "start_time": "2023-04-01T09:47:47.903Z"
   },
   {
    "duration": 4,
    "start_time": "2023-04-01T09:48:05.492Z"
   },
   {
    "duration": 1868,
    "start_time": "2023-04-01T09:48:12.404Z"
   },
   {
    "duration": 4,
    "start_time": "2023-04-01T09:48:14.274Z"
   },
   {
    "duration": 27,
    "start_time": "2023-04-01T09:48:14.279Z"
   },
   {
    "duration": 14,
    "start_time": "2023-04-01T09:48:14.308Z"
   },
   {
    "duration": 3,
    "start_time": "2023-04-01T09:48:14.324Z"
   },
   {
    "duration": 5,
    "start_time": "2023-04-01T09:48:14.329Z"
   },
   {
    "duration": 12,
    "start_time": "2023-04-01T09:48:14.336Z"
   },
   {
    "duration": 5,
    "start_time": "2023-04-01T09:48:14.350Z"
   },
   {
    "duration": 62,
    "start_time": "2023-04-01T09:48:14.357Z"
   },
   {
    "duration": 6,
    "start_time": "2023-04-01T09:48:14.421Z"
   },
   {
    "duration": 7,
    "start_time": "2023-04-01T09:48:14.428Z"
   },
   {
    "duration": 7,
    "start_time": "2023-04-01T09:48:14.437Z"
   },
   {
    "duration": 7,
    "start_time": "2023-04-01T09:48:14.446Z"
   },
   {
    "duration": 5,
    "start_time": "2023-04-01T09:48:14.457Z"
   },
   {
    "duration": 1014,
    "start_time": "2023-04-01T09:48:14.464Z"
   },
   {
    "duration": 968,
    "start_time": "2023-04-01T09:48:15.479Z"
   },
   {
    "duration": 3,
    "start_time": "2023-04-01T09:48:16.449Z"
   },
   {
    "duration": 9,
    "start_time": "2023-04-01T09:48:16.454Z"
   },
   {
    "duration": 5,
    "start_time": "2023-04-01T09:48:16.465Z"
   },
   {
    "duration": 9,
    "start_time": "2023-04-01T09:48:16.472Z"
   },
   {
    "duration": 6,
    "start_time": "2023-04-01T09:48:16.483Z"
   },
   {
    "duration": 8,
    "start_time": "2023-04-01T09:48:16.490Z"
   },
   {
    "duration": 5,
    "start_time": "2023-04-01T09:48:16.502Z"
   },
   {
    "duration": 18,
    "start_time": "2023-04-01T09:48:16.508Z"
   },
   {
    "duration": 4,
    "start_time": "2023-04-01T09:48:16.527Z"
   },
   {
    "duration": 11,
    "start_time": "2023-04-01T09:48:16.532Z"
   },
   {
    "duration": 6,
    "start_time": "2023-04-01T09:48:16.544Z"
   },
   {
    "duration": 6,
    "start_time": "2023-04-01T09:48:16.552Z"
   },
   {
    "duration": 5,
    "start_time": "2023-04-01T09:48:16.559Z"
   },
   {
    "duration": 38,
    "start_time": "2023-04-01T09:48:16.565Z"
   },
   {
    "duration": 11,
    "start_time": "2023-04-01T09:48:16.605Z"
   },
   {
    "duration": 5,
    "start_time": "2023-04-01T09:48:16.617Z"
   },
   {
    "duration": 9,
    "start_time": "2023-04-01T09:48:16.623Z"
   },
   {
    "duration": 9,
    "start_time": "2023-04-01T09:48:16.633Z"
   },
   {
    "duration": 14,
    "start_time": "2023-04-01T09:48:16.643Z"
   },
   {
    "duration": 5,
    "start_time": "2023-04-01T09:48:16.659Z"
   },
   {
    "duration": 5,
    "start_time": "2023-04-01T09:48:16.665Z"
   },
   {
    "duration": 42,
    "start_time": "2023-04-01T09:48:16.671Z"
   },
   {
    "duration": 29,
    "start_time": "2023-04-01T09:48:16.715Z"
   },
   {
    "duration": 9,
    "start_time": "2023-04-01T09:48:16.746Z"
   },
   {
    "duration": 6,
    "start_time": "2023-04-01T09:48:16.759Z"
   },
   {
    "duration": 11,
    "start_time": "2023-04-01T09:48:16.767Z"
   },
   {
    "duration": 19,
    "start_time": "2023-04-01T09:48:16.780Z"
   },
   {
    "duration": 9,
    "start_time": "2023-04-01T09:48:16.801Z"
   },
   {
    "duration": 142,
    "start_time": "2023-04-01T09:48:16.811Z"
   },
   {
    "duration": 0,
    "start_time": "2023-04-01T09:48:16.956Z"
   },
   {
    "duration": 0,
    "start_time": "2023-04-01T09:48:16.959Z"
   },
   {
    "duration": 4,
    "start_time": "2023-04-01T09:48:18.632Z"
   },
   {
    "duration": 4,
    "start_time": "2023-04-01T09:48:26.302Z"
   },
   {
    "duration": 4,
    "start_time": "2023-04-01T09:48:30.641Z"
   },
   {
    "duration": 3,
    "start_time": "2023-04-01T09:48:39.760Z"
   },
   {
    "duration": 4,
    "start_time": "2023-04-01T09:48:43.142Z"
   },
   {
    "duration": 4,
    "start_time": "2023-04-01T09:50:02.472Z"
   },
   {
    "duration": 5,
    "start_time": "2023-04-01T09:50:09.132Z"
   },
   {
    "duration": 5,
    "start_time": "2023-04-01T09:51:26.799Z"
   },
   {
    "duration": 5,
    "start_time": "2023-04-01T11:15:08.456Z"
   },
   {
    "duration": 11,
    "start_time": "2023-04-01T11:15:12.717Z"
   },
   {
    "duration": 4,
    "start_time": "2023-04-01T11:15:15.400Z"
   },
   {
    "duration": 3,
    "start_time": "2023-04-01T11:16:07.554Z"
   },
   {
    "duration": 5,
    "start_time": "2023-04-01T11:16:13.705Z"
   },
   {
    "duration": 3,
    "start_time": "2023-04-01T11:20:59.766Z"
   },
   {
    "duration": 5,
    "start_time": "2023-04-01T11:21:02.524Z"
   },
   {
    "duration": 3,
    "start_time": "2023-04-01T11:21:10.404Z"
   },
   {
    "duration": 5,
    "start_time": "2023-04-01T11:21:12.577Z"
   },
   {
    "duration": 16,
    "start_time": "2023-04-01T11:58:31.965Z"
   },
   {
    "duration": 4,
    "start_time": "2023-04-01T11:58:45.673Z"
   },
   {
    "duration": 5,
    "start_time": "2023-04-01T11:58:45.867Z"
   },
   {
    "duration": 4,
    "start_time": "2023-04-01T11:58:46.046Z"
   },
   {
    "duration": 12,
    "start_time": "2023-04-01T11:58:46.267Z"
   },
   {
    "duration": 15,
    "start_time": "2023-04-01T11:58:47.098Z"
   },
   {
    "duration": 4,
    "start_time": "2023-04-01T11:59:13.887Z"
   },
   {
    "duration": 811,
    "start_time": "2023-04-01T11:59:14.977Z"
   },
   {
    "duration": 829,
    "start_time": "2023-04-01T11:59:25.228Z"
   },
   {
    "duration": 787,
    "start_time": "2023-04-01T11:59:37.767Z"
   },
   {
    "duration": 4,
    "start_time": "2023-04-01T11:59:40.039Z"
   },
   {
    "duration": 3,
    "start_time": "2023-04-01T11:59:54.156Z"
   },
   {
    "duration": 5,
    "start_time": "2023-04-01T11:59:54.967Z"
   },
   {
    "duration": 812,
    "start_time": "2023-04-01T11:59:55.511Z"
   },
   {
    "duration": 2164,
    "start_time": "2023-04-01T21:13:25.450Z"
   },
   {
    "duration": 4,
    "start_time": "2023-04-01T21:13:27.617Z"
   },
   {
    "duration": 68,
    "start_time": "2023-04-01T21:13:27.623Z"
   },
   {
    "duration": 14,
    "start_time": "2023-04-01T21:13:27.694Z"
   },
   {
    "duration": 5,
    "start_time": "2023-04-01T21:13:27.709Z"
   },
   {
    "duration": 6,
    "start_time": "2023-04-01T21:13:27.716Z"
   },
   {
    "duration": 16,
    "start_time": "2023-04-01T21:13:27.724Z"
   },
   {
    "duration": 5,
    "start_time": "2023-04-01T21:13:27.742Z"
   },
   {
    "duration": 26,
    "start_time": "2023-04-01T21:13:27.749Z"
   },
   {
    "duration": 7,
    "start_time": "2023-04-01T21:13:27.778Z"
   },
   {
    "duration": 6,
    "start_time": "2023-04-01T21:13:27.787Z"
   },
   {
    "duration": 8,
    "start_time": "2023-04-01T21:13:27.795Z"
   },
   {
    "duration": 8,
    "start_time": "2023-04-01T21:13:27.841Z"
   },
   {
    "duration": 6,
    "start_time": "2023-04-01T21:13:27.851Z"
   },
   {
    "duration": 973,
    "start_time": "2023-04-01T21:13:27.859Z"
   },
   {
    "duration": 1052,
    "start_time": "2023-04-01T21:13:28.842Z"
   },
   {
    "duration": 4,
    "start_time": "2023-04-01T21:13:29.896Z"
   },
   {
    "duration": 7,
    "start_time": "2023-04-01T21:13:29.902Z"
   },
   {
    "duration": 6,
    "start_time": "2023-04-01T21:13:29.910Z"
   },
   {
    "duration": 11,
    "start_time": "2023-04-01T21:13:29.917Z"
   },
   {
    "duration": 6,
    "start_time": "2023-04-01T21:13:29.930Z"
   },
   {
    "duration": 6,
    "start_time": "2023-04-01T21:13:29.937Z"
   },
   {
    "duration": 6,
    "start_time": "2023-04-01T21:13:29.945Z"
   },
   {
    "duration": 14,
    "start_time": "2023-04-01T21:13:29.953Z"
   },
   {
    "duration": 6,
    "start_time": "2023-04-01T21:13:29.968Z"
   },
   {
    "duration": 9,
    "start_time": "2023-04-01T21:13:29.976Z"
   },
   {
    "duration": 9,
    "start_time": "2023-04-01T21:13:29.987Z"
   },
   {
    "duration": 40,
    "start_time": "2023-04-01T21:13:30.001Z"
   },
   {
    "duration": 5,
    "start_time": "2023-04-01T21:13:30.043Z"
   },
   {
    "duration": 25,
    "start_time": "2023-04-01T21:13:30.050Z"
   },
   {
    "duration": 41,
    "start_time": "2023-04-01T21:13:30.077Z"
   },
   {
    "duration": 19,
    "start_time": "2023-04-01T21:13:30.120Z"
   },
   {
    "duration": 9,
    "start_time": "2023-04-01T21:13:30.142Z"
   },
   {
    "duration": 26,
    "start_time": "2023-04-01T21:13:30.153Z"
   },
   {
    "duration": 28,
    "start_time": "2023-04-01T21:13:30.181Z"
   },
   {
    "duration": 24,
    "start_time": "2023-04-01T21:13:30.211Z"
   },
   {
    "duration": 18,
    "start_time": "2023-04-01T21:13:30.237Z"
   },
   {
    "duration": 20,
    "start_time": "2023-04-01T21:13:30.257Z"
   },
   {
    "duration": 41,
    "start_time": "2023-04-01T21:13:30.278Z"
   },
   {
    "duration": 24,
    "start_time": "2023-04-01T21:13:30.322Z"
   },
   {
    "duration": 45,
    "start_time": "2023-04-01T21:13:30.347Z"
   },
   {
    "duration": 22,
    "start_time": "2023-04-01T21:13:30.394Z"
   },
   {
    "duration": 22,
    "start_time": "2023-04-01T21:13:30.418Z"
   },
   {
    "duration": 41,
    "start_time": "2023-04-01T21:13:30.442Z"
   },
   {
    "duration": 3,
    "start_time": "2023-04-01T21:19:40.354Z"
   },
   {
    "duration": 123,
    "start_time": "2023-04-01T21:19:40.654Z"
   },
   {
    "duration": 72,
    "start_time": "2023-04-01T21:24:42.446Z"
   },
   {
    "duration": 8,
    "start_time": "2023-04-01T21:24:50.333Z"
   },
   {
    "duration": 15,
    "start_time": "2023-04-01T21:25:13.004Z"
   },
   {
    "duration": 13,
    "start_time": "2023-04-01T21:25:24.130Z"
   },
   {
    "duration": 4,
    "start_time": "2023-04-01T21:25:24.341Z"
   },
   {
    "duration": 3,
    "start_time": "2023-04-01T21:25:31.730Z"
   },
   {
    "duration": 3,
    "start_time": "2023-04-01T21:25:32.311Z"
   },
   {
    "duration": 5,
    "start_time": "2023-04-01T21:25:32.811Z"
   },
   {
    "duration": 10,
    "start_time": "2023-04-01T21:25:33.711Z"
   },
   {
    "duration": 13,
    "start_time": "2023-04-01T21:25:34.141Z"
   },
   {
    "duration": 22,
    "start_time": "2023-04-01T21:25:42.911Z"
   },
   {
    "duration": 10,
    "start_time": "2023-04-01T21:26:20.720Z"
   },
   {
    "duration": 16,
    "start_time": "2023-04-01T21:26:21.222Z"
   },
   {
    "duration": 9,
    "start_time": "2023-04-01T21:26:31.612Z"
   },
   {
    "duration": 15,
    "start_time": "2023-04-01T21:26:32.023Z"
   },
   {
    "duration": 7,
    "start_time": "2023-04-01T21:26:52.991Z"
   },
   {
    "duration": 24,
    "start_time": "2023-04-01T21:26:53.495Z"
   },
   {
    "duration": 11,
    "start_time": "2023-04-01T21:27:02.120Z"
   },
   {
    "duration": 588,
    "start_time": "2023-04-01T21:27:02.858Z"
   },
   {
    "duration": 10,
    "start_time": "2023-04-01T21:27:17.201Z"
   },
   {
    "duration": 436,
    "start_time": "2023-04-01T21:27:17.636Z"
   },
   {
    "duration": 4,
    "start_time": "2023-04-01T21:27:44.324Z"
   },
   {
    "duration": 4,
    "start_time": "2023-04-01T21:27:44.524Z"
   },
   {
    "duration": 10,
    "start_time": "2023-04-01T21:27:44.703Z"
   },
   {
    "duration": 907,
    "start_time": "2023-04-01T21:27:45.335Z"
   },
   {
    "duration": 2131,
    "start_time": "2023-04-02T07:29:24.762Z"
   },
   {
    "duration": 9,
    "start_time": "2023-04-02T07:29:26.895Z"
   },
   {
    "duration": 60,
    "start_time": "2023-04-02T07:29:26.906Z"
   },
   {
    "duration": 13,
    "start_time": "2023-04-02T07:29:26.968Z"
   },
   {
    "duration": 3,
    "start_time": "2023-04-02T07:29:26.984Z"
   },
   {
    "duration": 6,
    "start_time": "2023-04-02T07:29:26.988Z"
   },
   {
    "duration": 14,
    "start_time": "2023-04-02T07:29:26.995Z"
   },
   {
    "duration": 4,
    "start_time": "2023-04-02T07:29:27.010Z"
   },
   {
    "duration": 24,
    "start_time": "2023-04-02T07:29:27.016Z"
   },
   {
    "duration": 6,
    "start_time": "2023-04-02T07:29:27.042Z"
   },
   {
    "duration": 11,
    "start_time": "2023-04-02T07:29:27.049Z"
   },
   {
    "duration": 7,
    "start_time": "2023-04-02T07:29:27.062Z"
   },
   {
    "duration": 6,
    "start_time": "2023-04-02T07:29:27.071Z"
   },
   {
    "duration": 5,
    "start_time": "2023-04-02T07:29:27.080Z"
   },
   {
    "duration": 941,
    "start_time": "2023-04-02T07:29:27.087Z"
   },
   {
    "duration": 967,
    "start_time": "2023-04-02T07:29:28.029Z"
   },
   {
    "duration": 3,
    "start_time": "2023-04-02T07:29:28.998Z"
   },
   {
    "duration": 27,
    "start_time": "2023-04-02T07:29:29.003Z"
   },
   {
    "duration": 12,
    "start_time": "2023-04-02T07:29:29.032Z"
   },
   {
    "duration": 11,
    "start_time": "2023-04-02T07:29:29.046Z"
   },
   {
    "duration": 7,
    "start_time": "2023-04-02T07:29:29.059Z"
   },
   {
    "duration": 10,
    "start_time": "2023-04-02T07:29:29.068Z"
   },
   {
    "duration": 6,
    "start_time": "2023-04-02T07:29:29.079Z"
   },
   {
    "duration": 23,
    "start_time": "2023-04-02T07:29:29.086Z"
   },
   {
    "duration": 15,
    "start_time": "2023-04-02T07:29:29.112Z"
   },
   {
    "duration": 10,
    "start_time": "2023-04-02T07:29:29.129Z"
   },
   {
    "duration": 5,
    "start_time": "2023-04-02T07:29:29.141Z"
   },
   {
    "duration": 8,
    "start_time": "2023-04-02T07:29:29.148Z"
   },
   {
    "duration": 4,
    "start_time": "2023-04-02T07:29:29.158Z"
   },
   {
    "duration": 6,
    "start_time": "2023-04-02T07:29:29.164Z"
   },
   {
    "duration": 11,
    "start_time": "2023-04-02T07:29:29.172Z"
   },
   {
    "duration": 4,
    "start_time": "2023-04-02T07:29:29.185Z"
   },
   {
    "duration": 4,
    "start_time": "2023-04-02T07:29:29.223Z"
   },
   {
    "duration": 15,
    "start_time": "2023-04-02T07:29:29.229Z"
   },
   {
    "duration": 18,
    "start_time": "2023-04-02T07:29:29.246Z"
   },
   {
    "duration": 6,
    "start_time": "2023-04-02T07:29:29.266Z"
   },
   {
    "duration": 4,
    "start_time": "2023-04-02T07:29:29.274Z"
   },
   {
    "duration": 13,
    "start_time": "2023-04-02T07:29:29.279Z"
   },
   {
    "duration": 50,
    "start_time": "2023-04-02T07:29:29.293Z"
   },
   {
    "duration": 19,
    "start_time": "2023-04-02T07:29:29.345Z"
   },
   {
    "duration": 7,
    "start_time": "2023-04-02T07:29:29.368Z"
   },
   {
    "duration": 14,
    "start_time": "2023-04-02T07:29:29.377Z"
   },
   {
    "duration": 10,
    "start_time": "2023-04-02T07:29:29.393Z"
   },
   {
    "duration": 8,
    "start_time": "2023-04-02T07:29:29.405Z"
   },
   {
    "duration": 4,
    "start_time": "2023-04-02T07:47:13.896Z"
   },
   {
    "duration": 9,
    "start_time": "2023-04-02T07:55:11.848Z"
   },
   {
    "duration": 145,
    "start_time": "2023-04-02T08:10:18.828Z"
   },
   {
    "duration": 12,
    "start_time": "2023-04-02T08:10:19.029Z"
   },
   {
    "duration": 3,
    "start_time": "2023-04-02T08:10:19.228Z"
   },
   {
    "duration": 3,
    "start_time": "2023-04-02T08:10:19.903Z"
   },
   {
    "duration": 21,
    "start_time": "2023-04-02T08:10:20.365Z"
   },
   {
    "duration": 3,
    "start_time": "2023-04-02T08:10:31.694Z"
   },
   {
    "duration": 3,
    "start_time": "2023-04-02T08:10:31.840Z"
   },
   {
    "duration": 35,
    "start_time": "2023-04-02T08:10:32.016Z"
   },
   {
    "duration": 9,
    "start_time": "2023-04-02T08:13:24.900Z"
   },
   {
    "duration": 4,
    "start_time": "2023-04-02T08:14:01.447Z"
   },
   {
    "duration": 6,
    "start_time": "2023-04-02T08:14:12.598Z"
   },
   {
    "duration": 12,
    "start_time": "2023-04-02T08:14:14.610Z"
   },
   {
    "duration": 12,
    "start_time": "2023-04-02T08:14:21.223Z"
   },
   {
    "duration": 3,
    "start_time": "2023-04-02T08:14:24.823Z"
   },
   {
    "duration": 3,
    "start_time": "2023-04-02T08:14:25.636Z"
   },
   {
    "duration": 17,
    "start_time": "2023-04-02T08:14:26.474Z"
   },
   {
    "duration": 19,
    "start_time": "2023-04-02T08:14:52.013Z"
   },
   {
    "duration": 10,
    "start_time": "2023-04-02T08:15:35.365Z"
   },
   {
    "duration": 17,
    "start_time": "2023-04-02T08:15:46.965Z"
   },
   {
    "duration": 10,
    "start_time": "2023-04-02T08:16:52.391Z"
   },
   {
    "duration": 18,
    "start_time": "2023-04-02T08:16:52.829Z"
   },
   {
    "duration": 78,
    "start_time": "2023-04-02T08:16:59.906Z"
   },
   {
    "duration": 10,
    "start_time": "2023-04-02T08:17:37.917Z"
   },
   {
    "duration": 15,
    "start_time": "2023-04-02T08:17:38.343Z"
   },
   {
    "duration": 10,
    "start_time": "2023-04-02T08:18:54.097Z"
   },
   {
    "duration": 5,
    "start_time": "2023-04-02T08:18:54.573Z"
   },
   {
    "duration": 5,
    "start_time": "2023-04-02T08:19:09.147Z"
   },
   {
    "duration": 5,
    "start_time": "2023-04-02T08:19:18.511Z"
   },
   {
    "duration": 3,
    "start_time": "2023-04-02T08:19:45.299Z"
   },
   {
    "duration": 4,
    "start_time": "2023-04-02T08:19:45.461Z"
   },
   {
    "duration": 5,
    "start_time": "2023-04-02T08:19:46.012Z"
   },
   {
    "duration": 4,
    "start_time": "2023-04-02T08:19:58.324Z"
   },
   {
    "duration": 55,
    "start_time": "2023-04-02T08:20:03.049Z"
   },
   {
    "duration": 4,
    "start_time": "2023-04-02T08:20:14.880Z"
   },
   {
    "duration": 7,
    "start_time": "2023-04-02T08:24:14.662Z"
   },
   {
    "duration": 5,
    "start_time": "2023-04-02T08:24:48.879Z"
   },
   {
    "duration": 15,
    "start_time": "2023-04-02T08:25:50.330Z"
   },
   {
    "duration": 10,
    "start_time": "2023-04-02T08:26:20.143Z"
   },
   {
    "duration": 5,
    "start_time": "2023-04-02T08:26:24.605Z"
   },
   {
    "duration": 3,
    "start_time": "2023-04-02T08:29:01.636Z"
   },
   {
    "duration": 4,
    "start_time": "2023-04-02T08:29:07.373Z"
   },
   {
    "duration": 4,
    "start_time": "2023-04-02T08:29:47.838Z"
   },
   {
    "duration": 3,
    "start_time": "2023-04-02T08:30:25.428Z"
   },
   {
    "duration": 11,
    "start_time": "2023-04-02T08:30:42.765Z"
   },
   {
    "duration": 1951,
    "start_time": "2023-04-02T08:31:07.464Z"
   },
   {
    "duration": 9,
    "start_time": "2023-04-02T08:31:09.418Z"
   },
   {
    "duration": 40,
    "start_time": "2023-04-02T08:31:09.429Z"
   },
   {
    "duration": 15,
    "start_time": "2023-04-02T08:31:09.471Z"
   },
   {
    "duration": 13,
    "start_time": "2023-04-02T08:31:09.489Z"
   },
   {
    "duration": 19,
    "start_time": "2023-04-02T08:31:09.505Z"
   },
   {
    "duration": 25,
    "start_time": "2023-04-02T08:31:09.526Z"
   },
   {
    "duration": 6,
    "start_time": "2023-04-02T08:31:09.554Z"
   },
   {
    "duration": 34,
    "start_time": "2023-04-02T08:31:09.562Z"
   },
   {
    "duration": 29,
    "start_time": "2023-04-02T08:31:09.598Z"
   },
   {
    "duration": 9,
    "start_time": "2023-04-02T08:31:09.629Z"
   },
   {
    "duration": 17,
    "start_time": "2023-04-02T08:31:09.641Z"
   },
   {
    "duration": 44,
    "start_time": "2023-04-02T08:31:09.660Z"
   },
   {
    "duration": 17,
    "start_time": "2023-04-02T08:31:09.708Z"
   },
   {
    "duration": 1093,
    "start_time": "2023-04-02T08:31:09.727Z"
   },
   {
    "duration": 1027,
    "start_time": "2023-04-02T08:31:10.821Z"
   },
   {
    "duration": 3,
    "start_time": "2023-04-02T08:31:11.850Z"
   },
   {
    "duration": 11,
    "start_time": "2023-04-02T08:31:11.854Z"
   },
   {
    "duration": 5,
    "start_time": "2023-04-02T08:31:11.867Z"
   },
   {
    "duration": 6,
    "start_time": "2023-04-02T08:31:11.873Z"
   },
   {
    "duration": 6,
    "start_time": "2023-04-02T08:31:11.881Z"
   },
   {
    "duration": 6,
    "start_time": "2023-04-02T08:31:11.888Z"
   },
   {
    "duration": 7,
    "start_time": "2023-04-02T08:31:11.896Z"
   },
   {
    "duration": 16,
    "start_time": "2023-04-02T08:31:11.924Z"
   },
   {
    "duration": 4,
    "start_time": "2023-04-02T08:31:11.945Z"
   },
   {
    "duration": 11,
    "start_time": "2023-04-02T08:31:11.951Z"
   },
   {
    "duration": 6,
    "start_time": "2023-04-02T08:31:11.964Z"
   },
   {
    "duration": 5,
    "start_time": "2023-04-02T08:31:11.972Z"
   },
   {
    "duration": 10,
    "start_time": "2023-04-02T08:31:11.979Z"
   },
   {
    "duration": 33,
    "start_time": "2023-04-02T08:31:11.991Z"
   },
   {
    "duration": 14,
    "start_time": "2023-04-02T08:31:12.026Z"
   },
   {
    "duration": 3,
    "start_time": "2023-04-02T08:31:12.041Z"
   },
   {
    "duration": 4,
    "start_time": "2023-04-02T08:31:12.046Z"
   },
   {
    "duration": 8,
    "start_time": "2023-04-02T08:31:12.051Z"
   },
   {
    "duration": 14,
    "start_time": "2023-04-02T08:31:12.061Z"
   },
   {
    "duration": 5,
    "start_time": "2023-04-02T08:31:12.077Z"
   },
   {
    "duration": 3,
    "start_time": "2023-04-02T08:31:12.084Z"
   },
   {
    "duration": 46,
    "start_time": "2023-04-02T08:31:12.089Z"
   },
   {
    "duration": 23,
    "start_time": "2023-04-02T08:31:12.137Z"
   },
   {
    "duration": 5,
    "start_time": "2023-04-02T08:31:12.162Z"
   },
   {
    "duration": 9,
    "start_time": "2023-04-02T08:31:12.171Z"
   },
   {
    "duration": 6,
    "start_time": "2023-04-02T08:31:12.182Z"
   },
   {
    "duration": 34,
    "start_time": "2023-04-02T08:31:12.190Z"
   },
   {
    "duration": 20,
    "start_time": "2023-04-02T08:31:12.226Z"
   },
   {
    "duration": 9,
    "start_time": "2023-04-02T08:31:12.248Z"
   },
   {
    "duration": 10,
    "start_time": "2023-04-02T08:31:12.259Z"
   },
   {
    "duration": 145,
    "start_time": "2023-04-02T08:31:17.004Z"
   },
   {
    "duration": 3,
    "start_time": "2023-04-02T08:31:47.068Z"
   },
   {
    "duration": 12,
    "start_time": "2023-04-02T08:32:18.682Z"
   },
   {
    "duration": 12,
    "start_time": "2023-04-02T08:32:51.719Z"
   },
   {
    "duration": 11,
    "start_time": "2023-04-02T08:32:55.357Z"
   },
   {
    "duration": 9,
    "start_time": "2023-04-02T08:34:04.997Z"
   },
   {
    "duration": 346,
    "start_time": "2023-04-02T08:34:08.038Z"
   },
   {
    "duration": 3,
    "start_time": "2023-04-02T08:34:33.785Z"
   },
   {
    "duration": 315,
    "start_time": "2023-04-02T08:34:38.298Z"
   },
   {
    "duration": 2050,
    "start_time": "2023-04-02T08:34:48.537Z"
   },
   {
    "duration": 5,
    "start_time": "2023-04-02T08:34:50.590Z"
   },
   {
    "duration": 30,
    "start_time": "2023-04-02T08:34:50.597Z"
   },
   {
    "duration": 16,
    "start_time": "2023-04-02T08:34:50.631Z"
   },
   {
    "duration": 4,
    "start_time": "2023-04-02T08:34:50.649Z"
   },
   {
    "duration": 21,
    "start_time": "2023-04-02T08:34:50.654Z"
   },
   {
    "duration": 25,
    "start_time": "2023-04-02T08:34:50.677Z"
   },
   {
    "duration": 27,
    "start_time": "2023-04-02T08:34:50.704Z"
   },
   {
    "duration": 36,
    "start_time": "2023-04-02T08:34:50.733Z"
   },
   {
    "duration": 7,
    "start_time": "2023-04-02T08:34:50.771Z"
   },
   {
    "duration": 10,
    "start_time": "2023-04-02T08:34:50.779Z"
   },
   {
    "duration": 9,
    "start_time": "2023-04-02T08:34:50.790Z"
   },
   {
    "duration": 34,
    "start_time": "2023-04-02T08:34:50.800Z"
   },
   {
    "duration": 19,
    "start_time": "2023-04-02T08:34:50.836Z"
   },
   {
    "duration": 1097,
    "start_time": "2023-04-02T08:34:50.858Z"
   },
   {
    "duration": 1047,
    "start_time": "2023-04-02T08:34:51.957Z"
   },
   {
    "duration": 3,
    "start_time": "2023-04-02T08:34:53.006Z"
   },
   {
    "duration": 21,
    "start_time": "2023-04-02T08:34:53.011Z"
   },
   {
    "duration": 10,
    "start_time": "2023-04-02T08:34:53.034Z"
   },
   {
    "duration": 15,
    "start_time": "2023-04-02T08:34:53.045Z"
   },
   {
    "duration": 8,
    "start_time": "2023-04-02T08:34:53.062Z"
   },
   {
    "duration": 24,
    "start_time": "2023-04-02T08:34:53.072Z"
   },
   {
    "duration": 29,
    "start_time": "2023-04-02T08:34:53.098Z"
   },
   {
    "duration": 29,
    "start_time": "2023-04-02T08:34:53.129Z"
   },
   {
    "duration": 36,
    "start_time": "2023-04-02T08:34:53.160Z"
   },
   {
    "duration": 11,
    "start_time": "2023-04-02T08:34:53.198Z"
   },
   {
    "duration": 36,
    "start_time": "2023-04-02T08:34:53.212Z"
   },
   {
    "duration": 7,
    "start_time": "2023-04-02T08:34:53.253Z"
   },
   {
    "duration": 16,
    "start_time": "2023-04-02T08:34:53.262Z"
   },
   {
    "duration": 14,
    "start_time": "2023-04-02T08:34:53.280Z"
   },
   {
    "duration": 17,
    "start_time": "2023-04-02T08:34:53.296Z"
   },
   {
    "duration": 13,
    "start_time": "2023-04-02T08:34:53.314Z"
   },
   {
    "duration": 8,
    "start_time": "2023-04-02T08:34:53.329Z"
   },
   {
    "duration": 15,
    "start_time": "2023-04-02T08:34:53.339Z"
   },
   {
    "duration": 33,
    "start_time": "2023-04-02T08:34:53.356Z"
   },
   {
    "duration": 11,
    "start_time": "2023-04-02T08:34:53.392Z"
   },
   {
    "duration": 21,
    "start_time": "2023-04-02T08:34:53.405Z"
   },
   {
    "duration": 23,
    "start_time": "2023-04-02T08:34:53.428Z"
   },
   {
    "duration": 35,
    "start_time": "2023-04-02T08:34:53.454Z"
   },
   {
    "duration": 26,
    "start_time": "2023-04-02T08:34:53.491Z"
   },
   {
    "duration": 13,
    "start_time": "2023-04-02T08:34:53.519Z"
   },
   {
    "duration": 9,
    "start_time": "2023-04-02T08:34:53.534Z"
   },
   {
    "duration": 8,
    "start_time": "2023-04-02T08:34:53.545Z"
   },
   {
    "duration": 21,
    "start_time": "2023-04-02T08:34:53.556Z"
   },
   {
    "duration": 23,
    "start_time": "2023-04-02T08:34:53.579Z"
   },
   {
    "duration": 15,
    "start_time": "2023-04-02T08:34:53.604Z"
   },
   {
    "duration": 9,
    "start_time": "2023-04-02T08:34:53.621Z"
   },
   {
    "duration": 9,
    "start_time": "2023-04-02T08:34:53.632Z"
   },
   {
    "duration": 346,
    "start_time": "2023-04-02T08:34:54.469Z"
   },
   {
    "duration": 3,
    "start_time": "2023-04-02T08:34:58.436Z"
   },
   {
    "duration": 5,
    "start_time": "2023-04-02T08:35:44.238Z"
   },
   {
    "duration": 8,
    "start_time": "2023-04-02T08:39:02.584Z"
   },
   {
    "duration": 147,
    "start_time": "2023-04-02T08:39:05.708Z"
   },
   {
    "duration": 3,
    "start_time": "2023-04-02T08:39:09.871Z"
   },
   {
    "duration": 3,
    "start_time": "2023-04-02T08:39:10.196Z"
   },
   {
    "duration": 5,
    "start_time": "2023-04-02T08:39:10.508Z"
   },
   {
    "duration": 5,
    "start_time": "2023-04-02T08:39:11.221Z"
   },
   {
    "duration": 4,
    "start_time": "2023-04-02T08:39:12.745Z"
   },
   {
    "duration": 8,
    "start_time": "2023-04-02T08:39:23.985Z"
   },
   {
    "duration": 3,
    "start_time": "2023-04-02T08:39:25.683Z"
   },
   {
    "duration": 3,
    "start_time": "2023-04-02T08:39:25.983Z"
   },
   {
    "duration": 4,
    "start_time": "2023-04-02T08:39:26.297Z"
   },
   {
    "duration": 313,
    "start_time": "2023-04-02T08:39:26.597Z"
   },
   {
    "duration": 5,
    "start_time": "2023-04-02T08:39:26.912Z"
   },
   {
    "duration": 9,
    "start_time": "2023-04-02T08:41:36.980Z"
   },
   {
    "duration": 2,
    "start_time": "2023-04-02T08:41:53.371Z"
   },
   {
    "duration": 2,
    "start_time": "2023-04-02T08:41:53.664Z"
   },
   {
    "duration": 4,
    "start_time": "2023-04-02T08:41:53.928Z"
   },
   {
    "duration": 306,
    "start_time": "2023-04-02T08:41:54.328Z"
   },
   {
    "duration": 5,
    "start_time": "2023-04-02T08:41:55.566Z"
   },
   {
    "duration": 6,
    "start_time": "2023-04-02T08:42:01.242Z"
   },
   {
    "duration": 10,
    "start_time": "2023-04-02T08:42:17.193Z"
   },
   {
    "duration": 2,
    "start_time": "2023-04-02T08:42:18.072Z"
   },
   {
    "duration": 3,
    "start_time": "2023-04-02T08:42:18.342Z"
   },
   {
    "duration": 3,
    "start_time": "2023-04-02T08:42:18.672Z"
   },
   {
    "duration": 304,
    "start_time": "2023-04-02T08:42:18.992Z"
   },
   {
    "duration": 14,
    "start_time": "2023-04-02T08:45:57.018Z"
   },
   {
    "duration": 3,
    "start_time": "2023-04-02T08:46:02.557Z"
   },
   {
    "duration": 3,
    "start_time": "2023-04-02T08:46:02.876Z"
   },
   {
    "duration": 4,
    "start_time": "2023-04-02T08:46:03.164Z"
   },
   {
    "duration": 2481,
    "start_time": "2023-04-02T08:46:03.443Z"
   },
   {
    "duration": 1874,
    "start_time": "2023-04-02T12:15:20.729Z"
   },
   {
    "duration": 4,
    "start_time": "2023-04-02T12:15:22.605Z"
   },
   {
    "duration": 35,
    "start_time": "2023-04-02T12:15:22.611Z"
   },
   {
    "duration": 14,
    "start_time": "2023-04-02T12:15:22.649Z"
   },
   {
    "duration": 11,
    "start_time": "2023-04-02T12:15:22.664Z"
   },
   {
    "duration": 11,
    "start_time": "2023-04-02T12:15:22.677Z"
   },
   {
    "duration": 23,
    "start_time": "2023-04-02T12:15:22.690Z"
   },
   {
    "duration": 12,
    "start_time": "2023-04-02T12:15:22.715Z"
   },
   {
    "duration": 37,
    "start_time": "2023-04-02T12:15:22.729Z"
   },
   {
    "duration": 7,
    "start_time": "2023-04-02T12:15:22.769Z"
   },
   {
    "duration": 16,
    "start_time": "2023-04-02T12:15:22.777Z"
   },
   {
    "duration": 10,
    "start_time": "2023-04-02T12:15:22.795Z"
   },
   {
    "duration": 16,
    "start_time": "2023-04-02T12:15:22.807Z"
   },
   {
    "duration": 5,
    "start_time": "2023-04-02T12:15:22.825Z"
   },
   {
    "duration": 999,
    "start_time": "2023-04-02T12:15:22.832Z"
   },
   {
    "duration": 964,
    "start_time": "2023-04-02T12:15:23.832Z"
   },
   {
    "duration": 4,
    "start_time": "2023-04-02T12:15:24.797Z"
   },
   {
    "duration": 21,
    "start_time": "2023-04-02T12:15:24.802Z"
   },
   {
    "duration": 23,
    "start_time": "2023-04-02T12:15:24.825Z"
   },
   {
    "duration": 25,
    "start_time": "2023-04-02T12:15:24.850Z"
   },
   {
    "duration": 15,
    "start_time": "2023-04-02T12:15:24.877Z"
   },
   {
    "duration": 28,
    "start_time": "2023-04-02T12:15:24.893Z"
   },
   {
    "duration": 25,
    "start_time": "2023-04-02T12:15:24.923Z"
   },
   {
    "duration": 35,
    "start_time": "2023-04-02T12:15:24.950Z"
   },
   {
    "duration": 29,
    "start_time": "2023-04-02T12:15:24.988Z"
   },
   {
    "duration": 29,
    "start_time": "2023-04-02T12:15:25.019Z"
   },
   {
    "duration": 24,
    "start_time": "2023-04-02T12:15:25.050Z"
   },
   {
    "duration": 25,
    "start_time": "2023-04-02T12:15:25.079Z"
   },
   {
    "duration": 13,
    "start_time": "2023-04-02T12:15:25.105Z"
   },
   {
    "duration": 11,
    "start_time": "2023-04-02T12:15:25.120Z"
   },
   {
    "duration": 44,
    "start_time": "2023-04-02T12:15:25.133Z"
   },
   {
    "duration": 13,
    "start_time": "2023-04-02T12:15:25.178Z"
   },
   {
    "duration": 18,
    "start_time": "2023-04-02T12:15:25.193Z"
   },
   {
    "duration": 16,
    "start_time": "2023-04-02T12:15:25.213Z"
   },
   {
    "duration": 23,
    "start_time": "2023-04-02T12:15:25.231Z"
   },
   {
    "duration": 43,
    "start_time": "2023-04-02T12:15:25.255Z"
   },
   {
    "duration": 21,
    "start_time": "2023-04-02T12:15:25.300Z"
   },
   {
    "duration": 36,
    "start_time": "2023-04-02T12:15:25.323Z"
   },
   {
    "duration": 46,
    "start_time": "2023-04-02T12:15:25.360Z"
   },
   {
    "duration": 15,
    "start_time": "2023-04-02T12:15:25.408Z"
   },
   {
    "duration": 15,
    "start_time": "2023-04-02T12:15:25.424Z"
   },
   {
    "duration": 37,
    "start_time": "2023-04-02T12:15:25.441Z"
   },
   {
    "duration": 18,
    "start_time": "2023-04-02T12:15:25.480Z"
   },
   {
    "duration": 25,
    "start_time": "2023-04-02T12:15:25.500Z"
   },
   {
    "duration": 9,
    "start_time": "2023-04-02T12:15:42.676Z"
   },
   {
    "duration": 2,
    "start_time": "2023-04-02T12:15:43.751Z"
   },
   {
    "duration": 3,
    "start_time": "2023-04-02T12:15:44.037Z"
   },
   {
    "duration": 3,
    "start_time": "2023-04-02T12:15:44.576Z"
   },
   {
    "duration": 303,
    "start_time": "2023-04-02T12:15:45.388Z"
   },
   {
    "duration": 136,
    "start_time": "2023-04-02T12:15:45.851Z"
   },
   {
    "duration": 5,
    "start_time": "2023-04-02T12:15:56.313Z"
   },
   {
    "duration": 6,
    "start_time": "2023-04-02T12:15:58.501Z"
   },
   {
    "duration": 9,
    "start_time": "2023-04-02T12:16:52.841Z"
   },
   {
    "duration": 3,
    "start_time": "2023-04-02T12:16:53.542Z"
   },
   {
    "duration": 2,
    "start_time": "2023-04-02T12:16:53.828Z"
   },
   {
    "duration": 4,
    "start_time": "2023-04-02T12:16:54.289Z"
   },
   {
    "duration": 17,
    "start_time": "2023-04-02T12:16:55.977Z"
   },
   {
    "duration": 9,
    "start_time": "2023-04-02T12:17:16.467Z"
   },
   {
    "duration": 11,
    "start_time": "2023-04-02T12:17:21.493Z"
   },
   {
    "duration": 3,
    "start_time": "2023-04-02T12:17:22.205Z"
   },
   {
    "duration": 3,
    "start_time": "2023-04-02T12:17:22.453Z"
   },
   {
    "duration": 4,
    "start_time": "2023-04-02T12:17:22.753Z"
   },
   {
    "duration": 302,
    "start_time": "2023-04-02T12:17:23.029Z"
   },
   {
    "duration": 4,
    "start_time": "2023-04-02T12:17:24.080Z"
   },
   {
    "duration": 687,
    "start_time": "2023-04-02T12:17:24.855Z"
   },
   {
    "duration": 11,
    "start_time": "2023-04-02T12:17:48.205Z"
   },
   {
    "duration": 2,
    "start_time": "2023-04-02T12:17:48.904Z"
   },
   {
    "duration": 2,
    "start_time": "2023-04-02T12:17:49.179Z"
   },
   {
    "duration": 3,
    "start_time": "2023-04-02T12:17:49.467Z"
   },
   {
    "duration": 296,
    "start_time": "2023-04-02T12:17:49.742Z"
   },
   {
    "duration": 4,
    "start_time": "2023-04-02T12:17:50.040Z"
   },
   {
    "duration": 16,
    "start_time": "2023-04-02T12:17:50.045Z"
   },
   {
    "duration": 8,
    "start_time": "2023-04-02T12:23:55.943Z"
   },
   {
    "duration": 3,
    "start_time": "2023-04-02T12:23:58.478Z"
   },
   {
    "duration": 3,
    "start_time": "2023-04-02T12:23:58.752Z"
   },
   {
    "duration": 3,
    "start_time": "2023-04-02T12:23:59.017Z"
   },
   {
    "duration": 322,
    "start_time": "2023-04-02T12:23:59.267Z"
   },
   {
    "duration": 0,
    "start_time": "2023-04-02T12:23:59.591Z"
   },
   {
    "duration": 9,
    "start_time": "2023-04-02T12:24:31.592Z"
   },
   {
    "duration": 3,
    "start_time": "2023-04-02T12:24:32.328Z"
   },
   {
    "duration": 2,
    "start_time": "2023-04-02T12:24:32.642Z"
   },
   {
    "duration": 3,
    "start_time": "2023-04-02T12:24:32.928Z"
   },
   {
    "duration": 296,
    "start_time": "2023-04-02T12:24:33.342Z"
   },
   {
    "duration": 4,
    "start_time": "2023-04-02T12:24:34.405Z"
   },
   {
    "duration": 10,
    "start_time": "2023-04-02T12:24:35.092Z"
   },
   {
    "duration": 9,
    "start_time": "2023-04-02T12:24:51.643Z"
   },
   {
    "duration": 8,
    "start_time": "2023-04-02T12:24:54.517Z"
   },
   {
    "duration": 3,
    "start_time": "2023-04-02T12:24:55.244Z"
   },
   {
    "duration": 3,
    "start_time": "2023-04-02T12:24:55.518Z"
   },
   {
    "duration": 3,
    "start_time": "2023-04-02T12:24:55.792Z"
   },
   {
    "duration": 313,
    "start_time": "2023-04-02T12:24:56.081Z"
   },
   {
    "duration": 7,
    "start_time": "2023-04-02T12:25:16.293Z"
   },
   {
    "duration": 5,
    "start_time": "2023-04-02T12:25:21.769Z"
   },
   {
    "duration": 13,
    "start_time": "2023-04-02T12:25:31.379Z"
   },
   {
    "duration": 139,
    "start_time": "2023-04-02T12:26:07.195Z"
   },
   {
    "duration": 89,
    "start_time": "2023-04-02T12:26:27.082Z"
   },
   {
    "duration": 4,
    "start_time": "2023-04-02T12:26:31.107Z"
   },
   {
    "duration": 4,
    "start_time": "2023-04-02T12:26:38.920Z"
   },
   {
    "duration": 6,
    "start_time": "2023-04-02T12:26:46.858Z"
   },
   {
    "duration": 134,
    "start_time": "2023-04-02T12:26:51.758Z"
   },
   {
    "duration": 139,
    "start_time": "2023-04-02T12:27:07.921Z"
   },
   {
    "duration": 5,
    "start_time": "2023-04-02T12:27:17.734Z"
   },
   {
    "duration": 130,
    "start_time": "2023-04-02T12:27:26.997Z"
   },
   {
    "duration": 9,
    "start_time": "2023-04-02T12:33:12.480Z"
   },
   {
    "duration": 2,
    "start_time": "2023-04-02T12:33:13.215Z"
   },
   {
    "duration": 2,
    "start_time": "2023-04-02T12:33:13.490Z"
   },
   {
    "duration": 3,
    "start_time": "2023-04-02T12:33:13.764Z"
   },
   {
    "duration": 3317,
    "start_time": "2023-04-02T12:33:14.215Z"
   },
   {
    "duration": 7,
    "start_time": "2023-04-02T12:38:21.412Z"
   },
   {
    "duration": 12,
    "start_time": "2023-04-02T12:41:04.096Z"
   },
   {
    "duration": 208,
    "start_time": "2023-04-02T12:41:50.444Z"
   },
   {
    "duration": 399,
    "start_time": "2023-04-02T12:41:54.712Z"
   },
   {
    "duration": 536,
    "start_time": "2023-04-02T12:42:01.638Z"
   },
   {
    "duration": 403,
    "start_time": "2023-04-02T12:42:07.187Z"
   },
   {
    "duration": 17,
    "start_time": "2023-04-02T12:42:22.376Z"
   },
   {
    "duration": 409,
    "start_time": "2023-04-02T12:42:37.376Z"
   },
   {
    "duration": 417,
    "start_time": "2023-04-02T12:43:19.003Z"
   },
   {
    "duration": 566,
    "start_time": "2023-04-02T12:43:53.416Z"
   },
   {
    "duration": 446,
    "start_time": "2023-04-02T12:44:01.291Z"
   },
   {
    "duration": 451,
    "start_time": "2023-04-02T12:44:32.184Z"
   },
   {
    "duration": 504,
    "start_time": "2023-04-02T12:45:05.393Z"
   },
   {
    "duration": 665,
    "start_time": "2023-04-02T12:45:16.193Z"
   },
   {
    "duration": 447,
    "start_time": "2023-04-02T12:45:23.769Z"
   },
   {
    "duration": 442,
    "start_time": "2023-04-02T12:45:27.844Z"
   },
   {
    "duration": 571,
    "start_time": "2023-04-02T12:45:32.181Z"
   },
   {
    "duration": 5,
    "start_time": "2023-04-02T12:47:47.547Z"
   },
   {
    "duration": 450,
    "start_time": "2023-04-02T12:47:48.085Z"
   },
   {
    "duration": 7,
    "start_time": "2023-04-02T12:50:20.049Z"
   },
   {
    "duration": 10,
    "start_time": "2023-04-02T13:10:21.392Z"
   },
   {
    "duration": 3,
    "start_time": "2023-04-02T13:15:14.870Z"
   },
   {
    "duration": 3,
    "start_time": "2023-04-02T13:15:25.869Z"
   },
   {
    "duration": 13,
    "start_time": "2023-04-02T13:15:42.681Z"
   },
   {
    "duration": 84,
    "start_time": "2023-04-02T13:28:25.205Z"
   },
   {
    "duration": 11,
    "start_time": "2023-04-02T13:28:29.192Z"
   },
   {
    "duration": 12,
    "start_time": "2023-04-02T13:28:36.279Z"
   },
   {
    "duration": 4,
    "start_time": "2023-04-02T13:28:56.783Z"
   },
   {
    "duration": 12,
    "start_time": "2023-04-02T13:29:10.567Z"
   },
   {
    "duration": 5,
    "start_time": "2023-04-02T13:29:15.868Z"
   },
   {
    "duration": 5,
    "start_time": "2023-04-02T13:29:21.456Z"
   },
   {
    "duration": 4,
    "start_time": "2023-04-02T13:29:37.807Z"
   },
   {
    "duration": 4,
    "start_time": "2023-04-02T13:29:48.669Z"
   },
   {
    "duration": 9,
    "start_time": "2023-04-02T13:30:00.833Z"
   },
   {
    "duration": 16,
    "start_time": "2023-04-02T13:30:05.232Z"
   },
   {
    "duration": 9,
    "start_time": "2023-04-02T13:30:24.670Z"
   },
   {
    "duration": 3,
    "start_time": "2023-04-02T13:30:26.008Z"
   },
   {
    "duration": 5,
    "start_time": "2023-04-02T13:30:26.385Z"
   },
   {
    "duration": 4,
    "start_time": "2023-04-02T13:30:26.720Z"
   },
   {
    "duration": 3,
    "start_time": "2023-04-02T13:30:27.308Z"
   },
   {
    "duration": 5,
    "start_time": "2023-04-02T13:30:28.145Z"
   },
   {
    "duration": 12,
    "start_time": "2023-04-02T13:30:29.358Z"
   },
   {
    "duration": 12,
    "start_time": "2023-04-02T13:31:15.195Z"
   },
   {
    "duration": 14,
    "start_time": "2023-04-02T13:31:59.712Z"
   },
   {
    "duration": 11,
    "start_time": "2023-04-02T13:32:16.837Z"
   },
   {
    "duration": 13,
    "start_time": "2023-04-02T13:33:55.526Z"
   },
   {
    "duration": 12,
    "start_time": "2023-04-02T13:34:06.277Z"
   },
   {
    "duration": 16,
    "start_time": "2023-04-02T13:34:19.253Z"
   },
   {
    "duration": 11,
    "start_time": "2023-04-02T13:34:25.753Z"
   },
   {
    "duration": 19,
    "start_time": "2023-04-02T13:34:32.128Z"
   },
   {
    "duration": 13,
    "start_time": "2023-04-02T13:36:13.900Z"
   },
   {
    "duration": 4,
    "start_time": "2023-04-02T13:36:39.484Z"
   },
   {
    "duration": 18,
    "start_time": "2023-04-02T13:36:43.210Z"
   },
   {
    "duration": 4,
    "start_time": "2023-04-02T13:38:11.890Z"
   },
   {
    "duration": 19,
    "start_time": "2023-04-02T13:38:15.277Z"
   },
   {
    "duration": 19,
    "start_time": "2023-04-02T13:38:35.301Z"
   },
   {
    "duration": 17,
    "start_time": "2023-04-02T13:43:04.147Z"
   },
   {
    "duration": 7,
    "start_time": "2023-04-02T13:43:32.621Z"
   },
   {
    "duration": 6,
    "start_time": "2023-04-02T13:43:34.897Z"
   },
   {
    "duration": 5,
    "start_time": "2023-04-02T13:44:18.074Z"
   },
   {
    "duration": 25,
    "start_time": "2023-04-02T13:44:20.898Z"
   },
   {
    "duration": 6,
    "start_time": "2023-04-02T13:47:34.564Z"
   },
   {
    "duration": 5,
    "start_time": "2023-04-02T13:47:42.188Z"
   },
   {
    "duration": 5,
    "start_time": "2023-04-02T13:51:31.840Z"
   },
   {
    "duration": 5,
    "start_time": "2023-04-02T13:51:33.481Z"
   },
   {
    "duration": 21,
    "start_time": "2023-04-02T13:51:38.019Z"
   },
   {
    "duration": 2105,
    "start_time": "2023-04-02T13:52:29.776Z"
   },
   {
    "duration": 4,
    "start_time": "2023-04-02T13:52:31.883Z"
   },
   {
    "duration": 53,
    "start_time": "2023-04-02T13:52:31.889Z"
   },
   {
    "duration": 16,
    "start_time": "2023-04-02T13:52:31.945Z"
   },
   {
    "duration": 15,
    "start_time": "2023-04-02T13:52:31.963Z"
   },
   {
    "duration": 16,
    "start_time": "2023-04-02T13:52:31.980Z"
   },
   {
    "duration": 30,
    "start_time": "2023-04-02T13:52:31.999Z"
   },
   {
    "duration": 30,
    "start_time": "2023-04-02T13:52:32.030Z"
   },
   {
    "duration": 25,
    "start_time": "2023-04-02T13:52:32.062Z"
   },
   {
    "duration": 6,
    "start_time": "2023-04-02T13:52:32.090Z"
   },
   {
    "duration": 10,
    "start_time": "2023-04-02T13:52:32.098Z"
   },
   {
    "duration": 8,
    "start_time": "2023-04-02T13:52:32.110Z"
   },
   {
    "duration": 12,
    "start_time": "2023-04-02T13:52:32.127Z"
   },
   {
    "duration": 7,
    "start_time": "2023-04-02T13:52:32.141Z"
   },
   {
    "duration": 1200,
    "start_time": "2023-04-02T13:52:32.149Z"
   },
   {
    "duration": 1049,
    "start_time": "2023-04-02T13:52:33.351Z"
   },
   {
    "duration": 4,
    "start_time": "2023-04-02T13:52:34.401Z"
   },
   {
    "duration": 6,
    "start_time": "2023-04-02T13:52:34.407Z"
   },
   {
    "duration": 11,
    "start_time": "2023-04-02T13:52:34.415Z"
   },
   {
    "duration": 18,
    "start_time": "2023-04-02T13:52:34.427Z"
   },
   {
    "duration": 14,
    "start_time": "2023-04-02T13:52:34.447Z"
   },
   {
    "duration": 7,
    "start_time": "2023-04-02T13:52:34.463Z"
   },
   {
    "duration": 7,
    "start_time": "2023-04-02T13:52:34.471Z"
   },
   {
    "duration": 17,
    "start_time": "2023-04-02T13:52:34.480Z"
   },
   {
    "duration": 15,
    "start_time": "2023-04-02T13:52:34.499Z"
   },
   {
    "duration": 22,
    "start_time": "2023-04-02T13:52:34.516Z"
   },
   {
    "duration": 28,
    "start_time": "2023-04-02T13:52:34.541Z"
   },
   {
    "duration": 9,
    "start_time": "2023-04-02T13:52:34.576Z"
   },
   {
    "duration": 25,
    "start_time": "2023-04-02T13:52:34.586Z"
   },
   {
    "duration": 8,
    "start_time": "2023-04-02T13:52:34.613Z"
   },
   {
    "duration": 15,
    "start_time": "2023-04-02T13:52:34.626Z"
   },
   {
    "duration": 16,
    "start_time": "2023-04-02T13:52:34.643Z"
   },
   {
    "duration": 6,
    "start_time": "2023-04-02T13:52:34.661Z"
   },
   {
    "duration": 16,
    "start_time": "2023-04-02T13:52:34.669Z"
   },
   {
    "duration": 15,
    "start_time": "2023-04-02T13:52:34.687Z"
   },
   {
    "duration": 15,
    "start_time": "2023-04-02T13:52:34.704Z"
   },
   {
    "duration": 14,
    "start_time": "2023-04-02T13:52:34.721Z"
   },
   {
    "duration": 19,
    "start_time": "2023-04-02T13:52:34.741Z"
   },
   {
    "duration": 31,
    "start_time": "2023-04-02T13:52:34.762Z"
   },
   {
    "duration": 6,
    "start_time": "2023-04-02T13:52:34.795Z"
   },
   {
    "duration": 21,
    "start_time": "2023-04-02T13:52:34.803Z"
   },
   {
    "duration": 16,
    "start_time": "2023-04-02T13:52:34.826Z"
   },
   {
    "duration": 8,
    "start_time": "2023-04-02T13:52:34.846Z"
   },
   {
    "duration": 11,
    "start_time": "2023-04-02T13:52:34.856Z"
   },
   {
    "duration": 20,
    "start_time": "2023-04-02T13:52:34.870Z"
   },
   {
    "duration": 15,
    "start_time": "2023-04-02T13:52:34.893Z"
   },
   {
    "duration": 7,
    "start_time": "2023-04-02T13:52:34.910Z"
   },
   {
    "duration": 4,
    "start_time": "2023-04-02T13:52:36.640Z"
   },
   {
    "duration": 3,
    "start_time": "2023-04-02T13:52:41.307Z"
   },
   {
    "duration": 3,
    "start_time": "2023-04-02T13:52:45.203Z"
   },
   {
    "duration": 162,
    "start_time": "2023-04-02T13:53:12.936Z"
   },
   {
    "duration": 28,
    "start_time": "2023-04-02T13:53:33.148Z"
   },
   {
    "duration": 3,
    "start_time": "2023-04-02T13:55:35.439Z"
   },
   {
    "duration": 5,
    "start_time": "2023-04-02T13:55:57.252Z"
   },
   {
    "duration": 12,
    "start_time": "2023-04-02T13:56:07.353Z"
   },
   {
    "duration": 4,
    "start_time": "2023-04-02T13:56:09.478Z"
   },
   {
    "duration": 10,
    "start_time": "2023-04-02T13:56:12.403Z"
   },
   {
    "duration": 4,
    "start_time": "2023-04-02T13:56:16.890Z"
   },
   {
    "duration": 4,
    "start_time": "2023-04-02T13:56:22.553Z"
   },
   {
    "duration": 4,
    "start_time": "2023-04-02T13:57:04.507Z"
   },
   {
    "duration": 9,
    "start_time": "2023-04-02T13:57:54.068Z"
   },
   {
    "duration": 3,
    "start_time": "2023-04-02T13:57:56.371Z"
   },
   {
    "duration": 3,
    "start_time": "2023-04-02T13:57:57.306Z"
   },
   {
    "duration": 11,
    "start_time": "2023-04-02T13:57:57.756Z"
   },
   {
    "duration": 3,
    "start_time": "2023-04-02T13:58:10.070Z"
   },
   {
    "duration": 3,
    "start_time": "2023-04-02T13:58:18.536Z"
   },
   {
    "duration": 3,
    "start_time": "2023-04-02T13:58:19.769Z"
   },
   {
    "duration": 12,
    "start_time": "2023-04-02T13:58:21.720Z"
   },
   {
    "duration": 21,
    "start_time": "2023-04-02T13:58:32.271Z"
   },
   {
    "duration": 1938,
    "start_time": "2023-04-02T13:59:17.057Z"
   },
   {
    "duration": 4,
    "start_time": "2023-04-02T13:59:18.998Z"
   },
   {
    "duration": 27,
    "start_time": "2023-04-02T13:59:19.004Z"
   },
   {
    "duration": 16,
    "start_time": "2023-04-02T13:59:19.033Z"
   },
   {
    "duration": 6,
    "start_time": "2023-04-02T13:59:19.052Z"
   },
   {
    "duration": 6,
    "start_time": "2023-04-02T13:59:19.060Z"
   },
   {
    "duration": 15,
    "start_time": "2023-04-02T13:59:19.068Z"
   },
   {
    "duration": 5,
    "start_time": "2023-04-02T13:59:19.085Z"
   },
   {
    "duration": 67,
    "start_time": "2023-04-02T13:59:19.093Z"
   },
   {
    "duration": 7,
    "start_time": "2023-04-02T13:59:19.162Z"
   },
   {
    "duration": 5,
    "start_time": "2023-04-02T13:59:19.171Z"
   },
   {
    "duration": 9,
    "start_time": "2023-04-02T13:59:19.178Z"
   },
   {
    "duration": 40,
    "start_time": "2023-04-02T13:59:19.188Z"
   },
   {
    "duration": 6,
    "start_time": "2023-04-02T13:59:19.233Z"
   },
   {
    "duration": 1009,
    "start_time": "2023-04-02T13:59:19.240Z"
   },
   {
    "duration": 1113,
    "start_time": "2023-04-02T13:59:20.251Z"
   },
   {
    "duration": 4,
    "start_time": "2023-04-02T13:59:21.365Z"
   },
   {
    "duration": 6,
    "start_time": "2023-04-02T13:59:21.370Z"
   },
   {
    "duration": 5,
    "start_time": "2023-04-02T13:59:21.378Z"
   },
   {
    "duration": 5,
    "start_time": "2023-04-02T13:59:21.385Z"
   },
   {
    "duration": 11,
    "start_time": "2023-04-02T13:59:21.392Z"
   },
   {
    "duration": 20,
    "start_time": "2023-04-02T13:59:21.404Z"
   },
   {
    "duration": 23,
    "start_time": "2023-04-02T13:59:21.426Z"
   },
   {
    "duration": 21,
    "start_time": "2023-04-02T13:59:21.451Z"
   },
   {
    "duration": 8,
    "start_time": "2023-04-02T13:59:21.473Z"
   },
   {
    "duration": 12,
    "start_time": "2023-04-02T13:59:21.483Z"
   },
   {
    "duration": 6,
    "start_time": "2023-04-02T13:59:21.497Z"
   },
   {
    "duration": 18,
    "start_time": "2023-04-02T13:59:21.504Z"
   },
   {
    "duration": 14,
    "start_time": "2023-04-02T13:59:21.524Z"
   },
   {
    "duration": 5,
    "start_time": "2023-04-02T13:59:21.540Z"
   },
   {
    "duration": 17,
    "start_time": "2023-04-02T13:59:21.547Z"
   },
   {
    "duration": 5,
    "start_time": "2023-04-02T13:59:21.565Z"
   },
   {
    "duration": 7,
    "start_time": "2023-04-02T13:59:21.572Z"
   },
   {
    "duration": 12,
    "start_time": "2023-04-02T13:59:21.581Z"
   },
   {
    "duration": 16,
    "start_time": "2023-04-02T13:59:21.595Z"
   },
   {
    "duration": 13,
    "start_time": "2023-04-02T13:59:21.613Z"
   },
   {
    "duration": 14,
    "start_time": "2023-04-02T13:59:21.628Z"
   },
   {
    "duration": 18,
    "start_time": "2023-04-02T13:59:21.644Z"
   },
   {
    "duration": 28,
    "start_time": "2023-04-02T13:59:21.663Z"
   },
   {
    "duration": 21,
    "start_time": "2023-04-02T13:59:21.693Z"
   },
   {
    "duration": 10,
    "start_time": "2023-04-02T13:59:21.720Z"
   },
   {
    "duration": 12,
    "start_time": "2023-04-02T13:59:21.732Z"
   },
   {
    "duration": 6,
    "start_time": "2023-04-02T13:59:21.746Z"
   },
   {
    "duration": 9,
    "start_time": "2023-04-02T13:59:21.754Z"
   },
   {
    "duration": 29,
    "start_time": "2023-04-02T13:59:21.764Z"
   },
   {
    "duration": 9,
    "start_time": "2023-04-02T13:59:21.795Z"
   },
   {
    "duration": 8,
    "start_time": "2023-04-02T13:59:21.806Z"
   },
   {
    "duration": 7,
    "start_time": "2023-04-02T13:59:21.816Z"
   },
   {
    "duration": 10,
    "start_time": "2023-04-02T13:59:21.824Z"
   },
   {
    "duration": 7,
    "start_time": "2023-04-02T13:59:21.836Z"
   },
   {
    "duration": 25,
    "start_time": "2023-04-02T13:59:21.844Z"
   },
   {
    "duration": 171,
    "start_time": "2023-04-02T13:59:25.549Z"
   },
   {
    "duration": 22,
    "start_time": "2023-04-02T13:59:30.827Z"
   },
   {
    "duration": 8,
    "start_time": "2023-04-02T13:59:49.867Z"
   },
   {
    "duration": 21,
    "start_time": "2023-04-02T13:59:51.874Z"
   },
   {
    "duration": 4,
    "start_time": "2023-04-02T14:00:40.416Z"
   },
   {
    "duration": 17,
    "start_time": "2023-04-02T14:00:52.128Z"
   },
   {
    "duration": 12,
    "start_time": "2023-04-02T14:01:28.179Z"
   },
   {
    "duration": 11,
    "start_time": "2023-04-02T14:01:33.567Z"
   },
   {
    "duration": 15,
    "start_time": "2023-04-02T14:01:42.893Z"
   },
   {
    "duration": 5,
    "start_time": "2023-04-02T14:02:09.306Z"
   },
   {
    "duration": 5,
    "start_time": "2023-04-02T14:06:27.284Z"
   },
   {
    "duration": 5,
    "start_time": "2023-04-02T14:06:27.420Z"
   },
   {
    "duration": 19,
    "start_time": "2023-04-02T14:06:34.358Z"
   },
   {
    "duration": 1927,
    "start_time": "2023-04-02T14:06:42.553Z"
   },
   {
    "duration": 4,
    "start_time": "2023-04-02T14:06:44.482Z"
   },
   {
    "duration": 27,
    "start_time": "2023-04-02T14:06:44.488Z"
   },
   {
    "duration": 18,
    "start_time": "2023-04-02T14:06:44.518Z"
   },
   {
    "duration": 4,
    "start_time": "2023-04-02T14:06:44.538Z"
   },
   {
    "duration": 5,
    "start_time": "2023-04-02T14:06:44.544Z"
   },
   {
    "duration": 19,
    "start_time": "2023-04-02T14:06:44.550Z"
   },
   {
    "duration": 5,
    "start_time": "2023-04-02T14:06:44.572Z"
   },
   {
    "duration": 80,
    "start_time": "2023-04-02T14:06:44.579Z"
   },
   {
    "duration": 8,
    "start_time": "2023-04-02T14:06:44.663Z"
   },
   {
    "duration": 7,
    "start_time": "2023-04-02T14:06:44.673Z"
   },
   {
    "duration": 9,
    "start_time": "2023-04-02T14:06:44.682Z"
   },
   {
    "duration": 8,
    "start_time": "2023-04-02T14:06:44.692Z"
   },
   {
    "duration": 7,
    "start_time": "2023-04-02T14:06:44.702Z"
   },
   {
    "duration": 1283,
    "start_time": "2023-04-02T14:06:44.710Z"
   },
   {
    "duration": 1029,
    "start_time": "2023-04-02T14:06:45.995Z"
   },
   {
    "duration": 4,
    "start_time": "2023-04-02T14:06:47.026Z"
   },
   {
    "duration": 16,
    "start_time": "2023-04-02T14:06:47.032Z"
   },
   {
    "duration": 6,
    "start_time": "2023-04-02T14:06:47.051Z"
   },
   {
    "duration": 6,
    "start_time": "2023-04-02T14:06:47.058Z"
   },
   {
    "duration": 7,
    "start_time": "2023-04-02T14:06:47.065Z"
   },
   {
    "duration": 6,
    "start_time": "2023-04-02T14:06:47.074Z"
   },
   {
    "duration": 41,
    "start_time": "2023-04-02T14:06:47.082Z"
   },
   {
    "duration": 15,
    "start_time": "2023-04-02T14:06:47.125Z"
   },
   {
    "duration": 11,
    "start_time": "2023-04-02T14:06:47.142Z"
   },
   {
    "duration": 13,
    "start_time": "2023-04-02T14:06:47.154Z"
   },
   {
    "duration": 12,
    "start_time": "2023-04-02T14:06:47.170Z"
   },
   {
    "duration": 10,
    "start_time": "2023-04-02T14:06:47.187Z"
   },
   {
    "duration": 25,
    "start_time": "2023-04-02T14:06:47.199Z"
   },
   {
    "duration": 8,
    "start_time": "2023-04-02T14:06:47.226Z"
   },
   {
    "duration": 15,
    "start_time": "2023-04-02T14:06:47.237Z"
   },
   {
    "duration": 4,
    "start_time": "2023-04-02T14:06:47.254Z"
   },
   {
    "duration": 7,
    "start_time": "2023-04-02T14:06:47.260Z"
   },
   {
    "duration": 12,
    "start_time": "2023-04-02T14:06:47.269Z"
   },
   {
    "duration": 47,
    "start_time": "2023-04-02T14:06:47.283Z"
   },
   {
    "duration": 7,
    "start_time": "2023-04-02T14:06:47.332Z"
   },
   {
    "duration": 4,
    "start_time": "2023-04-02T14:06:47.341Z"
   },
   {
    "duration": 21,
    "start_time": "2023-04-02T14:06:47.347Z"
   },
   {
    "duration": 29,
    "start_time": "2023-04-02T14:06:47.370Z"
   },
   {
    "duration": 25,
    "start_time": "2023-04-02T14:06:47.401Z"
   },
   {
    "duration": 10,
    "start_time": "2023-04-02T14:06:47.428Z"
   },
   {
    "duration": 11,
    "start_time": "2023-04-02T14:06:47.440Z"
   },
   {
    "duration": 12,
    "start_time": "2023-04-02T14:06:47.453Z"
   },
   {
    "duration": 12,
    "start_time": "2023-04-02T14:06:47.467Z"
   },
   {
    "duration": 7,
    "start_time": "2023-04-02T14:06:47.481Z"
   },
   {
    "duration": 35,
    "start_time": "2023-04-02T14:06:47.490Z"
   },
   {
    "duration": 9,
    "start_time": "2023-04-02T14:06:47.527Z"
   },
   {
    "duration": 9,
    "start_time": "2023-04-02T14:06:47.538Z"
   },
   {
    "duration": 4,
    "start_time": "2023-04-02T14:06:47.549Z"
   },
   {
    "duration": 4,
    "start_time": "2023-04-02T14:06:47.555Z"
   },
   {
    "duration": 5,
    "start_time": "2023-04-02T14:06:47.561Z"
   },
   {
    "duration": 168,
    "start_time": "2023-04-02T14:06:47.568Z"
   },
   {
    "duration": 3,
    "start_time": "2023-04-02T14:06:58.273Z"
   },
   {
    "duration": 2,
    "start_time": "2023-04-02T14:06:58.627Z"
   },
   {
    "duration": 3,
    "start_time": "2023-04-02T14:06:58.928Z"
   },
   {
    "duration": 3,
    "start_time": "2023-04-02T14:06:59.359Z"
   },
   {
    "duration": 4,
    "start_time": "2023-04-02T14:06:59.601Z"
   },
   {
    "duration": 18,
    "start_time": "2023-04-02T14:07:03.616Z"
   },
   {
    "duration": 18,
    "start_time": "2023-04-02T14:07:14.516Z"
   },
   {
    "duration": 3,
    "start_time": "2023-04-02T14:09:02.289Z"
   },
   {
    "duration": 9,
    "start_time": "2023-04-02T14:09:02.751Z"
   },
   {
    "duration": 4,
    "start_time": "2023-04-02T14:09:03.865Z"
   },
   {
    "duration": 3,
    "start_time": "2023-04-02T14:09:04.519Z"
   },
   {
    "duration": 2,
    "start_time": "2023-04-02T14:09:04.826Z"
   },
   {
    "duration": 3,
    "start_time": "2023-04-02T14:09:05.163Z"
   },
   {
    "duration": 4,
    "start_time": "2023-04-02T14:09:05.463Z"
   },
   {
    "duration": 18,
    "start_time": "2023-04-02T14:09:05.777Z"
   },
   {
    "duration": 1918,
    "start_time": "2023-04-02T14:09:14.014Z"
   },
   {
    "duration": 4,
    "start_time": "2023-04-02T14:09:15.934Z"
   },
   {
    "duration": 25,
    "start_time": "2023-04-02T14:09:15.940Z"
   },
   {
    "duration": 14,
    "start_time": "2023-04-02T14:09:15.967Z"
   },
   {
    "duration": 4,
    "start_time": "2023-04-02T14:09:15.983Z"
   },
   {
    "duration": 7,
    "start_time": "2023-04-02T14:09:15.989Z"
   },
   {
    "duration": 33,
    "start_time": "2023-04-02T14:09:15.998Z"
   },
   {
    "duration": 5,
    "start_time": "2023-04-02T14:09:16.034Z"
   },
   {
    "duration": 35,
    "start_time": "2023-04-02T14:09:16.041Z"
   },
   {
    "duration": 7,
    "start_time": "2023-04-02T14:09:16.079Z"
   },
   {
    "duration": 11,
    "start_time": "2023-04-02T14:09:16.088Z"
   },
   {
    "duration": 30,
    "start_time": "2023-04-02T14:09:16.101Z"
   },
   {
    "duration": 9,
    "start_time": "2023-04-02T14:09:16.133Z"
   },
   {
    "duration": 16,
    "start_time": "2023-04-02T14:09:16.144Z"
   },
   {
    "duration": 1021,
    "start_time": "2023-04-02T14:09:16.162Z"
   },
   {
    "duration": 967,
    "start_time": "2023-04-02T14:09:17.185Z"
   },
   {
    "duration": 3,
    "start_time": "2023-04-02T14:09:18.154Z"
   },
   {
    "duration": 6,
    "start_time": "2023-04-02T14:09:18.159Z"
   },
   {
    "duration": 11,
    "start_time": "2023-04-02T14:09:18.167Z"
   },
   {
    "duration": 5,
    "start_time": "2023-04-02T14:09:18.180Z"
   },
   {
    "duration": 6,
    "start_time": "2023-04-02T14:09:18.186Z"
   },
   {
    "duration": 5,
    "start_time": "2023-04-02T14:09:18.194Z"
   },
   {
    "duration": 22,
    "start_time": "2023-04-02T14:09:18.201Z"
   },
   {
    "duration": 16,
    "start_time": "2023-04-02T14:09:18.225Z"
   },
   {
    "duration": 5,
    "start_time": "2023-04-02T14:09:18.243Z"
   },
   {
    "duration": 11,
    "start_time": "2023-04-02T14:09:18.249Z"
   },
   {
    "duration": 6,
    "start_time": "2023-04-02T14:09:18.261Z"
   },
   {
    "duration": 7,
    "start_time": "2023-04-02T14:09:18.270Z"
   },
   {
    "duration": 6,
    "start_time": "2023-04-02T14:09:18.279Z"
   },
   {
    "duration": 37,
    "start_time": "2023-04-02T14:09:18.286Z"
   },
   {
    "duration": 8,
    "start_time": "2023-04-02T14:09:18.325Z"
   },
   {
    "duration": 15,
    "start_time": "2023-04-02T14:09:18.335Z"
   },
   {
    "duration": 3,
    "start_time": "2023-04-02T14:09:18.352Z"
   },
   {
    "duration": 12,
    "start_time": "2023-04-02T14:09:18.357Z"
   },
   {
    "duration": 15,
    "start_time": "2023-04-02T14:09:18.370Z"
   },
   {
    "duration": 11,
    "start_time": "2023-04-02T14:09:18.387Z"
   },
   {
    "duration": 3,
    "start_time": "2023-04-02T14:09:18.399Z"
   },
   {
    "duration": 16,
    "start_time": "2023-04-02T14:09:18.424Z"
   },
   {
    "duration": 40,
    "start_time": "2023-04-02T14:09:18.442Z"
   },
   {
    "duration": 5,
    "start_time": "2023-04-02T14:09:18.484Z"
   },
   {
    "duration": 33,
    "start_time": "2023-04-02T14:09:18.491Z"
   },
   {
    "duration": 7,
    "start_time": "2023-04-02T14:09:18.526Z"
   },
   {
    "duration": 6,
    "start_time": "2023-04-02T14:09:18.535Z"
   },
   {
    "duration": 21,
    "start_time": "2023-04-02T14:09:18.543Z"
   },
   {
    "duration": 8,
    "start_time": "2023-04-02T14:09:18.567Z"
   },
   {
    "duration": 8,
    "start_time": "2023-04-02T14:09:18.577Z"
   },
   {
    "duration": 11,
    "start_time": "2023-04-02T14:09:18.590Z"
   },
   {
    "duration": 20,
    "start_time": "2023-04-02T14:09:18.603Z"
   },
   {
    "duration": 4,
    "start_time": "2023-04-02T14:09:18.625Z"
   },
   {
    "duration": 10,
    "start_time": "2023-04-02T14:09:18.631Z"
   },
   {
    "duration": 9,
    "start_time": "2023-04-02T14:09:18.643Z"
   },
   {
    "duration": 25,
    "start_time": "2023-04-02T14:09:18.654Z"
   },
   {
    "duration": 24,
    "start_time": "2023-04-02T14:09:18.680Z"
   },
   {
    "duration": 9,
    "start_time": "2023-04-02T14:09:27.327Z"
   },
   {
    "duration": 2,
    "start_time": "2023-04-02T14:09:28.377Z"
   },
   {
    "duration": 3,
    "start_time": "2023-04-02T14:09:28.920Z"
   },
   {
    "duration": 3,
    "start_time": "2023-04-02T14:09:29.189Z"
   },
   {
    "duration": 3,
    "start_time": "2023-04-02T14:09:29.464Z"
   },
   {
    "duration": 3,
    "start_time": "2023-04-02T14:09:29.752Z"
   },
   {
    "duration": 16,
    "start_time": "2023-04-02T14:09:30.039Z"
   },
   {
    "duration": 4,
    "start_time": "2023-04-02T14:09:30.328Z"
   },
   {
    "duration": 17,
    "start_time": "2023-04-02T14:11:38.482Z"
   },
   {
    "duration": 9,
    "start_time": "2023-04-02T14:12:46.923Z"
   },
   {
    "duration": 3,
    "start_time": "2023-04-02T14:12:48.058Z"
   },
   {
    "duration": 4,
    "start_time": "2023-04-02T14:12:48.809Z"
   },
   {
    "duration": 3,
    "start_time": "2023-04-02T14:12:49.156Z"
   },
   {
    "duration": 3,
    "start_time": "2023-04-02T14:12:49.509Z"
   },
   {
    "duration": 3,
    "start_time": "2023-04-02T14:12:49.830Z"
   },
   {
    "duration": 102,
    "start_time": "2023-04-02T14:13:06.720Z"
   },
   {
    "duration": 20,
    "start_time": "2023-04-02T14:13:11.445Z"
   },
   {
    "duration": 1943,
    "start_time": "2023-04-02T14:13:23.706Z"
   },
   {
    "duration": 4,
    "start_time": "2023-04-02T14:13:25.652Z"
   },
   {
    "duration": 30,
    "start_time": "2023-04-02T14:13:25.658Z"
   },
   {
    "duration": 15,
    "start_time": "2023-04-02T14:13:25.689Z"
   },
   {
    "duration": 4,
    "start_time": "2023-04-02T14:13:25.706Z"
   },
   {
    "duration": 10,
    "start_time": "2023-04-02T14:13:25.713Z"
   },
   {
    "duration": 14,
    "start_time": "2023-04-02T14:13:25.725Z"
   },
   {
    "duration": 9,
    "start_time": "2023-04-02T14:13:25.740Z"
   },
   {
    "duration": 28,
    "start_time": "2023-04-02T14:13:25.750Z"
   },
   {
    "duration": 5,
    "start_time": "2023-04-02T14:13:25.780Z"
   },
   {
    "duration": 8,
    "start_time": "2023-04-02T14:13:25.824Z"
   },
   {
    "duration": 11,
    "start_time": "2023-04-02T14:13:25.833Z"
   },
   {
    "duration": 22,
    "start_time": "2023-04-02T14:13:25.846Z"
   },
   {
    "duration": 5,
    "start_time": "2023-04-02T14:13:25.874Z"
   },
   {
    "duration": 1066,
    "start_time": "2023-04-02T14:13:25.882Z"
   },
   {
    "duration": 1011,
    "start_time": "2023-04-02T14:13:26.949Z"
   },
   {
    "duration": 4,
    "start_time": "2023-04-02T14:13:27.962Z"
   },
   {
    "duration": 7,
    "start_time": "2023-04-02T14:13:27.968Z"
   },
   {
    "duration": 15,
    "start_time": "2023-04-02T14:13:27.977Z"
   },
   {
    "duration": 7,
    "start_time": "2023-04-02T14:13:27.994Z"
   },
   {
    "duration": 18,
    "start_time": "2023-04-02T14:13:28.003Z"
   },
   {
    "duration": 11,
    "start_time": "2023-04-02T14:13:28.022Z"
   },
   {
    "duration": 6,
    "start_time": "2023-04-02T14:13:28.035Z"
   },
   {
    "duration": 27,
    "start_time": "2023-04-02T14:13:28.042Z"
   },
   {
    "duration": 6,
    "start_time": "2023-04-02T14:13:28.071Z"
   },
   {
    "duration": 9,
    "start_time": "2023-04-02T14:13:28.079Z"
   },
   {
    "duration": 17,
    "start_time": "2023-04-02T14:13:28.090Z"
   },
   {
    "duration": 17,
    "start_time": "2023-04-02T14:13:28.109Z"
   },
   {
    "duration": 7,
    "start_time": "2023-04-02T14:13:28.128Z"
   },
   {
    "duration": 7,
    "start_time": "2023-04-02T14:13:28.137Z"
   },
   {
    "duration": 11,
    "start_time": "2023-04-02T14:13:28.146Z"
   },
   {
    "duration": 4,
    "start_time": "2023-04-02T14:13:28.159Z"
   },
   {
    "duration": 4,
    "start_time": "2023-04-02T14:13:28.165Z"
   },
   {
    "duration": 8,
    "start_time": "2023-04-02T14:13:28.171Z"
   },
   {
    "duration": 45,
    "start_time": "2023-04-02T14:13:28.180Z"
   },
   {
    "duration": 6,
    "start_time": "2023-04-02T14:13:28.227Z"
   },
   {
    "duration": 5,
    "start_time": "2023-04-02T14:13:28.235Z"
   },
   {
    "duration": 15,
    "start_time": "2023-04-02T14:13:28.241Z"
   },
   {
    "duration": 33,
    "start_time": "2023-04-02T14:13:28.258Z"
   },
   {
    "duration": 5,
    "start_time": "2023-04-02T14:13:28.293Z"
   },
   {
    "duration": 10,
    "start_time": "2023-04-02T14:13:28.323Z"
   },
   {
    "duration": 10,
    "start_time": "2023-04-02T14:13:28.335Z"
   },
   {
    "duration": 8,
    "start_time": "2023-04-02T14:13:28.347Z"
   },
   {
    "duration": 19,
    "start_time": "2023-04-02T14:13:28.356Z"
   },
   {
    "duration": 20,
    "start_time": "2023-04-02T14:13:28.377Z"
   },
   {
    "duration": 13,
    "start_time": "2023-04-02T14:13:28.398Z"
   },
   {
    "duration": 15,
    "start_time": "2023-04-02T14:13:28.413Z"
   },
   {
    "duration": 56,
    "start_time": "2023-04-02T14:13:28.430Z"
   },
   {
    "duration": 19,
    "start_time": "2023-04-02T14:13:28.488Z"
   },
   {
    "duration": 23,
    "start_time": "2023-04-02T14:13:28.509Z"
   },
   {
    "duration": 21,
    "start_time": "2023-04-02T14:13:28.534Z"
   },
   {
    "duration": 10,
    "start_time": "2023-04-02T14:13:28.557Z"
   },
   {
    "duration": 20,
    "start_time": "2023-04-02T14:13:29.223Z"
   },
   {
    "duration": 10,
    "start_time": "2023-04-02T14:13:38.971Z"
   },
   {
    "duration": 3,
    "start_time": "2023-04-02T14:13:40.005Z"
   },
   {
    "duration": 4,
    "start_time": "2023-04-02T14:13:40.605Z"
   },
   {
    "duration": 3,
    "start_time": "2023-04-02T14:13:40.909Z"
   },
   {
    "duration": 3,
    "start_time": "2023-04-02T14:13:41.208Z"
   },
   {
    "duration": 4,
    "start_time": "2023-04-02T14:13:41.509Z"
   },
   {
    "duration": 16,
    "start_time": "2023-04-02T14:13:41.812Z"
   },
   {
    "duration": 136,
    "start_time": "2023-04-02T14:31:12.299Z"
   },
   {
    "duration": 4,
    "start_time": "2023-04-02T14:31:18.558Z"
   },
   {
    "duration": 6,
    "start_time": "2023-04-02T14:31:27.158Z"
   },
   {
    "duration": 10,
    "start_time": "2023-04-02T14:31:55.212Z"
   },
   {
    "duration": 14,
    "start_time": "2023-04-02T14:32:14.190Z"
   },
   {
    "duration": 6,
    "start_time": "2023-04-02T14:32:17.074Z"
   },
   {
    "duration": 13,
    "start_time": "2023-04-02T14:32:27.129Z"
   },
   {
    "duration": 14,
    "start_time": "2023-04-02T14:32:36.778Z"
   },
   {
    "duration": 18,
    "start_time": "2023-04-02T14:32:41.338Z"
   },
   {
    "duration": 6,
    "start_time": "2023-04-02T14:33:04.063Z"
   },
   {
    "duration": 9,
    "start_time": "2023-04-02T14:34:42.118Z"
   },
   {
    "duration": 4,
    "start_time": "2023-04-02T14:36:36.125Z"
   },
   {
    "duration": 14,
    "start_time": "2023-04-02T14:39:32.456Z"
   },
   {
    "duration": 13,
    "start_time": "2023-04-02T14:39:50.648Z"
   },
   {
    "duration": 6,
    "start_time": "2023-04-02T14:41:26.162Z"
   },
   {
    "duration": 3,
    "start_time": "2023-04-02T14:45:16.162Z"
   },
   {
    "duration": 6,
    "start_time": "2023-04-02T14:45:19.806Z"
   },
   {
    "duration": 11,
    "start_time": "2023-04-02T14:58:01.836Z"
   },
   {
    "duration": 4,
    "start_time": "2023-04-02T14:58:49.508Z"
   },
   {
    "duration": 4,
    "start_time": "2023-04-02T14:59:00.741Z"
   },
   {
    "duration": 4,
    "start_time": "2023-04-02T14:59:31.773Z"
   },
   {
    "duration": 4,
    "start_time": "2023-04-02T14:59:36.509Z"
   },
   {
    "duration": 5,
    "start_time": "2023-04-02T15:00:55.504Z"
   },
   {
    "duration": 5,
    "start_time": "2023-04-02T15:00:59.451Z"
   },
   {
    "duration": 11,
    "start_time": "2023-04-02T15:01:17.601Z"
   },
   {
    "duration": 6,
    "start_time": "2023-04-02T15:04:35.038Z"
   },
   {
    "duration": 6,
    "start_time": "2023-04-02T15:04:40.427Z"
   },
   {
    "duration": 12,
    "start_time": "2023-04-02T15:04:55.899Z"
   },
   {
    "duration": 11,
    "start_time": "2023-04-02T15:05:15.894Z"
   },
   {
    "duration": 12,
    "start_time": "2023-04-02T15:05:29.417Z"
   },
   {
    "duration": 12,
    "start_time": "2023-04-02T15:05:48.841Z"
   },
   {
    "duration": 75,
    "start_time": "2023-04-02T15:05:59.307Z"
   },
   {
    "duration": 12,
    "start_time": "2023-04-02T15:06:03.066Z"
   },
   {
    "duration": 6,
    "start_time": "2023-04-02T15:06:10.854Z"
   },
   {
    "duration": 10,
    "start_time": "2023-04-02T15:06:25.766Z"
   },
   {
    "duration": 3,
    "start_time": "2023-04-02T15:08:02.983Z"
   },
   {
    "duration": 10,
    "start_time": "2023-04-02T15:08:21.771Z"
   },
   {
    "duration": 5,
    "start_time": "2023-04-02T15:08:24.258Z"
   },
   {
    "duration": 6,
    "start_time": "2023-04-02T15:08:37.871Z"
   },
   {
    "duration": 11,
    "start_time": "2023-04-02T15:08:40.824Z"
   },
   {
    "duration": 4,
    "start_time": "2023-04-02T15:09:16.061Z"
   },
   {
    "duration": 3,
    "start_time": "2023-04-02T15:10:07.088Z"
   },
   {
    "duration": 9,
    "start_time": "2023-04-02T15:10:07.401Z"
   },
   {
    "duration": 4,
    "start_time": "2023-04-02T15:10:08.361Z"
   },
   {
    "duration": 5,
    "start_time": "2023-04-02T15:10:09.012Z"
   },
   {
    "duration": 5,
    "start_time": "2023-04-02T15:10:30.764Z"
   },
   {
    "duration": 3,
    "start_time": "2023-04-02T15:10:31.518Z"
   },
   {
    "duration": 7,
    "start_time": "2023-04-02T15:10:32.337Z"
   },
   {
    "duration": 1893,
    "start_time": "2023-04-02T15:10:40.596Z"
   },
   {
    "duration": 4,
    "start_time": "2023-04-02T15:10:42.491Z"
   },
   {
    "duration": 44,
    "start_time": "2023-04-02T15:10:42.496Z"
   },
   {
    "duration": 24,
    "start_time": "2023-04-02T15:10:42.542Z"
   },
   {
    "duration": 27,
    "start_time": "2023-04-02T15:10:42.569Z"
   },
   {
    "duration": 21,
    "start_time": "2023-04-02T15:10:42.597Z"
   },
   {
    "duration": 29,
    "start_time": "2023-04-02T15:10:42.619Z"
   },
   {
    "duration": 16,
    "start_time": "2023-04-02T15:10:42.650Z"
   },
   {
    "duration": 38,
    "start_time": "2023-04-02T15:10:42.668Z"
   },
   {
    "duration": 12,
    "start_time": "2023-04-02T15:10:42.708Z"
   },
   {
    "duration": 22,
    "start_time": "2023-04-02T15:10:42.722Z"
   },
   {
    "duration": 18,
    "start_time": "2023-04-02T15:10:42.745Z"
   },
   {
    "duration": 9,
    "start_time": "2023-04-02T15:10:42.765Z"
   },
   {
    "duration": 11,
    "start_time": "2023-04-02T15:10:42.778Z"
   },
   {
    "duration": 1002,
    "start_time": "2023-04-02T15:10:42.790Z"
   },
   {
    "duration": 1018,
    "start_time": "2023-04-02T15:10:43.794Z"
   },
   {
    "duration": 3,
    "start_time": "2023-04-02T15:10:44.813Z"
   },
   {
    "duration": 10,
    "start_time": "2023-04-02T15:10:44.818Z"
   },
   {
    "duration": 7,
    "start_time": "2023-04-02T15:10:44.830Z"
   },
   {
    "duration": 8,
    "start_time": "2023-04-02T15:10:44.839Z"
   },
   {
    "duration": 6,
    "start_time": "2023-04-02T15:10:44.849Z"
   },
   {
    "duration": 19,
    "start_time": "2023-04-02T15:10:44.857Z"
   },
   {
    "duration": 5,
    "start_time": "2023-04-02T15:10:44.878Z"
   },
   {
    "duration": 24,
    "start_time": "2023-04-02T15:10:44.885Z"
   },
   {
    "duration": 12,
    "start_time": "2023-04-02T15:10:44.910Z"
   },
   {
    "duration": 7,
    "start_time": "2023-04-02T15:10:44.924Z"
   },
   {
    "duration": 16,
    "start_time": "2023-04-02T15:10:44.933Z"
   },
   {
    "duration": 8,
    "start_time": "2023-04-02T15:10:44.951Z"
   },
   {
    "duration": 7,
    "start_time": "2023-04-02T15:10:44.961Z"
   },
   {
    "duration": 4,
    "start_time": "2023-04-02T15:10:44.970Z"
   },
   {
    "duration": 9,
    "start_time": "2023-04-02T15:10:44.976Z"
   },
   {
    "duration": 12,
    "start_time": "2023-04-02T15:10:44.986Z"
   },
   {
    "duration": 28,
    "start_time": "2023-04-02T15:10:44.999Z"
   },
   {
    "duration": 51,
    "start_time": "2023-04-02T15:10:45.029Z"
   },
   {
    "duration": 49,
    "start_time": "2023-04-02T15:10:45.081Z"
   },
   {
    "duration": 9,
    "start_time": "2023-04-02T15:10:45.132Z"
   },
   {
    "duration": 14,
    "start_time": "2023-04-02T15:10:45.143Z"
   },
   {
    "duration": 15,
    "start_time": "2023-04-02T15:10:45.159Z"
   },
   {
    "duration": 64,
    "start_time": "2023-04-02T15:10:45.176Z"
   },
   {
    "duration": 14,
    "start_time": "2023-04-02T15:10:45.242Z"
   },
   {
    "duration": 10,
    "start_time": "2023-04-02T15:10:45.260Z"
   },
   {
    "duration": 55,
    "start_time": "2023-04-02T15:10:45.272Z"
   },
   {
    "duration": 7,
    "start_time": "2023-04-02T15:10:45.329Z"
   },
   {
    "duration": 10,
    "start_time": "2023-04-02T15:10:45.337Z"
   },
   {
    "duration": 13,
    "start_time": "2023-04-02T15:10:45.349Z"
   },
   {
    "duration": 7,
    "start_time": "2023-04-02T15:10:45.363Z"
   },
   {
    "duration": 17,
    "start_time": "2023-04-02T15:10:45.372Z"
   },
   {
    "duration": 11,
    "start_time": "2023-04-02T15:10:45.391Z"
   },
   {
    "duration": 4,
    "start_time": "2023-04-02T15:10:45.403Z"
   },
   {
    "duration": 14,
    "start_time": "2023-04-02T15:10:45.409Z"
   },
   {
    "duration": 3,
    "start_time": "2023-04-02T15:10:50.126Z"
   },
   {
    "duration": 4,
    "start_time": "2023-04-02T15:11:12.739Z"
   },
   {
    "duration": 144,
    "start_time": "2023-04-02T15:12:15.318Z"
   },
   {
    "duration": 9,
    "start_time": "2023-04-02T15:12:39.582Z"
   },
   {
    "duration": 5,
    "start_time": "2023-04-02T15:12:40.568Z"
   },
   {
    "duration": 3,
    "start_time": "2023-04-02T15:12:40.929Z"
   },
   {
    "duration": 3,
    "start_time": "2023-04-02T15:12:41.305Z"
   },
   {
    "duration": 3,
    "start_time": "2023-04-02T15:12:41.693Z"
   },
   {
    "duration": 387,
    "start_time": "2023-04-02T15:12:42.180Z"
   },
   {
    "duration": 13,
    "start_time": "2023-04-02T15:13:06.962Z"
   },
   {
    "duration": 5,
    "start_time": "2023-04-02T15:13:09.207Z"
   },
   {
    "duration": 5,
    "start_time": "2023-04-02T15:13:18.659Z"
   },
   {
    "duration": 371,
    "start_time": "2023-04-02T15:13:55.310Z"
   },
   {
    "duration": 9,
    "start_time": "2023-04-02T15:14:12.273Z"
   },
   {
    "duration": 4,
    "start_time": "2023-04-02T15:14:13.335Z"
   },
   {
    "duration": 2,
    "start_time": "2023-04-02T15:14:13.622Z"
   },
   {
    "duration": 3,
    "start_time": "2023-04-02T15:14:13.921Z"
   },
   {
    "duration": 4,
    "start_time": "2023-04-02T15:14:14.235Z"
   },
   {
    "duration": 610,
    "start_time": "2023-04-02T15:14:14.528Z"
   },
   {
    "duration": 9,
    "start_time": "2023-04-02T15:14:23.763Z"
   },
   {
    "duration": 4,
    "start_time": "2023-04-02T15:14:24.759Z"
   },
   {
    "duration": 3,
    "start_time": "2023-04-02T15:14:25.047Z"
   },
   {
    "duration": 3,
    "start_time": "2023-04-02T15:14:25.323Z"
   },
   {
    "duration": 3,
    "start_time": "2023-04-02T15:14:25.622Z"
   },
   {
    "duration": 594,
    "start_time": "2023-04-02T15:14:26.062Z"
   },
   {
    "duration": 9,
    "start_time": "2023-04-02T15:14:33.898Z"
   },
   {
    "duration": 4,
    "start_time": "2023-04-02T15:14:34.961Z"
   },
   {
    "duration": 3,
    "start_time": "2023-04-02T15:14:35.253Z"
   },
   {
    "duration": 3,
    "start_time": "2023-04-02T15:14:35.573Z"
   },
   {
    "duration": 4,
    "start_time": "2023-04-02T15:14:35.888Z"
   },
   {
    "duration": 611,
    "start_time": "2023-04-02T15:14:36.198Z"
   },
   {
    "duration": 8,
    "start_time": "2023-04-02T15:15:28.667Z"
   },
   {
    "duration": 3,
    "start_time": "2023-04-02T15:15:29.788Z"
   },
   {
    "duration": 3,
    "start_time": "2023-04-02T15:15:30.113Z"
   },
   {
    "duration": 4,
    "start_time": "2023-04-02T15:15:30.425Z"
   },
   {
    "duration": 4,
    "start_time": "2023-04-02T15:15:30.737Z"
   },
   {
    "duration": 579,
    "start_time": "2023-04-02T15:15:31.016Z"
   },
   {
    "duration": 3,
    "start_time": "2023-04-02T15:16:05.427Z"
   },
   {
    "duration": 9,
    "start_time": "2023-04-02T15:16:18.267Z"
   },
   {
    "duration": 4,
    "start_time": "2023-04-02T15:16:19.256Z"
   },
   {
    "duration": 3,
    "start_time": "2023-04-02T15:16:19.540Z"
   },
   {
    "duration": 3,
    "start_time": "2023-04-02T15:16:19.827Z"
   },
   {
    "duration": 3,
    "start_time": "2023-04-02T15:16:20.105Z"
   },
   {
    "duration": 413,
    "start_time": "2023-04-02T15:16:20.403Z"
   },
   {
    "duration": 9,
    "start_time": "2023-04-02T15:16:38.980Z"
   },
   {
    "duration": 4,
    "start_time": "2023-04-02T15:16:40.128Z"
   },
   {
    "duration": 3,
    "start_time": "2023-04-02T15:16:40.441Z"
   },
   {
    "duration": 3,
    "start_time": "2023-04-02T15:16:40.766Z"
   },
   {
    "duration": 3,
    "start_time": "2023-04-02T15:16:41.091Z"
   },
   {
    "duration": 360,
    "start_time": "2023-04-02T15:16:41.416Z"
   },
   {
    "duration": 12,
    "start_time": "2023-04-02T15:16:58.630Z"
   },
   {
    "duration": 12,
    "start_time": "2023-04-02T15:17:17.532Z"
   },
   {
    "duration": 4,
    "start_time": "2023-04-02T15:17:25.993Z"
   },
   {
    "duration": 4,
    "start_time": "2023-04-02T15:17:46.907Z"
   },
   {
    "duration": 10,
    "start_time": "2023-04-02T15:17:55.132Z"
   },
   {
    "duration": 4,
    "start_time": "2023-04-02T15:17:56.118Z"
   },
   {
    "duration": 2,
    "start_time": "2023-04-02T15:17:56.394Z"
   },
   {
    "duration": 2,
    "start_time": "2023-04-02T15:17:57.034Z"
   },
   {
    "duration": 3,
    "start_time": "2023-04-02T15:17:57.556Z"
   },
   {
    "duration": 381,
    "start_time": "2023-04-02T15:17:58.582Z"
   },
   {
    "duration": 4,
    "start_time": "2023-04-02T15:18:52.722Z"
   },
   {
    "duration": 385,
    "start_time": "2023-04-02T15:18:54.536Z"
   },
   {
    "duration": 3,
    "start_time": "2023-04-02T15:19:24.160Z"
   },
   {
    "duration": 2,
    "start_time": "2023-04-02T15:19:26.563Z"
   },
   {
    "duration": 4,
    "start_time": "2023-04-02T15:19:26.763Z"
   },
   {
    "duration": 485,
    "start_time": "2023-04-02T15:19:34.873Z"
   },
   {
    "duration": 20295,
    "start_time": "2023-04-02T15:19:52.136Z"
   },
   {
    "duration": 14,
    "start_time": "2023-04-02T15:20:32.354Z"
   },
   {
    "duration": 3,
    "start_time": "2023-04-02T15:20:37.239Z"
   },
   {
    "duration": 50219,
    "start_time": "2023-04-02T15:20:55.163Z"
   },
   {
    "duration": 17235,
    "start_time": "2023-04-02T15:21:48.463Z"
   },
   {
    "duration": 39517,
    "start_time": "2023-04-02T15:22:08.043Z"
   },
   {
    "duration": 2932,
    "start_time": "2023-04-02T15:23:04.484Z"
   },
   {
    "duration": 1857,
    "start_time": "2023-04-02T15:23:23.745Z"
   },
   {
    "duration": 5,
    "start_time": "2023-04-02T15:23:25.604Z"
   },
   {
    "duration": 25,
    "start_time": "2023-04-02T15:23:25.611Z"
   },
   {
    "duration": 19,
    "start_time": "2023-04-02T15:23:25.639Z"
   },
   {
    "duration": 5,
    "start_time": "2023-04-02T15:23:25.660Z"
   },
   {
    "duration": 5,
    "start_time": "2023-04-02T15:23:25.667Z"
   },
   {
    "duration": 17,
    "start_time": "2023-04-02T15:23:25.675Z"
   },
   {
    "duration": 31,
    "start_time": "2023-04-02T15:23:25.694Z"
   },
   {
    "duration": 33,
    "start_time": "2023-04-02T15:23:25.727Z"
   },
   {
    "duration": 6,
    "start_time": "2023-04-02T15:23:25.763Z"
   },
   {
    "duration": 12,
    "start_time": "2023-04-02T15:23:25.771Z"
   },
   {
    "duration": 38,
    "start_time": "2023-04-02T15:23:25.785Z"
   },
   {
    "duration": 8,
    "start_time": "2023-04-02T15:23:25.826Z"
   },
   {
    "duration": 5,
    "start_time": "2023-04-02T15:23:25.836Z"
   },
   {
    "duration": 1004,
    "start_time": "2023-04-02T15:23:25.843Z"
   },
   {
    "duration": 955,
    "start_time": "2023-04-02T15:23:26.849Z"
   },
   {
    "duration": 4,
    "start_time": "2023-04-02T15:23:27.805Z"
   },
   {
    "duration": 6,
    "start_time": "2023-04-02T15:23:27.811Z"
   },
   {
    "duration": 14,
    "start_time": "2023-04-02T15:23:27.819Z"
   },
   {
    "duration": 14,
    "start_time": "2023-04-02T15:23:27.835Z"
   },
   {
    "duration": 17,
    "start_time": "2023-04-02T15:23:27.851Z"
   },
   {
    "duration": 7,
    "start_time": "2023-04-02T15:23:27.870Z"
   },
   {
    "duration": 6,
    "start_time": "2023-04-02T15:23:27.879Z"
   },
   {
    "duration": 18,
    "start_time": "2023-04-02T15:23:27.887Z"
   },
   {
    "duration": 10,
    "start_time": "2023-04-02T15:23:27.907Z"
   },
   {
    "duration": 12,
    "start_time": "2023-04-02T15:23:27.919Z"
   },
   {
    "duration": 11,
    "start_time": "2023-04-02T15:23:27.933Z"
   },
   {
    "duration": 5,
    "start_time": "2023-04-02T15:23:27.948Z"
   },
   {
    "duration": 21,
    "start_time": "2023-04-02T15:23:27.955Z"
   },
   {
    "duration": 12,
    "start_time": "2023-04-02T15:23:27.978Z"
   },
   {
    "duration": 11,
    "start_time": "2023-04-02T15:23:27.992Z"
   },
   {
    "duration": 17,
    "start_time": "2023-04-02T15:23:28.005Z"
   },
   {
    "duration": 12,
    "start_time": "2023-04-02T15:23:28.024Z"
   },
   {
    "duration": 7,
    "start_time": "2023-04-02T15:23:28.038Z"
   },
   {
    "duration": 14,
    "start_time": "2023-04-02T15:23:28.046Z"
   },
   {
    "duration": 6,
    "start_time": "2023-04-02T15:23:28.062Z"
   },
   {
    "duration": 8,
    "start_time": "2023-04-02T15:23:28.070Z"
   },
   {
    "duration": 21,
    "start_time": "2023-04-02T15:23:28.080Z"
   },
   {
    "duration": 41,
    "start_time": "2023-04-02T15:23:28.104Z"
   },
   {
    "duration": 14,
    "start_time": "2023-04-02T15:23:28.147Z"
   },
   {
    "duration": 25,
    "start_time": "2023-04-02T15:23:28.162Z"
   },
   {
    "duration": 10,
    "start_time": "2023-04-02T15:23:28.189Z"
   },
   {
    "duration": 39,
    "start_time": "2023-04-02T15:23:28.200Z"
   },
   {
    "duration": 35,
    "start_time": "2023-04-02T15:23:28.240Z"
   },
   {
    "duration": 36,
    "start_time": "2023-04-02T15:23:28.277Z"
   },
   {
    "duration": 28,
    "start_time": "2023-04-02T15:23:28.315Z"
   },
   {
    "duration": 24,
    "start_time": "2023-04-02T15:23:28.345Z"
   },
   {
    "duration": 20,
    "start_time": "2023-04-02T15:23:28.371Z"
   },
   {
    "duration": 15,
    "start_time": "2023-04-02T15:23:28.393Z"
   },
   {
    "duration": 13,
    "start_time": "2023-04-02T15:23:28.410Z"
   },
   {
    "duration": 24,
    "start_time": "2023-04-02T15:23:28.425Z"
   },
   {
    "duration": 412,
    "start_time": "2023-04-02T15:23:28.451Z"
   },
   {
    "duration": 4,
    "start_time": "2023-04-02T15:23:28.865Z"
   },
   {
    "duration": 14,
    "start_time": "2023-04-02T15:23:28.871Z"
   },
   {
    "duration": 8,
    "start_time": "2023-04-02T15:23:28.887Z"
   },
   {
    "duration": 16449,
    "start_time": "2023-04-02T15:23:28.897Z"
   },
   {
    "duration": 11,
    "start_time": "2023-04-02T15:27:16.072Z"
   },
   {
    "duration": 3,
    "start_time": "2023-04-02T15:27:30.834Z"
   },
   {
    "duration": 3,
    "start_time": "2023-04-02T15:27:31.995Z"
   },
   {
    "duration": 4,
    "start_time": "2023-04-02T15:27:32.294Z"
   },
   {
    "duration": 14,
    "start_time": "2023-04-02T15:27:32.606Z"
   },
   {
    "duration": 7,
    "start_time": "2023-04-02T15:27:59.750Z"
   },
   {
    "duration": 5,
    "start_time": "2023-04-02T15:28:00.021Z"
   },
   {
    "duration": 5,
    "start_time": "2023-04-02T15:28:00.309Z"
   },
   {
    "duration": 8,
    "start_time": "2023-04-02T15:28:00.637Z"
   },
   {
    "duration": 4,
    "start_time": "2023-04-02T15:28:00.921Z"
   },
   {
    "duration": 9,
    "start_time": "2023-04-02T15:28:01.212Z"
   },
   {
    "duration": 4,
    "start_time": "2023-04-02T15:28:02.259Z"
   },
   {
    "duration": 3,
    "start_time": "2023-04-02T15:28:02.561Z"
   },
   {
    "duration": 2,
    "start_time": "2023-04-02T15:28:02.835Z"
   },
   {
    "duration": 4,
    "start_time": "2023-04-02T15:28:03.136Z"
   },
   {
    "duration": 18,
    "start_time": "2023-04-02T15:28:03.959Z"
   },
   {
    "duration": 9,
    "start_time": "2023-04-02T15:28:53.199Z"
   },
   {
    "duration": 9,
    "start_time": "2023-04-02T15:28:57.261Z"
   },
   {
    "duration": 7,
    "start_time": "2023-04-02T15:28:58.760Z"
   },
   {
    "duration": 3,
    "start_time": "2023-04-02T15:28:59.097Z"
   },
   {
    "duration": 3,
    "start_time": "2023-04-02T15:28:59.422Z"
   },
   {
    "duration": 4,
    "start_time": "2023-04-02T15:28:59.749Z"
   },
   {
    "duration": 15,
    "start_time": "2023-04-02T15:29:00.110Z"
   },
   {
    "duration": 192,
    "start_time": "2023-04-02T15:29:13.462Z"
   },
   {
    "duration": 4,
    "start_time": "2023-04-02T15:29:19.136Z"
   },
   {
    "duration": 4,
    "start_time": "2023-04-02T15:29:19.348Z"
   },
   {
    "duration": 3,
    "start_time": "2023-04-02T15:29:19.535Z"
   },
   {
    "duration": 47,
    "start_time": "2023-04-02T15:29:20.125Z"
   },
   {
    "duration": 1981,
    "start_time": "2023-04-02T15:29:40.098Z"
   },
   {
    "duration": 4,
    "start_time": "2023-04-02T15:29:42.082Z"
   },
   {
    "duration": 27,
    "start_time": "2023-04-02T15:29:42.088Z"
   },
   {
    "duration": 20,
    "start_time": "2023-04-02T15:29:42.117Z"
   },
   {
    "duration": 4,
    "start_time": "2023-04-02T15:29:42.140Z"
   },
   {
    "duration": 10,
    "start_time": "2023-04-02T15:29:42.145Z"
   },
   {
    "duration": 18,
    "start_time": "2023-04-02T15:29:42.157Z"
   },
   {
    "duration": 6,
    "start_time": "2023-04-02T15:29:42.177Z"
   },
   {
    "duration": 55,
    "start_time": "2023-04-02T15:29:42.185Z"
   },
   {
    "duration": 9,
    "start_time": "2023-04-02T15:29:42.242Z"
   },
   {
    "duration": 7,
    "start_time": "2023-04-02T15:29:42.252Z"
   },
   {
    "duration": 11,
    "start_time": "2023-04-02T15:29:42.260Z"
   },
   {
    "duration": 11,
    "start_time": "2023-04-02T15:29:42.273Z"
   },
   {
    "duration": 5,
    "start_time": "2023-04-02T15:29:42.288Z"
   },
   {
    "duration": 1028,
    "start_time": "2023-04-02T15:29:42.295Z"
   },
   {
    "duration": 963,
    "start_time": "2023-04-02T15:29:43.325Z"
   },
   {
    "duration": 4,
    "start_time": "2023-04-02T15:29:44.289Z"
   },
   {
    "duration": 8,
    "start_time": "2023-04-02T15:29:44.294Z"
   },
   {
    "duration": 7,
    "start_time": "2023-04-02T15:29:44.303Z"
   },
   {
    "duration": 7,
    "start_time": "2023-04-02T15:29:44.312Z"
   },
   {
    "duration": 7,
    "start_time": "2023-04-02T15:29:44.320Z"
   },
   {
    "duration": 21,
    "start_time": "2023-04-02T15:29:44.328Z"
   },
   {
    "duration": 9,
    "start_time": "2023-04-02T15:29:44.350Z"
   },
   {
    "duration": 18,
    "start_time": "2023-04-02T15:29:44.360Z"
   },
   {
    "duration": 5,
    "start_time": "2023-04-02T15:29:44.379Z"
   },
   {
    "duration": 10,
    "start_time": "2023-04-02T15:29:44.386Z"
   },
   {
    "duration": 5,
    "start_time": "2023-04-02T15:29:44.398Z"
   },
   {
    "duration": 19,
    "start_time": "2023-04-02T15:29:44.404Z"
   },
   {
    "duration": 4,
    "start_time": "2023-04-02T15:29:44.425Z"
   },
   {
    "duration": 8,
    "start_time": "2023-04-02T15:29:44.431Z"
   },
   {
    "duration": 16,
    "start_time": "2023-04-02T15:29:44.441Z"
   },
   {
    "duration": 5,
    "start_time": "2023-04-02T15:29:44.458Z"
   },
   {
    "duration": 11,
    "start_time": "2023-04-02T15:29:44.464Z"
   },
   {
    "duration": 21,
    "start_time": "2023-04-02T15:29:44.477Z"
   },
   {
    "duration": 22,
    "start_time": "2023-04-02T15:29:44.501Z"
   },
   {
    "duration": 8,
    "start_time": "2023-04-02T15:29:44.525Z"
   },
   {
    "duration": 3,
    "start_time": "2023-04-02T15:29:44.534Z"
   },
   {
    "duration": 13,
    "start_time": "2023-04-02T15:29:44.539Z"
   },
   {
    "duration": 28,
    "start_time": "2023-04-02T15:29:44.553Z"
   },
   {
    "duration": 4,
    "start_time": "2023-04-02T15:29:44.583Z"
   },
   {
    "duration": 3,
    "start_time": "2023-04-02T15:29:44.591Z"
   },
   {
    "duration": 31,
    "start_time": "2023-04-02T15:29:44.596Z"
   },
   {
    "duration": 16,
    "start_time": "2023-04-02T15:29:44.629Z"
   },
   {
    "duration": 20,
    "start_time": "2023-04-02T15:29:44.647Z"
   },
   {
    "duration": 8,
    "start_time": "2023-04-02T15:29:44.669Z"
   },
   {
    "duration": 22,
    "start_time": "2023-04-02T15:29:44.679Z"
   },
   {
    "duration": 13,
    "start_time": "2023-04-02T15:29:44.703Z"
   },
   {
    "duration": 10,
    "start_time": "2023-04-02T15:29:44.718Z"
   },
   {
    "duration": 6,
    "start_time": "2023-04-02T15:29:44.730Z"
   },
   {
    "duration": 4,
    "start_time": "2023-04-02T15:29:44.739Z"
   },
   {
    "duration": 4,
    "start_time": "2023-04-02T15:29:44.748Z"
   },
   {
    "duration": 219,
    "start_time": "2023-04-02T15:29:44.754Z"
   },
   {
    "duration": 3,
    "start_time": "2023-04-02T15:29:44.976Z"
   },
   {
    "duration": 9,
    "start_time": "2023-04-02T15:29:44.980Z"
   },
   {
    "duration": 8,
    "start_time": "2023-04-02T15:29:44.990Z"
   },
   {
    "duration": 0,
    "start_time": "2023-04-02T15:30:02.443Z"
   },
   {
    "duration": 4688,
    "start_time": "2023-04-02T15:30:03.452Z"
   },
   {
    "duration": 2389,
    "start_time": "2023-04-02T15:30:11.396Z"
   },
   {
    "duration": 1533,
    "start_time": "2023-04-02T15:30:17.452Z"
   },
   {
    "duration": 1676,
    "start_time": "2023-04-02T15:30:33.166Z"
   },
   {
    "duration": 3,
    "start_time": "2023-04-02T15:30:45.490Z"
   },
   {
    "duration": 244,
    "start_time": "2023-04-02T15:30:49.796Z"
   },
   {
    "duration": 15862,
    "start_time": "2023-04-02T15:31:00.717Z"
   },
   {
    "duration": 5,
    "start_time": "2023-04-02T15:32:05.283Z"
   },
   {
    "duration": 3,
    "start_time": "2023-04-02T15:32:05.569Z"
   },
   {
    "duration": 3,
    "start_time": "2023-04-02T15:32:05.845Z"
   },
   {
    "duration": 3,
    "start_time": "2023-04-02T15:32:06.133Z"
   },
   {
    "duration": 3,
    "start_time": "2023-04-02T15:32:06.920Z"
   },
   {
    "duration": 15770,
    "start_time": "2023-04-02T15:32:07.658Z"
   },
   {
    "duration": 41,
    "start_time": "2023-04-02T15:32:45.937Z"
   },
   {
    "duration": 11,
    "start_time": "2023-04-02T15:41:50.635Z"
   },
   {
    "duration": 3,
    "start_time": "2023-04-02T15:41:54.797Z"
   },
   {
    "duration": 2,
    "start_time": "2023-04-02T15:41:55.051Z"
   },
   {
    "duration": 2,
    "start_time": "2023-04-02T15:41:55.392Z"
   },
   {
    "duration": 4,
    "start_time": "2023-04-02T15:41:55.708Z"
   },
   {
    "duration": 2,
    "start_time": "2023-04-02T15:41:56.609Z"
   },
   {
    "duration": 40,
    "start_time": "2023-04-02T15:41:57.422Z"
   },
   {
    "duration": 15,
    "start_time": "2023-04-02T15:42:39.224Z"
   },
   {
    "duration": 4,
    "start_time": "2023-04-02T15:42:40.324Z"
   },
   {
    "duration": 3,
    "start_time": "2023-04-02T15:42:40.625Z"
   },
   {
    "duration": 3,
    "start_time": "2023-04-02T15:42:40.937Z"
   },
   {
    "duration": 4,
    "start_time": "2023-04-02T15:42:41.248Z"
   },
   {
    "duration": 3,
    "start_time": "2023-04-02T15:42:41.838Z"
   },
   {
    "duration": 44,
    "start_time": "2023-04-02T15:42:42.137Z"
   },
   {
    "duration": 10,
    "start_time": "2023-04-02T15:42:55.985Z"
   },
   {
    "duration": 4,
    "start_time": "2023-04-02T15:42:56.937Z"
   },
   {
    "duration": 2,
    "start_time": "2023-04-02T15:42:57.192Z"
   },
   {
    "duration": 2,
    "start_time": "2023-04-02T15:42:57.462Z"
   },
   {
    "duration": 3,
    "start_time": "2023-04-02T15:42:57.725Z"
   },
   {
    "duration": 3,
    "start_time": "2023-04-02T15:42:58.283Z"
   },
   {
    "duration": 39,
    "start_time": "2023-04-02T15:42:59.296Z"
   },
   {
    "duration": 20,
    "start_time": "2023-04-02T15:43:24.829Z"
   },
   {
    "duration": 3,
    "start_time": "2023-04-02T15:43:25.796Z"
   },
   {
    "duration": 3,
    "start_time": "2023-04-02T15:43:26.038Z"
   },
   {
    "duration": 3,
    "start_time": "2023-04-02T15:43:26.450Z"
   },
   {
    "duration": 4,
    "start_time": "2023-04-02T15:43:26.740Z"
   },
   {
    "duration": 4,
    "start_time": "2023-04-02T15:43:27.325Z"
   },
   {
    "duration": 43,
    "start_time": "2023-04-02T15:43:27.626Z"
   },
   {
    "duration": 10,
    "start_time": "2023-04-02T15:43:55.557Z"
   },
   {
    "duration": 3,
    "start_time": "2023-04-02T15:43:56.540Z"
   },
   {
    "duration": 3,
    "start_time": "2023-04-02T15:43:56.839Z"
   },
   {
    "duration": 3,
    "start_time": "2023-04-02T15:43:57.114Z"
   },
   {
    "duration": 3,
    "start_time": "2023-04-02T15:43:57.451Z"
   },
   {
    "duration": 2,
    "start_time": "2023-04-02T15:43:58.092Z"
   },
   {
    "duration": 3011,
    "start_time": "2023-04-02T15:43:58.440Z"
   },
   {
    "duration": 11,
    "start_time": "2023-04-02T15:44:23.983Z"
   },
   {
    "duration": 3,
    "start_time": "2023-04-02T15:44:24.996Z"
   },
   {
    "duration": 3,
    "start_time": "2023-04-02T15:44:25.243Z"
   },
   {
    "duration": 3,
    "start_time": "2023-04-02T15:44:25.541Z"
   },
   {
    "duration": 3,
    "start_time": "2023-04-02T15:44:25.815Z"
   },
   {
    "duration": 3,
    "start_time": "2023-04-02T15:44:26.384Z"
   },
   {
    "duration": 248,
    "start_time": "2023-04-02T15:44:26.683Z"
   },
   {
    "duration": 12,
    "start_time": "2023-04-02T15:44:52.579Z"
   },
   {
    "duration": 4,
    "start_time": "2023-04-02T15:44:53.504Z"
   },
   {
    "duration": 3,
    "start_time": "2023-04-02T15:44:53.789Z"
   },
   {
    "duration": 2,
    "start_time": "2023-04-02T15:44:54.041Z"
   },
   {
    "duration": 3,
    "start_time": "2023-04-02T15:44:54.383Z"
   },
   {
    "duration": 3,
    "start_time": "2023-04-02T15:44:54.893Z"
   },
   {
    "duration": 227,
    "start_time": "2023-04-02T15:44:55.661Z"
   },
   {
    "duration": 10,
    "start_time": "2023-04-02T15:45:07.407Z"
   },
   {
    "duration": 3,
    "start_time": "2023-04-02T15:45:08.455Z"
   },
   {
    "duration": 5,
    "start_time": "2023-04-02T15:45:08.729Z"
   },
   {
    "duration": 5,
    "start_time": "2023-04-02T15:45:09.017Z"
   },
   {
    "duration": 3,
    "start_time": "2023-04-02T15:45:09.304Z"
   },
   {
    "duration": 2,
    "start_time": "2023-04-02T15:45:09.938Z"
   },
   {
    "duration": 23845,
    "start_time": "2023-04-02T15:45:10.996Z"
   },
   {
    "duration": 3351,
    "start_time": "2023-04-02T15:45:39.935Z"
   },
   {
    "duration": 17,
    "start_time": "2023-04-02T15:45:43.719Z"
   },
   {
    "duration": 25274,
    "start_time": "2023-04-02T15:46:28.696Z"
   },
   {
    "duration": 10,
    "start_time": "2023-04-02T15:47:07.736Z"
   },
   {
    "duration": 2022,
    "start_time": "2023-04-02T15:47:30.083Z"
   },
   {
    "duration": 4,
    "start_time": "2023-04-02T15:47:32.107Z"
   },
   {
    "duration": 42,
    "start_time": "2023-04-02T15:47:32.113Z"
   },
   {
    "duration": 14,
    "start_time": "2023-04-02T15:47:32.157Z"
   },
   {
    "duration": 15,
    "start_time": "2023-04-02T15:47:32.174Z"
   },
   {
    "duration": 27,
    "start_time": "2023-04-02T15:47:32.192Z"
   },
   {
    "duration": 19,
    "start_time": "2023-04-02T15:47:32.221Z"
   },
   {
    "duration": 6,
    "start_time": "2023-04-02T15:47:32.242Z"
   },
   {
    "duration": 25,
    "start_time": "2023-04-02T15:47:32.249Z"
   },
   {
    "duration": 7,
    "start_time": "2023-04-02T15:47:32.275Z"
   },
   {
    "duration": 5,
    "start_time": "2023-04-02T15:47:32.283Z"
   },
   {
    "duration": 26,
    "start_time": "2023-04-02T15:47:32.290Z"
   },
   {
    "duration": 14,
    "start_time": "2023-04-02T15:47:32.318Z"
   },
   {
    "duration": 5,
    "start_time": "2023-04-02T15:47:32.338Z"
   },
   {
    "duration": 1053,
    "start_time": "2023-04-02T15:47:32.345Z"
   },
   {
    "duration": 1005,
    "start_time": "2023-04-02T15:47:33.399Z"
   },
   {
    "duration": 4,
    "start_time": "2023-04-02T15:47:34.405Z"
   },
   {
    "duration": 17,
    "start_time": "2023-04-02T15:47:34.411Z"
   },
   {
    "duration": 7,
    "start_time": "2023-04-02T15:47:34.430Z"
   },
   {
    "duration": 19,
    "start_time": "2023-04-02T15:47:34.439Z"
   },
   {
    "duration": 21,
    "start_time": "2023-04-02T15:47:34.459Z"
   },
   {
    "duration": 7,
    "start_time": "2023-04-02T15:47:34.482Z"
   },
   {
    "duration": 10,
    "start_time": "2023-04-02T15:47:34.491Z"
   },
   {
    "duration": 14,
    "start_time": "2023-04-02T15:47:34.503Z"
   },
   {
    "duration": 7,
    "start_time": "2023-04-02T15:47:34.523Z"
   },
   {
    "duration": 11,
    "start_time": "2023-04-02T15:47:34.532Z"
   },
   {
    "duration": 6,
    "start_time": "2023-04-02T15:47:34.544Z"
   },
   {
    "duration": 6,
    "start_time": "2023-04-02T15:47:34.551Z"
   },
   {
    "duration": 5,
    "start_time": "2023-04-02T15:47:34.558Z"
   },
   {
    "duration": 5,
    "start_time": "2023-04-02T15:47:34.564Z"
   },
   {
    "duration": 11,
    "start_time": "2023-04-02T15:47:34.571Z"
   },
   {
    "duration": 40,
    "start_time": "2023-04-02T15:47:34.584Z"
   },
   {
    "duration": 5,
    "start_time": "2023-04-02T15:47:34.626Z"
   },
   {
    "duration": 8,
    "start_time": "2023-04-02T15:47:34.638Z"
   },
   {
    "duration": 14,
    "start_time": "2023-04-02T15:47:34.648Z"
   },
   {
    "duration": 10,
    "start_time": "2023-04-02T15:47:34.663Z"
   },
   {
    "duration": 4,
    "start_time": "2023-04-02T15:47:34.675Z"
   },
   {
    "duration": 13,
    "start_time": "2023-04-02T15:47:34.680Z"
   },
   {
    "duration": 54,
    "start_time": "2023-04-02T15:47:34.695Z"
   },
   {
    "duration": 5,
    "start_time": "2023-04-02T15:47:34.751Z"
   },
   {
    "duration": 5,
    "start_time": "2023-04-02T15:47:34.761Z"
   },
   {
    "duration": 7,
    "start_time": "2023-04-02T15:47:34.768Z"
   },
   {
    "duration": 19,
    "start_time": "2023-04-02T15:47:34.777Z"
   },
   {
    "duration": 29,
    "start_time": "2023-04-02T15:47:34.798Z"
   },
   {
    "duration": 10,
    "start_time": "2023-04-02T15:47:34.830Z"
   },
   {
    "duration": 18,
    "start_time": "2023-04-02T15:47:34.842Z"
   },
   {
    "duration": 17,
    "start_time": "2023-04-02T15:47:34.862Z"
   },
   {
    "duration": 10,
    "start_time": "2023-04-02T15:47:34.881Z"
   },
   {
    "duration": 4,
    "start_time": "2023-04-02T15:47:34.892Z"
   },
   {
    "duration": 7,
    "start_time": "2023-04-02T15:47:34.898Z"
   },
   {
    "duration": 8,
    "start_time": "2023-04-02T15:47:34.907Z"
   },
   {
    "duration": 3,
    "start_time": "2023-04-02T15:47:34.917Z"
   },
   {
    "duration": 13327,
    "start_time": "2023-04-02T15:47:34.924Z"
   },
   {
    "duration": 0,
    "start_time": "2023-04-02T15:47:48.253Z"
   },
   {
    "duration": 6664,
    "start_time": "2023-04-02T15:48:03.190Z"
   },
   {
    "duration": 11,
    "start_time": "2023-04-02T15:48:27.756Z"
   },
   {
    "duration": 4,
    "start_time": "2023-04-02T15:48:29.382Z"
   },
   {
    "duration": 5,
    "start_time": "2023-04-02T15:48:29.680Z"
   },
   {
    "duration": 3,
    "start_time": "2023-04-02T15:48:29.969Z"
   },
   {
    "duration": 4,
    "start_time": "2023-04-02T15:48:30.227Z"
   },
   {
    "duration": 3,
    "start_time": "2023-04-02T15:48:30.952Z"
   },
   {
    "duration": 2152,
    "start_time": "2023-04-02T15:48:31.353Z"
   },
   {
    "duration": 94,
    "start_time": "2023-04-02T15:48:40.474Z"
   },
   {
    "duration": 834,
    "start_time": "2023-04-02T15:48:43.090Z"
   },
   {
    "duration": 15752,
    "start_time": "2023-04-02T15:48:50.002Z"
   },
   {
    "duration": 2552,
    "start_time": "2023-04-02T15:49:23.256Z"
   },
   {
    "duration": 4,
    "start_time": "2023-04-02T15:49:52.764Z"
   },
   {
    "duration": 4,
    "start_time": "2023-04-02T15:49:53.043Z"
   },
   {
    "duration": 3,
    "start_time": "2023-04-02T15:49:53.612Z"
   },
   {
    "duration": 2194,
    "start_time": "2023-04-02T15:49:58.279Z"
   },
   {
    "duration": 23,
    "start_time": "2023-04-02T15:50:38.721Z"
   },
   {
    "duration": 3,
    "start_time": "2023-04-02T15:50:39.784Z"
   },
   {
    "duration": 3,
    "start_time": "2023-04-02T15:50:40.057Z"
   },
   {
    "duration": 3,
    "start_time": "2023-04-02T15:50:40.344Z"
   },
   {
    "duration": 3,
    "start_time": "2023-04-02T15:50:40.645Z"
   },
   {
    "duration": 3,
    "start_time": "2023-04-02T15:50:41.183Z"
   },
   {
    "duration": 2329,
    "start_time": "2023-04-02T15:50:41.945Z"
   },
   {
    "duration": 11,
    "start_time": "2023-04-02T15:50:52.599Z"
   },
   {
    "duration": 4,
    "start_time": "2023-04-02T15:50:53.689Z"
   },
   {
    "duration": 3,
    "start_time": "2023-04-02T15:50:53.997Z"
   },
   {
    "duration": 3,
    "start_time": "2023-04-02T15:50:54.285Z"
   },
   {
    "duration": 3,
    "start_time": "2023-04-02T15:50:54.613Z"
   },
   {
    "duration": 3,
    "start_time": "2023-04-02T15:50:55.220Z"
   },
   {
    "duration": 2993,
    "start_time": "2023-04-02T15:50:56.046Z"
   },
   {
    "duration": 11,
    "start_time": "2023-04-02T15:51:25.824Z"
   },
   {
    "duration": 5,
    "start_time": "2023-04-02T15:51:26.776Z"
   },
   {
    "duration": 3,
    "start_time": "2023-04-02T15:51:27.034Z"
   },
   {
    "duration": 3,
    "start_time": "2023-04-02T15:51:27.313Z"
   },
   {
    "duration": 3,
    "start_time": "2023-04-02T15:51:27.587Z"
   },
   {
    "duration": 3,
    "start_time": "2023-04-02T15:51:28.147Z"
   },
   {
    "duration": 2378,
    "start_time": "2023-04-02T15:51:28.472Z"
   },
   {
    "duration": 1,
    "start_time": "2023-04-02T15:51:30.852Z"
   },
   {
    "duration": 10,
    "start_time": "2023-04-02T15:51:47.331Z"
   },
   {
    "duration": 4,
    "start_time": "2023-04-02T15:51:48.223Z"
   },
   {
    "duration": 3,
    "start_time": "2023-04-02T15:51:48.480Z"
   },
   {
    "duration": 4,
    "start_time": "2023-04-02T15:51:48.772Z"
   },
   {
    "duration": 4,
    "start_time": "2023-04-02T15:51:49.036Z"
   },
   {
    "duration": 3,
    "start_time": "2023-04-02T15:51:49.611Z"
   },
   {
    "duration": 2002,
    "start_time": "2023-04-02T15:51:49.823Z"
   },
   {
    "duration": 0,
    "start_time": "2023-04-02T15:51:51.827Z"
   },
   {
    "duration": 11,
    "start_time": "2023-04-02T15:52:43.615Z"
   },
   {
    "duration": 4,
    "start_time": "2023-04-02T15:52:44.611Z"
   },
   {
    "duration": 3,
    "start_time": "2023-04-02T15:52:45.350Z"
   },
   {
    "duration": 7,
    "start_time": "2023-04-02T15:52:45.356Z"
   },
   {
    "duration": 4,
    "start_time": "2023-04-02T15:52:45.912Z"
   },
   {
    "duration": 3,
    "start_time": "2023-04-02T15:52:46.580Z"
   },
   {
    "duration": 4085,
    "start_time": "2023-04-02T15:52:46.920Z"
   },
   {
    "duration": 11,
    "start_time": "2023-04-02T15:53:29.216Z"
   },
   {
    "duration": 4,
    "start_time": "2023-04-02T15:53:30.211Z"
   },
   {
    "duration": 3,
    "start_time": "2023-04-02T15:53:30.517Z"
   },
   {
    "duration": 4,
    "start_time": "2023-04-02T15:53:30.780Z"
   },
   {
    "duration": 4,
    "start_time": "2023-04-02T15:53:31.075Z"
   },
   {
    "duration": 3,
    "start_time": "2023-04-02T15:53:31.639Z"
   },
   {
    "duration": 38,
    "start_time": "2023-04-02T15:53:32.491Z"
   },
   {
    "duration": 13,
    "start_time": "2023-04-02T15:53:40.443Z"
   },
   {
    "duration": 4,
    "start_time": "2023-04-02T15:53:41.391Z"
   },
   {
    "duration": 3,
    "start_time": "2023-04-02T15:53:41.654Z"
   },
   {
    "duration": 3,
    "start_time": "2023-04-02T15:53:41.931Z"
   },
   {
    "duration": 4,
    "start_time": "2023-04-02T15:53:42.214Z"
   },
   {
    "duration": 3,
    "start_time": "2023-04-02T15:53:42.730Z"
   },
   {
    "duration": 3050,
    "start_time": "2023-04-02T15:53:42.994Z"
   },
   {
    "duration": 10,
    "start_time": "2023-04-02T15:54:04.517Z"
   },
   {
    "duration": 4,
    "start_time": "2023-04-02T15:54:05.532Z"
   },
   {
    "duration": 3,
    "start_time": "2023-04-02T15:54:05.843Z"
   },
   {
    "duration": 3,
    "start_time": "2023-04-02T15:54:06.119Z"
   },
   {
    "duration": 4,
    "start_time": "2023-04-02T15:54:06.391Z"
   },
   {
    "duration": 3,
    "start_time": "2023-04-02T15:54:06.920Z"
   },
   {
    "duration": 1905,
    "start_time": "2023-04-02T15:54:07.194Z"
   },
   {
    "duration": 4,
    "start_time": "2023-04-02T15:54:34.206Z"
   },
   {
    "duration": 5,
    "start_time": "2023-04-02T15:54:41.276Z"
   },
   {
    "duration": 87,
    "start_time": "2023-04-02T15:54:49.618Z"
   },
   {
    "duration": 10,
    "start_time": "2023-04-02T15:55:04.795Z"
   },
   {
    "duration": 4,
    "start_time": "2023-04-02T15:55:05.720Z"
   },
   {
    "duration": 3,
    "start_time": "2023-04-02T15:55:06.024Z"
   },
   {
    "duration": 3,
    "start_time": "2023-04-02T15:55:06.293Z"
   },
   {
    "duration": 3,
    "start_time": "2023-04-02T15:55:06.580Z"
   },
   {
    "duration": 3,
    "start_time": "2023-04-02T15:55:07.143Z"
   },
   {
    "duration": 2826,
    "start_time": "2023-04-02T15:55:07.438Z"
   },
   {
    "duration": 15,
    "start_time": "2023-04-02T15:55:20.483Z"
   },
   {
    "duration": 4,
    "start_time": "2023-04-02T15:55:21.481Z"
   },
   {
    "duration": 3,
    "start_time": "2023-04-02T15:55:21.756Z"
   },
   {
    "duration": 3,
    "start_time": "2023-04-02T15:55:22.018Z"
   },
   {
    "duration": 3,
    "start_time": "2023-04-02T15:55:22.320Z"
   },
   {
    "duration": 4,
    "start_time": "2023-04-02T15:55:22.866Z"
   },
   {
    "duration": 14602,
    "start_time": "2023-04-02T15:55:23.134Z"
   },
   {
    "duration": 9,
    "start_time": "2023-04-02T15:55:37.739Z"
   },
   {
    "duration": 10,
    "start_time": "2023-04-02T15:57:13.214Z"
   },
   {
    "duration": 4,
    "start_time": "2023-04-02T15:57:14.214Z"
   },
   {
    "duration": 3,
    "start_time": "2023-04-02T15:57:14.521Z"
   },
   {
    "duration": 2,
    "start_time": "2023-04-02T15:57:14.805Z"
   },
   {
    "duration": 3,
    "start_time": "2023-04-02T15:57:15.112Z"
   },
   {
    "duration": 3,
    "start_time": "2023-04-02T15:57:15.675Z"
   },
   {
    "duration": 75951,
    "start_time": "2023-04-02T15:57:15.988Z"
   },
   {
    "duration": 784,
    "start_time": "2023-04-02T15:58:31.940Z"
   },
   {
    "duration": 520,
    "start_time": "2023-04-02T15:58:43.719Z"
   },
   {
    "duration": 6,
    "start_time": "2023-04-02T15:59:19.583Z"
   },
   {
    "duration": 12,
    "start_time": "2023-04-02T15:59:29.245Z"
   },
   {
    "duration": 11,
    "start_time": "2023-04-02T15:59:38.324Z"
   },
   {
    "duration": 7,
    "start_time": "2023-04-02T15:59:40.734Z"
   },
   {
    "duration": 12,
    "start_time": "2023-04-02T15:59:44.560Z"
   },
   {
    "duration": 4,
    "start_time": "2023-04-02T15:59:56.764Z"
   },
   {
    "duration": 13,
    "start_time": "2023-04-02T16:00:00.685Z"
   },
   {
    "duration": 6,
    "start_time": "2023-04-02T16:00:07.073Z"
   },
   {
    "duration": 5,
    "start_time": "2023-04-02T16:00:13.411Z"
   },
   {
    "duration": 269,
    "start_time": "2023-04-02T16:00:28.197Z"
   },
   {
    "duration": 312,
    "start_time": "2023-04-02T16:01:00.124Z"
   },
   {
    "duration": 154,
    "start_time": "2023-04-02T16:01:21.724Z"
   },
   {
    "duration": 715,
    "start_time": "2023-04-02T16:01:36.220Z"
   },
   {
    "duration": 2207,
    "start_time": "2023-04-02T20:11:54.683Z"
   },
   {
    "duration": 8,
    "start_time": "2023-04-02T20:11:56.893Z"
   },
   {
    "duration": 74,
    "start_time": "2023-04-02T20:11:56.903Z"
   },
   {
    "duration": 16,
    "start_time": "2023-04-02T20:11:56.979Z"
   },
   {
    "duration": 4,
    "start_time": "2023-04-02T20:11:56.998Z"
   },
   {
    "duration": 33,
    "start_time": "2023-04-02T20:11:57.003Z"
   },
   {
    "duration": 18,
    "start_time": "2023-04-02T20:11:57.038Z"
   },
   {
    "duration": 13,
    "start_time": "2023-04-02T20:11:57.058Z"
   },
   {
    "duration": 29,
    "start_time": "2023-04-02T20:11:57.073Z"
   },
   {
    "duration": 7,
    "start_time": "2023-04-02T20:11:57.104Z"
   },
   {
    "duration": 5,
    "start_time": "2023-04-02T20:11:57.112Z"
   },
   {
    "duration": 27,
    "start_time": "2023-04-02T20:11:57.119Z"
   },
   {
    "duration": 6,
    "start_time": "2023-04-02T20:11:57.147Z"
   },
   {
    "duration": 5,
    "start_time": "2023-04-02T20:11:57.156Z"
   },
   {
    "duration": 810,
    "start_time": "2023-04-02T20:11:57.163Z"
   },
   {
    "duration": 843,
    "start_time": "2023-04-02T20:11:57.975Z"
   },
   {
    "duration": 4,
    "start_time": "2023-04-02T20:11:58.820Z"
   },
   {
    "duration": 5,
    "start_time": "2023-04-02T20:11:58.827Z"
   },
   {
    "duration": 5,
    "start_time": "2023-04-02T20:11:58.835Z"
   },
   {
    "duration": 4,
    "start_time": "2023-04-02T20:11:58.841Z"
   },
   {
    "duration": 5,
    "start_time": "2023-04-02T20:11:58.846Z"
   },
   {
    "duration": 6,
    "start_time": "2023-04-02T20:11:58.852Z"
   },
   {
    "duration": 5,
    "start_time": "2023-04-02T20:11:58.860Z"
   },
   {
    "duration": 17,
    "start_time": "2023-04-02T20:11:58.867Z"
   },
   {
    "duration": 4,
    "start_time": "2023-04-02T20:11:58.885Z"
   },
   {
    "duration": 8,
    "start_time": "2023-04-02T20:11:58.891Z"
   },
   {
    "duration": 41,
    "start_time": "2023-04-02T20:11:58.901Z"
   },
   {
    "duration": 10,
    "start_time": "2023-04-02T20:11:58.944Z"
   },
   {
    "duration": 5,
    "start_time": "2023-04-02T20:11:58.955Z"
   },
   {
    "duration": 6,
    "start_time": "2023-04-02T20:11:58.962Z"
   },
   {
    "duration": 12,
    "start_time": "2023-04-02T20:11:58.969Z"
   },
   {
    "duration": 3,
    "start_time": "2023-04-02T20:11:58.983Z"
   },
   {
    "duration": 3,
    "start_time": "2023-04-02T20:11:58.988Z"
   },
   {
    "duration": 8,
    "start_time": "2023-04-02T20:11:58.993Z"
   },
   {
    "duration": 47,
    "start_time": "2023-04-02T20:11:59.002Z"
   },
   {
    "duration": 5,
    "start_time": "2023-04-02T20:11:59.051Z"
   },
   {
    "duration": 4,
    "start_time": "2023-04-02T20:11:59.057Z"
   },
   {
    "duration": 10,
    "start_time": "2023-04-02T20:11:59.063Z"
   },
   {
    "duration": 23,
    "start_time": "2023-04-02T20:11:59.075Z"
   },
   {
    "duration": 5,
    "start_time": "2023-04-02T20:11:59.099Z"
   },
   {
    "duration": 33,
    "start_time": "2023-04-02T20:11:59.107Z"
   },
   {
    "duration": 6,
    "start_time": "2023-04-02T20:11:59.142Z"
   },
   {
    "duration": 5,
    "start_time": "2023-04-02T20:11:59.150Z"
   },
   {
    "duration": 6,
    "start_time": "2023-04-02T20:11:59.157Z"
   },
   {
    "duration": 5,
    "start_time": "2023-04-02T20:11:59.164Z"
   },
   {
    "duration": 8,
    "start_time": "2023-04-02T20:11:59.171Z"
   },
   {
    "duration": 5,
    "start_time": "2023-04-02T20:11:59.181Z"
   },
   {
    "duration": 4,
    "start_time": "2023-04-02T20:15:24.832Z"
   },
   {
    "duration": 3,
    "start_time": "2023-04-02T20:15:33.923Z"
   },
   {
    "duration": 3,
    "start_time": "2023-04-02T20:15:42.889Z"
   },
   {
    "duration": 3,
    "start_time": "2023-04-02T20:15:43.070Z"
   },
   {
    "duration": 4,
    "start_time": "2023-04-02T20:15:58.921Z"
   },
   {
    "duration": 4,
    "start_time": "2023-04-02T20:16:12.887Z"
   },
   {
    "duration": 4,
    "start_time": "2023-04-02T20:16:16.146Z"
   },
   {
    "duration": 4,
    "start_time": "2023-04-02T20:16:30.474Z"
   },
   {
    "duration": 2,
    "start_time": "2023-04-02T20:16:30.496Z"
   },
   {
    "duration": 3,
    "start_time": "2023-04-02T20:16:31.293Z"
   },
   {
    "duration": 13,
    "start_time": "2023-04-02T20:16:31.298Z"
   },
   {
    "duration": 3,
    "start_time": "2023-04-02T20:16:32.096Z"
   },
   {
    "duration": 65,
    "start_time": "2023-04-02T20:16:35.171Z"
   },
   {
    "duration": 169617,
    "start_time": "2023-04-02T20:16:42.034Z"
   },
   {
    "duration": 623,
    "start_time": "2023-04-02T20:19:34.892Z"
   },
   {
    "duration": 151,
    "start_time": "2023-04-02T20:20:36.389Z"
   },
   {
    "duration": 10,
    "start_time": "2023-04-02T20:20:47.759Z"
   },
   {
    "duration": 12,
    "start_time": "2023-04-02T20:21:25.586Z"
   },
   {
    "duration": 1707,
    "start_time": "2023-04-02T20:21:35.619Z"
   },
   {
    "duration": 5,
    "start_time": "2023-04-02T20:21:37.328Z"
   },
   {
    "duration": 29,
    "start_time": "2023-04-02T20:21:37.335Z"
   },
   {
    "duration": 14,
    "start_time": "2023-04-02T20:21:37.366Z"
   },
   {
    "duration": 3,
    "start_time": "2023-04-02T20:21:37.383Z"
   },
   {
    "duration": 5,
    "start_time": "2023-04-02T20:21:37.389Z"
   },
   {
    "duration": 16,
    "start_time": "2023-04-02T20:21:37.396Z"
   },
   {
    "duration": 5,
    "start_time": "2023-04-02T20:21:37.414Z"
   },
   {
    "duration": 38,
    "start_time": "2023-04-02T20:21:37.420Z"
   },
   {
    "duration": 9,
    "start_time": "2023-04-02T20:21:37.459Z"
   },
   {
    "duration": 5,
    "start_time": "2023-04-02T20:21:37.469Z"
   },
   {
    "duration": 7,
    "start_time": "2023-04-02T20:21:37.475Z"
   },
   {
    "duration": 7,
    "start_time": "2023-04-02T20:21:37.484Z"
   },
   {
    "duration": 6,
    "start_time": "2023-04-02T20:21:37.494Z"
   },
   {
    "duration": 825,
    "start_time": "2023-04-02T20:21:37.501Z"
   },
   {
    "duration": 787,
    "start_time": "2023-04-02T20:21:38.327Z"
   },
   {
    "duration": 4,
    "start_time": "2023-04-02T20:21:39.116Z"
   },
   {
    "duration": 5,
    "start_time": "2023-04-02T20:21:39.121Z"
   },
   {
    "duration": 6,
    "start_time": "2023-04-02T20:21:39.127Z"
   },
   {
    "duration": 8,
    "start_time": "2023-04-02T20:21:39.134Z"
   },
   {
    "duration": 5,
    "start_time": "2023-04-02T20:21:39.143Z"
   },
   {
    "duration": 6,
    "start_time": "2023-04-02T20:21:39.149Z"
   },
   {
    "duration": 5,
    "start_time": "2023-04-02T20:21:39.156Z"
   },
   {
    "duration": 16,
    "start_time": "2023-04-02T20:21:39.162Z"
   },
   {
    "duration": 3,
    "start_time": "2023-04-02T20:21:39.180Z"
   },
   {
    "duration": 9,
    "start_time": "2023-04-02T20:21:39.184Z"
   },
   {
    "duration": 5,
    "start_time": "2023-04-02T20:21:39.194Z"
   },
   {
    "duration": 6,
    "start_time": "2023-04-02T20:21:39.200Z"
   },
   {
    "duration": 33,
    "start_time": "2023-04-02T20:21:39.207Z"
   },
   {
    "duration": 4,
    "start_time": "2023-04-02T20:21:39.242Z"
   },
   {
    "duration": 10,
    "start_time": "2023-04-02T20:21:39.248Z"
   },
   {
    "duration": 10,
    "start_time": "2023-04-02T20:21:39.260Z"
   },
   {
    "duration": 3,
    "start_time": "2023-04-02T20:21:39.272Z"
   },
   {
    "duration": 10,
    "start_time": "2023-04-02T20:21:39.276Z"
   },
   {
    "duration": 11,
    "start_time": "2023-04-02T20:21:39.288Z"
   },
   {
    "duration": 5,
    "start_time": "2023-04-02T20:21:39.301Z"
   },
   {
    "duration": 6,
    "start_time": "2023-04-02T20:21:39.308Z"
   },
   {
    "duration": 33,
    "start_time": "2023-04-02T20:21:39.316Z"
   },
   {
    "duration": 20,
    "start_time": "2023-04-02T20:21:39.351Z"
   },
   {
    "duration": 8,
    "start_time": "2023-04-02T20:21:39.373Z"
   },
   {
    "duration": 2,
    "start_time": "2023-04-02T20:21:39.386Z"
   },
   {
    "duration": 7,
    "start_time": "2023-04-02T20:21:39.390Z"
   },
   {
    "duration": 4,
    "start_time": "2023-04-02T20:21:39.398Z"
   },
   {
    "duration": 37,
    "start_time": "2023-04-02T20:21:39.403Z"
   },
   {
    "duration": 12,
    "start_time": "2023-04-02T20:21:39.442Z"
   },
   {
    "duration": 10,
    "start_time": "2023-04-02T20:21:39.456Z"
   },
   {
    "duration": 5,
    "start_time": "2023-04-02T20:21:39.467Z"
   },
   {
    "duration": 4,
    "start_time": "2023-04-02T20:21:39.474Z"
   },
   {
    "duration": 5,
    "start_time": "2023-04-02T20:21:39.479Z"
   },
   {
    "duration": 5,
    "start_time": "2023-04-02T20:21:39.485Z"
   },
   {
    "duration": 5,
    "start_time": "2023-04-02T20:21:39.491Z"
   },
   {
    "duration": 150,
    "start_time": "2023-04-02T20:21:39.498Z"
   },
   {
    "duration": 4203,
    "start_time": "2023-04-02T20:21:51.435Z"
   },
   {
    "duration": 9,
    "start_time": "2023-04-02T20:21:56.609Z"
   },
   {
    "duration": 17,
    "start_time": "2023-04-02T20:22:20.925Z"
   },
   {
    "duration": 50,
    "start_time": "2023-04-02T20:22:30.600Z"
   },
   {
    "duration": 72,
    "start_time": "2023-04-02T20:22:37.184Z"
   },
   {
    "duration": 15,
    "start_time": "2023-04-02T20:23:27.227Z"
   },
   {
    "duration": 14813,
    "start_time": "2023-04-02T20:23:36.039Z"
   },
   {
    "duration": 7187,
    "start_time": "2023-04-02T20:23:54.864Z"
   },
   {
    "duration": 10,
    "start_time": "2023-04-02T20:24:16.890Z"
   },
   {
    "duration": 3068,
    "start_time": "2023-04-02T20:24:22.990Z"
   },
   {
    "duration": 6,
    "start_time": "2023-04-02T20:24:29.252Z"
   },
   {
    "duration": 20939,
    "start_time": "2023-04-02T20:24:48.528Z"
   },
   {
    "duration": 11,
    "start_time": "2023-04-02T20:25:12.003Z"
   },
   {
    "duration": 10,
    "start_time": "2023-04-02T20:25:13.888Z"
   },
   {
    "duration": 12,
    "start_time": "2023-04-02T20:25:18.916Z"
   },
   {
    "duration": 9,
    "start_time": "2023-04-02T20:25:20.716Z"
   },
   {
    "duration": 10,
    "start_time": "2023-04-02T20:25:24.704Z"
   },
   {
    "duration": 3,
    "start_time": "2023-04-02T20:25:39.241Z"
   },
   {
    "duration": 2608,
    "start_time": "2023-04-02T20:25:56.743Z"
   },
   {
    "duration": 1709,
    "start_time": "2023-04-02T20:26:44.340Z"
   },
   {
    "duration": 3,
    "start_time": "2023-04-02T20:26:46.051Z"
   },
   {
    "duration": 35,
    "start_time": "2023-04-02T20:26:46.055Z"
   },
   {
    "duration": 13,
    "start_time": "2023-04-02T20:26:46.091Z"
   },
   {
    "duration": 3,
    "start_time": "2023-04-02T20:26:46.105Z"
   },
   {
    "duration": 4,
    "start_time": "2023-04-02T20:26:46.110Z"
   },
   {
    "duration": 12,
    "start_time": "2023-04-02T20:26:46.115Z"
   },
   {
    "duration": 3,
    "start_time": "2023-04-02T20:26:46.128Z"
   },
   {
    "duration": 22,
    "start_time": "2023-04-02T20:26:46.132Z"
   },
   {
    "duration": 5,
    "start_time": "2023-04-02T20:26:46.156Z"
   },
   {
    "duration": 4,
    "start_time": "2023-04-02T20:26:46.163Z"
   },
   {
    "duration": 7,
    "start_time": "2023-04-02T20:26:46.168Z"
   },
   {
    "duration": 6,
    "start_time": "2023-04-02T20:26:46.176Z"
   },
   {
    "duration": 5,
    "start_time": "2023-04-02T20:26:46.184Z"
   },
   {
    "duration": 932,
    "start_time": "2023-04-02T20:26:46.190Z"
   },
   {
    "duration": 794,
    "start_time": "2023-04-02T20:26:47.124Z"
   },
   {
    "duration": 4,
    "start_time": "2023-04-02T20:26:47.920Z"
   },
   {
    "duration": 5,
    "start_time": "2023-04-02T20:26:47.926Z"
   },
   {
    "duration": 4,
    "start_time": "2023-04-02T20:26:47.933Z"
   },
   {
    "duration": 4,
    "start_time": "2023-04-02T20:26:47.939Z"
   },
   {
    "duration": 7,
    "start_time": "2023-04-02T20:26:47.945Z"
   },
   {
    "duration": 14,
    "start_time": "2023-04-02T20:26:47.953Z"
   },
   {
    "duration": 6,
    "start_time": "2023-04-02T20:26:47.969Z"
   },
   {
    "duration": 11,
    "start_time": "2023-04-02T20:26:47.977Z"
   },
   {
    "duration": 5,
    "start_time": "2023-04-02T20:26:47.989Z"
   },
   {
    "duration": 7,
    "start_time": "2023-04-02T20:26:47.995Z"
   },
   {
    "duration": 4,
    "start_time": "2023-04-02T20:26:48.003Z"
   },
   {
    "duration": 29,
    "start_time": "2023-04-02T20:26:48.011Z"
   },
   {
    "duration": 4,
    "start_time": "2023-04-02T20:26:48.041Z"
   },
   {
    "duration": 4,
    "start_time": "2023-04-02T20:26:48.046Z"
   },
   {
    "duration": 9,
    "start_time": "2023-04-02T20:26:48.051Z"
   },
   {
    "duration": 3,
    "start_time": "2023-04-02T20:26:48.061Z"
   },
   {
    "duration": 5,
    "start_time": "2023-04-02T20:26:48.065Z"
   },
   {
    "duration": 6,
    "start_time": "2023-04-02T20:26:48.071Z"
   },
   {
    "duration": 12,
    "start_time": "2023-04-02T20:26:48.079Z"
   },
   {
    "duration": 12,
    "start_time": "2023-04-02T20:26:48.092Z"
   },
   {
    "duration": 8,
    "start_time": "2023-04-02T20:26:48.106Z"
   },
   {
    "duration": 34,
    "start_time": "2023-04-02T20:26:48.115Z"
   },
   {
    "duration": 18,
    "start_time": "2023-04-02T20:26:48.150Z"
   },
   {
    "duration": 5,
    "start_time": "2023-04-02T20:26:48.169Z"
   },
   {
    "duration": 6,
    "start_time": "2023-04-02T20:26:48.175Z"
   },
   {
    "duration": 7,
    "start_time": "2023-04-02T20:26:48.182Z"
   },
   {
    "duration": 7,
    "start_time": "2023-04-02T20:26:48.191Z"
   },
   {
    "duration": 13,
    "start_time": "2023-04-02T20:26:48.199Z"
   },
   {
    "duration": 27,
    "start_time": "2023-04-02T20:26:48.214Z"
   },
   {
    "duration": 9,
    "start_time": "2023-04-02T20:26:48.242Z"
   },
   {
    "duration": 7,
    "start_time": "2023-04-02T20:26:48.252Z"
   },
   {
    "duration": 3,
    "start_time": "2023-04-02T20:26:48.261Z"
   },
   {
    "duration": 4,
    "start_time": "2023-04-02T20:26:48.266Z"
   },
   {
    "duration": 5,
    "start_time": "2023-04-02T20:26:48.272Z"
   },
   {
    "duration": 4,
    "start_time": "2023-04-02T20:26:48.279Z"
   },
   {
    "duration": 16753,
    "start_time": "2023-04-02T20:26:48.284Z"
   },
   {
    "duration": 2930,
    "start_time": "2023-04-02T20:28:02.133Z"
   },
   {
    "duration": 1772,
    "start_time": "2023-04-02T20:28:22.614Z"
   },
   {
    "duration": 4,
    "start_time": "2023-04-02T20:28:24.389Z"
   },
   {
    "duration": 26,
    "start_time": "2023-04-02T20:28:24.394Z"
   },
   {
    "duration": 17,
    "start_time": "2023-04-02T20:28:24.422Z"
   },
   {
    "duration": 4,
    "start_time": "2023-04-02T20:28:24.441Z"
   },
   {
    "duration": 5,
    "start_time": "2023-04-02T20:28:24.447Z"
   },
   {
    "duration": 17,
    "start_time": "2023-04-02T20:28:24.454Z"
   },
   {
    "duration": 11,
    "start_time": "2023-04-02T20:28:24.473Z"
   },
   {
    "duration": 23,
    "start_time": "2023-04-02T20:28:24.485Z"
   },
   {
    "duration": 35,
    "start_time": "2023-04-02T20:28:24.510Z"
   },
   {
    "duration": 13,
    "start_time": "2023-04-02T20:28:24.547Z"
   },
   {
    "duration": 8,
    "start_time": "2023-04-02T20:28:24.562Z"
   },
   {
    "duration": 6,
    "start_time": "2023-04-02T20:28:24.572Z"
   },
   {
    "duration": 4,
    "start_time": "2023-04-02T20:28:24.583Z"
   },
   {
    "duration": 899,
    "start_time": "2023-04-02T20:28:24.589Z"
   },
   {
    "duration": 860,
    "start_time": "2023-04-02T20:28:25.490Z"
   },
   {
    "duration": 4,
    "start_time": "2023-04-02T20:28:26.352Z"
   },
   {
    "duration": 5,
    "start_time": "2023-04-02T20:28:26.358Z"
   },
   {
    "duration": 4,
    "start_time": "2023-04-02T20:28:26.365Z"
   },
   {
    "duration": 5,
    "start_time": "2023-04-02T20:28:26.371Z"
   },
   {
    "duration": 4,
    "start_time": "2023-04-02T20:28:26.378Z"
   },
   {
    "duration": 5,
    "start_time": "2023-04-02T20:28:26.384Z"
   },
   {
    "duration": 4,
    "start_time": "2023-04-02T20:28:26.391Z"
   },
   {
    "duration": 51,
    "start_time": "2023-04-02T20:28:26.396Z"
   },
   {
    "duration": 4,
    "start_time": "2023-04-02T20:28:26.448Z"
   },
   {
    "duration": 7,
    "start_time": "2023-04-02T20:28:26.453Z"
   },
   {
    "duration": 4,
    "start_time": "2023-04-02T20:28:26.461Z"
   },
   {
    "duration": 5,
    "start_time": "2023-04-02T20:28:26.466Z"
   },
   {
    "duration": 4,
    "start_time": "2023-04-02T20:28:26.472Z"
   },
   {
    "duration": 4,
    "start_time": "2023-04-02T20:28:26.477Z"
   },
   {
    "duration": 7,
    "start_time": "2023-04-02T20:28:26.483Z"
   },
   {
    "duration": 3,
    "start_time": "2023-04-02T20:28:26.491Z"
   },
   {
    "duration": 4,
    "start_time": "2023-04-02T20:28:26.540Z"
   },
   {
    "duration": 7,
    "start_time": "2023-04-02T20:28:26.547Z"
   },
   {
    "duration": 15,
    "start_time": "2023-04-02T20:28:26.555Z"
   },
   {
    "duration": 6,
    "start_time": "2023-04-02T20:28:26.572Z"
   },
   {
    "duration": 3,
    "start_time": "2023-04-02T20:28:26.580Z"
   },
   {
    "duration": 13,
    "start_time": "2023-04-02T20:28:26.585Z"
   },
   {
    "duration": 67,
    "start_time": "2023-04-02T20:28:26.600Z"
   },
   {
    "duration": 4,
    "start_time": "2023-04-02T20:28:26.669Z"
   },
   {
    "duration": 5,
    "start_time": "2023-04-02T20:28:26.679Z"
   },
   {
    "duration": 9,
    "start_time": "2023-04-02T20:28:26.686Z"
   },
   {
    "duration": 6,
    "start_time": "2023-04-02T20:28:26.697Z"
   },
   {
    "duration": 36,
    "start_time": "2023-04-02T20:28:26.707Z"
   },
   {
    "duration": 5,
    "start_time": "2023-04-02T20:28:26.745Z"
   },
   {
    "duration": 14,
    "start_time": "2023-04-02T20:28:26.752Z"
   },
   {
    "duration": 7,
    "start_time": "2023-04-02T20:28:26.768Z"
   },
   {
    "duration": 4,
    "start_time": "2023-04-02T20:28:26.777Z"
   },
   {
    "duration": 5,
    "start_time": "2023-04-02T20:28:26.783Z"
   },
   {
    "duration": 3,
    "start_time": "2023-04-02T20:28:26.790Z"
   },
   {
    "duration": 4,
    "start_time": "2023-04-02T20:28:26.795Z"
   },
   {
    "duration": 4460,
    "start_time": "2023-04-02T20:28:30.582Z"
   },
   {
    "duration": 2,
    "start_time": "2023-04-02T20:32:30.669Z"
   },
   {
    "duration": 4,
    "start_time": "2023-04-02T20:32:40.032Z"
   },
   {
    "duration": 7,
    "start_time": "2023-04-02T20:33:54.987Z"
   },
   {
    "duration": 5,
    "start_time": "2023-04-02T20:35:41.544Z"
   },
   {
    "duration": 60,
    "start_time": "2023-04-02T20:35:45.841Z"
   },
   {
    "duration": 3,
    "start_time": "2023-04-02T20:35:53.393Z"
   },
   {
    "duration": 90,
    "start_time": "2023-04-02T20:38:31.476Z"
   },
   {
    "duration": 24,
    "start_time": "2023-04-02T20:38:36.697Z"
   },
   {
    "duration": 4,
    "start_time": "2023-04-02T20:38:44.635Z"
   },
   {
    "duration": 10,
    "start_time": "2023-04-02T20:41:05.490Z"
   },
   {
    "duration": 9,
    "start_time": "2023-04-02T20:42:30.592Z"
   },
   {
    "duration": 5,
    "start_time": "2023-04-02T20:42:32.658Z"
   },
   {
    "duration": 62,
    "start_time": "2023-04-02T20:42:32.816Z"
   },
   {
    "duration": 9,
    "start_time": "2023-04-02T20:42:43.092Z"
   },
   {
    "duration": 11,
    "start_time": "2023-04-02T20:42:45.690Z"
   },
   {
    "duration": 3,
    "start_time": "2023-04-02T20:43:04.796Z"
   },
   {
    "duration": 4,
    "start_time": "2023-04-02T20:43:09.694Z"
   },
   {
    "duration": 4,
    "start_time": "2023-04-02T20:43:11.692Z"
   },
   {
    "duration": 12,
    "start_time": "2023-04-02T20:43:12.794Z"
   },
   {
    "duration": 4,
    "start_time": "2023-04-02T20:43:13.292Z"
   },
   {
    "duration": 5,
    "start_time": "2023-04-02T20:43:18.692Z"
   },
   {
    "duration": 4,
    "start_time": "2023-04-02T20:43:25.871Z"
   },
   {
    "duration": 4,
    "start_time": "2023-04-02T20:43:46.457Z"
   },
   {
    "duration": 74,
    "start_time": "2023-04-02T20:44:23.307Z"
   },
   {
    "duration": 6,
    "start_time": "2023-04-02T20:44:26.192Z"
   },
   {
    "duration": 9,
    "start_time": "2023-04-02T20:53:15.044Z"
   },
   {
    "duration": 4,
    "start_time": "2023-04-02T20:53:16.431Z"
   },
   {
    "duration": 5,
    "start_time": "2023-04-02T20:53:17.718Z"
   },
   {
    "duration": 3,
    "start_time": "2023-04-02T20:53:18.101Z"
   },
   {
    "duration": 11,
    "start_time": "2023-04-02T20:53:18.543Z"
   },
   {
    "duration": 77,
    "start_time": "2023-04-02T20:53:18.777Z"
   },
   {
    "duration": 3,
    "start_time": "2023-04-02T20:53:19.544Z"
   },
   {
    "duration": 3,
    "start_time": "2023-04-02T20:53:20.130Z"
   },
   {
    "duration": 2,
    "start_time": "2023-04-02T20:53:20.968Z"
   },
   {
    "duration": 4,
    "start_time": "2023-04-02T20:53:21.417Z"
   },
   {
    "duration": 26,
    "start_time": "2023-04-02T20:53:22.030Z"
   },
   {
    "duration": 4,
    "start_time": "2023-04-02T20:53:23.506Z"
   },
   {
    "duration": 9,
    "start_time": "2023-04-02T20:58:00.754Z"
   },
   {
    "duration": 13,
    "start_time": "2023-04-02T21:02:03.503Z"
   },
   {
    "duration": 4,
    "start_time": "2023-04-02T21:04:06.090Z"
   },
   {
    "duration": 4,
    "start_time": "2023-04-02T21:04:36.129Z"
   },
   {
    "duration": 4,
    "start_time": "2023-04-02T21:04:42.055Z"
   },
   {
    "duration": 4,
    "start_time": "2023-04-02T21:04:55.504Z"
   },
   {
    "duration": 4,
    "start_time": "2023-04-02T21:05:01.329Z"
   },
   {
    "duration": 12,
    "start_time": "2023-04-02T21:08:03.736Z"
   },
   {
    "duration": 80,
    "start_time": "2023-04-02T21:09:01.862Z"
   },
   {
    "duration": 3,
    "start_time": "2023-04-02T21:09:35.962Z"
   },
   {
    "duration": 1808,
    "start_time": "2023-04-02T21:14:07.506Z"
   },
   {
    "duration": 4,
    "start_time": "2023-04-02T21:14:09.316Z"
   },
   {
    "duration": 26,
    "start_time": "2023-04-02T21:14:09.321Z"
   },
   {
    "duration": 14,
    "start_time": "2023-04-02T21:14:09.348Z"
   },
   {
    "duration": 4,
    "start_time": "2023-04-02T21:14:09.364Z"
   },
   {
    "duration": 5,
    "start_time": "2023-04-02T21:14:09.370Z"
   },
   {
    "duration": 11,
    "start_time": "2023-04-02T21:14:09.376Z"
   },
   {
    "duration": 4,
    "start_time": "2023-04-02T21:14:09.389Z"
   },
   {
    "duration": 47,
    "start_time": "2023-04-02T21:14:09.394Z"
   },
   {
    "duration": 6,
    "start_time": "2023-04-02T21:14:09.443Z"
   },
   {
    "duration": 6,
    "start_time": "2023-04-02T21:14:09.451Z"
   },
   {
    "duration": 10,
    "start_time": "2023-04-02T21:14:09.459Z"
   },
   {
    "duration": 7,
    "start_time": "2023-04-02T21:14:09.471Z"
   },
   {
    "duration": 6,
    "start_time": "2023-04-02T21:14:09.482Z"
   },
   {
    "duration": 867,
    "start_time": "2023-04-02T21:14:09.490Z"
   },
   {
    "duration": 847,
    "start_time": "2023-04-02T21:14:10.359Z"
   },
   {
    "duration": 3,
    "start_time": "2023-04-02T21:14:11.208Z"
   },
   {
    "duration": 5,
    "start_time": "2023-04-02T21:14:11.213Z"
   },
   {
    "duration": 6,
    "start_time": "2023-04-02T21:14:11.220Z"
   },
   {
    "duration": 5,
    "start_time": "2023-04-02T21:14:11.228Z"
   },
   {
    "duration": 9,
    "start_time": "2023-04-02T21:14:11.234Z"
   },
   {
    "duration": 7,
    "start_time": "2023-04-02T21:14:11.245Z"
   },
   {
    "duration": 6,
    "start_time": "2023-04-02T21:14:11.254Z"
   },
   {
    "duration": 17,
    "start_time": "2023-04-02T21:14:11.261Z"
   },
   {
    "duration": 8,
    "start_time": "2023-04-02T21:14:11.279Z"
   },
   {
    "duration": 16,
    "start_time": "2023-04-02T21:14:11.289Z"
   },
   {
    "duration": 4,
    "start_time": "2023-04-02T21:14:11.307Z"
   },
   {
    "duration": 4,
    "start_time": "2023-04-02T21:14:11.313Z"
   },
   {
    "duration": 22,
    "start_time": "2023-04-02T21:14:11.319Z"
   },
   {
    "duration": 5,
    "start_time": "2023-04-02T21:14:11.342Z"
   },
   {
    "duration": 10,
    "start_time": "2023-04-02T21:14:11.348Z"
   },
   {
    "duration": 3,
    "start_time": "2023-04-02T21:14:11.360Z"
   },
   {
    "duration": 4,
    "start_time": "2023-04-02T21:14:11.364Z"
   },
   {
    "duration": 10,
    "start_time": "2023-04-02T21:14:11.369Z"
   },
   {
    "duration": 12,
    "start_time": "2023-04-02T21:14:11.380Z"
   },
   {
    "duration": 12,
    "start_time": "2023-04-02T21:14:11.394Z"
   },
   {
    "duration": 10,
    "start_time": "2023-04-02T21:14:11.408Z"
   },
   {
    "duration": 11,
    "start_time": "2023-04-02T21:14:11.441Z"
   },
   {
    "duration": 32,
    "start_time": "2023-04-02T21:14:11.454Z"
   },
   {
    "duration": 3,
    "start_time": "2023-04-02T21:14:11.488Z"
   },
   {
    "duration": 3,
    "start_time": "2023-04-02T21:14:11.495Z"
   },
   {
    "duration": 7,
    "start_time": "2023-04-02T21:14:11.499Z"
   },
   {
    "duration": 4,
    "start_time": "2023-04-02T21:14:11.539Z"
   },
   {
    "duration": 7,
    "start_time": "2023-04-02T21:14:11.545Z"
   },
   {
    "duration": 8,
    "start_time": "2023-04-02T21:14:11.553Z"
   },
   {
    "duration": 68,
    "start_time": "2023-04-02T21:14:11.562Z"
   },
   {
    "duration": 0,
    "start_time": "2023-04-02T21:14:11.632Z"
   },
   {
    "duration": 0,
    "start_time": "2023-04-02T21:14:11.633Z"
   },
   {
    "duration": 0,
    "start_time": "2023-04-02T21:14:11.634Z"
   },
   {
    "duration": 0,
    "start_time": "2023-04-02T21:14:11.635Z"
   },
   {
    "duration": 0,
    "start_time": "2023-04-02T21:14:11.636Z"
   },
   {
    "duration": 0,
    "start_time": "2023-04-02T21:14:11.637Z"
   },
   {
    "duration": 0,
    "start_time": "2023-04-02T21:14:11.638Z"
   },
   {
    "duration": 0,
    "start_time": "2023-04-02T21:14:11.639Z"
   },
   {
    "duration": 0,
    "start_time": "2023-04-02T21:14:11.640Z"
   },
   {
    "duration": 0,
    "start_time": "2023-04-02T21:14:11.641Z"
   },
   {
    "duration": 0,
    "start_time": "2023-04-02T21:14:11.642Z"
   },
   {
    "duration": 0,
    "start_time": "2023-04-02T21:14:11.643Z"
   },
   {
    "duration": 4,
    "start_time": "2023-04-02T21:14:25.384Z"
   },
   {
    "duration": 9,
    "start_time": "2023-04-02T21:14:25.895Z"
   },
   {
    "duration": 5,
    "start_time": "2023-04-02T21:14:26.194Z"
   },
   {
    "duration": 4,
    "start_time": "2023-04-02T21:14:26.992Z"
   },
   {
    "duration": 3,
    "start_time": "2023-04-02T21:14:27.331Z"
   },
   {
    "duration": 16,
    "start_time": "2023-04-02T21:14:27.632Z"
   },
   {
    "duration": 2,
    "start_time": "2023-04-02T21:14:27.957Z"
   },
   {
    "duration": 2,
    "start_time": "2023-04-02T21:14:28.284Z"
   },
   {
    "duration": 2,
    "start_time": "2023-04-02T21:14:28.781Z"
   },
   {
    "duration": 4,
    "start_time": "2023-04-02T21:14:29.482Z"
   },
   {
    "duration": 61,
    "start_time": "2023-04-02T21:14:30.592Z"
   },
   {
    "duration": 5,
    "start_time": "2023-04-02T21:14:31.620Z"
   },
   {
    "duration": 186,
    "start_time": "2023-04-02T21:14:34.133Z"
   },
   {
    "duration": 15,
    "start_time": "2023-04-02T21:15:03.710Z"
   },
   {
    "duration": 6,
    "start_time": "2023-04-02T21:15:04.034Z"
   },
   {
    "duration": 3,
    "start_time": "2023-04-02T21:15:04.806Z"
   },
   {
    "duration": 4,
    "start_time": "2023-04-02T21:15:05.121Z"
   },
   {
    "duration": 13,
    "start_time": "2023-04-02T21:15:05.434Z"
   },
   {
    "duration": 3,
    "start_time": "2023-04-02T21:15:05.758Z"
   },
   {
    "duration": 2,
    "start_time": "2023-04-02T21:15:06.068Z"
   },
   {
    "duration": 4,
    "start_time": "2023-04-02T21:15:06.558Z"
   },
   {
    "duration": 3,
    "start_time": "2023-04-02T21:15:07.059Z"
   },
   {
    "duration": 27,
    "start_time": "2023-04-02T21:15:07.434Z"
   },
   {
    "duration": 5,
    "start_time": "2023-04-02T21:15:08.384Z"
   },
   {
    "duration": 51,
    "start_time": "2023-04-02T21:15:09.555Z"
   },
   {
    "duration": 24,
    "start_time": "2023-04-02T21:16:24.002Z"
   },
   {
    "duration": 4,
    "start_time": "2023-04-02T21:16:24.441Z"
   },
   {
    "duration": 77,
    "start_time": "2023-04-02T21:20:38.386Z"
   },
   {
    "duration": 5,
    "start_time": "2023-04-02T21:21:04.464Z"
   },
   {
    "duration": 5,
    "start_time": "2023-04-02T21:22:01.397Z"
   },
   {
    "duration": 9,
    "start_time": "2023-04-02T21:22:12.061Z"
   },
   {
    "duration": 31,
    "start_time": "2023-04-02T21:22:20.109Z"
   },
   {
    "duration": 6,
    "start_time": "2023-04-02T21:23:00.389Z"
   },
   {
    "duration": 54,
    "start_time": "2023-04-02T21:23:00.664Z"
   },
   {
    "duration": 75,
    "start_time": "2023-04-02T21:25:29.686Z"
   },
   {
    "duration": 11,
    "start_time": "2023-04-02T21:26:42.659Z"
   },
   {
    "duration": 4,
    "start_time": "2023-04-02T21:26:42.983Z"
   },
   {
    "duration": 2,
    "start_time": "2023-04-02T21:26:43.721Z"
   },
   {
    "duration": 3,
    "start_time": "2023-04-02T21:26:44.024Z"
   },
   {
    "duration": 12,
    "start_time": "2023-04-02T21:26:44.370Z"
   },
   {
    "duration": 3,
    "start_time": "2023-04-02T21:26:44.659Z"
   },
   {
    "duration": 3,
    "start_time": "2023-04-02T21:26:44.951Z"
   },
   {
    "duration": 2,
    "start_time": "2023-04-02T21:26:45.471Z"
   },
   {
    "duration": 2,
    "start_time": "2023-04-02T21:26:45.832Z"
   },
   {
    "duration": 97,
    "start_time": "2023-04-02T21:26:46.759Z"
   },
   {
    "duration": 9,
    "start_time": "2023-04-02T21:27:06.934Z"
   },
   {
    "duration": 4,
    "start_time": "2023-04-02T21:27:07.321Z"
   },
   {
    "duration": 3,
    "start_time": "2023-04-02T21:27:08.147Z"
   },
   {
    "duration": 4,
    "start_time": "2023-04-02T21:27:08.484Z"
   },
   {
    "duration": 17,
    "start_time": "2023-04-02T21:27:08.833Z"
   },
   {
    "duration": 4,
    "start_time": "2023-04-02T21:27:09.145Z"
   },
   {
    "duration": 3,
    "start_time": "2023-04-02T21:27:09.513Z"
   },
   {
    "duration": 3,
    "start_time": "2023-04-02T21:27:10.009Z"
   },
   {
    "duration": 3,
    "start_time": "2023-04-02T21:27:10.346Z"
   },
   {
    "duration": 75,
    "start_time": "2023-04-02T21:27:10.683Z"
   },
   {
    "duration": 9,
    "start_time": "2023-04-02T21:27:30.349Z"
   },
   {
    "duration": 4,
    "start_time": "2023-04-02T21:27:30.711Z"
   },
   {
    "duration": 3,
    "start_time": "2023-04-02T21:27:31.488Z"
   },
   {
    "duration": 3,
    "start_time": "2023-04-02T21:27:31.784Z"
   },
   {
    "duration": 12,
    "start_time": "2023-04-02T21:27:32.100Z"
   },
   {
    "duration": 2,
    "start_time": "2023-04-02T21:27:32.409Z"
   },
   {
    "duration": 2,
    "start_time": "2023-04-02T21:27:32.722Z"
   },
   {
    "duration": 3,
    "start_time": "2023-04-02T21:27:33.205Z"
   },
   {
    "duration": 3,
    "start_time": "2023-04-02T21:27:33.521Z"
   },
   {
    "duration": 25,
    "start_time": "2023-04-02T21:27:35.673Z"
   },
   {
    "duration": 384,
    "start_time": "2023-04-02T21:27:42.373Z"
   },
   {
    "duration": 11,
    "start_time": "2023-04-02T21:27:50.511Z"
   },
   {
    "duration": 76,
    "start_time": "2023-04-02T21:28:30.669Z"
   },
   {
    "duration": 550,
    "start_time": "2023-04-02T21:28:32.501Z"
   },
   {
    "duration": 534,
    "start_time": "2023-04-02T21:28:37.909Z"
   },
   {
    "duration": 13,
    "start_time": "2023-04-02T21:28:44.213Z"
   },
   {
    "duration": 5,
    "start_time": "2023-04-02T21:28:48.207Z"
   },
   {
    "duration": 579,
    "start_time": "2023-04-02T21:28:51.361Z"
   },
   {
    "duration": 10,
    "start_time": "2023-04-02T21:29:16.914Z"
   },
   {
    "duration": 4,
    "start_time": "2023-04-02T21:29:17.237Z"
   },
   {
    "duration": 3,
    "start_time": "2023-04-02T21:29:17.937Z"
   },
   {
    "duration": 3,
    "start_time": "2023-04-02T21:29:18.225Z"
   },
   {
    "duration": 13,
    "start_time": "2023-04-02T21:29:18.513Z"
   },
   {
    "duration": 3,
    "start_time": "2023-04-02T21:29:18.808Z"
   },
   {
    "duration": 2,
    "start_time": "2023-04-02T21:29:19.112Z"
   },
   {
    "duration": 3,
    "start_time": "2023-04-02T21:29:19.561Z"
   },
   {
    "duration": 2,
    "start_time": "2023-04-02T21:29:19.862Z"
   },
   {
    "duration": 24,
    "start_time": "2023-04-02T21:29:20.188Z"
   },
   {
    "duration": 4,
    "start_time": "2023-04-02T21:29:22.512Z"
   },
   {
    "duration": 587,
    "start_time": "2023-04-02T21:29:36.712Z"
   },
   {
    "duration": 5,
    "start_time": "2023-04-02T21:29:53.638Z"
   },
   {
    "duration": 5,
    "start_time": "2023-04-02T21:30:33.843Z"
   },
   {
    "duration": 3,
    "start_time": "2023-04-02T21:30:34.626Z"
   },
   {
    "duration": 4,
    "start_time": "2023-04-02T21:30:34.964Z"
   },
   {
    "duration": 21,
    "start_time": "2023-04-02T21:30:35.277Z"
   },
   {
    "duration": 3,
    "start_time": "2023-04-02T21:30:35.604Z"
   },
   {
    "duration": 3,
    "start_time": "2023-04-02T21:30:35.914Z"
   },
   {
    "duration": 3,
    "start_time": "2023-04-02T21:30:36.376Z"
   },
   {
    "duration": 3,
    "start_time": "2023-04-02T21:30:36.726Z"
   },
   {
    "duration": 100,
    "start_time": "2023-04-02T21:30:37.039Z"
   },
   {
    "duration": 4,
    "start_time": "2023-04-02T21:30:37.364Z"
   },
   {
    "duration": 705,
    "start_time": "2023-04-02T21:30:38.077Z"
   },
   {
    "duration": 4,
    "start_time": "2023-04-02T21:30:52.815Z"
   },
   {
    "duration": 3,
    "start_time": "2023-04-02T21:30:52.965Z"
   },
   {
    "duration": 71,
    "start_time": "2023-04-02T21:30:53.130Z"
   },
   {
    "duration": 5,
    "start_time": "2023-04-02T21:31:18.495Z"
   },
   {
    "duration": 580,
    "start_time": "2023-04-02T21:31:21.566Z"
   },
   {
    "duration": 5,
    "start_time": "2023-04-02T21:31:42.410Z"
   },
   {
    "duration": 715,
    "start_time": "2023-04-02T21:31:44.762Z"
   },
   {
    "duration": 578,
    "start_time": "2023-04-02T21:31:59.869Z"
   },
   {
    "duration": 1687,
    "start_time": "2023-04-02T21:44:13.896Z"
   },
   {
    "duration": 4,
    "start_time": "2023-04-02T21:44:15.585Z"
   },
   {
    "duration": 31,
    "start_time": "2023-04-02T21:44:15.590Z"
   },
   {
    "duration": 12,
    "start_time": "2023-04-02T21:44:15.623Z"
   },
   {
    "duration": 3,
    "start_time": "2023-04-02T21:44:15.637Z"
   },
   {
    "duration": 8,
    "start_time": "2023-04-02T21:44:15.641Z"
   },
   {
    "duration": 12,
    "start_time": "2023-04-02T21:44:15.650Z"
   },
   {
    "duration": 3,
    "start_time": "2023-04-02T21:44:15.663Z"
   },
   {
    "duration": 24,
    "start_time": "2023-04-02T21:44:15.667Z"
   },
   {
    "duration": 5,
    "start_time": "2023-04-02T21:44:15.694Z"
   },
   {
    "duration": 4,
    "start_time": "2023-04-02T21:44:15.700Z"
   },
   {
    "duration": 8,
    "start_time": "2023-04-02T21:44:15.705Z"
   },
   {
    "duration": 6,
    "start_time": "2023-04-02T21:44:15.740Z"
   },
   {
    "duration": 12,
    "start_time": "2023-04-02T21:44:15.747Z"
   },
   {
    "duration": 832,
    "start_time": "2023-04-02T21:44:15.760Z"
   },
   {
    "duration": 872,
    "start_time": "2023-04-02T21:44:16.594Z"
   },
   {
    "duration": 4,
    "start_time": "2023-04-02T21:44:17.467Z"
   },
   {
    "duration": 14,
    "start_time": "2023-04-02T21:44:17.472Z"
   },
   {
    "duration": 11,
    "start_time": "2023-04-02T21:44:17.487Z"
   },
   {
    "duration": 15,
    "start_time": "2023-04-02T21:44:17.500Z"
   },
   {
    "duration": 13,
    "start_time": "2023-04-02T21:44:17.517Z"
   },
   {
    "duration": 10,
    "start_time": "2023-04-02T21:44:17.531Z"
   },
   {
    "duration": 8,
    "start_time": "2023-04-02T21:44:17.543Z"
   },
   {
    "duration": 14,
    "start_time": "2023-04-02T21:44:17.552Z"
   },
   {
    "duration": 4,
    "start_time": "2023-04-02T21:44:17.567Z"
   },
   {
    "duration": 7,
    "start_time": "2023-04-02T21:44:17.572Z"
   },
   {
    "duration": 4,
    "start_time": "2023-04-02T21:44:17.580Z"
   },
   {
    "duration": 4,
    "start_time": "2023-04-02T21:44:17.588Z"
   },
   {
    "duration": 4,
    "start_time": "2023-04-02T21:44:17.593Z"
   },
   {
    "duration": 5,
    "start_time": "2023-04-02T21:44:17.598Z"
   },
   {
    "duration": 39,
    "start_time": "2023-04-02T21:44:17.604Z"
   },
   {
    "duration": 3,
    "start_time": "2023-04-02T21:44:17.644Z"
   },
   {
    "duration": 2,
    "start_time": "2023-04-02T21:44:17.649Z"
   },
   {
    "duration": 5,
    "start_time": "2023-04-02T21:44:17.653Z"
   },
   {
    "duration": 11,
    "start_time": "2023-04-02T21:44:17.660Z"
   },
   {
    "duration": 4,
    "start_time": "2023-04-02T21:44:17.673Z"
   },
   {
    "duration": 3,
    "start_time": "2023-04-02T21:44:17.679Z"
   },
   {
    "duration": 11,
    "start_time": "2023-04-02T21:44:17.683Z"
   },
   {
    "duration": 53,
    "start_time": "2023-04-02T21:44:17.695Z"
   },
   {
    "duration": 4,
    "start_time": "2023-04-02T21:44:17.750Z"
   },
   {
    "duration": 3,
    "start_time": "2023-04-02T21:44:17.755Z"
   },
   {
    "duration": 7,
    "start_time": "2023-04-02T21:44:17.759Z"
   },
   {
    "duration": 5,
    "start_time": "2023-04-02T21:44:17.768Z"
   },
   {
    "duration": 7,
    "start_time": "2023-04-02T21:44:17.774Z"
   },
   {
    "duration": 6,
    "start_time": "2023-04-02T21:44:17.783Z"
   },
   {
    "duration": 10,
    "start_time": "2023-04-02T21:44:17.790Z"
   },
   {
    "duration": 12,
    "start_time": "2023-04-02T21:44:17.801Z"
   },
   {
    "duration": 4,
    "start_time": "2023-04-02T21:44:17.841Z"
   },
   {
    "duration": 5,
    "start_time": "2023-04-02T21:44:17.846Z"
   },
   {
    "duration": 3,
    "start_time": "2023-04-02T21:44:17.852Z"
   },
   {
    "duration": 13,
    "start_time": "2023-04-02T21:44:17.857Z"
   },
   {
    "duration": 3,
    "start_time": "2023-04-02T21:44:17.871Z"
   },
   {
    "duration": 3,
    "start_time": "2023-04-02T21:44:17.876Z"
   },
   {
    "duration": 4,
    "start_time": "2023-04-02T21:44:17.880Z"
   },
   {
    "duration": 6,
    "start_time": "2023-04-02T21:44:17.885Z"
   },
   {
    "duration": 69,
    "start_time": "2023-04-02T21:44:17.892Z"
   },
   {
    "duration": 78,
    "start_time": "2023-04-02T21:44:17.963Z"
   },
   {
    "duration": 608,
    "start_time": "2023-04-02T21:44:18.043Z"
   },
   {
    "duration": 6,
    "start_time": "2023-04-02T21:44:18.653Z"
   },
   {
    "duration": 167,
    "start_time": "2023-04-02T21:45:12.881Z"
   },
   {
    "duration": 11,
    "start_time": "2023-04-02T21:45:56.985Z"
   },
   {
    "duration": 5,
    "start_time": "2023-04-02T21:46:00.359Z"
   },
   {
    "duration": 56,
    "start_time": "2023-04-02T21:46:00.921Z"
   },
   {
    "duration": 10,
    "start_time": "2023-04-02T21:46:25.787Z"
   },
   {
    "duration": 5,
    "start_time": "2023-04-02T21:46:34.747Z"
   },
   {
    "duration": 48,
    "start_time": "2023-04-02T21:46:35.221Z"
   },
   {
    "duration": 7,
    "start_time": "2023-04-02T21:49:17.741Z"
   },
   {
    "duration": 70,
    "start_time": "2023-04-02T21:49:18.128Z"
   },
   {
    "duration": 73,
    "start_time": "2023-04-02T21:50:26.810Z"
   },
   {
    "duration": 4,
    "start_time": "2023-04-02T21:50:38.842Z"
   },
   {
    "duration": 10,
    "start_time": "2023-04-02T21:50:50.213Z"
   },
   {
    "duration": 3,
    "start_time": "2023-04-02T21:50:50.555Z"
   },
   {
    "duration": 5,
    "start_time": "2023-04-02T21:50:50.867Z"
   },
   {
    "duration": 3,
    "start_time": "2023-04-02T21:50:51.617Z"
   },
   {
    "duration": 3,
    "start_time": "2023-04-02T21:50:51.930Z"
   },
   {
    "duration": 13,
    "start_time": "2023-04-02T21:50:52.242Z"
   },
   {
    "duration": 3,
    "start_time": "2023-04-02T21:50:52.530Z"
   },
   {
    "duration": 2,
    "start_time": "2023-04-02T21:50:52.856Z"
   },
   {
    "duration": 2,
    "start_time": "2023-04-02T21:50:53.480Z"
   },
   {
    "duration": 3,
    "start_time": "2023-04-02T21:50:53.817Z"
   },
   {
    "duration": 26,
    "start_time": "2023-04-02T21:50:54.142Z"
   },
   {
    "duration": 4,
    "start_time": "2023-04-02T21:50:54.468Z"
   },
   {
    "duration": 672,
    "start_time": "2023-04-02T21:50:54.742Z"
   },
   {
    "duration": 6,
    "start_time": "2023-04-02T21:50:56.430Z"
   },
   {
    "duration": 47,
    "start_time": "2023-04-02T21:50:57.793Z"
   },
   {
    "duration": 5,
    "start_time": "2023-04-02T21:52:08.785Z"
   },
   {
    "duration": 4,
    "start_time": "2023-04-02T21:52:09.611Z"
   },
   {
    "duration": 10,
    "start_time": "2023-04-02T21:52:10.060Z"
   },
   {
    "duration": 3,
    "start_time": "2023-04-02T21:52:10.613Z"
   },
   {
    "duration": 5,
    "start_time": "2023-04-02T21:52:10.958Z"
   },
   {
    "duration": 3,
    "start_time": "2023-04-02T21:52:11.612Z"
   },
   {
    "duration": 2,
    "start_time": "2023-04-02T21:52:11.682Z"
   },
   {
    "duration": 13,
    "start_time": "2023-04-02T21:52:11.733Z"
   },
   {
    "duration": 2,
    "start_time": "2023-04-02T21:52:11.812Z"
   },
   {
    "duration": 2,
    "start_time": "2023-04-02T21:52:11.882Z"
   },
   {
    "duration": 2,
    "start_time": "2023-04-02T21:52:11.992Z"
   },
   {
    "duration": 3,
    "start_time": "2023-04-02T21:52:12.056Z"
   },
   {
    "duration": 24,
    "start_time": "2023-04-02T21:52:12.133Z"
   },
   {
    "duration": 4,
    "start_time": "2023-04-02T21:52:12.436Z"
   },
   {
    "duration": 547,
    "start_time": "2023-04-02T21:52:12.884Z"
   },
   {
    "duration": 110,
    "start_time": "2023-04-02T21:52:14.259Z"
   },
   {
    "duration": 40,
    "start_time": "2023-04-02T21:52:14.936Z"
   },
   {
    "duration": 10,
    "start_time": "2023-04-02T21:53:19.388Z"
   },
   {
    "duration": 3,
    "start_time": "2023-04-02T21:53:19.725Z"
   },
   {
    "duration": 4,
    "start_time": "2023-04-02T21:53:20.050Z"
   },
   {
    "duration": 3,
    "start_time": "2023-04-02T21:53:20.862Z"
   },
   {
    "duration": 3,
    "start_time": "2023-04-02T21:53:21.187Z"
   },
   {
    "duration": 13,
    "start_time": "2023-04-02T21:53:21.537Z"
   },
   {
    "duration": 3,
    "start_time": "2023-04-02T21:53:21.881Z"
   },
   {
    "duration": 3,
    "start_time": "2023-04-02T21:53:22.214Z"
   },
   {
    "duration": 2,
    "start_time": "2023-04-02T21:53:22.925Z"
   },
   {
    "duration": 2,
    "start_time": "2023-04-02T21:53:23.262Z"
   },
   {
    "duration": 27,
    "start_time": "2023-04-02T21:53:23.616Z"
   },
   {
    "duration": 3,
    "start_time": "2023-04-02T21:53:23.925Z"
   },
   {
    "duration": 554,
    "start_time": "2023-04-02T21:53:24.286Z"
   },
   {
    "duration": 6,
    "start_time": "2023-04-02T21:53:25.765Z"
   },
   {
    "duration": 54,
    "start_time": "2023-04-02T21:53:26.630Z"
   },
   {
    "duration": 10,
    "start_time": "2023-04-02T21:54:18.142Z"
   },
   {
    "duration": 6,
    "start_time": "2023-04-02T21:54:33.866Z"
   },
   {
    "duration": 41,
    "start_time": "2023-04-02T21:54:34.643Z"
   },
   {
    "duration": 5,
    "start_time": "2023-04-02T21:54:39.822Z"
   },
   {
    "duration": 42,
    "start_time": "2023-04-02T21:54:40.466Z"
   },
   {
    "duration": 10,
    "start_time": "2023-04-02T21:54:54.193Z"
   },
   {
    "duration": 3,
    "start_time": "2023-04-02T21:54:54.654Z"
   },
   {
    "duration": 4,
    "start_time": "2023-04-02T21:54:55.366Z"
   },
   {
    "duration": 3,
    "start_time": "2023-04-02T21:54:55.522Z"
   },
   {
    "duration": 4,
    "start_time": "2023-04-02T21:54:55.599Z"
   },
   {
    "duration": 14,
    "start_time": "2023-04-02T21:54:55.681Z"
   },
   {
    "duration": 2,
    "start_time": "2023-04-02T21:54:55.732Z"
   },
   {
    "duration": 2,
    "start_time": "2023-04-02T21:54:55.794Z"
   },
   {
    "duration": 2,
    "start_time": "2023-04-02T21:54:55.928Z"
   },
   {
    "duration": 3,
    "start_time": "2023-04-02T21:54:55.989Z"
   },
   {
    "duration": 26,
    "start_time": "2023-04-02T21:54:56.055Z"
   },
   {
    "duration": 4,
    "start_time": "2023-04-02T21:54:56.141Z"
   },
   {
    "duration": 748,
    "start_time": "2023-04-02T21:54:56.195Z"
   },
   {
    "duration": 6,
    "start_time": "2023-04-02T21:54:56.945Z"
   },
   {
    "duration": 43,
    "start_time": "2023-04-02T21:54:56.952Z"
   },
   {
    "duration": 0,
    "start_time": "2023-04-02T21:54:56.997Z"
   },
   {
    "duration": 0,
    "start_time": "2023-04-02T21:54:56.998Z"
   },
   {
    "duration": 5335,
    "start_time": "2023-04-03T05:46:13.527Z"
   },
   {
    "duration": 11,
    "start_time": "2023-04-03T05:46:18.864Z"
   },
   {
    "duration": 79,
    "start_time": "2023-04-03T05:46:18.876Z"
   },
   {
    "duration": 11,
    "start_time": "2023-04-03T05:46:18.956Z"
   },
   {
    "duration": 3,
    "start_time": "2023-04-03T05:46:18.969Z"
   },
   {
    "duration": 6,
    "start_time": "2023-04-03T05:46:18.973Z"
   },
   {
    "duration": 12,
    "start_time": "2023-04-03T05:46:18.980Z"
   },
   {
    "duration": 26,
    "start_time": "2023-04-03T05:46:18.993Z"
   },
   {
    "duration": 24,
    "start_time": "2023-04-03T05:46:19.020Z"
   },
   {
    "duration": 10,
    "start_time": "2023-04-03T05:46:19.045Z"
   },
   {
    "duration": 18,
    "start_time": "2023-04-03T05:46:19.056Z"
   },
   {
    "duration": 21,
    "start_time": "2023-04-03T05:46:19.076Z"
   },
   {
    "duration": 4,
    "start_time": "2023-04-03T05:46:19.099Z"
   },
   {
    "duration": 5,
    "start_time": "2023-04-03T05:46:19.106Z"
   },
   {
    "duration": 705,
    "start_time": "2023-04-03T05:46:19.112Z"
   },
   {
    "duration": 753,
    "start_time": "2023-04-03T05:46:19.818Z"
   },
   {
    "duration": 3,
    "start_time": "2023-04-03T05:46:20.573Z"
   },
   {
    "duration": 10,
    "start_time": "2023-04-03T05:46:20.578Z"
   },
   {
    "duration": 14,
    "start_time": "2023-04-03T05:46:20.590Z"
   },
   {
    "duration": 18,
    "start_time": "2023-04-03T05:46:20.605Z"
   },
   {
    "duration": 16,
    "start_time": "2023-04-03T05:46:20.624Z"
   },
   {
    "duration": 26,
    "start_time": "2023-04-03T05:46:20.641Z"
   },
   {
    "duration": 23,
    "start_time": "2023-04-03T05:46:20.668Z"
   },
   {
    "duration": 16,
    "start_time": "2023-04-03T05:46:20.692Z"
   },
   {
    "duration": 34,
    "start_time": "2023-04-03T05:46:20.710Z"
   },
   {
    "duration": 20,
    "start_time": "2023-04-03T05:46:20.745Z"
   },
   {
    "duration": 22,
    "start_time": "2023-04-03T05:46:20.767Z"
   },
   {
    "duration": 13,
    "start_time": "2023-04-03T05:46:20.790Z"
   },
   {
    "duration": 17,
    "start_time": "2023-04-03T05:46:20.805Z"
   },
   {
    "duration": 8,
    "start_time": "2023-04-03T05:46:20.823Z"
   },
   {
    "duration": 15,
    "start_time": "2023-04-03T05:46:20.832Z"
   },
   {
    "duration": 14,
    "start_time": "2023-04-03T05:46:20.849Z"
   },
   {
    "duration": 4,
    "start_time": "2023-04-03T05:46:20.864Z"
   },
   {
    "duration": 7,
    "start_time": "2023-04-03T05:46:20.869Z"
   },
   {
    "duration": 13,
    "start_time": "2023-04-03T05:46:20.878Z"
   },
   {
    "duration": 4,
    "start_time": "2023-04-03T05:46:20.892Z"
   },
   {
    "duration": 6,
    "start_time": "2023-04-03T05:46:20.897Z"
   },
   {
    "duration": 23,
    "start_time": "2023-04-03T05:46:20.904Z"
   },
   {
    "duration": 29,
    "start_time": "2023-04-03T05:46:20.929Z"
   },
   {
    "duration": 85,
    "start_time": "2023-04-03T05:46:20.960Z"
   },
   {
    "duration": 3,
    "start_time": "2023-04-03T05:46:21.049Z"
   },
   {
    "duration": 8,
    "start_time": "2023-04-03T05:46:21.053Z"
   },
   {
    "duration": 6,
    "start_time": "2023-04-03T05:46:21.063Z"
   },
   {
    "duration": 13,
    "start_time": "2023-04-03T05:46:21.070Z"
   },
   {
    "duration": 15,
    "start_time": "2023-04-03T05:46:21.085Z"
   },
   {
    "duration": 23,
    "start_time": "2023-04-03T05:46:21.101Z"
   },
   {
    "duration": 35,
    "start_time": "2023-04-03T05:46:21.125Z"
   },
   {
    "duration": 8,
    "start_time": "2023-04-03T05:46:21.162Z"
   },
   {
    "duration": 4,
    "start_time": "2023-04-03T05:46:21.172Z"
   },
   {
    "duration": 7,
    "start_time": "2023-04-03T05:46:21.178Z"
   },
   {
    "duration": 21,
    "start_time": "2023-04-03T05:46:21.187Z"
   },
   {
    "duration": 7,
    "start_time": "2023-04-03T05:46:21.210Z"
   },
   {
    "duration": 10,
    "start_time": "2023-04-03T05:46:21.219Z"
   },
   {
    "duration": 10,
    "start_time": "2023-04-03T05:46:21.230Z"
   },
   {
    "duration": 38,
    "start_time": "2023-04-03T05:46:21.242Z"
   },
   {
    "duration": 195,
    "start_time": "2023-04-03T05:46:21.282Z"
   },
   {
    "duration": 4,
    "start_time": "2023-04-03T05:46:21.479Z"
   },
   {
    "duration": 563,
    "start_time": "2023-04-03T05:46:21.484Z"
   },
   {
    "duration": 6,
    "start_time": "2023-04-03T05:46:27.754Z"
   },
   {
    "duration": 162,
    "start_time": "2023-04-03T05:46:28.521Z"
   },
   {
    "duration": 5,
    "start_time": "2023-04-03T05:46:49.582Z"
   },
   {
    "duration": 38,
    "start_time": "2023-04-03T05:46:49.971Z"
   },
   {
    "duration": 5,
    "start_time": "2023-04-03T05:47:17.546Z"
   },
   {
    "duration": 41,
    "start_time": "2023-04-03T05:47:18.183Z"
   },
   {
    "duration": 5,
    "start_time": "2023-04-03T05:47:29.884Z"
   },
   {
    "duration": 35,
    "start_time": "2023-04-03T05:47:30.140Z"
   },
   {
    "duration": 54,
    "start_time": "2023-04-03T05:48:11.317Z"
   },
   {
    "duration": 5,
    "start_time": "2023-04-03T05:48:24.726Z"
   },
   {
    "duration": 29,
    "start_time": "2023-04-03T05:48:26.735Z"
   },
   {
    "duration": 5,
    "start_time": "2023-04-03T05:48:31.925Z"
   },
   {
    "duration": 29,
    "start_time": "2023-04-03T05:48:32.561Z"
   },
   {
    "duration": 6,
    "start_time": "2023-04-03T05:48:44.774Z"
   },
   {
    "duration": 45,
    "start_time": "2023-04-03T05:48:45.648Z"
   },
   {
    "duration": 45,
    "start_time": "2023-04-03T05:51:19.865Z"
   },
   {
    "duration": 5,
    "start_time": "2023-04-03T05:51:25.466Z"
   },
   {
    "duration": 49,
    "start_time": "2023-04-03T05:51:29.912Z"
   },
   {
    "duration": 5,
    "start_time": "2023-04-03T05:51:40.933Z"
   },
   {
    "duration": 50,
    "start_time": "2023-04-03T05:51:45.954Z"
   },
   {
    "duration": 6,
    "start_time": "2023-04-03T05:52:06.035Z"
   },
   {
    "duration": 40,
    "start_time": "2023-04-03T05:52:18.325Z"
   },
   {
    "duration": 8,
    "start_time": "2023-04-03T05:52:34.872Z"
   },
   {
    "duration": 53,
    "start_time": "2023-04-03T05:52:35.282Z"
   },
   {
    "duration": 4,
    "start_time": "2023-04-03T05:52:54.246Z"
   },
   {
    "duration": 29,
    "start_time": "2023-04-03T05:52:59.109Z"
   },
   {
    "duration": 5,
    "start_time": "2023-04-03T05:53:04.845Z"
   },
   {
    "duration": 57,
    "start_time": "2023-04-03T05:53:06.044Z"
   },
   {
    "duration": 5,
    "start_time": "2023-04-03T05:54:34.486Z"
   },
   {
    "duration": 18,
    "start_time": "2023-04-03T05:54:36.526Z"
   },
   {
    "duration": 4,
    "start_time": "2023-04-03T05:54:46.713Z"
   },
   {
    "duration": 13,
    "start_time": "2023-04-03T05:54:47.548Z"
   },
   {
    "duration": 4,
    "start_time": "2023-04-03T05:55:01.052Z"
   },
   {
    "duration": 25,
    "start_time": "2023-04-03T05:55:01.781Z"
   },
   {
    "duration": 4,
    "start_time": "2023-04-03T05:58:33.813Z"
   },
   {
    "duration": 1808,
    "start_time": "2023-04-03T05:58:40.141Z"
   },
   {
    "duration": 3,
    "start_time": "2023-04-03T05:58:41.951Z"
   },
   {
    "duration": 32,
    "start_time": "2023-04-03T05:58:41.955Z"
   },
   {
    "duration": 12,
    "start_time": "2023-04-03T05:58:41.989Z"
   },
   {
    "duration": 13,
    "start_time": "2023-04-03T05:58:42.002Z"
   },
   {
    "duration": 10,
    "start_time": "2023-04-03T05:58:42.016Z"
   },
   {
    "duration": 20,
    "start_time": "2023-04-03T05:58:42.027Z"
   },
   {
    "duration": 7,
    "start_time": "2023-04-03T05:58:42.048Z"
   },
   {
    "duration": 22,
    "start_time": "2023-04-03T05:58:42.057Z"
   },
   {
    "duration": 6,
    "start_time": "2023-04-03T05:58:42.081Z"
   },
   {
    "duration": 9,
    "start_time": "2023-04-03T05:58:42.089Z"
   },
   {
    "duration": 17,
    "start_time": "2023-04-03T05:58:42.100Z"
   },
   {
    "duration": 5,
    "start_time": "2023-04-03T05:58:42.119Z"
   },
   {
    "duration": 3,
    "start_time": "2023-04-03T05:58:42.126Z"
   },
   {
    "duration": 846,
    "start_time": "2023-04-03T05:58:42.130Z"
   },
   {
    "duration": 833,
    "start_time": "2023-04-03T05:58:42.978Z"
   },
   {
    "duration": 4,
    "start_time": "2023-04-03T05:58:43.812Z"
   },
   {
    "duration": 7,
    "start_time": "2023-04-03T05:58:43.817Z"
   },
   {
    "duration": 7,
    "start_time": "2023-04-03T05:58:43.826Z"
   },
   {
    "duration": 5,
    "start_time": "2023-04-03T05:58:43.835Z"
   },
   {
    "duration": 8,
    "start_time": "2023-04-03T05:58:43.841Z"
   },
   {
    "duration": 6,
    "start_time": "2023-04-03T05:58:43.850Z"
   },
   {
    "duration": 7,
    "start_time": "2023-04-03T05:58:43.857Z"
   },
   {
    "duration": 19,
    "start_time": "2023-04-03T05:58:43.865Z"
   },
   {
    "duration": 17,
    "start_time": "2023-04-03T05:58:43.886Z"
   },
   {
    "duration": 7,
    "start_time": "2023-04-03T05:58:43.905Z"
   },
   {
    "duration": 6,
    "start_time": "2023-04-03T05:58:43.914Z"
   },
   {
    "duration": 5,
    "start_time": "2023-04-03T05:58:43.923Z"
   },
   {
    "duration": 4,
    "start_time": "2023-04-03T05:58:43.929Z"
   },
   {
    "duration": 12,
    "start_time": "2023-04-03T05:58:43.935Z"
   },
   {
    "duration": 7,
    "start_time": "2023-04-03T05:58:43.949Z"
   },
   {
    "duration": 7,
    "start_time": "2023-04-03T05:58:43.976Z"
   },
   {
    "duration": 22,
    "start_time": "2023-04-03T05:58:43.986Z"
   },
   {
    "duration": 8,
    "start_time": "2023-04-03T05:58:44.010Z"
   },
   {
    "duration": 11,
    "start_time": "2023-04-03T05:58:44.019Z"
   },
   {
    "duration": 8,
    "start_time": "2023-04-03T05:58:44.032Z"
   },
   {
    "duration": 18,
    "start_time": "2023-04-03T05:58:44.041Z"
   },
   {
    "duration": 14,
    "start_time": "2023-04-03T05:58:44.060Z"
   },
   {
    "duration": 34,
    "start_time": "2023-04-03T05:58:44.076Z"
   },
   {
    "duration": 6,
    "start_time": "2023-04-03T05:58:44.111Z"
   },
   {
    "duration": 13,
    "start_time": "2023-04-03T05:58:44.118Z"
   },
   {
    "duration": 8,
    "start_time": "2023-04-03T05:58:44.133Z"
   },
   {
    "duration": 6,
    "start_time": "2023-04-03T05:58:44.143Z"
   },
   {
    "duration": 10,
    "start_time": "2023-04-03T05:58:44.150Z"
   },
   {
    "duration": 4,
    "start_time": "2023-04-03T05:58:44.161Z"
   },
   {
    "duration": 15,
    "start_time": "2023-04-03T05:58:44.167Z"
   },
   {
    "duration": 17,
    "start_time": "2023-04-03T05:58:44.185Z"
   },
   {
    "duration": 6,
    "start_time": "2023-04-03T05:58:44.204Z"
   },
   {
    "duration": 5,
    "start_time": "2023-04-03T05:58:44.211Z"
   },
   {
    "duration": 5,
    "start_time": "2023-04-03T05:58:44.218Z"
   },
   {
    "duration": 15,
    "start_time": "2023-04-03T05:58:44.224Z"
   },
   {
    "duration": 6,
    "start_time": "2023-04-03T05:58:44.240Z"
   },
   {
    "duration": 6,
    "start_time": "2023-04-03T05:58:44.247Z"
   },
   {
    "duration": 4,
    "start_time": "2023-04-03T05:58:44.254Z"
   },
   {
    "duration": 7,
    "start_time": "2023-04-03T05:58:44.259Z"
   },
   {
    "duration": 333,
    "start_time": "2023-04-03T05:58:44.267Z"
   },
   {
    "duration": 4,
    "start_time": "2023-04-03T05:58:44.602Z"
   },
   {
    "duration": 597,
    "start_time": "2023-04-03T05:58:44.673Z"
   },
   {
    "duration": 9,
    "start_time": "2023-04-03T05:58:45.271Z"
   },
   {
    "duration": 20,
    "start_time": "2023-04-03T05:58:45.282Z"
   },
   {
    "duration": 160,
    "start_time": "2023-04-03T05:58:47.889Z"
   },
   {
    "duration": 1677,
    "start_time": "2023-04-03T05:59:00.514Z"
   },
   {
    "duration": 9,
    "start_time": "2023-04-03T05:59:02.864Z"
   },
   {
    "duration": 3267,
    "start_time": "2023-04-03T05:59:44.139Z"
   },
   {
    "duration": 4,
    "start_time": "2023-04-03T05:59:50.865Z"
   },
   {
    "duration": 12,
    "start_time": "2023-04-03T06:00:17.115Z"
   },
   {
    "duration": 694,
    "start_time": "2023-04-03T06:00:22.915Z"
   },
   {
    "duration": 5,
    "start_time": "2023-04-03T06:01:00.594Z"
   },
   {
    "duration": 5416,
    "start_time": "2023-04-03T06:01:01.980Z"
   },
   {
    "duration": 5,
    "start_time": "2023-04-03T06:01:29.731Z"
   },
   {
    "duration": 2419,
    "start_time": "2023-04-03T06:01:38.868Z"
   },
   {
    "duration": 7,
    "start_time": "2023-04-03T06:01:42.284Z"
   },
   {
    "duration": 605,
    "start_time": "2023-04-03T06:01:50.268Z"
   },
   {
    "duration": 23135,
    "start_time": "2023-04-03T06:02:06.456Z"
   },
   {
    "duration": 5,
    "start_time": "2023-04-03T06:02:29.592Z"
   },
   {
    "duration": 9,
    "start_time": "2023-04-03T06:19:23.975Z"
   },
   {
    "duration": 22246,
    "start_time": "2023-04-03T06:19:25.025Z"
   },
   {
    "duration": 4,
    "start_time": "2023-04-03T06:19:49.218Z"
   },
   {
    "duration": 6,
    "start_time": "2023-04-03T06:20:25.705Z"
   },
   {
    "duration": 50,
    "start_time": "2023-04-03T06:20:26.962Z"
   },
   {
    "duration": 5,
    "start_time": "2023-04-03T06:20:51.652Z"
   },
   {
    "duration": 35,
    "start_time": "2023-04-03T06:20:52.813Z"
   },
   {
    "duration": 7,
    "start_time": "2023-04-03T06:21:47.916Z"
   },
   {
    "duration": 38,
    "start_time": "2023-04-03T06:21:48.829Z"
   },
   {
    "duration": 5,
    "start_time": "2023-04-03T06:22:18.817Z"
   },
   {
    "duration": 42,
    "start_time": "2023-04-03T06:22:19.844Z"
   },
   {
    "duration": 5,
    "start_time": "2023-04-03T06:23:05.317Z"
   },
   {
    "duration": 45,
    "start_time": "2023-04-03T06:23:06.371Z"
   },
   {
    "duration": 16,
    "start_time": "2023-04-03T06:25:05.366Z"
   },
   {
    "duration": 45,
    "start_time": "2023-04-03T06:25:09.789Z"
   },
   {
    "duration": 10,
    "start_time": "2023-04-03T06:25:11.682Z"
   },
   {
    "duration": 48,
    "start_time": "2023-04-03T06:25:12.522Z"
   },
   {
    "duration": 8,
    "start_time": "2023-04-03T06:26:22.113Z"
   },
   {
    "duration": 50,
    "start_time": "2023-04-03T06:26:22.909Z"
   },
   {
    "duration": 5,
    "start_time": "2023-04-03T06:26:39.801Z"
   },
   {
    "duration": 43,
    "start_time": "2023-04-03T06:26:40.656Z"
   },
   {
    "duration": 7,
    "start_time": "2023-04-03T06:31:10.445Z"
   },
   {
    "duration": 8,
    "start_time": "2023-04-03T06:31:13.769Z"
   },
   {
    "duration": 48,
    "start_time": "2023-04-03T06:31:14.705Z"
   },
   {
    "duration": 6,
    "start_time": "2023-04-03T06:32:54.517Z"
   },
   {
    "duration": 6,
    "start_time": "2023-04-03T06:33:07.275Z"
   },
   {
    "duration": 56,
    "start_time": "2023-04-03T06:33:08.213Z"
   },
   {
    "duration": 7,
    "start_time": "2023-04-03T06:35:29.125Z"
   },
   {
    "duration": 6,
    "start_time": "2023-04-03T06:35:31.859Z"
   },
   {
    "duration": 44,
    "start_time": "2023-04-03T06:35:33.120Z"
   },
   {
    "duration": 5,
    "start_time": "2023-04-03T06:38:03.750Z"
   },
   {
    "duration": 5,
    "start_time": "2023-04-03T06:38:07.737Z"
   },
   {
    "duration": 59,
    "start_time": "2023-04-03T06:38:08.736Z"
   },
   {
    "duration": 5,
    "start_time": "2023-04-03T06:38:13.262Z"
   },
   {
    "duration": 51,
    "start_time": "2023-04-03T06:38:13.915Z"
   },
   {
    "duration": 6,
    "start_time": "2023-04-03T06:38:53.425Z"
   },
   {
    "duration": 5,
    "start_time": "2023-04-03T06:38:58.333Z"
   },
   {
    "duration": 63,
    "start_time": "2023-04-03T06:38:59.029Z"
   },
   {
    "duration": 1956,
    "start_time": "2023-04-03T06:39:05.725Z"
   },
   {
    "duration": 3,
    "start_time": "2023-04-03T06:39:07.686Z"
   },
   {
    "duration": 33,
    "start_time": "2023-04-03T06:39:07.691Z"
   },
   {
    "duration": 13,
    "start_time": "2023-04-03T06:39:07.726Z"
   },
   {
    "duration": 3,
    "start_time": "2023-04-03T06:39:07.742Z"
   },
   {
    "duration": 8,
    "start_time": "2023-04-03T06:39:07.747Z"
   },
   {
    "duration": 14,
    "start_time": "2023-04-03T06:39:07.756Z"
   },
   {
    "duration": 33,
    "start_time": "2023-04-03T06:39:07.771Z"
   },
   {
    "duration": 40,
    "start_time": "2023-04-03T06:39:07.805Z"
   },
   {
    "duration": 6,
    "start_time": "2023-04-03T06:39:07.847Z"
   },
   {
    "duration": 7,
    "start_time": "2023-04-03T06:39:07.854Z"
   },
   {
    "duration": 23,
    "start_time": "2023-04-03T06:39:07.863Z"
   },
   {
    "duration": 7,
    "start_time": "2023-04-03T06:39:07.888Z"
   },
   {
    "duration": 5,
    "start_time": "2023-04-03T06:39:07.899Z"
   },
   {
    "duration": 791,
    "start_time": "2023-04-03T06:39:07.906Z"
   },
   {
    "duration": 849,
    "start_time": "2023-04-03T06:39:08.698Z"
   },
   {
    "duration": 4,
    "start_time": "2023-04-03T06:39:09.548Z"
   },
   {
    "duration": 10,
    "start_time": "2023-04-03T06:39:09.554Z"
   },
   {
    "duration": 7,
    "start_time": "2023-04-03T06:39:09.566Z"
   },
   {
    "duration": 20,
    "start_time": "2023-04-03T06:39:09.580Z"
   },
   {
    "duration": 10,
    "start_time": "2023-04-03T06:39:09.601Z"
   },
   {
    "duration": 7,
    "start_time": "2023-04-03T06:39:09.612Z"
   },
   {
    "duration": 5,
    "start_time": "2023-04-03T06:39:09.621Z"
   },
   {
    "duration": 16,
    "start_time": "2023-04-03T06:39:09.628Z"
   },
   {
    "duration": 6,
    "start_time": "2023-04-03T06:39:09.645Z"
   },
   {
    "duration": 11,
    "start_time": "2023-04-03T06:39:09.653Z"
   },
   {
    "duration": 21,
    "start_time": "2023-04-03T06:39:09.666Z"
   },
   {
    "duration": 4,
    "start_time": "2023-04-03T06:39:09.689Z"
   },
   {
    "duration": 5,
    "start_time": "2023-04-03T06:39:09.695Z"
   },
   {
    "duration": 6,
    "start_time": "2023-04-03T06:39:09.702Z"
   },
   {
    "duration": 12,
    "start_time": "2023-04-03T06:39:09.709Z"
   },
   {
    "duration": 3,
    "start_time": "2023-04-03T06:39:09.722Z"
   },
   {
    "duration": 4,
    "start_time": "2023-04-03T06:39:09.727Z"
   },
   {
    "duration": 8,
    "start_time": "2023-04-03T06:39:09.733Z"
   },
   {
    "duration": 43,
    "start_time": "2023-04-03T06:39:09.743Z"
   },
   {
    "duration": 9,
    "start_time": "2023-04-03T06:39:09.787Z"
   },
   {
    "duration": 15,
    "start_time": "2023-04-03T06:39:09.797Z"
   },
   {
    "duration": 14,
    "start_time": "2023-04-03T06:39:09.814Z"
   },
   {
    "duration": 20,
    "start_time": "2023-04-03T06:39:09.830Z"
   },
   {
    "duration": 4,
    "start_time": "2023-04-03T06:39:09.851Z"
   },
   {
    "duration": 3,
    "start_time": "2023-04-03T06:39:09.859Z"
   },
   {
    "duration": 6,
    "start_time": "2023-04-03T06:39:09.863Z"
   },
   {
    "duration": 23,
    "start_time": "2023-04-03T06:39:09.873Z"
   },
   {
    "duration": 6,
    "start_time": "2023-04-03T06:39:09.898Z"
   },
   {
    "duration": 20,
    "start_time": "2023-04-03T06:39:09.906Z"
   },
   {
    "duration": 10,
    "start_time": "2023-04-03T06:39:09.927Z"
   },
   {
    "duration": 18,
    "start_time": "2023-04-03T06:39:09.938Z"
   },
   {
    "duration": 32,
    "start_time": "2023-04-03T06:39:09.958Z"
   },
   {
    "duration": 17,
    "start_time": "2023-04-03T06:39:09.992Z"
   },
   {
    "duration": 23,
    "start_time": "2023-04-03T06:39:10.011Z"
   },
   {
    "duration": 15,
    "start_time": "2023-04-03T06:39:10.036Z"
   },
   {
    "duration": 15,
    "start_time": "2023-04-03T06:39:10.052Z"
   },
   {
    "duration": 24,
    "start_time": "2023-04-03T06:39:10.069Z"
   },
   {
    "duration": 5,
    "start_time": "2023-04-03T06:39:10.095Z"
   },
   {
    "duration": 9,
    "start_time": "2023-04-03T06:39:10.102Z"
   },
   {
    "duration": 90,
    "start_time": "2023-04-03T06:39:10.112Z"
   },
   {
    "duration": 85,
    "start_time": "2023-04-03T06:39:10.204Z"
   },
   {
    "duration": 569,
    "start_time": "2023-04-03T06:39:10.290Z"
   },
   {
    "duration": 17,
    "start_time": "2023-04-03T06:39:10.860Z"
   },
   {
    "duration": 188,
    "start_time": "2023-04-03T06:39:10.885Z"
   },
   {
    "duration": 6,
    "start_time": "2023-04-03T06:40:53.825Z"
   },
   {
    "duration": 44,
    "start_time": "2023-04-03T06:40:54.613Z"
   },
   {
    "duration": 7,
    "start_time": "2023-04-03T06:41:10.486Z"
   },
   {
    "duration": 34,
    "start_time": "2023-04-03T06:41:11.429Z"
   },
   {
    "duration": 5,
    "start_time": "2023-04-03T06:42:41.425Z"
   },
   {
    "duration": 32,
    "start_time": "2023-04-03T06:42:42.437Z"
   },
   {
    "duration": 5,
    "start_time": "2023-04-03T06:42:49.132Z"
   },
   {
    "duration": 48,
    "start_time": "2023-04-03T06:42:49.550Z"
   },
   {
    "duration": 8,
    "start_time": "2023-04-03T06:43:43.821Z"
   },
   {
    "duration": 6,
    "start_time": "2023-04-03T06:43:47.454Z"
   },
   {
    "duration": 50,
    "start_time": "2023-04-03T06:43:48.431Z"
   },
   {
    "duration": 9,
    "start_time": "2023-04-03T06:44:09.455Z"
   },
   {
    "duration": 5,
    "start_time": "2023-04-03T06:44:12.829Z"
   },
   {
    "duration": 44,
    "start_time": "2023-04-03T06:44:13.815Z"
   },
   {
    "duration": 9,
    "start_time": "2023-04-03T06:45:44.159Z"
   },
   {
    "duration": 11,
    "start_time": "2023-04-03T06:45:48.570Z"
   },
   {
    "duration": 490,
    "start_time": "2023-04-03T06:45:49.637Z"
   },
   {
    "duration": 4,
    "start_time": "2023-04-03T06:46:13.620Z"
   },
   {
    "duration": 6,
    "start_time": "2023-04-03T06:46:36.232Z"
   },
   {
    "duration": 711,
    "start_time": "2023-04-03T06:46:36.891Z"
   },
   {
    "duration": 3,
    "start_time": "2023-04-03T06:48:13.237Z"
   },
   {
    "duration": 4,
    "start_time": "2023-04-03T06:48:17.652Z"
   },
   {
    "duration": 6,
    "start_time": "2023-04-03T06:50:31.991Z"
   },
   {
    "duration": 6,
    "start_time": "2023-04-03T06:50:36.838Z"
   },
   {
    "duration": 260,
    "start_time": "2023-04-03T06:50:37.538Z"
   },
   {
    "duration": 6,
    "start_time": "2023-04-03T06:50:49.844Z"
   },
   {
    "duration": 365,
    "start_time": "2023-04-03T06:50:50.940Z"
   },
   {
    "duration": 10,
    "start_time": "2023-04-03T07:00:09.996Z"
   },
   {
    "duration": 18,
    "start_time": "2023-04-03T07:05:18.986Z"
   },
   {
    "duration": 17,
    "start_time": "2023-04-03T07:05:37.293Z"
   },
   {
    "duration": 8,
    "start_time": "2023-04-03T07:06:01.755Z"
   },
   {
    "duration": 14,
    "start_time": "2023-04-03T07:06:05.840Z"
   },
   {
    "duration": 7,
    "start_time": "2023-04-03T07:07:07.344Z"
   },
   {
    "duration": 8,
    "start_time": "2023-04-03T07:07:14.930Z"
   },
   {
    "duration": 15,
    "start_time": "2023-04-03T07:07:18.352Z"
   },
   {
    "duration": 1826,
    "start_time": "2023-04-03T07:07:27.939Z"
   },
   {
    "duration": 4,
    "start_time": "2023-04-03T07:07:29.767Z"
   },
   {
    "duration": 70,
    "start_time": "2023-04-03T07:07:29.772Z"
   },
   {
    "duration": 14,
    "start_time": "2023-04-03T07:07:29.844Z"
   },
   {
    "duration": 31,
    "start_time": "2023-04-03T07:07:29.860Z"
   },
   {
    "duration": 17,
    "start_time": "2023-04-03T07:07:29.892Z"
   },
   {
    "duration": 26,
    "start_time": "2023-04-03T07:07:29.910Z"
   },
   {
    "duration": 7,
    "start_time": "2023-04-03T07:07:29.937Z"
   },
   {
    "duration": 29,
    "start_time": "2023-04-03T07:07:29.946Z"
   },
   {
    "duration": 17,
    "start_time": "2023-04-03T07:07:29.976Z"
   },
   {
    "duration": 12,
    "start_time": "2023-04-03T07:07:29.995Z"
   },
   {
    "duration": 30,
    "start_time": "2023-04-03T07:07:30.009Z"
   },
   {
    "duration": 19,
    "start_time": "2023-04-03T07:07:30.041Z"
   },
   {
    "duration": 16,
    "start_time": "2023-04-03T07:07:30.065Z"
   },
   {
    "duration": 877,
    "start_time": "2023-04-03T07:07:30.083Z"
   },
   {
    "duration": 945,
    "start_time": "2023-04-03T07:07:30.962Z"
   },
   {
    "duration": 4,
    "start_time": "2023-04-03T07:07:31.909Z"
   },
   {
    "duration": 26,
    "start_time": "2023-04-03T07:07:31.915Z"
   },
   {
    "duration": 15,
    "start_time": "2023-04-03T07:07:31.943Z"
   },
   {
    "duration": 6,
    "start_time": "2023-04-03T07:07:31.959Z"
   },
   {
    "duration": 11,
    "start_time": "2023-04-03T07:07:31.966Z"
   },
   {
    "duration": 25,
    "start_time": "2023-04-03T07:07:31.978Z"
   },
   {
    "duration": 15,
    "start_time": "2023-04-03T07:07:32.005Z"
   },
   {
    "duration": 38,
    "start_time": "2023-04-03T07:07:32.022Z"
   },
   {
    "duration": 9,
    "start_time": "2023-04-03T07:07:32.061Z"
   },
   {
    "duration": 39,
    "start_time": "2023-04-03T07:07:32.071Z"
   },
   {
    "duration": 16,
    "start_time": "2023-04-03T07:07:32.111Z"
   },
   {
    "duration": 28,
    "start_time": "2023-04-03T07:07:32.128Z"
   },
   {
    "duration": 38,
    "start_time": "2023-04-03T07:07:32.158Z"
   },
   {
    "duration": 17,
    "start_time": "2023-04-03T07:07:32.198Z"
   },
   {
    "duration": 18,
    "start_time": "2023-04-03T07:07:32.216Z"
   },
   {
    "duration": 9,
    "start_time": "2023-04-03T07:07:32.236Z"
   },
   {
    "duration": 10,
    "start_time": "2023-04-03T07:07:32.247Z"
   },
   {
    "duration": 44,
    "start_time": "2023-04-03T07:07:32.259Z"
   },
   {
    "duration": 20,
    "start_time": "2023-04-03T07:07:32.304Z"
   },
   {
    "duration": 8,
    "start_time": "2023-04-03T07:07:32.326Z"
   },
   {
    "duration": 8,
    "start_time": "2023-04-03T07:07:32.336Z"
   },
   {
    "duration": 14,
    "start_time": "2023-04-03T07:07:32.345Z"
   },
   {
    "duration": 32,
    "start_time": "2023-04-03T07:07:32.361Z"
   },
   {
    "duration": 13,
    "start_time": "2023-04-03T07:07:32.395Z"
   },
   {
    "duration": 9,
    "start_time": "2023-04-03T07:07:32.412Z"
   },
   {
    "duration": 10,
    "start_time": "2023-04-03T07:07:32.423Z"
   },
   {
    "duration": 12,
    "start_time": "2023-04-03T07:07:32.435Z"
   },
   {
    "duration": 13,
    "start_time": "2023-04-03T07:07:32.448Z"
   },
   {
    "duration": 26,
    "start_time": "2023-04-03T07:07:32.463Z"
   },
   {
    "duration": 27,
    "start_time": "2023-04-03T07:07:32.491Z"
   },
   {
    "duration": 16,
    "start_time": "2023-04-03T07:07:32.520Z"
   },
   {
    "duration": 15,
    "start_time": "2023-04-03T07:07:32.537Z"
   },
   {
    "duration": 18,
    "start_time": "2023-04-03T07:07:32.553Z"
   },
   {
    "duration": 31,
    "start_time": "2023-04-03T07:07:32.573Z"
   },
   {
    "duration": 13,
    "start_time": "2023-04-03T07:07:32.606Z"
   },
   {
    "duration": 30,
    "start_time": "2023-04-03T07:07:32.620Z"
   },
   {
    "duration": 46,
    "start_time": "2023-04-03T07:07:32.653Z"
   },
   {
    "duration": 5,
    "start_time": "2023-04-03T07:07:32.701Z"
   },
   {
    "duration": 4,
    "start_time": "2023-04-03T07:07:32.708Z"
   },
   {
    "duration": 5,
    "start_time": "2023-04-03T07:07:32.714Z"
   },
   {
    "duration": 180,
    "start_time": "2023-04-03T07:07:32.721Z"
   },
   {
    "duration": 10,
    "start_time": "2023-04-03T07:08:08.343Z"
   },
   {
    "duration": 11,
    "start_time": "2023-04-03T07:08:08.525Z"
   },
   {
    "duration": 14,
    "start_time": "2023-04-03T07:08:12.492Z"
   },
   {
    "duration": 4,
    "start_time": "2023-04-03T07:08:18.247Z"
   },
   {
    "duration": 4,
    "start_time": "2023-04-03T07:08:24.295Z"
   },
   {
    "duration": 7,
    "start_time": "2023-04-03T07:08:34.390Z"
   },
   {
    "duration": 6,
    "start_time": "2023-04-03T07:08:38.756Z"
   },
   {
    "duration": 9,
    "start_time": "2023-04-03T07:08:46.740Z"
   },
   {
    "duration": 3,
    "start_time": "2023-04-03T07:09:05.790Z"
   },
   {
    "duration": 4,
    "start_time": "2023-04-03T07:09:06.745Z"
   },
   {
    "duration": 10,
    "start_time": "2023-04-03T07:09:09.671Z"
   },
   {
    "duration": 5,
    "start_time": "2023-04-03T07:09:28.434Z"
   },
   {
    "duration": 814,
    "start_time": "2023-04-03T07:09:29.771Z"
   },
   {
    "duration": 6,
    "start_time": "2023-04-03T07:26:18.557Z"
   },
   {
    "duration": 228,
    "start_time": "2023-04-03T07:26:19.160Z"
   },
   {
    "duration": 6,
    "start_time": "2023-04-03T07:27:15.038Z"
   },
   {
    "duration": 42,
    "start_time": "2023-04-03T07:27:15.937Z"
   },
   {
    "duration": 5,
    "start_time": "2023-04-03T07:28:07.328Z"
   },
   {
    "duration": 6,
    "start_time": "2023-04-03T07:28:21.643Z"
   },
   {
    "duration": 35,
    "start_time": "2023-04-03T07:28:22.690Z"
   },
   {
    "duration": 6,
    "start_time": "2023-04-03T07:29:05.082Z"
   },
   {
    "duration": 666,
    "start_time": "2023-04-03T07:29:05.818Z"
   },
   {
    "duration": 5,
    "start_time": "2023-04-03T07:29:52.571Z"
   },
   {
    "duration": 6,
    "start_time": "2023-04-03T07:29:56.407Z"
   },
   {
    "duration": 602,
    "start_time": "2023-04-03T07:29:58.484Z"
   },
   {
    "duration": 6,
    "start_time": "2023-04-03T07:30:09.934Z"
   },
   {
    "duration": 551,
    "start_time": "2023-04-03T07:30:10.822Z"
   },
   {
    "duration": 4,
    "start_time": "2023-04-03T07:31:39.614Z"
   },
   {
    "duration": 6,
    "start_time": "2023-04-03T07:31:44.815Z"
   },
   {
    "duration": 741,
    "start_time": "2023-04-03T07:31:45.763Z"
   },
   {
    "duration": 4,
    "start_time": "2023-04-03T07:32:27.566Z"
   },
   {
    "duration": 6,
    "start_time": "2023-04-03T07:32:27.902Z"
   },
   {
    "duration": 5,
    "start_time": "2023-04-03T07:32:32.854Z"
   },
   {
    "duration": 886,
    "start_time": "2023-04-03T07:32:33.603Z"
   },
   {
    "duration": 8,
    "start_time": "2023-04-03T07:32:56.143Z"
   },
   {
    "duration": 1012,
    "start_time": "2023-04-03T07:32:56.468Z"
   },
   {
    "duration": 9,
    "start_time": "2023-04-03T07:34:42.521Z"
   },
   {
    "duration": 77,
    "start_time": "2023-04-03T07:34:49.759Z"
   },
   {
    "duration": 29,
    "start_time": "2023-04-03T07:48:48.542Z"
   },
   {
    "duration": 19,
    "start_time": "2023-04-03T07:49:43.344Z"
   },
   {
    "duration": 50,
    "start_time": "2023-04-03T07:49:54.507Z"
   },
   {
    "duration": 19,
    "start_time": "2023-04-03T07:50:01.915Z"
   },
   {
    "duration": 4,
    "start_time": "2023-04-03T07:50:03.911Z"
   },
   {
    "duration": 8,
    "start_time": "2023-04-03T07:50:06.312Z"
   },
   {
    "duration": 10,
    "start_time": "2023-04-03T07:50:36.358Z"
   },
   {
    "duration": 6,
    "start_time": "2023-04-03T07:50:49.034Z"
   },
   {
    "duration": 784,
    "start_time": "2023-04-03T07:50:49.705Z"
   },
   {
    "duration": 9,
    "start_time": "2023-04-03T07:55:25.347Z"
   },
   {
    "duration": 3,
    "start_time": "2023-04-03T07:55:58.891Z"
   },
   {
    "duration": 9,
    "start_time": "2023-04-03T07:56:01.474Z"
   },
   {
    "duration": 4002,
    "start_time": "2023-04-03T07:56:02.092Z"
   },
   {
    "duration": 7,
    "start_time": "2023-04-03T07:56:57.556Z"
   },
   {
    "duration": 3,
    "start_time": "2023-04-03T07:57:06.409Z"
   },
   {
    "duration": 8,
    "start_time": "2023-04-03T07:57:08.327Z"
   },
   {
    "duration": 954,
    "start_time": "2023-04-03T07:57:09.138Z"
   },
   {
    "duration": 4,
    "start_time": "2023-04-03T07:57:55.604Z"
   },
   {
    "duration": 10,
    "start_time": "2023-04-03T07:57:58.944Z"
   },
   {
    "duration": 771,
    "start_time": "2023-04-03T07:57:59.603Z"
   },
   {
    "duration": 7,
    "start_time": "2023-04-03T07:58:20.118Z"
   },
   {
    "duration": 9,
    "start_time": "2023-04-03T07:58:23.105Z"
   },
   {
    "duration": 811,
    "start_time": "2023-04-03T07:58:23.492Z"
   },
   {
    "duration": 7,
    "start_time": "2023-04-03T07:59:19.419Z"
   },
   {
    "duration": 6,
    "start_time": "2023-04-03T07:59:23.644Z"
   },
   {
    "duration": 38,
    "start_time": "2023-04-03T07:59:24.256Z"
   },
   {
    "duration": 9,
    "start_time": "2023-04-03T08:00:38.623Z"
   },
   {
    "duration": 11,
    "start_time": "2023-04-03T08:00:47.861Z"
   },
   {
    "duration": 3,
    "start_time": "2023-04-03T08:01:32.544Z"
   },
   {
    "duration": 5,
    "start_time": "2023-04-03T08:01:35.886Z"
   },
   {
    "duration": 8,
    "start_time": "2023-04-03T08:02:15.092Z"
   },
   {
    "duration": 38,
    "start_time": "2023-04-03T08:02:15.426Z"
   },
   {
    "duration": 1769,
    "start_time": "2023-04-03T08:02:24.119Z"
   },
   {
    "duration": 5,
    "start_time": "2023-04-03T08:02:25.889Z"
   },
   {
    "duration": 32,
    "start_time": "2023-04-03T08:02:25.895Z"
   },
   {
    "duration": 12,
    "start_time": "2023-04-03T08:02:25.929Z"
   },
   {
    "duration": 3,
    "start_time": "2023-04-03T08:02:25.943Z"
   },
   {
    "duration": 11,
    "start_time": "2023-04-03T08:02:25.948Z"
   },
   {
    "duration": 13,
    "start_time": "2023-04-03T08:02:25.960Z"
   },
   {
    "duration": 18,
    "start_time": "2023-04-03T08:02:25.974Z"
   },
   {
    "duration": 31,
    "start_time": "2023-04-03T08:02:25.994Z"
   },
   {
    "duration": 12,
    "start_time": "2023-04-03T08:02:26.028Z"
   },
   {
    "duration": 26,
    "start_time": "2023-04-03T08:02:26.041Z"
   },
   {
    "duration": 17,
    "start_time": "2023-04-03T08:02:26.069Z"
   },
   {
    "duration": 26,
    "start_time": "2023-04-03T08:02:26.087Z"
   },
   {
    "duration": 17,
    "start_time": "2023-04-03T08:02:26.115Z"
   },
   {
    "duration": 811,
    "start_time": "2023-04-03T08:02:26.134Z"
   },
   {
    "duration": 796,
    "start_time": "2023-04-03T08:02:26.947Z"
   },
   {
    "duration": 3,
    "start_time": "2023-04-03T08:02:27.744Z"
   },
   {
    "duration": 12,
    "start_time": "2023-04-03T08:02:27.749Z"
   },
   {
    "duration": 6,
    "start_time": "2023-04-03T08:02:27.763Z"
   },
   {
    "duration": 16,
    "start_time": "2023-04-03T08:02:27.770Z"
   },
   {
    "duration": 8,
    "start_time": "2023-04-03T08:02:27.787Z"
   },
   {
    "duration": 8,
    "start_time": "2023-04-03T08:02:27.796Z"
   },
   {
    "duration": 11,
    "start_time": "2023-04-03T08:02:27.805Z"
   },
   {
    "duration": 20,
    "start_time": "2023-04-03T08:02:27.817Z"
   },
   {
    "duration": 11,
    "start_time": "2023-04-03T08:02:27.839Z"
   },
   {
    "duration": 21,
    "start_time": "2023-04-03T08:02:27.851Z"
   },
   {
    "duration": 8,
    "start_time": "2023-04-03T08:02:27.873Z"
   },
   {
    "duration": 5,
    "start_time": "2023-04-03T08:02:27.884Z"
   },
   {
    "duration": 7,
    "start_time": "2023-04-03T08:02:27.890Z"
   },
   {
    "duration": 6,
    "start_time": "2023-04-03T08:02:27.898Z"
   },
   {
    "duration": 12,
    "start_time": "2023-04-03T08:02:27.905Z"
   },
   {
    "duration": 5,
    "start_time": "2023-04-03T08:02:27.919Z"
   },
   {
    "duration": 6,
    "start_time": "2023-04-03T08:02:27.925Z"
   },
   {
    "duration": 9,
    "start_time": "2023-04-03T08:02:27.932Z"
   },
   {
    "duration": 34,
    "start_time": "2023-04-03T08:02:27.942Z"
   },
   {
    "duration": 5,
    "start_time": "2023-04-03T08:02:27.978Z"
   },
   {
    "duration": 20,
    "start_time": "2023-04-03T08:02:27.984Z"
   },
   {
    "duration": 12,
    "start_time": "2023-04-03T08:02:28.006Z"
   },
   {
    "duration": 24,
    "start_time": "2023-04-03T08:02:28.019Z"
   },
   {
    "duration": 7,
    "start_time": "2023-04-03T08:02:28.044Z"
   },
   {
    "duration": 5,
    "start_time": "2023-04-03T08:02:28.053Z"
   },
   {
    "duration": 16,
    "start_time": "2023-04-03T08:02:28.059Z"
   },
   {
    "duration": 7,
    "start_time": "2023-04-03T08:02:28.077Z"
   },
   {
    "duration": 11,
    "start_time": "2023-04-03T08:02:28.085Z"
   },
   {
    "duration": 9,
    "start_time": "2023-04-03T08:02:28.097Z"
   },
   {
    "duration": 16,
    "start_time": "2023-04-03T08:02:28.107Z"
   },
   {
    "duration": 6,
    "start_time": "2023-04-03T08:02:28.125Z"
   },
   {
    "duration": 10,
    "start_time": "2023-04-03T08:02:28.132Z"
   },
   {
    "duration": 6,
    "start_time": "2023-04-03T08:02:28.143Z"
   },
   {
    "duration": 11,
    "start_time": "2023-04-03T08:02:28.151Z"
   },
   {
    "duration": 22,
    "start_time": "2023-04-03T08:02:28.164Z"
   },
   {
    "duration": 4,
    "start_time": "2023-04-03T08:02:28.187Z"
   },
   {
    "duration": 4,
    "start_time": "2023-04-03T08:02:28.193Z"
   },
   {
    "duration": 8,
    "start_time": "2023-04-03T08:02:28.199Z"
   },
   {
    "duration": 9,
    "start_time": "2023-04-03T08:02:28.209Z"
   },
   {
    "duration": 70,
    "start_time": "2023-04-03T08:02:28.220Z"
   },
   {
    "duration": 4,
    "start_time": "2023-04-03T08:02:28.372Z"
   },
   {
    "duration": 550,
    "start_time": "2023-04-03T08:02:28.377Z"
   },
   {
    "duration": 6,
    "start_time": "2023-04-03T08:02:28.928Z"
   },
   {
    "duration": 968,
    "start_time": "2023-04-03T08:02:28.936Z"
   },
   {
    "duration": 5,
    "start_time": "2023-04-03T08:02:45.291Z"
   },
   {
    "duration": 833,
    "start_time": "2023-04-03T08:02:45.666Z"
   },
   {
    "duration": 10,
    "start_time": "2023-04-03T08:02:54.568Z"
   },
   {
    "duration": 15,
    "start_time": "2023-04-03T08:03:38.445Z"
   },
   {
    "duration": 7,
    "start_time": "2023-04-03T08:03:42.418Z"
   },
   {
    "duration": 7,
    "start_time": "2023-04-03T08:03:49.057Z"
   },
   {
    "duration": 3,
    "start_time": "2023-04-03T08:04:48.083Z"
   },
   {
    "duration": 3,
    "start_time": "2023-04-03T08:04:50.847Z"
   },
   {
    "duration": 8,
    "start_time": "2023-04-03T08:05:12.961Z"
   },
   {
    "duration": 43,
    "start_time": "2023-04-03T08:05:13.760Z"
   },
   {
    "duration": 6,
    "start_time": "2023-04-03T08:05:46.337Z"
   },
   {
    "duration": 45,
    "start_time": "2023-04-03T08:05:48.163Z"
   },
   {
    "duration": 6,
    "start_time": "2023-04-03T08:06:14.782Z"
   },
   {
    "duration": 44,
    "start_time": "2023-04-03T08:06:15.825Z"
   },
   {
    "duration": 11,
    "start_time": "2023-04-03T08:06:53.527Z"
   },
   {
    "duration": 6,
    "start_time": "2023-04-03T08:06:59.841Z"
   },
   {
    "duration": 893,
    "start_time": "2023-04-03T08:07:00.202Z"
   },
   {
    "duration": 4,
    "start_time": "2023-04-03T08:09:46.589Z"
   },
   {
    "duration": 3,
    "start_time": "2023-04-03T08:10:12.423Z"
   },
   {
    "duration": 6,
    "start_time": "2023-04-03T08:10:54.326Z"
   },
   {
    "duration": 9132,
    "start_time": "2023-04-03T08:10:54.692Z"
   },
   {
    "duration": 7,
    "start_time": "2023-04-03T08:11:57.455Z"
   },
   {
    "duration": 3408,
    "start_time": "2023-04-03T08:11:57.884Z"
   },
   {
    "duration": 6,
    "start_time": "2023-04-03T08:12:14.557Z"
   },
   {
    "duration": 4242,
    "start_time": "2023-04-03T08:12:14.965Z"
   },
   {
    "duration": 13,
    "start_time": "2023-04-03T08:12:30.556Z"
   },
   {
    "duration": 17,
    "start_time": "2023-04-03T08:12:54.456Z"
   },
   {
    "duration": 4,
    "start_time": "2023-04-03T08:13:03.219Z"
   },
   {
    "duration": 4,
    "start_time": "2023-04-03T08:13:06.895Z"
   },
   {
    "duration": 7,
    "start_time": "2023-04-03T08:13:48.493Z"
   },
   {
    "duration": 6492,
    "start_time": "2023-04-03T08:13:49.097Z"
   },
   {
    "duration": 9689,
    "start_time": "2023-04-03T08:13:57.510Z"
   },
   {
    "duration": 6,
    "start_time": "2023-04-03T08:14:33.811Z"
   },
   {
    "duration": 2599,
    "start_time": "2023-04-03T08:14:34.399Z"
   },
   {
    "duration": 6,
    "start_time": "2023-04-03T08:15:04.196Z"
   },
   {
    "duration": 5,
    "start_time": "2023-04-03T08:15:11.451Z"
   },
   {
    "duration": 13588,
    "start_time": "2023-04-03T08:15:12.102Z"
   },
   {
    "duration": 8,
    "start_time": "2023-04-03T08:15:39.503Z"
   },
   {
    "duration": 1825,
    "start_time": "2023-04-03T08:15:39.964Z"
   },
   {
    "duration": 5,
    "start_time": "2023-04-03T08:15:51.502Z"
   },
   {
    "duration": 1823,
    "start_time": "2023-04-03T08:15:51.865Z"
   },
   {
    "duration": 3,
    "start_time": "2023-04-03T08:16:41.918Z"
   },
   {
    "duration": 4,
    "start_time": "2023-04-03T08:16:54.942Z"
   },
   {
    "duration": 8,
    "start_time": "2023-04-03T08:17:21.218Z"
   },
   {
    "duration": 39,
    "start_time": "2023-04-03T08:17:22.298Z"
   },
   {
    "duration": 5,
    "start_time": "2023-04-03T08:17:35.247Z"
   },
   {
    "duration": 5460,
    "start_time": "2023-04-03T08:17:35.919Z"
   },
   {
    "duration": 5,
    "start_time": "2023-04-03T08:17:43.697Z"
   },
   {
    "duration": 5,
    "start_time": "2023-04-03T08:18:13.847Z"
   },
   {
    "duration": 5375,
    "start_time": "2023-04-03T08:18:14.209Z"
   },
   {
    "duration": 4,
    "start_time": "2023-04-03T08:18:19.586Z"
   },
   {
    "duration": 6,
    "start_time": "2023-04-03T08:19:26.436Z"
   },
   {
    "duration": 84,
    "start_time": "2023-04-03T08:19:26.810Z"
   },
   {
    "duration": 8,
    "start_time": "2023-04-03T08:21:44.943Z"
   },
   {
    "duration": 3,
    "start_time": "2023-04-03T08:23:46.034Z"
   },
   {
    "duration": 4,
    "start_time": "2023-04-03T08:23:56.590Z"
   },
   {
    "duration": 3,
    "start_time": "2023-04-03T08:25:10.298Z"
   },
   {
    "duration": 10,
    "start_time": "2023-04-03T08:25:58.226Z"
   },
   {
    "duration": 1768,
    "start_time": "2023-04-03T08:26:08.926Z"
   },
   {
    "duration": 4,
    "start_time": "2023-04-03T08:26:10.697Z"
   },
   {
    "duration": 34,
    "start_time": "2023-04-03T08:26:10.702Z"
   },
   {
    "duration": 15,
    "start_time": "2023-04-03T08:26:10.738Z"
   },
   {
    "duration": 3,
    "start_time": "2023-04-03T08:26:10.756Z"
   },
   {
    "duration": 11,
    "start_time": "2023-04-03T08:26:10.761Z"
   },
   {
    "duration": 20,
    "start_time": "2023-04-03T08:26:10.774Z"
   },
   {
    "duration": 10,
    "start_time": "2023-04-03T08:26:10.796Z"
   },
   {
    "duration": 34,
    "start_time": "2023-04-03T08:26:10.808Z"
   },
   {
    "duration": 7,
    "start_time": "2023-04-03T08:26:10.844Z"
   },
   {
    "duration": 10,
    "start_time": "2023-04-03T08:26:10.853Z"
   },
   {
    "duration": 14,
    "start_time": "2023-04-03T08:26:10.864Z"
   },
   {
    "duration": 9,
    "start_time": "2023-04-03T08:26:10.879Z"
   },
   {
    "duration": 5,
    "start_time": "2023-04-03T08:26:10.891Z"
   },
   {
    "duration": 819,
    "start_time": "2023-04-03T08:26:10.897Z"
   },
   {
    "duration": 845,
    "start_time": "2023-04-03T08:26:11.718Z"
   },
   {
    "duration": 3,
    "start_time": "2023-04-03T08:26:12.565Z"
   },
   {
    "duration": 20,
    "start_time": "2023-04-03T08:26:12.569Z"
   },
   {
    "duration": 11,
    "start_time": "2023-04-03T08:26:12.591Z"
   },
   {
    "duration": 10,
    "start_time": "2023-04-03T08:26:12.604Z"
   },
   {
    "duration": 27,
    "start_time": "2023-04-03T08:26:12.616Z"
   },
   {
    "duration": 16,
    "start_time": "2023-04-03T08:26:12.645Z"
   },
   {
    "duration": 28,
    "start_time": "2023-04-03T08:26:12.663Z"
   },
   {
    "duration": 26,
    "start_time": "2023-04-03T08:26:12.693Z"
   },
   {
    "duration": 13,
    "start_time": "2023-04-03T08:26:12.721Z"
   },
   {
    "duration": 14,
    "start_time": "2023-04-03T08:26:12.736Z"
   },
   {
    "duration": 13,
    "start_time": "2023-04-03T08:26:12.752Z"
   },
   {
    "duration": 16,
    "start_time": "2023-04-03T08:26:12.767Z"
   },
   {
    "duration": 12,
    "start_time": "2023-04-03T08:26:12.785Z"
   },
   {
    "duration": 11,
    "start_time": "2023-04-03T08:26:12.799Z"
   },
   {
    "duration": 18,
    "start_time": "2023-04-03T08:26:12.812Z"
   },
   {
    "duration": 21,
    "start_time": "2023-04-03T08:26:12.832Z"
   },
   {
    "duration": 5,
    "start_time": "2023-04-03T08:26:12.855Z"
   },
   {
    "duration": 14,
    "start_time": "2023-04-03T08:26:12.861Z"
   },
   {
    "duration": 26,
    "start_time": "2023-04-03T08:26:12.876Z"
   },
   {
    "duration": 24,
    "start_time": "2023-04-03T08:26:12.904Z"
   },
   {
    "duration": 8,
    "start_time": "2023-04-03T08:26:12.931Z"
   },
   {
    "duration": 22,
    "start_time": "2023-04-03T08:26:12.941Z"
   },
   {
    "duration": 36,
    "start_time": "2023-04-03T08:26:12.965Z"
   },
   {
    "duration": 7,
    "start_time": "2023-04-03T08:26:13.003Z"
   },
   {
    "duration": 17,
    "start_time": "2023-04-03T08:26:13.014Z"
   },
   {
    "duration": 9,
    "start_time": "2023-04-03T08:26:13.032Z"
   },
   {
    "duration": 26,
    "start_time": "2023-04-03T08:26:13.042Z"
   },
   {
    "duration": 21,
    "start_time": "2023-04-03T08:26:13.069Z"
   },
   {
    "duration": 19,
    "start_time": "2023-04-03T08:26:13.092Z"
   },
   {
    "duration": 25,
    "start_time": "2023-04-03T08:26:13.113Z"
   },
   {
    "duration": 21,
    "start_time": "2023-04-03T08:26:13.139Z"
   },
   {
    "duration": 19,
    "start_time": "2023-04-03T08:26:13.162Z"
   },
   {
    "duration": 94,
    "start_time": "2023-04-03T08:26:13.183Z"
   },
   {
    "duration": 9,
    "start_time": "2023-04-03T08:26:13.279Z"
   },
   {
    "duration": 19,
    "start_time": "2023-04-03T08:26:13.290Z"
   },
   {
    "duration": 9,
    "start_time": "2023-04-03T08:26:13.310Z"
   },
   {
    "duration": 8,
    "start_time": "2023-04-03T08:26:13.321Z"
   },
   {
    "duration": 16,
    "start_time": "2023-04-03T08:26:13.331Z"
   },
   {
    "duration": 13,
    "start_time": "2023-04-03T08:26:13.348Z"
   },
   {
    "duration": 31,
    "start_time": "2023-04-03T08:26:13.363Z"
   },
   {
    "duration": 78,
    "start_time": "2023-04-03T08:26:13.397Z"
   },
   {
    "duration": 589,
    "start_time": "2023-04-03T08:26:13.476Z"
   },
   {
    "duration": 5,
    "start_time": "2023-04-03T08:26:18.065Z"
   },
   {
    "duration": 4,
    "start_time": "2023-04-03T08:26:18.427Z"
   },
   {
    "duration": 170,
    "start_time": "2023-04-03T08:26:21.602Z"
   },
   {
    "duration": 11,
    "start_time": "2023-04-03T08:27:06.932Z"
   },
   {
    "duration": 8,
    "start_time": "2023-04-03T08:27:11.143Z"
   },
   {
    "duration": 85,
    "start_time": "2023-04-03T08:27:11.705Z"
   },
   {
    "duration": 5,
    "start_time": "2023-04-03T08:27:34.745Z"
   },
   {
    "duration": 99,
    "start_time": "2023-04-03T08:27:35.296Z"
   },
   {
    "duration": 3,
    "start_time": "2023-04-03T08:27:47.032Z"
   },
   {
    "duration": 8,
    "start_time": "2023-04-03T08:27:48.989Z"
   },
   {
    "duration": 88,
    "start_time": "2023-04-03T08:27:49.601Z"
   },
   {
    "duration": 7,
    "start_time": "2023-04-03T08:28:48.080Z"
   },
   {
    "duration": 9,
    "start_time": "2023-04-03T08:28:52.298Z"
   },
   {
    "duration": 2677,
    "start_time": "2023-04-03T08:28:52.810Z"
   },
   {
    "duration": 5,
    "start_time": "2023-04-03T08:28:59.486Z"
   },
   {
    "duration": 38230,
    "start_time": "2023-04-03T08:29:00.159Z"
   },
   {
    "duration": 4,
    "start_time": "2023-04-03T08:29:43.537Z"
   },
   {
    "duration": 6,
    "start_time": "2023-04-03T08:30:44.101Z"
   },
   {
    "duration": 13180,
    "start_time": "2023-04-03T08:30:45.716Z"
   },
   {
    "duration": 0,
    "start_time": "2023-04-03T08:30:58.897Z"
   },
   {
    "duration": 6,
    "start_time": "2023-04-03T08:31:27.745Z"
   },
   {
    "duration": 37877,
    "start_time": "2023-04-03T08:31:28.095Z"
   },
   {
    "duration": 4,
    "start_time": "2023-04-03T08:32:05.974Z"
   },
   {
    "duration": 6,
    "start_time": "2023-04-03T08:32:24.548Z"
   },
   {
    "duration": 5143,
    "start_time": "2023-04-03T08:32:26.956Z"
   },
   {
    "duration": 13,
    "start_time": "2023-04-03T08:33:03.058Z"
   },
   {
    "duration": 0,
    "start_time": "2023-04-03T08:33:15.696Z"
   },
   {
    "duration": 0,
    "start_time": "2023-04-03T08:33:15.697Z"
   },
   {
    "duration": 0,
    "start_time": "2023-04-03T08:33:15.698Z"
   },
   {
    "duration": 9,
    "start_time": "2023-04-03T08:33:17.089Z"
   },
   {
    "duration": 20165,
    "start_time": "2023-04-03T08:33:17.407Z"
   },
   {
    "duration": 4,
    "start_time": "2023-04-03T08:33:37.574Z"
   },
   {
    "duration": 7,
    "start_time": "2023-04-03T08:38:34.492Z"
   },
   {
    "duration": 43,
    "start_time": "2023-04-03T08:38:35.281Z"
   },
   {
    "duration": 7,
    "start_time": "2023-04-03T08:39:05.691Z"
   },
   {
    "duration": 44,
    "start_time": "2023-04-03T08:39:06.585Z"
   },
   {
    "duration": 24,
    "start_time": "2023-04-03T08:39:29.145Z"
   },
   {
    "duration": 6,
    "start_time": "2023-04-03T08:39:30.989Z"
   },
   {
    "duration": 502,
    "start_time": "2023-04-03T08:39:31.691Z"
   },
   {
    "duration": 6,
    "start_time": "2023-04-03T08:42:30.487Z"
   },
   {
    "duration": 8,
    "start_time": "2023-04-03T08:46:09.870Z"
   },
   {
    "duration": 5,
    "start_time": "2023-04-03T08:46:24.085Z"
   },
   {
    "duration": 20,
    "start_time": "2023-04-03T08:46:35.009Z"
   },
   {
    "duration": 5,
    "start_time": "2023-04-03T08:46:39.072Z"
   },
   {
    "duration": 6,
    "start_time": "2023-04-03T08:50:38.795Z"
   },
   {
    "duration": 8,
    "start_time": "2023-04-03T08:51:02.758Z"
   },
   {
    "duration": 6,
    "start_time": "2023-04-03T08:51:05.633Z"
   },
   {
    "duration": 8,
    "start_time": "2023-04-03T08:51:17.644Z"
   },
   {
    "duration": 5,
    "start_time": "2023-04-03T08:51:19.645Z"
   },
   {
    "duration": 9,
    "start_time": "2023-04-03T08:51:55.012Z"
   },
   {
    "duration": 6,
    "start_time": "2023-04-03T08:52:03.909Z"
   },
   {
    "duration": 6,
    "start_time": "2023-04-03T08:52:10.009Z"
   },
   {
    "duration": 5,
    "start_time": "2023-04-03T08:52:29.284Z"
   },
   {
    "duration": 4,
    "start_time": "2023-04-03T08:55:17.753Z"
   },
   {
    "duration": 7,
    "start_time": "2023-04-03T08:56:18.853Z"
   },
   {
    "duration": 95,
    "start_time": "2023-04-03T08:56:19.207Z"
   },
   {
    "duration": 12,
    "start_time": "2023-04-03T08:56:39.469Z"
   },
   {
    "duration": 17,
    "start_time": "2023-04-03T08:57:07.058Z"
   },
   {
    "duration": 752,
    "start_time": "2023-04-03T08:57:19.570Z"
   },
   {
    "duration": 65,
    "start_time": "2023-04-03T08:57:27.021Z"
   },
   {
    "duration": 927,
    "start_time": "2023-04-03T08:57:33.947Z"
   },
   {
    "duration": 1811,
    "start_time": "2023-04-03T08:57:41.734Z"
   },
   {
    "duration": 4,
    "start_time": "2023-04-03T08:57:43.547Z"
   },
   {
    "duration": 54,
    "start_time": "2023-04-03T08:57:43.552Z"
   },
   {
    "duration": 14,
    "start_time": "2023-04-03T08:57:43.608Z"
   },
   {
    "duration": 5,
    "start_time": "2023-04-03T08:57:43.623Z"
   },
   {
    "duration": 10,
    "start_time": "2023-04-03T08:57:43.630Z"
   },
   {
    "duration": 14,
    "start_time": "2023-04-03T08:57:43.641Z"
   },
   {
    "duration": 11,
    "start_time": "2023-04-03T08:57:43.657Z"
   },
   {
    "duration": 41,
    "start_time": "2023-04-03T08:57:43.670Z"
   },
   {
    "duration": 6,
    "start_time": "2023-04-03T08:57:43.715Z"
   },
   {
    "duration": 21,
    "start_time": "2023-04-03T08:57:43.723Z"
   },
   {
    "duration": 19,
    "start_time": "2023-04-03T08:57:43.747Z"
   },
   {
    "duration": 8,
    "start_time": "2023-04-03T08:57:43.769Z"
   },
   {
    "duration": 23,
    "start_time": "2023-04-03T08:57:43.780Z"
   },
   {
    "duration": 885,
    "start_time": "2023-04-03T08:57:43.806Z"
   },
   {
    "duration": 858,
    "start_time": "2023-04-03T08:57:44.693Z"
   },
   {
    "duration": 3,
    "start_time": "2023-04-03T08:57:45.552Z"
   },
   {
    "duration": 11,
    "start_time": "2023-04-03T08:57:45.557Z"
   },
   {
    "duration": 8,
    "start_time": "2023-04-03T08:57:45.570Z"
   },
   {
    "duration": 8,
    "start_time": "2023-04-03T08:57:45.579Z"
   },
   {
    "duration": 10,
    "start_time": "2023-04-03T08:57:45.588Z"
   },
   {
    "duration": 6,
    "start_time": "2023-04-03T08:57:45.600Z"
   },
   {
    "duration": 10,
    "start_time": "2023-04-03T08:57:45.608Z"
   },
   {
    "duration": 21,
    "start_time": "2023-04-03T08:57:45.620Z"
   },
   {
    "duration": 37,
    "start_time": "2023-04-03T08:57:45.642Z"
   },
   {
    "duration": 15,
    "start_time": "2023-04-03T08:57:45.682Z"
   },
   {
    "duration": 13,
    "start_time": "2023-04-03T08:57:45.699Z"
   },
   {
    "duration": 10,
    "start_time": "2023-04-03T08:57:45.715Z"
   },
   {
    "duration": 10,
    "start_time": "2023-04-03T08:57:45.726Z"
   },
   {
    "duration": 6,
    "start_time": "2023-04-03T08:57:45.738Z"
   },
   {
    "duration": 10,
    "start_time": "2023-04-03T08:57:45.746Z"
   },
   {
    "duration": 7,
    "start_time": "2023-04-03T08:57:45.758Z"
   },
   {
    "duration": 18,
    "start_time": "2023-04-03T08:57:45.767Z"
   },
   {
    "duration": 9,
    "start_time": "2023-04-03T08:57:45.789Z"
   },
   {
    "duration": 14,
    "start_time": "2023-04-03T08:57:45.800Z"
   },
   {
    "duration": 8,
    "start_time": "2023-04-03T08:57:45.816Z"
   },
   {
    "duration": 4,
    "start_time": "2023-04-03T08:57:45.826Z"
   },
   {
    "duration": 12,
    "start_time": "2023-04-03T08:57:45.831Z"
   },
   {
    "duration": 39,
    "start_time": "2023-04-03T08:57:45.845Z"
   },
   {
    "duration": 4,
    "start_time": "2023-04-03T08:57:45.886Z"
   },
   {
    "duration": 4,
    "start_time": "2023-04-03T08:57:45.891Z"
   },
   {
    "duration": 8,
    "start_time": "2023-04-03T08:57:45.896Z"
   },
   {
    "duration": 7,
    "start_time": "2023-04-03T08:57:45.906Z"
   },
   {
    "duration": 7,
    "start_time": "2023-04-03T08:57:45.914Z"
   },
   {
    "duration": 8,
    "start_time": "2023-04-03T08:57:45.923Z"
   },
   {
    "duration": 42,
    "start_time": "2023-04-03T08:57:45.933Z"
   },
   {
    "duration": 8,
    "start_time": "2023-04-03T08:57:45.977Z"
   },
   {
    "duration": 7,
    "start_time": "2023-04-03T08:57:45.987Z"
   },
   {
    "duration": 5,
    "start_time": "2023-04-03T08:57:45.996Z"
   },
   {
    "duration": 12,
    "start_time": "2023-04-03T08:57:46.003Z"
   },
   {
    "duration": 13,
    "start_time": "2023-04-03T08:57:46.017Z"
   },
   {
    "duration": 794,
    "start_time": "2023-04-03T08:57:46.032Z"
   },
   {
    "duration": 658,
    "start_time": "2023-04-03T08:57:58.234Z"
   },
   {
    "duration": 769,
    "start_time": "2023-04-03T08:58:01.548Z"
   },
   {
    "duration": 49,
    "start_time": "2023-04-03T08:59:01.127Z"
   },
   {
    "duration": 8,
    "start_time": "2023-04-03T08:59:06.974Z"
   },
   {
    "duration": 7,
    "start_time": "2023-04-03T08:59:07.200Z"
   },
   {
    "duration": 1665,
    "start_time": "2023-04-03T08:59:23.286Z"
   },
   {
    "duration": 5,
    "start_time": "2023-04-03T08:59:24.953Z"
   },
   {
    "duration": 30,
    "start_time": "2023-04-03T08:59:24.959Z"
   },
   {
    "duration": 13,
    "start_time": "2023-04-03T08:59:24.991Z"
   },
   {
    "duration": 4,
    "start_time": "2023-04-03T08:59:25.006Z"
   },
   {
    "duration": 20,
    "start_time": "2023-04-03T08:59:25.012Z"
   },
   {
    "duration": 14,
    "start_time": "2023-04-03T08:59:25.034Z"
   },
   {
    "duration": 6,
    "start_time": "2023-04-03T08:59:25.049Z"
   },
   {
    "duration": 27,
    "start_time": "2023-04-03T08:59:25.056Z"
   },
   {
    "duration": 6,
    "start_time": "2023-04-03T08:59:25.085Z"
   },
   {
    "duration": 17,
    "start_time": "2023-04-03T08:59:25.093Z"
   },
   {
    "duration": 15,
    "start_time": "2023-04-03T08:59:25.113Z"
   },
   {
    "duration": 9,
    "start_time": "2023-04-03T08:59:25.130Z"
   },
   {
    "duration": 4,
    "start_time": "2023-04-03T08:59:25.143Z"
   },
   {
    "duration": 768,
    "start_time": "2023-04-03T08:59:25.149Z"
   },
   {
    "duration": 860,
    "start_time": "2023-04-03T08:59:25.919Z"
   },
   {
    "duration": 5,
    "start_time": "2023-04-03T08:59:26.781Z"
   },
   {
    "duration": 9,
    "start_time": "2023-04-03T08:59:26.787Z"
   },
   {
    "duration": 6,
    "start_time": "2023-04-03T08:59:26.797Z"
   },
   {
    "duration": 12,
    "start_time": "2023-04-03T08:59:26.804Z"
   },
   {
    "duration": 11,
    "start_time": "2023-04-03T08:59:26.817Z"
   },
   {
    "duration": 7,
    "start_time": "2023-04-03T08:59:26.830Z"
   },
   {
    "duration": 7,
    "start_time": "2023-04-03T08:59:26.839Z"
   },
   {
    "duration": 16,
    "start_time": "2023-04-03T08:59:26.848Z"
   },
   {
    "duration": 3,
    "start_time": "2023-04-03T08:59:26.871Z"
   },
   {
    "duration": 10,
    "start_time": "2023-04-03T08:59:26.876Z"
   },
   {
    "duration": 6,
    "start_time": "2023-04-03T08:59:26.887Z"
   },
   {
    "duration": 5,
    "start_time": "2023-04-03T08:59:26.895Z"
   },
   {
    "duration": 21,
    "start_time": "2023-04-03T08:59:26.902Z"
   },
   {
    "duration": 6,
    "start_time": "2023-04-03T08:59:26.925Z"
   },
   {
    "duration": 25,
    "start_time": "2023-04-03T08:59:26.933Z"
   },
   {
    "duration": 13,
    "start_time": "2023-04-03T08:59:26.960Z"
   },
   {
    "duration": 23,
    "start_time": "2023-04-03T08:59:26.975Z"
   },
   {
    "duration": 15,
    "start_time": "2023-04-03T08:59:27.000Z"
   },
   {
    "duration": 27,
    "start_time": "2023-04-03T08:59:27.017Z"
   },
   {
    "duration": 5,
    "start_time": "2023-04-03T08:59:27.046Z"
   },
   {
    "duration": 10,
    "start_time": "2023-04-03T08:59:27.053Z"
   },
   {
    "duration": 28,
    "start_time": "2023-04-03T08:59:27.064Z"
   },
   {
    "duration": 43,
    "start_time": "2023-04-03T08:59:27.095Z"
   },
   {
    "duration": 18,
    "start_time": "2023-04-03T08:59:27.140Z"
   },
   {
    "duration": 2,
    "start_time": "2023-04-03T08:59:27.162Z"
   },
   {
    "duration": 9,
    "start_time": "2023-04-03T08:59:27.166Z"
   },
   {
    "duration": 13,
    "start_time": "2023-04-03T08:59:27.176Z"
   },
   {
    "duration": 9,
    "start_time": "2023-04-03T08:59:27.191Z"
   },
   {
    "duration": 29,
    "start_time": "2023-04-03T08:59:27.201Z"
   },
   {
    "duration": 35,
    "start_time": "2023-04-03T08:59:27.232Z"
   },
   {
    "duration": 30,
    "start_time": "2023-04-03T08:59:27.268Z"
   },
   {
    "duration": 31,
    "start_time": "2023-04-03T08:59:27.300Z"
   },
   {
    "duration": 10,
    "start_time": "2023-04-03T08:59:27.333Z"
   },
   {
    "duration": 14,
    "start_time": "2023-04-03T08:59:27.345Z"
   },
   {
    "duration": 3,
    "start_time": "2023-04-03T08:59:41.776Z"
   },
   {
    "duration": 7,
    "start_time": "2023-04-03T08:59:42.589Z"
   },
   {
    "duration": 3,
    "start_time": "2023-04-03T08:59:45.939Z"
   },
   {
    "duration": 4,
    "start_time": "2023-04-03T08:59:46.375Z"
   },
   {
    "duration": 16,
    "start_time": "2023-04-03T08:59:55.964Z"
   },
   {
    "duration": 4,
    "start_time": "2023-04-03T08:59:56.802Z"
   },
   {
    "duration": 9,
    "start_time": "2023-04-03T09:00:23.268Z"
   },
   {
    "duration": 100,
    "start_time": "2023-04-03T09:00:23.721Z"
   },
   {
    "duration": 131,
    "start_time": "2023-04-03T09:00:52.791Z"
   },
   {
    "duration": 8,
    "start_time": "2023-04-03T09:02:31.707Z"
   },
   {
    "duration": 93,
    "start_time": "2023-04-03T09:02:48.495Z"
   },
   {
    "duration": 93,
    "start_time": "2023-04-03T09:03:07.682Z"
   },
   {
    "duration": 26512,
    "start_time": "2023-04-03T09:03:10.557Z"
   },
   {
    "duration": 96,
    "start_time": "2023-04-03T09:03:39.385Z"
   },
   {
    "duration": 10,
    "start_time": "2023-04-03T09:04:03.473Z"
   },
   {
    "duration": 2021,
    "start_time": "2023-04-03T09:04:22.860Z"
   },
   {
    "duration": 11,
    "start_time": "2023-04-03T09:04:28.999Z"
   },
   {
    "duration": 1921,
    "start_time": "2023-04-03T09:04:29.398Z"
   },
   {
    "duration": 1788,
    "start_time": "2023-04-03T09:04:43.864Z"
   },
   {
    "duration": 4,
    "start_time": "2023-04-03T09:04:45.654Z"
   },
   {
    "duration": 34,
    "start_time": "2023-04-03T09:04:45.659Z"
   },
   {
    "duration": 16,
    "start_time": "2023-04-03T09:04:45.696Z"
   },
   {
    "duration": 7,
    "start_time": "2023-04-03T09:04:45.714Z"
   },
   {
    "duration": 8,
    "start_time": "2023-04-03T09:04:45.723Z"
   },
   {
    "duration": 22,
    "start_time": "2023-04-03T09:04:45.733Z"
   },
   {
    "duration": 17,
    "start_time": "2023-04-03T09:04:45.757Z"
   },
   {
    "duration": 29,
    "start_time": "2023-04-03T09:04:45.776Z"
   },
   {
    "duration": 7,
    "start_time": "2023-04-03T09:04:45.808Z"
   },
   {
    "duration": 9,
    "start_time": "2023-04-03T09:04:45.816Z"
   },
   {
    "duration": 8,
    "start_time": "2023-04-03T09:04:45.827Z"
   },
   {
    "duration": 6,
    "start_time": "2023-04-03T09:04:45.837Z"
   },
   {
    "duration": 31,
    "start_time": "2023-04-03T09:04:45.844Z"
   },
   {
    "duration": 906,
    "start_time": "2023-04-03T09:04:45.877Z"
   },
   {
    "duration": 791,
    "start_time": "2023-04-03T09:04:46.784Z"
   },
   {
    "duration": 4,
    "start_time": "2023-04-03T09:04:47.576Z"
   },
   {
    "duration": 9,
    "start_time": "2023-04-03T09:04:47.581Z"
   },
   {
    "duration": 7,
    "start_time": "2023-04-03T09:04:47.591Z"
   },
   {
    "duration": 5,
    "start_time": "2023-04-03T09:04:47.600Z"
   },
   {
    "duration": 7,
    "start_time": "2023-04-03T09:04:47.607Z"
   },
   {
    "duration": 7,
    "start_time": "2023-04-03T09:04:47.615Z"
   },
   {
    "duration": 8,
    "start_time": "2023-04-03T09:04:47.623Z"
   },
   {
    "duration": 41,
    "start_time": "2023-04-03T09:04:47.632Z"
   },
   {
    "duration": 9,
    "start_time": "2023-04-03T09:04:47.674Z"
   },
   {
    "duration": 11,
    "start_time": "2023-04-03T09:04:47.684Z"
   },
   {
    "duration": 9,
    "start_time": "2023-04-03T09:04:47.696Z"
   },
   {
    "duration": 6,
    "start_time": "2023-04-03T09:04:47.708Z"
   },
   {
    "duration": 9,
    "start_time": "2023-04-03T09:04:47.715Z"
   },
   {
    "duration": 6,
    "start_time": "2023-04-03T09:04:47.726Z"
   },
   {
    "duration": 8,
    "start_time": "2023-04-03T09:04:47.734Z"
   },
   {
    "duration": 28,
    "start_time": "2023-04-03T09:04:47.744Z"
   },
   {
    "duration": 3,
    "start_time": "2023-04-03T09:04:47.773Z"
   },
   {
    "duration": 10,
    "start_time": "2023-04-03T09:04:47.778Z"
   },
   {
    "duration": 16,
    "start_time": "2023-04-03T09:04:47.790Z"
   },
   {
    "duration": 6,
    "start_time": "2023-04-03T09:04:47.807Z"
   },
   {
    "duration": 4,
    "start_time": "2023-04-03T09:04:47.815Z"
   },
   {
    "duration": 36,
    "start_time": "2023-04-03T09:04:47.820Z"
   },
   {
    "duration": 33,
    "start_time": "2023-04-03T09:04:47.858Z"
   },
   {
    "duration": 8,
    "start_time": "2023-04-03T09:04:47.893Z"
   },
   {
    "duration": 6,
    "start_time": "2023-04-03T09:04:47.902Z"
   },
   {
    "duration": 10,
    "start_time": "2023-04-03T09:04:47.910Z"
   },
   {
    "duration": 8,
    "start_time": "2023-04-03T09:04:47.922Z"
   },
   {
    "duration": 9,
    "start_time": "2023-04-03T09:04:47.931Z"
   },
   {
    "duration": 31,
    "start_time": "2023-04-03T09:04:47.941Z"
   },
   {
    "duration": 31,
    "start_time": "2023-04-03T09:04:47.974Z"
   },
   {
    "duration": 11,
    "start_time": "2023-04-03T09:04:48.007Z"
   },
   {
    "duration": 18,
    "start_time": "2023-04-03T09:04:48.020Z"
   },
   {
    "duration": 7,
    "start_time": "2023-04-03T09:04:48.039Z"
   },
   {
    "duration": 5,
    "start_time": "2023-04-03T09:04:48.048Z"
   },
   {
    "duration": 26,
    "start_time": "2023-04-03T09:04:48.055Z"
   },
   {
    "duration": 10,
    "start_time": "2023-04-03T09:04:56.912Z"
   },
   {
    "duration": 3,
    "start_time": "2023-04-03T09:04:57.175Z"
   },
   {
    "duration": 15484,
    "start_time": "2023-04-03T09:05:14.899Z"
   },
   {
    "duration": 348,
    "start_time": "2023-04-03T09:05:55.003Z"
   },
   {
    "duration": 11,
    "start_time": "2023-04-03T09:05:58.488Z"
   },
   {
    "duration": 141,
    "start_time": "2023-04-03T09:06:00.551Z"
   },
   {
    "duration": 4,
    "start_time": "2023-04-03T09:06:08.439Z"
   },
   {
    "duration": 89,
    "start_time": "2023-04-03T09:06:44.065Z"
   },
   {
    "duration": 51,
    "start_time": "2023-04-03T09:07:20.290Z"
   },
   {
    "duration": 239,
    "start_time": "2023-04-03T09:07:24.715Z"
   },
   {
    "duration": 9,
    "start_time": "2023-04-03T09:07:41.166Z"
   },
   {
    "duration": 10,
    "start_time": "2023-04-03T09:07:41.365Z"
   },
   {
    "duration": 3,
    "start_time": "2023-04-03T09:07:46.333Z"
   },
   {
    "duration": 6,
    "start_time": "2023-04-03T09:07:49.440Z"
   },
   {
    "duration": 5,
    "start_time": "2023-04-03T09:08:22.437Z"
   },
   {
    "duration": 123,
    "start_time": "2023-04-03T09:08:22.753Z"
   },
   {
    "duration": 4,
    "start_time": "2023-04-03T09:08:23.179Z"
   },
   {
    "duration": 6,
    "start_time": "2023-04-03T09:08:26.217Z"
   },
   {
    "duration": 131,
    "start_time": "2023-04-03T09:08:28.929Z"
   },
   {
    "duration": 3,
    "start_time": "2023-04-03T09:08:51.017Z"
   },
   {
    "duration": 6,
    "start_time": "2023-04-03T09:08:56.256Z"
   },
   {
    "duration": 2,
    "start_time": "2023-04-03T09:09:00.642Z"
   },
   {
    "duration": 3,
    "start_time": "2023-04-03T09:09:00.929Z"
   },
   {
    "duration": 3,
    "start_time": "2023-04-03T09:09:03.817Z"
   },
   {
    "duration": 5,
    "start_time": "2023-04-03T09:09:18.579Z"
   },
   {
    "duration": 38,
    "start_time": "2023-04-03T09:09:18.755Z"
   },
   {
    "duration": 3,
    "start_time": "2023-04-03T09:09:19.080Z"
   },
   {
    "duration": 3,
    "start_time": "2023-04-03T09:09:19.479Z"
   },
   {
    "duration": 130,
    "start_time": "2023-04-03T09:09:20.242Z"
   },
   {
    "duration": 201,
    "start_time": "2023-04-03T09:10:26.646Z"
   },
   {
    "duration": 1862,
    "start_time": "2023-04-03T09:10:57.624Z"
   },
   {
    "duration": 4,
    "start_time": "2023-04-03T09:10:59.488Z"
   },
   {
    "duration": 51,
    "start_time": "2023-04-03T09:10:59.493Z"
   },
   {
    "duration": 12,
    "start_time": "2023-04-03T09:10:59.545Z"
   },
   {
    "duration": 6,
    "start_time": "2023-04-03T09:10:59.560Z"
   },
   {
    "duration": 6,
    "start_time": "2023-04-03T09:10:59.568Z"
   },
   {
    "duration": 23,
    "start_time": "2023-04-03T09:10:59.575Z"
   },
   {
    "duration": 6,
    "start_time": "2023-04-03T09:10:59.600Z"
   },
   {
    "duration": 20,
    "start_time": "2023-04-03T09:10:59.607Z"
   },
   {
    "duration": 4,
    "start_time": "2023-04-03T09:10:59.629Z"
   },
   {
    "duration": 16,
    "start_time": "2023-04-03T09:10:59.634Z"
   },
   {
    "duration": 20,
    "start_time": "2023-04-03T09:10:59.652Z"
   },
   {
    "duration": 7,
    "start_time": "2023-04-03T09:10:59.674Z"
   },
   {
    "duration": 5,
    "start_time": "2023-04-03T09:10:59.684Z"
   },
   {
    "duration": 773,
    "start_time": "2023-04-03T09:10:59.691Z"
   },
   {
    "duration": 825,
    "start_time": "2023-04-03T09:11:00.466Z"
   },
   {
    "duration": 3,
    "start_time": "2023-04-03T09:11:01.293Z"
   },
   {
    "duration": 33,
    "start_time": "2023-04-03T09:11:01.298Z"
   },
   {
    "duration": 34,
    "start_time": "2023-04-03T09:11:01.333Z"
   },
   {
    "duration": 36,
    "start_time": "2023-04-03T09:11:01.368Z"
   },
   {
    "duration": 36,
    "start_time": "2023-04-03T09:11:01.406Z"
   },
   {
    "duration": 40,
    "start_time": "2023-04-03T09:11:01.444Z"
   },
   {
    "duration": 59,
    "start_time": "2023-04-03T09:11:01.486Z"
   },
   {
    "duration": 75,
    "start_time": "2023-04-03T09:11:01.546Z"
   },
   {
    "duration": 80,
    "start_time": "2023-04-03T09:11:01.623Z"
   },
   {
    "duration": 79,
    "start_time": "2023-04-03T09:11:01.704Z"
   },
   {
    "duration": 82,
    "start_time": "2023-04-03T09:11:01.784Z"
   },
   {
    "duration": 37,
    "start_time": "2023-04-03T09:11:01.867Z"
   },
   {
    "duration": 119,
    "start_time": "2023-04-03T09:11:01.906Z"
   },
   {
    "duration": 54,
    "start_time": "2023-04-03T09:11:02.027Z"
   },
   {
    "duration": 103,
    "start_time": "2023-04-03T09:11:02.083Z"
   },
   {
    "duration": 22,
    "start_time": "2023-04-03T09:11:02.187Z"
   },
   {
    "duration": 49,
    "start_time": "2023-04-03T09:11:02.211Z"
   },
   {
    "duration": 57,
    "start_time": "2023-04-03T09:11:02.262Z"
   },
   {
    "duration": 41,
    "start_time": "2023-04-03T09:11:02.320Z"
   },
   {
    "duration": 35,
    "start_time": "2023-04-03T09:11:02.363Z"
   },
   {
    "duration": 14,
    "start_time": "2023-04-03T09:11:02.400Z"
   },
   {
    "duration": 43,
    "start_time": "2023-04-03T09:11:02.416Z"
   },
   {
    "duration": 41,
    "start_time": "2023-04-03T09:11:02.461Z"
   },
   {
    "duration": 28,
    "start_time": "2023-04-03T09:11:02.503Z"
   },
   {
    "duration": 19,
    "start_time": "2023-04-03T09:11:02.536Z"
   },
   {
    "duration": 22,
    "start_time": "2023-04-03T09:11:02.557Z"
   },
   {
    "duration": 45,
    "start_time": "2023-04-03T09:11:02.581Z"
   },
   {
    "duration": 23,
    "start_time": "2023-04-03T09:11:02.628Z"
   },
   {
    "duration": 33,
    "start_time": "2023-04-03T09:11:02.653Z"
   },
   {
    "duration": 18,
    "start_time": "2023-04-03T09:11:02.688Z"
   },
   {
    "duration": 20,
    "start_time": "2023-04-03T09:11:02.708Z"
   },
   {
    "duration": 13,
    "start_time": "2023-04-03T09:11:02.730Z"
   },
   {
    "duration": 15,
    "start_time": "2023-04-03T09:11:02.744Z"
   },
   {
    "duration": 8,
    "start_time": "2023-04-03T09:11:02.760Z"
   },
   {
    "duration": 9,
    "start_time": "2023-04-03T09:11:02.770Z"
   },
   {
    "duration": 50,
    "start_time": "2023-04-03T09:11:02.781Z"
   },
   {
    "duration": 3,
    "start_time": "2023-04-03T09:11:02.832Z"
   },
   {
    "duration": 10,
    "start_time": "2023-04-03T09:11:02.837Z"
   },
   {
    "duration": 5,
    "start_time": "2023-04-03T09:11:02.848Z"
   },
   {
    "duration": 10,
    "start_time": "2023-04-03T09:11:02.854Z"
   },
   {
    "duration": 5,
    "start_time": "2023-04-03T09:11:02.866Z"
   },
   {
    "duration": 17,
    "start_time": "2023-04-03T09:11:02.872Z"
   },
   {
    "duration": 90,
    "start_time": "2023-04-03T09:11:02.891Z"
   },
   {
    "duration": 14,
    "start_time": "2023-04-03T09:11:02.983Z"
   },
   {
    "duration": 702,
    "start_time": "2023-04-03T09:11:02.999Z"
   },
   {
    "duration": 6,
    "start_time": "2023-04-03T09:11:03.703Z"
   },
   {
    "duration": 185,
    "start_time": "2023-04-03T09:11:07.206Z"
   },
   {
    "duration": 7,
    "start_time": "2023-04-03T09:11:42.769Z"
   },
   {
    "duration": 41,
    "start_time": "2023-04-03T09:11:43.426Z"
   },
   {
    "duration": 7,
    "start_time": "2023-04-03T09:11:55.809Z"
   },
   {
    "duration": 47,
    "start_time": "2023-04-03T09:11:56.100Z"
   },
   {
    "duration": 5,
    "start_time": "2023-04-03T09:12:50.907Z"
   },
   {
    "duration": 7,
    "start_time": "2023-04-03T09:13:04.798Z"
   },
   {
    "duration": 8,
    "start_time": "2023-04-03T09:13:04.976Z"
   },
   {
    "duration": 3,
    "start_time": "2023-04-03T09:13:05.201Z"
   },
   {
    "duration": 3,
    "start_time": "2023-04-03T09:13:05.414Z"
   },
   {
    "duration": 10,
    "start_time": "2023-04-03T09:13:08.229Z"
   },
   {
    "duration": 45,
    "start_time": "2023-04-03T09:13:08.940Z"
   },
   {
    "duration": 5,
    "start_time": "2023-04-03T09:13:38.417Z"
   },
   {
    "duration": 10,
    "start_time": "2023-04-03T09:13:41.198Z"
   },
   {
    "duration": 55,
    "start_time": "2023-04-03T09:13:41.730Z"
   },
   {
    "duration": 9,
    "start_time": "2023-04-03T09:14:09.207Z"
   },
   {
    "duration": 9,
    "start_time": "2023-04-03T09:14:12.144Z"
   },
   {
    "duration": 55,
    "start_time": "2023-04-03T09:14:12.555Z"
   },
   {
    "duration": 4,
    "start_time": "2023-04-03T09:14:53.533Z"
   },
   {
    "duration": 6,
    "start_time": "2023-04-03T09:14:56.446Z"
   },
   {
    "duration": 346,
    "start_time": "2023-04-03T09:14:56.959Z"
   },
   {
    "duration": 9,
    "start_time": "2023-04-03T09:16:21.891Z"
   },
   {
    "duration": 129,
    "start_time": "2023-04-03T09:16:22.161Z"
   },
   {
    "duration": 3,
    "start_time": "2023-04-03T09:16:22.402Z"
   },
   {
    "duration": 4,
    "start_time": "2023-04-03T09:16:22.547Z"
   },
   {
    "duration": 3,
    "start_time": "2023-04-03T09:16:22.714Z"
   },
   {
    "duration": 7,
    "start_time": "2023-04-03T09:16:24.837Z"
   },
   {
    "duration": 378,
    "start_time": "2023-04-03T09:16:25.519Z"
   },
   {
    "duration": 91,
    "start_time": "2023-04-03T09:16:44.579Z"
   },
   {
    "duration": 6,
    "start_time": "2023-04-03T09:17:44.199Z"
   },
   {
    "duration": 6,
    "start_time": "2023-04-03T09:17:46.639Z"
   },
   {
    "duration": 3,
    "start_time": "2023-04-03T09:17:46.999Z"
   },
   {
    "duration": 4,
    "start_time": "2023-04-03T09:17:47.439Z"
   },
   {
    "duration": 4,
    "start_time": "2023-04-03T09:17:48.527Z"
   },
   {
    "duration": 7,
    "start_time": "2023-04-03T09:17:50.714Z"
   },
   {
    "duration": 413,
    "start_time": "2023-04-03T09:17:51.510Z"
   },
   {
    "duration": 3,
    "start_time": "2023-04-03T09:21:24.142Z"
   },
   {
    "duration": 4,
    "start_time": "2023-04-03T09:21:29.815Z"
   },
   {
    "duration": 10,
    "start_time": "2023-04-03T09:22:15.714Z"
   },
   {
    "duration": 5,
    "start_time": "2023-04-03T09:22:19.966Z"
   },
   {
    "duration": 13,
    "start_time": "2023-04-03T09:22:51.019Z"
   },
   {
    "duration": 7,
    "start_time": "2023-04-03T09:22:53.511Z"
   },
   {
    "duration": 5,
    "start_time": "2023-04-03T09:23:55.403Z"
   },
   {
    "duration": 86,
    "start_time": "2023-04-03T09:23:58.143Z"
   },
   {
    "duration": 214,
    "start_time": "2023-04-03T09:24:11.316Z"
   },
   {
    "duration": 148,
    "start_time": "2023-04-03T09:24:11.607Z"
   },
   {
    "duration": 4,
    "start_time": "2023-04-03T09:24:22.344Z"
   },
   {
    "duration": 77,
    "start_time": "2023-04-03T09:24:22.845Z"
   },
   {
    "duration": 4,
    "start_time": "2023-04-03T09:24:43.601Z"
   },
   {
    "duration": 6,
    "start_time": "2023-04-03T09:25:28.635Z"
   },
   {
    "duration": 3,
    "start_time": "2023-04-03T09:25:28.923Z"
   },
   {
    "duration": 3,
    "start_time": "2023-04-03T09:25:29.115Z"
   },
   {
    "duration": 2,
    "start_time": "2023-04-03T09:25:29.322Z"
   },
   {
    "duration": 3,
    "start_time": "2023-04-03T09:25:29.922Z"
   },
   {
    "duration": 9,
    "start_time": "2023-04-03T09:25:33.178Z"
   },
   {
    "duration": 258,
    "start_time": "2023-04-03T09:25:33.835Z"
   },
   {
    "duration": 6,
    "start_time": "2023-04-03T09:26:40.636Z"
   },
   {
    "duration": 5,
    "start_time": "2023-04-03T09:26:49.825Z"
   },
   {
    "duration": 8,
    "start_time": "2023-04-03T09:26:55.837Z"
   },
   {
    "duration": 3,
    "start_time": "2023-04-03T09:26:56.007Z"
   },
   {
    "duration": 78,
    "start_time": "2023-04-03T09:26:56.150Z"
   },
   {
    "duration": 3,
    "start_time": "2023-04-03T09:26:56.325Z"
   },
   {
    "duration": 3,
    "start_time": "2023-04-03T09:26:57.013Z"
   },
   {
    "duration": 6,
    "start_time": "2023-04-03T09:27:00.203Z"
   },
   {
    "duration": 186,
    "start_time": "2023-04-03T09:27:00.517Z"
   },
   {
    "duration": 4,
    "start_time": "2023-04-03T09:27:56.807Z"
   },
   {
    "duration": 4,
    "start_time": "2023-04-03T09:28:58.731Z"
   },
   {
    "duration": 1826,
    "start_time": "2023-04-03T09:29:07.823Z"
   },
   {
    "duration": 4,
    "start_time": "2023-04-03T09:29:09.651Z"
   },
   {
    "duration": 35,
    "start_time": "2023-04-03T09:29:09.656Z"
   },
   {
    "duration": 13,
    "start_time": "2023-04-03T09:29:09.692Z"
   },
   {
    "duration": 3,
    "start_time": "2023-04-03T09:29:09.707Z"
   },
   {
    "duration": 5,
    "start_time": "2023-04-03T09:29:09.712Z"
   },
   {
    "duration": 18,
    "start_time": "2023-04-03T09:29:09.718Z"
   },
   {
    "duration": 4,
    "start_time": "2023-04-03T09:29:09.738Z"
   },
   {
    "duration": 30,
    "start_time": "2023-04-03T09:29:09.743Z"
   },
   {
    "duration": 6,
    "start_time": "2023-04-03T09:29:09.774Z"
   },
   {
    "duration": 10,
    "start_time": "2023-04-03T09:29:09.781Z"
   },
   {
    "duration": 7,
    "start_time": "2023-04-03T09:29:09.792Z"
   },
   {
    "duration": 15,
    "start_time": "2023-04-03T09:29:09.801Z"
   },
   {
    "duration": 4,
    "start_time": "2023-04-03T09:29:09.819Z"
   },
   {
    "duration": 786,
    "start_time": "2023-04-03T09:29:09.825Z"
   },
   {
    "duration": 802,
    "start_time": "2023-04-03T09:29:10.613Z"
   },
   {
    "duration": 3,
    "start_time": "2023-04-03T09:29:11.417Z"
   },
   {
    "duration": 8,
    "start_time": "2023-04-03T09:29:11.422Z"
   },
   {
    "duration": 14,
    "start_time": "2023-04-03T09:29:11.431Z"
   },
   {
    "duration": 20,
    "start_time": "2023-04-03T09:29:11.447Z"
   },
   {
    "duration": 13,
    "start_time": "2023-04-03T09:29:11.468Z"
   },
   {
    "duration": 26,
    "start_time": "2023-04-03T09:29:11.483Z"
   },
   {
    "duration": 19,
    "start_time": "2023-04-03T09:29:11.511Z"
   },
   {
    "duration": 24,
    "start_time": "2023-04-03T09:29:11.532Z"
   },
   {
    "duration": 29,
    "start_time": "2023-04-03T09:29:11.558Z"
   },
   {
    "duration": 26,
    "start_time": "2023-04-03T09:29:11.589Z"
   },
   {
    "duration": 20,
    "start_time": "2023-04-03T09:29:11.617Z"
   },
   {
    "duration": 11,
    "start_time": "2023-04-03T09:29:11.639Z"
   },
   {
    "duration": 7,
    "start_time": "2023-04-03T09:29:11.651Z"
   },
   {
    "duration": 15,
    "start_time": "2023-04-03T09:29:11.660Z"
   },
   {
    "duration": 11,
    "start_time": "2023-04-03T09:29:11.677Z"
   },
   {
    "duration": 6,
    "start_time": "2023-04-03T09:29:11.690Z"
   },
   {
    "duration": 5,
    "start_time": "2023-04-03T09:29:11.698Z"
   },
   {
    "duration": 10,
    "start_time": "2023-04-03T09:29:11.705Z"
   },
   {
    "duration": 13,
    "start_time": "2023-04-03T09:29:11.716Z"
   },
   {
    "duration": 6,
    "start_time": "2023-04-03T09:29:11.731Z"
   },
   {
    "duration": 4,
    "start_time": "2023-04-03T09:29:11.739Z"
   },
   {
    "duration": 30,
    "start_time": "2023-04-03T09:29:11.745Z"
   },
   {
    "duration": 18,
    "start_time": "2023-04-03T09:29:11.777Z"
   },
   {
    "duration": 8,
    "start_time": "2023-04-03T09:29:11.796Z"
   },
   {
    "duration": 3,
    "start_time": "2023-04-03T09:29:11.809Z"
   },
   {
    "duration": 8,
    "start_time": "2023-04-03T09:29:11.813Z"
   },
   {
    "duration": 12,
    "start_time": "2023-04-03T09:29:11.823Z"
   },
   {
    "duration": 15,
    "start_time": "2023-04-03T09:29:11.837Z"
   },
   {
    "duration": 20,
    "start_time": "2023-04-03T09:29:11.853Z"
   },
   {
    "duration": 31,
    "start_time": "2023-04-03T09:29:11.875Z"
   },
   {
    "duration": 11,
    "start_time": "2023-04-03T09:29:11.908Z"
   },
   {
    "duration": 13,
    "start_time": "2023-04-03T09:29:11.920Z"
   },
   {
    "duration": 21,
    "start_time": "2023-04-03T09:29:11.934Z"
   },
   {
    "duration": 31,
    "start_time": "2023-04-03T09:29:11.957Z"
   },
   {
    "duration": 40,
    "start_time": "2023-04-03T09:29:11.991Z"
   },
   {
    "duration": 13,
    "start_time": "2023-04-03T09:29:12.033Z"
   },
   {
    "duration": 19,
    "start_time": "2023-04-03T09:29:12.047Z"
   },
   {
    "duration": 7,
    "start_time": "2023-04-03T09:29:12.068Z"
   },
   {
    "duration": 167,
    "start_time": "2023-04-03T09:29:12.077Z"
   },
   {
    "duration": 0,
    "start_time": "2023-04-03T09:29:12.245Z"
   },
   {
    "duration": 0,
    "start_time": "2023-04-03T09:29:12.247Z"
   },
   {
    "duration": 0,
    "start_time": "2023-04-03T09:29:12.248Z"
   },
   {
    "duration": 0,
    "start_time": "2023-04-03T09:29:12.249Z"
   },
   {
    "duration": 0,
    "start_time": "2023-04-03T09:29:12.251Z"
   },
   {
    "duration": 0,
    "start_time": "2023-04-03T09:29:12.252Z"
   },
   {
    "duration": 0,
    "start_time": "2023-04-03T09:29:12.253Z"
   },
   {
    "duration": 0,
    "start_time": "2023-04-03T09:29:12.254Z"
   },
   {
    "duration": 3,
    "start_time": "2023-04-03T09:29:37.783Z"
   },
   {
    "duration": 2,
    "start_time": "2023-04-03T09:29:43.133Z"
   },
   {
    "duration": 2,
    "start_time": "2023-04-03T09:29:43.384Z"
   },
   {
    "duration": 3,
    "start_time": "2023-04-03T09:29:43.894Z"
   },
   {
    "duration": 3,
    "start_time": "2023-04-03T09:29:44.158Z"
   },
   {
    "duration": 47,
    "start_time": "2023-04-03T09:29:44.433Z"
   },
   {
    "duration": 4,
    "start_time": "2023-04-03T09:29:44.696Z"
   },
   {
    "duration": 639,
    "start_time": "2023-04-03T09:29:45.584Z"
   },
   {
    "duration": 7,
    "start_time": "2023-04-03T09:29:46.934Z"
   },
   {
    "duration": 2292,
    "start_time": "2023-04-03T09:29:47.682Z"
   },
   {
    "duration": 5,
    "start_time": "2023-04-03T09:34:03.424Z"
   },
   {
    "duration": 4,
    "start_time": "2023-04-03T09:35:21.215Z"
   },
   {
    "duration": 3,
    "start_time": "2023-04-03T09:35:28.065Z"
   },
   {
    "duration": 6,
    "start_time": "2023-04-03T09:35:30.481Z"
   },
   {
    "duration": 15,
    "start_time": "2023-04-03T09:36:10.304Z"
   },
   {
    "duration": 10,
    "start_time": "2023-04-03T09:36:30.481Z"
   },
   {
    "duration": 3,
    "start_time": "2023-04-03T09:37:23.281Z"
   },
   {
    "duration": 5,
    "start_time": "2023-04-03T09:37:29.605Z"
   },
   {
    "duration": 5,
    "start_time": "2023-04-03T09:37:37.043Z"
   },
   {
    "duration": 3,
    "start_time": "2023-04-03T09:37:39.530Z"
   },
   {
    "duration": 3,
    "start_time": "2023-04-03T09:37:39.828Z"
   },
   {
    "duration": 3,
    "start_time": "2023-04-03T09:37:40.092Z"
   },
   {
    "duration": 3,
    "start_time": "2023-04-03T09:37:40.484Z"
   },
   {
    "duration": 7,
    "start_time": "2023-04-03T09:37:42.546Z"
   },
   {
    "duration": 9592,
    "start_time": "2023-04-03T09:37:43.219Z"
   },
   {
    "duration": 8,
    "start_time": "2023-04-03T09:38:09.183Z"
   },
   {
    "duration": 1809,
    "start_time": "2023-04-03T09:38:17.121Z"
   },
   {
    "duration": 4,
    "start_time": "2023-04-03T09:38:18.932Z"
   },
   {
    "duration": 31,
    "start_time": "2023-04-03T09:38:18.938Z"
   },
   {
    "duration": 15,
    "start_time": "2023-04-03T09:38:18.970Z"
   },
   {
    "duration": 4,
    "start_time": "2023-04-03T09:38:18.986Z"
   },
   {
    "duration": 6,
    "start_time": "2023-04-03T09:38:18.991Z"
   },
   {
    "duration": 16,
    "start_time": "2023-04-03T09:38:18.998Z"
   },
   {
    "duration": 6,
    "start_time": "2023-04-03T09:38:19.015Z"
   },
   {
    "duration": 26,
    "start_time": "2023-04-03T09:38:19.022Z"
   },
   {
    "duration": 7,
    "start_time": "2023-04-03T09:38:19.073Z"
   },
   {
    "duration": 9,
    "start_time": "2023-04-03T09:38:19.081Z"
   },
   {
    "duration": 9,
    "start_time": "2023-04-03T09:38:19.092Z"
   },
   {
    "duration": 7,
    "start_time": "2023-04-03T09:38:19.102Z"
   },
   {
    "duration": 11,
    "start_time": "2023-04-03T09:38:19.112Z"
   },
   {
    "duration": 778,
    "start_time": "2023-04-03T09:38:19.124Z"
   },
   {
    "duration": 808,
    "start_time": "2023-04-03T09:38:19.903Z"
   },
   {
    "duration": 4,
    "start_time": "2023-04-03T09:38:20.713Z"
   },
   {
    "duration": 18,
    "start_time": "2023-04-03T09:38:20.719Z"
   },
   {
    "duration": 23,
    "start_time": "2023-04-03T09:38:20.739Z"
   },
   {
    "duration": 12,
    "start_time": "2023-04-03T09:38:20.764Z"
   },
   {
    "duration": 30,
    "start_time": "2023-04-03T09:38:20.778Z"
   },
   {
    "duration": 27,
    "start_time": "2023-04-03T09:38:20.810Z"
   },
   {
    "duration": 38,
    "start_time": "2023-04-03T09:38:20.839Z"
   },
   {
    "duration": 60,
    "start_time": "2023-04-03T09:38:20.879Z"
   },
   {
    "duration": 39,
    "start_time": "2023-04-03T09:38:20.941Z"
   },
   {
    "duration": 65,
    "start_time": "2023-04-03T09:38:20.982Z"
   },
   {
    "duration": 17,
    "start_time": "2023-04-03T09:38:21.049Z"
   },
   {
    "duration": 33,
    "start_time": "2023-04-03T09:38:21.068Z"
   },
   {
    "duration": 34,
    "start_time": "2023-04-03T09:38:21.103Z"
   },
   {
    "duration": 30,
    "start_time": "2023-04-03T09:38:21.138Z"
   },
   {
    "duration": 26,
    "start_time": "2023-04-03T09:38:21.169Z"
   },
   {
    "duration": 17,
    "start_time": "2023-04-03T09:38:21.196Z"
   },
   {
    "duration": 111,
    "start_time": "2023-04-03T09:38:21.215Z"
   },
   {
    "duration": 8,
    "start_time": "2023-04-03T09:38:21.328Z"
   },
   {
    "duration": 13,
    "start_time": "2023-04-03T09:38:21.338Z"
   },
   {
    "duration": 5,
    "start_time": "2023-04-03T09:38:21.352Z"
   },
   {
    "duration": 6,
    "start_time": "2023-04-03T09:38:21.359Z"
   },
   {
    "duration": 14,
    "start_time": "2023-04-03T09:38:21.367Z"
   },
   {
    "duration": 25,
    "start_time": "2023-04-03T09:38:21.383Z"
   },
   {
    "duration": 6,
    "start_time": "2023-04-03T09:38:21.409Z"
   },
   {
    "duration": 2,
    "start_time": "2023-04-03T09:38:21.419Z"
   },
   {
    "duration": 7,
    "start_time": "2023-04-03T09:38:21.423Z"
   },
   {
    "duration": 5,
    "start_time": "2023-04-03T09:38:21.433Z"
   },
   {
    "duration": 31,
    "start_time": "2023-04-03T09:38:21.440Z"
   },
   {
    "duration": 13,
    "start_time": "2023-04-03T09:38:21.473Z"
   },
   {
    "duration": 10,
    "start_time": "2023-04-03T09:38:21.487Z"
   },
   {
    "duration": 7,
    "start_time": "2023-04-03T09:38:21.499Z"
   },
   {
    "duration": 8,
    "start_time": "2023-04-03T09:38:21.507Z"
   },
   {
    "duration": 6,
    "start_time": "2023-04-03T09:38:21.516Z"
   },
   {
    "duration": 6,
    "start_time": "2023-04-03T09:38:21.523Z"
   },
   {
    "duration": 10,
    "start_time": "2023-04-03T09:38:21.531Z"
   },
   {
    "duration": 4,
    "start_time": "2023-04-03T09:38:21.543Z"
   },
   {
    "duration": 7,
    "start_time": "2023-04-03T09:38:21.548Z"
   },
   {
    "duration": 16,
    "start_time": "2023-04-03T09:38:21.556Z"
   },
   {
    "duration": 2,
    "start_time": "2023-04-03T09:38:21.574Z"
   },
   {
    "duration": 4,
    "start_time": "2023-04-03T09:38:21.578Z"
   },
   {
    "duration": 14,
    "start_time": "2023-04-03T09:38:21.583Z"
   },
   {
    "duration": 4,
    "start_time": "2023-04-03T09:38:21.599Z"
   },
   {
    "duration": 9,
    "start_time": "2023-04-03T09:38:21.604Z"
   },
   {
    "duration": 78,
    "start_time": "2023-04-03T09:38:21.615Z"
   },
   {
    "duration": 5,
    "start_time": "2023-04-03T09:38:21.772Z"
   },
   {
    "duration": 565,
    "start_time": "2023-04-03T09:38:21.779Z"
   },
   {
    "duration": 9,
    "start_time": "2023-04-03T09:38:22.346Z"
   },
   {
    "duration": 8468,
    "start_time": "2023-04-03T09:38:22.357Z"
   },
   {
    "duration": 62,
    "start_time": "2023-04-03T09:39:07.924Z"
   },
   {
    "duration": 70,
    "start_time": "2023-04-03T09:39:20.079Z"
   },
   {
    "duration": 64,
    "start_time": "2023-04-03T09:39:26.862Z"
   },
   {
    "duration": 12,
    "start_time": "2023-04-03T09:39:32.911Z"
   },
   {
    "duration": 10,
    "start_time": "2023-04-03T09:39:35.223Z"
   },
   {
    "duration": 94,
    "start_time": "2023-04-03T09:40:24.337Z"
   },
   {
    "duration": 11,
    "start_time": "2023-04-03T09:40:27.799Z"
   },
   {
    "duration": 11,
    "start_time": "2023-04-03T09:40:33.788Z"
   },
   {
    "duration": 10,
    "start_time": "2023-04-03T09:40:51.411Z"
   },
   {
    "duration": 1770,
    "start_time": "2023-04-03T09:45:52.488Z"
   },
   {
    "duration": 5,
    "start_time": "2023-04-03T09:45:54.260Z"
   },
   {
    "duration": 29,
    "start_time": "2023-04-03T09:45:54.271Z"
   },
   {
    "duration": 13,
    "start_time": "2023-04-03T09:45:54.301Z"
   },
   {
    "duration": 7,
    "start_time": "2023-04-03T09:45:54.316Z"
   },
   {
    "duration": 9,
    "start_time": "2023-04-03T09:45:54.324Z"
   },
   {
    "duration": 19,
    "start_time": "2023-04-03T09:45:54.335Z"
   },
   {
    "duration": 12,
    "start_time": "2023-04-03T09:45:54.355Z"
   },
   {
    "duration": 26,
    "start_time": "2023-04-03T09:45:54.368Z"
   },
   {
    "duration": 5,
    "start_time": "2023-04-03T09:45:54.396Z"
   },
   {
    "duration": 6,
    "start_time": "2023-04-03T09:45:54.403Z"
   },
   {
    "duration": 12,
    "start_time": "2023-04-03T09:45:54.411Z"
   },
   {
    "duration": 8,
    "start_time": "2023-04-03T09:45:54.425Z"
   },
   {
    "duration": 4,
    "start_time": "2023-04-03T09:45:54.436Z"
   },
   {
    "duration": 753,
    "start_time": "2023-04-03T09:45:54.441Z"
   },
   {
    "duration": 835,
    "start_time": "2023-04-03T09:45:55.196Z"
   },
   {
    "duration": 3,
    "start_time": "2023-04-03T09:45:56.033Z"
   },
   {
    "duration": 17,
    "start_time": "2023-04-03T09:45:56.038Z"
   },
   {
    "duration": 19,
    "start_time": "2023-04-03T09:45:56.057Z"
   },
   {
    "duration": 6,
    "start_time": "2023-04-03T09:45:56.077Z"
   },
   {
    "duration": 13,
    "start_time": "2023-04-03T09:45:56.085Z"
   },
   {
    "duration": 22,
    "start_time": "2023-04-03T09:45:56.100Z"
   },
   {
    "duration": 21,
    "start_time": "2023-04-03T09:45:56.124Z"
   },
   {
    "duration": 20,
    "start_time": "2023-04-03T09:45:56.147Z"
   },
   {
    "duration": 14,
    "start_time": "2023-04-03T09:45:56.169Z"
   },
   {
    "duration": 23,
    "start_time": "2023-04-03T09:45:56.185Z"
   },
   {
    "duration": 10,
    "start_time": "2023-04-03T09:45:56.210Z"
   },
   {
    "duration": 15,
    "start_time": "2023-04-03T09:45:56.222Z"
   },
   {
    "duration": 21,
    "start_time": "2023-04-03T09:45:56.239Z"
   },
   {
    "duration": 11,
    "start_time": "2023-04-03T09:45:56.261Z"
   },
   {
    "duration": 15,
    "start_time": "2023-04-03T09:45:56.274Z"
   },
   {
    "duration": 6,
    "start_time": "2023-04-03T09:45:56.291Z"
   },
   {
    "duration": 14,
    "start_time": "2023-04-03T09:45:56.299Z"
   },
   {
    "duration": 8,
    "start_time": "2023-04-03T09:45:56.314Z"
   },
   {
    "duration": 13,
    "start_time": "2023-04-03T09:45:56.324Z"
   },
   {
    "duration": 12,
    "start_time": "2023-04-03T09:45:56.339Z"
   },
   {
    "duration": 37,
    "start_time": "2023-04-03T09:45:56.352Z"
   },
   {
    "duration": 29,
    "start_time": "2023-04-03T09:45:56.390Z"
   },
   {
    "duration": 43,
    "start_time": "2023-04-03T09:45:56.421Z"
   },
   {
    "duration": 7,
    "start_time": "2023-04-03T09:45:56.466Z"
   },
   {
    "duration": 6,
    "start_time": "2023-04-03T09:45:56.476Z"
   },
   {
    "duration": 10,
    "start_time": "2023-04-03T09:45:56.484Z"
   },
   {
    "duration": 6,
    "start_time": "2023-04-03T09:45:56.495Z"
   },
   {
    "duration": 6,
    "start_time": "2023-04-03T09:45:56.503Z"
   },
   {
    "duration": 8,
    "start_time": "2023-04-03T09:45:56.511Z"
   },
   {
    "duration": 9,
    "start_time": "2023-04-03T09:45:56.520Z"
   },
   {
    "duration": 11,
    "start_time": "2023-04-03T09:45:56.530Z"
   },
   {
    "duration": 6,
    "start_time": "2023-04-03T09:45:56.543Z"
   },
   {
    "duration": 22,
    "start_time": "2023-04-03T09:45:56.550Z"
   },
   {
    "duration": 3,
    "start_time": "2023-04-03T09:45:56.574Z"
   },
   {
    "duration": 47,
    "start_time": "2023-04-03T09:46:14.109Z"
   },
   {
    "duration": 8,
    "start_time": "2023-04-03T09:46:17.126Z"
   },
   {
    "duration": 3,
    "start_time": "2023-04-03T09:46:19.850Z"
   },
   {
    "duration": 4,
    "start_time": "2023-04-03T09:46:26.325Z"
   },
   {
    "duration": 8,
    "start_time": "2023-04-03T09:46:35.151Z"
   },
   {
    "duration": 3,
    "start_time": "2023-04-03T09:46:37.051Z"
   },
   {
    "duration": 5,
    "start_time": "2023-04-03T09:46:51.081Z"
   },
   {
    "duration": 3,
    "start_time": "2023-04-03T09:46:51.401Z"
   },
   {
    "duration": 3,
    "start_time": "2023-04-03T09:46:52.089Z"
   },
   {
    "duration": 4,
    "start_time": "2023-04-03T09:46:52.426Z"
   },
   {
    "duration": 115,
    "start_time": "2023-04-03T09:46:52.764Z"
   },
   {
    "duration": 5,
    "start_time": "2023-04-03T09:46:53.126Z"
   },
   {
    "duration": 530,
    "start_time": "2023-04-03T09:46:53.688Z"
   },
   {
    "duration": 6,
    "start_time": "2023-04-03T09:46:54.652Z"
   },
   {
    "duration": 17346,
    "start_time": "2023-04-03T09:46:55.540Z"
   },
   {
    "duration": 18485,
    "start_time": "2023-04-03T09:47:25.106Z"
   },
   {
    "duration": 10,
    "start_time": "2023-04-03T09:47:44.482Z"
   },
   {
    "duration": 100019,
    "start_time": "2023-04-03T09:47:45.054Z"
   },
   {
    "duration": 2156,
    "start_time": "2023-04-03T09:49:32.503Z"
   },
   {
    "duration": 4,
    "start_time": "2023-04-03T09:49:34.661Z"
   },
   {
    "duration": 35,
    "start_time": "2023-04-03T09:49:34.671Z"
   },
   {
    "duration": 13,
    "start_time": "2023-04-03T09:49:34.708Z"
   },
   {
    "duration": 4,
    "start_time": "2023-04-03T09:49:34.723Z"
   },
   {
    "duration": 12,
    "start_time": "2023-04-03T09:49:34.728Z"
   },
   {
    "duration": 21,
    "start_time": "2023-04-03T09:49:34.741Z"
   },
   {
    "duration": 16,
    "start_time": "2023-04-03T09:49:34.764Z"
   },
   {
    "duration": 28,
    "start_time": "2023-04-03T09:49:34.782Z"
   },
   {
    "duration": 7,
    "start_time": "2023-04-03T09:49:34.811Z"
   },
   {
    "duration": 12,
    "start_time": "2023-04-03T09:49:34.819Z"
   },
   {
    "duration": 16,
    "start_time": "2023-04-03T09:49:34.833Z"
   },
   {
    "duration": 12,
    "start_time": "2023-04-03T09:49:34.851Z"
   },
   {
    "duration": 8,
    "start_time": "2023-04-03T09:49:34.866Z"
   },
   {
    "duration": 760,
    "start_time": "2023-04-03T09:49:34.875Z"
   },
   {
    "duration": 819,
    "start_time": "2023-04-03T09:49:35.636Z"
   },
   {
    "duration": 3,
    "start_time": "2023-04-03T09:49:36.456Z"
   },
   {
    "duration": 29,
    "start_time": "2023-04-03T09:49:36.460Z"
   },
   {
    "duration": 20,
    "start_time": "2023-04-03T09:49:36.490Z"
   },
   {
    "duration": 16,
    "start_time": "2023-04-03T09:49:36.512Z"
   },
   {
    "duration": 10,
    "start_time": "2023-04-03T09:49:36.529Z"
   },
   {
    "duration": 14,
    "start_time": "2023-04-03T09:49:36.541Z"
   },
   {
    "duration": 19,
    "start_time": "2023-04-03T09:49:36.556Z"
   },
   {
    "duration": 62,
    "start_time": "2023-04-03T09:49:36.576Z"
   },
   {
    "duration": 17,
    "start_time": "2023-04-03T09:49:36.639Z"
   },
   {
    "duration": 10,
    "start_time": "2023-04-03T09:49:36.657Z"
   },
   {
    "duration": 46,
    "start_time": "2023-04-03T09:49:36.668Z"
   },
   {
    "duration": 29,
    "start_time": "2023-04-03T09:49:36.716Z"
   },
   {
    "duration": 47,
    "start_time": "2023-04-03T09:49:36.747Z"
   },
   {
    "duration": 21,
    "start_time": "2023-04-03T09:49:36.796Z"
   },
   {
    "duration": 16,
    "start_time": "2023-04-03T09:49:36.818Z"
   },
   {
    "duration": 11,
    "start_time": "2023-04-03T09:49:36.836Z"
   },
   {
    "duration": 7,
    "start_time": "2023-04-03T09:49:36.848Z"
   },
   {
    "duration": 14,
    "start_time": "2023-04-03T09:49:36.856Z"
   },
   {
    "duration": 12,
    "start_time": "2023-04-03T09:49:36.871Z"
   },
   {
    "duration": 4,
    "start_time": "2023-04-03T09:49:36.884Z"
   },
   {
    "duration": 4,
    "start_time": "2023-04-03T09:49:36.890Z"
   },
   {
    "duration": 15,
    "start_time": "2023-04-03T09:49:36.895Z"
   },
   {
    "duration": 20,
    "start_time": "2023-04-03T09:49:36.912Z"
   },
   {
    "duration": 16,
    "start_time": "2023-04-03T09:49:36.933Z"
   },
   {
    "duration": 2,
    "start_time": "2023-04-03T09:49:36.953Z"
   },
   {
    "duration": 15,
    "start_time": "2023-04-03T09:49:36.957Z"
   },
   {
    "duration": 10,
    "start_time": "2023-04-03T09:49:36.973Z"
   },
   {
    "duration": 10,
    "start_time": "2023-04-03T09:49:36.984Z"
   },
   {
    "duration": 18,
    "start_time": "2023-04-03T09:49:36.996Z"
   },
   {
    "duration": 9,
    "start_time": "2023-04-03T09:49:37.016Z"
   },
   {
    "duration": 16,
    "start_time": "2023-04-03T09:49:37.026Z"
   },
   {
    "duration": 7,
    "start_time": "2023-04-03T09:49:37.043Z"
   },
   {
    "duration": 5,
    "start_time": "2023-04-03T09:49:37.052Z"
   },
   {
    "duration": 6,
    "start_time": "2023-04-03T09:49:37.059Z"
   },
   {
    "duration": 6,
    "start_time": "2023-04-03T09:49:37.066Z"
   },
   {
    "duration": 14,
    "start_time": "2023-04-03T09:49:37.074Z"
   },
   {
    "duration": 16,
    "start_time": "2023-04-03T09:49:37.089Z"
   },
   {
    "duration": 5,
    "start_time": "2023-04-03T09:49:37.106Z"
   },
   {
    "duration": 19,
    "start_time": "2023-04-03T09:49:37.112Z"
   },
   {
    "duration": 17,
    "start_time": "2023-04-03T09:49:37.135Z"
   },
   {
    "duration": 6,
    "start_time": "2023-04-03T09:49:37.153Z"
   },
   {
    "duration": 11,
    "start_time": "2023-04-03T09:49:37.160Z"
   },
   {
    "duration": 12,
    "start_time": "2023-04-03T09:49:37.173Z"
   },
   {
    "duration": 86,
    "start_time": "2023-04-03T09:49:37.186Z"
   },
   {
    "duration": 3,
    "start_time": "2023-04-03T09:49:37.274Z"
   },
   {
    "duration": 565,
    "start_time": "2023-04-03T09:49:37.278Z"
   },
   {
    "duration": 8,
    "start_time": "2023-04-03T09:49:37.845Z"
   },
   {
    "duration": 39731,
    "start_time": "2023-04-03T09:49:37.854Z"
   },
   {
    "duration": 10,
    "start_time": "2023-04-03T09:51:01.699Z"
   },
   {
    "duration": 6,
    "start_time": "2023-04-03T09:51:05.428Z"
   },
   {
    "duration": 7,
    "start_time": "2023-04-03T09:51:09.416Z"
   },
   {
    "duration": 40300,
    "start_time": "2023-04-03T09:51:09.798Z"
   },
   {
    "duration": 6,
    "start_time": "2023-04-03T09:52:39.011Z"
   },
   {
    "duration": 6,
    "start_time": "2023-04-03T09:52:42.103Z"
   },
   {
    "duration": 33146,
    "start_time": "2023-04-03T09:52:42.734Z"
   },
   {
    "duration": 3,
    "start_time": "2023-04-03T09:53:25.372Z"
   },
   {
    "duration": 1629,
    "start_time": "2023-04-03T09:53:32.823Z"
   },
   {
    "duration": 3,
    "start_time": "2023-04-03T09:53:34.454Z"
   },
   {
    "duration": 34,
    "start_time": "2023-04-03T09:53:34.459Z"
   },
   {
    "duration": 12,
    "start_time": "2023-04-03T09:53:34.495Z"
   },
   {
    "duration": 3,
    "start_time": "2023-04-03T09:53:34.510Z"
   },
   {
    "duration": 9,
    "start_time": "2023-04-03T09:53:34.514Z"
   },
   {
    "duration": 17,
    "start_time": "2023-04-03T09:53:34.524Z"
   },
   {
    "duration": 6,
    "start_time": "2023-04-03T09:53:34.543Z"
   },
   {
    "duration": 19,
    "start_time": "2023-04-03T09:53:34.550Z"
   },
   {
    "duration": 5,
    "start_time": "2023-04-03T09:53:34.571Z"
   },
   {
    "duration": 5,
    "start_time": "2023-04-03T09:53:34.578Z"
   },
   {
    "duration": 15,
    "start_time": "2023-04-03T09:53:34.584Z"
   },
   {
    "duration": 10,
    "start_time": "2023-04-03T09:53:34.600Z"
   },
   {
    "duration": 3,
    "start_time": "2023-04-03T09:53:34.613Z"
   },
   {
    "duration": 784,
    "start_time": "2023-04-03T09:53:34.618Z"
   },
   {
    "duration": 828,
    "start_time": "2023-04-03T09:53:35.403Z"
   },
   {
    "duration": 4,
    "start_time": "2023-04-03T09:53:36.233Z"
   },
   {
    "duration": 16,
    "start_time": "2023-04-03T09:53:36.239Z"
   },
   {
    "duration": 29,
    "start_time": "2023-04-03T09:53:36.257Z"
   },
   {
    "duration": 6,
    "start_time": "2023-04-03T09:53:36.288Z"
   },
   {
    "duration": 11,
    "start_time": "2023-04-03T09:53:36.296Z"
   },
   {
    "duration": 10,
    "start_time": "2023-04-03T09:53:36.309Z"
   },
   {
    "duration": 16,
    "start_time": "2023-04-03T09:53:36.320Z"
   },
   {
    "duration": 17,
    "start_time": "2023-04-03T09:53:36.337Z"
   },
   {
    "duration": 5,
    "start_time": "2023-04-03T09:53:36.355Z"
   },
   {
    "duration": 9,
    "start_time": "2023-04-03T09:53:36.361Z"
   },
   {
    "duration": 8,
    "start_time": "2023-04-03T09:53:36.371Z"
   },
   {
    "duration": 7,
    "start_time": "2023-04-03T09:53:36.381Z"
   },
   {
    "duration": 5,
    "start_time": "2023-04-03T09:53:36.389Z"
   },
   {
    "duration": 5,
    "start_time": "2023-04-03T09:53:36.395Z"
   },
   {
    "duration": 12,
    "start_time": "2023-04-03T09:53:36.401Z"
   },
   {
    "duration": 6,
    "start_time": "2023-04-03T09:53:36.415Z"
   },
   {
    "duration": 5,
    "start_time": "2023-04-03T09:53:36.422Z"
   },
   {
    "duration": 16,
    "start_time": "2023-04-03T09:53:36.429Z"
   },
   {
    "duration": 25,
    "start_time": "2023-04-03T09:53:36.447Z"
   },
   {
    "duration": 4,
    "start_time": "2023-04-03T09:53:36.474Z"
   },
   {
    "duration": 4,
    "start_time": "2023-04-03T09:53:36.479Z"
   },
   {
    "duration": 15,
    "start_time": "2023-04-03T09:53:36.484Z"
   },
   {
    "duration": 23,
    "start_time": "2023-04-03T09:53:36.500Z"
   },
   {
    "duration": 5,
    "start_time": "2023-04-03T09:53:36.524Z"
   },
   {
    "duration": 3,
    "start_time": "2023-04-03T09:53:36.533Z"
   },
   {
    "duration": 11,
    "start_time": "2023-04-03T09:53:36.537Z"
   },
   {
    "duration": 29,
    "start_time": "2023-04-03T09:53:36.549Z"
   },
   {
    "duration": 9,
    "start_time": "2023-04-03T09:53:36.580Z"
   },
   {
    "duration": 34,
    "start_time": "2023-04-03T09:53:36.591Z"
   },
   {
    "duration": 14,
    "start_time": "2023-04-03T09:53:36.627Z"
   },
   {
    "duration": 14,
    "start_time": "2023-04-03T09:53:36.643Z"
   },
   {
    "duration": 17,
    "start_time": "2023-04-03T09:53:36.659Z"
   },
   {
    "duration": 5,
    "start_time": "2023-04-03T09:53:36.677Z"
   },
   {
    "duration": 9,
    "start_time": "2023-04-03T09:53:36.684Z"
   },
   {
    "duration": 26,
    "start_time": "2023-04-03T09:53:36.694Z"
   },
   {
    "duration": 12,
    "start_time": "2023-04-03T09:53:36.721Z"
   },
   {
    "duration": 9,
    "start_time": "2023-04-03T09:53:36.735Z"
   },
   {
    "duration": 7,
    "start_time": "2023-04-03T09:53:36.746Z"
   },
   {
    "duration": 28,
    "start_time": "2023-04-03T09:53:36.755Z"
   },
   {
    "duration": 5,
    "start_time": "2023-04-03T09:53:36.785Z"
   },
   {
    "duration": 5,
    "start_time": "2023-04-03T09:53:36.791Z"
   },
   {
    "duration": 25,
    "start_time": "2023-04-03T09:53:36.798Z"
   },
   {
    "duration": 15,
    "start_time": "2023-04-03T09:53:36.824Z"
   },
   {
    "duration": 135,
    "start_time": "2023-04-03T09:53:36.841Z"
   },
   {
    "duration": 5,
    "start_time": "2023-04-03T09:53:36.978Z"
   },
   {
    "duration": 642,
    "start_time": "2023-04-03T09:53:36.985Z"
   },
   {
    "duration": 6,
    "start_time": "2023-04-03T09:53:40.024Z"
   },
   {
    "duration": 40919,
    "start_time": "2023-04-03T09:53:40.697Z"
   },
   {
    "duration": 1831,
    "start_time": "2023-04-03T09:56:08.449Z"
   },
   {
    "duration": 3,
    "start_time": "2023-04-03T09:56:10.282Z"
   },
   {
    "duration": 33,
    "start_time": "2023-04-03T09:56:10.286Z"
   },
   {
    "duration": 12,
    "start_time": "2023-04-03T09:56:10.320Z"
   },
   {
    "duration": 4,
    "start_time": "2023-04-03T09:56:10.334Z"
   },
   {
    "duration": 6,
    "start_time": "2023-04-03T09:56:10.340Z"
   },
   {
    "duration": 12,
    "start_time": "2023-04-03T09:56:10.347Z"
   },
   {
    "duration": 9,
    "start_time": "2023-04-03T09:56:10.361Z"
   },
   {
    "duration": 29,
    "start_time": "2023-04-03T09:56:10.371Z"
   },
   {
    "duration": 5,
    "start_time": "2023-04-03T09:56:10.401Z"
   },
   {
    "duration": 8,
    "start_time": "2023-04-03T09:56:10.407Z"
   },
   {
    "duration": 15,
    "start_time": "2023-04-03T09:56:10.416Z"
   },
   {
    "duration": 18,
    "start_time": "2023-04-03T09:56:10.432Z"
   },
   {
    "duration": 4,
    "start_time": "2023-04-03T09:56:10.454Z"
   },
   {
    "duration": 732,
    "start_time": "2023-04-03T09:56:10.460Z"
   },
   {
    "duration": 809,
    "start_time": "2023-04-03T09:56:11.194Z"
   },
   {
    "duration": 3,
    "start_time": "2023-04-03T09:56:12.004Z"
   },
   {
    "duration": 13,
    "start_time": "2023-04-03T09:56:12.009Z"
   },
   {
    "duration": 13,
    "start_time": "2023-04-03T09:56:12.024Z"
   },
   {
    "duration": 12,
    "start_time": "2023-04-03T09:56:12.039Z"
   },
   {
    "duration": 32,
    "start_time": "2023-04-03T09:56:12.053Z"
   },
   {
    "duration": 10,
    "start_time": "2023-04-03T09:56:12.086Z"
   },
   {
    "duration": 29,
    "start_time": "2023-04-03T09:56:12.097Z"
   },
   {
    "duration": 36,
    "start_time": "2023-04-03T09:56:12.127Z"
   },
   {
    "duration": 12,
    "start_time": "2023-04-03T09:56:12.164Z"
   },
   {
    "duration": 13,
    "start_time": "2023-04-03T09:56:12.178Z"
   },
   {
    "duration": 18,
    "start_time": "2023-04-03T09:56:12.192Z"
   },
   {
    "duration": 7,
    "start_time": "2023-04-03T09:56:12.211Z"
   },
   {
    "duration": 15,
    "start_time": "2023-04-03T09:56:12.219Z"
   },
   {
    "duration": 14,
    "start_time": "2023-04-03T09:56:12.236Z"
   },
   {
    "duration": 15,
    "start_time": "2023-04-03T09:56:12.251Z"
   },
   {
    "duration": 10,
    "start_time": "2023-04-03T09:56:12.268Z"
   },
   {
    "duration": 7,
    "start_time": "2023-04-03T09:56:12.279Z"
   },
   {
    "duration": 13,
    "start_time": "2023-04-03T09:56:12.287Z"
   },
   {
    "duration": 12,
    "start_time": "2023-04-03T09:56:12.301Z"
   },
   {
    "duration": 11,
    "start_time": "2023-04-03T09:56:12.314Z"
   },
   {
    "duration": 16,
    "start_time": "2023-04-03T09:56:12.326Z"
   },
   {
    "duration": 20,
    "start_time": "2023-04-03T09:56:12.344Z"
   },
   {
    "duration": 23,
    "start_time": "2023-04-03T09:56:12.365Z"
   },
   {
    "duration": 3,
    "start_time": "2023-04-03T09:56:12.389Z"
   },
   {
    "duration": 18,
    "start_time": "2023-04-03T09:56:12.396Z"
   },
   {
    "duration": 18,
    "start_time": "2023-04-03T09:56:12.415Z"
   },
   {
    "duration": 17,
    "start_time": "2023-04-03T09:56:12.435Z"
   },
   {
    "duration": 13,
    "start_time": "2023-04-03T09:56:12.453Z"
   },
   {
    "duration": 23,
    "start_time": "2023-04-03T09:56:12.467Z"
   },
   {
    "duration": 40,
    "start_time": "2023-04-03T09:56:12.492Z"
   },
   {
    "duration": 16,
    "start_time": "2023-04-03T09:56:12.533Z"
   },
   {
    "duration": 26,
    "start_time": "2023-04-03T09:56:12.551Z"
   },
   {
    "duration": 23,
    "start_time": "2023-04-03T09:56:12.579Z"
   },
   {
    "duration": 8,
    "start_time": "2023-04-03T09:56:12.604Z"
   },
   {
    "duration": 8,
    "start_time": "2023-04-03T09:56:12.613Z"
   },
   {
    "duration": 11,
    "start_time": "2023-04-03T09:56:12.622Z"
   },
   {
    "duration": 14,
    "start_time": "2023-04-03T09:56:12.635Z"
   },
   {
    "duration": 11,
    "start_time": "2023-04-03T09:56:12.650Z"
   },
   {
    "duration": 12,
    "start_time": "2023-04-03T09:56:12.663Z"
   },
   {
    "duration": 8,
    "start_time": "2023-04-03T09:56:12.676Z"
   },
   {
    "duration": 6,
    "start_time": "2023-04-03T09:56:12.685Z"
   },
   {
    "duration": 5,
    "start_time": "2023-04-03T09:56:12.693Z"
   },
   {
    "duration": 13,
    "start_time": "2023-04-03T09:56:12.699Z"
   },
   {
    "duration": 68,
    "start_time": "2023-04-03T09:56:12.713Z"
   },
   {
    "duration": 4,
    "start_time": "2023-04-03T09:56:12.783Z"
   },
   {
    "duration": 605,
    "start_time": "2023-04-03T09:56:12.788Z"
   },
   {
    "duration": 6,
    "start_time": "2023-04-03T09:56:13.395Z"
   },
   {
    "duration": 39357,
    "start_time": "2023-04-03T09:56:13.403Z"
   },
   {
    "duration": 6,
    "start_time": "2023-04-03T09:58:00.789Z"
   },
   {
    "duration": 52215,
    "start_time": "2023-04-03T09:58:01.275Z"
   },
   {
    "duration": 6,
    "start_time": "2023-04-03T10:00:52.948Z"
   },
   {
    "duration": 7,
    "start_time": "2023-04-03T10:00:56.099Z"
   },
   {
    "duration": 52840,
    "start_time": "2023-04-03T10:00:56.751Z"
   },
   {
    "duration": 12,
    "start_time": "2023-04-03T10:02:13.882Z"
   },
   {
    "duration": 4,
    "start_time": "2023-04-03T10:02:18.440Z"
   },
   {
    "duration": 1668,
    "start_time": "2023-04-03T10:02:27.390Z"
   },
   {
    "duration": 3,
    "start_time": "2023-04-03T10:02:29.060Z"
   },
   {
    "duration": 28,
    "start_time": "2023-04-03T10:02:29.065Z"
   },
   {
    "duration": 15,
    "start_time": "2023-04-03T10:02:29.095Z"
   },
   {
    "duration": 7,
    "start_time": "2023-04-03T10:02:29.112Z"
   },
   {
    "duration": 33,
    "start_time": "2023-04-03T10:02:29.121Z"
   },
   {
    "duration": 53,
    "start_time": "2023-04-03T10:02:29.156Z"
   },
   {
    "duration": 15,
    "start_time": "2023-04-03T10:02:29.210Z"
   },
   {
    "duration": 46,
    "start_time": "2023-04-03T10:02:29.227Z"
   },
   {
    "duration": 20,
    "start_time": "2023-04-03T10:02:29.274Z"
   },
   {
    "duration": 38,
    "start_time": "2023-04-03T10:02:29.295Z"
   },
   {
    "duration": 38,
    "start_time": "2023-04-03T10:02:29.334Z"
   },
   {
    "duration": 70,
    "start_time": "2023-04-03T10:02:29.373Z"
   },
   {
    "duration": 24,
    "start_time": "2023-04-03T10:02:29.447Z"
   },
   {
    "duration": 829,
    "start_time": "2023-04-03T10:02:29.473Z"
   },
   {
    "duration": 783,
    "start_time": "2023-04-03T10:02:30.304Z"
   },
   {
    "duration": 3,
    "start_time": "2023-04-03T10:02:31.088Z"
   },
   {
    "duration": 54,
    "start_time": "2023-04-03T10:02:31.092Z"
   },
   {
    "duration": 89,
    "start_time": "2023-04-03T10:02:31.147Z"
   },
   {
    "duration": 38,
    "start_time": "2023-04-03T10:02:31.237Z"
   },
   {
    "duration": 49,
    "start_time": "2023-04-03T10:02:31.277Z"
   },
   {
    "duration": 45,
    "start_time": "2023-04-03T10:02:31.327Z"
   },
   {
    "duration": 45,
    "start_time": "2023-04-03T10:02:31.373Z"
   },
   {
    "duration": 32,
    "start_time": "2023-04-03T10:02:31.419Z"
   },
   {
    "duration": 32,
    "start_time": "2023-04-03T10:02:31.453Z"
   },
   {
    "duration": 37,
    "start_time": "2023-04-03T10:02:31.486Z"
   },
   {
    "duration": 22,
    "start_time": "2023-04-03T10:02:31.524Z"
   },
   {
    "duration": 44,
    "start_time": "2023-04-03T10:02:31.547Z"
   },
   {
    "duration": 25,
    "start_time": "2023-04-03T10:02:31.592Z"
   },
   {
    "duration": 48,
    "start_time": "2023-04-03T10:02:31.618Z"
   },
   {
    "duration": 50,
    "start_time": "2023-04-03T10:02:31.667Z"
   },
   {
    "duration": 32,
    "start_time": "2023-04-03T10:02:31.718Z"
   },
   {
    "duration": 30,
    "start_time": "2023-04-03T10:02:31.752Z"
   },
   {
    "duration": 24,
    "start_time": "2023-04-03T10:02:31.783Z"
   },
   {
    "duration": 33,
    "start_time": "2023-04-03T10:02:31.808Z"
   },
   {
    "duration": 44,
    "start_time": "2023-04-03T10:02:31.843Z"
   },
   {
    "duration": 16,
    "start_time": "2023-04-03T10:02:31.889Z"
   },
   {
    "duration": 38,
    "start_time": "2023-04-03T10:02:31.907Z"
   },
   {
    "duration": 45,
    "start_time": "2023-04-03T10:02:31.947Z"
   },
   {
    "duration": 17,
    "start_time": "2023-04-03T10:02:31.993Z"
   },
   {
    "duration": 16,
    "start_time": "2023-04-03T10:02:32.014Z"
   },
   {
    "duration": 14,
    "start_time": "2023-04-03T10:02:32.032Z"
   },
   {
    "duration": 26,
    "start_time": "2023-04-03T10:02:32.048Z"
   },
   {
    "duration": 20,
    "start_time": "2023-04-03T10:02:32.076Z"
   },
   {
    "duration": 21,
    "start_time": "2023-04-03T10:02:32.098Z"
   },
   {
    "duration": 72,
    "start_time": "2023-04-03T10:02:32.121Z"
   },
   {
    "duration": 36,
    "start_time": "2023-04-03T10:02:32.195Z"
   },
   {
    "duration": 23,
    "start_time": "2023-04-03T10:02:32.233Z"
   },
   {
    "duration": 5,
    "start_time": "2023-04-03T10:02:32.258Z"
   },
   {
    "duration": 21,
    "start_time": "2023-04-03T10:02:32.264Z"
   },
   {
    "duration": 8,
    "start_time": "2023-04-03T10:02:32.287Z"
   },
   {
    "duration": 24,
    "start_time": "2023-04-03T10:02:32.296Z"
   },
   {
    "duration": 14,
    "start_time": "2023-04-03T10:02:32.322Z"
   },
   {
    "duration": 14,
    "start_time": "2023-04-03T10:02:32.337Z"
   },
   {
    "duration": 12,
    "start_time": "2023-04-03T10:02:32.352Z"
   },
   {
    "duration": 9,
    "start_time": "2023-04-03T10:02:32.365Z"
   },
   {
    "duration": 7,
    "start_time": "2023-04-03T10:02:32.375Z"
   },
   {
    "duration": 6,
    "start_time": "2023-04-03T10:02:32.383Z"
   },
   {
    "duration": 5,
    "start_time": "2023-04-03T10:02:32.390Z"
   },
   {
    "duration": 87,
    "start_time": "2023-04-03T10:02:32.396Z"
   },
   {
    "duration": 5,
    "start_time": "2023-04-03T10:02:32.486Z"
   },
   {
    "duration": 652,
    "start_time": "2023-04-03T10:02:32.492Z"
   },
   {
    "duration": 8,
    "start_time": "2023-04-03T10:02:33.145Z"
   },
   {
    "duration": 41495,
    "start_time": "2023-04-03T10:02:33.155Z"
   },
   {
    "duration": 5,
    "start_time": "2023-04-03T10:03:50.707Z"
   },
   {
    "duration": 6,
    "start_time": "2023-04-03T10:03:53.483Z"
   },
   {
    "duration": 41272,
    "start_time": "2023-04-03T10:03:53.919Z"
   },
   {
    "duration": 7,
    "start_time": "2023-04-03T10:05:19.338Z"
   },
   {
    "duration": 7,
    "start_time": "2023-04-03T10:05:22.788Z"
   },
   {
    "duration": 51352,
    "start_time": "2023-04-03T10:05:25.741Z"
   },
   {
    "duration": 0,
    "start_time": "2023-04-03T10:06:17.095Z"
   },
   {
    "duration": 1767,
    "start_time": "2023-04-03T10:06:23.801Z"
   },
   {
    "duration": 4,
    "start_time": "2023-04-03T10:06:25.570Z"
   },
   {
    "duration": 31,
    "start_time": "2023-04-03T10:06:25.576Z"
   },
   {
    "duration": 13,
    "start_time": "2023-04-03T10:06:25.609Z"
   },
   {
    "duration": 3,
    "start_time": "2023-04-03T10:06:25.625Z"
   },
   {
    "duration": 9,
    "start_time": "2023-04-03T10:06:25.630Z"
   },
   {
    "duration": 14,
    "start_time": "2023-04-03T10:06:25.641Z"
   },
   {
    "duration": 8,
    "start_time": "2023-04-03T10:06:25.656Z"
   },
   {
    "duration": 25,
    "start_time": "2023-04-03T10:06:25.665Z"
   },
   {
    "duration": 6,
    "start_time": "2023-04-03T10:06:25.692Z"
   },
   {
    "duration": 5,
    "start_time": "2023-04-03T10:06:25.699Z"
   },
   {
    "duration": 13,
    "start_time": "2023-04-03T10:06:25.706Z"
   },
   {
    "duration": 7,
    "start_time": "2023-04-03T10:06:25.721Z"
   },
   {
    "duration": 12,
    "start_time": "2023-04-03T10:06:25.731Z"
   },
   {
    "duration": 827,
    "start_time": "2023-04-03T10:06:25.745Z"
   },
   {
    "duration": 814,
    "start_time": "2023-04-03T10:06:26.573Z"
   },
   {
    "duration": 3,
    "start_time": "2023-04-03T10:06:27.389Z"
   },
   {
    "duration": 6,
    "start_time": "2023-04-03T10:06:27.394Z"
   },
   {
    "duration": 10,
    "start_time": "2023-04-03T10:06:27.403Z"
   },
   {
    "duration": 8,
    "start_time": "2023-04-03T10:06:27.415Z"
   },
   {
    "duration": 11,
    "start_time": "2023-04-03T10:06:27.424Z"
   },
   {
    "duration": 12,
    "start_time": "2023-04-03T10:06:27.437Z"
   },
   {
    "duration": 7,
    "start_time": "2023-04-03T10:06:27.451Z"
   },
   {
    "duration": 24,
    "start_time": "2023-04-03T10:06:27.460Z"
   },
   {
    "duration": 14,
    "start_time": "2023-04-03T10:06:27.486Z"
   },
   {
    "duration": 24,
    "start_time": "2023-04-03T10:06:27.502Z"
   },
   {
    "duration": 23,
    "start_time": "2023-04-03T10:06:27.530Z"
   },
   {
    "duration": 15,
    "start_time": "2023-04-03T10:06:27.555Z"
   },
   {
    "duration": 25,
    "start_time": "2023-04-03T10:06:27.572Z"
   },
   {
    "duration": 10,
    "start_time": "2023-04-03T10:06:27.598Z"
   },
   {
    "duration": 20,
    "start_time": "2023-04-03T10:06:27.609Z"
   },
   {
    "duration": 14,
    "start_time": "2023-04-03T10:06:27.630Z"
   },
   {
    "duration": 8,
    "start_time": "2023-04-03T10:06:27.646Z"
   },
   {
    "duration": 20,
    "start_time": "2023-04-03T10:06:27.656Z"
   },
   {
    "duration": 25,
    "start_time": "2023-04-03T10:06:27.680Z"
   },
   {
    "duration": 6,
    "start_time": "2023-04-03T10:06:27.706Z"
   },
   {
    "duration": 24,
    "start_time": "2023-04-03T10:06:27.713Z"
   },
   {
    "duration": 17,
    "start_time": "2023-04-03T10:06:27.739Z"
   },
   {
    "duration": 38,
    "start_time": "2023-04-03T10:06:27.758Z"
   },
   {
    "duration": 16,
    "start_time": "2023-04-03T10:06:27.798Z"
   },
   {
    "duration": 4,
    "start_time": "2023-04-03T10:06:27.819Z"
   },
   {
    "duration": 13,
    "start_time": "2023-04-03T10:06:27.825Z"
   },
   {
    "duration": 24,
    "start_time": "2023-04-03T10:06:27.839Z"
   },
   {
    "duration": 68,
    "start_time": "2023-04-03T10:06:27.864Z"
   },
   {
    "duration": 0,
    "start_time": "2023-04-03T10:06:27.934Z"
   },
   {
    "duration": 0,
    "start_time": "2023-04-03T10:06:27.937Z"
   },
   {
    "duration": 0,
    "start_time": "2023-04-03T10:06:27.938Z"
   },
   {
    "duration": 0,
    "start_time": "2023-04-03T10:06:27.939Z"
   },
   {
    "duration": 0,
    "start_time": "2023-04-03T10:06:27.941Z"
   },
   {
    "duration": 0,
    "start_time": "2023-04-03T10:06:27.942Z"
   },
   {
    "duration": 0,
    "start_time": "2023-04-03T10:06:27.944Z"
   },
   {
    "duration": 0,
    "start_time": "2023-04-03T10:06:27.944Z"
   },
   {
    "duration": 0,
    "start_time": "2023-04-03T10:06:27.945Z"
   },
   {
    "duration": 0,
    "start_time": "2023-04-03T10:06:27.946Z"
   },
   {
    "duration": 0,
    "start_time": "2023-04-03T10:06:27.948Z"
   },
   {
    "duration": 0,
    "start_time": "2023-04-03T10:06:27.949Z"
   },
   {
    "duration": 0,
    "start_time": "2023-04-03T10:06:27.950Z"
   },
   {
    "duration": 0,
    "start_time": "2023-04-03T10:06:27.951Z"
   },
   {
    "duration": 0,
    "start_time": "2023-04-03T10:06:27.952Z"
   },
   {
    "duration": 0,
    "start_time": "2023-04-03T10:06:27.953Z"
   },
   {
    "duration": 0,
    "start_time": "2023-04-03T10:06:27.954Z"
   },
   {
    "duration": 0,
    "start_time": "2023-04-03T10:06:27.956Z"
   },
   {
    "duration": 0,
    "start_time": "2023-04-03T10:06:27.957Z"
   },
   {
    "duration": 0,
    "start_time": "2023-04-03T10:06:27.958Z"
   },
   {
    "duration": 1879,
    "start_time": "2023-04-03T10:06:45.980Z"
   },
   {
    "duration": 4,
    "start_time": "2023-04-03T10:06:47.861Z"
   },
   {
    "duration": 32,
    "start_time": "2023-04-03T10:06:47.867Z"
   },
   {
    "duration": 12,
    "start_time": "2023-04-03T10:06:47.901Z"
   },
   {
    "duration": 3,
    "start_time": "2023-04-03T10:06:47.916Z"
   },
   {
    "duration": 6,
    "start_time": "2023-04-03T10:06:47.921Z"
   },
   {
    "duration": 12,
    "start_time": "2023-04-03T10:06:47.928Z"
   },
   {
    "duration": 7,
    "start_time": "2023-04-03T10:06:47.942Z"
   },
   {
    "duration": 22,
    "start_time": "2023-04-03T10:06:47.951Z"
   },
   {
    "duration": 5,
    "start_time": "2023-04-03T10:06:47.974Z"
   },
   {
    "duration": 6,
    "start_time": "2023-04-03T10:06:47.980Z"
   },
   {
    "duration": 8,
    "start_time": "2023-04-03T10:06:47.987Z"
   },
   {
    "duration": 5,
    "start_time": "2023-04-03T10:06:47.996Z"
   },
   {
    "duration": 6,
    "start_time": "2023-04-03T10:06:48.004Z"
   },
   {
    "duration": 755,
    "start_time": "2023-04-03T10:06:48.011Z"
   },
   {
    "duration": 872,
    "start_time": "2023-04-03T10:06:48.771Z"
   },
   {
    "duration": 3,
    "start_time": "2023-04-03T10:06:49.645Z"
   },
   {
    "duration": 8,
    "start_time": "2023-04-03T10:06:49.649Z"
   },
   {
    "duration": 7,
    "start_time": "2023-04-03T10:06:49.659Z"
   },
   {
    "duration": 10,
    "start_time": "2023-04-03T10:06:49.667Z"
   },
   {
    "duration": 9,
    "start_time": "2023-04-03T10:06:49.679Z"
   },
   {
    "duration": 8,
    "start_time": "2023-04-03T10:06:49.689Z"
   },
   {
    "duration": 12,
    "start_time": "2023-04-03T10:06:49.698Z"
   },
   {
    "duration": 14,
    "start_time": "2023-04-03T10:06:49.712Z"
   },
   {
    "duration": 8,
    "start_time": "2023-04-03T10:06:49.727Z"
   },
   {
    "duration": 12,
    "start_time": "2023-04-03T10:06:49.736Z"
   },
   {
    "duration": 10,
    "start_time": "2023-04-03T10:06:49.749Z"
   },
   {
    "duration": 11,
    "start_time": "2023-04-03T10:06:49.761Z"
   },
   {
    "duration": 6,
    "start_time": "2023-04-03T10:06:49.774Z"
   },
   {
    "duration": 7,
    "start_time": "2023-04-03T10:06:49.782Z"
   },
   {
    "duration": 12,
    "start_time": "2023-04-03T10:06:49.790Z"
   },
   {
    "duration": 17,
    "start_time": "2023-04-03T10:06:49.803Z"
   },
   {
    "duration": 17,
    "start_time": "2023-04-03T10:06:49.821Z"
   },
   {
    "duration": 10,
    "start_time": "2023-04-03T10:06:49.840Z"
   },
   {
    "duration": 23,
    "start_time": "2023-04-03T10:06:49.851Z"
   },
   {
    "duration": 5,
    "start_time": "2023-04-03T10:06:49.876Z"
   },
   {
    "duration": 9,
    "start_time": "2023-04-03T10:06:49.882Z"
   },
   {
    "duration": 20,
    "start_time": "2023-04-03T10:06:49.893Z"
   },
   {
    "duration": 31,
    "start_time": "2023-04-03T10:06:49.915Z"
   },
   {
    "duration": 14,
    "start_time": "2023-04-03T10:06:49.948Z"
   },
   {
    "duration": 7,
    "start_time": "2023-04-03T10:06:49.966Z"
   },
   {
    "duration": 9,
    "start_time": "2023-04-03T10:06:49.975Z"
   },
   {
    "duration": 13,
    "start_time": "2023-04-03T10:06:49.985Z"
   },
   {
    "duration": 54,
    "start_time": "2023-04-03T10:06:50.000Z"
   },
   {
    "duration": 0,
    "start_time": "2023-04-03T10:06:50.056Z"
   },
   {
    "duration": 0,
    "start_time": "2023-04-03T10:06:50.057Z"
   },
   {
    "duration": 0,
    "start_time": "2023-04-03T10:06:50.058Z"
   },
   {
    "duration": 0,
    "start_time": "2023-04-03T10:06:50.059Z"
   },
   {
    "duration": 0,
    "start_time": "2023-04-03T10:06:50.060Z"
   },
   {
    "duration": 0,
    "start_time": "2023-04-03T10:06:50.061Z"
   },
   {
    "duration": 0,
    "start_time": "2023-04-03T10:06:50.062Z"
   },
   {
    "duration": 0,
    "start_time": "2023-04-03T10:06:50.063Z"
   },
   {
    "duration": 0,
    "start_time": "2023-04-03T10:06:50.063Z"
   },
   {
    "duration": 0,
    "start_time": "2023-04-03T10:06:50.065Z"
   },
   {
    "duration": 0,
    "start_time": "2023-04-03T10:06:50.066Z"
   },
   {
    "duration": 0,
    "start_time": "2023-04-03T10:06:50.067Z"
   },
   {
    "duration": 0,
    "start_time": "2023-04-03T10:06:50.068Z"
   },
   {
    "duration": 0,
    "start_time": "2023-04-03T10:06:50.069Z"
   },
   {
    "duration": 0,
    "start_time": "2023-04-03T10:06:50.070Z"
   },
   {
    "duration": 0,
    "start_time": "2023-04-03T10:06:50.071Z"
   },
   {
    "duration": 0,
    "start_time": "2023-04-03T10:06:50.073Z"
   },
   {
    "duration": 0,
    "start_time": "2023-04-03T10:06:50.073Z"
   },
   {
    "duration": 0,
    "start_time": "2023-04-03T10:06:50.075Z"
   },
   {
    "duration": 0,
    "start_time": "2023-04-03T10:06:50.075Z"
   },
   {
    "duration": 1711,
    "start_time": "2023-04-03T10:08:20.047Z"
   },
   {
    "duration": 4,
    "start_time": "2023-04-03T10:08:21.760Z"
   },
   {
    "duration": 41,
    "start_time": "2023-04-03T10:08:21.765Z"
   },
   {
    "duration": 11,
    "start_time": "2023-04-03T10:08:21.808Z"
   },
   {
    "duration": 23,
    "start_time": "2023-04-03T10:08:21.821Z"
   },
   {
    "duration": 15,
    "start_time": "2023-04-03T10:08:21.845Z"
   },
   {
    "duration": 20,
    "start_time": "2023-04-03T10:08:21.861Z"
   },
   {
    "duration": 17,
    "start_time": "2023-04-03T10:08:21.883Z"
   },
   {
    "duration": 44,
    "start_time": "2023-04-03T10:08:21.901Z"
   },
   {
    "duration": 18,
    "start_time": "2023-04-03T10:08:21.947Z"
   },
   {
    "duration": 18,
    "start_time": "2023-04-03T10:08:21.966Z"
   },
   {
    "duration": 12,
    "start_time": "2023-04-03T10:08:21.986Z"
   },
   {
    "duration": 11,
    "start_time": "2023-04-03T10:08:21.999Z"
   },
   {
    "duration": 14,
    "start_time": "2023-04-03T10:08:22.013Z"
   },
   {
    "duration": 766,
    "start_time": "2023-04-03T10:08:22.028Z"
   },
   {
    "duration": 763,
    "start_time": "2023-04-03T10:08:22.796Z"
   },
   {
    "duration": 6,
    "start_time": "2023-04-03T10:08:23.560Z"
   },
   {
    "duration": 16,
    "start_time": "2023-04-03T10:08:23.568Z"
   },
   {
    "duration": 12,
    "start_time": "2023-04-03T10:08:23.586Z"
   },
   {
    "duration": 21,
    "start_time": "2023-04-03T10:08:23.599Z"
   },
   {
    "duration": 12,
    "start_time": "2023-04-03T10:08:23.621Z"
   },
   {
    "duration": 8,
    "start_time": "2023-04-03T10:08:23.635Z"
   },
   {
    "duration": 11,
    "start_time": "2023-04-03T10:08:23.645Z"
   },
   {
    "duration": 17,
    "start_time": "2023-04-03T10:08:23.657Z"
   },
   {
    "duration": 18,
    "start_time": "2023-04-03T10:08:23.676Z"
   },
   {
    "duration": 33,
    "start_time": "2023-04-03T10:08:23.696Z"
   },
   {
    "duration": 54,
    "start_time": "2023-04-03T10:08:23.730Z"
   },
   {
    "duration": 40,
    "start_time": "2023-04-03T10:08:23.786Z"
   },
   {
    "duration": 22,
    "start_time": "2023-04-03T10:08:23.827Z"
   },
   {
    "duration": 15,
    "start_time": "2023-04-03T10:08:23.850Z"
   },
   {
    "duration": 14,
    "start_time": "2023-04-03T10:08:23.867Z"
   },
   {
    "duration": 5,
    "start_time": "2023-04-03T10:08:23.883Z"
   },
   {
    "duration": 11,
    "start_time": "2023-04-03T10:08:23.889Z"
   },
   {
    "duration": 17,
    "start_time": "2023-04-03T10:08:23.902Z"
   },
   {
    "duration": 11,
    "start_time": "2023-04-03T10:08:23.921Z"
   },
   {
    "duration": 5,
    "start_time": "2023-04-03T10:08:23.933Z"
   },
   {
    "duration": 8,
    "start_time": "2023-04-03T10:08:23.939Z"
   },
   {
    "duration": 13,
    "start_time": "2023-04-03T10:08:23.948Z"
   },
   {
    "duration": 20,
    "start_time": "2023-04-03T10:08:23.963Z"
   },
   {
    "duration": 11,
    "start_time": "2023-04-03T10:08:23.985Z"
   },
   {
    "duration": 9,
    "start_time": "2023-04-03T10:08:23.999Z"
   },
   {
    "duration": 7,
    "start_time": "2023-04-03T10:08:24.009Z"
   },
   {
    "duration": 10,
    "start_time": "2023-04-03T10:08:24.018Z"
   },
   {
    "duration": 6,
    "start_time": "2023-04-03T10:08:24.030Z"
   },
   {
    "duration": 7,
    "start_time": "2023-04-03T10:08:24.037Z"
   },
   {
    "duration": 15,
    "start_time": "2023-04-03T10:08:24.046Z"
   },
   {
    "duration": 8,
    "start_time": "2023-04-03T10:08:24.063Z"
   },
   {
    "duration": 9,
    "start_time": "2023-04-03T10:08:24.072Z"
   },
   {
    "duration": 4,
    "start_time": "2023-04-03T10:08:24.082Z"
   },
   {
    "duration": 4,
    "start_time": "2023-04-03T10:08:24.088Z"
   },
   {
    "duration": 6,
    "start_time": "2023-04-03T10:08:24.093Z"
   },
   {
    "duration": 5,
    "start_time": "2023-04-03T10:08:24.100Z"
   },
   {
    "duration": 6,
    "start_time": "2023-04-03T10:08:24.106Z"
   },
   {
    "duration": 5,
    "start_time": "2023-04-03T10:08:24.113Z"
   },
   {
    "duration": 6,
    "start_time": "2023-04-03T10:08:24.119Z"
   },
   {
    "duration": 4,
    "start_time": "2023-04-03T10:08:24.126Z"
   },
   {
    "duration": 5,
    "start_time": "2023-04-03T10:08:24.131Z"
   },
   {
    "duration": 5,
    "start_time": "2023-04-03T10:08:24.137Z"
   },
   {
    "duration": 29,
    "start_time": "2023-04-03T10:08:24.143Z"
   },
   {
    "duration": 24,
    "start_time": "2023-04-03T10:08:24.173Z"
   },
   {
    "duration": 4,
    "start_time": "2023-04-03T10:08:24.271Z"
   },
   {
    "duration": 556,
    "start_time": "2023-04-03T10:08:24.276Z"
   },
   {
    "duration": 6,
    "start_time": "2023-04-03T10:08:24.833Z"
   },
   {
    "duration": 69802,
    "start_time": "2023-04-03T10:08:24.841Z"
   },
   {
    "duration": 5,
    "start_time": "2023-04-03T10:10:16.604Z"
   },
   {
    "duration": 2,
    "start_time": "2023-04-03T10:10:35.086Z"
   },
   {
    "duration": 3,
    "start_time": "2023-04-03T10:10:35.281Z"
   },
   {
    "duration": 3,
    "start_time": "2023-04-03T10:10:35.485Z"
   },
   {
    "duration": 3,
    "start_time": "2023-04-03T10:10:35.617Z"
   },
   {
    "duration": 1908,
    "start_time": "2023-04-03T10:10:44.001Z"
   },
   {
    "duration": 4,
    "start_time": "2023-04-03T10:10:45.911Z"
   },
   {
    "duration": 35,
    "start_time": "2023-04-03T10:10:45.917Z"
   },
   {
    "duration": 14,
    "start_time": "2023-04-03T10:10:45.954Z"
   },
   {
    "duration": 4,
    "start_time": "2023-04-03T10:10:45.970Z"
   },
   {
    "duration": 12,
    "start_time": "2023-04-03T10:10:45.976Z"
   },
   {
    "duration": 24,
    "start_time": "2023-04-03T10:10:45.990Z"
   },
   {
    "duration": 10,
    "start_time": "2023-04-03T10:10:46.016Z"
   },
   {
    "duration": 34,
    "start_time": "2023-04-03T10:10:46.027Z"
   },
   {
    "duration": 8,
    "start_time": "2023-04-03T10:10:46.063Z"
   },
   {
    "duration": 9,
    "start_time": "2023-04-03T10:10:46.073Z"
   },
   {
    "duration": 12,
    "start_time": "2023-04-03T10:10:46.084Z"
   },
   {
    "duration": 11,
    "start_time": "2023-04-03T10:10:46.098Z"
   },
   {
    "duration": 6,
    "start_time": "2023-04-03T10:10:46.114Z"
   },
   {
    "duration": 920,
    "start_time": "2023-04-03T10:10:46.123Z"
   },
   {
    "duration": 890,
    "start_time": "2023-04-03T10:10:47.045Z"
   },
   {
    "duration": 3,
    "start_time": "2023-04-03T10:10:47.937Z"
   },
   {
    "duration": 9,
    "start_time": "2023-04-03T10:10:47.942Z"
   },
   {
    "duration": 6,
    "start_time": "2023-04-03T10:10:47.953Z"
   },
   {
    "duration": 6,
    "start_time": "2023-04-03T10:10:47.961Z"
   },
   {
    "duration": 8,
    "start_time": "2023-04-03T10:10:47.969Z"
   },
   {
    "duration": 8,
    "start_time": "2023-04-03T10:10:47.979Z"
   },
   {
    "duration": 11,
    "start_time": "2023-04-03T10:10:47.988Z"
   },
   {
    "duration": 17,
    "start_time": "2023-04-03T10:10:48.000Z"
   },
   {
    "duration": 28,
    "start_time": "2023-04-03T10:10:48.018Z"
   },
   {
    "duration": 10,
    "start_time": "2023-04-03T10:10:48.048Z"
   },
   {
    "duration": 8,
    "start_time": "2023-04-03T10:10:48.060Z"
   },
   {
    "duration": 12,
    "start_time": "2023-04-03T10:10:48.069Z"
   },
   {
    "duration": 17,
    "start_time": "2023-04-03T10:10:48.082Z"
   },
   {
    "duration": 23,
    "start_time": "2023-04-03T10:10:48.101Z"
   },
   {
    "duration": 9,
    "start_time": "2023-04-03T10:10:48.126Z"
   },
   {
    "duration": 18,
    "start_time": "2023-04-03T10:10:48.136Z"
   },
   {
    "duration": 8,
    "start_time": "2023-04-03T10:10:48.155Z"
   },
   {
    "duration": 28,
    "start_time": "2023-04-03T10:10:48.165Z"
   },
   {
    "duration": 13,
    "start_time": "2023-04-03T10:10:48.195Z"
   },
   {
    "duration": 18,
    "start_time": "2023-04-03T10:10:48.210Z"
   },
   {
    "duration": 7,
    "start_time": "2023-04-03T10:10:48.230Z"
   },
   {
    "duration": 15,
    "start_time": "2023-04-03T10:10:48.238Z"
   },
   {
    "duration": 23,
    "start_time": "2023-04-03T10:10:48.254Z"
   },
   {
    "duration": 23,
    "start_time": "2023-04-03T10:10:48.279Z"
   },
   {
    "duration": 4,
    "start_time": "2023-04-03T10:10:48.306Z"
   },
   {
    "duration": 8,
    "start_time": "2023-04-03T10:10:48.311Z"
   },
   {
    "duration": 19,
    "start_time": "2023-04-03T10:10:48.321Z"
   },
   {
    "duration": 8,
    "start_time": "2023-04-03T10:10:48.341Z"
   },
   {
    "duration": 11,
    "start_time": "2023-04-03T10:10:48.350Z"
   },
   {
    "duration": 26,
    "start_time": "2023-04-03T10:10:48.362Z"
   },
   {
    "duration": 17,
    "start_time": "2023-04-03T10:10:48.389Z"
   },
   {
    "duration": 13,
    "start_time": "2023-04-03T10:10:48.408Z"
   },
   {
    "duration": 12,
    "start_time": "2023-04-03T10:10:48.423Z"
   },
   {
    "duration": 8,
    "start_time": "2023-04-03T10:10:48.436Z"
   },
   {
    "duration": 10,
    "start_time": "2023-04-03T10:10:48.446Z"
   },
   {
    "duration": 14,
    "start_time": "2023-04-03T10:10:48.457Z"
   },
   {
    "duration": 7,
    "start_time": "2023-04-03T10:10:48.472Z"
   },
   {
    "duration": 8,
    "start_time": "2023-04-03T10:10:48.480Z"
   },
   {
    "duration": 10,
    "start_time": "2023-04-03T10:10:48.489Z"
   },
   {
    "duration": 7,
    "start_time": "2023-04-03T10:10:48.501Z"
   },
   {
    "duration": 11,
    "start_time": "2023-04-03T10:10:48.509Z"
   },
   {
    "duration": 8,
    "start_time": "2023-04-03T10:10:48.522Z"
   },
   {
    "duration": 7,
    "start_time": "2023-04-03T10:10:48.531Z"
   },
   {
    "duration": 49,
    "start_time": "2023-04-03T10:10:48.540Z"
   },
   {
    "duration": 82,
    "start_time": "2023-04-03T10:10:48.591Z"
   },
   {
    "duration": 551,
    "start_time": "2023-04-03T10:10:48.675Z"
   },
   {
    "duration": 7,
    "start_time": "2023-04-03T10:10:49.227Z"
   },
   {
    "duration": 582437,
    "start_time": "2023-04-03T10:10:49.235Z"
   },
   {
    "duration": 5,
    "start_time": "2023-04-03T10:45:36.209Z"
   },
   {
    "duration": 4,
    "start_time": "2023-04-03T10:46:47.199Z"
   },
   {
    "duration": 695,
    "start_time": "2023-04-03T10:48:05.113Z"
   },
   {
    "duration": 128,
    "start_time": "2023-04-03T10:49:24.580Z"
   },
   {
    "duration": 4,
    "start_time": "2023-04-03T10:49:39.083Z"
   },
   {
    "duration": 9,
    "start_time": "2023-04-03T10:50:16.921Z"
   },
   {
    "duration": 104,
    "start_time": "2023-04-03T10:50:35.673Z"
   },
   {
    "duration": 11,
    "start_time": "2023-04-03T10:50:58.059Z"
   },
   {
    "duration": 313,
    "start_time": "2023-04-03T10:51:10.399Z"
   },
   {
    "duration": 8,
    "start_time": "2023-04-03T10:51:18.710Z"
   },
   {
    "duration": 205,
    "start_time": "2023-04-03T10:51:26.460Z"
   },
   {
    "duration": 4,
    "start_time": "2023-04-03T10:51:50.024Z"
   },
   {
    "duration": 5,
    "start_time": "2023-04-03T10:52:04.574Z"
   },
   {
    "duration": 10,
    "start_time": "2023-04-03T10:52:26.099Z"
   },
   {
    "duration": 10,
    "start_time": "2023-04-03T10:52:29.063Z"
   },
   {
    "duration": 14,
    "start_time": "2023-04-03T10:52:56.769Z"
   },
   {
    "duration": 290,
    "start_time": "2023-04-03T10:53:23.591Z"
   },
   {
    "duration": 4,
    "start_time": "2023-04-03T10:55:40.897Z"
   },
   {
    "duration": 4,
    "start_time": "2023-04-03T10:55:43.957Z"
   },
   {
    "duration": 10,
    "start_time": "2023-04-03T10:55:50.273Z"
   },
   {
    "duration": 3,
    "start_time": "2023-04-03T10:55:54.297Z"
   },
   {
    "duration": 9,
    "start_time": "2023-04-03T10:55:56.777Z"
   },
   {
    "duration": 4,
    "start_time": "2023-04-03T10:55:59.464Z"
   },
   {
    "duration": 4,
    "start_time": "2023-04-03T10:58:18.789Z"
   },
   {
    "duration": 5,
    "start_time": "2023-04-03T10:58:31.173Z"
   },
   {
    "duration": 4,
    "start_time": "2023-04-03T10:58:33.865Z"
   },
   {
    "duration": 1768,
    "start_time": "2023-04-03T10:59:35.080Z"
   },
   {
    "duration": 4,
    "start_time": "2023-04-03T10:59:36.850Z"
   },
   {
    "duration": 32,
    "start_time": "2023-04-03T10:59:36.855Z"
   },
   {
    "duration": 14,
    "start_time": "2023-04-03T10:59:36.889Z"
   },
   {
    "duration": 4,
    "start_time": "2023-04-03T10:59:36.905Z"
   },
   {
    "duration": 6,
    "start_time": "2023-04-03T10:59:36.910Z"
   },
   {
    "duration": 20,
    "start_time": "2023-04-03T10:59:36.917Z"
   },
   {
    "duration": 6,
    "start_time": "2023-04-03T10:59:36.939Z"
   },
   {
    "duration": 31,
    "start_time": "2023-04-03T10:59:36.947Z"
   },
   {
    "duration": 6,
    "start_time": "2023-04-03T10:59:36.980Z"
   },
   {
    "duration": 12,
    "start_time": "2023-04-03T10:59:36.987Z"
   },
   {
    "duration": 11,
    "start_time": "2023-04-03T10:59:37.001Z"
   },
   {
    "duration": 34,
    "start_time": "2023-04-03T10:59:37.014Z"
   },
   {
    "duration": 4,
    "start_time": "2023-04-03T10:59:37.051Z"
   },
   {
    "duration": 780,
    "start_time": "2023-04-03T10:59:37.056Z"
   },
   {
    "duration": 961,
    "start_time": "2023-04-03T10:59:37.838Z"
   },
   {
    "duration": 3,
    "start_time": "2023-04-03T10:59:38.800Z"
   },
   {
    "duration": 20,
    "start_time": "2023-04-03T10:59:38.805Z"
   },
   {
    "duration": 5,
    "start_time": "2023-04-03T10:59:38.827Z"
   },
   {
    "duration": 5,
    "start_time": "2023-04-03T10:59:38.834Z"
   },
   {
    "duration": 5,
    "start_time": "2023-04-03T10:59:38.841Z"
   },
   {
    "duration": 11,
    "start_time": "2023-04-03T10:59:38.847Z"
   },
   {
    "duration": 8,
    "start_time": "2023-04-03T10:59:38.859Z"
   },
   {
    "duration": 21,
    "start_time": "2023-04-03T10:59:38.868Z"
   },
   {
    "duration": 7,
    "start_time": "2023-04-03T10:59:38.891Z"
   },
   {
    "duration": 14,
    "start_time": "2023-04-03T10:59:38.900Z"
   },
   {
    "duration": 24,
    "start_time": "2023-04-03T10:59:38.916Z"
   },
   {
    "duration": 17,
    "start_time": "2023-04-03T10:59:38.942Z"
   },
   {
    "duration": 11,
    "start_time": "2023-04-03T10:59:38.961Z"
   },
   {
    "duration": 6,
    "start_time": "2023-04-03T10:59:38.973Z"
   },
   {
    "duration": 10,
    "start_time": "2023-04-03T10:59:38.980Z"
   },
   {
    "duration": 8,
    "start_time": "2023-04-03T10:59:38.992Z"
   },
   {
    "duration": 7,
    "start_time": "2023-04-03T10:59:39.001Z"
   },
   {
    "duration": 15,
    "start_time": "2023-04-03T10:59:39.010Z"
   },
   {
    "duration": 23,
    "start_time": "2023-04-03T10:59:39.027Z"
   },
   {
    "duration": 8,
    "start_time": "2023-04-03T10:59:39.052Z"
   },
   {
    "duration": 18,
    "start_time": "2023-04-03T10:59:39.062Z"
   },
   {
    "duration": 20,
    "start_time": "2023-04-03T10:59:39.081Z"
   },
   {
    "duration": 29,
    "start_time": "2023-04-03T10:59:39.102Z"
   },
   {
    "duration": 9,
    "start_time": "2023-04-03T10:59:39.132Z"
   },
   {
    "duration": 11,
    "start_time": "2023-04-03T10:59:39.144Z"
   },
   {
    "duration": 7,
    "start_time": "2023-04-03T10:59:39.157Z"
   },
   {
    "duration": 8,
    "start_time": "2023-04-03T10:59:39.165Z"
   },
   {
    "duration": 20,
    "start_time": "2023-04-03T10:59:39.174Z"
   },
   {
    "duration": 30,
    "start_time": "2023-04-03T10:59:39.195Z"
   },
   {
    "duration": 10,
    "start_time": "2023-04-03T10:59:39.226Z"
   },
   {
    "duration": 142,
    "start_time": "2023-04-03T10:59:39.238Z"
   },
   {
    "duration": 0,
    "start_time": "2023-04-03T10:59:39.382Z"
   },
   {
    "duration": 0,
    "start_time": "2023-04-03T10:59:39.383Z"
   },
   {
    "duration": 1,
    "start_time": "2023-04-03T10:59:39.383Z"
   },
   {
    "duration": 0,
    "start_time": "2023-04-03T10:59:39.385Z"
   },
   {
    "duration": 0,
    "start_time": "2023-04-03T10:59:39.386Z"
   },
   {
    "duration": 0,
    "start_time": "2023-04-03T10:59:39.386Z"
   },
   {
    "duration": 0,
    "start_time": "2023-04-03T10:59:39.387Z"
   },
   {
    "duration": 0,
    "start_time": "2023-04-03T10:59:39.388Z"
   },
   {
    "duration": 0,
    "start_time": "2023-04-03T10:59:39.389Z"
   },
   {
    "duration": 0,
    "start_time": "2023-04-03T10:59:39.390Z"
   },
   {
    "duration": 0,
    "start_time": "2023-04-03T10:59:39.391Z"
   },
   {
    "duration": 0,
    "start_time": "2023-04-03T10:59:39.392Z"
   },
   {
    "duration": 0,
    "start_time": "2023-04-03T10:59:39.393Z"
   },
   {
    "duration": 0,
    "start_time": "2023-04-03T10:59:39.394Z"
   },
   {
    "duration": 0,
    "start_time": "2023-04-03T10:59:39.395Z"
   },
   {
    "duration": 0,
    "start_time": "2023-04-03T10:59:39.396Z"
   },
   {
    "duration": 0,
    "start_time": "2023-04-03T10:59:39.397Z"
   },
   {
    "duration": 0,
    "start_time": "2023-04-03T10:59:39.398Z"
   },
   {
    "duration": 0,
    "start_time": "2023-04-03T10:59:39.399Z"
   },
   {
    "duration": 1752,
    "start_time": "2023-04-03T11:00:23.713Z"
   },
   {
    "duration": 6,
    "start_time": "2023-04-03T11:00:25.467Z"
   },
   {
    "duration": 30,
    "start_time": "2023-04-03T11:00:25.475Z"
   },
   {
    "duration": 11,
    "start_time": "2023-04-03T11:00:25.507Z"
   },
   {
    "duration": 6,
    "start_time": "2023-04-03T11:00:25.521Z"
   },
   {
    "duration": 9,
    "start_time": "2023-04-03T11:00:25.528Z"
   },
   {
    "duration": 16,
    "start_time": "2023-04-03T11:00:25.538Z"
   },
   {
    "duration": 7,
    "start_time": "2023-04-03T11:00:25.555Z"
   },
   {
    "duration": 39,
    "start_time": "2023-04-03T11:00:25.563Z"
   },
   {
    "duration": 5,
    "start_time": "2023-04-03T11:00:25.604Z"
   },
   {
    "duration": 9,
    "start_time": "2023-04-03T11:00:25.611Z"
   },
   {
    "duration": 14,
    "start_time": "2023-04-03T11:00:25.621Z"
   },
   {
    "duration": 13,
    "start_time": "2023-04-03T11:00:25.636Z"
   },
   {
    "duration": 5,
    "start_time": "2023-04-03T11:00:25.652Z"
   },
   {
    "duration": 850,
    "start_time": "2023-04-03T11:00:25.659Z"
   },
   {
    "duration": 836,
    "start_time": "2023-04-03T11:00:26.511Z"
   },
   {
    "duration": 3,
    "start_time": "2023-04-03T11:00:27.349Z"
   },
   {
    "duration": 13,
    "start_time": "2023-04-03T11:00:27.354Z"
   },
   {
    "duration": 21,
    "start_time": "2023-04-03T11:00:27.369Z"
   },
   {
    "duration": 11,
    "start_time": "2023-04-03T11:00:27.391Z"
   },
   {
    "duration": 43,
    "start_time": "2023-04-03T11:00:27.403Z"
   },
   {
    "duration": 22,
    "start_time": "2023-04-03T11:00:27.447Z"
   },
   {
    "duration": 20,
    "start_time": "2023-04-03T11:00:27.470Z"
   },
   {
    "duration": 54,
    "start_time": "2023-04-03T11:00:27.492Z"
   },
   {
    "duration": 33,
    "start_time": "2023-04-03T11:00:27.548Z"
   },
   {
    "duration": 34,
    "start_time": "2023-04-03T11:00:27.583Z"
   },
   {
    "duration": 20,
    "start_time": "2023-04-03T11:00:27.618Z"
   },
   {
    "duration": 34,
    "start_time": "2023-04-03T11:00:27.641Z"
   },
   {
    "duration": 35,
    "start_time": "2023-04-03T11:00:27.677Z"
   },
   {
    "duration": 25,
    "start_time": "2023-04-03T11:00:27.714Z"
   },
   {
    "duration": 25,
    "start_time": "2023-04-03T11:00:27.741Z"
   },
   {
    "duration": 19,
    "start_time": "2023-04-03T11:00:27.767Z"
   },
   {
    "duration": 8,
    "start_time": "2023-04-03T11:00:27.788Z"
   },
   {
    "duration": 15,
    "start_time": "2023-04-03T11:00:27.798Z"
   },
   {
    "duration": 20,
    "start_time": "2023-04-03T11:00:27.814Z"
   },
   {
    "duration": 25,
    "start_time": "2023-04-03T11:00:27.836Z"
   },
   {
    "duration": 10,
    "start_time": "2023-04-03T11:00:27.863Z"
   },
   {
    "duration": 24,
    "start_time": "2023-04-03T11:00:27.875Z"
   },
   {
    "duration": 39,
    "start_time": "2023-04-03T11:00:27.900Z"
   },
   {
    "duration": 20,
    "start_time": "2023-04-03T11:00:27.941Z"
   },
   {
    "duration": 8,
    "start_time": "2023-04-03T11:00:27.964Z"
   },
   {
    "duration": 13,
    "start_time": "2023-04-03T11:00:27.974Z"
   },
   {
    "duration": 44,
    "start_time": "2023-04-03T11:00:27.988Z"
   },
   {
    "duration": 26,
    "start_time": "2023-04-03T11:00:28.033Z"
   },
   {
    "duration": 24,
    "start_time": "2023-04-03T11:00:28.060Z"
   },
   {
    "duration": 23,
    "start_time": "2023-04-03T11:00:28.086Z"
   },
   {
    "duration": 27,
    "start_time": "2023-04-03T11:00:28.111Z"
   },
   {
    "duration": 30,
    "start_time": "2023-04-03T11:00:28.140Z"
   },
   {
    "duration": 38,
    "start_time": "2023-04-03T11:00:28.171Z"
   },
   {
    "duration": 16,
    "start_time": "2023-04-03T11:00:28.211Z"
   },
   {
    "duration": 32,
    "start_time": "2023-04-03T11:00:28.230Z"
   },
   {
    "duration": 43,
    "start_time": "2023-04-03T11:00:28.264Z"
   },
   {
    "duration": 29,
    "start_time": "2023-04-03T11:00:28.308Z"
   },
   {
    "duration": 16,
    "start_time": "2023-04-03T11:00:28.339Z"
   },
   {
    "duration": 26,
    "start_time": "2023-04-03T11:00:28.356Z"
   },
   {
    "duration": 7,
    "start_time": "2023-04-03T11:00:28.384Z"
   },
   {
    "duration": 5,
    "start_time": "2023-04-03T11:00:28.393Z"
   },
   {
    "duration": 16,
    "start_time": "2023-04-03T11:00:28.400Z"
   },
   {
    "duration": 21,
    "start_time": "2023-04-03T11:00:28.417Z"
   },
   {
    "duration": 4,
    "start_time": "2023-04-03T11:00:28.532Z"
   },
   {
    "duration": 148,
    "start_time": "2023-04-03T11:00:30.994Z"
   },
   {
    "duration": 1891,
    "start_time": "2023-04-03T11:01:00.289Z"
   },
   {
    "duration": 4,
    "start_time": "2023-04-03T11:01:02.182Z"
   },
   {
    "duration": 164,
    "start_time": "2023-04-03T11:01:02.187Z"
   },
   {
    "duration": 63,
    "start_time": "2023-04-03T11:01:02.352Z"
   },
   {
    "duration": 38,
    "start_time": "2023-04-03T11:01:02.418Z"
   },
   {
    "duration": 108,
    "start_time": "2023-04-03T11:01:02.458Z"
   },
   {
    "duration": 72,
    "start_time": "2023-04-03T11:01:02.568Z"
   },
   {
    "duration": 28,
    "start_time": "2023-04-03T11:01:02.642Z"
   },
   {
    "duration": 37,
    "start_time": "2023-04-03T11:01:02.671Z"
   },
   {
    "duration": 30,
    "start_time": "2023-04-03T11:01:02.710Z"
   },
   {
    "duration": 29,
    "start_time": "2023-04-03T11:01:02.742Z"
   },
   {
    "duration": 47,
    "start_time": "2023-04-03T11:01:02.772Z"
   },
   {
    "duration": 38,
    "start_time": "2023-04-03T11:01:02.821Z"
   },
   {
    "duration": 24,
    "start_time": "2023-04-03T11:01:02.862Z"
   },
   {
    "duration": 814,
    "start_time": "2023-04-03T11:01:02.888Z"
   },
   {
    "duration": 764,
    "start_time": "2023-04-03T11:01:03.703Z"
   },
   {
    "duration": 5,
    "start_time": "2023-04-03T11:01:04.468Z"
   },
   {
    "duration": 16,
    "start_time": "2023-04-03T11:01:04.474Z"
   },
   {
    "duration": 16,
    "start_time": "2023-04-03T11:01:04.491Z"
   },
   {
    "duration": 14,
    "start_time": "2023-04-03T11:01:04.509Z"
   },
   {
    "duration": 48,
    "start_time": "2023-04-03T11:01:04.525Z"
   },
   {
    "duration": 10,
    "start_time": "2023-04-03T11:01:04.574Z"
   },
   {
    "duration": 34,
    "start_time": "2023-04-03T11:01:04.585Z"
   },
   {
    "duration": 23,
    "start_time": "2023-04-03T11:01:04.621Z"
   },
   {
    "duration": 8,
    "start_time": "2023-04-03T11:01:04.646Z"
   },
   {
    "duration": 18,
    "start_time": "2023-04-03T11:01:04.655Z"
   },
   {
    "duration": 15,
    "start_time": "2023-04-03T11:01:04.674Z"
   },
   {
    "duration": 39,
    "start_time": "2023-04-03T11:01:04.690Z"
   },
   {
    "duration": 14,
    "start_time": "2023-04-03T11:01:04.730Z"
   },
   {
    "duration": 53,
    "start_time": "2023-04-03T11:01:04.745Z"
   },
   {
    "duration": 28,
    "start_time": "2023-04-03T11:01:04.800Z"
   },
   {
    "duration": 28,
    "start_time": "2023-04-03T11:01:04.829Z"
   },
   {
    "duration": 51,
    "start_time": "2023-04-03T11:01:04.858Z"
   },
   {
    "duration": 23,
    "start_time": "2023-04-03T11:01:04.910Z"
   },
   {
    "duration": 45,
    "start_time": "2023-04-03T11:01:04.934Z"
   },
   {
    "duration": 23,
    "start_time": "2023-04-03T11:01:04.981Z"
   },
   {
    "duration": 24,
    "start_time": "2023-04-03T11:01:05.005Z"
   },
   {
    "duration": 24,
    "start_time": "2023-04-03T11:01:05.031Z"
   },
   {
    "duration": 36,
    "start_time": "2023-04-03T11:01:05.056Z"
   },
   {
    "duration": 19,
    "start_time": "2023-04-03T11:01:05.094Z"
   },
   {
    "duration": 4,
    "start_time": "2023-04-03T11:01:05.117Z"
   },
   {
    "duration": 10,
    "start_time": "2023-04-03T11:01:05.123Z"
   },
   {
    "duration": 30,
    "start_time": "2023-04-03T11:01:05.135Z"
   },
   {
    "duration": 11,
    "start_time": "2023-04-03T11:01:05.167Z"
   },
   {
    "duration": 15,
    "start_time": "2023-04-03T11:01:05.180Z"
   },
   {
    "duration": 20,
    "start_time": "2023-04-03T11:01:05.197Z"
   },
   {
    "duration": 17,
    "start_time": "2023-04-03T11:01:05.219Z"
   },
   {
    "duration": 10,
    "start_time": "2023-04-03T11:01:05.238Z"
   },
   {
    "duration": 8,
    "start_time": "2023-04-03T11:01:05.250Z"
   },
   {
    "duration": 10,
    "start_time": "2023-04-03T11:01:05.260Z"
   },
   {
    "duration": 7,
    "start_time": "2023-04-03T11:01:05.272Z"
   },
   {
    "duration": 6,
    "start_time": "2023-04-03T11:01:05.280Z"
   },
   {
    "duration": 9,
    "start_time": "2023-04-03T11:01:05.287Z"
   },
   {
    "duration": 5,
    "start_time": "2023-04-03T11:01:05.298Z"
   },
   {
    "duration": 13,
    "start_time": "2023-04-03T11:01:05.304Z"
   },
   {
    "duration": 9,
    "start_time": "2023-04-03T11:01:05.319Z"
   },
   {
    "duration": 5,
    "start_time": "2023-04-03T11:01:05.330Z"
   },
   {
    "duration": 10,
    "start_time": "2023-04-03T11:01:05.336Z"
   },
   {
    "duration": 6,
    "start_time": "2023-04-03T11:01:05.347Z"
   },
   {
    "duration": 139,
    "start_time": "2023-04-03T11:01:05.354Z"
   },
   {
    "duration": 0,
    "start_time": "2023-04-03T11:01:05.495Z"
   },
   {
    "duration": 0,
    "start_time": "2023-04-03T11:01:05.496Z"
   },
   {
    "duration": 8,
    "start_time": "2023-04-03T11:01:29.603Z"
   },
   {
    "duration": 9,
    "start_time": "2023-04-03T11:01:33.898Z"
   },
   {
    "duration": 9,
    "start_time": "2023-04-03T11:01:43.772Z"
   },
   {
    "duration": 9,
    "start_time": "2023-04-03T11:01:47.710Z"
   },
   {
    "duration": 90,
    "start_time": "2023-04-03T11:02:47.663Z"
   },
   {
    "duration": 12,
    "start_time": "2023-04-03T11:02:52.117Z"
   },
   {
    "duration": 1791,
    "start_time": "2023-04-03T11:03:00.581Z"
   },
   {
    "duration": 4,
    "start_time": "2023-04-03T11:03:02.374Z"
   },
   {
    "duration": 48,
    "start_time": "2023-04-03T11:03:02.380Z"
   },
   {
    "duration": 30,
    "start_time": "2023-04-03T11:03:02.430Z"
   },
   {
    "duration": 21,
    "start_time": "2023-04-03T11:03:02.462Z"
   },
   {
    "duration": 30,
    "start_time": "2023-04-03T11:03:02.485Z"
   },
   {
    "duration": 48,
    "start_time": "2023-04-03T11:03:02.517Z"
   },
   {
    "duration": 30,
    "start_time": "2023-04-03T11:03:02.567Z"
   },
   {
    "duration": 38,
    "start_time": "2023-04-03T11:03:02.599Z"
   },
   {
    "duration": 11,
    "start_time": "2023-04-03T11:03:02.639Z"
   },
   {
    "duration": 28,
    "start_time": "2023-04-03T11:03:02.652Z"
   },
   {
    "duration": 17,
    "start_time": "2023-04-03T11:03:02.682Z"
   },
   {
    "duration": 26,
    "start_time": "2023-04-03T11:03:02.700Z"
   },
   {
    "duration": 11,
    "start_time": "2023-04-03T11:03:02.730Z"
   },
   {
    "duration": 842,
    "start_time": "2023-04-03T11:03:02.743Z"
   },
   {
    "duration": 788,
    "start_time": "2023-04-03T11:03:03.587Z"
   },
   {
    "duration": 3,
    "start_time": "2023-04-03T11:03:04.376Z"
   },
   {
    "duration": 6,
    "start_time": "2023-04-03T11:03:04.381Z"
   },
   {
    "duration": 7,
    "start_time": "2023-04-03T11:03:04.388Z"
   },
   {
    "duration": 7,
    "start_time": "2023-04-03T11:03:04.396Z"
   },
   {
    "duration": 6,
    "start_time": "2023-04-03T11:03:04.404Z"
   },
   {
    "duration": 10,
    "start_time": "2023-04-03T11:03:04.411Z"
   },
   {
    "duration": 5,
    "start_time": "2023-04-03T11:03:04.423Z"
   },
   {
    "duration": 27,
    "start_time": "2023-04-03T11:03:04.429Z"
   },
   {
    "duration": 16,
    "start_time": "2023-04-03T11:03:04.458Z"
   },
   {
    "duration": 9,
    "start_time": "2023-04-03T11:03:04.475Z"
   },
   {
    "duration": 5,
    "start_time": "2023-04-03T11:03:04.485Z"
   },
   {
    "duration": 6,
    "start_time": "2023-04-03T11:03:04.492Z"
   },
   {
    "duration": 6,
    "start_time": "2023-04-03T11:03:04.499Z"
   },
   {
    "duration": 6,
    "start_time": "2023-04-03T11:03:04.506Z"
   },
   {
    "duration": 9,
    "start_time": "2023-04-03T11:03:04.513Z"
   },
   {
    "duration": 4,
    "start_time": "2023-04-03T11:03:04.523Z"
   },
   {
    "duration": 8,
    "start_time": "2023-04-03T11:03:04.528Z"
   },
   {
    "duration": 8,
    "start_time": "2023-04-03T11:03:04.537Z"
   },
   {
    "duration": 32,
    "start_time": "2023-04-03T11:03:04.547Z"
   },
   {
    "duration": 5,
    "start_time": "2023-04-03T11:03:04.580Z"
   },
   {
    "duration": 5,
    "start_time": "2023-04-03T11:03:04.586Z"
   },
   {
    "duration": 14,
    "start_time": "2023-04-03T11:03:04.593Z"
   },
   {
    "duration": 21,
    "start_time": "2023-04-03T11:03:04.608Z"
   },
   {
    "duration": 7,
    "start_time": "2023-04-03T11:03:04.632Z"
   },
   {
    "duration": 8,
    "start_time": "2023-04-03T11:03:04.642Z"
   },
   {
    "duration": 26,
    "start_time": "2023-04-03T11:03:04.651Z"
   },
   {
    "duration": 6,
    "start_time": "2023-04-03T11:03:04.679Z"
   },
   {
    "duration": 7,
    "start_time": "2023-04-03T11:03:04.686Z"
   },
   {
    "duration": 6,
    "start_time": "2023-04-03T11:03:04.695Z"
   },
   {
    "duration": 10,
    "start_time": "2023-04-03T11:03:04.703Z"
   },
   {
    "duration": 6,
    "start_time": "2023-04-03T11:03:04.715Z"
   },
   {
    "duration": 6,
    "start_time": "2023-04-03T11:03:04.723Z"
   },
   {
    "duration": 4,
    "start_time": "2023-04-03T11:03:04.731Z"
   },
   {
    "duration": 7,
    "start_time": "2023-04-03T11:03:04.736Z"
   },
   {
    "duration": 5,
    "start_time": "2023-04-03T11:03:04.744Z"
   },
   {
    "duration": 23,
    "start_time": "2023-04-03T11:03:04.750Z"
   },
   {
    "duration": 4,
    "start_time": "2023-04-03T11:03:04.775Z"
   },
   {
    "duration": 9,
    "start_time": "2023-04-03T11:03:04.781Z"
   },
   {
    "duration": 12,
    "start_time": "2023-04-03T11:03:04.792Z"
   },
   {
    "duration": 4,
    "start_time": "2023-04-03T11:03:04.805Z"
   },
   {
    "duration": 5,
    "start_time": "2023-04-03T11:03:04.811Z"
   },
   {
    "duration": 15,
    "start_time": "2023-04-03T11:03:04.818Z"
   },
   {
    "duration": 25,
    "start_time": "2023-04-03T11:03:04.834Z"
   },
   {
    "duration": 36,
    "start_time": "2023-04-03T11:03:04.861Z"
   },
   {
    "duration": 76,
    "start_time": "2023-04-03T11:03:04.898Z"
   },
   {
    "duration": 585,
    "start_time": "2023-04-03T11:03:04.976Z"
   },
   {
    "duration": 8,
    "start_time": "2023-04-03T11:03:10.366Z"
   },
   {
    "duration": 1895,
    "start_time": "2023-04-03T11:04:47.096Z"
   },
   {
    "duration": 4,
    "start_time": "2023-04-03T11:04:48.993Z"
   },
   {
    "duration": 37,
    "start_time": "2023-04-03T11:04:48.998Z"
   },
   {
    "duration": 15,
    "start_time": "2023-04-03T11:04:49.037Z"
   },
   {
    "duration": 8,
    "start_time": "2023-04-03T11:04:49.055Z"
   },
   {
    "duration": 7,
    "start_time": "2023-04-03T11:04:49.065Z"
   },
   {
    "duration": 22,
    "start_time": "2023-04-03T11:04:49.074Z"
   },
   {
    "duration": 15,
    "start_time": "2023-04-03T11:04:49.098Z"
   },
   {
    "duration": 25,
    "start_time": "2023-04-03T11:04:49.115Z"
   },
   {
    "duration": 7,
    "start_time": "2023-04-03T11:04:49.143Z"
   },
   {
    "duration": 11,
    "start_time": "2023-04-03T11:04:49.152Z"
   },
   {
    "duration": 28,
    "start_time": "2023-04-03T11:04:49.165Z"
   },
   {
    "duration": 25,
    "start_time": "2023-04-03T11:04:49.194Z"
   },
   {
    "duration": 13,
    "start_time": "2023-04-03T11:04:49.224Z"
   },
   {
    "duration": 822,
    "start_time": "2023-04-03T11:04:49.239Z"
   },
   {
    "duration": 872,
    "start_time": "2023-04-03T11:04:50.063Z"
   },
   {
    "duration": 3,
    "start_time": "2023-04-03T11:04:50.937Z"
   },
   {
    "duration": 31,
    "start_time": "2023-04-03T11:04:50.941Z"
   },
   {
    "duration": 15,
    "start_time": "2023-04-03T11:04:50.974Z"
   },
   {
    "duration": 21,
    "start_time": "2023-04-03T11:04:50.990Z"
   },
   {
    "duration": 34,
    "start_time": "2023-04-03T11:04:51.013Z"
   },
   {
    "duration": 29,
    "start_time": "2023-04-03T11:04:51.048Z"
   },
   {
    "duration": 22,
    "start_time": "2023-04-03T11:04:51.078Z"
   },
   {
    "duration": 30,
    "start_time": "2023-04-03T11:04:51.102Z"
   },
   {
    "duration": 10,
    "start_time": "2023-04-03T11:04:51.134Z"
   },
   {
    "duration": 23,
    "start_time": "2023-04-03T11:04:51.145Z"
   },
   {
    "duration": 30,
    "start_time": "2023-04-03T11:04:51.170Z"
   },
   {
    "duration": 24,
    "start_time": "2023-04-03T11:04:51.202Z"
   },
   {
    "duration": 31,
    "start_time": "2023-04-03T11:04:51.227Z"
   },
   {
    "duration": 23,
    "start_time": "2023-04-03T11:04:51.259Z"
   },
   {
    "duration": 40,
    "start_time": "2023-04-03T11:04:51.284Z"
   },
   {
    "duration": 14,
    "start_time": "2023-04-03T11:04:51.326Z"
   },
   {
    "duration": 5,
    "start_time": "2023-04-03T11:04:51.342Z"
   },
   {
    "duration": 12,
    "start_time": "2023-04-03T11:04:51.348Z"
   },
   {
    "duration": 54,
    "start_time": "2023-04-03T11:04:51.362Z"
   },
   {
    "duration": 17,
    "start_time": "2023-04-03T11:04:51.418Z"
   },
   {
    "duration": 22,
    "start_time": "2023-04-03T11:04:51.437Z"
   },
   {
    "duration": 27,
    "start_time": "2023-04-03T11:04:51.461Z"
   },
   {
    "duration": 43,
    "start_time": "2023-04-03T11:04:51.490Z"
   },
   {
    "duration": 4,
    "start_time": "2023-04-03T11:04:51.535Z"
   },
   {
    "duration": 4,
    "start_time": "2023-04-03T11:04:51.543Z"
   },
   {
    "duration": 16,
    "start_time": "2023-04-03T11:04:51.548Z"
   },
   {
    "duration": 19,
    "start_time": "2023-04-03T11:04:51.565Z"
   },
   {
    "duration": 21,
    "start_time": "2023-04-03T11:04:51.585Z"
   },
   {
    "duration": 34,
    "start_time": "2023-04-03T11:04:51.607Z"
   },
   {
    "duration": 20,
    "start_time": "2023-04-03T11:04:51.643Z"
   },
   {
    "duration": 13,
    "start_time": "2023-04-03T11:04:51.665Z"
   },
   {
    "duration": 12,
    "start_time": "2023-04-03T11:04:51.680Z"
   },
   {
    "duration": 17,
    "start_time": "2023-04-03T11:04:51.693Z"
   },
   {
    "duration": 30,
    "start_time": "2023-04-03T11:04:51.713Z"
   },
   {
    "duration": 10,
    "start_time": "2023-04-03T11:04:51.745Z"
   },
   {
    "duration": 12,
    "start_time": "2023-04-03T11:04:51.757Z"
   },
   {
    "duration": 9,
    "start_time": "2023-04-03T11:04:51.771Z"
   },
   {
    "duration": 17,
    "start_time": "2023-04-03T11:04:51.782Z"
   },
   {
    "duration": 35,
    "start_time": "2023-04-03T11:04:51.801Z"
   },
   {
    "duration": 11,
    "start_time": "2023-04-03T11:04:51.838Z"
   },
   {
    "duration": 15,
    "start_time": "2023-04-03T11:04:51.850Z"
   },
   {
    "duration": 11,
    "start_time": "2023-04-03T11:04:51.866Z"
   },
   {
    "duration": 18,
    "start_time": "2023-04-03T11:04:51.878Z"
   },
   {
    "duration": 8,
    "start_time": "2023-04-03T11:04:52.733Z"
   },
   {
    "duration": 4,
    "start_time": "2023-04-03T11:04:53.421Z"
   },
   {
    "duration": 528,
    "start_time": "2023-04-03T11:04:54.139Z"
   },
   {
    "duration": 7,
    "start_time": "2023-04-03T11:04:56.028Z"
   },
   {
    "duration": 1706,
    "start_time": "2023-04-03T11:05:40.808Z"
   },
   {
    "duration": 3,
    "start_time": "2023-04-03T11:05:42.516Z"
   },
   {
    "duration": 31,
    "start_time": "2023-04-03T11:05:42.521Z"
   },
   {
    "duration": 12,
    "start_time": "2023-04-03T11:05:42.553Z"
   },
   {
    "duration": 3,
    "start_time": "2023-04-03T11:05:42.567Z"
   },
   {
    "duration": 7,
    "start_time": "2023-04-03T11:05:42.572Z"
   },
   {
    "duration": 11,
    "start_time": "2023-04-03T11:05:42.580Z"
   },
   {
    "duration": 7,
    "start_time": "2023-04-03T11:05:42.592Z"
   },
   {
    "duration": 23,
    "start_time": "2023-04-03T11:05:42.600Z"
   },
   {
    "duration": 5,
    "start_time": "2023-04-03T11:05:42.625Z"
   },
   {
    "duration": 8,
    "start_time": "2023-04-03T11:05:42.631Z"
   },
   {
    "duration": 38,
    "start_time": "2023-04-03T11:05:42.640Z"
   },
   {
    "duration": 9,
    "start_time": "2023-04-03T11:05:42.679Z"
   },
   {
    "duration": 5,
    "start_time": "2023-04-03T11:05:42.691Z"
   },
   {
    "duration": 755,
    "start_time": "2023-04-03T11:05:42.698Z"
   },
   {
    "duration": 833,
    "start_time": "2023-04-03T11:05:43.454Z"
   },
   {
    "duration": 4,
    "start_time": "2023-04-03T11:05:44.288Z"
   },
   {
    "duration": 24,
    "start_time": "2023-04-03T11:05:44.293Z"
   },
   {
    "duration": 18,
    "start_time": "2023-04-03T11:05:44.319Z"
   },
   {
    "duration": 15,
    "start_time": "2023-04-03T11:05:44.338Z"
   },
   {
    "duration": 17,
    "start_time": "2023-04-03T11:05:44.354Z"
   },
   {
    "duration": 13,
    "start_time": "2023-04-03T11:05:44.373Z"
   },
   {
    "duration": 14,
    "start_time": "2023-04-03T11:05:44.388Z"
   },
   {
    "duration": 32,
    "start_time": "2023-04-03T11:05:44.404Z"
   },
   {
    "duration": 25,
    "start_time": "2023-04-03T11:05:44.438Z"
   },
   {
    "duration": 11,
    "start_time": "2023-04-03T11:05:44.465Z"
   },
   {
    "duration": 15,
    "start_time": "2023-04-03T11:05:44.478Z"
   },
   {
    "duration": 18,
    "start_time": "2023-04-03T11:05:44.494Z"
   },
   {
    "duration": 17,
    "start_time": "2023-04-03T11:05:44.514Z"
   },
   {
    "duration": 21,
    "start_time": "2023-04-03T11:05:44.533Z"
   },
   {
    "duration": 25,
    "start_time": "2023-04-03T11:05:44.556Z"
   },
   {
    "duration": 14,
    "start_time": "2023-04-03T11:05:44.583Z"
   },
   {
    "duration": 11,
    "start_time": "2023-04-03T11:05:44.599Z"
   },
   {
    "duration": 25,
    "start_time": "2023-04-03T11:05:44.611Z"
   },
   {
    "duration": 21,
    "start_time": "2023-04-03T11:05:44.638Z"
   },
   {
    "duration": 5,
    "start_time": "2023-04-03T11:05:44.660Z"
   },
   {
    "duration": 15,
    "start_time": "2023-04-03T11:05:44.666Z"
   },
   {
    "duration": 13,
    "start_time": "2023-04-03T11:05:44.682Z"
   },
   {
    "duration": 22,
    "start_time": "2023-04-03T11:05:44.696Z"
   },
   {
    "duration": 19,
    "start_time": "2023-04-03T11:05:44.719Z"
   },
   {
    "duration": 6,
    "start_time": "2023-04-03T11:05:44.742Z"
   },
   {
    "duration": 27,
    "start_time": "2023-04-03T11:05:44.750Z"
   },
   {
    "duration": 33,
    "start_time": "2023-04-03T11:05:44.779Z"
   },
   {
    "duration": 10,
    "start_time": "2023-04-03T11:05:44.814Z"
   },
   {
    "duration": 36,
    "start_time": "2023-04-03T11:05:44.826Z"
   },
   {
    "duration": 29,
    "start_time": "2023-04-03T11:05:44.864Z"
   },
   {
    "duration": 9,
    "start_time": "2023-04-03T11:05:44.895Z"
   },
   {
    "duration": 23,
    "start_time": "2023-04-03T11:05:44.906Z"
   },
   {
    "duration": 8,
    "start_time": "2023-04-03T11:05:44.931Z"
   },
   {
    "duration": 15,
    "start_time": "2023-04-03T11:05:44.941Z"
   },
   {
    "duration": 7,
    "start_time": "2023-04-03T11:05:44.958Z"
   },
   {
    "duration": 6,
    "start_time": "2023-04-03T11:05:44.967Z"
   },
   {
    "duration": 13,
    "start_time": "2023-04-03T11:05:44.975Z"
   },
   {
    "duration": 11,
    "start_time": "2023-04-03T11:05:44.989Z"
   },
   {
    "duration": 56,
    "start_time": "2023-04-03T11:05:45.001Z"
   },
   {
    "duration": 31,
    "start_time": "2023-04-03T11:05:45.058Z"
   },
   {
    "duration": 47,
    "start_time": "2023-04-03T11:05:45.091Z"
   },
   {
    "duration": 22,
    "start_time": "2023-04-03T11:05:45.140Z"
   },
   {
    "duration": 17,
    "start_time": "2023-04-03T11:05:45.164Z"
   },
   {
    "duration": 16,
    "start_time": "2023-04-03T11:05:45.183Z"
   },
   {
    "duration": 11,
    "start_time": "2023-04-03T11:05:45.201Z"
   },
   {
    "duration": 651,
    "start_time": "2023-04-03T11:05:45.214Z"
   },
   {
    "duration": 8,
    "start_time": "2023-04-03T11:05:45.872Z"
   },
   {
    "duration": 678497,
    "start_time": "2023-04-03T11:05:45.881Z"
   },
   {
    "duration": 4,
    "start_time": "2023-04-03T11:17:04.380Z"
   },
   {
    "duration": 686,
    "start_time": "2023-04-03T11:17:04.386Z"
   },
   {
    "duration": 2,
    "start_time": "2023-04-03T11:18:40.108Z"
   },
   {
    "duration": 3,
    "start_time": "2023-04-03T11:18:48.617Z"
   },
   {
    "duration": 3,
    "start_time": "2023-04-03T11:18:54.830Z"
   },
   {
    "duration": 6,
    "start_time": "2023-04-03T11:19:02.618Z"
   },
   {
    "duration": 6,
    "start_time": "2023-04-03T11:19:07.733Z"
   },
   {
    "duration": 4,
    "start_time": "2023-04-03T11:19:12.608Z"
   },
   {
    "duration": 1864,
    "start_time": "2023-04-03T11:19:40.808Z"
   },
   {
    "duration": 4,
    "start_time": "2023-04-03T11:19:42.674Z"
   },
   {
    "duration": 32,
    "start_time": "2023-04-03T11:19:42.679Z"
   },
   {
    "duration": 13,
    "start_time": "2023-04-03T11:19:42.713Z"
   },
   {
    "duration": 5,
    "start_time": "2023-04-03T11:19:42.728Z"
   },
   {
    "duration": 9,
    "start_time": "2023-04-03T11:19:42.735Z"
   },
   {
    "duration": 13,
    "start_time": "2023-04-03T11:19:42.745Z"
   },
   {
    "duration": 16,
    "start_time": "2023-04-03T11:19:42.760Z"
   },
   {
    "duration": 23,
    "start_time": "2023-04-03T11:19:42.778Z"
   },
   {
    "duration": 6,
    "start_time": "2023-04-03T11:19:42.802Z"
   },
   {
    "duration": 5,
    "start_time": "2023-04-03T11:19:42.810Z"
   },
   {
    "duration": 10,
    "start_time": "2023-04-03T11:19:42.817Z"
   },
   {
    "duration": 6,
    "start_time": "2023-04-03T11:19:42.828Z"
   },
   {
    "duration": 6,
    "start_time": "2023-04-03T11:19:42.873Z"
   },
   {
    "duration": 923,
    "start_time": "2023-04-03T11:19:42.880Z"
   },
   {
    "duration": 843,
    "start_time": "2023-04-03T11:19:43.804Z"
   },
   {
    "duration": 4,
    "start_time": "2023-04-03T11:19:44.648Z"
   },
   {
    "duration": 6,
    "start_time": "2023-04-03T11:19:44.654Z"
   },
   {
    "duration": 6,
    "start_time": "2023-04-03T11:19:44.662Z"
   },
   {
    "duration": 7,
    "start_time": "2023-04-03T11:19:44.669Z"
   },
   {
    "duration": 6,
    "start_time": "2023-04-03T11:19:44.678Z"
   },
   {
    "duration": 15,
    "start_time": "2023-04-03T11:19:44.685Z"
   },
   {
    "duration": 9,
    "start_time": "2023-04-03T11:19:44.702Z"
   },
   {
    "duration": 16,
    "start_time": "2023-04-03T11:19:44.713Z"
   },
   {
    "duration": 8,
    "start_time": "2023-04-03T11:19:44.730Z"
   },
   {
    "duration": 30,
    "start_time": "2023-04-03T11:19:44.739Z"
   },
   {
    "duration": 12,
    "start_time": "2023-04-03T11:19:44.770Z"
   },
   {
    "duration": 7,
    "start_time": "2023-04-03T11:19:44.784Z"
   },
   {
    "duration": 6,
    "start_time": "2023-04-03T11:19:44.792Z"
   },
   {
    "duration": 12,
    "start_time": "2023-04-03T11:19:44.800Z"
   },
   {
    "duration": 11,
    "start_time": "2023-04-03T11:19:44.814Z"
   },
   {
    "duration": 7,
    "start_time": "2023-04-03T11:19:44.827Z"
   },
   {
    "duration": 9,
    "start_time": "2023-04-03T11:19:44.835Z"
   },
   {
    "duration": 12,
    "start_time": "2023-04-03T11:19:44.845Z"
   },
   {
    "duration": 24,
    "start_time": "2023-04-03T11:19:44.859Z"
   },
   {
    "duration": 5,
    "start_time": "2023-04-03T11:19:44.884Z"
   },
   {
    "duration": 5,
    "start_time": "2023-04-03T11:19:44.891Z"
   },
   {
    "duration": 21,
    "start_time": "2023-04-03T11:19:44.897Z"
   },
   {
    "duration": 20,
    "start_time": "2023-04-03T11:19:44.920Z"
   },
   {
    "duration": 18,
    "start_time": "2023-04-03T11:19:44.942Z"
   },
   {
    "duration": 7,
    "start_time": "2023-04-03T11:19:44.975Z"
   },
   {
    "duration": 21,
    "start_time": "2023-04-03T11:19:44.984Z"
   },
   {
    "duration": 59,
    "start_time": "2023-04-03T11:19:45.007Z"
   },
   {
    "duration": 23,
    "start_time": "2023-04-03T11:19:45.068Z"
   },
   {
    "duration": 25,
    "start_time": "2023-04-03T11:19:45.093Z"
   },
   {
    "duration": 44,
    "start_time": "2023-04-03T11:19:45.120Z"
   },
   {
    "duration": 12,
    "start_time": "2023-04-03T11:19:45.166Z"
   },
   {
    "duration": 20,
    "start_time": "2023-04-03T11:19:45.180Z"
   },
   {
    "duration": 17,
    "start_time": "2023-04-03T11:19:45.202Z"
   },
   {
    "duration": 9,
    "start_time": "2023-04-03T11:19:45.221Z"
   },
   {
    "duration": 13,
    "start_time": "2023-04-03T11:19:45.231Z"
   },
   {
    "duration": 4,
    "start_time": "2023-04-03T11:19:45.246Z"
   },
   {
    "duration": 27,
    "start_time": "2023-04-03T11:19:45.251Z"
   },
   {
    "duration": 18,
    "start_time": "2023-04-03T11:19:45.280Z"
   },
   {
    "duration": 21,
    "start_time": "2023-04-03T11:19:45.300Z"
   },
   {
    "duration": 9,
    "start_time": "2023-04-03T11:19:45.323Z"
   },
   {
    "duration": 8,
    "start_time": "2023-04-03T11:19:45.334Z"
   },
   {
    "duration": 4,
    "start_time": "2023-04-03T11:19:45.344Z"
   },
   {
    "duration": 22,
    "start_time": "2023-04-03T11:19:45.350Z"
   },
   {
    "duration": 12,
    "start_time": "2023-04-03T11:19:45.374Z"
   },
   {
    "duration": 10,
    "start_time": "2023-04-03T11:19:45.388Z"
   },
   {
    "duration": 623,
    "start_time": "2023-04-03T11:19:45.400Z"
   },
   {
    "duration": 3,
    "start_time": "2023-04-03T11:19:46.025Z"
   },
   {
    "duration": 17,
    "start_time": "2023-04-03T11:19:46.030Z"
   },
   {
    "duration": 23,
    "start_time": "2023-04-03T11:19:46.049Z"
   },
   {
    "duration": 4,
    "start_time": "2023-04-03T11:19:46.074Z"
   },
   {
    "duration": 658,
    "start_time": "2023-04-03T11:20:05.383Z"
   },
   {
    "duration": 598,
    "start_time": "2023-04-03T11:20:09.271Z"
   },
   {
    "duration": 134,
    "start_time": "2023-04-03T11:20:21.371Z"
   },
   {
    "duration": 2,
    "start_time": "2023-04-03T11:20:23.562Z"
   },
   {
    "duration": 4,
    "start_time": "2023-04-03T11:20:23.934Z"
   },
   {
    "duration": 23,
    "start_time": "2023-04-03T11:20:24.409Z"
   },
   {
    "duration": 4,
    "start_time": "2023-04-03T11:20:25.233Z"
   },
   {
    "duration": 593,
    "start_time": "2023-04-03T11:20:26.108Z"
   },
   {
    "duration": 4,
    "start_time": "2023-04-03T11:20:58.634Z"
   },
   {
    "duration": 4,
    "start_time": "2023-04-03T11:20:59.259Z"
   },
   {
    "duration": 14,
    "start_time": "2023-04-03T11:20:59.773Z"
   },
   {
    "duration": 4,
    "start_time": "2023-04-03T11:21:00.272Z"
   },
   {
    "duration": 666,
    "start_time": "2023-04-03T11:21:01.284Z"
   },
   {
    "duration": 3,
    "start_time": "2023-04-03T11:21:11.973Z"
   },
   {
    "duration": 14,
    "start_time": "2023-04-03T11:22:36.462Z"
   },
   {
    "duration": 13,
    "start_time": "2023-04-03T11:22:48.175Z"
   },
   {
    "duration": 13,
    "start_time": "2023-04-03T11:22:55.628Z"
   },
   {
    "duration": 64,
    "start_time": "2023-04-03T11:23:11.214Z"
   },
   {
    "duration": 48,
    "start_time": "2023-04-03T11:23:14.427Z"
   },
   {
    "duration": 41,
    "start_time": "2023-04-03T11:23:21.273Z"
   },
   {
    "duration": 3,
    "start_time": "2023-04-03T11:23:36.703Z"
   },
   {
    "duration": 10,
    "start_time": "2023-04-03T11:23:58.627Z"
   },
   {
    "duration": 9,
    "start_time": "2023-04-03T11:24:00.127Z"
   },
   {
    "duration": 21,
    "start_time": "2023-04-03T11:24:18.340Z"
   },
   {
    "duration": 9,
    "start_time": "2023-04-03T11:24:24.940Z"
   },
   {
    "duration": 3,
    "start_time": "2023-04-03T11:26:24.140Z"
   },
   {
    "duration": 1906,
    "start_time": "2023-04-03T11:26:59.766Z"
   },
   {
    "duration": 7,
    "start_time": "2023-04-03T11:27:01.674Z"
   },
   {
    "duration": 72,
    "start_time": "2023-04-03T11:27:01.682Z"
   },
   {
    "duration": 41,
    "start_time": "2023-04-03T11:27:01.756Z"
   },
   {
    "duration": 61,
    "start_time": "2023-04-03T11:27:01.799Z"
   },
   {
    "duration": 47,
    "start_time": "2023-04-03T11:27:01.862Z"
   },
   {
    "duration": 55,
    "start_time": "2023-04-03T11:27:01.911Z"
   },
   {
    "duration": 81,
    "start_time": "2023-04-03T11:27:01.968Z"
   },
   {
    "duration": 68,
    "start_time": "2023-04-03T11:27:02.051Z"
   },
   {
    "duration": 44,
    "start_time": "2023-04-03T11:27:02.122Z"
   },
   {
    "duration": 60,
    "start_time": "2023-04-03T11:27:02.167Z"
   },
   {
    "duration": 46,
    "start_time": "2023-04-03T11:27:02.229Z"
   },
   {
    "duration": 71,
    "start_time": "2023-04-03T11:27:02.277Z"
   },
   {
    "duration": 88,
    "start_time": "2023-04-03T11:27:02.351Z"
   },
   {
    "duration": 937,
    "start_time": "2023-04-03T11:27:02.441Z"
   },
   {
    "duration": 883,
    "start_time": "2023-04-03T11:27:03.380Z"
   },
   {
    "duration": 4,
    "start_time": "2023-04-03T11:27:04.265Z"
   },
   {
    "duration": 15,
    "start_time": "2023-04-03T11:27:04.271Z"
   },
   {
    "duration": 19,
    "start_time": "2023-04-03T11:27:04.288Z"
   },
   {
    "duration": 23,
    "start_time": "2023-04-03T11:27:04.309Z"
   },
   {
    "duration": 26,
    "start_time": "2023-04-03T11:27:04.334Z"
   },
   {
    "duration": 20,
    "start_time": "2023-04-03T11:27:04.361Z"
   },
   {
    "duration": 27,
    "start_time": "2023-04-03T11:27:04.383Z"
   },
   {
    "duration": 29,
    "start_time": "2023-04-03T11:27:04.413Z"
   },
   {
    "duration": 17,
    "start_time": "2023-04-03T11:27:04.444Z"
   },
   {
    "duration": 18,
    "start_time": "2023-04-03T11:27:04.464Z"
   },
   {
    "duration": 8,
    "start_time": "2023-04-03T11:27:04.484Z"
   },
   {
    "duration": 10,
    "start_time": "2023-04-03T11:27:04.494Z"
   },
   {
    "duration": 4,
    "start_time": "2023-04-03T11:27:04.506Z"
   },
   {
    "duration": 8,
    "start_time": "2023-04-03T11:27:04.512Z"
   },
   {
    "duration": 18,
    "start_time": "2023-04-03T11:27:04.521Z"
   },
   {
    "duration": 6,
    "start_time": "2023-04-03T11:27:04.540Z"
   },
   {
    "duration": 6,
    "start_time": "2023-04-03T11:27:04.547Z"
   },
   {
    "duration": 12,
    "start_time": "2023-04-03T11:27:04.572Z"
   },
   {
    "duration": 27,
    "start_time": "2023-04-03T11:27:04.586Z"
   },
   {
    "duration": 8,
    "start_time": "2023-04-03T11:27:04.615Z"
   },
   {
    "duration": 9,
    "start_time": "2023-04-03T11:27:04.624Z"
   },
   {
    "duration": 17,
    "start_time": "2023-04-03T11:27:04.635Z"
   },
   {
    "duration": 24,
    "start_time": "2023-04-03T11:27:04.654Z"
   },
   {
    "duration": 9,
    "start_time": "2023-04-03T11:27:04.680Z"
   },
   {
    "duration": 3,
    "start_time": "2023-04-03T11:27:04.694Z"
   },
   {
    "duration": 8,
    "start_time": "2023-04-03T11:27:04.699Z"
   },
   {
    "duration": 8,
    "start_time": "2023-04-03T11:27:04.708Z"
   },
   {
    "duration": 8,
    "start_time": "2023-04-03T11:27:04.717Z"
   },
   {
    "duration": 9,
    "start_time": "2023-04-03T11:27:04.727Z"
   },
   {
    "duration": 43,
    "start_time": "2023-04-03T11:27:04.737Z"
   },
   {
    "duration": 10,
    "start_time": "2023-04-03T11:27:04.782Z"
   },
   {
    "duration": 18,
    "start_time": "2023-04-03T11:27:04.793Z"
   },
   {
    "duration": 9,
    "start_time": "2023-04-03T11:27:04.812Z"
   },
   {
    "duration": 5,
    "start_time": "2023-04-03T11:27:04.823Z"
   },
   {
    "duration": 8,
    "start_time": "2023-04-03T11:27:04.830Z"
   },
   {
    "duration": 16,
    "start_time": "2023-04-03T11:27:04.840Z"
   },
   {
    "duration": 10,
    "start_time": "2023-04-03T11:27:04.858Z"
   },
   {
    "duration": 19,
    "start_time": "2023-04-03T11:27:04.870Z"
   },
   {
    "duration": 9,
    "start_time": "2023-04-03T11:27:04.891Z"
   },
   {
    "duration": 13,
    "start_time": "2023-04-03T11:27:04.902Z"
   },
   {
    "duration": 11,
    "start_time": "2023-04-03T11:27:04.917Z"
   },
   {
    "duration": 12,
    "start_time": "2023-04-03T11:27:04.930Z"
   },
   {
    "duration": 9,
    "start_time": "2023-04-03T11:27:04.944Z"
   },
   {
    "duration": 13,
    "start_time": "2023-04-03T11:27:04.955Z"
   },
   {
    "duration": 15,
    "start_time": "2023-04-03T11:27:04.971Z"
   },
   {
    "duration": 13,
    "start_time": "2023-04-03T11:27:04.988Z"
   },
   {
    "duration": 628,
    "start_time": "2023-04-03T11:27:08.062Z"
   },
   {
    "duration": 2,
    "start_time": "2023-04-03T11:27:11.565Z"
   },
   {
    "duration": 4,
    "start_time": "2023-04-03T11:27:12.232Z"
   },
   {
    "duration": 5,
    "start_time": "2023-04-03T11:27:12.664Z"
   },
   {
    "duration": 8,
    "start_time": "2023-04-03T11:27:22.580Z"
   },
   {
    "duration": 11,
    "start_time": "2023-04-03T11:28:09.865Z"
   },
   {
    "duration": 207,
    "start_time": "2023-04-03T11:28:12.093Z"
   },
   {
    "duration": 1919,
    "start_time": "2023-04-03T11:28:47.889Z"
   },
   {
    "duration": 5,
    "start_time": "2023-04-03T11:28:49.811Z"
   },
   {
    "duration": 38,
    "start_time": "2023-04-03T11:28:49.817Z"
   },
   {
    "duration": 12,
    "start_time": "2023-04-03T11:28:49.858Z"
   },
   {
    "duration": 5,
    "start_time": "2023-04-03T11:28:49.872Z"
   },
   {
    "duration": 10,
    "start_time": "2023-04-03T11:28:49.879Z"
   },
   {
    "duration": 35,
    "start_time": "2023-04-03T11:28:49.890Z"
   },
   {
    "duration": 20,
    "start_time": "2023-04-03T11:28:49.928Z"
   },
   {
    "duration": 52,
    "start_time": "2023-04-03T11:28:49.950Z"
   },
   {
    "duration": 22,
    "start_time": "2023-04-03T11:28:50.007Z"
   },
   {
    "duration": 29,
    "start_time": "2023-04-03T11:28:50.031Z"
   },
   {
    "duration": 17,
    "start_time": "2023-04-03T11:28:50.062Z"
   },
   {
    "duration": 23,
    "start_time": "2023-04-03T11:28:50.081Z"
   },
   {
    "duration": 24,
    "start_time": "2023-04-03T11:28:50.106Z"
   },
   {
    "duration": 1070,
    "start_time": "2023-04-03T11:28:50.132Z"
   },
   {
    "duration": 963,
    "start_time": "2023-04-03T11:28:51.204Z"
   },
   {
    "duration": 4,
    "start_time": "2023-04-03T11:28:52.169Z"
   },
   {
    "duration": 15,
    "start_time": "2023-04-03T11:28:52.174Z"
   },
   {
    "duration": 15,
    "start_time": "2023-04-03T11:28:52.191Z"
   },
   {
    "duration": 11,
    "start_time": "2023-04-03T11:28:52.207Z"
   },
   {
    "duration": 13,
    "start_time": "2023-04-03T11:28:52.221Z"
   },
   {
    "duration": 14,
    "start_time": "2023-04-03T11:28:52.238Z"
   },
   {
    "duration": 7,
    "start_time": "2023-04-03T11:28:52.255Z"
   },
   {
    "duration": 36,
    "start_time": "2023-04-03T11:28:52.264Z"
   },
   {
    "duration": 16,
    "start_time": "2023-04-03T11:28:52.302Z"
   },
   {
    "duration": 26,
    "start_time": "2023-04-03T11:28:52.319Z"
   },
   {
    "duration": 9,
    "start_time": "2023-04-03T11:28:52.347Z"
   },
   {
    "duration": 6,
    "start_time": "2023-04-03T11:28:52.360Z"
   },
   {
    "duration": 28,
    "start_time": "2023-04-03T11:28:52.368Z"
   },
   {
    "duration": 11,
    "start_time": "2023-04-03T11:28:52.398Z"
   },
   {
    "duration": 16,
    "start_time": "2023-04-03T11:28:52.411Z"
   },
   {
    "duration": 33,
    "start_time": "2023-04-03T11:28:52.428Z"
   },
   {
    "duration": 40,
    "start_time": "2023-04-03T11:28:52.463Z"
   },
   {
    "duration": 37,
    "start_time": "2023-04-03T11:28:52.506Z"
   },
   {
    "duration": 252,
    "start_time": "2023-04-03T11:28:52.544Z"
   },
   {
    "duration": 8,
    "start_time": "2023-04-03T11:28:52.798Z"
   },
   {
    "duration": 13,
    "start_time": "2023-04-03T11:28:52.808Z"
   },
   {
    "duration": 23,
    "start_time": "2023-04-03T11:28:52.823Z"
   },
   {
    "duration": 44,
    "start_time": "2023-04-03T11:28:52.848Z"
   },
   {
    "duration": 10,
    "start_time": "2023-04-03T11:28:52.894Z"
   },
   {
    "duration": 9,
    "start_time": "2023-04-03T11:28:52.906Z"
   },
   {
    "duration": 37,
    "start_time": "2023-04-03T11:28:52.917Z"
   },
   {
    "duration": 25,
    "start_time": "2023-04-03T11:28:52.956Z"
   },
   {
    "duration": 41,
    "start_time": "2023-04-03T11:28:52.983Z"
   },
   {
    "duration": 26,
    "start_time": "2023-04-03T11:28:53.026Z"
   },
   {
    "duration": 28,
    "start_time": "2023-04-03T11:28:53.065Z"
   },
   {
    "duration": 13,
    "start_time": "2023-04-03T11:28:53.095Z"
   },
   {
    "duration": 17,
    "start_time": "2023-04-03T11:28:53.111Z"
   },
   {
    "duration": 17,
    "start_time": "2023-04-03T11:28:53.130Z"
   },
   {
    "duration": 13,
    "start_time": "2023-04-03T11:28:53.150Z"
   },
   {
    "duration": 13,
    "start_time": "2023-04-03T11:28:53.165Z"
   },
   {
    "duration": 11,
    "start_time": "2023-04-03T11:28:53.180Z"
   },
   {
    "duration": 23,
    "start_time": "2023-04-03T11:28:53.193Z"
   },
   {
    "duration": 35,
    "start_time": "2023-04-03T11:28:53.218Z"
   },
   {
    "duration": 10,
    "start_time": "2023-04-03T11:28:53.258Z"
   },
   {
    "duration": 13,
    "start_time": "2023-04-03T11:28:53.270Z"
   },
   {
    "duration": 15,
    "start_time": "2023-04-03T11:28:53.286Z"
   },
   {
    "duration": 25,
    "start_time": "2023-04-03T11:28:53.303Z"
   },
   {
    "duration": 13,
    "start_time": "2023-04-03T11:28:53.331Z"
   },
   {
    "duration": 17,
    "start_time": "2023-04-03T11:28:53.346Z"
   },
   {
    "duration": 18,
    "start_time": "2023-04-03T11:28:53.365Z"
   },
   {
    "duration": 15,
    "start_time": "2023-04-03T11:28:53.385Z"
   },
   {
    "duration": 799,
    "start_time": "2023-04-03T11:28:53.402Z"
   },
   {
    "duration": 3,
    "start_time": "2023-04-03T11:28:54.203Z"
   },
   {
    "duration": 176,
    "start_time": "2023-04-03T11:28:54.207Z"
   },
   {
    "duration": 22,
    "start_time": "2023-04-03T11:28:54.385Z"
   },
   {
    "duration": 19,
    "start_time": "2023-04-03T11:28:54.412Z"
   },
   {
    "duration": 43,
    "start_time": "2023-04-03T11:28:54.433Z"
   },
   {
    "duration": 245,
    "start_time": "2023-04-03T11:28:54.482Z"
   },
   {
    "duration": 4,
    "start_time": "2023-04-03T11:29:36.849Z"
   },
   {
    "duration": 386335,
    "start_time": "2023-04-03T11:29:37.464Z"
   },
   {
    "duration": 0,
    "start_time": "2023-04-03T11:36:03.801Z"
   },
   {
    "duration": 0,
    "start_time": "2023-04-03T11:36:03.802Z"
   },
   {
    "duration": 1045965,
    "start_time": "2023-04-03T11:36:38.937Z"
   },
   {
    "duration": 8,
    "start_time": "2023-04-03T11:54:04.904Z"
   },
   {
    "duration": 615,
    "start_time": "2023-04-03T11:54:04.914Z"
   },
   {
    "duration": 24062,
    "start_time": "2023-04-03T11:54:30.560Z"
   },
   {
    "duration": 12,
    "start_time": "2023-04-03T11:55:44.914Z"
   },
   {
    "duration": 42,
    "start_time": "2023-04-03T11:55:49.093Z"
   },
   {
    "duration": 10,
    "start_time": "2023-04-03T11:56:04.130Z"
   },
   {
    "duration": 7,
    "start_time": "2023-04-03T11:56:06.427Z"
   },
   {
    "duration": 40,
    "start_time": "2023-04-03T11:56:08.827Z"
   },
   {
    "duration": 8,
    "start_time": "2023-04-03T11:56:41.717Z"
   },
   {
    "duration": 3,
    "start_time": "2023-04-03T11:56:42.489Z"
   },
   {
    "duration": 52,
    "start_time": "2023-04-03T11:56:43.190Z"
   },
   {
    "duration": 8,
    "start_time": "2023-04-03T11:56:50.605Z"
   },
   {
    "duration": 3,
    "start_time": "2023-04-03T11:56:51.640Z"
   },
   {
    "duration": 38,
    "start_time": "2023-04-03T11:56:52.318Z"
   },
   {
    "duration": 7,
    "start_time": "2023-04-03T11:57:01.854Z"
   },
   {
    "duration": 3,
    "start_time": "2023-04-03T11:57:02.527Z"
   },
   {
    "duration": 303,
    "start_time": "2023-04-03T11:57:03.103Z"
   },
   {
    "duration": 276,
    "start_time": "2023-04-03T11:57:45.691Z"
   },
   {
    "duration": 10,
    "start_time": "2023-04-03T11:57:54.907Z"
   },
   {
    "duration": 9,
    "start_time": "2023-04-03T11:58:16.320Z"
   },
   {
    "duration": 2,
    "start_time": "2023-04-03T11:58:17.132Z"
   },
   {
    "duration": 166,
    "start_time": "2023-04-03T11:58:17.943Z"
   },
   {
    "duration": 8,
    "start_time": "2023-04-03T11:58:24.256Z"
   },
   {
    "duration": 3,
    "start_time": "2023-04-03T11:58:29.595Z"
   },
   {
    "duration": 233,
    "start_time": "2023-04-03T11:58:30.569Z"
   },
   {
    "duration": 11,
    "start_time": "2023-04-03T11:58:32.885Z"
   },
   {
    "duration": 85,
    "start_time": "2023-04-03T12:01:08.901Z"
   },
   {
    "duration": 3,
    "start_time": "2023-04-03T12:01:09.399Z"
   },
   {
    "duration": 8,
    "start_time": "2023-04-03T12:01:14.290Z"
   },
   {
    "duration": 3,
    "start_time": "2023-04-03T12:01:16.412Z"
   },
   {
    "duration": 285,
    "start_time": "2023-04-03T12:01:17.092Z"
   },
   {
    "duration": 9,
    "start_time": "2023-04-03T12:01:19.186Z"
   },
   {
    "duration": 62,
    "start_time": "2023-04-03T12:01:29.892Z"
   },
   {
    "duration": 12,
    "start_time": "2023-04-03T12:01:35.714Z"
   },
   {
    "duration": 3,
    "start_time": "2023-04-03T12:01:36.336Z"
   },
   {
    "duration": 201,
    "start_time": "2023-04-03T12:01:36.801Z"
   },
   {
    "duration": 10,
    "start_time": "2023-04-03T12:01:37.884Z"
   },
   {
    "duration": 4,
    "start_time": "2023-04-03T12:01:59.591Z"
   },
   {
    "duration": 372,
    "start_time": "2023-04-03T12:02:00.113Z"
   },
   {
    "duration": 8,
    "start_time": "2023-04-03T12:02:01.151Z"
   },
   {
    "duration": 67,
    "start_time": "2023-04-03T12:02:51.228Z"
   },
   {
    "duration": 25199,
    "start_time": "2023-04-03T12:02:56.391Z"
   },
   {
    "duration": 18,
    "start_time": "2023-04-03T12:03:25.667Z"
   },
   {
    "duration": 3,
    "start_time": "2023-04-03T12:04:00.019Z"
   },
   {
    "duration": 1283,
    "start_time": "2023-04-03T12:04:08.706Z"
   },
   {
    "duration": 7,
    "start_time": "2023-04-03T12:04:09.991Z"
   },
   {
    "duration": 691,
    "start_time": "2023-04-03T12:04:13.019Z"
   },
   {
    "duration": 3,
    "start_time": "2023-04-03T12:04:16.308Z"
   },
   {
    "duration": 5,
    "start_time": "2023-04-03T12:04:16.784Z"
   },
   {
    "duration": 2554,
    "start_time": "2023-04-03T12:04:17.642Z"
   },
   {
    "duration": 85,
    "start_time": "2023-04-03T12:04:20.198Z"
   },
   {
    "duration": 2,
    "start_time": "2023-04-03T12:04:34.620Z"
   },
   {
    "duration": 3,
    "start_time": "2023-04-03T12:04:35.006Z"
   },
   {
    "duration": 2928,
    "start_time": "2023-04-03T12:04:35.369Z"
   },
   {
    "duration": 7,
    "start_time": "2023-04-03T12:04:38.299Z"
   },
   {
    "duration": 3,
    "start_time": "2023-04-03T12:04:41.385Z"
   },
   {
    "duration": 13,
    "start_time": "2023-04-03T12:04:41.669Z"
   },
   {
    "duration": 2343,
    "start_time": "2023-04-03T12:04:41.956Z"
   },
   {
    "duration": 83,
    "start_time": "2023-04-03T12:04:44.301Z"
   },
   {
    "duration": 3,
    "start_time": "2023-04-03T12:05:59.903Z"
   },
   {
    "duration": 3,
    "start_time": "2023-04-03T12:07:10.884Z"
   },
   {
    "duration": 3,
    "start_time": "2023-04-03T12:07:16.425Z"
   },
   {
    "duration": 3,
    "start_time": "2023-04-03T12:08:28.542Z"
   },
   {
    "duration": 283976,
    "start_time": "2023-04-03T12:08:34.315Z"
   },
   {
    "duration": 64,
    "start_time": "2023-04-03T12:13:18.300Z"
   },
   {
    "duration": 0,
    "start_time": "2023-04-03T12:13:18.366Z"
   },
   {
    "duration": 0,
    "start_time": "2023-04-03T12:13:18.368Z"
   },
   {
    "duration": 0,
    "start_time": "2023-04-03T12:13:18.369Z"
   },
   {
    "duration": 3,
    "start_time": "2023-04-03T12:13:36.026Z"
   },
   {
    "duration": 49572,
    "start_time": "2023-04-03T12:13:37.025Z"
   },
   {
    "duration": 9,
    "start_time": "2023-04-03T12:14:32.252Z"
   },
   {
    "duration": 5733,
    "start_time": "2023-04-03T12:14:42.042Z"
   },
   {
    "duration": 12,
    "start_time": "2023-04-03T12:14:47.777Z"
   },
   {
    "duration": 5,
    "start_time": "2023-04-03T12:15:01.943Z"
   },
   {
    "duration": 5,
    "start_time": "2023-04-03T12:15:06.656Z"
   },
   {
    "duration": 2540,
    "start_time": "2023-04-03T12:16:05.213Z"
   },
   {
    "duration": 6,
    "start_time": "2023-04-03T12:16:07.755Z"
   },
   {
    "duration": 39,
    "start_time": "2023-04-03T12:16:07.763Z"
   },
   {
    "duration": 21,
    "start_time": "2023-04-03T12:16:07.804Z"
   },
   {
    "duration": 39,
    "start_time": "2023-04-03T12:16:07.828Z"
   },
   {
    "duration": 12,
    "start_time": "2023-04-03T12:16:07.869Z"
   },
   {
    "duration": 39,
    "start_time": "2023-04-03T12:16:07.883Z"
   },
   {
    "duration": 61,
    "start_time": "2023-04-03T12:16:07.925Z"
   },
   {
    "duration": 41,
    "start_time": "2023-04-03T12:16:07.988Z"
   },
   {
    "duration": 7,
    "start_time": "2023-04-03T12:16:08.031Z"
   },
   {
    "duration": 21,
    "start_time": "2023-04-03T12:16:08.040Z"
   },
   {
    "duration": 23,
    "start_time": "2023-04-03T12:16:08.066Z"
   },
   {
    "duration": 26,
    "start_time": "2023-04-03T12:16:08.092Z"
   },
   {
    "duration": 17,
    "start_time": "2023-04-03T12:16:08.123Z"
   },
   {
    "duration": 908,
    "start_time": "2023-04-03T12:16:08.142Z"
   },
   {
    "duration": 903,
    "start_time": "2023-04-03T12:16:09.052Z"
   },
   {
    "duration": 4,
    "start_time": "2023-04-03T12:16:09.958Z"
   },
   {
    "duration": 29,
    "start_time": "2023-04-03T12:16:09.964Z"
   },
   {
    "duration": 7,
    "start_time": "2023-04-03T12:16:09.996Z"
   },
   {
    "duration": 23,
    "start_time": "2023-04-03T12:16:10.005Z"
   },
   {
    "duration": 19,
    "start_time": "2023-04-03T12:16:10.031Z"
   },
   {
    "duration": 29,
    "start_time": "2023-04-03T12:16:10.055Z"
   },
   {
    "duration": 13,
    "start_time": "2023-04-03T12:16:10.086Z"
   },
   {
    "duration": 33,
    "start_time": "2023-04-03T12:16:10.101Z"
   },
   {
    "duration": 22,
    "start_time": "2023-04-03T12:16:10.138Z"
   },
   {
    "duration": 15,
    "start_time": "2023-04-03T12:16:10.162Z"
   },
   {
    "duration": 11,
    "start_time": "2023-04-03T12:16:10.180Z"
   },
   {
    "duration": 26,
    "start_time": "2023-04-03T12:16:10.193Z"
   },
   {
    "duration": 18,
    "start_time": "2023-04-03T12:16:10.222Z"
   },
   {
    "duration": 8,
    "start_time": "2023-04-03T12:16:10.242Z"
   },
   {
    "duration": 14,
    "start_time": "2023-04-03T12:16:10.252Z"
   },
   {
    "duration": 8,
    "start_time": "2023-04-03T12:16:10.269Z"
   },
   {
    "duration": 14,
    "start_time": "2023-04-03T12:16:10.279Z"
   },
   {
    "duration": 9,
    "start_time": "2023-04-03T12:16:10.295Z"
   },
   {
    "duration": 15,
    "start_time": "2023-04-03T12:16:10.306Z"
   },
   {
    "duration": 22,
    "start_time": "2023-04-03T12:16:10.323Z"
   },
   {
    "duration": 5,
    "start_time": "2023-04-03T12:16:10.347Z"
   },
   {
    "duration": 21,
    "start_time": "2023-04-03T12:16:10.354Z"
   },
   {
    "duration": 34,
    "start_time": "2023-04-03T12:16:10.377Z"
   },
   {
    "duration": 24,
    "start_time": "2023-04-03T12:16:10.413Z"
   },
   {
    "duration": 14,
    "start_time": "2023-04-03T12:16:10.443Z"
   },
   {
    "duration": 10,
    "start_time": "2023-04-03T12:16:10.459Z"
   },
   {
    "duration": 9,
    "start_time": "2023-04-03T12:16:10.471Z"
   },
   {
    "duration": 11,
    "start_time": "2023-04-03T12:16:10.483Z"
   },
   {
    "duration": 10,
    "start_time": "2023-04-03T12:16:10.496Z"
   },
   {
    "duration": 12,
    "start_time": "2023-04-03T12:16:10.509Z"
   },
   {
    "duration": 12,
    "start_time": "2023-04-03T12:16:10.523Z"
   },
   {
    "duration": 29,
    "start_time": "2023-04-03T12:16:10.537Z"
   },
   {
    "duration": 17,
    "start_time": "2023-04-03T12:16:10.568Z"
   },
   {
    "duration": 229,
    "start_time": "2023-04-03T12:16:10.587Z"
   },
   {
    "duration": 0,
    "start_time": "2023-04-03T12:16:10.818Z"
   },
   {
    "duration": 0,
    "start_time": "2023-04-03T12:16:10.819Z"
   },
   {
    "duration": 0,
    "start_time": "2023-04-03T12:16:10.820Z"
   },
   {
    "duration": 0,
    "start_time": "2023-04-03T12:16:10.822Z"
   },
   {
    "duration": 0,
    "start_time": "2023-04-03T12:16:10.823Z"
   },
   {
    "duration": 0,
    "start_time": "2023-04-03T12:16:10.825Z"
   },
   {
    "duration": 0,
    "start_time": "2023-04-03T12:16:10.826Z"
   },
   {
    "duration": 0,
    "start_time": "2023-04-03T12:16:10.828Z"
   },
   {
    "duration": 0,
    "start_time": "2023-04-03T12:16:10.830Z"
   },
   {
    "duration": 0,
    "start_time": "2023-04-03T12:16:10.831Z"
   },
   {
    "duration": 0,
    "start_time": "2023-04-03T12:16:10.833Z"
   },
   {
    "duration": 0,
    "start_time": "2023-04-03T12:16:10.834Z"
   },
   {
    "duration": 0,
    "start_time": "2023-04-03T12:16:10.835Z"
   },
   {
    "duration": 0,
    "start_time": "2023-04-03T12:16:10.837Z"
   },
   {
    "duration": 0,
    "start_time": "2023-04-03T12:16:10.871Z"
   },
   {
    "duration": 0,
    "start_time": "2023-04-03T12:16:10.873Z"
   },
   {
    "duration": 0,
    "start_time": "2023-04-03T12:16:10.875Z"
   },
   {
    "duration": 0,
    "start_time": "2023-04-03T12:16:10.876Z"
   },
   {
    "duration": 0,
    "start_time": "2023-04-03T12:16:10.878Z"
   },
   {
    "duration": 0,
    "start_time": "2023-04-03T12:16:10.879Z"
   },
   {
    "duration": 0,
    "start_time": "2023-04-03T12:16:10.881Z"
   },
   {
    "duration": 0,
    "start_time": "2023-04-03T12:16:10.882Z"
   },
   {
    "duration": 0,
    "start_time": "2023-04-03T12:16:10.884Z"
   },
   {
    "duration": 0,
    "start_time": "2023-04-03T12:16:10.886Z"
   },
   {
    "duration": 0,
    "start_time": "2023-04-03T12:16:10.887Z"
   },
   {
    "duration": 0,
    "start_time": "2023-04-03T12:16:10.889Z"
   },
   {
    "duration": 0,
    "start_time": "2023-04-03T12:16:10.890Z"
   },
   {
    "duration": 0,
    "start_time": "2023-04-03T12:16:10.892Z"
   },
   {
    "duration": 0,
    "start_time": "2023-04-03T12:16:10.893Z"
   },
   {
    "duration": 3,
    "start_time": "2023-04-03T12:18:43.765Z"
   },
   {
    "duration": 3,
    "start_time": "2023-04-03T12:18:44.652Z"
   },
   {
    "duration": 3,
    "start_time": "2023-04-03T12:18:44.991Z"
   },
   {
    "duration": 1270,
    "start_time": "2023-04-03T12:18:45.315Z"
   },
   {
    "duration": 12,
    "start_time": "2023-04-03T12:18:46.587Z"
   },
   {
    "duration": 694,
    "start_time": "2023-04-03T12:18:46.601Z"
   },
   {
    "duration": 3,
    "start_time": "2023-04-03T12:18:47.297Z"
   },
   {
    "duration": 8,
    "start_time": "2023-04-03T12:18:47.301Z"
   },
   {
    "duration": 1846,
    "start_time": "2023-04-03T12:18:47.439Z"
   },
   {
    "duration": 9,
    "start_time": "2023-04-03T12:18:49.287Z"
   },
   {
    "duration": 75,
    "start_time": "2023-04-03T12:18:49.299Z"
   },
   {
    "duration": 4,
    "start_time": "2023-04-03T12:18:49.464Z"
   },
   {
    "duration": 6,
    "start_time": "2023-04-03T12:18:49.778Z"
   },
   {
    "duration": 3,
    "start_time": "2023-04-03T12:18:49.915Z"
   },
   {
    "duration": 3,
    "start_time": "2023-04-03T12:18:50.065Z"
   },
   {
    "duration": 3,
    "start_time": "2023-04-03T12:18:50.215Z"
   },
   {
    "duration": 3,
    "start_time": "2023-04-03T12:18:50.391Z"
   },
   {
    "duration": 3,
    "start_time": "2023-04-03T12:18:50.677Z"
   },
   {
    "duration": 8,
    "start_time": "2023-04-03T12:18:51.152Z"
   },
   {
    "duration": 4,
    "start_time": "2023-04-03T12:18:51.635Z"
   },
   {
    "duration": 3,
    "start_time": "2023-04-03T12:18:52.292Z"
   },
   {
    "duration": 130028,
    "start_time": "2023-04-03T12:18:52.666Z"
   },
   {
    "duration": 76,
    "start_time": "2023-04-03T12:21:02.697Z"
   },
   {
    "duration": 13414,
    "start_time": "2023-04-03T12:21:02.776Z"
   },
   {
    "duration": 83,
    "start_time": "2023-04-03T12:21:16.192Z"
   },
   {
    "duration": 7101,
    "start_time": "2023-04-03T12:21:16.277Z"
   },
   {
    "duration": 5,
    "start_time": "2023-04-03T12:21:23.382Z"
   },
   {
    "duration": 120110,
    "start_time": "2023-04-03T12:21:23.391Z"
   },
   {
    "duration": 0,
    "start_time": "2023-04-03T12:23:23.503Z"
   },
   {
    "duration": 0,
    "start_time": "2023-04-03T12:23:23.503Z"
   },
   {
    "duration": 13,
    "start_time": "2023-04-03T12:24:12.079Z"
   },
   {
    "duration": 205578,
    "start_time": "2023-04-03T12:24:15.299Z"
   },
   {
    "duration": 7,
    "start_time": "2023-04-03T12:27:40.880Z"
   },
   {
    "duration": 32,
    "start_time": "2023-04-03T12:27:40.892Z"
   },
   {
    "duration": 51,
    "start_time": "2023-04-03T12:27:40.926Z"
   },
   {
    "duration": 10,
    "start_time": "2023-04-03T12:32:21.121Z"
   },
   {
    "duration": 29,
    "start_time": "2023-04-03T12:32:26.799Z"
   },
   {
    "duration": 31,
    "start_time": "2023-04-03T12:35:06.990Z"
   },
   {
    "duration": 2,
    "start_time": "2023-04-03T12:35:10.261Z"
   },
   {
    "duration": 15301,
    "start_time": "2023-04-03T12:35:11.012Z"
   },
   {
    "duration": 2018,
    "start_time": "2023-04-03T12:35:32.816Z"
   },
   {
    "duration": 4,
    "start_time": "2023-04-03T12:35:34.835Z"
   },
   {
    "duration": 36,
    "start_time": "2023-04-03T12:35:34.841Z"
   },
   {
    "duration": 18,
    "start_time": "2023-04-03T12:35:34.890Z"
   },
   {
    "duration": 16,
    "start_time": "2023-04-03T12:35:34.911Z"
   },
   {
    "duration": 14,
    "start_time": "2023-04-03T12:35:34.929Z"
   },
   {
    "duration": 42,
    "start_time": "2023-04-03T12:35:34.945Z"
   },
   {
    "duration": 60,
    "start_time": "2023-04-03T12:35:34.990Z"
   },
   {
    "duration": 58,
    "start_time": "2023-04-03T12:35:35.051Z"
   },
   {
    "duration": 38,
    "start_time": "2023-04-03T12:35:35.111Z"
   },
   {
    "duration": 30,
    "start_time": "2023-04-03T12:35:35.151Z"
   },
   {
    "duration": 49,
    "start_time": "2023-04-03T12:35:35.183Z"
   },
   {
    "duration": 25,
    "start_time": "2023-04-03T12:35:35.233Z"
   },
   {
    "duration": 57,
    "start_time": "2023-04-03T12:35:35.261Z"
   },
   {
    "duration": 845,
    "start_time": "2023-04-03T12:35:35.320Z"
   },
   {
    "duration": 884,
    "start_time": "2023-04-03T12:35:36.167Z"
   },
   {
    "duration": 4,
    "start_time": "2023-04-03T12:35:37.052Z"
   },
   {
    "duration": 36,
    "start_time": "2023-04-03T12:35:37.057Z"
   },
   {
    "duration": 21,
    "start_time": "2023-04-03T12:35:37.106Z"
   },
   {
    "duration": 19,
    "start_time": "2023-04-03T12:35:37.129Z"
   },
   {
    "duration": 7,
    "start_time": "2023-04-03T12:35:37.150Z"
   },
   {
    "duration": 8,
    "start_time": "2023-04-03T12:35:37.158Z"
   },
   {
    "duration": 9,
    "start_time": "2023-04-03T12:35:37.168Z"
   },
   {
    "duration": 55,
    "start_time": "2023-04-03T12:35:37.179Z"
   },
   {
    "duration": 4,
    "start_time": "2023-04-03T12:35:37.236Z"
   },
   {
    "duration": 13,
    "start_time": "2023-04-03T12:35:37.242Z"
   },
   {
    "duration": 11,
    "start_time": "2023-04-03T12:35:37.257Z"
   },
   {
    "duration": 46,
    "start_time": "2023-04-03T12:35:37.269Z"
   },
   {
    "duration": 10,
    "start_time": "2023-04-03T12:35:37.317Z"
   },
   {
    "duration": 8,
    "start_time": "2023-04-03T12:35:37.329Z"
   },
   {
    "duration": 16,
    "start_time": "2023-04-03T12:35:37.339Z"
   },
   {
    "duration": 9,
    "start_time": "2023-04-03T12:35:37.356Z"
   },
   {
    "duration": 58,
    "start_time": "2023-04-03T12:35:37.366Z"
   },
   {
    "duration": 20,
    "start_time": "2023-04-03T12:35:37.426Z"
   },
   {
    "duration": 16,
    "start_time": "2023-04-03T12:35:37.448Z"
   },
   {
    "duration": 35,
    "start_time": "2023-04-03T12:35:37.466Z"
   },
   {
    "duration": 16,
    "start_time": "2023-04-03T12:35:37.502Z"
   },
   {
    "duration": 19,
    "start_time": "2023-04-03T12:35:37.520Z"
   },
   {
    "duration": 72,
    "start_time": "2023-04-03T12:35:37.541Z"
   },
   {
    "duration": 16,
    "start_time": "2023-04-03T12:35:37.615Z"
   },
   {
    "duration": 3,
    "start_time": "2023-04-03T12:35:37.636Z"
   },
   {
    "duration": 24,
    "start_time": "2023-04-03T12:35:37.641Z"
   },
   {
    "duration": 58,
    "start_time": "2023-04-03T12:35:37.666Z"
   },
   {
    "duration": 16,
    "start_time": "2023-04-03T12:35:37.725Z"
   },
   {
    "duration": 25,
    "start_time": "2023-04-03T12:35:37.743Z"
   },
   {
    "duration": 75,
    "start_time": "2023-04-03T12:35:37.769Z"
   },
   {
    "duration": 12,
    "start_time": "2023-04-03T12:35:37.846Z"
   },
   {
    "duration": 33,
    "start_time": "2023-04-03T12:35:37.860Z"
   },
   {
    "duration": 19,
    "start_time": "2023-04-03T12:35:37.906Z"
   },
   {
    "duration": 11,
    "start_time": "2023-04-03T12:35:37.926Z"
   },
   {
    "duration": 6,
    "start_time": "2023-04-03T12:35:37.938Z"
   },
   {
    "duration": 11,
    "start_time": "2023-04-03T12:35:37.945Z"
   },
   {
    "duration": 6473,
    "start_time": "2023-04-03T12:35:37.957Z"
   },
   {
    "duration": 13,
    "start_time": "2023-04-03T12:35:44.479Z"
   },
   {
    "duration": 664,
    "start_time": "2023-04-03T12:35:44.502Z"
   },
   {
    "duration": 26,
    "start_time": "2023-04-03T12:35:45.168Z"
   },
   {
    "duration": 44,
    "start_time": "2023-04-03T12:35:45.196Z"
   },
   {
    "duration": 9433,
    "start_time": "2023-04-03T12:35:45.241Z"
   },
   {
    "duration": 20,
    "start_time": "2023-04-03T12:35:54.681Z"
   },
   {
    "duration": 8,
    "start_time": "2023-04-03T12:35:54.711Z"
   },
   {
    "duration": 13,
    "start_time": "2023-04-03T12:35:54.721Z"
   },
   {
    "duration": 11,
    "start_time": "2023-04-03T12:35:54.735Z"
   },
   {
    "duration": 10,
    "start_time": "2023-04-03T12:35:54.747Z"
   },
   {
    "duration": 12,
    "start_time": "2023-04-03T12:35:54.759Z"
   },
   {
    "duration": 42,
    "start_time": "2023-04-03T12:35:54.774Z"
   },
   {
    "duration": 7,
    "start_time": "2023-04-03T12:35:54.818Z"
   },
   {
    "duration": 13,
    "start_time": "2023-04-03T12:35:54.826Z"
   },
   {
    "duration": 27,
    "start_time": "2023-04-03T12:35:54.843Z"
   },
   {
    "duration": 42,
    "start_time": "2023-04-03T12:35:54.879Z"
   },
   {
    "duration": 4,
    "start_time": "2023-04-03T12:35:54.923Z"
   },
   {
    "duration": 594260,
    "start_time": "2023-04-03T12:36:08.749Z"
   },
   {
    "duration": 4,
    "start_time": "2023-04-03T12:46:03.015Z"
   },
   {
    "duration": 56797,
    "start_time": "2023-04-03T12:46:03.024Z"
   },
   {
    "duration": 5,
    "start_time": "2023-04-03T12:46:59.823Z"
   },
   {
    "duration": 26077,
    "start_time": "2023-04-03T12:46:59.829Z"
   },
   {
    "duration": 14,
    "start_time": "2023-04-03T12:47:25.911Z"
   },
   {
    "duration": 34764,
    "start_time": "2023-04-03T12:47:25.929Z"
   },
   {
    "duration": 0,
    "start_time": "2023-04-03T12:48:00.695Z"
   },
   {
    "duration": 0,
    "start_time": "2023-04-03T12:48:00.696Z"
   },
   {
    "duration": 9,
    "start_time": "2023-04-03T12:48:01.812Z"
   },
   {
    "duration": 9,
    "start_time": "2023-04-03T12:48:31.435Z"
   },
   {
    "duration": 156400,
    "start_time": "2023-04-03T12:48:34.721Z"
   },
   {
    "duration": 9,
    "start_time": "2023-04-03T12:51:14.644Z"
   },
   {
    "duration": 489662,
    "start_time": "2023-04-03T12:51:17.531Z"
   },
   {
    "duration": 6,
    "start_time": "2023-04-03T12:59:27.198Z"
   },
   {
    "duration": 24,
    "start_time": "2023-04-03T12:59:27.205Z"
   },
   {
    "duration": 9,
    "start_time": "2023-04-03T13:00:28.104Z"
   },
   {
    "duration": 11,
    "start_time": "2023-04-03T13:00:39.728Z"
   },
   {
    "duration": 11196,
    "start_time": "2023-04-03T13:00:42.801Z"
   },
   {
    "duration": 10,
    "start_time": "2023-04-03T13:01:18.135Z"
   },
   {
    "duration": 6305,
    "start_time": "2023-04-03T13:01:21.311Z"
   },
   {
    "duration": 14,
    "start_time": "2023-04-03T13:02:03.033Z"
   },
   {
    "duration": 25205,
    "start_time": "2023-04-03T13:02:07.299Z"
   },
   {
    "duration": 4,
    "start_time": "2023-04-03T13:03:11.263Z"
   },
   {
    "duration": 4,
    "start_time": "2023-04-03T13:03:31.323Z"
   },
   {
    "duration": 4,
    "start_time": "2023-04-03T13:03:37.724Z"
   },
   {
    "duration": 5,
    "start_time": "2023-04-03T13:03:45.551Z"
   },
   {
    "duration": 4,
    "start_time": "2023-04-03T13:03:52.600Z"
   },
   {
    "duration": 5,
    "start_time": "2023-04-03T13:03:56.238Z"
   },
   {
    "duration": 10,
    "start_time": "2023-04-03T13:04:26.636Z"
   },
   {
    "duration": 5899,
    "start_time": "2023-04-03T13:04:33.406Z"
   },
   {
    "duration": 14,
    "start_time": "2023-04-03T13:05:19.119Z"
   },
   {
    "duration": 27091,
    "start_time": "2023-04-03T13:05:21.814Z"
   },
   {
    "duration": 4,
    "start_time": "2023-04-03T13:06:28.932Z"
   },
   {
    "duration": 5,
    "start_time": "2023-04-03T13:06:45.905Z"
   },
   {
    "duration": 14,
    "start_time": "2023-04-03T13:07:06.349Z"
   },
   {
    "duration": 2979,
    "start_time": "2023-04-03T13:07:19.990Z"
   },
   {
    "duration": 10,
    "start_time": "2023-04-03T13:07:22.971Z"
   },
   {
    "duration": 77,
    "start_time": "2023-04-03T13:07:22.982Z"
   },
   {
    "duration": 23,
    "start_time": "2023-04-03T13:07:23.061Z"
   },
   {
    "duration": 50,
    "start_time": "2023-04-03T13:07:23.086Z"
   },
   {
    "duration": 24,
    "start_time": "2023-04-03T13:07:23.138Z"
   },
   {
    "duration": 71,
    "start_time": "2023-04-03T13:07:23.164Z"
   },
   {
    "duration": 15,
    "start_time": "2023-04-03T13:07:23.237Z"
   },
   {
    "duration": 78,
    "start_time": "2023-04-03T13:07:23.253Z"
   },
   {
    "duration": 5,
    "start_time": "2023-04-03T13:07:23.333Z"
   },
   {
    "duration": 20,
    "start_time": "2023-04-03T13:07:23.340Z"
   },
   {
    "duration": 9,
    "start_time": "2023-04-03T13:07:23.361Z"
   },
   {
    "duration": 57,
    "start_time": "2023-04-03T13:07:23.377Z"
   },
   {
    "duration": 5,
    "start_time": "2023-04-03T13:07:23.439Z"
   },
   {
    "duration": 1013,
    "start_time": "2023-04-03T13:07:23.446Z"
   },
   {
    "duration": 1098,
    "start_time": "2023-04-03T13:07:24.461Z"
   },
   {
    "duration": 3,
    "start_time": "2023-04-03T13:07:25.560Z"
   },
   {
    "duration": 14,
    "start_time": "2023-04-03T13:07:25.564Z"
   },
   {
    "duration": 48,
    "start_time": "2023-04-03T13:07:25.582Z"
   },
   {
    "duration": 17,
    "start_time": "2023-04-03T13:07:25.631Z"
   },
   {
    "duration": 21,
    "start_time": "2023-04-03T13:07:25.649Z"
   },
   {
    "duration": 61,
    "start_time": "2023-04-03T13:07:25.672Z"
   },
   {
    "duration": 31,
    "start_time": "2023-04-03T13:07:25.734Z"
   },
   {
    "duration": 69,
    "start_time": "2023-04-03T13:07:25.766Z"
   },
   {
    "duration": 16,
    "start_time": "2023-04-03T13:07:25.837Z"
   },
   {
    "duration": 48,
    "start_time": "2023-04-03T13:07:25.855Z"
   },
   {
    "duration": 23,
    "start_time": "2023-04-03T13:07:25.905Z"
   },
   {
    "duration": 24,
    "start_time": "2023-04-03T13:07:25.930Z"
   },
   {
    "duration": 7,
    "start_time": "2023-04-03T13:07:25.956Z"
   },
   {
    "duration": 6,
    "start_time": "2023-04-03T13:07:25.965Z"
   },
   {
    "duration": 48,
    "start_time": "2023-04-03T13:07:25.978Z"
   },
   {
    "duration": 4,
    "start_time": "2023-04-03T13:07:26.027Z"
   },
   {
    "duration": 8,
    "start_time": "2023-04-03T13:07:26.032Z"
   },
   {
    "duration": 10,
    "start_time": "2023-04-03T13:07:26.042Z"
   },
   {
    "duration": 16,
    "start_time": "2023-04-03T13:07:26.054Z"
   },
   {
    "duration": 29,
    "start_time": "2023-04-03T13:07:26.081Z"
   },
   {
    "duration": 3,
    "start_time": "2023-04-03T13:07:26.112Z"
   },
   {
    "duration": 16,
    "start_time": "2023-04-03T13:07:26.117Z"
   },
   {
    "duration": 31,
    "start_time": "2023-04-03T13:07:26.135Z"
   },
   {
    "duration": 43,
    "start_time": "2023-04-03T13:07:26.168Z"
   },
   {
    "duration": 3,
    "start_time": "2023-04-03T13:07:26.218Z"
   },
   {
    "duration": 14,
    "start_time": "2023-04-03T13:07:26.223Z"
   },
   {
    "duration": 66,
    "start_time": "2023-04-03T13:07:26.239Z"
   },
   {
    "duration": 13,
    "start_time": "2023-04-03T13:07:26.307Z"
   },
   {
    "duration": 8,
    "start_time": "2023-04-03T13:07:26.322Z"
   },
   {
    "duration": 11,
    "start_time": "2023-04-03T13:07:26.332Z"
   },
   {
    "duration": 8,
    "start_time": "2023-04-03T13:07:26.344Z"
   },
   {
    "duration": 102,
    "start_time": "2023-04-03T13:07:26.354Z"
   },
   {
    "duration": 91,
    "start_time": "2023-04-03T13:07:26.457Z"
   },
   {
    "duration": 7,
    "start_time": "2023-04-03T13:07:26.550Z"
   },
   {
    "duration": 76,
    "start_time": "2023-04-03T13:07:26.559Z"
   },
   {
    "duration": 82,
    "start_time": "2023-04-03T13:07:26.637Z"
   },
   {
    "duration": 3283,
    "start_time": "2023-04-03T13:07:26.722Z"
   },
   {
    "duration": 7,
    "start_time": "2023-04-03T13:07:30.008Z"
   },
   {
    "duration": 634,
    "start_time": "2023-04-03T13:07:30.016Z"
   },
   {
    "duration": 3,
    "start_time": "2023-04-03T13:07:30.651Z"
   },
   {
    "duration": 368,
    "start_time": "2023-04-03T13:07:30.655Z"
   },
   {
    "duration": 4696,
    "start_time": "2023-04-03T13:07:31.024Z"
   },
   {
    "duration": 61,
    "start_time": "2023-04-03T13:07:35.722Z"
   },
   {
    "duration": 30,
    "start_time": "2023-04-03T13:07:35.785Z"
   },
   {
    "duration": 18,
    "start_time": "2023-04-03T13:07:35.816Z"
   },
   {
    "duration": 32,
    "start_time": "2023-04-03T13:07:35.835Z"
   },
   {
    "duration": 63,
    "start_time": "2023-04-03T13:07:35.868Z"
   },
   {
    "duration": 18,
    "start_time": "2023-04-03T13:07:35.933Z"
   },
   {
    "duration": 17,
    "start_time": "2023-04-03T13:07:35.953Z"
   },
   {
    "duration": 35,
    "start_time": "2023-04-03T13:07:35.978Z"
   },
   {
    "duration": 13,
    "start_time": "2023-04-03T13:07:36.014Z"
   },
   {
    "duration": 10,
    "start_time": "2023-04-03T13:07:36.029Z"
   },
   {
    "duration": 14,
    "start_time": "2023-04-03T13:07:36.040Z"
   },
   {
    "duration": 10,
    "start_time": "2023-04-03T13:07:36.055Z"
   },
   {
    "duration": 379920,
    "start_time": "2023-04-03T13:07:36.066Z"
   },
   {
    "duration": 5,
    "start_time": "2023-04-03T13:13:55.988Z"
   },
   {
    "duration": 33510,
    "start_time": "2023-04-03T13:13:55.995Z"
   },
   {
    "duration": 6,
    "start_time": "2023-04-03T13:14:29.507Z"
   },
   {
    "duration": 15398,
    "start_time": "2023-04-03T13:14:29.514Z"
   },
   {
    "duration": 76,
    "start_time": "2023-04-03T13:14:44.913Z"
   },
   {
    "duration": 593617,
    "start_time": "2023-04-03T13:14:45.004Z"
   },
   {
    "duration": 6,
    "start_time": "2023-04-03T13:24:38.623Z"
   },
   {
    "duration": 55,
    "start_time": "2023-04-03T13:24:38.630Z"
   },
   {
    "duration": 1609,
    "start_time": "2023-04-03T13:29:00.205Z"
   },
   {
    "duration": 711,
    "start_time": "2023-04-03T13:29:19.220Z"
   },
   {
    "duration": 6,
    "start_time": "2023-04-03T13:30:54.509Z"
   },
   {
    "duration": 12,
    "start_time": "2023-04-03T13:31:02.199Z"
   },
   {
    "duration": 17,
    "start_time": "2023-04-03T13:31:27.593Z"
   },
   {
    "duration": 16488,
    "start_time": "2023-04-03T13:31:31.503Z"
   },
   {
    "duration": 7,
    "start_time": "2023-04-03T13:31:48.003Z"
   },
   {
    "duration": 31966,
    "start_time": "2023-04-03T13:31:56.356Z"
   },
   {
    "duration": 4,
    "start_time": "2023-04-03T13:32:28.326Z"
   },
   {
    "duration": 3,
    "start_time": "2023-04-03T13:33:42.556Z"
   },
   {
    "duration": 2,
    "start_time": "2023-04-03T13:33:45.228Z"
   },
   {
    "duration": 4,
    "start_time": "2023-04-03T13:33:45.603Z"
   },
   {
    "duration": 3783,
    "start_time": "2023-04-03T13:33:45.906Z"
   },
   {
    "duration": 94,
    "start_time": "2023-04-03T13:33:49.691Z"
   },
   {
    "duration": 3,
    "start_time": "2023-04-03T13:34:07.853Z"
   },
   {
    "duration": 18,
    "start_time": "2023-04-03T13:34:10.852Z"
   },
   {
    "duration": 22,
    "start_time": "2023-04-03T13:34:33.079Z"
   },
   {
    "duration": 18,
    "start_time": "2023-04-03T13:34:38.253Z"
   },
   {
    "duration": 28,
    "start_time": "2023-04-03T13:34:46.901Z"
   },
   {
    "duration": 5,
    "start_time": "2023-04-03T13:35:16.390Z"
   },
   {
    "duration": 6,
    "start_time": "2023-04-03T13:35:46.561Z"
   },
   {
    "duration": 10,
    "start_time": "2023-04-03T13:35:50.644Z"
   },
   {
    "duration": 9,
    "start_time": "2023-04-03T13:35:57.641Z"
   },
   {
    "duration": 6,
    "start_time": "2023-04-03T13:36:00.957Z"
   },
   {
    "duration": 10,
    "start_time": "2023-04-03T13:36:06.091Z"
   },
   {
    "duration": 12,
    "start_time": "2023-04-03T13:36:16.998Z"
   },
   {
    "duration": 9,
    "start_time": "2023-04-03T13:36:45.334Z"
   },
   {
    "duration": 94,
    "start_time": "2023-04-03T13:37:06.239Z"
   },
   {
    "duration": 4,
    "start_time": "2023-04-03T13:37:21.340Z"
   },
   {
    "duration": 9,
    "start_time": "2023-04-03T13:37:26.494Z"
   },
   {
    "duration": 1733,
    "start_time": "2023-04-03T13:38:06.631Z"
   },
   {
    "duration": 3,
    "start_time": "2023-04-03T13:38:08.366Z"
   },
   {
    "duration": 64,
    "start_time": "2023-04-03T13:38:08.372Z"
   },
   {
    "duration": 19,
    "start_time": "2023-04-03T13:38:08.438Z"
   },
   {
    "duration": 31,
    "start_time": "2023-04-03T13:38:08.458Z"
   },
   {
    "duration": 6,
    "start_time": "2023-04-03T13:38:08.492Z"
   },
   {
    "duration": 33,
    "start_time": "2023-04-03T13:38:08.500Z"
   },
   {
    "duration": 12,
    "start_time": "2023-04-03T13:38:08.535Z"
   },
   {
    "duration": 46,
    "start_time": "2023-04-03T13:38:08.548Z"
   },
   {
    "duration": 18,
    "start_time": "2023-04-03T13:38:08.596Z"
   },
   {
    "duration": 16,
    "start_time": "2023-04-03T13:38:08.616Z"
   },
   {
    "duration": 7,
    "start_time": "2023-04-03T13:38:08.634Z"
   },
   {
    "duration": 24,
    "start_time": "2023-04-03T13:38:08.642Z"
   },
   {
    "duration": 34,
    "start_time": "2023-04-03T13:38:08.668Z"
   },
   {
    "duration": 761,
    "start_time": "2023-04-03T13:38:08.704Z"
   },
   {
    "duration": 824,
    "start_time": "2023-04-03T13:38:09.471Z"
   },
   {
    "duration": 4,
    "start_time": "2023-04-03T13:38:10.296Z"
   },
   {
    "duration": 13,
    "start_time": "2023-04-03T13:38:10.301Z"
   },
   {
    "duration": 9,
    "start_time": "2023-04-03T13:38:10.316Z"
   },
   {
    "duration": 13,
    "start_time": "2023-04-03T13:38:10.326Z"
   },
   {
    "duration": 11,
    "start_time": "2023-04-03T13:38:10.340Z"
   },
   {
    "duration": 8,
    "start_time": "2023-04-03T13:38:10.352Z"
   },
   {
    "duration": 9,
    "start_time": "2023-04-03T13:38:10.361Z"
   },
   {
    "duration": 44,
    "start_time": "2023-04-03T13:38:10.374Z"
   },
   {
    "duration": 10,
    "start_time": "2023-04-03T13:38:10.420Z"
   },
   {
    "duration": 14,
    "start_time": "2023-04-03T13:38:10.431Z"
   },
   {
    "duration": 12,
    "start_time": "2023-04-03T13:38:10.446Z"
   },
   {
    "duration": 5,
    "start_time": "2023-04-03T13:38:10.461Z"
   },
   {
    "duration": 47,
    "start_time": "2023-04-03T13:38:10.467Z"
   },
   {
    "duration": 21,
    "start_time": "2023-04-03T13:38:10.516Z"
   },
   {
    "duration": 17,
    "start_time": "2023-04-03T13:38:10.539Z"
   },
   {
    "duration": 4,
    "start_time": "2023-04-03T13:38:10.558Z"
   },
   {
    "duration": 6,
    "start_time": "2023-04-03T13:38:10.563Z"
   },
   {
    "duration": 38,
    "start_time": "2023-04-03T13:38:10.570Z"
   },
   {
    "duration": 14,
    "start_time": "2023-04-03T13:38:10.610Z"
   },
   {
    "duration": 5,
    "start_time": "2023-04-03T13:38:10.626Z"
   },
   {
    "duration": 12,
    "start_time": "2023-04-03T13:38:10.633Z"
   },
   {
    "duration": 18,
    "start_time": "2023-04-03T13:38:10.647Z"
   },
   {
    "duration": 50,
    "start_time": "2023-04-03T13:38:10.667Z"
   },
   {
    "duration": 7,
    "start_time": "2023-04-03T13:38:10.719Z"
   },
   {
    "duration": 3,
    "start_time": "2023-04-03T13:38:10.727Z"
   },
   {
    "duration": 9,
    "start_time": "2023-04-03T13:38:10.732Z"
   },
   {
    "duration": 8,
    "start_time": "2023-04-03T13:38:10.742Z"
   },
   {
    "duration": 7,
    "start_time": "2023-04-03T13:38:10.751Z"
   },
   {
    "duration": 8,
    "start_time": "2023-04-03T13:38:10.759Z"
   },
   {
    "duration": 36,
    "start_time": "2023-04-03T13:38:10.768Z"
   },
   {
    "duration": 13,
    "start_time": "2023-04-03T13:38:10.805Z"
   },
   {
    "duration": 12,
    "start_time": "2023-04-03T13:38:10.819Z"
   },
   {
    "duration": 9,
    "start_time": "2023-04-03T13:38:10.832Z"
   },
   {
    "duration": 7,
    "start_time": "2023-04-03T13:38:10.842Z"
   },
   {
    "duration": 7,
    "start_time": "2023-04-03T13:38:10.851Z"
   },
   {
    "duration": 5,
    "start_time": "2023-04-03T13:38:10.859Z"
   },
   {
    "duration": 2624,
    "start_time": "2023-04-03T13:38:10.865Z"
   },
   {
    "duration": 12,
    "start_time": "2023-04-03T13:38:13.490Z"
   },
   {
    "duration": 704,
    "start_time": "2023-04-03T13:38:13.504Z"
   },
   {
    "duration": 2,
    "start_time": "2023-04-03T13:38:14.210Z"
   },
   {
    "duration": 37,
    "start_time": "2023-04-03T13:38:14.214Z"
   },
   {
    "duration": 4545,
    "start_time": "2023-04-03T13:38:14.252Z"
   },
   {
    "duration": 78,
    "start_time": "2023-04-03T13:38:18.806Z"
   },
   {
    "duration": 28,
    "start_time": "2023-04-03T13:38:18.885Z"
   },
   {
    "duration": 8,
    "start_time": "2023-04-03T13:38:18.915Z"
   },
   {
    "duration": 10,
    "start_time": "2023-04-03T13:38:18.924Z"
   },
   {
    "duration": 10,
    "start_time": "2023-04-03T13:38:18.935Z"
   },
   {
    "duration": 10,
    "start_time": "2023-04-03T13:38:18.946Z"
   },
   {
    "duration": 9,
    "start_time": "2023-04-03T13:38:18.957Z"
   },
   {
    "duration": 32,
    "start_time": "2023-04-03T13:38:18.967Z"
   },
   {
    "duration": 5,
    "start_time": "2023-04-03T13:38:19.000Z"
   },
   {
    "duration": 9,
    "start_time": "2023-04-03T13:38:19.007Z"
   },
   {
    "duration": 10,
    "start_time": "2023-04-03T13:38:19.018Z"
   },
   {
    "duration": 5,
    "start_time": "2023-04-03T13:38:19.030Z"
   },
   {
    "duration": 468453,
    "start_time": "2023-04-03T13:38:19.036Z"
   },
   {
    "duration": 11,
    "start_time": "2023-04-03T13:46:07.498Z"
   },
   {
    "duration": 47674,
    "start_time": "2023-04-03T13:46:07.514Z"
   },
   {
    "duration": 15,
    "start_time": "2023-04-03T13:46:55.196Z"
   },
   {
    "duration": 11,
    "start_time": "2023-04-03T13:46:55.218Z"
   },
   {
    "duration": 21688,
    "start_time": "2023-04-03T13:47:03.002Z"
   },
   {
    "duration": 5,
    "start_time": "2023-04-03T13:47:24.692Z"
   },
   {
    "duration": 711485,
    "start_time": "2023-04-03T13:47:24.698Z"
   },
   {
    "duration": 11,
    "start_time": "2023-04-03T13:59:16.187Z"
   },
   {
    "duration": 48,
    "start_time": "2023-04-03T13:59:16.209Z"
   },
   {
    "duration": 1864,
    "start_time": "2023-04-03T14:06:42.983Z"
   },
   {
    "duration": 1194,
    "start_time": "2023-04-03T14:06:46.828Z"
   },
   {
    "duration": 18,
    "start_time": "2023-04-03T14:07:01.887Z"
   },
   {
    "duration": 11,
    "start_time": "2023-04-03T14:07:07.800Z"
   },
   {
    "duration": 887,
    "start_time": "2023-04-03T14:07:37.006Z"
   },
   {
    "duration": 2341,
    "start_time": "2023-04-03T14:09:36.328Z"
   },
   {
    "duration": 12,
    "start_time": "2023-04-03T14:09:38.672Z"
   },
   {
    "duration": 131,
    "start_time": "2023-04-03T14:09:38.686Z"
   },
   {
    "duration": 12,
    "start_time": "2023-04-03T14:09:38.823Z"
   },
   {
    "duration": 3,
    "start_time": "2023-04-03T14:09:38.837Z"
   },
   {
    "duration": 7,
    "start_time": "2023-04-03T14:09:38.842Z"
   },
   {
    "duration": 17,
    "start_time": "2023-04-03T14:09:38.851Z"
   },
   {
    "duration": 60,
    "start_time": "2023-04-03T14:09:38.870Z"
   },
   {
    "duration": 32,
    "start_time": "2023-04-03T14:09:38.932Z"
   },
   {
    "duration": 7,
    "start_time": "2023-04-03T14:09:38.966Z"
   },
   {
    "duration": 68,
    "start_time": "2023-04-03T14:09:38.974Z"
   },
   {
    "duration": 13,
    "start_time": "2023-04-03T14:09:39.044Z"
   },
   {
    "duration": 72,
    "start_time": "2023-04-03T14:09:39.059Z"
   },
   {
    "duration": 28,
    "start_time": "2023-04-03T14:09:39.135Z"
   },
   {
    "duration": 879,
    "start_time": "2023-04-03T14:09:39.165Z"
   },
   {
    "duration": 885,
    "start_time": "2023-04-03T14:09:40.046Z"
   },
   {
    "duration": 4,
    "start_time": "2023-04-03T14:09:40.933Z"
   },
   {
    "duration": 10,
    "start_time": "2023-04-03T14:09:40.939Z"
   },
   {
    "duration": 15,
    "start_time": "2023-04-03T14:09:40.951Z"
   },
   {
    "duration": 43,
    "start_time": "2023-04-03T14:09:40.968Z"
   },
   {
    "duration": 11,
    "start_time": "2023-04-03T14:09:41.022Z"
   },
   {
    "duration": 20,
    "start_time": "2023-04-03T14:09:41.034Z"
   },
   {
    "duration": 27,
    "start_time": "2023-04-03T14:09:41.056Z"
   },
   {
    "duration": 82,
    "start_time": "2023-04-03T14:09:41.085Z"
   },
   {
    "duration": 67,
    "start_time": "2023-04-03T14:09:41.169Z"
   },
   {
    "duration": 24,
    "start_time": "2023-04-03T14:09:41.237Z"
   },
   {
    "duration": 14,
    "start_time": "2023-04-03T14:09:41.263Z"
   },
   {
    "duration": 63,
    "start_time": "2023-04-03T14:09:41.279Z"
   },
   {
    "duration": 8,
    "start_time": "2023-04-03T14:09:41.343Z"
   },
   {
    "duration": 68,
    "start_time": "2023-04-03T14:09:41.353Z"
   },
   {
    "duration": 21,
    "start_time": "2023-04-03T14:09:41.425Z"
   },
   {
    "duration": 10,
    "start_time": "2023-04-03T14:09:41.447Z"
   },
   {
    "duration": 4,
    "start_time": "2023-04-03T14:09:41.459Z"
   },
   {
    "duration": 65,
    "start_time": "2023-04-03T14:09:41.465Z"
   },
   {
    "duration": 23,
    "start_time": "2023-04-03T14:09:41.531Z"
   },
   {
    "duration": 8,
    "start_time": "2023-04-03T14:09:41.556Z"
   },
   {
    "duration": 69,
    "start_time": "2023-04-03T14:09:41.566Z"
   },
   {
    "duration": 23,
    "start_time": "2023-04-03T14:09:41.637Z"
   },
   {
    "duration": 59,
    "start_time": "2023-04-03T14:09:41.662Z"
   },
   {
    "duration": 13,
    "start_time": "2023-04-03T14:09:41.725Z"
   },
   {
    "duration": 4,
    "start_time": "2023-04-03T14:09:41.741Z"
   },
   {
    "duration": 10,
    "start_time": "2023-04-03T14:09:41.747Z"
   },
   {
    "duration": 8,
    "start_time": "2023-04-03T14:09:41.758Z"
   },
   {
    "duration": 19,
    "start_time": "2023-04-03T14:09:41.768Z"
   },
   {
    "duration": 55,
    "start_time": "2023-04-03T14:09:41.788Z"
   },
   {
    "duration": 18,
    "start_time": "2023-04-03T14:09:41.846Z"
   },
   {
    "duration": 61,
    "start_time": "2023-04-03T14:09:41.865Z"
   },
   {
    "duration": 13,
    "start_time": "2023-04-03T14:09:41.928Z"
   },
   {
    "duration": 13,
    "start_time": "2023-04-03T14:09:41.943Z"
   },
   {
    "duration": 13,
    "start_time": "2023-04-03T14:09:41.957Z"
   },
   {
    "duration": 61,
    "start_time": "2023-04-03T14:09:41.971Z"
   },
   {
    "duration": 27,
    "start_time": "2023-04-03T14:09:42.033Z"
   },
   {
    "duration": 9776,
    "start_time": "2023-04-03T14:09:42.062Z"
   },
   {
    "duration": 57,
    "start_time": "2023-04-03T14:09:51.840Z"
   },
   {
    "duration": 714,
    "start_time": "2023-04-03T14:09:51.899Z"
   },
   {
    "duration": 2,
    "start_time": "2023-04-03T14:09:52.615Z"
   },
   {
    "duration": 5,
    "start_time": "2023-04-03T14:09:52.618Z"
   },
   {
    "duration": 16403,
    "start_time": "2023-04-03T14:09:52.624Z"
   },
   {
    "duration": 30,
    "start_time": "2023-04-03T14:10:09.078Z"
   },
   {
    "duration": 28,
    "start_time": "2023-04-03T14:10:09.113Z"
   },
   {
    "duration": 21,
    "start_time": "2023-04-03T14:10:09.142Z"
   },
   {
    "duration": 19,
    "start_time": "2023-04-03T14:10:09.165Z"
   },
   {
    "duration": 42,
    "start_time": "2023-04-03T14:10:09.185Z"
   },
   {
    "duration": 15,
    "start_time": "2023-04-03T14:10:09.229Z"
   },
   {
    "duration": 9,
    "start_time": "2023-04-03T14:10:09.246Z"
   },
   {
    "duration": 8,
    "start_time": "2023-04-03T14:10:09.257Z"
   },
   {
    "duration": 57,
    "start_time": "2023-04-03T14:10:09.267Z"
   },
   {
    "duration": 14,
    "start_time": "2023-04-03T14:10:09.326Z"
   },
   {
    "duration": 8,
    "start_time": "2023-04-03T14:10:09.342Z"
   },
   {
    "duration": 7,
    "start_time": "2023-04-03T14:10:09.352Z"
   },
   {
    "duration": 12,
    "start_time": "2023-04-03T14:10:15.128Z"
   },
   {
    "duration": 0,
    "start_time": "2023-04-03T14:10:15.142Z"
   },
   {
    "duration": 783043,
    "start_time": "2023-04-03T14:10:16.418Z"
   },
   {
    "duration": 0,
    "start_time": "2023-04-03T14:23:19.466Z"
   },
   {
    "duration": 0,
    "start_time": "2023-04-03T14:23:19.469Z"
   },
   {
    "duration": 2255,
    "start_time": "2023-04-03T14:25:34.421Z"
   },
   {
    "duration": 3,
    "start_time": "2023-04-03T14:25:36.679Z"
   },
   {
    "duration": 85,
    "start_time": "2023-04-03T14:25:36.686Z"
   },
   {
    "duration": 14,
    "start_time": "2023-04-03T14:25:36.783Z"
   },
   {
    "duration": 36,
    "start_time": "2023-04-03T14:25:36.799Z"
   },
   {
    "duration": 4,
    "start_time": "2023-04-03T14:25:36.837Z"
   },
   {
    "duration": 16,
    "start_time": "2023-04-03T14:25:36.843Z"
   },
   {
    "duration": 7,
    "start_time": "2023-04-03T14:25:36.861Z"
   },
   {
    "duration": 49,
    "start_time": "2023-04-03T14:25:36.870Z"
   },
   {
    "duration": 19,
    "start_time": "2023-04-03T14:25:36.922Z"
   },
   {
    "duration": 6,
    "start_time": "2023-04-03T14:25:36.943Z"
   },
   {
    "duration": 8,
    "start_time": "2023-04-03T14:25:36.951Z"
   },
   {
    "duration": 6,
    "start_time": "2023-04-03T14:25:36.961Z"
   },
   {
    "duration": 16,
    "start_time": "2023-04-03T14:25:36.970Z"
   },
   {
    "duration": 1067,
    "start_time": "2023-04-03T14:25:36.987Z"
   },
   {
    "duration": 1091,
    "start_time": "2023-04-03T14:25:38.056Z"
   },
   {
    "duration": 3,
    "start_time": "2023-04-03T14:25:39.149Z"
   },
   {
    "duration": 5,
    "start_time": "2023-04-03T14:25:39.154Z"
   },
   {
    "duration": 21,
    "start_time": "2023-04-03T14:25:39.160Z"
   },
   {
    "duration": 54,
    "start_time": "2023-04-03T14:25:39.187Z"
   },
   {
    "duration": 9,
    "start_time": "2023-04-03T14:25:39.243Z"
   },
   {
    "duration": 15,
    "start_time": "2023-04-03T14:25:39.253Z"
   },
   {
    "duration": 15,
    "start_time": "2023-04-03T14:25:39.270Z"
   },
   {
    "duration": 59,
    "start_time": "2023-04-03T14:25:39.287Z"
   },
   {
    "duration": 8,
    "start_time": "2023-04-03T14:25:39.347Z"
   },
   {
    "duration": 9,
    "start_time": "2023-04-03T14:25:39.356Z"
   },
   {
    "duration": 65,
    "start_time": "2023-04-03T14:25:39.367Z"
   },
   {
    "duration": 6,
    "start_time": "2023-04-03T14:25:39.433Z"
   },
   {
    "duration": 8,
    "start_time": "2023-04-03T14:25:39.441Z"
   },
   {
    "duration": 7,
    "start_time": "2023-04-03T14:25:39.451Z"
   },
   {
    "duration": 24,
    "start_time": "2023-04-03T14:25:39.460Z"
   },
   {
    "duration": 36,
    "start_time": "2023-04-03T14:25:39.491Z"
   },
   {
    "duration": 9,
    "start_time": "2023-04-03T14:25:39.528Z"
   },
   {
    "duration": 8,
    "start_time": "2023-04-03T14:25:39.538Z"
   },
   {
    "duration": 11,
    "start_time": "2023-04-03T14:25:39.548Z"
   },
   {
    "duration": 57,
    "start_time": "2023-04-03T14:25:39.560Z"
   },
   {
    "duration": 19,
    "start_time": "2023-04-03T14:25:39.619Z"
   },
   {
    "duration": 12,
    "start_time": "2023-04-03T14:25:39.640Z"
   },
   {
    "duration": 36,
    "start_time": "2023-04-03T14:25:39.653Z"
   },
   {
    "duration": 37,
    "start_time": "2023-04-03T14:25:39.697Z"
   },
   {
    "duration": 3,
    "start_time": "2023-04-03T14:25:39.739Z"
   },
   {
    "duration": 7,
    "start_time": "2023-04-03T14:25:39.743Z"
   },
   {
    "duration": 8,
    "start_time": "2023-04-03T14:25:39.751Z"
   },
   {
    "duration": 6,
    "start_time": "2023-04-03T14:25:39.761Z"
   },
   {
    "duration": 66,
    "start_time": "2023-04-03T14:25:39.768Z"
   },
   {
    "duration": 15,
    "start_time": "2023-04-03T14:25:39.836Z"
   },
   {
    "duration": 11,
    "start_time": "2023-04-03T14:25:39.853Z"
   },
   {
    "duration": 71,
    "start_time": "2023-04-03T14:25:39.865Z"
   },
   {
    "duration": 8,
    "start_time": "2023-04-03T14:25:39.940Z"
   },
   {
    "duration": 12,
    "start_time": "2023-04-03T14:25:39.950Z"
   },
   {
    "duration": 8,
    "start_time": "2023-04-03T14:25:39.963Z"
   },
   {
    "duration": 65,
    "start_time": "2023-04-03T14:25:39.982Z"
   },
   {
    "duration": 6,
    "start_time": "2023-04-03T14:25:40.049Z"
   },
   {
    "duration": 7983,
    "start_time": "2023-04-03T14:25:40.057Z"
   },
   {
    "duration": 37,
    "start_time": "2023-04-03T14:25:48.078Z"
   },
   {
    "duration": 855,
    "start_time": "2023-04-03T14:25:48.121Z"
   },
   {
    "duration": 3,
    "start_time": "2023-04-03T14:25:48.977Z"
   },
   {
    "duration": 2,
    "start_time": "2023-04-03T14:25:48.981Z"
   },
   {
    "duration": 14009,
    "start_time": "2023-04-03T14:25:48.985Z"
   },
   {
    "duration": 30,
    "start_time": "2023-04-03T14:26:02.999Z"
   },
   {
    "duration": 24,
    "start_time": "2023-04-03T14:26:03.032Z"
   },
   {
    "duration": 100,
    "start_time": "2023-04-03T14:26:03.058Z"
   },
   {
    "duration": 72,
    "start_time": "2023-04-03T14:26:03.160Z"
   },
   {
    "duration": 12,
    "start_time": "2023-04-03T14:26:03.234Z"
   },
   {
    "duration": 11,
    "start_time": "2023-04-03T14:26:03.247Z"
   },
   {
    "duration": 10,
    "start_time": "2023-04-03T14:26:03.260Z"
   },
   {
    "duration": 65,
    "start_time": "2023-04-03T14:26:03.274Z"
   },
   {
    "duration": 19,
    "start_time": "2023-04-03T14:26:03.341Z"
   },
   {
    "duration": 27,
    "start_time": "2023-04-03T14:26:03.362Z"
   },
   {
    "duration": 54,
    "start_time": "2023-04-03T14:26:03.391Z"
   },
   {
    "duration": 11,
    "start_time": "2023-04-03T14:26:03.446Z"
   },
   {
    "duration": 2500,
    "start_time": "2023-04-03T14:34:52.162Z"
   },
   {
    "duration": 4,
    "start_time": "2023-04-03T14:34:54.665Z"
   },
   {
    "duration": 127,
    "start_time": "2023-04-03T14:34:54.670Z"
   },
   {
    "duration": 20,
    "start_time": "2023-04-03T14:34:54.798Z"
   },
   {
    "duration": 58,
    "start_time": "2023-04-03T14:34:54.823Z"
   },
   {
    "duration": 115,
    "start_time": "2023-04-03T14:34:54.883Z"
   },
   {
    "duration": 58,
    "start_time": "2023-04-03T14:34:55.001Z"
   },
   {
    "duration": 181,
    "start_time": "2023-04-03T14:34:55.060Z"
   },
   {
    "duration": 86,
    "start_time": "2023-04-03T14:34:55.243Z"
   },
   {
    "duration": 52,
    "start_time": "2023-04-03T14:34:55.333Z"
   },
   {
    "duration": 73,
    "start_time": "2023-04-03T14:34:55.387Z"
   },
   {
    "duration": 83,
    "start_time": "2023-04-03T14:34:55.461Z"
   },
   {
    "duration": 83,
    "start_time": "2023-04-03T14:34:55.546Z"
   },
   {
    "duration": 20,
    "start_time": "2023-04-03T14:34:55.634Z"
   },
   {
    "duration": 1085,
    "start_time": "2023-04-03T14:34:55.656Z"
   },
   {
    "duration": 1134,
    "start_time": "2023-04-03T14:34:56.745Z"
   },
   {
    "duration": 9,
    "start_time": "2023-04-03T14:34:57.880Z"
   },
   {
    "duration": 51,
    "start_time": "2023-04-03T14:34:57.890Z"
   },
   {
    "duration": 9,
    "start_time": "2023-04-03T14:34:57.943Z"
   },
   {
    "duration": 27,
    "start_time": "2023-04-03T14:34:57.954Z"
   },
   {
    "duration": 76,
    "start_time": "2023-04-03T14:34:57.987Z"
   },
   {
    "duration": 37,
    "start_time": "2023-04-03T14:34:58.066Z"
   },
   {
    "duration": 48,
    "start_time": "2023-04-03T14:34:58.104Z"
   },
   {
    "duration": 96,
    "start_time": "2023-04-03T14:34:58.154Z"
   },
   {
    "duration": 10,
    "start_time": "2023-04-03T14:34:58.252Z"
   },
   {
    "duration": 18,
    "start_time": "2023-04-03T14:34:58.264Z"
   },
   {
    "duration": 57,
    "start_time": "2023-04-03T14:34:58.284Z"
   },
   {
    "duration": 17,
    "start_time": "2023-04-03T14:34:58.343Z"
   },
   {
    "duration": 39,
    "start_time": "2023-04-03T14:34:58.362Z"
   },
   {
    "duration": 48,
    "start_time": "2023-04-03T14:34:58.403Z"
   },
   {
    "duration": 26,
    "start_time": "2023-04-03T14:34:58.453Z"
   },
   {
    "duration": 65,
    "start_time": "2023-04-03T14:34:58.480Z"
   },
   {
    "duration": 4,
    "start_time": "2023-04-03T14:34:58.547Z"
   },
   {
    "duration": 10,
    "start_time": "2023-04-03T14:34:58.553Z"
   },
   {
    "duration": 31,
    "start_time": "2023-04-03T14:34:58.565Z"
   },
   {
    "duration": 52,
    "start_time": "2023-04-03T14:34:58.598Z"
   },
   {
    "duration": 7,
    "start_time": "2023-04-03T14:34:58.652Z"
   },
   {
    "duration": 23,
    "start_time": "2023-04-03T14:34:58.660Z"
   },
   {
    "duration": 83,
    "start_time": "2023-04-03T14:34:58.685Z"
   },
   {
    "duration": 4,
    "start_time": "2023-04-03T14:34:58.770Z"
   },
   {
    "duration": 2,
    "start_time": "2023-04-03T14:34:58.778Z"
   },
   {
    "duration": 11,
    "start_time": "2023-04-03T14:34:58.782Z"
   },
   {
    "duration": 4,
    "start_time": "2023-04-03T14:34:58.795Z"
   },
   {
    "duration": 57,
    "start_time": "2023-04-03T14:34:58.800Z"
   },
   {
    "duration": 22,
    "start_time": "2023-04-03T14:34:58.859Z"
   },
   {
    "duration": 160,
    "start_time": "2023-04-03T14:34:58.883Z"
   },
   {
    "duration": 104,
    "start_time": "2023-04-03T14:34:59.045Z"
   },
   {
    "duration": 19,
    "start_time": "2023-04-03T14:34:59.151Z"
   },
   {
    "duration": 67,
    "start_time": "2023-04-03T14:34:59.171Z"
   },
   {
    "duration": 42,
    "start_time": "2023-04-03T14:34:59.240Z"
   },
   {
    "duration": 62,
    "start_time": "2023-04-03T14:34:59.284Z"
   },
   {
    "duration": 20,
    "start_time": "2023-04-03T14:34:59.348Z"
   },
   {
    "duration": 64,
    "start_time": "2023-04-03T14:34:59.370Z"
   },
   {
    "duration": 64,
    "start_time": "2023-04-03T14:34:59.436Z"
   },
   {
    "duration": 26,
    "start_time": "2023-04-03T14:34:59.502Z"
   },
   {
    "duration": 893,
    "start_time": "2023-04-03T14:34:59.529Z"
   },
   {
    "duration": 3,
    "start_time": "2023-04-03T14:35:00.423Z"
   },
   {
    "duration": 72,
    "start_time": "2023-04-03T14:35:00.428Z"
   },
   {
    "duration": 1175,
    "start_time": "2023-04-03T14:35:00.502Z"
   },
   {
    "duration": 32,
    "start_time": "2023-04-03T14:35:01.683Z"
   },
   {
    "duration": 180,
    "start_time": "2023-04-03T14:35:01.724Z"
   },
   {
    "duration": 254,
    "start_time": "2023-04-03T14:35:01.909Z"
   },
   {
    "duration": 183,
    "start_time": "2023-04-03T14:35:02.165Z"
   },
   {
    "duration": 117,
    "start_time": "2023-04-03T14:35:02.350Z"
   },
   {
    "duration": 98,
    "start_time": "2023-04-03T14:35:02.468Z"
   },
   {
    "duration": 124,
    "start_time": "2023-04-03T14:35:02.568Z"
   },
   {
    "duration": 250,
    "start_time": "2023-04-03T14:35:02.694Z"
   },
   {
    "duration": 145,
    "start_time": "2023-04-03T14:35:02.946Z"
   },
   {
    "duration": 106,
    "start_time": "2023-04-03T14:35:03.094Z"
   },
   {
    "duration": 58,
    "start_time": "2023-04-03T14:35:03.202Z"
   },
   {
    "duration": 79,
    "start_time": "2023-04-03T14:35:03.262Z"
   },
   {
    "duration": 86083,
    "start_time": "2023-04-03T14:35:03.343Z"
   },
   {
    "duration": 14,
    "start_time": "2023-04-03T14:36:29.437Z"
   },
   {
    "duration": 7831,
    "start_time": "2023-04-03T14:36:29.458Z"
   },
   {
    "duration": 6,
    "start_time": "2023-04-03T14:36:37.297Z"
   },
   {
    "duration": 41,
    "start_time": "2023-04-03T14:36:37.305Z"
   },
   {
    "duration": 8001,
    "start_time": "2023-04-03T14:37:31.599Z"
   },
   {
    "duration": 20,
    "start_time": "2023-04-03T14:37:39.619Z"
   },
   {
    "duration": 7439,
    "start_time": "2023-04-03T14:37:51.515Z"
   },
   {
    "duration": 12,
    "start_time": "2023-04-03T14:38:08.173Z"
   },
   {
    "duration": 10,
    "start_time": "2023-04-03T14:38:12.831Z"
   },
   {
    "duration": 2373,
    "start_time": "2023-04-03T14:38:27.831Z"
   },
   {
    "duration": 7,
    "start_time": "2023-04-03T14:38:30.206Z"
   },
   {
    "duration": 429,
    "start_time": "2023-04-03T14:38:48.315Z"
   },
   {
    "duration": 434,
    "start_time": "2023-04-03T14:38:55.136Z"
   },
   {
    "duration": 14,
    "start_time": "2023-04-03T14:39:02.868Z"
   },
   {
    "duration": 106640,
    "start_time": "2023-04-03T14:39:12.745Z"
   },
   {
    "duration": 16,
    "start_time": "2023-04-03T14:40:59.396Z"
   },
   {
    "duration": 12130,
    "start_time": "2023-04-03T14:40:59.423Z"
   },
   {
    "duration": 5,
    "start_time": "2023-04-03T14:41:11.555Z"
   },
   {
    "duration": 30,
    "start_time": "2023-04-03T14:41:11.562Z"
   },
   {
    "duration": 17,
    "start_time": "2023-04-03T14:41:48.997Z"
   },
   {
    "duration": 746,
    "start_time": "2023-04-03T14:43:16.289Z"
   },
   {
    "duration": 605,
    "start_time": "2023-04-03T14:43:30.942Z"
   },
   {
    "duration": 529,
    "start_time": "2023-04-03T14:43:52.032Z"
   },
   {
    "duration": 10,
    "start_time": "2023-04-03T14:43:56.367Z"
   },
   {
    "duration": 6,
    "start_time": "2023-04-03T14:44:18.797Z"
   },
   {
    "duration": 2117,
    "start_time": "2023-04-03T14:44:50.977Z"
   },
   {
    "duration": 6,
    "start_time": "2023-04-03T14:44:53.096Z"
   },
   {
    "duration": 54,
    "start_time": "2023-04-03T14:44:53.103Z"
   },
   {
    "duration": 25,
    "start_time": "2023-04-03T14:44:53.158Z"
   },
   {
    "duration": 29,
    "start_time": "2023-04-03T14:44:53.186Z"
   },
   {
    "duration": 19,
    "start_time": "2023-04-03T14:44:53.216Z"
   },
   {
    "duration": 29,
    "start_time": "2023-04-03T14:44:53.236Z"
   },
   {
    "duration": 50,
    "start_time": "2023-04-03T14:44:53.267Z"
   },
   {
    "duration": 38,
    "start_time": "2023-04-03T14:44:53.319Z"
   },
   {
    "duration": 56,
    "start_time": "2023-04-03T14:44:53.359Z"
   },
   {
    "duration": 8,
    "start_time": "2023-04-03T14:44:53.416Z"
   },
   {
    "duration": 15,
    "start_time": "2023-04-03T14:44:53.425Z"
   },
   {
    "duration": 27,
    "start_time": "2023-04-03T14:44:53.442Z"
   },
   {
    "duration": 43,
    "start_time": "2023-04-03T14:44:53.472Z"
   },
   {
    "duration": 864,
    "start_time": "2023-04-03T14:44:53.517Z"
   },
   {
    "duration": 881,
    "start_time": "2023-04-03T14:44:54.382Z"
   },
   {
    "duration": 3,
    "start_time": "2023-04-03T14:44:55.264Z"
   },
   {
    "duration": 59,
    "start_time": "2023-04-03T14:44:55.269Z"
   },
   {
    "duration": 6,
    "start_time": "2023-04-03T14:44:55.330Z"
   },
   {
    "duration": 21,
    "start_time": "2023-04-03T14:44:55.338Z"
   },
   {
    "duration": 18,
    "start_time": "2023-04-03T14:44:55.360Z"
   },
   {
    "duration": 41,
    "start_time": "2023-04-03T14:44:55.380Z"
   },
   {
    "duration": 10,
    "start_time": "2023-04-03T14:44:55.423Z"
   },
   {
    "duration": 15,
    "start_time": "2023-04-03T14:44:55.435Z"
   },
   {
    "duration": 12,
    "start_time": "2023-04-03T14:44:55.452Z"
   },
   {
    "duration": 16,
    "start_time": "2023-04-03T14:44:55.466Z"
   },
   {
    "duration": 36,
    "start_time": "2023-04-03T14:44:55.484Z"
   },
   {
    "duration": 24,
    "start_time": "2023-04-03T14:44:55.521Z"
   },
   {
    "duration": 11,
    "start_time": "2023-04-03T14:44:55.546Z"
   },
   {
    "duration": 56,
    "start_time": "2023-04-03T14:44:55.558Z"
   },
   {
    "duration": 8,
    "start_time": "2023-04-03T14:44:55.616Z"
   },
   {
    "duration": 7,
    "start_time": "2023-04-03T14:44:55.626Z"
   },
   {
    "duration": 12,
    "start_time": "2023-04-03T14:44:55.634Z"
   },
   {
    "duration": 27,
    "start_time": "2023-04-03T14:44:55.647Z"
   },
   {
    "duration": 60,
    "start_time": "2023-04-03T14:44:55.676Z"
   },
   {
    "duration": 12,
    "start_time": "2023-04-03T14:44:55.737Z"
   },
   {
    "duration": 4,
    "start_time": "2023-04-03T14:44:55.751Z"
   },
   {
    "duration": 27,
    "start_time": "2023-04-03T14:44:55.756Z"
   },
   {
    "duration": 45,
    "start_time": "2023-04-03T14:44:55.784Z"
   },
   {
    "duration": 7,
    "start_time": "2023-04-03T14:44:55.830Z"
   },
   {
    "duration": 7,
    "start_time": "2023-04-03T14:44:55.840Z"
   },
   {
    "duration": 9,
    "start_time": "2023-04-03T14:44:55.848Z"
   },
   {
    "duration": 12,
    "start_time": "2023-04-03T14:44:55.858Z"
   },
   {
    "duration": 46,
    "start_time": "2023-04-03T14:44:55.878Z"
   },
   {
    "duration": 13,
    "start_time": "2023-04-03T14:44:55.926Z"
   },
   {
    "duration": 18,
    "start_time": "2023-04-03T14:44:55.941Z"
   },
   {
    "duration": 33,
    "start_time": "2023-04-03T14:44:55.960Z"
   },
   {
    "duration": 28,
    "start_time": "2023-04-03T14:44:56.001Z"
   },
   {
    "duration": 5,
    "start_time": "2023-04-03T14:44:56.031Z"
   },
   {
    "duration": 7,
    "start_time": "2023-04-03T14:44:56.037Z"
   },
   {
    "duration": 11,
    "start_time": "2023-04-03T14:44:56.045Z"
   },
   {
    "duration": 54,
    "start_time": "2023-04-03T14:44:56.058Z"
   },
   {
    "duration": 15,
    "start_time": "2023-04-03T14:44:56.114Z"
   },
   {
    "duration": 155,
    "start_time": "2023-04-03T14:44:56.131Z"
   },
   {
    "duration": 20,
    "start_time": "2023-04-03T14:44:56.288Z"
   },
   {
    "duration": 693,
    "start_time": "2023-04-03T14:44:56.311Z"
   },
   {
    "duration": 3,
    "start_time": "2023-04-03T14:44:57.006Z"
   },
   {
    "duration": 11,
    "start_time": "2023-04-03T14:44:57.011Z"
   },
   {
    "duration": 396,
    "start_time": "2023-04-03T14:44:57.023Z"
   },
   {
    "duration": 21,
    "start_time": "2023-04-03T14:44:57.482Z"
   },
   {
    "duration": 15,
    "start_time": "2023-04-03T14:44:57.508Z"
   },
   {
    "duration": 7,
    "start_time": "2023-04-03T14:44:57.525Z"
   },
   {
    "duration": 5,
    "start_time": "2023-04-03T14:44:57.533Z"
   },
   {
    "duration": 5,
    "start_time": "2023-04-03T14:44:57.539Z"
   },
   {
    "duration": 5,
    "start_time": "2023-04-03T14:44:57.546Z"
   },
   {
    "duration": 64,
    "start_time": "2023-04-03T14:44:57.552Z"
   },
   {
    "duration": 6,
    "start_time": "2023-04-03T14:44:57.619Z"
   },
   {
    "duration": 5,
    "start_time": "2023-04-03T14:44:57.626Z"
   },
   {
    "duration": 33,
    "start_time": "2023-04-03T14:44:57.632Z"
   },
   {
    "duration": 45,
    "start_time": "2023-04-03T14:44:57.667Z"
   },
   {
    "duration": 5,
    "start_time": "2023-04-03T14:44:57.714Z"
   },
   {
    "duration": 9239,
    "start_time": "2023-04-03T14:44:57.720Z"
   },
   {
    "duration": 0,
    "start_time": "2023-04-03T14:45:06.961Z"
   },
   {
    "duration": 0,
    "start_time": "2023-04-03T14:45:06.963Z"
   },
   {
    "duration": 0,
    "start_time": "2023-04-03T14:45:06.964Z"
   },
   {
    "duration": 0,
    "start_time": "2023-04-03T14:45:06.965Z"
   },
   {
    "duration": 0,
    "start_time": "2023-04-03T14:45:06.966Z"
   },
   {
    "duration": 0,
    "start_time": "2023-04-03T14:45:06.968Z"
   },
   {
    "duration": 0,
    "start_time": "2023-04-03T14:45:06.969Z"
   },
   {
    "duration": 0,
    "start_time": "2023-04-03T14:45:06.970Z"
   },
   {
    "duration": 0,
    "start_time": "2023-04-03T14:45:06.971Z"
   },
   {
    "duration": 0,
    "start_time": "2023-04-03T14:45:06.971Z"
   },
   {
    "duration": 0,
    "start_time": "2023-04-03T14:45:06.972Z"
   },
   {
    "duration": 0,
    "start_time": "2023-04-03T14:45:06.972Z"
   },
   {
    "duration": 0,
    "start_time": "2023-04-03T14:45:06.973Z"
   },
   {
    "duration": 0,
    "start_time": "2023-04-03T14:45:06.973Z"
   },
   {
    "duration": 0,
    "start_time": "2023-04-03T14:45:06.974Z"
   },
   {
    "duration": 0,
    "start_time": "2023-04-03T14:45:06.974Z"
   },
   {
    "duration": 2499,
    "start_time": "2023-04-03T14:46:35.526Z"
   },
   {
    "duration": 4,
    "start_time": "2023-04-03T14:46:38.028Z"
   },
   {
    "duration": 61,
    "start_time": "2023-04-03T14:46:38.033Z"
   },
   {
    "duration": 15,
    "start_time": "2023-04-03T14:46:38.096Z"
   },
   {
    "duration": 17,
    "start_time": "2023-04-03T14:46:38.114Z"
   },
   {
    "duration": 11,
    "start_time": "2023-04-03T14:46:38.132Z"
   },
   {
    "duration": 19,
    "start_time": "2023-04-03T14:46:38.145Z"
   },
   {
    "duration": 57,
    "start_time": "2023-04-03T14:46:38.165Z"
   },
   {
    "duration": 34,
    "start_time": "2023-04-03T14:46:38.224Z"
   },
   {
    "duration": 6,
    "start_time": "2023-04-03T14:46:38.260Z"
   },
   {
    "duration": 56,
    "start_time": "2023-04-03T14:46:38.267Z"
   },
   {
    "duration": 29,
    "start_time": "2023-04-03T14:46:38.325Z"
   },
   {
    "duration": 23,
    "start_time": "2023-04-03T14:46:38.356Z"
   },
   {
    "duration": 41,
    "start_time": "2023-04-03T14:46:38.383Z"
   },
   {
    "duration": 1005,
    "start_time": "2023-04-03T14:46:38.426Z"
   },
   {
    "duration": 1011,
    "start_time": "2023-04-03T14:46:39.432Z"
   },
   {
    "duration": 3,
    "start_time": "2023-04-03T14:46:40.445Z"
   },
   {
    "duration": 9,
    "start_time": "2023-04-03T14:46:40.449Z"
   },
   {
    "duration": 7,
    "start_time": "2023-04-03T14:46:40.460Z"
   },
   {
    "duration": 32,
    "start_time": "2023-04-03T14:46:40.468Z"
   },
   {
    "duration": 27,
    "start_time": "2023-04-03T14:46:40.502Z"
   },
   {
    "duration": 18,
    "start_time": "2023-04-03T14:46:40.531Z"
   },
   {
    "duration": 9,
    "start_time": "2023-04-03T14:46:40.551Z"
   },
   {
    "duration": 28,
    "start_time": "2023-04-03T14:46:40.561Z"
   },
   {
    "duration": 37,
    "start_time": "2023-04-03T14:46:40.591Z"
   },
   {
    "duration": 16,
    "start_time": "2023-04-03T14:46:40.630Z"
   },
   {
    "duration": 9,
    "start_time": "2023-04-03T14:46:40.648Z"
   },
   {
    "duration": 6,
    "start_time": "2023-04-03T14:46:40.659Z"
   },
   {
    "duration": 5,
    "start_time": "2023-04-03T14:46:40.666Z"
   },
   {
    "duration": 38,
    "start_time": "2023-04-03T14:46:40.683Z"
   },
   {
    "duration": 12,
    "start_time": "2023-04-03T14:46:40.723Z"
   },
   {
    "duration": 5,
    "start_time": "2023-04-03T14:46:40.736Z"
   },
   {
    "duration": 6,
    "start_time": "2023-04-03T14:46:40.742Z"
   },
   {
    "duration": 8,
    "start_time": "2023-04-03T14:46:40.749Z"
   },
   {
    "duration": 12,
    "start_time": "2023-04-03T14:46:40.758Z"
   },
   {
    "duration": 40,
    "start_time": "2023-04-03T14:46:40.783Z"
   },
   {
    "duration": 7,
    "start_time": "2023-04-03T14:46:40.824Z"
   },
   {
    "duration": 18,
    "start_time": "2023-04-03T14:46:40.832Z"
   },
   {
    "duration": 33,
    "start_time": "2023-04-03T14:46:40.851Z"
   },
   {
    "duration": 47,
    "start_time": "2023-04-03T14:46:40.885Z"
   },
   {
    "duration": 4,
    "start_time": "2023-04-03T14:46:40.938Z"
   },
   {
    "duration": 7,
    "start_time": "2023-04-03T14:46:40.944Z"
   },
   {
    "duration": 8,
    "start_time": "2023-04-03T14:46:40.953Z"
   },
   {
    "duration": 30,
    "start_time": "2023-04-03T14:46:40.963Z"
   },
   {
    "duration": 18,
    "start_time": "2023-04-03T14:46:41.000Z"
   },
   {
    "duration": 9,
    "start_time": "2023-04-03T14:46:41.020Z"
   },
   {
    "duration": 30,
    "start_time": "2023-04-03T14:46:41.030Z"
   },
   {
    "duration": 64,
    "start_time": "2023-04-03T14:46:41.062Z"
   },
   {
    "duration": 6,
    "start_time": "2023-04-03T14:46:41.128Z"
   },
   {
    "duration": 16,
    "start_time": "2023-04-03T14:46:41.136Z"
   },
   {
    "duration": 58,
    "start_time": "2023-04-03T14:46:41.154Z"
   },
   {
    "duration": 26,
    "start_time": "2023-04-03T14:46:41.214Z"
   },
   {
    "duration": 12,
    "start_time": "2023-04-03T14:46:41.242Z"
   },
   {
    "duration": 826,
    "start_time": "2023-04-03T14:46:41.255Z"
   },
   {
    "duration": 32,
    "start_time": "2023-04-03T14:46:42.082Z"
   },
   {
    "duration": 784,
    "start_time": "2023-04-03T14:46:42.119Z"
   },
   {
    "duration": 6,
    "start_time": "2023-04-03T14:46:42.908Z"
   },
   {
    "duration": 28,
    "start_time": "2023-04-03T14:46:42.921Z"
   },
   {
    "duration": 748,
    "start_time": "2023-04-03T14:46:42.951Z"
   },
   {
    "duration": 82,
    "start_time": "2023-04-03T14:46:43.701Z"
   },
   {
    "duration": 29,
    "start_time": "2023-04-03T14:46:43.789Z"
   },
   {
    "duration": 7,
    "start_time": "2023-04-03T14:46:43.820Z"
   },
   {
    "duration": 9,
    "start_time": "2023-04-03T14:46:43.828Z"
   },
   {
    "duration": 5,
    "start_time": "2023-04-03T14:46:43.838Z"
   },
   {
    "duration": 5,
    "start_time": "2023-04-03T14:46:43.845Z"
   },
   {
    "duration": 5,
    "start_time": "2023-04-03T14:46:43.851Z"
   },
   {
    "duration": 7,
    "start_time": "2023-04-03T14:46:43.857Z"
   },
   {
    "duration": 12,
    "start_time": "2023-04-03T14:46:43.865Z"
   },
   {
    "duration": 41,
    "start_time": "2023-04-03T14:46:43.879Z"
   },
   {
    "duration": 11,
    "start_time": "2023-04-03T14:46:43.922Z"
   },
   {
    "duration": 4,
    "start_time": "2023-04-03T14:46:43.935Z"
   },
   {
    "duration": 44957,
    "start_time": "2023-04-03T14:46:43.940Z"
   },
   {
    "duration": 7,
    "start_time": "2023-04-03T14:47:28.899Z"
   },
   {
    "duration": 7219,
    "start_time": "2023-04-03T14:47:28.907Z"
   },
   {
    "duration": 10,
    "start_time": "2023-04-03T14:47:36.127Z"
   },
   {
    "duration": 3151,
    "start_time": "2023-04-03T14:47:36.139Z"
   },
   {
    "duration": 15,
    "start_time": "2023-04-03T14:47:39.293Z"
   },
   {
    "duration": 4145,
    "start_time": "2023-04-03T14:47:39.310Z"
   },
   {
    "duration": 6,
    "start_time": "2023-04-03T14:47:43.457Z"
   },
   {
    "duration": 1713,
    "start_time": "2023-04-03T14:47:43.465Z"
   },
   {
    "duration": 7,
    "start_time": "2023-04-03T14:47:45.180Z"
   },
   {
    "duration": 455,
    "start_time": "2023-04-03T14:47:45.189Z"
   },
   {
    "duration": 5,
    "start_time": "2023-04-03T14:47:45.645Z"
   },
   {
    "duration": 61060,
    "start_time": "2023-04-03T14:47:45.651Z"
   },
   {
    "duration": 14,
    "start_time": "2023-04-03T14:48:46.714Z"
   },
   {
    "duration": 10296,
    "start_time": "2023-04-03T14:48:46.729Z"
   },
   {
    "duration": 4,
    "start_time": "2023-04-03T14:48:57.027Z"
   },
   {
    "duration": 177,
    "start_time": "2023-04-03T14:48:57.035Z"
   },
   {
    "duration": 0,
    "start_time": "2023-04-03T14:48:57.215Z"
   },
   {
    "duration": 0,
    "start_time": "2023-04-03T14:48:57.216Z"
   },
   {
    "duration": 0,
    "start_time": "2023-04-03T14:48:57.217Z"
   },
   {
    "duration": 0,
    "start_time": "2023-04-03T14:48:57.219Z"
   },
   {
    "duration": 327046,
    "start_time": "2023-04-03T14:49:57.290Z"
   },
   {
    "duration": 4470,
    "start_time": "2023-04-03T14:55:41.340Z"
   },
   {
    "duration": 11,
    "start_time": "2023-04-03T14:55:58.114Z"
   },
   {
    "duration": 24514,
    "start_time": "2023-04-03T14:56:07.198Z"
   },
   {
    "duration": 2025,
    "start_time": "2023-04-03T14:58:46.392Z"
   },
   {
    "duration": 3,
    "start_time": "2023-04-03T14:58:48.419Z"
   },
   {
    "duration": 35,
    "start_time": "2023-04-03T14:58:48.424Z"
   },
   {
    "duration": 25,
    "start_time": "2023-04-03T14:58:48.460Z"
   },
   {
    "duration": 4,
    "start_time": "2023-04-03T14:58:48.499Z"
   },
   {
    "duration": 6,
    "start_time": "2023-04-03T14:58:48.504Z"
   },
   {
    "duration": 15,
    "start_time": "2023-04-03T14:58:48.511Z"
   },
   {
    "duration": 7,
    "start_time": "2023-04-03T14:58:48.527Z"
   },
   {
    "duration": 28,
    "start_time": "2023-04-03T14:58:48.535Z"
   },
   {
    "duration": 4,
    "start_time": "2023-04-03T14:58:48.565Z"
   },
   {
    "duration": 34,
    "start_time": "2023-04-03T14:58:48.570Z"
   },
   {
    "duration": 7,
    "start_time": "2023-04-03T14:58:48.606Z"
   },
   {
    "duration": 6,
    "start_time": "2023-04-03T14:58:48.615Z"
   },
   {
    "duration": 4,
    "start_time": "2023-04-03T14:58:48.624Z"
   },
   {
    "duration": 792,
    "start_time": "2023-04-03T14:58:48.629Z"
   },
   {
    "duration": 848,
    "start_time": "2023-04-03T14:58:49.423Z"
   },
   {
    "duration": 11,
    "start_time": "2023-04-03T14:58:50.282Z"
   },
   {
    "duration": 10,
    "start_time": "2023-04-03T14:58:50.295Z"
   },
   {
    "duration": 8,
    "start_time": "2023-04-03T14:58:50.306Z"
   },
   {
    "duration": 7,
    "start_time": "2023-04-03T14:58:50.315Z"
   },
   {
    "duration": 6,
    "start_time": "2023-04-03T14:58:50.324Z"
   },
   {
    "duration": 14,
    "start_time": "2023-04-03T14:58:50.331Z"
   },
   {
    "duration": 5,
    "start_time": "2023-04-03T14:58:50.347Z"
   },
   {
    "duration": 41,
    "start_time": "2023-04-03T14:58:50.353Z"
   },
   {
    "duration": 15,
    "start_time": "2023-04-03T14:58:50.395Z"
   },
   {
    "duration": 18,
    "start_time": "2023-04-03T14:58:50.412Z"
   },
   {
    "duration": 7,
    "start_time": "2023-04-03T14:58:50.431Z"
   },
   {
    "duration": 12,
    "start_time": "2023-04-03T14:58:50.439Z"
   },
   {
    "duration": 25,
    "start_time": "2023-04-03T14:58:50.452Z"
   },
   {
    "duration": 29,
    "start_time": "2023-04-03T14:58:50.479Z"
   },
   {
    "duration": 14,
    "start_time": "2023-04-03T14:58:50.509Z"
   },
   {
    "duration": 4,
    "start_time": "2023-04-03T14:58:50.524Z"
   },
   {
    "duration": 6,
    "start_time": "2023-04-03T14:58:50.529Z"
   },
   {
    "duration": 9,
    "start_time": "2023-04-03T14:58:50.536Z"
   },
   {
    "duration": 10,
    "start_time": "2023-04-03T14:58:50.546Z"
   },
   {
    "duration": 13,
    "start_time": "2023-04-03T14:58:50.557Z"
   },
   {
    "duration": 48,
    "start_time": "2023-04-03T14:58:50.571Z"
   },
   {
    "duration": 20,
    "start_time": "2023-04-03T14:58:50.620Z"
   },
   {
    "duration": 53,
    "start_time": "2023-04-03T14:58:50.641Z"
   },
   {
    "duration": 13,
    "start_time": "2023-04-03T14:58:50.696Z"
   },
   {
    "duration": 6,
    "start_time": "2023-04-03T14:58:50.712Z"
   },
   {
    "duration": 16,
    "start_time": "2023-04-03T14:58:50.720Z"
   },
   {
    "duration": 12,
    "start_time": "2023-04-03T14:58:50.737Z"
   },
   {
    "duration": 9,
    "start_time": "2023-04-03T14:58:50.751Z"
   },
   {
    "duration": 36,
    "start_time": "2023-04-03T14:58:50.761Z"
   },
   {
    "duration": 26,
    "start_time": "2023-04-03T14:58:50.799Z"
   },
   {
    "duration": 12,
    "start_time": "2023-04-03T14:58:50.826Z"
   },
   {
    "duration": 19,
    "start_time": "2023-04-03T14:58:50.839Z"
   },
   {
    "duration": 36,
    "start_time": "2023-04-03T14:58:50.859Z"
   },
   {
    "duration": 22,
    "start_time": "2023-04-03T14:58:50.897Z"
   },
   {
    "duration": 7,
    "start_time": "2023-04-03T14:58:50.920Z"
   },
   {
    "duration": 10,
    "start_time": "2023-04-03T14:58:50.928Z"
   },
   {
    "duration": 23,
    "start_time": "2023-04-03T14:58:50.940Z"
   },
   {
    "duration": 117,
    "start_time": "2023-04-03T14:58:50.964Z"
   },
   {
    "duration": 17,
    "start_time": "2023-04-03T14:58:51.083Z"
   },
   {
    "duration": 374,
    "start_time": "2023-04-03T14:58:58.123Z"
   },
   {
    "duration": 4,
    "start_time": "2023-04-03T14:59:06.499Z"
   },
   {
    "duration": 6,
    "start_time": "2023-04-03T14:59:09.009Z"
   },
   {
    "duration": 5,
    "start_time": "2023-04-03T14:59:14.723Z"
   },
   {
    "duration": 9,
    "start_time": "2023-04-03T14:59:17.511Z"
   },
   {
    "duration": 611,
    "start_time": "2023-04-03T14:59:26.624Z"
   },
   {
    "duration": 3,
    "start_time": "2023-04-03T14:59:34.112Z"
   },
   {
    "duration": 9,
    "start_time": "2023-04-03T14:59:34.502Z"
   },
   {
    "duration": 206,
    "start_time": "2023-04-03T14:59:35.011Z"
   },
   {
    "duration": 10,
    "start_time": "2023-04-03T14:59:35.611Z"
   },
   {
    "duration": 3,
    "start_time": "2023-04-03T14:59:37.206Z"
   },
   {
    "duration": 3,
    "start_time": "2023-04-03T14:59:37.460Z"
   },
   {
    "duration": 5,
    "start_time": "2023-04-03T14:59:37.735Z"
   },
   {
    "duration": 3,
    "start_time": "2023-04-03T14:59:38.059Z"
   },
   {
    "duration": 6,
    "start_time": "2023-04-03T14:59:38.403Z"
   },
   {
    "duration": 3,
    "start_time": "2023-04-03T14:59:38.510Z"
   },
   {
    "duration": 3,
    "start_time": "2023-04-03T14:59:38.666Z"
   },
   {
    "duration": 3,
    "start_time": "2023-04-03T14:59:38.934Z"
   },
   {
    "duration": 3,
    "start_time": "2023-04-03T14:59:39.510Z"
   },
   {
    "duration": 3,
    "start_time": "2023-04-03T14:59:40.074Z"
   },
   {
    "duration": 2,
    "start_time": "2023-04-03T14:59:40.352Z"
   },
   {
    "duration": 52570,
    "start_time": "2023-04-03T14:59:40.935Z"
   },
   {
    "duration": 5,
    "start_time": "2023-04-03T15:00:33.510Z"
   },
   {
    "duration": 7584,
    "start_time": "2023-04-03T15:00:33.517Z"
   },
   {
    "duration": 16,
    "start_time": "2023-04-03T15:00:41.111Z"
   },
   {
    "duration": 5048,
    "start_time": "2023-04-03T15:00:41.129Z"
   },
   {
    "duration": 18,
    "start_time": "2023-04-03T15:00:46.179Z"
   },
   {
    "duration": 6669,
    "start_time": "2023-04-03T15:00:46.199Z"
   },
   {
    "duration": 28,
    "start_time": "2023-04-03T15:00:52.869Z"
   },
   {
    "duration": 2105,
    "start_time": "2023-04-03T15:00:52.899Z"
   },
   {
    "duration": 9,
    "start_time": "2023-04-03T15:00:55.007Z"
   },
   {
    "duration": 519,
    "start_time": "2023-04-03T15:00:55.018Z"
   },
   {
    "duration": 5,
    "start_time": "2023-04-03T15:00:55.539Z"
   },
   {
    "duration": 73571,
    "start_time": "2023-04-03T15:00:55.545Z"
   },
   {
    "duration": 16,
    "start_time": "2023-04-03T15:02:09.173Z"
   },
   {
    "duration": 10261,
    "start_time": "2023-04-03T15:02:09.191Z"
   },
   {
    "duration": 4,
    "start_time": "2023-04-03T15:02:19.454Z"
   },
   {
    "duration": 552649,
    "start_time": "2023-04-03T15:02:19.459Z"
   },
   {
    "duration": 1,
    "start_time": "2023-04-03T15:11:32.109Z"
   },
   {
    "duration": 0,
    "start_time": "2023-04-03T15:11:32.110Z"
   },
   {
    "duration": 0,
    "start_time": "2023-04-03T15:11:32.111Z"
   },
   {
    "duration": 0,
    "start_time": "2023-04-03T15:11:32.112Z"
   },
   {
    "duration": 0,
    "start_time": "2023-04-03T15:11:32.112Z"
   },
   {
    "duration": 17597,
    "start_time": "2023-04-03T15:11:35.494Z"
   },
   {
    "duration": 14,
    "start_time": "2023-04-03T15:11:57.628Z"
   },
   {
    "duration": 705,
    "start_time": "2023-04-03T15:12:02.597Z"
   },
   {
    "duration": 1795,
    "start_time": "2023-04-03T15:12:28.147Z"
   },
   {
    "duration": 3,
    "start_time": "2023-04-03T15:12:29.944Z"
   },
   {
    "duration": 75,
    "start_time": "2023-04-03T15:12:29.948Z"
   },
   {
    "duration": 16,
    "start_time": "2023-04-03T15:12:30.024Z"
   },
   {
    "duration": 87,
    "start_time": "2023-04-03T15:12:30.041Z"
   },
   {
    "duration": 20,
    "start_time": "2023-04-03T15:12:30.129Z"
   },
   {
    "duration": 191,
    "start_time": "2023-04-03T15:12:30.150Z"
   },
   {
    "duration": 54,
    "start_time": "2023-04-03T15:12:30.343Z"
   },
   {
    "duration": 55,
    "start_time": "2023-04-03T15:12:30.399Z"
   },
   {
    "duration": 65,
    "start_time": "2023-04-03T15:12:30.456Z"
   },
   {
    "duration": 34,
    "start_time": "2023-04-03T15:12:30.522Z"
   },
   {
    "duration": 65,
    "start_time": "2023-04-03T15:12:30.557Z"
   },
   {
    "duration": 45,
    "start_time": "2023-04-03T15:12:30.624Z"
   },
   {
    "duration": 69,
    "start_time": "2023-04-03T15:12:30.670Z"
   },
   {
    "duration": 1148,
    "start_time": "2023-04-03T15:12:30.741Z"
   },
   {
    "duration": 798,
    "start_time": "2023-04-03T15:12:31.891Z"
   },
   {
    "duration": 7,
    "start_time": "2023-04-03T15:12:32.691Z"
   },
   {
    "duration": 11,
    "start_time": "2023-04-03T15:12:32.700Z"
   },
   {
    "duration": 7,
    "start_time": "2023-04-03T15:12:32.713Z"
   },
   {
    "duration": 6,
    "start_time": "2023-04-03T15:12:32.721Z"
   },
   {
    "duration": 5,
    "start_time": "2023-04-03T15:12:32.728Z"
   },
   {
    "duration": 11,
    "start_time": "2023-04-03T15:12:32.734Z"
   },
   {
    "duration": 6,
    "start_time": "2023-04-03T15:12:32.746Z"
   },
   {
    "duration": 29,
    "start_time": "2023-04-03T15:12:32.754Z"
   },
   {
    "duration": 29,
    "start_time": "2023-04-03T15:12:32.790Z"
   },
   {
    "duration": 9,
    "start_time": "2023-04-03T15:12:32.821Z"
   },
   {
    "duration": 21,
    "start_time": "2023-04-03T15:12:32.831Z"
   },
   {
    "duration": 9,
    "start_time": "2023-04-03T15:12:32.855Z"
   },
   {
    "duration": 36,
    "start_time": "2023-04-03T15:12:32.866Z"
   },
   {
    "duration": 10,
    "start_time": "2023-04-03T15:12:32.904Z"
   },
   {
    "duration": 9,
    "start_time": "2023-04-03T15:12:32.916Z"
   },
   {
    "duration": 10,
    "start_time": "2023-04-03T15:12:32.927Z"
   },
   {
    "duration": 10,
    "start_time": "2023-04-03T15:12:32.938Z"
   },
   {
    "duration": 48,
    "start_time": "2023-04-03T15:12:32.950Z"
   },
   {
    "duration": 11,
    "start_time": "2023-04-03T15:12:33.000Z"
   },
   {
    "duration": 37,
    "start_time": "2023-04-03T15:12:33.012Z"
   },
   {
    "duration": 5,
    "start_time": "2023-04-03T15:12:33.051Z"
   },
   {
    "duration": 11,
    "start_time": "2023-04-03T15:12:33.058Z"
   },
   {
    "duration": 64,
    "start_time": "2023-04-03T15:12:33.071Z"
   },
   {
    "duration": 8,
    "start_time": "2023-04-03T15:12:33.136Z"
   },
   {
    "duration": 7,
    "start_time": "2023-04-03T15:12:33.145Z"
   },
   {
    "duration": 7,
    "start_time": "2023-04-03T15:12:33.154Z"
   },
   {
    "duration": 40,
    "start_time": "2023-04-03T15:12:33.162Z"
   },
   {
    "duration": 9,
    "start_time": "2023-04-03T15:12:33.204Z"
   },
   {
    "duration": 9,
    "start_time": "2023-04-03T15:12:33.214Z"
   },
   {
    "duration": 7,
    "start_time": "2023-04-03T15:12:33.224Z"
   },
   {
    "duration": 10,
    "start_time": "2023-04-03T15:12:33.233Z"
   },
   {
    "duration": 8,
    "start_time": "2023-04-03T15:12:33.244Z"
   },
   {
    "duration": 10,
    "start_time": "2023-04-03T15:12:33.253Z"
   },
   {
    "duration": 36,
    "start_time": "2023-04-03T15:12:33.264Z"
   },
   {
    "duration": 9,
    "start_time": "2023-04-03T15:12:33.302Z"
   },
   {
    "duration": 9,
    "start_time": "2023-04-03T15:12:33.312Z"
   },
   {
    "duration": 7,
    "start_time": "2023-04-03T15:12:33.322Z"
   },
   {
    "duration": 82,
    "start_time": "2023-04-03T15:12:33.331Z"
   },
   {
    "duration": 16,
    "start_time": "2023-04-03T15:12:33.475Z"
   },
   {
    "duration": 568,
    "start_time": "2023-04-03T15:12:33.493Z"
   },
   {
    "duration": 2,
    "start_time": "2023-04-03T15:12:34.062Z"
   },
   {
    "duration": 30,
    "start_time": "2023-04-03T15:12:34.065Z"
   },
   {
    "duration": 200,
    "start_time": "2023-04-03T15:12:34.097Z"
   },
   {
    "duration": 8,
    "start_time": "2023-04-03T15:12:34.301Z"
   },
   {
    "duration": 11,
    "start_time": "2023-04-03T15:12:34.311Z"
   },
   {
    "duration": 28,
    "start_time": "2023-04-03T15:12:34.323Z"
   },
   {
    "duration": 18,
    "start_time": "2023-04-03T15:12:34.352Z"
   },
   {
    "duration": 40,
    "start_time": "2023-04-03T15:12:34.371Z"
   },
   {
    "duration": 20,
    "start_time": "2023-04-03T15:12:34.412Z"
   },
   {
    "duration": 8,
    "start_time": "2023-04-03T15:12:34.434Z"
   },
   {
    "duration": 8,
    "start_time": "2023-04-03T15:12:34.443Z"
   },
   {
    "duration": 12,
    "start_time": "2023-04-03T15:12:34.452Z"
   },
   {
    "duration": 5,
    "start_time": "2023-04-03T15:12:34.465Z"
   },
   {
    "duration": 32,
    "start_time": "2023-04-03T15:12:34.471Z"
   },
   {
    "duration": 7,
    "start_time": "2023-04-03T15:12:34.505Z"
   },
   {
    "duration": 411191,
    "start_time": "2023-04-03T15:12:34.514Z"
   },
   {
    "duration": 5,
    "start_time": "2023-04-03T15:19:25.708Z"
   },
   {
    "duration": 71767,
    "start_time": "2023-04-03T15:19:25.715Z"
   },
   {
    "duration": 6,
    "start_time": "2023-04-03T15:20:37.484Z"
   },
   {
    "duration": 41894,
    "start_time": "2023-04-03T15:20:37.492Z"
   },
   {
    "duration": 11,
    "start_time": "2023-04-03T15:21:19.398Z"
   },
   {
    "duration": 48289,
    "start_time": "2023-04-03T15:21:19.414Z"
   },
   {
    "duration": 5,
    "start_time": "2023-04-03T15:22:07.705Z"
   },
   {
    "duration": 17097,
    "start_time": "2023-04-03T15:22:07.712Z"
   },
   {
    "duration": 5,
    "start_time": "2023-04-03T15:22:24.815Z"
   },
   {
    "duration": 3488,
    "start_time": "2023-04-03T15:22:24.879Z"
   },
   {
    "duration": 25,
    "start_time": "2023-04-03T15:22:28.368Z"
   },
   {
    "duration": 426577,
    "start_time": "2023-04-03T15:22:28.403Z"
   },
   {
    "duration": 18,
    "start_time": "2023-04-03T15:29:34.989Z"
   },
   {
    "duration": 96095,
    "start_time": "2023-04-03T15:29:35.010Z"
   },
   {
    "duration": 8,
    "start_time": "2023-04-03T15:31:11.107Z"
   },
   {
    "duration": 31,
    "start_time": "2023-04-03T15:31:11.117Z"
   },
   {
    "duration": 682,
    "start_time": "2023-04-03T15:31:11.150Z"
   },
   {
    "duration": 470,
    "start_time": "2023-04-03T15:42:57.746Z"
   },
   {
    "duration": 6,
    "start_time": "2023-04-03T15:43:07.411Z"
   },
   {
    "duration": 6,
    "start_time": "2023-04-03T15:43:14.390Z"
   },
   {
    "duration": 4,
    "start_time": "2023-04-03T15:43:18.223Z"
   },
   {
    "duration": 343,
    "start_time": "2023-04-03T15:43:33.886Z"
   },
   {
    "duration": 3,
    "start_time": "2023-04-03T15:46:25.654Z"
   },
   {
    "duration": 3,
    "start_time": "2023-04-03T15:46:49.213Z"
   },
   {
    "duration": 16,
    "start_time": "2023-04-03T15:48:10.426Z"
   },
   {
    "duration": 11,
    "start_time": "2023-04-03T15:48:42.043Z"
   },
   {
    "duration": 55,
    "start_time": "2023-04-03T15:48:52.105Z"
   },
   {
    "duration": 3,
    "start_time": "2023-04-03T15:49:42.111Z"
   },
   {
    "duration": 707,
    "start_time": "2023-04-03T15:49:42.811Z"
   },
   {
    "duration": 21,
    "start_time": "2023-04-03T15:49:48.271Z"
   },
   {
    "duration": 17,
    "start_time": "2023-04-03T15:50:05.672Z"
   },
   {
    "duration": 90,
    "start_time": "2023-04-03T15:50:06.447Z"
   },
   {
    "duration": 12,
    "start_time": "2023-04-03T15:50:33.849Z"
   },
   {
    "duration": 59,
    "start_time": "2023-04-03T15:50:41.288Z"
   },
   {
    "duration": 20,
    "start_time": "2023-04-03T15:51:09.493Z"
   },
   {
    "duration": 6,
    "start_time": "2023-04-03T15:51:16.624Z"
   },
   {
    "duration": 186,
    "start_time": "2023-04-03T15:51:18.095Z"
   },
   {
    "duration": 7,
    "start_time": "2023-04-03T15:52:00.164Z"
   },
   {
    "duration": 3,
    "start_time": "2023-04-03T15:52:05.862Z"
   },
   {
    "duration": 42,
    "start_time": "2023-04-03T15:52:06.488Z"
   },
   {
    "duration": 8,
    "start_time": "2023-04-03T15:53:26.641Z"
   },
   {
    "duration": 45,
    "start_time": "2023-04-03T15:53:35.308Z"
   },
   {
    "duration": 16,
    "start_time": "2023-04-03T15:54:14.469Z"
   },
   {
    "duration": 49,
    "start_time": "2023-04-03T15:54:20.794Z"
   },
   {
    "duration": 3,
    "start_time": "2023-04-03T15:54:31.331Z"
   },
   {
    "duration": 50,
    "start_time": "2023-04-03T15:54:31.831Z"
   },
   {
    "duration": 2,
    "start_time": "2023-04-03T15:54:36.094Z"
   },
   {
    "duration": 51,
    "start_time": "2023-04-03T15:54:36.591Z"
   },
   {
    "duration": 12,
    "start_time": "2023-04-03T15:55:47.611Z"
   },
   {
    "duration": 46,
    "start_time": "2023-04-03T15:55:53.997Z"
   },
   {
    "duration": 12,
    "start_time": "2023-04-03T15:56:45.678Z"
   },
   {
    "duration": 43,
    "start_time": "2023-04-03T15:56:52.525Z"
   },
   {
    "duration": 9,
    "start_time": "2023-04-03T15:57:07.752Z"
   },
   {
    "duration": 73,
    "start_time": "2023-04-03T15:57:13.251Z"
   },
   {
    "duration": 14,
    "start_time": "2023-04-03T15:57:40.365Z"
   },
   {
    "duration": 65,
    "start_time": "2023-04-03T15:57:46.602Z"
   },
   {
    "duration": 3,
    "start_time": "2023-04-03T15:57:58.891Z"
   },
   {
    "duration": 55,
    "start_time": "2023-04-03T15:57:59.315Z"
   },
   {
    "duration": 3,
    "start_time": "2023-04-03T15:58:02.440Z"
   },
   {
    "duration": 71,
    "start_time": "2023-04-03T15:58:03.064Z"
   },
   {
    "duration": 5,
    "start_time": "2023-04-03T15:58:09.993Z"
   },
   {
    "duration": 3,
    "start_time": "2023-04-03T15:58:48.044Z"
   },
   {
    "duration": 71,
    "start_time": "2023-04-03T15:58:48.698Z"
   },
   {
    "duration": 5,
    "start_time": "2023-04-03T15:59:09.730Z"
   },
   {
    "duration": 26,
    "start_time": "2023-04-03T15:59:21.568Z"
   },
   {
    "duration": 5,
    "start_time": "2023-04-03T15:59:25.856Z"
   },
   {
    "duration": 10,
    "start_time": "2023-04-03T16:00:52.362Z"
   },
   {
    "duration": 3870,
    "start_time": "2023-04-03T16:00:58.223Z"
   },
   {
    "duration": 15,
    "start_time": "2023-04-03T16:01:18.211Z"
   },
   {
    "duration": 3,
    "start_time": "2023-04-03T16:01:26.751Z"
   },
   {
    "duration": 1689055,
    "start_time": "2023-04-03T16:01:27.363Z"
   },
   {
    "duration": 5,
    "start_time": "2023-04-03T16:31:04.232Z"
   },
   {
    "duration": 5,
    "start_time": "2023-04-03T16:31:15.911Z"
   },
   {
    "duration": 36,
    "start_time": "2023-04-03T16:32:00.823Z"
   },
   {
    "duration": 13,
    "start_time": "2023-04-03T16:32:23.348Z"
   },
   {
    "duration": 5,
    "start_time": "2023-04-03T16:32:58.562Z"
   },
   {
    "duration": 23284,
    "start_time": "2023-04-03T16:33:06.332Z"
   },
   {
    "duration": 11,
    "start_time": "2023-04-03T16:33:42.126Z"
   },
   {
    "duration": 33395,
    "start_time": "2023-04-03T16:33:47.114Z"
   },
   {
    "duration": 149946,
    "start_time": "2023-04-03T16:34:21.442Z"
   },
   {
    "duration": 0,
    "start_time": "2023-04-03T16:36:51.392Z"
   },
   {
    "duration": 11,
    "start_time": "2023-04-03T16:37:34.301Z"
   },
   {
    "duration": 1190,
    "start_time": "2023-04-03T16:37:52.303Z"
   },
   {
    "duration": 1050,
    "start_time": "2023-04-03T16:38:07.450Z"
   },
   {
    "duration": 1115,
    "start_time": "2023-04-03T16:38:22.915Z"
   },
   {
    "duration": 1054,
    "start_time": "2023-04-03T16:38:31.393Z"
   },
   {
    "duration": 969,
    "start_time": "2023-04-03T16:38:35.588Z"
   },
   {
    "duration": 1420,
    "start_time": "2023-04-03T16:38:38.985Z"
   },
   {
    "duration": 960,
    "start_time": "2023-04-03T16:38:47.328Z"
   },
   {
    "duration": 1359,
    "start_time": "2023-04-03T16:38:51.840Z"
   },
   {
    "duration": 11,
    "start_time": "2023-04-03T16:38:57.841Z"
   },
   {
    "duration": 11,
    "start_time": "2023-04-03T16:39:05.686Z"
   },
   {
    "duration": 137,
    "start_time": "2023-04-03T16:39:08.865Z"
   },
   {
    "duration": 141,
    "start_time": "2023-04-03T16:39:18.667Z"
   },
   {
    "duration": 19,
    "start_time": "2023-04-03T16:39:40.545Z"
   },
   {
    "duration": 5,
    "start_time": "2023-04-03T16:39:51.893Z"
   },
   {
    "duration": 6,
    "start_time": "2023-04-03T16:39:58.730Z"
   },
   {
    "duration": 17,
    "start_time": "2023-04-03T16:40:09.394Z"
   },
   {
    "duration": 8,
    "start_time": "2023-04-03T16:40:43.921Z"
   },
   {
    "duration": 8,
    "start_time": "2023-04-03T16:40:55.291Z"
   },
   {
    "duration": 9,
    "start_time": "2023-04-03T16:40:55.657Z"
   },
   {
    "duration": 11,
    "start_time": "2023-04-03T16:41:00.571Z"
   },
   {
    "duration": 18965,
    "start_time": "2023-04-03T16:41:01.147Z"
   },
   {
    "duration": 42522,
    "start_time": "2023-04-03T16:41:21.283Z"
   },
   {
    "duration": 25353,
    "start_time": "2023-04-03T16:42:04.650Z"
   },
   {
    "duration": 192,
    "start_time": "2023-04-03T16:42:58.441Z"
   },
   {
    "duration": 3736,
    "start_time": "2023-04-03T16:43:18.166Z"
   },
   {
    "duration": 10,
    "start_time": "2023-04-03T16:43:24.690Z"
   },
   {
    "duration": 2431096,
    "start_time": "2023-04-03T16:43:54.197Z"
   },
   {
    "duration": 3602,
    "start_time": "2023-04-03T17:24:35.592Z"
   },
   {
    "duration": 6,
    "start_time": "2023-04-03T17:24:39.196Z"
   },
   {
    "duration": 95,
    "start_time": "2023-04-03T17:24:39.204Z"
   },
   {
    "duration": 13,
    "start_time": "2023-04-03T17:24:39.300Z"
   },
   {
    "duration": 12,
    "start_time": "2023-04-03T17:24:39.315Z"
   },
   {
    "duration": 15,
    "start_time": "2023-04-03T17:24:39.329Z"
   },
   {
    "duration": 29,
    "start_time": "2023-04-03T17:24:39.346Z"
   },
   {
    "duration": 16,
    "start_time": "2023-04-03T17:24:39.382Z"
   },
   {
    "duration": 37,
    "start_time": "2023-04-03T17:24:39.400Z"
   },
   {
    "duration": 16,
    "start_time": "2023-04-03T17:24:39.439Z"
   },
   {
    "duration": 14,
    "start_time": "2023-04-03T17:24:39.456Z"
   },
   {
    "duration": 26,
    "start_time": "2023-04-03T17:24:39.478Z"
   },
   {
    "duration": 28,
    "start_time": "2023-04-03T17:24:39.507Z"
   },
   {
    "duration": 5,
    "start_time": "2023-04-03T17:24:39.539Z"
   },
   {
    "duration": 791,
    "start_time": "2023-04-03T17:24:39.546Z"
   },
   {
    "duration": 789,
    "start_time": "2023-04-03T17:24:40.338Z"
   },
   {
    "duration": 3,
    "start_time": "2023-04-03T17:24:41.129Z"
   },
   {
    "duration": 4,
    "start_time": "2023-04-03T17:24:41.134Z"
   },
   {
    "duration": 5,
    "start_time": "2023-04-03T17:24:41.139Z"
   },
   {
    "duration": 8,
    "start_time": "2023-04-03T17:24:41.146Z"
   },
   {
    "duration": 8,
    "start_time": "2023-04-03T17:24:41.155Z"
   },
   {
    "duration": 16,
    "start_time": "2023-04-03T17:24:41.165Z"
   },
   {
    "duration": 12,
    "start_time": "2023-04-03T17:24:41.182Z"
   },
   {
    "duration": 15,
    "start_time": "2023-04-03T17:24:41.196Z"
   },
   {
    "duration": 6,
    "start_time": "2023-04-03T17:24:41.213Z"
   },
   {
    "duration": 8,
    "start_time": "2023-04-03T17:24:41.221Z"
   },
   {
    "duration": 6,
    "start_time": "2023-04-03T17:24:41.230Z"
   },
   {
    "duration": 5,
    "start_time": "2023-04-03T17:24:41.238Z"
   },
   {
    "duration": 6,
    "start_time": "2023-04-03T17:24:41.245Z"
   },
   {
    "duration": 7,
    "start_time": "2023-04-03T17:24:41.253Z"
   },
   {
    "duration": 32,
    "start_time": "2023-04-03T17:24:41.271Z"
   },
   {
    "duration": 5,
    "start_time": "2023-04-03T17:24:41.304Z"
   },
   {
    "duration": 6,
    "start_time": "2023-04-03T17:24:41.310Z"
   },
   {
    "duration": 7,
    "start_time": "2023-04-03T17:24:41.318Z"
   },
   {
    "duration": 12,
    "start_time": "2023-04-03T17:24:41.326Z"
   },
   {
    "duration": 4,
    "start_time": "2023-04-03T17:24:41.339Z"
   },
   {
    "duration": 4,
    "start_time": "2023-04-03T17:24:41.345Z"
   },
   {
    "duration": 35,
    "start_time": "2023-04-03T17:24:41.351Z"
   },
   {
    "duration": 35,
    "start_time": "2023-04-03T17:24:41.388Z"
   },
   {
    "duration": 4,
    "start_time": "2023-04-03T17:24:41.425Z"
   },
   {
    "duration": 3,
    "start_time": "2023-04-03T17:24:41.435Z"
   },
   {
    "duration": 11,
    "start_time": "2023-04-03T17:24:41.440Z"
   },
   {
    "duration": 7,
    "start_time": "2023-04-03T17:24:41.453Z"
   },
   {
    "duration": 24,
    "start_time": "2023-04-03T17:24:41.462Z"
   },
   {
    "duration": 12,
    "start_time": "2023-04-03T17:24:41.490Z"
   },
   {
    "duration": 11,
    "start_time": "2023-04-03T17:24:41.504Z"
   },
   {
    "duration": 11,
    "start_time": "2023-04-03T17:24:41.517Z"
   },
   {
    "duration": 7,
    "start_time": "2023-04-03T17:24:41.529Z"
   },
   {
    "duration": 5,
    "start_time": "2023-04-03T17:24:41.538Z"
   },
   {
    "duration": 9,
    "start_time": "2023-04-03T17:24:41.544Z"
   },
   {
    "duration": 7,
    "start_time": "2023-04-03T17:24:41.555Z"
   },
   {
    "duration": 21,
    "start_time": "2023-04-03T17:24:41.564Z"
   },
   {
    "duration": 8,
    "start_time": "2023-04-03T17:24:41.589Z"
   },
   {
    "duration": 188,
    "start_time": "2023-04-03T17:24:41.599Z"
   },
   {
    "duration": 11,
    "start_time": "2023-04-03T17:24:41.788Z"
   },
   {
    "duration": 600,
    "start_time": "2023-04-03T17:24:41.802Z"
   },
   {
    "duration": 3,
    "start_time": "2023-04-03T17:24:42.404Z"
   },
   {
    "duration": 16,
    "start_time": "2023-04-03T17:24:42.408Z"
   },
   {
    "duration": 154,
    "start_time": "2023-04-03T17:24:42.426Z"
   },
   {
    "duration": 9,
    "start_time": "2023-04-03T17:24:42.590Z"
   },
   {
    "duration": 5,
    "start_time": "2023-04-03T17:24:42.600Z"
   },
   {
    "duration": 6,
    "start_time": "2023-04-03T17:24:42.606Z"
   },
   {
    "duration": 4,
    "start_time": "2023-04-03T17:24:42.614Z"
   },
   {
    "duration": 5,
    "start_time": "2023-04-03T17:24:42.619Z"
   },
   {
    "duration": 4,
    "start_time": "2023-04-03T17:24:42.625Z"
   },
   {
    "duration": 5,
    "start_time": "2023-04-03T17:24:42.630Z"
   },
   {
    "duration": 4,
    "start_time": "2023-04-03T17:24:42.681Z"
   },
   {
    "duration": 11,
    "start_time": "2023-04-03T17:24:42.686Z"
   },
   {
    "duration": 7,
    "start_time": "2023-04-03T17:24:42.699Z"
   },
   {
    "duration": 4,
    "start_time": "2023-04-03T17:24:42.707Z"
   },
   {
    "duration": 4,
    "start_time": "2023-04-03T17:24:42.713Z"
   },
   {
    "duration": 167770,
    "start_time": "2023-04-03T17:24:42.719Z"
   },
   {
    "duration": 6,
    "start_time": "2023-04-03T17:27:30.493Z"
   },
   {
    "duration": 64954,
    "start_time": "2023-04-03T17:27:30.501Z"
   },
   {
    "duration": 4,
    "start_time": "2023-04-03T17:28:35.457Z"
   },
   {
    "duration": 14330,
    "start_time": "2023-04-03T17:28:35.463Z"
   },
   {
    "duration": 5,
    "start_time": "2023-04-03T17:28:49.795Z"
   },
   {
    "duration": 14771,
    "start_time": "2023-04-03T17:28:49.801Z"
   },
   {
    "duration": 13,
    "start_time": "2023-04-03T17:29:04.573Z"
   },
   {
    "duration": 8787,
    "start_time": "2023-04-03T17:29:04.591Z"
   },
   {
    "duration": 4,
    "start_time": "2023-04-03T17:29:13.383Z"
   },
   {
    "duration": 3280,
    "start_time": "2023-04-03T17:29:13.388Z"
   },
   {
    "duration": 15,
    "start_time": "2023-04-03T17:29:16.670Z"
   },
   {
    "duration": 248095,
    "start_time": "2023-04-03T17:29:16.690Z"
   },
   {
    "duration": 5,
    "start_time": "2023-04-03T17:33:24.790Z"
   },
   {
    "duration": 92300,
    "start_time": "2023-04-03T17:33:24.796Z"
   },
   {
    "duration": 5,
    "start_time": "2023-04-03T17:34:57.097Z"
   },
   {
    "duration": 48,
    "start_time": "2023-04-03T17:34:57.105Z"
   },
   {
    "duration": 244,
    "start_time": "2023-04-03T17:34:57.155Z"
   },
   {
    "duration": 4,
    "start_time": "2023-04-03T17:39:45.034Z"
   },
   {
    "duration": 9433,
    "start_time": "2023-04-03T17:39:48.951Z"
   },
   {
    "duration": 2252,
    "start_time": "2023-04-03T17:40:10.273Z"
   },
   {
    "duration": 3,
    "start_time": "2023-04-03T17:40:12.528Z"
   },
   {
    "duration": 32,
    "start_time": "2023-04-03T17:40:12.533Z"
   },
   {
    "duration": 20,
    "start_time": "2023-04-03T17:40:12.567Z"
   },
   {
    "duration": 42,
    "start_time": "2023-04-03T17:40:12.589Z"
   },
   {
    "duration": 8,
    "start_time": "2023-04-03T17:40:12.633Z"
   },
   {
    "duration": 18,
    "start_time": "2023-04-03T17:40:12.643Z"
   },
   {
    "duration": 50,
    "start_time": "2023-04-03T17:40:12.663Z"
   },
   {
    "duration": 40,
    "start_time": "2023-04-03T17:40:12.718Z"
   },
   {
    "duration": 7,
    "start_time": "2023-04-03T17:40:12.759Z"
   },
   {
    "duration": 53,
    "start_time": "2023-04-03T17:40:12.768Z"
   },
   {
    "duration": 15,
    "start_time": "2023-04-03T17:40:12.823Z"
   },
   {
    "duration": 22,
    "start_time": "2023-04-03T17:40:12.840Z"
   },
   {
    "duration": 57,
    "start_time": "2023-04-03T17:40:12.867Z"
   },
   {
    "duration": 1387,
    "start_time": "2023-04-03T17:40:12.929Z"
   },
   {
    "duration": 1013,
    "start_time": "2023-04-03T17:40:14.318Z"
   },
   {
    "duration": 4,
    "start_time": "2023-04-03T17:40:15.332Z"
   },
   {
    "duration": 12,
    "start_time": "2023-04-03T17:40:15.337Z"
   },
   {
    "duration": 47,
    "start_time": "2023-04-03T17:40:15.350Z"
   },
   {
    "duration": 31,
    "start_time": "2023-04-03T17:40:15.399Z"
   },
   {
    "duration": 31,
    "start_time": "2023-04-03T17:40:15.431Z"
   },
   {
    "duration": 44,
    "start_time": "2023-04-03T17:40:15.463Z"
   },
   {
    "duration": 28,
    "start_time": "2023-04-03T17:40:15.509Z"
   },
   {
    "duration": 47,
    "start_time": "2023-04-03T17:40:15.539Z"
   },
   {
    "duration": 45,
    "start_time": "2023-04-03T17:40:15.587Z"
   },
   {
    "duration": 43,
    "start_time": "2023-04-03T17:40:15.634Z"
   },
   {
    "duration": 57,
    "start_time": "2023-04-03T17:40:15.679Z"
   },
   {
    "duration": 15,
    "start_time": "2023-04-03T17:40:15.739Z"
   },
   {
    "duration": 45,
    "start_time": "2023-04-03T17:40:15.756Z"
   },
   {
    "duration": 21,
    "start_time": "2023-04-03T17:40:15.803Z"
   },
   {
    "duration": 12,
    "start_time": "2023-04-03T17:40:15.825Z"
   },
   {
    "duration": 7,
    "start_time": "2023-04-03T17:40:15.839Z"
   },
   {
    "duration": 13,
    "start_time": "2023-04-03T17:40:15.849Z"
   },
   {
    "duration": 53,
    "start_time": "2023-04-03T17:40:15.863Z"
   },
   {
    "duration": 37,
    "start_time": "2023-04-03T17:40:15.917Z"
   },
   {
    "duration": 73,
    "start_time": "2023-04-03T17:40:15.956Z"
   },
   {
    "duration": 18,
    "start_time": "2023-04-03T17:40:16.031Z"
   },
   {
    "duration": 48,
    "start_time": "2023-04-03T17:40:16.050Z"
   },
   {
    "duration": 55,
    "start_time": "2023-04-03T17:40:16.102Z"
   },
   {
    "duration": 43,
    "start_time": "2023-04-03T17:40:16.159Z"
   },
   {
    "duration": 14,
    "start_time": "2023-04-03T17:40:16.212Z"
   },
   {
    "duration": 30,
    "start_time": "2023-04-03T17:40:16.228Z"
   },
   {
    "duration": 57,
    "start_time": "2023-04-03T17:40:16.261Z"
   },
   {
    "duration": 25,
    "start_time": "2023-04-03T17:40:16.321Z"
   },
   {
    "duration": 53,
    "start_time": "2023-04-03T17:40:16.348Z"
   },
   {
    "duration": 16,
    "start_time": "2023-04-03T17:40:16.404Z"
   },
   {
    "duration": 22,
    "start_time": "2023-04-03T17:40:16.422Z"
   },
   {
    "duration": 11,
    "start_time": "2023-04-03T17:40:16.446Z"
   },
   {
    "duration": 12,
    "start_time": "2023-04-03T17:40:16.459Z"
   },
   {
    "duration": 43,
    "start_time": "2023-04-03T17:40:16.477Z"
   },
   {
    "duration": 10,
    "start_time": "2023-04-03T17:40:16.522Z"
   },
   {
    "duration": 5,
    "start_time": "2023-04-03T17:40:16.533Z"
   },
   {
    "duration": 8,
    "start_time": "2023-04-03T17:40:16.540Z"
   },
   {
    "duration": 354,
    "start_time": "2023-04-03T17:40:16.550Z"
   },
   {
    "duration": 72,
    "start_time": "2023-04-03T17:40:16.907Z"
   },
   {
    "duration": 723,
    "start_time": "2023-04-03T17:40:16.981Z"
   },
   {
    "duration": 3,
    "start_time": "2023-04-03T17:40:17.707Z"
   },
   {
    "duration": 9,
    "start_time": "2023-04-03T17:40:17.711Z"
   },
   {
    "duration": 768,
    "start_time": "2023-04-03T17:40:17.721Z"
   },
   {
    "duration": 22,
    "start_time": "2023-04-03T17:40:18.492Z"
   },
   {
    "duration": 59,
    "start_time": "2023-04-03T17:40:18.516Z"
   },
   {
    "duration": 41,
    "start_time": "2023-04-03T17:40:18.578Z"
   },
   {
    "duration": 15,
    "start_time": "2023-04-03T17:40:18.621Z"
   },
   {
    "duration": 17,
    "start_time": "2023-04-03T17:40:18.638Z"
   },
   {
    "duration": 7,
    "start_time": "2023-04-03T17:40:18.657Z"
   },
   {
    "duration": 12,
    "start_time": "2023-04-03T17:40:18.666Z"
   },
   {
    "duration": 37,
    "start_time": "2023-04-03T17:40:18.681Z"
   },
   {
    "duration": 9,
    "start_time": "2023-04-03T17:40:18.724Z"
   },
   {
    "duration": 18,
    "start_time": "2023-04-03T17:40:18.735Z"
   },
   {
    "duration": 13,
    "start_time": "2023-04-03T17:40:18.755Z"
   },
   {
    "duration": 49,
    "start_time": "2023-04-03T17:40:18.770Z"
   },
   {
    "duration": 902176,
    "start_time": "2023-04-03T17:40:18.822Z"
   },
   {
    "duration": 6,
    "start_time": "2023-04-03T17:55:21.001Z"
   },
   {
    "duration": 206180,
    "start_time": "2023-04-03T17:55:21.009Z"
   },
   {
    "duration": 5,
    "start_time": "2023-04-03T17:58:47.191Z"
   },
   {
    "duration": 22306,
    "start_time": "2023-04-03T17:58:47.197Z"
   },
   {
    "duration": 5,
    "start_time": "2023-04-03T17:59:09.507Z"
   },
   {
    "duration": 29409,
    "start_time": "2023-04-03T17:59:09.581Z"
   },
   {
    "duration": 5,
    "start_time": "2023-04-03T17:59:38.992Z"
   },
   {
    "duration": 10200,
    "start_time": "2023-04-03T17:59:38.998Z"
   },
   {
    "duration": 80,
    "start_time": "2023-04-03T17:59:49.203Z"
   },
   {
    "duration": 3471,
    "start_time": "2023-04-03T17:59:49.290Z"
   },
   {
    "duration": 20,
    "start_time": "2023-04-03T17:59:52.763Z"
   },
   {
    "duration": 725825,
    "start_time": "2023-04-03T17:59:52.785Z"
   },
   {
    "duration": 8,
    "start_time": "2023-04-03T18:11:58.616Z"
   },
   {
    "duration": 101466,
    "start_time": "2023-04-03T18:11:58.627Z"
   },
   {
    "duration": 6,
    "start_time": "2023-04-03T18:13:40.100Z"
   },
   {
    "duration": 16,
    "start_time": "2023-04-03T18:13:40.110Z"
   },
   {
    "duration": 267,
    "start_time": "2023-04-03T18:39:11.841Z"
   },
   {
    "duration": 6,
    "start_time": "2023-04-03T18:41:00.671Z"
   },
   {
    "duration": 304,
    "start_time": "2023-04-03T18:41:14.396Z"
   },
   {
    "duration": 1898,
    "start_time": "2023-04-03T18:41:27.309Z"
   },
   {
    "duration": 7,
    "start_time": "2023-04-03T18:41:29.789Z"
   },
   {
    "duration": 2025,
    "start_time": "2023-04-03T18:41:42.122Z"
   },
   {
    "duration": 9,
    "start_time": "2023-04-03T18:41:44.149Z"
   },
   {
    "duration": 11,
    "start_time": "2023-04-03T18:42:52.335Z"
   },
   {
    "duration": 11,
    "start_time": "2023-04-03T18:42:58.035Z"
   },
   {
    "duration": 13,
    "start_time": "2023-04-03T18:43:06.492Z"
   },
   {
    "duration": 15,
    "start_time": "2023-04-03T18:43:09.753Z"
   },
   {
    "duration": 11,
    "start_time": "2023-04-03T18:43:19.460Z"
   },
   {
    "duration": 202,
    "start_time": "2023-04-03T18:43:47.791Z"
   },
   {
    "duration": 7,
    "start_time": "2023-04-03T18:43:54.201Z"
   },
   {
    "duration": 3,
    "start_time": "2023-04-03T18:45:00.950Z"
   },
   {
    "duration": 253,
    "start_time": "2023-04-03T18:45:01.340Z"
   },
   {
    "duration": 9,
    "start_time": "2023-04-03T18:45:01.815Z"
   },
   {
    "duration": 3,
    "start_time": "2023-04-03T18:45:07.719Z"
   },
   {
    "duration": 202,
    "start_time": "2023-04-03T18:45:08.191Z"
   },
   {
    "duration": 7,
    "start_time": "2023-04-03T18:45:08.516Z"
   },
   {
    "duration": 161,
    "start_time": "2023-04-03T18:45:12.615Z"
   },
   {
    "duration": 6,
    "start_time": "2023-04-03T18:45:14.690Z"
   },
   {
    "duration": 2889,
    "start_time": "2023-04-03T18:45:28.904Z"
   },
   {
    "duration": 7,
    "start_time": "2023-04-03T18:45:31.797Z"
   },
   {
    "duration": 3576,
    "start_time": "2023-04-03T18:45:50.617Z"
   },
   {
    "duration": 10,
    "start_time": "2023-04-03T18:45:54.282Z"
   },
   {
    "duration": 3,
    "start_time": "2023-04-03T18:46:03.467Z"
   },
   {
    "duration": 3703,
    "start_time": "2023-04-03T18:46:03.895Z"
   },
   {
    "duration": 75,
    "start_time": "2023-04-03T18:46:07.600Z"
   },
   {
    "duration": 78,
    "start_time": "2023-04-03T18:46:26.256Z"
   },
   {
    "duration": 2,
    "start_time": "2023-04-03T18:46:29.390Z"
   },
   {
    "duration": 67,
    "start_time": "2023-04-03T18:46:30.884Z"
   },
   {
    "duration": 1309,
    "start_time": "2023-04-03T18:46:41.510Z"
   },
   {
    "duration": 5,
    "start_time": "2023-04-03T18:46:43.006Z"
   },
   {
    "duration": 3,
    "start_time": "2023-04-03T18:46:49.119Z"
   },
   {
    "duration": 1440,
    "start_time": "2023-04-03T18:46:49.642Z"
   },
   {
    "duration": 6,
    "start_time": "2023-04-03T18:46:51.086Z"
   },
   {
    "duration": 2,
    "start_time": "2023-04-03T18:47:02.544Z"
   },
   {
    "duration": 1348,
    "start_time": "2023-04-03T18:47:02.859Z"
   },
   {
    "duration": 4,
    "start_time": "2023-04-03T18:47:04.209Z"
   },
   {
    "duration": 573605,
    "start_time": "2023-04-03T18:47:41.119Z"
   },
   {
    "duration": 10,
    "start_time": "2023-04-03T18:57:14.725Z"
   },
   {
    "duration": 265219,
    "start_time": "2023-04-03T19:02:34.887Z"
   },
   {
    "duration": 6,
    "start_time": "2023-04-03T19:07:00.109Z"
   },
   {
    "duration": 32,
    "start_time": "2023-04-03T19:07:00.116Z"
   },
   {
    "duration": 10,
    "start_time": "2023-04-03T19:07:17.201Z"
   },
   {
    "duration": 28,
    "start_time": "2023-04-03T19:07:27.153Z"
   },
   {
    "duration": 16,
    "start_time": "2023-04-03T19:07:35.189Z"
   },
   {
    "duration": 22,
    "start_time": "2023-04-03T19:07:38.266Z"
   },
   {
    "duration": 1875,
    "start_time": "2023-04-03T19:07:47.441Z"
   },
   {
    "duration": 5,
    "start_time": "2023-04-03T19:07:59.465Z"
   },
   {
    "duration": 2,
    "start_time": "2023-04-03T19:13:00.136Z"
   },
   {
    "duration": 11,
    "start_time": "2023-04-03T19:13:00.386Z"
   },
   {
    "duration": 1161,
    "start_time": "2023-04-03T19:13:01.387Z"
   },
   {
    "duration": 9,
    "start_time": "2023-04-03T19:13:35.216Z"
   },
   {
    "duration": 2,
    "start_time": "2023-04-03T19:13:41.038Z"
   },
   {
    "duration": 7,
    "start_time": "2023-04-03T19:13:41.288Z"
   },
   {
    "duration": 1160,
    "start_time": "2023-04-03T19:13:41.837Z"
   },
   {
    "duration": 3,
    "start_time": "2023-04-03T19:13:49.590Z"
   },
   {
    "duration": 7,
    "start_time": "2023-04-03T19:13:49.751Z"
   },
   {
    "duration": 1260,
    "start_time": "2023-04-03T19:13:49.928Z"
   },
   {
    "duration": 4,
    "start_time": "2023-04-03T19:13:51.191Z"
   },
   {
    "duration": 3,
    "start_time": "2023-04-03T19:13:56.890Z"
   },
   {
    "duration": 7,
    "start_time": "2023-04-03T19:13:57.114Z"
   },
   {
    "duration": 805,
    "start_time": "2023-04-03T19:13:57.290Z"
   },
   {
    "duration": 7,
    "start_time": "2023-04-03T19:13:58.097Z"
   },
   {
    "duration": 2,
    "start_time": "2023-04-03T19:14:03.339Z"
   },
   {
    "duration": 6,
    "start_time": "2023-04-03T19:14:03.502Z"
   },
   {
    "duration": 1419,
    "start_time": "2023-04-03T19:14:03.701Z"
   },
   {
    "duration": 103730,
    "start_time": "2023-04-03T19:15:27.285Z"
   },
   {
    "duration": 47696,
    "start_time": "2023-04-03T19:17:33.489Z"
   },
   {
    "duration": 9,
    "start_time": "2023-04-03T19:18:21.187Z"
   },
   {
    "duration": 3,
    "start_time": "2023-04-03T19:19:16.947Z"
   },
   {
    "duration": 52413,
    "start_time": "2023-04-03T19:19:23.132Z"
   },
   {
    "duration": 7,
    "start_time": "2023-04-03T19:20:15.547Z"
   },
   {
    "duration": 4,
    "start_time": "2023-04-03T19:23:00.257Z"
   },
   {
    "duration": 4135,
    "start_time": "2023-04-03T19:23:25.986Z"
   },
   {
    "duration": 5,
    "start_time": "2023-04-03T19:23:30.123Z"
   },
   {
    "duration": 87,
    "start_time": "2023-04-03T19:23:30.130Z"
   },
   {
    "duration": 12,
    "start_time": "2023-04-03T19:23:30.219Z"
   },
   {
    "duration": 24,
    "start_time": "2023-04-03T19:23:30.233Z"
   },
   {
    "duration": 63,
    "start_time": "2023-04-03T19:23:30.258Z"
   },
   {
    "duration": 67,
    "start_time": "2023-04-03T19:23:30.323Z"
   },
   {
    "duration": 32,
    "start_time": "2023-04-03T19:23:30.392Z"
   },
   {
    "duration": 58,
    "start_time": "2023-04-03T19:23:30.426Z"
   },
   {
    "duration": 70,
    "start_time": "2023-04-03T19:23:30.486Z"
   },
   {
    "duration": 28,
    "start_time": "2023-04-03T19:23:30.558Z"
   },
   {
    "duration": 13,
    "start_time": "2023-04-03T19:23:30.588Z"
   },
   {
    "duration": 24,
    "start_time": "2023-04-03T19:23:30.602Z"
   },
   {
    "duration": 24,
    "start_time": "2023-04-03T19:23:30.630Z"
   },
   {
    "duration": 783,
    "start_time": "2023-04-03T19:23:30.656Z"
   },
   {
    "duration": 782,
    "start_time": "2023-04-03T19:23:31.441Z"
   },
   {
    "duration": 3,
    "start_time": "2023-04-03T19:23:32.225Z"
   },
   {
    "duration": 8,
    "start_time": "2023-04-03T19:23:32.229Z"
   },
   {
    "duration": 17,
    "start_time": "2023-04-03T19:23:32.238Z"
   },
   {
    "duration": 6,
    "start_time": "2023-04-03T19:23:32.257Z"
   },
   {
    "duration": 35,
    "start_time": "2023-04-03T19:23:32.264Z"
   },
   {
    "duration": 12,
    "start_time": "2023-04-03T19:23:32.300Z"
   },
   {
    "duration": 9,
    "start_time": "2023-04-03T19:23:32.314Z"
   },
   {
    "duration": 15,
    "start_time": "2023-04-03T19:23:32.324Z"
   },
   {
    "duration": 27,
    "start_time": "2023-04-03T19:23:32.340Z"
   },
   {
    "duration": 24,
    "start_time": "2023-04-03T19:23:32.369Z"
   },
   {
    "duration": 11,
    "start_time": "2023-04-03T19:23:32.394Z"
   },
   {
    "duration": 11,
    "start_time": "2023-04-03T19:23:32.407Z"
   },
   {
    "duration": 21,
    "start_time": "2023-04-03T19:23:32.420Z"
   },
   {
    "duration": 16,
    "start_time": "2023-04-03T19:23:32.442Z"
   },
   {
    "duration": 22,
    "start_time": "2023-04-03T19:23:32.459Z"
   },
   {
    "duration": 11,
    "start_time": "2023-04-03T19:23:32.487Z"
   },
   {
    "duration": 11,
    "start_time": "2023-04-03T19:23:32.500Z"
   },
   {
    "duration": 8,
    "start_time": "2023-04-03T19:23:32.513Z"
   },
   {
    "duration": 20,
    "start_time": "2023-04-03T19:23:32.523Z"
   },
   {
    "duration": 5,
    "start_time": "2023-04-03T19:23:32.545Z"
   },
   {
    "duration": 4,
    "start_time": "2023-04-03T19:23:32.552Z"
   },
   {
    "duration": 27,
    "start_time": "2023-04-03T19:23:32.558Z"
   },
   {
    "duration": 20,
    "start_time": "2023-04-03T19:23:32.587Z"
   },
   {
    "duration": 8,
    "start_time": "2023-04-03T19:23:32.608Z"
   },
   {
    "duration": 4,
    "start_time": "2023-04-03T19:23:32.620Z"
   },
   {
    "duration": 9,
    "start_time": "2023-04-03T19:23:32.626Z"
   },
   {
    "duration": 18,
    "start_time": "2023-04-03T19:23:32.637Z"
   },
   {
    "duration": 7,
    "start_time": "2023-04-03T19:23:32.656Z"
   },
   {
    "duration": 12,
    "start_time": "2023-04-03T19:23:32.665Z"
   },
   {
    "duration": 11,
    "start_time": "2023-04-03T19:23:32.687Z"
   },
   {
    "duration": 91,
    "start_time": "2023-04-03T19:23:32.699Z"
   },
   {
    "duration": 0,
    "start_time": "2023-04-03T19:23:32.791Z"
   },
   {
    "duration": 0,
    "start_time": "2023-04-03T19:23:32.792Z"
   },
   {
    "duration": 0,
    "start_time": "2023-04-03T19:23:32.793Z"
   },
   {
    "duration": 0,
    "start_time": "2023-04-03T19:23:32.794Z"
   },
   {
    "duration": 0,
    "start_time": "2023-04-03T19:23:32.795Z"
   },
   {
    "duration": 0,
    "start_time": "2023-04-03T19:23:32.796Z"
   },
   {
    "duration": 0,
    "start_time": "2023-04-03T19:23:32.797Z"
   },
   {
    "duration": 0,
    "start_time": "2023-04-03T19:23:32.798Z"
   },
   {
    "duration": 0,
    "start_time": "2023-04-03T19:23:32.799Z"
   },
   {
    "duration": 0,
    "start_time": "2023-04-03T19:23:32.800Z"
   },
   {
    "duration": 0,
    "start_time": "2023-04-03T19:23:32.801Z"
   },
   {
    "duration": 0,
    "start_time": "2023-04-03T19:23:32.802Z"
   },
   {
    "duration": 0,
    "start_time": "2023-04-03T19:23:32.803Z"
   },
   {
    "duration": 0,
    "start_time": "2023-04-03T19:23:32.804Z"
   },
   {
    "duration": 0,
    "start_time": "2023-04-03T19:23:32.804Z"
   },
   {
    "duration": 0,
    "start_time": "2023-04-03T19:23:32.805Z"
   },
   {
    "duration": 0,
    "start_time": "2023-04-03T19:23:32.806Z"
   },
   {
    "duration": 0,
    "start_time": "2023-04-03T19:23:32.807Z"
   },
   {
    "duration": 0,
    "start_time": "2023-04-03T19:23:32.808Z"
   },
   {
    "duration": 0,
    "start_time": "2023-04-03T19:23:32.809Z"
   },
   {
    "duration": 0,
    "start_time": "2023-04-03T19:23:32.810Z"
   },
   {
    "duration": 0,
    "start_time": "2023-04-03T19:23:32.810Z"
   },
   {
    "duration": 0,
    "start_time": "2023-04-03T19:23:32.811Z"
   },
   {
    "duration": 0,
    "start_time": "2023-04-03T19:23:32.813Z"
   },
   {
    "duration": 0,
    "start_time": "2023-04-03T19:23:32.814Z"
   },
   {
    "duration": 0,
    "start_time": "2023-04-03T19:23:32.814Z"
   },
   {
    "duration": 0,
    "start_time": "2023-04-03T19:23:32.816Z"
   },
   {
    "duration": 0,
    "start_time": "2023-04-03T19:23:32.817Z"
   },
   {
    "duration": 0,
    "start_time": "2023-04-03T19:23:32.818Z"
   },
   {
    "duration": 0,
    "start_time": "2023-04-03T19:23:32.819Z"
   },
   {
    "duration": 0,
    "start_time": "2023-04-03T19:23:32.820Z"
   },
   {
    "duration": 0,
    "start_time": "2023-04-03T19:23:32.820Z"
   },
   {
    "duration": 0,
    "start_time": "2023-04-03T19:23:32.821Z"
   },
   {
    "duration": 0,
    "start_time": "2023-04-03T19:23:32.822Z"
   },
   {
    "duration": 0,
    "start_time": "2023-04-03T19:23:32.823Z"
   },
   {
    "duration": 0,
    "start_time": "2023-04-03T19:23:32.824Z"
   },
   {
    "duration": 0,
    "start_time": "2023-04-03T19:23:32.825Z"
   },
   {
    "duration": 0,
    "start_time": "2023-04-03T19:23:32.874Z"
   },
   {
    "duration": 0,
    "start_time": "2023-04-03T19:23:32.875Z"
   },
   {
    "duration": 0,
    "start_time": "2023-04-03T19:23:32.875Z"
   },
   {
    "duration": 151,
    "start_time": "2023-04-03T19:23:39.019Z"
   },
   {
    "duration": 1881,
    "start_time": "2023-04-03T19:23:48.304Z"
   },
   {
    "duration": 4,
    "start_time": "2023-04-03T19:23:50.188Z"
   },
   {
    "duration": 32,
    "start_time": "2023-04-03T19:23:50.193Z"
   },
   {
    "duration": 12,
    "start_time": "2023-04-03T19:23:50.226Z"
   },
   {
    "duration": 9,
    "start_time": "2023-04-03T19:23:50.241Z"
   },
   {
    "duration": 10,
    "start_time": "2023-04-03T19:23:50.252Z"
   },
   {
    "duration": 27,
    "start_time": "2023-04-03T19:23:50.263Z"
   },
   {
    "duration": 8,
    "start_time": "2023-04-03T19:23:50.292Z"
   },
   {
    "duration": 22,
    "start_time": "2023-04-03T19:23:50.301Z"
   },
   {
    "duration": 5,
    "start_time": "2023-04-03T19:23:50.324Z"
   },
   {
    "duration": 5,
    "start_time": "2023-04-03T19:23:50.330Z"
   },
   {
    "duration": 9,
    "start_time": "2023-04-03T19:23:50.337Z"
   },
   {
    "duration": 5,
    "start_time": "2023-04-03T19:23:50.348Z"
   },
   {
    "duration": 12,
    "start_time": "2023-04-03T19:23:50.375Z"
   },
   {
    "duration": 840,
    "start_time": "2023-04-03T19:23:50.390Z"
   },
   {
    "duration": 856,
    "start_time": "2023-04-03T19:23:51.232Z"
   },
   {
    "duration": 4,
    "start_time": "2023-04-03T19:23:52.090Z"
   },
   {
    "duration": 20,
    "start_time": "2023-04-03T19:23:52.096Z"
   },
   {
    "duration": 14,
    "start_time": "2023-04-03T19:23:52.117Z"
   },
   {
    "duration": 13,
    "start_time": "2023-04-03T19:23:52.132Z"
   },
   {
    "duration": 39,
    "start_time": "2023-04-03T19:23:52.146Z"
   },
   {
    "duration": 19,
    "start_time": "2023-04-03T19:23:52.187Z"
   },
   {
    "duration": 22,
    "start_time": "2023-04-03T19:23:52.208Z"
   },
   {
    "duration": 28,
    "start_time": "2023-04-03T19:23:52.231Z"
   },
   {
    "duration": 33,
    "start_time": "2023-04-03T19:23:52.260Z"
   },
   {
    "duration": 36,
    "start_time": "2023-04-03T19:23:52.294Z"
   },
   {
    "duration": 21,
    "start_time": "2023-04-03T19:23:52.331Z"
   },
   {
    "duration": 33,
    "start_time": "2023-04-03T19:23:52.353Z"
   },
   {
    "duration": 10,
    "start_time": "2023-04-03T19:23:52.387Z"
   },
   {
    "duration": 34,
    "start_time": "2023-04-03T19:23:52.398Z"
   },
   {
    "duration": 11,
    "start_time": "2023-04-03T19:23:52.433Z"
   },
   {
    "duration": 16,
    "start_time": "2023-04-03T19:23:52.446Z"
   },
   {
    "duration": 4,
    "start_time": "2023-04-03T19:23:52.464Z"
   },
   {
    "duration": 34,
    "start_time": "2023-04-03T19:23:52.469Z"
   },
   {
    "duration": 14,
    "start_time": "2023-04-03T19:23:52.504Z"
   },
   {
    "duration": 5,
    "start_time": "2023-04-03T19:23:52.520Z"
   },
   {
    "duration": 40,
    "start_time": "2023-04-03T19:23:52.527Z"
   },
   {
    "duration": 29,
    "start_time": "2023-04-03T19:23:52.568Z"
   },
   {
    "duration": 39,
    "start_time": "2023-04-03T19:23:52.598Z"
   },
   {
    "duration": 6,
    "start_time": "2023-04-03T19:23:52.639Z"
   },
   {
    "duration": 9,
    "start_time": "2023-04-03T19:23:52.649Z"
   },
   {
    "duration": 25,
    "start_time": "2023-04-03T19:23:52.660Z"
   },
   {
    "duration": 28,
    "start_time": "2023-04-03T19:23:52.687Z"
   },
   {
    "duration": 10,
    "start_time": "2023-04-03T19:23:52.717Z"
   },
   {
    "duration": 33,
    "start_time": "2023-04-03T19:23:52.729Z"
   },
   {
    "duration": 44,
    "start_time": "2023-04-03T19:23:52.764Z"
   },
   {
    "duration": 72,
    "start_time": "2023-04-03T19:23:52.809Z"
   },
   {
    "duration": 0,
    "start_time": "2023-04-03T19:23:52.886Z"
   },
   {
    "duration": 0,
    "start_time": "2023-04-03T19:23:52.887Z"
   },
   {
    "duration": 0,
    "start_time": "2023-04-03T19:23:52.888Z"
   },
   {
    "duration": 0,
    "start_time": "2023-04-03T19:23:52.889Z"
   },
   {
    "duration": 0,
    "start_time": "2023-04-03T19:23:52.890Z"
   },
   {
    "duration": 0,
    "start_time": "2023-04-03T19:23:52.891Z"
   },
   {
    "duration": 0,
    "start_time": "2023-04-03T19:23:52.892Z"
   },
   {
    "duration": 0,
    "start_time": "2023-04-03T19:23:52.894Z"
   },
   {
    "duration": 0,
    "start_time": "2023-04-03T19:23:52.895Z"
   },
   {
    "duration": 0,
    "start_time": "2023-04-03T19:23:52.896Z"
   },
   {
    "duration": 0,
    "start_time": "2023-04-03T19:23:52.898Z"
   },
   {
    "duration": 0,
    "start_time": "2023-04-03T19:23:52.899Z"
   },
   {
    "duration": 0,
    "start_time": "2023-04-03T19:23:52.901Z"
   },
   {
    "duration": 0,
    "start_time": "2023-04-03T19:23:52.902Z"
   },
   {
    "duration": 0,
    "start_time": "2023-04-03T19:23:52.904Z"
   },
   {
    "duration": 0,
    "start_time": "2023-04-03T19:23:52.905Z"
   },
   {
    "duration": 0,
    "start_time": "2023-04-03T19:23:52.906Z"
   },
   {
    "duration": 0,
    "start_time": "2023-04-03T19:23:52.907Z"
   },
   {
    "duration": 0,
    "start_time": "2023-04-03T19:23:52.909Z"
   },
   {
    "duration": 0,
    "start_time": "2023-04-03T19:23:52.910Z"
   },
   {
    "duration": 0,
    "start_time": "2023-04-03T19:23:52.911Z"
   },
   {
    "duration": 0,
    "start_time": "2023-04-03T19:23:52.912Z"
   },
   {
    "duration": 1,
    "start_time": "2023-04-03T19:23:52.913Z"
   },
   {
    "duration": 0,
    "start_time": "2023-04-03T19:23:52.915Z"
   },
   {
    "duration": 0,
    "start_time": "2023-04-03T19:23:52.917Z"
   },
   {
    "duration": 0,
    "start_time": "2023-04-03T19:23:52.917Z"
   },
   {
    "duration": 0,
    "start_time": "2023-04-03T19:23:52.918Z"
   },
   {
    "duration": 0,
    "start_time": "2023-04-03T19:23:52.919Z"
   },
   {
    "duration": 0,
    "start_time": "2023-04-03T19:23:52.920Z"
   },
   {
    "duration": 0,
    "start_time": "2023-04-03T19:23:52.921Z"
   },
   {
    "duration": 0,
    "start_time": "2023-04-03T19:23:52.922Z"
   },
   {
    "duration": 0,
    "start_time": "2023-04-03T19:23:52.923Z"
   },
   {
    "duration": 1,
    "start_time": "2023-04-03T19:23:52.924Z"
   },
   {
    "duration": 0,
    "start_time": "2023-04-03T19:23:52.980Z"
   },
   {
    "duration": 0,
    "start_time": "2023-04-03T19:23:52.981Z"
   },
   {
    "duration": 0,
    "start_time": "2023-04-03T19:23:52.982Z"
   },
   {
    "duration": 0,
    "start_time": "2023-04-03T19:23:52.982Z"
   },
   {
    "duration": 0,
    "start_time": "2023-04-03T19:23:52.983Z"
   },
   {
    "duration": 0,
    "start_time": "2023-04-03T19:23:52.983Z"
   },
   {
    "duration": 0,
    "start_time": "2023-04-03T19:23:52.984Z"
   },
   {
    "duration": 0,
    "start_time": "2023-04-03T19:23:52.984Z"
   },
   {
    "duration": 10,
    "start_time": "2023-04-03T19:24:43.716Z"
   },
   {
    "duration": 6,
    "start_time": "2023-04-03T19:24:45.288Z"
   },
   {
    "duration": 4,
    "start_time": "2023-04-03T19:24:45.592Z"
   },
   {
    "duration": 5,
    "start_time": "2023-04-03T19:24:45.860Z"
   },
   {
    "duration": 2,
    "start_time": "2023-04-03T19:24:46.429Z"
   },
   {
    "duration": 3,
    "start_time": "2023-04-03T19:24:47.027Z"
   },
   {
    "duration": 3,
    "start_time": "2023-04-03T19:24:47.387Z"
   },
   {
    "duration": 53,
    "start_time": "2023-04-03T19:24:47.629Z"
   },
   {
    "duration": 10,
    "start_time": "2023-04-03T19:24:48.028Z"
   },
   {
    "duration": 662,
    "start_time": "2023-04-03T19:24:48.391Z"
   },
   {
    "duration": 3,
    "start_time": "2023-04-03T19:24:49.692Z"
   },
   {
    "duration": 3,
    "start_time": "2023-04-03T19:24:50.020Z"
   },
   {
    "duration": 52,
    "start_time": "2023-04-03T19:24:50.348Z"
   },
   {
    "duration": 11,
    "start_time": "2023-04-03T19:24:50.649Z"
   },
   {
    "duration": 4,
    "start_time": "2023-04-03T19:24:51.448Z"
   },
   {
    "duration": 4,
    "start_time": "2023-04-03T19:24:51.791Z"
   },
   {
    "duration": 6,
    "start_time": "2023-04-03T19:24:52.128Z"
   },
   {
    "duration": 4,
    "start_time": "2023-04-03T19:24:52.461Z"
   },
   {
    "duration": 6,
    "start_time": "2023-04-03T19:24:52.624Z"
   },
   {
    "duration": 3,
    "start_time": "2023-04-03T19:24:52.790Z"
   },
   {
    "duration": 3,
    "start_time": "2023-04-03T19:24:52.923Z"
   },
   {
    "duration": 4,
    "start_time": "2023-04-03T19:24:53.248Z"
   },
   {
    "duration": 4,
    "start_time": "2023-04-03T19:24:53.888Z"
   },
   {
    "duration": 3,
    "start_time": "2023-04-03T19:24:54.524Z"
   },
   {
    "duration": 5,
    "start_time": "2023-04-03T19:24:54.860Z"
   },
   {
    "duration": 552085,
    "start_time": "2023-04-03T19:24:55.522Z"
   },
   {
    "duration": 6,
    "start_time": "2023-04-03T19:34:07.609Z"
   },
   {
    "duration": 199568,
    "start_time": "2023-04-03T19:34:07.617Z"
   },
   {
    "duration": 5,
    "start_time": "2023-04-03T19:37:27.187Z"
   },
   {
    "duration": 14987,
    "start_time": "2023-04-03T19:37:27.194Z"
   },
   {
    "duration": 7,
    "start_time": "2023-04-03T19:37:42.182Z"
   },
   {
    "duration": 15640,
    "start_time": "2023-04-03T19:37:42.190Z"
   },
   {
    "duration": 4,
    "start_time": "2023-04-03T19:37:57.832Z"
   },
   {
    "duration": 6964,
    "start_time": "2023-04-03T19:37:57.838Z"
   },
   {
    "duration": 6,
    "start_time": "2023-04-03T19:38:04.874Z"
   },
   {
    "duration": 3425,
    "start_time": "2023-04-03T19:38:04.882Z"
   },
   {
    "duration": 4,
    "start_time": "2023-04-03T19:38:08.309Z"
   },
   {
    "duration": 239781,
    "start_time": "2023-04-03T19:38:08.315Z"
   },
   {
    "duration": 7,
    "start_time": "2023-04-03T19:42:08.098Z"
   },
   {
    "duration": 91655,
    "start_time": "2023-04-03T19:42:08.106Z"
   },
   {
    "duration": 24,
    "start_time": "2023-04-03T19:43:39.763Z"
   },
   {
    "duration": 15,
    "start_time": "2023-04-03T19:43:39.789Z"
   },
   {
    "duration": 142,
    "start_time": "2023-04-03T19:54:10.219Z"
   },
   {
    "duration": 2,
    "start_time": "2023-04-03T19:54:22.920Z"
   },
   {
    "duration": 9,
    "start_time": "2023-04-03T19:54:24.131Z"
   },
   {
    "duration": 3,
    "start_time": "2023-04-03T19:54:34.218Z"
   },
   {
    "duration": 3,
    "start_time": "2023-04-03T19:54:48.026Z"
   },
   {
    "duration": 4,
    "start_time": "2023-04-03T19:54:53.032Z"
   },
   {
    "duration": 5,
    "start_time": "2023-04-03T19:55:02.120Z"
   },
   {
    "duration": 1726,
    "start_time": "2023-04-03T19:55:13.718Z"
   },
   {
    "duration": 4,
    "start_time": "2023-04-03T19:55:15.446Z"
   },
   {
    "duration": 47,
    "start_time": "2023-04-03T19:55:15.451Z"
   },
   {
    "duration": 13,
    "start_time": "2023-04-03T19:55:15.500Z"
   },
   {
    "duration": 10,
    "start_time": "2023-04-03T19:55:15.515Z"
   },
   {
    "duration": 10,
    "start_time": "2023-04-03T19:55:15.526Z"
   },
   {
    "duration": 42,
    "start_time": "2023-04-03T19:55:15.537Z"
   },
   {
    "duration": 15,
    "start_time": "2023-04-03T19:55:15.581Z"
   },
   {
    "duration": 30,
    "start_time": "2023-04-03T19:55:15.598Z"
   },
   {
    "duration": 5,
    "start_time": "2023-04-03T19:55:15.629Z"
   },
   {
    "duration": 19,
    "start_time": "2023-04-03T19:55:15.636Z"
   },
   {
    "duration": 27,
    "start_time": "2023-04-03T19:55:15.656Z"
   },
   {
    "duration": 11,
    "start_time": "2023-04-03T19:55:15.685Z"
   },
   {
    "duration": 7,
    "start_time": "2023-04-03T19:55:15.699Z"
   },
   {
    "duration": 850,
    "start_time": "2023-04-03T19:55:15.708Z"
   },
   {
    "duration": 879,
    "start_time": "2023-04-03T19:55:16.560Z"
   },
   {
    "duration": 4,
    "start_time": "2023-04-03T19:55:17.440Z"
   },
   {
    "duration": 13,
    "start_time": "2023-04-03T19:55:17.445Z"
   },
   {
    "duration": 6,
    "start_time": "2023-04-03T19:55:17.459Z"
   },
   {
    "duration": 16,
    "start_time": "2023-04-03T19:55:17.466Z"
   },
   {
    "duration": 15,
    "start_time": "2023-04-03T19:55:17.484Z"
   },
   {
    "duration": 7,
    "start_time": "2023-04-03T19:55:17.500Z"
   },
   {
    "duration": 7,
    "start_time": "2023-04-03T19:55:17.508Z"
   },
   {
    "duration": 22,
    "start_time": "2023-04-03T19:55:17.516Z"
   },
   {
    "duration": 9,
    "start_time": "2023-04-03T19:55:17.539Z"
   },
   {
    "duration": 12,
    "start_time": "2023-04-03T19:55:17.549Z"
   },
   {
    "duration": 8,
    "start_time": "2023-04-03T19:55:17.562Z"
   },
   {
    "duration": 15,
    "start_time": "2023-04-03T19:55:17.582Z"
   },
   {
    "duration": 16,
    "start_time": "2023-04-03T19:55:17.600Z"
   },
   {
    "duration": 33,
    "start_time": "2023-04-03T19:55:17.618Z"
   },
   {
    "duration": 26,
    "start_time": "2023-04-03T19:55:17.653Z"
   },
   {
    "duration": 18,
    "start_time": "2023-04-03T19:55:17.682Z"
   },
   {
    "duration": 16,
    "start_time": "2023-04-03T19:55:17.702Z"
   },
   {
    "duration": 22,
    "start_time": "2023-04-03T19:55:17.719Z"
   },
   {
    "duration": 28,
    "start_time": "2023-04-03T19:55:17.742Z"
   },
   {
    "duration": 16,
    "start_time": "2023-04-03T19:55:17.771Z"
   },
   {
    "duration": 11,
    "start_time": "2023-04-03T19:55:17.789Z"
   },
   {
    "duration": 16,
    "start_time": "2023-04-03T19:55:17.802Z"
   },
   {
    "duration": 21,
    "start_time": "2023-04-03T19:55:17.819Z"
   },
   {
    "duration": 6,
    "start_time": "2023-04-03T19:55:17.842Z"
   },
   {
    "duration": 4,
    "start_time": "2023-04-03T19:55:17.852Z"
   },
   {
    "duration": 28,
    "start_time": "2023-04-03T19:55:17.857Z"
   },
   {
    "duration": 7,
    "start_time": "2023-04-03T19:55:17.890Z"
   },
   {
    "duration": 9,
    "start_time": "2023-04-03T19:55:17.899Z"
   },
   {
    "duration": 10,
    "start_time": "2023-04-03T19:55:17.910Z"
   },
   {
    "duration": 9,
    "start_time": "2023-04-03T19:55:17.922Z"
   },
   {
    "duration": 11,
    "start_time": "2023-04-03T19:55:17.933Z"
   },
   {
    "duration": 59,
    "start_time": "2023-04-03T19:55:17.946Z"
   },
   {
    "duration": 9,
    "start_time": "2023-04-03T19:55:18.007Z"
   },
   {
    "duration": 7,
    "start_time": "2023-04-03T19:55:18.017Z"
   },
   {
    "duration": 6,
    "start_time": "2023-04-03T19:55:18.026Z"
   },
   {
    "duration": 4,
    "start_time": "2023-04-03T19:55:18.033Z"
   },
   {
    "duration": 5,
    "start_time": "2023-04-03T19:55:18.039Z"
   },
   {
    "duration": 142,
    "start_time": "2023-04-03T19:55:18.045Z"
   },
   {
    "duration": 13,
    "start_time": "2023-04-03T19:55:18.188Z"
   },
   {
    "duration": 655,
    "start_time": "2023-04-03T19:55:18.202Z"
   },
   {
    "duration": 3,
    "start_time": "2023-04-03T19:55:18.858Z"
   },
   {
    "duration": 30,
    "start_time": "2023-04-03T19:55:18.862Z"
   },
   {
    "duration": 199,
    "start_time": "2023-04-03T19:55:18.894Z"
   },
   {
    "duration": 10,
    "start_time": "2023-04-03T19:55:19.095Z"
   },
   {
    "duration": 9,
    "start_time": "2023-04-03T19:55:19.106Z"
   },
   {
    "duration": 5,
    "start_time": "2023-04-03T19:55:19.117Z"
   },
   {
    "duration": 6,
    "start_time": "2023-04-03T19:55:19.187Z"
   },
   {
    "duration": 4,
    "start_time": "2023-04-03T19:55:19.196Z"
   },
   {
    "duration": 6,
    "start_time": "2023-04-03T19:55:19.202Z"
   },
   {
    "duration": 7,
    "start_time": "2023-04-03T19:55:19.209Z"
   },
   {
    "duration": 12,
    "start_time": "2023-04-03T19:55:19.218Z"
   },
   {
    "duration": 9,
    "start_time": "2023-04-03T19:55:19.232Z"
   },
   {
    "duration": 7,
    "start_time": "2023-04-03T19:55:19.244Z"
   },
   {
    "duration": 4,
    "start_time": "2023-04-03T19:55:19.253Z"
   },
   {
    "duration": 26,
    "start_time": "2023-04-03T19:55:19.259Z"
   },
   {
    "duration": 182,
    "start_time": "2023-04-03T19:55:19.287Z"
   },
   {
    "duration": 4,
    "start_time": "2023-04-03T19:55:51.048Z"
   },
   {
    "duration": 1841,
    "start_time": "2023-04-03T19:56:06.396Z"
   },
   {
    "duration": 6,
    "start_time": "2023-04-03T19:56:08.239Z"
   },
   {
    "duration": 44,
    "start_time": "2023-04-03T19:56:08.247Z"
   },
   {
    "duration": 13,
    "start_time": "2023-04-03T19:56:08.293Z"
   },
   {
    "duration": 3,
    "start_time": "2023-04-03T19:56:08.308Z"
   },
   {
    "duration": 5,
    "start_time": "2023-04-03T19:56:08.312Z"
   },
   {
    "duration": 15,
    "start_time": "2023-04-03T19:56:08.318Z"
   },
   {
    "duration": 5,
    "start_time": "2023-04-03T19:56:08.334Z"
   },
   {
    "duration": 48,
    "start_time": "2023-04-03T19:56:08.341Z"
   },
   {
    "duration": 7,
    "start_time": "2023-04-03T19:56:08.391Z"
   },
   {
    "duration": 6,
    "start_time": "2023-04-03T19:56:08.400Z"
   },
   {
    "duration": 15,
    "start_time": "2023-04-03T19:56:08.407Z"
   },
   {
    "duration": 14,
    "start_time": "2023-04-03T19:56:08.424Z"
   },
   {
    "duration": 5,
    "start_time": "2023-04-03T19:56:08.442Z"
   },
   {
    "duration": 774,
    "start_time": "2023-04-03T19:56:08.449Z"
   },
   {
    "duration": 839,
    "start_time": "2023-04-03T19:56:09.224Z"
   },
   {
    "duration": 3,
    "start_time": "2023-04-03T19:56:10.065Z"
   },
   {
    "duration": 27,
    "start_time": "2023-04-03T19:56:10.070Z"
   },
   {
    "duration": 22,
    "start_time": "2023-04-03T19:56:10.099Z"
   },
   {
    "duration": 8,
    "start_time": "2023-04-03T19:56:10.123Z"
   },
   {
    "duration": 8,
    "start_time": "2023-04-03T19:56:10.133Z"
   },
   {
    "duration": 12,
    "start_time": "2023-04-03T19:56:10.143Z"
   },
   {
    "duration": 6,
    "start_time": "2023-04-03T19:56:10.157Z"
   },
   {
    "duration": 25,
    "start_time": "2023-04-03T19:56:10.164Z"
   },
   {
    "duration": 5,
    "start_time": "2023-04-03T19:56:10.191Z"
   },
   {
    "duration": 8,
    "start_time": "2023-04-03T19:56:10.197Z"
   },
   {
    "duration": 6,
    "start_time": "2023-04-03T19:56:10.206Z"
   },
   {
    "duration": 8,
    "start_time": "2023-04-03T19:56:10.213Z"
   },
   {
    "duration": 7,
    "start_time": "2023-04-03T19:56:10.222Z"
   },
   {
    "duration": 7,
    "start_time": "2023-04-03T19:56:10.230Z"
   },
   {
    "duration": 11,
    "start_time": "2023-04-03T19:56:10.239Z"
   },
   {
    "duration": 3,
    "start_time": "2023-04-03T19:56:10.252Z"
   },
   {
    "duration": 28,
    "start_time": "2023-04-03T19:56:10.256Z"
   },
   {
    "duration": 6,
    "start_time": "2023-04-03T19:56:10.287Z"
   },
   {
    "duration": 13,
    "start_time": "2023-04-03T19:56:10.294Z"
   },
   {
    "duration": 4,
    "start_time": "2023-04-03T19:56:10.309Z"
   },
   {
    "duration": 5,
    "start_time": "2023-04-03T19:56:10.315Z"
   },
   {
    "duration": 13,
    "start_time": "2023-04-03T19:56:10.322Z"
   },
   {
    "duration": 19,
    "start_time": "2023-04-03T19:56:10.337Z"
   },
   {
    "duration": 28,
    "start_time": "2023-04-03T19:56:10.357Z"
   },
   {
    "duration": 4,
    "start_time": "2023-04-03T19:56:10.394Z"
   },
   {
    "duration": 8,
    "start_time": "2023-04-03T19:56:10.400Z"
   },
   {
    "duration": 7,
    "start_time": "2023-04-03T19:56:10.409Z"
   },
   {
    "duration": 7,
    "start_time": "2023-04-03T19:56:10.420Z"
   },
   {
    "duration": 10,
    "start_time": "2023-04-03T19:56:10.428Z"
   },
   {
    "duration": 14,
    "start_time": "2023-04-03T19:56:10.440Z"
   },
   {
    "duration": 28,
    "start_time": "2023-04-03T19:56:10.472Z"
   },
   {
    "duration": 8,
    "start_time": "2023-04-03T19:56:10.502Z"
   },
   {
    "duration": 8,
    "start_time": "2023-04-03T19:56:10.511Z"
   },
   {
    "duration": 9,
    "start_time": "2023-04-03T19:56:10.521Z"
   },
   {
    "duration": 8,
    "start_time": "2023-04-03T19:56:10.531Z"
   },
   {
    "duration": 4,
    "start_time": "2023-04-03T19:56:10.541Z"
   },
   {
    "duration": 14,
    "start_time": "2023-04-03T19:56:10.546Z"
   },
   {
    "duration": 144,
    "start_time": "2023-04-03T19:56:10.561Z"
   },
   {
    "duration": 16,
    "start_time": "2023-04-03T19:56:10.776Z"
   },
   {
    "duration": 642,
    "start_time": "2023-04-03T19:56:10.794Z"
   },
   {
    "duration": 3,
    "start_time": "2023-04-03T19:56:11.437Z"
   },
   {
    "duration": 6,
    "start_time": "2023-04-03T19:56:11.441Z"
   },
   {
    "duration": 546,
    "start_time": "2023-04-03T19:56:11.448Z"
   },
   {
    "duration": 12,
    "start_time": "2023-04-03T19:56:11.998Z"
   },
   {
    "duration": 4,
    "start_time": "2023-04-03T19:56:12.012Z"
   },
   {
    "duration": 10,
    "start_time": "2023-04-03T19:56:12.017Z"
   },
   {
    "duration": 48,
    "start_time": "2023-04-03T19:56:12.029Z"
   },
   {
    "duration": 28,
    "start_time": "2023-04-03T19:56:12.079Z"
   },
   {
    "duration": 17,
    "start_time": "2023-04-03T19:56:12.108Z"
   },
   {
    "duration": 11,
    "start_time": "2023-04-03T19:56:12.127Z"
   },
   {
    "duration": 5,
    "start_time": "2023-04-03T19:56:12.140Z"
   },
   {
    "duration": 11,
    "start_time": "2023-04-03T19:56:12.146Z"
   },
   {
    "duration": 9,
    "start_time": "2023-04-03T19:56:12.158Z"
   },
   {
    "duration": 29,
    "start_time": "2023-04-03T19:56:12.168Z"
   },
   {
    "duration": 5,
    "start_time": "2023-04-03T19:56:12.199Z"
   },
   {
    "duration": 537677,
    "start_time": "2023-04-03T19:56:12.206Z"
   },
   {
    "duration": 5,
    "start_time": "2023-04-03T20:05:09.886Z"
   },
   {
    "duration": 200239,
    "start_time": "2023-04-03T20:05:09.892Z"
   },
   {
    "duration": 5,
    "start_time": "2023-04-03T20:08:30.132Z"
   },
   {
    "duration": 15637,
    "start_time": "2023-04-03T20:08:30.138Z"
   },
   {
    "duration": 15,
    "start_time": "2023-04-03T20:08:45.777Z"
   },
   {
    "duration": 15836,
    "start_time": "2023-04-03T20:08:45.794Z"
   },
   {
    "duration": 4,
    "start_time": "2023-04-03T20:09:01.632Z"
   },
   {
    "duration": 7749,
    "start_time": "2023-04-03T20:09:01.637Z"
   },
   {
    "duration": 5,
    "start_time": "2023-04-03T20:09:09.390Z"
   },
   {
    "duration": 3268,
    "start_time": "2023-04-03T20:09:09.396Z"
   },
   {
    "duration": 20,
    "start_time": "2023-04-03T20:09:12.666Z"
   },
   {
    "duration": 267814,
    "start_time": "2023-04-03T20:09:12.688Z"
   },
   {
    "duration": 12,
    "start_time": "2023-04-03T20:13:40.573Z"
   },
   {
    "duration": 93623,
    "start_time": "2023-04-03T20:13:40.587Z"
   },
   {
    "duration": 4,
    "start_time": "2023-04-03T20:15:14.212Z"
   },
   {
    "duration": 32,
    "start_time": "2023-04-03T20:15:14.218Z"
   },
   {
    "duration": 228,
    "start_time": "2023-04-03T20:23:00.387Z"
   },
   {
    "duration": 12,
    "start_time": "2023-04-03T20:38:07.369Z"
   },
   {
    "duration": 13,
    "start_time": "2023-04-03T20:41:17.487Z"
   },
   {
    "duration": 8279,
    "start_time": "2023-04-03T20:41:59.756Z"
   },
   {
    "duration": 9,
    "start_time": "2023-04-03T20:43:35.620Z"
   },
   {
    "duration": 8164,
    "start_time": "2023-04-03T20:43:41.818Z"
   },
   {
    "duration": 3,
    "start_time": "2023-04-03T20:43:59.812Z"
   },
   {
    "duration": 7288,
    "start_time": "2023-04-03T20:44:00.594Z"
   },
   {
    "duration": 9,
    "start_time": "2023-04-03T20:44:41.711Z"
   },
   {
    "duration": 3,
    "start_time": "2023-04-03T20:44:46.687Z"
   },
   {
    "duration": 45,
    "start_time": "2023-04-03T20:44:47.258Z"
   },
   {
    "duration": 11,
    "start_time": "2023-04-03T20:47:02.542Z"
   },
   {
    "duration": 53,
    "start_time": "2023-04-03T20:47:06.344Z"
   },
   {
    "duration": 3,
    "start_time": "2023-04-03T20:48:34.485Z"
   },
   {
    "duration": 40,
    "start_time": "2023-04-03T20:48:40.460Z"
   },
   {
    "duration": 33,
    "start_time": "2023-04-03T20:48:52.699Z"
   },
   {
    "duration": 4,
    "start_time": "2023-04-03T20:49:12.387Z"
   },
   {
    "duration": 7,
    "start_time": "2023-04-03T20:49:12.860Z"
   },
   {
    "duration": 3,
    "start_time": "2023-04-03T20:49:13.198Z"
   },
   {
    "duration": 7,
    "start_time": "2023-04-03T20:49:13.513Z"
   },
   {
    "duration": 4,
    "start_time": "2023-04-03T20:49:13.798Z"
   },
   {
    "duration": 8,
    "start_time": "2023-04-03T20:49:14.124Z"
   },
   {
    "duration": 9,
    "start_time": "2023-04-03T20:49:14.937Z"
   },
   {
    "duration": 3,
    "start_time": "2023-04-03T20:49:15.260Z"
   },
   {
    "duration": 3,
    "start_time": "2023-04-03T20:49:15.586Z"
   },
   {
    "duration": 4,
    "start_time": "2023-04-03T20:49:15.947Z"
   },
   {
    "duration": 4,
    "start_time": "2023-04-03T20:49:26.791Z"
   },
   {
    "duration": 7,
    "start_time": "2023-04-03T20:49:27.136Z"
   },
   {
    "duration": 5,
    "start_time": "2023-04-03T20:49:27.462Z"
   },
   {
    "duration": 7,
    "start_time": "2023-04-03T20:49:27.736Z"
   },
   {
    "duration": 11,
    "start_time": "2023-04-03T20:49:28.088Z"
   },
   {
    "duration": 3,
    "start_time": "2023-04-03T20:49:28.398Z"
   },
   {
    "duration": 3,
    "start_time": "2023-04-03T20:49:28.736Z"
   },
   {
    "duration": 5,
    "start_time": "2023-04-03T20:49:29.112Z"
   },
   {
    "duration": 2,
    "start_time": "2023-04-03T20:49:36.514Z"
   },
   {
    "duration": 34,
    "start_time": "2023-04-03T20:49:37.124Z"
   },
   {
    "duration": 10,
    "start_time": "2023-04-03T20:50:08.727Z"
   },
   {
    "duration": 11,
    "start_time": "2023-04-03T20:50:24.588Z"
   },
   {
    "duration": 2,
    "start_time": "2023-04-03T20:50:29.043Z"
   },
   {
    "duration": 7711,
    "start_time": "2023-04-03T20:50:29.463Z"
   },
   {
    "duration": 7,
    "start_time": "2023-04-03T20:50:43.612Z"
   },
   {
    "duration": 7762,
    "start_time": "2023-04-03T20:50:50.991Z"
   },
   {
    "duration": 18,
    "start_time": "2023-04-03T20:50:58.755Z"
   },
   {
    "duration": 4,
    "start_time": "2023-04-03T20:52:11.695Z"
   },
   {
    "duration": 9603,
    "start_time": "2023-04-03T20:52:12.256Z"
   },
   {
    "duration": 18,
    "start_time": "2023-04-03T20:52:21.861Z"
   },
   {
    "duration": 9472,
    "start_time": "2023-04-03T20:52:40.634Z"
   },
   {
    "duration": 10,
    "start_time": "2023-04-03T20:52:50.107Z"
   },
   {
    "duration": 4,
    "start_time": "2023-04-03T20:53:44.424Z"
   },
   {
    "duration": 13181,
    "start_time": "2023-04-03T20:53:44.947Z"
   },
   {
    "duration": 9,
    "start_time": "2023-04-03T20:53:58.130Z"
   },
   {
    "duration": 5,
    "start_time": "2023-04-03T20:57:06.956Z"
   },
   {
    "duration": 5,
    "start_time": "2023-04-03T20:58:07.921Z"
   },
   {
    "duration": 5,
    "start_time": "2023-04-03T20:58:25.446Z"
   },
   {
    "duration": 11,
    "start_time": "2023-04-03T20:58:38.747Z"
   },
   {
    "duration": 17,
    "start_time": "2023-04-03T20:58:43.135Z"
   },
   {
    "duration": 11,
    "start_time": "2023-04-03T20:59:20.294Z"
   },
   {
    "duration": 14,
    "start_time": "2023-04-03T20:59:26.479Z"
   },
   {
    "duration": 5,
    "start_time": "2023-04-03T20:59:56.202Z"
   },
   {
    "duration": 4,
    "start_time": "2023-04-03T21:01:24.839Z"
   },
   {
    "duration": 3,
    "start_time": "2023-04-03T21:01:42.853Z"
   },
   {
    "duration": 11,
    "start_time": "2023-04-03T21:01:44.115Z"
   },
   {
    "duration": 4,
    "start_time": "2023-04-03T21:01:57.140Z"
   },
   {
    "duration": 5,
    "start_time": "2023-04-03T21:02:00.515Z"
   },
   {
    "duration": 3,
    "start_time": "2023-04-03T21:02:15.666Z"
   },
   {
    "duration": 7,
    "start_time": "2023-04-03T21:02:16.191Z"
   },
   {
    "duration": 116,
    "start_time": "2023-04-03T21:02:22.166Z"
   },
   {
    "duration": 3,
    "start_time": "2023-04-03T21:03:31.644Z"
   },
   {
    "duration": 7,
    "start_time": "2023-04-03T21:03:36.343Z"
   },
   {
    "duration": 3,
    "start_time": "2023-04-03T21:03:42.382Z"
   },
   {
    "duration": 3,
    "start_time": "2023-04-03T21:03:42.618Z"
   },
   {
    "duration": 3,
    "start_time": "2023-04-03T21:03:42.910Z"
   },
   {
    "duration": 7,
    "start_time": "2023-04-03T21:03:43.180Z"
   },
   {
    "duration": 78063,
    "start_time": "2023-04-03T21:03:48.031Z"
   },
   {
    "duration": 20,
    "start_time": "2023-04-03T21:05:08.767Z"
   },
   {
    "duration": 5,
    "start_time": "2023-04-03T21:06:14.784Z"
   },
   {
    "duration": 12,
    "start_time": "2023-04-03T21:06:47.465Z"
   },
   {
    "duration": 10,
    "start_time": "2023-04-03T21:06:51.409Z"
   },
   {
    "duration": 8,
    "start_time": "2023-04-03T21:06:59.227Z"
   },
   {
    "duration": 8,
    "start_time": "2023-04-03T21:07:16.291Z"
   },
   {
    "duration": 4,
    "start_time": "2023-04-03T21:07:21.786Z"
   },
   {
    "duration": 24,
    "start_time": "2023-04-03T21:07:50.254Z"
   },
   {
    "duration": 23,
    "start_time": "2023-04-03T21:08:11.630Z"
   },
   {
    "duration": 18,
    "start_time": "2023-04-03T21:08:32.409Z"
   },
   {
    "duration": 77128,
    "start_time": "2023-04-03T21:09:16.110Z"
   },
   {
    "duration": 9,
    "start_time": "2023-04-03T21:10:33.239Z"
   },
   {
    "duration": 27,
    "start_time": "2023-04-03T21:10:45.065Z"
   },
   {
    "duration": 4,
    "start_time": "2023-04-03T21:11:00.126Z"
   },
   {
    "duration": 17,
    "start_time": "2023-04-03T21:11:08.806Z"
   },
   {
    "duration": 4,
    "start_time": "2023-04-03T21:11:12.608Z"
   },
   {
    "duration": 1845,
    "start_time": "2023-04-03T21:11:30.866Z"
   },
   {
    "duration": 8,
    "start_time": "2023-04-03T21:11:35.372Z"
   },
   {
    "duration": 74963,
    "start_time": "2023-04-03T21:11:47.428Z"
   },
   {
    "duration": 10,
    "start_time": "2023-04-03T21:13:02.393Z"
   },
   {
    "duration": 1914,
    "start_time": "2023-04-03T21:13:02.405Z"
   },
   {
    "duration": 9,
    "start_time": "2023-04-03T21:13:04.321Z"
   },
   {
    "duration": 3,
    "start_time": "2023-04-03T21:13:17.480Z"
   },
   {
    "duration": 3,
    "start_time": "2023-04-03T21:13:49.370Z"
   },
   {
    "duration": 1848,
    "start_time": "2023-04-03T21:14:21.857Z"
   },
   {
    "duration": 9,
    "start_time": "2023-04-03T21:14:23.707Z"
   },
   {
    "duration": 10,
    "start_time": "2023-04-03T21:15:31.159Z"
   },
   {
    "duration": 13,
    "start_time": "2023-04-03T21:15:37.097Z"
   },
   {
    "duration": 15,
    "start_time": "2023-04-03T21:15:48.335Z"
   },
   {
    "duration": 20,
    "start_time": "2023-04-03T21:15:58.183Z"
   },
   {
    "duration": 17,
    "start_time": "2023-04-03T21:16:08.109Z"
   },
   {
    "duration": 15,
    "start_time": "2023-04-03T21:16:15.398Z"
   },
   {
    "duration": 4,
    "start_time": "2023-04-03T21:16:32.298Z"
   },
   {
    "duration": 5,
    "start_time": "2023-04-03T21:16:43.961Z"
   },
   {
    "duration": 1990,
    "start_time": "2023-04-03T21:16:51.988Z"
   },
   {
    "duration": 1937,
    "start_time": "2023-04-03T21:17:24.102Z"
   },
   {
    "duration": 1934,
    "start_time": "2023-04-03T21:17:39.865Z"
   },
   {
    "duration": 10,
    "start_time": "2023-04-03T21:18:59.707Z"
   },
   {
    "duration": 2065,
    "start_time": "2023-04-03T21:19:09.571Z"
   },
   {
    "duration": 3,
    "start_time": "2023-04-03T21:19:16.543Z"
   },
   {
    "duration": 3,
    "start_time": "2023-04-03T21:19:17.055Z"
   },
   {
    "duration": 3,
    "start_time": "2023-04-03T21:19:17.288Z"
   },
   {
    "duration": 3,
    "start_time": "2023-04-03T21:19:17.562Z"
   },
   {
    "duration": 5646,
    "start_time": "2023-04-03T21:19:18.159Z"
   },
   {
    "duration": 1769,
    "start_time": "2023-04-03T21:19:38.884Z"
   },
   {
    "duration": 4,
    "start_time": "2023-04-03T21:19:40.655Z"
   },
   {
    "duration": 38,
    "start_time": "2023-04-03T21:19:40.660Z"
   },
   {
    "duration": 11,
    "start_time": "2023-04-03T21:19:40.700Z"
   },
   {
    "duration": 5,
    "start_time": "2023-04-03T21:19:40.712Z"
   },
   {
    "duration": 4,
    "start_time": "2023-04-03T21:19:40.718Z"
   },
   {
    "duration": 11,
    "start_time": "2023-04-03T21:19:40.723Z"
   },
   {
    "duration": 5,
    "start_time": "2023-04-03T21:19:40.735Z"
   },
   {
    "duration": 20,
    "start_time": "2023-04-03T21:19:40.741Z"
   },
   {
    "duration": 17,
    "start_time": "2023-04-03T21:19:40.764Z"
   },
   {
    "duration": 6,
    "start_time": "2023-04-03T21:19:40.786Z"
   },
   {
    "duration": 8,
    "start_time": "2023-04-03T21:19:40.794Z"
   },
   {
    "duration": 7,
    "start_time": "2023-04-03T21:19:40.803Z"
   },
   {
    "duration": 5,
    "start_time": "2023-04-03T21:19:40.811Z"
   },
   {
    "duration": 791,
    "start_time": "2023-04-03T21:19:40.817Z"
   },
   {
    "duration": 888,
    "start_time": "2023-04-03T21:19:41.610Z"
   },
   {
    "duration": 6,
    "start_time": "2023-04-03T21:19:42.501Z"
   },
   {
    "duration": 6,
    "start_time": "2023-04-03T21:19:42.509Z"
   },
   {
    "duration": 12,
    "start_time": "2023-04-03T21:19:42.516Z"
   },
   {
    "duration": 7,
    "start_time": "2023-04-03T21:19:42.529Z"
   },
   {
    "duration": 8,
    "start_time": "2023-04-03T21:19:42.538Z"
   },
   {
    "duration": 10,
    "start_time": "2023-04-03T21:19:42.548Z"
   },
   {
    "duration": 41,
    "start_time": "2023-04-03T21:19:42.559Z"
   },
   {
    "duration": 27,
    "start_time": "2023-04-03T21:19:42.602Z"
   },
   {
    "duration": 22,
    "start_time": "2023-04-03T21:19:42.631Z"
   },
   {
    "duration": 34,
    "start_time": "2023-04-03T21:19:42.655Z"
   },
   {
    "duration": 26,
    "start_time": "2023-04-03T21:19:42.691Z"
   },
   {
    "duration": 20,
    "start_time": "2023-04-03T21:19:42.720Z"
   },
   {
    "duration": 9,
    "start_time": "2023-04-03T21:19:42.742Z"
   },
   {
    "duration": 4,
    "start_time": "2023-04-03T21:19:42.753Z"
   },
   {
    "duration": 12,
    "start_time": "2023-04-03T21:19:42.758Z"
   },
   {
    "duration": 28,
    "start_time": "2023-04-03T21:19:42.781Z"
   },
   {
    "duration": 9,
    "start_time": "2023-04-03T21:19:42.811Z"
   },
   {
    "duration": 10,
    "start_time": "2023-04-03T21:19:42.821Z"
   },
   {
    "duration": 12,
    "start_time": "2023-04-03T21:19:42.833Z"
   },
   {
    "duration": 4,
    "start_time": "2023-04-03T21:19:42.846Z"
   },
   {
    "duration": 6,
    "start_time": "2023-04-03T21:19:42.851Z"
   },
   {
    "duration": 35,
    "start_time": "2023-04-03T21:19:42.858Z"
   },
   {
    "duration": 42,
    "start_time": "2023-04-03T21:19:42.895Z"
   },
   {
    "duration": 5,
    "start_time": "2023-04-03T21:19:42.938Z"
   },
   {
    "duration": 4,
    "start_time": "2023-04-03T21:19:42.945Z"
   },
   {
    "duration": 7,
    "start_time": "2023-04-03T21:19:42.950Z"
   },
   {
    "duration": 10,
    "start_time": "2023-04-03T21:19:42.958Z"
   },
   {
    "duration": 43,
    "start_time": "2023-04-03T21:19:42.969Z"
   },
   {
    "duration": 28,
    "start_time": "2023-04-03T21:19:43.014Z"
   },
   {
    "duration": 8,
    "start_time": "2023-04-03T21:19:43.044Z"
   },
   {
    "duration": 15,
    "start_time": "2023-04-03T21:19:43.054Z"
   },
   {
    "duration": 45,
    "start_time": "2023-04-03T21:19:43.071Z"
   },
   {
    "duration": 12,
    "start_time": "2023-04-03T21:19:43.118Z"
   },
   {
    "duration": 8,
    "start_time": "2023-04-03T21:19:43.132Z"
   },
   {
    "duration": 5,
    "start_time": "2023-04-03T21:19:43.141Z"
   },
   {
    "duration": 7,
    "start_time": "2023-04-03T21:19:43.147Z"
   },
   {
    "duration": 3,
    "start_time": "2023-04-03T21:19:43.934Z"
   },
   {
    "duration": 197,
    "start_time": "2023-04-03T21:19:44.470Z"
   },
   {
    "duration": 3,
    "start_time": "2023-04-03T21:20:09.586Z"
   },
   {
    "duration": 3,
    "start_time": "2023-04-03T21:20:10.033Z"
   },
   {
    "duration": 1517,
    "start_time": "2023-04-03T21:20:10.772Z"
   },
   {
    "duration": 1838,
    "start_time": "2023-04-03T21:20:18.936Z"
   },
   {
    "duration": 5,
    "start_time": "2023-04-03T21:20:20.776Z"
   },
   {
    "duration": 37,
    "start_time": "2023-04-03T21:20:20.783Z"
   },
   {
    "duration": 12,
    "start_time": "2023-04-03T21:20:20.822Z"
   },
   {
    "duration": 5,
    "start_time": "2023-04-03T21:20:20.835Z"
   },
   {
    "duration": 7,
    "start_time": "2023-04-03T21:20:20.841Z"
   },
   {
    "duration": 17,
    "start_time": "2023-04-03T21:20:20.850Z"
   },
   {
    "duration": 10,
    "start_time": "2023-04-03T21:20:20.869Z"
   },
   {
    "duration": 24,
    "start_time": "2023-04-03T21:20:20.880Z"
   },
   {
    "duration": 7,
    "start_time": "2023-04-03T21:20:20.908Z"
   },
   {
    "duration": 9,
    "start_time": "2023-04-03T21:20:20.916Z"
   },
   {
    "duration": 16,
    "start_time": "2023-04-03T21:20:20.927Z"
   },
   {
    "duration": 28,
    "start_time": "2023-04-03T21:20:20.945Z"
   },
   {
    "duration": 6,
    "start_time": "2023-04-03T21:20:20.974Z"
   },
   {
    "duration": 763,
    "start_time": "2023-04-03T21:20:20.982Z"
   },
   {
    "duration": 780,
    "start_time": "2023-04-03T21:20:21.747Z"
   },
   {
    "duration": 4,
    "start_time": "2023-04-03T21:20:22.528Z"
   },
   {
    "duration": 7,
    "start_time": "2023-04-03T21:20:22.533Z"
   },
   {
    "duration": 12,
    "start_time": "2023-04-03T21:20:22.541Z"
   },
   {
    "duration": 10,
    "start_time": "2023-04-03T21:20:22.554Z"
   },
   {
    "duration": 8,
    "start_time": "2023-04-03T21:20:22.565Z"
   },
   {
    "duration": 5,
    "start_time": "2023-04-03T21:20:22.575Z"
   },
   {
    "duration": 6,
    "start_time": "2023-04-03T21:20:22.581Z"
   },
   {
    "duration": 12,
    "start_time": "2023-04-03T21:20:22.588Z"
   },
   {
    "duration": 4,
    "start_time": "2023-04-03T21:20:22.602Z"
   },
   {
    "duration": 20,
    "start_time": "2023-04-03T21:20:22.607Z"
   },
   {
    "duration": 6,
    "start_time": "2023-04-03T21:20:22.628Z"
   },
   {
    "duration": 7,
    "start_time": "2023-04-03T21:20:22.637Z"
   },
   {
    "duration": 8,
    "start_time": "2023-04-03T21:20:22.645Z"
   },
   {
    "duration": 17,
    "start_time": "2023-04-03T21:20:22.654Z"
   },
   {
    "duration": 31,
    "start_time": "2023-04-03T21:20:22.672Z"
   },
   {
    "duration": 4,
    "start_time": "2023-04-03T21:20:22.704Z"
   },
   {
    "duration": 6,
    "start_time": "2023-04-03T21:20:22.710Z"
   },
   {
    "duration": 11,
    "start_time": "2023-04-03T21:20:22.717Z"
   },
   {
    "duration": 11,
    "start_time": "2023-04-03T21:20:22.729Z"
   },
   {
    "duration": 4,
    "start_time": "2023-04-03T21:20:22.741Z"
   },
   {
    "duration": 7,
    "start_time": "2023-04-03T21:20:22.746Z"
   },
   {
    "duration": 18,
    "start_time": "2023-04-03T21:20:22.754Z"
   },
   {
    "duration": 20,
    "start_time": "2023-04-03T21:20:22.774Z"
   },
   {
    "duration": 23,
    "start_time": "2023-04-03T21:20:22.795Z"
   },
   {
    "duration": 5,
    "start_time": "2023-04-03T21:20:22.819Z"
   },
   {
    "duration": 10,
    "start_time": "2023-04-03T21:20:22.825Z"
   },
   {
    "duration": 11,
    "start_time": "2023-04-03T21:20:22.836Z"
   },
   {
    "duration": 16,
    "start_time": "2023-04-03T21:20:22.848Z"
   },
   {
    "duration": 8,
    "start_time": "2023-04-03T21:20:22.865Z"
   },
   {
    "duration": 9,
    "start_time": "2023-04-03T21:20:22.875Z"
   },
   {
    "duration": 19,
    "start_time": "2023-04-03T21:20:22.886Z"
   },
   {
    "duration": 24,
    "start_time": "2023-04-03T21:20:22.906Z"
   },
   {
    "duration": 6,
    "start_time": "2023-04-03T21:20:22.932Z"
   },
   {
    "duration": 14,
    "start_time": "2023-04-03T21:20:22.940Z"
   },
   {
    "duration": 11,
    "start_time": "2023-04-03T21:20:22.955Z"
   },
   {
    "duration": 16,
    "start_time": "2023-04-03T21:20:22.968Z"
   },
   {
    "duration": 8,
    "start_time": "2023-04-03T21:20:22.986Z"
   },
   {
    "duration": 983,
    "start_time": "2023-04-03T21:20:22.996Z"
   },
   {
    "duration": 2,
    "start_time": "2023-04-03T21:21:14.750Z"
   },
   {
    "duration": 831,
    "start_time": "2023-04-03T21:21:26.950Z"
   },
   {
    "duration": 830,
    "start_time": "2023-04-03T21:21:40.459Z"
   },
   {
    "duration": 8,
    "start_time": "2023-04-03T21:21:43.364Z"
   },
   {
    "duration": 678,
    "start_time": "2023-04-03T21:21:59.592Z"
   },
   {
    "duration": 8,
    "start_time": "2023-04-03T21:22:06.514Z"
   },
   {
    "duration": 306,
    "start_time": "2023-04-03T21:23:06.540Z"
   },
   {
    "duration": 194,
    "start_time": "2023-04-03T21:23:19.254Z"
   },
   {
    "duration": 231,
    "start_time": "2023-04-03T21:23:27.817Z"
   },
   {
    "duration": 3,
    "start_time": "2023-04-03T21:25:12.920Z"
   },
   {
    "duration": 3,
    "start_time": "2023-04-03T21:25:14.069Z"
   },
   {
    "duration": 100,
    "start_time": "2023-04-03T21:25:14.594Z"
   },
   {
    "duration": 3,
    "start_time": "2023-04-03T21:25:15.206Z"
   },
   {
    "duration": 3,
    "start_time": "2023-04-03T21:25:15.570Z"
   },
   {
    "duration": 3,
    "start_time": "2023-04-03T21:25:15.970Z"
   },
   {
    "duration": 3,
    "start_time": "2023-04-03T21:25:16.258Z"
   },
   {
    "duration": 3,
    "start_time": "2023-04-03T21:25:16.859Z"
   },
   {
    "duration": 2,
    "start_time": "2023-04-03T21:25:19.545Z"
   },
   {
    "duration": 2,
    "start_time": "2023-04-03T21:25:36.484Z"
   },
   {
    "duration": 6780,
    "start_time": "2023-04-03T21:26:10.547Z"
   },
   {
    "duration": 10,
    "start_time": "2023-04-03T21:26:30.348Z"
   },
   {
    "duration": 191975,
    "start_time": "2023-04-03T21:26:35.499Z"
   },
   {
    "duration": 5,
    "start_time": "2023-04-03T21:29:47.476Z"
   },
   {
    "duration": 10900,
    "start_time": "2023-04-03T21:29:47.483Z"
   },
   {
    "duration": 5,
    "start_time": "2023-04-03T21:29:58.385Z"
   },
   {
    "duration": 3077,
    "start_time": "2023-04-03T21:29:58.392Z"
   },
   {
    "duration": 5,
    "start_time": "2023-04-03T21:30:01.472Z"
   },
   {
    "duration": 90343,
    "start_time": "2023-04-03T21:30:01.479Z"
   },
   {
    "duration": 5,
    "start_time": "2023-04-03T21:31:31.823Z"
   },
   {
    "duration": 35,
    "start_time": "2023-04-03T21:31:31.829Z"
   },
   {
    "duration": 268,
    "start_time": "2023-04-03T21:33:15.317Z"
   },
   {
    "duration": 4,
    "start_time": "2023-04-03T21:33:22.253Z"
   },
   {
    "duration": 3,
    "start_time": "2023-04-03T21:33:23.240Z"
   },
   {
    "duration": 3,
    "start_time": "2023-04-03T21:33:23.629Z"
   },
   {
    "duration": 3,
    "start_time": "2023-04-03T21:33:24.116Z"
   },
   {
    "duration": 19450,
    "start_time": "2023-04-03T21:33:53.029Z"
   },
   {
    "duration": 248416,
    "start_time": "2023-04-03T21:34:33.794Z"
   },
   {
    "duration": 10,
    "start_time": "2023-04-03T21:38:42.211Z"
   },
   {
    "duration": 4,
    "start_time": "2023-04-03T21:39:37.647Z"
   },
   {
    "duration": 3,
    "start_time": "2023-04-03T21:42:23.702Z"
   },
   {
    "duration": 2541,
    "start_time": "2023-04-03T21:42:41.316Z"
   },
   {
    "duration": 10,
    "start_time": "2023-04-03T21:42:49.603Z"
   },
   {
    "duration": 702367,
    "start_time": "2023-04-03T21:43:48.387Z"
   },
   {
    "duration": 17,
    "start_time": "2023-04-03T21:55:30.756Z"
   },
   {
    "duration": 7,
    "start_time": "2023-04-03T21:55:36.230Z"
   },
   {
    "duration": 66,
    "start_time": "2023-04-03T21:55:36.656Z"
   },
   {
    "duration": 3,
    "start_time": "2023-04-03T21:56:21.144Z"
   },
   {
    "duration": 6,
    "start_time": "2023-04-03T21:56:25.387Z"
   },
   {
    "duration": 46,
    "start_time": "2023-04-03T21:56:26.731Z"
   },
   {
    "duration": 3,
    "start_time": "2023-04-03T21:56:44.557Z"
   },
   {
    "duration": 4,
    "start_time": "2023-04-03T21:56:44.802Z"
   },
   {
    "duration": 3,
    "start_time": "2023-04-03T21:56:57.057Z"
   },
   {
    "duration": 3,
    "start_time": "2023-04-03T21:57:03.710Z"
   },
   {
    "duration": 3,
    "start_time": "2023-04-03T21:57:03.907Z"
   },
   {
    "duration": 93,
    "start_time": "2023-04-03T21:58:00.496Z"
   },
   {
    "duration": 2,
    "start_time": "2023-04-03T21:58:02.848Z"
   },
   {
    "duration": 40748,
    "start_time": "2023-04-03T21:58:23.097Z"
   },
   {
    "duration": 12,
    "start_time": "2023-04-03T21:59:04.824Z"
   },
   {
    "duration": 41813,
    "start_time": "2023-04-03T21:59:23.066Z"
   },
   {
    "duration": 10,
    "start_time": "2023-04-03T22:00:04.881Z"
   },
   {
    "duration": 714917,
    "start_time": "2023-04-03T22:00:48.407Z"
   },
   {
    "duration": 10,
    "start_time": "2023-04-03T22:12:43.326Z"
   },
   {
    "duration": 3,
    "start_time": "2023-04-03T22:12:43.338Z"
   },
   {
    "duration": 271,
    "start_time": "2023-04-03T22:12:43.343Z"
   },
   {
    "duration": 10,
    "start_time": "2023-04-03T22:13:13.333Z"
   },
   {
    "duration": 3,
    "start_time": "2023-04-03T22:13:19.333Z"
   },
   {
    "duration": 2,
    "start_time": "2023-04-03T22:13:24.534Z"
   },
   {
    "duration": 239,
    "start_time": "2023-04-03T22:13:25.121Z"
   },
   {
    "duration": 3,
    "start_time": "2023-04-03T22:13:32.862Z"
   },
   {
    "duration": 25,
    "start_time": "2023-04-03T22:13:34.046Z"
   },
   {
    "duration": 4,
    "start_time": "2023-04-03T22:13:49.223Z"
   },
   {
    "duration": 4,
    "start_time": "2023-04-03T22:13:53.123Z"
   },
   {
    "duration": 4,
    "start_time": "2023-04-03T22:13:53.435Z"
   },
   {
    "duration": 23,
    "start_time": "2023-04-03T22:13:58.791Z"
   },
   {
    "duration": 3,
    "start_time": "2023-04-03T22:14:08.995Z"
   },
   {
    "duration": 18,
    "start_time": "2023-04-03T22:14:09.647Z"
   },
   {
    "duration": 92,
    "start_time": "2023-04-03T22:14:15.910Z"
   },
   {
    "duration": 6,
    "start_time": "2023-04-03T22:14:22.395Z"
   },
   {
    "duration": 3,
    "start_time": "2023-04-03T22:14:41.548Z"
   },
   {
    "duration": 4,
    "start_time": "2023-04-03T22:14:42.494Z"
   },
   {
    "duration": 15,
    "start_time": "2023-04-03T22:14:46.102Z"
   },
   {
    "duration": 3,
    "start_time": "2023-04-03T22:15:54.803Z"
   },
   {
    "duration": 4,
    "start_time": "2023-04-03T22:15:58.839Z"
   },
   {
    "duration": 4,
    "start_time": "2023-04-03T22:16:06.740Z"
   },
   {
    "duration": 4,
    "start_time": "2023-04-03T22:16:16.499Z"
   },
   {
    "duration": 5,
    "start_time": "2023-04-03T22:16:17.804Z"
   },
   {
    "duration": 4,
    "start_time": "2023-04-03T22:16:37.395Z"
   },
   {
    "duration": 16,
    "start_time": "2023-04-03T22:16:40.888Z"
   },
   {
    "duration": 3,
    "start_time": "2023-04-03T22:17:07.705Z"
   },
   {
    "duration": 3,
    "start_time": "2023-04-03T22:17:15.305Z"
   },
   {
    "duration": 3,
    "start_time": "2023-04-03T22:17:19.042Z"
   },
   {
    "duration": 55,
    "start_time": "2023-04-03T22:18:43.084Z"
   },
   {
    "duration": 5,
    "start_time": "2023-04-03T22:19:04.535Z"
   },
   {
    "duration": 4,
    "start_time": "2023-04-03T22:19:09.711Z"
   },
   {
    "duration": 5,
    "start_time": "2023-04-03T22:19:13.573Z"
   },
   {
    "duration": 3,
    "start_time": "2023-04-03T22:19:17.608Z"
   },
   {
    "duration": 1346,
    "start_time": "2023-04-03T22:19:33.135Z"
   },
   {
    "duration": 1437,
    "start_time": "2023-04-03T22:19:42.826Z"
   },
   {
    "duration": 12,
    "start_time": "2023-04-03T22:20:22.835Z"
   },
   {
    "duration": 4,
    "start_time": "2023-04-03T22:20:24.262Z"
   },
   {
    "duration": 1470,
    "start_time": "2023-04-03T22:20:24.638Z"
   },
   {
    "duration": 185,
    "start_time": "2023-04-03T22:20:47.287Z"
   },
   {
    "duration": 13,
    "start_time": "2023-04-03T22:22:16.156Z"
   },
   {
    "duration": 2114,
    "start_time": "2023-04-03T22:23:04.643Z"
   },
   {
    "duration": 4,
    "start_time": "2023-04-03T22:23:06.760Z"
   },
   {
    "duration": 37,
    "start_time": "2023-04-03T22:23:06.765Z"
   },
   {
    "duration": 20,
    "start_time": "2023-04-03T22:23:06.804Z"
   },
   {
    "duration": 4,
    "start_time": "2023-04-03T22:23:06.828Z"
   },
   {
    "duration": 14,
    "start_time": "2023-04-03T22:23:06.833Z"
   },
   {
    "duration": 17,
    "start_time": "2023-04-03T22:23:06.848Z"
   },
   {
    "duration": 7,
    "start_time": "2023-04-03T22:23:06.867Z"
   },
   {
    "duration": 24,
    "start_time": "2023-04-03T22:23:06.875Z"
   },
   {
    "duration": 9,
    "start_time": "2023-04-03T22:23:06.900Z"
   },
   {
    "duration": 12,
    "start_time": "2023-04-03T22:23:06.911Z"
   },
   {
    "duration": 10,
    "start_time": "2023-04-03T22:23:06.924Z"
   },
   {
    "duration": 39,
    "start_time": "2023-04-03T22:23:06.936Z"
   },
   {
    "duration": 15,
    "start_time": "2023-04-03T22:23:06.979Z"
   },
   {
    "duration": 919,
    "start_time": "2023-04-03T22:23:06.996Z"
   },
   {
    "duration": 930,
    "start_time": "2023-04-03T22:23:07.917Z"
   },
   {
    "duration": 4,
    "start_time": "2023-04-03T22:23:08.850Z"
   },
   {
    "duration": 9,
    "start_time": "2023-04-03T22:23:08.856Z"
   },
   {
    "duration": 22,
    "start_time": "2023-04-03T22:23:08.868Z"
   },
   {
    "duration": 5,
    "start_time": "2023-04-03T22:23:08.893Z"
   },
   {
    "duration": 7,
    "start_time": "2023-04-03T22:23:08.901Z"
   },
   {
    "duration": 9,
    "start_time": "2023-04-03T22:23:08.909Z"
   },
   {
    "duration": 6,
    "start_time": "2023-04-03T22:23:08.920Z"
   },
   {
    "duration": 22,
    "start_time": "2023-04-03T22:23:08.928Z"
   },
   {
    "duration": 5,
    "start_time": "2023-04-03T22:23:08.972Z"
   },
   {
    "duration": 16,
    "start_time": "2023-04-03T22:23:08.980Z"
   },
   {
    "duration": 5,
    "start_time": "2023-04-03T22:23:08.999Z"
   },
   {
    "duration": 11,
    "start_time": "2023-04-03T22:23:09.006Z"
   },
   {
    "duration": 9,
    "start_time": "2023-04-03T22:23:09.020Z"
   },
   {
    "duration": 8,
    "start_time": "2023-04-03T22:23:09.031Z"
   },
   {
    "duration": 9,
    "start_time": "2023-04-03T22:23:09.072Z"
   },
   {
    "duration": 62,
    "start_time": "2023-04-03T22:23:09.083Z"
   },
   {
    "duration": 11,
    "start_time": "2023-04-03T22:23:09.148Z"
   },
   {
    "duration": 14,
    "start_time": "2023-04-03T22:23:09.161Z"
   },
   {
    "duration": 18,
    "start_time": "2023-04-03T22:23:09.178Z"
   },
   {
    "duration": 7,
    "start_time": "2023-04-03T22:23:09.198Z"
   },
   {
    "duration": 9,
    "start_time": "2023-04-03T22:23:09.208Z"
   },
   {
    "duration": 21,
    "start_time": "2023-04-03T22:23:09.220Z"
   },
   {
    "duration": 62,
    "start_time": "2023-04-03T22:23:09.244Z"
   },
   {
    "duration": 4,
    "start_time": "2023-04-03T22:23:09.308Z"
   },
   {
    "duration": 3,
    "start_time": "2023-04-03T22:23:09.318Z"
   },
   {
    "duration": 13,
    "start_time": "2023-04-03T22:23:09.323Z"
   },
   {
    "duration": 36,
    "start_time": "2023-04-03T22:23:09.338Z"
   },
   {
    "duration": 12,
    "start_time": "2023-04-03T22:23:09.376Z"
   },
   {
    "duration": 8,
    "start_time": "2023-04-03T22:23:09.390Z"
   },
   {
    "duration": 15,
    "start_time": "2023-04-03T22:23:09.401Z"
   },
   {
    "duration": 17,
    "start_time": "2023-04-03T22:23:09.420Z"
   },
   {
    "duration": 3,
    "start_time": "2023-04-03T22:23:09.473Z"
   },
   {
    "duration": 5,
    "start_time": "2023-04-03T22:23:09.480Z"
   },
   {
    "duration": 7,
    "start_time": "2023-04-03T22:23:09.487Z"
   },
   {
    "duration": 7,
    "start_time": "2023-04-03T22:23:09.497Z"
   },
   {
    "duration": 9,
    "start_time": "2023-04-03T22:23:09.506Z"
   },
   {
    "duration": 4,
    "start_time": "2023-04-03T22:23:09.517Z"
   },
   {
    "duration": 6,
    "start_time": "2023-04-03T22:23:09.524Z"
   },
   {
    "duration": 1151,
    "start_time": "2023-04-03T22:23:09.532Z"
   },
   {
    "duration": 12,
    "start_time": "2023-04-03T22:23:10.685Z"
   },
   {
    "duration": 770,
    "start_time": "2023-04-03T22:23:10.699Z"
   },
   {
    "duration": 9,
    "start_time": "2023-04-03T22:23:11.471Z"
   },
   {
    "duration": 261,
    "start_time": "2023-04-03T22:23:11.481Z"
   },
   {
    "duration": 4,
    "start_time": "2023-04-03T22:23:11.743Z"
   },
   {
    "duration": 15,
    "start_time": "2023-04-03T22:23:11.748Z"
   },
   {
    "duration": 6,
    "start_time": "2023-04-03T22:23:11.765Z"
   },
   {
    "duration": 10,
    "start_time": "2023-04-03T22:23:11.773Z"
   },
   {
    "duration": 19,
    "start_time": "2023-04-03T22:23:11.785Z"
   },
   {
    "duration": 20,
    "start_time": "2023-04-03T22:23:11.806Z"
   },
   {
    "duration": 12,
    "start_time": "2023-04-03T22:23:11.828Z"
   },
   {
    "duration": 19,
    "start_time": "2023-04-03T22:23:11.841Z"
   },
   {
    "duration": 6,
    "start_time": "2023-04-03T22:23:11.861Z"
   },
   {
    "duration": 8,
    "start_time": "2023-04-03T22:23:11.869Z"
   },
   {
    "duration": 198473,
    "start_time": "2023-04-03T22:23:11.879Z"
   },
   {
    "duration": 5,
    "start_time": "2023-04-03T22:26:30.354Z"
   },
   {
    "duration": 10544,
    "start_time": "2023-04-03T22:26:30.360Z"
   },
   {
    "duration": 4,
    "start_time": "2023-04-03T22:26:40.906Z"
   },
   {
    "duration": 3342,
    "start_time": "2023-04-03T22:26:40.912Z"
   },
   {
    "duration": 4,
    "start_time": "2023-04-03T22:26:44.256Z"
   },
   {
    "duration": 94628,
    "start_time": "2023-04-03T22:26:44.261Z"
   },
   {
    "duration": 5,
    "start_time": "2023-04-03T22:28:18.891Z"
   },
   {
    "duration": 30,
    "start_time": "2023-04-03T22:28:18.898Z"
   },
   {
    "duration": 292,
    "start_time": "2023-04-03T22:28:18.930Z"
   },
   {
    "duration": 3,
    "start_time": "2023-04-03T22:28:19.224Z"
   },
   {
    "duration": 67,
    "start_time": "2023-04-03T22:28:19.229Z"
   },
   {
    "duration": 28,
    "start_time": "2023-04-03T22:28:19.298Z"
   },
   {
    "duration": 25,
    "start_time": "2023-04-03T22:28:19.328Z"
   },
   {
    "duration": 258670,
    "start_time": "2023-04-03T22:28:19.355Z"
   },
   {
    "duration": 10,
    "start_time": "2023-04-03T22:32:38.026Z"
   },
   {
    "duration": 7,
    "start_time": "2023-04-03T22:32:38.037Z"
   },
   {
    "duration": 731493,
    "start_time": "2023-04-03T22:32:38.045Z"
   },
   {
    "duration": 11,
    "start_time": "2023-04-03T22:44:49.540Z"
   },
   {
    "duration": 6,
    "start_time": "2023-04-03T22:44:49.552Z"
   },
   {
    "duration": 250,
    "start_time": "2023-04-03T22:44:49.572Z"
   },
   {
    "duration": 4,
    "start_time": "2023-04-03T22:44:49.823Z"
   },
   {
    "duration": 1429,
    "start_time": "2023-04-03T22:44:49.828Z"
   },
   {
    "duration": 14,
    "start_time": "2023-04-03T22:44:51.258Z"
   },
   {
    "duration": 205,
    "start_time": "2023-04-03T22:44:51.273Z"
   }
  ],
  "kernelspec": {
   "display_name": "Python 3 (ipykernel)",
   "language": "python",
   "name": "python3"
  },
  "language_info": {
   "codemirror_mode": {
    "name": "ipython",
    "version": 3
   },
   "file_extension": ".py",
   "mimetype": "text/x-python",
   "name": "python",
   "nbconvert_exporter": "python",
   "pygments_lexer": "ipython3",
   "version": "3.10.11"
  },
  "toc": {
   "base_numbering": 1,
   "nav_menu": {},
   "number_sections": false,
   "sideBar": true,
   "skip_h1_title": false,
   "title_cell": "Table of Contents",
   "title_sidebar": "Contents",
   "toc_cell": false,
   "toc_position": {},
   "toc_section_display": true,
   "toc_window_display": false
  },
  "varInspector": {
   "cols": {
    "lenName": 16,
    "lenType": 16,
    "lenVar": 40
   },
   "kernels_config": {
    "python": {
     "delete_cmd_postfix": "",
     "delete_cmd_prefix": "del ",
     "library": "var_list.py",
     "varRefreshCmd": "print(var_dic_list())"
    },
    "r": {
     "delete_cmd_postfix": ") ",
     "delete_cmd_prefix": "rm(",
     "library": "var_list.r",
     "varRefreshCmd": "cat(var_dic_list()) "
    }
   },
   "types_to_exclude": [
    "module",
    "function",
    "builtin_function_or_method",
    "instance",
    "_Feature"
   ],
   "window_display": false
  }
 },
 "nbformat": 4,
 "nbformat_minor": 5
}
