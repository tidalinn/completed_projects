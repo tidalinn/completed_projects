{
 "cells": [
  {
   "cell_type": "markdown",
   "metadata": {},
   "source": [
    "# Определение токсичности комментариев"
   ]
  },
  {
   "cell_type": "markdown",
   "metadata": {},
   "source": [
    "**Источник данных:** данные предоставлены заказчиком.\n",
    "\n",
    "**Характер данных:** набор данных с разметкой о токсичности правок.\n",
    "\n",
    "**Цель заказчика:** создание инструмента, который будет искать токсичные комментарии и отправлять их на модерацию.\n",
    "\n",
    "**Задача исследования:** обучение модели классифицировать комментарии на позитивные и негативные.\n",
    "\n",
    "**Условия обучения модели:** метрика F1 > 0.75."
   ]
  },
  {
   "cell_type": "markdown",
   "metadata": {},
   "source": [
    "---"
   ]
  },
  {
   "cell_type": "markdown",
   "metadata": {
    "toc": true
   },
   "source": [
    "<h1>Содержание<span class=\"tocSkip\"></span></h1>\n",
    "<div class=\"toc\"><ul class=\"toc-item\"><li><span><a href=\"#Подготовка-окружения\" data-toc-modified-id=\"Подготовка-окружения-1\"><span class=\"toc-item-num\">1&nbsp;&nbsp;</span>Подготовка окружения</a></span><ul class=\"toc-item\"><li><span><a href=\"#Импорт-библиотек\" data-toc-modified-id=\"Импорт-библиотек-1.1\"><span class=\"toc-item-num\">1.1&nbsp;&nbsp;</span>Импорт библиотек</a></span></li><li><span><a href=\"#Загрузка-данных\" data-toc-modified-id=\"Загрузка-данных-1.2\"><span class=\"toc-item-num\">1.2&nbsp;&nbsp;</span>Загрузка данных</a></span></li><li><span><a href=\"#Общий-анализ-данных\" data-toc-modified-id=\"Общий-анализ-данных-1.3\"><span class=\"toc-item-num\">1.3&nbsp;&nbsp;</span>Общий анализ данных</a></span></li><li><span><a href=\"#Предобработка-данных\" data-toc-modified-id=\"Предобработка-данных-1.4\"><span class=\"toc-item-num\">1.4&nbsp;&nbsp;</span>Предобработка данных</a></span><ul class=\"toc-item\"><li><span><a href=\"#Очистка-и-лемматизация-текстов\" data-toc-modified-id=\"Очистка-и-лемматизация-текстов-1.4.1\"><span class=\"toc-item-num\">1.4.1&nbsp;&nbsp;</span>Очистка и лемматизация текстов</a></span></li><li><span><a href=\"#Разделение-на-выборки\" data-toc-modified-id=\"Разделение-на-выборки-1.4.2\"><span class=\"toc-item-num\">1.4.2&nbsp;&nbsp;</span>Разделение на выборки</a></span></li></ul></li></ul></li><li><span><a href=\"#Построение-модели\" data-toc-modified-id=\"Построение-модели-2\"><span class=\"toc-item-num\">2&nbsp;&nbsp;</span>Построение модели</a></span><ul class=\"toc-item\"><li><span><a href=\"#LogisticRegression\" data-toc-modified-id=\"LogisticRegression-2.1\"><span class=\"toc-item-num\">2.1&nbsp;&nbsp;</span>LogisticRegression</a></span></li><li><span><a href=\"#Decision-Tree-Classifier\" data-toc-modified-id=\"Decision-Tree-Classifier-2.2\"><span class=\"toc-item-num\">2.2&nbsp;&nbsp;</span>Decision Tree Classifier</a></span></li><li><span><a href=\"#Random-Forest-Classifier\" data-toc-modified-id=\"Random-Forest-Classifier-2.3\"><span class=\"toc-item-num\">2.3&nbsp;&nbsp;</span>Random Forest Classifier</a></span></li><li><span><a href=\"#Оценка-результатов\" data-toc-modified-id=\"Оценка-результатов-2.4\"><span class=\"toc-item-num\">2.4&nbsp;&nbsp;</span>Оценка результатов</a></span></li></ul></li><li><span><a href=\"#Тестирование-модели\" data-toc-modified-id=\"Тестирование-модели-3\"><span class=\"toc-item-num\">3&nbsp;&nbsp;</span>Тестирование модели</a></span></li><li><span><a href=\"#Общий-вывод\" data-toc-modified-id=\"Общий-вывод-4\"><span class=\"toc-item-num\">4&nbsp;&nbsp;</span>Общий вывод</a></span></li></ul></div>"
   ]
  },
  {
   "cell_type": "markdown",
   "metadata": {},
   "source": [
    "<div style=\"background-color: blue; height: 2px; margin: 10px 0;\"></div>"
   ]
  },
  {
   "cell_type": "markdown",
   "metadata": {},
   "source": [
    "## Подготовка окружения"
   ]
  },
  {
   "cell_type": "markdown",
   "metadata": {},
   "source": [
    "### Импорт библиотек"
   ]
  },
  {
   "cell_type": "markdown",
   "metadata": {},
   "source": [
    "Установка необходимых библиотек:"
   ]
  },
  {
   "cell_type": "code",
   "execution_count": 1,
   "metadata": {},
   "outputs": [],
   "source": [
    "%%capture --no-stderr\n",
    "!pip install skorch nltk pymystem3 imblearn scikit-learn"
   ]
  },
  {
   "cell_type": "markdown",
   "metadata": {},
   "source": [
    "Импорт необходимых библиотек:"
   ]
  },
  {
   "cell_type": "code",
   "execution_count": 2,
   "metadata": {},
   "outputs": [],
   "source": [
    "import pandas as pd\n",
    "import numpy as np\n",
    "\n",
    "import matplotlib.pyplot as plt\n",
    "import seaborn as sns\n",
    "\n",
    "from tqdm.notebook import tqdm\n",
    "from typing import Tuple\n",
    "import itertools\n",
    "import collections\n",
    "import torch\n",
    "import re\n",
    "import os\n",
    "import warnings\n",
    "\n",
    "# nlp\n",
    "from sklearn.feature_extraction.text import TfidfVectorizer\n",
    "\n",
    "import nltk\n",
    "from nltk.stem import WordNetLemmatizer\n",
    "from nltk.corpus import stopwords, wordnet\n",
    "\n",
    "# search\n",
    "import imblearn\n",
    "from imblearn.pipeline import Pipeline\n",
    "\n",
    "from sklearn.model_selection import train_test_split, cross_val_score, \\\n",
    "                                    RandomizedSearchCV\n",
    "from sklearn.utils import shuffle\n",
    "\n",
    "from skorch.classifier import NeuralNetClassifier\n",
    "from skorch.dataset import ValidSplit\n",
    "from skorch.callbacks import EpochScoring, EarlyStopping\n",
    "\n",
    "# metrics\n",
    "from sklearn.metrics import f1_score, roc_auc_score, roc_curve, \\\n",
    "                            classification_report, confusion_matrix, \\\n",
    "                            precision_recall_curve, PrecisionRecallDisplay\n",
    "\n",
    "# models\n",
    "from sklearn.linear_model import LogisticRegression\n",
    "from sklearn.tree import DecisionTreeClassifier\n",
    "from sklearn.ensemble import RandomForestClassifier\n",
    "\n",
    "from lightgbm import LGBMClassifier\n",
    "from catboost import CatBoostClassifier"
   ]
  },
  {
   "cell_type": "markdown",
   "metadata": {},
   "source": [
    "Игнорирование предупреждений:"
   ]
  },
  {
   "cell_type": "code",
   "execution_count": 3,
   "metadata": {},
   "outputs": [],
   "source": [
    "warnings.filterwarnings('ignore')"
   ]
  },
  {
   "cell_type": "markdown",
   "metadata": {},
   "source": [
    "Задание случайных величин:"
   ]
  },
  {
   "cell_type": "code",
   "execution_count": 4,
   "metadata": {},
   "outputs": [],
   "source": [
    "SEED = 42\n",
    "\n",
    "np.random.seed(SEED)\n",
    "torch.manual_seed(SEED)\n",
    "torch.use_deterministic_algorithms(True)"
   ]
  },
  {
   "cell_type": "markdown",
   "metadata": {},
   "source": [
    "---"
   ]
  },
  {
   "cell_type": "markdown",
   "metadata": {},
   "source": [
    "### Загрузка данных"
   ]
  },
  {
   "cell_type": "markdown",
   "metadata": {},
   "source": [
    "Задание путей до сохранённых файлов:"
   ]
  },
  {
   "cell_type": "code",
   "execution_count": 5,
   "metadata": {},
   "outputs": [],
   "source": [
    "corpus_file_path = 'corpus.csv'"
   ]
  },
  {
   "cell_type": "markdown",
   "metadata": {},
   "source": [
    "Проверка существования файлов:"
   ]
  },
  {
   "cell_type": "code",
   "execution_count": 6,
   "metadata": {},
   "outputs": [],
   "source": [
    "corpus_exists = os.path.exists(corpus_file_path) == True"
   ]
  },
  {
   "cell_type": "markdown",
   "metadata": {},
   "source": [
    "Сохранение набора данных:"
   ]
  },
  {
   "cell_type": "code",
   "execution_count": 7,
   "metadata": {},
   "outputs": [
    {
     "name": "stdout",
     "output_type": "stream",
     "text": [
      "Updated saved file with corpus\n"
     ]
    }
   ],
   "source": [
    "if corpus_exists:\n",
    "    print('Updated saved file with corpus')\n",
    "    data = pd.read_csv(corpus_file_path, index_col=0)\n",
    "    \n",
    "else:\n",
    "    print('Updated initial file')\n",
    "    data = pd.read_csv('/datasets/toxic_comments.csv', index_col=0)"
   ]
  },
  {
   "cell_type": "markdown",
   "metadata": {},
   "source": [
    "Выведение на экран первых пяти строк набора данных:"
   ]
  },
  {
   "cell_type": "code",
   "execution_count": 8,
   "metadata": {},
   "outputs": [
    {
     "data": {
      "text/html": [
       "<div>\n",
       "<style scoped>\n",
       "    .dataframe tbody tr th:only-of-type {\n",
       "        vertical-align: middle;\n",
       "    }\n",
       "\n",
       "    .dataframe tbody tr th {\n",
       "        vertical-align: top;\n",
       "    }\n",
       "\n",
       "    .dataframe thead th {\n",
       "        text-align: right;\n",
       "    }\n",
       "</style>\n",
       "<table border=\"1\" class=\"dataframe\">\n",
       "  <thead>\n",
       "    <tr style=\"text-align: right;\">\n",
       "      <th></th>\n",
       "      <th>text</th>\n",
       "      <th>toxic</th>\n",
       "      <th>corpus</th>\n",
       "    </tr>\n",
       "  </thead>\n",
       "  <tbody>\n",
       "    <tr>\n",
       "      <th>0</th>\n",
       "      <td>Explanation\\nWhy the edits made under my usern...</td>\n",
       "      <td>0</td>\n",
       "      <td>explanation why the edits make under my userna...</td>\n",
       "    </tr>\n",
       "    <tr>\n",
       "      <th>1</th>\n",
       "      <td>D'aww! He matches this background colour I'm s...</td>\n",
       "      <td>0</td>\n",
       "      <td>d aww he match this background colour i m seem...</td>\n",
       "    </tr>\n",
       "    <tr>\n",
       "      <th>2</th>\n",
       "      <td>Hey man, I'm really not trying to edit war. It...</td>\n",
       "      <td>0</td>\n",
       "      <td>hey man i m really not try to edit war it s ju...</td>\n",
       "    </tr>\n",
       "    <tr>\n",
       "      <th>3</th>\n",
       "      <td>\"\\nMore\\nI can't make any real suggestions on ...</td>\n",
       "      <td>0</td>\n",
       "      <td>more i can t make any real suggestion on impro...</td>\n",
       "    </tr>\n",
       "    <tr>\n",
       "      <th>4</th>\n",
       "      <td>You, sir, are my hero. Any chance you remember...</td>\n",
       "      <td>0</td>\n",
       "      <td>you sir be my hero any chance you remember wha...</td>\n",
       "    </tr>\n",
       "  </tbody>\n",
       "</table>\n",
       "</div>"
      ],
      "text/plain": [
       "                                                text  toxic  \\\n",
       "0  Explanation\\nWhy the edits made under my usern...      0   \n",
       "1  D'aww! He matches this background colour I'm s...      0   \n",
       "2  Hey man, I'm really not trying to edit war. It...      0   \n",
       "3  \"\\nMore\\nI can't make any real suggestions on ...      0   \n",
       "4  You, sir, are my hero. Any chance you remember...      0   \n",
       "\n",
       "                                              corpus  \n",
       "0  explanation why the edits make under my userna...  \n",
       "1  d aww he match this background colour i m seem...  \n",
       "2  hey man i m really not try to edit war it s ju...  \n",
       "3  more i can t make any real suggestion on impro...  \n",
       "4  you sir be my hero any chance you remember wha...  "
      ]
     },
     "execution_count": 8,
     "metadata": {},
     "output_type": "execute_result"
    }
   ],
   "source": [
    "data.head()"
   ]
  },
  {
   "cell_type": "markdown",
   "metadata": {},
   "source": [
    "Выведение на экран размерности набора данных:"
   ]
  },
  {
   "cell_type": "code",
   "execution_count": 9,
   "metadata": {},
   "outputs": [
    {
     "name": "stdout",
     "output_type": "stream",
     "text": [
      "Размерность исходных данных: (159292, 3)\n"
     ]
    }
   ],
   "source": [
    "print('Размерность исходных данных:', data.shape)"
   ]
  },
  {
   "cell_type": "markdown",
   "metadata": {},
   "source": [
    "---"
   ]
  },
  {
   "cell_type": "markdown",
   "metadata": {},
   "source": [
    "### Общий анализ данных"
   ]
  },
  {
   "cell_type": "markdown",
   "metadata": {},
   "source": [
    "Выведение на экран общей информации о наборе данных:"
   ]
  },
  {
   "cell_type": "code",
   "execution_count": 10,
   "metadata": {},
   "outputs": [
    {
     "name": "stdout",
     "output_type": "stream",
     "text": [
      "<class 'pandas.core.frame.DataFrame'>\n",
      "Int64Index: 159292 entries, 0 to 159450\n",
      "Data columns (total 3 columns):\n",
      " #   Column  Non-Null Count   Dtype \n",
      "---  ------  --------------   ----- \n",
      " 0   text    159292 non-null  object\n",
      " 1   toxic   159292 non-null  int64 \n",
      " 2   corpus  159281 non-null  object\n",
      "dtypes: int64(1), object(2)\n",
      "memory usage: 4.9+ MB\n"
     ]
    }
   ],
   "source": [
    "data.info()"
   ]
  },
  {
   "cell_type": "markdown",
   "metadata": {},
   "source": [
    "Выведение на экран количества пропущенных значений:"
   ]
  },
  {
   "cell_type": "code",
   "execution_count": 11,
   "metadata": {},
   "outputs": [
    {
     "data": {
      "text/plain": [
       "text       0\n",
       "toxic      0\n",
       "corpus    11\n",
       "dtype: int64"
      ]
     },
     "execution_count": 11,
     "metadata": {},
     "output_type": "execute_result"
    }
   ],
   "source": [
    "data.isna().sum()"
   ]
  },
  {
   "cell_type": "markdown",
   "metadata": {},
   "source": [
    "Выведение на экран количества дубликатов значений:"
   ]
  },
  {
   "cell_type": "code",
   "execution_count": 12,
   "metadata": {},
   "outputs": [
    {
     "name": "stdout",
     "output_type": "stream",
     "text": [
      "Дублирующихся значений: 0\n"
     ]
    }
   ],
   "source": [
    "print('Дублирующихся значений:', data.duplicated().sum())"
   ]
  },
  {
   "cell_type": "markdown",
   "metadata": {},
   "source": [
    "Выведение на экран соотношения бинарных классов целевой переменной:"
   ]
  },
  {
   "cell_type": "code",
   "execution_count": 13,
   "metadata": {},
   "outputs": [
    {
     "data": {
      "text/plain": [
       "0    0.898388\n",
       "1    0.101612\n",
       "Name: toxic, dtype: float64"
      ]
     },
     "execution_count": 13,
     "metadata": {},
     "output_type": "execute_result"
    }
   ],
   "source": [
    "data['toxic'].value_counts(normalize=True)"
   ]
  },
  {
   "cell_type": "markdown",
   "metadata": {},
   "source": [
    "Выведение на экран доли соотношения бинарных классов целевой переменной:"
   ]
  },
  {
   "cell_type": "code",
   "execution_count": 14,
   "metadata": {},
   "outputs": [
    {
     "name": "stdout",
     "output_type": "stream",
     "text": [
      "Соотношение классов: 8.84\n"
     ]
    }
   ],
   "source": [
    "class_ratio = data['toxic'].value_counts()[0] / data['toxic'].value_counts()[1]\n",
    "\n",
    "print('Соотношение классов:', round(class_ratio, 2))"
   ]
  },
  {
   "cell_type": "markdown",
   "metadata": {},
   "source": [
    "<div style=\"background-color: #f9f9f9; border-radius: 2px; padding: 20px 20px 10px 20px;\">\n",
    "    \n",
    "* Классы целевой переменной несбалансированны. \n",
    "    \n",
    "</div>"
   ]
  },
  {
   "cell_type": "markdown",
   "metadata": {},
   "source": [
    "---"
   ]
  },
  {
   "cell_type": "markdown",
   "metadata": {},
   "source": [
    "### Предобработка данных"
   ]
  },
  {
   "cell_type": "markdown",
   "metadata": {},
   "source": [
    "Задание функции определения тегов POS:"
   ]
  },
  {
   "cell_type": "code",
   "execution_count": 15,
   "metadata": {},
   "outputs": [],
   "source": [
    "def get_wordnet_pos(word: str) -> str:\n",
    "    tag = nltk.pos_tag([word])[0][1][0].upper()\n",
    "    tag_dict = {\"J\": wordnet.ADJ,\n",
    "                \"N\": wordnet.NOUN,\n",
    "                \"V\": wordnet.VERB,\n",
    "                \"R\": wordnet.ADV}\n",
    "    \n",
    "    return tag_dict.get(tag, wordnet.NOUN)"
   ]
  },
  {
   "cell_type": "markdown",
   "metadata": {},
   "source": [
    "Задание функции, очищающей текст и приводящей слова к леммам:"
   ]
  },
  {
   "cell_type": "code",
   "execution_count": 16,
   "metadata": {},
   "outputs": [],
   "source": [
    "def lemmatize(df: pd.DataFrame, col_name: str) -> pd.DataFrame:\n",
    "    data = df.copy()\n",
    "    col = df[col_name]\n",
    "    \n",
    "    nltk.download('wordnet')\n",
    "    nltk.download('averaged_perceptron_tagger')\n",
    "    lemmatizer = WordNetLemmatizer()\n",
    "    \n",
    "    print('[1/3] Tokenizing...')\n",
    "    updated_col = col.apply(lambda x: ' '.join(nltk.word_tokenize(re.sub(r'[^a-zA-Z]', ' ', x.lower()))))\n",
    "    \n",
    "    print('[2/3] Lemmatizing...')\n",
    "    updated_col = updated_col.apply(lambda row: [lemmatizer.lemmatize(word, get_wordnet_pos(word)) \n",
    "                                                 for word in row.split()])\n",
    "        \n",
    "    print('[3/3] Joining...')\n",
    "    updated_col = updated_col.apply(lambda row: ' '.join(row))\n",
    "    \n",
    "    data['corpus'] = updated_col\n",
    "    \n",
    "    print('Saving...')\n",
    "    data.to_csv('corpus.csv')\n",
    "    \n",
    "    print('Finished\\n')\n",
    "        \n",
    "    return data"
   ]
  },
  {
   "cell_type": "markdown",
   "metadata": {},
   "source": [
    "Задание функции построения крафика частоты слов:"
   ]
  },
  {
   "cell_type": "code",
   "execution_count": 17,
   "metadata": {},
   "outputs": [],
   "source": [
    "def plot_most_common_words(corpus: pd.Series,\n",
    "                           word_type: str = None,\n",
    "                           n_common: int = 30) -> None:\n",
    "    \n",
    "    font_s = 12\n",
    "    fig, ax = plt.subplots(figsize=(12,8))\n",
    "    \n",
    "    tokens = ' '.join(corpus).split()\n",
    "    \n",
    "    if word_type == 'bigrams':\n",
    "        tokens = zip(tokens, tokens[1:])\n",
    "    \n",
    "    counts_no = collections.Counter(tokens)\n",
    "    clean_reviews = pd.DataFrame(counts_no.most_common(n_common),\n",
    "                                 columns=['words', 'count'])\n",
    "    \n",
    "    clean_reviews.sort_values(by='count').plot.barh(\n",
    "        x='words', y='count', ax=ax, color='purple'\n",
    "    )\n",
    "    \n",
    "    ax.set_title('Наиболее часто встречающиеся слова\\n', fontsize=font_s+4)\n",
    "    \n",
    "    ax.set_xlabel('Частота', fontsize=font_s)\n",
    "    ax.set_ylabel('Слова', fontsize=font_s)\n",
    "\n",
    "    plt.grid()\n",
    "    plt.show()"
   ]
  },
  {
   "cell_type": "markdown",
   "metadata": {},
   "source": [
    "---"
   ]
  },
  {
   "cell_type": "markdown",
   "metadata": {},
   "source": [
    "#### Очистка и лемматизация текстов"
   ]
  },
  {
   "cell_type": "markdown",
   "metadata": {},
   "source": [
    "Помимо необходимости в лемматизации текстов необходимо учитывать, что в текстах могут встречаться редко используемые слова, а также отдельные буквы и другие короткие слова, которые не несут смысловой нагрузки и необходимо убрать."
   ]
  },
  {
   "cell_type": "markdown",
   "metadata": {},
   "source": [
    "Лемматизация текстовых значений с удалением редких слов:"
   ]
  },
  {
   "cell_type": "code",
   "execution_count": 18,
   "metadata": {},
   "outputs": [
    {
     "name": "stdout",
     "output_type": "stream",
     "text": [
      "CPU times: user 3 µs, sys: 0 ns, total: 3 µs\n",
      "Wall time: 5.72 µs\n"
     ]
    }
   ],
   "source": [
    "%%time\n",
    "if corpus_exists == False:\n",
    "    data = lemmatize(data, 'text')"
   ]
  },
  {
   "cell_type": "markdown",
   "metadata": {},
   "source": [
    "Выведение на экран образца этапов обработки текста:"
   ]
  },
  {
   "cell_type": "code",
   "execution_count": 19,
   "metadata": {},
   "outputs": [
    {
     "name": "stdout",
     "output_type": "stream",
     "text": [
      "Initial text sample:\n",
      " Explanation\n",
      "Why the edits made under my username Hardcore Metallica Fan were reverted? They weren't vandalisms, just closure on some GAs after I voted at New York Dolls FAC. And please don't remove the template from the talk page since I'm retired now.89.205.38.27\n",
      "\n",
      "Lemmatized same text:\n",
      " explanation why the edits make under my username hardcore metallica fan be revert they weren t vandalism just closure on some gas after i vote at new york doll fac and please don t remove the template from the talk page since i m retire now\n"
     ]
    }
   ],
   "source": [
    "print('Initial text sample:\\n', data['text'][0])\n",
    "print('\\nLemmatized same text:\\n', data['corpus'][0])"
   ]
  },
  {
   "cell_type": "markdown",
   "metadata": {},
   "source": [
    "Выведение на экран количества пропущенных значений:"
   ]
  },
  {
   "cell_type": "code",
   "execution_count": 20,
   "metadata": {},
   "outputs": [
    {
     "data": {
      "text/plain": [
       "text       0\n",
       "toxic      0\n",
       "corpus    11\n",
       "dtype: int64"
      ]
     },
     "execution_count": 20,
     "metadata": {},
     "output_type": "execute_result"
    }
   ],
   "source": [
    "data.isna().sum()"
   ]
  },
  {
   "cell_type": "markdown",
   "metadata": {},
   "source": [
    "Удаление пропущенных значений:"
   ]
  },
  {
   "cell_type": "code",
   "execution_count": 21,
   "metadata": {},
   "outputs": [],
   "source": [
    "data = data.dropna().reset_index(drop=True)"
   ]
  },
  {
   "cell_type": "markdown",
   "metadata": {},
   "source": [
    "Выведение на экран количества дубликатов значений:"
   ]
  },
  {
   "cell_type": "code",
   "execution_count": 22,
   "metadata": {},
   "outputs": [
    {
     "name": "stdout",
     "output_type": "stream",
     "text": [
      "Дублирующихся значений: 0\n"
     ]
    }
   ],
   "source": [
    "print('Дублирующихся значений:', data.duplicated().sum())"
   ]
  },
  {
   "cell_type": "markdown",
   "metadata": {},
   "source": [
    "Построение графика наиболее часто встречающихся слов:"
   ]
  },
  {
   "cell_type": "code",
   "execution_count": 23,
   "metadata": {
    "scrolled": false
   },
   "outputs": [
    {
     "data": {
      "image/png": "[encoded data removed]",
      "text/plain": [
       "<Figure size 864x576 with 1 Axes>"
      ]
     },
     "metadata": {
      "needs_background": "light"
     },
     "output_type": "display_data"
    }
   ],
   "source": [
    "plot_most_common_words(data['corpus'])"
   ]
  },
  {
   "cell_type": "markdown",
   "metadata": {},
   "source": [
    "<div style=\"background-color: #f9f9f9; border-radius: 2px; padding: 20px 20px 10px 20px;\">\n",
    "    \n",
    "* В тексте много междометий и других служебных частей речи, которые будут убраны в процессе обработки TF-IDF.\n",
    "    \n",
    "</div>"
   ]
  },
  {
   "cell_type": "markdown",
   "metadata": {},
   "source": [
    "---"
   ]
  },
  {
   "cell_type": "markdown",
   "metadata": {},
   "source": [
    "#### Разделение на выборки"
   ]
  },
  {
   "cell_type": "markdown",
   "metadata": {},
   "source": [
    "Задание признаков и целевого признака:"
   ]
  },
  {
   "cell_type": "code",
   "execution_count": 24,
   "metadata": {},
   "outputs": [],
   "source": [
    "features = data['corpus']\n",
    "target = data['toxic']"
   ]
  },
  {
   "cell_type": "markdown",
   "metadata": {},
   "source": [
    "Разделение набора данных на тренировочную и тестовую выборки:"
   ]
  },
  {
   "cell_type": "code",
   "execution_count": 25,
   "metadata": {},
   "outputs": [],
   "source": [
    "X_train, X_test, y_train, y_test = train_test_split(features, target, test_size=0.25)"
   ]
  },
  {
   "cell_type": "markdown",
   "metadata": {},
   "source": [
    "Скачивание списка стоп-слов:"
   ]
  },
  {
   "cell_type": "code",
   "execution_count": 26,
   "metadata": {},
   "outputs": [
    {
     "name": "stderr",
     "output_type": "stream",
     "text": [
      "[nltk_data] Downloading package stopwords to /home/jovyan/nltk_data...\n",
      "[nltk_data]   Package stopwords is already up-to-date!\n"
     ]
    },
    {
     "data": {
      "text/plain": [
       "True"
      ]
     },
     "execution_count": 26,
     "metadata": {},
     "output_type": "execute_result"
    }
   ],
   "source": [
    "nltk.download('stopwords')"
   ]
  },
  {
   "cell_type": "markdown",
   "metadata": {},
   "source": [
    "Задание списка стоп-слов:"
   ]
  },
  {
   "cell_type": "code",
   "execution_count": 27,
   "metadata": {},
   "outputs": [],
   "source": [
    "stop_words = list(set(stopwords.words('english')))"
   ]
  },
  {
   "cell_type": "markdown",
   "metadata": {},
   "source": [
    "Выведение на экран размеров тренировочной и тестовой выборок:"
   ]
  },
  {
   "cell_type": "code",
   "execution_count": 28,
   "metadata": {},
   "outputs": [
    {
     "name": "stdout",
     "output_type": "stream",
     "text": [
      "Train set: (119460,)\n",
      "Test set: (39821,)\n"
     ]
    }
   ],
   "source": [
    "print('Train set:', X_train.shape)\n",
    "print('Test set:', X_test.shape)"
   ]
  },
  {
   "cell_type": "markdown",
   "metadata": {},
   "source": [
    "<div style=\"background-color: blue; height: 2px; margin: 10px 0;\"></div>"
   ]
  },
  {
   "cell_type": "markdown",
   "metadata": {},
   "source": [
    "## Построение модели"
   ]
  },
  {
   "cell_type": "markdown",
   "metadata": {},
   "source": [
    "Задание словаря с результатами подбора моделей:"
   ]
  },
  {
   "cell_type": "code",
   "execution_count": 29,
   "metadata": {},
   "outputs": [],
   "source": [
    "results = {}"
   ]
  },
  {
   "cell_type": "markdown",
   "metadata": {},
   "source": [
    "Задание функции построения матрицы неточностей:"
   ]
  },
  {
   "cell_type": "code",
   "execution_count": 30,
   "metadata": {},
   "outputs": [],
   "source": [
    "def plot_c_matrix(y_valid: np.ndarray, y_pred: np.ndarray) -> None:\n",
    "    font_s = 12\n",
    "    plt.figure(figsize=(5,4))\n",
    "    \n",
    "    plt.title('Матрица неточностей\\n', fontsize=font_s+4)\n",
    "\n",
    "    c_matrix = confusion_matrix(y_valid, y_pred)    \n",
    "    c_matrix = pd.DataFrame(c_matrix, \n",
    "                            index=['real not toxic', 'real toxic'],\n",
    "                            columns=['pred not toxic', 'pred toxic'])\n",
    "    \n",
    "    sns.heatmap(c_matrix, \n",
    "                annot=True, \n",
    "                fmt='g',\n",
    "                cmap='Blues',\n",
    "                xticklabels=c_matrix.columns, \n",
    "                yticklabels=c_matrix.index, \n",
    "                annot_kws={'size': font_s+2})\n",
    "    \n",
    "    plt.xlabel('Preds', fontsize=font_s)\n",
    "    plt.ylabel('Real', fontsize=font_s)\n",
    "\n",
    "    plt.show()"
   ]
  },
  {
   "cell_type": "markdown",
   "metadata": {},
   "source": [
    "Задание функции вычисления метрики ROC-AUC:"
   ]
  },
  {
   "cell_type": "code",
   "execution_count": 31,
   "metadata": {},
   "outputs": [],
   "source": [
    "def get_auc_roc(model, X_valid: np.ndarray, y_valid: np.ndarray) -> Tuple[np.array, np.array, np.array]:\n",
    "    y_pred = model.predict_proba(X_valid)\n",
    "    probs_one_valid = y_pred[:, 1]\n",
    "\n",
    "    fpr, tpr, thresholds = roc_curve(y_valid, probs_one_valid)\n",
    "    auc_roc = roc_auc_score(y_valid, probs_one_valid)\n",
    "\n",
    "    return fpr, tpr, auc_roc"
   ]
  },
  {
   "cell_type": "markdown",
   "metadata": {},
   "source": [
    "Задание функции построения графика обучения модели:"
   ]
  },
  {
   "cell_type": "code",
   "execution_count": 32,
   "metadata": {},
   "outputs": [],
   "source": [
    "def plot_training_process(model) -> None:\n",
    "    results = pd.DataFrame(model.cv_results_)\n",
    "    results['params_str'] = results.params.apply(str)\n",
    "    results.drop_duplicates(subset=('params_str', 'iter'), inplace=True)\n",
    "    \n",
    "    mean_scores = results.pivot(index='iter', columns='params_str',\n",
    "                                values='mean_test_score')\n",
    "    \n",
    "    ax = mean_scores.plot(legend=False, alpha=.6)\n",
    "\n",
    "    labels = [\n",
    "        f'iter={i}\\nn_samples={model.n_resources_[i]}\\n'\n",
    "        f'n_candidates={model.n_candidates_[i]}'\n",
    "        for i in range(model.n_iterations_)\n",
    "    ]\n",
    "\n",
    "    ax.set_xticks(range(model.n_iterations_))\n",
    "    ax.set_xticklabels(labels, rotation=45, multialignment='left')\n",
    "    ax.set_title('Scores of candidates over iterations')\n",
    "    ax.set_ylabel('mean test score', fontsize=15)\n",
    "    ax.set_xlabel('iterations', fontsize=15)\n",
    "    plt.tight_layout()\n",
    "    plt.show()"
   ]
  },
  {
   "cell_type": "markdown",
   "metadata": {},
   "source": [
    "Задание функции поиска лучшей модели:"
   ]
  },
  {
   "cell_type": "code",
   "execution_count": 33,
   "metadata": {},
   "outputs": [],
   "source": [
    "def train_model(pipeline: dict,\n",
    "                params: dict,\n",
    "                X_train: np.ndarray,\n",
    "                y_train: np.ndarray,\n",
    "                name: str,\n",
    "                cv: int = 3,\n",
    "                scoring: str = 'f1',\n",
    "                n_verbose: int = 0,\n",
    "                save_to: dict = results) -> None:\n",
    "    \n",
    "    print('Searching...')\n",
    "    \n",
    "    if len(params) > 2:\n",
    "        search = RandomizedSearchCV(\n",
    "            pipeline, \n",
    "            params, \n",
    "            cv=cv, \n",
    "            n_jobs=-1, \n",
    "            scoring=scoring, \n",
    "            verbose=n_verbose\n",
    "        )\n",
    "    else:\n",
    "        search = GridSearchCV(\n",
    "            pipeline, \n",
    "            params, \n",
    "            cv=cv, \n",
    "            n_jobs=-1, \n",
    "            scoring=scoring, \n",
    "            verbose=n_verbose\n",
    "        )\n",
    "        \n",
    "    search.fit(X_train, y_train)\n",
    "\n",
    "    best_model = search.best_estimator_\n",
    "    best_params = search.best_params_\n",
    "    best_score = search.best_score_\n",
    "\n",
    "    print(f'\\nBest model params: {best_params}\\n')\n",
    "    print(f'Best F1-score: {round(best_score * 100, 2)} %\\n')\n",
    "    \n",
    "    save_to[name] = {\n",
    "        'model': best_model,\n",
    "        'params': best_params,\n",
    "        'score': best_score\n",
    "    }\n",
    "    \n",
    "    X_train, X_valid, y_train, y_valid = train_test_split(X_train, y_train, test_size=0.25)\n",
    "    best_model.fit(X_train, y_train)\n",
    "    y_pred = best_model.predict(X_valid)\n",
    "    \n",
    "    plot_c_matrix(y_valid, y_pred)\n",
    "    \n",
    "    save_to[name]['fpr_tpr_auc_roc'] = get_auc_roc(best_model, X_valid, y_valid)\n",
    "    \n",
    "    print('\\nFinished\\n')"
   ]
  },
  {
   "cell_type": "markdown",
   "metadata": {},
   "source": [
    "Задание функции построения графика метрик:"
   ]
  },
  {
   "cell_type": "code",
   "execution_count": 34,
   "metadata": {},
   "outputs": [],
   "source": [
    "def plot_bar(data: pd.DataFrame, \n",
    "             col_x: str,\n",
    "             col_y: str,\n",
    "             title: str,\n",
    "             print_vals: bool = False,\n",
    "             shift: float = 0.1) -> None:\n",
    "    \n",
    "    font_s = 12\n",
    "    fig = plt.subplots(figsize=(16,5))\n",
    "\n",
    "    plt.title(f'{title}\\n', fontsize=font_s+4)\n",
    "    \n",
    "    labels = data[col_x]\n",
    "    x = range(len(labels))\n",
    "    y = data[col_y]\n",
    "    \n",
    "    plt.bar(x, y)\n",
    "    \n",
    "    if print_vals:\n",
    "        for i, val in enumerate(y):\n",
    "            plt.text(i-shift,  val-0.1, str(round(val * 100, 2)), fontsize=font_s, color='white')\n",
    "\n",
    "    plt.xticks([i for i in x], labels, rotation=10)\n",
    "\n",
    "    plt.xlabel(col_x, fontsize=font_s)\n",
    "    plt.ylabel(col_y, fontsize=font_s)\n",
    "\n",
    "    plt.grid()\n",
    "    plt.plot()"
   ]
  },
  {
   "cell_type": "markdown",
   "metadata": {},
   "source": [
    "Задание функции преобразования словаря в датафрейм:"
   ]
  },
  {
   "cell_type": "code",
   "execution_count": 35,
   "metadata": {},
   "outputs": [],
   "source": [
    "def convert_to_dataframe(results: dict) -> pd.DataFrame:\n",
    "    \n",
    "    return pd.DataFrame(\n",
    "        [val['score'] for val in results.values()], \n",
    "        index=results.keys(),\n",
    "        columns=['score']\n",
    "    )"
   ]
  },
  {
   "cell_type": "markdown",
   "metadata": {},
   "source": [
    "---"
   ]
  },
  {
   "cell_type": "markdown",
   "metadata": {},
   "source": [
    "* **Precision** (точность) — доля объектов, названных классификатором положительными и при этом действительно являющимися положительными.\n",
    "\n",
    ">Чем меньше положительных, тем ниже точность. \n",
    "\n",
    "* **Recall** (полнота) — доля объектов положительного класса из всех объектов положительного класса, которую нашел алгоритм. \n",
    "\n",
    "\n",
    "* **F-мера** — среднее гармоническое precision и recall.\n",
    "\n",
    ">Достигает максимума при полноте и точности, равными единице, и близка к нулю, если один из аргументов близок к нулю.\n",
    "\n",
    "* **AUC-ROC** — площадь под кривой ошибок. Помогает понять, насколько сильно модель отличается от случайной.\n",
    "\n",
    "В качестве метрики, по которой будет производиться оценка моделей, будет взята **F-мера**."
   ]
  },
  {
   "cell_type": "markdown",
   "metadata": {},
   "source": [
    "Наиболее подходящими для решения поставленной перед исследованием задачи являются следующие модели:\n",
    "\n",
    "* `Logistic Regression`\n",
    "* `Decision Tree Classifier`\n",
    "* `Random Forest Classifier`\n",
    "\n",
    "Модели `KNeighborsClassifier`, `LightGBM Classifier` и `CatBoostClassifier` рассматриваться не будут, поскольку первая медленно работает на большом объёме данных, а для второй и третьей не хватает производительности для больших объёмов данных."
   ]
  },
  {
   "cell_type": "markdown",
   "metadata": {},
   "source": [
    "Кроме того, с учётом большого перевеса одного из целевых классов, необходимо обратиться к алгоритмам, которые будут их балансировать и отобрать те, что будут решать поставленную задачу лучше всего. Для этого существуют алгоритмы балансирования классов, предоставленные библиотекой `imblearn`:\n",
    "\n",
    "* `ClusterCentroids`\n",
    "* `CondensedNearestNeighbour`\n",
    "* `EditedNearestNeighbours`\n",
    "* `RepeatedEditedNearestNeighbours`\n",
    "* `AllKNN`\n",
    "* `InstanceHardnessThreshold`\n",
    "* `NearMiss`\n",
    "* `NeighbourhoodCleaningRule`\n",
    "* `OneSidedSelection`\n",
    "* `RandomUnderSampler`\n",
    "* `TomekLinks`\n",
    "\n",
    "Однако в силу низкой производительности большинства алгоритмов при большом объёме данных будет рассмотрен только алгоритм `RandomUnderSampler`."
   ]
  },
  {
   "cell_type": "markdown",
   "metadata": {},
   "source": [
    "----"
   ]
  },
  {
   "cell_type": "markdown",
   "metadata": {},
   "source": [
    "Задание констант:"
   ]
  },
  {
   "cell_type": "code",
   "execution_count": 36,
   "metadata": {},
   "outputs": [],
   "source": [
    "tfidf_vect = TfidfVectorizer(stop_words=stop_words)\n",
    "undersampling = imblearn.under_sampling.RandomUnderSampler()"
   ]
  },
  {
   "cell_type": "markdown",
   "metadata": {},
   "source": [
    "Задание параметров векторайзера:"
   ]
  },
  {
   "cell_type": "code",
   "execution_count": 37,
   "metadata": {},
   "outputs": [],
   "source": [
    "params = {\n",
    "    'tfidf__max_df': [0.25, 0.5, 0.75],\n",
    "    'tfidf__min_df': range(2, 4),\n",
    "    'tfidf__ngram_range': [(1, 1), (1, 2), (1, 3), (2, 2)]\n",
    "}"
   ]
  },
  {
   "cell_type": "markdown",
   "metadata": {},
   "source": [
    "Задание параметров балансирования классов:"
   ]
  },
  {
   "cell_type": "code",
   "execution_count": 38,
   "metadata": {},
   "outputs": [],
   "source": [
    "params_under = {\n",
    "    'undersampling__sampling_strategy': ['majority', 'not majority', 'all', 'auto'],\n",
    "    'undersampling__replacement': [True, False],\n",
    "    'undersampling__random_state': [SEED, None]\n",
    "}"
   ]
  },
  {
   "cell_type": "markdown",
   "metadata": {},
   "source": [
    "---"
   ]
  },
  {
   "cell_type": "markdown",
   "metadata": {},
   "source": [
    "### LogisticRegression"
   ]
  },
  {
   "cell_type": "markdown",
   "metadata": {},
   "source": [
    "Задание констант:"
   ]
  },
  {
   "cell_type": "code",
   "execution_count": 39,
   "metadata": {},
   "outputs": [],
   "source": [
    "model = LogisticRegression()"
   ]
  },
  {
   "cell_type": "markdown",
   "metadata": {},
   "source": [
    "**Без балансирования классов**"
   ]
  },
  {
   "cell_type": "markdown",
   "metadata": {},
   "source": [
    "Задание пайплайна:"
   ]
  },
  {
   "cell_type": "code",
   "execution_count": 40,
   "metadata": {},
   "outputs": [],
   "source": [
    "pipeline = Pipeline([\n",
    "    ('tfidf', tfidf_vect),\n",
    "    ('model', model)\n",
    "])"
   ]
  },
  {
   "cell_type": "markdown",
   "metadata": {},
   "source": [
    "Задание параметров поиска:"
   ]
  },
  {
   "cell_type": "code",
   "execution_count": 41,
   "metadata": {},
   "outputs": [],
   "source": [
    "params_lr = params.copy()\n",
    "params_lr.update({\n",
    "    'model__solver': ['lbfgs', 'saga'],\n",
    "    'model__max_iter': range(100, 2000, 100),\n",
    "    'model__class_weight': ['balanced', None],\n",
    "    'model__random_state': [SEED, None],\n",
    "    'model__C': range(1, 11, 1)\n",
    "})"
   ]
  },
  {
   "cell_type": "markdown",
   "metadata": {},
   "source": [
    "Поиск лучшей модели:"
   ]
  },
  {
   "cell_type": "code",
   "execution_count": 42,
   "metadata": {
    "scrolled": false
   },
   "outputs": [
    {
     "name": "stdout",
     "output_type": "stream",
     "text": [
      "Searching...\n",
      "\n",
      "Best model params: {'tfidf__ngram_range': (1, 2), 'tfidf__min_df': 2, 'tfidf__max_df': 0.75, 'model__solver': 'lbfgs', 'model__random_state': None, 'model__max_iter': 1700, 'model__class_weight': 'balanced', 'model__C': 10}\n",
      "\n",
      "Best F1-score: 77.14 %\n",
      "\n"
     ]
    },
    {
     "data": {
      "image/png": "[encoded data removed]",
      "text/plain": [
       "<Figure size 360x288 with 2 Axes>"
      ]
     },
     "metadata": {
      "needs_background": "light"
     },
     "output_type": "display_data"
    },
    {
     "name": "stdout",
     "output_type": "stream",
     "text": [
      "\n",
      "Finished\n",
      "\n",
      "CPU times: user 16min, sys: 12min 30s, total: 28min 31s\n",
      "Wall time: 28min 33s\n"
     ]
    }
   ],
   "source": [
    "%%time\n",
    "train_model(pipeline, params_lr, X_train, y_train, 'log_regress', save_to=results)"
   ]
  },
  {
   "cell_type": "markdown",
   "metadata": {},
   "source": [
    "**С балансированием классов**"
   ]
  },
  {
   "cell_type": "markdown",
   "metadata": {},
   "source": [
    "Задание пайплайна:"
   ]
  },
  {
   "cell_type": "code",
   "execution_count": 43,
   "metadata": {},
   "outputs": [],
   "source": [
    "pipeline = Pipeline([\n",
    "    ('tfidf', tfidf_vect),\n",
    "    ('undersampling', undersampling),\n",
    "    ('model', model)\n",
    "])"
   ]
  },
  {
   "cell_type": "markdown",
   "metadata": {},
   "source": [
    "Задание параметров поиска:"
   ]
  },
  {
   "cell_type": "code",
   "execution_count": 44,
   "metadata": {},
   "outputs": [],
   "source": [
    "params_lr = params_lr.copy()\n",
    "params_lr.update(params_under)\n",
    "del params_lr['model__class_weight']"
   ]
  },
  {
   "cell_type": "markdown",
   "metadata": {},
   "source": [
    "Поиск лучшей модели:"
   ]
  },
  {
   "cell_type": "code",
   "execution_count": 45,
   "metadata": {
    "scrolled": false
   },
   "outputs": [
    {
     "name": "stdout",
     "output_type": "stream",
     "text": [
      "Searching...\n",
      "\n",
      "Best model params: {'undersampling__sampling_strategy': 'not majority', 'undersampling__replacement': False, 'undersampling__random_state': None, 'tfidf__ngram_range': (1, 3), 'tfidf__min_df': 3, 'tfidf__max_df': 0.5, 'model__solver': 'lbfgs', 'model__random_state': 42, 'model__max_iter': 1600, 'model__C': 7}\n",
      "\n",
      "Best F1-score: 75.32 %\n",
      "\n"
     ]
    },
    {
     "data": {
      "image/png": "[encoded data removed]",
      "text/plain": [
       "<Figure size 360x288 with 2 Axes>"
      ]
     },
     "metadata": {
      "needs_background": "light"
     },
     "output_type": "display_data"
    },
    {
     "name": "stdout",
     "output_type": "stream",
     "text": [
      "\n",
      "Finished\n",
      "\n",
      "CPU times: user 9min 42s, sys: 8min 19s, total: 18min 2s\n",
      "Wall time: 18min 3s\n"
     ]
    }
   ],
   "source": [
    "%%time\n",
    "train_model(pipeline, params_lr, X_train, y_train, 'log_regress_under', save_to=results)"
   ]
  },
  {
   "cell_type": "markdown",
   "metadata": {},
   "source": [
    "<div style=\"background-color: #f9f9f9; border-radius: 2px; padding: 20px 20px 10px 20px;\">\n",
    "    \n",
    "Найденная модель продемонстрировала:\n",
    "    \n",
    "* Истинно-отрицательный уклон: предсказаны отрицательные ответы (комментарии НЕтоксичны) и это правда.\n",
    "    \n",
    "</div>"
   ]
  },
  {
   "cell_type": "markdown",
   "metadata": {},
   "source": [
    "---"
   ]
  },
  {
   "cell_type": "markdown",
   "metadata": {},
   "source": [
    "### Decision Tree Classifier"
   ]
  },
  {
   "cell_type": "markdown",
   "metadata": {},
   "source": [
    "Задание констант:"
   ]
  },
  {
   "cell_type": "code",
   "execution_count": 46,
   "metadata": {},
   "outputs": [],
   "source": [
    "model = DecisionTreeClassifier()"
   ]
  },
  {
   "cell_type": "markdown",
   "metadata": {},
   "source": [
    "Задание параметров поиска:"
   ]
  },
  {
   "cell_type": "code",
   "execution_count": 47,
   "metadata": {},
   "outputs": [],
   "source": [
    "params_dtc = params.copy()\n",
    "params_dtc.update({\n",
    "    'model__criterion': ['gini', 'entropy'],\n",
    "    'model__splitter': ['best', 'random'],\n",
    "    'model__class_weight': ['balanced', None],\n",
    "    'model__max_depth': range(1, 20),\n",
    "    'model__min_samples_leaf': range(1, 11),\n",
    "    'model__min_samples_split': range(2, 11),\n",
    "    'model__random_state': [SEED, None]\n",
    "})"
   ]
  },
  {
   "cell_type": "markdown",
   "metadata": {},
   "source": [
    "**Без балансирования классов**"
   ]
  },
  {
   "cell_type": "markdown",
   "metadata": {},
   "source": [
    "Задание пайплайна:"
   ]
  },
  {
   "cell_type": "code",
   "execution_count": 48,
   "metadata": {},
   "outputs": [],
   "source": [
    "pipeline = Pipeline([\n",
    "    ('tfidf', tfidf_vect),\n",
    "    ('model', model)\n",
    "])"
   ]
  },
  {
   "cell_type": "markdown",
   "metadata": {},
   "source": [
    "Поиск лучшей модели:"
   ]
  },
  {
   "cell_type": "code",
   "execution_count": 49,
   "metadata": {
    "scrolled": false
   },
   "outputs": [
    {
     "name": "stdout",
     "output_type": "stream",
     "text": [
      "Searching...\n",
      "\n",
      "Best model params: {'tfidf__ngram_range': (1, 3), 'tfidf__min_df': 3, 'tfidf__max_df': 0.25, 'model__splitter': 'random', 'model__random_state': 42, 'model__min_samples_split': 4, 'model__min_samples_leaf': 6, 'model__max_depth': 15, 'model__criterion': 'gini', 'model__class_weight': None}\n",
      "\n",
      "Best F1-score: 60.85 %\n",
      "\n"
     ]
    },
    {
     "data": {
      "image/png": "[encoded data removed]",
      "text/plain": [
       "<Figure size 360x288 with 2 Axes>"
      ]
     },
     "metadata": {
      "needs_background": "light"
     },
     "output_type": "display_data"
    },
    {
     "name": "stdout",
     "output_type": "stream",
     "text": [
      "\n",
      "Finished\n",
      "\n",
      "CPU times: user 7min 15s, sys: 11.2 s, total: 7min 27s\n",
      "Wall time: 7min 27s\n"
     ]
    }
   ],
   "source": [
    "%%time\n",
    "train_model(pipeline, params_dtc, X_train, y_train, 'dt_class')"
   ]
  },
  {
   "cell_type": "markdown",
   "metadata": {},
   "source": [
    "<div style=\"background-color: #f9f9f9; border-radius: 2px; padding: 20px 20px 10px 20px;\">\n",
    "    \n",
    "Найденная модель продемонстрировала:\n",
    "    \n",
    "* Истинно-отрицательный уклон: предсказаны отрицательные ответы (комментарии НЕтоксичны) и это правда.\n",
    "    \n",
    "</div>"
   ]
  },
  {
   "cell_type": "markdown",
   "metadata": {},
   "source": [
    "**С балансированием классов**"
   ]
  },
  {
   "cell_type": "markdown",
   "metadata": {},
   "source": [
    "Задание пайплайна:"
   ]
  },
  {
   "cell_type": "code",
   "execution_count": 50,
   "metadata": {},
   "outputs": [],
   "source": [
    "pipeline = Pipeline([\n",
    "    ('tfidf', tfidf_vect),\n",
    "    ('undersampling', undersampling),\n",
    "    ('model', model)\n",
    "])"
   ]
  },
  {
   "cell_type": "markdown",
   "metadata": {},
   "source": [
    "Задание параметров поиска:"
   ]
  },
  {
   "cell_type": "code",
   "execution_count": 51,
   "metadata": {},
   "outputs": [],
   "source": [
    "params_dtc = params_dtc.copy()\n",
    "params_dtc.update(params_under)\n",
    "del params_dtc['model__class_weight']"
   ]
  },
  {
   "cell_type": "markdown",
   "metadata": {},
   "source": [
    "Поиск лучшей модели:"
   ]
  },
  {
   "cell_type": "code",
   "execution_count": 52,
   "metadata": {
    "scrolled": false
   },
   "outputs": [
    {
     "name": "stdout",
     "output_type": "stream",
     "text": [
      "Searching...\n",
      "\n",
      "Best model params: {'undersampling__sampling_strategy': 'majority', 'undersampling__replacement': True, 'undersampling__random_state': None, 'tfidf__ngram_range': (1, 2), 'tfidf__min_df': 3, 'tfidf__max_df': 0.5, 'model__splitter': 'best', 'model__random_state': None, 'model__min_samples_split': 10, 'model__min_samples_leaf': 2, 'model__max_depth': 13, 'model__criterion': 'gini'}\n",
      "\n",
      "Best F1-score: 58.58 %\n",
      "\n"
     ]
    },
    {
     "data": {
      "image/png": "[encoded data removed]",
      "text/plain": [
       "<Figure size 360x288 with 2 Axes>"
      ]
     },
     "metadata": {
      "needs_background": "light"
     },
     "output_type": "display_data"
    },
    {
     "name": "stdout",
     "output_type": "stream",
     "text": [
      "\n",
      "Finished\n",
      "\n",
      "CPU times: user 5min 24s, sys: 6.37 s, total: 5min 30s\n",
      "Wall time: 5min 31s\n"
     ]
    }
   ],
   "source": [
    "%%time\n",
    "train_model(pipeline, params_dtc, X_train, y_train, 'dt_class_under')"
   ]
  },
  {
   "cell_type": "markdown",
   "metadata": {},
   "source": [
    "<div style=\"background-color: #f9f9f9; border-radius: 2px; padding: 20px 20px 10px 20px;\">\n",
    "    \n",
    "Найденная модель продемонстрировала:\n",
    "    \n",
    "* Истинно-отрицательный уклон: предсказаны отрицательные ответы (комментарии НЕтоксичны) и это правда.\n",
    "    \n",
    "</div>"
   ]
  },
  {
   "cell_type": "markdown",
   "metadata": {},
   "source": [
    "---"
   ]
  },
  {
   "cell_type": "markdown",
   "metadata": {},
   "source": [
    "### Random Forest Classifier"
   ]
  },
  {
   "cell_type": "markdown",
   "metadata": {},
   "source": [
    "Задание констант:"
   ]
  },
  {
   "cell_type": "code",
   "execution_count": 53,
   "metadata": {},
   "outputs": [],
   "source": [
    "model = RandomForestClassifier()"
   ]
  },
  {
   "cell_type": "markdown",
   "metadata": {},
   "source": [
    "Задание параметров поиска:"
   ]
  },
  {
   "cell_type": "code",
   "execution_count": 54,
   "metadata": {},
   "outputs": [],
   "source": [
    "params_rfc = params.copy()\n",
    "params_rfc.update({\n",
    "    'model__criterion': ['gini', 'entropy'],\n",
    "    'model__n_estimators': range(100, 2000, 100),\n",
    "    'model__class_weight': ['balanced', None],\n",
    "    'model__max_depth': range(1, 20),\n",
    "    'model__random_state': [SEED, None],\n",
    "    'model__n_jobs': [-1]\n",
    "})"
   ]
  },
  {
   "cell_type": "markdown",
   "metadata": {},
   "source": [
    "**Без балансирования классов**"
   ]
  },
  {
   "cell_type": "markdown",
   "metadata": {},
   "source": [
    "Задание пайплайна:"
   ]
  },
  {
   "cell_type": "code",
   "execution_count": 55,
   "metadata": {},
   "outputs": [],
   "source": [
    "pipeline = Pipeline([\n",
    "    ('tfidf', tfidf_vect),\n",
    "    ('model', model)\n",
    "])"
   ]
  },
  {
   "cell_type": "markdown",
   "metadata": {},
   "source": [
    "Поиск лучшей модели:"
   ]
  },
  {
   "cell_type": "code",
   "execution_count": 56,
   "metadata": {
    "scrolled": false
   },
   "outputs": [
    {
     "name": "stdout",
     "output_type": "stream",
     "text": [
      "Searching...\n",
      "\n",
      "Best model params: {'tfidf__ngram_range': (1, 1), 'tfidf__min_df': 3, 'tfidf__max_df': 0.5, 'model__random_state': 42, 'model__n_jobs': -1, 'model__n_estimators': 1000, 'model__max_depth': 13, 'model__criterion': 'entropy', 'model__class_weight': 'balanced'}\n",
      "\n",
      "Best F1-score: 42.39 %\n",
      "\n"
     ]
    },
    {
     "data": {
      "image/png": "[encoded data removed]",
      "text/plain": [
       "<Figure size 360x288 with 2 Axes>"
      ]
     },
     "metadata": {
      "needs_background": "light"
     },
     "output_type": "display_data"
    },
    {
     "name": "stdout",
     "output_type": "stream",
     "text": [
      "\n",
      "Finished\n",
      "\n",
      "CPU times: user 23min 4s, sys: 10.9 s, total: 23min 15s\n",
      "Wall time: 23min 16s\n"
     ]
    }
   ],
   "source": [
    "%%time\n",
    "train_model(pipeline, params_rfc, X_train, y_train, 'rf_class')"
   ]
  },
  {
   "cell_type": "markdown",
   "metadata": {},
   "source": [
    "<div style=\"background-color: #f9f9f9; border-radius: 2px; padding: 20px 20px 10px 20px;\">\n",
    "    \n",
    "Найденная модель продемонстрировала:\n",
    "    \n",
    "* Истинно-отрицательный уклон: предсказаны отрицательные ответы (комментарии НЕтоксичны) и это правда.\n",
    "    \n",
    "</div>"
   ]
  },
  {
   "cell_type": "markdown",
   "metadata": {},
   "source": [
    "**С балансированием классов**"
   ]
  },
  {
   "cell_type": "markdown",
   "metadata": {},
   "source": [
    "Задание пайплайна:"
   ]
  },
  {
   "cell_type": "code",
   "execution_count": 57,
   "metadata": {},
   "outputs": [],
   "source": [
    "pipeline = Pipeline([\n",
    "    ('tfidf', tfidf_vect),\n",
    "    ('undersampling', undersampling),\n",
    "    ('model', model)\n",
    "])"
   ]
  },
  {
   "cell_type": "markdown",
   "metadata": {},
   "source": [
    "Задание параметров поиска:"
   ]
  },
  {
   "cell_type": "code",
   "execution_count": 58,
   "metadata": {},
   "outputs": [],
   "source": [
    "params_rfc = params_rfc.copy()\n",
    "params_rfc.update(params_under)\n",
    "del params_rfc['model__class_weight']"
   ]
  },
  {
   "cell_type": "markdown",
   "metadata": {},
   "source": [
    "Поиск лучшей модели:"
   ]
  },
  {
   "cell_type": "code",
   "execution_count": 59,
   "metadata": {
    "scrolled": false
   },
   "outputs": [
    {
     "name": "stdout",
     "output_type": "stream",
     "text": [
      "Searching...\n",
      "\n",
      "Best model params: {'undersampling__sampling_strategy': 'majority', 'undersampling__replacement': False, 'undersampling__random_state': None, 'tfidf__ngram_range': (1, 1), 'tfidf__min_df': 2, 'tfidf__max_df': 0.75, 'model__random_state': 42, 'model__n_jobs': -1, 'model__n_estimators': 700, 'model__max_depth': 12, 'model__criterion': 'gini'}\n",
      "\n",
      "Best F1-score: 39.47 %\n",
      "\n"
     ]
    },
    {
     "data": {
      "image/png": "[encoded data removed]",
      "text/plain": [
       "<Figure size 360x288 with 2 Axes>"
      ]
     },
     "metadata": {
      "needs_background": "light"
     },
     "output_type": "display_data"
    },
    {
     "name": "stdout",
     "output_type": "stream",
     "text": [
      "\n",
      "Finished\n",
      "\n",
      "CPU times: user 16min 54s, sys: 5.22 s, total: 16min 59s\n",
      "Wall time: 17min\n"
     ]
    }
   ],
   "source": [
    "%%time\n",
    "train_model(pipeline, params_rfc, X_train, y_train, 'rf_class_under')"
   ]
  },
  {
   "cell_type": "markdown",
   "metadata": {},
   "source": [
    "<div style=\"background-color: #f9f9f9; border-radius: 2px; padding: 20px 20px 10px 20px;\">\n",
    "    \n",
    "Найденная модель продемонстрировала:\n",
    "    \n",
    "* Истинно-отрицательный уклон: предсказаны отрицательные ответы (комментарии НЕтоксичны) и это правда.\n",
    "    \n",
    "</div>"
   ]
  },
  {
   "cell_type": "markdown",
   "metadata": {},
   "source": [
    "---"
   ]
  },
  {
   "cell_type": "markdown",
   "metadata": {},
   "source": [
    "### Оценка результатов"
   ]
  },
  {
   "cell_type": "markdown",
   "metadata": {},
   "source": [
    "Задание функции построения графика метрики AUC-ROC:"
   ]
  },
  {
   "cell_type": "code",
   "execution_count": 60,
   "metadata": {},
   "outputs": [],
   "source": [
    "def plot_roc_curve(fpr_tpr_auc_roc: list, \n",
    "                   labels: list) -> None:\n",
    "    \n",
    "    font_s = 12\n",
    "    plt.figure(figsize=(8,8))\n",
    "\n",
    "    plt.title('ROC-кривая\\n', fontsize=font_s+4)\n",
    "\n",
    "    plt.plot([0, 1], [0, 1], linestyle='--', label='random_model')\n",
    "\n",
    "    for i in range(len(fpr_tpr_auc_roc)):\n",
    "        fpr, tpr, auc_roc = fpr_tpr_auc_roc[i]\n",
    "        plt.plot(fpr, tpr, label=f'{labels[i]} - {round(auc_roc, 3)}')\n",
    "\n",
    "    plt.legend(loc='lower right')\n",
    "\n",
    "    plt.xlabel('False Positive Rate', fontsize=font_s)\n",
    "    plt.ylabel('True Positive Rate', fontsize=font_s)\n",
    "\n",
    "    plt.grid()\n",
    "    plt.show()"
   ]
  },
  {
   "cell_type": "markdown",
   "metadata": {},
   "source": [
    "Задание функции построения графика точности и полноты:"
   ]
  },
  {
   "cell_type": "code",
   "execution_count": 61,
   "metadata": {},
   "outputs": [],
   "source": [
    "def plot_precision_recall(model,\n",
    "                          X_test: np.ndarray,\n",
    "                          y_true: np.ndarray) -> None:\n",
    "    \n",
    "    probabs_pred = model.predict_proba(X_test)[:, 1]\n",
    "    \n",
    "    precision, recall, _ = precision_recall_curve(y_true, probabs_pred)\n",
    "    disp = PrecisionRecallDisplay(precision=precision, recall=recall)\n",
    "    disp.plot()\n",
    "\n",
    "    plt.grid()\n",
    "    plt.show()"
   ]
  },
  {
   "cell_type": "markdown",
   "metadata": {},
   "source": [
    "---"
   ]
  },
  {
   "cell_type": "markdown",
   "metadata": {},
   "source": [
    "Преобразование результатов в датафрейм:"
   ]
  },
  {
   "cell_type": "code",
   "execution_count": 62,
   "metadata": {},
   "outputs": [],
   "source": [
    "data_results = convert_to_dataframe(results).reset_index()"
   ]
  },
  {
   "cell_type": "markdown",
   "metadata": {},
   "source": [
    "Построение графика значений метрик:"
   ]
  },
  {
   "cell_type": "code",
   "execution_count": 63,
   "metadata": {},
   "outputs": [
    {
     "data": {
      "image/png": "[encoded data removed]",
      "text/plain": [
       "<Figure size 1152x360 with 1 Axes>"
      ]
     },
     "metadata": {
      "needs_background": "light"
     },
     "output_type": "display_data"
    }
   ],
   "source": [
    "plot_bar(data_results, 'index', 'score', 'Метрика F1-Мера', print_vals=True, shift=0.15)"
   ]
  },
  {
   "cell_type": "markdown",
   "metadata": {},
   "source": [
    "Сохранение данных для построения графика метрики AUC-ROC:"
   ]
  },
  {
   "cell_type": "code",
   "execution_count": 64,
   "metadata": {
    "scrolled": true
   },
   "outputs": [],
   "source": [
    "fpr_tpr_auc_roc_list = []\n",
    "\n",
    "for key in list(results.keys()):    \n",
    "    fpr_tpr_auc_roc_list.append(results[key]['fpr_tpr_auc_roc'])"
   ]
  },
  {
   "cell_type": "markdown",
   "metadata": {},
   "source": [
    "Построение графика метрики AUC-ROC:"
   ]
  },
  {
   "cell_type": "code",
   "execution_count": 65,
   "metadata": {},
   "outputs": [
    {
     "data": {
      "image/png": "[encoded data removed]",
      "text/plain": [
       "<Figure size 576x576 with 1 Axes>"
      ]
     },
     "metadata": {
      "needs_background": "light"
     },
     "output_type": "display_data"
    }
   ],
   "source": [
    "plot_roc_curve(fpr_tpr_auc_roc_list, list(results.keys()))"
   ]
  },
  {
   "cell_type": "markdown",
   "metadata": {},
   "source": [
    "<div style=\"background-color: #f9f9f9; border-radius: 2px; padding: 20px 20px 10px 20px;\">\n",
    "    \n",
    "* Заданный порог метрики F1 в `0.75` превысила модель `LogisticRegression` как несбалансированных, так и на сбалансированных данных.\n",
    "    \n",
    "* Все модели, за исключением `Decision Tree Classifier` и `Random Forest Classifier`, продемонстрировали высокое отличие от произвольной модели на метрике AUC-ROC.\n",
    "    \n",
    "---\n",
    "\n",
    "* С учётом скорости обработки данных для итогового тестирования будет отобрана модель `Logistic Regression`, обученная на сбалансированных данных.\n",
    "    \n",
    "</div>"
   ]
  },
  {
   "cell_type": "markdown",
   "metadata": {},
   "source": [
    "<div style=\"background-color: blue; height: 2px; margin: 10px 0;\"></div>"
   ]
  },
  {
   "cell_type": "markdown",
   "metadata": {},
   "source": [
    "## Тестирование модели"
   ]
  },
  {
   "cell_type": "markdown",
   "metadata": {},
   "source": [
    "Сохранение лучшей модели:"
   ]
  },
  {
   "cell_type": "code",
   "execution_count": 66,
   "metadata": {},
   "outputs": [],
   "source": [
    "model = results['log_regress_under']['model']"
   ]
  },
  {
   "cell_type": "markdown",
   "metadata": {},
   "source": [
    "Обучение модели:"
   ]
  },
  {
   "cell_type": "code",
   "execution_count": 67,
   "metadata": {},
   "outputs": [
    {
     "name": "stdout",
     "output_type": "stream",
     "text": [
      "CPU times: user 55.8 s, sys: 1min 7s, total: 2min 3s\n",
      "Wall time: 2min 3s\n"
     ]
    },
    {
     "data": {
      "text/html": [
       "<style>#sk-container-id-1 {color: black;}#sk-container-id-1 pre{padding: 0;}#sk-container-id-1 div.sk-toggleable {background-color: white;}#sk-container-id-1 label.sk-toggleable__label {cursor: pointer;display: block;width: 100%;margin-bottom: 0;padding: 0.3em;box-sizing: border-box;text-align: center;}#sk-container-id-1 label.sk-toggleable__label-arrow:before {content: \"▸\";float: left;margin-right: 0.25em;color: #696969;}#sk-container-id-1 label.sk-toggleable__label-arrow:hover:before {color: black;}#sk-container-id-1 div.sk-estimator:hover label.sk-toggleable__label-arrow:before {color: black;}#sk-container-id-1 div.sk-toggleable__content {max-height: 0;max-width: 0;overflow: hidden;text-align: left;background-color: #f0f8ff;}#sk-container-id-1 div.sk-toggleable__content pre {margin: 0.2em;color: black;border-radius: 0.25em;background-color: #f0f8ff;}#sk-container-id-1 input.sk-toggleable__control:checked~div.sk-toggleable__content {max-height: 200px;max-width: 100%;overflow: auto;}#sk-container-id-1 input.sk-toggleable__control:checked~label.sk-toggleable__label-arrow:before {content: \"▾\";}#sk-container-id-1 div.sk-estimator input.sk-toggleable__control:checked~label.sk-toggleable__label {background-color: #d4ebff;}#sk-container-id-1 div.sk-label input.sk-toggleable__control:checked~label.sk-toggleable__label {background-color: #d4ebff;}#sk-container-id-1 input.sk-hidden--visually {border: 0;clip: rect(1px 1px 1px 1px);clip: rect(1px, 1px, 1px, 1px);height: 1px;margin: -1px;overflow: hidden;padding: 0;position: absolute;width: 1px;}#sk-container-id-1 div.sk-estimator {font-family: monospace;background-color: #f0f8ff;border: 1px dotted black;border-radius: 0.25em;box-sizing: border-box;margin-bottom: 0.5em;}#sk-container-id-1 div.sk-estimator:hover {background-color: #d4ebff;}#sk-container-id-1 div.sk-parallel-item::after {content: \"\";width: 100%;border-bottom: 1px solid gray;flex-grow: 1;}#sk-container-id-1 div.sk-label:hover label.sk-toggleable__label {background-color: #d4ebff;}#sk-container-id-1 div.sk-serial::before {content: \"\";position: absolute;border-left: 1px solid gray;box-sizing: border-box;top: 0;bottom: 0;left: 50%;z-index: 0;}#sk-container-id-1 div.sk-serial {display: flex;flex-direction: column;align-items: center;background-color: white;padding-right: 0.2em;padding-left: 0.2em;position: relative;}#sk-container-id-1 div.sk-item {position: relative;z-index: 1;}#sk-container-id-1 div.sk-parallel {display: flex;align-items: stretch;justify-content: center;background-color: white;position: relative;}#sk-container-id-1 div.sk-item::before, #sk-container-id-1 div.sk-parallel-item::before {content: \"\";position: absolute;border-left: 1px solid gray;box-sizing: border-box;top: 0;bottom: 0;left: 50%;z-index: -1;}#sk-container-id-1 div.sk-parallel-item {display: flex;flex-direction: column;z-index: 1;position: relative;background-color: white;}#sk-container-id-1 div.sk-parallel-item:first-child::after {align-self: flex-end;width: 50%;}#sk-container-id-1 div.sk-parallel-item:last-child::after {align-self: flex-start;width: 50%;}#sk-container-id-1 div.sk-parallel-item:only-child::after {width: 0;}#sk-container-id-1 div.sk-dashed-wrapped {border: 1px dashed gray;margin: 0 0.4em 0.5em 0.4em;box-sizing: border-box;padding-bottom: 0.4em;background-color: white;}#sk-container-id-1 div.sk-label label {font-family: monospace;font-weight: bold;display: inline-block;line-height: 1.2em;}#sk-container-id-1 div.sk-label-container {text-align: center;}#sk-container-id-1 div.sk-container {/* jupyter's `normalize.less` sets `[hidden] { display: none; }` but bootstrap.min.css set `[hidden] { display: none !important; }` so we also need the `!important` here to be able to override the default hidden behavior on the sphinx rendered scikit-learn.org. See: https://github.com/scikit-learn/scikit-learn/issues/21755 */display: inline-block !important;position: relative;}#sk-container-id-1 div.sk-text-repr-fallback {display: none;}</style><div id=\"sk-container-id-1\" class=\"sk-top-container\"><div class=\"sk-text-repr-fallback\"><pre>Pipeline(steps=[(&#x27;tfidf&#x27;,\n",
       "                 TfidfVectorizer(max_df=0.5, min_df=3, ngram_range=(1, 3),\n",
       "                                 stop_words=[&#x27;more&#x27;, &#x27;above&#x27;, &#x27;hadn&#x27;, &#x27;me&#x27;, &#x27;y&#x27;,\n",
       "                                             &#x27;does&#x27;, &#x27;been&#x27;, &#x27;should&#x27;,\n",
       "                                             &quot;mightn&#x27;t&quot;, &#x27;aren&#x27;, &#x27;yourself&#x27;,\n",
       "                                             &#x27;down&#x27;, &#x27;m&#x27;, &#x27;doesn&#x27;, &#x27;only&#x27;, &#x27;at&#x27;,\n",
       "                                             &#x27;being&#x27;, &#x27;those&#x27;, &#x27;or&#x27;, &#x27;here&#x27;,\n",
       "                                             &#x27;an&#x27;, &#x27;ll&#x27;, &quot;isn&#x27;t&quot;, &#x27;if&#x27;,\n",
       "                                             &#x27;between&#x27;, &#x27;herself&#x27;, &#x27;under&#x27;,\n",
       "                                             &#x27;of&#x27;, &quot;haven&#x27;t&quot;, &quot;didn&#x27;t&quot;, ...])),\n",
       "                (&#x27;undersampling&#x27;,\n",
       "                 RandomUnderSampler(sampling_strategy=&#x27;not majority&#x27;)),\n",
       "                (&#x27;model&#x27;,\n",
       "                 LogisticRegression(C=7, max_iter=1600, random_state=42))])</pre><b>In a Jupyter environment, please rerun this cell to show the HTML representation or trust the notebook. <br />On GitHub, the HTML representation is unable to render, please try loading this page with nbviewer.org.</b></div><div class=\"sk-container\" hidden><div class=\"sk-item sk-dashed-wrapped\"><div class=\"sk-label-container\"><div class=\"sk-label sk-toggleable\"><input class=\"sk-toggleable__control sk-hidden--visually\" id=\"sk-estimator-id-1\" type=\"checkbox\" ><label for=\"sk-estimator-id-1\" class=\"sk-toggleable__label sk-toggleable__label-arrow\">Pipeline</label><div class=\"sk-toggleable__content\"><pre>Pipeline(steps=[(&#x27;tfidf&#x27;,\n",
       "                 TfidfVectorizer(max_df=0.5, min_df=3, ngram_range=(1, 3),\n",
       "                                 stop_words=[&#x27;more&#x27;, &#x27;above&#x27;, &#x27;hadn&#x27;, &#x27;me&#x27;, &#x27;y&#x27;,\n",
       "                                             &#x27;does&#x27;, &#x27;been&#x27;, &#x27;should&#x27;,\n",
       "                                             &quot;mightn&#x27;t&quot;, &#x27;aren&#x27;, &#x27;yourself&#x27;,\n",
       "                                             &#x27;down&#x27;, &#x27;m&#x27;, &#x27;doesn&#x27;, &#x27;only&#x27;, &#x27;at&#x27;,\n",
       "                                             &#x27;being&#x27;, &#x27;those&#x27;, &#x27;or&#x27;, &#x27;here&#x27;,\n",
       "                                             &#x27;an&#x27;, &#x27;ll&#x27;, &quot;isn&#x27;t&quot;, &#x27;if&#x27;,\n",
       "                                             &#x27;between&#x27;, &#x27;herself&#x27;, &#x27;under&#x27;,\n",
       "                                             &#x27;of&#x27;, &quot;haven&#x27;t&quot;, &quot;didn&#x27;t&quot;, ...])),\n",
       "                (&#x27;undersampling&#x27;,\n",
       "                 RandomUnderSampler(sampling_strategy=&#x27;not majority&#x27;)),\n",
       "                (&#x27;model&#x27;,\n",
       "                 LogisticRegression(C=7, max_iter=1600, random_state=42))])</pre></div></div></div><div class=\"sk-serial\"><div class=\"sk-item\"><div class=\"sk-estimator sk-toggleable\"><input class=\"sk-toggleable__control sk-hidden--visually\" id=\"sk-estimator-id-2\" type=\"checkbox\" ><label for=\"sk-estimator-id-2\" class=\"sk-toggleable__label sk-toggleable__label-arrow\">TfidfVectorizer</label><div class=\"sk-toggleable__content\"><pre>TfidfVectorizer(max_df=0.5, min_df=3, ngram_range=(1, 3),\n",
       "                stop_words=[&#x27;more&#x27;, &#x27;above&#x27;, &#x27;hadn&#x27;, &#x27;me&#x27;, &#x27;y&#x27;, &#x27;does&#x27;, &#x27;been&#x27;,\n",
       "                            &#x27;should&#x27;, &quot;mightn&#x27;t&quot;, &#x27;aren&#x27;, &#x27;yourself&#x27;, &#x27;down&#x27;,\n",
       "                            &#x27;m&#x27;, &#x27;doesn&#x27;, &#x27;only&#x27;, &#x27;at&#x27;, &#x27;being&#x27;, &#x27;those&#x27;, &#x27;or&#x27;,\n",
       "                            &#x27;here&#x27;, &#x27;an&#x27;, &#x27;ll&#x27;, &quot;isn&#x27;t&quot;, &#x27;if&#x27;, &#x27;between&#x27;,\n",
       "                            &#x27;herself&#x27;, &#x27;under&#x27;, &#x27;of&#x27;, &quot;haven&#x27;t&quot;, &quot;didn&#x27;t&quot;, ...])</pre></div></div></div><div class=\"sk-item\"><div class=\"sk-estimator sk-toggleable\"><input class=\"sk-toggleable__control sk-hidden--visually\" id=\"sk-estimator-id-3\" type=\"checkbox\" ><label for=\"sk-estimator-id-3\" class=\"sk-toggleable__label sk-toggleable__label-arrow\">RandomUnderSampler</label><div class=\"sk-toggleable__content\"><pre>RandomUnderSampler(sampling_strategy=&#x27;not majority&#x27;)</pre></div></div></div><div class=\"sk-item\"><div class=\"sk-estimator sk-toggleable\"><input class=\"sk-toggleable__control sk-hidden--visually\" id=\"sk-estimator-id-4\" type=\"checkbox\" ><label for=\"sk-estimator-id-4\" class=\"sk-toggleable__label sk-toggleable__label-arrow\">LogisticRegression</label><div class=\"sk-toggleable__content\"><pre>LogisticRegression(C=7, max_iter=1600, random_state=42)</pre></div></div></div></div></div></div></div>"
      ],
      "text/plain": [
       "Pipeline(steps=[('tfidf',\n",
       "                 TfidfVectorizer(max_df=0.5, min_df=3, ngram_range=(1, 3),\n",
       "                                 stop_words=['more', 'above', 'hadn', 'me', 'y',\n",
       "                                             'does', 'been', 'should',\n",
       "                                             \"mightn't\", 'aren', 'yourself',\n",
       "                                             'down', 'm', 'doesn', 'only', 'at',\n",
       "                                             'being', 'those', 'or', 'here',\n",
       "                                             'an', 'll', \"isn't\", 'if',\n",
       "                                             'between', 'herself', 'under',\n",
       "                                             'of', \"haven't\", \"didn't\", ...])),\n",
       "                ('undersampling',\n",
       "                 RandomUnderSampler(sampling_strategy='not majority')),\n",
       "                ('model',\n",
       "                 LogisticRegression(C=7, max_iter=1600, random_state=42))])"
      ]
     },
     "execution_count": 67,
     "metadata": {},
     "output_type": "execute_result"
    }
   ],
   "source": [
    "%%time\n",
    "model.fit(X_train, y_train)"
   ]
  },
  {
   "cell_type": "markdown",
   "metadata": {},
   "source": [
    "Получение предсказаний:"
   ]
  },
  {
   "cell_type": "code",
   "execution_count": 68,
   "metadata": {},
   "outputs": [],
   "source": [
    "y_pred = model.predict(X_test)"
   ]
  },
  {
   "cell_type": "markdown",
   "metadata": {},
   "source": [
    "Выведение на экран значения метрики F1 на тестировочных данных:"
   ]
  },
  {
   "cell_type": "code",
   "execution_count": 69,
   "metadata": {},
   "outputs": [
    {
     "name": "stdout",
     "output_type": "stream",
     "text": [
      "F1 Test: 76.91 %\n"
     ]
    }
   ],
   "source": [
    "print('F1 Test:', round(f1_score(y_test, y_pred) * 100, 2), '%')"
   ]
  },
  {
   "cell_type": "markdown",
   "metadata": {},
   "source": [
    "Выведение на экран метрик классификации модели:"
   ]
  },
  {
   "cell_type": "code",
   "execution_count": 70,
   "metadata": {},
   "outputs": [
    {
     "name": "stdout",
     "output_type": "stream",
     "text": [
      "              precision    recall  f1-score   support\n",
      "\n",
      "           0       0.96      0.99      0.98     35829\n",
      "           1       0.89      0.68      0.77      3992\n",
      "\n",
      "    accuracy                           0.96     39821\n",
      "   macro avg       0.93      0.83      0.87     39821\n",
      "weighted avg       0.96      0.96      0.96     39821\n",
      "\n"
     ]
    }
   ],
   "source": [
    "print(classification_report(y_test, y_pred))"
   ]
  },
  {
   "cell_type": "markdown",
   "metadata": {},
   "source": [
    "Построение матрицы неточностей:"
   ]
  },
  {
   "cell_type": "code",
   "execution_count": 71,
   "metadata": {},
   "outputs": [
    {
     "data": {
      "image/png": "[encoded data removed]",
      "text/plain": [
       "<Figure size 360x288 with 2 Axes>"
      ]
     },
     "metadata": {
      "needs_background": "light"
     },
     "output_type": "display_data"
    }
   ],
   "source": [
    "plot_c_matrix(y_test, y_pred)"
   ]
  },
  {
   "cell_type": "markdown",
   "metadata": {},
   "source": [
    "<div style=\"background-color: #f9f9f9; border-radius: 2px; padding: 20px 20px 10px 20px;\">\n",
    "    \n",
    "Найденная модель продемонстрировала на тестовых данных:\n",
    "    \n",
    "* Истинно-положительный уклон: предсказаны положительные ответы (комментарии токсичны) и это правда.\n",
    "    \n",
    "</div>"
   ]
  },
  {
   "cell_type": "markdown",
   "metadata": {},
   "source": [
    "Построение графика полноты и точности:"
   ]
  },
  {
   "cell_type": "code",
   "execution_count": 72,
   "metadata": {},
   "outputs": [
    {
     "data": {
      "image/png": "[encoded data removed]",
      "text/plain": [
       "<Figure size 432x288 with 1 Axes>"
      ]
     },
     "metadata": {
      "needs_background": "light"
     },
     "output_type": "display_data"
    }
   ],
   "source": [
    "plot_precision_recall(model, X_test, y_test)"
   ]
  },
  {
   "cell_type": "markdown",
   "metadata": {},
   "source": [
    "<div style=\"background-color: #f9f9f9; border-radius: 2px; padding: 20px 20px 10px 20px;\">\n",
    "    \n",
    "* Модель показала неплохую предсказательную способность на тестовых данных, однако не достигла заданного порога. \n",
    "    \n",
    "</div>"
   ]
  },
  {
   "cell_type": "markdown",
   "metadata": {},
   "source": [
    "<div style=\"background-color: blue; height: 2px; margin: 10px 0;\"></div>"
   ]
  },
  {
   "cell_type": "markdown",
   "metadata": {},
   "source": [
    "## Общий вывод"
   ]
  },
  {
   "cell_type": "markdown",
   "metadata": {},
   "source": [
    "В ходе проведённого исследования в ходе классификации комментариев на позитивные и негатичные с учётом таких факторов как производительность, скорость работы и значение метрики F1-меры наилучшим образом показала себя модель `Logistic Regression`.\n",
    "\n",
    "Таким образом возможность создания инструмента, который будет искать токсичные комментарии и отправлять их на модерацию, на основании имеющихся данных была доказана, пусть модель и не смогла превысить заданного порога."
   ]
  },
  {
   "cell_type": "markdown",
   "metadata": {},
   "source": [
    "<div style=\"text-align: center; font-size: 20px; padding: 15px 0;\">\n",
    "    <a href=\"#Проект-для-«Викишоп»\" data-toc-modified-id=\"Проект-для-«Викишоп»\" style=\"text-decoration: none; color: #296eaa; border: 2px dashed #296eaa; opacity: 0.8; border-radius: 3px; padding: 10px 80px;\">\n",
    "        В начало файла ↑\n",
    "    </a>\n",
    "</div>"
   ]
  }
 ],
 "metadata": {
  "ExecuteTimeLog": [
   {
    "duration": 3609,
    "start_time": "2023-05-10T05:39:17.653Z"
   },
   {
    "duration": 3778,
    "start_time": "2023-05-10T05:39:41.836Z"
   },
   {
    "duration": 146,
    "start_time": "2023-05-10T05:39:45.616Z"
   },
   {
    "duration": 8,
    "start_time": "2023-05-10T05:40:10.531Z"
   },
   {
    "duration": 96,
    "start_time": "2023-05-10T05:41:07.261Z"
   },
   {
    "duration": 83,
    "start_time": "2023-05-10T05:41:09.761Z"
   },
   {
    "duration": 70,
    "start_time": "2023-05-10T05:41:15.761Z"
   },
   {
    "duration": 43,
    "start_time": "2023-05-10T05:41:28.831Z"
   },
   {
    "duration": 76,
    "start_time": "2023-05-10T05:41:37.351Z"
   },
   {
    "duration": 61,
    "start_time": "2023-05-10T05:41:44.919Z"
   },
   {
    "duration": 80,
    "start_time": "2023-05-10T05:41:48.686Z"
   },
   {
    "duration": 4201,
    "start_time": "2023-05-10T05:42:00.931Z"
   },
   {
    "duration": 21,
    "start_time": "2023-05-10T05:42:16.522Z"
   },
   {
    "duration": 17,
    "start_time": "2023-05-10T05:42:59.810Z"
   },
   {
    "duration": 799,
    "start_time": "2023-05-10T05:43:18.555Z"
   },
   {
    "duration": 21,
    "start_time": "2023-05-10T05:43:20.589Z"
   },
   {
    "duration": 7,
    "start_time": "2023-05-10T05:44:48.264Z"
   },
   {
    "duration": 5,
    "start_time": "2023-05-10T05:45:00.291Z"
   },
   {
    "duration": 3,
    "start_time": "2023-05-10T05:45:08.370Z"
   },
   {
    "duration": 31,
    "start_time": "2023-05-10T05:45:36.847Z"
   },
   {
    "duration": 33,
    "start_time": "2023-05-10T05:46:01.163Z"
   },
   {
    "duration": 241,
    "start_time": "2023-05-10T05:46:19.265Z"
   },
   {
    "duration": 234,
    "start_time": "2023-05-10T05:46:24.023Z"
   },
   {
    "duration": 215,
    "start_time": "2023-05-10T05:46:38.037Z"
   },
   {
    "duration": 30,
    "start_time": "2023-05-10T06:05:29.377Z"
   },
   {
    "duration": 2383,
    "start_time": "2023-05-10T06:05:33.538Z"
   },
   {
    "duration": 25,
    "start_time": "2023-05-10T06:05:35.926Z"
   },
   {
    "duration": 241,
    "start_time": "2023-05-10T06:06:02.580Z"
   },
   {
    "duration": 12,
    "start_time": "2023-05-10T06:06:03.824Z"
   },
   {
    "duration": 35,
    "start_time": "2023-05-10T06:06:49.941Z"
   },
   {
    "duration": 22,
    "start_time": "2023-05-10T06:07:32.114Z"
   },
   {
    "duration": 19,
    "start_time": "2023-05-10T06:07:39.336Z"
   },
   {
    "duration": 9,
    "start_time": "2023-05-10T06:07:56.271Z"
   },
   {
    "duration": 52,
    "start_time": "2023-05-10T06:08:06.312Z"
   },
   {
    "duration": 15,
    "start_time": "2023-05-10T06:08:10.112Z"
   },
   {
    "duration": 12,
    "start_time": "2023-05-10T06:08:31.517Z"
   },
   {
    "duration": 10,
    "start_time": "2023-05-10T06:08:38.772Z"
   },
   {
    "duration": 10,
    "start_time": "2023-05-10T06:08:45.036Z"
   },
   {
    "duration": 65,
    "start_time": "2023-05-10T06:12:35.110Z"
   },
   {
    "duration": 6,
    "start_time": "2023-05-10T06:12:44.179Z"
   },
   {
    "duration": 4,
    "start_time": "2023-05-10T06:12:50.272Z"
   },
   {
    "duration": 84,
    "start_time": "2023-05-10T06:13:51.349Z"
   },
   {
    "duration": 28,
    "start_time": "2023-05-10T06:14:07.433Z"
   },
   {
    "duration": 21,
    "start_time": "2023-05-10T06:14:22.927Z"
   },
   {
    "duration": 21,
    "start_time": "2023-05-10T06:14:33.145Z"
   },
   {
    "duration": 14,
    "start_time": "2023-05-10T06:14:41.528Z"
   },
   {
    "duration": 14792,
    "start_time": "2023-05-10T06:14:59.961Z"
   },
   {
    "duration": 4,
    "start_time": "2023-05-10T06:16:48.745Z"
   },
   {
    "duration": 19728,
    "start_time": "2023-05-10T06:16:56.549Z"
   },
   {
    "duration": 4,
    "start_time": "2023-05-10T06:18:09.250Z"
   },
   {
    "duration": 2696,
    "start_time": "2023-05-10T06:18:23.037Z"
   },
   {
    "duration": 3726,
    "start_time": "2023-05-10T06:18:25.737Z"
   },
   {
    "duration": 6,
    "start_time": "2023-05-10T06:18:29.465Z"
   },
   {
    "duration": 858,
    "start_time": "2023-05-10T06:18:29.472Z"
   },
   {
    "duration": 15,
    "start_time": "2023-05-10T06:18:30.341Z"
   },
   {
    "duration": 16,
    "start_time": "2023-05-10T06:18:30.359Z"
   },
   {
    "duration": 92,
    "start_time": "2023-05-10T06:18:30.377Z"
   },
   {
    "duration": 86,
    "start_time": "2023-05-10T06:18:30.472Z"
   },
   {
    "duration": 293,
    "start_time": "2023-05-10T06:18:30.560Z"
   },
   {
    "duration": 11,
    "start_time": "2023-05-10T06:18:30.855Z"
   },
   {
    "duration": 39,
    "start_time": "2023-05-10T06:18:30.870Z"
   },
   {
    "duration": 18,
    "start_time": "2023-05-10T06:18:30.914Z"
   },
   {
    "duration": 728,
    "start_time": "2023-05-10T06:18:41.657Z"
   },
   {
    "duration": 11,
    "start_time": "2023-05-10T06:18:49.135Z"
   },
   {
    "duration": 234344,
    "start_time": "2023-05-10T06:18:50.860Z"
   },
   {
    "duration": 21,
    "start_time": "2023-05-10T06:22:45.210Z"
   },
   {
    "duration": 12,
    "start_time": "2023-05-10T06:22:45.238Z"
   },
   {
    "duration": 10,
    "start_time": "2023-05-10T06:24:32.141Z"
   },
   {
    "duration": 12,
    "start_time": "2023-05-10T06:25:00.728Z"
   },
   {
    "duration": 12,
    "start_time": "2023-05-10T06:25:03.688Z"
   },
   {
    "duration": 8,
    "start_time": "2023-05-10T06:25:24.128Z"
   },
   {
    "duration": 11,
    "start_time": "2023-05-10T06:25:24.714Z"
   },
   {
    "duration": 4,
    "start_time": "2023-05-10T06:25:32.049Z"
   },
   {
    "duration": 3101,
    "start_time": "2023-05-10T06:25:43.416Z"
   },
   {
    "duration": 4149,
    "start_time": "2023-05-10T06:25:46.521Z"
   },
   {
    "duration": 8,
    "start_time": "2023-05-10T06:25:50.674Z"
   },
   {
    "duration": 1215,
    "start_time": "2023-05-10T06:25:50.684Z"
   },
   {
    "duration": 28,
    "start_time": "2023-05-10T06:25:51.901Z"
   },
   {
    "duration": 21,
    "start_time": "2023-05-10T06:25:51.930Z"
   },
   {
    "duration": 85,
    "start_time": "2023-05-10T06:25:51.954Z"
   },
   {
    "duration": 29,
    "start_time": "2023-05-10T06:25:52.050Z"
   },
   {
    "duration": 283,
    "start_time": "2023-05-10T06:25:52.081Z"
   },
   {
    "duration": 12,
    "start_time": "2023-05-10T06:25:52.366Z"
   },
   {
    "duration": 32,
    "start_time": "2023-05-10T06:25:52.392Z"
   },
   {
    "duration": 15,
    "start_time": "2023-05-10T06:25:52.426Z"
   },
   {
    "duration": 2058,
    "start_time": "2023-05-10T06:25:52.447Z"
   },
   {
    "duration": 1796,
    "start_time": "2023-05-10T06:26:02.841Z"
   },
   {
    "duration": 849,
    "start_time": "2023-05-10T06:26:14.754Z"
   },
   {
    "duration": 2432,
    "start_time": "2023-05-10T06:52:09.300Z"
   },
   {
    "duration": 3260,
    "start_time": "2023-05-10T06:52:11.735Z"
   },
   {
    "duration": 4,
    "start_time": "2023-05-10T06:52:14.996Z"
   },
   {
    "duration": 866,
    "start_time": "2023-05-10T06:52:15.002Z"
   },
   {
    "duration": 11,
    "start_time": "2023-05-10T06:52:15.871Z"
   },
   {
    "duration": 25,
    "start_time": "2023-05-10T06:52:15.883Z"
   },
   {
    "duration": 59,
    "start_time": "2023-05-10T06:52:15.909Z"
   },
   {
    "duration": 42,
    "start_time": "2023-05-10T06:52:15.970Z"
   },
   {
    "duration": 253,
    "start_time": "2023-05-10T06:52:16.015Z"
   },
   {
    "duration": 9,
    "start_time": "2023-05-10T06:52:16.270Z"
   },
   {
    "duration": 11,
    "start_time": "2023-05-10T06:52:16.300Z"
   },
   {
    "duration": 14,
    "start_time": "2023-05-10T06:52:16.317Z"
   },
   {
    "duration": 2480,
    "start_time": "2023-05-10T08:10:01.357Z"
   },
   {
    "duration": 3346,
    "start_time": "2023-05-10T08:10:03.840Z"
   },
   {
    "duration": 4,
    "start_time": "2023-05-10T08:10:07.187Z"
   },
   {
    "duration": 1006,
    "start_time": "2023-05-10T08:10:07.193Z"
   },
   {
    "duration": 14,
    "start_time": "2023-05-10T08:10:08.205Z"
   },
   {
    "duration": 4,
    "start_time": "2023-05-10T08:10:08.221Z"
   },
   {
    "duration": 41,
    "start_time": "2023-05-10T08:10:08.227Z"
   },
   {
    "duration": 39,
    "start_time": "2023-05-10T08:10:08.270Z"
   },
   {
    "duration": 268,
    "start_time": "2023-05-10T08:10:08.312Z"
   },
   {
    "duration": 19,
    "start_time": "2023-05-10T08:10:08.583Z"
   },
   {
    "duration": 11,
    "start_time": "2023-05-10T08:10:08.604Z"
   },
   {
    "duration": 14,
    "start_time": "2023-05-10T08:10:08.619Z"
   },
   {
    "duration": 8060,
    "start_time": "2023-05-10T08:10:16.580Z"
   },
   {
    "duration": 9389,
    "start_time": "2023-05-10T08:10:32.267Z"
   },
   {
    "duration": 1994,
    "start_time": "2023-05-10T08:11:59.369Z"
   },
   {
    "duration": 18,
    "start_time": "2023-05-10T08:12:10.882Z"
   },
   {
    "duration": 11,
    "start_time": "2023-05-10T08:12:13.520Z"
   },
   {
    "duration": 18,
    "start_time": "2023-05-10T08:12:39.259Z"
   },
   {
    "duration": 809,
    "start_time": "2023-05-10T08:12:49.835Z"
   },
   {
    "duration": 1666,
    "start_time": "2023-05-10T08:13:10.033Z"
   },
   {
    "duration": 2361,
    "start_time": "2023-05-10T08:16:45.814Z"
   },
   {
    "duration": 3044,
    "start_time": "2023-05-10T08:16:48.178Z"
   },
   {
    "duration": 6,
    "start_time": "2023-05-10T08:16:51.228Z"
   },
   {
    "duration": 819,
    "start_time": "2023-05-10T08:16:51.235Z"
   },
   {
    "duration": 11,
    "start_time": "2023-05-10T08:16:52.056Z"
   },
   {
    "duration": 27,
    "start_time": "2023-05-10T08:16:52.068Z"
   },
   {
    "duration": 62,
    "start_time": "2023-05-10T08:16:52.102Z"
   },
   {
    "duration": 47,
    "start_time": "2023-05-10T08:16:52.166Z"
   },
   {
    "duration": 254,
    "start_time": "2023-05-10T08:16:52.224Z"
   },
   {
    "duration": 23,
    "start_time": "2023-05-10T08:16:52.480Z"
   },
   {
    "duration": 9,
    "start_time": "2023-05-10T08:16:52.505Z"
   },
   {
    "duration": 1865,
    "start_time": "2023-05-10T08:16:57.159Z"
   },
   {
    "duration": 2633,
    "start_time": "2023-05-10T08:17:33.917Z"
   },
   {
    "duration": 14,
    "start_time": "2023-05-10T08:17:47.221Z"
   },
   {
    "duration": 12,
    "start_time": "2023-05-10T08:18:13.625Z"
   },
   {
    "duration": 3767,
    "start_time": "2023-05-10T08:18:26.776Z"
   },
   {
    "duration": 6158,
    "start_time": "2023-05-10T08:18:39.819Z"
   },
   {
    "duration": 5,
    "start_time": "2023-05-10T08:19:59.924Z"
   },
   {
    "duration": 6303,
    "start_time": "2023-05-10T08:20:12.284Z"
   },
   {
    "duration": 9,
    "start_time": "2023-05-10T08:20:26.413Z"
   },
   {
    "duration": 6248,
    "start_time": "2023-05-10T08:20:27.385Z"
   },
   {
    "duration": 7,
    "start_time": "2023-05-10T08:21:34.117Z"
   },
   {
    "duration": 4640,
    "start_time": "2023-05-10T08:21:34.380Z"
   },
   {
    "duration": 4,
    "start_time": "2023-05-10T08:21:58.258Z"
   },
   {
    "duration": 70400,
    "start_time": "2023-05-10T08:21:58.715Z"
   },
   {
    "duration": 5,
    "start_time": "2023-05-10T08:24:32.721Z"
   },
   {
    "duration": 11439,
    "start_time": "2023-05-10T08:24:33.216Z"
   },
   {
    "duration": 2413,
    "start_time": "2023-05-10T08:25:16.656Z"
   },
   {
    "duration": 3641,
    "start_time": "2023-05-10T08:25:19.072Z"
   },
   {
    "duration": 10,
    "start_time": "2023-05-10T08:25:22.715Z"
   },
   {
    "duration": 2457,
    "start_time": "2023-05-10T08:25:22.729Z"
   },
   {
    "duration": 16,
    "start_time": "2023-05-10T08:25:25.188Z"
   },
   {
    "duration": 12,
    "start_time": "2023-05-10T08:25:25.206Z"
   },
   {
    "duration": 41,
    "start_time": "2023-05-10T08:25:25.222Z"
   },
   {
    "duration": 41,
    "start_time": "2023-05-10T08:25:25.265Z"
   },
   {
    "duration": 232,
    "start_time": "2023-05-10T08:25:25.309Z"
   },
   {
    "duration": 10,
    "start_time": "2023-05-10T08:25:25.544Z"
   },
   {
    "duration": 9,
    "start_time": "2023-05-10T08:25:25.556Z"
   },
   {
    "duration": 35,
    "start_time": "2023-05-10T08:25:25.567Z"
   },
   {
    "duration": 11109,
    "start_time": "2023-05-10T08:25:25.608Z"
   },
   {
    "duration": 7,
    "start_time": "2023-05-10T08:25:56.504Z"
   },
   {
    "duration": 5337,
    "start_time": "2023-05-10T08:25:56.684Z"
   },
   {
    "duration": 4,
    "start_time": "2023-05-10T08:26:49.746Z"
   },
   {
    "duration": 4694,
    "start_time": "2023-05-10T08:26:50.322Z"
   },
   {
    "duration": 5,
    "start_time": "2023-05-10T08:27:09.321Z"
   },
   {
    "duration": 10793,
    "start_time": "2023-05-10T08:27:09.545Z"
   },
   {
    "duration": 7,
    "start_time": "2023-05-10T08:30:08.843Z"
   },
   {
    "duration": 8,
    "start_time": "2023-05-10T08:30:11.451Z"
   },
   {
    "duration": 10519,
    "start_time": "2023-05-10T08:30:11.615Z"
   },
   {
    "duration": 4,
    "start_time": "2023-05-10T08:34:50.036Z"
   },
   {
    "duration": 5109,
    "start_time": "2023-05-10T08:34:51.979Z"
   },
   {
    "duration": 11827,
    "start_time": "2023-05-10T08:35:22.358Z"
   },
   {
    "duration": 5146,
    "start_time": "2023-05-10T08:35:43.736Z"
   },
   {
    "duration": 8,
    "start_time": "2023-05-10T08:35:54.055Z"
   },
   {
    "duration": 6,
    "start_time": "2023-05-10T08:35:57.893Z"
   },
   {
    "duration": 4,
    "start_time": "2023-05-10T08:37:51.751Z"
   },
   {
    "duration": 4,
    "start_time": "2023-05-10T08:38:28.521Z"
   },
   {
    "duration": 103694,
    "start_time": "2023-05-10T08:38:29.652Z"
   },
   {
    "duration": 10,
    "start_time": "2023-05-10T08:41:54.840Z"
   },
   {
    "duration": 4,
    "start_time": "2023-05-10T08:42:12.125Z"
   },
   {
    "duration": 87827,
    "start_time": "2023-05-10T08:42:12.819Z"
   },
   {
    "duration": 9,
    "start_time": "2023-05-10T08:43:40.648Z"
   },
   {
    "duration": 5,
    "start_time": "2023-05-10T09:16:44.541Z"
   },
   {
    "duration": 44,
    "start_time": "2023-05-10T09:16:45.745Z"
   },
   {
    "duration": 5,
    "start_time": "2023-05-10T09:16:46.848Z"
   },
   {
    "duration": 6,
    "start_time": "2023-05-10T09:16:51.634Z"
   },
   {
    "duration": 60,
    "start_time": "2023-05-10T09:16:52.741Z"
   },
   {
    "duration": 6,
    "start_time": "2023-05-10T09:19:09.956Z"
   },
   {
    "duration": 10,
    "start_time": "2023-05-10T09:19:17.388Z"
   },
   {
    "duration": 64,
    "start_time": "2023-05-10T09:19:18.638Z"
   },
   {
    "duration": 5,
    "start_time": "2023-05-10T09:19:20.761Z"
   },
   {
    "duration": 194,
    "start_time": "2023-05-10T09:19:25.137Z"
   },
   {
    "duration": 7,
    "start_time": "2023-05-10T09:19:30.131Z"
   },
   {
    "duration": 4,
    "start_time": "2023-05-10T09:19:30.957Z"
   },
   {
    "duration": 1340,
    "start_time": "2023-05-10T09:19:32.207Z"
   },
   {
    "duration": 18063,
    "start_time": "2023-05-10T09:19:50.127Z"
   },
   {
    "duration": 7,
    "start_time": "2023-05-10T09:20:30.749Z"
   },
   {
    "duration": 17030,
    "start_time": "2023-05-10T09:21:07.776Z"
   },
   {
    "duration": 16251,
    "start_time": "2023-05-10T09:21:34.029Z"
   },
   {
    "duration": 6,
    "start_time": "2023-05-10T09:21:50.282Z"
   },
   {
    "duration": 4,
    "start_time": "2023-05-10T09:22:01.877Z"
   },
   {
    "duration": 3,
    "start_time": "2023-05-10T09:22:24.866Z"
   },
   {
    "duration": 7,
    "start_time": "2023-05-10T09:22:28.372Z"
   },
   {
    "duration": 12,
    "start_time": "2023-05-10T09:22:37.449Z"
   },
   {
    "duration": 11,
    "start_time": "2023-05-10T09:23:27.019Z"
   },
   {
    "duration": 7,
    "start_time": "2023-05-10T09:23:46.033Z"
   },
   {
    "duration": 4,
    "start_time": "2023-05-10T09:23:50.547Z"
   },
   {
    "duration": 2671,
    "start_time": "2023-05-10T09:34:50.766Z"
   },
   {
    "duration": 3571,
    "start_time": "2023-05-10T09:34:53.440Z"
   },
   {
    "duration": 4,
    "start_time": "2023-05-10T09:34:57.013Z"
   },
   {
    "duration": 1016,
    "start_time": "2023-05-10T09:34:57.019Z"
   },
   {
    "duration": 13,
    "start_time": "2023-05-10T09:34:58.038Z"
   },
   {
    "duration": 3,
    "start_time": "2023-05-10T09:34:58.053Z"
   },
   {
    "duration": 58,
    "start_time": "2023-05-10T09:34:58.059Z"
   },
   {
    "duration": 30,
    "start_time": "2023-05-10T09:34:58.119Z"
   },
   {
    "duration": 263,
    "start_time": "2023-05-10T09:34:58.151Z"
   },
   {
    "duration": 10,
    "start_time": "2023-05-10T09:34:58.416Z"
   },
   {
    "duration": 7,
    "start_time": "2023-05-10T09:34:58.429Z"
   },
   {
    "duration": 5,
    "start_time": "2023-05-10T09:34:58.438Z"
   },
   {
    "duration": 93202,
    "start_time": "2023-05-10T09:34:58.446Z"
   },
   {
    "duration": 10,
    "start_time": "2023-05-10T09:36:31.653Z"
   },
   {
    "duration": 37,
    "start_time": "2023-05-10T09:36:31.665Z"
   },
   {
    "duration": 61,
    "start_time": "2023-05-10T09:36:31.708Z"
   },
   {
    "duration": 5,
    "start_time": "2023-05-10T09:36:31.771Z"
   },
   {
    "duration": 37,
    "start_time": "2023-05-10T09:36:31.778Z"
   },
   {
    "duration": 81,
    "start_time": "2023-05-10T09:36:31.816Z"
   },
   {
    "duration": 4,
    "start_time": "2023-05-10T09:36:31.898Z"
   },
   {
    "duration": 260,
    "start_time": "2023-05-10T09:36:31.913Z"
   },
   {
    "duration": 6,
    "start_time": "2023-05-10T09:36:32.175Z"
   },
   {
    "duration": 12,
    "start_time": "2023-05-10T09:36:32.183Z"
   },
   {
    "duration": 16122,
    "start_time": "2023-05-10T09:36:32.206Z"
   },
   {
    "duration": 8,
    "start_time": "2023-05-10T09:36:48.330Z"
   },
   {
    "duration": 10,
    "start_time": "2023-05-10T09:36:48.339Z"
   },
   {
    "duration": 10,
    "start_time": "2023-05-10T09:36:48.351Z"
   },
   {
    "duration": 9,
    "start_time": "2023-05-10T09:36:48.363Z"
   },
   {
    "duration": 15,
    "start_time": "2023-05-10T09:36:48.374Z"
   },
   {
    "duration": 2297,
    "start_time": "2023-05-10T09:52:04.165Z"
   },
   {
    "duration": 3366,
    "start_time": "2023-05-10T09:52:06.465Z"
   },
   {
    "duration": 5,
    "start_time": "2023-05-10T09:52:09.833Z"
   },
   {
    "duration": 889,
    "start_time": "2023-05-10T09:52:09.839Z"
   },
   {
    "duration": 18,
    "start_time": "2023-05-10T09:52:10.730Z"
   },
   {
    "duration": 12,
    "start_time": "2023-05-10T09:52:10.749Z"
   },
   {
    "duration": 59,
    "start_time": "2023-05-10T09:52:10.763Z"
   },
   {
    "duration": 30,
    "start_time": "2023-05-10T09:52:10.832Z"
   },
   {
    "duration": 283,
    "start_time": "2023-05-10T09:52:10.863Z"
   },
   {
    "duration": 9,
    "start_time": "2023-05-10T09:52:11.148Z"
   },
   {
    "duration": 12,
    "start_time": "2023-05-10T09:52:11.159Z"
   },
   {
    "duration": 26,
    "start_time": "2023-05-10T09:52:11.172Z"
   },
   {
    "duration": 97445,
    "start_time": "2023-05-10T09:52:11.200Z"
   },
   {
    "duration": 13,
    "start_time": "2023-05-10T09:53:48.650Z"
   },
   {
    "duration": 18,
    "start_time": "2023-05-10T09:53:48.665Z"
   },
   {
    "duration": 72,
    "start_time": "2023-05-10T09:53:48.686Z"
   },
   {
    "duration": 6,
    "start_time": "2023-05-10T09:53:48.760Z"
   },
   {
    "duration": 12,
    "start_time": "2023-05-10T09:53:48.768Z"
   },
   {
    "duration": 86,
    "start_time": "2023-05-10T09:53:48.784Z"
   },
   {
    "duration": 5,
    "start_time": "2023-05-10T09:53:48.872Z"
   },
   {
    "duration": 306,
    "start_time": "2023-05-10T09:53:48.879Z"
   },
   {
    "duration": 6,
    "start_time": "2023-05-10T09:53:49.186Z"
   },
   {
    "duration": 12,
    "start_time": "2023-05-10T09:53:49.193Z"
   },
   {
    "duration": 15658,
    "start_time": "2023-05-10T09:53:49.206Z"
   },
   {
    "duration": 4,
    "start_time": "2023-05-10T09:54:04.866Z"
   },
   {
    "duration": 7,
    "start_time": "2023-05-10T09:54:04.871Z"
   },
   {
    "duration": 23,
    "start_time": "2023-05-10T09:54:04.879Z"
   },
   {
    "duration": 6,
    "start_time": "2023-05-10T09:54:04.904Z"
   },
   {
    "duration": 2,
    "start_time": "2023-05-10T09:54:04.912Z"
   },
   {
    "duration": 507369,
    "start_time": "2023-05-10T09:54:04.917Z"
   },
   {
    "duration": 2561,
    "start_time": "2023-05-10T10:13:18.971Z"
   },
   {
    "duration": 3611,
    "start_time": "2023-05-10T10:13:21.535Z"
   },
   {
    "duration": 6,
    "start_time": "2023-05-10T10:13:25.148Z"
   },
   {
    "duration": 872,
    "start_time": "2023-05-10T10:13:25.155Z"
   },
   {
    "duration": 11,
    "start_time": "2023-05-10T10:13:26.030Z"
   },
   {
    "duration": 4,
    "start_time": "2023-05-10T10:13:26.042Z"
   },
   {
    "duration": 46,
    "start_time": "2023-05-10T10:13:26.049Z"
   },
   {
    "duration": 33,
    "start_time": "2023-05-10T10:13:26.101Z"
   },
   {
    "duration": 248,
    "start_time": "2023-05-10T10:13:26.136Z"
   },
   {
    "duration": 28,
    "start_time": "2023-05-10T10:13:26.386Z"
   },
   {
    "duration": 11,
    "start_time": "2023-05-10T10:13:26.427Z"
   },
   {
    "duration": 5,
    "start_time": "2023-05-10T10:13:26.441Z"
   },
   {
    "duration": 108353,
    "start_time": "2023-05-10T10:13:26.448Z"
   },
   {
    "duration": 14,
    "start_time": "2023-05-10T10:15:14.811Z"
   },
   {
    "duration": 11,
    "start_time": "2023-05-10T10:15:14.831Z"
   },
   {
    "duration": 64,
    "start_time": "2023-05-10T10:15:14.851Z"
   },
   {
    "duration": 6,
    "start_time": "2023-05-10T10:15:14.919Z"
   },
   {
    "duration": 20,
    "start_time": "2023-05-10T10:15:14.928Z"
   },
   {
    "duration": 70,
    "start_time": "2023-05-10T10:15:14.950Z"
   },
   {
    "duration": 8,
    "start_time": "2023-05-10T10:15:15.022Z"
   },
   {
    "duration": 242,
    "start_time": "2023-05-10T10:15:15.032Z"
   },
   {
    "duration": 5,
    "start_time": "2023-05-10T10:15:15.276Z"
   },
   {
    "duration": 6,
    "start_time": "2023-05-10T10:15:15.283Z"
   },
   {
    "duration": 18564,
    "start_time": "2023-05-10T10:15:15.290Z"
   },
   {
    "duration": 4,
    "start_time": "2023-05-10T10:15:33.862Z"
   },
   {
    "duration": 18,
    "start_time": "2023-05-10T10:15:33.868Z"
   },
   {
    "duration": 10,
    "start_time": "2023-05-10T10:15:33.888Z"
   },
   {
    "duration": 13,
    "start_time": "2023-05-10T10:15:33.902Z"
   },
   {
    "duration": 24,
    "start_time": "2023-05-10T10:15:33.918Z"
   },
   {
    "duration": 4,
    "start_time": "2023-05-10T10:20:19.384Z"
   },
   {
    "duration": 2658,
    "start_time": "2023-05-10T10:20:30.291Z"
   },
   {
    "duration": 2937,
    "start_time": "2023-05-10T10:20:32.951Z"
   },
   {
    "duration": 17,
    "start_time": "2023-05-10T10:20:35.889Z"
   },
   {
    "duration": 874,
    "start_time": "2023-05-10T10:20:35.909Z"
   },
   {
    "duration": 14,
    "start_time": "2023-05-10T10:20:36.784Z"
   },
   {
    "duration": 11,
    "start_time": "2023-05-10T10:20:36.803Z"
   },
   {
    "duration": 48,
    "start_time": "2023-05-10T10:20:36.817Z"
   },
   {
    "duration": 33,
    "start_time": "2023-05-10T10:20:36.874Z"
   },
   {
    "duration": 251,
    "start_time": "2023-05-10T10:20:36.908Z"
   },
   {
    "duration": 9,
    "start_time": "2023-05-10T10:20:37.162Z"
   },
   {
    "duration": 31,
    "start_time": "2023-05-10T10:20:37.172Z"
   },
   {
    "duration": 4,
    "start_time": "2023-05-10T10:20:37.208Z"
   },
   {
    "duration": 121187,
    "start_time": "2023-05-10T10:20:37.214Z"
   },
   {
    "duration": 20,
    "start_time": "2023-05-10T10:22:38.409Z"
   },
   {
    "duration": 8,
    "start_time": "2023-05-10T10:22:38.432Z"
   },
   {
    "duration": 51,
    "start_time": "2023-05-10T10:22:38.445Z"
   },
   {
    "duration": 7,
    "start_time": "2023-05-10T10:22:38.498Z"
   },
   {
    "duration": 7,
    "start_time": "2023-05-10T10:22:38.507Z"
   },
   {
    "duration": 95,
    "start_time": "2023-05-10T10:22:38.516Z"
   },
   {
    "duration": 5,
    "start_time": "2023-05-10T10:22:38.613Z"
   },
   {
    "duration": 167,
    "start_time": "2023-05-10T10:22:38.620Z"
   },
   {
    "duration": 10,
    "start_time": "2023-05-10T10:22:38.789Z"
   },
   {
    "duration": 26,
    "start_time": "2023-05-10T10:22:38.806Z"
   },
   {
    "duration": 16393,
    "start_time": "2023-05-10T10:22:38.835Z"
   },
   {
    "duration": 5,
    "start_time": "2023-05-10T10:22:55.230Z"
   },
   {
    "duration": 8,
    "start_time": "2023-05-10T10:22:55.237Z"
   },
   {
    "duration": 11,
    "start_time": "2023-05-10T10:22:55.247Z"
   },
   {
    "duration": 16,
    "start_time": "2023-05-10T10:22:55.262Z"
   },
   {
    "duration": 12,
    "start_time": "2023-05-10T10:22:55.279Z"
   },
   {
    "duration": 22,
    "start_time": "2023-05-10T10:27:14.889Z"
   },
   {
    "duration": 83,
    "start_time": "2023-05-10T10:27:15.352Z"
   },
   {
    "duration": 2859,
    "start_time": "2023-05-10T10:27:26.522Z"
   },
   {
    "duration": 3942,
    "start_time": "2023-05-10T10:27:29.384Z"
   },
   {
    "duration": 4,
    "start_time": "2023-05-10T10:27:33.328Z"
   },
   {
    "duration": 963,
    "start_time": "2023-05-10T10:27:33.334Z"
   },
   {
    "duration": 13,
    "start_time": "2023-05-10T10:27:34.300Z"
   },
   {
    "duration": 9,
    "start_time": "2023-05-10T10:27:34.320Z"
   },
   {
    "duration": 56,
    "start_time": "2023-05-10T10:27:34.332Z"
   },
   {
    "duration": 77,
    "start_time": "2023-05-10T10:27:34.391Z"
   },
   {
    "duration": 351,
    "start_time": "2023-05-10T10:27:34.470Z"
   },
   {
    "duration": 10,
    "start_time": "2023-05-10T10:27:34.823Z"
   },
   {
    "duration": 17,
    "start_time": "2023-05-10T10:27:34.835Z"
   },
   {
    "duration": 5,
    "start_time": "2023-05-10T10:27:34.854Z"
   },
   {
    "duration": 125406,
    "start_time": "2023-05-10T10:27:34.864Z"
   },
   {
    "duration": 12,
    "start_time": "2023-05-10T10:29:40.274Z"
   },
   {
    "duration": 14,
    "start_time": "2023-05-10T10:29:40.289Z"
   },
   {
    "duration": 73,
    "start_time": "2023-05-10T10:29:40.306Z"
   },
   {
    "duration": 5,
    "start_time": "2023-05-10T10:29:40.381Z"
   },
   {
    "duration": 15,
    "start_time": "2023-05-10T10:29:40.388Z"
   },
   {
    "duration": 94,
    "start_time": "2023-05-10T10:29:40.405Z"
   },
   {
    "duration": 4,
    "start_time": "2023-05-10T10:29:40.504Z"
   },
   {
    "duration": 304,
    "start_time": "2023-05-10T10:29:40.510Z"
   },
   {
    "duration": 5,
    "start_time": "2023-05-10T10:29:40.818Z"
   },
   {
    "duration": 9,
    "start_time": "2023-05-10T10:29:40.829Z"
   },
   {
    "duration": 20855,
    "start_time": "2023-05-10T10:29:40.841Z"
   },
   {
    "duration": 5,
    "start_time": "2023-05-10T10:30:01.697Z"
   },
   {
    "duration": 56,
    "start_time": "2023-05-10T10:30:01.703Z"
   },
   {
    "duration": 52,
    "start_time": "2023-05-10T10:30:01.763Z"
   },
   {
    "duration": 85,
    "start_time": "2023-05-10T10:30:01.819Z"
   },
   {
    "duration": 106,
    "start_time": "2023-05-10T10:30:01.906Z"
   },
   {
    "duration": 9929,
    "start_time": "2023-05-10T10:30:02.014Z"
   },
   {
    "duration": 0,
    "start_time": "2023-05-10T10:30:11.953Z"
   },
   {
    "duration": 0,
    "start_time": "2023-05-10T10:30:11.958Z"
   },
   {
    "duration": 4,
    "start_time": "2023-05-10T10:30:44.211Z"
   },
   {
    "duration": 3,
    "start_time": "2023-05-10T10:30:47.148Z"
   },
   {
    "duration": 247666,
    "start_time": "2023-05-10T10:30:49.918Z"
   },
   {
    "duration": 7,
    "start_time": "2023-05-10T10:35:10.426Z"
   },
   {
    "duration": 15198,
    "start_time": "2023-05-10T10:35:11.136Z"
   },
   {
    "duration": 0,
    "start_time": "2023-05-10T10:35:26.336Z"
   },
   {
    "duration": 4,
    "start_time": "2023-05-10T10:35:28.468Z"
   },
   {
    "duration": 2283,
    "start_time": "2023-05-10T10:40:26.719Z"
   },
   {
    "duration": 3176,
    "start_time": "2023-05-10T10:40:29.005Z"
   },
   {
    "duration": 4,
    "start_time": "2023-05-10T10:40:32.183Z"
   },
   {
    "duration": 967,
    "start_time": "2023-05-10T10:40:32.196Z"
   },
   {
    "duration": 10,
    "start_time": "2023-05-10T10:40:33.166Z"
   },
   {
    "duration": 26,
    "start_time": "2023-05-10T10:40:33.178Z"
   },
   {
    "duration": 35,
    "start_time": "2023-05-10T10:40:33.214Z"
   },
   {
    "duration": 29,
    "start_time": "2023-05-10T10:40:33.251Z"
   },
   {
    "duration": 255,
    "start_time": "2023-05-10T10:40:33.282Z"
   },
   {
    "duration": 12,
    "start_time": "2023-05-10T10:40:33.538Z"
   },
   {
    "duration": 8,
    "start_time": "2023-05-10T10:40:33.552Z"
   },
   {
    "duration": 5,
    "start_time": "2023-05-10T10:40:33.562Z"
   },
   {
    "duration": 84514,
    "start_time": "2023-05-10T10:40:33.569Z"
   },
   {
    "duration": 28,
    "start_time": "2023-05-10T10:41:58.086Z"
   },
   {
    "duration": 12,
    "start_time": "2023-05-10T10:41:58.115Z"
   },
   {
    "duration": 39,
    "start_time": "2023-05-10T10:41:58.129Z"
   },
   {
    "duration": 5,
    "start_time": "2023-05-10T10:41:58.170Z"
   },
   {
    "duration": 13,
    "start_time": "2023-05-10T10:41:58.177Z"
   },
   {
    "duration": 72,
    "start_time": "2023-05-10T10:41:58.202Z"
   },
   {
    "duration": 4,
    "start_time": "2023-05-10T10:41:58.277Z"
   },
   {
    "duration": 228,
    "start_time": "2023-05-10T10:41:58.283Z"
   },
   {
    "duration": 8,
    "start_time": "2023-05-10T10:41:58.513Z"
   },
   {
    "duration": 8,
    "start_time": "2023-05-10T10:41:58.523Z"
   },
   {
    "duration": 14998,
    "start_time": "2023-05-10T10:41:58.533Z"
   },
   {
    "duration": 5,
    "start_time": "2023-05-10T10:42:13.533Z"
   },
   {
    "duration": 7,
    "start_time": "2023-05-10T10:42:13.539Z"
   },
   {
    "duration": 5,
    "start_time": "2023-05-10T10:42:13.548Z"
   },
   {
    "duration": 6,
    "start_time": "2023-05-10T10:42:13.556Z"
   },
   {
    "duration": 32,
    "start_time": "2023-05-10T10:42:13.563Z"
   },
   {
    "duration": 2369,
    "start_time": "2023-05-10T11:27:12.391Z"
   },
   {
    "duration": 3126,
    "start_time": "2023-05-10T11:27:14.763Z"
   },
   {
    "duration": 12,
    "start_time": "2023-05-10T11:27:17.898Z"
   },
   {
    "duration": 946,
    "start_time": "2023-05-10T11:27:17.912Z"
   },
   {
    "duration": 11,
    "start_time": "2023-05-10T11:27:18.861Z"
   },
   {
    "duration": 27,
    "start_time": "2023-05-10T11:27:18.874Z"
   },
   {
    "duration": 37,
    "start_time": "2023-05-10T11:27:18.903Z"
   },
   {
    "duration": 27,
    "start_time": "2023-05-10T11:27:18.941Z"
   },
   {
    "duration": 260,
    "start_time": "2023-05-10T11:27:18.970Z"
   },
   {
    "duration": 8,
    "start_time": "2023-05-10T11:27:19.232Z"
   },
   {
    "duration": 7,
    "start_time": "2023-05-10T11:27:19.242Z"
   },
   {
    "duration": 5,
    "start_time": "2023-05-10T11:27:19.251Z"
   },
   {
    "duration": 100063,
    "start_time": "2023-05-10T11:27:19.258Z"
   },
   {
    "duration": 11,
    "start_time": "2023-05-10T11:28:59.331Z"
   },
   {
    "duration": 11,
    "start_time": "2023-05-10T11:28:59.344Z"
   },
   {
    "duration": 33,
    "start_time": "2023-05-10T11:28:59.356Z"
   },
   {
    "duration": 10,
    "start_time": "2023-05-10T11:28:59.391Z"
   },
   {
    "duration": 6,
    "start_time": "2023-05-10T11:28:59.402Z"
   },
   {
    "duration": 61,
    "start_time": "2023-05-10T11:28:59.410Z"
   },
   {
    "duration": 3,
    "start_time": "2023-05-10T11:28:59.473Z"
   },
   {
    "duration": 225,
    "start_time": "2023-05-10T11:28:59.477Z"
   },
   {
    "duration": 7,
    "start_time": "2023-05-10T11:28:59.704Z"
   },
   {
    "duration": 11,
    "start_time": "2023-05-10T11:28:59.713Z"
   },
   {
    "duration": 17027,
    "start_time": "2023-05-10T11:28:59.727Z"
   },
   {
    "duration": 5,
    "start_time": "2023-05-10T11:29:16.757Z"
   },
   {
    "duration": 32,
    "start_time": "2023-05-10T11:29:16.764Z"
   },
   {
    "duration": 8,
    "start_time": "2023-05-10T11:29:16.798Z"
   },
   {
    "duration": 41,
    "start_time": "2023-05-10T11:29:16.808Z"
   },
   {
    "duration": 28,
    "start_time": "2023-05-10T11:29:16.851Z"
   },
   {
    "duration": 2380,
    "start_time": "2023-05-10T11:35:06.221Z"
   },
   {
    "duration": 3620,
    "start_time": "2023-05-10T11:35:08.607Z"
   },
   {
    "duration": 4,
    "start_time": "2023-05-10T11:35:12.228Z"
   },
   {
    "duration": 909,
    "start_time": "2023-05-10T11:35:12.234Z"
   },
   {
    "duration": 11,
    "start_time": "2023-05-10T11:35:13.146Z"
   },
   {
    "duration": 13,
    "start_time": "2023-05-10T11:35:13.159Z"
   },
   {
    "duration": 53,
    "start_time": "2023-05-10T11:35:13.174Z"
   },
   {
    "duration": 33,
    "start_time": "2023-05-10T11:35:13.229Z"
   },
   {
    "duration": 293,
    "start_time": "2023-05-10T11:35:13.264Z"
   },
   {
    "duration": 10,
    "start_time": "2023-05-10T11:35:13.559Z"
   },
   {
    "duration": 12,
    "start_time": "2023-05-10T11:35:13.570Z"
   },
   {
    "duration": 21,
    "start_time": "2023-05-10T11:35:13.584Z"
   },
   {
    "duration": 2090,
    "start_time": "2023-05-10T11:35:27.816Z"
   },
   {
    "duration": 3176,
    "start_time": "2023-05-10T11:35:29.909Z"
   },
   {
    "duration": 13,
    "start_time": "2023-05-10T11:35:33.087Z"
   },
   {
    "duration": 808,
    "start_time": "2023-05-10T11:35:33.102Z"
   },
   {
    "duration": 14,
    "start_time": "2023-05-10T11:35:33.912Z"
   },
   {
    "duration": 7,
    "start_time": "2023-05-10T11:35:33.928Z"
   },
   {
    "duration": 48,
    "start_time": "2023-05-10T11:35:33.937Z"
   },
   {
    "duration": 32,
    "start_time": "2023-05-10T11:35:33.987Z"
   },
   {
    "duration": 233,
    "start_time": "2023-05-10T11:35:34.020Z"
   },
   {
    "duration": 8,
    "start_time": "2023-05-10T11:35:34.255Z"
   },
   {
    "duration": 13,
    "start_time": "2023-05-10T11:35:34.265Z"
   },
   {
    "duration": 23,
    "start_time": "2023-05-10T11:35:34.280Z"
   },
   {
    "duration": 81976,
    "start_time": "2023-05-10T11:35:34.307Z"
   },
   {
    "duration": 9,
    "start_time": "2023-05-10T11:36:56.287Z"
   },
   {
    "duration": 23,
    "start_time": "2023-05-10T11:36:56.299Z"
   },
   {
    "duration": 31,
    "start_time": "2023-05-10T11:36:56.326Z"
   },
   {
    "duration": 4,
    "start_time": "2023-05-10T11:36:56.360Z"
   },
   {
    "duration": 12,
    "start_time": "2023-05-10T11:36:56.365Z"
   },
   {
    "duration": 80,
    "start_time": "2023-05-10T11:36:56.379Z"
   },
   {
    "duration": 4,
    "start_time": "2023-05-10T11:36:56.461Z"
   },
   {
    "duration": 267,
    "start_time": "2023-05-10T11:36:56.467Z"
   },
   {
    "duration": 5,
    "start_time": "2023-05-10T11:36:56.735Z"
   },
   {
    "duration": 6,
    "start_time": "2023-05-10T11:36:56.741Z"
   },
   {
    "duration": 14148,
    "start_time": "2023-05-10T11:36:56.749Z"
   },
   {
    "duration": 4,
    "start_time": "2023-05-10T11:37:10.905Z"
   },
   {
    "duration": 23,
    "start_time": "2023-05-10T11:37:10.911Z"
   },
   {
    "duration": 14,
    "start_time": "2023-05-10T11:37:10.936Z"
   },
   {
    "duration": 30,
    "start_time": "2023-05-10T11:37:10.952Z"
   },
   {
    "duration": 24,
    "start_time": "2023-05-10T11:37:10.984Z"
   },
   {
    "duration": 332401,
    "start_time": "2023-05-10T11:37:11.010Z"
   },
   {
    "duration": 19,
    "start_time": "2023-05-10T11:44:24.037Z"
   },
   {
    "duration": 327484,
    "start_time": "2023-05-10T11:44:31.411Z"
   },
   {
    "duration": 45,
    "start_time": "2023-05-10T11:50:55.648Z"
   },
   {
    "duration": 4,
    "start_time": "2023-05-10T11:51:07.926Z"
   },
   {
    "duration": 431189,
    "start_time": "2023-05-10T11:51:09.473Z"
   },
   {
    "duration": 3,
    "start_time": "2023-05-10T12:01:55.787Z"
   },
   {
    "duration": 392695,
    "start_time": "2023-05-10T12:01:56.562Z"
   },
   {
    "duration": 4,
    "start_time": "2023-05-10T12:17:00.345Z"
   },
   {
    "duration": 4663121,
    "start_time": "2023-05-10T12:17:01.225Z"
   },
   {
    "duration": 0,
    "start_time": "2023-05-10T13:34:44.348Z"
   },
   {
    "duration": 0,
    "start_time": "2023-05-10T13:34:44.350Z"
   },
   {
    "duration": 3822,
    "start_time": "2023-05-10T13:34:57.725Z"
   },
   {
    "duration": 8911,
    "start_time": "2023-05-10T13:35:01.550Z"
   },
   {
    "duration": 7,
    "start_time": "2023-05-10T13:35:10.463Z"
   },
   {
    "duration": 4017,
    "start_time": "2023-05-10T13:35:10.472Z"
   },
   {
    "duration": 23,
    "start_time": "2023-05-10T13:35:14.491Z"
   },
   {
    "duration": 13,
    "start_time": "2023-05-10T13:35:14.518Z"
   },
   {
    "duration": 48,
    "start_time": "2023-05-10T13:35:14.533Z"
   },
   {
    "duration": 38,
    "start_time": "2023-05-10T13:35:14.583Z"
   },
   {
    "duration": 241,
    "start_time": "2023-05-10T13:35:14.623Z"
   },
   {
    "duration": 8,
    "start_time": "2023-05-10T13:35:14.867Z"
   },
   {
    "duration": 30,
    "start_time": "2023-05-10T13:35:14.876Z"
   },
   {
    "duration": 16,
    "start_time": "2023-05-10T13:35:14.907Z"
   },
   {
    "duration": 88149,
    "start_time": "2023-05-10T13:35:14.925Z"
   },
   {
    "duration": 10,
    "start_time": "2023-05-10T13:36:43.077Z"
   },
   {
    "duration": 12,
    "start_time": "2023-05-10T13:36:43.098Z"
   },
   {
    "duration": 47,
    "start_time": "2023-05-10T13:36:43.115Z"
   },
   {
    "duration": 5,
    "start_time": "2023-05-10T13:36:43.164Z"
   },
   {
    "duration": 19,
    "start_time": "2023-05-10T13:36:43.170Z"
   },
   {
    "duration": 86,
    "start_time": "2023-05-10T13:36:43.193Z"
   },
   {
    "duration": 4,
    "start_time": "2023-05-10T13:36:43.281Z"
   },
   {
    "duration": 308,
    "start_time": "2023-05-10T13:36:43.287Z"
   },
   {
    "duration": 18,
    "start_time": "2023-05-10T13:36:43.597Z"
   },
   {
    "duration": 4,
    "start_time": "2023-05-10T13:36:43.617Z"
   },
   {
    "duration": 15029,
    "start_time": "2023-05-10T13:36:43.622Z"
   },
   {
    "duration": 4,
    "start_time": "2023-05-10T13:36:58.653Z"
   },
   {
    "duration": 5,
    "start_time": "2023-05-10T13:36:58.660Z"
   },
   {
    "duration": 8,
    "start_time": "2023-05-10T13:36:58.667Z"
   },
   {
    "duration": 13,
    "start_time": "2023-05-10T13:36:58.704Z"
   },
   {
    "duration": 3825,
    "start_time": "2023-05-12T14:56:29.447Z"
   },
   {
    "duration": 3569,
    "start_time": "2023-05-12T14:56:33.275Z"
   },
   {
    "duration": 4,
    "start_time": "2023-05-12T14:56:36.846Z"
   },
   {
    "duration": 2360,
    "start_time": "2023-05-12T14:56:36.852Z"
   },
   {
    "duration": 13,
    "start_time": "2023-05-12T14:56:39.215Z"
   },
   {
    "duration": 5,
    "start_time": "2023-05-12T14:56:39.230Z"
   },
   {
    "duration": 39,
    "start_time": "2023-05-12T14:56:39.237Z"
   },
   {
    "duration": 50,
    "start_time": "2023-05-12T14:56:39.278Z"
   },
   {
    "duration": 239,
    "start_time": "2023-05-12T14:56:39.330Z"
   },
   {
    "duration": 8,
    "start_time": "2023-05-12T14:56:39.572Z"
   },
   {
    "duration": 6,
    "start_time": "2023-05-12T14:56:39.582Z"
   },
   {
    "duration": 3,
    "start_time": "2023-05-12T14:56:39.590Z"
   },
   {
    "duration": 75659,
    "start_time": "2023-05-12T14:56:39.595Z"
   },
   {
    "duration": 9,
    "start_time": "2023-05-12T14:57:55.258Z"
   },
   {
    "duration": 14,
    "start_time": "2023-05-12T14:57:55.269Z"
   },
   {
    "duration": 42,
    "start_time": "2023-05-12T14:57:55.284Z"
   },
   {
    "duration": 4,
    "start_time": "2023-05-12T14:57:55.328Z"
   },
   {
    "duration": 8,
    "start_time": "2023-05-12T14:57:55.333Z"
   },
   {
    "duration": 56,
    "start_time": "2023-05-12T14:57:55.343Z"
   },
   {
    "duration": 4,
    "start_time": "2023-05-12T14:57:55.401Z"
   },
   {
    "duration": 168,
    "start_time": "2023-05-12T14:57:55.406Z"
   },
   {
    "duration": 4,
    "start_time": "2023-05-12T14:57:55.576Z"
   },
   {
    "duration": 9,
    "start_time": "2023-05-12T14:57:55.582Z"
   },
   {
    "duration": 2174,
    "start_time": "2023-05-12T14:58:10.639Z"
   },
   {
    "duration": 3169,
    "start_time": "2023-05-12T14:58:12.816Z"
   },
   {
    "duration": 5,
    "start_time": "2023-05-12T14:58:15.986Z"
   },
   {
    "duration": 896,
    "start_time": "2023-05-12T14:58:15.992Z"
   },
   {
    "duration": 11,
    "start_time": "2023-05-12T14:58:16.891Z"
   },
   {
    "duration": 19,
    "start_time": "2023-05-12T14:58:16.904Z"
   },
   {
    "duration": 35,
    "start_time": "2023-05-12T14:58:16.926Z"
   },
   {
    "duration": 35,
    "start_time": "2023-05-12T14:58:16.963Z"
   },
   {
    "duration": 281,
    "start_time": "2023-05-12T14:58:17.000Z"
   },
   {
    "duration": 11,
    "start_time": "2023-05-12T14:58:17.283Z"
   },
   {
    "duration": 9,
    "start_time": "2023-05-12T14:58:17.296Z"
   },
   {
    "duration": 4,
    "start_time": "2023-05-12T14:58:17.325Z"
   },
   {
    "duration": 81417,
    "start_time": "2023-05-12T14:58:17.331Z"
   },
   {
    "duration": 8,
    "start_time": "2023-05-12T14:59:38.750Z"
   },
   {
    "duration": 25,
    "start_time": "2023-05-12T14:59:38.760Z"
   },
   {
    "duration": 42,
    "start_time": "2023-05-12T14:59:38.787Z"
   },
   {
    "duration": 4,
    "start_time": "2023-05-12T14:59:38.830Z"
   },
   {
    "duration": 31,
    "start_time": "2023-05-12T14:59:38.835Z"
   },
   {
    "duration": 68,
    "start_time": "2023-05-12T14:59:38.867Z"
   },
   {
    "duration": 5,
    "start_time": "2023-05-12T14:59:38.937Z"
   },
   {
    "duration": 141,
    "start_time": "2023-05-12T14:59:38.943Z"
   },
   {
    "duration": 4,
    "start_time": "2023-05-12T14:59:39.086Z"
   },
   {
    "duration": 9,
    "start_time": "2023-05-12T14:59:39.091Z"
   },
   {
    "duration": 12663,
    "start_time": "2023-05-12T14:59:39.102Z"
   },
   {
    "duration": 4,
    "start_time": "2023-05-12T14:59:51.766Z"
   },
   {
    "duration": 19,
    "start_time": "2023-05-12T14:59:51.772Z"
   },
   {
    "duration": 6,
    "start_time": "2023-05-12T15:00:35.227Z"
   },
   {
    "duration": 6,
    "start_time": "2023-05-12T15:00:40.007Z"
   },
   {
    "duration": 3,
    "start_time": "2023-05-12T15:03:23.000Z"
   },
   {
    "duration": 519479,
    "start_time": "2023-05-12T15:03:25.862Z"
   },
   {
    "duration": 3,
    "start_time": "2023-05-12T15:12:49.245Z"
   },
   {
    "duration": 174163,
    "start_time": "2023-05-12T15:12:49.830Z"
   },
   {
    "duration": 3,
    "start_time": "2023-05-12T15:15:59.531Z"
   },
   {
    "duration": 4,
    "start_time": "2023-05-12T15:16:10.239Z"
   },
   {
    "duration": 695674,
    "start_time": "2023-05-12T15:16:11.128Z"
   },
   {
    "duration": 3,
    "start_time": "2023-05-12T15:39:08.250Z"
   },
   {
    "duration": 346721,
    "start_time": "2023-05-12T15:39:09.263Z"
   },
   {
    "duration": 4,
    "start_time": "2023-05-12T15:48:11.930Z"
   },
   {
    "duration": 336544,
    "start_time": "2023-05-12T15:48:13.062Z"
   },
   {
    "duration": 3,
    "start_time": "2023-05-12T15:53:49.608Z"
   },
   {
    "duration": 296612,
    "start_time": "2023-05-12T15:53:49.613Z"
   },
   {
    "duration": 3,
    "start_time": "2023-05-12T16:03:15.215Z"
   },
   {
    "duration": 80154,
    "start_time": "2023-05-12T16:03:15.825Z"
   },
   {
    "duration": 4,
    "start_time": "2023-05-12T16:04:38.720Z"
   },
   {
    "duration": 2024793,
    "start_time": "2023-05-12T16:04:39.243Z"
   },
   {
    "duration": 0,
    "start_time": "2023-05-12T16:38:24.038Z"
   },
   {
    "duration": 0,
    "start_time": "2023-05-12T16:38:24.040Z"
   },
   {
    "duration": 4,
    "start_time": "2023-05-12T16:38:31.466Z"
   },
   {
    "duration": 259163,
    "start_time": "2023-05-12T16:38:31.998Z"
   },
   {
    "duration": 0,
    "start_time": "2023-05-12T16:42:51.163Z"
   },
   {
    "duration": 0,
    "start_time": "2023-05-12T16:42:51.165Z"
   },
   {
    "duration": 3,
    "start_time": "2023-05-12T16:42:55.731Z"
   },
   {
    "duration": 2647045,
    "start_time": "2023-05-12T16:42:56.097Z"
   },
   {
    "duration": 3,
    "start_time": "2023-05-12T17:27:03.145Z"
   },
   {
    "duration": 1787914,
    "start_time": "2023-05-12T17:27:03.150Z"
   },
   {
    "duration": 0,
    "start_time": "2023-05-12T17:56:51.068Z"
   },
   {
    "duration": 1,
    "start_time": "2023-05-12T17:56:51.069Z"
   },
   {
    "duration": 0,
    "start_time": "2023-05-12T17:56:51.071Z"
   },
   {
    "duration": 0,
    "start_time": "2023-05-12T17:56:51.073Z"
   },
   {
    "duration": 0,
    "start_time": "2023-05-12T17:56:51.075Z"
   },
   {
    "duration": 0,
    "start_time": "2023-05-12T17:56:51.077Z"
   },
   {
    "duration": 0,
    "start_time": "2023-05-12T17:56:51.078Z"
   },
   {
    "duration": 0,
    "start_time": "2023-05-12T17:56:51.080Z"
   },
   {
    "duration": 0,
    "start_time": "2023-05-12T17:56:51.082Z"
   },
   {
    "duration": 2,
    "start_time": "2023-05-12T17:56:51.084Z"
   },
   {
    "duration": 0,
    "start_time": "2023-05-12T17:56:51.088Z"
   },
   {
    "duration": 0,
    "start_time": "2023-05-12T17:56:51.089Z"
   },
   {
    "duration": 10,
    "start_time": "2023-05-12T17:57:06.222Z"
   },
   {
    "duration": 3757772,
    "start_time": "2023-05-12T17:57:07.164Z"
   },
   {
    "duration": 0,
    "start_time": "2023-05-12T18:59:44.941Z"
   },
   {
    "duration": 0,
    "start_time": "2023-05-12T18:59:44.943Z"
   },
   {
    "duration": 0,
    "start_time": "2023-05-12T18:59:44.945Z"
   },
   {
    "duration": 0,
    "start_time": "2023-05-12T18:59:44.947Z"
   },
   {
    "duration": 0,
    "start_time": "2023-05-12T18:59:44.947Z"
   },
   {
    "duration": 0,
    "start_time": "2023-05-12T18:59:44.949Z"
   },
   {
    "duration": 0,
    "start_time": "2023-05-12T18:59:44.951Z"
   },
   {
    "duration": 0,
    "start_time": "2023-05-12T18:59:44.952Z"
   },
   {
    "duration": 0,
    "start_time": "2023-05-12T18:59:44.954Z"
   },
   {
    "duration": 1,
    "start_time": "2023-05-12T18:59:44.955Z"
   },
   {
    "duration": 4,
    "start_time": "2023-05-12T18:59:57.241Z"
   },
   {
    "duration": 44210,
    "start_time": "2023-05-12T18:59:58.287Z"
   },
   {
    "duration": 3,
    "start_time": "2023-05-12T19:00:43.096Z"
   },
   {
    "duration": 2283545,
    "start_time": "2023-05-12T19:00:44.010Z"
   },
   {
    "duration": 5,
    "start_time": "2023-05-12T19:38:55.646Z"
   },
   {
    "duration": 6,
    "start_time": "2023-05-12T19:38:56.459Z"
   },
   {
    "duration": 4,
    "start_time": "2023-05-12T19:38:57.050Z"
   },
   {
    "duration": 3,
    "start_time": "2023-05-12T19:38:57.699Z"
   },
   {
    "duration": 4,
    "start_time": "2023-05-12T19:38:58.358Z"
   },
   {
    "duration": 4,
    "start_time": "2023-05-12T19:38:59.438Z"
   },
   {
    "duration": 192,
    "start_time": "2023-05-12T19:39:02.658Z"
   },
   {
    "duration": 59,
    "start_time": "2023-05-12T19:39:08.887Z"
   },
   {
    "duration": 7,
    "start_time": "2023-05-12T19:39:33.956Z"
   },
   {
    "duration": 45,
    "start_time": "2023-05-12T19:40:14.033Z"
   },
   {
    "duration": 12,
    "start_time": "2023-05-12T19:40:20.425Z"
   },
   {
    "duration": 45,
    "start_time": "2023-05-12T19:40:50.535Z"
   },
   {
    "duration": 62099,
    "start_time": "2023-05-12T19:41:36.617Z"
   },
   {
    "duration": 59775,
    "start_time": "2023-05-12T19:43:10.981Z"
   },
   {
    "duration": 0,
    "start_time": "2023-05-12T19:44:10.758Z"
   },
   {
    "duration": 0,
    "start_time": "2023-05-12T19:44:10.759Z"
   },
   {
    "duration": 103156,
    "start_time": "2023-05-12T19:44:16.010Z"
   },
   {
    "duration": 226,
    "start_time": "2023-05-12T19:45:59.168Z"
   },
   {
    "duration": 3,
    "start_time": "2023-05-12T19:46:38.804Z"
   },
   {
    "duration": 22,
    "start_time": "2023-05-12T19:46:39.429Z"
   },
   {
    "duration": 26390,
    "start_time": "2023-05-12T19:46:48.006Z"
   },
   {
    "duration": 6,
    "start_time": "2023-05-12T19:47:14.398Z"
   },
   {
    "duration": 57,
    "start_time": "2023-05-12T19:47:14.406Z"
   },
   {
    "duration": 11,
    "start_time": "2023-05-12T19:52:40.503Z"
   },
   {
    "duration": 37,
    "start_time": "2023-05-12T19:52:52.748Z"
   },
   {
    "duration": 48,
    "start_time": "2023-05-12T19:52:57.709Z"
   },
   {
    "duration": 13,
    "start_time": "2023-05-12T19:53:07.489Z"
   },
   {
    "duration": 150,
    "start_time": "2023-05-12T19:53:28.923Z"
   },
   {
    "duration": 10085,
    "start_time": "2023-05-12T19:54:14.035Z"
   },
   {
    "duration": 315,
    "start_time": "2023-05-12T19:54:26.403Z"
   },
   {
    "duration": 9410,
    "start_time": "2023-05-12T19:54:28.784Z"
   },
   {
    "duration": 23,
    "start_time": "2023-05-12T19:54:48.349Z"
   },
   {
    "duration": 130,
    "start_time": "2023-05-12T19:54:57.480Z"
   },
   {
    "duration": 4171,
    "start_time": "2023-05-12T20:02:16.908Z"
   },
   {
    "duration": 5109,
    "start_time": "2023-05-12T20:02:28.274Z"
   },
   {
    "duration": 5270,
    "start_time": "2023-05-12T20:02:42.549Z"
   },
   {
    "duration": 5505,
    "start_time": "2023-05-12T20:02:54.089Z"
   },
   {
    "duration": 1053,
    "start_time": "2023-05-12T20:03:56.564Z"
   },
   {
    "duration": 1026,
    "start_time": "2023-05-12T20:04:19.173Z"
   },
   {
    "duration": 6,
    "start_time": "2023-05-12T20:04:28.977Z"
   },
   {
    "duration": 5139,
    "start_time": "2023-05-12T20:04:56.681Z"
   },
   {
    "duration": 58,
    "start_time": "2023-05-12T20:05:19.116Z"
   },
   {
    "duration": 8,
    "start_time": "2023-05-12T20:05:21.704Z"
   },
   {
    "duration": 7,
    "start_time": "2023-05-12T20:05:23.773Z"
   },
   {
    "duration": 2213,
    "start_time": "2023-05-12T20:05:32.435Z"
   },
   {
    "duration": 2955,
    "start_time": "2023-05-12T20:05:34.650Z"
   },
   {
    "duration": 4,
    "start_time": "2023-05-12T20:05:37.607Z"
   },
   {
    "duration": 2747,
    "start_time": "2023-05-12T20:05:37.613Z"
   },
   {
    "duration": 10,
    "start_time": "2023-05-12T20:05:40.363Z"
   },
   {
    "duration": 7,
    "start_time": "2023-05-12T20:05:40.374Z"
   },
   {
    "duration": 39,
    "start_time": "2023-05-12T20:05:40.382Z"
   },
   {
    "duration": 36,
    "start_time": "2023-05-12T20:05:40.423Z"
   },
   {
    "duration": 250,
    "start_time": "2023-05-12T20:05:40.461Z"
   },
   {
    "duration": 22,
    "start_time": "2023-05-12T20:05:40.713Z"
   },
   {
    "duration": 27,
    "start_time": "2023-05-12T20:05:40.740Z"
   },
   {
    "duration": 11,
    "start_time": "2023-05-12T20:05:40.769Z"
   },
   {
    "duration": 74092,
    "start_time": "2023-05-12T20:05:40.781Z"
   },
   {
    "duration": 10,
    "start_time": "2023-05-12T20:06:54.878Z"
   },
   {
    "duration": 2106,
    "start_time": "2023-05-12T20:06:54.890Z"
   },
   {
    "duration": 14,
    "start_time": "2023-05-12T20:10:14.930Z"
   },
   {
    "duration": 81,
    "start_time": "2023-05-12T20:10:15.500Z"
   },
   {
    "duration": 6108,
    "start_time": "2023-05-12T20:10:25.563Z"
   },
   {
    "duration": 206,
    "start_time": "2023-05-12T20:10:41.655Z"
   },
   {
    "duration": 5,
    "start_time": "2023-05-12T20:13:41.906Z"
   },
   {
    "duration": 2842,
    "start_time": "2023-05-12T20:13:42.692Z"
   },
   {
    "duration": 11,
    "start_time": "2023-05-12T20:13:47.930Z"
   },
   {
    "duration": 6,
    "start_time": "2023-05-12T20:14:04.844Z"
   },
   {
    "duration": 5378,
    "start_time": "2023-05-12T20:14:09.918Z"
   },
   {
    "duration": 2177,
    "start_time": "2023-05-12T20:14:17.993Z"
   },
   {
    "duration": 5,
    "start_time": "2023-05-12T20:14:30.582Z"
   },
   {
    "duration": 5970,
    "start_time": "2023-05-12T20:14:30.793Z"
   },
   {
    "duration": 13115,
    "start_time": "2023-05-12T20:14:36.765Z"
   },
   {
    "duration": 4914,
    "start_time": "2023-05-12T20:16:48.898Z"
   },
   {
    "duration": 3286,
    "start_time": "2023-05-12T20:16:53.814Z"
   },
   {
    "duration": 259,
    "start_time": "2023-05-12T20:23:26.948Z"
   },
   {
    "duration": 5,
    "start_time": "2023-05-12T20:23:58.377Z"
   },
   {
    "duration": 41,
    "start_time": "2023-05-12T20:24:02.613Z"
   },
   {
    "duration": 41,
    "start_time": "2023-05-12T20:24:32.865Z"
   },
   {
    "duration": 54,
    "start_time": "2023-05-12T20:24:43.414Z"
   },
   {
    "duration": 8258,
    "start_time": "2023-05-12T20:26:00.805Z"
   },
   {
    "duration": 20,
    "start_time": "2023-05-12T20:27:26.385Z"
   },
   {
    "duration": 801,
    "start_time": "2023-05-12T20:27:33.171Z"
   },
   {
    "duration": 158,
    "start_time": "2023-05-12T20:27:43.670Z"
   },
   {
    "duration": 134,
    "start_time": "2023-05-12T20:27:58.034Z"
   },
   {
    "duration": 171,
    "start_time": "2023-05-12T20:28:12.479Z"
   },
   {
    "duration": 169,
    "start_time": "2023-05-12T20:30:27.119Z"
   },
   {
    "duration": 34,
    "start_time": "2023-05-12T20:33:44.428Z"
   },
   {
    "duration": 50,
    "start_time": "2023-05-12T20:33:57.302Z"
   },
   {
    "duration": 7642,
    "start_time": "2023-05-12T20:36:03.733Z"
   },
   {
    "duration": 7596,
    "start_time": "2023-05-12T20:36:56.001Z"
   },
   {
    "duration": 19,
    "start_time": "2023-05-12T20:43:49.550Z"
   },
   {
    "duration": 123,
    "start_time": "2023-05-12T20:44:28.054Z"
   },
   {
    "duration": 3272,
    "start_time": "2023-05-12T20:45:02.228Z"
   },
   {
    "duration": 67,
    "start_time": "2023-05-12T20:45:10.208Z"
   },
   {
    "duration": 25722,
    "start_time": "2023-05-12T20:45:14.084Z"
   },
   {
    "duration": 5980,
    "start_time": "2023-05-13T04:44:00.273Z"
   },
   {
    "duration": 5102,
    "start_time": "2023-05-13T04:44:06.256Z"
   },
   {
    "duration": 17,
    "start_time": "2023-05-13T04:44:11.359Z"
   },
   {
    "duration": 3198,
    "start_time": "2023-05-13T04:44:11.378Z"
   },
   {
    "duration": 15,
    "start_time": "2023-05-13T04:44:14.579Z"
   },
   {
    "duration": 4,
    "start_time": "2023-05-13T04:44:14.595Z"
   },
   {
    "duration": 49,
    "start_time": "2023-05-13T04:44:14.601Z"
   },
   {
    "duration": 28,
    "start_time": "2023-05-13T04:44:14.652Z"
   },
   {
    "duration": 245,
    "start_time": "2023-05-13T04:44:14.682Z"
   },
   {
    "duration": 9,
    "start_time": "2023-05-13T04:44:14.929Z"
   },
   {
    "duration": 7,
    "start_time": "2023-05-13T04:44:14.949Z"
   },
   {
    "duration": 5,
    "start_time": "2023-05-13T04:44:14.958Z"
   },
   {
    "duration": 6,
    "start_time": "2023-05-13T04:44:14.965Z"
   },
   {
    "duration": 77025,
    "start_time": "2023-05-13T04:44:14.974Z"
   },
   {
    "duration": 10,
    "start_time": "2023-05-13T04:45:32.002Z"
   },
   {
    "duration": 4665,
    "start_time": "2023-05-13T04:45:32.013Z"
   },
   {
    "duration": 11492,
    "start_time": "2023-05-13T04:45:36.680Z"
   },
   {
    "duration": 1357,
    "start_time": "2023-05-13T04:49:22.813Z"
   },
   {
    "duration": 28192,
    "start_time": "2023-05-13T04:50:40.087Z"
   },
   {
    "duration": 8,
    "start_time": "2023-05-13T04:53:32.687Z"
   },
   {
    "duration": 8,
    "start_time": "2023-05-13T04:53:40.784Z"
   },
   {
    "duration": 6,
    "start_time": "2023-05-13T04:53:55.877Z"
   },
   {
    "duration": 35,
    "start_time": "2023-05-13T04:54:14.391Z"
   },
   {
    "duration": 9,
    "start_time": "2023-05-13T04:54:41.752Z"
   },
   {
    "duration": 36,
    "start_time": "2023-05-13T04:54:45.937Z"
   },
   {
    "duration": 69,
    "start_time": "2023-05-13T04:54:48.895Z"
   },
   {
    "duration": 36,
    "start_time": "2023-05-13T04:55:36.241Z"
   },
   {
    "duration": 1286,
    "start_time": "2023-05-13T04:55:41.001Z"
   },
   {
    "duration": 27500,
    "start_time": "2023-05-13T04:56:40.543Z"
   },
   {
    "duration": 23796,
    "start_time": "2023-05-13T05:00:37.860Z"
   },
   {
    "duration": 3074,
    "start_time": "2023-05-13T05:01:01.659Z"
   },
   {
    "duration": 58,
    "start_time": "2023-05-13T05:01:04.735Z"
   },
   {
    "duration": 27909,
    "start_time": "2023-05-13T05:01:10.420Z"
   },
   {
    "duration": 6,
    "start_time": "2023-05-13T05:02:53.278Z"
   },
   {
    "duration": 24939,
    "start_time": "2023-05-13T05:02:58.701Z"
   },
   {
    "duration": 23,
    "start_time": "2023-05-13T05:03:54.417Z"
   },
   {
    "duration": 1118,
    "start_time": "2023-05-13T05:04:02.918Z"
   },
   {
    "duration": 1622,
    "start_time": "2023-05-13T05:04:09.194Z"
   },
   {
    "duration": 21,
    "start_time": "2023-05-13T05:04:19.393Z"
   },
   {
    "duration": 18,
    "start_time": "2023-05-13T05:04:28.106Z"
   },
   {
    "duration": 121,
    "start_time": "2023-05-13T05:04:33.056Z"
   },
   {
    "duration": 5,
    "start_time": "2023-05-13T05:04:47.468Z"
   },
   {
    "duration": 7,
    "start_time": "2023-05-13T05:04:52.596Z"
   },
   {
    "duration": 4,
    "start_time": "2023-05-13T05:05:01.882Z"
   },
   {
    "duration": 23,
    "start_time": "2023-05-13T05:05:06.022Z"
   },
   {
    "duration": 3,
    "start_time": "2023-05-13T05:23:24.496Z"
   },
   {
    "duration": 29,
    "start_time": "2023-05-13T05:23:24.846Z"
   },
   {
    "duration": 4,
    "start_time": "2023-05-13T05:23:25.158Z"
   },
   {
    "duration": 4,
    "start_time": "2023-05-13T05:23:25.721Z"
   },
   {
    "duration": 47,
    "start_time": "2023-05-13T05:23:26.033Z"
   },
   {
    "duration": 4,
    "start_time": "2023-05-13T05:23:26.458Z"
   },
   {
    "duration": 265,
    "start_time": "2023-05-13T05:23:27.083Z"
   },
   {
    "duration": 4,
    "start_time": "2023-05-13T05:23:27.388Z"
   },
   {
    "duration": 3,
    "start_time": "2023-05-13T05:23:27.658Z"
   },
   {
    "duration": 11797,
    "start_time": "2023-05-13T05:23:27.995Z"
   },
   {
    "duration": 4,
    "start_time": "2023-05-13T05:23:39.794Z"
   },
   {
    "duration": 5,
    "start_time": "2023-05-13T05:23:39.801Z"
   },
   {
    "duration": 6,
    "start_time": "2023-05-13T05:23:39.808Z"
   },
   {
    "duration": 7,
    "start_time": "2023-05-13T05:23:39.815Z"
   },
   {
    "duration": 10,
    "start_time": "2023-05-13T05:23:39.823Z"
   },
   {
    "duration": 9763,
    "start_time": "2023-05-13T05:23:39.834Z"
   },
   {
    "duration": 4,
    "start_time": "2023-05-13T05:23:53.673Z"
   },
   {
    "duration": 19,
    "start_time": "2023-05-13T05:23:54.872Z"
   },
   {
    "duration": 20,
    "start_time": "2023-05-13T05:24:07.972Z"
   },
   {
    "duration": 18,
    "start_time": "2023-05-13T05:24:12.016Z"
   },
   {
    "duration": 2922,
    "start_time": "2023-05-13T05:26:30.619Z"
   },
   {
    "duration": 2248,
    "start_time": "2023-05-13T05:26:33.543Z"
   },
   {
    "duration": 6407,
    "start_time": "2023-05-13T05:26:35.793Z"
   },
   {
    "duration": 7,
    "start_time": "2023-05-13T05:26:42.201Z"
   },
   {
    "duration": 774,
    "start_time": "2023-05-13T05:26:42.210Z"
   },
   {
    "duration": 11,
    "start_time": "2023-05-13T05:26:42.986Z"
   },
   {
    "duration": 5,
    "start_time": "2023-05-13T05:26:42.999Z"
   },
   {
    "duration": 48,
    "start_time": "2023-05-13T05:26:43.006Z"
   },
   {
    "duration": 25,
    "start_time": "2023-05-13T05:26:43.056Z"
   },
   {
    "duration": 219,
    "start_time": "2023-05-13T05:26:43.083Z"
   },
   {
    "duration": 8,
    "start_time": "2023-05-13T05:26:43.304Z"
   },
   {
    "duration": 6,
    "start_time": "2023-05-13T05:26:43.313Z"
   },
   {
    "duration": 5,
    "start_time": "2023-05-13T05:26:43.320Z"
   },
   {
    "duration": 22,
    "start_time": "2023-05-13T05:26:43.328Z"
   },
   {
    "duration": 65973,
    "start_time": "2023-05-13T05:26:43.352Z"
   },
   {
    "duration": 8,
    "start_time": "2023-05-13T05:27:49.327Z"
   },
   {
    "duration": 4336,
    "start_time": "2023-05-13T05:27:49.337Z"
   },
   {
    "duration": 10593,
    "start_time": "2023-05-13T05:27:53.675Z"
   },
   {
    "duration": 3,
    "start_time": "2023-05-13T05:28:04.271Z"
   },
   {
    "duration": 32,
    "start_time": "2023-05-13T05:28:04.276Z"
   },
   {
    "duration": 5,
    "start_time": "2023-05-13T05:28:04.310Z"
   },
   {
    "duration": 33,
    "start_time": "2023-05-13T05:28:04.317Z"
   },
   {
    "duration": 67,
    "start_time": "2023-05-13T05:28:04.352Z"
   },
   {
    "duration": 4,
    "start_time": "2023-05-13T05:28:04.422Z"
   },
   {
    "duration": 318,
    "start_time": "2023-05-13T05:28:04.428Z"
   },
   {
    "duration": 4,
    "start_time": "2023-05-13T05:28:04.747Z"
   },
   {
    "duration": 3,
    "start_time": "2023-05-13T05:28:04.753Z"
   },
   {
    "duration": 5672,
    "start_time": "2023-05-13T05:28:04.758Z"
   },
   {
    "duration": 0,
    "start_time": "2023-05-13T05:28:10.432Z"
   },
   {
    "duration": 0,
    "start_time": "2023-05-13T05:28:10.433Z"
   },
   {
    "duration": 0,
    "start_time": "2023-05-13T05:28:10.434Z"
   },
   {
    "duration": 0,
    "start_time": "2023-05-13T05:28:10.451Z"
   },
   {
    "duration": 0,
    "start_time": "2023-05-13T05:28:10.452Z"
   },
   {
    "duration": 0,
    "start_time": "2023-05-13T05:28:10.453Z"
   },
   {
    "duration": 0,
    "start_time": "2023-05-13T05:28:10.455Z"
   },
   {
    "duration": 0,
    "start_time": "2023-05-13T05:28:10.456Z"
   },
   {
    "duration": 0,
    "start_time": "2023-05-13T05:28:10.458Z"
   },
   {
    "duration": 0,
    "start_time": "2023-05-13T05:28:10.461Z"
   },
   {
    "duration": 0,
    "start_time": "2023-05-13T05:28:10.463Z"
   },
   {
    "duration": 0,
    "start_time": "2023-05-13T05:28:10.464Z"
   },
   {
    "duration": 0,
    "start_time": "2023-05-13T05:28:10.465Z"
   },
   {
    "duration": 0,
    "start_time": "2023-05-13T05:28:10.466Z"
   },
   {
    "duration": 0,
    "start_time": "2023-05-13T05:28:10.467Z"
   },
   {
    "duration": 0,
    "start_time": "2023-05-13T05:28:10.468Z"
   },
   {
    "duration": 0,
    "start_time": "2023-05-13T05:28:10.469Z"
   },
   {
    "duration": 0,
    "start_time": "2023-05-13T05:28:10.471Z"
   },
   {
    "duration": 0,
    "start_time": "2023-05-13T05:28:10.472Z"
   },
   {
    "duration": 0,
    "start_time": "2023-05-13T05:28:10.473Z"
   },
   {
    "duration": 0,
    "start_time": "2023-05-13T05:28:10.474Z"
   },
   {
    "duration": 0,
    "start_time": "2023-05-13T05:28:10.475Z"
   },
   {
    "duration": 2738,
    "start_time": "2023-05-13T05:28:56.150Z"
   },
   {
    "duration": 2199,
    "start_time": "2023-05-13T05:28:58.891Z"
   },
   {
    "duration": 6527,
    "start_time": "2023-05-13T05:29:01.093Z"
   },
   {
    "duration": 6,
    "start_time": "2023-05-13T05:29:07.622Z"
   },
   {
    "duration": 717,
    "start_time": "2023-05-13T05:29:07.630Z"
   },
   {
    "duration": 11,
    "start_time": "2023-05-13T05:29:08.349Z"
   },
   {
    "duration": 3,
    "start_time": "2023-05-13T05:29:08.361Z"
   },
   {
    "duration": 37,
    "start_time": "2023-05-13T05:29:08.366Z"
   },
   {
    "duration": 46,
    "start_time": "2023-05-13T05:29:08.404Z"
   },
   {
    "duration": 226,
    "start_time": "2023-05-13T05:29:08.452Z"
   },
   {
    "duration": 8,
    "start_time": "2023-05-13T05:29:08.679Z"
   },
   {
    "duration": 6,
    "start_time": "2023-05-13T05:29:08.688Z"
   },
   {
    "duration": 5,
    "start_time": "2023-05-13T05:29:08.696Z"
   },
   {
    "duration": 5,
    "start_time": "2023-05-13T05:29:08.703Z"
   },
   {
    "duration": 67558,
    "start_time": "2023-05-13T05:29:08.709Z"
   },
   {
    "duration": 9,
    "start_time": "2023-05-13T05:30:16.268Z"
   },
   {
    "duration": 4432,
    "start_time": "2023-05-13T05:30:16.278Z"
   },
   {
    "duration": 10376,
    "start_time": "2023-05-13T05:30:20.713Z"
   },
   {
    "duration": 2,
    "start_time": "2023-05-13T05:30:31.092Z"
   },
   {
    "duration": 41,
    "start_time": "2023-05-13T05:30:31.096Z"
   },
   {
    "duration": 5,
    "start_time": "2023-05-13T05:30:31.139Z"
   },
   {
    "duration": 4,
    "start_time": "2023-05-13T05:30:31.150Z"
   },
   {
    "duration": 66,
    "start_time": "2023-05-13T05:30:31.156Z"
   },
   {
    "duration": 3,
    "start_time": "2023-05-13T05:30:31.224Z"
   },
   {
    "duration": 356,
    "start_time": "2023-05-13T05:30:31.229Z"
   },
   {
    "duration": 4,
    "start_time": "2023-05-13T05:30:31.587Z"
   },
   {
    "duration": 27,
    "start_time": "2023-05-13T05:30:31.593Z"
   },
   {
    "duration": 11946,
    "start_time": "2023-05-13T05:30:31.622Z"
   },
   {
    "duration": 5,
    "start_time": "2023-05-13T05:30:43.570Z"
   },
   {
    "duration": 5,
    "start_time": "2023-05-13T05:30:43.576Z"
   },
   {
    "duration": 6,
    "start_time": "2023-05-13T05:30:43.582Z"
   },
   {
    "duration": 6,
    "start_time": "2023-05-13T05:30:43.590Z"
   },
   {
    "duration": 3,
    "start_time": "2023-05-13T05:30:43.598Z"
   },
   {
    "duration": 743217,
    "start_time": "2023-05-13T05:30:43.603Z"
   },
   {
    "duration": 3,
    "start_time": "2023-05-13T05:43:06.822Z"
   },
   {
    "duration": 295186,
    "start_time": "2023-05-13T05:43:06.827Z"
   },
   {
    "duration": 3,
    "start_time": "2023-05-13T05:48:02.016Z"
   },
   {
    "duration": 195961,
    "start_time": "2023-05-13T05:48:02.021Z"
   },
   {
    "duration": 0,
    "start_time": "2023-05-13T05:51:17.985Z"
   },
   {
    "duration": 0,
    "start_time": "2023-05-13T05:51:17.986Z"
   },
   {
    "duration": 0,
    "start_time": "2023-05-13T05:51:17.987Z"
   },
   {
    "duration": 0,
    "start_time": "2023-05-13T05:51:17.988Z"
   },
   {
    "duration": 0,
    "start_time": "2023-05-13T05:51:17.989Z"
   },
   {
    "duration": 0,
    "start_time": "2023-05-13T05:51:17.990Z"
   },
   {
    "duration": 0,
    "start_time": "2023-05-13T05:51:17.991Z"
   },
   {
    "duration": 0,
    "start_time": "2023-05-13T05:51:17.992Z"
   },
   {
    "duration": 0,
    "start_time": "2023-05-13T05:51:17.993Z"
   },
   {
    "duration": 0,
    "start_time": "2023-05-13T05:51:17.994Z"
   },
   {
    "duration": 0,
    "start_time": "2023-05-13T05:51:17.995Z"
   },
   {
    "duration": 0,
    "start_time": "2023-05-13T05:51:17.997Z"
   },
   {
    "duration": 8,
    "start_time": "2023-05-13T05:52:21.457Z"
   },
   {
    "duration": 7,
    "start_time": "2023-05-13T05:52:21.806Z"
   },
   {
    "duration": 5,
    "start_time": "2023-05-13T05:52:22.345Z"
   },
   {
    "duration": 5,
    "start_time": "2023-05-13T05:52:22.832Z"
   },
   {
    "duration": 6,
    "start_time": "2023-05-13T05:52:23.194Z"
   },
   {
    "duration": 6,
    "start_time": "2023-05-13T05:52:24.519Z"
   },
   {
    "duration": 147,
    "start_time": "2023-05-13T05:52:25.969Z"
   },
   {
    "duration": 5,
    "start_time": "2023-05-13T05:52:39.433Z"
   },
   {
    "duration": 110,
    "start_time": "2023-05-13T05:52:41.995Z"
   },
   {
    "duration": 7,
    "start_time": "2023-05-13T05:52:57.434Z"
   },
   {
    "duration": 182,
    "start_time": "2023-05-13T05:53:00.308Z"
   },
   {
    "duration": 6,
    "start_time": "2023-05-13T05:53:11.722Z"
   },
   {
    "duration": 114,
    "start_time": "2023-05-13T05:53:14.746Z"
   },
   {
    "duration": 6,
    "start_time": "2023-05-13T05:53:29.534Z"
   },
   {
    "duration": 113,
    "start_time": "2023-05-13T05:53:32.597Z"
   },
   {
    "duration": 6,
    "start_time": "2023-05-13T05:54:12.087Z"
   },
   {
    "duration": 110,
    "start_time": "2023-05-13T05:54:16.600Z"
   },
   {
    "duration": 73,
    "start_time": "2023-05-13T05:54:19.211Z"
   },
   {
    "duration": 120,
    "start_time": "2023-05-13T05:54:23.587Z"
   },
   {
    "duration": 122,
    "start_time": "2023-05-13T05:54:26.098Z"
   },
   {
    "duration": 2813,
    "start_time": "2023-05-13T05:54:39.176Z"
   },
   {
    "duration": 2447,
    "start_time": "2023-05-13T05:54:41.991Z"
   },
   {
    "duration": 6978,
    "start_time": "2023-05-13T05:54:44.440Z"
   },
   {
    "duration": 8,
    "start_time": "2023-05-13T05:54:51.421Z"
   },
   {
    "duration": 808,
    "start_time": "2023-05-13T05:54:51.431Z"
   },
   {
    "duration": 16,
    "start_time": "2023-05-13T05:54:52.241Z"
   },
   {
    "duration": 143,
    "start_time": "2023-05-13T05:54:52.258Z"
   },
   {
    "duration": 38,
    "start_time": "2023-05-13T05:54:52.403Z"
   },
   {
    "duration": 43,
    "start_time": "2023-05-13T05:54:52.443Z"
   },
   {
    "duration": 236,
    "start_time": "2023-05-13T05:54:52.489Z"
   },
   {
    "duration": 9,
    "start_time": "2023-05-13T05:54:52.727Z"
   },
   {
    "duration": 21,
    "start_time": "2023-05-13T05:54:52.737Z"
   },
   {
    "duration": 6,
    "start_time": "2023-05-13T05:54:52.760Z"
   },
   {
    "duration": 11,
    "start_time": "2023-05-13T05:54:52.768Z"
   },
   {
    "duration": 77861,
    "start_time": "2023-05-13T05:54:52.781Z"
   },
   {
    "duration": 13,
    "start_time": "2023-05-13T05:56:10.644Z"
   },
   {
    "duration": 4485,
    "start_time": "2023-05-13T05:56:10.659Z"
   },
   {
    "duration": 10842,
    "start_time": "2023-05-13T05:56:15.146Z"
   },
   {
    "duration": 3,
    "start_time": "2023-05-13T05:56:25.990Z"
   },
   {
    "duration": 31,
    "start_time": "2023-05-13T05:56:25.994Z"
   },
   {
    "duration": 5,
    "start_time": "2023-05-13T05:56:26.027Z"
   },
   {
    "duration": 6,
    "start_time": "2023-05-13T05:56:26.051Z"
   },
   {
    "duration": 77,
    "start_time": "2023-05-13T05:56:26.059Z"
   },
   {
    "duration": 13,
    "start_time": "2023-05-13T05:56:26.139Z"
   },
   {
    "duration": 292,
    "start_time": "2023-05-13T05:56:26.154Z"
   },
   {
    "duration": 4,
    "start_time": "2023-05-13T05:56:26.448Z"
   },
   {
    "duration": 4,
    "start_time": "2023-05-13T05:56:26.454Z"
   },
   {
    "duration": 12315,
    "start_time": "2023-05-13T05:56:26.462Z"
   },
   {
    "duration": 3,
    "start_time": "2023-05-13T05:56:38.779Z"
   },
   {
    "duration": 8,
    "start_time": "2023-05-13T05:56:38.784Z"
   },
   {
    "duration": 5,
    "start_time": "2023-05-13T05:56:38.793Z"
   },
   {
    "duration": 12,
    "start_time": "2023-05-13T05:56:38.799Z"
   },
   {
    "duration": 3,
    "start_time": "2023-05-13T05:56:38.813Z"
   },
   {
    "duration": 757834,
    "start_time": "2023-05-13T05:56:38.818Z"
   },
   {
    "duration": 2,
    "start_time": "2023-05-13T06:09:16.654Z"
   },
   {
    "duration": 292007,
    "start_time": "2023-05-13T06:09:16.658Z"
   },
   {
    "duration": 3,
    "start_time": "2023-05-13T06:14:08.666Z"
   },
   {
    "duration": 323444,
    "start_time": "2023-05-13T06:14:08.671Z"
   },
   {
    "duration": 2,
    "start_time": "2023-05-13T06:19:32.117Z"
   },
   {
    "duration": 287056,
    "start_time": "2023-05-13T06:19:32.121Z"
   },
   {
    "duration": 3,
    "start_time": "2023-05-13T06:24:19.179Z"
   },
   {
    "duration": 2178,
    "start_time": "2023-05-13T08:30:48.503Z"
   },
   {
    "duration": 2133,
    "start_time": "2023-05-13T08:30:50.684Z"
   },
   {
    "duration": 4,
    "start_time": "2023-05-13T08:30:52.819Z"
   },
   {
    "duration": 751,
    "start_time": "2023-05-13T08:30:52.824Z"
   },
   {
    "duration": 10,
    "start_time": "2023-05-13T08:30:53.577Z"
   },
   {
    "duration": 3,
    "start_time": "2023-05-13T08:30:53.589Z"
   },
   {
    "duration": 57,
    "start_time": "2023-05-13T08:30:53.593Z"
   },
   {
    "duration": 28,
    "start_time": "2023-05-13T08:30:53.652Z"
   },
   {
    "duration": 225,
    "start_time": "2023-05-13T08:30:53.682Z"
   },
   {
    "duration": 8,
    "start_time": "2023-05-13T08:30:53.909Z"
   },
   {
    "duration": 6,
    "start_time": "2023-05-13T08:30:53.919Z"
   },
   {
    "duration": 22,
    "start_time": "2023-05-13T08:30:53.928Z"
   },
   {
    "duration": 3,
    "start_time": "2023-05-13T08:30:53.952Z"
   },
   {
    "duration": 66311,
    "start_time": "2023-05-13T08:30:53.958Z"
   },
   {
    "duration": 8,
    "start_time": "2023-05-13T08:32:00.271Z"
   },
   {
    "duration": 4212,
    "start_time": "2023-05-13T08:32:00.281Z"
   },
   {
    "duration": 10186,
    "start_time": "2023-05-13T08:32:04.496Z"
   },
   {
    "duration": 2,
    "start_time": "2023-05-13T08:32:14.684Z"
   },
   {
    "duration": 28,
    "start_time": "2023-05-13T08:32:14.688Z"
   },
   {
    "duration": 4,
    "start_time": "2023-05-13T08:32:14.718Z"
   },
   {
    "duration": 4,
    "start_time": "2023-05-13T08:32:14.724Z"
   },
   {
    "duration": 70,
    "start_time": "2023-05-13T08:32:14.729Z"
   },
   {
    "duration": 3,
    "start_time": "2023-05-13T08:32:14.801Z"
   },
   {
    "duration": 135,
    "start_time": "2023-05-13T08:32:14.806Z"
   },
   {
    "duration": 4,
    "start_time": "2023-05-13T08:32:14.942Z"
   },
   {
    "duration": 4,
    "start_time": "2023-05-13T08:32:14.947Z"
   },
   {
    "duration": 12013,
    "start_time": "2023-05-13T08:32:14.952Z"
   },
   {
    "duration": 4,
    "start_time": "2023-05-13T08:32:26.967Z"
   },
   {
    "duration": 4,
    "start_time": "2023-05-13T08:32:26.972Z"
   },
   {
    "duration": 5,
    "start_time": "2023-05-13T08:32:26.977Z"
   },
   {
    "duration": 8,
    "start_time": "2023-05-13T08:32:26.984Z"
   },
   {
    "duration": 6,
    "start_time": "2023-05-13T08:32:26.993Z"
   },
   {
    "duration": 689522,
    "start_time": "2023-05-13T08:32:27.001Z"
   },
   {
    "duration": 3,
    "start_time": "2023-05-13T08:43:56.524Z"
   },
   {
    "duration": 297452,
    "start_time": "2023-05-13T08:43:56.529Z"
   },
   {
    "duration": 3,
    "start_time": "2023-05-13T08:48:53.983Z"
   },
   {
    "duration": 327478,
    "start_time": "2023-05-13T08:48:53.988Z"
   },
   {
    "duration": 3,
    "start_time": "2023-05-13T08:54:21.470Z"
   },
   {
    "duration": 286341,
    "start_time": "2023-05-13T08:54:21.474Z"
   },
   {
    "duration": 3,
    "start_time": "2023-05-13T08:59:07.817Z"
   },
   {
    "duration": 2185,
    "start_time": "2023-05-13T09:25:29.971Z"
   },
   {
    "duration": 2208,
    "start_time": "2023-05-13T09:25:32.158Z"
   },
   {
    "duration": 4,
    "start_time": "2023-05-13T09:25:34.368Z"
   },
   {
    "duration": 782,
    "start_time": "2023-05-13T09:25:34.374Z"
   },
   {
    "duration": 10,
    "start_time": "2023-05-13T09:25:35.159Z"
   },
   {
    "duration": 3,
    "start_time": "2023-05-13T09:25:35.171Z"
   },
   {
    "duration": 35,
    "start_time": "2023-05-13T09:25:35.176Z"
   },
   {
    "duration": 52,
    "start_time": "2023-05-13T09:25:35.212Z"
   },
   {
    "duration": 241,
    "start_time": "2023-05-13T09:25:35.265Z"
   },
   {
    "duration": 7,
    "start_time": "2023-05-13T09:25:35.508Z"
   },
   {
    "duration": 6,
    "start_time": "2023-05-13T09:25:35.517Z"
   },
   {
    "duration": 26,
    "start_time": "2023-05-13T09:25:35.525Z"
   },
   {
    "duration": 9,
    "start_time": "2023-05-13T09:25:35.552Z"
   },
   {
    "duration": 72031,
    "start_time": "2023-05-13T09:25:35.564Z"
   },
   {
    "duration": 8,
    "start_time": "2023-05-13T09:26:47.597Z"
   },
   {
    "duration": 4508,
    "start_time": "2023-05-13T09:26:47.607Z"
   },
   {
    "duration": 10878,
    "start_time": "2023-05-13T09:26:52.117Z"
   },
   {
    "duration": 2,
    "start_time": "2023-05-13T09:27:02.997Z"
   },
   {
    "duration": 32,
    "start_time": "2023-05-13T09:27:03.001Z"
   },
   {
    "duration": 17,
    "start_time": "2023-05-13T09:27:03.035Z"
   },
   {
    "duration": 5,
    "start_time": "2023-05-13T09:27:03.054Z"
   },
   {
    "duration": 51,
    "start_time": "2023-05-13T09:27:03.060Z"
   },
   {
    "duration": 4,
    "start_time": "2023-05-13T09:27:03.112Z"
   },
   {
    "duration": 166,
    "start_time": "2023-05-13T09:27:03.117Z"
   },
   {
    "duration": 4,
    "start_time": "2023-05-13T09:27:03.285Z"
   },
   {
    "duration": 9,
    "start_time": "2023-05-13T09:27:03.290Z"
   },
   {
    "duration": 12592,
    "start_time": "2023-05-13T09:27:03.300Z"
   },
   {
    "duration": 3,
    "start_time": "2023-05-13T09:27:15.894Z"
   },
   {
    "duration": 10,
    "start_time": "2023-05-13T09:27:15.899Z"
   },
   {
    "duration": 6,
    "start_time": "2023-05-13T09:27:15.910Z"
   },
   {
    "duration": 8,
    "start_time": "2023-05-13T09:27:15.917Z"
   },
   {
    "duration": 4,
    "start_time": "2023-05-13T09:27:15.926Z"
   },
   {
    "duration": 723904,
    "start_time": "2023-05-13T09:27:15.932Z"
   },
   {
    "duration": 3,
    "start_time": "2023-05-13T09:39:19.838Z"
   },
   {
    "duration": 304133,
    "start_time": "2023-05-13T09:39:19.850Z"
   },
   {
    "duration": 3,
    "start_time": "2023-05-13T09:44:23.985Z"
   },
   {
    "duration": 331801,
    "start_time": "2023-05-13T09:44:23.989Z"
   },
   {
    "duration": 3,
    "start_time": "2023-05-13T09:49:55.792Z"
   },
   {
    "duration": 294492,
    "start_time": "2023-05-13T09:49:55.796Z"
   },
   {
    "duration": 2,
    "start_time": "2023-05-13T09:54:50.290Z"
   },
   {
    "duration": 2208,
    "start_time": "2023-05-13T10:04:48.787Z"
   },
   {
    "duration": 2219,
    "start_time": "2023-05-13T10:04:50.997Z"
   },
   {
    "duration": 4,
    "start_time": "2023-05-13T10:04:53.217Z"
   },
   {
    "duration": 801,
    "start_time": "2023-05-13T10:04:53.223Z"
   },
   {
    "duration": 12,
    "start_time": "2023-05-13T10:04:54.026Z"
   },
   {
    "duration": 26,
    "start_time": "2023-05-13T10:04:54.040Z"
   },
   {
    "duration": 50,
    "start_time": "2023-05-13T10:04:54.070Z"
   },
   {
    "duration": 38,
    "start_time": "2023-05-13T10:04:54.123Z"
   },
   {
    "duration": 290,
    "start_time": "2023-05-13T10:04:54.163Z"
   },
   {
    "duration": 9,
    "start_time": "2023-05-13T10:04:54.455Z"
   },
   {
    "duration": 14,
    "start_time": "2023-05-13T10:04:54.466Z"
   },
   {
    "duration": 15,
    "start_time": "2023-05-13T10:04:54.482Z"
   },
   {
    "duration": 24,
    "start_time": "2023-05-13T10:04:54.499Z"
   },
   {
    "duration": 72062,
    "start_time": "2023-05-13T10:04:54.525Z"
   },
   {
    "duration": 9,
    "start_time": "2023-05-13T10:06:06.589Z"
   },
   {
    "duration": 4187,
    "start_time": "2023-05-13T10:06:06.600Z"
   },
   {
    "duration": 10769,
    "start_time": "2023-05-13T10:06:10.789Z"
   },
   {
    "duration": 3,
    "start_time": "2023-05-13T10:06:21.560Z"
   },
   {
    "duration": 38,
    "start_time": "2023-05-13T10:06:21.564Z"
   },
   {
    "duration": 4,
    "start_time": "2023-05-13T10:06:21.604Z"
   },
   {
    "duration": 6,
    "start_time": "2023-05-13T10:06:21.609Z"
   },
   {
    "duration": 69,
    "start_time": "2023-05-13T10:06:21.616Z"
   },
   {
    "duration": 4,
    "start_time": "2023-05-13T10:06:21.687Z"
   },
   {
    "duration": 193,
    "start_time": "2023-05-13T10:06:21.692Z"
   },
   {
    "duration": 5,
    "start_time": "2023-05-13T10:06:21.888Z"
   },
   {
    "duration": 3,
    "start_time": "2023-05-13T10:06:21.895Z"
   },
   {
    "duration": 12713,
    "start_time": "2023-05-13T10:06:21.900Z"
   },
   {
    "duration": 5,
    "start_time": "2023-05-13T10:06:34.614Z"
   },
   {
    "duration": 6,
    "start_time": "2023-05-13T10:06:34.621Z"
   },
   {
    "duration": 20,
    "start_time": "2023-05-13T10:06:34.629Z"
   },
   {
    "duration": 8,
    "start_time": "2023-05-13T10:06:34.651Z"
   },
   {
    "duration": 8,
    "start_time": "2023-05-13T10:06:34.661Z"
   },
   {
    "duration": 761174,
    "start_time": "2023-05-13T10:06:34.672Z"
   },
   {
    "duration": 3,
    "start_time": "2023-05-13T10:19:15.850Z"
   },
   {
    "duration": 279327,
    "start_time": "2023-05-13T10:19:15.855Z"
   },
   {
    "duration": 3,
    "start_time": "2023-05-13T10:23:55.184Z"
   },
   {
    "duration": 344292,
    "start_time": "2023-05-13T10:23:55.189Z"
   },
   {
    "duration": 2,
    "start_time": "2023-05-13T10:29:39.483Z"
   },
   {
    "duration": 293091,
    "start_time": "2023-05-13T10:29:39.487Z"
   },
   {
    "duration": 3,
    "start_time": "2023-05-13T10:34:32.580Z"
   },
   {
    "duration": 2843,
    "start_time": "2023-05-13T12:21:45.237Z"
   },
   {
    "duration": 3699,
    "start_time": "2023-05-13T12:21:48.083Z"
   },
   {
    "duration": 5,
    "start_time": "2023-05-13T12:21:51.784Z"
   },
   {
    "duration": 914,
    "start_time": "2023-05-13T12:21:51.791Z"
   },
   {
    "duration": 11,
    "start_time": "2023-05-13T12:21:52.707Z"
   },
   {
    "duration": 4,
    "start_time": "2023-05-13T12:21:52.720Z"
   },
   {
    "duration": 72,
    "start_time": "2023-05-13T12:21:52.725Z"
   },
   {
    "duration": 30,
    "start_time": "2023-05-13T12:21:52.799Z"
   },
   {
    "duration": 268,
    "start_time": "2023-05-13T12:21:52.831Z"
   },
   {
    "duration": 9,
    "start_time": "2023-05-13T12:21:53.100Z"
   },
   {
    "duration": 8,
    "start_time": "2023-05-13T12:21:53.110Z"
   },
   {
    "duration": 31,
    "start_time": "2023-05-13T12:21:53.120Z"
   },
   {
    "duration": 7,
    "start_time": "2023-05-13T12:21:53.153Z"
   },
   {
    "duration": 97521,
    "start_time": "2023-05-13T12:21:53.164Z"
   },
   {
    "duration": 11,
    "start_time": "2023-05-13T12:23:30.688Z"
   },
   {
    "duration": 5144,
    "start_time": "2023-05-13T12:23:30.700Z"
   },
   {
    "duration": 13128,
    "start_time": "2023-05-13T12:23:35.846Z"
   },
   {
    "duration": 4,
    "start_time": "2023-05-13T12:23:48.976Z"
   },
   {
    "duration": 35,
    "start_time": "2023-05-13T12:23:48.982Z"
   },
   {
    "duration": 4,
    "start_time": "2023-05-13T12:23:49.019Z"
   },
   {
    "duration": 10,
    "start_time": "2023-05-13T12:23:49.025Z"
   },
   {
    "duration": 81,
    "start_time": "2023-05-13T12:23:49.037Z"
   },
   {
    "duration": 4,
    "start_time": "2023-05-13T12:23:49.120Z"
   },
   {
    "duration": 270,
    "start_time": "2023-05-13T12:23:49.126Z"
   },
   {
    "duration": 6,
    "start_time": "2023-05-13T12:23:49.398Z"
   },
   {
    "duration": 3,
    "start_time": "2023-05-13T12:23:49.406Z"
   },
   {
    "duration": 15544,
    "start_time": "2023-05-13T12:23:49.411Z"
   },
   {
    "duration": 4,
    "start_time": "2023-05-13T12:24:04.957Z"
   },
   {
    "duration": 5,
    "start_time": "2023-05-13T12:24:04.963Z"
   },
   {
    "duration": 6,
    "start_time": "2023-05-13T12:24:04.970Z"
   },
   {
    "duration": 7,
    "start_time": "2023-05-13T12:24:04.978Z"
   },
   {
    "duration": 5,
    "start_time": "2023-05-13T12:24:04.987Z"
   },
   {
    "duration": 848691,
    "start_time": "2023-05-13T12:24:04.994Z"
   },
   {
    "duration": 4,
    "start_time": "2023-05-13T12:38:13.687Z"
   },
   {
    "duration": 310449,
    "start_time": "2023-05-13T12:38:13.693Z"
   },
   {
    "duration": 6,
    "start_time": "2023-05-13T12:43:24.146Z"
   },
   {
    "duration": 344987,
    "start_time": "2023-05-13T12:43:24.154Z"
   },
   {
    "duration": 8,
    "start_time": "2023-05-13T12:49:09.143Z"
   },
   {
    "duration": 321003,
    "start_time": "2023-05-13T12:49:09.153Z"
   },
   {
    "duration": 5,
    "start_time": "2023-05-13T12:54:30.157Z"
   },
   {
    "duration": 396503,
    "start_time": "2023-05-13T12:54:30.169Z"
   },
   {
    "duration": 0,
    "start_time": "2023-05-13T13:01:06.676Z"
   },
   {
    "duration": 0,
    "start_time": "2023-05-13T13:01:06.678Z"
   },
   {
    "duration": 0,
    "start_time": "2023-05-13T13:01:06.679Z"
   },
   {
    "duration": 0,
    "start_time": "2023-05-13T13:01:06.680Z"
   },
   {
    "duration": 0,
    "start_time": "2023-05-13T13:01:06.682Z"
   },
   {
    "duration": 0,
    "start_time": "2023-05-13T13:01:06.683Z"
   },
   {
    "duration": 0,
    "start_time": "2023-05-13T13:01:06.685Z"
   },
   {
    "duration": 0,
    "start_time": "2023-05-13T13:01:06.686Z"
   },
   {
    "duration": 9,
    "start_time": "2023-05-13T13:01:30.689Z"
   },
   {
    "duration": 5,
    "start_time": "2023-05-13T13:01:34.815Z"
   },
   {
    "duration": 7,
    "start_time": "2023-05-13T13:01:41.840Z"
   },
   {
    "duration": 6,
    "start_time": "2023-05-13T13:02:14.265Z"
   },
   {
    "duration": 75,
    "start_time": "2023-05-13T13:02:14.815Z"
   },
   {
    "duration": 5,
    "start_time": "2023-05-13T13:02:30.917Z"
   },
   {
    "duration": 92,
    "start_time": "2023-05-13T13:02:31.616Z"
   },
   {
    "duration": 15,
    "start_time": "2023-05-13T13:03:21.999Z"
   },
   {
    "duration": 9,
    "start_time": "2023-05-13T13:03:28.907Z"
   },
   {
    "duration": 41,
    "start_time": "2023-05-13T13:06:46.244Z"
   },
   {
    "duration": 53,
    "start_time": "2023-05-13T13:07:37.118Z"
   },
   {
    "duration": 24,
    "start_time": "2023-05-13T13:08:08.143Z"
   },
   {
    "duration": 16,
    "start_time": "2023-05-13T13:08:34.472Z"
   },
   {
    "duration": 16,
    "start_time": "2023-05-13T13:08:39.065Z"
   },
   {
    "duration": 57,
    "start_time": "2023-05-13T13:09:45.767Z"
   },
   {
    "duration": 19,
    "start_time": "2023-05-13T13:10:00.177Z"
   },
   {
    "duration": 20,
    "start_time": "2023-05-13T13:10:11.042Z"
   },
   {
    "duration": 4,
    "start_time": "2023-05-13T13:12:10.410Z"
   },
   {
    "duration": 59,
    "start_time": "2023-05-13T13:12:17.124Z"
   },
   {
    "duration": 6,
    "start_time": "2023-05-13T13:12:20.672Z"
   },
   {
    "duration": 24,
    "start_time": "2023-05-13T13:16:50.111Z"
   },
   {
    "duration": 45,
    "start_time": "2023-05-13T13:16:58.964Z"
   },
   {
    "duration": 7,
    "start_time": "2023-05-13T13:17:02.735Z"
   },
   {
    "duration": 12,
    "start_time": "2023-05-13T13:17:47.865Z"
   },
   {
    "duration": 7,
    "start_time": "2023-05-13T13:17:51.703Z"
   },
   {
    "duration": 5,
    "start_time": "2023-05-13T13:17:56.800Z"
   },
   {
    "duration": 4,
    "start_time": "2023-05-13T13:21:16.095Z"
   },
   {
    "duration": 5,
    "start_time": "2023-05-13T13:21:19.046Z"
   },
   {
    "duration": 13,
    "start_time": "2023-05-13T13:22:47.225Z"
   },
   {
    "duration": 13,
    "start_time": "2023-05-13T13:22:51.524Z"
   },
   {
    "duration": 7,
    "start_time": "2023-05-13T13:24:02.108Z"
   },
   {
    "duration": 86,
    "start_time": "2023-05-13T13:25:44.596Z"
   },
   {
    "duration": 13,
    "start_time": "2023-05-13T13:25:51.648Z"
   },
   {
    "duration": 18,
    "start_time": "2023-05-13T13:25:57.303Z"
   },
   {
    "duration": 52,
    "start_time": "2023-05-13T13:26:12.513Z"
   },
   {
    "duration": 25,
    "start_time": "2023-05-13T13:26:28.773Z"
   },
   {
    "duration": 49,
    "start_time": "2023-05-13T13:26:29.431Z"
   },
   {
    "duration": 6,
    "start_time": "2023-05-13T13:26:33.532Z"
   },
   {
    "duration": 69,
    "start_time": "2023-05-13T13:26:34.285Z"
   },
   {
    "duration": 15,
    "start_time": "2023-05-13T13:26:47.623Z"
   },
   {
    "duration": 98,
    "start_time": "2023-05-13T13:26:48.312Z"
   },
   {
    "duration": 11,
    "start_time": "2023-05-13T13:27:00.290Z"
   },
   {
    "duration": 93,
    "start_time": "2023-05-13T13:27:00.881Z"
   },
   {
    "duration": 11,
    "start_time": "2023-05-13T13:27:12.872Z"
   },
   {
    "duration": 102,
    "start_time": "2023-05-13T13:27:13.949Z"
   },
   {
    "duration": 8,
    "start_time": "2023-05-13T13:27:19.813Z"
   },
   {
    "duration": 80,
    "start_time": "2023-05-13T13:27:20.517Z"
   },
   {
    "duration": 147,
    "start_time": "2023-05-13T13:28:06.734Z"
   },
   {
    "duration": 7,
    "start_time": "2023-05-13T13:28:11.020Z"
   },
   {
    "duration": 88,
    "start_time": "2023-05-13T13:28:11.647Z"
   },
   {
    "duration": 27,
    "start_time": "2023-05-13T13:28:19.683Z"
   },
   {
    "duration": 121,
    "start_time": "2023-05-13T13:28:20.317Z"
   },
   {
    "duration": 9,
    "start_time": "2023-05-13T13:28:27.712Z"
   },
   {
    "duration": 73,
    "start_time": "2023-05-13T13:28:28.334Z"
   },
   {
    "duration": 14,
    "start_time": "2023-05-13T13:28:33.177Z"
   },
   {
    "duration": 7,
    "start_time": "2023-05-13T13:28:51.803Z"
   },
   {
    "duration": 64,
    "start_time": "2023-05-13T13:28:52.644Z"
   },
   {
    "duration": 25,
    "start_time": "2023-05-13T13:28:59.958Z"
   },
   {
    "duration": 109,
    "start_time": "2023-05-13T13:29:00.529Z"
   },
   {
    "duration": 6,
    "start_time": "2023-05-13T13:29:01.111Z"
   },
   {
    "duration": 4602,
    "start_time": "2023-05-13T13:29:19.913Z"
   },
   {
    "duration": 18,
    "start_time": "2023-05-13T13:29:26.124Z"
   },
   {
    "duration": 0,
    "start_time": "2023-05-13T13:29:26.149Z"
   },
   {
    "duration": 0,
    "start_time": "2023-05-13T13:29:26.150Z"
   },
   {
    "duration": 0,
    "start_time": "2023-05-13T13:29:26.179Z"
   },
   {
    "duration": 0,
    "start_time": "2023-05-13T13:29:26.180Z"
   },
   {
    "duration": 0,
    "start_time": "2023-05-13T13:29:26.180Z"
   },
   {
    "duration": 0,
    "start_time": "2023-05-13T13:29:26.181Z"
   },
   {
    "duration": 0,
    "start_time": "2023-05-13T13:29:26.181Z"
   },
   {
    "duration": 0,
    "start_time": "2023-05-13T13:29:26.186Z"
   },
   {
    "duration": 0,
    "start_time": "2023-05-13T13:29:26.188Z"
   },
   {
    "duration": 0,
    "start_time": "2023-05-13T13:29:26.196Z"
   },
   {
    "duration": 0,
    "start_time": "2023-05-13T13:29:26.197Z"
   },
   {
    "duration": 0,
    "start_time": "2023-05-13T13:29:26.198Z"
   },
   {
    "duration": 0,
    "start_time": "2023-05-13T13:29:26.199Z"
   },
   {
    "duration": 0,
    "start_time": "2023-05-13T13:29:26.200Z"
   },
   {
    "duration": 0,
    "start_time": "2023-05-13T13:29:26.206Z"
   },
   {
    "duration": 0,
    "start_time": "2023-05-13T13:29:26.207Z"
   },
   {
    "duration": 0,
    "start_time": "2023-05-13T13:29:26.208Z"
   },
   {
    "duration": 0,
    "start_time": "2023-05-13T13:29:26.210Z"
   },
   {
    "duration": 0,
    "start_time": "2023-05-13T13:29:26.214Z"
   },
   {
    "duration": 0,
    "start_time": "2023-05-13T13:29:26.215Z"
   },
   {
    "duration": 0,
    "start_time": "2023-05-13T13:29:26.217Z"
   },
   {
    "duration": 1,
    "start_time": "2023-05-13T13:29:26.218Z"
   },
   {
    "duration": 0,
    "start_time": "2023-05-13T13:29:26.220Z"
   },
   {
    "duration": 1,
    "start_time": "2023-05-13T13:29:26.221Z"
   },
   {
    "duration": 0,
    "start_time": "2023-05-13T13:29:26.227Z"
   },
   {
    "duration": 0,
    "start_time": "2023-05-13T13:29:26.231Z"
   },
   {
    "duration": 0,
    "start_time": "2023-05-13T13:29:26.232Z"
   },
   {
    "duration": 0,
    "start_time": "2023-05-13T13:29:26.234Z"
   },
   {
    "duration": 0,
    "start_time": "2023-05-13T13:29:26.236Z"
   },
   {
    "duration": 0,
    "start_time": "2023-05-13T13:29:26.237Z"
   },
   {
    "duration": 0,
    "start_time": "2023-05-13T13:29:26.241Z"
   },
   {
    "duration": 0,
    "start_time": "2023-05-13T13:29:26.246Z"
   },
   {
    "duration": 0,
    "start_time": "2023-05-13T13:29:26.247Z"
   },
   {
    "duration": 0,
    "start_time": "2023-05-13T13:29:26.249Z"
   },
   {
    "duration": 0,
    "start_time": "2023-05-13T13:29:26.256Z"
   },
   {
    "duration": 0,
    "start_time": "2023-05-13T13:29:26.257Z"
   },
   {
    "duration": 0,
    "start_time": "2023-05-13T13:29:26.262Z"
   },
   {
    "duration": 2,
    "start_time": "2023-05-13T13:29:26.264Z"
   },
   {
    "duration": 0,
    "start_time": "2023-05-13T13:29:26.270Z"
   },
   {
    "duration": 0,
    "start_time": "2023-05-13T13:29:26.271Z"
   },
   {
    "duration": 0,
    "start_time": "2023-05-13T13:29:26.273Z"
   },
   {
    "duration": 0,
    "start_time": "2023-05-13T13:29:26.280Z"
   },
   {
    "duration": 0,
    "start_time": "2023-05-13T13:29:26.282Z"
   },
   {
    "duration": 0,
    "start_time": "2023-05-13T13:29:26.287Z"
   },
   {
    "duration": 0,
    "start_time": "2023-05-13T13:29:26.288Z"
   },
   {
    "duration": 0,
    "start_time": "2023-05-13T13:29:26.295Z"
   },
   {
    "duration": 3545,
    "start_time": "2023-05-13T13:29:41.669Z"
   },
   {
    "duration": 3046,
    "start_time": "2023-05-13T13:29:45.217Z"
   },
   {
    "duration": 7,
    "start_time": "2023-05-13T13:29:48.266Z"
   },
   {
    "duration": 7643,
    "start_time": "2023-05-13T13:29:48.278Z"
   },
   {
    "duration": 16,
    "start_time": "2023-05-13T13:29:55.924Z"
   },
   {
    "duration": 7,
    "start_time": "2023-05-13T13:29:55.942Z"
   },
   {
    "duration": 56,
    "start_time": "2023-05-13T13:29:55.955Z"
   },
   {
    "duration": 60,
    "start_time": "2023-05-13T13:29:56.017Z"
   },
   {
    "duration": 376,
    "start_time": "2023-05-13T13:29:56.084Z"
   },
   {
    "duration": 36,
    "start_time": "2023-05-13T13:29:56.471Z"
   },
   {
    "duration": 25,
    "start_time": "2023-05-13T13:29:56.513Z"
   },
   {
    "duration": 17,
    "start_time": "2023-05-13T13:29:56.547Z"
   },
   {
    "duration": 12,
    "start_time": "2023-05-13T13:29:56.570Z"
   },
   {
    "duration": 170867,
    "start_time": "2023-05-13T13:29:56.595Z"
   },
   {
    "duration": 22,
    "start_time": "2023-05-13T13:32:47.469Z"
   },
   {
    "duration": 7517,
    "start_time": "2023-05-13T13:32:47.497Z"
   },
   {
    "duration": 19781,
    "start_time": "2023-05-13T13:32:55.024Z"
   },
   {
    "duration": 16,
    "start_time": "2023-05-13T13:33:14.811Z"
   },
   {
    "duration": 93,
    "start_time": "2023-05-13T13:33:14.835Z"
   },
   {
    "duration": 13,
    "start_time": "2023-05-13T13:33:14.935Z"
   },
   {
    "duration": 6,
    "start_time": "2023-05-13T13:33:14.950Z"
   },
   {
    "duration": 61,
    "start_time": "2023-05-13T13:33:14.958Z"
   },
   {
    "duration": 10,
    "start_time": "2023-05-13T13:33:15.021Z"
   },
   {
    "duration": 419,
    "start_time": "2023-05-13T13:33:15.034Z"
   },
   {
    "duration": 14,
    "start_time": "2023-05-13T13:33:15.469Z"
   },
   {
    "duration": 6,
    "start_time": "2023-05-13T13:33:15.494Z"
   },
   {
    "duration": 14492,
    "start_time": "2023-05-13T13:33:15.510Z"
   },
   {
    "duration": 18,
    "start_time": "2023-05-13T13:33:30.016Z"
   },
   {
    "duration": 8,
    "start_time": "2023-05-13T13:33:30.037Z"
   },
   {
    "duration": 30,
    "start_time": "2023-05-13T13:33:30.047Z"
   },
   {
    "duration": 57,
    "start_time": "2023-05-13T13:33:30.079Z"
   },
   {
    "duration": 47,
    "start_time": "2023-05-13T13:33:30.139Z"
   },
   {
    "duration": 1016480,
    "start_time": "2023-05-13T13:33:30.188Z"
   },
   {
    "duration": 5,
    "start_time": "2023-05-13T13:50:26.671Z"
   },
   {
    "duration": 114101,
    "start_time": "2023-05-13T13:50:26.678Z"
   },
   {
    "duration": 6,
    "start_time": "2023-05-13T13:52:20.781Z"
   },
   {
    "duration": 497238,
    "start_time": "2023-05-13T13:52:20.791Z"
   },
   {
    "duration": 7,
    "start_time": "2023-05-13T14:00:38.034Z"
   },
   {
    "duration": 42813,
    "start_time": "2023-05-13T14:00:38.043Z"
   },
   {
    "duration": 4,
    "start_time": "2023-05-13T14:01:20.858Z"
   },
   {
    "duration": 8173643,
    "start_time": "2023-05-13T14:01:20.875Z"
   },
   {
    "duration": 3,
    "start_time": "2023-05-13T16:17:34.520Z"
   },
   {
    "duration": 755211,
    "start_time": "2023-05-13T16:17:34.525Z"
   },
   {
    "duration": 292,
    "start_time": "2023-05-13T16:30:09.737Z"
   },
   {
    "duration": 0,
    "start_time": "2023-05-13T16:30:10.030Z"
   },
   {
    "duration": 0,
    "start_time": "2023-05-13T16:30:10.032Z"
   },
   {
    "duration": 0,
    "start_time": "2023-05-13T16:30:10.033Z"
   },
   {
    "duration": 0,
    "start_time": "2023-05-13T16:30:10.035Z"
   },
   {
    "duration": 0,
    "start_time": "2023-05-13T16:30:10.035Z"
   },
   {
    "duration": 8,
    "start_time": "2023-05-13T16:33:39.113Z"
   },
   {
    "duration": 29,
    "start_time": "2023-05-13T16:33:43.761Z"
   },
   {
    "duration": 7,
    "start_time": "2023-05-13T16:34:40.164Z"
   },
   {
    "duration": 2644,
    "start_time": "2023-05-13T16:35:12.744Z"
   },
   {
    "duration": 5449,
    "start_time": "2023-05-13T16:35:15.390Z"
   },
   {
    "duration": 7,
    "start_time": "2023-05-13T16:35:20.841Z"
   },
   {
    "duration": 3364,
    "start_time": "2023-05-13T16:35:20.850Z"
   },
   {
    "duration": 14,
    "start_time": "2023-05-13T16:35:24.216Z"
   },
   {
    "duration": 4,
    "start_time": "2023-05-13T16:35:24.232Z"
   },
   {
    "duration": 36,
    "start_time": "2023-05-13T16:35:24.239Z"
   },
   {
    "duration": 28,
    "start_time": "2023-05-13T16:35:24.277Z"
   },
   {
    "duration": 276,
    "start_time": "2023-05-13T16:35:24.307Z"
   },
   {
    "duration": 9,
    "start_time": "2023-05-13T16:35:24.585Z"
   },
   {
    "duration": 9,
    "start_time": "2023-05-13T16:35:24.595Z"
   },
   {
    "duration": 6,
    "start_time": "2023-05-13T16:35:24.606Z"
   },
   {
    "duration": 28,
    "start_time": "2023-05-13T16:35:24.613Z"
   },
   {
    "duration": 78797,
    "start_time": "2023-05-13T16:35:24.643Z"
   },
   {
    "duration": 15,
    "start_time": "2023-05-13T16:36:43.442Z"
   },
   {
    "duration": 4720,
    "start_time": "2023-05-13T16:36:43.459Z"
   },
   {
    "duration": 11775,
    "start_time": "2023-05-13T16:36:48.181Z"
   },
   {
    "duration": 3,
    "start_time": "2023-05-13T16:36:59.958Z"
   },
   {
    "duration": 33,
    "start_time": "2023-05-13T16:36:59.963Z"
   },
   {
    "duration": 5,
    "start_time": "2023-05-13T16:36:59.998Z"
   },
   {
    "duration": 5,
    "start_time": "2023-05-13T16:37:00.004Z"
   },
   {
    "duration": 65,
    "start_time": "2023-05-13T16:37:00.010Z"
   },
   {
    "duration": 3,
    "start_time": "2023-05-13T16:37:00.077Z"
   },
   {
    "duration": 255,
    "start_time": "2023-05-13T16:37:00.082Z"
   },
   {
    "duration": 7,
    "start_time": "2023-05-13T16:37:00.340Z"
   },
   {
    "duration": 21,
    "start_time": "2023-05-13T16:37:00.349Z"
   },
   {
    "duration": 7929,
    "start_time": "2023-05-13T16:37:00.372Z"
   },
   {
    "duration": 4,
    "start_time": "2023-05-13T16:37:08.306Z"
   },
   {
    "duration": 3,
    "start_time": "2023-05-13T16:37:08.312Z"
   },
   {
    "duration": 7,
    "start_time": "2023-05-13T16:37:08.317Z"
   },
   {
    "duration": 24,
    "start_time": "2023-05-13T16:37:08.326Z"
   },
   {
    "duration": 168,
    "start_time": "2023-05-13T16:37:08.352Z"
   },
   {
    "duration": 26,
    "start_time": "2023-05-13T16:37:14.842Z"
   },
   {
    "duration": 3174,
    "start_time": "2023-05-13T16:37:59.991Z"
   },
   {
    "duration": 5501,
    "start_time": "2023-05-13T16:38:03.167Z"
   },
   {
    "duration": 7,
    "start_time": "2023-05-13T16:38:08.670Z"
   },
   {
    "duration": 3443,
    "start_time": "2023-05-13T16:38:08.679Z"
   },
   {
    "duration": 12,
    "start_time": "2023-05-13T16:38:12.124Z"
   },
   {
    "duration": 3,
    "start_time": "2023-05-13T16:38:12.137Z"
   },
   {
    "duration": 37,
    "start_time": "2023-05-13T16:38:12.142Z"
   },
   {
    "duration": 28,
    "start_time": "2023-05-13T16:38:12.181Z"
   },
   {
    "duration": 241,
    "start_time": "2023-05-13T16:38:12.211Z"
   },
   {
    "duration": 11,
    "start_time": "2023-05-13T16:38:12.453Z"
   },
   {
    "duration": 8,
    "start_time": "2023-05-13T16:38:12.466Z"
   },
   {
    "duration": 6,
    "start_time": "2023-05-13T16:38:12.476Z"
   },
   {
    "duration": 6,
    "start_time": "2023-05-13T16:38:12.483Z"
   },
   {
    "duration": 77785,
    "start_time": "2023-05-13T16:38:12.492Z"
   },
   {
    "duration": 9,
    "start_time": "2023-05-13T16:39:30.279Z"
   },
   {
    "duration": 4576,
    "start_time": "2023-05-13T16:39:30.290Z"
   },
   {
    "duration": 11453,
    "start_time": "2023-05-13T16:39:34.868Z"
   },
   {
    "duration": 3,
    "start_time": "2023-05-13T16:39:46.324Z"
   },
   {
    "duration": 52,
    "start_time": "2023-05-13T16:39:46.329Z"
   },
   {
    "duration": 5,
    "start_time": "2023-05-13T16:39:46.383Z"
   },
   {
    "duration": 5,
    "start_time": "2023-05-13T16:39:46.390Z"
   },
   {
    "duration": 58,
    "start_time": "2023-05-13T16:39:46.397Z"
   },
   {
    "duration": 4,
    "start_time": "2023-05-13T16:39:46.457Z"
   },
   {
    "duration": 193,
    "start_time": "2023-05-13T16:39:46.462Z"
   },
   {
    "duration": 6,
    "start_time": "2023-05-13T16:39:46.657Z"
   },
   {
    "duration": 4,
    "start_time": "2023-05-13T16:39:46.664Z"
   },
   {
    "duration": 8519,
    "start_time": "2023-05-13T16:39:46.670Z"
   },
   {
    "duration": 5,
    "start_time": "2023-05-13T16:39:55.192Z"
   },
   {
    "duration": 7,
    "start_time": "2023-05-13T16:39:55.199Z"
   },
   {
    "duration": 20,
    "start_time": "2023-05-13T16:39:55.208Z"
   },
   {
    "duration": 6,
    "start_time": "2023-05-13T16:39:55.231Z"
   },
   {
    "duration": 13,
    "start_time": "2023-05-13T16:39:55.239Z"
   },
   {
    "duration": 2336,
    "start_time": "2023-05-13T16:40:08.861Z"
   },
   {
    "duration": 2193,
    "start_time": "2023-05-13T16:40:11.200Z"
   },
   {
    "duration": 3,
    "start_time": "2023-05-13T16:40:13.395Z"
   },
   {
    "duration": 816,
    "start_time": "2023-05-13T16:40:13.400Z"
   },
   {
    "duration": 15,
    "start_time": "2023-05-13T16:40:14.219Z"
   },
   {
    "duration": 15,
    "start_time": "2023-05-13T16:40:14.236Z"
   },
   {
    "duration": 42,
    "start_time": "2023-05-13T16:40:14.253Z"
   },
   {
    "duration": 32,
    "start_time": "2023-05-13T16:40:14.297Z"
   },
   {
    "duration": 241,
    "start_time": "2023-05-13T16:40:14.350Z"
   },
   {
    "duration": 9,
    "start_time": "2023-05-13T16:40:14.593Z"
   },
   {
    "duration": 8,
    "start_time": "2023-05-13T16:40:14.604Z"
   },
   {
    "duration": 6,
    "start_time": "2023-05-13T16:40:14.614Z"
   },
   {
    "duration": 28,
    "start_time": "2023-05-13T16:40:14.625Z"
   },
   {
    "duration": 77630,
    "start_time": "2023-05-13T16:40:14.655Z"
   },
   {
    "duration": 7,
    "start_time": "2023-05-13T16:41:32.288Z"
   },
   {
    "duration": 4420,
    "start_time": "2023-05-13T16:41:32.297Z"
   },
   {
    "duration": 11530,
    "start_time": "2023-05-13T16:41:36.720Z"
   },
   {
    "duration": 3,
    "start_time": "2023-05-13T16:41:48.252Z"
   },
   {
    "duration": 44,
    "start_time": "2023-05-13T16:41:48.256Z"
   },
   {
    "duration": 5,
    "start_time": "2023-05-13T16:41:48.302Z"
   },
   {
    "duration": 7,
    "start_time": "2023-05-13T16:41:48.308Z"
   },
   {
    "duration": 57,
    "start_time": "2023-05-13T16:41:48.317Z"
   },
   {
    "duration": 3,
    "start_time": "2023-05-13T16:41:48.376Z"
   },
   {
    "duration": 146,
    "start_time": "2023-05-13T16:41:48.381Z"
   },
   {
    "duration": 4,
    "start_time": "2023-05-13T16:41:48.529Z"
   },
   {
    "duration": 15,
    "start_time": "2023-05-13T16:41:48.535Z"
   },
   {
    "duration": 8161,
    "start_time": "2023-05-13T16:41:48.552Z"
   },
   {
    "duration": 4,
    "start_time": "2023-05-13T16:41:56.717Z"
   },
   {
    "duration": 12,
    "start_time": "2023-05-13T16:41:56.723Z"
   },
   {
    "duration": 14,
    "start_time": "2023-05-13T16:41:56.737Z"
   },
   {
    "duration": 11,
    "start_time": "2023-05-13T16:41:56.753Z"
   },
   {
    "duration": 7,
    "start_time": "2023-05-13T16:41:56.766Z"
   },
   {
    "duration": 775660,
    "start_time": "2023-05-13T16:41:56.775Z"
   },
   {
    "duration": 3,
    "start_time": "2023-05-13T16:54:52.437Z"
   },
   {
    "duration": 84567,
    "start_time": "2023-05-13T16:54:52.442Z"
   },
   {
    "duration": 3,
    "start_time": "2023-05-13T16:56:17.011Z"
   },
   {
    "duration": 330488,
    "start_time": "2023-05-13T16:56:17.016Z"
   },
   {
    "duration": 3,
    "start_time": "2023-05-13T17:01:47.506Z"
   },
   {
    "duration": 28784,
    "start_time": "2023-05-13T17:01:47.511Z"
   },
   {
    "duration": 3,
    "start_time": "2023-05-13T17:02:16.297Z"
   },
   {
    "duration": 7301822,
    "start_time": "2023-05-13T17:02:16.303Z"
   },
   {
    "duration": 3,
    "start_time": "2023-05-13T19:03:58.127Z"
   },
   {
    "duration": 742332,
    "start_time": "2023-05-13T19:03:58.131Z"
   },
   {
    "duration": 3,
    "start_time": "2023-05-13T19:16:20.467Z"
   },
   {
    "duration": 1700950,
    "start_time": "2023-05-13T19:16:20.472Z"
   },
   {
    "duration": 0,
    "start_time": "2023-05-13T19:44:41.424Z"
   },
   {
    "duration": 0,
    "start_time": "2023-05-13T19:44:41.425Z"
   },
   {
    "duration": 3,
    "start_time": "2023-05-13T19:44:50.784Z"
   },
   {
    "duration": 14269129,
    "start_time": "2023-05-13T19:44:51.456Z"
   },
   {
    "duration": 2,
    "start_time": "2023-05-13T23:42:40.587Z"
   },
   {
    "duration": 2162635,
    "start_time": "2023-05-13T23:42:40.590Z"
   },
   {
    "duration": 5,
    "start_time": "2023-05-14T02:23:00.263Z"
   },
   {
    "duration": 4,
    "start_time": "2023-05-14T02:23:00.850Z"
   },
   {
    "duration": 4,
    "start_time": "2023-05-14T02:23:01.325Z"
   },
   {
    "duration": 4,
    "start_time": "2023-05-14T02:23:01.775Z"
   },
   {
    "duration": 3,
    "start_time": "2023-05-14T02:23:02.414Z"
   },
   {
    "duration": 4,
    "start_time": "2023-05-14T02:23:03.112Z"
   },
   {
    "duration": 136,
    "start_time": "2023-05-14T02:23:06.000Z"
   },
   {
    "duration": 4,
    "start_time": "2023-05-14T02:23:16.565Z"
   },
   {
    "duration": 143,
    "start_time": "2023-05-14T02:23:21.988Z"
   },
   {
    "duration": 5,
    "start_time": "2023-05-14T02:23:31.689Z"
   },
   {
    "duration": 5,
    "start_time": "2023-05-14T02:23:35.913Z"
   },
   {
    "duration": 148,
    "start_time": "2023-05-14T02:23:40.752Z"
   },
   {
    "duration": 88,
    "start_time": "2023-05-14T02:23:48.126Z"
   },
   {
    "duration": 10,
    "start_time": "2023-05-14T02:23:57.752Z"
   },
   {
    "duration": 137,
    "start_time": "2023-05-14T02:24:04.189Z"
   },
   {
    "duration": 20593,
    "start_time": "2023-05-14T02:24:14.228Z"
   },
   {
    "duration": 546029,
    "start_time": "2023-05-14T02:25:02.105Z"
   },
   {
    "duration": 0,
    "start_time": "2023-05-14T02:34:08.135Z"
   },
   {
    "duration": 29,
    "start_time": "2023-05-14T02:34:27.716Z"
   },
   {
    "duration": 4,
    "start_time": "2023-05-14T02:34:34.291Z"
   },
   {
    "duration": 4,
    "start_time": "2023-05-14T02:34:39.141Z"
   },
   {
    "duration": 4,
    "start_time": "2023-05-14T02:36:12.432Z"
   },
   {
    "duration": 10,
    "start_time": "2023-05-14T02:36:33.133Z"
   },
   {
    "duration": 4,
    "start_time": "2023-05-14T02:36:39.959Z"
   },
   {
    "duration": 5,
    "start_time": "2023-05-14T02:36:57.909Z"
   },
   {
    "duration": 5,
    "start_time": "2023-05-14T02:41:05.381Z"
   },
   {
    "duration": 5,
    "start_time": "2023-05-14T02:41:36.569Z"
   },
   {
    "duration": 3,
    "start_time": "2023-05-14T02:41:36.950Z"
   },
   {
    "duration": 6,
    "start_time": "2023-05-14T02:42:03.108Z"
   },
   {
    "duration": 3,
    "start_time": "2023-05-14T02:42:05.048Z"
   },
   {
    "duration": 2,
    "start_time": "2023-05-14T02:42:09.246Z"
   },
   {
    "duration": 17,
    "start_time": "2023-05-14T02:42:10.019Z"
   },
   {
    "duration": 1962,
    "start_time": "2023-05-14T02:42:40.088Z"
   },
   {
    "duration": 1937,
    "start_time": "2023-05-14T02:42:42.052Z"
   },
   {
    "duration": 4,
    "start_time": "2023-05-14T02:42:43.990Z"
   },
   {
    "duration": 759,
    "start_time": "2023-05-14T02:42:43.995Z"
   },
   {
    "duration": 11,
    "start_time": "2023-05-14T02:42:44.755Z"
   },
   {
    "duration": 4,
    "start_time": "2023-05-14T02:42:44.768Z"
   },
   {
    "duration": 38,
    "start_time": "2023-05-14T02:42:44.773Z"
   },
   {
    "duration": 47,
    "start_time": "2023-05-14T02:42:44.813Z"
   },
   {
    "duration": 224,
    "start_time": "2023-05-14T02:42:44.861Z"
   },
   {
    "duration": 8,
    "start_time": "2023-05-14T02:42:45.088Z"
   },
   {
    "duration": 7,
    "start_time": "2023-05-14T02:42:45.099Z"
   },
   {
    "duration": 5,
    "start_time": "2023-05-14T02:42:45.108Z"
   },
   {
    "duration": 7,
    "start_time": "2023-05-14T02:42:45.115Z"
   },
   {
    "duration": 58490,
    "start_time": "2023-05-14T02:42:45.123Z"
   },
   {
    "duration": 7,
    "start_time": "2023-05-14T02:43:43.615Z"
   },
   {
    "duration": 4418,
    "start_time": "2023-05-14T02:43:43.623Z"
   },
   {
    "duration": 10630,
    "start_time": "2023-05-14T02:43:48.043Z"
   },
   {
    "duration": 2,
    "start_time": "2023-05-14T02:43:58.675Z"
   },
   {
    "duration": 30,
    "start_time": "2023-05-14T02:43:58.679Z"
   },
   {
    "duration": 4,
    "start_time": "2023-05-14T02:43:58.710Z"
   },
   {
    "duration": 4,
    "start_time": "2023-05-14T02:43:58.715Z"
   },
   {
    "duration": 50,
    "start_time": "2023-05-14T02:43:58.720Z"
   },
   {
    "duration": 3,
    "start_time": "2023-05-14T02:43:58.772Z"
   },
   {
    "duration": 146,
    "start_time": "2023-05-14T02:43:58.776Z"
   },
   {
    "duration": 4,
    "start_time": "2023-05-14T02:43:58.924Z"
   },
   {
    "duration": 4,
    "start_time": "2023-05-14T02:43:58.929Z"
   },
   {
    "duration": 6999,
    "start_time": "2023-05-14T02:43:58.934Z"
   },
   {
    "duration": 3,
    "start_time": "2023-05-14T02:44:05.936Z"
   },
   {
    "duration": 13,
    "start_time": "2023-05-14T02:44:05.940Z"
   },
   {
    "duration": 6,
    "start_time": "2023-05-14T02:44:05.954Z"
   },
   {
    "duration": 6,
    "start_time": "2023-05-14T02:44:05.961Z"
   },
   {
    "duration": 6,
    "start_time": "2023-05-14T02:44:05.968Z"
   },
   {
    "duration": 3,
    "start_time": "2023-05-14T02:44:52.611Z"
   },
   {
    "duration": 652705,
    "start_time": "2023-05-14T02:44:53.773Z"
   },
   {
    "duration": 0,
    "start_time": "2023-05-14T02:55:46.480Z"
   },
   {
    "duration": 0,
    "start_time": "2023-05-14T02:55:46.481Z"
   },
   {
    "duration": 0,
    "start_time": "2023-05-14T02:55:46.482Z"
   },
   {
    "duration": 0,
    "start_time": "2023-05-14T02:55:46.483Z"
   },
   {
    "duration": 0,
    "start_time": "2023-05-14T02:55:46.484Z"
   },
   {
    "duration": 0,
    "start_time": "2023-05-14T02:55:46.485Z"
   },
   {
    "duration": 0,
    "start_time": "2023-05-14T02:55:46.486Z"
   },
   {
    "duration": 0,
    "start_time": "2023-05-14T02:55:46.487Z"
   },
   {
    "duration": 5,
    "start_time": "2023-05-14T02:56:46.942Z"
   },
   {
    "duration": 3,
    "start_time": "2023-05-14T02:57:00.854Z"
   },
   {
    "duration": 135904,
    "start_time": "2023-05-14T02:57:01.355Z"
   },
   {
    "duration": 0,
    "start_time": "2023-05-14T02:59:17.261Z"
   },
   {
    "duration": 0,
    "start_time": "2023-05-14T02:59:17.262Z"
   },
   {
    "duration": 0,
    "start_time": "2023-05-14T02:59:17.263Z"
   },
   {
    "duration": 0,
    "start_time": "2023-05-14T02:59:17.264Z"
   },
   {
    "duration": 0,
    "start_time": "2023-05-14T02:59:17.266Z"
   },
   {
    "duration": 0,
    "start_time": "2023-05-14T02:59:17.267Z"
   },
   {
    "duration": 1,
    "start_time": "2023-05-14T02:59:17.268Z"
   },
   {
    "duration": 0,
    "start_time": "2023-05-14T02:59:17.270Z"
   },
   {
    "duration": 4,
    "start_time": "2023-05-14T02:59:41.089Z"
   },
   {
    "duration": 5,
    "start_time": "2023-05-14T02:59:44.527Z"
   },
   {
    "duration": 3,
    "start_time": "2023-05-14T02:59:45.626Z"
   },
   {
    "duration": 3,
    "start_time": "2023-05-14T02:59:48.526Z"
   },
   {
    "duration": 136111,
    "start_time": "2023-05-14T02:59:48.889Z"
   },
   {
    "duration": 0,
    "start_time": "2023-05-14T03:02:05.002Z"
   },
   {
    "duration": 0,
    "start_time": "2023-05-14T03:02:05.003Z"
   },
   {
    "duration": 1,
    "start_time": "2023-05-14T03:02:05.004Z"
   },
   {
    "duration": 0,
    "start_time": "2023-05-14T03:02:05.006Z"
   },
   {
    "duration": 0,
    "start_time": "2023-05-14T03:02:05.007Z"
   },
   {
    "duration": 0,
    "start_time": "2023-05-14T03:02:05.008Z"
   },
   {
    "duration": 0,
    "start_time": "2023-05-14T03:02:05.009Z"
   },
   {
    "duration": 0,
    "start_time": "2023-05-14T03:02:05.010Z"
   },
   {
    "duration": 4,
    "start_time": "2023-05-14T03:02:42.361Z"
   },
   {
    "duration": 5,
    "start_time": "2023-05-14T03:02:44.487Z"
   },
   {
    "duration": 2,
    "start_time": "2023-05-14T03:02:49.224Z"
   },
   {
    "duration": 102388,
    "start_time": "2023-05-14T03:02:49.563Z"
   },
   {
    "duration": 0,
    "start_time": "2023-05-14T03:04:31.952Z"
   },
   {
    "duration": 3,
    "start_time": "2023-05-14T03:04:51.743Z"
   },
   {
    "duration": 5,
    "start_time": "2023-05-14T03:04:52.093Z"
   },
   {
    "duration": 3,
    "start_time": "2023-05-14T03:04:58.418Z"
   },
   {
    "duration": 98179,
    "start_time": "2023-05-14T03:04:58.980Z"
   },
   {
    "duration": 0,
    "start_time": "2023-05-14T03:06:37.160Z"
   },
   {
    "duration": 5,
    "start_time": "2023-05-14T03:07:33.454Z"
   },
   {
    "duration": 4,
    "start_time": "2023-05-14T03:07:36.916Z"
   },
   {
    "duration": 77,
    "start_time": "2023-05-14T03:07:43.591Z"
   },
   {
    "duration": 17248,
    "start_time": "2023-05-14T03:08:27.654Z"
   },
   {
    "duration": 15,
    "start_time": "2023-05-14T03:08:51.544Z"
   },
   {
    "duration": 12,
    "start_time": "2023-05-14T03:09:20.945Z"
   },
   {
    "duration": 3,
    "start_time": "2023-05-14T03:09:28.957Z"
   },
   {
    "duration": 3,
    "start_time": "2023-05-14T03:09:46.185Z"
   },
   {
    "duration": 1915,
    "start_time": "2023-05-14T03:10:25.936Z"
   },
   {
    "duration": 1946,
    "start_time": "2023-05-14T03:10:27.854Z"
   },
   {
    "duration": 3,
    "start_time": "2023-05-14T03:10:29.802Z"
   },
   {
    "duration": 718,
    "start_time": "2023-05-14T03:10:29.807Z"
   },
   {
    "duration": 9,
    "start_time": "2023-05-14T03:10:30.527Z"
   },
   {
    "duration": 22,
    "start_time": "2023-05-14T03:10:30.538Z"
   },
   {
    "duration": 62,
    "start_time": "2023-05-14T03:10:30.562Z"
   },
   {
    "duration": 48,
    "start_time": "2023-05-14T03:10:30.627Z"
   },
   {
    "duration": 229,
    "start_time": "2023-05-14T03:10:30.677Z"
   },
   {
    "duration": 9,
    "start_time": "2023-05-14T03:10:30.909Z"
   },
   {
    "duration": 20,
    "start_time": "2023-05-14T03:10:30.920Z"
   },
   {
    "duration": 24,
    "start_time": "2023-05-14T03:10:30.942Z"
   },
   {
    "duration": 15,
    "start_time": "2023-05-14T03:10:30.968Z"
   },
   {
    "duration": 59071,
    "start_time": "2023-05-14T03:10:30.985Z"
   },
   {
    "duration": 8,
    "start_time": "2023-05-14T03:11:30.058Z"
   },
   {
    "duration": 4124,
    "start_time": "2023-05-14T03:11:30.067Z"
   },
   {
    "duration": 10344,
    "start_time": "2023-05-14T03:11:34.192Z"
   },
   {
    "duration": 3,
    "start_time": "2023-05-14T03:11:44.537Z"
   },
   {
    "duration": 35,
    "start_time": "2023-05-14T03:11:44.542Z"
   },
   {
    "duration": 5,
    "start_time": "2023-05-14T03:11:44.579Z"
   },
   {
    "duration": 14,
    "start_time": "2023-05-14T03:11:44.585Z"
   },
   {
    "duration": 34,
    "start_time": "2023-05-14T03:11:44.601Z"
   },
   {
    "duration": 15,
    "start_time": "2023-05-14T03:11:44.637Z"
   },
   {
    "duration": 240,
    "start_time": "2023-05-14T03:11:44.653Z"
   },
   {
    "duration": 4,
    "start_time": "2023-05-14T03:11:44.895Z"
   },
   {
    "duration": 4,
    "start_time": "2023-05-14T03:11:44.901Z"
   },
   {
    "duration": 7217,
    "start_time": "2023-05-14T03:11:44.907Z"
   },
   {
    "duration": 4,
    "start_time": "2023-05-14T03:11:52.126Z"
   },
   {
    "duration": 5,
    "start_time": "2023-05-14T03:11:52.131Z"
   },
   {
    "duration": 12,
    "start_time": "2023-05-14T03:11:52.138Z"
   },
   {
    "duration": 16,
    "start_time": "2023-05-14T03:11:52.151Z"
   },
   {
    "duration": 6,
    "start_time": "2023-05-14T03:11:52.168Z"
   },
   {
    "duration": 23,
    "start_time": "2023-05-14T03:11:52.175Z"
   },
   {
    "duration": 39,
    "start_time": "2023-05-14T03:11:54.578Z"
   },
   {
    "duration": 5702,
    "start_time": "2023-05-14T03:11:55.128Z"
   },
   {
    "duration": 5463,
    "start_time": "2023-05-14T03:12:02.229Z"
   },
   {
    "duration": 37820,
    "start_time": "2023-05-14T03:12:08.330Z"
   },
   {
    "duration": 6,
    "start_time": "2023-05-14T03:12:46.153Z"
   },
   {
    "duration": 11,
    "start_time": "2023-05-14T03:13:01.607Z"
   },
   {
    "duration": 6,
    "start_time": "2023-05-14T03:13:49.309Z"
   },
   {
    "duration": 3,
    "start_time": "2023-05-14T03:13:53.808Z"
   },
   {
    "duration": 19,
    "start_time": "2023-05-14T03:13:54.309Z"
   },
   {
    "duration": 10,
    "start_time": "2023-05-14T03:13:54.784Z"
   },
   {
    "duration": 5,
    "start_time": "2023-05-14T03:14:23.922Z"
   },
   {
    "duration": 2,
    "start_time": "2023-05-14T03:14:25.310Z"
   },
   {
    "duration": 19,
    "start_time": "2023-05-14T03:14:25.760Z"
   },
   {
    "duration": 1920,
    "start_time": "2023-05-14T03:14:45.686Z"
   },
   {
    "duration": 1896,
    "start_time": "2023-05-14T03:14:47.608Z"
   },
   {
    "duration": 3,
    "start_time": "2023-05-14T03:14:49.505Z"
   },
   {
    "duration": 738,
    "start_time": "2023-05-14T03:14:49.510Z"
   },
   {
    "duration": 10,
    "start_time": "2023-05-14T03:14:50.250Z"
   },
   {
    "duration": 8,
    "start_time": "2023-05-14T03:14:50.262Z"
   },
   {
    "duration": 35,
    "start_time": "2023-05-14T03:14:50.272Z"
   },
   {
    "duration": 42,
    "start_time": "2023-05-14T03:14:50.309Z"
   },
   {
    "duration": 236,
    "start_time": "2023-05-14T03:14:50.353Z"
   },
   {
    "duration": 7,
    "start_time": "2023-05-14T03:14:50.591Z"
   },
   {
    "duration": 18,
    "start_time": "2023-05-14T03:14:50.599Z"
   },
   {
    "duration": 11,
    "start_time": "2023-05-14T03:14:50.619Z"
   },
   {
    "duration": 28,
    "start_time": "2023-05-14T03:14:50.632Z"
   },
   {
    "duration": 58940,
    "start_time": "2023-05-14T03:14:50.662Z"
   },
   {
    "duration": 7,
    "start_time": "2023-05-14T03:15:49.604Z"
   },
   {
    "duration": 4264,
    "start_time": "2023-05-14T03:15:49.613Z"
   },
   {
    "duration": 10628,
    "start_time": "2023-05-14T03:15:53.878Z"
   },
   {
    "duration": 3,
    "start_time": "2023-05-14T03:16:04.508Z"
   },
   {
    "duration": 28,
    "start_time": "2023-05-14T03:16:04.512Z"
   },
   {
    "duration": 9,
    "start_time": "2023-05-14T03:16:04.542Z"
   },
   {
    "duration": 4,
    "start_time": "2023-05-14T03:16:04.553Z"
   },
   {
    "duration": 30,
    "start_time": "2023-05-14T03:16:04.559Z"
   },
   {
    "duration": 3,
    "start_time": "2023-05-14T03:16:04.591Z"
   },
   {
    "duration": 165,
    "start_time": "2023-05-14T03:16:04.596Z"
   },
   {
    "duration": 5,
    "start_time": "2023-05-14T03:16:04.762Z"
   },
   {
    "duration": 11,
    "start_time": "2023-05-14T03:16:04.768Z"
   },
   {
    "duration": 6872,
    "start_time": "2023-05-14T03:16:04.780Z"
   },
   {
    "duration": 4,
    "start_time": "2023-05-14T03:16:11.655Z"
   },
   {
    "duration": 3,
    "start_time": "2023-05-14T03:16:11.660Z"
   },
   {
    "duration": 4,
    "start_time": "2023-05-14T03:16:11.665Z"
   },
   {
    "duration": 5,
    "start_time": "2023-05-14T03:16:11.670Z"
   },
   {
    "duration": 5,
    "start_time": "2023-05-14T03:16:11.677Z"
   },
   {
    "duration": 5,
    "start_time": "2023-05-14T03:16:11.683Z"
   },
   {
    "duration": 104051,
    "start_time": "2023-05-14T03:16:11.690Z"
   },
   {
    "duration": 0,
    "start_time": "2023-05-14T03:17:55.743Z"
   },
   {
    "duration": 6,
    "start_time": "2023-05-14T03:18:41.624Z"
   },
   {
    "duration": 3,
    "start_time": "2023-05-14T03:18:48.999Z"
   },
   {
    "duration": 102524,
    "start_time": "2023-05-14T03:18:49.375Z"
   },
   {
    "duration": 6,
    "start_time": "2023-05-14T03:20:31.900Z"
   },
   {
    "duration": 5,
    "start_time": "2023-05-14T03:20:39.278Z"
   },
   {
    "duration": 4,
    "start_time": "2023-05-14T03:20:39.615Z"
   },
   {
    "duration": 3,
    "start_time": "2023-05-14T03:20:39.915Z"
   },
   {
    "duration": 3,
    "start_time": "2023-05-14T03:20:40.240Z"
   },
   {
    "duration": 5,
    "start_time": "2023-05-14T03:20:41.002Z"
   },
   {
    "duration": 97,
    "start_time": "2023-05-14T03:20:41.579Z"
   },
   {
    "duration": 12,
    "start_time": "2023-05-14T03:20:42.991Z"
   },
   {
    "duration": 3,
    "start_time": "2023-05-14T03:20:47.740Z"
   },
   {
    "duration": 128,
    "start_time": "2023-05-14T03:20:49.615Z"
   },
   {
    "duration": 1971,
    "start_time": "2023-05-14T03:21:00.870Z"
   },
   {
    "duration": 2056,
    "start_time": "2023-05-14T03:21:02.843Z"
   },
   {
    "duration": 3,
    "start_time": "2023-05-14T03:21:04.901Z"
   },
   {
    "duration": 712,
    "start_time": "2023-05-14T03:21:04.906Z"
   },
   {
    "duration": 9,
    "start_time": "2023-05-14T03:21:05.620Z"
   },
   {
    "duration": 4,
    "start_time": "2023-05-14T03:21:05.630Z"
   },
   {
    "duration": 45,
    "start_time": "2023-05-14T03:21:05.635Z"
   },
   {
    "duration": 37,
    "start_time": "2023-05-14T03:21:05.681Z"
   },
   {
    "duration": 214,
    "start_time": "2023-05-14T03:21:05.719Z"
   },
   {
    "duration": 7,
    "start_time": "2023-05-14T03:21:05.935Z"
   },
   {
    "duration": 7,
    "start_time": "2023-05-14T03:21:05.950Z"
   },
   {
    "duration": 5,
    "start_time": "2023-05-14T03:21:05.958Z"
   },
   {
    "duration": 5,
    "start_time": "2023-05-14T03:21:05.964Z"
   },
   {
    "duration": 58920,
    "start_time": "2023-05-14T03:21:05.972Z"
   },
   {
    "duration": 7,
    "start_time": "2023-05-14T03:22:04.893Z"
   },
   {
    "duration": 4214,
    "start_time": "2023-05-14T03:22:04.902Z"
   },
   {
    "duration": 11097,
    "start_time": "2023-05-14T03:22:09.118Z"
   },
   {
    "duration": 3,
    "start_time": "2023-05-14T03:22:20.216Z"
   },
   {
    "duration": 36,
    "start_time": "2023-05-14T03:22:20.220Z"
   },
   {
    "duration": 4,
    "start_time": "2023-05-14T03:22:20.258Z"
   },
   {
    "duration": 4,
    "start_time": "2023-05-14T03:22:20.264Z"
   },
   {
    "duration": 32,
    "start_time": "2023-05-14T03:22:20.269Z"
   },
   {
    "duration": 3,
    "start_time": "2023-05-14T03:22:20.303Z"
   },
   {
    "duration": 196,
    "start_time": "2023-05-14T03:22:20.308Z"
   },
   {
    "duration": 4,
    "start_time": "2023-05-14T03:22:20.506Z"
   },
   {
    "duration": 12,
    "start_time": "2023-05-14T03:22:20.511Z"
   },
   {
    "duration": 6979,
    "start_time": "2023-05-14T03:22:20.525Z"
   },
   {
    "duration": 4,
    "start_time": "2023-05-14T03:22:27.505Z"
   },
   {
    "duration": 5,
    "start_time": "2023-05-14T03:22:27.511Z"
   },
   {
    "duration": 5,
    "start_time": "2023-05-14T03:22:27.517Z"
   },
   {
    "duration": 6,
    "start_time": "2023-05-14T03:22:27.524Z"
   },
   {
    "duration": 23,
    "start_time": "2023-05-14T03:22:27.531Z"
   },
   {
    "duration": 5,
    "start_time": "2023-05-14T03:22:27.556Z"
   },
   {
    "duration": 148138,
    "start_time": "2023-05-14T03:22:27.562Z"
   },
   {
    "duration": 2,
    "start_time": "2023-05-14T03:24:55.702Z"
   },
   {
    "duration": 57692,
    "start_time": "2023-05-14T03:24:55.705Z"
   },
   {
    "duration": 2,
    "start_time": "2023-05-14T03:25:53.399Z"
   },
   {
    "duration": 34438,
    "start_time": "2023-05-14T03:25:53.402Z"
   },
   {
    "duration": 8,
    "start_time": "2023-05-14T03:26:27.842Z"
   },
   {
    "duration": 884834,
    "start_time": "2023-05-14T03:26:27.852Z"
   },
   {
    "duration": 3,
    "start_time": "2023-05-14T03:41:12.691Z"
   },
   {
    "duration": 2130156,
    "start_time": "2023-05-14T03:41:12.695Z"
   },
   {
    "duration": 5,
    "start_time": "2023-05-14T04:16:42.854Z"
   },
   {
    "duration": 5,
    "start_time": "2023-05-14T04:16:42.861Z"
   },
   {
    "duration": 5,
    "start_time": "2023-05-14T04:16:42.867Z"
   },
   {
    "duration": 3,
    "start_time": "2023-05-14T04:16:42.874Z"
   },
   {
    "duration": 9,
    "start_time": "2023-05-14T04:16:42.879Z"
   },
   {
    "duration": 138,
    "start_time": "2023-05-14T04:16:42.890Z"
   },
   {
    "duration": 3,
    "start_time": "2023-05-14T04:18:10.494Z"
   },
   {
    "duration": 164,
    "start_time": "2023-05-14T04:18:11.420Z"
   },
   {
    "duration": 2,
    "start_time": "2023-05-14T04:23:33.480Z"
   },
   {
    "duration": 7833,
    "start_time": "2023-05-14T04:23:37.092Z"
   },
   {
    "duration": 1808,
    "start_time": "2023-05-14T04:23:51.943Z"
   },
   {
    "duration": 14,
    "start_time": "2023-05-14T04:23:56.644Z"
   },
   {
    "duration": 12,
    "start_time": "2023-05-14T04:27:54.251Z"
   },
   {
    "duration": 13,
    "start_time": "2023-05-14T04:27:59.845Z"
   },
   {
    "duration": 11,
    "start_time": "2023-05-14T04:28:07.770Z"
   },
   {
    "duration": 3,
    "start_time": "2023-05-14T04:28:17.945Z"
   },
   {
    "duration": 3260,
    "start_time": "2023-05-14T04:28:23.445Z"
   },
   {
    "duration": 4,
    "start_time": "2023-05-14T04:36:53.989Z"
   },
   {
    "duration": 51,
    "start_time": "2023-05-14T04:37:07.764Z"
   },
   {
    "duration": 4,
    "start_time": "2023-05-14T04:37:15.203Z"
   },
   {
    "duration": 52,
    "start_time": "2023-05-14T04:37:16.164Z"
   },
   {
    "duration": 4,
    "start_time": "2023-05-14T04:39:29.057Z"
   },
   {
    "duration": 4,
    "start_time": "2023-05-14T04:39:47.406Z"
   },
   {
    "duration": 33,
    "start_time": "2023-05-14T04:39:47.447Z"
   },
   {
    "duration": 4,
    "start_time": "2023-05-14T04:40:14.538Z"
   },
   {
    "duration": 4,
    "start_time": "2023-05-14T04:40:34.946Z"
   },
   {
    "duration": 39,
    "start_time": "2023-05-14T04:40:41.383Z"
   },
   {
    "duration": 8,
    "start_time": "2023-05-14T04:40:59.541Z"
   },
   {
    "duration": 7,
    "start_time": "2023-05-14T04:41:01.183Z"
   },
   {
    "duration": 7,
    "start_time": "2023-05-14T04:41:17.485Z"
   },
   {
    "duration": 5,
    "start_time": "2023-05-14T04:41:24.496Z"
   },
   {
    "duration": 30,
    "start_time": "2023-05-14T04:41:27.898Z"
   },
   {
    "duration": 3,
    "start_time": "2023-05-14T04:41:32.338Z"
   },
   {
    "duration": 163,
    "start_time": "2023-05-14T04:41:47.456Z"
   },
   {
    "duration": 4,
    "start_time": "2023-05-14T04:41:47.675Z"
   },
   {
    "duration": 2,
    "start_time": "2023-05-14T04:41:48.362Z"
   },
   {
    "duration": 7166,
    "start_time": "2023-05-14T04:41:48.775Z"
   },
   {
    "duration": 9,
    "start_time": "2023-05-14T04:41:55.943Z"
   },
   {
    "duration": 4,
    "start_time": "2023-05-14T04:43:44.767Z"
   },
   {
    "duration": 3,
    "start_time": "2023-05-14T04:43:51.753Z"
   },
   {
    "duration": 27,
    "start_time": "2023-05-14T04:43:52.192Z"
   },
   {
    "duration": 5,
    "start_time": "2023-05-14T04:43:52.631Z"
   },
   {
    "duration": 4,
    "start_time": "2023-05-14T04:43:54.192Z"
   },
   {
    "duration": 33,
    "start_time": "2023-05-14T04:43:55.043Z"
   },
   {
    "duration": 3,
    "start_time": "2023-05-14T04:43:55.444Z"
   },
   {
    "duration": 5,
    "start_time": "2023-05-14T04:44:02.355Z"
   },
   {
    "duration": 3,
    "start_time": "2023-05-14T04:44:02.893Z"
   },
   {
    "duration": 6,
    "start_time": "2023-05-14T04:44:03.540Z"
   },
   {
    "duration": 6974,
    "start_time": "2023-05-14T04:44:04.143Z"
   },
   {
    "duration": 4,
    "start_time": "2023-05-14T04:44:11.654Z"
   },
   {
    "duration": 7027,
    "start_time": "2023-05-14T04:44:20.340Z"
   },
   {
    "duration": 4,
    "start_time": "2023-05-14T04:44:27.369Z"
   },
   {
    "duration": 8252,
    "start_time": "2023-05-14T04:45:14.872Z"
   },
   {
    "duration": 4,
    "start_time": "2023-05-14T04:45:34.243Z"
   },
   {
    "duration": 3,
    "start_time": "2023-05-14T04:45:42.132Z"
   },
   {
    "duration": 1514,
    "start_time": "2023-05-14T04:45:43.839Z"
   },
   {
    "duration": 7,
    "start_time": "2023-05-14T04:45:47.429Z"
   },
   {
    "duration": 35,
    "start_time": "2023-05-14T04:45:49.242Z"
   },
   {
    "duration": 80,
    "start_time": "2023-05-14T04:46:00.724Z"
   },
   {
    "duration": 4,
    "start_time": "2023-05-14T04:46:12.349Z"
   },
   {
    "duration": 12,
    "start_time": "2023-05-14T04:46:29.050Z"
   },
   {
    "duration": 37,
    "start_time": "2023-05-14T04:46:42.999Z"
   },
   {
    "duration": 11,
    "start_time": "2023-05-14T04:46:59.452Z"
   },
   {
    "duration": 10,
    "start_time": "2023-05-14T04:47:03.733Z"
   },
   {
    "duration": 10,
    "start_time": "2023-05-14T04:47:08.959Z"
   },
   {
    "duration": 13,
    "start_time": "2023-05-14T04:47:14.988Z"
   },
   {
    "duration": 11,
    "start_time": "2023-05-14T04:47:26.443Z"
   },
   {
    "duration": 177,
    "start_time": "2023-05-14T04:47:30.463Z"
   },
   {
    "duration": 174,
    "start_time": "2023-05-14T04:47:43.144Z"
   },
   {
    "duration": 11,
    "start_time": "2023-05-14T04:47:52.148Z"
   },
   {
    "duration": 170,
    "start_time": "2023-05-14T04:48:15.952Z"
   },
   {
    "duration": 4,
    "start_time": "2023-05-14T04:48:34.432Z"
   },
   {
    "duration": 4,
    "start_time": "2023-05-14T04:48:44.991Z"
   },
   {
    "duration": 5,
    "start_time": "2023-05-14T04:48:49.967Z"
   },
   {
    "duration": 11,
    "start_time": "2023-05-14T04:48:57.642Z"
   },
   {
    "duration": 4,
    "start_time": "2023-05-14T04:49:11.642Z"
   },
   {
    "duration": 159,
    "start_time": "2023-05-14T04:49:26.391Z"
   },
   {
    "duration": 152,
    "start_time": "2023-05-14T04:49:40.728Z"
   },
   {
    "duration": 156,
    "start_time": "2023-05-14T04:49:58.091Z"
   },
   {
    "duration": 7,
    "start_time": "2023-05-14T04:51:07.632Z"
   },
   {
    "duration": 2,
    "start_time": "2023-05-14T04:51:44.940Z"
   },
   {
    "duration": 1367,
    "start_time": "2023-05-14T04:51:51.783Z"
   },
   {
    "duration": 5,
    "start_time": "2023-05-14T04:52:00.843Z"
   },
   {
    "duration": 35,
    "start_time": "2023-05-14T04:52:01.844Z"
   },
   {
    "duration": 10,
    "start_time": "2023-05-14T04:52:10.197Z"
   },
   {
    "duration": 12,
    "start_time": "2023-05-14T04:52:15.649Z"
   },
   {
    "duration": 3,
    "start_time": "2023-05-14T04:52:22.463Z"
   },
   {
    "duration": 66536,
    "start_time": "2023-05-14T04:52:23.935Z"
   },
   {
    "duration": 5688,
    "start_time": "2023-05-14T04:53:30.473Z"
   },
   {
    "duration": 35,
    "start_time": "2023-05-14T04:53:36.162Z"
   },
   {
    "duration": 169,
    "start_time": "2023-05-14T04:53:36.199Z"
   },
   {
    "duration": 18,
    "start_time": "2023-05-14T04:53:40.089Z"
   },
   {
    "duration": 11,
    "start_time": "2023-05-14T04:53:51.336Z"
   },
   {
    "duration": 4,
    "start_time": "2023-05-14T04:54:32.291Z"
   },
   {
    "duration": 17,
    "start_time": "2023-05-14T04:54:37.136Z"
   },
   {
    "duration": 17,
    "start_time": "2023-05-14T04:55:01.848Z"
   },
   {
    "duration": 12,
    "start_time": "2023-05-14T04:55:12.155Z"
   },
   {
    "duration": 4956,
    "start_time": "2023-05-14T04:55:16.328Z"
   },
   {
    "duration": 5433,
    "start_time": "2023-05-14T04:55:22.093Z"
   },
   {
    "duration": 2455,
    "start_time": "2023-05-14T04:56:40.511Z"
   },
   {
    "duration": 5017,
    "start_time": "2023-05-14T04:56:42.968Z"
   },
   {
    "duration": 6,
    "start_time": "2023-05-14T04:56:47.987Z"
   },
   {
    "duration": 3242,
    "start_time": "2023-05-14T04:56:47.995Z"
   },
   {
    "duration": 10,
    "start_time": "2023-05-14T04:56:51.239Z"
   },
   {
    "duration": 11,
    "start_time": "2023-05-14T04:56:51.251Z"
   },
   {
    "duration": 52,
    "start_time": "2023-05-14T04:56:51.263Z"
   },
   {
    "duration": 27,
    "start_time": "2023-05-14T04:56:51.317Z"
   },
   {
    "duration": 218,
    "start_time": "2023-05-14T04:56:51.346Z"
   },
   {
    "duration": 7,
    "start_time": "2023-05-14T04:56:51.567Z"
   },
   {
    "duration": 21,
    "start_time": "2023-05-14T04:56:51.575Z"
   },
   {
    "duration": 8,
    "start_time": "2023-05-14T04:56:51.598Z"
   },
   {
    "duration": 5,
    "start_time": "2023-05-14T04:56:51.607Z"
   },
   {
    "duration": 61987,
    "start_time": "2023-05-14T04:56:51.614Z"
   },
   {
    "duration": 8,
    "start_time": "2023-05-14T04:57:53.603Z"
   },
   {
    "duration": 4365,
    "start_time": "2023-05-14T04:57:53.613Z"
   },
   {
    "duration": 10871,
    "start_time": "2023-05-14T04:57:57.979Z"
   },
   {
    "duration": 3,
    "start_time": "2023-05-14T04:58:08.851Z"
   },
   {
    "duration": 29,
    "start_time": "2023-05-14T04:58:08.855Z"
   },
   {
    "duration": 4,
    "start_time": "2023-05-14T04:58:08.886Z"
   },
   {
    "duration": 6,
    "start_time": "2023-05-14T04:58:08.892Z"
   },
   {
    "duration": 51,
    "start_time": "2023-05-14T04:58:08.899Z"
   },
   {
    "duration": 4,
    "start_time": "2023-05-14T04:58:08.952Z"
   },
   {
    "duration": 187,
    "start_time": "2023-05-14T04:58:08.957Z"
   },
   {
    "duration": 5,
    "start_time": "2023-05-14T04:58:09.145Z"
   },
   {
    "duration": 3,
    "start_time": "2023-05-14T04:58:09.152Z"
   },
   {
    "duration": 8435,
    "start_time": "2023-05-14T04:58:09.157Z"
   },
   {
    "duration": 4,
    "start_time": "2023-05-14T04:58:17.596Z"
   },
   {
    "duration": 3,
    "start_time": "2023-05-14T04:58:17.602Z"
   },
   {
    "duration": 7,
    "start_time": "2023-05-14T04:58:17.606Z"
   },
   {
    "duration": 5,
    "start_time": "2023-05-14T04:58:17.614Z"
   },
   {
    "duration": 5,
    "start_time": "2023-05-14T04:58:17.621Z"
   },
   {
    "duration": 23,
    "start_time": "2023-05-14T04:58:17.628Z"
   },
   {
    "duration": 137652,
    "start_time": "2023-05-14T04:58:17.653Z"
   },
   {
    "duration": 2,
    "start_time": "2023-05-14T05:00:35.307Z"
   },
   {
    "duration": 58483,
    "start_time": "2023-05-14T05:00:35.310Z"
   },
   {
    "duration": 3,
    "start_time": "2023-05-14T05:01:33.795Z"
   },
   {
    "duration": 28798,
    "start_time": "2023-05-14T05:01:33.799Z"
   },
   {
    "duration": 4,
    "start_time": "2023-05-14T05:02:02.599Z"
   },
   {
    "duration": 822903,
    "start_time": "2023-05-14T05:02:02.604Z"
   },
   {
    "duration": 2,
    "start_time": "2023-05-14T05:15:45.510Z"
   },
   {
    "duration": 2257304,
    "start_time": "2023-05-14T05:15:45.514Z"
   },
   {
    "duration": 0,
    "start_time": "2023-05-14T05:53:22.820Z"
   },
   {
    "duration": 0,
    "start_time": "2023-05-14T05:53:22.821Z"
   },
   {
    "duration": 0,
    "start_time": "2023-05-14T05:53:22.822Z"
   },
   {
    "duration": 0,
    "start_time": "2023-05-14T05:53:22.823Z"
   },
   {
    "duration": 0,
    "start_time": "2023-05-14T05:53:22.825Z"
   },
   {
    "duration": 0,
    "start_time": "2023-05-14T05:53:22.826Z"
   },
   {
    "duration": 0,
    "start_time": "2023-05-14T05:53:22.827Z"
   },
   {
    "duration": 0,
    "start_time": "2023-05-14T05:53:22.828Z"
   },
   {
    "duration": 3018,
    "start_time": "2023-05-14T08:51:55.324Z"
   },
   {
    "duration": 2104,
    "start_time": "2023-05-14T08:51:58.344Z"
   },
   {
    "duration": 9,
    "start_time": "2023-05-14T08:52:00.450Z"
   },
   {
    "duration": 2383,
    "start_time": "2023-05-14T08:52:00.460Z"
   },
   {
    "duration": 10,
    "start_time": "2023-05-14T08:52:02.844Z"
   },
   {
    "duration": 9,
    "start_time": "2023-05-14T08:52:02.856Z"
   },
   {
    "duration": 44,
    "start_time": "2023-05-14T08:52:02.867Z"
   },
   {
    "duration": 24,
    "start_time": "2023-05-14T08:52:02.912Z"
   },
   {
    "duration": 228,
    "start_time": "2023-05-14T08:52:02.937Z"
   },
   {
    "duration": 22,
    "start_time": "2023-05-14T08:52:03.166Z"
   },
   {
    "duration": 6,
    "start_time": "2023-05-14T08:52:03.190Z"
   },
   {
    "duration": 5,
    "start_time": "2023-05-14T08:52:03.197Z"
   },
   {
    "duration": 9,
    "start_time": "2023-05-14T08:52:03.203Z"
   },
   {
    "duration": 64906,
    "start_time": "2023-05-14T08:52:03.214Z"
   },
   {
    "duration": 8,
    "start_time": "2023-05-14T08:53:08.121Z"
   },
   {
    "duration": 3834,
    "start_time": "2023-05-14T08:53:08.130Z"
   },
   {
    "duration": 9582,
    "start_time": "2023-05-14T08:53:11.966Z"
   },
   {
    "duration": 4,
    "start_time": "2023-05-14T08:53:21.550Z"
   },
   {
    "duration": 40,
    "start_time": "2023-05-14T08:53:21.555Z"
   },
   {
    "duration": 3,
    "start_time": "2023-05-14T08:53:21.597Z"
   },
   {
    "duration": 8,
    "start_time": "2023-05-14T08:53:21.603Z"
   },
   {
    "duration": 32,
    "start_time": "2023-05-14T08:53:21.612Z"
   },
   {
    "duration": 3,
    "start_time": "2023-05-14T08:53:21.645Z"
   },
   {
    "duration": 131,
    "start_time": "2023-05-14T08:53:21.650Z"
   },
   {
    "duration": 13,
    "start_time": "2023-05-14T08:53:21.782Z"
   },
   {
    "duration": 5,
    "start_time": "2023-05-14T08:53:21.796Z"
   },
   {
    "duration": 8607,
    "start_time": "2023-05-14T08:53:21.804Z"
   },
   {
    "duration": 5,
    "start_time": "2023-05-14T08:53:30.413Z"
   },
   {
    "duration": 33,
    "start_time": "2023-05-14T08:53:30.420Z"
   },
   {
    "duration": 46,
    "start_time": "2023-05-14T08:53:30.455Z"
   },
   {
    "duration": 48,
    "start_time": "2023-05-14T08:53:30.503Z"
   },
   {
    "duration": 27,
    "start_time": "2023-05-14T08:53:30.553Z"
   },
   {
    "duration": 46,
    "start_time": "2023-05-14T08:53:30.582Z"
   },
   {
    "duration": 90246,
    "start_time": "2023-05-14T08:53:30.630Z"
   },
   {
    "duration": 6,
    "start_time": "2023-05-14T08:56:02.007Z"
   },
   {
    "duration": 12442,
    "start_time": "2023-05-14T08:56:52.765Z"
   },
   {
    "duration": 33,
    "start_time": "2023-05-14T08:57:14.169Z"
   },
   {
    "duration": 34,
    "start_time": "2023-05-14T08:57:18.967Z"
   },
   {
    "duration": 34,
    "start_time": "2023-05-14T08:57:21.821Z"
   },
   {
    "duration": 46,
    "start_time": "2023-05-14T08:57:24.027Z"
   },
   {
    "duration": 32,
    "start_time": "2023-05-14T08:57:27.904Z"
   },
   {
    "duration": 38,
    "start_time": "2023-05-14T08:57:36.469Z"
   },
   {
    "duration": 43,
    "start_time": "2023-05-14T08:57:40.022Z"
   },
   {
    "duration": 4,
    "start_time": "2023-05-14T09:01:54.979Z"
   },
   {
    "duration": 3,
    "start_time": "2023-05-14T09:01:57.113Z"
   },
   {
    "duration": 6,
    "start_time": "2023-05-14T09:01:57.497Z"
   },
   {
    "duration": 3,
    "start_time": "2023-05-14T09:02:00.321Z"
   },
   {
    "duration": 2,
    "start_time": "2023-05-14T09:02:11.811Z"
   },
   {
    "duration": 20,
    "start_time": "2023-05-14T09:02:12.197Z"
   },
   {
    "duration": 7,
    "start_time": "2023-05-14T09:02:25.234Z"
   },
   {
    "duration": 3,
    "start_time": "2023-05-14T09:02:25.734Z"
   },
   {
    "duration": 7,
    "start_time": "2023-05-14T09:02:26.162Z"
   },
   {
    "duration": 2,
    "start_time": "2023-05-14T09:02:27.633Z"
   },
   {
    "duration": 19,
    "start_time": "2023-05-14T09:02:28.034Z"
   },
   {
    "duration": 1920,
    "start_time": "2023-05-14T09:02:37.033Z"
   },
   {
    "duration": 1985,
    "start_time": "2023-05-14T09:02:38.955Z"
   },
   {
    "duration": 3,
    "start_time": "2023-05-14T09:02:40.942Z"
   },
   {
    "duration": 788,
    "start_time": "2023-05-14T09:02:40.946Z"
   },
   {
    "duration": 9,
    "start_time": "2023-05-14T09:02:41.735Z"
   },
   {
    "duration": 5,
    "start_time": "2023-05-14T09:02:41.745Z"
   },
   {
    "duration": 32,
    "start_time": "2023-05-14T09:02:41.752Z"
   },
   {
    "duration": 23,
    "start_time": "2023-05-14T09:02:41.786Z"
   },
   {
    "duration": 226,
    "start_time": "2023-05-14T09:02:41.810Z"
   },
   {
    "duration": 7,
    "start_time": "2023-05-14T09:02:42.038Z"
   },
   {
    "duration": 16,
    "start_time": "2023-05-14T09:02:42.046Z"
   },
   {
    "duration": 7,
    "start_time": "2023-05-14T09:02:42.063Z"
   },
   {
    "duration": 7,
    "start_time": "2023-05-14T09:02:42.071Z"
   },
   {
    "duration": 61528,
    "start_time": "2023-05-14T09:02:42.079Z"
   },
   {
    "duration": 8,
    "start_time": "2023-05-14T09:03:43.608Z"
   },
   {
    "duration": 4467,
    "start_time": "2023-05-14T09:03:43.618Z"
   },
   {
    "duration": 9952,
    "start_time": "2023-05-14T09:03:48.087Z"
   },
   {
    "duration": 14,
    "start_time": "2023-05-14T09:03:58.041Z"
   },
   {
    "duration": 39,
    "start_time": "2023-05-14T09:03:58.057Z"
   },
   {
    "duration": 5,
    "start_time": "2023-05-14T09:03:58.097Z"
   },
   {
    "duration": 5,
    "start_time": "2023-05-14T09:03:58.103Z"
   },
   {
    "duration": 36,
    "start_time": "2023-05-14T09:03:58.109Z"
   },
   {
    "duration": 3,
    "start_time": "2023-05-14T09:03:58.147Z"
   },
   {
    "duration": 222,
    "start_time": "2023-05-14T09:03:58.151Z"
   },
   {
    "duration": 4,
    "start_time": "2023-05-14T09:03:58.375Z"
   },
   {
    "duration": 6,
    "start_time": "2023-05-14T09:03:58.381Z"
   },
   {
    "duration": 8315,
    "start_time": "2023-05-14T09:03:58.389Z"
   },
   {
    "duration": 4,
    "start_time": "2023-05-14T09:04:06.706Z"
   },
   {
    "duration": 11,
    "start_time": "2023-05-14T09:04:06.712Z"
   },
   {
    "duration": 9,
    "start_time": "2023-05-14T09:04:06.725Z"
   },
   {
    "duration": 12,
    "start_time": "2023-05-14T09:04:06.735Z"
   },
   {
    "duration": 16,
    "start_time": "2023-05-14T09:04:06.748Z"
   },
   {
    "duration": 8,
    "start_time": "2023-05-14T09:04:06.765Z"
   },
   {
    "duration": 87797,
    "start_time": "2023-05-14T09:04:06.774Z"
   },
   {
    "duration": 4,
    "start_time": "2023-05-14T09:06:29.214Z"
   },
   {
    "duration": 3,
    "start_time": "2023-05-14T09:06:29.718Z"
   },
   {
    "duration": 6,
    "start_time": "2023-05-14T09:06:30.159Z"
   },
   {
    "duration": 3,
    "start_time": "2023-05-14T09:06:31.596Z"
   },
   {
    "duration": 95985,
    "start_time": "2023-05-14T09:06:32.071Z"
   },
   {
    "duration": 1953,
    "start_time": "2023-05-14T09:08:33.702Z"
   },
   {
    "duration": 2167,
    "start_time": "2023-05-14T09:08:35.657Z"
   },
   {
    "duration": 4,
    "start_time": "2023-05-14T09:08:37.825Z"
   },
   {
    "duration": 809,
    "start_time": "2023-05-14T09:08:37.830Z"
   },
   {
    "duration": 9,
    "start_time": "2023-05-14T09:08:38.641Z"
   },
   {
    "duration": 4,
    "start_time": "2023-05-14T09:08:38.651Z"
   },
   {
    "duration": 43,
    "start_time": "2023-05-14T09:08:38.656Z"
   },
   {
    "duration": 22,
    "start_time": "2023-05-14T09:08:38.701Z"
   },
   {
    "duration": 244,
    "start_time": "2023-05-14T09:08:38.724Z"
   },
   {
    "duration": 16,
    "start_time": "2023-05-14T09:08:38.969Z"
   },
   {
    "duration": 6,
    "start_time": "2023-05-14T09:08:38.987Z"
   },
   {
    "duration": 5,
    "start_time": "2023-05-14T09:08:38.994Z"
   },
   {
    "duration": 8,
    "start_time": "2023-05-14T09:08:39.001Z"
   },
   {
    "duration": 62501,
    "start_time": "2023-05-14T09:08:39.012Z"
   },
   {
    "duration": 7,
    "start_time": "2023-05-14T09:09:41.515Z"
   },
   {
    "duration": 4307,
    "start_time": "2023-05-14T09:09:41.524Z"
   },
   {
    "duration": 9859,
    "start_time": "2023-05-14T09:09:45.832Z"
   },
   {
    "duration": 3,
    "start_time": "2023-05-14T09:09:55.692Z"
   },
   {
    "duration": 30,
    "start_time": "2023-05-14T09:09:55.696Z"
   },
   {
    "duration": 4,
    "start_time": "2023-05-14T09:09:55.727Z"
   },
   {
    "duration": 8,
    "start_time": "2023-05-14T09:09:55.732Z"
   },
   {
    "duration": 30,
    "start_time": "2023-05-14T09:09:55.741Z"
   },
   {
    "duration": 13,
    "start_time": "2023-05-14T09:09:55.773Z"
   },
   {
    "duration": 224,
    "start_time": "2023-05-14T09:09:55.787Z"
   },
   {
    "duration": 3,
    "start_time": "2023-05-14T09:09:56.013Z"
   },
   {
    "duration": 5,
    "start_time": "2023-05-14T09:09:56.018Z"
   },
   {
    "duration": 8458,
    "start_time": "2023-05-14T09:09:56.024Z"
   },
   {
    "duration": 5,
    "start_time": "2023-05-14T09:10:04.484Z"
   },
   {
    "duration": 6,
    "start_time": "2023-05-14T09:10:04.490Z"
   },
   {
    "duration": 12,
    "start_time": "2023-05-14T09:10:04.497Z"
   },
   {
    "duration": 19,
    "start_time": "2023-05-14T09:10:04.510Z"
   },
   {
    "duration": 17,
    "start_time": "2023-05-14T09:10:04.531Z"
   },
   {
    "duration": 15,
    "start_time": "2023-05-14T09:10:04.549Z"
   },
   {
    "duration": 550112,
    "start_time": "2023-05-14T09:10:04.565Z"
   },
   {
    "duration": 7,
    "start_time": "2023-05-14T09:19:14.678Z"
   },
   {
    "duration": 77532,
    "start_time": "2023-05-14T09:19:14.686Z"
   },
   {
    "duration": 2,
    "start_time": "2023-05-14T09:20:32.220Z"
   },
   {
    "duration": 25628,
    "start_time": "2023-05-14T09:20:32.223Z"
   },
   {
    "duration": 2,
    "start_time": "2023-05-14T09:20:57.853Z"
   },
   {
    "duration": 1940,
    "start_time": "2023-05-14T09:29:52.895Z"
   },
   {
    "duration": 1940,
    "start_time": "2023-05-14T09:29:54.838Z"
   },
   {
    "duration": 3,
    "start_time": "2023-05-14T09:29:56.780Z"
   },
   {
    "duration": 768,
    "start_time": "2023-05-14T09:29:56.785Z"
   },
   {
    "duration": 8,
    "start_time": "2023-05-14T09:29:57.555Z"
   },
   {
    "duration": 4,
    "start_time": "2023-05-14T09:29:57.565Z"
   },
   {
    "duration": 39,
    "start_time": "2023-05-14T09:29:57.570Z"
   },
   {
    "duration": 21,
    "start_time": "2023-05-14T09:29:57.610Z"
   },
   {
    "duration": 227,
    "start_time": "2023-05-14T09:29:57.632Z"
   },
   {
    "duration": 7,
    "start_time": "2023-05-14T09:29:57.860Z"
   },
   {
    "duration": 22,
    "start_time": "2023-05-14T09:29:57.869Z"
   },
   {
    "duration": 5,
    "start_time": "2023-05-14T09:29:57.892Z"
   },
   {
    "duration": 8,
    "start_time": "2023-05-14T09:29:57.898Z"
   },
   {
    "duration": 59899,
    "start_time": "2023-05-14T09:29:57.908Z"
   },
   {
    "duration": 7,
    "start_time": "2023-05-14T09:30:57.809Z"
   },
   {
    "duration": 3837,
    "start_time": "2023-05-14T09:30:57.817Z"
   },
   {
    "duration": 9607,
    "start_time": "2023-05-14T09:31:01.655Z"
   },
   {
    "duration": 2,
    "start_time": "2023-05-14T09:31:11.264Z"
   },
   {
    "duration": 34,
    "start_time": "2023-05-14T09:31:11.267Z"
   },
   {
    "duration": 3,
    "start_time": "2023-05-14T09:31:11.303Z"
   },
   {
    "duration": 30,
    "start_time": "2023-05-14T09:31:11.308Z"
   },
   {
    "duration": 41,
    "start_time": "2023-05-14T09:31:11.340Z"
   },
   {
    "duration": 3,
    "start_time": "2023-05-14T09:31:11.382Z"
   },
   {
    "duration": 229,
    "start_time": "2023-05-14T09:31:11.387Z"
   },
   {
    "duration": 4,
    "start_time": "2023-05-14T09:31:11.617Z"
   },
   {
    "duration": 17,
    "start_time": "2023-05-14T09:31:11.622Z"
   },
   {
    "duration": 8167,
    "start_time": "2023-05-14T09:31:11.640Z"
   },
   {
    "duration": 3,
    "start_time": "2023-05-14T09:31:19.809Z"
   },
   {
    "duration": 37,
    "start_time": "2023-05-14T09:31:19.814Z"
   },
   {
    "duration": 30,
    "start_time": "2023-05-14T09:31:19.852Z"
   },
   {
    "duration": 14,
    "start_time": "2023-05-14T09:31:19.884Z"
   },
   {
    "duration": 13,
    "start_time": "2023-05-14T09:31:19.899Z"
   },
   {
    "duration": 12,
    "start_time": "2023-05-14T09:31:19.913Z"
   },
   {
    "duration": 571668,
    "start_time": "2023-05-14T09:31:19.926Z"
   },
   {
    "duration": 3,
    "start_time": "2023-05-14T09:40:51.596Z"
   },
   {
    "duration": 99820,
    "start_time": "2023-05-14T09:40:51.600Z"
   },
   {
    "duration": 3,
    "start_time": "2023-05-14T09:42:31.421Z"
   },
   {
    "duration": 26219,
    "start_time": "2023-05-14T09:42:31.425Z"
   },
   {
    "duration": 2,
    "start_time": "2023-05-14T09:42:57.646Z"
   },
   {
    "duration": 676281,
    "start_time": "2023-05-14T09:42:57.649Z"
   },
   {
    "duration": 2,
    "start_time": "2023-05-14T09:54:13.934Z"
   },
   {
    "duration": 1737869,
    "start_time": "2023-05-14T09:54:13.937Z"
   },
   {
    "duration": 80,
    "start_time": "2023-05-14T10:23:11.808Z"
   },
   {
    "duration": 5,
    "start_time": "2023-05-14T10:23:11.889Z"
   },
   {
    "duration": 8,
    "start_time": "2023-05-14T10:23:11.896Z"
   },
   {
    "duration": 7,
    "start_time": "2023-05-14T10:23:11.905Z"
   },
   {
    "duration": 4,
    "start_time": "2023-05-14T10:36:04.485Z"
   },
   {
    "duration": 137,
    "start_time": "2023-05-14T10:36:06.229Z"
   },
   {
    "duration": 3,
    "start_time": "2023-05-14T10:36:10.851Z"
   },
   {
    "duration": 178,
    "start_time": "2023-05-14T10:36:14.085Z"
   },
   {
    "duration": 2,
    "start_time": "2023-05-14T10:36:32.936Z"
   },
   {
    "duration": 2,
    "start_time": "2023-05-14T10:36:49.426Z"
   },
   {
    "duration": 218,
    "start_time": "2023-05-14T10:36:50.717Z"
   },
   {
    "duration": 5,
    "start_time": "2023-05-14T10:36:53.121Z"
   },
   {
    "duration": 47,
    "start_time": "2023-05-14T10:36:54.528Z"
   },
   {
    "duration": 144,
    "start_time": "2023-05-14T10:36:58.129Z"
   },
   {
    "duration": 106,
    "start_time": "2023-05-14T10:37:02.450Z"
   },
   {
    "duration": 6372,
    "start_time": "2023-05-15T11:48:28.637Z"
   },
   {
    "duration": 2961,
    "start_time": "2023-05-15T11:48:35.012Z"
   },
   {
    "duration": 13,
    "start_time": "2023-05-15T11:48:37.975Z"
   },
   {
    "duration": 2396,
    "start_time": "2023-05-15T11:48:37.989Z"
   },
   {
    "duration": 13,
    "start_time": "2023-05-15T11:48:40.388Z"
   },
   {
    "duration": 9,
    "start_time": "2023-05-15T11:48:40.404Z"
   },
   {
    "duration": 46,
    "start_time": "2023-05-15T11:48:40.415Z"
   },
   {
    "duration": 39,
    "start_time": "2023-05-15T11:48:40.463Z"
   },
   {
    "duration": 272,
    "start_time": "2023-05-15T11:48:40.504Z"
   },
   {
    "duration": 10,
    "start_time": "2023-05-15T11:48:40.777Z"
   },
   {
    "duration": 14,
    "start_time": "2023-05-15T11:48:40.789Z"
   },
   {
    "duration": 6,
    "start_time": "2023-05-15T11:48:40.806Z"
   },
   {
    "duration": 6,
    "start_time": "2023-05-15T11:48:57.675Z"
   },
   {
    "duration": 410,
    "start_time": "2023-05-15T11:49:21.863Z"
   },
   {
    "duration": 6,
    "start_time": "2023-05-15T11:49:44.903Z"
   },
   {
    "duration": 8,
    "start_time": "2023-05-15T11:49:50.188Z"
   },
   {
    "duration": 68,
    "start_time": "2023-05-15T11:50:09.252Z"
   },
   {
    "duration": 973,
    "start_time": "2023-05-15T12:05:41.520Z"
   },
   {
    "duration": 5,
    "start_time": "2023-05-15T12:05:49.888Z"
   },
   {
    "duration": 1150,
    "start_time": "2023-05-15T12:05:50.388Z"
   },
   {
    "duration": 787,
    "start_time": "2023-05-15T12:05:57.046Z"
   },
   {
    "duration": 1718,
    "start_time": "2023-05-15T12:06:29.736Z"
   },
   {
    "duration": 1948,
    "start_time": "2023-05-15T12:06:36.910Z"
   },
   {
    "duration": 40,
    "start_time": "2023-05-15T12:07:19.748Z"
   },
   {
    "duration": 749,
    "start_time": "2023-05-15T12:07:38.838Z"
   },
   {
    "duration": 3323,
    "start_time": "2023-05-21T20:51:02.738Z"
   },
   {
    "duration": 2104,
    "start_time": "2023-05-21T20:51:06.064Z"
   },
   {
    "duration": 9,
    "start_time": "2023-05-21T20:51:08.169Z"
   },
   {
    "duration": 2209,
    "start_time": "2023-05-21T20:51:08.179Z"
   },
   {
    "duration": 9,
    "start_time": "2023-05-21T20:51:10.390Z"
   },
   {
    "duration": 5,
    "start_time": "2023-05-21T20:51:10.401Z"
   },
   {
    "duration": 41,
    "start_time": "2023-05-21T20:51:10.408Z"
   },
   {
    "duration": 24,
    "start_time": "2023-05-21T20:51:10.451Z"
   },
   {
    "duration": 218,
    "start_time": "2023-05-21T20:51:10.477Z"
   },
   {
    "duration": 9,
    "start_time": "2023-05-21T20:51:10.697Z"
   },
   {
    "duration": 7,
    "start_time": "2023-05-21T20:51:10.708Z"
   },
   {
    "duration": 8,
    "start_time": "2023-05-21T20:51:10.716Z"
   },
   {
    "duration": 4,
    "start_time": "2023-05-21T20:52:24.859Z"
   },
   {
    "duration": 199,
    "start_time": "2023-05-21T20:52:37.534Z"
   },
   {
    "duration": 42,
    "start_time": "2023-05-21T20:53:18.813Z"
   },
   {
    "duration": 6,
    "start_time": "2023-05-21T20:53:21.283Z"
   },
   {
    "duration": 603,
    "start_time": "2023-05-21T20:53:22.037Z"
   },
   {
    "duration": 6,
    "start_time": "2023-05-21T20:55:26.618Z"
   },
   {
    "duration": 5,
    "start_time": "2023-05-21T20:55:30.303Z"
   },
   {
    "duration": 6,
    "start_time": "2023-05-21T20:55:34.734Z"
   },
   {
    "duration": 5,
    "start_time": "2023-05-21T20:55:37.289Z"
   },
   {
    "duration": 1120,
    "start_time": "2023-05-21T20:55:46.239Z"
   },
   {
    "duration": 20,
    "start_time": "2023-05-21T20:57:44.568Z"
   },
   {
    "duration": 13,
    "start_time": "2023-05-21T20:57:57.457Z"
   },
   {
    "duration": 16,
    "start_time": "2023-05-21T20:58:11.506Z"
   },
   {
    "duration": 18,
    "start_time": "2023-05-21T20:58:18.056Z"
   },
   {
    "duration": 380,
    "start_time": "2023-05-21T20:58:39.706Z"
   },
   {
    "duration": 19,
    "start_time": "2023-05-21T20:58:49.395Z"
   },
   {
    "duration": 66,
    "start_time": "2023-05-21T20:59:14.795Z"
   },
   {
    "duration": 4,
    "start_time": "2023-05-21T20:59:22.936Z"
   },
   {
    "duration": 219,
    "start_time": "2023-05-21T20:59:23.645Z"
   },
   {
    "duration": 11,
    "start_time": "2023-05-21T20:59:46.895Z"
   },
   {
    "duration": 3,
    "start_time": "2023-05-21T20:59:49.809Z"
   },
   {
    "duration": 5456,
    "start_time": "2023-05-21T20:59:50.284Z"
   },
   {
    "duration": 19,
    "start_time": "2023-05-21T21:00:41.795Z"
   },
   {
    "duration": 12,
    "start_time": "2023-05-21T21:00:53.572Z"
   },
   {
    "duration": 12,
    "start_time": "2023-05-21T21:00:57.083Z"
   },
   {
    "duration": 20,
    "start_time": "2023-05-21T21:01:00.586Z"
   },
   {
    "duration": 7,
    "start_time": "2023-05-21T21:01:42.873Z"
   },
   {
    "duration": 19,
    "start_time": "2023-05-21T21:01:47.073Z"
   },
   {
    "duration": 4,
    "start_time": "2023-05-21T21:02:11.927Z"
   },
   {
    "duration": 48,
    "start_time": "2023-05-21T21:02:43.234Z"
   },
   {
    "duration": 10,
    "start_time": "2023-05-21T21:02:51.120Z"
   },
   {
    "duration": 402,
    "start_time": "2023-05-21T21:03:02.798Z"
   },
   {
    "duration": 745,
    "start_time": "2023-05-21T21:05:18.026Z"
   },
   {
    "duration": 4,
    "start_time": "2023-05-21T21:05:49.167Z"
   },
   {
    "duration": 417945,
    "start_time": "2023-05-21T21:06:07.640Z"
   },
   {
    "duration": 0,
    "start_time": "2023-05-21T21:13:05.587Z"
   },
   {
    "duration": 48,
    "start_time": "2023-05-21T21:13:17.030Z"
   },
   {
    "duration": 59,
    "start_time": "2023-05-21T21:13:22.665Z"
   },
   {
    "duration": 6,
    "start_time": "2023-05-21T21:13:30.838Z"
   },
   {
    "duration": 4,
    "start_time": "2023-05-21T21:13:49.027Z"
   },
   {
    "duration": 6,
    "start_time": "2023-05-21T21:14:12.940Z"
   },
   {
    "duration": 437,
    "start_time": "2023-05-21T21:14:15.666Z"
   },
   {
    "duration": 23616,
    "start_time": "2023-05-21T21:14:25.876Z"
   },
   {
    "duration": 8,
    "start_time": "2023-05-21T21:14:51.466Z"
   },
   {
    "duration": 4,
    "start_time": "2023-05-21T21:15:06.717Z"
   },
   {
    "duration": 4,
    "start_time": "2023-05-21T21:15:09.780Z"
   },
   {
    "duration": 4,
    "start_time": "2023-05-21T21:15:43.917Z"
   },
   {
    "duration": 5,
    "start_time": "2023-05-21T21:16:24.917Z"
   },
   {
    "duration": 2034,
    "start_time": "2023-05-21T21:16:41.867Z"
   },
   {
    "duration": 2087,
    "start_time": "2023-05-21T21:16:43.903Z"
   },
   {
    "duration": 3,
    "start_time": "2023-05-21T21:16:45.994Z"
   },
   {
    "duration": 815,
    "start_time": "2023-05-21T21:16:45.999Z"
   },
   {
    "duration": 9,
    "start_time": "2023-05-21T21:16:46.816Z"
   },
   {
    "duration": 8,
    "start_time": "2023-05-21T21:16:46.827Z"
   },
   {
    "duration": 36,
    "start_time": "2023-05-21T21:16:46.836Z"
   },
   {
    "duration": 44,
    "start_time": "2023-05-21T21:16:46.873Z"
   },
   {
    "duration": 239,
    "start_time": "2023-05-21T21:16:46.919Z"
   },
   {
    "duration": 8,
    "start_time": "2023-05-21T21:16:47.161Z"
   },
   {
    "duration": 6,
    "start_time": "2023-05-21T21:16:47.171Z"
   },
   {
    "duration": 4,
    "start_time": "2023-05-21T21:16:47.194Z"
   },
   {
    "duration": 6,
    "start_time": "2023-05-21T21:16:47.199Z"
   },
   {
    "duration": 14,
    "start_time": "2023-05-21T21:16:47.207Z"
   },
   {
    "duration": 53922,
    "start_time": "2023-05-21T21:16:47.222Z"
   },
   {
    "duration": 0,
    "start_time": "2023-05-21T21:17:41.147Z"
   },
   {
    "duration": 2069,
    "start_time": "2023-05-21T21:17:56.262Z"
   },
   {
    "duration": 1910,
    "start_time": "2023-05-21T21:17:58.333Z"
   },
   {
    "duration": 4,
    "start_time": "2023-05-21T21:18:00.245Z"
   },
   {
    "duration": 817,
    "start_time": "2023-05-21T21:18:00.251Z"
   },
   {
    "duration": 11,
    "start_time": "2023-05-21T21:18:01.071Z"
   },
   {
    "duration": 26,
    "start_time": "2023-05-21T21:18:01.083Z"
   },
   {
    "duration": 83,
    "start_time": "2023-05-21T21:18:01.110Z"
   },
   {
    "duration": 62,
    "start_time": "2023-05-21T21:18:01.194Z"
   },
   {
    "duration": 263,
    "start_time": "2023-05-21T21:18:01.258Z"
   },
   {
    "duration": 8,
    "start_time": "2023-05-21T21:18:01.524Z"
   },
   {
    "duration": 42,
    "start_time": "2023-05-21T21:18:01.534Z"
   },
   {
    "duration": 45,
    "start_time": "2023-05-21T21:18:01.578Z"
   },
   {
    "duration": 56,
    "start_time": "2023-05-21T21:18:01.625Z"
   },
   {
    "duration": 44,
    "start_time": "2023-05-21T21:18:01.684Z"
   },
   {
    "duration": 6435,
    "start_time": "2023-05-21T21:27:11.572Z"
   },
   {
    "duration": 2021,
    "start_time": "2023-05-21T21:27:18.010Z"
   },
   {
    "duration": 4,
    "start_time": "2023-05-21T21:27:20.033Z"
   },
   {
    "duration": 871,
    "start_time": "2023-05-21T21:27:20.038Z"
   },
   {
    "duration": 11,
    "start_time": "2023-05-21T21:27:20.911Z"
   },
   {
    "duration": 12,
    "start_time": "2023-05-21T21:27:20.923Z"
   },
   {
    "duration": 41,
    "start_time": "2023-05-21T21:27:20.936Z"
   },
   {
    "duration": 36,
    "start_time": "2023-05-21T21:27:20.979Z"
   },
   {
    "duration": 245,
    "start_time": "2023-05-21T21:27:21.016Z"
   },
   {
    "duration": 8,
    "start_time": "2023-05-21T21:27:21.262Z"
   },
   {
    "duration": 8,
    "start_time": "2023-05-21T21:27:21.271Z"
   },
   {
    "duration": 15,
    "start_time": "2023-05-21T21:27:21.281Z"
   },
   {
    "duration": 22,
    "start_time": "2023-05-21T21:27:21.306Z"
   },
   {
    "duration": 27,
    "start_time": "2023-05-21T21:27:21.331Z"
   },
   {
    "duration": 41395,
    "start_time": "2023-05-21T21:27:21.360Z"
   },
   {
    "duration": 2109,
    "start_time": "2023-05-21T21:28:25.052Z"
   },
   {
    "duration": 1993,
    "start_time": "2023-05-21T21:28:27.163Z"
   },
   {
    "duration": 3,
    "start_time": "2023-05-21T21:28:29.158Z"
   },
   {
    "duration": 847,
    "start_time": "2023-05-21T21:28:29.163Z"
   },
   {
    "duration": 10,
    "start_time": "2023-05-21T21:28:30.012Z"
   },
   {
    "duration": 31,
    "start_time": "2023-05-21T21:28:30.024Z"
   },
   {
    "duration": 58,
    "start_time": "2023-05-21T21:28:30.057Z"
   },
   {
    "duration": 36,
    "start_time": "2023-05-21T21:28:30.116Z"
   },
   {
    "duration": 254,
    "start_time": "2023-05-21T21:28:30.154Z"
   },
   {
    "duration": 7,
    "start_time": "2023-05-21T21:28:30.410Z"
   },
   {
    "duration": 26,
    "start_time": "2023-05-21T21:28:30.419Z"
   },
   {
    "duration": 45,
    "start_time": "2023-05-21T21:28:30.447Z"
   },
   {
    "duration": 35,
    "start_time": "2023-05-21T21:28:30.494Z"
   },
   {
    "duration": 22,
    "start_time": "2023-05-21T21:28:30.530Z"
   },
   {
    "duration": 8,
    "start_time": "2023-05-21T21:29:14.516Z"
   },
   {
    "duration": 8,
    "start_time": "2023-05-21T21:29:20.206Z"
   },
   {
    "duration": 11,
    "start_time": "2023-05-21T21:29:24.641Z"
   },
   {
    "duration": 20,
    "start_time": "2023-05-21T21:29:30.390Z"
   },
   {
    "duration": 2051,
    "start_time": "2023-05-21T21:29:59.045Z"
   },
   {
    "duration": 2228,
    "start_time": "2023-05-21T21:30:01.098Z"
   },
   {
    "duration": 4,
    "start_time": "2023-05-21T21:30:03.328Z"
   },
   {
    "duration": 854,
    "start_time": "2023-05-21T21:30:03.333Z"
   },
   {
    "duration": 12,
    "start_time": "2023-05-21T21:30:04.190Z"
   },
   {
    "duration": 4,
    "start_time": "2023-05-21T21:30:04.204Z"
   },
   {
    "duration": 53,
    "start_time": "2023-05-21T21:30:04.209Z"
   },
   {
    "duration": 31,
    "start_time": "2023-05-21T21:30:04.264Z"
   },
   {
    "duration": 209,
    "start_time": "2023-05-21T21:30:04.297Z"
   },
   {
    "duration": 9,
    "start_time": "2023-05-21T21:30:04.508Z"
   },
   {
    "duration": 32,
    "start_time": "2023-05-21T21:30:04.519Z"
   },
   {
    "duration": 18,
    "start_time": "2023-05-21T21:30:04.553Z"
   },
   {
    "duration": 12,
    "start_time": "2023-05-21T21:30:04.573Z"
   },
   {
    "duration": 45,
    "start_time": "2023-05-21T21:30:04.588Z"
   },
   {
    "duration": 1053047,
    "start_time": "2023-05-21T21:30:04.635Z"
   },
   {
    "duration": 6,
    "start_time": "2023-05-21T21:47:37.696Z"
   },
   {
    "duration": 160,
    "start_time": "2023-05-21T21:47:37.703Z"
   },
   {
    "duration": 9,
    "start_time": "2023-05-21T21:47:42.867Z"
   },
   {
    "duration": 4073,
    "start_time": "2023-05-21T21:47:55.741Z"
   },
   {
    "duration": 10784,
    "start_time": "2023-05-21T21:48:08.692Z"
   },
   {
    "duration": 2,
    "start_time": "2023-05-21T21:48:42.707Z"
   },
   {
    "duration": 29,
    "start_time": "2023-05-21T21:48:43.236Z"
   },
   {
    "duration": 3,
    "start_time": "2023-05-21T21:48:43.680Z"
   },
   {
    "duration": 2,
    "start_time": "2023-05-21T21:48:45.306Z"
   },
   {
    "duration": 68,
    "start_time": "2023-05-21T21:48:48.133Z"
   },
   {
    "duration": 7506,
    "start_time": "2023-05-22T04:46:26.804Z"
   },
   {
    "duration": 2319,
    "start_time": "2023-05-22T04:46:34.313Z"
   },
   {
    "duration": 8,
    "start_time": "2023-05-22T04:46:36.634Z"
   },
   {
    "duration": 2350,
    "start_time": "2023-05-22T04:46:36.644Z"
   },
   {
    "duration": 13,
    "start_time": "2023-05-22T04:46:38.996Z"
   },
   {
    "duration": 25,
    "start_time": "2023-05-22T04:46:39.010Z"
   },
   {
    "duration": 47,
    "start_time": "2023-05-22T04:46:39.037Z"
   },
   {
    "duration": 32,
    "start_time": "2023-05-22T04:46:39.086Z"
   },
   {
    "duration": 251,
    "start_time": "2023-05-22T04:46:39.119Z"
   },
   {
    "duration": 8,
    "start_time": "2023-05-22T04:46:39.372Z"
   },
   {
    "duration": 16,
    "start_time": "2023-05-22T04:46:39.382Z"
   },
   {
    "duration": 28,
    "start_time": "2023-05-22T04:46:39.403Z"
   },
   {
    "duration": 20,
    "start_time": "2023-05-22T04:46:39.432Z"
   },
   {
    "duration": 14,
    "start_time": "2023-05-22T04:46:39.455Z"
   },
   {
    "duration": 1146354,
    "start_time": "2023-05-22T04:46:39.471Z"
   },
   {
    "duration": 7,
    "start_time": "2023-05-22T05:05:45.827Z"
   },
   {
    "duration": 4032,
    "start_time": "2023-05-22T05:05:45.835Z"
   },
   {
    "duration": 11370,
    "start_time": "2023-05-22T05:05:49.868Z"
   },
   {
    "duration": 3,
    "start_time": "2023-05-22T05:06:01.241Z"
   },
   {
    "duration": 70,
    "start_time": "2023-05-22T05:06:01.246Z"
   },
   {
    "duration": 50,
    "start_time": "2023-05-22T05:06:01.317Z"
   },
   {
    "duration": 36,
    "start_time": "2023-05-22T05:06:01.369Z"
   },
   {
    "duration": 271,
    "start_time": "2023-05-22T05:06:01.406Z"
   },
   {
    "duration": 0,
    "start_time": "2023-05-22T05:06:01.678Z"
   },
   {
    "duration": 0,
    "start_time": "2023-05-22T05:06:01.680Z"
   },
   {
    "duration": 3,
    "start_time": "2023-05-22T05:40:49.806Z"
   },
   {
    "duration": 3,
    "start_time": "2023-05-22T05:40:51.580Z"
   },
   {
    "duration": 15,
    "start_time": "2023-05-22T05:40:56.342Z"
   },
   {
    "duration": 18,
    "start_time": "2023-05-22T05:41:10.768Z"
   },
   {
    "duration": 3,
    "start_time": "2023-05-22T05:41:19.119Z"
   },
   {
    "duration": 4,
    "start_time": "2023-05-22T05:41:33.006Z"
   },
   {
    "duration": 897,
    "start_time": "2023-05-22T05:41:35.705Z"
   },
   {
    "duration": 245720,
    "start_time": "2023-05-22T05:41:45.093Z"
   },
   {
    "duration": 223,
    "start_time": "2023-05-22T05:49:24.656Z"
   },
   {
    "duration": 11,
    "start_time": "2023-05-22T05:49:25.170Z"
   },
   {
    "duration": 3,
    "start_time": "2023-05-22T05:51:40.797Z"
   },
   {
    "duration": 3,
    "start_time": "2023-05-22T05:51:42.808Z"
   },
   {
    "duration": 3597,
    "start_time": "2023-05-22T05:51:48.721Z"
   },
   {
    "duration": 3,
    "start_time": "2023-05-22T05:52:24.072Z"
   },
   {
    "duration": 5,
    "start_time": "2023-05-22T05:52:24.538Z"
   },
   {
    "duration": 4921,
    "start_time": "2023-05-22T05:52:25.051Z"
   },
   {
    "duration": 5,
    "start_time": "2023-05-22T05:52:48.397Z"
   },
   {
    "duration": 4,
    "start_time": "2023-05-22T05:53:00.259Z"
   },
   {
    "duration": 3,
    "start_time": "2023-05-22T05:53:00.899Z"
   },
   {
    "duration": 24,
    "start_time": "2023-05-22T05:53:02.249Z"
   },
   {
    "duration": 7,
    "start_time": "2023-05-22T05:53:10.823Z"
   },
   {
    "duration": 3,
    "start_time": "2023-05-22T05:53:11.298Z"
   },
   {
    "duration": 310331,
    "start_time": "2023-05-22T05:53:11.897Z"
   },
   {
    "duration": 3,
    "start_time": "2023-05-22T05:58:28.118Z"
   },
   {
    "duration": 2507,
    "start_time": "2023-05-22T06:09:23.078Z"
   },
   {
    "duration": 3350,
    "start_time": "2023-05-22T06:09:25.588Z"
   },
   {
    "duration": 7,
    "start_time": "2023-05-22T06:09:28.941Z"
   },
   {
    "duration": 2482,
    "start_time": "2023-05-22T06:09:28.949Z"
   },
   {
    "duration": 14,
    "start_time": "2023-05-22T06:09:31.434Z"
   },
   {
    "duration": 32,
    "start_time": "2023-05-22T06:09:31.450Z"
   },
   {
    "duration": 62,
    "start_time": "2023-05-22T06:09:31.484Z"
   },
   {
    "duration": 70,
    "start_time": "2023-05-22T06:09:31.548Z"
   },
   {
    "duration": 283,
    "start_time": "2023-05-22T06:09:31.619Z"
   },
   {
    "duration": 8,
    "start_time": "2023-05-22T06:09:31.904Z"
   },
   {
    "duration": 18,
    "start_time": "2023-05-22T06:09:31.937Z"
   },
   {
    "duration": 7,
    "start_time": "2023-05-22T06:09:31.957Z"
   },
   {
    "duration": 18,
    "start_time": "2023-05-22T06:09:31.966Z"
   },
   {
    "duration": 10,
    "start_time": "2023-05-22T06:09:31.987Z"
   },
   {
    "duration": 1251260,
    "start_time": "2023-05-22T06:09:31.998Z"
   },
   {
    "duration": 13,
    "start_time": "2023-05-22T06:30:23.261Z"
   },
   {
    "duration": 4543,
    "start_time": "2023-05-22T06:30:23.275Z"
   },
   {
    "duration": 12240,
    "start_time": "2023-05-22T06:30:27.825Z"
   },
   {
    "duration": 3,
    "start_time": "2023-05-22T06:30:40.068Z"
   },
   {
    "duration": 51,
    "start_time": "2023-05-22T06:30:40.073Z"
   },
   {
    "duration": 5,
    "start_time": "2023-05-22T06:30:40.127Z"
   },
   {
    "duration": 36,
    "start_time": "2023-05-22T06:30:40.134Z"
   },
   {
    "duration": 33,
    "start_time": "2023-05-22T06:30:40.173Z"
   },
   {
    "duration": 42,
    "start_time": "2023-05-22T06:30:40.208Z"
   },
   {
    "duration": 36,
    "start_time": "2023-05-22T06:30:40.252Z"
   },
   {
    "duration": 56,
    "start_time": "2023-05-22T06:30:40.289Z"
   },
   {
    "duration": 39,
    "start_time": "2023-05-22T06:30:40.347Z"
   },
   {
    "duration": 2773655,
    "start_time": "2023-05-22T06:30:40.388Z"
   },
   {
    "duration": 149,
    "start_time": "2023-05-22T07:16:54.045Z"
   },
   {
    "duration": 0,
    "start_time": "2023-05-22T07:16:54.196Z"
   },
   {
    "duration": 4,
    "start_time": "2023-05-22T07:20:42.283Z"
   },
   {
    "duration": 3,
    "start_time": "2023-05-22T07:20:57.545Z"
   },
   {
    "duration": 4,
    "start_time": "2023-05-22T07:21:07.436Z"
   },
   {
    "duration": 5,
    "start_time": "2023-05-22T07:21:37.497Z"
   },
   {
    "duration": 44,
    "start_time": "2023-05-22T07:21:39.008Z"
   },
   {
    "duration": 3,
    "start_time": "2023-05-22T07:21:39.659Z"
   },
   {
    "duration": 3,
    "start_time": "2023-05-22T07:25:37.119Z"
   },
   {
    "duration": 7407,
    "start_time": "2023-05-27T05:12:11.683Z"
   },
   {
    "duration": 2344,
    "start_time": "2023-05-27T05:12:19.092Z"
   },
   {
    "duration": 9,
    "start_time": "2023-05-27T05:12:21.437Z"
   },
   {
    "duration": 3341,
    "start_time": "2023-05-27T05:12:21.449Z"
   },
   {
    "duration": 11,
    "start_time": "2023-05-27T05:12:24.792Z"
   },
   {
    "duration": 15,
    "start_time": "2023-05-27T05:12:24.805Z"
   },
   {
    "duration": 32,
    "start_time": "2023-05-27T05:12:24.821Z"
   },
   {
    "duration": 34,
    "start_time": "2023-05-27T05:12:24.855Z"
   },
   {
    "duration": 215,
    "start_time": "2023-05-27T05:12:24.891Z"
   },
   {
    "duration": 9,
    "start_time": "2023-05-27T05:12:25.108Z"
   },
   {
    "duration": 7,
    "start_time": "2023-05-27T05:12:25.118Z"
   },
   {
    "duration": 11,
    "start_time": "2023-05-27T05:12:25.127Z"
   },
   {
    "duration": 13,
    "start_time": "2023-05-27T05:12:25.151Z"
   },
   {
    "duration": 6,
    "start_time": "2023-05-27T05:12:25.166Z"
   },
   {
    "duration": 1080964,
    "start_time": "2023-05-27T05:12:25.174Z"
   },
   {
    "duration": 12,
    "start_time": "2023-05-27T05:30:26.140Z"
   },
   {
    "duration": 4023,
    "start_time": "2023-05-27T05:30:26.153Z"
   },
   {
    "duration": 10330,
    "start_time": "2023-05-27T05:30:30.178Z"
   },
   {
    "duration": 2,
    "start_time": "2023-05-27T05:30:40.512Z"
   },
   {
    "duration": 5,
    "start_time": "2023-05-27T05:30:40.517Z"
   },
   {
    "duration": 7,
    "start_time": "2023-05-27T05:30:40.523Z"
   },
   {
    "duration": 20,
    "start_time": "2023-05-27T05:30:40.531Z"
   },
   {
    "duration": 28,
    "start_time": "2023-05-27T05:30:40.552Z"
   },
   {
    "duration": 6,
    "start_time": "2023-05-27T05:31:43.366Z"
   },
   {
    "duration": 4,
    "start_time": "2023-05-27T05:31:44.526Z"
   },
   {
    "duration": 2,
    "start_time": "2023-05-27T05:33:37.495Z"
   },
   {
    "duration": 3,
    "start_time": "2023-05-27T05:33:59.293Z"
   },
   {
    "duration": 4,
    "start_time": "2023-05-27T05:33:59.992Z"
   },
   {
    "duration": 6,
    "start_time": "2023-05-27T05:34:33.234Z"
   },
   {
    "duration": 6,
    "start_time": "2023-05-27T05:34:44.580Z"
   },
   {
    "duration": 3,
    "start_time": "2023-05-27T05:34:48.468Z"
   },
   {
    "duration": 3,
    "start_time": "2023-05-27T05:34:48.954Z"
   },
   {
    "duration": 4,
    "start_time": "2023-05-27T05:35:02.717Z"
   },
   {
    "duration": 4,
    "start_time": "2023-05-27T05:35:08.580Z"
   },
   {
    "duration": 168,
    "start_time": "2023-05-27T05:35:32.806Z"
   },
   {
    "duration": 6,
    "start_time": "2023-05-27T05:35:42.682Z"
   },
   {
    "duration": 47,
    "start_time": "2023-05-27T05:35:45.569Z"
   },
   {
    "duration": 5,
    "start_time": "2023-05-27T05:35:55.895Z"
   },
   {
    "duration": 502,
    "start_time": "2023-05-27T05:35:56.480Z"
   },
   {
    "duration": 4,
    "start_time": "2023-05-27T05:37:14.124Z"
   },
   {
    "duration": 3,
    "start_time": "2023-05-27T05:37:14.659Z"
   },
   {
    "duration": 509,
    "start_time": "2023-05-27T05:37:15.259Z"
   },
   {
    "duration": 3,
    "start_time": "2023-05-27T05:37:56.160Z"
   },
   {
    "duration": 4,
    "start_time": "2023-05-27T05:37:56.696Z"
   },
   {
    "duration": 9797,
    "start_time": "2023-05-27T05:37:57.260Z"
   },
   {
    "duration": 3,
    "start_time": "2023-05-27T05:38:16.273Z"
   },
   {
    "duration": 3,
    "start_time": "2023-05-27T05:38:16.798Z"
   },
   {
    "duration": 263,
    "start_time": "2023-05-27T05:38:17.236Z"
   },
   {
    "duration": 6,
    "start_time": "2023-05-27T05:38:43.827Z"
   },
   {
    "duration": 3,
    "start_time": "2023-05-27T05:38:52.597Z"
   },
   {
    "duration": 3,
    "start_time": "2023-05-27T05:38:53.700Z"
   },
   {
    "duration": 4,
    "start_time": "2023-05-27T05:38:54.686Z"
   },
   {
    "duration": 1422260,
    "start_time": "2023-05-27T05:38:55.549Z"
   },
   {
    "duration": 9,
    "start_time": "2023-05-27T06:02:38.396Z"
   },
   {
    "duration": 791,
    "start_time": "2023-05-27T06:02:58.833Z"
   },
   {
    "duration": 3513,
    "start_time": "2023-05-27T06:03:10.204Z"
   },
   {
    "duration": 3648,
    "start_time": "2023-05-27T06:03:42.458Z"
   },
   {
    "duration": 3714,
    "start_time": "2023-05-27T06:04:00.592Z"
   },
   {
    "duration": 3574,
    "start_time": "2023-05-27T06:04:08.797Z"
   },
   {
    "duration": 3560,
    "start_time": "2023-05-27T06:04:49.034Z"
   },
   {
    "duration": 43,
    "start_time": "2023-05-27T06:05:05.318Z"
   },
   {
    "duration": 95,
    "start_time": "2023-05-27T06:05:10.734Z"
   },
   {
    "duration": 75,
    "start_time": "2023-05-27T06:05:14.492Z"
   },
   {
    "duration": 75,
    "start_time": "2023-05-27T06:05:18.267Z"
   },
   {
    "duration": 94,
    "start_time": "2023-05-27T06:05:23.742Z"
   },
   {
    "duration": 93,
    "start_time": "2023-05-27T06:05:31.168Z"
   },
   {
    "duration": 99,
    "start_time": "2023-05-27T06:05:36.006Z"
   },
   {
    "duration": 113,
    "start_time": "2023-05-27T06:05:44.071Z"
   },
   {
    "duration": 31,
    "start_time": "2023-05-27T06:06:05.897Z"
   },
   {
    "duration": 27,
    "start_time": "2023-05-27T06:06:12.632Z"
   },
   {
    "duration": 25,
    "start_time": "2023-05-27T06:06:20.245Z"
   },
   {
    "duration": 16,
    "start_time": "2023-05-27T06:06:37.805Z"
   },
   {
    "duration": 5,
    "start_time": "2023-05-27T06:07:06.763Z"
   },
   {
    "duration": 14,
    "start_time": "2023-05-27T06:07:10.532Z"
   },
   {
    "duration": 28,
    "start_time": "2023-05-27T06:07:21.933Z"
   },
   {
    "duration": 80,
    "start_time": "2023-05-27T06:07:58.736Z"
   },
   {
    "duration": 26,
    "start_time": "2023-05-27T06:08:03.159Z"
   },
   {
    "duration": 13,
    "start_time": "2023-05-27T06:09:42.363Z"
   },
   {
    "duration": 13,
    "start_time": "2023-05-27T06:10:33.798Z"
   },
   {
    "duration": 1578,
    "start_time": "2023-05-27T06:10:49.203Z"
   },
   {
    "duration": 375,
    "start_time": "2023-05-27T06:12:28.949Z"
   },
   {
    "duration": 397,
    "start_time": "2023-05-27T06:12:42.900Z"
   },
   {
    "duration": 31,
    "start_time": "2023-05-27T06:12:56.113Z"
   },
   {
    "duration": 4568,
    "start_time": "2023-05-27T06:13:08.275Z"
   },
   {
    "duration": 11372,
    "start_time": "2023-05-27T06:14:03.554Z"
   },
   {
    "duration": 0,
    "start_time": "2023-05-27T06:16:00.166Z"
   },
   {
    "duration": 6,
    "start_time": "2023-05-27T06:16:09.691Z"
   },
   {
    "duration": 416,
    "start_time": "2023-05-27T06:16:19.068Z"
   },
   {
    "duration": 137079,
    "start_time": "2023-05-27T08:21:23.610Z"
   },
   {
    "duration": 0,
    "start_time": "2023-05-27T08:23:40.692Z"
   },
   {
    "duration": 5,
    "start_time": "2023-05-27T08:24:22.327Z"
   },
   {
    "duration": 53277,
    "start_time": "2023-05-27T08:24:30.222Z"
   },
   {
    "duration": 6,
    "start_time": "2023-05-27T08:30:09.646Z"
   },
   {
    "duration": 10,
    "start_time": "2023-05-27T08:35:28.555Z"
   },
   {
    "duration": 8,
    "start_time": "2023-05-27T08:35:37.805Z"
   },
   {
    "duration": 477,
    "start_time": "2023-05-27T08:35:38.556Z"
   },
   {
    "duration": 6,
    "start_time": "2023-05-27T08:36:01.982Z"
   },
   {
    "duration": 548,
    "start_time": "2023-05-27T08:36:02.131Z"
   },
   {
    "duration": 10,
    "start_time": "2023-05-27T08:37:17.833Z"
   },
   {
    "duration": 495,
    "start_time": "2023-05-27T08:37:18.087Z"
   },
   {
    "duration": 7,
    "start_time": "2023-05-27T08:37:49.598Z"
   },
   {
    "duration": 534,
    "start_time": "2023-05-27T08:37:50.046Z"
   },
   {
    "duration": 6,
    "start_time": "2023-05-27T08:38:52.535Z"
   },
   {
    "duration": 453,
    "start_time": "2023-05-27T08:38:52.923Z"
   },
   {
    "duration": 7,
    "start_time": "2023-05-27T08:39:14.638Z"
   },
   {
    "duration": 438,
    "start_time": "2023-05-27T08:39:14.981Z"
   },
   {
    "duration": 10,
    "start_time": "2023-05-27T08:40:04.379Z"
   },
   {
    "duration": 440,
    "start_time": "2023-05-27T08:40:04.748Z"
   },
   {
    "duration": 6,
    "start_time": "2023-05-27T08:40:56.852Z"
   },
   {
    "duration": 462,
    "start_time": "2023-05-27T08:40:57.148Z"
   },
   {
    "duration": 6,
    "start_time": "2023-05-27T08:41:30.413Z"
   },
   {
    "duration": 739,
    "start_time": "2023-05-27T08:41:30.794Z"
   },
   {
    "duration": 10,
    "start_time": "2023-05-27T08:42:14.639Z"
   },
   {
    "duration": 764,
    "start_time": "2023-05-27T08:42:15.598Z"
   },
   {
    "duration": 9,
    "start_time": "2023-05-27T08:42:31.991Z"
   },
   {
    "duration": 769,
    "start_time": "2023-05-27T08:42:32.325Z"
   },
   {
    "duration": 8,
    "start_time": "2023-05-27T08:42:48.208Z"
   },
   {
    "duration": 760,
    "start_time": "2023-05-27T08:42:48.497Z"
   },
   {
    "duration": 7,
    "start_time": "2023-05-27T08:43:01.494Z"
   },
   {
    "duration": 775,
    "start_time": "2023-05-27T08:43:01.694Z"
   },
   {
    "duration": 6,
    "start_time": "2023-05-27T08:43:23.691Z"
   },
   {
    "duration": 843,
    "start_time": "2023-05-27T08:43:24.115Z"
   },
   {
    "duration": 7,
    "start_time": "2023-05-27T08:43:37.378Z"
   },
   {
    "duration": 757,
    "start_time": "2023-05-27T08:43:37.881Z"
   },
   {
    "duration": 6,
    "start_time": "2023-05-27T08:43:51.478Z"
   },
   {
    "duration": 756,
    "start_time": "2023-05-27T08:43:51.778Z"
   },
   {
    "duration": 7,
    "start_time": "2023-05-27T08:44:53.783Z"
   },
   {
    "duration": 785,
    "start_time": "2023-05-27T08:44:54.182Z"
   },
   {
    "duration": 7,
    "start_time": "2023-05-27T08:45:08.431Z"
   },
   {
    "duration": 753,
    "start_time": "2023-05-27T08:45:08.879Z"
   },
   {
    "duration": 7,
    "start_time": "2023-05-27T08:48:58.725Z"
   },
   {
    "duration": 724,
    "start_time": "2023-05-27T08:48:58.950Z"
   },
   {
    "duration": 6,
    "start_time": "2023-05-27T08:51:12.342Z"
   },
   {
    "duration": 422,
    "start_time": "2023-05-27T08:51:12.686Z"
   },
   {
    "duration": 98,
    "start_time": "2023-05-27T08:51:31.717Z"
   },
   {
    "duration": 6,
    "start_time": "2023-05-27T08:51:35.192Z"
   },
   {
    "duration": 704,
    "start_time": "2023-05-27T08:51:36.628Z"
   },
   {
    "duration": 5,
    "start_time": "2023-05-27T08:51:53.230Z"
   },
   {
    "duration": 471,
    "start_time": "2023-05-27T08:51:53.507Z"
   },
   {
    "duration": 9,
    "start_time": "2023-05-27T08:53:13.693Z"
   },
   {
    "duration": 937,
    "start_time": "2023-05-27T08:53:14.020Z"
   },
   {
    "duration": 5,
    "start_time": "2023-05-27T08:53:19.732Z"
   },
   {
    "duration": 783,
    "start_time": "2023-05-27T08:53:20.099Z"
   },
   {
    "duration": 7,
    "start_time": "2023-05-27T08:53:31.758Z"
   },
   {
    "duration": 498,
    "start_time": "2023-05-27T08:53:32.245Z"
   },
   {
    "duration": 5,
    "start_time": "2023-05-27T08:53:39.544Z"
   },
   {
    "duration": 466,
    "start_time": "2023-05-27T08:53:39.945Z"
   },
   {
    "duration": 5,
    "start_time": "2023-05-27T08:53:54.544Z"
   },
   {
    "duration": 2052,
    "start_time": "2023-05-27T08:54:25.595Z"
   },
   {
    "duration": 2300,
    "start_time": "2023-05-27T08:54:27.651Z"
   },
   {
    "duration": 4,
    "start_time": "2023-05-27T08:54:29.953Z"
   },
   {
    "duration": 854,
    "start_time": "2023-05-27T08:54:29.959Z"
   },
   {
    "duration": 12,
    "start_time": "2023-05-27T08:54:30.815Z"
   },
   {
    "duration": 32,
    "start_time": "2023-05-27T08:54:30.829Z"
   },
   {
    "duration": 69,
    "start_time": "2023-05-27T08:54:30.864Z"
   },
   {
    "duration": 62,
    "start_time": "2023-05-27T08:54:30.936Z"
   },
   {
    "duration": 265,
    "start_time": "2023-05-27T08:54:30.999Z"
   },
   {
    "duration": 8,
    "start_time": "2023-05-27T08:54:31.267Z"
   },
   {
    "duration": 15,
    "start_time": "2023-05-27T08:54:31.277Z"
   },
   {
    "duration": 19,
    "start_time": "2023-05-27T08:54:31.294Z"
   },
   {
    "duration": 27,
    "start_time": "2023-05-27T08:54:31.315Z"
   },
   {
    "duration": 30,
    "start_time": "2023-05-27T08:54:31.345Z"
   },
   {
    "duration": 2185,
    "start_time": "2023-05-27T09:12:40.599Z"
   },
   {
    "duration": 2278,
    "start_time": "2023-05-27T09:12:42.787Z"
   },
   {
    "duration": 5,
    "start_time": "2023-05-27T09:12:45.067Z"
   },
   {
    "duration": 798,
    "start_time": "2023-05-27T09:12:45.073Z"
   },
   {
    "duration": 13,
    "start_time": "2023-05-27T09:12:45.873Z"
   },
   {
    "duration": 4,
    "start_time": "2023-05-27T09:12:45.888Z"
   },
   {
    "duration": 57,
    "start_time": "2023-05-27T09:12:45.894Z"
   },
   {
    "duration": 27,
    "start_time": "2023-05-27T09:12:45.953Z"
   },
   {
    "duration": 246,
    "start_time": "2023-05-27T09:12:45.982Z"
   },
   {
    "duration": 9,
    "start_time": "2023-05-27T09:12:46.229Z"
   },
   {
    "duration": 6,
    "start_time": "2023-05-27T09:12:46.250Z"
   },
   {
    "duration": 4,
    "start_time": "2023-05-27T09:12:46.258Z"
   },
   {
    "duration": 11,
    "start_time": "2023-05-27T09:12:46.263Z"
   },
   {
    "duration": 6,
    "start_time": "2023-05-27T09:12:46.277Z"
   },
   {
    "duration": 2199,
    "start_time": "2023-05-27T09:38:17.295Z"
   },
   {
    "duration": 3061,
    "start_time": "2023-05-27T09:38:19.496Z"
   },
   {
    "duration": 10,
    "start_time": "2023-05-27T09:38:22.560Z"
   },
   {
    "duration": 3370,
    "start_time": "2023-05-27T09:38:22.572Z"
   },
   {
    "duration": 15,
    "start_time": "2023-05-27T09:38:25.945Z"
   },
   {
    "duration": 4,
    "start_time": "2023-05-27T09:38:25.962Z"
   },
   {
    "duration": 36,
    "start_time": "2023-05-27T09:38:25.967Z"
   },
   {
    "duration": 60,
    "start_time": "2023-05-27T09:38:26.004Z"
   },
   {
    "duration": 248,
    "start_time": "2023-05-27T09:38:26.066Z"
   },
   {
    "duration": 9,
    "start_time": "2023-05-27T09:38:26.316Z"
   },
   {
    "duration": 57,
    "start_time": "2023-05-27T09:38:26.327Z"
   },
   {
    "duration": 5,
    "start_time": "2023-05-27T09:38:26.387Z"
   },
   {
    "duration": 9,
    "start_time": "2023-05-27T09:38:26.394Z"
   },
   {
    "duration": 10,
    "start_time": "2023-05-27T09:38:26.407Z"
   },
   {
    "duration": 871101,
    "start_time": "2023-05-27T09:38:26.419Z"
   },
   {
    "duration": 2519,
    "start_time": "2023-05-27T09:54:03.721Z"
   },
   {
    "duration": 2550,
    "start_time": "2023-05-27T09:54:06.242Z"
   },
   {
    "duration": 4,
    "start_time": "2023-05-27T09:54:08.793Z"
   },
   {
    "duration": 930,
    "start_time": "2023-05-27T09:54:08.799Z"
   },
   {
    "duration": 20,
    "start_time": "2023-05-27T09:54:09.731Z"
   },
   {
    "duration": 16,
    "start_time": "2023-05-27T09:54:09.753Z"
   },
   {
    "duration": 41,
    "start_time": "2023-05-27T09:54:09.771Z"
   },
   {
    "duration": 28,
    "start_time": "2023-05-27T09:54:09.814Z"
   },
   {
    "duration": 265,
    "start_time": "2023-05-27T09:54:09.844Z"
   },
   {
    "duration": 8,
    "start_time": "2023-05-27T09:54:10.111Z"
   },
   {
    "duration": 6,
    "start_time": "2023-05-27T09:54:10.121Z"
   },
   {
    "duration": 23,
    "start_time": "2023-05-27T09:54:10.128Z"
   },
   {
    "duration": 6,
    "start_time": "2023-05-27T09:54:10.152Z"
   },
   {
    "duration": 21,
    "start_time": "2023-05-27T09:54:10.161Z"
   },
   {
    "duration": 16,
    "start_time": "2023-05-27T09:54:10.184Z"
   },
   {
    "duration": 273,
    "start_time": "2023-05-27T09:54:10.227Z"
   },
   {
    "duration": 1148824,
    "start_time": "2023-05-27T09:54:16.786Z"
   },
   {
    "duration": 115,
    "start_time": "2023-05-27T10:13:25.612Z"
   },
   {
    "duration": 4,
    "start_time": "2023-05-27T10:13:52.252Z"
   },
   {
    "duration": 86,
    "start_time": "2023-05-27T10:13:55.519Z"
   },
   {
    "duration": 4,
    "start_time": "2023-05-27T10:14:07.395Z"
   },
   {
    "duration": 2105,
    "start_time": "2023-05-27T10:18:52.203Z"
   },
   {
    "duration": 2884,
    "start_time": "2023-05-27T10:18:54.311Z"
   },
   {
    "duration": 7,
    "start_time": "2023-05-27T10:18:57.196Z"
   },
   {
    "duration": 3319,
    "start_time": "2023-05-27T10:18:57.205Z"
   },
   {
    "duration": 12,
    "start_time": "2023-05-27T10:19:00.527Z"
   },
   {
    "duration": 27,
    "start_time": "2023-05-27T10:19:00.541Z"
   },
   {
    "duration": 57,
    "start_time": "2023-05-27T10:19:00.570Z"
   },
   {
    "duration": 40,
    "start_time": "2023-05-27T10:19:00.629Z"
   },
   {
    "duration": 266,
    "start_time": "2023-05-27T10:19:00.671Z"
   },
   {
    "duration": 16,
    "start_time": "2023-05-27T10:19:00.939Z"
   },
   {
    "duration": 23,
    "start_time": "2023-05-27T10:19:00.957Z"
   },
   {
    "duration": 39,
    "start_time": "2023-05-27T10:19:00.982Z"
   },
   {
    "duration": 42,
    "start_time": "2023-05-27T10:19:01.023Z"
   },
   {
    "duration": 35,
    "start_time": "2023-05-27T10:19:01.067Z"
   },
   {
    "duration": 45,
    "start_time": "2023-05-27T10:19:01.103Z"
   },
   {
    "duration": 1134738,
    "start_time": "2023-05-27T10:19:01.150Z"
   },
   {
    "duration": 8,
    "start_time": "2023-05-27T10:37:55.890Z"
   },
   {
    "duration": 49,
    "start_time": "2023-05-27T10:45:48.596Z"
   },
   {
    "duration": 2162,
    "start_time": "2023-05-27T10:52:30.198Z"
   },
   {
    "duration": 3034,
    "start_time": "2023-05-27T10:52:32.362Z"
   },
   {
    "duration": 8,
    "start_time": "2023-05-27T10:52:35.398Z"
   },
   {
    "duration": 3290,
    "start_time": "2023-05-27T10:52:35.408Z"
   },
   {
    "duration": 11,
    "start_time": "2023-05-27T10:52:38.701Z"
   },
   {
    "duration": 6,
    "start_time": "2023-05-27T10:52:38.713Z"
   },
   {
    "duration": 36,
    "start_time": "2023-05-27T10:52:38.721Z"
   },
   {
    "duration": 29,
    "start_time": "2023-05-27T10:52:38.759Z"
   },
   {
    "duration": 239,
    "start_time": "2023-05-27T10:52:38.789Z"
   },
   {
    "duration": 7,
    "start_time": "2023-05-27T10:52:39.030Z"
   },
   {
    "duration": 7,
    "start_time": "2023-05-27T10:52:39.050Z"
   },
   {
    "duration": 3,
    "start_time": "2023-05-27T10:52:39.059Z"
   },
   {
    "duration": 13,
    "start_time": "2023-05-27T10:52:39.063Z"
   },
   {
    "duration": 5,
    "start_time": "2023-05-27T10:52:39.079Z"
   },
   {
    "duration": 9,
    "start_time": "2023-05-27T10:52:39.194Z"
   },
   {
    "duration": 492203,
    "start_time": "2023-05-27T10:52:40.691Z"
   },
   {
    "duration": 0,
    "start_time": "2023-05-27T11:00:52.896Z"
   },
   {
    "duration": 0,
    "start_time": "2023-05-27T11:00:52.897Z"
   },
   {
    "duration": 2256,
    "start_time": "2023-05-27T11:01:04.040Z"
   },
   {
    "duration": 2785,
    "start_time": "2023-05-27T11:01:06.299Z"
   },
   {
    "duration": 5,
    "start_time": "2023-05-27T11:01:09.085Z"
   },
   {
    "duration": 875,
    "start_time": "2023-05-27T11:01:09.091Z"
   },
   {
    "duration": 13,
    "start_time": "2023-05-27T11:01:09.969Z"
   },
   {
    "duration": 4,
    "start_time": "2023-05-27T11:01:09.983Z"
   },
   {
    "duration": 36,
    "start_time": "2023-05-27T11:01:09.988Z"
   },
   {
    "duration": 50,
    "start_time": "2023-05-27T11:01:10.026Z"
   },
   {
    "duration": 248,
    "start_time": "2023-05-27T11:01:10.077Z"
   },
   {
    "duration": 14,
    "start_time": "2023-05-27T11:01:10.329Z"
   },
   {
    "duration": 15,
    "start_time": "2023-05-27T11:01:10.351Z"
   },
   {
    "duration": 3,
    "start_time": "2023-05-27T11:01:10.369Z"
   },
   {
    "duration": 8,
    "start_time": "2023-05-27T11:01:10.374Z"
   },
   {
    "duration": 5,
    "start_time": "2023-05-27T11:01:10.385Z"
   },
   {
    "duration": 8,
    "start_time": "2023-05-27T11:01:10.392Z"
   },
   {
    "duration": 1211119,
    "start_time": "2023-05-27T11:01:10.401Z"
   },
   {
    "duration": 9,
    "start_time": "2023-05-27T11:21:21.521Z"
   },
   {
    "duration": 5543,
    "start_time": "2023-05-27T11:21:21.532Z"
   },
   {
    "duration": 5,
    "start_time": "2023-05-27T11:23:24.223Z"
   },
   {
    "duration": 5536,
    "start_time": "2023-05-27T11:23:27.312Z"
   },
   {
    "duration": 5,
    "start_time": "2023-05-27T11:37:12.399Z"
   },
   {
    "duration": 2040,
    "start_time": "2023-05-27T11:37:44.358Z"
   },
   {
    "duration": 3220,
    "start_time": "2023-05-27T11:37:46.401Z"
   },
   {
    "duration": 6,
    "start_time": "2023-05-27T11:37:49.623Z"
   },
   {
    "duration": 3306,
    "start_time": "2023-05-27T11:37:49.630Z"
   },
   {
    "duration": 11,
    "start_time": "2023-05-27T11:37:52.938Z"
   },
   {
    "duration": 3,
    "start_time": "2023-05-27T11:37:52.951Z"
   },
   {
    "duration": 51,
    "start_time": "2023-05-27T11:37:52.956Z"
   },
   {
    "duration": 34,
    "start_time": "2023-05-27T11:37:53.009Z"
   },
   {
    "duration": 225,
    "start_time": "2023-05-27T11:37:53.045Z"
   },
   {
    "duration": 11,
    "start_time": "2023-05-27T11:37:53.274Z"
   },
   {
    "duration": 6,
    "start_time": "2023-05-27T11:37:53.287Z"
   },
   {
    "duration": 17,
    "start_time": "2023-05-27T11:37:53.295Z"
   },
   {
    "duration": 11,
    "start_time": "2023-05-27T11:37:53.314Z"
   },
   {
    "duration": 11,
    "start_time": "2023-05-27T11:37:53.327Z"
   },
   {
    "duration": 16,
    "start_time": "2023-05-27T11:37:53.339Z"
   },
   {
    "duration": 1114823,
    "start_time": "2023-05-27T11:37:53.356Z"
   },
   {
    "duration": 8,
    "start_time": "2023-05-27T11:56:28.181Z"
   },
   {
    "duration": 609500,
    "start_time": "2023-05-27T11:56:28.190Z"
   },
   {
    "duration": 175866,
    "start_time": "2023-05-27T12:06:46.393Z"
   },
   {
    "duration": 6,
    "start_time": "2023-05-27T12:11:09.472Z"
   },
   {
    "duration": 2114,
    "start_time": "2023-05-27T12:12:47.804Z"
   },
   {
    "duration": 3472,
    "start_time": "2023-05-27T12:12:49.920Z"
   },
   {
    "duration": 9,
    "start_time": "2023-05-27T12:12:53.393Z"
   },
   {
    "duration": 3358,
    "start_time": "2023-05-27T12:12:53.403Z"
   },
   {
    "duration": 12,
    "start_time": "2023-05-27T12:12:56.763Z"
   },
   {
    "duration": 8,
    "start_time": "2023-05-27T12:12:56.777Z"
   },
   {
    "duration": 34,
    "start_time": "2023-05-27T12:12:56.787Z"
   },
   {
    "duration": 32,
    "start_time": "2023-05-27T12:12:56.822Z"
   },
   {
    "duration": 244,
    "start_time": "2023-05-27T12:12:56.855Z"
   },
   {
    "duration": 16,
    "start_time": "2023-05-27T12:12:57.101Z"
   },
   {
    "duration": 9,
    "start_time": "2023-05-27T12:12:57.119Z"
   },
   {
    "duration": 5,
    "start_time": "2023-05-27T12:12:57.130Z"
   },
   {
    "duration": 12,
    "start_time": "2023-05-27T12:12:57.151Z"
   },
   {
    "duration": 5,
    "start_time": "2023-05-27T12:14:19.227Z"
   },
   {
    "duration": 1387,
    "start_time": "2023-05-27T12:14:31.376Z"
   },
   {
    "duration": 2057,
    "start_time": "2023-05-27T12:14:37.413Z"
   },
   {
    "duration": 6,
    "start_time": "2023-05-27T12:15:01.781Z"
   },
   {
    "duration": 399,
    "start_time": "2023-05-27T12:15:02.050Z"
   },
   {
    "duration": 5,
    "start_time": "2023-05-27T12:15:08.238Z"
   },
   {
    "duration": 559,
    "start_time": "2023-05-27T12:15:08.453Z"
   },
   {
    "duration": 4,
    "start_time": "2023-05-27T12:15:25.343Z"
   },
   {
    "duration": 392,
    "start_time": "2023-05-27T12:15:25.878Z"
   },
   {
    "duration": 5,
    "start_time": "2023-05-27T12:18:34.246Z"
   },
   {
    "duration": 4,
    "start_time": "2023-05-27T12:18:48.481Z"
   },
   {
    "duration": 27,
    "start_time": "2023-05-27T12:18:58.957Z"
   },
   {
    "duration": 4,
    "start_time": "2023-05-27T12:19:17.076Z"
   },
   {
    "duration": 6,
    "start_time": "2023-05-27T12:19:17.445Z"
   },
   {
    "duration": 6,
    "start_time": "2023-05-27T12:19:28.376Z"
   },
   {
    "duration": 6,
    "start_time": "2023-05-27T12:19:38.612Z"
   },
   {
    "duration": 5,
    "start_time": "2023-05-27T12:20:22.497Z"
   },
   {
    "duration": 4,
    "start_time": "2023-05-27T12:36:37.477Z"
   },
   {
    "duration": 458,
    "start_time": "2023-05-27T12:36:38.127Z"
   },
   {
    "duration": 4,
    "start_time": "2023-05-27T12:37:00.529Z"
   },
   {
    "duration": 391,
    "start_time": "2023-05-27T12:37:01.016Z"
   },
   {
    "duration": 6,
    "start_time": "2023-05-27T12:37:45.030Z"
   },
   {
    "duration": 388,
    "start_time": "2023-05-27T12:37:45.241Z"
   },
   {
    "duration": 5,
    "start_time": "2023-05-27T12:38:10.766Z"
   },
   {
    "duration": 379,
    "start_time": "2023-05-27T12:38:11.204Z"
   },
   {
    "duration": 5,
    "start_time": "2023-05-27T12:38:23.053Z"
   },
   {
    "duration": 437,
    "start_time": "2023-05-27T12:38:23.273Z"
   },
   {
    "duration": 5,
    "start_time": "2023-05-27T12:38:36.528Z"
   },
   {
    "duration": 404,
    "start_time": "2023-05-27T12:38:36.942Z"
   },
   {
    "duration": 4,
    "start_time": "2023-05-27T12:38:59.931Z"
   },
   {
    "duration": 411,
    "start_time": "2023-05-27T12:39:00.191Z"
   },
   {
    "duration": 4,
    "start_time": "2023-05-27T12:39:26.868Z"
   },
   {
    "duration": 6,
    "start_time": "2023-05-27T12:39:27.267Z"
   },
   {
    "duration": 387,
    "start_time": "2023-05-27T12:39:27.654Z"
   },
   {
    "duration": 6,
    "start_time": "2023-05-27T12:39:48.157Z"
   },
   {
    "duration": 437,
    "start_time": "2023-05-27T12:39:48.444Z"
   },
   {
    "duration": 7,
    "start_time": "2023-05-27T12:39:55.195Z"
   },
   {
    "duration": 467,
    "start_time": "2023-05-27T12:39:55.468Z"
   },
   {
    "duration": 108,
    "start_time": "2023-05-27T12:40:57.432Z"
   },
   {
    "duration": 476,
    "start_time": "2023-05-27T12:40:57.754Z"
   },
   {
    "duration": 6,
    "start_time": "2023-05-27T12:41:00.832Z"
   },
   {
    "duration": 462,
    "start_time": "2023-05-27T12:41:01.488Z"
   },
   {
    "duration": 5,
    "start_time": "2023-05-27T12:42:04.511Z"
   },
   {
    "duration": 421,
    "start_time": "2023-05-27T12:42:04.858Z"
   },
   {
    "duration": 5,
    "start_time": "2023-05-27T12:42:19.473Z"
   },
   {
    "duration": 437,
    "start_time": "2023-05-27T12:42:19.660Z"
   },
   {
    "duration": 5,
    "start_time": "2023-05-27T12:42:35.797Z"
   },
   {
    "duration": 393,
    "start_time": "2023-05-27T12:42:36.096Z"
   },
   {
    "duration": 3,
    "start_time": "2023-05-27T12:44:36.414Z"
   },
   {
    "duration": 6,
    "start_time": "2023-05-27T12:44:37.100Z"
   },
   {
    "duration": 417,
    "start_time": "2023-05-27T12:44:37.852Z"
   },
   {
    "duration": 3,
    "start_time": "2023-05-27T12:45:04.439Z"
   },
   {
    "duration": 5,
    "start_time": "2023-05-27T12:45:04.899Z"
   },
   {
    "duration": 13,
    "start_time": "2023-05-27T12:45:05.200Z"
   },
   {
    "duration": 4,
    "start_time": "2023-05-27T12:45:15.237Z"
   },
   {
    "duration": 5,
    "start_time": "2023-05-27T12:45:15.738Z"
   },
   {
    "duration": 373,
    "start_time": "2023-05-27T12:45:18.525Z"
   },
   {
    "duration": 3,
    "start_time": "2023-05-27T12:45:31.774Z"
   },
   {
    "duration": 5,
    "start_time": "2023-05-27T12:45:32.073Z"
   },
   {
    "duration": 414,
    "start_time": "2023-05-27T12:45:32.449Z"
   },
   {
    "duration": 5,
    "start_time": "2023-05-27T12:45:43.424Z"
   },
   {
    "duration": 5,
    "start_time": "2023-05-27T12:45:43.839Z"
   },
   {
    "duration": 387,
    "start_time": "2023-05-27T12:45:44.237Z"
   },
   {
    "duration": 4,
    "start_time": "2023-05-27T12:46:10.801Z"
   },
   {
    "duration": 5,
    "start_time": "2023-05-27T12:46:11.101Z"
   },
   {
    "duration": 380,
    "start_time": "2023-05-27T12:46:11.264Z"
   },
   {
    "duration": 4,
    "start_time": "2023-05-27T12:46:19.839Z"
   },
   {
    "duration": 4,
    "start_time": "2023-05-27T12:46:20.174Z"
   },
   {
    "duration": 399,
    "start_time": "2023-05-27T12:46:20.376Z"
   },
   {
    "duration": 89,
    "start_time": "2023-05-27T12:46:32.952Z"
   },
   {
    "duration": 4,
    "start_time": "2023-05-27T12:46:37.513Z"
   },
   {
    "duration": 4,
    "start_time": "2023-05-27T12:46:37.863Z"
   },
   {
    "duration": 375,
    "start_time": "2023-05-27T12:46:38.590Z"
   },
   {
    "duration": 4,
    "start_time": "2023-05-27T12:46:49.702Z"
   },
   {
    "duration": 5,
    "start_time": "2023-05-27T12:46:50.928Z"
   },
   {
    "duration": 383,
    "start_time": "2023-05-27T12:46:51.216Z"
   },
   {
    "duration": 3,
    "start_time": "2023-05-27T12:46:57.802Z"
   },
   {
    "duration": 7,
    "start_time": "2023-05-27T12:46:58.226Z"
   },
   {
    "duration": 383,
    "start_time": "2023-05-27T12:46:58.602Z"
   },
   {
    "duration": 4,
    "start_time": "2023-05-27T12:47:52.015Z"
   },
   {
    "duration": 385,
    "start_time": "2023-05-27T12:47:52.241Z"
   },
   {
    "duration": 5,
    "start_time": "2023-05-27T12:48:39.430Z"
   },
   {
    "duration": 391,
    "start_time": "2023-05-27T12:48:40.103Z"
   },
   {
    "duration": 6,
    "start_time": "2023-05-27T12:48:56.482Z"
   },
   {
    "duration": 394,
    "start_time": "2023-05-27T12:48:56.704Z"
   },
   {
    "duration": 5,
    "start_time": "2023-05-27T12:49:03.540Z"
   },
   {
    "duration": 1616,
    "start_time": "2023-05-27T12:49:03.679Z"
   },
   {
    "duration": 5,
    "start_time": "2023-05-27T12:49:16.217Z"
   },
   {
    "duration": 384,
    "start_time": "2023-05-27T12:49:16.402Z"
   },
   {
    "duration": 5,
    "start_time": "2023-05-27T12:49:22.529Z"
   },
   {
    "duration": 386,
    "start_time": "2023-05-27T12:49:22.855Z"
   },
   {
    "duration": 5,
    "start_time": "2023-05-27T12:49:30.355Z"
   },
   {
    "duration": 374,
    "start_time": "2023-05-27T12:49:30.573Z"
   },
   {
    "duration": 5,
    "start_time": "2023-05-27T12:50:02.418Z"
   },
   {
    "duration": 391,
    "start_time": "2023-05-27T12:50:02.843Z"
   },
   {
    "duration": 6,
    "start_time": "2023-05-27T12:50:25.129Z"
   },
   {
    "duration": 378,
    "start_time": "2023-05-27T12:50:25.381Z"
   },
   {
    "duration": 6,
    "start_time": "2023-05-27T12:52:26.648Z"
   },
   {
    "duration": 402,
    "start_time": "2023-05-27T12:52:26.996Z"
   },
   {
    "duration": 5,
    "start_time": "2023-05-27T12:52:53.665Z"
   },
   {
    "duration": 510,
    "start_time": "2023-05-27T12:52:53.946Z"
   },
   {
    "duration": 5,
    "start_time": "2023-05-27T12:53:04.809Z"
   },
   {
    "duration": 379,
    "start_time": "2023-05-27T12:53:05.322Z"
   },
   {
    "duration": 6,
    "start_time": "2023-05-27T12:54:27.674Z"
   },
   {
    "duration": 658,
    "start_time": "2023-05-27T12:54:28.236Z"
   },
   {
    "duration": 99,
    "start_time": "2023-05-27T12:55:17.962Z"
   },
   {
    "duration": 6,
    "start_time": "2023-05-27T12:55:22.878Z"
   },
   {
    "duration": 418,
    "start_time": "2023-05-27T12:55:23.425Z"
   },
   {
    "duration": 78,
    "start_time": "2023-05-27T12:55:38.164Z"
   },
   {
    "duration": 6,
    "start_time": "2023-05-27T12:55:57.338Z"
   },
   {
    "duration": 385,
    "start_time": "2023-05-27T12:55:57.727Z"
   },
   {
    "duration": 8,
    "start_time": "2023-05-27T12:57:43.767Z"
   },
   {
    "duration": 450,
    "start_time": "2023-05-27T12:57:44.279Z"
   },
   {
    "duration": 5,
    "start_time": "2023-05-27T12:58:11.525Z"
   },
   {
    "duration": 410,
    "start_time": "2023-05-27T12:58:12.207Z"
   },
   {
    "duration": 5,
    "start_time": "2023-05-27T13:01:10.123Z"
   },
   {
    "duration": 464,
    "start_time": "2023-05-27T13:01:10.323Z"
   },
   {
    "duration": 9,
    "start_time": "2023-05-27T13:01:19.336Z"
   },
   {
    "duration": 442,
    "start_time": "2023-05-27T13:01:19.662Z"
   },
   {
    "duration": 6,
    "start_time": "2023-05-27T13:01:46.912Z"
   },
   {
    "duration": 416,
    "start_time": "2023-05-27T13:01:47.424Z"
   },
   {
    "duration": 6,
    "start_time": "2023-05-27T13:02:02.362Z"
   },
   {
    "duration": 418,
    "start_time": "2023-05-27T13:02:02.938Z"
   },
   {
    "duration": 6,
    "start_time": "2023-05-27T13:02:08.513Z"
   },
   {
    "duration": 426,
    "start_time": "2023-05-27T13:02:08.826Z"
   },
   {
    "duration": 6,
    "start_time": "2023-05-27T13:02:28.649Z"
   },
   {
    "duration": 488,
    "start_time": "2023-05-27T13:02:28.873Z"
   },
   {
    "duration": 5,
    "start_time": "2023-05-27T13:03:33.340Z"
   },
   {
    "duration": 441,
    "start_time": "2023-05-27T13:03:33.437Z"
   },
   {
    "duration": 6,
    "start_time": "2023-05-27T13:04:03.502Z"
   },
   {
    "duration": 454,
    "start_time": "2023-05-27T13:04:04.264Z"
   },
   {
    "duration": 7,
    "start_time": "2023-05-27T13:04:24.890Z"
   },
   {
    "duration": 421,
    "start_time": "2023-05-27T13:04:25.315Z"
   },
   {
    "duration": 7,
    "start_time": "2023-05-27T13:04:41.104Z"
   },
   {
    "duration": 467,
    "start_time": "2023-05-27T13:04:41.514Z"
   },
   {
    "duration": 6,
    "start_time": "2023-05-27T13:04:58.593Z"
   },
   {
    "duration": 440,
    "start_time": "2023-05-27T13:05:00.029Z"
   },
   {
    "duration": 6,
    "start_time": "2023-05-27T13:05:09.295Z"
   },
   {
    "duration": 445,
    "start_time": "2023-05-27T13:05:09.906Z"
   },
   {
    "duration": 6,
    "start_time": "2023-05-27T13:05:24.928Z"
   },
   {
    "duration": 431,
    "start_time": "2023-05-27T13:05:25.143Z"
   },
   {
    "duration": 2093,
    "start_time": "2023-05-27T13:06:13.796Z"
   },
   {
    "duration": 2132,
    "start_time": "2023-05-27T13:06:15.891Z"
   },
   {
    "duration": 3,
    "start_time": "2023-05-27T13:06:18.025Z"
   },
   {
    "duration": 795,
    "start_time": "2023-05-27T13:06:18.029Z"
   },
   {
    "duration": 12,
    "start_time": "2023-05-27T13:06:18.826Z"
   },
   {
    "duration": 12,
    "start_time": "2023-05-27T13:06:18.840Z"
   },
   {
    "duration": 34,
    "start_time": "2023-05-27T13:06:18.853Z"
   },
   {
    "duration": 27,
    "start_time": "2023-05-27T13:06:18.889Z"
   },
   {
    "duration": 248,
    "start_time": "2023-05-27T13:06:18.918Z"
   },
   {
    "duration": 9,
    "start_time": "2023-05-27T13:06:19.168Z"
   },
   {
    "duration": 8,
    "start_time": "2023-05-27T13:06:19.178Z"
   },
   {
    "duration": 4,
    "start_time": "2023-05-27T13:06:19.188Z"
   },
   {
    "duration": 7,
    "start_time": "2023-05-27T13:06:19.194Z"
   },
   {
    "duration": 5,
    "start_time": "2023-05-27T13:06:19.203Z"
   },
   {
    "duration": 5,
    "start_time": "2023-05-27T13:06:19.210Z"
   },
   {
    "duration": 1983,
    "start_time": "2023-05-27T14:20:55.813Z"
   },
   {
    "duration": 2138,
    "start_time": "2023-05-27T14:20:57.799Z"
   },
   {
    "duration": 3,
    "start_time": "2023-05-27T14:20:59.939Z"
   },
   {
    "duration": 780,
    "start_time": "2023-05-27T14:20:59.949Z"
   },
   {
    "duration": 18,
    "start_time": "2023-05-27T14:21:00.732Z"
   },
   {
    "duration": 26,
    "start_time": "2023-05-27T14:21:00.752Z"
   },
   {
    "duration": 71,
    "start_time": "2023-05-27T14:21:00.780Z"
   },
   {
    "duration": 77,
    "start_time": "2023-05-27T14:21:00.853Z"
   },
   {
    "duration": 357,
    "start_time": "2023-05-27T14:21:00.932Z"
   },
   {
    "duration": 8,
    "start_time": "2023-05-27T14:21:01.291Z"
   },
   {
    "duration": 44,
    "start_time": "2023-05-27T14:21:01.301Z"
   },
   {
    "duration": 19,
    "start_time": "2023-05-27T14:21:01.347Z"
   },
   {
    "duration": 42,
    "start_time": "2023-05-27T14:21:01.368Z"
   },
   {
    "duration": 30,
    "start_time": "2023-05-27T14:21:01.413Z"
   },
   {
    "duration": 97,
    "start_time": "2023-05-27T14:21:01.445Z"
   },
   {
    "duration": 108541,
    "start_time": "2023-05-27T14:21:01.544Z"
   },
   {
    "duration": 0,
    "start_time": "2023-05-27T14:22:50.087Z"
   },
   {
    "duration": 0,
    "start_time": "2023-05-27T14:22:50.088Z"
   },
   {
    "duration": 0,
    "start_time": "2023-05-27T14:22:50.089Z"
   },
   {
    "duration": 1976,
    "start_time": "2023-05-27T14:23:15.400Z"
   },
   {
    "duration": 2118,
    "start_time": "2023-05-27T14:23:17.378Z"
   },
   {
    "duration": 4,
    "start_time": "2023-05-27T14:23:19.498Z"
   },
   {
    "duration": 771,
    "start_time": "2023-05-27T14:23:19.504Z"
   },
   {
    "duration": 12,
    "start_time": "2023-05-27T14:23:20.277Z"
   },
   {
    "duration": 4,
    "start_time": "2023-05-27T14:23:20.290Z"
   },
   {
    "duration": 34,
    "start_time": "2023-05-27T14:23:20.295Z"
   },
   {
    "duration": 43,
    "start_time": "2023-05-27T14:23:20.333Z"
   },
   {
    "duration": 245,
    "start_time": "2023-05-27T14:23:20.377Z"
   },
   {
    "duration": 9,
    "start_time": "2023-05-27T14:23:20.624Z"
   },
   {
    "duration": 19,
    "start_time": "2023-05-27T14:23:20.634Z"
   },
   {
    "duration": 4,
    "start_time": "2023-05-27T14:23:20.655Z"
   },
   {
    "duration": 12,
    "start_time": "2023-05-27T14:23:20.661Z"
   },
   {
    "duration": 10,
    "start_time": "2023-05-27T14:23:20.676Z"
   },
   {
    "duration": 11,
    "start_time": "2023-05-27T14:23:20.687Z"
   },
   {
    "duration": 57705,
    "start_time": "2023-05-27T14:23:20.699Z"
   },
   {
    "duration": 2063,
    "start_time": "2023-05-27T14:24:37.177Z"
   },
   {
    "duration": 2257,
    "start_time": "2023-05-27T14:24:39.242Z"
   },
   {
    "duration": 3,
    "start_time": "2023-05-27T14:24:41.501Z"
   },
   {
    "duration": 770,
    "start_time": "2023-05-27T14:24:41.506Z"
   },
   {
    "duration": 12,
    "start_time": "2023-05-27T14:24:42.278Z"
   },
   {
    "duration": 5,
    "start_time": "2023-05-27T14:24:42.292Z"
   },
   {
    "duration": 34,
    "start_time": "2023-05-27T14:24:42.299Z"
   },
   {
    "duration": 27,
    "start_time": "2023-05-27T14:24:42.351Z"
   },
   {
    "duration": 272,
    "start_time": "2023-05-27T14:24:42.380Z"
   },
   {
    "duration": 8,
    "start_time": "2023-05-27T14:24:42.653Z"
   },
   {
    "duration": 10,
    "start_time": "2023-05-27T14:24:42.662Z"
   },
   {
    "duration": 8,
    "start_time": "2023-05-27T14:24:42.673Z"
   },
   {
    "duration": 7,
    "start_time": "2023-05-27T14:24:42.683Z"
   },
   {
    "duration": 9,
    "start_time": "2023-05-27T14:24:42.692Z"
   },
   {
    "duration": 6,
    "start_time": "2023-05-27T14:24:42.702Z"
   },
   {
    "duration": 2076,
    "start_time": "2023-05-27T15:16:57.983Z"
   },
   {
    "duration": 2373,
    "start_time": "2023-05-27T15:17:00.063Z"
   },
   {
    "duration": 11,
    "start_time": "2023-05-27T15:17:02.439Z"
   },
   {
    "duration": 822,
    "start_time": "2023-05-27T15:17:02.452Z"
   },
   {
    "duration": 11,
    "start_time": "2023-05-27T15:17:03.276Z"
   },
   {
    "duration": 3,
    "start_time": "2023-05-27T15:17:03.289Z"
   },
   {
    "duration": 37,
    "start_time": "2023-05-27T15:17:03.293Z"
   },
   {
    "duration": 29,
    "start_time": "2023-05-27T15:17:03.350Z"
   },
   {
    "duration": 242,
    "start_time": "2023-05-27T15:17:03.381Z"
   },
   {
    "duration": 8,
    "start_time": "2023-05-27T15:17:03.624Z"
   },
   {
    "duration": 17,
    "start_time": "2023-05-27T15:17:03.633Z"
   },
   {
    "duration": 3,
    "start_time": "2023-05-27T15:17:03.652Z"
   },
   {
    "duration": 5,
    "start_time": "2023-05-27T15:17:03.657Z"
   },
   {
    "duration": 6,
    "start_time": "2023-05-27T15:17:03.664Z"
   },
   {
    "duration": 6,
    "start_time": "2023-05-27T15:17:03.671Z"
   },
   {
    "duration": 5,
    "start_time": "2023-05-27T15:38:58.246Z"
   },
   {
    "duration": 4,
    "start_time": "2023-05-27T15:39:25.408Z"
   },
   {
    "duration": 2049,
    "start_time": "2023-05-27T15:39:41.593Z"
   },
   {
    "duration": 2210,
    "start_time": "2023-05-27T15:39:43.644Z"
   },
   {
    "duration": 4,
    "start_time": "2023-05-27T15:39:45.855Z"
   },
   {
    "duration": 782,
    "start_time": "2023-05-27T15:39:45.861Z"
   },
   {
    "duration": 13,
    "start_time": "2023-05-27T15:39:46.645Z"
   },
   {
    "duration": 3,
    "start_time": "2023-05-27T15:39:46.660Z"
   },
   {
    "duration": 39,
    "start_time": "2023-05-27T15:39:46.664Z"
   },
   {
    "duration": 47,
    "start_time": "2023-05-27T15:39:46.704Z"
   },
   {
    "duration": 232,
    "start_time": "2023-05-27T15:39:46.752Z"
   },
   {
    "duration": 8,
    "start_time": "2023-05-27T15:39:46.987Z"
   },
   {
    "duration": 7,
    "start_time": "2023-05-27T15:39:46.996Z"
   },
   {
    "duration": 4,
    "start_time": "2023-05-27T15:39:47.004Z"
   },
   {
    "duration": 6,
    "start_time": "2023-05-27T15:39:47.009Z"
   },
   {
    "duration": 4,
    "start_time": "2023-05-27T15:39:47.016Z"
   },
   {
    "duration": 31,
    "start_time": "2023-05-27T15:39:47.022Z"
   },
   {
    "duration": 1110717,
    "start_time": "2023-05-27T15:39:47.054Z"
   },
   {
    "duration": 6,
    "start_time": "2023-05-27T16:05:38.760Z"
   },
   {
    "duration": 211,
    "start_time": "2023-05-27T16:06:10.448Z"
   },
   {
    "duration": 927,
    "start_time": "2023-05-27T16:06:15.776Z"
   },
   {
    "duration": 1976,
    "start_time": "2023-05-27T16:06:53.779Z"
   },
   {
    "duration": 1400,
    "start_time": "2023-05-27T16:07:44.711Z"
   },
   {
    "duration": 937,
    "start_time": "2023-05-27T16:07:55.598Z"
   },
   {
    "duration": 88,
    "start_time": "2023-05-27T16:08:06.153Z"
   },
   {
    "duration": 89,
    "start_time": "2023-05-27T16:08:09.313Z"
   },
   {
    "duration": 6,
    "start_time": "2023-05-27T16:08:36.879Z"
   },
   {
    "duration": 14,
    "start_time": "2023-05-27T16:08:42.813Z"
   },
   {
    "duration": 1567,
    "start_time": "2023-05-27T16:08:46.817Z"
   },
   {
    "duration": 2023,
    "start_time": "2023-05-27T16:08:57.599Z"
   },
   {
    "duration": 1218,
    "start_time": "2023-05-27T16:09:03.050Z"
   },
   {
    "duration": 2014,
    "start_time": "2023-05-27T16:09:53.798Z"
   },
   {
    "duration": 23467,
    "start_time": "2023-05-27T16:13:50.360Z"
   },
   {
    "duration": 90,
    "start_time": "2023-05-27T16:16:35.461Z"
   },
   {
    "duration": 96,
    "start_time": "2023-05-27T16:16:42.533Z"
   },
   {
    "duration": 5,
    "start_time": "2023-05-27T16:16:46.708Z"
   },
   {
    "duration": 4,
    "start_time": "2023-05-27T16:17:17.157Z"
   },
   {
    "duration": 4,
    "start_time": "2023-05-27T16:17:26.769Z"
   },
   {
    "duration": 5,
    "start_time": "2023-05-27T16:17:29.655Z"
   },
   {
    "duration": 5,
    "start_time": "2023-05-27T16:17:42.886Z"
   },
   {
    "duration": 1289,
    "start_time": "2023-05-27T16:17:54.086Z"
   },
   {
    "duration": 2618,
    "start_time": "2023-05-27T16:18:15.461Z"
   },
   {
    "duration": 1117,
    "start_time": "2023-05-27T16:18:21.469Z"
   },
   {
    "duration": 2050,
    "start_time": "2023-05-27T16:19:21.679Z"
   },
   {
    "duration": 3215,
    "start_time": "2023-05-27T16:19:23.731Z"
   },
   {
    "duration": 6,
    "start_time": "2023-05-27T16:19:26.948Z"
   },
   {
    "duration": 3323,
    "start_time": "2023-05-27T16:19:26.957Z"
   },
   {
    "duration": 11,
    "start_time": "2023-05-27T16:19:30.282Z"
   },
   {
    "duration": 25,
    "start_time": "2023-05-27T16:19:30.294Z"
   },
   {
    "duration": 62,
    "start_time": "2023-05-27T16:19:30.321Z"
   },
   {
    "duration": 57,
    "start_time": "2023-05-27T16:19:30.385Z"
   },
   {
    "duration": 259,
    "start_time": "2023-05-27T16:19:30.444Z"
   },
   {
    "duration": 12,
    "start_time": "2023-05-27T16:19:30.707Z"
   },
   {
    "duration": 34,
    "start_time": "2023-05-27T16:19:30.720Z"
   },
   {
    "duration": 27,
    "start_time": "2023-05-27T16:19:30.756Z"
   },
   {
    "duration": 59,
    "start_time": "2023-05-27T16:19:30.785Z"
   },
   {
    "duration": 43,
    "start_time": "2023-05-27T16:19:30.845Z"
   },
   {
    "duration": 28,
    "start_time": "2023-05-27T16:19:30.890Z"
   },
   {
    "duration": 1094485,
    "start_time": "2023-05-27T16:19:30.920Z"
   },
   {
    "duration": 7454,
    "start_time": "2023-05-27T16:51:33.482Z"
   },
   {
    "duration": 38,
    "start_time": "2023-05-27T16:51:41.148Z"
   },
   {
    "duration": 447,
    "start_time": "2023-05-27T16:51:56.338Z"
   },
   {
    "duration": 114,
    "start_time": "2023-05-27T16:52:13.627Z"
   },
   {
    "duration": 120,
    "start_time": "2023-05-27T16:52:19.197Z"
   },
   {
    "duration": 104,
    "start_time": "2023-05-27T16:52:35.648Z"
   },
   {
    "duration": 111,
    "start_time": "2023-05-27T16:52:46.310Z"
   },
   {
    "duration": 116,
    "start_time": "2023-05-27T16:54:08.410Z"
   },
   {
    "duration": 109,
    "start_time": "2023-05-27T16:54:23.325Z"
   },
   {
    "duration": 4,
    "start_time": "2023-05-27T16:56:50.485Z"
   },
   {
    "duration": 8113,
    "start_time": "2023-05-27T16:57:03.966Z"
   },
   {
    "duration": 26,
    "start_time": "2023-05-27T17:16:57.887Z"
   },
   {
    "duration": 13536,
    "start_time": "2023-05-27T17:17:03.444Z"
   },
   {
    "duration": 129,
    "start_time": "2023-05-27T17:17:33.146Z"
   },
   {
    "duration": 12,
    "start_time": "2023-05-27T17:17:42.033Z"
   },
   {
    "duration": 5,
    "start_time": "2023-05-27T17:17:55.711Z"
   },
   {
    "duration": 29,
    "start_time": "2023-05-27T17:18:14.237Z"
   },
   {
    "duration": 23,
    "start_time": "2023-05-27T17:18:20.587Z"
   },
   {
    "duration": 15,
    "start_time": "2023-05-27T17:18:26.799Z"
   },
   {
    "duration": 6,
    "start_time": "2023-05-27T17:18:30.233Z"
   },
   {
    "duration": 24,
    "start_time": "2023-05-27T17:18:42.806Z"
   },
   {
    "duration": 20,
    "start_time": "2023-05-27T17:19:01.624Z"
   },
   {
    "duration": 11,
    "start_time": "2023-05-27T17:19:39.310Z"
   },
   {
    "duration": 14,
    "start_time": "2023-05-27T17:19:48.286Z"
   },
   {
    "duration": 5,
    "start_time": "2023-05-27T17:20:50.925Z"
   },
   {
    "duration": 1864,
    "start_time": "2023-05-27T17:21:01.477Z"
   },
   {
    "duration": 1067,
    "start_time": "2023-05-27T17:21:26.825Z"
   },
   {
    "duration": 50,
    "start_time": "2023-05-27T17:21:34.525Z"
   },
   {
    "duration": 14087,
    "start_time": "2023-05-27T17:22:15.200Z"
   },
   {
    "duration": 6,
    "start_time": "2023-05-27T17:22:29.289Z"
   },
   {
    "duration": 165,
    "start_time": "2023-05-27T17:22:41.151Z"
   },
   {
    "duration": 10,
    "start_time": "2023-05-27T17:23:53.090Z"
   },
   {
    "duration": 12,
    "start_time": "2023-05-27T17:24:05.527Z"
   },
   {
    "duration": 4,
    "start_time": "2023-05-27T17:24:09.601Z"
   },
   {
    "duration": 8,
    "start_time": "2023-05-27T17:24:28.938Z"
   },
   {
    "duration": 4,
    "start_time": "2023-05-27T17:25:51.490Z"
   },
   {
    "duration": 15976,
    "start_time": "2023-05-27T17:26:12.709Z"
   },
   {
    "duration": 13,
    "start_time": "2023-05-27T17:27:14.585Z"
   },
   {
    "duration": 10,
    "start_time": "2023-05-27T17:27:21.908Z"
   },
   {
    "duration": 4,
    "start_time": "2023-05-27T17:27:24.907Z"
   },
   {
    "duration": 102,
    "start_time": "2023-05-27T17:27:27.405Z"
   },
   {
    "duration": 2010,
    "start_time": "2023-05-27T17:27:54.542Z"
   },
   {
    "duration": 2208,
    "start_time": "2023-05-27T17:27:56.555Z"
   },
   {
    "duration": 4,
    "start_time": "2023-05-27T17:27:58.764Z"
   },
   {
    "duration": 784,
    "start_time": "2023-05-27T17:27:58.770Z"
   },
   {
    "duration": 12,
    "start_time": "2023-05-27T17:27:59.555Z"
   },
   {
    "duration": 4,
    "start_time": "2023-05-27T17:27:59.568Z"
   },
   {
    "duration": 34,
    "start_time": "2023-05-27T17:27:59.574Z"
   },
   {
    "duration": 51,
    "start_time": "2023-05-27T17:27:59.609Z"
   },
   {
    "duration": 239,
    "start_time": "2023-05-27T17:27:59.662Z"
   },
   {
    "duration": 8,
    "start_time": "2023-05-27T17:27:59.903Z"
   },
   {
    "duration": 7,
    "start_time": "2023-05-27T17:27:59.912Z"
   },
   {
    "duration": 5,
    "start_time": "2023-05-27T17:27:59.920Z"
   },
   {
    "duration": 27,
    "start_time": "2023-05-27T17:27:59.927Z"
   },
   {
    "duration": 6,
    "start_time": "2023-05-27T17:27:59.956Z"
   },
   {
    "duration": 5,
    "start_time": "2023-05-27T17:27:59.964Z"
   },
   {
    "duration": 6,
    "start_time": "2023-05-27T17:27:59.970Z"
   },
   {
    "duration": 1109996,
    "start_time": "2023-05-27T17:27:59.977Z"
   },
   {
    "duration": 319,
    "start_time": "2023-05-27T17:46:29.975Z"
   },
   {
    "duration": 33,
    "start_time": "2023-05-27T17:46:30.296Z"
   },
   {
    "duration": 15728,
    "start_time": "2023-05-27T17:46:30.331Z"
   },
   {
    "duration": 4,
    "start_time": "2023-05-27T17:46:46.061Z"
   },
   {
    "duration": 9,
    "start_time": "2023-05-27T17:56:47.538Z"
   },
   {
    "duration": 3833,
    "start_time": "2023-05-27T17:57:06.650Z"
   },
   {
    "duration": 10795,
    "start_time": "2023-05-27T17:57:10.485Z"
   },
   {
    "duration": 3,
    "start_time": "2023-05-27T17:57:21.282Z"
   },
   {
    "duration": 5,
    "start_time": "2023-05-27T17:57:21.287Z"
   },
   {
    "duration": 6,
    "start_time": "2023-05-27T17:57:21.294Z"
   },
   {
    "duration": 2,
    "start_time": "2023-05-27T17:57:22.678Z"
   },
   {
    "duration": 32,
    "start_time": "2023-05-27T17:57:23.293Z"
   },
   {
    "duration": 6,
    "start_time": "2023-05-27T17:57:24.594Z"
   },
   {
    "duration": 5,
    "start_time": "2023-05-27T17:57:25.694Z"
   },
   {
    "duration": 3,
    "start_time": "2023-05-27T17:57:38.652Z"
   },
   {
    "duration": 3,
    "start_time": "2023-05-27T17:57:40.590Z"
   },
   {
    "duration": 1575531,
    "start_time": "2023-05-27T17:57:42.505Z"
   },
   {
    "duration": 17,
    "start_time": "2023-05-27T18:26:01.594Z"
   },
   {
    "duration": 3,
    "start_time": "2023-05-27T18:26:05.048Z"
   },
   {
    "duration": 4,
    "start_time": "2023-05-27T18:26:05.377Z"
   },
   {
    "duration": 1058963,
    "start_time": "2023-05-27T18:26:05.997Z"
   },
   {
    "duration": 5,
    "start_time": "2023-05-27T18:49:26.867Z"
   },
   {
    "duration": 6,
    "start_time": "2023-05-27T20:36:44.795Z"
   },
   {
    "duration": 5,
    "start_time": "2023-05-27T20:36:46.378Z"
   },
   {
    "duration": 6,
    "start_time": "2023-05-27T20:36:46.703Z"
   },
   {
    "duration": 2,
    "start_time": "2023-05-27T20:36:47.828Z"
   },
   {
    "duration": 30,
    "start_time": "2023-05-27T20:36:48.126Z"
   },
   {
    "duration": 142,
    "start_time": "2023-05-27T20:36:48.728Z"
   },
   {
    "duration": 3,
    "start_time": "2023-05-27T20:36:49.428Z"
   },
   {
    "duration": 2,
    "start_time": "2023-05-27T20:36:53.276Z"
   },
   {
    "duration": 6,
    "start_time": "2023-05-27T20:36:53.892Z"
   },
   {
    "duration": 1199989,
    "start_time": "2023-05-27T20:36:54.677Z"
   },
   {
    "duration": 5,
    "start_time": "2023-05-27T20:59:21.978Z"
   },
   {
    "duration": 6,
    "start_time": "2023-05-27T20:59:30.476Z"
   },
   {
    "duration": 3,
    "start_time": "2023-05-27T20:59:31.977Z"
   },
   {
    "duration": 37,
    "start_time": "2023-05-27T20:59:32.357Z"
   },
   {
    "duration": 6,
    "start_time": "2023-05-27T20:59:32.722Z"
   },
   {
    "duration": 3,
    "start_time": "2023-05-27T20:59:33.081Z"
   },
   {
    "duration": 3,
    "start_time": "2023-05-27T20:59:34.246Z"
   },
   {
    "duration": 4,
    "start_time": "2023-05-27T20:59:34.617Z"
   },
   {
    "duration": 1719772,
    "start_time": "2023-05-27T20:59:34.995Z"
   },
   {
    "duration": 3,
    "start_time": "2023-05-27T21:28:36.709Z"
   },
   {
    "duration": 3,
    "start_time": "2023-05-27T21:28:43.276Z"
   },
   {
    "duration": 3,
    "start_time": "2023-05-27T21:29:12.581Z"
   },
   {
    "duration": 3,
    "start_time": "2023-05-27T21:29:16.203Z"
   },
   {
    "duration": 726399,
    "start_time": "2023-05-27T21:29:22.554Z"
   },
   {
    "duration": 3,
    "start_time": "2023-05-27T21:44:30.996Z"
   },
   {
    "duration": 4,
    "start_time": "2023-05-27T21:44:33.620Z"
   },
   {
    "duration": 372634,
    "start_time": "2023-05-27T21:44:35.481Z"
   },
   {
    "duration": 5,
    "start_time": "2023-05-27T21:50:51.295Z"
   },
   {
    "duration": 1614648,
    "start_time": "2023-05-27T21:50:52.361Z"
   },
   {
    "duration": 4,
    "start_time": "2023-05-27T22:17:47.011Z"
   },
   {
    "duration": 7,
    "start_time": "2023-05-27T22:17:47.017Z"
   },
   {
    "duration": 6,
    "start_time": "2023-05-27T22:17:47.026Z"
   },
   {
    "duration": 3,
    "start_time": "2023-05-27T22:18:54.212Z"
   },
   {
    "duration": 3,
    "start_time": "2023-05-27T22:18:55.030Z"
   },
   {
    "duration": 340444,
    "start_time": "2023-05-27T22:18:56.029Z"
   },
   {
    "duration": 0,
    "start_time": "2023-05-27T22:24:36.475Z"
   },
   {
    "duration": 0,
    "start_time": "2023-05-27T22:24:36.477Z"
   },
   {
    "duration": 0,
    "start_time": "2023-05-27T22:24:36.479Z"
   },
   {
    "duration": 0,
    "start_time": "2023-05-27T22:24:36.481Z"
   },
   {
    "duration": 0,
    "start_time": "2023-05-27T22:24:36.482Z"
   },
   {
    "duration": 3,
    "start_time": "2023-05-27T22:26:55.550Z"
   },
   {
    "duration": 22,
    "start_time": "2023-05-27T22:26:56.312Z"
   },
   {
    "duration": 2,
    "start_time": "2023-05-27T22:27:13.125Z"
   },
   {
    "duration": 946091,
    "start_time": "2023-05-27T22:27:13.641Z"
   },
   {
    "duration": 4,
    "start_time": "2023-05-27T22:42:59.734Z"
   },
   {
    "duration": 4,
    "start_time": "2023-05-27T22:42:59.750Z"
   },
   {
    "duration": 2659887,
    "start_time": "2023-05-27T22:42:59.756Z"
   },
   {
    "duration": 15,
    "start_time": "2023-05-27T23:27:19.645Z"
   },
   {
    "duration": 0,
    "start_time": "2023-05-27T23:27:19.662Z"
   },
   {
    "duration": 0,
    "start_time": "2023-05-27T23:27:19.663Z"
   },
   {
    "duration": 0,
    "start_time": "2023-05-27T23:27:19.665Z"
   },
   {
    "duration": 0,
    "start_time": "2023-05-27T23:27:19.666Z"
   },
   {
    "duration": 14,
    "start_time": "2023-05-28T03:27:08.593Z"
   },
   {
    "duration": 14,
    "start_time": "2023-05-28T03:27:18.340Z"
   },
   {
    "duration": 6,
    "start_time": "2023-05-28T03:32:56.049Z"
   },
   {
    "duration": 11,
    "start_time": "2023-05-28T03:33:08.063Z"
   },
   {
    "duration": 3,
    "start_time": "2023-05-28T03:33:16.150Z"
   },
   {
    "duration": 832264,
    "start_time": "2023-05-28T03:33:18.473Z"
   },
   {
    "duration": 0,
    "start_time": "2023-05-28T03:47:10.740Z"
   },
   {
    "duration": 0,
    "start_time": "2023-05-28T03:47:10.740Z"
   },
   {
    "duration": 0,
    "start_time": "2023-05-28T03:47:10.742Z"
   },
   {
    "duration": 0,
    "start_time": "2023-05-28T03:47:10.743Z"
   },
   {
    "duration": 0,
    "start_time": "2023-05-28T03:47:10.744Z"
   },
   {
    "duration": 0,
    "start_time": "2023-05-28T03:47:10.745Z"
   },
   {
    "duration": 0,
    "start_time": "2023-05-28T03:47:10.746Z"
   },
   {
    "duration": 0,
    "start_time": "2023-05-28T03:47:10.747Z"
   },
   {
    "duration": 0,
    "start_time": "2023-05-28T03:47:10.748Z"
   },
   {
    "duration": 2101,
    "start_time": "2023-05-28T03:47:22.975Z"
   },
   {
    "duration": 16,
    "start_time": "2023-05-28T03:47:45.252Z"
   },
   {
    "duration": 10,
    "start_time": "2023-05-28T03:47:48.562Z"
   },
   {
    "duration": 2,
    "start_time": "2023-05-28T03:47:56.514Z"
   },
   {
    "duration": 4,
    "start_time": "2023-05-28T03:47:56.876Z"
   },
   {
    "duration": 6,
    "start_time": "2023-05-28T03:48:21.441Z"
   },
   {
    "duration": 4,
    "start_time": "2023-05-28T03:48:34.700Z"
   },
   {
    "duration": 2030,
    "start_time": "2023-05-28T03:52:13.507Z"
   },
   {
    "duration": 2044,
    "start_time": "2023-05-28T03:52:15.539Z"
   },
   {
    "duration": 3,
    "start_time": "2023-05-28T03:52:17.585Z"
   },
   {
    "duration": 748,
    "start_time": "2023-05-28T03:52:17.590Z"
   },
   {
    "duration": 14,
    "start_time": "2023-05-28T03:52:18.340Z"
   },
   {
    "duration": 3,
    "start_time": "2023-05-28T03:52:18.356Z"
   },
   {
    "duration": 32,
    "start_time": "2023-05-28T03:52:18.361Z"
   },
   {
    "duration": 27,
    "start_time": "2023-05-28T03:52:18.395Z"
   },
   {
    "duration": 245,
    "start_time": "2023-05-28T03:52:18.423Z"
   },
   {
    "duration": 8,
    "start_time": "2023-05-28T03:52:18.670Z"
   },
   {
    "duration": 6,
    "start_time": "2023-05-28T03:52:18.679Z"
   },
   {
    "duration": 4,
    "start_time": "2023-05-28T03:52:18.686Z"
   },
   {
    "duration": 6,
    "start_time": "2023-05-28T03:52:18.691Z"
   },
   {
    "duration": 9,
    "start_time": "2023-05-28T03:52:18.698Z"
   },
   {
    "duration": 5,
    "start_time": "2023-05-28T03:52:18.708Z"
   },
   {
    "duration": 5,
    "start_time": "2023-05-28T03:52:18.714Z"
   },
   {
    "duration": 1012919,
    "start_time": "2023-05-28T03:52:18.721Z"
   },
   {
    "duration": 8,
    "start_time": "2023-05-28T04:09:11.649Z"
   },
   {
    "duration": 15056,
    "start_time": "2023-05-28T04:09:11.659Z"
   },
   {
    "duration": 9,
    "start_time": "2023-05-28T04:09:26.717Z"
   },
   {
    "duration": 3751,
    "start_time": "2023-05-28T04:09:26.727Z"
   },
   {
    "duration": 10862,
    "start_time": "2023-05-28T04:09:30.480Z"
   },
   {
    "duration": 6,
    "start_time": "2023-05-28T04:09:41.344Z"
   },
   {
    "duration": 4,
    "start_time": "2023-05-28T04:09:41.352Z"
   },
   {
    "duration": 5,
    "start_time": "2023-05-28T04:09:41.357Z"
   },
   {
    "duration": 7,
    "start_time": "2023-05-28T04:09:41.363Z"
   },
   {
    "duration": 6,
    "start_time": "2023-05-28T04:09:41.372Z"
   },
   {
    "duration": 35,
    "start_time": "2023-05-28T04:09:41.380Z"
   },
   {
    "duration": 5,
    "start_time": "2023-05-28T04:09:41.416Z"
   },
   {
    "duration": 4,
    "start_time": "2023-05-28T04:09:41.450Z"
   },
   {
    "duration": 3,
    "start_time": "2023-05-28T04:09:41.456Z"
   },
   {
    "duration": 93,
    "start_time": "2023-05-28T04:09:41.460Z"
   },
   {
    "duration": 0,
    "start_time": "2023-05-28T04:09:41.555Z"
   },
   {
    "duration": 0,
    "start_time": "2023-05-28T04:09:41.556Z"
   },
   {
    "duration": 0,
    "start_time": "2023-05-28T04:09:41.557Z"
   },
   {
    "duration": 0,
    "start_time": "2023-05-28T04:09:41.558Z"
   },
   {
    "duration": 3,
    "start_time": "2023-05-28T04:41:56.805Z"
   },
   {
    "duration": 34,
    "start_time": "2023-05-28T04:41:57.392Z"
   },
   {
    "duration": 5,
    "start_time": "2023-05-28T04:41:57.967Z"
   },
   {
    "duration": 3,
    "start_time": "2023-05-28T04:41:58.508Z"
   },
   {
    "duration": 3,
    "start_time": "2023-05-28T04:42:08.543Z"
   },
   {
    "duration": 1060,
    "start_time": "2023-05-28T04:42:12.521Z"
   },
   {
    "duration": 3,
    "start_time": "2023-05-28T04:42:24.581Z"
   },
   {
    "duration": 4,
    "start_time": "2023-05-28T04:42:44.825Z"
   },
   {
    "duration": 159,
    "start_time": "2023-05-28T04:42:47.695Z"
   },
   {
    "duration": 4,
    "start_time": "2023-05-28T04:43:26.734Z"
   },
   {
    "duration": 334201,
    "start_time": "2023-05-28T04:43:28.281Z"
   },
   {
    "duration": 4,
    "start_time": "2023-05-28T04:49:02.485Z"
   },
   {
    "duration": 125023,
    "start_time": "2023-05-28T04:49:02.490Z"
   },
   {
    "duration": 2,
    "start_time": "2023-05-28T04:51:07.516Z"
   },
   {
    "duration": 5,
    "start_time": "2023-05-28T04:51:07.520Z"
   },
   {
    "duration": 2844307,
    "start_time": "2023-05-28T04:51:07.527Z"
   },
   {
    "duration": 6,
    "start_time": "2023-05-28T05:38:31.837Z"
   },
   {
    "duration": 202283,
    "start_time": "2023-05-28T05:38:31.845Z"
   },
   {
    "duration": 6,
    "start_time": "2023-05-28T05:41:54.131Z"
   },
   {
    "duration": 20,
    "start_time": "2023-05-28T05:41:54.154Z"
   },
   {
    "duration": 0,
    "start_time": "2023-05-28T05:41:54.176Z"
   },
   {
    "duration": 0,
    "start_time": "2023-05-28T05:41:54.178Z"
   },
   {
    "duration": 0,
    "start_time": "2023-05-28T05:41:54.179Z"
   },
   {
    "duration": 0,
    "start_time": "2023-05-28T05:41:54.181Z"
   },
   {
    "duration": 0,
    "start_time": "2023-05-28T05:41:54.182Z"
   },
   {
    "duration": 0,
    "start_time": "2023-05-28T05:41:54.183Z"
   },
   {
    "duration": 0,
    "start_time": "2023-05-28T05:41:54.185Z"
   },
   {
    "duration": 0,
    "start_time": "2023-05-28T05:41:54.186Z"
   },
   {
    "duration": 0,
    "start_time": "2023-05-28T05:41:54.187Z"
   },
   {
    "duration": 3,
    "start_time": "2023-05-28T05:43:05.319Z"
   },
   {
    "duration": 4,
    "start_time": "2023-05-28T05:43:06.143Z"
   },
   {
    "duration": 4014689,
    "start_time": "2023-05-28T05:43:06.842Z"
   },
   {
    "duration": 4,
    "start_time": "2023-05-28T06:50:01.534Z"
   },
   {
    "duration": 1420243,
    "start_time": "2023-05-28T06:50:01.551Z"
   },
   {
    "duration": 3,
    "start_time": "2023-05-28T07:13:41.797Z"
   },
   {
    "duration": 1314557,
    "start_time": "2023-05-28T07:13:41.802Z"
   },
   {
    "duration": 3,
    "start_time": "2023-05-28T07:35:36.361Z"
   },
   {
    "duration": 6,
    "start_time": "2023-05-28T07:35:36.366Z"
   },
   {
    "duration": 910317,
    "start_time": "2023-05-28T07:35:36.374Z"
   },
   {
    "duration": 4,
    "start_time": "2023-05-28T07:50:46.692Z"
   },
   {
    "duration": 178891,
    "start_time": "2023-05-28T07:50:46.698Z"
   },
   {
    "duration": 6,
    "start_time": "2023-05-28T08:29:59.654Z"
   },
   {
    "duration": 6,
    "start_time": "2023-05-28T08:30:01.053Z"
   },
   {
    "duration": 4,
    "start_time": "2023-05-28T08:30:02.282Z"
   },
   {
    "duration": 5,
    "start_time": "2023-05-28T08:30:03.395Z"
   },
   {
    "duration": 4,
    "start_time": "2023-05-28T08:30:04.769Z"
   },
   {
    "duration": 225,
    "start_time": "2023-05-28T08:30:06.459Z"
   },
   {
    "duration": 200,
    "start_time": "2023-05-28T08:30:12.760Z"
   },
   {
    "duration": 210,
    "start_time": "2023-05-28T08:30:16.691Z"
   },
   {
    "duration": 408,
    "start_time": "2023-05-28T08:30:19.861Z"
   },
   {
    "duration": 3,
    "start_time": "2023-05-28T08:30:27.619Z"
   },
   {
    "duration": 268,
    "start_time": "2023-05-28T08:30:28.592Z"
   },
   {
    "duration": 3,
    "start_time": "2023-05-28T08:30:44.574Z"
   },
   {
    "duration": 14,
    "start_time": "2023-05-28T08:30:45.207Z"
   },
   {
    "duration": 445064,
    "start_time": "2023-05-28T08:30:54.378Z"
   },
   {
    "duration": 0,
    "start_time": "2023-05-28T08:38:19.450Z"
   },
   {
    "duration": 0,
    "start_time": "2023-05-28T08:38:19.451Z"
   },
   {
    "duration": 0,
    "start_time": "2023-05-28T08:38:19.453Z"
   },
   {
    "duration": 0,
    "start_time": "2023-05-28T08:38:19.454Z"
   },
   {
    "duration": 0,
    "start_time": "2023-05-28T08:38:19.466Z"
   },
   {
    "duration": 9754,
    "start_time": "2023-05-28T08:38:25.356Z"
   },
   {
    "duration": 17,
    "start_time": "2023-05-28T08:38:37.136Z"
   },
   {
    "duration": 590712,
    "start_time": "2023-05-28T08:38:43.604Z"
   },
   {
    "duration": 12109,
    "start_time": "2023-05-28T08:48:34.318Z"
   },
   {
    "duration": 13,
    "start_time": "2023-05-28T08:48:46.430Z"
   },
   {
    "duration": 0,
    "start_time": "2023-05-28T08:48:46.450Z"
   },
   {
    "duration": 0,
    "start_time": "2023-05-28T08:48:46.452Z"
   },
   {
    "duration": 0,
    "start_time": "2023-05-28T08:48:46.453Z"
   },
   {
    "duration": 12,
    "start_time": "2023-05-28T08:51:21.828Z"
   },
   {
    "duration": 5,
    "start_time": "2023-05-28T08:51:28.193Z"
   },
   {
    "duration": 18,
    "start_time": "2023-05-28T08:51:33.385Z"
   },
   {
    "duration": 14,
    "start_time": "2023-05-28T08:51:42.182Z"
   },
   {
    "duration": 16,
    "start_time": "2023-05-28T08:51:56.492Z"
   },
   {
    "duration": 15,
    "start_time": "2023-05-28T08:52:08.454Z"
   },
   {
    "duration": 15,
    "start_time": "2023-05-28T08:52:19.505Z"
   },
   {
    "duration": 15,
    "start_time": "2023-05-28T08:52:26.919Z"
   },
   {
    "duration": 48,
    "start_time": "2023-05-28T08:52:29.186Z"
   },
   {
    "duration": 170,
    "start_time": "2023-05-28T08:52:31.993Z"
   },
   {
    "duration": 11741,
    "start_time": "2023-05-28T08:52:35.985Z"
   },
   {
    "duration": 2334,
    "start_time": "2023-05-28T08:53:05.943Z"
   },
   {
    "duration": 2409,
    "start_time": "2023-05-28T08:53:08.280Z"
   },
   {
    "duration": 4,
    "start_time": "2023-05-28T08:53:10.691Z"
   },
   {
    "duration": 830,
    "start_time": "2023-05-28T08:53:10.697Z"
   },
   {
    "duration": 12,
    "start_time": "2023-05-28T08:53:11.529Z"
   },
   {
    "duration": 4,
    "start_time": "2023-05-28T08:53:11.550Z"
   },
   {
    "duration": 35,
    "start_time": "2023-05-28T08:53:11.556Z"
   },
   {
    "duration": 27,
    "start_time": "2023-05-28T08:53:11.593Z"
   },
   {
    "duration": 269,
    "start_time": "2023-05-28T08:53:11.622Z"
   },
   {
    "duration": 8,
    "start_time": "2023-05-28T08:53:11.893Z"
   },
   {
    "duration": 14,
    "start_time": "2023-05-28T08:53:11.902Z"
   },
   {
    "duration": 15,
    "start_time": "2023-05-28T08:53:11.918Z"
   },
   {
    "duration": 13,
    "start_time": "2023-05-28T08:53:11.934Z"
   },
   {
    "duration": 11,
    "start_time": "2023-05-28T08:53:11.950Z"
   },
   {
    "duration": 5,
    "start_time": "2023-05-28T08:53:11.964Z"
   },
   {
    "duration": 5,
    "start_time": "2023-05-28T08:53:11.971Z"
   },
   {
    "duration": 1144809,
    "start_time": "2023-05-28T08:53:11.978Z"
   },
   {
    "duration": 9,
    "start_time": "2023-05-28T09:12:16.789Z"
   },
   {
    "duration": 16544,
    "start_time": "2023-05-28T09:12:16.799Z"
   },
   {
    "duration": 13,
    "start_time": "2023-05-28T09:12:33.345Z"
   },
   {
    "duration": 3953,
    "start_time": "2023-05-28T09:12:33.360Z"
   },
   {
    "duration": 11656,
    "start_time": "2023-05-28T09:12:37.315Z"
   },
   {
    "duration": 3,
    "start_time": "2023-05-28T09:12:48.972Z"
   },
   {
    "duration": 35,
    "start_time": "2023-05-28T09:12:48.977Z"
   },
   {
    "duration": 6,
    "start_time": "2023-05-28T09:12:49.014Z"
   },
   {
    "duration": 29,
    "start_time": "2023-05-28T09:12:49.021Z"
   },
   {
    "duration": 4,
    "start_time": "2023-05-28T09:12:49.052Z"
   },
   {
    "duration": 5,
    "start_time": "2023-05-28T09:12:49.057Z"
   },
   {
    "duration": 7,
    "start_time": "2023-05-28T09:12:49.064Z"
   },
   {
    "duration": 11,
    "start_time": "2023-05-28T09:12:49.073Z"
   },
   {
    "duration": 6,
    "start_time": "2023-05-28T09:12:49.086Z"
   },
   {
    "duration": 10,
    "start_time": "2023-05-28T09:12:49.094Z"
   },
   {
    "duration": 3,
    "start_time": "2023-05-28T09:14:57.967Z"
   },
   {
    "duration": 13,
    "start_time": "2023-05-28T09:14:57.972Z"
   },
   {
    "duration": 250,
    "start_time": "2023-05-28T09:14:57.987Z"
   },
   {
    "duration": 0,
    "start_time": "2023-05-28T09:14:58.250Z"
   },
   {
    "duration": 0,
    "start_time": "2023-05-28T09:14:58.251Z"
   },
   {
    "duration": 0,
    "start_time": "2023-05-28T09:14:58.253Z"
   },
   {
    "duration": 0,
    "start_time": "2023-05-28T09:14:58.254Z"
   },
   {
    "duration": 0,
    "start_time": "2023-05-28T09:14:58.255Z"
   },
   {
    "duration": 0,
    "start_time": "2023-05-28T09:14:58.256Z"
   },
   {
    "duration": 0,
    "start_time": "2023-05-28T09:14:58.257Z"
   },
   {
    "duration": 0,
    "start_time": "2023-05-28T09:14:58.259Z"
   },
   {
    "duration": 0,
    "start_time": "2023-05-28T09:14:58.260Z"
   },
   {
    "duration": 0,
    "start_time": "2023-05-28T09:14:58.261Z"
   },
   {
    "duration": 0,
    "start_time": "2023-05-28T09:14:58.262Z"
   },
   {
    "duration": 0,
    "start_time": "2023-05-28T09:14:58.264Z"
   },
   {
    "duration": 0,
    "start_time": "2023-05-28T09:14:58.265Z"
   },
   {
    "duration": 0,
    "start_time": "2023-05-28T09:14:58.265Z"
   },
   {
    "duration": 0,
    "start_time": "2023-05-28T09:14:58.267Z"
   },
   {
    "duration": 0,
    "start_time": "2023-05-28T09:14:58.268Z"
   },
   {
    "duration": 1,
    "start_time": "2023-05-28T09:14:58.268Z"
   },
   {
    "duration": 0,
    "start_time": "2023-05-28T09:14:58.270Z"
   },
   {
    "duration": 0,
    "start_time": "2023-05-28T09:14:58.271Z"
   },
   {
    "duration": 0,
    "start_time": "2023-05-28T09:14:58.272Z"
   },
   {
    "duration": 0,
    "start_time": "2023-05-28T09:14:58.273Z"
   },
   {
    "duration": 0,
    "start_time": "2023-05-28T09:14:58.274Z"
   },
   {
    "duration": 0,
    "start_time": "2023-05-28T09:14:58.275Z"
   },
   {
    "duration": 0,
    "start_time": "2023-05-28T09:14:58.275Z"
   },
   {
    "duration": 7,
    "start_time": "2023-05-28T09:16:49.691Z"
   },
   {
    "duration": 1694,
    "start_time": "2023-05-28T09:17:01.616Z"
   },
   {
    "duration": 2388,
    "start_time": "2023-05-28T09:17:34.083Z"
   },
   {
    "duration": 3500,
    "start_time": "2023-05-28T09:17:41.266Z"
   },
   {
    "duration": 5,
    "start_time": "2023-05-28T09:19:13.482Z"
   },
   {
    "duration": 17082,
    "start_time": "2023-05-28T09:19:34.382Z"
   },
   {
    "duration": 22,
    "start_time": "2023-05-28T09:20:58.380Z"
   },
   {
    "duration": 136,
    "start_time": "2023-05-28T09:21:12.172Z"
   },
   {
    "duration": 4326,
    "start_time": "2023-05-28T09:21:15.792Z"
   },
   {
    "duration": 4,
    "start_time": "2023-05-28T09:21:38.352Z"
   },
   {
    "duration": 18109,
    "start_time": "2023-05-28T09:21:42.016Z"
   },
   {
    "duration": 9,
    "start_time": "2023-05-28T09:22:02.006Z"
   },
   {
    "duration": 2390,
    "start_time": "2023-05-28T09:23:06.712Z"
   },
   {
    "duration": 2179,
    "start_time": "2023-05-28T09:23:09.105Z"
   },
   {
    "duration": 4,
    "start_time": "2023-05-28T09:23:11.286Z"
   },
   {
    "duration": 803,
    "start_time": "2023-05-28T09:23:11.292Z"
   },
   {
    "duration": 13,
    "start_time": "2023-05-28T09:23:12.097Z"
   },
   {
    "duration": 4,
    "start_time": "2023-05-28T09:23:12.112Z"
   },
   {
    "duration": 49,
    "start_time": "2023-05-28T09:23:12.117Z"
   },
   {
    "duration": 28,
    "start_time": "2023-05-28T09:23:12.168Z"
   },
   {
    "duration": 246,
    "start_time": "2023-05-28T09:23:12.197Z"
   },
   {
    "duration": 10,
    "start_time": "2023-05-28T09:23:12.449Z"
   },
   {
    "duration": 12,
    "start_time": "2023-05-28T09:23:12.461Z"
   },
   {
    "duration": 5,
    "start_time": "2023-05-28T09:23:12.475Z"
   },
   {
    "duration": 9,
    "start_time": "2023-05-28T09:23:12.482Z"
   },
   {
    "duration": 5,
    "start_time": "2023-05-28T09:23:12.494Z"
   },
   {
    "duration": 6,
    "start_time": "2023-05-28T09:23:12.501Z"
   },
   {
    "duration": 44,
    "start_time": "2023-05-28T09:23:12.509Z"
   },
   {
    "duration": 1185524,
    "start_time": "2023-05-28T09:23:12.555Z"
   },
   {
    "duration": 9,
    "start_time": "2023-05-28T09:42:58.080Z"
   },
   {
    "duration": 5104,
    "start_time": "2023-05-28T09:42:58.091Z"
   },
   {
    "duration": 11969,
    "start_time": "2023-05-28T09:43:03.197Z"
   },
   {
    "duration": 18165,
    "start_time": "2023-05-28T09:43:15.168Z"
   },
   {
    "duration": 26,
    "start_time": "2023-05-28T09:43:33.335Z"
   },
   {
    "duration": 5,
    "start_time": "2023-05-28T09:43:33.362Z"
   },
   {
    "duration": 32,
    "start_time": "2023-05-28T09:43:33.369Z"
   },
   {
    "duration": 5,
    "start_time": "2023-05-28T09:43:33.403Z"
   },
   {
    "duration": 5,
    "start_time": "2023-05-28T09:43:33.410Z"
   },
   {
    "duration": 10,
    "start_time": "2023-05-28T09:43:33.417Z"
   },
   {
    "duration": 192,
    "start_time": "2023-05-28T09:43:33.431Z"
   },
   {
    "duration": 4,
    "start_time": "2023-05-28T09:43:33.625Z"
   },
   {
    "duration": 19,
    "start_time": "2023-05-28T09:43:33.631Z"
   },
   {
    "duration": 15,
    "start_time": "2023-05-28T09:43:33.651Z"
   },
   {
    "duration": 4,
    "start_time": "2023-05-28T09:43:33.668Z"
   },
   {
    "duration": 0,
    "start_time": "2023-05-28T10:18:17.196Z"
   },
   {
    "duration": 0,
    "start_time": "2023-05-28T10:18:17.197Z"
   },
   {
    "duration": 0,
    "start_time": "2023-05-28T10:18:17.198Z"
   },
   {
    "duration": 0,
    "start_time": "2023-05-28T10:18:17.199Z"
   },
   {
    "duration": 0,
    "start_time": "2023-05-28T10:18:17.201Z"
   },
   {
    "duration": 0,
    "start_time": "2023-05-28T10:18:17.202Z"
   },
   {
    "duration": 0,
    "start_time": "2023-05-28T10:18:17.203Z"
   },
   {
    "duration": 0,
    "start_time": "2023-05-28T10:18:17.204Z"
   },
   {
    "duration": 0,
    "start_time": "2023-05-28T10:18:17.205Z"
   },
   {
    "duration": 0,
    "start_time": "2023-05-28T10:18:17.207Z"
   },
   {
    "duration": 0,
    "start_time": "2023-05-28T10:18:17.208Z"
   },
   {
    "duration": 0,
    "start_time": "2023-05-28T10:18:17.208Z"
   },
   {
    "duration": 0,
    "start_time": "2023-05-28T10:18:17.210Z"
   },
   {
    "duration": 0,
    "start_time": "2023-05-28T10:18:17.211Z"
   },
   {
    "duration": 0,
    "start_time": "2023-05-28T10:18:17.212Z"
   },
   {
    "duration": 0,
    "start_time": "2023-05-28T10:18:17.212Z"
   },
   {
    "duration": 0,
    "start_time": "2023-05-28T10:18:17.213Z"
   },
   {
    "duration": 0,
    "start_time": "2023-05-28T10:18:17.251Z"
   },
   {
    "duration": 0,
    "start_time": "2023-05-28T10:18:17.252Z"
   },
   {
    "duration": 0,
    "start_time": "2023-05-28T10:18:17.253Z"
   },
   {
    "duration": 0,
    "start_time": "2023-05-28T10:18:17.254Z"
   },
   {
    "duration": 1,
    "start_time": "2023-05-28T10:18:17.254Z"
   },
   {
    "duration": 0,
    "start_time": "2023-05-28T10:18:17.255Z"
   },
   {
    "duration": 0,
    "start_time": "2023-05-28T10:18:17.271Z"
   },
   {
    "duration": 0,
    "start_time": "2023-05-28T10:18:17.272Z"
   },
   {
    "duration": 0,
    "start_time": "2023-05-28T10:18:17.273Z"
   },
   {
    "duration": 2,
    "start_time": "2023-05-28T10:18:19.195Z"
   },
   {
    "duration": 4,
    "start_time": "2023-05-28T10:18:19.791Z"
   },
   {
    "duration": 1014454,
    "start_time": "2023-05-28T10:18:21.300Z"
   },
   {
    "duration": 3,
    "start_time": "2023-05-28T10:35:15.756Z"
   },
   {
    "duration": 9,
    "start_time": "2023-05-28T10:35:15.761Z"
   },
   {
    "duration": 497738,
    "start_time": "2023-05-28T10:35:15.772Z"
   },
   {
    "duration": 3,
    "start_time": "2023-05-28T10:43:33.512Z"
   },
   {
    "duration": 8,
    "start_time": "2023-05-28T10:43:33.516Z"
   },
   {
    "duration": 1122465,
    "start_time": "2023-05-28T10:43:33.526Z"
   },
   {
    "duration": 4,
    "start_time": "2023-05-28T11:02:15.993Z"
   },
   {
    "duration": 5,
    "start_time": "2023-05-28T11:02:15.999Z"
   },
   {
    "duration": 694411,
    "start_time": "2023-05-28T11:02:16.008Z"
   },
   {
    "duration": 3,
    "start_time": "2023-05-28T11:13:50.421Z"
   },
   {
    "duration": 9,
    "start_time": "2023-05-28T11:13:50.426Z"
   },
   {
    "duration": 3793614,
    "start_time": "2023-05-28T11:13:50.437Z"
   },
   {
    "duration": 4,
    "start_time": "2023-05-28T12:17:04.053Z"
   },
   {
    "duration": 4650951,
    "start_time": "2023-05-28T12:17:04.059Z"
   },
   {
    "duration": 3,
    "start_time": "2023-05-28T13:34:35.012Z"
   },
   {
    "duration": 18,
    "start_time": "2023-05-28T13:34:35.016Z"
   },
   {
    "duration": 3434154,
    "start_time": "2023-05-28T13:34:35.036Z"
   },
   {
    "duration": 4,
    "start_time": "2023-05-28T14:31:49.192Z"
   },
   {
    "duration": 5,
    "start_time": "2023-05-28T14:31:49.197Z"
   },
   {
    "duration": 51,
    "start_time": "2023-05-28T14:50:59.297Z"
   },
   {
    "duration": 2116,
    "start_time": "2023-05-28T14:52:19.510Z"
   },
   {
    "duration": 3205,
    "start_time": "2023-05-28T14:52:21.629Z"
   },
   {
    "duration": 7,
    "start_time": "2023-05-28T14:52:24.836Z"
   },
   {
    "duration": 3272,
    "start_time": "2023-05-28T14:52:24.845Z"
   },
   {
    "duration": 12,
    "start_time": "2023-05-28T14:52:28.119Z"
   },
   {
    "duration": 7,
    "start_time": "2023-05-28T14:52:28.132Z"
   },
   {
    "duration": 37,
    "start_time": "2023-05-28T14:52:28.140Z"
   },
   {
    "duration": 28,
    "start_time": "2023-05-28T14:52:28.179Z"
   },
   {
    "duration": 245,
    "start_time": "2023-05-28T14:52:28.209Z"
   },
   {
    "duration": 10,
    "start_time": "2023-05-28T14:52:28.455Z"
   },
   {
    "duration": 7,
    "start_time": "2023-05-28T14:52:28.466Z"
   },
   {
    "duration": 3,
    "start_time": "2023-05-28T14:52:28.475Z"
   },
   {
    "duration": 7,
    "start_time": "2023-05-28T14:52:28.479Z"
   },
   {
    "duration": 4,
    "start_time": "2023-05-28T14:52:28.488Z"
   },
   {
    "duration": 10,
    "start_time": "2023-05-28T14:52:28.494Z"
   },
   {
    "duration": 6,
    "start_time": "2023-05-28T14:52:28.506Z"
   },
   {
    "duration": 1122330,
    "start_time": "2023-05-28T14:52:28.513Z"
   },
   {
    "duration": 13,
    "start_time": "2023-05-28T15:11:10.850Z"
   },
   {
    "duration": 4919,
    "start_time": "2023-05-28T15:11:10.866Z"
   },
   {
    "duration": 11375,
    "start_time": "2023-05-28T15:11:15.787Z"
   },
   {
    "duration": 17463,
    "start_time": "2023-05-28T15:11:27.164Z"
   },
   {
    "duration": 8,
    "start_time": "2023-05-28T15:11:44.628Z"
   },
   {
    "duration": 3,
    "start_time": "2023-05-28T15:11:44.638Z"
   },
   {
    "duration": 36,
    "start_time": "2023-05-28T15:11:44.651Z"
   },
   {
    "duration": 6,
    "start_time": "2023-05-28T15:11:44.689Z"
   },
   {
    "duration": 5,
    "start_time": "2023-05-28T15:11:44.696Z"
   },
   {
    "duration": 6,
    "start_time": "2023-05-28T15:11:44.703Z"
   },
   {
    "duration": 195,
    "start_time": "2023-05-28T15:11:44.711Z"
   },
   {
    "duration": 7,
    "start_time": "2023-05-28T15:11:44.908Z"
   },
   {
    "duration": 7,
    "start_time": "2023-05-28T15:11:44.916Z"
   },
   {
    "duration": 17330,
    "start_time": "2023-05-28T15:34:35.366Z"
   },
   {
    "duration": 9,
    "start_time": "2023-05-28T15:34:52.698Z"
   },
   {
    "duration": 6,
    "start_time": "2023-05-28T15:34:52.708Z"
   },
   {
    "duration": 55,
    "start_time": "2023-05-28T15:34:52.716Z"
   },
   {
    "duration": 5,
    "start_time": "2023-05-28T15:34:52.773Z"
   },
   {
    "duration": 11,
    "start_time": "2023-05-28T15:34:52.779Z"
   },
   {
    "duration": 6,
    "start_time": "2023-05-28T15:42:05.211Z"
   },
   {
    "duration": 6,
    "start_time": "2023-05-28T15:42:16.412Z"
   },
   {
    "duration": 3,
    "start_time": "2023-05-28T15:43:26.706Z"
   },
   {
    "duration": 4,
    "start_time": "2023-05-28T15:43:27.681Z"
   },
   {
    "duration": 237434,
    "start_time": "2023-05-28T15:43:29.411Z"
   },
   {
    "duration": 3,
    "start_time": "2023-05-28T20:35:07.382Z"
   },
   {
    "duration": 4,
    "start_time": "2023-05-28T20:35:08.080Z"
   },
   {
    "duration": 317535,
    "start_time": "2023-05-28T20:35:08.815Z"
   },
   {
    "duration": 3,
    "start_time": "2023-05-28T20:43:29.203Z"
   },
   {
    "duration": 3,
    "start_time": "2023-05-28T20:43:29.720Z"
   },
   {
    "duration": 3,
    "start_time": "2023-05-28T20:43:30.271Z"
   },
   {
    "duration": 3,
    "start_time": "2023-05-28T20:43:32.627Z"
   },
   {
    "duration": 3,
    "start_time": "2023-05-28T20:43:36.166Z"
   },
   {
    "duration": 11,
    "start_time": "2023-05-28T20:43:49.384Z"
   },
   {
    "duration": 3,
    "start_time": "2023-05-28T20:44:00.416Z"
   },
   {
    "duration": 3,
    "start_time": "2023-05-28T20:44:01.155Z"
   },
   {
    "duration": 4,
    "start_time": "2023-05-28T20:44:06.588Z"
   },
   {
    "duration": 11,
    "start_time": "2023-05-28T20:44:09.783Z"
   },
   {
    "duration": 4,
    "start_time": "2023-05-28T20:44:13.993Z"
   },
   {
    "duration": 3,
    "start_time": "2023-05-28T20:44:46.455Z"
   },
   {
    "duration": 4,
    "start_time": "2023-05-28T20:44:46.822Z"
   },
   {
    "duration": 3,
    "start_time": "2023-05-28T20:44:48.185Z"
   },
   {
    "duration": 3,
    "start_time": "2023-05-28T20:44:53.615Z"
   },
   {
    "duration": 3,
    "start_time": "2023-05-28T20:44:57.075Z"
   },
   {
    "duration": 5,
    "start_time": "2023-05-28T20:45:00.862Z"
   },
   {
    "duration": 4,
    "start_time": "2023-05-28T20:45:07.295Z"
   },
   {
    "duration": 3,
    "start_time": "2023-05-28T20:46:17.075Z"
   },
   {
    "duration": 3,
    "start_time": "2023-05-28T20:46:17.463Z"
   },
   {
    "duration": 3,
    "start_time": "2023-05-28T20:46:17.891Z"
   },
   {
    "duration": 584733,
    "start_time": "2023-05-28T20:46:18.567Z"
   },
   {
    "duration": 13,
    "start_time": "2023-05-28T20:56:03.302Z"
   },
   {
    "duration": 0,
    "start_time": "2023-05-28T20:56:03.317Z"
   },
   {
    "duration": 0,
    "start_time": "2023-05-28T20:56:03.318Z"
   },
   {
    "duration": 6,
    "start_time": "2023-05-28T20:56:47.659Z"
   },
   {
    "duration": 4,
    "start_time": "2023-05-28T20:57:00.563Z"
   },
   {
    "duration": 4,
    "start_time": "2023-05-28T20:57:01.847Z"
   },
   {
    "duration": 57,
    "start_time": "2023-05-28T20:57:02.878Z"
   },
   {
    "duration": 42,
    "start_time": "2023-05-28T20:57:21.911Z"
   },
   {
    "duration": 3,
    "start_time": "2023-05-28T20:57:26.922Z"
   },
   {
    "duration": 3,
    "start_time": "2023-05-28T20:57:27.371Z"
   },
   {
    "duration": 34,
    "start_time": "2023-05-28T20:57:27.757Z"
   },
   {
    "duration": 3,
    "start_time": "2023-05-28T20:57:28.122Z"
   },
   {
    "duration": 2049,
    "start_time": "2023-05-28T21:07:21.758Z"
   },
   {
    "duration": 2217,
    "start_time": "2023-05-28T21:07:23.809Z"
   },
   {
    "duration": 4,
    "start_time": "2023-05-28T21:07:26.028Z"
   },
   {
    "duration": 771,
    "start_time": "2023-05-28T21:07:26.034Z"
   },
   {
    "duration": 12,
    "start_time": "2023-05-28T21:07:26.808Z"
   },
   {
    "duration": 4,
    "start_time": "2023-05-28T21:07:26.822Z"
   },
   {
    "duration": 48,
    "start_time": "2023-05-28T21:07:26.827Z"
   },
   {
    "duration": 27,
    "start_time": "2023-05-28T21:07:26.877Z"
   },
   {
    "duration": 240,
    "start_time": "2023-05-28T21:07:26.905Z"
   },
   {
    "duration": 9,
    "start_time": "2023-05-28T21:07:27.146Z"
   },
   {
    "duration": 7,
    "start_time": "2023-05-28T21:07:27.156Z"
   },
   {
    "duration": 3,
    "start_time": "2023-05-28T21:07:27.165Z"
   },
   {
    "duration": 5,
    "start_time": "2023-05-28T21:07:27.169Z"
   },
   {
    "duration": 4,
    "start_time": "2023-05-28T21:07:27.176Z"
   },
   {
    "duration": 5,
    "start_time": "2023-05-28T21:07:27.181Z"
   },
   {
    "duration": 7,
    "start_time": "2023-05-28T21:07:27.188Z"
   },
   {
    "duration": 1058534,
    "start_time": "2023-05-28T21:07:27.197Z"
   },
   {
    "duration": 20,
    "start_time": "2023-05-28T21:25:05.733Z"
   },
   {
    "duration": 4399,
    "start_time": "2023-05-28T21:25:05.755Z"
   },
   {
    "duration": 10270,
    "start_time": "2023-05-28T21:25:10.156Z"
   },
   {
    "duration": 15660,
    "start_time": "2023-05-28T21:25:20.429Z"
   },
   {
    "duration": 8,
    "start_time": "2023-05-28T21:25:36.091Z"
   },
   {
    "duration": 12,
    "start_time": "2023-05-28T21:25:36.100Z"
   },
   {
    "duration": 44,
    "start_time": "2023-05-28T21:25:36.113Z"
   },
   {
    "duration": 5,
    "start_time": "2023-05-28T21:25:36.159Z"
   },
   {
    "duration": 8,
    "start_time": "2023-05-28T21:25:36.165Z"
   },
   {
    "duration": 11,
    "start_time": "2023-05-28T21:25:36.174Z"
   },
   {
    "duration": 146,
    "start_time": "2023-05-28T21:25:36.187Z"
   },
   {
    "duration": 4,
    "start_time": "2023-05-28T21:25:36.334Z"
   },
   {
    "duration": 5,
    "start_time": "2023-05-28T21:25:36.350Z"
   },
   {
    "duration": 3,
    "start_time": "2023-05-29T01:55:26.490Z"
   },
   {
    "duration": 3,
    "start_time": "2023-05-29T01:55:29.641Z"
   },
   {
    "duration": 3,
    "start_time": "2023-05-29T01:55:30.341Z"
   },
   {
    "duration": 146,
    "start_time": "2023-05-29T01:56:04.772Z"
   },
   {
    "duration": 3,
    "start_time": "2023-05-29T01:56:21.831Z"
   },
   {
    "duration": 3,
    "start_time": "2023-05-29T01:56:25.841Z"
   },
   {
    "duration": 2017,
    "start_time": "2023-05-29T01:59:05.767Z"
   },
   {
    "duration": 3220,
    "start_time": "2023-05-29T01:59:07.787Z"
   },
   {
    "duration": 8,
    "start_time": "2023-05-29T01:59:11.008Z"
   },
   {
    "duration": 3255,
    "start_time": "2023-05-29T01:59:11.017Z"
   },
   {
    "duration": 10,
    "start_time": "2023-05-29T01:59:14.275Z"
   },
   {
    "duration": 2,
    "start_time": "2023-05-29T01:59:14.287Z"
   },
   {
    "duration": 35,
    "start_time": "2023-05-29T01:59:14.291Z"
   },
   {
    "duration": 35,
    "start_time": "2023-05-29T01:59:14.327Z"
   },
   {
    "duration": 221,
    "start_time": "2023-05-29T01:59:14.363Z"
   },
   {
    "duration": 10,
    "start_time": "2023-05-29T01:59:14.586Z"
   },
   {
    "duration": 6,
    "start_time": "2023-05-29T01:59:14.597Z"
   },
   {
    "duration": 3,
    "start_time": "2023-05-29T01:59:14.605Z"
   },
   {
    "duration": 7,
    "start_time": "2023-05-29T01:59:14.610Z"
   },
   {
    "duration": 6,
    "start_time": "2023-05-29T01:59:14.619Z"
   },
   {
    "duration": 25,
    "start_time": "2023-05-29T01:59:14.626Z"
   },
   {
    "duration": 6,
    "start_time": "2023-05-29T01:59:14.653Z"
   },
   {
    "duration": 1017040,
    "start_time": "2023-05-29T01:59:14.660Z"
   },
   {
    "duration": 8,
    "start_time": "2023-05-29T02:16:11.702Z"
   },
   {
    "duration": 4515,
    "start_time": "2023-05-29T02:16:11.712Z"
   },
   {
    "duration": 10700,
    "start_time": "2023-05-29T02:16:16.229Z"
   },
   {
    "duration": 15244,
    "start_time": "2023-05-29T02:16:26.931Z"
   },
   {
    "duration": 8,
    "start_time": "2023-05-29T02:16:42.176Z"
   },
   {
    "duration": 4,
    "start_time": "2023-05-29T02:16:42.186Z"
   },
   {
    "duration": 26,
    "start_time": "2023-05-29T02:16:42.192Z"
   },
   {
    "duration": 5,
    "start_time": "2023-05-29T02:16:42.220Z"
   },
   {
    "duration": 25,
    "start_time": "2023-05-29T02:16:42.226Z"
   },
   {
    "duration": 3,
    "start_time": "2023-05-29T02:16:42.252Z"
   },
   {
    "duration": 166,
    "start_time": "2023-05-29T02:16:42.256Z"
   },
   {
    "duration": 10,
    "start_time": "2023-05-29T02:16:42.424Z"
   },
   {
    "duration": 6,
    "start_time": "2023-05-29T02:16:42.436Z"
   },
   {
    "duration": 6,
    "start_time": "2023-05-29T02:16:42.450Z"
   },
   {
    "duration": 4,
    "start_time": "2023-05-29T02:16:42.457Z"
   },
   {
    "duration": 9,
    "start_time": "2023-05-29T02:16:42.463Z"
   },
   {
    "duration": 5,
    "start_time": "2023-05-29T02:16:42.473Z"
   },
   {
    "duration": 2139,
    "start_time": "2023-05-29T02:35:10.226Z"
   },
   {
    "duration": 3036,
    "start_time": "2023-05-29T02:35:12.367Z"
   },
   {
    "duration": 6,
    "start_time": "2023-05-29T02:35:15.404Z"
   },
   {
    "duration": 3266,
    "start_time": "2023-05-29T02:35:15.412Z"
   },
   {
    "duration": 11,
    "start_time": "2023-05-29T02:35:18.680Z"
   },
   {
    "duration": 4,
    "start_time": "2023-05-29T02:35:18.693Z"
   },
   {
    "duration": 34,
    "start_time": "2023-05-29T02:35:18.698Z"
   },
   {
    "duration": 35,
    "start_time": "2023-05-29T02:35:18.734Z"
   },
   {
    "duration": 225,
    "start_time": "2023-05-29T02:35:18.770Z"
   },
   {
    "duration": 11,
    "start_time": "2023-05-29T02:35:18.997Z"
   },
   {
    "duration": 6,
    "start_time": "2023-05-29T02:35:19.010Z"
   },
   {
    "duration": 13,
    "start_time": "2023-05-29T02:35:19.018Z"
   },
   {
    "duration": 18,
    "start_time": "2023-05-29T02:35:19.032Z"
   },
   {
    "duration": 4,
    "start_time": "2023-05-29T02:35:19.052Z"
   },
   {
    "duration": 4,
    "start_time": "2023-05-29T02:35:19.058Z"
   },
   {
    "duration": 7,
    "start_time": "2023-05-29T02:35:19.063Z"
   },
   {
    "duration": 1001822,
    "start_time": "2023-05-29T02:35:19.071Z"
   },
   {
    "duration": 7,
    "start_time": "2023-05-29T02:52:00.895Z"
   },
   {
    "duration": 4471,
    "start_time": "2023-05-29T02:52:00.903Z"
   },
   {
    "duration": 10478,
    "start_time": "2023-05-29T02:52:05.376Z"
   },
   {
    "duration": 15528,
    "start_time": "2023-05-29T02:52:15.856Z"
   },
   {
    "duration": 8,
    "start_time": "2023-05-29T02:52:31.386Z"
   },
   {
    "duration": 24,
    "start_time": "2023-05-29T02:52:31.395Z"
   },
   {
    "duration": 34,
    "start_time": "2023-05-29T02:52:31.420Z"
   },
   {
    "duration": 5,
    "start_time": "2023-05-29T02:52:31.456Z"
   },
   {
    "duration": 4,
    "start_time": "2023-05-29T02:52:31.462Z"
   },
   {
    "duration": 7,
    "start_time": "2023-05-29T02:52:31.467Z"
   },
   {
    "duration": 200,
    "start_time": "2023-05-29T02:52:31.475Z"
   },
   {
    "duration": 12,
    "start_time": "2023-05-29T02:52:31.677Z"
   },
   {
    "duration": 59,
    "start_time": "2023-05-29T02:52:31.691Z"
   },
   {
    "duration": 10,
    "start_time": "2023-05-29T02:52:31.752Z"
   },
   {
    "duration": 8,
    "start_time": "2023-05-29T02:52:31.763Z"
   },
   {
    "duration": 16,
    "start_time": "2023-05-29T02:52:31.772Z"
   },
   {
    "duration": 7,
    "start_time": "2023-05-29T02:52:31.790Z"
   },
   {
    "duration": 7,
    "start_time": "2023-05-29T02:52:31.798Z"
   },
   {
    "duration": 1937,
    "start_time": "2023-05-29T03:05:42.478Z"
   },
   {
    "duration": 2889,
    "start_time": "2023-05-29T03:05:44.417Z"
   },
   {
    "duration": 8,
    "start_time": "2023-05-29T03:05:47.308Z"
   },
   {
    "duration": 3249,
    "start_time": "2023-05-29T03:05:47.318Z"
   },
   {
    "duration": 12,
    "start_time": "2023-05-29T03:05:50.568Z"
   },
   {
    "duration": 17,
    "start_time": "2023-05-29T03:05:50.581Z"
   },
   {
    "duration": 38,
    "start_time": "2023-05-29T03:05:50.600Z"
   },
   {
    "duration": 27,
    "start_time": "2023-05-29T03:05:50.639Z"
   },
   {
    "duration": 217,
    "start_time": "2023-05-29T03:05:50.667Z"
   },
   {
    "duration": 11,
    "start_time": "2023-05-29T03:05:50.887Z"
   },
   {
    "duration": 14,
    "start_time": "2023-05-29T03:05:50.900Z"
   },
   {
    "duration": 4,
    "start_time": "2023-05-29T03:05:50.916Z"
   },
   {
    "duration": 21,
    "start_time": "2023-05-29T03:05:50.921Z"
   },
   {
    "duration": 7,
    "start_time": "2023-05-29T03:05:50.944Z"
   },
   {
    "duration": 5,
    "start_time": "2023-05-29T03:05:50.952Z"
   },
   {
    "duration": 6,
    "start_time": "2023-05-29T03:05:50.959Z"
   },
   {
    "duration": 288824,
    "start_time": "2023-05-29T03:05:50.967Z"
   },
   {
    "duration": 0,
    "start_time": "2023-05-29T03:10:39.793Z"
   },
   {
    "duration": 0,
    "start_time": "2023-05-29T03:10:39.794Z"
   },
   {
    "duration": 0,
    "start_time": "2023-05-29T03:10:39.795Z"
   },
   {
    "duration": 0,
    "start_time": "2023-05-29T03:10:39.796Z"
   },
   {
    "duration": 0,
    "start_time": "2023-05-29T03:10:39.797Z"
   },
   {
    "duration": 0,
    "start_time": "2023-05-29T03:10:39.798Z"
   },
   {
    "duration": 0,
    "start_time": "2023-05-29T03:10:39.799Z"
   },
   {
    "duration": 0,
    "start_time": "2023-05-29T03:10:39.800Z"
   },
   {
    "duration": 0,
    "start_time": "2023-05-29T03:10:39.801Z"
   },
   {
    "duration": 32355,
    "start_time": "2023-05-29T03:10:54.842Z"
   },
   {
    "duration": 5,
    "start_time": "2023-05-29T03:11:27.199Z"
   },
   {
    "duration": 1409,
    "start_time": "2023-05-29T03:11:27.205Z"
   },
   {
    "duration": 1390,
    "start_time": "2023-05-29T03:11:43.677Z"
   },
   {
    "duration": 4,
    "start_time": "2023-05-29T03:12:29.590Z"
   },
   {
    "duration": 4179,
    "start_time": "2023-05-29T03:12:32.913Z"
   },
   {
    "duration": 5,
    "start_time": "2023-05-29T03:12:37.094Z"
   },
   {
    "duration": 4,
    "start_time": "2023-05-29T03:13:22.594Z"
   },
   {
    "duration": 4273,
    "start_time": "2023-05-29T03:13:37.215Z"
   },
   {
    "duration": 3,
    "start_time": "2023-05-29T03:13:41.490Z"
   },
   {
    "duration": 6785,
    "start_time": "2023-05-29T03:13:52.546Z"
   },
   {
    "duration": 4,
    "start_time": "2023-05-29T03:13:59.333Z"
   },
   {
    "duration": 4,
    "start_time": "2023-05-29T03:14:26.879Z"
   },
   {
    "duration": 6849,
    "start_time": "2023-05-29T03:14:33.593Z"
   },
   {
    "duration": 4,
    "start_time": "2023-05-29T03:38:22.361Z"
   },
   {
    "duration": 7133,
    "start_time": "2023-05-29T03:38:25.709Z"
   },
   {
    "duration": 4,
    "start_time": "2023-05-29T03:39:38.388Z"
   },
   {
    "duration": 7108,
    "start_time": "2023-05-29T03:39:42.375Z"
   },
   {
    "duration": 4,
    "start_time": "2023-05-29T03:40:13.626Z"
   },
   {
    "duration": 233,
    "start_time": "2023-05-29T03:40:24.726Z"
   },
   {
    "duration": 5,
    "start_time": "2023-05-29T03:40:44.762Z"
   },
   {
    "duration": 4,
    "start_time": "2023-05-29T03:40:46.515Z"
   },
   {
    "duration": 4,
    "start_time": "2023-05-29T03:40:50.455Z"
   },
   {
    "duration": 5,
    "start_time": "2023-05-29T03:40:59.555Z"
   },
   {
    "duration": 6728,
    "start_time": "2023-05-29T03:41:02.364Z"
   },
   {
    "duration": 4,
    "start_time": "2023-05-29T03:42:04.765Z"
   },
   {
    "duration": 253,
    "start_time": "2023-05-29T03:42:14.058Z"
   },
   {
    "duration": 5,
    "start_time": "2023-05-29T03:42:31.565Z"
   },
   {
    "duration": 231,
    "start_time": "2023-05-29T03:42:32.065Z"
   },
   {
    "duration": 4,
    "start_time": "2023-05-29T03:43:05.831Z"
   },
   {
    "duration": 243,
    "start_time": "2023-05-29T03:43:06.080Z"
   },
   {
    "duration": 4,
    "start_time": "2023-05-29T03:43:52.567Z"
   },
   {
    "duration": 235,
    "start_time": "2023-05-29T03:43:56.491Z"
   },
   {
    "duration": 83582,
    "start_time": "2023-05-29T03:44:06.070Z"
   },
   {
    "duration": 4,
    "start_time": "2023-05-29T03:45:39.650Z"
   },
   {
    "duration": 118248,
    "start_time": "2023-05-29T03:45:51.696Z"
   },
   {
    "duration": 4,
    "start_time": "2023-05-29T03:47:49.946Z"
   },
   {
    "duration": 4,
    "start_time": "2023-05-29T03:48:13.354Z"
   },
   {
    "duration": 3,
    "start_time": "2023-05-29T03:50:39.153Z"
   },
   {
    "duration": 5,
    "start_time": "2023-05-29T03:50:43.104Z"
   },
   {
    "duration": 6,
    "start_time": "2023-05-29T03:50:43.646Z"
   },
   {
    "duration": 5,
    "start_time": "2023-05-29T03:50:44.479Z"
   },
   {
    "duration": 3,
    "start_time": "2023-05-29T03:50:45.215Z"
   },
   {
    "duration": 4,
    "start_time": "2023-05-29T03:50:45.492Z"
   },
   {
    "duration": 4,
    "start_time": "2023-05-29T03:50:46.152Z"
   },
   {
    "duration": 5,
    "start_time": "2023-05-29T03:50:46.579Z"
   },
   {
    "duration": 3,
    "start_time": "2023-05-29T03:50:48.516Z"
   },
   {
    "duration": 3,
    "start_time": "2023-05-29T03:50:49.279Z"
   },
   {
    "duration": 4,
    "start_time": "2023-05-29T03:50:49.791Z"
   },
   {
    "duration": 2,
    "start_time": "2023-05-29T03:50:50.893Z"
   },
   {
    "duration": 3,
    "start_time": "2023-05-29T03:50:51.979Z"
   },
   {
    "duration": 1935,
    "start_time": "2023-05-29T03:52:00.421Z"
   },
   {
    "duration": 2041,
    "start_time": "2023-05-29T03:52:02.358Z"
   },
   {
    "duration": 3,
    "start_time": "2023-05-29T03:52:04.403Z"
   },
   {
    "duration": 745,
    "start_time": "2023-05-29T03:52:04.408Z"
   },
   {
    "duration": 12,
    "start_time": "2023-05-29T03:52:05.155Z"
   },
   {
    "duration": 4,
    "start_time": "2023-05-29T03:52:05.169Z"
   },
   {
    "duration": 40,
    "start_time": "2023-05-29T03:52:05.174Z"
   },
   {
    "duration": 40,
    "start_time": "2023-05-29T03:52:05.216Z"
   },
   {
    "duration": 220,
    "start_time": "2023-05-29T03:52:05.257Z"
   },
   {
    "duration": 7,
    "start_time": "2023-05-29T03:52:05.479Z"
   },
   {
    "duration": 6,
    "start_time": "2023-05-29T03:52:05.487Z"
   },
   {
    "duration": 3,
    "start_time": "2023-05-29T03:52:05.495Z"
   },
   {
    "duration": 5,
    "start_time": "2023-05-29T03:52:05.499Z"
   },
   {
    "duration": 3,
    "start_time": "2023-05-29T03:52:05.506Z"
   },
   {
    "duration": 7,
    "start_time": "2023-05-29T03:52:05.511Z"
   },
   {
    "duration": 31,
    "start_time": "2023-05-29T03:52:05.519Z"
   },
   {
    "duration": 8124,
    "start_time": "2023-05-29T03:52:05.552Z"
   },
   {
    "duration": 5,
    "start_time": "2023-05-29T03:52:15.108Z"
   },
   {
    "duration": 2,
    "start_time": "2023-05-29T03:52:16.619Z"
   },
   {
    "duration": 2,
    "start_time": "2023-05-29T03:52:17.506Z"
   },
   {
    "duration": 3623,
    "start_time": "2023-05-29T03:52:18.606Z"
   },
   {
    "duration": 4,
    "start_time": "2023-05-29T03:52:22.231Z"
   },
   {
    "duration": 3,
    "start_time": "2023-05-29T03:52:52.881Z"
   },
   {
    "duration": 4,
    "start_time": "2023-05-29T03:52:53.683Z"
   },
   {
    "duration": 6,
    "start_time": "2023-05-29T03:52:54.181Z"
   },
   {
    "duration": 3,
    "start_time": "2023-05-29T03:52:54.896Z"
   },
   {
    "duration": 2,
    "start_time": "2023-05-29T03:52:56.470Z"
   },
   {
    "duration": 4,
    "start_time": "2023-05-29T03:52:56.807Z"
   },
   {
    "duration": 3,
    "start_time": "2023-05-29T03:52:57.495Z"
   },
   {
    "duration": 8,
    "start_time": "2023-05-29T03:52:58.084Z"
   },
   {
    "duration": 3,
    "start_time": "2023-05-29T03:53:21.508Z"
   },
   {
    "duration": 3,
    "start_time": "2023-05-29T03:53:53.597Z"
   },
   {
    "duration": 4,
    "start_time": "2023-05-29T03:53:54.084Z"
   },
   {
    "duration": 3,
    "start_time": "2023-05-29T03:53:54.596Z"
   },
   {
    "duration": 3,
    "start_time": "2023-05-29T03:53:55.040Z"
   },
   {
    "duration": 2,
    "start_time": "2023-05-29T03:53:55.572Z"
   },
   {
    "duration": 20910,
    "start_time": "2023-05-29T03:53:56.196Z"
   },
   {
    "duration": 3,
    "start_time": "2023-05-29T03:54:17.108Z"
   },
   {
    "duration": 467171,
    "start_time": "2023-05-29T03:54:17.113Z"
   },
   {
    "duration": 0,
    "start_time": "2023-05-29T04:02:04.287Z"
   },
   {
    "duration": 3,
    "start_time": "2023-05-29T04:02:08.848Z"
   },
   {
    "duration": 11,
    "start_time": "2023-05-29T04:02:24.783Z"
   },
   {
    "duration": 5,
    "start_time": "2023-05-29T04:02:36.200Z"
   },
   {
    "duration": 4,
    "start_time": "2023-05-29T04:02:47.053Z"
   },
   {
    "duration": 3,
    "start_time": "2023-05-29T04:03:15.461Z"
   },
   {
    "duration": 5,
    "start_time": "2023-05-29T04:03:19.411Z"
   },
   {
    "duration": 3,
    "start_time": "2023-05-29T04:03:32.811Z"
   },
   {
    "duration": 3,
    "start_time": "2023-05-29T04:03:33.152Z"
   },
   {
    "duration": 3,
    "start_time": "2023-05-29T04:03:33.546Z"
   },
   {
    "duration": 3,
    "start_time": "2023-05-29T04:03:35.449Z"
   },
   {
    "duration": 3,
    "start_time": "2023-05-29T04:03:37.560Z"
   },
   {
    "duration": 3,
    "start_time": "2023-05-29T04:03:38.273Z"
   },
   {
    "duration": 4,
    "start_time": "2023-05-29T04:03:42.435Z"
   },
   {
    "duration": 265010,
    "start_time": "2023-05-29T04:03:47.560Z"
   },
   {
    "duration": 2115,
    "start_time": "2023-05-29T04:08:18.819Z"
   },
   {
    "duration": 2237,
    "start_time": "2023-05-29T04:08:20.937Z"
   },
   {
    "duration": 4,
    "start_time": "2023-05-29T04:08:23.175Z"
   },
   {
    "duration": 801,
    "start_time": "2023-05-29T04:08:23.181Z"
   },
   {
    "duration": 12,
    "start_time": "2023-05-29T04:08:23.985Z"
   },
   {
    "duration": 8,
    "start_time": "2023-05-29T04:08:23.998Z"
   },
   {
    "duration": 52,
    "start_time": "2023-05-29T04:08:24.008Z"
   },
   {
    "duration": 34,
    "start_time": "2023-05-29T04:08:24.062Z"
   },
   {
    "duration": 260,
    "start_time": "2023-05-29T04:08:24.098Z"
   },
   {
    "duration": 8,
    "start_time": "2023-05-29T04:08:24.359Z"
   },
   {
    "duration": 6,
    "start_time": "2023-05-29T04:08:24.369Z"
   },
   {
    "duration": 19,
    "start_time": "2023-05-29T04:08:24.377Z"
   },
   {
    "duration": 10,
    "start_time": "2023-05-29T04:08:24.398Z"
   },
   {
    "duration": 4,
    "start_time": "2023-05-29T04:08:24.411Z"
   },
   {
    "duration": 9,
    "start_time": "2023-05-29T04:08:24.417Z"
   },
   {
    "duration": 10,
    "start_time": "2023-05-29T04:08:24.428Z"
   },
   {
    "duration": 8720,
    "start_time": "2023-05-29T04:08:24.450Z"
   },
   {
    "duration": 5,
    "start_time": "2023-05-29T04:08:33.171Z"
   },
   {
    "duration": 3,
    "start_time": "2023-05-29T04:08:33.178Z"
   },
   {
    "duration": 4,
    "start_time": "2023-05-29T04:08:33.182Z"
   },
   {
    "duration": 4313,
    "start_time": "2023-05-29T04:08:33.187Z"
   },
   {
    "duration": 4,
    "start_time": "2023-05-29T04:08:37.502Z"
   },
   {
    "duration": 10,
    "start_time": "2023-05-29T04:08:37.508Z"
   },
   {
    "duration": 13,
    "start_time": "2023-05-29T04:08:37.520Z"
   },
   {
    "duration": 7,
    "start_time": "2023-05-29T04:08:37.534Z"
   },
   {
    "duration": 13,
    "start_time": "2023-05-29T04:08:37.543Z"
   },
   {
    "duration": 5,
    "start_time": "2023-05-29T04:08:37.558Z"
   },
   {
    "duration": 4,
    "start_time": "2023-05-29T04:08:37.565Z"
   },
   {
    "duration": 7,
    "start_time": "2023-05-29T04:08:37.570Z"
   },
   {
    "duration": 5,
    "start_time": "2023-05-29T04:08:37.579Z"
   },
   {
    "duration": 7,
    "start_time": "2023-05-29T04:08:37.585Z"
   },
   {
    "duration": 8,
    "start_time": "2023-05-29T04:08:37.593Z"
   },
   {
    "duration": 10,
    "start_time": "2023-05-29T04:08:37.603Z"
   },
   {
    "duration": 3,
    "start_time": "2023-05-29T04:09:06.353Z"
   },
   {
    "duration": 161,
    "start_time": "2023-05-29T04:09:11.763Z"
   },
   {
    "duration": 21958,
    "start_time": "2023-05-29T04:09:26.296Z"
   },
   {
    "duration": 4,
    "start_time": "2023-05-29T04:09:48.256Z"
   },
   {
    "duration": 3,
    "start_time": "2023-05-29T04:11:25.745Z"
   },
   {
    "duration": 5,
    "start_time": "2023-05-29T04:11:30.495Z"
   },
   {
    "duration": 831829,
    "start_time": "2023-05-29T04:11:48.470Z"
   },
   {
    "duration": 3,
    "start_time": "2023-05-29T04:25:40.301Z"
   },
   {
    "duration": 4,
    "start_time": "2023-05-29T04:25:40.306Z"
   },
   {
    "duration": 3,
    "start_time": "2023-05-29T04:25:40.313Z"
   },
   {
    "duration": 208,
    "start_time": "2023-05-29T04:25:40.317Z"
   },
   {
    "duration": 4,
    "start_time": "2023-05-29T04:25:40.527Z"
   },
   {
    "duration": 4,
    "start_time": "2023-05-29T04:25:40.532Z"
   },
   {
    "duration": 121,
    "start_time": "2023-05-29T04:25:40.537Z"
   },
   {
    "duration": 11,
    "start_time": "2023-05-29T04:25:40.660Z"
   },
   {
    "duration": 0,
    "start_time": "2023-05-29T04:25:40.673Z"
   },
   {
    "duration": 0,
    "start_time": "2023-05-29T04:25:40.674Z"
   },
   {
    "duration": 0,
    "start_time": "2023-05-29T04:25:40.676Z"
   },
   {
    "duration": 0,
    "start_time": "2023-05-29T04:25:40.677Z"
   },
   {
    "duration": 0,
    "start_time": "2023-05-29T04:25:40.678Z"
   },
   {
    "duration": 0,
    "start_time": "2023-05-29T04:25:40.679Z"
   },
   {
    "duration": 0,
    "start_time": "2023-05-29T04:25:40.680Z"
   },
   {
    "duration": 0,
    "start_time": "2023-05-29T04:25:40.681Z"
   },
   {
    "duration": 14,
    "start_time": "2023-05-29T04:26:03.703Z"
   },
   {
    "duration": 3,
    "start_time": "2023-05-29T04:26:36.495Z"
   },
   {
    "duration": 24378,
    "start_time": "2023-05-29T04:26:37.404Z"
   },
   {
    "duration": 3,
    "start_time": "2023-05-29T04:27:01.784Z"
   },
   {
    "duration": 3,
    "start_time": "2023-05-29T04:27:25.110Z"
   },
   {
    "duration": 3,
    "start_time": "2023-05-29T04:27:25.595Z"
   },
   {
    "duration": 30245,
    "start_time": "2023-05-29T04:27:26.671Z"
   },
   {
    "duration": 3,
    "start_time": "2023-05-29T04:27:56.917Z"
   },
   {
    "duration": 2,
    "start_time": "2023-05-29T04:28:14.976Z"
   },
   {
    "duration": 18868,
    "start_time": "2023-05-29T04:28:15.879Z"
   },
   {
    "duration": 2,
    "start_time": "2023-05-29T04:28:34.749Z"
   },
   {
    "duration": 2,
    "start_time": "2023-05-29T04:28:34.772Z"
   },
   {
    "duration": 1545,
    "start_time": "2023-05-29T04:28:35.555Z"
   },
   {
    "duration": 3,
    "start_time": "2023-05-29T04:32:18.830Z"
   },
   {
    "duration": 133908,
    "start_time": "2023-05-29T04:32:19.447Z"
   },
   {
    "duration": 3,
    "start_time": "2023-05-29T04:34:33.357Z"
   },
   {
    "duration": 392,
    "start_time": "2023-05-29T04:34:33.361Z"
   },
   {
    "duration": 0,
    "start_time": "2023-05-29T04:34:33.756Z"
   },
   {
    "duration": 0,
    "start_time": "2023-05-29T04:34:33.758Z"
   },
   {
    "duration": 0,
    "start_time": "2023-05-29T04:34:33.760Z"
   },
   {
    "duration": 3,
    "start_time": "2023-05-29T04:34:34.957Z"
   },
   {
    "duration": 135,
    "start_time": "2023-05-29T04:34:35.618Z"
   },
   {
    "duration": 3,
    "start_time": "2023-05-29T04:34:59.357Z"
   },
   {
    "duration": 557,
    "start_time": "2023-05-29T04:35:00.808Z"
   },
   {
    "duration": 11,
    "start_time": "2023-05-29T04:35:46.085Z"
   },
   {
    "duration": 2,
    "start_time": "2023-05-29T04:35:58.356Z"
   },
   {
    "duration": 114,
    "start_time": "2023-05-29T04:35:59.655Z"
   },
   {
    "duration": 3,
    "start_time": "2023-05-29T04:36:21.554Z"
   },
   {
    "duration": 9281,
    "start_time": "2023-05-29T04:36:22.172Z"
   },
   {
    "duration": 3,
    "start_time": "2023-05-29T04:36:47.547Z"
   },
   {
    "duration": 148,
    "start_time": "2023-05-29T04:36:48.460Z"
   },
   {
    "duration": 8277,
    "start_time": "2023-05-29T04:37:01.755Z"
   },
   {
    "duration": 17,
    "start_time": "2023-05-29T04:37:10.035Z"
   },
   {
    "duration": 3,
    "start_time": "2023-05-29T04:37:15.085Z"
   },
   {
    "duration": 22728,
    "start_time": "2023-05-29T04:37:34.224Z"
   },
   {
    "duration": 3,
    "start_time": "2023-05-29T04:37:56.954Z"
   },
   {
    "duration": 21011,
    "start_time": "2023-05-29T04:38:08.710Z"
   },
   {
    "duration": 3,
    "start_time": "2023-05-29T04:38:29.723Z"
   },
   {
    "duration": 6049,
    "start_time": "2023-05-29T04:38:49.714Z"
   },
   {
    "duration": 3,
    "start_time": "2023-05-29T04:39:05.362Z"
   },
   {
    "duration": 12,
    "start_time": "2023-05-29T04:39:52.859Z"
   },
   {
    "duration": 4,
    "start_time": "2023-05-29T04:40:01.202Z"
   },
   {
    "duration": 18232,
    "start_time": "2023-05-29T04:40:04.757Z"
   },
   {
    "duration": 95,
    "start_time": "2023-05-29T04:40:22.992Z"
   },
   {
    "duration": 3,
    "start_time": "2023-05-29T04:40:26.559Z"
   },
   {
    "duration": 34875,
    "start_time": "2023-05-29T04:40:31.155Z"
   },
   {
    "duration": 5,
    "start_time": "2023-05-29T04:41:26.016Z"
   },
   {
    "duration": 3,
    "start_time": "2023-05-29T04:41:36.957Z"
   },
   {
    "duration": 4,
    "start_time": "2023-05-29T04:41:39.267Z"
   },
   {
    "duration": 212,
    "start_time": "2023-05-29T04:41:39.854Z"
   },
   {
    "duration": 2113,
    "start_time": "2023-05-29T04:46:03.481Z"
   },
   {
    "duration": 2301,
    "start_time": "2023-05-29T04:46:05.597Z"
   },
   {
    "duration": 5,
    "start_time": "2023-05-29T04:46:07.900Z"
   },
   {
    "duration": 815,
    "start_time": "2023-05-29T04:46:07.906Z"
   },
   {
    "duration": 11,
    "start_time": "2023-05-29T04:46:08.723Z"
   },
   {
    "duration": 14,
    "start_time": "2023-05-29T04:46:08.736Z"
   },
   {
    "duration": 41,
    "start_time": "2023-05-29T04:46:08.752Z"
   },
   {
    "duration": 29,
    "start_time": "2023-05-29T04:46:08.794Z"
   },
   {
    "duration": 253,
    "start_time": "2023-05-29T04:46:08.825Z"
   },
   {
    "duration": 9,
    "start_time": "2023-05-29T04:46:09.080Z"
   },
   {
    "duration": 7,
    "start_time": "2023-05-29T04:46:09.090Z"
   },
   {
    "duration": 5,
    "start_time": "2023-05-29T04:46:09.099Z"
   },
   {
    "duration": 6,
    "start_time": "2023-05-29T04:46:09.105Z"
   },
   {
    "duration": 36,
    "start_time": "2023-05-29T04:46:09.114Z"
   },
   {
    "duration": 14,
    "start_time": "2023-05-29T04:46:09.151Z"
   },
   {
    "duration": 13,
    "start_time": "2023-05-29T04:46:09.167Z"
   },
   {
    "duration": 8755,
    "start_time": "2023-05-29T04:46:09.181Z"
   },
   {
    "duration": 5,
    "start_time": "2023-05-29T04:46:17.938Z"
   },
   {
    "duration": 8,
    "start_time": "2023-05-29T04:46:17.944Z"
   },
   {
    "duration": 4,
    "start_time": "2023-05-29T04:46:17.953Z"
   },
   {
    "duration": 4215,
    "start_time": "2023-05-29T04:46:17.958Z"
   },
   {
    "duration": 4,
    "start_time": "2023-05-29T04:46:22.175Z"
   },
   {
    "duration": 7,
    "start_time": "2023-05-29T04:46:22.181Z"
   },
   {
    "duration": 4,
    "start_time": "2023-05-29T04:46:22.190Z"
   },
   {
    "duration": 9,
    "start_time": "2023-05-29T04:46:22.196Z"
   },
   {
    "duration": 14,
    "start_time": "2023-05-29T04:46:22.207Z"
   },
   {
    "duration": 6,
    "start_time": "2023-05-29T04:46:22.223Z"
   },
   {
    "duration": 2,
    "start_time": "2023-05-29T04:46:22.251Z"
   },
   {
    "duration": 8,
    "start_time": "2023-05-29T04:46:22.256Z"
   },
   {
    "duration": 5,
    "start_time": "2023-05-29T04:46:22.265Z"
   },
   {
    "duration": 6,
    "start_time": "2023-05-29T04:46:22.272Z"
   },
   {
    "duration": 14,
    "start_time": "2023-05-29T04:46:22.279Z"
   },
   {
    "duration": 4,
    "start_time": "2023-05-29T04:46:22.295Z"
   },
   {
    "duration": 5,
    "start_time": "2023-05-29T04:46:22.301Z"
   },
   {
    "duration": 6,
    "start_time": "2023-05-29T04:46:22.308Z"
   },
   {
    "duration": 3,
    "start_time": "2023-05-29T04:48:50.959Z"
   },
   {
    "duration": 3,
    "start_time": "2023-05-29T04:48:53.505Z"
   },
   {
    "duration": 23790,
    "start_time": "2023-05-29T04:48:54.328Z"
   },
   {
    "duration": 5,
    "start_time": "2023-05-29T04:49:18.120Z"
   },
   {
    "duration": 846540,
    "start_time": "2023-05-29T04:49:20.055Z"
   },
   {
    "duration": 3,
    "start_time": "2023-05-29T05:03:26.597Z"
   },
   {
    "duration": 10,
    "start_time": "2023-05-29T05:03:26.602Z"
   },
   {
    "duration": 19617,
    "start_time": "2023-05-29T05:03:26.615Z"
   },
   {
    "duration": 3,
    "start_time": "2023-05-29T05:03:46.233Z"
   },
   {
    "duration": 14,
    "start_time": "2023-05-29T05:03:46.238Z"
   },
   {
    "duration": 288,
    "start_time": "2023-05-29T05:03:46.253Z"
   },
   {
    "duration": 3,
    "start_time": "2023-05-29T05:03:46.542Z"
   },
   {
    "duration": 118,
    "start_time": "2023-05-29T05:03:46.546Z"
   },
   {
    "duration": 3,
    "start_time": "2023-05-29T05:03:46.667Z"
   },
   {
    "duration": 6,
    "start_time": "2023-05-29T05:03:46.671Z"
   },
   {
    "duration": 95747,
    "start_time": "2023-05-29T05:03:46.678Z"
   },
   {
    "duration": 3,
    "start_time": "2023-05-29T05:05:22.427Z"
   },
   {
    "duration": 4601,
    "start_time": "2023-05-29T05:05:22.432Z"
   },
   {
    "duration": 3,
    "start_time": "2023-05-29T05:05:27.035Z"
   },
   {
    "duration": 5,
    "start_time": "2023-05-29T05:05:36.804Z"
   },
   {
    "duration": 108,
    "start_time": "2023-05-29T05:05:36.811Z"
   },
   {
    "duration": 0,
    "start_time": "2023-05-29T05:05:36.922Z"
   },
   {
    "duration": 0,
    "start_time": "2023-05-29T05:05:36.924Z"
   },
   {
    "duration": 0,
    "start_time": "2023-05-29T05:05:36.925Z"
   },
   {
    "duration": 0,
    "start_time": "2023-05-29T05:05:36.926Z"
   },
   {
    "duration": 0,
    "start_time": "2023-05-29T05:05:36.929Z"
   },
   {
    "duration": 0,
    "start_time": "2023-05-29T05:05:36.950Z"
   },
   {
    "duration": 0,
    "start_time": "2023-05-29T05:05:36.952Z"
   },
   {
    "duration": 0,
    "start_time": "2023-05-29T05:05:36.953Z"
   },
   {
    "duration": 3,
    "start_time": "2023-05-29T05:05:39.750Z"
   },
   {
    "duration": 86,
    "start_time": "2023-05-29T05:05:40.380Z"
   },
   {
    "duration": 137,
    "start_time": "2023-05-29T05:05:47.019Z"
   },
   {
    "duration": 3,
    "start_time": "2023-05-29T05:06:02.320Z"
   },
   {
    "duration": 2,
    "start_time": "2023-05-29T05:06:02.781Z"
   },
   {
    "duration": 14834,
    "start_time": "2023-05-29T05:06:03.559Z"
   },
   {
    "duration": 3,
    "start_time": "2023-05-29T05:06:18.395Z"
   },
   {
    "duration": 111,
    "start_time": "2023-05-29T05:06:18.399Z"
   },
   {
    "duration": 2024,
    "start_time": "2023-05-29T05:07:17.370Z"
   },
   {
    "duration": 2051,
    "start_time": "2023-05-29T05:07:19.396Z"
   },
   {
    "duration": 4,
    "start_time": "2023-05-29T05:07:21.449Z"
   },
   {
    "duration": 766,
    "start_time": "2023-05-29T05:07:21.454Z"
   },
   {
    "duration": 10,
    "start_time": "2023-05-29T05:07:22.223Z"
   },
   {
    "duration": 3,
    "start_time": "2023-05-29T05:07:22.235Z"
   },
   {
    "duration": 34,
    "start_time": "2023-05-29T05:07:22.250Z"
   },
   {
    "duration": 28,
    "start_time": "2023-05-29T05:07:22.286Z"
   },
   {
    "duration": 260,
    "start_time": "2023-05-29T05:07:22.316Z"
   },
   {
    "duration": 8,
    "start_time": "2023-05-29T05:07:22.578Z"
   },
   {
    "duration": 27,
    "start_time": "2023-05-29T05:07:22.588Z"
   },
   {
    "duration": 17,
    "start_time": "2023-05-29T05:07:22.617Z"
   },
   {
    "duration": 8,
    "start_time": "2023-05-29T05:07:22.636Z"
   },
   {
    "duration": 17,
    "start_time": "2023-05-29T05:07:22.646Z"
   },
   {
    "duration": 19,
    "start_time": "2023-05-29T05:07:22.664Z"
   },
   {
    "duration": 28,
    "start_time": "2023-05-29T05:07:22.684Z"
   },
   {
    "duration": 8473,
    "start_time": "2023-05-29T05:07:22.714Z"
   },
   {
    "duration": 5,
    "start_time": "2023-05-29T05:07:31.189Z"
   },
   {
    "duration": 36,
    "start_time": "2023-05-29T05:07:31.195Z"
   },
   {
    "duration": 12,
    "start_time": "2023-05-29T05:07:31.232Z"
   },
   {
    "duration": 4138,
    "start_time": "2023-05-29T05:07:31.245Z"
   },
   {
    "duration": 4,
    "start_time": "2023-05-29T05:07:35.385Z"
   },
   {
    "duration": 6,
    "start_time": "2023-05-29T05:07:35.390Z"
   },
   {
    "duration": 6,
    "start_time": "2023-05-29T05:07:35.397Z"
   },
   {
    "duration": 8,
    "start_time": "2023-05-29T05:07:35.404Z"
   },
   {
    "duration": 8,
    "start_time": "2023-05-29T05:07:35.413Z"
   },
   {
    "duration": 5,
    "start_time": "2023-05-29T05:07:35.423Z"
   },
   {
    "duration": 8,
    "start_time": "2023-05-29T05:07:35.429Z"
   },
   {
    "duration": 7,
    "start_time": "2023-05-29T05:07:35.450Z"
   },
   {
    "duration": 7,
    "start_time": "2023-05-29T05:07:35.458Z"
   },
   {
    "duration": 9,
    "start_time": "2023-05-29T05:07:35.466Z"
   },
   {
    "duration": 26,
    "start_time": "2023-05-29T05:07:35.476Z"
   },
   {
    "duration": 9,
    "start_time": "2023-05-29T05:07:35.504Z"
   },
   {
    "duration": 6,
    "start_time": "2023-05-29T05:07:35.515Z"
   },
   {
    "duration": 5,
    "start_time": "2023-05-29T05:07:35.523Z"
   },
   {
    "duration": 3,
    "start_time": "2023-05-29T05:07:35.531Z"
   },
   {
    "duration": 8,
    "start_time": "2023-05-29T05:07:35.536Z"
   },
   {
    "duration": 164,
    "start_time": "2023-05-29T05:08:23.772Z"
   },
   {
    "duration": 3,
    "start_time": "2023-05-29T05:08:26.143Z"
   },
   {
    "duration": 3,
    "start_time": "2023-05-29T05:08:26.948Z"
   },
   {
    "duration": 3,
    "start_time": "2023-05-29T05:08:27.508Z"
   },
   {
    "duration": 21629,
    "start_time": "2023-05-29T05:08:30.546Z"
   },
   {
    "duration": 3,
    "start_time": "2023-05-29T05:08:52.177Z"
   },
   {
    "duration": 4,
    "start_time": "2023-05-29T05:09:31.143Z"
   },
   {
    "duration": 67,
    "start_time": "2023-05-29T05:09:31.149Z"
   },
   {
    "duration": 12378,
    "start_time": "2023-05-29T05:09:31.219Z"
   },
   {
    "duration": 3,
    "start_time": "2023-05-29T05:09:43.598Z"
   },
   {
    "duration": 94,
    "start_time": "2023-05-29T05:09:43.603Z"
   },
   {
    "duration": 1957,
    "start_time": "2023-05-29T05:10:26.335Z"
   },
   {
    "duration": 2005,
    "start_time": "2023-05-29T05:10:28.295Z"
   },
   {
    "duration": 4,
    "start_time": "2023-05-29T05:10:30.302Z"
   },
   {
    "duration": 846,
    "start_time": "2023-05-29T05:10:30.307Z"
   },
   {
    "duration": 12,
    "start_time": "2023-05-29T05:10:31.155Z"
   },
   {
    "duration": 23,
    "start_time": "2023-05-29T05:10:31.169Z"
   },
   {
    "duration": 89,
    "start_time": "2023-05-29T05:10:31.194Z"
   },
   {
    "duration": 48,
    "start_time": "2023-05-29T05:10:31.285Z"
   },
   {
    "duration": 227,
    "start_time": "2023-05-29T05:10:31.335Z"
   },
   {
    "duration": 8,
    "start_time": "2023-05-29T05:10:31.563Z"
   },
   {
    "duration": 54,
    "start_time": "2023-05-29T05:10:31.573Z"
   },
   {
    "duration": 12,
    "start_time": "2023-05-29T05:10:31.629Z"
   },
   {
    "duration": 5,
    "start_time": "2023-05-29T05:10:31.642Z"
   },
   {
    "duration": 30,
    "start_time": "2023-05-29T05:10:31.650Z"
   },
   {
    "duration": 33,
    "start_time": "2023-05-29T05:10:31.681Z"
   },
   {
    "duration": 6,
    "start_time": "2023-05-29T05:10:31.716Z"
   },
   {
    "duration": 8831,
    "start_time": "2023-05-29T05:10:31.723Z"
   },
   {
    "duration": 5,
    "start_time": "2023-05-29T05:10:40.556Z"
   },
   {
    "duration": 6,
    "start_time": "2023-05-29T05:10:40.563Z"
   },
   {
    "duration": 8,
    "start_time": "2023-05-29T05:10:40.571Z"
   },
   {
    "duration": 3796,
    "start_time": "2023-05-29T05:10:40.580Z"
   },
   {
    "duration": 4,
    "start_time": "2023-05-29T05:10:44.377Z"
   },
   {
    "duration": 9,
    "start_time": "2023-05-29T05:10:44.383Z"
   },
   {
    "duration": 5,
    "start_time": "2023-05-29T05:10:44.394Z"
   },
   {
    "duration": 8,
    "start_time": "2023-05-29T05:10:44.401Z"
   },
   {
    "duration": 10,
    "start_time": "2023-05-29T05:10:44.410Z"
   },
   {
    "duration": 19,
    "start_time": "2023-05-29T05:10:44.421Z"
   },
   {
    "duration": 4,
    "start_time": "2023-05-29T05:10:44.441Z"
   },
   {
    "duration": 7,
    "start_time": "2023-05-29T05:10:44.446Z"
   },
   {
    "duration": 6,
    "start_time": "2023-05-29T05:10:44.455Z"
   },
   {
    "duration": 6,
    "start_time": "2023-05-29T05:10:44.463Z"
   },
   {
    "duration": 7,
    "start_time": "2023-05-29T05:10:44.470Z"
   },
   {
    "duration": 4,
    "start_time": "2023-05-29T05:10:44.479Z"
   },
   {
    "duration": 7,
    "start_time": "2023-05-29T05:10:44.484Z"
   },
   {
    "duration": 4,
    "start_time": "2023-05-29T05:10:44.492Z"
   },
   {
    "duration": 5,
    "start_time": "2023-05-29T05:10:44.498Z"
   },
   {
    "duration": 6,
    "start_time": "2023-05-29T05:10:44.504Z"
   },
   {
    "duration": 3,
    "start_time": "2023-05-29T05:11:02.547Z"
   },
   {
    "duration": 30883,
    "start_time": "2023-05-29T05:11:04.049Z"
   },
   {
    "duration": 3,
    "start_time": "2023-05-29T05:11:34.934Z"
   },
   {
    "duration": 3,
    "start_time": "2023-05-29T05:11:53.265Z"
   },
   {
    "duration": 107659,
    "start_time": "2023-05-29T05:11:56.390Z"
   },
   {
    "duration": 3,
    "start_time": "2023-05-29T05:13:44.051Z"
   },
   {
    "duration": 8,
    "start_time": "2023-05-29T05:13:44.055Z"
   },
   {
    "duration": 4,
    "start_time": "2023-05-29T05:13:46.528Z"
   },
   {
    "duration": 3,
    "start_time": "2023-05-29T05:14:08.949Z"
   },
   {
    "duration": 3,
    "start_time": "2023-05-29T05:14:10.519Z"
   },
   {
    "duration": 108,
    "start_time": "2023-05-29T05:14:11.691Z"
   },
   {
    "duration": 3,
    "start_time": "2023-05-29T05:14:37.905Z"
   },
   {
    "duration": 18693,
    "start_time": "2023-05-29T05:14:38.479Z"
   },
   {
    "duration": 3,
    "start_time": "2023-05-29T05:15:00.781Z"
   },
   {
    "duration": 3,
    "start_time": "2023-05-29T05:15:02.809Z"
   },
   {
    "duration": 4052,
    "start_time": "2023-05-29T05:15:05.670Z"
   },
   {
    "duration": 2015,
    "start_time": "2023-05-29T05:15:15.204Z"
   },
   {
    "duration": 2113,
    "start_time": "2023-05-29T05:15:17.222Z"
   },
   {
    "duration": 3,
    "start_time": "2023-05-29T05:15:19.337Z"
   },
   {
    "duration": 772,
    "start_time": "2023-05-29T05:15:19.342Z"
   },
   {
    "duration": 11,
    "start_time": "2023-05-29T05:15:20.117Z"
   },
   {
    "duration": 8,
    "start_time": "2023-05-29T05:15:20.129Z"
   },
   {
    "duration": 36,
    "start_time": "2023-05-29T05:15:20.139Z"
   },
   {
    "duration": 26,
    "start_time": "2023-05-29T05:15:20.177Z"
   },
   {
    "duration": 255,
    "start_time": "2023-05-29T05:15:20.205Z"
   },
   {
    "duration": 8,
    "start_time": "2023-05-29T05:15:20.462Z"
   },
   {
    "duration": 9,
    "start_time": "2023-05-29T05:15:20.471Z"
   },
   {
    "duration": 4,
    "start_time": "2023-05-29T05:15:20.481Z"
   },
   {
    "duration": 8,
    "start_time": "2023-05-29T05:15:20.486Z"
   },
   {
    "duration": 4,
    "start_time": "2023-05-29T05:15:20.497Z"
   },
   {
    "duration": 6,
    "start_time": "2023-05-29T05:15:20.503Z"
   },
   {
    "duration": 8,
    "start_time": "2023-05-29T05:15:20.510Z"
   },
   {
    "duration": 8570,
    "start_time": "2023-05-29T05:15:20.550Z"
   },
   {
    "duration": 5,
    "start_time": "2023-05-29T05:15:29.121Z"
   },
   {
    "duration": 4,
    "start_time": "2023-05-29T05:15:29.127Z"
   },
   {
    "duration": 5,
    "start_time": "2023-05-29T05:15:29.132Z"
   },
   {
    "duration": 3789,
    "start_time": "2023-05-29T05:15:29.150Z"
   },
   {
    "duration": 10,
    "start_time": "2023-05-29T05:15:32.940Z"
   },
   {
    "duration": 3,
    "start_time": "2023-05-29T05:15:32.951Z"
   },
   {
    "duration": 6,
    "start_time": "2023-05-29T05:15:32.955Z"
   },
   {
    "duration": 7,
    "start_time": "2023-05-29T05:15:32.963Z"
   },
   {
    "duration": 7,
    "start_time": "2023-05-29T05:15:32.971Z"
   },
   {
    "duration": 4,
    "start_time": "2023-05-29T05:15:32.980Z"
   },
   {
    "duration": 4,
    "start_time": "2023-05-29T05:15:32.985Z"
   },
   {
    "duration": 16,
    "start_time": "2023-05-29T05:15:32.990Z"
   },
   {
    "duration": 5,
    "start_time": "2023-05-29T05:15:33.008Z"
   },
   {
    "duration": 10,
    "start_time": "2023-05-29T05:15:33.014Z"
   },
   {
    "duration": 33,
    "start_time": "2023-05-29T05:15:33.026Z"
   },
   {
    "duration": 13,
    "start_time": "2023-05-29T05:15:33.060Z"
   },
   {
    "duration": 14,
    "start_time": "2023-05-29T05:15:33.074Z"
   },
   {
    "duration": 11,
    "start_time": "2023-05-29T05:15:33.090Z"
   },
   {
    "duration": 8,
    "start_time": "2023-05-29T05:15:33.103Z"
   },
   {
    "duration": 5,
    "start_time": "2023-05-29T05:15:33.112Z"
   },
   {
    "duration": 5,
    "start_time": "2023-05-29T05:15:33.119Z"
   },
   {
    "duration": 30373,
    "start_time": "2023-05-29T05:15:33.125Z"
   },
   {
    "duration": 3,
    "start_time": "2023-05-29T05:16:03.500Z"
   },
   {
    "duration": 7,
    "start_time": "2023-05-29T05:16:03.506Z"
   },
   {
    "duration": 17555,
    "start_time": "2023-05-29T05:16:03.514Z"
   },
   {
    "duration": 3,
    "start_time": "2023-05-29T05:16:21.071Z"
   },
   {
    "duration": 6,
    "start_time": "2023-05-29T05:16:21.076Z"
   },
   {
    "duration": 23843,
    "start_time": "2023-05-29T05:16:21.083Z"
   },
   {
    "duration": 3,
    "start_time": "2023-05-29T05:16:44.928Z"
   },
   {
    "duration": 10,
    "start_time": "2023-05-29T05:16:44.933Z"
   },
   {
    "duration": 21232,
    "start_time": "2023-05-29T05:16:44.950Z"
   },
   {
    "duration": 3,
    "start_time": "2023-05-29T05:17:06.184Z"
   },
   {
    "duration": 5,
    "start_time": "2023-05-29T05:17:06.189Z"
   },
   {
    "duration": 271,
    "start_time": "2023-05-29T05:17:06.196Z"
   },
   {
    "duration": 4,
    "start_time": "2023-05-29T05:17:06.468Z"
   },
   {
    "duration": 8829,
    "start_time": "2023-05-29T05:17:06.474Z"
   },
   {
    "duration": 2037,
    "start_time": "2023-05-29T05:17:34.696Z"
   },
   {
    "duration": 2097,
    "start_time": "2023-05-29T05:17:36.735Z"
   },
   {
    "duration": 3,
    "start_time": "2023-05-29T05:17:38.834Z"
   },
   {
    "duration": 768,
    "start_time": "2023-05-29T05:17:38.839Z"
   },
   {
    "duration": 11,
    "start_time": "2023-05-29T05:17:39.609Z"
   },
   {
    "duration": 3,
    "start_time": "2023-05-29T05:17:39.622Z"
   },
   {
    "duration": 47,
    "start_time": "2023-05-29T05:17:39.626Z"
   },
   {
    "duration": 26,
    "start_time": "2023-05-29T05:17:39.675Z"
   },
   {
    "duration": 234,
    "start_time": "2023-05-29T05:17:39.703Z"
   },
   {
    "duration": 18,
    "start_time": "2023-05-29T05:17:39.938Z"
   },
   {
    "duration": 7,
    "start_time": "2023-05-29T05:17:39.957Z"
   },
   {
    "duration": 4,
    "start_time": "2023-05-29T05:17:39.965Z"
   },
   {
    "duration": 6,
    "start_time": "2023-05-29T05:17:39.971Z"
   },
   {
    "duration": 4,
    "start_time": "2023-05-29T05:17:39.980Z"
   },
   {
    "duration": 5,
    "start_time": "2023-05-29T05:17:39.985Z"
   },
   {
    "duration": 6,
    "start_time": "2023-05-29T05:17:39.992Z"
   },
   {
    "duration": 8433,
    "start_time": "2023-05-29T05:17:39.999Z"
   },
   {
    "duration": 5,
    "start_time": "2023-05-29T05:17:48.434Z"
   },
   {
    "duration": 5,
    "start_time": "2023-05-29T05:17:48.440Z"
   },
   {
    "duration": 7,
    "start_time": "2023-05-29T05:17:48.450Z"
   },
   {
    "duration": 3854,
    "start_time": "2023-05-29T05:17:48.459Z"
   },
   {
    "duration": 3,
    "start_time": "2023-05-29T05:17:52.315Z"
   },
   {
    "duration": 16,
    "start_time": "2023-05-29T05:17:52.319Z"
   },
   {
    "duration": 20,
    "start_time": "2023-05-29T05:17:52.336Z"
   },
   {
    "duration": 13,
    "start_time": "2023-05-29T05:17:52.358Z"
   },
   {
    "duration": 11,
    "start_time": "2023-05-29T05:17:52.372Z"
   },
   {
    "duration": 3,
    "start_time": "2023-05-29T05:17:52.385Z"
   },
   {
    "duration": 4,
    "start_time": "2023-05-29T05:17:52.389Z"
   },
   {
    "duration": 11,
    "start_time": "2023-05-29T05:17:52.395Z"
   },
   {
    "duration": 14,
    "start_time": "2023-05-29T05:17:52.408Z"
   },
   {
    "duration": 27,
    "start_time": "2023-05-29T05:17:52.424Z"
   },
   {
    "duration": 13,
    "start_time": "2023-05-29T05:17:52.453Z"
   },
   {
    "duration": 19,
    "start_time": "2023-05-29T05:17:52.468Z"
   },
   {
    "duration": 19,
    "start_time": "2023-05-29T05:17:52.489Z"
   },
   {
    "duration": 5,
    "start_time": "2023-05-29T05:17:52.509Z"
   },
   {
    "duration": 5,
    "start_time": "2023-05-29T05:17:52.515Z"
   },
   {
    "duration": 4,
    "start_time": "2023-05-29T05:17:52.522Z"
   },
   {
    "duration": 5,
    "start_time": "2023-05-29T05:17:52.528Z"
   },
   {
    "duration": 31467,
    "start_time": "2023-05-29T05:17:52.535Z"
   },
   {
    "duration": 3,
    "start_time": "2023-05-29T05:18:24.004Z"
   },
   {
    "duration": 6,
    "start_time": "2023-05-29T05:18:24.012Z"
   },
   {
    "duration": 18256,
    "start_time": "2023-05-29T05:18:24.020Z"
   },
   {
    "duration": 4,
    "start_time": "2023-05-29T05:18:42.278Z"
   },
   {
    "duration": 5,
    "start_time": "2023-05-29T05:18:42.283Z"
   },
   {
    "duration": 646,
    "start_time": "2023-05-29T05:18:42.289Z"
   },
   {
    "duration": 0,
    "start_time": "2023-05-29T05:18:42.937Z"
   },
   {
    "duration": 0,
    "start_time": "2023-05-29T05:18:42.938Z"
   },
   {
    "duration": 0,
    "start_time": "2023-05-29T05:18:42.940Z"
   },
   {
    "duration": 0,
    "start_time": "2023-05-29T05:18:42.941Z"
   },
   {
    "duration": 0,
    "start_time": "2023-05-29T05:18:42.942Z"
   },
   {
    "duration": 0,
    "start_time": "2023-05-29T05:18:42.943Z"
   },
   {
    "duration": 0,
    "start_time": "2023-05-29T05:18:42.944Z"
   },
   {
    "duration": 0,
    "start_time": "2023-05-29T05:18:42.945Z"
   },
   {
    "duration": 0,
    "start_time": "2023-05-29T05:18:42.946Z"
   },
   {
    "duration": 2077,
    "start_time": "2023-05-29T05:18:53.014Z"
   },
   {
    "duration": 2150,
    "start_time": "2023-05-29T05:18:55.093Z"
   },
   {
    "duration": 3,
    "start_time": "2023-05-29T05:18:57.245Z"
   },
   {
    "duration": 738,
    "start_time": "2023-05-29T05:18:57.250Z"
   },
   {
    "duration": 11,
    "start_time": "2023-05-29T05:18:57.991Z"
   },
   {
    "duration": 38,
    "start_time": "2023-05-29T05:18:58.003Z"
   },
   {
    "duration": 83,
    "start_time": "2023-05-29T05:18:58.043Z"
   },
   {
    "duration": 25,
    "start_time": "2023-05-29T05:18:58.128Z"
   },
   {
    "duration": 242,
    "start_time": "2023-05-29T05:18:58.155Z"
   },
   {
    "duration": 9,
    "start_time": "2023-05-29T05:18:58.399Z"
   },
   {
    "duration": 6,
    "start_time": "2023-05-29T05:18:58.409Z"
   },
   {
    "duration": 4,
    "start_time": "2023-05-29T05:18:58.416Z"
   },
   {
    "duration": 36,
    "start_time": "2023-05-29T05:18:58.421Z"
   },
   {
    "duration": 9,
    "start_time": "2023-05-29T05:18:58.460Z"
   },
   {
    "duration": 6,
    "start_time": "2023-05-29T05:18:58.471Z"
   },
   {
    "duration": 15,
    "start_time": "2023-05-29T05:18:58.479Z"
   },
   {
    "duration": 8613,
    "start_time": "2023-05-29T05:18:58.496Z"
   },
   {
    "duration": 5,
    "start_time": "2023-05-29T05:19:07.110Z"
   },
   {
    "duration": 23,
    "start_time": "2023-05-29T05:19:07.117Z"
   },
   {
    "duration": 6,
    "start_time": "2023-05-29T05:19:07.142Z"
   },
   {
    "duration": 4039,
    "start_time": "2023-05-29T05:19:07.150Z"
   },
   {
    "duration": 4,
    "start_time": "2023-05-29T05:19:11.191Z"
   },
   {
    "duration": 3,
    "start_time": "2023-05-29T05:19:11.197Z"
   },
   {
    "duration": 5,
    "start_time": "2023-05-29T05:19:11.202Z"
   },
   {
    "duration": 8,
    "start_time": "2023-05-29T05:19:11.208Z"
   },
   {
    "duration": 7,
    "start_time": "2023-05-29T05:19:11.217Z"
   },
   {
    "duration": 26,
    "start_time": "2023-05-29T05:19:11.225Z"
   },
   {
    "duration": 21,
    "start_time": "2023-05-29T05:19:11.253Z"
   },
   {
    "duration": 7,
    "start_time": "2023-05-29T05:19:11.277Z"
   },
   {
    "duration": 6,
    "start_time": "2023-05-29T05:19:11.286Z"
   },
   {
    "duration": 14,
    "start_time": "2023-05-29T05:19:11.294Z"
   },
   {
    "duration": 7,
    "start_time": "2023-05-29T05:19:11.309Z"
   },
   {
    "duration": 4,
    "start_time": "2023-05-29T05:19:11.318Z"
   },
   {
    "duration": 16,
    "start_time": "2023-05-29T05:19:11.323Z"
   },
   {
    "duration": 20,
    "start_time": "2023-05-29T05:19:11.340Z"
   },
   {
    "duration": 15,
    "start_time": "2023-05-29T05:19:11.362Z"
   },
   {
    "duration": 10,
    "start_time": "2023-05-29T05:19:11.378Z"
   },
   {
    "duration": 8,
    "start_time": "2023-05-29T05:19:11.390Z"
   },
   {
    "duration": 32152,
    "start_time": "2023-05-29T05:19:11.399Z"
   },
   {
    "duration": 3,
    "start_time": "2023-05-29T05:19:43.553Z"
   },
   {
    "duration": 3,
    "start_time": "2023-05-29T05:19:43.560Z"
   },
   {
    "duration": 17709,
    "start_time": "2023-05-29T05:19:43.564Z"
   },
   {
    "duration": 3,
    "start_time": "2023-05-29T05:20:01.275Z"
   },
   {
    "duration": 39,
    "start_time": "2023-05-29T05:20:01.279Z"
   },
   {
    "duration": 23907,
    "start_time": "2023-05-29T05:20:01.320Z"
   },
   {
    "duration": 3,
    "start_time": "2023-05-29T05:20:25.229Z"
   },
   {
    "duration": 16,
    "start_time": "2023-05-29T05:20:25.234Z"
   },
   {
    "duration": 20399,
    "start_time": "2023-05-29T05:20:25.252Z"
   },
   {
    "duration": 3,
    "start_time": "2023-05-29T05:20:45.652Z"
   },
   {
    "duration": 5,
    "start_time": "2023-05-29T05:20:45.656Z"
   },
   {
    "duration": 3,
    "start_time": "2023-05-29T05:21:41.631Z"
   },
   {
    "duration": 635,
    "start_time": "2023-05-29T05:21:41.636Z"
   },
   {
    "duration": 2,
    "start_time": "2023-05-29T05:21:42.273Z"
   },
   {
    "duration": 6,
    "start_time": "2023-05-29T05:21:42.277Z"
   },
   {
    "duration": 19233,
    "start_time": "2023-05-29T05:21:42.285Z"
   },
   {
    "duration": 3,
    "start_time": "2023-05-29T05:22:01.521Z"
   },
   {
    "duration": 22,
    "start_time": "2023-05-29T05:22:01.525Z"
   },
   {
    "duration": 48,
    "start_time": "2023-05-29T05:22:11.545Z"
   },
   {
    "duration": 0,
    "start_time": "2023-05-29T05:22:11.595Z"
   },
   {
    "duration": 0,
    "start_time": "2023-05-29T05:22:11.596Z"
   },
   {
    "duration": 0,
    "start_time": "2023-05-29T05:22:11.598Z"
   },
   {
    "duration": 73,
    "start_time": "2023-05-29T05:22:11.662Z"
   },
   {
    "duration": 6,
    "start_time": "2023-05-29T05:22:11.750Z"
   },
   {
    "duration": 7,
    "start_time": "2023-05-29T05:22:11.801Z"
   },
   {
    "duration": 5,
    "start_time": "2023-05-29T05:22:11.815Z"
   },
   {
    "duration": 0,
    "start_time": "2023-05-29T05:22:11.822Z"
   },
   {
    "duration": 5,
    "start_time": "2023-05-29T05:22:11.829Z"
   },
   {
    "duration": 6,
    "start_time": "2023-05-29T05:22:11.849Z"
   },
   {
    "duration": 0,
    "start_time": "2023-05-29T05:22:11.856Z"
   },
   {
    "duration": 0,
    "start_time": "2023-05-29T05:22:11.857Z"
   },
   {
    "duration": 0,
    "start_time": "2023-05-29T05:22:11.859Z"
   },
   {
    "duration": 7,
    "start_time": "2023-05-29T05:22:11.861Z"
   },
   {
    "duration": 0,
    "start_time": "2023-05-29T05:22:11.869Z"
   },
   {
    "duration": 8,
    "start_time": "2023-05-29T05:22:11.871Z"
   },
   {
    "duration": 0,
    "start_time": "2023-05-29T05:22:11.880Z"
   },
   {
    "duration": 0,
    "start_time": "2023-05-29T05:22:11.881Z"
   },
   {
    "duration": 5,
    "start_time": "2023-05-29T05:22:11.883Z"
   },
   {
    "duration": 0,
    "start_time": "2023-05-29T05:22:11.890Z"
   },
   {
    "duration": 6,
    "start_time": "2023-05-29T05:22:11.894Z"
   },
   {
    "duration": 0,
    "start_time": "2023-05-29T05:22:11.950Z"
   },
   {
    "duration": 6,
    "start_time": "2023-05-29T05:22:11.953Z"
   },
   {
    "duration": 0,
    "start_time": "2023-05-29T05:22:11.961Z"
   },
   {
    "duration": 0,
    "start_time": "2023-05-29T05:22:11.962Z"
   },
   {
    "duration": 0,
    "start_time": "2023-05-29T05:22:11.963Z"
   },
   {
    "duration": 0,
    "start_time": "2023-05-29T05:22:11.964Z"
   },
   {
    "duration": 0,
    "start_time": "2023-05-29T05:22:11.965Z"
   },
   {
    "duration": 0,
    "start_time": "2023-05-29T05:22:11.966Z"
   },
   {
    "duration": 0,
    "start_time": "2023-05-29T05:22:11.968Z"
   },
   {
    "duration": 0,
    "start_time": "2023-05-29T05:22:11.969Z"
   },
   {
    "duration": 0,
    "start_time": "2023-05-29T05:22:11.970Z"
   },
   {
    "duration": 0,
    "start_time": "2023-05-29T05:22:11.971Z"
   },
   {
    "duration": 71,
    "start_time": "2023-05-29T05:22:11.973Z"
   },
   {
    "duration": 5,
    "start_time": "2023-05-29T05:22:12.046Z"
   },
   {
    "duration": 0,
    "start_time": "2023-05-29T05:22:12.053Z"
   },
   {
    "duration": 0,
    "start_time": "2023-05-29T05:22:12.054Z"
   },
   {
    "duration": 0,
    "start_time": "2023-05-29T05:22:12.055Z"
   },
   {
    "duration": 0,
    "start_time": "2023-05-29T05:22:12.056Z"
   },
   {
    "duration": 2026,
    "start_time": "2023-05-29T05:22:26.993Z"
   },
   {
    "duration": 2139,
    "start_time": "2023-05-29T05:22:29.021Z"
   },
   {
    "duration": 4,
    "start_time": "2023-05-29T05:22:31.161Z"
   },
   {
    "duration": 768,
    "start_time": "2023-05-29T05:22:31.167Z"
   },
   {
    "duration": 17,
    "start_time": "2023-05-29T05:22:31.936Z"
   },
   {
    "duration": 50,
    "start_time": "2023-05-29T05:22:31.955Z"
   },
   {
    "duration": 59,
    "start_time": "2023-05-29T05:22:32.007Z"
   },
   {
    "duration": 25,
    "start_time": "2023-05-29T05:22:32.068Z"
   },
   {
    "duration": 226,
    "start_time": "2023-05-29T05:22:32.094Z"
   },
   {
    "duration": 8,
    "start_time": "2023-05-29T05:22:32.322Z"
   },
   {
    "duration": 23,
    "start_time": "2023-05-29T05:22:32.331Z"
   },
   {
    "duration": 5,
    "start_time": "2023-05-29T05:22:32.355Z"
   },
   {
    "duration": 7,
    "start_time": "2023-05-29T05:22:32.361Z"
   },
   {
    "duration": 4,
    "start_time": "2023-05-29T05:22:32.369Z"
   },
   {
    "duration": 5,
    "start_time": "2023-05-29T05:22:32.375Z"
   },
   {
    "duration": 7,
    "start_time": "2023-05-29T05:22:32.382Z"
   },
   {
    "duration": 8755,
    "start_time": "2023-05-29T05:22:32.390Z"
   },
   {
    "duration": 5,
    "start_time": "2023-05-29T05:22:41.146Z"
   },
   {
    "duration": 11,
    "start_time": "2023-05-29T05:22:41.152Z"
   },
   {
    "duration": 5,
    "start_time": "2023-05-29T05:22:41.164Z"
   },
   {
    "duration": 4204,
    "start_time": "2023-05-29T05:22:41.170Z"
   },
   {
    "duration": 3,
    "start_time": "2023-05-29T05:22:45.376Z"
   },
   {
    "duration": 8,
    "start_time": "2023-05-29T05:22:45.381Z"
   },
   {
    "duration": 4,
    "start_time": "2023-05-29T05:22:45.390Z"
   },
   {
    "duration": 7,
    "start_time": "2023-05-29T05:22:45.395Z"
   },
   {
    "duration": 6,
    "start_time": "2023-05-29T05:22:45.404Z"
   },
   {
    "duration": 3,
    "start_time": "2023-05-29T05:22:45.411Z"
   },
   {
    "duration": 4,
    "start_time": "2023-05-29T05:22:45.417Z"
   },
   {
    "duration": 29,
    "start_time": "2023-05-29T05:22:45.423Z"
   },
   {
    "duration": 4,
    "start_time": "2023-05-29T05:22:45.454Z"
   },
   {
    "duration": 5,
    "start_time": "2023-05-29T05:22:45.460Z"
   },
   {
    "duration": 8,
    "start_time": "2023-05-29T05:22:45.467Z"
   },
   {
    "duration": 4,
    "start_time": "2023-05-29T05:22:45.476Z"
   },
   {
    "duration": 14,
    "start_time": "2023-05-29T05:22:45.481Z"
   },
   {
    "duration": 9,
    "start_time": "2023-05-29T05:22:45.496Z"
   },
   {
    "duration": 19,
    "start_time": "2023-05-29T05:22:45.506Z"
   },
   {
    "duration": 6,
    "start_time": "2023-05-29T05:22:45.527Z"
   },
   {
    "duration": 6,
    "start_time": "2023-05-29T05:22:45.535Z"
   },
   {
    "duration": 32238,
    "start_time": "2023-05-29T05:22:45.543Z"
   },
   {
    "duration": 3,
    "start_time": "2023-05-29T05:23:17.783Z"
   },
   {
    "duration": 6,
    "start_time": "2023-05-29T05:23:17.787Z"
   },
   {
    "duration": 17809,
    "start_time": "2023-05-29T05:23:17.794Z"
   },
   {
    "duration": 3,
    "start_time": "2023-05-29T05:23:35.605Z"
   },
   {
    "duration": 6,
    "start_time": "2023-05-29T05:23:35.610Z"
   },
   {
    "duration": 24207,
    "start_time": "2023-05-29T05:23:35.618Z"
   },
   {
    "duration": 3,
    "start_time": "2023-05-29T05:23:59.826Z"
   },
   {
    "duration": 17,
    "start_time": "2023-05-29T05:23:59.830Z"
   },
   {
    "duration": 247,
    "start_time": "2023-05-29T05:23:59.849Z"
   },
   {
    "duration": 3,
    "start_time": "2023-05-29T05:24:00.097Z"
   },
   {
    "duration": 23,
    "start_time": "2023-05-29T05:24:00.102Z"
   },
   {
    "duration": 91404,
    "start_time": "2023-05-29T05:24:00.127Z"
   },
   {
    "duration": 3,
    "start_time": "2023-05-29T05:25:31.533Z"
   },
   {
    "duration": 8974,
    "start_time": "2023-05-29T05:25:31.538Z"
   },
   {
    "duration": 2,
    "start_time": "2023-05-29T05:25:40.514Z"
   },
   {
    "duration": 6,
    "start_time": "2023-05-29T05:25:40.518Z"
   },
   {
    "duration": 15827,
    "start_time": "2023-05-29T05:25:40.525Z"
   },
   {
    "duration": 3,
    "start_time": "2023-05-29T05:25:56.353Z"
   },
   {
    "duration": 5,
    "start_time": "2023-05-29T05:25:56.359Z"
   },
   {
    "duration": 24261,
    "start_time": "2023-05-29T05:25:56.366Z"
   },
   {
    "duration": 3,
    "start_time": "2023-05-29T05:26:20.629Z"
   },
   {
    "duration": 7,
    "start_time": "2023-05-29T05:26:20.634Z"
   },
   {
    "duration": 7160,
    "start_time": "2023-05-29T05:26:20.642Z"
   },
   {
    "duration": 3,
    "start_time": "2023-05-29T05:26:27.803Z"
   },
   {
    "duration": 11415,
    "start_time": "2023-05-29T05:26:27.807Z"
   },
   {
    "duration": 5,
    "start_time": "2023-05-29T05:32:51.342Z"
   },
   {
    "duration": 187,
    "start_time": "2023-05-29T05:32:51.988Z"
   },
   {
    "duration": 181,
    "start_time": "2023-05-29T05:32:56.975Z"
   },
   {
    "duration": 14,
    "start_time": "2023-05-29T05:34:54.215Z"
   },
   {
    "duration": 12,
    "start_time": "2023-05-29T05:35:00.954Z"
   },
   {
    "duration": 14,
    "start_time": "2023-05-29T05:35:23.058Z"
   },
   {
    "duration": 2,
    "start_time": "2023-05-29T05:35:43.479Z"
   },
   {
    "duration": 17,
    "start_time": "2023-05-29T05:35:56.742Z"
   },
   {
    "duration": 2,
    "start_time": "2023-05-29T05:36:05.359Z"
   },
   {
    "duration": 3,
    "start_time": "2023-05-29T05:36:43.760Z"
   },
   {
    "duration": 4,
    "start_time": "2023-05-29T05:36:44.758Z"
   },
   {
    "duration": 3,
    "start_time": "2023-05-29T05:36:47.756Z"
   },
   {
    "duration": 4,
    "start_time": "2023-05-29T05:37:23.259Z"
   },
   {
    "duration": 2201,
    "start_time": "2023-05-29T05:37:24.954Z"
   },
   {
    "duration": 3,
    "start_time": "2023-05-29T05:38:11.105Z"
   },
   {
    "duration": 36,
    "start_time": "2023-05-29T05:38:33.254Z"
   },
   {
    "duration": 3,
    "start_time": "2023-05-29T05:38:43.220Z"
   },
   {
    "duration": 3,
    "start_time": "2023-05-29T05:38:43.958Z"
   },
   {
    "duration": 2311,
    "start_time": "2023-05-29T05:38:44.773Z"
   },
   {
    "duration": 4,
    "start_time": "2023-05-29T05:38:52.118Z"
   },
   {
    "duration": 2512,
    "start_time": "2023-05-29T05:38:53.255Z"
   },
   {
    "duration": 3,
    "start_time": "2023-05-29T05:41:02.008Z"
   },
   {
    "duration": 3,
    "start_time": "2023-05-29T05:41:11.786Z"
   },
   {
    "duration": 3,
    "start_time": "2023-05-29T05:41:24.010Z"
   },
   {
    "duration": 3,
    "start_time": "2023-05-29T05:41:43.321Z"
   },
   {
    "duration": 13,
    "start_time": "2023-05-29T05:41:58.750Z"
   },
   {
    "duration": 34,
    "start_time": "2023-05-29T05:42:02.696Z"
   },
   {
    "duration": 3,
    "start_time": "2023-05-29T05:42:10.274Z"
   },
   {
    "duration": 4,
    "start_time": "2023-05-29T05:42:10.621Z"
   },
   {
    "duration": 3,
    "start_time": "2023-05-29T05:42:12.322Z"
   },
   {
    "duration": 3,
    "start_time": "2023-05-29T05:42:13.309Z"
   },
   {
    "duration": 32,
    "start_time": "2023-05-29T05:42:14.566Z"
   },
   {
    "duration": 3,
    "start_time": "2023-05-29T05:42:25.680Z"
   },
   {
    "duration": 37841,
    "start_time": "2023-05-29T05:42:26.223Z"
   },
   {
    "duration": 2,
    "start_time": "2023-05-29T05:43:04.066Z"
   },
   {
    "duration": 45349,
    "start_time": "2023-05-29T05:43:16.411Z"
   },
   {
    "duration": 3,
    "start_time": "2023-05-29T05:44:01.762Z"
   },
   {
    "duration": 7,
    "start_time": "2023-05-29T05:44:01.766Z"
   },
   {
    "duration": 3,
    "start_time": "2023-05-29T05:44:04.512Z"
   },
   {
    "duration": 3,
    "start_time": "2023-05-29T05:44:29.387Z"
   },
   {
    "duration": 12,
    "start_time": "2023-05-29T05:44:39.412Z"
   },
   {
    "duration": 9829,
    "start_time": "2023-05-29T05:44:44.424Z"
   },
   {
    "duration": 3,
    "start_time": "2023-05-29T05:44:56.797Z"
   },
   {
    "duration": 3,
    "start_time": "2023-05-29T05:45:05.367Z"
   },
   {
    "duration": 3,
    "start_time": "2023-05-29T05:45:10.414Z"
   },
   {
    "duration": 17156,
    "start_time": "2023-05-29T05:45:18.173Z"
   },
   {
    "duration": 11893,
    "start_time": "2023-05-29T08:01:33.197Z"
   },
   {
    "duration": 2400,
    "start_time": "2023-05-29T08:01:45.093Z"
   },
   {
    "duration": 9,
    "start_time": "2023-05-29T08:01:47.494Z"
   },
   {
    "duration": 2369,
    "start_time": "2023-05-29T08:01:47.505Z"
   },
   {
    "duration": 11,
    "start_time": "2023-05-29T08:01:49.876Z"
   },
   {
    "duration": 11,
    "start_time": "2023-05-29T08:01:49.889Z"
   },
   {
    "duration": 29,
    "start_time": "2023-05-29T08:01:49.902Z"
   },
   {
    "duration": 21,
    "start_time": "2023-05-29T08:01:49.933Z"
   },
   {
    "duration": 252,
    "start_time": "2023-05-29T08:01:49.956Z"
   },
   {
    "duration": 12,
    "start_time": "2023-05-29T08:01:50.210Z"
   },
   {
    "duration": 25,
    "start_time": "2023-05-29T08:01:50.224Z"
   },
   {
    "duration": 7,
    "start_time": "2023-05-29T08:01:50.250Z"
   },
   {
    "duration": 15,
    "start_time": "2023-05-29T08:01:50.259Z"
   },
   {
    "duration": 8,
    "start_time": "2023-05-29T08:01:50.277Z"
   },
   {
    "duration": 6,
    "start_time": "2023-05-29T08:01:50.286Z"
   },
   {
    "duration": 18,
    "start_time": "2023-05-29T08:01:50.293Z"
   },
   {
    "duration": 9899,
    "start_time": "2023-05-29T08:01:50.312Z"
   },
   {
    "duration": 6,
    "start_time": "2023-05-29T08:02:00.213Z"
   },
   {
    "duration": 82,
    "start_time": "2023-05-29T08:02:00.220Z"
   },
   {
    "duration": 35,
    "start_time": "2023-05-29T08:02:00.304Z"
   },
   {
    "duration": 3986,
    "start_time": "2023-05-29T08:02:00.341Z"
   },
   {
    "duration": 4,
    "start_time": "2023-05-29T08:02:04.329Z"
   },
   {
    "duration": 5,
    "start_time": "2023-05-29T08:02:04.335Z"
   },
   {
    "duration": 11,
    "start_time": "2023-05-29T08:02:04.341Z"
   },
   {
    "duration": 6,
    "start_time": "2023-05-29T08:02:04.354Z"
   },
   {
    "duration": 10,
    "start_time": "2023-05-29T08:02:04.362Z"
   },
   {
    "duration": 4,
    "start_time": "2023-05-29T08:02:04.374Z"
   },
   {
    "duration": 6,
    "start_time": "2023-05-29T08:02:04.380Z"
   },
   {
    "duration": 29,
    "start_time": "2023-05-29T08:02:04.388Z"
   },
   {
    "duration": 4,
    "start_time": "2023-05-29T08:02:04.419Z"
   },
   {
    "duration": 8,
    "start_time": "2023-05-29T08:02:04.424Z"
   },
   {
    "duration": 11,
    "start_time": "2023-05-29T08:02:04.433Z"
   },
   {
    "duration": 9,
    "start_time": "2023-05-29T08:02:04.445Z"
   },
   {
    "duration": 13,
    "start_time": "2023-05-29T08:02:04.456Z"
   },
   {
    "duration": 11,
    "start_time": "2023-05-29T08:02:04.471Z"
   },
   {
    "duration": 9,
    "start_time": "2023-05-29T08:02:04.485Z"
   },
   {
    "duration": 188,
    "start_time": "2023-05-29T08:02:05.902Z"
   },
   {
    "duration": 3,
    "start_time": "2023-05-29T08:02:11.213Z"
   },
   {
    "duration": 11,
    "start_time": "2023-05-29T08:02:26.156Z"
   },
   {
    "duration": 8,
    "start_time": "2023-05-29T08:02:43.517Z"
   },
   {
    "duration": 3,
    "start_time": "2023-05-29T08:03:11.817Z"
   },
   {
    "duration": 3,
    "start_time": "2023-05-29T08:03:12.718Z"
   },
   {
    "duration": 4,
    "start_time": "2023-05-29T08:03:13.118Z"
   },
   {
    "duration": 3,
    "start_time": "2023-05-29T08:03:26.998Z"
   },
   {
    "duration": 68,
    "start_time": "2023-05-29T08:03:29.308Z"
   },
   {
    "duration": 3,
    "start_time": "2023-05-29T08:03:33.702Z"
   },
   {
    "duration": 3,
    "start_time": "2023-05-29T08:03:34.107Z"
   },
   {
    "duration": 33782,
    "start_time": "2023-05-29T08:03:34.564Z"
   },
   {
    "duration": 5,
    "start_time": "2023-05-29T08:04:08.349Z"
   },
   {
    "duration": 10,
    "start_time": "2023-05-29T08:04:08.356Z"
   },
   {
    "duration": 25583,
    "start_time": "2023-05-29T08:04:08.369Z"
   },
   {
    "duration": 5,
    "start_time": "2023-05-29T08:04:33.954Z"
   },
   {
    "duration": 6,
    "start_time": "2023-05-29T08:04:33.961Z"
   },
   {
    "duration": 38252,
    "start_time": "2023-05-29T08:04:33.970Z"
   },
   {
    "duration": 4,
    "start_time": "2023-05-29T08:05:12.225Z"
   },
   {
    "duration": 16,
    "start_time": "2023-05-29T08:05:12.232Z"
   },
   {
    "duration": 151,
    "start_time": "2023-05-29T08:05:12.249Z"
   },
   {
    "duration": 3,
    "start_time": "2023-05-29T08:05:12.403Z"
   },
   {
    "duration": 7,
    "start_time": "2023-05-29T08:05:12.408Z"
   },
   {
    "duration": 111701,
    "start_time": "2023-05-29T08:05:12.417Z"
   },
   {
    "duration": 4,
    "start_time": "2023-05-29T08:07:04.120Z"
   },
   {
    "duration": 8642,
    "start_time": "2023-05-29T08:07:04.125Z"
   },
   {
    "duration": 3,
    "start_time": "2023-05-29T08:07:12.769Z"
   },
   {
    "duration": 6,
    "start_time": "2023-05-29T08:07:12.774Z"
   },
   {
    "duration": 22366,
    "start_time": "2023-05-29T08:07:12.782Z"
   },
   {
    "duration": 3,
    "start_time": "2023-05-29T08:07:35.152Z"
   },
   {
    "duration": 17,
    "start_time": "2023-05-29T08:07:35.156Z"
   },
   {
    "duration": 2369,
    "start_time": "2023-05-29T08:08:00.015Z"
   },
   {
    "duration": 2271,
    "start_time": "2023-05-29T08:08:02.386Z"
   },
   {
    "duration": 5,
    "start_time": "2023-05-29T08:08:04.659Z"
   },
   {
    "duration": 928,
    "start_time": "2023-05-29T08:08:04.665Z"
   },
   {
    "duration": 12,
    "start_time": "2023-05-29T08:08:05.595Z"
   },
   {
    "duration": 30,
    "start_time": "2023-05-29T08:08:05.610Z"
   },
   {
    "duration": 36,
    "start_time": "2023-05-29T08:08:05.643Z"
   },
   {
    "duration": 30,
    "start_time": "2023-05-29T08:08:05.681Z"
   },
   {
    "duration": 279,
    "start_time": "2023-05-29T08:08:05.713Z"
   },
   {
    "duration": 9,
    "start_time": "2023-05-29T08:08:05.994Z"
   },
   {
    "duration": 18,
    "start_time": "2023-05-29T08:08:06.004Z"
   },
   {
    "duration": 25,
    "start_time": "2023-05-29T08:08:06.024Z"
   },
   {
    "duration": 34,
    "start_time": "2023-05-29T08:08:06.051Z"
   },
   {
    "duration": 15,
    "start_time": "2023-05-29T08:08:06.088Z"
   },
   {
    "duration": 8,
    "start_time": "2023-05-29T08:08:06.105Z"
   },
   {
    "duration": 32,
    "start_time": "2023-05-29T08:08:06.114Z"
   },
   {
    "duration": 10035,
    "start_time": "2023-05-29T08:08:06.147Z"
   },
   {
    "duration": 5,
    "start_time": "2023-05-29T08:08:16.184Z"
   },
   {
    "duration": 11,
    "start_time": "2023-05-29T08:08:16.190Z"
   },
   {
    "duration": 8,
    "start_time": "2023-05-29T08:08:16.203Z"
   },
   {
    "duration": 4372,
    "start_time": "2023-05-29T08:08:16.218Z"
   },
   {
    "duration": 4,
    "start_time": "2023-05-29T08:08:20.592Z"
   },
   {
    "duration": 37,
    "start_time": "2023-05-29T08:08:20.597Z"
   },
   {
    "duration": 18,
    "start_time": "2023-05-29T08:08:20.636Z"
   },
   {
    "duration": 33,
    "start_time": "2023-05-29T08:08:20.656Z"
   },
   {
    "duration": 46,
    "start_time": "2023-05-29T08:08:20.691Z"
   },
   {
    "duration": 28,
    "start_time": "2023-05-29T08:08:20.739Z"
   },
   {
    "duration": 20,
    "start_time": "2023-05-29T08:08:20.769Z"
   },
   {
    "duration": 45,
    "start_time": "2023-05-29T08:08:20.791Z"
   },
   {
    "duration": 43,
    "start_time": "2023-05-29T08:08:20.838Z"
   },
   {
    "duration": 30,
    "start_time": "2023-05-29T08:08:20.883Z"
   },
   {
    "duration": 30,
    "start_time": "2023-05-29T08:08:20.915Z"
   },
   {
    "duration": 22,
    "start_time": "2023-05-29T08:08:20.947Z"
   },
   {
    "duration": 8,
    "start_time": "2023-05-29T08:08:20.971Z"
   },
   {
    "duration": 18,
    "start_time": "2023-05-29T08:08:20.981Z"
   },
   {
    "duration": 22,
    "start_time": "2023-05-29T08:08:21.001Z"
   },
   {
    "duration": 17,
    "start_time": "2023-05-29T08:08:21.025Z"
   },
   {
    "duration": 19,
    "start_time": "2023-05-29T08:08:21.044Z"
   },
   {
    "duration": 26242,
    "start_time": "2023-05-29T08:08:21.065Z"
   },
   {
    "duration": 0,
    "start_time": "2023-05-29T08:08:47.310Z"
   },
   {
    "duration": 0,
    "start_time": "2023-05-29T08:08:47.311Z"
   },
   {
    "duration": 0,
    "start_time": "2023-05-29T08:08:47.313Z"
   },
   {
    "duration": 0,
    "start_time": "2023-05-29T08:08:47.314Z"
   },
   {
    "duration": 0,
    "start_time": "2023-05-29T08:08:47.315Z"
   },
   {
    "duration": 0,
    "start_time": "2023-05-29T08:08:47.316Z"
   },
   {
    "duration": 0,
    "start_time": "2023-05-29T08:08:47.317Z"
   },
   {
    "duration": 0,
    "start_time": "2023-05-29T08:08:47.318Z"
   },
   {
    "duration": 0,
    "start_time": "2023-05-29T08:08:47.319Z"
   },
   {
    "duration": 0,
    "start_time": "2023-05-29T08:08:47.321Z"
   },
   {
    "duration": 0,
    "start_time": "2023-05-29T08:08:47.322Z"
   },
   {
    "duration": 0,
    "start_time": "2023-05-29T08:08:47.323Z"
   },
   {
    "duration": 0,
    "start_time": "2023-05-29T08:08:47.324Z"
   },
   {
    "duration": 0,
    "start_time": "2023-05-29T08:08:47.325Z"
   },
   {
    "duration": 0,
    "start_time": "2023-05-29T08:08:47.326Z"
   },
   {
    "duration": 0,
    "start_time": "2023-05-29T08:08:47.327Z"
   },
   {
    "duration": 0,
    "start_time": "2023-05-29T08:08:47.328Z"
   },
   {
    "duration": 0,
    "start_time": "2023-05-29T08:08:47.329Z"
   },
   {
    "duration": 0,
    "start_time": "2023-05-29T08:08:47.330Z"
   },
   {
    "duration": 0,
    "start_time": "2023-05-29T08:08:47.331Z"
   },
   {
    "duration": 0,
    "start_time": "2023-05-29T08:08:47.332Z"
   },
   {
    "duration": 0,
    "start_time": "2023-05-29T08:08:47.333Z"
   },
   {
    "duration": 0,
    "start_time": "2023-05-29T08:08:47.334Z"
   },
   {
    "duration": 0,
    "start_time": "2023-05-29T08:08:47.335Z"
   },
   {
    "duration": 0,
    "start_time": "2023-05-29T08:08:47.337Z"
   },
   {
    "duration": 0,
    "start_time": "2023-05-29T08:08:47.338Z"
   },
   {
    "duration": 0,
    "start_time": "2023-05-29T08:08:47.339Z"
   },
   {
    "duration": 2493,
    "start_time": "2023-05-29T08:10:38.756Z"
   },
   {
    "duration": 2372,
    "start_time": "2023-05-29T08:10:41.252Z"
   },
   {
    "duration": 6,
    "start_time": "2023-05-29T08:10:43.626Z"
   },
   {
    "duration": 925,
    "start_time": "2023-05-29T08:10:43.634Z"
   },
   {
    "duration": 15,
    "start_time": "2023-05-29T08:10:44.561Z"
   },
   {
    "duration": 16,
    "start_time": "2023-05-29T08:10:44.578Z"
   },
   {
    "duration": 42,
    "start_time": "2023-05-29T08:10:44.597Z"
   },
   {
    "duration": 40,
    "start_time": "2023-05-29T08:10:44.641Z"
   },
   {
    "duration": 324,
    "start_time": "2023-05-29T08:10:44.684Z"
   },
   {
    "duration": 11,
    "start_time": "2023-05-29T08:10:45.011Z"
   },
   {
    "duration": 49,
    "start_time": "2023-05-29T08:10:45.024Z"
   },
   {
    "duration": 27,
    "start_time": "2023-05-29T08:10:45.075Z"
   },
   {
    "duration": 52,
    "start_time": "2023-05-29T08:10:45.105Z"
   },
   {
    "duration": 19,
    "start_time": "2023-05-29T08:10:45.159Z"
   },
   {
    "duration": 26,
    "start_time": "2023-05-29T08:10:45.180Z"
   },
   {
    "duration": 50,
    "start_time": "2023-05-29T08:10:45.208Z"
   },
   {
    "duration": 10240,
    "start_time": "2023-05-29T08:10:45.260Z"
   },
   {
    "duration": 7,
    "start_time": "2023-05-29T08:10:55.502Z"
   },
   {
    "duration": 37,
    "start_time": "2023-05-29T08:10:55.510Z"
   },
   {
    "duration": 21,
    "start_time": "2023-05-29T08:10:55.549Z"
   },
   {
    "duration": 5043,
    "start_time": "2023-05-29T08:10:55.572Z"
   },
   {
    "duration": 8,
    "start_time": "2023-05-29T08:11:00.621Z"
   },
   {
    "duration": 142,
    "start_time": "2023-05-29T08:11:00.631Z"
   },
   {
    "duration": 54,
    "start_time": "2023-05-29T08:11:00.775Z"
   },
   {
    "duration": 75,
    "start_time": "2023-05-29T08:11:00.831Z"
   },
   {
    "duration": 94,
    "start_time": "2023-05-29T08:11:00.908Z"
   },
   {
    "duration": 38,
    "start_time": "2023-05-29T08:11:01.004Z"
   },
   {
    "duration": 59,
    "start_time": "2023-05-29T08:11:01.047Z"
   },
   {
    "duration": 50,
    "start_time": "2023-05-29T08:11:01.110Z"
   },
   {
    "duration": 33,
    "start_time": "2023-05-29T08:11:01.162Z"
   },
   {
    "duration": 34,
    "start_time": "2023-05-29T08:11:01.197Z"
   },
   {
    "duration": 58,
    "start_time": "2023-05-29T08:11:01.233Z"
   },
   {
    "duration": 26,
    "start_time": "2023-05-29T08:11:01.293Z"
   },
   {
    "duration": 45,
    "start_time": "2023-05-29T08:11:01.321Z"
   },
   {
    "duration": 54,
    "start_time": "2023-05-29T08:11:01.368Z"
   },
   {
    "duration": 27,
    "start_time": "2023-05-29T08:11:01.424Z"
   },
   {
    "duration": 37,
    "start_time": "2023-05-29T08:11:01.454Z"
   },
   {
    "duration": 41,
    "start_time": "2023-05-29T08:11:01.492Z"
   },
   {
    "duration": 4,
    "start_time": "2023-05-29T08:11:50.856Z"
   },
   {
    "duration": 4,
    "start_time": "2023-05-29T08:11:51.147Z"
   },
   {
    "duration": 32435,
    "start_time": "2023-05-29T08:11:51.456Z"
   },
   {
    "duration": 3,
    "start_time": "2023-05-29T08:12:23.895Z"
   },
   {
    "duration": 49,
    "start_time": "2023-05-29T08:12:23.900Z"
   },
   {
    "duration": 24832,
    "start_time": "2023-05-29T08:12:23.951Z"
   },
   {
    "duration": 3,
    "start_time": "2023-05-29T08:12:48.785Z"
   },
   {
    "duration": 6,
    "start_time": "2023-05-29T08:12:48.789Z"
   },
   {
    "duration": 39877,
    "start_time": "2023-05-29T08:12:48.797Z"
   },
   {
    "duration": 3,
    "start_time": "2023-05-29T08:13:28.676Z"
   },
   {
    "duration": 12,
    "start_time": "2023-05-29T08:13:28.681Z"
   },
   {
    "duration": 33358,
    "start_time": "2023-05-29T08:13:28.698Z"
   },
   {
    "duration": 4,
    "start_time": "2023-05-29T08:14:02.057Z"
   },
   {
    "duration": 51,
    "start_time": "2023-05-29T08:14:02.062Z"
   },
   {
    "duration": 134710,
    "start_time": "2023-05-29T08:14:02.114Z"
   },
   {
    "duration": 5,
    "start_time": "2023-05-29T08:16:16.826Z"
   },
   {
    "duration": 16478,
    "start_time": "2023-05-29T08:16:16.833Z"
   },
   {
    "duration": 4,
    "start_time": "2023-05-29T08:16:33.317Z"
   },
   {
    "duration": 19,
    "start_time": "2023-05-29T08:16:33.322Z"
   },
   {
    "duration": 38724,
    "start_time": "2023-05-29T08:16:33.346Z"
   },
   {
    "duration": 3,
    "start_time": "2023-05-29T08:17:12.071Z"
   },
   {
    "duration": 10,
    "start_time": "2023-05-29T08:17:12.076Z"
   },
   {
    "duration": 26149,
    "start_time": "2023-05-29T08:17:12.087Z"
   },
   {
    "duration": 3,
    "start_time": "2023-05-29T08:17:38.242Z"
   },
   {
    "duration": 15,
    "start_time": "2023-05-29T08:17:38.256Z"
   },
   {
    "duration": 10081,
    "start_time": "2023-05-29T08:17:38.273Z"
   },
   {
    "duration": 4,
    "start_time": "2023-05-29T08:17:48.355Z"
   },
   {
    "duration": 26623,
    "start_time": "2023-05-29T08:17:48.361Z"
   },
   {
    "duration": 5,
    "start_time": "2023-05-29T08:18:14.986Z"
   },
   {
    "duration": 375,
    "start_time": "2023-05-29T08:18:14.994Z"
   },
   {
    "duration": 3,
    "start_time": "2023-05-29T08:20:38.206Z"
   },
   {
    "duration": 2,
    "start_time": "2023-05-29T08:20:42.281Z"
   },
   {
    "duration": 3,
    "start_time": "2023-05-29T08:20:42.886Z"
   },
   {
    "duration": 3,
    "start_time": "2023-05-29T08:20:45.380Z"
   },
   {
    "duration": 2,
    "start_time": "2023-05-29T08:20:47.204Z"
   },
   {
    "duration": 2746,
    "start_time": "2023-05-29T08:20:47.920Z"
   },
   {
    "duration": 3,
    "start_time": "2023-05-29T08:20:53.285Z"
   },
   {
    "duration": 2624,
    "start_time": "2023-05-29T08:20:53.781Z"
   },
   {
    "duration": 3,
    "start_time": "2023-05-29T08:21:04.905Z"
   },
   {
    "duration": 83,
    "start_time": "2023-05-29T08:21:05.304Z"
   },
   {
    "duration": 3,
    "start_time": "2023-05-29T08:21:08.802Z"
   },
   {
    "duration": 3,
    "start_time": "2023-05-29T08:21:09.839Z"
   },
   {
    "duration": 3,
    "start_time": "2023-05-29T08:21:10.680Z"
   },
   {
    "duration": 80624,
    "start_time": "2023-05-29T08:21:11.303Z"
   },
   {
    "duration": 7,
    "start_time": "2023-05-29T08:22:31.930Z"
   },
   {
    "duration": 116347,
    "start_time": "2023-05-29T08:22:31.939Z"
   },
   {
    "duration": 260,
    "start_time": "2023-05-29T08:24:43.598Z"
   },
   {
    "duration": 6,
    "start_time": "2023-05-29T08:24:51.558Z"
   },
   {
    "duration": 4,
    "start_time": "2023-05-29T08:24:52.586Z"
   },
   {
    "duration": 9,
    "start_time": "2023-05-29T08:24:54.833Z"
   },
   {
    "duration": 7,
    "start_time": "2023-05-29T08:24:55.934Z"
   },
   {
    "duration": 2965,
    "start_time": "2023-05-29T08:24:57.594Z"
   },
   {
    "duration": 4,
    "start_time": "2023-05-29T08:25:11.186Z"
   },
   {
    "duration": 35222,
    "start_time": "2023-05-29T08:25:11.785Z"
   },
   {
    "duration": 3,
    "start_time": "2023-05-29T08:25:47.010Z"
   },
   {
    "duration": 82,
    "start_time": "2023-05-29T08:25:47.015Z"
   },
   {
    "duration": 0,
    "start_time": "2023-05-29T08:25:47.100Z"
   },
   {
    "duration": 0,
    "start_time": "2023-05-29T08:25:47.101Z"
   },
   {
    "duration": 0,
    "start_time": "2023-05-29T08:25:47.102Z"
   },
   {
    "duration": 0,
    "start_time": "2023-05-29T08:25:47.104Z"
   },
   {
    "duration": 0,
    "start_time": "2023-05-29T08:25:47.106Z"
   },
   {
    "duration": 3,
    "start_time": "2023-05-29T08:27:43.554Z"
   },
   {
    "duration": 4,
    "start_time": "2023-05-29T08:27:44.689Z"
   },
   {
    "duration": 3,
    "start_time": "2023-05-29T08:27:45.057Z"
   },
   {
    "duration": 17691,
    "start_time": "2023-05-29T08:27:45.402Z"
   },
   {
    "duration": 25,
    "start_time": "2023-05-29T08:28:03.094Z"
   },
   {
    "duration": 107470,
    "start_time": "2023-05-29T08:28:03.123Z"
   },
   {
    "duration": 5,
    "start_time": "2023-05-29T08:29:57.354Z"
   },
   {
    "duration": 4,
    "start_time": "2023-05-29T08:29:57.763Z"
   },
   {
    "duration": 4,
    "start_time": "2023-05-29T08:29:58.306Z"
   },
   {
    "duration": 213,
    "start_time": "2023-05-29T08:29:58.682Z"
   },
   {
    "duration": 3,
    "start_time": "2023-05-29T08:30:00.388Z"
   },
   {
    "duration": 323,
    "start_time": "2023-05-29T08:30:02.034Z"
   },
   {
    "duration": 2385,
    "start_time": "2023-05-29T08:30:47.606Z"
   },
   {
    "duration": 2269,
    "start_time": "2023-05-29T08:30:49.993Z"
   },
   {
    "duration": 4,
    "start_time": "2023-05-29T08:30:52.263Z"
   },
   {
    "duration": 936,
    "start_time": "2023-05-29T08:30:52.269Z"
   },
   {
    "duration": 37,
    "start_time": "2023-05-29T08:30:53.207Z"
   },
   {
    "duration": 17,
    "start_time": "2023-05-29T08:30:53.246Z"
   },
   {
    "duration": 30,
    "start_time": "2023-05-29T08:30:53.265Z"
   },
   {
    "duration": 30,
    "start_time": "2023-05-29T08:30:53.297Z"
   },
   {
    "duration": 339,
    "start_time": "2023-05-29T08:30:53.328Z"
   },
   {
    "duration": 9,
    "start_time": "2023-05-29T08:30:53.670Z"
   },
   {
    "duration": 10,
    "start_time": "2023-05-29T08:30:53.681Z"
   },
   {
    "duration": 4,
    "start_time": "2023-05-29T08:30:53.693Z"
   },
   {
    "duration": 28,
    "start_time": "2023-05-29T08:30:53.699Z"
   },
   {
    "duration": 37,
    "start_time": "2023-05-29T08:30:53.731Z"
   },
   {
    "duration": 12,
    "start_time": "2023-05-29T08:30:53.769Z"
   },
   {
    "duration": 13,
    "start_time": "2023-05-29T08:30:53.784Z"
   },
   {
    "duration": 1666387,
    "start_time": "2023-05-29T08:30:53.799Z"
   },
   {
    "duration": 300,
    "start_time": "2023-05-29T08:58:40.188Z"
   },
   {
    "duration": 5482,
    "start_time": "2023-05-29T08:58:40.492Z"
   },
   {
    "duration": 13273,
    "start_time": "2023-05-29T08:58:45.978Z"
   },
   {
    "duration": 32,
    "start_time": "2023-05-29T10:00:24.610Z"
   },
   {
    "duration": 36,
    "start_time": "2023-05-29T10:00:24.644Z"
   },
   {
    "duration": 0,
    "start_time": "2023-05-29T10:00:24.683Z"
   },
   {
    "duration": 0,
    "start_time": "2023-05-29T10:00:24.685Z"
   },
   {
    "duration": 0,
    "start_time": "2023-05-29T10:00:24.686Z"
   },
   {
    "duration": 0,
    "start_time": "2023-05-29T10:00:24.687Z"
   },
   {
    "duration": 0,
    "start_time": "2023-05-29T10:00:24.689Z"
   },
   {
    "duration": 0,
    "start_time": "2023-05-29T10:00:24.690Z"
   },
   {
    "duration": 0,
    "start_time": "2023-05-29T10:00:24.692Z"
   },
   {
    "duration": 0,
    "start_time": "2023-05-29T10:00:24.695Z"
   },
   {
    "duration": 0,
    "start_time": "2023-05-29T10:00:24.697Z"
   },
   {
    "duration": 0,
    "start_time": "2023-05-29T10:00:24.698Z"
   },
   {
    "duration": 4964,
    "start_time": "2023-05-29T10:00:57.112Z"
   },
   {
    "duration": 1118,
    "start_time": "2023-05-29T10:19:40.873Z"
   },
   {
    "duration": 129,
    "start_time": "2023-05-29T10:20:14.078Z"
   },
   {
    "duration": 17,
    "start_time": "2023-05-29T10:20:17.592Z"
   },
   {
    "duration": 1683,
    "start_time": "2023-05-29T10:21:02.776Z"
   },
   {
    "duration": 27,
    "start_time": "2023-05-29T10:21:56.752Z"
   },
   {
    "duration": 6,
    "start_time": "2023-05-29T10:23:23.261Z"
   },
   {
    "duration": 40,
    "start_time": "2023-05-29T10:23:36.665Z"
   },
   {
    "duration": 17,
    "start_time": "2023-05-29T10:23:38.760Z"
   },
   {
    "duration": 1385,
    "start_time": "2023-05-29T10:23:47.600Z"
   },
   {
    "duration": 3,
    "start_time": "2023-05-29T10:24:18.770Z"
   },
   {
    "duration": 25,
    "start_time": "2023-05-29T10:24:19.165Z"
   },
   {
    "duration": 1534,
    "start_time": "2023-05-29T10:25:19.416Z"
   },
   {
    "duration": 7,
    "start_time": "2023-05-29T10:26:05.480Z"
   },
   {
    "duration": 3,
    "start_time": "2023-05-29T10:26:07.464Z"
   },
   {
    "duration": 24,
    "start_time": "2023-05-29T10:26:08.660Z"
   },
   {
    "duration": 44,
    "start_time": "2023-05-29T10:26:09.411Z"
   },
   {
    "duration": 122,
    "start_time": "2023-05-29T10:26:10.152Z"
   },
   {
    "duration": 30,
    "start_time": "2023-05-29T10:27:31.359Z"
   },
   {
    "duration": 10,
    "start_time": "2023-05-29T10:28:32.813Z"
   },
   {
    "duration": 9,
    "start_time": "2023-05-29T10:28:35.739Z"
   },
   {
    "duration": 1339,
    "start_time": "2023-05-29T10:29:00.007Z"
   },
   {
    "duration": 22,
    "start_time": "2023-05-29T10:29:04.469Z"
   },
   {
    "duration": 28,
    "start_time": "2023-05-29T10:29:10.660Z"
   },
   {
    "duration": 64,
    "start_time": "2023-05-29T10:30:20.894Z"
   },
   {
    "duration": 11,
    "start_time": "2023-05-29T10:30:31.997Z"
   },
   {
    "duration": 35,
    "start_time": "2023-05-29T10:31:18.662Z"
   },
   {
    "duration": 20,
    "start_time": "2023-05-29T10:31:44.361Z"
   },
   {
    "duration": 38,
    "start_time": "2023-05-29T10:31:50.305Z"
   },
   {
    "duration": 72,
    "start_time": "2023-05-29T10:31:52.424Z"
   },
   {
    "duration": 20,
    "start_time": "2023-05-29T10:32:10.461Z"
   },
   {
    "duration": 9,
    "start_time": "2023-05-29T10:32:16.305Z"
   },
   {
    "duration": 39,
    "start_time": "2023-05-29T10:32:32.400Z"
   },
   {
    "duration": 18,
    "start_time": "2023-05-29T10:32:36.165Z"
   },
   {
    "duration": 221,
    "start_time": "2023-05-29T10:32:42.788Z"
   },
   {
    "duration": 35,
    "start_time": "2023-05-29T10:35:43.740Z"
   },
   {
    "duration": 632,
    "start_time": "2023-05-29T10:36:09.365Z"
   },
   {
    "duration": 3925,
    "start_time": "2023-05-29T10:37:33.664Z"
   },
   {
    "duration": 3814,
    "start_time": "2023-05-29T10:37:37.591Z"
   },
   {
    "duration": 4,
    "start_time": "2023-05-29T10:37:41.407Z"
   },
   {
    "duration": 28,
    "start_time": "2023-05-29T10:37:41.412Z"
   },
   {
    "duration": 890,
    "start_time": "2023-05-29T10:37:41.456Z"
   },
   {
    "duration": 251,
    "start_time": "2023-05-29T10:37:43.496Z"
   },
   {
    "duration": 2364,
    "start_time": "2023-05-29T10:38:11.698Z"
   },
   {
    "duration": 2388,
    "start_time": "2023-05-29T10:38:14.067Z"
   },
   {
    "duration": 5,
    "start_time": "2023-05-29T10:38:16.464Z"
   },
   {
    "duration": 7,
    "start_time": "2023-05-29T10:38:16.470Z"
   },
   {
    "duration": 110,
    "start_time": "2023-05-29T10:38:16.479Z"
   },
   {
    "duration": 223,
    "start_time": "2023-05-29T10:38:16.590Z"
   },
   {
    "duration": 42,
    "start_time": "2023-05-29T10:38:33.817Z"
   },
   {
    "duration": 5,
    "start_time": "2023-05-29T10:38:54.000Z"
   },
   {
    "duration": 27,
    "start_time": "2023-05-29T10:38:56.060Z"
   },
   {
    "duration": 2335,
    "start_time": "2023-05-29T10:44:45.481Z"
   },
   {
    "duration": 2619,
    "start_time": "2023-05-29T10:44:47.835Z"
   },
   {
    "duration": 4,
    "start_time": "2023-05-29T10:44:50.460Z"
   },
   {
    "duration": 3,
    "start_time": "2023-05-29T10:44:50.467Z"
   },
   {
    "duration": 120,
    "start_time": "2023-05-29T10:44:50.472Z"
   },
   {
    "duration": 75,
    "start_time": "2023-05-29T10:44:50.593Z"
   },
   {
    "duration": 1127,
    "start_time": "2023-05-29T10:44:54.181Z"
   },
   {
    "duration": 10,
    "start_time": "2023-05-29T10:44:58.205Z"
   },
   {
    "duration": 3,
    "start_time": "2023-05-29T10:44:59.362Z"
   },
   {
    "duration": 51,
    "start_time": "2023-05-29T10:45:01.592Z"
   },
   {
    "duration": 46,
    "start_time": "2023-05-29T10:45:04.310Z"
   },
   {
    "duration": 216,
    "start_time": "2023-05-29T10:45:38.281Z"
   },
   {
    "duration": 35,
    "start_time": "2023-05-29T10:45:43.604Z"
   },
   {
    "duration": 21,
    "start_time": "2023-05-29T10:45:56.986Z"
   },
   {
    "duration": 32,
    "start_time": "2023-05-29T10:46:00.196Z"
   },
   {
    "duration": 29,
    "start_time": "2023-05-29T10:46:35.361Z"
   },
   {
    "duration": 51,
    "start_time": "2023-05-29T10:46:50.884Z"
   },
   {
    "duration": 29,
    "start_time": "2023-05-29T10:47:13.759Z"
   },
   {
    "duration": 55,
    "start_time": "2023-05-29T10:47:38.799Z"
   },
   {
    "duration": 297,
    "start_time": "2023-05-29T10:47:40.458Z"
   },
   {
    "duration": 8,
    "start_time": "2023-05-29T10:47:46.693Z"
   },
   {
    "duration": 8,
    "start_time": "2023-05-29T10:47:48.098Z"
   },
   {
    "duration": 4,
    "start_time": "2023-05-29T10:47:53.154Z"
   },
   {
    "duration": 5,
    "start_time": "2023-05-29T10:47:53.809Z"
   },
   {
    "duration": 35,
    "start_time": "2023-05-29T10:49:10.007Z"
   },
   {
    "duration": 46,
    "start_time": "2023-05-29T10:49:18.201Z"
   },
   {
    "duration": 5,
    "start_time": "2023-05-29T10:49:40.380Z"
   },
   {
    "duration": 4,
    "start_time": "2023-05-29T10:49:43.788Z"
   },
   {
    "duration": 5,
    "start_time": "2023-05-29T10:50:51.176Z"
   },
   {
    "duration": 5,
    "start_time": "2023-05-29T10:50:56.706Z"
   },
   {
    "duration": 102,
    "start_time": "2023-05-29T10:53:04.492Z"
   },
   {
    "duration": 12571,
    "start_time": "2023-05-29T10:53:12.280Z"
   },
   {
    "duration": 174,
    "start_time": "2023-05-29T10:53:49.215Z"
   },
   {
    "duration": 968,
    "start_time": "2023-05-29T10:53:54.715Z"
   },
   {
    "duration": 2306,
    "start_time": "2023-05-29T10:54:03.198Z"
   },
   {
    "duration": 2259,
    "start_time": "2023-05-29T10:54:05.507Z"
   },
   {
    "duration": 3,
    "start_time": "2023-05-29T10:54:07.768Z"
   },
   {
    "duration": 20,
    "start_time": "2023-05-29T10:54:07.773Z"
   },
   {
    "duration": 85,
    "start_time": "2023-05-29T10:54:07.794Z"
   },
   {
    "duration": 969,
    "start_time": "2023-05-29T10:54:07.881Z"
   },
   {
    "duration": 32,
    "start_time": "2023-05-29T10:54:11.714Z"
   },
   {
    "duration": 12,
    "start_time": "2023-05-29T10:54:12.215Z"
   },
   {
    "duration": 28,
    "start_time": "2023-05-29T10:54:13.277Z"
   },
   {
    "duration": 35,
    "start_time": "2023-05-29T10:54:15.317Z"
   },
   {
    "duration": 274,
    "start_time": "2023-05-29T10:54:15.993Z"
   },
   {
    "duration": 14,
    "start_time": "2023-05-29T10:54:16.496Z"
   },
   {
    "duration": 7,
    "start_time": "2023-05-29T10:54:17.082Z"
   },
   {
    "duration": 3,
    "start_time": "2023-05-29T10:54:18.692Z"
   },
   {
    "duration": 8,
    "start_time": "2023-05-29T10:54:19.444Z"
   },
   {
    "duration": 9,
    "start_time": "2023-05-29T10:54:19.814Z"
   },
   {
    "duration": 6,
    "start_time": "2023-05-29T10:54:20.952Z"
   },
   {
    "duration": 5,
    "start_time": "2023-05-29T10:54:22.090Z"
   },
   {
    "duration": 2336,
    "start_time": "2023-05-29T10:58:47.545Z"
   },
   {
    "duration": 2412,
    "start_time": "2023-05-29T10:58:49.883Z"
   },
   {
    "duration": 4,
    "start_time": "2023-05-29T10:58:52.296Z"
   },
   {
    "duration": 5,
    "start_time": "2023-05-29T10:58:52.301Z"
   },
   {
    "duration": 85,
    "start_time": "2023-05-29T10:58:52.323Z"
   },
   {
    "duration": 967,
    "start_time": "2023-05-29T10:58:52.410Z"
   },
   {
    "duration": 12,
    "start_time": "2023-05-29T10:58:53.378Z"
   },
   {
    "duration": 33,
    "start_time": "2023-05-29T10:58:53.391Z"
   },
   {
    "duration": 66,
    "start_time": "2023-05-29T10:58:53.432Z"
   },
   {
    "duration": 35,
    "start_time": "2023-05-29T10:58:53.499Z"
   },
   {
    "duration": 324,
    "start_time": "2023-05-29T10:58:53.536Z"
   },
   {
    "duration": 8,
    "start_time": "2023-05-29T10:58:53.862Z"
   },
   {
    "duration": 8,
    "start_time": "2023-05-29T10:58:53.871Z"
   },
   {
    "duration": 7,
    "start_time": "2023-05-29T10:58:53.882Z"
   },
   {
    "duration": 10,
    "start_time": "2023-05-29T10:58:53.890Z"
   },
   {
    "duration": 12,
    "start_time": "2023-05-29T10:58:53.902Z"
   },
   {
    "duration": 43,
    "start_time": "2023-05-29T10:58:53.915Z"
   },
   {
    "duration": 5,
    "start_time": "2023-05-29T10:58:53.960Z"
   },
   {
    "duration": 2827,
    "start_time": "2023-05-29T11:01:06.742Z"
   },
   {
    "duration": 2367,
    "start_time": "2023-05-29T11:01:09.572Z"
   },
   {
    "duration": 4,
    "start_time": "2023-05-29T11:01:11.940Z"
   },
   {
    "duration": 19,
    "start_time": "2023-05-29T11:01:11.946Z"
   },
   {
    "duration": 78,
    "start_time": "2023-05-29T11:01:11.967Z"
   },
   {
    "duration": 951,
    "start_time": "2023-05-29T11:01:12.048Z"
   },
   {
    "duration": 26,
    "start_time": "2023-05-29T11:01:13.001Z"
   },
   {
    "duration": 29,
    "start_time": "2023-05-29T11:01:13.029Z"
   },
   {
    "duration": 35,
    "start_time": "2023-05-29T11:01:13.060Z"
   },
   {
    "duration": 50,
    "start_time": "2023-05-29T11:01:13.097Z"
   },
   {
    "duration": 260,
    "start_time": "2023-05-29T11:01:13.149Z"
   },
   {
    "duration": 20,
    "start_time": "2023-05-29T11:01:13.411Z"
   },
   {
    "duration": 25,
    "start_time": "2023-05-29T11:01:13.433Z"
   },
   {
    "duration": 12,
    "start_time": "2023-05-29T11:01:13.461Z"
   },
   {
    "duration": 13,
    "start_time": "2023-05-29T11:01:13.474Z"
   },
   {
    "duration": 18,
    "start_time": "2023-05-29T11:01:13.488Z"
   },
   {
    "duration": 51,
    "start_time": "2023-05-29T11:01:13.507Z"
   },
   {
    "duration": 12,
    "start_time": "2023-05-29T11:01:13.560Z"
   },
   {
    "duration": 1312680,
    "start_time": "2023-05-29T11:01:13.573Z"
   },
   {
    "duration": 4319,
    "start_time": "2023-05-29T11:23:06.256Z"
   },
   {
    "duration": 307,
    "start_time": "2023-05-29T11:23:10.577Z"
   },
   {
    "duration": 12,
    "start_time": "2023-05-29T11:23:10.886Z"
   },
   {
    "duration": 1439,
    "start_time": "2023-05-29T11:23:10.900Z"
   },
   {
    "duration": 0,
    "start_time": "2023-05-29T11:23:12.341Z"
   },
   {
    "duration": 4,
    "start_time": "2023-05-29T11:25:36.697Z"
   },
   {
    "duration": 2450,
    "start_time": "2023-05-29T11:27:07.508Z"
   },
   {
    "duration": 2291,
    "start_time": "2023-05-29T11:27:09.960Z"
   },
   {
    "duration": 3,
    "start_time": "2023-05-29T11:27:12.253Z"
   },
   {
    "duration": 3,
    "start_time": "2023-05-29T11:27:12.258Z"
   },
   {
    "duration": 40,
    "start_time": "2023-05-29T11:27:12.264Z"
   },
   {
    "duration": 723,
    "start_time": "2023-05-29T11:27:12.305Z"
   },
   {
    "duration": 17,
    "start_time": "2023-05-29T11:27:13.030Z"
   },
   {
    "duration": 16,
    "start_time": "2023-05-29T11:27:13.049Z"
   },
   {
    "duration": 27,
    "start_time": "2023-05-29T11:27:13.067Z"
   },
   {
    "duration": 19,
    "start_time": "2023-05-29T11:27:13.096Z"
   },
   {
    "duration": 87,
    "start_time": "2023-05-29T11:27:13.117Z"
   },
   {
    "duration": 1599,
    "start_time": "2023-05-29T11:27:13.206Z"
   },
   {
    "duration": 0,
    "start_time": "2023-05-29T11:27:14.807Z"
   },
   {
    "duration": 0,
    "start_time": "2023-05-29T11:27:14.809Z"
   },
   {
    "duration": 0,
    "start_time": "2023-05-29T11:27:14.810Z"
   },
   {
    "duration": 0,
    "start_time": "2023-05-29T11:27:14.811Z"
   },
   {
    "duration": 0,
    "start_time": "2023-05-29T11:27:14.813Z"
   },
   {
    "duration": 0,
    "start_time": "2023-05-29T11:27:14.814Z"
   },
   {
    "duration": 0,
    "start_time": "2023-05-29T11:27:14.816Z"
   },
   {
    "duration": 0,
    "start_time": "2023-05-29T11:27:14.825Z"
   },
   {
    "duration": 0,
    "start_time": "2023-05-29T11:27:14.826Z"
   },
   {
    "duration": 2390,
    "start_time": "2023-05-29T11:29:54.253Z"
   },
   {
    "duration": 12,
    "start_time": "2023-05-29T11:29:56.645Z"
   },
   {
    "duration": 7,
    "start_time": "2023-05-29T11:29:56.659Z"
   },
   {
    "duration": 4,
    "start_time": "2023-05-29T11:29:56.668Z"
   },
   {
    "duration": 88,
    "start_time": "2023-05-29T11:29:56.673Z"
   },
   {
    "duration": 994,
    "start_time": "2023-05-29T11:29:56.762Z"
   },
   {
    "duration": 7,
    "start_time": "2023-05-29T11:29:57.758Z"
   },
   {
    "duration": 5,
    "start_time": "2023-05-29T11:29:57.767Z"
   },
   {
    "duration": 37,
    "start_time": "2023-05-29T11:29:57.773Z"
   },
   {
    "duration": 50,
    "start_time": "2023-05-29T11:29:57.824Z"
   },
   {
    "duration": 307,
    "start_time": "2023-05-29T11:29:57.876Z"
   },
   {
    "duration": 8,
    "start_time": "2023-05-29T11:29:58.185Z"
   },
   {
    "duration": 7,
    "start_time": "2023-05-29T11:29:58.195Z"
   },
   {
    "duration": 30,
    "start_time": "2023-05-29T11:29:58.204Z"
   },
   {
    "duration": 30,
    "start_time": "2023-05-29T11:29:58.240Z"
   },
   {
    "duration": 6,
    "start_time": "2023-05-29T11:29:58.273Z"
   },
   {
    "duration": 7,
    "start_time": "2023-05-29T11:29:58.282Z"
   },
   {
    "duration": 6,
    "start_time": "2023-05-29T11:29:58.291Z"
   },
   {
    "duration": 1343052,
    "start_time": "2023-05-29T11:29:58.299Z"
   },
   {
    "duration": 6,
    "start_time": "2023-05-29T11:52:21.357Z"
   },
   {
    "duration": 5423,
    "start_time": "2023-05-29T11:52:21.365Z"
   },
   {
    "duration": 82702,
    "start_time": "2023-05-29T11:53:46.187Z"
   },
   {
    "duration": 28,
    "start_time": "2023-05-29T11:57:19.636Z"
   },
   {
    "duration": 2327,
    "start_time": "2023-05-29T11:58:53.276Z"
   },
   {
    "duration": 2317,
    "start_time": "2023-05-29T11:58:55.606Z"
   },
   {
    "duration": 10,
    "start_time": "2023-05-29T11:58:57.925Z"
   },
   {
    "duration": 27,
    "start_time": "2023-05-29T11:58:57.936Z"
   },
   {
    "duration": 135,
    "start_time": "2023-05-29T11:58:57.965Z"
   },
   {
    "duration": 933,
    "start_time": "2023-05-29T11:58:58.102Z"
   },
   {
    "duration": 15,
    "start_time": "2023-05-29T11:58:59.040Z"
   },
   {
    "duration": 28,
    "start_time": "2023-05-29T11:58:59.057Z"
   },
   {
    "duration": 66,
    "start_time": "2023-05-29T11:58:59.086Z"
   },
   {
    "duration": 90,
    "start_time": "2023-05-29T11:58:59.153Z"
   },
   {
    "duration": 260,
    "start_time": "2023-05-29T11:58:59.246Z"
   },
   {
    "duration": 29,
    "start_time": "2023-05-29T11:58:59.508Z"
   },
   {
    "duration": 12,
    "start_time": "2023-05-29T11:58:59.539Z"
   },
   {
    "duration": 4,
    "start_time": "2023-05-29T11:58:59.553Z"
   },
   {
    "duration": 6,
    "start_time": "2023-05-29T11:58:59.558Z"
   },
   {
    "duration": 6,
    "start_time": "2023-05-29T11:58:59.565Z"
   },
   {
    "duration": 15,
    "start_time": "2023-05-29T11:58:59.572Z"
   },
   {
    "duration": 6,
    "start_time": "2023-05-29T11:58:59.589Z"
   },
   {
    "duration": 1346074,
    "start_time": "2023-05-29T11:58:59.597Z"
   },
   {
    "duration": 5248,
    "start_time": "2023-05-29T12:21:25.688Z"
   },
   {
    "duration": 12,
    "start_time": "2023-05-29T12:26:48.154Z"
   },
   {
    "duration": 2118,
    "start_time": "2023-05-29T18:19:11.609Z"
   },
   {
    "duration": 3884,
    "start_time": "2023-05-29T18:19:13.730Z"
   },
   {
    "duration": 11,
    "start_time": "2023-05-29T18:19:17.616Z"
   },
   {
    "duration": 17,
    "start_time": "2023-05-29T18:19:17.630Z"
   },
   {
    "duration": 56,
    "start_time": "2023-05-29T18:19:17.649Z"
   },
   {
    "duration": 3161,
    "start_time": "2023-05-29T18:19:17.707Z"
   },
   {
    "duration": 19,
    "start_time": "2023-05-29T18:19:20.870Z"
   },
   {
    "duration": 34,
    "start_time": "2023-05-29T18:19:20.892Z"
   },
   {
    "duration": 65,
    "start_time": "2023-05-29T18:19:20.935Z"
   },
   {
    "duration": 41,
    "start_time": "2023-05-29T18:19:21.002Z"
   },
   {
    "duration": 344,
    "start_time": "2023-05-29T18:19:21.044Z"
   },
   {
    "duration": 8,
    "start_time": "2023-05-29T18:19:21.390Z"
   },
   {
    "duration": 24,
    "start_time": "2023-05-29T18:19:21.399Z"
   },
   {
    "duration": 10,
    "start_time": "2023-05-29T18:19:21.426Z"
   },
   {
    "duration": 18,
    "start_time": "2023-05-29T18:19:21.438Z"
   },
   {
    "duration": 5,
    "start_time": "2023-05-29T18:19:21.458Z"
   },
   {
    "duration": 10,
    "start_time": "2023-05-29T18:19:21.464Z"
   },
   {
    "duration": 6,
    "start_time": "2023-05-29T18:19:21.475Z"
   },
   {
    "duration": 15,
    "start_time": "2023-05-29T18:19:21.483Z"
   },
   {
    "duration": 7,
    "start_time": "2023-05-29T18:19:21.500Z"
   },
   {
    "duration": 365,
    "start_time": "2023-05-29T18:19:21.509Z"
   },
   {
    "duration": 0,
    "start_time": "2023-05-29T18:19:21.876Z"
   },
   {
    "duration": 0,
    "start_time": "2023-05-29T18:19:21.878Z"
   },
   {
    "duration": 11,
    "start_time": "2023-05-29T18:19:51.215Z"
   },
   {
    "duration": 1552,
    "start_time": "2023-05-29T18:21:01.838Z"
   },
   {
    "duration": 5,
    "start_time": "2023-05-29T18:21:31.353Z"
   },
   {
    "duration": 2248,
    "start_time": "2023-05-29T18:21:36.806Z"
   },
   {
    "duration": 5,
    "start_time": "2023-05-29T18:22:21.690Z"
   },
   {
    "duration": 2189,
    "start_time": "2023-05-29T18:22:24.108Z"
   },
   {
    "duration": 3184,
    "start_time": "2023-05-29T18:22:38.289Z"
   },
   {
    "duration": 3060,
    "start_time": "2023-05-29T18:23:30.244Z"
   },
   {
    "duration": 2209,
    "start_time": "2023-05-29T18:24:06.917Z"
   },
   {
    "duration": 4335,
    "start_time": "2023-05-29T18:24:09.133Z"
   },
   {
    "duration": 7,
    "start_time": "2023-05-29T18:24:13.470Z"
   },
   {
    "duration": 4,
    "start_time": "2023-05-29T18:24:13.479Z"
   },
   {
    "duration": 26,
    "start_time": "2023-05-29T18:24:13.485Z"
   },
   {
    "duration": 2792,
    "start_time": "2023-05-29T18:24:13.513Z"
   },
   {
    "duration": 29,
    "start_time": "2023-05-29T18:24:16.307Z"
   },
   {
    "duration": 7,
    "start_time": "2023-05-29T18:24:16.339Z"
   },
   {
    "duration": 43,
    "start_time": "2023-05-29T18:24:16.348Z"
   },
   {
    "duration": 47,
    "start_time": "2023-05-29T18:24:16.393Z"
   },
   {
    "duration": 391,
    "start_time": "2023-05-29T18:24:16.441Z"
   },
   {
    "duration": 8,
    "start_time": "2023-05-29T18:24:16.835Z"
   },
   {
    "duration": 7,
    "start_time": "2023-05-29T18:24:16.845Z"
   },
   {
    "duration": 4,
    "start_time": "2023-05-29T18:24:16.853Z"
   },
   {
    "duration": 6,
    "start_time": "2023-05-29T18:24:16.858Z"
   },
   {
    "duration": 8,
    "start_time": "2023-05-29T18:24:16.865Z"
   },
   {
    "duration": 10,
    "start_time": "2023-05-29T18:24:16.874Z"
   },
   {
    "duration": 41,
    "start_time": "2023-05-29T18:24:16.886Z"
   },
   {
    "duration": 9,
    "start_time": "2023-05-29T18:24:16.929Z"
   },
   {
    "duration": 9,
    "start_time": "2023-05-29T18:24:16.940Z"
   },
   {
    "duration": 368,
    "start_time": "2023-05-29T18:24:16.951Z"
   },
   {
    "duration": 1544,
    "start_time": "2023-05-29T18:24:45.589Z"
   },
   {
    "duration": 2436,
    "start_time": "2023-05-29T18:24:59.518Z"
   },
   {
    "duration": 1667,
    "start_time": "2023-05-29T18:25:12.069Z"
   },
   {
    "duration": 2660,
    "start_time": "2023-05-29T18:25:17.697Z"
   },
   {
    "duration": 2086,
    "start_time": "2023-05-29T18:25:26.185Z"
   },
   {
    "duration": 48,
    "start_time": "2023-05-29T18:25:57.032Z"
   },
   {
    "duration": 2074,
    "start_time": "2023-05-29T18:26:10.903Z"
   },
   {
    "duration": 4089,
    "start_time": "2023-05-29T18:26:12.980Z"
   },
   {
    "duration": 6,
    "start_time": "2023-05-29T18:26:17.070Z"
   },
   {
    "duration": 5,
    "start_time": "2023-05-29T18:26:17.077Z"
   },
   {
    "duration": 30,
    "start_time": "2023-05-29T18:26:17.084Z"
   },
   {
    "duration": 2091,
    "start_time": "2023-05-29T18:26:17.115Z"
   },
   {
    "duration": 12,
    "start_time": "2023-05-29T18:26:19.208Z"
   },
   {
    "duration": 15,
    "start_time": "2023-05-29T18:26:19.221Z"
   },
   {
    "duration": 55,
    "start_time": "2023-05-29T18:26:19.237Z"
   },
   {
    "duration": 46,
    "start_time": "2023-05-29T18:26:19.293Z"
   },
   {
    "duration": 320,
    "start_time": "2023-05-29T18:26:19.340Z"
   },
   {
    "duration": 8,
    "start_time": "2023-05-29T18:26:19.661Z"
   },
   {
    "duration": 8,
    "start_time": "2023-05-29T18:26:19.670Z"
   },
   {
    "duration": 3,
    "start_time": "2023-05-29T18:26:19.680Z"
   },
   {
    "duration": 9,
    "start_time": "2023-05-29T18:26:19.685Z"
   },
   {
    "duration": 25,
    "start_time": "2023-05-29T18:26:19.695Z"
   },
   {
    "duration": 11,
    "start_time": "2023-05-29T18:26:19.722Z"
   },
   {
    "duration": 6,
    "start_time": "2023-05-29T18:26:19.734Z"
   },
   {
    "duration": 8,
    "start_time": "2023-05-29T18:26:19.741Z"
   },
   {
    "duration": 8,
    "start_time": "2023-05-29T18:26:19.750Z"
   },
   {
    "duration": 1530,
    "start_time": "2023-05-29T18:26:24.922Z"
   },
   {
    "duration": 37,
    "start_time": "2023-05-29T18:26:41.008Z"
   },
   {
    "duration": 194,
    "start_time": "2023-05-29T18:26:53.131Z"
   },
   {
    "duration": 6,
    "start_time": "2023-05-29T18:27:14.447Z"
   },
   {
    "duration": 36,
    "start_time": "2023-05-29T18:27:38.294Z"
   },
   {
    "duration": 56,
    "start_time": "2023-05-29T18:27:51.889Z"
   },
   {
    "duration": 36,
    "start_time": "2023-05-29T18:27:55.008Z"
   },
   {
    "duration": 413,
    "start_time": "2023-05-29T18:27:57.109Z"
   },
   {
    "duration": 6,
    "start_time": "2023-05-29T18:28:26.024Z"
   },
   {
    "duration": 2809,
    "start_time": "2023-05-29T18:28:28.622Z"
   },
   {
    "duration": 3,
    "start_time": "2023-05-29T18:28:36.508Z"
   },
   {
    "duration": 2127,
    "start_time": "2023-05-29T18:29:05.132Z"
   },
   {
    "duration": 2028,
    "start_time": "2023-05-29T18:29:07.261Z"
   },
   {
    "duration": 3,
    "start_time": "2023-05-29T18:29:09.290Z"
   },
   {
    "duration": 11,
    "start_time": "2023-05-29T18:29:09.295Z"
   },
   {
    "duration": 49,
    "start_time": "2023-05-29T18:29:09.308Z"
   },
   {
    "duration": 2237,
    "start_time": "2023-05-29T18:29:09.358Z"
   },
   {
    "duration": 12,
    "start_time": "2023-05-29T18:29:11.596Z"
   },
   {
    "duration": 8,
    "start_time": "2023-05-29T18:29:11.609Z"
   },
   {
    "duration": 56,
    "start_time": "2023-05-29T18:29:11.620Z"
   },
   {
    "duration": 40,
    "start_time": "2023-05-29T18:29:11.677Z"
   },
   {
    "duration": 318,
    "start_time": "2023-05-29T18:29:11.719Z"
   },
   {
    "duration": 7,
    "start_time": "2023-05-29T18:29:12.038Z"
   },
   {
    "duration": 6,
    "start_time": "2023-05-29T18:29:12.047Z"
   },
   {
    "duration": 3,
    "start_time": "2023-05-29T18:29:12.056Z"
   },
   {
    "duration": 6,
    "start_time": "2023-05-29T18:29:12.061Z"
   },
   {
    "duration": 7,
    "start_time": "2023-05-29T18:29:12.069Z"
   },
   {
    "duration": 9,
    "start_time": "2023-05-29T18:29:12.077Z"
   },
   {
    "duration": 33,
    "start_time": "2023-05-29T18:29:12.088Z"
   },
   {
    "duration": 23,
    "start_time": "2023-05-29T18:29:12.123Z"
   },
   {
    "duration": 8,
    "start_time": "2023-05-29T18:29:12.149Z"
   },
   {
    "duration": 43,
    "start_time": "2023-05-29T18:29:12.159Z"
   },
   {
    "duration": 58,
    "start_time": "2023-05-29T18:29:12.203Z"
   },
   {
    "duration": 411,
    "start_time": "2023-05-29T18:29:12.262Z"
   },
   {
    "duration": 2999,
    "start_time": "2023-05-29T18:29:12.675Z"
   },
   {
    "duration": 2,
    "start_time": "2023-05-29T18:29:15.676Z"
   },
   {
    "duration": 9,
    "start_time": "2023-05-29T18:29:15.679Z"
   },
   {
    "duration": 37,
    "start_time": "2023-05-29T18:29:15.690Z"
   },
   {
    "duration": 318,
    "start_time": "2023-05-29T18:29:16.297Z"
   },
   {
    "duration": 5,
    "start_time": "2023-05-29T18:29:17.983Z"
   },
   {
    "duration": 194,
    "start_time": "2023-05-29T18:29:19.960Z"
   },
   {
    "duration": 5,
    "start_time": "2023-05-29T18:29:24.835Z"
   },
   {
    "duration": 4,
    "start_time": "2023-05-29T18:29:29.047Z"
   },
   {
    "duration": 2025,
    "start_time": "2023-05-29T18:29:36.795Z"
   },
   {
    "duration": 2065,
    "start_time": "2023-05-29T18:29:38.822Z"
   },
   {
    "duration": 5,
    "start_time": "2023-05-29T18:29:40.891Z"
   },
   {
    "duration": 8,
    "start_time": "2023-05-29T18:29:40.898Z"
   },
   {
    "duration": 32,
    "start_time": "2023-05-29T18:29:40.909Z"
   },
   {
    "duration": 2178,
    "start_time": "2023-05-29T18:29:40.943Z"
   },
   {
    "duration": 12,
    "start_time": "2023-05-29T18:29:43.122Z"
   },
   {
    "duration": 3,
    "start_time": "2023-05-29T18:29:43.136Z"
   },
   {
    "duration": 46,
    "start_time": "2023-05-29T18:29:43.141Z"
   },
   {
    "duration": 53,
    "start_time": "2023-05-29T18:29:43.189Z"
   },
   {
    "duration": 323,
    "start_time": "2023-05-29T18:29:43.244Z"
   },
   {
    "duration": 7,
    "start_time": "2023-05-29T18:29:43.569Z"
   },
   {
    "duration": 6,
    "start_time": "2023-05-29T18:29:43.578Z"
   },
   {
    "duration": 18,
    "start_time": "2023-05-29T18:29:43.587Z"
   },
   {
    "duration": 14,
    "start_time": "2023-05-29T18:29:43.606Z"
   },
   {
    "duration": 4,
    "start_time": "2023-05-29T18:29:43.621Z"
   },
   {
    "duration": 13,
    "start_time": "2023-05-29T18:29:43.626Z"
   },
   {
    "duration": 8,
    "start_time": "2023-05-29T18:29:43.640Z"
   },
   {
    "duration": 7,
    "start_time": "2023-05-29T18:29:43.650Z"
   },
   {
    "duration": 8,
    "start_time": "2023-05-29T18:29:43.658Z"
   },
   {
    "duration": 36,
    "start_time": "2023-05-29T18:29:43.668Z"
   },
   {
    "duration": 54,
    "start_time": "2023-05-29T18:29:43.717Z"
   },
   {
    "duration": 401,
    "start_time": "2023-05-29T18:29:43.773Z"
   },
   {
    "duration": 2934,
    "start_time": "2023-05-29T18:29:44.175Z"
   },
   {
    "duration": 6,
    "start_time": "2023-05-29T18:29:47.111Z"
   },
   {
    "duration": 2,
    "start_time": "2023-05-29T18:29:47.119Z"
   },
   {
    "duration": 23,
    "start_time": "2023-05-29T18:29:47.123Z"
   },
   {
    "duration": 248,
    "start_time": "2023-05-29T18:29:47.147Z"
   },
   {
    "duration": 4,
    "start_time": "2023-05-29T18:29:47.397Z"
   },
   {
    "duration": 15,
    "start_time": "2023-05-29T18:29:47.403Z"
   },
   {
    "duration": 4,
    "start_time": "2023-05-29T18:29:47.420Z"
   },
   {
    "duration": 7,
    "start_time": "2023-05-29T18:29:47.425Z"
   },
   {
    "duration": 9,
    "start_time": "2023-05-29T18:29:47.434Z"
   },
   {
    "duration": 12,
    "start_time": "2023-05-29T18:29:47.445Z"
   },
   {
    "duration": 9,
    "start_time": "2023-05-29T18:29:47.459Z"
   },
   {
    "duration": 5,
    "start_time": "2023-05-29T18:29:47.470Z"
   },
   {
    "duration": 6,
    "start_time": "2023-05-29T18:29:47.476Z"
   },
   {
    "duration": 3,
    "start_time": "2023-05-29T18:29:47.484Z"
   },
   {
    "duration": 7,
    "start_time": "2023-05-29T18:29:47.489Z"
   },
   {
    "duration": 32,
    "start_time": "2023-05-29T18:29:47.497Z"
   },
   {
    "duration": 16,
    "start_time": "2023-05-29T18:29:47.533Z"
   },
   {
    "duration": 21,
    "start_time": "2023-05-29T18:29:47.551Z"
   },
   {
    "duration": 2123,
    "start_time": "2023-05-29T18:38:25.887Z"
   },
   {
    "duration": 4911,
    "start_time": "2023-05-29T18:38:28.012Z"
   },
   {
    "duration": 6,
    "start_time": "2023-05-29T18:38:32.924Z"
   },
   {
    "duration": 4,
    "start_time": "2023-05-29T18:38:32.932Z"
   },
   {
    "duration": 24,
    "start_time": "2023-05-29T18:38:32.938Z"
   },
   {
    "duration": 2411,
    "start_time": "2023-05-29T18:38:32.964Z"
   },
   {
    "duration": 11,
    "start_time": "2023-05-29T18:38:35.376Z"
   },
   {
    "duration": 7,
    "start_time": "2023-05-29T18:38:35.389Z"
   },
   {
    "duration": 56,
    "start_time": "2023-05-29T18:38:35.397Z"
   },
   {
    "duration": 38,
    "start_time": "2023-05-29T18:38:35.455Z"
   },
   {
    "duration": 318,
    "start_time": "2023-05-29T18:38:35.495Z"
   },
   {
    "duration": 9,
    "start_time": "2023-05-29T18:38:35.817Z"
   },
   {
    "duration": 30,
    "start_time": "2023-05-29T18:38:35.828Z"
   },
   {
    "duration": 4,
    "start_time": "2023-05-29T18:38:35.861Z"
   },
   {
    "duration": 5,
    "start_time": "2023-05-29T18:38:35.866Z"
   },
   {
    "duration": 4,
    "start_time": "2023-05-29T18:38:35.873Z"
   },
   {
    "duration": 40,
    "start_time": "2023-05-29T18:38:35.879Z"
   },
   {
    "duration": 12,
    "start_time": "2023-05-29T18:38:35.921Z"
   },
   {
    "duration": 23,
    "start_time": "2023-05-29T18:38:35.935Z"
   },
   {
    "duration": 15,
    "start_time": "2023-05-29T18:38:35.959Z"
   },
   {
    "duration": 68,
    "start_time": "2023-05-29T18:38:35.976Z"
   },
   {
    "duration": 66,
    "start_time": "2023-05-29T18:38:36.046Z"
   },
   {
    "duration": 391,
    "start_time": "2023-05-29T18:38:36.114Z"
   },
   {
    "duration": 2756,
    "start_time": "2023-05-29T18:38:36.507Z"
   },
   {
    "duration": 2,
    "start_time": "2023-05-29T18:38:39.265Z"
   },
   {
    "duration": 10,
    "start_time": "2023-05-29T18:38:39.268Z"
   },
   {
    "duration": 27,
    "start_time": "2023-05-29T18:38:39.279Z"
   },
   {
    "duration": 282,
    "start_time": "2023-05-29T18:38:39.307Z"
   },
   {
    "duration": 4,
    "start_time": "2023-05-29T18:38:39.591Z"
   },
   {
    "duration": 6,
    "start_time": "2023-05-29T18:38:39.596Z"
   },
   {
    "duration": 10,
    "start_time": "2023-05-29T18:38:39.603Z"
   },
   {
    "duration": 17,
    "start_time": "2023-05-29T18:38:39.614Z"
   },
   {
    "duration": 14,
    "start_time": "2023-05-29T18:38:39.632Z"
   },
   {
    "duration": 6,
    "start_time": "2023-05-29T18:38:39.648Z"
   },
   {
    "duration": 15,
    "start_time": "2023-05-29T18:38:39.655Z"
   },
   {
    "duration": 9,
    "start_time": "2023-05-29T18:38:39.672Z"
   },
   {
    "duration": 16,
    "start_time": "2023-05-29T18:38:39.683Z"
   },
   {
    "duration": 4,
    "start_time": "2023-05-29T18:38:39.700Z"
   },
   {
    "duration": 4,
    "start_time": "2023-05-29T18:38:39.705Z"
   },
   {
    "duration": 5,
    "start_time": "2023-05-29T18:38:39.711Z"
   },
   {
    "duration": 7,
    "start_time": "2023-05-29T18:38:39.719Z"
   },
   {
    "duration": 6,
    "start_time": "2023-05-29T18:38:39.727Z"
   },
   {
    "duration": 2045,
    "start_time": "2023-05-29T18:39:52.059Z"
   },
   {
    "duration": 3962,
    "start_time": "2023-05-29T18:39:54.106Z"
   },
   {
    "duration": 6,
    "start_time": "2023-05-29T18:39:58.070Z"
   },
   {
    "duration": 13,
    "start_time": "2023-05-29T18:39:58.078Z"
   },
   {
    "duration": 33,
    "start_time": "2023-05-29T18:39:58.092Z"
   },
   {
    "duration": 2155,
    "start_time": "2023-05-29T18:39:58.126Z"
   },
   {
    "duration": 15,
    "start_time": "2023-05-29T18:40:00.283Z"
   },
   {
    "duration": 37,
    "start_time": "2023-05-29T18:40:00.300Z"
   },
   {
    "duration": 122,
    "start_time": "2023-05-29T18:40:00.338Z"
   },
   {
    "duration": 68,
    "start_time": "2023-05-29T18:40:00.463Z"
   },
   {
    "duration": 395,
    "start_time": "2023-05-29T18:40:00.533Z"
   },
   {
    "duration": 11,
    "start_time": "2023-05-29T18:40:00.930Z"
   },
   {
    "duration": 47,
    "start_time": "2023-05-29T18:40:00.943Z"
   },
   {
    "duration": 40,
    "start_time": "2023-05-29T18:40:00.992Z"
   },
   {
    "duration": 49,
    "start_time": "2023-05-29T18:40:01.033Z"
   },
   {
    "duration": 68,
    "start_time": "2023-05-29T18:40:01.084Z"
   },
   {
    "duration": 38,
    "start_time": "2023-05-29T18:40:01.154Z"
   },
   {
    "duration": 41,
    "start_time": "2023-05-29T18:40:01.194Z"
   },
   {
    "duration": 40,
    "start_time": "2023-05-29T18:40:01.237Z"
   },
   {
    "duration": 37,
    "start_time": "2023-05-29T18:40:01.278Z"
   },
   {
    "duration": 73,
    "start_time": "2023-05-29T18:40:01.317Z"
   },
   {
    "duration": 93,
    "start_time": "2023-05-29T18:40:01.392Z"
   },
   {
    "duration": 466,
    "start_time": "2023-05-29T18:40:01.487Z"
   },
   {
    "duration": 2867,
    "start_time": "2023-05-29T18:40:01.954Z"
   },
   {
    "duration": 2,
    "start_time": "2023-05-29T18:40:04.823Z"
   },
   {
    "duration": 20,
    "start_time": "2023-05-29T18:40:04.827Z"
   },
   {
    "duration": 43,
    "start_time": "2023-05-29T18:40:04.849Z"
   },
   {
    "duration": 314,
    "start_time": "2023-05-29T18:40:04.896Z"
   },
   {
    "duration": 5,
    "start_time": "2023-05-29T18:40:05.212Z"
   },
   {
    "duration": 12,
    "start_time": "2023-05-29T18:40:05.219Z"
   },
   {
    "duration": 11,
    "start_time": "2023-05-29T18:40:05.232Z"
   },
   {
    "duration": 12,
    "start_time": "2023-05-29T18:40:05.245Z"
   },
   {
    "duration": 16,
    "start_time": "2023-05-29T18:40:05.258Z"
   },
   {
    "duration": 14,
    "start_time": "2023-05-29T18:40:05.276Z"
   },
   {
    "duration": 31,
    "start_time": "2023-05-29T18:40:05.291Z"
   },
   {
    "duration": 20,
    "start_time": "2023-05-29T18:40:05.324Z"
   },
   {
    "duration": 25,
    "start_time": "2023-05-29T18:40:05.346Z"
   },
   {
    "duration": 12,
    "start_time": "2023-05-29T18:40:05.372Z"
   },
   {
    "duration": 21,
    "start_time": "2023-05-29T18:40:05.386Z"
   },
   {
    "duration": 14,
    "start_time": "2023-05-29T18:40:05.408Z"
   },
   {
    "duration": 2,
    "start_time": "2023-05-29T18:40:09.512Z"
   },
   {
    "duration": 2,
    "start_time": "2023-05-29T18:40:10.072Z"
   },
   {
    "duration": 2119,
    "start_time": "2023-05-29T18:44:53.909Z"
   },
   {
    "duration": 2000,
    "start_time": "2023-05-29T18:44:56.030Z"
   },
   {
    "duration": 4,
    "start_time": "2023-05-29T18:44:58.031Z"
   },
   {
    "duration": 8,
    "start_time": "2023-05-29T18:44:58.038Z"
   },
   {
    "duration": 35,
    "start_time": "2023-05-29T18:44:58.047Z"
   },
   {
    "duration": 2269,
    "start_time": "2023-05-29T18:44:58.084Z"
   },
   {
    "duration": 13,
    "start_time": "2023-05-29T18:45:00.356Z"
   },
   {
    "duration": 33,
    "start_time": "2023-05-29T18:45:00.371Z"
   },
   {
    "duration": 97,
    "start_time": "2023-05-29T18:45:00.406Z"
   },
   {
    "duration": 57,
    "start_time": "2023-05-29T18:45:00.505Z"
   },
   {
    "duration": 358,
    "start_time": "2023-05-29T18:45:00.564Z"
   },
   {
    "duration": 7,
    "start_time": "2023-05-29T18:45:00.924Z"
   },
   {
    "duration": 92,
    "start_time": "2023-05-29T18:45:00.932Z"
   },
   {
    "duration": 41,
    "start_time": "2023-05-29T18:45:01.026Z"
   },
   {
    "duration": 15,
    "start_time": "2023-05-29T18:45:01.068Z"
   },
   {
    "duration": 16,
    "start_time": "2023-05-29T18:45:01.084Z"
   },
   {
    "duration": 9,
    "start_time": "2023-05-29T18:45:01.102Z"
   },
   {
    "duration": 6,
    "start_time": "2023-05-29T18:45:01.113Z"
   },
   {
    "duration": 35,
    "start_time": "2023-05-29T18:45:01.121Z"
   },
   {
    "duration": 20,
    "start_time": "2023-05-29T18:45:01.158Z"
   },
   {
    "duration": 47,
    "start_time": "2023-05-29T18:45:01.180Z"
   },
   {
    "duration": 61,
    "start_time": "2023-05-29T18:45:01.229Z"
   },
   {
    "duration": 420,
    "start_time": "2023-05-29T18:45:01.292Z"
   },
   {
    "duration": 2817,
    "start_time": "2023-05-29T18:45:01.714Z"
   },
   {
    "duration": 2,
    "start_time": "2023-05-29T18:45:04.533Z"
   },
   {
    "duration": 34,
    "start_time": "2023-05-29T18:45:04.537Z"
   },
   {
    "duration": 56,
    "start_time": "2023-05-29T18:45:04.572Z"
   },
   {
    "duration": 291,
    "start_time": "2023-05-29T18:45:04.633Z"
   },
   {
    "duration": 4,
    "start_time": "2023-05-29T18:45:04.926Z"
   },
   {
    "duration": 5,
    "start_time": "2023-05-29T18:45:04.931Z"
   },
   {
    "duration": 7,
    "start_time": "2023-05-29T18:45:04.937Z"
   },
   {
    "duration": 8,
    "start_time": "2023-05-29T18:45:04.945Z"
   },
   {
    "duration": 8,
    "start_time": "2023-05-29T18:45:04.954Z"
   },
   {
    "duration": 5,
    "start_time": "2023-05-29T18:45:04.965Z"
   },
   {
    "duration": 7,
    "start_time": "2023-05-29T18:45:04.972Z"
   },
   {
    "duration": 7,
    "start_time": "2023-05-29T18:45:04.981Z"
   },
   {
    "duration": 6,
    "start_time": "2023-05-29T18:45:04.990Z"
   },
   {
    "duration": 3,
    "start_time": "2023-05-29T18:45:05.017Z"
   },
   {
    "duration": 5,
    "start_time": "2023-05-29T18:45:05.021Z"
   },
   {
    "duration": 14,
    "start_time": "2023-05-29T18:45:05.028Z"
   },
   {
    "duration": 2,
    "start_time": "2023-05-29T18:45:11.503Z"
   },
   {
    "duration": 2,
    "start_time": "2023-05-29T18:45:12.004Z"
   },
   {
    "duration": 2097,
    "start_time": "2023-05-29T18:46:44.731Z"
   },
   {
    "duration": 2031,
    "start_time": "2023-05-29T18:46:46.830Z"
   },
   {
    "duration": 4,
    "start_time": "2023-05-29T18:46:48.863Z"
   },
   {
    "duration": 9,
    "start_time": "2023-05-29T18:46:48.869Z"
   },
   {
    "duration": 30,
    "start_time": "2023-05-29T18:46:48.879Z"
   },
   {
    "duration": 2257,
    "start_time": "2023-05-29T18:46:48.910Z"
   },
   {
    "duration": 12,
    "start_time": "2023-05-29T18:46:51.169Z"
   },
   {
    "duration": 3,
    "start_time": "2023-05-29T18:46:51.183Z"
   },
   {
    "duration": 73,
    "start_time": "2023-05-29T18:46:51.188Z"
   },
   {
    "duration": 52,
    "start_time": "2023-05-29T18:46:51.265Z"
   },
   {
    "duration": 322,
    "start_time": "2023-05-29T18:46:51.319Z"
   },
   {
    "duration": 10,
    "start_time": "2023-05-29T18:46:51.642Z"
   },
   {
    "duration": 10,
    "start_time": "2023-05-29T18:46:51.654Z"
   },
   {
    "duration": 11,
    "start_time": "2023-05-29T18:46:51.666Z"
   },
   {
    "duration": 6,
    "start_time": "2023-05-29T18:46:51.679Z"
   },
   {
    "duration": 5,
    "start_time": "2023-05-29T18:46:51.687Z"
   },
   {
    "duration": 27,
    "start_time": "2023-05-29T18:46:51.694Z"
   },
   {
    "duration": 13,
    "start_time": "2023-05-29T18:46:51.723Z"
   },
   {
    "duration": 37,
    "start_time": "2023-05-29T18:46:51.738Z"
   },
   {
    "duration": 19,
    "start_time": "2023-05-29T18:46:51.777Z"
   },
   {
    "duration": 46,
    "start_time": "2023-05-29T18:46:51.797Z"
   },
   {
    "duration": 69,
    "start_time": "2023-05-29T18:46:51.845Z"
   },
   {
    "duration": 394,
    "start_time": "2023-05-29T18:46:51.916Z"
   },
   {
    "duration": 2764,
    "start_time": "2023-05-29T18:46:52.312Z"
   },
   {
    "duration": 2,
    "start_time": "2023-05-29T18:46:55.078Z"
   },
   {
    "duration": 7,
    "start_time": "2023-05-29T18:46:55.081Z"
   },
   {
    "duration": 28,
    "start_time": "2023-05-29T18:46:55.089Z"
   },
   {
    "duration": 210,
    "start_time": "2023-05-29T18:46:55.120Z"
   },
   {
    "duration": 4,
    "start_time": "2023-05-29T18:46:55.332Z"
   },
   {
    "duration": 9,
    "start_time": "2023-05-29T18:46:55.337Z"
   },
   {
    "duration": 7,
    "start_time": "2023-05-29T18:46:55.347Z"
   },
   {
    "duration": 8,
    "start_time": "2023-05-29T18:46:55.355Z"
   },
   {
    "duration": 12,
    "start_time": "2023-05-29T18:46:55.364Z"
   },
   {
    "duration": 8,
    "start_time": "2023-05-29T18:46:55.378Z"
   },
   {
    "duration": 7,
    "start_time": "2023-05-29T18:46:55.388Z"
   },
   {
    "duration": 5,
    "start_time": "2023-05-29T18:46:55.396Z"
   },
   {
    "duration": 18,
    "start_time": "2023-05-29T18:46:55.403Z"
   },
   {
    "duration": 16,
    "start_time": "2023-05-29T18:46:55.422Z"
   },
   {
    "duration": 13,
    "start_time": "2023-05-29T18:46:55.439Z"
   },
   {
    "duration": 12,
    "start_time": "2023-05-29T18:46:55.454Z"
   },
   {
    "duration": 7,
    "start_time": "2023-05-29T18:46:55.467Z"
   },
   {
    "duration": 5,
    "start_time": "2023-05-29T18:46:55.475Z"
   },
   {
    "duration": 7,
    "start_time": "2023-05-29T18:46:55.481Z"
   },
   {
    "duration": 7,
    "start_time": "2023-05-29T18:46:55.489Z"
   },
   {
    "duration": 5,
    "start_time": "2023-05-29T18:46:55.497Z"
   },
   {
    "duration": 11,
    "start_time": "2023-05-29T18:46:55.504Z"
   },
   {
    "duration": 5,
    "start_time": "2023-05-29T18:46:55.517Z"
   },
   {
    "duration": 5,
    "start_time": "2023-05-29T18:46:55.523Z"
   },
   {
    "duration": 6,
    "start_time": "2023-05-29T18:46:55.529Z"
   },
   {
    "duration": 6,
    "start_time": "2023-05-29T18:46:55.536Z"
   },
   {
    "duration": 4,
    "start_time": "2023-05-29T18:46:55.543Z"
   },
   {
    "duration": 2058,
    "start_time": "2023-05-29T18:48:27.145Z"
   },
   {
    "duration": 2094,
    "start_time": "2023-05-29T18:48:29.206Z"
   },
   {
    "duration": 4,
    "start_time": "2023-05-29T18:48:31.302Z"
   },
   {
    "duration": 25,
    "start_time": "2023-05-29T18:48:31.308Z"
   },
   {
    "duration": 63,
    "start_time": "2023-05-29T18:48:31.335Z"
   },
   {
    "duration": 2207,
    "start_time": "2023-05-29T18:48:31.399Z"
   },
   {
    "duration": 15,
    "start_time": "2023-05-29T18:48:33.608Z"
   },
   {
    "duration": 4,
    "start_time": "2023-05-29T18:48:33.625Z"
   },
   {
    "duration": 48,
    "start_time": "2023-05-29T18:48:33.630Z"
   },
   {
    "duration": 43,
    "start_time": "2023-05-29T18:48:33.681Z"
   },
   {
    "duration": 316,
    "start_time": "2023-05-29T18:48:33.725Z"
   },
   {
    "duration": 8,
    "start_time": "2023-05-29T18:48:34.043Z"
   },
   {
    "duration": 7,
    "start_time": "2023-05-29T18:48:34.053Z"
   },
   {
    "duration": 3,
    "start_time": "2023-05-29T18:48:34.061Z"
   },
   {
    "duration": 18,
    "start_time": "2023-05-29T18:48:34.066Z"
   },
   {
    "duration": 15,
    "start_time": "2023-05-29T18:48:34.086Z"
   },
   {
    "duration": 5,
    "start_time": "2023-05-29T18:48:34.103Z"
   },
   {
    "duration": 6,
    "start_time": "2023-05-29T18:48:34.117Z"
   },
   {
    "duration": 46,
    "start_time": "2023-05-29T18:48:34.124Z"
   },
   {
    "duration": 9,
    "start_time": "2023-05-29T18:48:34.171Z"
   },
   {
    "duration": 41,
    "start_time": "2023-05-29T18:48:34.181Z"
   },
   {
    "duration": 51,
    "start_time": "2023-05-29T18:48:34.223Z"
   },
   {
    "duration": 418,
    "start_time": "2023-05-29T18:48:34.276Z"
   },
   {
    "duration": 2766,
    "start_time": "2023-05-29T18:48:34.696Z"
   },
   {
    "duration": 2,
    "start_time": "2023-05-29T18:48:37.464Z"
   },
   {
    "duration": 19,
    "start_time": "2023-05-29T18:48:37.468Z"
   },
   {
    "duration": 21,
    "start_time": "2023-05-29T18:48:37.488Z"
   },
   {
    "duration": 279,
    "start_time": "2023-05-29T18:48:37.517Z"
   },
   {
    "duration": 4,
    "start_time": "2023-05-29T18:48:37.797Z"
   },
   {
    "duration": 14,
    "start_time": "2023-05-29T18:48:37.803Z"
   },
   {
    "duration": 5,
    "start_time": "2023-05-29T18:48:37.818Z"
   },
   {
    "duration": 5,
    "start_time": "2023-05-29T18:48:37.824Z"
   },
   {
    "duration": 6,
    "start_time": "2023-05-29T18:48:37.830Z"
   },
   {
    "duration": 7,
    "start_time": "2023-05-29T18:48:37.837Z"
   },
   {
    "duration": 22,
    "start_time": "2023-05-29T18:48:37.845Z"
   },
   {
    "duration": 5,
    "start_time": "2023-05-29T18:48:37.868Z"
   },
   {
    "duration": 13,
    "start_time": "2023-05-29T18:48:37.875Z"
   },
   {
    "duration": 4,
    "start_time": "2023-05-29T18:48:37.890Z"
   },
   {
    "duration": 4,
    "start_time": "2023-05-29T18:48:37.895Z"
   },
   {
    "duration": 4,
    "start_time": "2023-05-29T18:48:37.900Z"
   },
   {
    "duration": 3,
    "start_time": "2023-05-29T18:48:37.906Z"
   },
   {
    "duration": 5,
    "start_time": "2023-05-29T18:48:37.918Z"
   },
   {
    "duration": 5,
    "start_time": "2023-05-29T18:48:37.924Z"
   },
   {
    "duration": 7,
    "start_time": "2023-05-29T18:48:37.930Z"
   },
   {
    "duration": 11,
    "start_time": "2023-05-29T18:48:37.938Z"
   },
   {
    "duration": 5,
    "start_time": "2023-05-29T18:48:37.950Z"
   },
   {
    "duration": 3,
    "start_time": "2023-05-29T18:48:37.956Z"
   },
   {
    "duration": 5,
    "start_time": "2023-05-29T18:48:37.961Z"
   },
   {
    "duration": 11,
    "start_time": "2023-05-29T18:48:37.967Z"
   },
   {
    "duration": 9,
    "start_time": "2023-05-29T18:48:37.980Z"
   },
   {
    "duration": 11,
    "start_time": "2023-05-29T18:48:37.990Z"
   },
   {
    "duration": 5,
    "start_time": "2023-05-29T18:48:38.002Z"
   },
   {
    "duration": 8,
    "start_time": "2023-05-29T18:48:38.009Z"
   },
   {
    "duration": 2,
    "start_time": "2023-05-29T18:48:38.019Z"
   },
   {
    "duration": 2081,
    "start_time": "2023-05-29T18:52:58.011Z"
   },
   {
    "duration": 2322,
    "start_time": "2023-05-29T18:53:00.094Z"
   },
   {
    "duration": 5,
    "start_time": "2023-05-29T18:53:02.418Z"
   },
   {
    "duration": 8,
    "start_time": "2023-05-29T18:53:02.425Z"
   },
   {
    "duration": 32,
    "start_time": "2023-05-29T18:53:02.436Z"
   },
   {
    "duration": 2561,
    "start_time": "2023-05-29T18:53:02.470Z"
   },
   {
    "duration": 13,
    "start_time": "2023-05-29T18:53:05.033Z"
   },
   {
    "duration": 115,
    "start_time": "2023-05-29T18:53:05.047Z"
   },
   {
    "duration": 50,
    "start_time": "2023-05-29T18:53:05.164Z"
   },
   {
    "duration": 45,
    "start_time": "2023-05-29T18:53:05.216Z"
   },
   {
    "duration": 365,
    "start_time": "2023-05-29T18:53:05.263Z"
   },
   {
    "duration": 7,
    "start_time": "2023-05-29T18:53:05.630Z"
   },
   {
    "duration": 7,
    "start_time": "2023-05-29T18:53:05.639Z"
   },
   {
    "duration": 6,
    "start_time": "2023-05-29T18:53:05.649Z"
   },
   {
    "duration": 8,
    "start_time": "2023-05-29T18:53:05.657Z"
   },
   {
    "duration": 9,
    "start_time": "2023-05-29T18:53:05.667Z"
   },
   {
    "duration": 17,
    "start_time": "2023-05-29T18:53:05.677Z"
   },
   {
    "duration": 25,
    "start_time": "2023-05-29T18:53:05.696Z"
   },
   {
    "duration": 15,
    "start_time": "2023-05-29T18:53:05.723Z"
   },
   {
    "duration": 10,
    "start_time": "2023-05-29T18:53:05.739Z"
   },
   {
    "duration": 45,
    "start_time": "2023-05-29T18:53:05.750Z"
   },
   {
    "duration": 71,
    "start_time": "2023-05-29T18:53:05.797Z"
   },
   {
    "duration": 420,
    "start_time": "2023-05-29T18:53:05.870Z"
   },
   {
    "duration": 2900,
    "start_time": "2023-05-29T18:53:06.291Z"
   },
   {
    "duration": 3,
    "start_time": "2023-05-29T18:53:09.192Z"
   },
   {
    "duration": 19,
    "start_time": "2023-05-29T18:53:09.196Z"
   },
   {
    "duration": 23,
    "start_time": "2023-05-29T18:53:09.216Z"
   },
   {
    "duration": 249,
    "start_time": "2023-05-29T18:53:09.241Z"
   },
   {
    "duration": 5,
    "start_time": "2023-05-29T18:53:09.491Z"
   },
   {
    "duration": 5,
    "start_time": "2023-05-29T18:53:09.498Z"
   },
   {
    "duration": 13,
    "start_time": "2023-05-29T18:53:09.505Z"
   },
   {
    "duration": 7,
    "start_time": "2023-05-29T18:53:09.520Z"
   },
   {
    "duration": 7,
    "start_time": "2023-05-29T18:53:09.529Z"
   },
   {
    "duration": 7,
    "start_time": "2023-05-29T18:53:09.538Z"
   },
   {
    "duration": 8,
    "start_time": "2023-05-29T18:53:09.547Z"
   },
   {
    "duration": 6,
    "start_time": "2023-05-29T18:53:09.556Z"
   },
   {
    "duration": 7,
    "start_time": "2023-05-29T18:53:09.563Z"
   },
   {
    "duration": 5,
    "start_time": "2023-05-29T18:53:09.571Z"
   },
   {
    "duration": 5,
    "start_time": "2023-05-29T18:53:09.578Z"
   },
   {
    "duration": 5,
    "start_time": "2023-05-29T18:53:09.584Z"
   },
   {
    "duration": 3,
    "start_time": "2023-05-29T18:53:09.617Z"
   },
   {
    "duration": 10,
    "start_time": "2023-05-29T18:53:09.622Z"
   },
   {
    "duration": 5,
    "start_time": "2023-05-29T18:53:09.633Z"
   },
   {
    "duration": 5,
    "start_time": "2023-05-29T18:53:09.640Z"
   },
   {
    "duration": 6,
    "start_time": "2023-05-29T18:53:09.646Z"
   },
   {
    "duration": 11,
    "start_time": "2023-05-29T18:53:09.653Z"
   },
   {
    "duration": 4,
    "start_time": "2023-05-29T18:53:09.665Z"
   },
   {
    "duration": 13,
    "start_time": "2023-05-29T18:53:09.670Z"
   },
   {
    "duration": 7,
    "start_time": "2023-05-29T18:53:09.686Z"
   },
   {
    "duration": 5,
    "start_time": "2023-05-29T18:53:09.695Z"
   },
   {
    "duration": 15,
    "start_time": "2023-05-29T18:53:09.702Z"
   },
   {
    "duration": 4,
    "start_time": "2023-05-29T18:53:09.718Z"
   },
   {
    "duration": 6,
    "start_time": "2023-05-29T18:53:09.723Z"
   },
   {
    "duration": 19,
    "start_time": "2023-05-29T18:53:09.730Z"
   },
   {
    "duration": 6,
    "start_time": "2023-05-29T18:53:09.750Z"
   },
   {
    "duration": 4,
    "start_time": "2023-05-29T18:53:09.758Z"
   },
   {
    "duration": 2114,
    "start_time": "2023-05-29T18:54:57.586Z"
   },
   {
    "duration": 2240,
    "start_time": "2023-05-29T18:54:59.703Z"
   },
   {
    "duration": 4,
    "start_time": "2023-05-29T18:55:01.945Z"
   },
   {
    "duration": 32,
    "start_time": "2023-05-29T18:55:01.950Z"
   },
   {
    "duration": 83,
    "start_time": "2023-05-29T18:55:01.985Z"
   },
   {
    "duration": 2531,
    "start_time": "2023-05-29T18:55:02.069Z"
   },
   {
    "duration": 27,
    "start_time": "2023-05-29T18:55:04.602Z"
   },
   {
    "duration": 12,
    "start_time": "2023-05-29T18:55:04.631Z"
   },
   {
    "duration": 60,
    "start_time": "2023-05-29T18:55:04.644Z"
   },
   {
    "duration": 43,
    "start_time": "2023-05-29T18:55:04.706Z"
   },
   {
    "duration": 370,
    "start_time": "2023-05-29T18:55:04.751Z"
   },
   {
    "duration": 13,
    "start_time": "2023-05-29T18:55:05.122Z"
   },
   {
    "duration": 7,
    "start_time": "2023-05-29T18:55:05.137Z"
   },
   {
    "duration": 9,
    "start_time": "2023-05-29T18:55:05.147Z"
   },
   {
    "duration": 7,
    "start_time": "2023-05-29T18:55:05.158Z"
   },
   {
    "duration": 8,
    "start_time": "2023-05-29T18:55:05.167Z"
   },
   {
    "duration": 11,
    "start_time": "2023-05-29T18:55:05.176Z"
   },
   {
    "duration": 11,
    "start_time": "2023-05-29T18:55:05.188Z"
   },
   {
    "duration": 7,
    "start_time": "2023-05-29T18:55:05.201Z"
   },
   {
    "duration": 20,
    "start_time": "2023-05-29T18:55:05.209Z"
   },
   {
    "duration": 42,
    "start_time": "2023-05-29T18:55:05.231Z"
   },
   {
    "duration": 65,
    "start_time": "2023-05-29T18:55:05.275Z"
   },
   {
    "duration": 408,
    "start_time": "2023-05-29T18:55:05.342Z"
   },
   {
    "duration": 2954,
    "start_time": "2023-05-29T18:55:05.752Z"
   },
   {
    "duration": 2,
    "start_time": "2023-05-29T18:55:08.708Z"
   },
   {
    "duration": 13,
    "start_time": "2023-05-29T18:55:08.717Z"
   },
   {
    "duration": 23,
    "start_time": "2023-05-29T18:55:08.731Z"
   },
   {
    "duration": 235,
    "start_time": "2023-05-29T18:55:08.756Z"
   },
   {
    "duration": 4,
    "start_time": "2023-05-29T18:55:08.993Z"
   },
   {
    "duration": 4,
    "start_time": "2023-05-29T18:55:08.999Z"
   },
   {
    "duration": 24,
    "start_time": "2023-05-29T18:55:09.004Z"
   },
   {
    "duration": 6,
    "start_time": "2023-05-29T18:55:09.030Z"
   },
   {
    "duration": 7,
    "start_time": "2023-05-29T18:55:09.038Z"
   },
   {
    "duration": 6,
    "start_time": "2023-05-29T18:55:09.047Z"
   },
   {
    "duration": 7,
    "start_time": "2023-05-29T18:55:09.055Z"
   },
   {
    "duration": 5,
    "start_time": "2023-05-29T18:55:09.063Z"
   },
   {
    "duration": 5,
    "start_time": "2023-05-29T18:55:09.070Z"
   },
   {
    "duration": 4,
    "start_time": "2023-05-29T18:55:09.076Z"
   },
   {
    "duration": 12,
    "start_time": "2023-05-29T18:55:09.082Z"
   },
   {
    "duration": 4,
    "start_time": "2023-05-29T18:55:09.096Z"
   },
   {
    "duration": 8,
    "start_time": "2023-05-29T18:55:09.125Z"
   },
   {
    "duration": 6,
    "start_time": "2023-05-29T18:55:09.135Z"
   },
   {
    "duration": 4,
    "start_time": "2023-05-29T18:55:09.143Z"
   },
   {
    "duration": 4,
    "start_time": "2023-05-29T18:55:09.148Z"
   },
   {
    "duration": 5,
    "start_time": "2023-05-29T18:55:09.154Z"
   },
   {
    "duration": 7,
    "start_time": "2023-05-29T18:55:09.160Z"
   },
   {
    "duration": 4,
    "start_time": "2023-05-29T18:55:09.168Z"
   },
   {
    "duration": 4,
    "start_time": "2023-05-29T18:55:09.174Z"
   },
   {
    "duration": 5,
    "start_time": "2023-05-29T18:55:09.179Z"
   },
   {
    "duration": 6,
    "start_time": "2023-05-29T18:55:09.185Z"
   },
   {
    "duration": 27,
    "start_time": "2023-05-29T18:55:09.192Z"
   },
   {
    "duration": 3,
    "start_time": "2023-05-29T18:55:09.229Z"
   },
   {
    "duration": 5,
    "start_time": "2023-05-29T18:55:09.233Z"
   },
   {
    "duration": 5,
    "start_time": "2023-05-29T18:55:09.239Z"
   },
   {
    "duration": 3,
    "start_time": "2023-05-29T18:55:09.246Z"
   },
   {
    "duration": 6,
    "start_time": "2023-05-29T18:55:09.251Z"
   },
   {
    "duration": 11,
    "start_time": "2023-05-29T18:55:09.258Z"
   },
   {
    "duration": 5,
    "start_time": "2023-05-29T18:55:09.271Z"
   },
   {
    "duration": 2653,
    "start_time": "2023-05-29T18:56:59.316Z"
   },
   {
    "duration": 2041,
    "start_time": "2023-05-29T18:57:01.971Z"
   },
   {
    "duration": 16,
    "start_time": "2023-05-29T18:57:04.014Z"
   },
   {
    "duration": 12,
    "start_time": "2023-05-29T18:57:04.033Z"
   },
   {
    "duration": 44,
    "start_time": "2023-05-29T18:57:04.046Z"
   },
   {
    "duration": 2440,
    "start_time": "2023-05-29T18:57:04.091Z"
   },
   {
    "duration": 12,
    "start_time": "2023-05-29T18:57:06.533Z"
   },
   {
    "duration": 15,
    "start_time": "2023-05-29T18:57:06.546Z"
   },
   {
    "duration": 69,
    "start_time": "2023-05-29T18:57:06.563Z"
   },
   {
    "duration": 58,
    "start_time": "2023-05-29T18:57:06.634Z"
   },
   {
    "duration": 342,
    "start_time": "2023-05-29T18:57:06.693Z"
   },
   {
    "duration": 8,
    "start_time": "2023-05-29T18:57:07.036Z"
   },
   {
    "duration": 27,
    "start_time": "2023-05-29T18:57:07.045Z"
   },
   {
    "duration": 30,
    "start_time": "2023-05-29T18:57:07.073Z"
   },
   {
    "duration": 32,
    "start_time": "2023-05-29T18:57:07.104Z"
   },
   {
    "duration": 17,
    "start_time": "2023-05-29T18:57:07.138Z"
   },
   {
    "duration": 28,
    "start_time": "2023-05-29T18:57:07.156Z"
   },
   {
    "duration": 22,
    "start_time": "2023-05-29T18:57:07.185Z"
   },
   {
    "duration": 37,
    "start_time": "2023-05-29T18:57:07.209Z"
   },
   {
    "duration": 27,
    "start_time": "2023-05-29T18:57:07.248Z"
   },
   {
    "duration": 52,
    "start_time": "2023-05-29T18:57:07.277Z"
   },
   {
    "duration": 64,
    "start_time": "2023-05-29T18:57:07.331Z"
   },
   {
    "duration": 416,
    "start_time": "2023-05-29T18:57:07.397Z"
   },
   {
    "duration": 2935,
    "start_time": "2023-05-29T18:57:07.815Z"
   },
   {
    "duration": 2,
    "start_time": "2023-05-29T18:57:10.751Z"
   },
   {
    "duration": 28,
    "start_time": "2023-05-29T18:57:10.755Z"
   },
   {
    "duration": 42,
    "start_time": "2023-05-29T18:57:10.785Z"
   },
   {
    "duration": 258,
    "start_time": "2023-05-29T18:57:10.831Z"
   },
   {
    "duration": 4,
    "start_time": "2023-05-29T18:57:11.090Z"
   },
   {
    "duration": 21,
    "start_time": "2023-05-29T18:57:11.095Z"
   },
   {
    "duration": 24,
    "start_time": "2023-05-29T18:57:11.128Z"
   },
   {
    "duration": 18,
    "start_time": "2023-05-29T18:57:11.154Z"
   },
   {
    "duration": 39,
    "start_time": "2023-05-29T18:57:11.173Z"
   },
   {
    "duration": 34,
    "start_time": "2023-05-29T18:57:11.213Z"
   },
   {
    "duration": 32,
    "start_time": "2023-05-29T18:57:11.249Z"
   },
   {
    "duration": 52,
    "start_time": "2023-05-29T18:57:11.283Z"
   },
   {
    "duration": 33,
    "start_time": "2023-05-29T18:57:11.337Z"
   },
   {
    "duration": 18,
    "start_time": "2023-05-29T18:57:11.372Z"
   },
   {
    "duration": 55,
    "start_time": "2023-05-29T18:57:11.392Z"
   },
   {
    "duration": 22,
    "start_time": "2023-05-29T18:57:11.448Z"
   },
   {
    "duration": 25,
    "start_time": "2023-05-29T18:57:11.472Z"
   },
   {
    "duration": 12,
    "start_time": "2023-05-29T18:57:11.499Z"
   },
   {
    "duration": 35,
    "start_time": "2023-05-29T18:57:11.513Z"
   },
   {
    "duration": 5,
    "start_time": "2023-05-29T18:57:11.550Z"
   },
   {
    "duration": 29,
    "start_time": "2023-05-29T18:57:11.556Z"
   },
   {
    "duration": 29,
    "start_time": "2023-05-29T18:57:11.587Z"
   },
   {
    "duration": 31,
    "start_time": "2023-05-29T18:57:11.617Z"
   },
   {
    "duration": 37,
    "start_time": "2023-05-29T18:57:11.650Z"
   },
   {
    "duration": 20,
    "start_time": "2023-05-29T18:57:11.688Z"
   },
   {
    "duration": 27,
    "start_time": "2023-05-29T18:57:11.709Z"
   },
   {
    "duration": 20,
    "start_time": "2023-05-29T18:57:11.737Z"
   },
   {
    "duration": 21,
    "start_time": "2023-05-29T18:57:11.759Z"
   },
   {
    "duration": 25,
    "start_time": "2023-05-29T18:57:11.781Z"
   },
   {
    "duration": 26,
    "start_time": "2023-05-29T18:57:11.807Z"
   },
   {
    "duration": 27,
    "start_time": "2023-05-29T18:57:11.835Z"
   },
   {
    "duration": 25,
    "start_time": "2023-05-29T18:57:11.863Z"
   },
   {
    "duration": 17,
    "start_time": "2023-05-29T18:57:11.890Z"
   },
   {
    "duration": 30,
    "start_time": "2023-05-29T18:57:11.908Z"
   },
   {
    "duration": 16,
    "start_time": "2023-05-29T18:57:11.940Z"
   },
   {
    "duration": 9,
    "start_time": "2023-05-29T18:57:11.957Z"
   },
   {
    "duration": 17,
    "start_time": "2023-05-29T18:57:11.967Z"
   },
   {
    "duration": 2192,
    "start_time": "2023-05-29T18:59:02.541Z"
   },
   {
    "duration": 2113,
    "start_time": "2023-05-29T18:59:04.736Z"
   },
   {
    "duration": 4,
    "start_time": "2023-05-29T18:59:06.850Z"
   },
   {
    "duration": 6,
    "start_time": "2023-05-29T18:59:06.855Z"
   },
   {
    "duration": 41,
    "start_time": "2023-05-29T18:59:06.862Z"
   },
   {
    "duration": 2707,
    "start_time": "2023-05-29T18:59:06.905Z"
   },
   {
    "duration": 24,
    "start_time": "2023-05-29T18:59:09.613Z"
   },
   {
    "duration": 4,
    "start_time": "2023-05-29T18:59:09.639Z"
   },
   {
    "duration": 44,
    "start_time": "2023-05-29T18:59:09.644Z"
   },
   {
    "duration": 48,
    "start_time": "2023-05-29T18:59:09.691Z"
   },
   {
    "duration": 328,
    "start_time": "2023-05-29T18:59:09.740Z"
   },
   {
    "duration": 8,
    "start_time": "2023-05-29T18:59:10.069Z"
   },
   {
    "duration": 7,
    "start_time": "2023-05-29T18:59:10.079Z"
   },
   {
    "duration": 4,
    "start_time": "2023-05-29T18:59:10.087Z"
   },
   {
    "duration": 38,
    "start_time": "2023-05-29T18:59:10.093Z"
   },
   {
    "duration": 7,
    "start_time": "2023-05-29T18:59:10.133Z"
   },
   {
    "duration": 13,
    "start_time": "2023-05-29T18:59:10.141Z"
   },
   {
    "duration": 8,
    "start_time": "2023-05-29T18:59:10.155Z"
   },
   {
    "duration": 11,
    "start_time": "2023-05-29T18:59:10.165Z"
   },
   {
    "duration": 8,
    "start_time": "2023-05-29T18:59:10.177Z"
   },
   {
    "duration": 35,
    "start_time": "2023-05-29T18:59:10.186Z"
   },
   {
    "duration": 67,
    "start_time": "2023-05-29T18:59:10.222Z"
   },
   {
    "duration": 402,
    "start_time": "2023-05-29T18:59:10.291Z"
   },
   {
    "duration": 2918,
    "start_time": "2023-05-29T18:59:10.694Z"
   },
   {
    "duration": 11,
    "start_time": "2023-05-29T18:59:13.617Z"
   },
   {
    "duration": 2,
    "start_time": "2023-05-29T18:59:13.629Z"
   },
   {
    "duration": 30,
    "start_time": "2023-05-29T18:59:13.633Z"
   },
   {
    "duration": 264,
    "start_time": "2023-05-29T18:59:13.667Z"
   },
   {
    "duration": 5,
    "start_time": "2023-05-29T18:59:13.932Z"
   },
   {
    "duration": 20,
    "start_time": "2023-05-29T18:59:13.938Z"
   },
   {
    "duration": 5,
    "start_time": "2023-05-29T18:59:13.960Z"
   },
   {
    "duration": 5,
    "start_time": "2023-05-29T18:59:13.967Z"
   },
   {
    "duration": 6,
    "start_time": "2023-05-29T18:59:13.974Z"
   },
   {
    "duration": 6,
    "start_time": "2023-05-29T18:59:13.981Z"
   },
   {
    "duration": 6,
    "start_time": "2023-05-29T18:59:13.988Z"
   },
   {
    "duration": 5,
    "start_time": "2023-05-29T18:59:13.995Z"
   },
   {
    "duration": 27,
    "start_time": "2023-05-29T18:59:14.001Z"
   },
   {
    "duration": 5,
    "start_time": "2023-05-29T18:59:14.030Z"
   },
   {
    "duration": 8,
    "start_time": "2023-05-29T18:59:14.036Z"
   },
   {
    "duration": 6,
    "start_time": "2023-05-29T18:59:14.046Z"
   },
   {
    "duration": 6,
    "start_time": "2023-05-29T18:59:14.053Z"
   },
   {
    "duration": 6,
    "start_time": "2023-05-29T18:59:14.060Z"
   },
   {
    "duration": 5,
    "start_time": "2023-05-29T18:59:14.067Z"
   },
   {
    "duration": 6,
    "start_time": "2023-05-29T18:59:14.073Z"
   },
   {
    "duration": 7,
    "start_time": "2023-05-29T18:59:14.080Z"
   },
   {
    "duration": 6,
    "start_time": "2023-05-29T18:59:14.088Z"
   },
   {
    "duration": 4,
    "start_time": "2023-05-29T18:59:14.096Z"
   },
   {
    "duration": 27,
    "start_time": "2023-05-29T18:59:14.102Z"
   },
   {
    "duration": 4,
    "start_time": "2023-05-29T18:59:14.131Z"
   },
   {
    "duration": 9,
    "start_time": "2023-05-29T18:59:14.137Z"
   },
   {
    "duration": 6,
    "start_time": "2023-05-29T18:59:14.148Z"
   },
   {
    "duration": 11,
    "start_time": "2023-05-29T18:59:14.155Z"
   },
   {
    "duration": 5,
    "start_time": "2023-05-29T18:59:14.167Z"
   },
   {
    "duration": 5,
    "start_time": "2023-05-29T18:59:14.174Z"
   },
   {
    "duration": 3,
    "start_time": "2023-05-29T18:59:14.180Z"
   },
   {
    "duration": 4,
    "start_time": "2023-05-29T18:59:14.185Z"
   },
   {
    "duration": 5,
    "start_time": "2023-05-29T18:59:14.190Z"
   },
   {
    "duration": 4,
    "start_time": "2023-05-29T18:59:14.197Z"
   },
   {
    "duration": 6,
    "start_time": "2023-05-29T18:59:14.202Z"
   },
   {
    "duration": 4,
    "start_time": "2023-05-29T18:59:14.223Z"
   },
   {
    "duration": 6,
    "start_time": "2023-05-29T18:59:14.229Z"
   },
   {
    "duration": 5,
    "start_time": "2023-05-29T18:59:14.237Z"
   },
   {
    "duration": 6,
    "start_time": "2023-05-29T18:59:14.243Z"
   },
   {
    "duration": 8,
    "start_time": "2023-05-29T18:59:14.250Z"
   },
   {
    "duration": 737593,
    "start_time": "2023-05-29T18:59:14.259Z"
   },
   {
    "duration": 3,
    "start_time": "2023-05-29T19:11:31.858Z"
   },
   {
    "duration": 75,
    "start_time": "2023-05-29T19:15:00.493Z"
   },
   {
    "duration": 6,
    "start_time": "2023-05-29T19:15:06.527Z"
   },
   {
    "duration": 2195,
    "start_time": "2023-05-29T19:16:23.302Z"
   },
   {
    "duration": 2159,
    "start_time": "2023-05-29T19:16:25.500Z"
   },
   {
    "duration": 5,
    "start_time": "2023-05-29T19:16:27.660Z"
   },
   {
    "duration": 13,
    "start_time": "2023-05-29T19:16:27.667Z"
   },
   {
    "duration": 44,
    "start_time": "2023-05-29T19:16:27.681Z"
   },
   {
    "duration": 2814,
    "start_time": "2023-05-29T19:16:27.727Z"
   },
   {
    "duration": 15,
    "start_time": "2023-05-29T19:16:30.543Z"
   },
   {
    "duration": 45,
    "start_time": "2023-05-29T19:16:30.561Z"
   },
   {
    "duration": 151,
    "start_time": "2023-05-29T19:16:30.608Z"
   },
   {
    "duration": 55,
    "start_time": "2023-05-29T19:16:30.763Z"
   },
   {
    "duration": 378,
    "start_time": "2023-05-29T19:16:30.820Z"
   },
   {
    "duration": 7,
    "start_time": "2023-05-29T19:16:31.200Z"
   },
   {
    "duration": 24,
    "start_time": "2023-05-29T19:16:31.217Z"
   },
   {
    "duration": 35,
    "start_time": "2023-05-29T19:16:31.243Z"
   },
   {
    "duration": 38,
    "start_time": "2023-05-29T19:16:31.279Z"
   },
   {
    "duration": 25,
    "start_time": "2023-05-29T19:16:31.319Z"
   },
   {
    "duration": 39,
    "start_time": "2023-05-29T19:16:31.346Z"
   },
   {
    "duration": 55,
    "start_time": "2023-05-29T19:16:31.386Z"
   },
   {
    "duration": 34,
    "start_time": "2023-05-29T19:16:31.443Z"
   },
   {
    "duration": 48,
    "start_time": "2023-05-29T19:16:31.479Z"
   },
   {
    "duration": 48,
    "start_time": "2023-05-29T19:16:31.529Z"
   },
   {
    "duration": 114,
    "start_time": "2023-05-29T19:16:31.579Z"
   },
   {
    "duration": 446,
    "start_time": "2023-05-29T19:16:31.694Z"
   },
   {
    "duration": 2998,
    "start_time": "2023-05-29T19:16:32.143Z"
   },
   {
    "duration": 2,
    "start_time": "2023-05-29T19:16:35.143Z"
   },
   {
    "duration": 8,
    "start_time": "2023-05-29T19:16:35.147Z"
   },
   {
    "duration": 47,
    "start_time": "2023-05-29T19:16:35.157Z"
   },
   {
    "duration": 234,
    "start_time": "2023-05-29T19:16:35.208Z"
   },
   {
    "duration": 4,
    "start_time": "2023-05-29T19:16:35.444Z"
   },
   {
    "duration": 24,
    "start_time": "2023-05-29T19:16:35.449Z"
   },
   {
    "duration": 9,
    "start_time": "2023-05-29T19:16:35.475Z"
   },
   {
    "duration": 6,
    "start_time": "2023-05-29T19:16:35.486Z"
   },
   {
    "duration": 28,
    "start_time": "2023-05-29T19:16:35.494Z"
   },
   {
    "duration": 25,
    "start_time": "2023-05-29T19:16:35.525Z"
   },
   {
    "duration": 38,
    "start_time": "2023-05-29T19:16:35.552Z"
   },
   {
    "duration": 14,
    "start_time": "2023-05-29T19:16:35.592Z"
   },
   {
    "duration": 30,
    "start_time": "2023-05-29T19:16:35.608Z"
   },
   {
    "duration": 34,
    "start_time": "2023-05-29T19:16:35.640Z"
   },
   {
    "duration": 17,
    "start_time": "2023-05-29T19:16:35.676Z"
   },
   {
    "duration": 25,
    "start_time": "2023-05-29T19:16:35.695Z"
   },
   {
    "duration": 21,
    "start_time": "2023-05-29T19:16:35.721Z"
   },
   {
    "duration": 22,
    "start_time": "2023-05-29T19:16:35.744Z"
   },
   {
    "duration": 708913,
    "start_time": "2023-05-29T19:16:35.768Z"
   },
   {
    "duration": 4,
    "start_time": "2023-05-29T19:28:24.683Z"
   },
   {
    "duration": 13,
    "start_time": "2023-05-29T19:28:24.689Z"
   },
   {
    "duration": 22,
    "start_time": "2023-05-29T19:28:24.704Z"
   },
   {
    "duration": 16,
    "start_time": "2023-05-29T19:28:24.728Z"
   },
   {
    "duration": 17,
    "start_time": "2023-05-29T19:28:24.746Z"
   },
   {
    "duration": 882874,
    "start_time": "2023-05-29T19:28:24.765Z"
   },
   {
    "duration": 3,
    "start_time": "2023-05-29T19:43:07.641Z"
   },
   {
    "duration": 6,
    "start_time": "2023-05-29T19:43:07.646Z"
   },
   {
    "duration": 7,
    "start_time": "2023-05-29T19:43:07.654Z"
   },
   {
    "duration": 4,
    "start_time": "2023-05-29T19:43:07.663Z"
   },
   {
    "duration": 10,
    "start_time": "2023-05-29T19:43:07.669Z"
   },
   {
    "duration": 2194,
    "start_time": "2023-05-29T20:03:30.620Z"
   },
   {
    "duration": 2159,
    "start_time": "2023-05-29T20:03:32.817Z"
   },
   {
    "duration": 4,
    "start_time": "2023-05-29T20:03:34.977Z"
   },
   {
    "duration": 12,
    "start_time": "2023-05-29T20:03:34.983Z"
   },
   {
    "duration": 48,
    "start_time": "2023-05-29T20:03:34.997Z"
   },
   {
    "duration": 2815,
    "start_time": "2023-05-29T20:03:35.047Z"
   },
   {
    "duration": 13,
    "start_time": "2023-05-29T20:03:37.864Z"
   },
   {
    "duration": 7,
    "start_time": "2023-05-29T20:03:37.879Z"
   },
   {
    "duration": 55,
    "start_time": "2023-05-29T20:03:37.887Z"
   },
   {
    "duration": 40,
    "start_time": "2023-05-29T20:03:37.944Z"
   },
   {
    "duration": 325,
    "start_time": "2023-05-29T20:03:37.986Z"
   },
   {
    "duration": 9,
    "start_time": "2023-05-29T20:03:38.313Z"
   },
   {
    "duration": 19,
    "start_time": "2023-05-29T20:03:38.323Z"
   },
   {
    "duration": 16,
    "start_time": "2023-05-29T20:03:38.346Z"
   },
   {
    "duration": 30,
    "start_time": "2023-05-29T20:03:38.363Z"
   },
   {
    "duration": 27,
    "start_time": "2023-05-29T20:03:38.395Z"
   },
   {
    "duration": 22,
    "start_time": "2023-05-29T20:03:38.423Z"
   },
   {
    "duration": 16,
    "start_time": "2023-05-29T20:03:38.446Z"
   },
   {
    "duration": 24,
    "start_time": "2023-05-29T20:03:38.464Z"
   },
   {
    "duration": 22,
    "start_time": "2023-05-29T20:03:38.490Z"
   },
   {
    "duration": 48,
    "start_time": "2023-05-29T20:03:38.514Z"
   },
   {
    "duration": 61,
    "start_time": "2023-05-29T20:03:38.563Z"
   },
   {
    "duration": 409,
    "start_time": "2023-05-29T20:03:38.626Z"
   },
   {
    "duration": 2933,
    "start_time": "2023-05-29T20:03:39.037Z"
   },
   {
    "duration": 3,
    "start_time": "2023-05-29T20:03:41.972Z"
   },
   {
    "duration": 6,
    "start_time": "2023-05-29T20:03:41.977Z"
   },
   {
    "duration": 46,
    "start_time": "2023-05-29T20:03:41.985Z"
   },
   {
    "duration": 295,
    "start_time": "2023-05-29T20:03:42.033Z"
   },
   {
    "duration": 4,
    "start_time": "2023-05-29T20:03:42.330Z"
   },
   {
    "duration": 9,
    "start_time": "2023-05-29T20:03:42.336Z"
   },
   {
    "duration": 7,
    "start_time": "2023-05-29T20:03:42.346Z"
   },
   {
    "duration": 8,
    "start_time": "2023-05-29T20:03:42.355Z"
   },
   {
    "duration": 7,
    "start_time": "2023-05-29T20:03:42.364Z"
   },
   {
    "duration": 8,
    "start_time": "2023-05-29T20:03:42.373Z"
   },
   {
    "duration": 10,
    "start_time": "2023-05-29T20:03:42.383Z"
   },
   {
    "duration": 5,
    "start_time": "2023-05-29T20:03:42.394Z"
   },
   {
    "duration": 20,
    "start_time": "2023-05-29T20:03:42.401Z"
   },
   {
    "duration": 5,
    "start_time": "2023-05-29T20:03:42.422Z"
   },
   {
    "duration": 4,
    "start_time": "2023-05-29T20:03:42.429Z"
   },
   {
    "duration": 8,
    "start_time": "2023-05-29T20:03:42.435Z"
   },
   {
    "duration": 13,
    "start_time": "2023-05-29T20:03:42.447Z"
   },
   {
    "duration": 7,
    "start_time": "2023-05-29T20:03:42.461Z"
   },
   {
    "duration": 310734,
    "start_time": "2023-05-29T20:03:42.469Z"
   },
   {
    "duration": 2112,
    "start_time": "2023-05-29T20:09:41.344Z"
   },
   {
    "duration": 2070,
    "start_time": "2023-05-29T20:09:43.458Z"
   },
   {
    "duration": 3,
    "start_time": "2023-05-29T20:09:45.529Z"
   },
   {
    "duration": 6,
    "start_time": "2023-05-29T20:09:45.534Z"
   },
   {
    "duration": 4,
    "start_time": "2023-05-29T20:09:45.542Z"
   },
   {
    "duration": 2375,
    "start_time": "2023-05-29T20:09:45.548Z"
   },
   {
    "duration": 15,
    "start_time": "2023-05-29T20:09:47.925Z"
   },
   {
    "duration": 3,
    "start_time": "2023-05-29T20:09:47.942Z"
   },
   {
    "duration": 47,
    "start_time": "2023-05-29T20:09:47.947Z"
   },
   {
    "duration": 51,
    "start_time": "2023-05-29T20:09:47.996Z"
   },
   {
    "duration": 330,
    "start_time": "2023-05-29T20:09:48.048Z"
   },
   {
    "duration": 11,
    "start_time": "2023-05-29T20:09:48.380Z"
   },
   {
    "duration": 25,
    "start_time": "2023-05-29T20:09:48.393Z"
   },
   {
    "duration": 4,
    "start_time": "2023-05-29T20:09:48.422Z"
   },
   {
    "duration": 14,
    "start_time": "2023-05-29T20:09:48.428Z"
   },
   {
    "duration": 4,
    "start_time": "2023-05-29T20:09:48.444Z"
   },
   {
    "duration": 6,
    "start_time": "2023-05-29T20:09:48.449Z"
   },
   {
    "duration": 7,
    "start_time": "2023-05-29T20:09:48.457Z"
   },
   {
    "duration": 5,
    "start_time": "2023-05-29T20:09:48.465Z"
   },
   {
    "duration": 11,
    "start_time": "2023-05-29T20:09:48.471Z"
   },
   {
    "duration": 64,
    "start_time": "2023-05-29T20:09:48.483Z"
   },
   {
    "duration": 71,
    "start_time": "2023-05-29T20:09:48.549Z"
   },
   {
    "duration": 409,
    "start_time": "2023-05-29T20:09:48.622Z"
   },
   {
    "duration": 2986,
    "start_time": "2023-05-29T20:09:49.033Z"
   },
   {
    "duration": 2,
    "start_time": "2023-05-29T20:09:52.021Z"
   },
   {
    "duration": 16,
    "start_time": "2023-05-29T20:09:52.025Z"
   },
   {
    "duration": 39,
    "start_time": "2023-05-29T20:09:52.043Z"
   },
   {
    "duration": 314,
    "start_time": "2023-05-29T20:09:52.084Z"
   },
   {
    "duration": 4,
    "start_time": "2023-05-29T20:09:52.399Z"
   },
   {
    "duration": 24,
    "start_time": "2023-05-29T20:09:52.405Z"
   },
   {
    "duration": 30,
    "start_time": "2023-05-29T20:09:52.430Z"
   },
   {
    "duration": 19,
    "start_time": "2023-05-29T20:09:52.462Z"
   },
   {
    "duration": 14,
    "start_time": "2023-05-29T20:09:52.482Z"
   },
   {
    "duration": 13,
    "start_time": "2023-05-29T20:09:52.498Z"
   },
   {
    "duration": 25,
    "start_time": "2023-05-29T20:09:52.513Z"
   },
   {
    "duration": 24,
    "start_time": "2023-05-29T20:09:52.540Z"
   },
   {
    "duration": 15,
    "start_time": "2023-05-29T20:09:52.566Z"
   },
   {
    "duration": 17,
    "start_time": "2023-05-29T20:09:52.583Z"
   },
   {
    "duration": 24,
    "start_time": "2023-05-29T20:09:52.602Z"
   },
   {
    "duration": 21,
    "start_time": "2023-05-29T20:09:52.628Z"
   },
   {
    "duration": 22,
    "start_time": "2023-05-29T20:09:52.652Z"
   },
   {
    "duration": 23,
    "start_time": "2023-05-29T20:09:52.676Z"
   },
   {
    "duration": 236985,
    "start_time": "2023-05-29T20:09:52.701Z"
   },
   {
    "duration": 3,
    "start_time": "2023-05-29T20:15:10.855Z"
   },
   {
    "duration": 2,
    "start_time": "2023-05-29T20:15:11.536Z"
   },
   {
    "duration": 3,
    "start_time": "2023-05-29T20:15:15.012Z"
   },
   {
    "duration": 2,
    "start_time": "2023-05-29T20:15:15.741Z"
   },
   {
    "duration": 2,
    "start_time": "2023-05-29T20:15:16.819Z"
   },
   {
    "duration": 4,
    "start_time": "2023-05-29T20:15:17.420Z"
   },
   {
    "duration": 257709,
    "start_time": "2023-05-29T20:15:20.256Z"
   },
   {
    "duration": 2034,
    "start_time": "2023-05-29T20:19:45.965Z"
   },
   {
    "duration": 2113,
    "start_time": "2023-05-29T20:19:48.001Z"
   },
   {
    "duration": 4,
    "start_time": "2023-05-29T20:19:50.116Z"
   },
   {
    "duration": 10,
    "start_time": "2023-05-29T20:19:50.122Z"
   },
   {
    "duration": 10,
    "start_time": "2023-05-29T20:19:50.134Z"
   },
   {
    "duration": 2841,
    "start_time": "2023-05-29T20:19:50.146Z"
   },
   {
    "duration": 13,
    "start_time": "2023-05-29T20:19:52.989Z"
   },
   {
    "duration": 21,
    "start_time": "2023-05-29T20:19:53.004Z"
   },
   {
    "duration": 68,
    "start_time": "2023-05-29T20:19:53.026Z"
   },
   {
    "duration": 42,
    "start_time": "2023-05-29T20:19:53.096Z"
   },
   {
    "duration": 329,
    "start_time": "2023-05-29T20:19:53.140Z"
   },
   {
    "duration": 8,
    "start_time": "2023-05-29T20:19:53.471Z"
   },
   {
    "duration": 29,
    "start_time": "2023-05-29T20:19:53.480Z"
   },
   {
    "duration": 10,
    "start_time": "2023-05-29T20:19:53.512Z"
   },
   {
    "duration": 11,
    "start_time": "2023-05-29T20:19:53.523Z"
   },
   {
    "duration": 20,
    "start_time": "2023-05-29T20:19:53.535Z"
   },
   {
    "duration": 40,
    "start_time": "2023-05-29T20:19:53.557Z"
   },
   {
    "duration": 35,
    "start_time": "2023-05-29T20:19:53.599Z"
   },
   {
    "duration": 9,
    "start_time": "2023-05-29T20:19:53.638Z"
   },
   {
    "duration": 39,
    "start_time": "2023-05-29T20:19:53.648Z"
   },
   {
    "duration": 50,
    "start_time": "2023-05-29T20:19:53.688Z"
   },
   {
    "duration": 61,
    "start_time": "2023-05-29T20:19:53.739Z"
   },
   {
    "duration": 405,
    "start_time": "2023-05-29T20:19:53.802Z"
   },
   {
    "duration": 2844,
    "start_time": "2023-05-29T20:19:54.209Z"
   },
   {
    "duration": 2,
    "start_time": "2023-05-29T20:19:57.054Z"
   },
   {
    "duration": 6,
    "start_time": "2023-05-29T20:19:57.057Z"
   },
   {
    "duration": 25,
    "start_time": "2023-05-29T20:19:57.064Z"
   },
   {
    "duration": 298,
    "start_time": "2023-05-29T20:19:57.090Z"
   },
   {
    "duration": 4,
    "start_time": "2023-05-29T20:19:57.389Z"
   },
   {
    "duration": 16,
    "start_time": "2023-05-29T20:19:57.395Z"
   },
   {
    "duration": 13,
    "start_time": "2023-05-29T20:19:57.413Z"
   },
   {
    "duration": 18,
    "start_time": "2023-05-29T20:19:57.428Z"
   },
   {
    "duration": 22,
    "start_time": "2023-05-29T20:19:57.448Z"
   },
   {
    "duration": 8,
    "start_time": "2023-05-29T20:19:57.472Z"
   },
   {
    "duration": 12,
    "start_time": "2023-05-29T20:19:57.481Z"
   },
   {
    "duration": 6,
    "start_time": "2023-05-29T20:19:57.494Z"
   },
   {
    "duration": 22,
    "start_time": "2023-05-29T20:19:57.502Z"
   },
   {
    "duration": 6,
    "start_time": "2023-05-29T20:19:57.525Z"
   },
   {
    "duration": 8,
    "start_time": "2023-05-29T20:19:57.532Z"
   },
   {
    "duration": 8,
    "start_time": "2023-05-29T20:19:57.541Z"
   },
   {
    "duration": 6,
    "start_time": "2023-05-29T20:19:57.552Z"
   },
   {
    "duration": 7,
    "start_time": "2023-05-29T20:19:57.560Z"
   },
   {
    "duration": 47761,
    "start_time": "2023-05-29T20:19:57.568Z"
   },
   {
    "duration": 2048,
    "start_time": "2023-05-29T20:20:57.337Z"
   },
   {
    "duration": 2158,
    "start_time": "2023-05-29T20:20:59.387Z"
   },
   {
    "duration": 4,
    "start_time": "2023-05-29T20:21:01.547Z"
   },
   {
    "duration": 106,
    "start_time": "2023-05-29T20:21:01.552Z"
   },
   {
    "duration": 85,
    "start_time": "2023-05-29T20:21:01.661Z"
   },
   {
    "duration": 2410,
    "start_time": "2023-05-29T20:21:01.748Z"
   },
   {
    "duration": 13,
    "start_time": "2023-05-29T20:21:04.159Z"
   },
   {
    "duration": 3,
    "start_time": "2023-05-29T20:21:04.174Z"
   },
   {
    "duration": 54,
    "start_time": "2023-05-29T20:21:04.179Z"
   },
   {
    "duration": 36,
    "start_time": "2023-05-29T20:21:04.235Z"
   },
   {
    "duration": 338,
    "start_time": "2023-05-29T20:21:04.272Z"
   },
   {
    "duration": 9,
    "start_time": "2023-05-29T20:21:04.612Z"
   },
   {
    "duration": 6,
    "start_time": "2023-05-29T20:21:04.623Z"
   },
   {
    "duration": 12,
    "start_time": "2023-05-29T20:21:04.632Z"
   },
   {
    "duration": 11,
    "start_time": "2023-05-29T20:21:04.645Z"
   },
   {
    "duration": 7,
    "start_time": "2023-05-29T20:21:04.657Z"
   },
   {
    "duration": 8,
    "start_time": "2023-05-29T20:21:04.666Z"
   },
   {
    "duration": 24,
    "start_time": "2023-05-29T20:21:04.676Z"
   },
   {
    "duration": 8,
    "start_time": "2023-05-29T20:21:04.702Z"
   },
   {
    "duration": 11,
    "start_time": "2023-05-29T20:21:04.711Z"
   },
   {
    "duration": 36,
    "start_time": "2023-05-29T20:21:04.724Z"
   },
   {
    "duration": 78,
    "start_time": "2023-05-29T20:21:04.763Z"
   },
   {
    "duration": 431,
    "start_time": "2023-05-29T20:21:04.843Z"
   },
   {
    "duration": 2890,
    "start_time": "2023-05-29T20:21:05.276Z"
   },
   {
    "duration": 2,
    "start_time": "2023-05-29T20:21:08.168Z"
   },
   {
    "duration": 11,
    "start_time": "2023-05-29T20:21:08.172Z"
   },
   {
    "duration": 41,
    "start_time": "2023-05-29T20:21:08.185Z"
   },
   {
    "duration": 309,
    "start_time": "2023-05-29T20:21:08.228Z"
   },
   {
    "duration": 5,
    "start_time": "2023-05-29T20:21:08.538Z"
   },
   {
    "duration": 6,
    "start_time": "2023-05-29T20:21:08.544Z"
   },
   {
    "duration": 4,
    "start_time": "2023-05-29T20:21:08.552Z"
   },
   {
    "duration": 6,
    "start_time": "2023-05-29T20:21:08.557Z"
   },
   {
    "duration": 9,
    "start_time": "2023-05-29T20:21:08.565Z"
   },
   {
    "duration": 6,
    "start_time": "2023-05-29T20:21:08.575Z"
   },
   {
    "duration": 14,
    "start_time": "2023-05-29T20:21:08.583Z"
   },
   {
    "duration": 21,
    "start_time": "2023-05-29T20:21:08.598Z"
   },
   {
    "duration": 8,
    "start_time": "2023-05-29T20:21:08.621Z"
   },
   {
    "duration": 5,
    "start_time": "2023-05-29T20:21:08.630Z"
   },
   {
    "duration": 11,
    "start_time": "2023-05-29T20:21:08.637Z"
   },
   {
    "duration": 5,
    "start_time": "2023-05-29T20:21:08.649Z"
   },
   {
    "duration": 5,
    "start_time": "2023-05-29T20:21:08.657Z"
   },
   {
    "duration": 7,
    "start_time": "2023-05-29T20:21:08.663Z"
   },
   {
    "duration": 288921,
    "start_time": "2023-05-29T20:21:08.671Z"
   },
   {
    "duration": 2096,
    "start_time": "2023-05-29T20:26:48.493Z"
   },
   {
    "duration": 2333,
    "start_time": "2023-05-29T20:26:50.591Z"
   },
   {
    "duration": 4,
    "start_time": "2023-05-29T20:26:52.925Z"
   },
   {
    "duration": 7,
    "start_time": "2023-05-29T20:26:52.930Z"
   },
   {
    "duration": 4,
    "start_time": "2023-05-29T20:26:52.939Z"
   },
   {
    "duration": 2294,
    "start_time": "2023-05-29T20:26:52.944Z"
   },
   {
    "duration": 15,
    "start_time": "2023-05-29T20:26:55.240Z"
   },
   {
    "duration": 4,
    "start_time": "2023-05-29T20:26:55.256Z"
   },
   {
    "duration": 59,
    "start_time": "2023-05-29T20:26:55.261Z"
   },
   {
    "duration": 37,
    "start_time": "2023-05-29T20:26:55.322Z"
   },
   {
    "duration": 333,
    "start_time": "2023-05-29T20:26:55.361Z"
   },
   {
    "duration": 7,
    "start_time": "2023-05-29T20:26:55.695Z"
   },
   {
    "duration": 16,
    "start_time": "2023-05-29T20:26:55.704Z"
   },
   {
    "duration": 4,
    "start_time": "2023-05-29T20:26:55.723Z"
   },
   {
    "duration": 10,
    "start_time": "2023-05-29T20:26:55.728Z"
   },
   {
    "duration": 13,
    "start_time": "2023-05-29T20:26:55.739Z"
   },
   {
    "duration": 11,
    "start_time": "2023-05-29T20:26:55.753Z"
   },
   {
    "duration": 15,
    "start_time": "2023-05-29T20:26:55.766Z"
   },
   {
    "duration": 18,
    "start_time": "2023-05-29T20:26:55.782Z"
   },
   {
    "duration": 13,
    "start_time": "2023-05-29T20:26:55.802Z"
   },
   {
    "duration": 44,
    "start_time": "2023-05-29T20:26:55.817Z"
   },
   {
    "duration": 63,
    "start_time": "2023-05-29T20:26:55.863Z"
   },
   {
    "duration": 411,
    "start_time": "2023-05-29T20:26:55.927Z"
   },
   {
    "duration": 2910,
    "start_time": "2023-05-29T20:26:56.340Z"
   },
   {
    "duration": 3,
    "start_time": "2023-05-29T20:26:59.252Z"
   },
   {
    "duration": 15,
    "start_time": "2023-05-29T20:26:59.257Z"
   },
   {
    "duration": 32,
    "start_time": "2023-05-29T20:26:59.274Z"
   },
   {
    "duration": 284,
    "start_time": "2023-05-29T20:26:59.308Z"
   },
   {
    "duration": 5,
    "start_time": "2023-05-29T20:26:59.593Z"
   },
   {
    "duration": 18,
    "start_time": "2023-05-29T20:26:59.599Z"
   },
   {
    "duration": 4,
    "start_time": "2023-05-29T20:26:59.619Z"
   },
   {
    "duration": 16,
    "start_time": "2023-05-29T20:26:59.625Z"
   },
   {
    "duration": 15,
    "start_time": "2023-05-29T20:26:59.643Z"
   },
   {
    "duration": 19,
    "start_time": "2023-05-29T20:26:59.660Z"
   },
   {
    "duration": 11,
    "start_time": "2023-05-29T20:26:59.681Z"
   },
   {
    "duration": 13,
    "start_time": "2023-05-29T20:26:59.694Z"
   },
   {
    "duration": 22,
    "start_time": "2023-05-29T20:26:59.708Z"
   },
   {
    "duration": 5,
    "start_time": "2023-05-29T20:26:59.732Z"
   },
   {
    "duration": 9,
    "start_time": "2023-05-29T20:26:59.738Z"
   },
   {
    "duration": 5,
    "start_time": "2023-05-29T20:26:59.748Z"
   },
   {
    "duration": 2,
    "start_time": "2023-05-29T20:26:59.756Z"
   },
   {
    "duration": 6,
    "start_time": "2023-05-29T20:26:59.760Z"
   },
   {
    "duration": 241402,
    "start_time": "2023-05-29T20:26:59.768Z"
   },
   {
    "duration": 2132,
    "start_time": "2023-05-29T20:32:49.520Z"
   },
   {
    "duration": 2017,
    "start_time": "2023-05-29T20:32:51.655Z"
   },
   {
    "duration": 4,
    "start_time": "2023-05-29T20:32:53.673Z"
   },
   {
    "duration": 6,
    "start_time": "2023-05-29T20:32:53.679Z"
   },
   {
    "duration": 8,
    "start_time": "2023-05-29T20:32:53.686Z"
   },
   {
    "duration": 2666,
    "start_time": "2023-05-29T20:32:53.695Z"
   },
   {
    "duration": 14,
    "start_time": "2023-05-29T20:32:56.363Z"
   },
   {
    "duration": 13,
    "start_time": "2023-05-29T20:32:56.379Z"
   },
   {
    "duration": 52,
    "start_time": "2023-05-29T20:32:56.393Z"
   },
   {
    "duration": 39,
    "start_time": "2023-05-29T20:32:56.448Z"
   },
   {
    "duration": 349,
    "start_time": "2023-05-29T20:32:56.488Z"
   },
   {
    "duration": 9,
    "start_time": "2023-05-29T20:32:56.839Z"
   },
   {
    "duration": 9,
    "start_time": "2023-05-29T20:32:56.849Z"
   },
   {
    "duration": 7,
    "start_time": "2023-05-29T20:32:56.860Z"
   },
   {
    "duration": 15,
    "start_time": "2023-05-29T20:32:56.869Z"
   },
   {
    "duration": 6,
    "start_time": "2023-05-29T20:32:56.886Z"
   },
   {
    "duration": 6,
    "start_time": "2023-05-29T20:32:56.894Z"
   },
   {
    "duration": 7,
    "start_time": "2023-05-29T20:32:56.918Z"
   },
   {
    "duration": 6,
    "start_time": "2023-05-29T20:32:56.926Z"
   },
   {
    "duration": 11,
    "start_time": "2023-05-29T20:32:56.933Z"
   },
   {
    "duration": 42,
    "start_time": "2023-05-29T20:32:56.946Z"
   },
   {
    "duration": 83,
    "start_time": "2023-05-29T20:32:56.990Z"
   },
   {
    "duration": 418,
    "start_time": "2023-05-29T20:32:57.075Z"
   },
   {
    "duration": 3038,
    "start_time": "2023-05-29T20:32:57.495Z"
   },
   {
    "duration": 3,
    "start_time": "2023-05-29T20:33:00.534Z"
   },
   {
    "duration": 66,
    "start_time": "2023-05-29T20:33:00.538Z"
   },
   {
    "duration": 73,
    "start_time": "2023-05-29T20:33:00.606Z"
   },
   {
    "duration": 310,
    "start_time": "2023-05-29T20:33:00.683Z"
   },
   {
    "duration": 4,
    "start_time": "2023-05-29T20:33:00.995Z"
   },
   {
    "duration": 25,
    "start_time": "2023-05-29T20:33:01.001Z"
   },
   {
    "duration": 50,
    "start_time": "2023-05-29T20:33:01.027Z"
   },
   {
    "duration": 38,
    "start_time": "2023-05-29T20:33:01.079Z"
   },
   {
    "duration": 25,
    "start_time": "2023-05-29T20:33:01.118Z"
   },
   {
    "duration": 48,
    "start_time": "2023-05-29T20:33:01.145Z"
   },
   {
    "duration": 70,
    "start_time": "2023-05-29T20:33:01.195Z"
   },
   {
    "duration": 34,
    "start_time": "2023-05-29T20:33:01.267Z"
   },
   {
    "duration": 45,
    "start_time": "2023-05-29T20:33:01.302Z"
   },
   {
    "duration": 80,
    "start_time": "2023-05-29T20:33:01.349Z"
   },
   {
    "duration": 41,
    "start_time": "2023-05-29T20:33:01.430Z"
   },
   {
    "duration": 43,
    "start_time": "2023-05-29T20:33:01.473Z"
   },
   {
    "duration": 42,
    "start_time": "2023-05-29T20:33:01.518Z"
   },
   {
    "duration": 60,
    "start_time": "2023-05-29T20:33:01.561Z"
   },
   {
    "duration": 219832,
    "start_time": "2023-05-29T20:33:01.622Z"
   },
   {
    "duration": 2147,
    "start_time": "2023-05-29T20:39:05.352Z"
   },
   {
    "duration": 2045,
    "start_time": "2023-05-29T20:39:07.501Z"
   },
   {
    "duration": 4,
    "start_time": "2023-05-29T20:39:09.547Z"
   },
   {
    "duration": 10,
    "start_time": "2023-05-29T20:39:09.552Z"
   },
   {
    "duration": 6,
    "start_time": "2023-05-29T20:39:09.563Z"
   },
   {
    "duration": 2581,
    "start_time": "2023-05-29T20:39:09.570Z"
   },
   {
    "duration": 12,
    "start_time": "2023-05-29T20:39:12.152Z"
   },
   {
    "duration": 4,
    "start_time": "2023-05-29T20:39:12.166Z"
   },
   {
    "duration": 52,
    "start_time": "2023-05-29T20:39:12.172Z"
   },
   {
    "duration": 37,
    "start_time": "2023-05-29T20:39:12.226Z"
   },
   {
    "duration": 342,
    "start_time": "2023-05-29T20:39:12.265Z"
   },
   {
    "duration": 12,
    "start_time": "2023-05-29T20:39:12.609Z"
   },
   {
    "duration": 6,
    "start_time": "2023-05-29T20:39:12.623Z"
   },
   {
    "duration": 3,
    "start_time": "2023-05-29T20:39:12.632Z"
   },
   {
    "duration": 5,
    "start_time": "2023-05-29T20:39:12.637Z"
   },
   {
    "duration": 5,
    "start_time": "2023-05-29T20:39:12.643Z"
   },
   {
    "duration": 5,
    "start_time": "2023-05-29T20:39:12.649Z"
   },
   {
    "duration": 9,
    "start_time": "2023-05-29T20:39:12.656Z"
   },
   {
    "duration": 11,
    "start_time": "2023-05-29T20:39:12.666Z"
   },
   {
    "duration": 19,
    "start_time": "2023-05-29T20:39:12.678Z"
   },
   {
    "duration": 51,
    "start_time": "2023-05-29T20:39:12.699Z"
   },
   {
    "duration": 72,
    "start_time": "2023-05-29T20:39:12.752Z"
   },
   {
    "duration": 412,
    "start_time": "2023-05-29T20:39:12.826Z"
   },
   {
    "duration": 3001,
    "start_time": "2023-05-29T20:39:13.239Z"
   },
   {
    "duration": 2,
    "start_time": "2023-05-29T20:39:16.242Z"
   },
   {
    "duration": 5,
    "start_time": "2023-05-29T20:39:16.245Z"
   },
   {
    "duration": 25,
    "start_time": "2023-05-29T20:39:16.251Z"
   },
   {
    "duration": 214,
    "start_time": "2023-05-29T20:39:16.277Z"
   },
   {
    "duration": 3,
    "start_time": "2023-05-29T20:39:16.493Z"
   },
   {
    "duration": 4,
    "start_time": "2023-05-29T20:39:16.498Z"
   },
   {
    "duration": 13,
    "start_time": "2023-05-29T20:39:16.504Z"
   },
   {
    "duration": 59,
    "start_time": "2023-05-29T20:39:16.519Z"
   },
   {
    "duration": 36,
    "start_time": "2023-05-29T20:39:16.579Z"
   },
   {
    "duration": 6,
    "start_time": "2023-05-29T20:39:16.617Z"
   },
   {
    "duration": 9,
    "start_time": "2023-05-29T20:39:16.624Z"
   },
   {
    "duration": 7,
    "start_time": "2023-05-29T20:39:16.635Z"
   },
   {
    "duration": 10,
    "start_time": "2023-05-29T20:39:16.643Z"
   },
   {
    "duration": 7,
    "start_time": "2023-05-29T20:39:16.654Z"
   },
   {
    "duration": 13,
    "start_time": "2023-05-29T20:39:16.663Z"
   },
   {
    "duration": 6,
    "start_time": "2023-05-29T20:39:16.678Z"
   },
   {
    "duration": 2166,
    "start_time": "2023-05-29T20:41:23.914Z"
   },
   {
    "duration": 3992,
    "start_time": "2023-05-29T20:41:26.082Z"
   },
   {
    "duration": 8,
    "start_time": "2023-05-29T20:41:30.076Z"
   },
   {
    "duration": 43,
    "start_time": "2023-05-29T20:41:30.087Z"
   },
   {
    "duration": 30,
    "start_time": "2023-05-29T20:41:30.131Z"
   },
   {
    "duration": 2606,
    "start_time": "2023-05-29T20:41:30.163Z"
   },
   {
    "duration": 13,
    "start_time": "2023-05-29T20:41:32.771Z"
   },
   {
    "duration": 20,
    "start_time": "2023-05-29T20:41:32.785Z"
   },
   {
    "duration": 52,
    "start_time": "2023-05-29T20:41:32.807Z"
   },
   {
    "duration": 52,
    "start_time": "2023-05-29T20:41:32.862Z"
   },
   {
    "duration": 326,
    "start_time": "2023-05-29T20:41:32.916Z"
   },
   {
    "duration": 7,
    "start_time": "2023-05-29T20:41:33.244Z"
   },
   {
    "duration": 6,
    "start_time": "2023-05-29T20:41:33.253Z"
   },
   {
    "duration": 3,
    "start_time": "2023-05-29T20:41:33.261Z"
   },
   {
    "duration": 12,
    "start_time": "2023-05-29T20:41:33.265Z"
   },
   {
    "duration": 10,
    "start_time": "2023-05-29T20:41:33.279Z"
   },
   {
    "duration": 29,
    "start_time": "2023-05-29T20:41:33.291Z"
   },
   {
    "duration": 6,
    "start_time": "2023-05-29T20:41:33.322Z"
   },
   {
    "duration": 6,
    "start_time": "2023-05-29T20:41:33.330Z"
   },
   {
    "duration": 17,
    "start_time": "2023-05-29T20:41:33.337Z"
   },
   {
    "duration": 41,
    "start_time": "2023-05-29T20:41:33.356Z"
   },
   {
    "duration": 71,
    "start_time": "2023-05-29T20:41:33.399Z"
   },
   {
    "duration": 413,
    "start_time": "2023-05-29T20:41:33.472Z"
   },
   {
    "duration": 2980,
    "start_time": "2023-05-29T20:41:33.887Z"
   },
   {
    "duration": 2,
    "start_time": "2023-05-29T20:41:36.869Z"
   },
   {
    "duration": 10,
    "start_time": "2023-05-29T20:41:36.873Z"
   },
   {
    "duration": 136,
    "start_time": "2023-05-29T20:41:36.885Z"
   },
   {
    "duration": 235,
    "start_time": "2023-05-29T20:41:37.026Z"
   },
   {
    "duration": 5,
    "start_time": "2023-05-29T20:41:37.262Z"
   },
   {
    "duration": 4,
    "start_time": "2023-05-29T20:41:37.269Z"
   },
   {
    "duration": 6,
    "start_time": "2023-05-29T20:41:37.274Z"
   },
   {
    "duration": 7,
    "start_time": "2023-05-29T20:41:37.281Z"
   },
   {
    "duration": 6,
    "start_time": "2023-05-29T20:41:37.289Z"
   },
   {
    "duration": 26,
    "start_time": "2023-05-29T20:41:37.297Z"
   },
   {
    "duration": 9,
    "start_time": "2023-05-29T20:41:37.325Z"
   },
   {
    "duration": 5,
    "start_time": "2023-05-29T20:41:37.336Z"
   },
   {
    "duration": 6,
    "start_time": "2023-05-29T20:41:37.343Z"
   },
   {
    "duration": 9,
    "start_time": "2023-05-29T20:41:37.351Z"
   },
   {
    "duration": 6,
    "start_time": "2023-05-29T20:41:37.362Z"
   },
   {
    "duration": 7,
    "start_time": "2023-05-29T20:41:37.370Z"
   },
   {
    "duration": 305567,
    "start_time": "2023-05-29T20:41:37.379Z"
   },
   {
    "duration": 2045,
    "start_time": "2023-05-29T20:47:41.396Z"
   },
   {
    "duration": 2022,
    "start_time": "2023-05-29T20:47:43.443Z"
   },
   {
    "duration": 3,
    "start_time": "2023-05-29T20:47:45.467Z"
   },
   {
    "duration": 9,
    "start_time": "2023-05-29T20:47:45.472Z"
   },
   {
    "duration": 7,
    "start_time": "2023-05-29T20:47:45.483Z"
   },
   {
    "duration": 2314,
    "start_time": "2023-05-29T20:47:45.492Z"
   },
   {
    "duration": 13,
    "start_time": "2023-05-29T20:47:47.808Z"
   },
   {
    "duration": 3,
    "start_time": "2023-05-29T20:47:47.822Z"
   },
   {
    "duration": 44,
    "start_time": "2023-05-29T20:47:47.826Z"
   },
   {
    "duration": 51,
    "start_time": "2023-05-29T20:47:47.872Z"
   },
   {
    "duration": 334,
    "start_time": "2023-05-29T20:47:47.925Z"
   },
   {
    "duration": 8,
    "start_time": "2023-05-29T20:47:48.261Z"
   },
   {
    "duration": 8,
    "start_time": "2023-05-29T20:47:48.271Z"
   },
   {
    "duration": 3,
    "start_time": "2023-05-29T20:47:48.283Z"
   },
   {
    "duration": 29,
    "start_time": "2023-05-29T20:47:48.288Z"
   },
   {
    "duration": 5,
    "start_time": "2023-05-29T20:47:48.319Z"
   },
   {
    "duration": 6,
    "start_time": "2023-05-29T20:47:48.325Z"
   },
   {
    "duration": 12,
    "start_time": "2023-05-29T20:47:48.333Z"
   },
   {
    "duration": 6,
    "start_time": "2023-05-29T20:47:48.347Z"
   },
   {
    "duration": 7,
    "start_time": "2023-05-29T20:47:48.355Z"
   },
   {
    "duration": 60,
    "start_time": "2023-05-29T20:47:48.364Z"
   },
   {
    "duration": 59,
    "start_time": "2023-05-29T20:47:48.425Z"
   },
   {
    "duration": 412,
    "start_time": "2023-05-29T20:47:48.486Z"
   },
   {
    "duration": 2913,
    "start_time": "2023-05-29T20:47:48.899Z"
   },
   {
    "duration": 3,
    "start_time": "2023-05-29T20:47:51.814Z"
   },
   {
    "duration": 13,
    "start_time": "2023-05-29T20:47:51.819Z"
   },
   {
    "duration": 24,
    "start_time": "2023-05-29T20:47:51.833Z"
   },
   {
    "duration": 294,
    "start_time": "2023-05-29T20:47:51.859Z"
   },
   {
    "duration": 4,
    "start_time": "2023-05-29T20:47:52.154Z"
   },
   {
    "duration": 17,
    "start_time": "2023-05-29T20:47:52.160Z"
   },
   {
    "duration": 7,
    "start_time": "2023-05-29T20:47:52.178Z"
   },
   {
    "duration": 6,
    "start_time": "2023-05-29T20:47:52.186Z"
   },
   {
    "duration": 8,
    "start_time": "2023-05-29T20:47:52.193Z"
   },
   {
    "duration": 6,
    "start_time": "2023-05-29T20:47:52.202Z"
   },
   {
    "duration": 10,
    "start_time": "2023-05-29T20:47:52.210Z"
   },
   {
    "duration": 13,
    "start_time": "2023-05-29T20:47:52.222Z"
   },
   {
    "duration": 13,
    "start_time": "2023-05-29T20:47:52.236Z"
   },
   {
    "duration": 8,
    "start_time": "2023-05-29T20:47:52.250Z"
   },
   {
    "duration": 4,
    "start_time": "2023-05-29T20:47:52.260Z"
   },
   {
    "duration": 5,
    "start_time": "2023-05-29T20:47:52.265Z"
   },
   {
    "duration": 307479,
    "start_time": "2023-05-29T20:47:52.273Z"
   },
   {
    "duration": 2071,
    "start_time": "2023-05-29T20:53:38.021Z"
   },
   {
    "duration": 2946,
    "start_time": "2023-05-29T20:53:40.094Z"
   },
   {
    "duration": 5,
    "start_time": "2023-05-29T20:53:43.041Z"
   },
   {
    "duration": 5,
    "start_time": "2023-05-29T20:53:43.047Z"
   },
   {
    "duration": 3,
    "start_time": "2023-05-29T20:53:43.055Z"
   },
   {
    "duration": 3581,
    "start_time": "2023-05-29T20:53:43.059Z"
   },
   {
    "duration": 15,
    "start_time": "2023-05-29T20:53:46.643Z"
   },
   {
    "duration": 218,
    "start_time": "2023-05-29T20:53:46.660Z"
   },
   {
    "duration": 58,
    "start_time": "2023-05-29T20:53:46.881Z"
   },
   {
    "duration": 35,
    "start_time": "2023-05-29T20:53:46.941Z"
   },
   {
    "duration": 339,
    "start_time": "2023-05-29T20:53:46.978Z"
   },
   {
    "duration": 10,
    "start_time": "2023-05-29T20:53:47.318Z"
   },
   {
    "duration": 16,
    "start_time": "2023-05-29T20:53:47.330Z"
   },
   {
    "duration": 5,
    "start_time": "2023-05-29T20:53:47.349Z"
   },
   {
    "duration": 7,
    "start_time": "2023-05-29T20:53:47.355Z"
   },
   {
    "duration": 8,
    "start_time": "2023-05-29T20:53:47.364Z"
   },
   {
    "duration": 11,
    "start_time": "2023-05-29T20:53:47.373Z"
   },
   {
    "duration": 10,
    "start_time": "2023-05-29T20:53:47.386Z"
   },
   {
    "duration": 21,
    "start_time": "2023-05-29T20:53:47.398Z"
   },
   {
    "duration": 19,
    "start_time": "2023-05-29T20:53:47.421Z"
   },
   {
    "duration": 58,
    "start_time": "2023-05-29T20:53:47.442Z"
   },
   {
    "duration": 67,
    "start_time": "2023-05-29T20:53:47.501Z"
   },
   {
    "duration": 420,
    "start_time": "2023-05-29T20:53:47.570Z"
   },
   {
    "duration": 3651,
    "start_time": "2023-05-29T20:53:47.992Z"
   },
   {
    "duration": 3,
    "start_time": "2023-05-29T20:53:51.644Z"
   },
   {
    "duration": 18,
    "start_time": "2023-05-29T20:53:51.648Z"
   },
   {
    "duration": 24,
    "start_time": "2023-05-29T20:53:51.667Z"
   },
   {
    "duration": 267,
    "start_time": "2023-05-29T20:53:51.692Z"
   },
   {
    "duration": 5,
    "start_time": "2023-05-29T20:53:51.961Z"
   },
   {
    "duration": 5,
    "start_time": "2023-05-29T20:53:51.968Z"
   },
   {
    "duration": 3,
    "start_time": "2023-05-29T20:53:51.974Z"
   },
   {
    "duration": 6,
    "start_time": "2023-05-29T20:53:51.979Z"
   },
   {
    "duration": 26,
    "start_time": "2023-05-29T20:53:51.986Z"
   },
   {
    "duration": 23,
    "start_time": "2023-05-29T20:53:52.014Z"
   },
   {
    "duration": 9,
    "start_time": "2023-05-29T20:53:52.039Z"
   },
   {
    "duration": 8,
    "start_time": "2023-05-29T20:53:52.049Z"
   },
   {
    "duration": 8,
    "start_time": "2023-05-29T20:53:52.058Z"
   },
   {
    "duration": 8,
    "start_time": "2023-05-29T20:53:52.067Z"
   },
   {
    "duration": 12,
    "start_time": "2023-05-29T20:53:52.077Z"
   },
   {
    "duration": 5,
    "start_time": "2023-05-29T20:53:52.090Z"
   },
   {
    "duration": 365133,
    "start_time": "2023-05-29T20:53:52.098Z"
   },
   {
    "duration": 2189,
    "start_time": "2023-05-29T21:01:43.114Z"
   },
   {
    "duration": 2765,
    "start_time": "2023-05-29T21:01:45.306Z"
   },
   {
    "duration": 4,
    "start_time": "2023-05-29T21:01:48.072Z"
   },
   {
    "duration": 28,
    "start_time": "2023-05-29T21:01:48.077Z"
   },
   {
    "duration": 49,
    "start_time": "2023-05-29T21:01:48.107Z"
   },
   {
    "duration": 2463,
    "start_time": "2023-05-29T21:01:48.158Z"
   },
   {
    "duration": 12,
    "start_time": "2023-05-29T21:01:50.623Z"
   },
   {
    "duration": 15,
    "start_time": "2023-05-29T21:01:50.636Z"
   },
   {
    "duration": 44,
    "start_time": "2023-05-29T21:01:50.652Z"
   },
   {
    "duration": 37,
    "start_time": "2023-05-29T21:01:50.697Z"
   },
   {
    "duration": 337,
    "start_time": "2023-05-29T21:01:50.736Z"
   },
   {
    "duration": 8,
    "start_time": "2023-05-29T21:01:51.075Z"
   },
   {
    "duration": 13,
    "start_time": "2023-05-29T21:01:51.084Z"
   },
   {
    "duration": 4,
    "start_time": "2023-05-29T21:01:51.100Z"
   },
   {
    "duration": 11,
    "start_time": "2023-05-29T21:01:51.118Z"
   },
   {
    "duration": 7,
    "start_time": "2023-05-29T21:01:51.131Z"
   },
   {
    "duration": 8,
    "start_time": "2023-05-29T21:01:51.140Z"
   },
   {
    "duration": 16,
    "start_time": "2023-05-29T21:01:51.149Z"
   },
   {
    "duration": 19,
    "start_time": "2023-05-29T21:01:51.166Z"
   },
   {
    "duration": 8,
    "start_time": "2023-05-29T21:01:51.187Z"
   },
   {
    "duration": 42,
    "start_time": "2023-05-29T21:01:51.197Z"
   },
   {
    "duration": 60,
    "start_time": "2023-05-29T21:01:51.241Z"
   },
   {
    "duration": 421,
    "start_time": "2023-05-29T21:01:51.303Z"
   },
   {
    "duration": 3164,
    "start_time": "2023-05-29T21:01:51.726Z"
   },
   {
    "duration": 2,
    "start_time": "2023-05-29T21:01:54.892Z"
   },
   {
    "duration": 17,
    "start_time": "2023-05-29T21:01:54.895Z"
   },
   {
    "duration": 39,
    "start_time": "2023-05-29T21:01:54.914Z"
   },
   {
    "duration": 223,
    "start_time": "2023-05-29T21:01:54.955Z"
   },
   {
    "duration": 4,
    "start_time": "2023-05-29T21:01:55.179Z"
   },
   {
    "duration": 34,
    "start_time": "2023-05-29T21:01:55.185Z"
   },
   {
    "duration": 15,
    "start_time": "2023-05-29T21:01:55.221Z"
   },
   {
    "duration": 18,
    "start_time": "2023-05-29T21:01:55.238Z"
   },
   {
    "duration": 23,
    "start_time": "2023-05-29T21:01:55.258Z"
   },
   {
    "duration": 19,
    "start_time": "2023-05-29T21:01:55.283Z"
   },
   {
    "duration": 24,
    "start_time": "2023-05-29T21:01:55.304Z"
   },
   {
    "duration": 28,
    "start_time": "2023-05-29T21:01:55.329Z"
   },
   {
    "duration": 20,
    "start_time": "2023-05-29T21:01:55.358Z"
   },
   {
    "duration": 26,
    "start_time": "2023-05-29T21:01:55.380Z"
   },
   {
    "duration": 13,
    "start_time": "2023-05-29T21:01:55.408Z"
   },
   {
    "duration": 16,
    "start_time": "2023-05-29T21:01:55.422Z"
   },
   {
    "duration": 299842,
    "start_time": "2023-05-29T21:01:55.441Z"
   },
   {
    "duration": 2386,
    "start_time": "2023-05-29T21:07:39.293Z"
   },
   {
    "duration": 2036,
    "start_time": "2023-05-29T21:07:41.681Z"
   },
   {
    "duration": 4,
    "start_time": "2023-05-29T21:07:43.719Z"
   },
   {
    "duration": 4,
    "start_time": "2023-05-29T21:07:43.724Z"
   },
   {
    "duration": 7,
    "start_time": "2023-05-29T21:07:43.730Z"
   },
   {
    "duration": 2586,
    "start_time": "2023-05-29T21:07:43.739Z"
   },
   {
    "duration": 12,
    "start_time": "2023-05-29T21:07:46.327Z"
   },
   {
    "duration": 10,
    "start_time": "2023-05-29T21:07:46.340Z"
   },
   {
    "duration": 45,
    "start_time": "2023-05-29T21:07:46.351Z"
   },
   {
    "duration": 43,
    "start_time": "2023-05-29T21:07:46.397Z"
   },
   {
    "duration": 331,
    "start_time": "2023-05-29T21:07:46.442Z"
   },
   {
    "duration": 8,
    "start_time": "2023-05-29T21:07:46.774Z"
   },
   {
    "duration": 6,
    "start_time": "2023-05-29T21:07:46.783Z"
   },
   {
    "duration": 3,
    "start_time": "2023-05-29T21:07:46.792Z"
   },
   {
    "duration": 22,
    "start_time": "2023-05-29T21:07:46.797Z"
   },
   {
    "duration": 11,
    "start_time": "2023-05-29T21:07:46.820Z"
   },
   {
    "duration": 5,
    "start_time": "2023-05-29T21:07:46.832Z"
   },
   {
    "duration": 12,
    "start_time": "2023-05-29T21:07:46.839Z"
   },
   {
    "duration": 8,
    "start_time": "2023-05-29T21:07:46.852Z"
   },
   {
    "duration": 7,
    "start_time": "2023-05-29T21:07:46.861Z"
   },
   {
    "duration": 49,
    "start_time": "2023-05-29T21:07:46.869Z"
   },
   {
    "duration": 56,
    "start_time": "2023-05-29T21:07:46.920Z"
   },
   {
    "duration": 404,
    "start_time": "2023-05-29T21:07:46.978Z"
   },
   {
    "duration": 2881,
    "start_time": "2023-05-29T21:07:47.384Z"
   },
   {
    "duration": 3,
    "start_time": "2023-05-29T21:07:50.267Z"
   },
   {
    "duration": 9,
    "start_time": "2023-05-29T21:07:50.271Z"
   },
   {
    "duration": 22,
    "start_time": "2023-05-29T21:07:50.281Z"
   },
   {
    "duration": 221,
    "start_time": "2023-05-29T21:07:50.304Z"
   },
   {
    "duration": 4,
    "start_time": "2023-05-29T21:07:50.528Z"
   },
   {
    "duration": 11,
    "start_time": "2023-05-29T21:07:50.534Z"
   },
   {
    "duration": 15,
    "start_time": "2023-05-29T21:07:50.547Z"
   },
   {
    "duration": 6,
    "start_time": "2023-05-29T21:07:50.564Z"
   },
   {
    "duration": 31,
    "start_time": "2023-05-29T21:07:50.572Z"
   },
   {
    "duration": 12,
    "start_time": "2023-05-29T21:07:50.605Z"
   },
   {
    "duration": 19,
    "start_time": "2023-05-29T21:07:50.619Z"
   },
   {
    "duration": 4,
    "start_time": "2023-05-29T21:07:50.639Z"
   },
   {
    "duration": 10,
    "start_time": "2023-05-29T21:07:50.644Z"
   },
   {
    "duration": 5,
    "start_time": "2023-05-29T21:07:50.655Z"
   },
   {
    "duration": 4,
    "start_time": "2023-05-29T21:07:50.662Z"
   },
   {
    "duration": 5,
    "start_time": "2023-05-29T21:07:50.667Z"
   },
   {
    "duration": 239917,
    "start_time": "2023-05-29T21:07:50.675Z"
   },
   {
    "duration": 2380,
    "start_time": "2023-05-29T21:13:06.496Z"
   },
   {
    "duration": 2865,
    "start_time": "2023-05-29T21:13:08.878Z"
   },
   {
    "duration": 4,
    "start_time": "2023-05-29T21:13:11.744Z"
   },
   {
    "duration": 10,
    "start_time": "2023-05-29T21:13:11.749Z"
   },
   {
    "duration": 11,
    "start_time": "2023-05-29T21:13:11.761Z"
   },
   {
    "duration": 2463,
    "start_time": "2023-05-29T21:13:11.773Z"
   },
   {
    "duration": 12,
    "start_time": "2023-05-29T21:13:14.237Z"
   },
   {
    "duration": 4,
    "start_time": "2023-05-29T21:13:14.251Z"
   },
   {
    "duration": 44,
    "start_time": "2023-05-29T21:13:14.256Z"
   },
   {
    "duration": 52,
    "start_time": "2023-05-29T21:13:14.301Z"
   },
   {
    "duration": 350,
    "start_time": "2023-05-29T21:13:14.354Z"
   },
   {
    "duration": 11,
    "start_time": "2023-05-29T21:13:14.706Z"
   },
   {
    "duration": 6,
    "start_time": "2023-05-29T21:13:14.718Z"
   },
   {
    "duration": 4,
    "start_time": "2023-05-29T21:13:14.727Z"
   },
   {
    "duration": 8,
    "start_time": "2023-05-29T21:13:14.732Z"
   },
   {
    "duration": 6,
    "start_time": "2023-05-29T21:13:14.741Z"
   },
   {
    "duration": 10,
    "start_time": "2023-05-29T21:13:14.749Z"
   },
   {
    "duration": 7,
    "start_time": "2023-05-29T21:13:14.760Z"
   },
   {
    "duration": 5,
    "start_time": "2023-05-29T21:13:14.768Z"
   },
   {
    "duration": 8,
    "start_time": "2023-05-29T21:13:14.774Z"
   },
   {
    "duration": 54,
    "start_time": "2023-05-29T21:13:14.784Z"
   },
   {
    "duration": 58,
    "start_time": "2023-05-29T21:13:14.840Z"
   },
   {
    "duration": 425,
    "start_time": "2023-05-29T21:13:14.900Z"
   },
   {
    "duration": 2948,
    "start_time": "2023-05-29T21:13:15.326Z"
   },
   {
    "duration": 2,
    "start_time": "2023-05-29T21:13:18.276Z"
   },
   {
    "duration": 9,
    "start_time": "2023-05-29T21:13:18.279Z"
   },
   {
    "duration": 24,
    "start_time": "2023-05-29T21:13:18.290Z"
   },
   {
    "duration": 236,
    "start_time": "2023-05-29T21:13:18.316Z"
   },
   {
    "duration": 4,
    "start_time": "2023-05-29T21:13:18.554Z"
   },
   {
    "duration": 8,
    "start_time": "2023-05-29T21:13:18.559Z"
   },
   {
    "duration": 6,
    "start_time": "2023-05-29T21:13:18.568Z"
   },
   {
    "duration": 8,
    "start_time": "2023-05-29T21:13:18.576Z"
   },
   {
    "duration": 9,
    "start_time": "2023-05-29T21:13:18.585Z"
   },
   {
    "duration": 7,
    "start_time": "2023-05-29T21:13:18.595Z"
   },
   {
    "duration": 16,
    "start_time": "2023-05-29T21:13:18.603Z"
   },
   {
    "duration": 6,
    "start_time": "2023-05-29T21:13:18.620Z"
   },
   {
    "duration": 7,
    "start_time": "2023-05-29T21:13:18.627Z"
   },
   {
    "duration": 4,
    "start_time": "2023-05-29T21:13:18.635Z"
   },
   {
    "duration": 4,
    "start_time": "2023-05-29T21:13:18.641Z"
   },
   {
    "duration": 6,
    "start_time": "2023-05-29T21:13:18.646Z"
   },
   {
    "duration": 315473,
    "start_time": "2023-05-29T21:13:18.655Z"
   },
   {
    "duration": 2293,
    "start_time": "2023-05-29T21:19:39.584Z"
   },
   {
    "duration": 1934,
    "start_time": "2023-05-29T21:19:41.879Z"
   },
   {
    "duration": 5,
    "start_time": "2023-05-29T21:19:43.814Z"
   },
   {
    "duration": 7,
    "start_time": "2023-05-29T21:19:43.820Z"
   },
   {
    "duration": 6,
    "start_time": "2023-05-29T21:19:43.828Z"
   },
   {
    "duration": 2506,
    "start_time": "2023-05-29T21:19:43.835Z"
   },
   {
    "duration": 12,
    "start_time": "2023-05-29T21:19:46.343Z"
   },
   {
    "duration": 3,
    "start_time": "2023-05-29T21:19:46.357Z"
   },
   {
    "duration": 53,
    "start_time": "2023-05-29T21:19:46.361Z"
   },
   {
    "duration": 40,
    "start_time": "2023-05-29T21:19:46.415Z"
   },
   {
    "duration": 334,
    "start_time": "2023-05-29T21:19:46.457Z"
   },
   {
    "duration": 8,
    "start_time": "2023-05-29T21:19:46.793Z"
   },
   {
    "duration": 16,
    "start_time": "2023-05-29T21:19:46.802Z"
   },
   {
    "duration": 5,
    "start_time": "2023-05-29T21:19:46.821Z"
   },
   {
    "duration": 8,
    "start_time": "2023-05-29T21:19:46.827Z"
   },
   {
    "duration": 6,
    "start_time": "2023-05-29T21:19:46.836Z"
   },
   {
    "duration": 9,
    "start_time": "2023-05-29T21:19:46.844Z"
   },
   {
    "duration": 8,
    "start_time": "2023-05-29T21:19:46.854Z"
   },
   {
    "duration": 7,
    "start_time": "2023-05-29T21:19:46.863Z"
   },
   {
    "duration": 12,
    "start_time": "2023-05-29T21:19:46.871Z"
   },
   {
    "duration": 53,
    "start_time": "2023-05-29T21:19:46.884Z"
   },
   {
    "duration": 65,
    "start_time": "2023-05-29T21:19:46.938Z"
   },
   {
    "duration": 402,
    "start_time": "2023-05-29T21:19:47.005Z"
   },
   {
    "duration": 2987,
    "start_time": "2023-05-29T21:19:47.408Z"
   },
   {
    "duration": 2,
    "start_time": "2023-05-29T21:19:50.397Z"
   },
   {
    "duration": 16,
    "start_time": "2023-05-29T21:19:50.401Z"
   },
   {
    "duration": 26,
    "start_time": "2023-05-29T21:19:50.419Z"
   },
   {
    "duration": 221,
    "start_time": "2023-05-29T21:19:50.446Z"
   },
   {
    "duration": 4,
    "start_time": "2023-05-29T21:19:50.668Z"
   },
   {
    "duration": 16,
    "start_time": "2023-05-29T21:19:50.673Z"
   },
   {
    "duration": 21,
    "start_time": "2023-05-29T21:19:50.691Z"
   },
   {
    "duration": 15,
    "start_time": "2023-05-29T21:19:50.713Z"
   },
   {
    "duration": 32,
    "start_time": "2023-05-29T21:19:50.730Z"
   },
   {
    "duration": 7,
    "start_time": "2023-05-29T21:19:50.763Z"
   },
   {
    "duration": 13,
    "start_time": "2023-05-29T21:19:50.772Z"
   },
   {
    "duration": 7,
    "start_time": "2023-05-29T21:19:50.786Z"
   },
   {
    "duration": 16,
    "start_time": "2023-05-29T21:19:50.795Z"
   },
   {
    "duration": 14,
    "start_time": "2023-05-29T21:19:50.813Z"
   },
   {
    "duration": 6,
    "start_time": "2023-05-29T21:19:50.829Z"
   },
   {
    "duration": 12,
    "start_time": "2023-05-29T21:19:50.836Z"
   },
   {
    "duration": 286436,
    "start_time": "2023-05-29T21:19:50.852Z"
   },
   {
    "duration": 2196,
    "start_time": "2023-05-29T21:26:03.189Z"
   },
   {
    "duration": 2253,
    "start_time": "2023-05-29T21:26:05.388Z"
   },
   {
    "duration": 4,
    "start_time": "2023-05-29T21:26:07.642Z"
   },
   {
    "duration": 3,
    "start_time": "2023-05-29T21:26:07.650Z"
   },
   {
    "duration": 17,
    "start_time": "2023-05-29T21:26:07.654Z"
   },
   {
    "duration": 2377,
    "start_time": "2023-05-29T21:26:07.672Z"
   },
   {
    "duration": 12,
    "start_time": "2023-05-29T21:26:10.050Z"
   },
   {
    "duration": 21,
    "start_time": "2023-05-29T21:26:10.064Z"
   },
   {
    "duration": 58,
    "start_time": "2023-05-29T21:26:10.087Z"
   },
   {
    "duration": 38,
    "start_time": "2023-05-29T21:26:10.148Z"
   },
   {
    "duration": 336,
    "start_time": "2023-05-29T21:26:10.188Z"
   },
   {
    "duration": 7,
    "start_time": "2023-05-29T21:26:10.526Z"
   },
   {
    "duration": 10,
    "start_time": "2023-05-29T21:26:10.534Z"
   },
   {
    "duration": 4,
    "start_time": "2023-05-29T21:26:10.545Z"
   },
   {
    "duration": 9,
    "start_time": "2023-05-29T21:26:10.551Z"
   },
   {
    "duration": 15,
    "start_time": "2023-05-29T21:26:10.562Z"
   },
   {
    "duration": 12,
    "start_time": "2023-05-29T21:26:10.578Z"
   },
   {
    "duration": 15,
    "start_time": "2023-05-29T21:26:10.591Z"
   },
   {
    "duration": 11,
    "start_time": "2023-05-29T21:26:10.607Z"
   },
   {
    "duration": 23,
    "start_time": "2023-05-29T21:26:10.620Z"
   },
   {
    "duration": 44,
    "start_time": "2023-05-29T21:26:10.645Z"
   },
   {
    "duration": 60,
    "start_time": "2023-05-29T21:26:10.690Z"
   },
   {
    "duration": 424,
    "start_time": "2023-05-29T21:26:10.752Z"
   },
   {
    "duration": 2950,
    "start_time": "2023-05-29T21:26:11.177Z"
   },
   {
    "duration": 3,
    "start_time": "2023-05-29T21:26:14.129Z"
   },
   {
    "duration": 5,
    "start_time": "2023-05-29T21:26:14.133Z"
   },
   {
    "duration": 33,
    "start_time": "2023-05-29T21:26:14.139Z"
   },
   {
    "duration": 258,
    "start_time": "2023-05-29T21:26:14.179Z"
   },
   {
    "duration": 4,
    "start_time": "2023-05-29T21:26:14.439Z"
   },
   {
    "duration": 7,
    "start_time": "2023-05-29T21:26:14.445Z"
   },
   {
    "duration": 16,
    "start_time": "2023-05-29T21:26:14.453Z"
   },
   {
    "duration": 12,
    "start_time": "2023-05-29T21:26:14.471Z"
   },
   {
    "duration": 9,
    "start_time": "2023-05-29T21:26:14.485Z"
   },
   {
    "duration": 16,
    "start_time": "2023-05-29T21:26:14.496Z"
   },
   {
    "duration": 16,
    "start_time": "2023-05-29T21:26:14.514Z"
   },
   {
    "duration": 22,
    "start_time": "2023-05-29T21:26:14.532Z"
   },
   {
    "duration": 17,
    "start_time": "2023-05-29T21:26:14.556Z"
   },
   {
    "duration": 15,
    "start_time": "2023-05-29T21:26:14.575Z"
   },
   {
    "duration": 8,
    "start_time": "2023-05-29T21:26:14.591Z"
   },
   {
    "duration": 16,
    "start_time": "2023-05-29T21:26:14.601Z"
   },
   {
    "duration": 14,
    "start_time": "2023-05-29T21:26:14.619Z"
   },
   {
    "duration": 325197,
    "start_time": "2023-05-29T21:26:14.635Z"
   },
   {
    "duration": 2263,
    "start_time": "2023-05-29T21:33:07.773Z"
   },
   {
    "duration": 2331,
    "start_time": "2023-05-29T21:33:10.038Z"
   },
   {
    "duration": 3,
    "start_time": "2023-05-29T21:33:12.371Z"
   },
   {
    "duration": 6,
    "start_time": "2023-05-29T21:33:12.375Z"
   },
   {
    "duration": 5,
    "start_time": "2023-05-29T21:33:12.382Z"
   },
   {
    "duration": 2230,
    "start_time": "2023-05-29T21:33:12.389Z"
   },
   {
    "duration": 13,
    "start_time": "2023-05-29T21:33:14.620Z"
   },
   {
    "duration": 4,
    "start_time": "2023-05-29T21:33:14.634Z"
   },
   {
    "duration": 53,
    "start_time": "2023-05-29T21:33:14.639Z"
   },
   {
    "duration": 61,
    "start_time": "2023-05-29T21:33:14.693Z"
   },
   {
    "duration": 350,
    "start_time": "2023-05-29T21:33:14.756Z"
   },
   {
    "duration": 12,
    "start_time": "2023-05-29T21:33:15.108Z"
   },
   {
    "duration": 6,
    "start_time": "2023-05-29T21:33:15.122Z"
   },
   {
    "duration": 5,
    "start_time": "2023-05-29T21:33:15.130Z"
   },
   {
    "duration": 6,
    "start_time": "2023-05-29T21:33:15.136Z"
   },
   {
    "duration": 5,
    "start_time": "2023-05-29T21:33:15.143Z"
   },
   {
    "duration": 13,
    "start_time": "2023-05-29T21:33:15.149Z"
   },
   {
    "duration": 7,
    "start_time": "2023-05-29T21:33:15.163Z"
   },
   {
    "duration": 5,
    "start_time": "2023-05-29T21:33:15.171Z"
   },
   {
    "duration": 8,
    "start_time": "2023-05-29T21:33:15.177Z"
   },
   {
    "duration": 55,
    "start_time": "2023-05-29T21:33:15.186Z"
   },
   {
    "duration": 58,
    "start_time": "2023-05-29T21:33:15.242Z"
   },
   {
    "duration": 409,
    "start_time": "2023-05-29T21:33:15.302Z"
   },
   {
    "duration": 2945,
    "start_time": "2023-05-29T21:33:15.712Z"
   },
   {
    "duration": 2,
    "start_time": "2023-05-29T21:33:18.659Z"
   },
   {
    "duration": 14,
    "start_time": "2023-05-29T21:33:18.662Z"
   },
   {
    "duration": 39,
    "start_time": "2023-05-29T21:33:18.677Z"
   },
   {
    "duration": 296,
    "start_time": "2023-05-29T21:33:18.718Z"
   },
   {
    "duration": 4,
    "start_time": "2023-05-29T21:33:19.015Z"
   },
   {
    "duration": 5,
    "start_time": "2023-05-29T21:33:19.020Z"
   },
   {
    "duration": 18,
    "start_time": "2023-05-29T21:33:19.026Z"
   },
   {
    "duration": 40,
    "start_time": "2023-05-29T21:33:19.046Z"
   },
   {
    "duration": 45,
    "start_time": "2023-05-29T21:33:19.088Z"
   },
   {
    "duration": 13,
    "start_time": "2023-05-29T21:33:19.135Z"
   },
   {
    "duration": 14,
    "start_time": "2023-05-29T21:33:19.150Z"
   },
   {
    "duration": 14,
    "start_time": "2023-05-29T21:33:19.166Z"
   },
   {
    "duration": 20,
    "start_time": "2023-05-29T21:33:19.181Z"
   },
   {
    "duration": 12,
    "start_time": "2023-05-29T21:33:19.203Z"
   },
   {
    "duration": 16,
    "start_time": "2023-05-29T21:33:19.216Z"
   },
   {
    "duration": 15,
    "start_time": "2023-05-29T21:33:19.233Z"
   },
   {
    "duration": 10,
    "start_time": "2023-05-29T21:33:19.251Z"
   },
   {
    "duration": 350593,
    "start_time": "2023-05-29T21:33:19.263Z"
   },
   {
    "duration": 2118,
    "start_time": "2023-05-29T22:04:42.899Z"
   },
   {
    "duration": 2052,
    "start_time": "2023-05-29T22:04:45.019Z"
   },
   {
    "duration": 4,
    "start_time": "2023-05-29T22:04:47.073Z"
   },
   {
    "duration": 11,
    "start_time": "2023-05-29T22:04:47.078Z"
   },
   {
    "duration": 13,
    "start_time": "2023-05-29T22:04:47.091Z"
   },
   {
    "duration": 2712,
    "start_time": "2023-05-29T22:04:47.106Z"
   },
   {
    "duration": 11,
    "start_time": "2023-05-29T22:04:49.820Z"
   },
   {
    "duration": 4,
    "start_time": "2023-05-29T22:04:49.832Z"
   },
   {
    "duration": 46,
    "start_time": "2023-05-29T22:04:49.837Z"
   },
   {
    "duration": 56,
    "start_time": "2023-05-29T22:04:49.885Z"
   },
   {
    "duration": 380,
    "start_time": "2023-05-29T22:04:49.943Z"
   },
   {
    "duration": 7,
    "start_time": "2023-05-29T22:04:50.325Z"
   },
   {
    "duration": 11,
    "start_time": "2023-05-29T22:04:50.333Z"
   },
   {
    "duration": 3,
    "start_time": "2023-05-29T22:04:50.348Z"
   },
   {
    "duration": 5,
    "start_time": "2023-05-29T22:04:50.352Z"
   },
   {
    "duration": 6,
    "start_time": "2023-05-29T22:04:50.358Z"
   },
   {
    "duration": 7,
    "start_time": "2023-05-29T22:04:50.365Z"
   },
   {
    "duration": 7,
    "start_time": "2023-05-29T22:04:50.373Z"
   },
   {
    "duration": 7,
    "start_time": "2023-05-29T22:04:50.381Z"
   },
   {
    "duration": 32,
    "start_time": "2023-05-29T22:04:50.389Z"
   },
   {
    "duration": 42,
    "start_time": "2023-05-29T22:04:50.423Z"
   },
   {
    "duration": 70,
    "start_time": "2023-05-29T22:04:50.467Z"
   },
   {
    "duration": 421,
    "start_time": "2023-05-29T22:04:50.538Z"
   },
   {
    "duration": 3054,
    "start_time": "2023-05-29T22:04:50.961Z"
   },
   {
    "duration": 2,
    "start_time": "2023-05-29T22:04:54.017Z"
   },
   {
    "duration": 17,
    "start_time": "2023-05-29T22:04:54.020Z"
   },
   {
    "duration": 32,
    "start_time": "2023-05-29T22:04:54.038Z"
   },
   {
    "duration": 199,
    "start_time": "2023-05-29T22:04:54.071Z"
   },
   {
    "duration": 4,
    "start_time": "2023-05-29T22:04:54.271Z"
   },
   {
    "duration": 22,
    "start_time": "2023-05-29T22:04:54.276Z"
   },
   {
    "duration": 9,
    "start_time": "2023-05-29T22:04:54.300Z"
   },
   {
    "duration": 20,
    "start_time": "2023-05-29T22:04:54.310Z"
   },
   {
    "duration": 18,
    "start_time": "2023-05-29T22:04:54.331Z"
   },
   {
    "duration": 19,
    "start_time": "2023-05-29T22:04:54.350Z"
   },
   {
    "duration": 22,
    "start_time": "2023-05-29T22:04:54.370Z"
   },
   {
    "duration": 8,
    "start_time": "2023-05-29T22:04:54.394Z"
   },
   {
    "duration": 22,
    "start_time": "2023-05-29T22:04:54.403Z"
   },
   {
    "duration": 13,
    "start_time": "2023-05-29T22:04:54.427Z"
   },
   {
    "duration": 39,
    "start_time": "2023-05-29T22:04:54.442Z"
   },
   {
    "duration": 23,
    "start_time": "2023-05-29T22:04:54.483Z"
   },
   {
    "duration": 13,
    "start_time": "2023-05-29T22:04:54.510Z"
   },
   {
    "duration": 322229,
    "start_time": "2023-05-29T22:04:54.525Z"
   },
   {
    "duration": 2187,
    "start_time": "2023-05-30T00:54:15.838Z"
   },
   {
    "duration": 2066,
    "start_time": "2023-05-30T00:54:18.027Z"
   },
   {
    "duration": 4,
    "start_time": "2023-05-30T00:54:20.094Z"
   },
   {
    "duration": 4,
    "start_time": "2023-05-30T00:54:20.099Z"
   },
   {
    "duration": 15,
    "start_time": "2023-05-30T00:54:20.105Z"
   },
   {
    "duration": 2711,
    "start_time": "2023-05-30T00:54:20.121Z"
   },
   {
    "duration": 11,
    "start_time": "2023-05-30T00:54:22.834Z"
   },
   {
    "duration": 3,
    "start_time": "2023-05-30T00:54:22.847Z"
   },
   {
    "duration": 52,
    "start_time": "2023-05-30T00:54:22.851Z"
   },
   {
    "duration": 47,
    "start_time": "2023-05-30T00:54:22.905Z"
   },
   {
    "duration": 323,
    "start_time": "2023-05-30T00:54:22.954Z"
   },
   {
    "duration": 8,
    "start_time": "2023-05-30T00:54:23.279Z"
   },
   {
    "duration": 8,
    "start_time": "2023-05-30T00:54:23.288Z"
   },
   {
    "duration": 6,
    "start_time": "2023-05-30T00:54:23.298Z"
   },
   {
    "duration": 5,
    "start_time": "2023-05-30T00:54:23.317Z"
   },
   {
    "duration": 9,
    "start_time": "2023-05-30T00:54:23.324Z"
   },
   {
    "duration": 12,
    "start_time": "2023-05-30T00:54:23.334Z"
   },
   {
    "duration": 16,
    "start_time": "2023-05-30T00:54:23.347Z"
   },
   {
    "duration": 6,
    "start_time": "2023-05-30T00:54:23.364Z"
   },
   {
    "duration": 15,
    "start_time": "2023-05-30T00:54:23.371Z"
   },
   {
    "duration": 45,
    "start_time": "2023-05-30T00:54:23.387Z"
   },
   {
    "duration": 60,
    "start_time": "2023-05-30T00:54:23.433Z"
   },
   {
    "duration": 413,
    "start_time": "2023-05-30T00:54:23.495Z"
   },
   {
    "duration": 2938,
    "start_time": "2023-05-30T00:54:23.910Z"
   },
   {
    "duration": 2,
    "start_time": "2023-05-30T00:54:26.850Z"
   },
   {
    "duration": 6,
    "start_time": "2023-05-30T00:54:26.853Z"
   },
   {
    "duration": 22,
    "start_time": "2023-05-30T00:54:26.860Z"
   },
   {
    "duration": 234,
    "start_time": "2023-05-30T00:54:26.883Z"
   },
   {
    "duration": 3,
    "start_time": "2023-05-30T00:54:27.118Z"
   },
   {
    "duration": 5,
    "start_time": "2023-05-30T00:54:27.123Z"
   },
   {
    "duration": 4,
    "start_time": "2023-05-30T00:54:27.129Z"
   },
   {
    "duration": 4,
    "start_time": "2023-05-30T00:54:27.134Z"
   },
   {
    "duration": 5,
    "start_time": "2023-05-30T00:54:27.139Z"
   },
   {
    "duration": 6,
    "start_time": "2023-05-30T00:54:27.145Z"
   },
   {
    "duration": 6,
    "start_time": "2023-05-30T00:54:27.152Z"
   },
   {
    "duration": 5,
    "start_time": "2023-05-30T00:54:27.159Z"
   },
   {
    "duration": 10,
    "start_time": "2023-05-30T00:54:27.166Z"
   },
   {
    "duration": 5,
    "start_time": "2023-05-30T00:54:27.177Z"
   },
   {
    "duration": 5,
    "start_time": "2023-05-30T00:54:27.183Z"
   },
   {
    "duration": 28,
    "start_time": "2023-05-30T00:54:27.189Z"
   },
   {
    "duration": 6,
    "start_time": "2023-05-30T00:54:27.221Z"
   },
   {
    "duration": 339770,
    "start_time": "2023-05-30T00:54:27.228Z"
   },
   {
    "duration": 2102,
    "start_time": "2023-05-30T03:11:29.369Z"
   },
   {
    "duration": 1954,
    "start_time": "2023-05-30T03:11:31.474Z"
   },
   {
    "duration": 4,
    "start_time": "2023-05-30T03:11:33.430Z"
   },
   {
    "duration": 24,
    "start_time": "2023-05-30T03:11:33.435Z"
   },
   {
    "duration": 16,
    "start_time": "2023-05-30T03:11:33.461Z"
   },
   {
    "duration": 2934,
    "start_time": "2023-05-30T03:11:33.479Z"
   },
   {
    "duration": 11,
    "start_time": "2023-05-30T03:11:36.414Z"
   },
   {
    "duration": 15,
    "start_time": "2023-05-30T03:11:36.427Z"
   },
   {
    "duration": 44,
    "start_time": "2023-05-30T03:11:36.443Z"
   },
   {
    "duration": 44,
    "start_time": "2023-05-30T03:11:36.489Z"
   },
   {
    "duration": 327,
    "start_time": "2023-05-30T03:11:36.535Z"
   },
   {
    "duration": 7,
    "start_time": "2023-05-30T03:11:36.864Z"
   },
   {
    "duration": 12,
    "start_time": "2023-05-30T03:11:36.873Z"
   },
   {
    "duration": 10,
    "start_time": "2023-05-30T03:11:36.888Z"
   },
   {
    "duration": 5,
    "start_time": "2023-05-30T03:11:36.899Z"
   },
   {
    "duration": 13,
    "start_time": "2023-05-30T03:11:36.905Z"
   },
   {
    "duration": 6,
    "start_time": "2023-05-30T03:11:36.920Z"
   },
   {
    "duration": 11,
    "start_time": "2023-05-30T03:11:36.927Z"
   },
   {
    "duration": 6,
    "start_time": "2023-05-30T03:11:36.939Z"
   },
   {
    "duration": 8,
    "start_time": "2023-05-30T03:11:36.946Z"
   },
   {
    "duration": 44,
    "start_time": "2023-05-30T03:11:36.955Z"
   },
   {
    "duration": 73,
    "start_time": "2023-05-30T03:11:37.001Z"
   },
   {
    "duration": 408,
    "start_time": "2023-05-30T03:11:37.075Z"
   },
   {
    "duration": 2881,
    "start_time": "2023-05-30T03:11:37.485Z"
   },
   {
    "duration": 2,
    "start_time": "2023-05-30T03:11:40.368Z"
   },
   {
    "duration": 18,
    "start_time": "2023-05-30T03:11:40.372Z"
   },
   {
    "duration": 53,
    "start_time": "2023-05-30T03:11:40.391Z"
   },
   {
    "duration": 223,
    "start_time": "2023-05-30T03:11:40.445Z"
   },
   {
    "duration": 4,
    "start_time": "2023-05-30T03:11:40.669Z"
   },
   {
    "duration": 23,
    "start_time": "2023-05-30T03:11:40.674Z"
   },
   {
    "duration": 37,
    "start_time": "2023-05-30T03:11:40.698Z"
   },
   {
    "duration": 22,
    "start_time": "2023-05-30T03:11:40.737Z"
   },
   {
    "duration": 38,
    "start_time": "2023-05-30T03:11:40.761Z"
   },
   {
    "duration": 14,
    "start_time": "2023-05-30T03:11:40.801Z"
   },
   {
    "duration": 9,
    "start_time": "2023-05-30T03:11:40.817Z"
   },
   {
    "duration": 4,
    "start_time": "2023-05-30T03:11:40.828Z"
   },
   {
    "duration": 7,
    "start_time": "2023-05-30T03:11:40.833Z"
   },
   {
    "duration": 5,
    "start_time": "2023-05-30T03:11:40.842Z"
   },
   {
    "duration": 12,
    "start_time": "2023-05-30T03:11:40.849Z"
   },
   {
    "duration": 4,
    "start_time": "2023-05-30T03:11:40.863Z"
   },
   {
    "duration": 6,
    "start_time": "2023-05-30T03:11:40.871Z"
   },
   {
    "duration": 294531,
    "start_time": "2023-05-30T03:11:40.878Z"
   },
   {
    "duration": 2000,
    "start_time": "2023-05-30T03:30:45.253Z"
   },
   {
    "duration": 1983,
    "start_time": "2023-05-30T03:30:47.255Z"
   },
   {
    "duration": 4,
    "start_time": "2023-05-30T03:30:49.239Z"
   },
   {
    "duration": 9,
    "start_time": "2023-05-30T03:30:49.244Z"
   },
   {
    "duration": 4,
    "start_time": "2023-05-30T03:30:49.255Z"
   },
   {
    "duration": 2504,
    "start_time": "2023-05-30T03:30:49.260Z"
   },
   {
    "duration": 11,
    "start_time": "2023-05-30T03:30:51.766Z"
   },
   {
    "duration": 16,
    "start_time": "2023-05-30T03:30:51.779Z"
   },
   {
    "duration": 45,
    "start_time": "2023-05-30T03:30:51.797Z"
   },
   {
    "duration": 41,
    "start_time": "2023-05-30T03:30:51.844Z"
   },
   {
    "duration": 331,
    "start_time": "2023-05-30T03:30:51.886Z"
   },
   {
    "duration": 8,
    "start_time": "2023-05-30T03:30:52.218Z"
   },
   {
    "duration": 11,
    "start_time": "2023-05-30T03:30:52.228Z"
   },
   {
    "duration": 5,
    "start_time": "2023-05-30T03:30:52.243Z"
   },
   {
    "duration": 7,
    "start_time": "2023-05-30T03:30:52.250Z"
   },
   {
    "duration": 6,
    "start_time": "2023-05-30T03:30:52.259Z"
   },
   {
    "duration": 5,
    "start_time": "2023-05-30T03:30:52.267Z"
   },
   {
    "duration": 6,
    "start_time": "2023-05-30T03:30:52.274Z"
   },
   {
    "duration": 19,
    "start_time": "2023-05-30T03:30:52.282Z"
   },
   {
    "duration": 38,
    "start_time": "2023-05-30T03:30:52.303Z"
   },
   {
    "duration": 51,
    "start_time": "2023-05-30T03:30:52.342Z"
   },
   {
    "duration": 78,
    "start_time": "2023-05-30T03:30:52.395Z"
   },
   {
    "duration": 392,
    "start_time": "2023-05-30T03:30:52.475Z"
   },
   {
    "duration": 2886,
    "start_time": "2023-05-30T03:30:52.869Z"
   },
   {
    "duration": 2,
    "start_time": "2023-05-30T03:30:55.757Z"
   },
   {
    "duration": 6,
    "start_time": "2023-05-30T03:30:55.760Z"
   },
   {
    "duration": 26,
    "start_time": "2023-05-30T03:30:55.767Z"
   },
   {
    "duration": 287,
    "start_time": "2023-05-30T03:30:55.795Z"
   },
   {
    "duration": 4,
    "start_time": "2023-05-30T03:30:56.084Z"
   },
   {
    "duration": 5,
    "start_time": "2023-05-30T03:30:56.089Z"
   },
   {
    "duration": 11,
    "start_time": "2023-05-30T03:30:56.096Z"
   },
   {
    "duration": 11,
    "start_time": "2023-05-30T03:30:56.109Z"
   },
   {
    "duration": 7,
    "start_time": "2023-05-30T03:30:56.122Z"
   },
   {
    "duration": 7,
    "start_time": "2023-05-30T03:30:56.130Z"
   },
   {
    "duration": 10,
    "start_time": "2023-05-30T03:30:56.138Z"
   },
   {
    "duration": 6,
    "start_time": "2023-05-30T03:30:56.150Z"
   },
   {
    "duration": 8,
    "start_time": "2023-05-30T03:30:56.157Z"
   },
   {
    "duration": 6,
    "start_time": "2023-05-30T03:30:56.166Z"
   },
   {
    "duration": 5,
    "start_time": "2023-05-30T03:30:56.173Z"
   },
   {
    "duration": 7,
    "start_time": "2023-05-30T03:30:56.179Z"
   },
   {
    "duration": 5,
    "start_time": "2023-05-30T03:30:56.189Z"
   },
   {
    "duration": 283440,
    "start_time": "2023-05-30T03:30:56.196Z"
   },
   {
    "duration": 2043,
    "start_time": "2023-05-30T03:45:17.788Z"
   },
   {
    "duration": 2036,
    "start_time": "2023-05-30T03:45:19.833Z"
   },
   {
    "duration": 3,
    "start_time": "2023-05-30T03:45:21.870Z"
   },
   {
    "duration": 4,
    "start_time": "2023-05-30T03:45:21.875Z"
   },
   {
    "duration": 14,
    "start_time": "2023-05-30T03:45:21.881Z"
   },
   {
    "duration": 2537,
    "start_time": "2023-05-30T03:45:21.896Z"
   },
   {
    "duration": 15,
    "start_time": "2023-05-30T03:45:24.434Z"
   },
   {
    "duration": 30,
    "start_time": "2023-05-30T03:45:24.451Z"
   },
   {
    "duration": 79,
    "start_time": "2023-05-30T03:45:24.483Z"
   },
   {
    "duration": 52,
    "start_time": "2023-05-30T03:45:24.563Z"
   },
   {
    "duration": 340,
    "start_time": "2023-05-30T03:45:24.617Z"
   },
   {
    "duration": 9,
    "start_time": "2023-05-30T03:45:24.958Z"
   },
   {
    "duration": 19,
    "start_time": "2023-05-30T03:45:24.968Z"
   },
   {
    "duration": 20,
    "start_time": "2023-05-30T03:45:24.989Z"
   },
   {
    "duration": 18,
    "start_time": "2023-05-30T03:45:25.011Z"
   },
   {
    "duration": 22,
    "start_time": "2023-05-30T03:45:25.031Z"
   },
   {
    "duration": 26,
    "start_time": "2023-05-30T03:45:25.055Z"
   },
   {
    "duration": 39,
    "start_time": "2023-05-30T03:45:25.082Z"
   },
   {
    "duration": 12,
    "start_time": "2023-05-30T03:45:25.122Z"
   },
   {
    "duration": 28,
    "start_time": "2023-05-30T03:45:25.136Z"
   },
   {
    "duration": 47,
    "start_time": "2023-05-30T03:45:25.165Z"
   },
   {
    "duration": 84,
    "start_time": "2023-05-30T03:45:25.213Z"
   },
   {
    "duration": 395,
    "start_time": "2023-05-30T03:45:25.299Z"
   },
   {
    "duration": 2986,
    "start_time": "2023-05-30T03:45:25.696Z"
   },
   {
    "duration": 2,
    "start_time": "2023-05-30T03:45:28.683Z"
   },
   {
    "duration": 13,
    "start_time": "2023-05-30T03:45:28.687Z"
   },
   {
    "duration": 25,
    "start_time": "2023-05-30T03:45:28.701Z"
   },
   {
    "duration": 238,
    "start_time": "2023-05-30T03:45:28.728Z"
   },
   {
    "duration": 4,
    "start_time": "2023-05-30T03:45:28.967Z"
   },
   {
    "duration": 17,
    "start_time": "2023-05-30T03:45:28.972Z"
   },
   {
    "duration": 9,
    "start_time": "2023-05-30T03:45:28.991Z"
   },
   {
    "duration": 8,
    "start_time": "2023-05-30T03:45:29.002Z"
   },
   {
    "duration": 7,
    "start_time": "2023-05-30T03:45:29.011Z"
   },
   {
    "duration": 11,
    "start_time": "2023-05-30T03:45:29.020Z"
   },
   {
    "duration": 31,
    "start_time": "2023-05-30T03:45:29.032Z"
   },
   {
    "duration": 8,
    "start_time": "2023-05-30T03:45:29.064Z"
   },
   {
    "duration": 8,
    "start_time": "2023-05-30T03:45:29.074Z"
   },
   {
    "duration": 6,
    "start_time": "2023-05-30T03:45:29.083Z"
   },
   {
    "duration": 5,
    "start_time": "2023-05-30T03:45:29.090Z"
   },
   {
    "duration": 5,
    "start_time": "2023-05-30T03:45:29.096Z"
   },
   {
    "duration": 3,
    "start_time": "2023-05-30T03:45:29.104Z"
   },
   {
    "duration": 295519,
    "start_time": "2023-05-30T03:45:29.108Z"
   },
   {
    "duration": 2028,
    "start_time": "2023-05-30T03:50:50.182Z"
   },
   {
    "duration": 2025,
    "start_time": "2023-05-30T03:50:52.213Z"
   },
   {
    "duration": 3,
    "start_time": "2023-05-30T03:50:54.239Z"
   },
   {
    "duration": 5,
    "start_time": "2023-05-30T03:50:54.244Z"
   },
   {
    "duration": 6,
    "start_time": "2023-05-30T03:50:54.250Z"
   },
   {
    "duration": 2521,
    "start_time": "2023-05-30T03:50:54.257Z"
   },
   {
    "duration": 11,
    "start_time": "2023-05-30T03:50:56.780Z"
   },
   {
    "duration": 8,
    "start_time": "2023-05-30T03:50:56.792Z"
   },
   {
    "duration": 56,
    "start_time": "2023-05-30T03:50:56.801Z"
   },
   {
    "duration": 38,
    "start_time": "2023-05-30T03:50:56.859Z"
   },
   {
    "duration": 329,
    "start_time": "2023-05-30T03:50:56.899Z"
   },
   {
    "duration": 8,
    "start_time": "2023-05-30T03:50:57.229Z"
   },
   {
    "duration": 7,
    "start_time": "2023-05-30T03:50:57.238Z"
   },
   {
    "duration": 32,
    "start_time": "2023-05-30T03:50:57.247Z"
   },
   {
    "duration": 23,
    "start_time": "2023-05-30T03:50:57.280Z"
   },
   {
    "duration": 20,
    "start_time": "2023-05-30T03:50:57.304Z"
   },
   {
    "duration": 31,
    "start_time": "2023-05-30T03:50:57.326Z"
   },
   {
    "duration": 32,
    "start_time": "2023-05-30T03:50:57.358Z"
   },
   {
    "duration": 14,
    "start_time": "2023-05-30T03:50:57.392Z"
   },
   {
    "duration": 29,
    "start_time": "2023-05-30T03:50:57.407Z"
   },
   {
    "duration": 54,
    "start_time": "2023-05-30T03:50:57.437Z"
   },
   {
    "duration": 73,
    "start_time": "2023-05-30T03:50:57.492Z"
   },
   {
    "duration": 407,
    "start_time": "2023-05-30T03:50:57.567Z"
   },
   {
    "duration": 2976,
    "start_time": "2023-05-30T03:50:57.975Z"
   },
   {
    "duration": 2,
    "start_time": "2023-05-30T03:51:00.952Z"
   },
   {
    "duration": 30,
    "start_time": "2023-05-30T03:51:00.956Z"
   },
   {
    "duration": 42,
    "start_time": "2023-05-30T03:51:00.988Z"
   },
   {
    "duration": 247,
    "start_time": "2023-05-30T03:51:01.033Z"
   },
   {
    "duration": 4,
    "start_time": "2023-05-30T03:51:01.281Z"
   },
   {
    "duration": 39,
    "start_time": "2023-05-30T03:51:01.286Z"
   },
   {
    "duration": 29,
    "start_time": "2023-05-30T03:51:01.327Z"
   },
   {
    "duration": 28,
    "start_time": "2023-05-30T03:51:01.357Z"
   },
   {
    "duration": 41,
    "start_time": "2023-05-30T03:51:01.386Z"
   },
   {
    "duration": 36,
    "start_time": "2023-05-30T03:51:01.428Z"
   },
   {
    "duration": 49,
    "start_time": "2023-05-30T03:51:01.465Z"
   },
   {
    "duration": 24,
    "start_time": "2023-05-30T03:51:01.516Z"
   },
   {
    "duration": 46,
    "start_time": "2023-05-30T03:51:01.541Z"
   },
   {
    "duration": 32,
    "start_time": "2023-05-30T03:51:01.589Z"
   },
   {
    "duration": 36,
    "start_time": "2023-05-30T03:51:01.622Z"
   },
   {
    "duration": 23,
    "start_time": "2023-05-30T03:51:01.660Z"
   },
   {
    "duration": 22,
    "start_time": "2023-05-30T03:51:01.685Z"
   },
   {
    "duration": 301356,
    "start_time": "2023-05-30T03:51:01.709Z"
   },
   {
    "duration": 2087,
    "start_time": "2023-05-30T03:57:00.386Z"
   },
   {
    "duration": 1965,
    "start_time": "2023-05-30T03:57:02.475Z"
   },
   {
    "duration": 3,
    "start_time": "2023-05-30T03:57:04.442Z"
   },
   {
    "duration": 6,
    "start_time": "2023-05-30T03:57:04.446Z"
   },
   {
    "duration": 12,
    "start_time": "2023-05-30T03:57:04.455Z"
   },
   {
    "duration": 2427,
    "start_time": "2023-05-30T03:57:04.469Z"
   },
   {
    "duration": 12,
    "start_time": "2023-05-30T03:57:06.898Z"
   },
   {
    "duration": 4,
    "start_time": "2023-05-30T03:57:06.917Z"
   },
   {
    "duration": 53,
    "start_time": "2023-05-30T03:57:06.922Z"
   },
   {
    "duration": 41,
    "start_time": "2023-05-30T03:57:06.977Z"
   },
   {
    "duration": 335,
    "start_time": "2023-05-30T03:57:07.020Z"
   },
   {
    "duration": 8,
    "start_time": "2023-05-30T03:57:07.356Z"
   },
   {
    "duration": 9,
    "start_time": "2023-05-30T03:57:07.365Z"
   },
   {
    "duration": 3,
    "start_time": "2023-05-30T03:57:07.377Z"
   },
   {
    "duration": 8,
    "start_time": "2023-05-30T03:57:07.381Z"
   },
   {
    "duration": 6,
    "start_time": "2023-05-30T03:57:07.391Z"
   },
   {
    "duration": 4,
    "start_time": "2023-05-30T03:57:07.418Z"
   },
   {
    "duration": 11,
    "start_time": "2023-05-30T03:57:07.424Z"
   },
   {
    "duration": 5,
    "start_time": "2023-05-30T03:57:07.437Z"
   },
   {
    "duration": 8,
    "start_time": "2023-05-30T03:57:07.443Z"
   },
   {
    "duration": 38,
    "start_time": "2023-05-30T03:57:07.452Z"
   },
   {
    "duration": 77,
    "start_time": "2023-05-30T03:57:07.491Z"
   },
   {
    "duration": 397,
    "start_time": "2023-05-30T03:57:07.570Z"
   },
   {
    "duration": 2964,
    "start_time": "2023-05-30T03:57:07.969Z"
   },
   {
    "duration": 2,
    "start_time": "2023-05-30T03:57:10.935Z"
   },
   {
    "duration": 5,
    "start_time": "2023-05-30T03:57:10.938Z"
   },
   {
    "duration": 29,
    "start_time": "2023-05-30T03:57:10.945Z"
   },
   {
    "duration": 234,
    "start_time": "2023-05-30T03:57:10.976Z"
   },
   {
    "duration": 4,
    "start_time": "2023-05-30T03:57:11.211Z"
   },
   {
    "duration": 6,
    "start_time": "2023-05-30T03:57:11.216Z"
   },
   {
    "duration": 7,
    "start_time": "2023-05-30T03:57:11.223Z"
   },
   {
    "duration": 14,
    "start_time": "2023-05-30T03:57:11.232Z"
   },
   {
    "duration": 15,
    "start_time": "2023-05-30T03:57:11.247Z"
   },
   {
    "duration": 6,
    "start_time": "2023-05-30T03:57:11.264Z"
   },
   {
    "duration": 7,
    "start_time": "2023-05-30T03:57:11.272Z"
   },
   {
    "duration": 5,
    "start_time": "2023-05-30T03:57:11.280Z"
   },
   {
    "duration": 6,
    "start_time": "2023-05-30T03:57:11.286Z"
   },
   {
    "duration": 7,
    "start_time": "2023-05-30T03:57:11.293Z"
   },
   {
    "duration": 5,
    "start_time": "2023-05-30T03:57:11.301Z"
   },
   {
    "duration": 11,
    "start_time": "2023-05-30T03:57:11.307Z"
   },
   {
    "duration": 3,
    "start_time": "2023-05-30T03:57:11.322Z"
   },
   {
    "duration": 317554,
    "start_time": "2023-05-30T03:57:11.327Z"
   },
   {
    "duration": 3,
    "start_time": "2023-05-30T04:03:15.203Z"
   },
   {
    "duration": 2,
    "start_time": "2023-05-30T04:03:15.703Z"
   },
   {
    "duration": 3,
    "start_time": "2023-05-30T04:03:16.391Z"
   },
   {
    "duration": 279651,
    "start_time": "2023-05-30T04:03:16.921Z"
   },
   {
    "duration": 2,
    "start_time": "2023-05-30T04:07:56.574Z"
   },
   {
    "duration": 6,
    "start_time": "2023-05-30T04:07:56.578Z"
   },
   {
    "duration": 7,
    "start_time": "2023-05-30T04:07:56.586Z"
   },
   {
    "duration": 8028,
    "start_time": "2023-05-30T04:07:56.594Z"
   },
   {
    "duration": 0,
    "start_time": "2023-05-30T04:08:04.624Z"
   },
   {
    "duration": 0,
    "start_time": "2023-05-30T04:08:04.625Z"
   },
   {
    "duration": 0,
    "start_time": "2023-05-30T04:08:04.626Z"
   },
   {
    "duration": 0,
    "start_time": "2023-05-30T04:08:04.627Z"
   },
   {
    "duration": 0,
    "start_time": "2023-05-30T04:08:04.627Z"
   },
   {
    "duration": 0,
    "start_time": "2023-05-30T04:08:04.629Z"
   },
   {
    "duration": 0,
    "start_time": "2023-05-30T04:08:04.629Z"
   },
   {
    "duration": 0,
    "start_time": "2023-05-30T04:08:04.630Z"
   },
   {
    "duration": 2021,
    "start_time": "2023-05-30T04:08:54.522Z"
   },
   {
    "duration": 2001,
    "start_time": "2023-05-30T04:08:56.545Z"
   },
   {
    "duration": 4,
    "start_time": "2023-05-30T04:08:58.548Z"
   },
   {
    "duration": 6,
    "start_time": "2023-05-30T04:08:58.553Z"
   },
   {
    "duration": 5,
    "start_time": "2023-05-30T04:08:58.560Z"
   },
   {
    "duration": 3017,
    "start_time": "2023-05-30T04:08:58.566Z"
   },
   {
    "duration": 14,
    "start_time": "2023-05-30T04:09:01.585Z"
   },
   {
    "duration": 38,
    "start_time": "2023-05-30T04:09:01.601Z"
   },
   {
    "duration": 73,
    "start_time": "2023-05-30T04:09:01.640Z"
   },
   {
    "duration": 98,
    "start_time": "2023-05-30T04:09:01.716Z"
   },
   {
    "duration": 373,
    "start_time": "2023-05-30T04:09:01.816Z"
   },
   {
    "duration": 7,
    "start_time": "2023-05-30T04:09:02.190Z"
   },
   {
    "duration": 38,
    "start_time": "2023-05-30T04:09:02.199Z"
   },
   {
    "duration": 36,
    "start_time": "2023-05-30T04:09:02.239Z"
   },
   {
    "duration": 34,
    "start_time": "2023-05-30T04:09:02.277Z"
   },
   {
    "duration": 17,
    "start_time": "2023-05-30T04:09:02.313Z"
   },
   {
    "duration": 41,
    "start_time": "2023-05-30T04:09:02.332Z"
   },
   {
    "duration": 24,
    "start_time": "2023-05-30T04:09:02.375Z"
   },
   {
    "duration": 45,
    "start_time": "2023-05-30T04:09:02.401Z"
   },
   {
    "duration": 20,
    "start_time": "2023-05-30T04:09:02.448Z"
   },
   {
    "duration": 73,
    "start_time": "2023-05-30T04:09:02.470Z"
   },
   {
    "duration": 71,
    "start_time": "2023-05-30T04:09:02.545Z"
   },
   {
    "duration": 405,
    "start_time": "2023-05-30T04:09:02.618Z"
   },
   {
    "duration": 3000,
    "start_time": "2023-05-30T04:09:03.024Z"
   },
   {
    "duration": 2,
    "start_time": "2023-05-30T04:09:06.026Z"
   },
   {
    "duration": 13,
    "start_time": "2023-05-30T04:09:06.030Z"
   },
   {
    "duration": 28,
    "start_time": "2023-05-30T04:09:06.045Z"
   },
   {
    "duration": 289,
    "start_time": "2023-05-30T04:09:06.077Z"
   },
   {
    "duration": 4,
    "start_time": "2023-05-30T04:09:06.368Z"
   },
   {
    "duration": 6,
    "start_time": "2023-05-30T04:09:06.373Z"
   },
   {
    "duration": 4,
    "start_time": "2023-05-30T04:09:06.380Z"
   },
   {
    "duration": 22,
    "start_time": "2023-05-30T04:09:06.386Z"
   },
   {
    "duration": 14,
    "start_time": "2023-05-30T04:09:06.410Z"
   },
   {
    "duration": 6,
    "start_time": "2023-05-30T04:09:06.426Z"
   },
   {
    "duration": 7,
    "start_time": "2023-05-30T04:09:06.434Z"
   },
   {
    "duration": 27,
    "start_time": "2023-05-30T04:09:06.442Z"
   },
   {
    "duration": 17,
    "start_time": "2023-05-30T04:09:06.471Z"
   },
   {
    "duration": 8,
    "start_time": "2023-05-30T04:09:06.489Z"
   },
   {
    "duration": 19,
    "start_time": "2023-05-30T04:09:06.498Z"
   },
   {
    "duration": 19,
    "start_time": "2023-05-30T04:09:06.518Z"
   },
   {
    "duration": 9,
    "start_time": "2023-05-30T04:09:06.539Z"
   },
   {
    "duration": 321463,
    "start_time": "2023-05-30T04:09:06.550Z"
   },
   {
    "duration": 3,
    "start_time": "2023-05-30T04:14:28.015Z"
   },
   {
    "duration": 5,
    "start_time": "2023-05-30T04:14:28.020Z"
   },
   {
    "duration": 5,
    "start_time": "2023-05-30T04:14:28.026Z"
   },
   {
    "duration": 342920,
    "start_time": "2023-05-30T04:14:28.032Z"
   },
   {
    "duration": 2095,
    "start_time": "2023-05-30T04:25:40.206Z"
   },
   {
    "duration": 1999,
    "start_time": "2023-05-30T04:25:42.304Z"
   },
   {
    "duration": 4,
    "start_time": "2023-05-30T04:25:44.305Z"
   },
   {
    "duration": 7,
    "start_time": "2023-05-30T04:25:44.311Z"
   },
   {
    "duration": 7,
    "start_time": "2023-05-30T04:25:44.320Z"
   },
   {
    "duration": 2868,
    "start_time": "2023-05-30T04:25:44.328Z"
   },
   {
    "duration": 12,
    "start_time": "2023-05-30T04:25:47.197Z"
   },
   {
    "duration": 12,
    "start_time": "2023-05-30T04:25:47.210Z"
   },
   {
    "duration": 42,
    "start_time": "2023-05-30T04:25:47.224Z"
   },
   {
    "duration": 49,
    "start_time": "2023-05-30T04:25:47.268Z"
   },
   {
    "duration": 318,
    "start_time": "2023-05-30T04:25:47.319Z"
   },
   {
    "duration": 8,
    "start_time": "2023-05-30T04:25:47.638Z"
   },
   {
    "duration": 6,
    "start_time": "2023-05-30T04:25:47.648Z"
   },
   {
    "duration": 3,
    "start_time": "2023-05-30T04:25:47.657Z"
   },
   {
    "duration": 7,
    "start_time": "2023-05-30T04:25:47.661Z"
   },
   {
    "duration": 8,
    "start_time": "2023-05-30T04:25:47.670Z"
   },
   {
    "duration": 9,
    "start_time": "2023-05-30T04:25:47.680Z"
   },
   {
    "duration": 34,
    "start_time": "2023-05-30T04:25:47.690Z"
   },
   {
    "duration": 5,
    "start_time": "2023-05-30T04:25:47.726Z"
   },
   {
    "duration": 20,
    "start_time": "2023-05-30T04:25:47.732Z"
   },
   {
    "duration": 40,
    "start_time": "2023-05-30T04:25:47.754Z"
   },
   {
    "duration": 65,
    "start_time": "2023-05-30T04:25:47.795Z"
   },
   {
    "duration": 402,
    "start_time": "2023-05-30T04:25:47.862Z"
   },
   {
    "duration": 2941,
    "start_time": "2023-05-30T04:25:48.265Z"
   },
   {
    "duration": 2,
    "start_time": "2023-05-30T04:25:51.207Z"
   },
   {
    "duration": 9,
    "start_time": "2023-05-30T04:25:51.216Z"
   },
   {
    "duration": 32,
    "start_time": "2023-05-30T04:25:51.226Z"
   },
   {
    "duration": 217,
    "start_time": "2023-05-30T04:25:51.259Z"
   },
   {
    "duration": 3,
    "start_time": "2023-05-30T04:25:51.478Z"
   },
   {
    "duration": 18,
    "start_time": "2023-05-30T04:25:51.482Z"
   },
   {
    "duration": 13,
    "start_time": "2023-05-30T04:25:51.502Z"
   },
   {
    "duration": 21,
    "start_time": "2023-05-30T04:25:51.516Z"
   },
   {
    "duration": 7,
    "start_time": "2023-05-30T04:25:51.539Z"
   },
   {
    "duration": 10,
    "start_time": "2023-05-30T04:25:51.547Z"
   },
   {
    "duration": 16,
    "start_time": "2023-05-30T04:25:51.558Z"
   },
   {
    "duration": 6,
    "start_time": "2023-05-30T04:25:51.576Z"
   },
   {
    "duration": 18,
    "start_time": "2023-05-30T04:25:51.583Z"
   },
   {
    "duration": 19,
    "start_time": "2023-05-30T04:25:51.603Z"
   },
   {
    "duration": 13,
    "start_time": "2023-05-30T04:25:51.623Z"
   },
   {
    "duration": 16,
    "start_time": "2023-05-30T04:25:51.637Z"
   },
   {
    "duration": 19,
    "start_time": "2023-05-30T04:25:51.656Z"
   },
   {
    "duration": 322613,
    "start_time": "2023-05-30T04:25:51.676Z"
   },
   {
    "duration": 186,
    "start_time": "2023-05-30T04:31:14.291Z"
   },
   {
    "duration": 0,
    "start_time": "2023-05-30T04:31:14.479Z"
   },
   {
    "duration": 7877,
    "start_time": "2023-05-30T04:34:58.199Z"
   },
   {
    "duration": 0,
    "start_time": "2023-05-30T04:35:06.078Z"
   },
   {
    "duration": 8099,
    "start_time": "2023-05-30T04:35:23.361Z"
   },
   {
    "duration": 8688,
    "start_time": "2023-05-30T04:35:33.125Z"
   },
   {
    "duration": 8,
    "start_time": "2023-05-30T04:35:41.814Z"
   },
   {
    "duration": 9620,
    "start_time": "2023-05-30T04:36:49.462Z"
   },
   {
    "duration": 41,
    "start_time": "2023-05-30T04:36:59.084Z"
   },
   {
    "duration": 40,
    "start_time": "2023-05-30T04:37:13.136Z"
   },
   {
    "duration": 7566,
    "start_time": "2023-05-30T04:37:19.738Z"
   },
   {
    "duration": 39,
    "start_time": "2023-05-30T04:37:28.375Z"
   },
   {
    "duration": 8608,
    "start_time": "2023-05-30T04:37:59.775Z"
   },
   {
    "duration": 8,
    "start_time": "2023-05-30T04:38:08.385Z"
   },
   {
    "duration": 8,
    "start_time": "2023-05-30T04:38:57.688Z"
   },
   {
    "duration": 54,
    "start_time": "2023-05-30T04:39:07.515Z"
   },
   {
    "duration": 64,
    "start_time": "2023-05-30T04:39:17.703Z"
   },
   {
    "duration": 293,
    "start_time": "2023-05-30T04:39:21.665Z"
   },
   {
    "duration": 1238,
    "start_time": "2023-05-30T04:39:42.191Z"
   },
   {
    "duration": 5,
    "start_time": "2023-05-30T04:39:53.050Z"
   },
   {
    "duration": 515,
    "start_time": "2023-05-30T04:40:38.410Z"
   },
   {
    "duration": 2178,
    "start_time": "2023-05-30T04:40:53.128Z"
   },
   {
    "duration": 4282,
    "start_time": "2023-05-30T04:40:55.308Z"
   },
   {
    "duration": 6,
    "start_time": "2023-05-30T04:40:59.591Z"
   },
   {
    "duration": 10,
    "start_time": "2023-05-30T04:40:59.599Z"
   },
   {
    "duration": 8,
    "start_time": "2023-05-30T04:40:59.610Z"
   },
   {
    "duration": 3109,
    "start_time": "2023-05-30T04:40:59.620Z"
   },
   {
    "duration": 14,
    "start_time": "2023-05-30T04:41:02.731Z"
   },
   {
    "duration": 40,
    "start_time": "2023-05-30T04:41:02.747Z"
   },
   {
    "duration": 63,
    "start_time": "2023-05-30T04:41:02.788Z"
   },
   {
    "duration": 39,
    "start_time": "2023-05-30T04:41:02.854Z"
   },
   {
    "duration": 342,
    "start_time": "2023-05-30T04:41:02.895Z"
   },
   {
    "duration": 7,
    "start_time": "2023-05-30T04:41:03.238Z"
   },
   {
    "duration": 12,
    "start_time": "2023-05-30T04:41:03.247Z"
   },
   {
    "duration": 27,
    "start_time": "2023-05-30T04:41:03.260Z"
   },
   {
    "duration": 8,
    "start_time": "2023-05-30T04:41:03.288Z"
   },
   {
    "duration": 19,
    "start_time": "2023-05-30T04:41:03.298Z"
   },
   {
    "duration": 23,
    "start_time": "2023-05-30T04:41:03.319Z"
   },
   {
    "duration": 23,
    "start_time": "2023-05-30T04:41:03.344Z"
   },
   {
    "duration": 17,
    "start_time": "2023-05-30T04:41:03.369Z"
   },
   {
    "duration": 35,
    "start_time": "2023-05-30T04:41:03.388Z"
   },
   {
    "duration": 96,
    "start_time": "2023-05-30T04:41:03.425Z"
   },
   {
    "duration": 62,
    "start_time": "2023-05-30T04:41:03.522Z"
   },
   {
    "duration": 506,
    "start_time": "2023-05-30T04:41:03.585Z"
   },
   {
    "duration": 3951,
    "start_time": "2023-05-30T04:41:04.093Z"
   },
   {
    "duration": 2,
    "start_time": "2023-05-30T04:41:08.046Z"
   },
   {
    "duration": 10,
    "start_time": "2023-05-30T04:41:08.049Z"
   },
   {
    "duration": 24,
    "start_time": "2023-05-30T04:41:08.060Z"
   },
   {
    "duration": 309,
    "start_time": "2023-05-30T04:41:08.088Z"
   },
   {
    "duration": 5,
    "start_time": "2023-05-30T04:41:08.399Z"
   },
   {
    "duration": 4,
    "start_time": "2023-05-30T04:41:08.406Z"
   },
   {
    "duration": 6,
    "start_time": "2023-05-30T04:41:08.411Z"
   },
   {
    "duration": 7,
    "start_time": "2023-05-30T04:41:08.418Z"
   },
   {
    "duration": 8,
    "start_time": "2023-05-30T04:41:08.427Z"
   },
   {
    "duration": 14,
    "start_time": "2023-05-30T04:41:08.437Z"
   },
   {
    "duration": 12,
    "start_time": "2023-05-30T04:41:08.453Z"
   },
   {
    "duration": 6,
    "start_time": "2023-05-30T04:41:08.466Z"
   },
   {
    "duration": 7653,
    "start_time": "2023-05-30T04:41:08.473Z"
   },
   {
    "duration": 1018,
    "start_time": "2023-05-30T04:41:16.127Z"
   },
   {
    "duration": 4,
    "start_time": "2023-05-30T04:42:49.131Z"
   },
   {
    "duration": 10123,
    "start_time": "2023-05-30T04:43:02.319Z"
   },
   {
    "duration": 48,
    "start_time": "2023-05-30T04:43:49.120Z"
   },
   {
    "duration": 4,
    "start_time": "2023-05-30T04:43:58.468Z"
   },
   {
    "duration": 9407,
    "start_time": "2023-05-30T04:43:58.473Z"
   },
   {
    "duration": 8981,
    "start_time": "2023-05-30T04:45:41.033Z"
   },
   {
    "duration": 4,
    "start_time": "2023-05-30T04:46:08.011Z"
   },
   {
    "duration": 9694,
    "start_time": "2023-05-30T04:46:09.674Z"
   },
   {
    "duration": 9263,
    "start_time": "2023-05-30T04:46:33.211Z"
   },
   {
    "duration": 9203,
    "start_time": "2023-05-30T04:48:24.052Z"
   },
   {
    "duration": 8,
    "start_time": "2023-05-30T04:49:17.066Z"
   },
   {
    "duration": 5,
    "start_time": "2023-05-30T04:49:33.642Z"
   },
   {
    "duration": 4,
    "start_time": "2023-05-30T04:50:19.592Z"
   },
   {
    "duration": 173,
    "start_time": "2023-05-30T04:51:15.518Z"
   },
   {
    "duration": 3,
    "start_time": "2023-05-30T04:51:23.093Z"
   },
   {
    "duration": 4,
    "start_time": "2023-05-30T04:51:27.793Z"
   },
   {
    "duration": 3,
    "start_time": "2023-05-30T04:51:30.680Z"
   },
   {
    "duration": 11,
    "start_time": "2023-05-30T04:51:38.981Z"
   },
   {
    "duration": 4,
    "start_time": "2023-05-30T04:51:46.009Z"
   },
   {
    "duration": 72,
    "start_time": "2023-05-30T04:51:59.716Z"
   },
   {
    "duration": 66,
    "start_time": "2023-05-30T04:52:36.444Z"
   },
   {
    "duration": 75,
    "start_time": "2023-05-30T04:52:49.105Z"
   },
   {
    "duration": 95,
    "start_time": "2023-05-30T04:52:54.357Z"
   },
   {
    "duration": 72,
    "start_time": "2023-05-30T04:52:58.871Z"
   },
   {
    "duration": 77,
    "start_time": "2023-05-30T04:53:05.133Z"
   },
   {
    "duration": 77,
    "start_time": "2023-05-30T04:53:15.707Z"
   },
   {
    "duration": 75,
    "start_time": "2023-05-30T04:54:26.422Z"
   },
   {
    "duration": 74,
    "start_time": "2023-05-30T04:54:30.095Z"
   },
   {
    "duration": 2054,
    "start_time": "2023-05-30T04:54:49.761Z"
   },
   {
    "duration": 2012,
    "start_time": "2023-05-30T04:54:51.818Z"
   },
   {
    "duration": 4,
    "start_time": "2023-05-30T04:54:53.831Z"
   },
   {
    "duration": 12,
    "start_time": "2023-05-30T04:54:53.836Z"
   },
   {
    "duration": 20,
    "start_time": "2023-05-30T04:54:53.850Z"
   },
   {
    "duration": 2389,
    "start_time": "2023-05-30T04:54:53.872Z"
   },
   {
    "duration": 11,
    "start_time": "2023-05-30T04:54:56.263Z"
   },
   {
    "duration": 16,
    "start_time": "2023-05-30T04:54:56.275Z"
   },
   {
    "duration": 45,
    "start_time": "2023-05-30T04:54:56.292Z"
   },
   {
    "duration": 41,
    "start_time": "2023-05-30T04:54:56.339Z"
   },
   {
    "duration": 333,
    "start_time": "2023-05-30T04:54:56.382Z"
   },
   {
    "duration": 7,
    "start_time": "2023-05-30T04:54:56.717Z"
   },
   {
    "duration": 6,
    "start_time": "2023-05-30T04:54:56.726Z"
   },
   {
    "duration": 3,
    "start_time": "2023-05-30T04:54:56.735Z"
   },
   {
    "duration": 5,
    "start_time": "2023-05-30T04:54:56.740Z"
   },
   {
    "duration": 4,
    "start_time": "2023-05-30T04:54:56.746Z"
   },
   {
    "duration": 12,
    "start_time": "2023-05-30T04:54:56.752Z"
   },
   {
    "duration": 19,
    "start_time": "2023-05-30T04:54:56.766Z"
   },
   {
    "duration": 15,
    "start_time": "2023-05-30T04:54:56.786Z"
   },
   {
    "duration": 15,
    "start_time": "2023-05-30T04:54:56.803Z"
   },
   {
    "duration": 39,
    "start_time": "2023-05-30T04:54:56.819Z"
   },
   {
    "duration": 69,
    "start_time": "2023-05-30T04:54:56.859Z"
   },
   {
    "duration": 404,
    "start_time": "2023-05-30T04:54:56.929Z"
   },
   {
    "duration": 2933,
    "start_time": "2023-05-30T04:54:57.334Z"
   },
   {
    "duration": 3,
    "start_time": "2023-05-30T04:55:00.268Z"
   },
   {
    "duration": 62,
    "start_time": "2023-05-30T04:55:00.272Z"
   },
   {
    "duration": 49,
    "start_time": "2023-05-30T04:55:00.336Z"
   },
   {
    "duration": 300,
    "start_time": "2023-05-30T04:55:00.387Z"
   },
   {
    "duration": 5,
    "start_time": "2023-05-30T04:55:00.688Z"
   },
   {
    "duration": 28,
    "start_time": "2023-05-30T04:55:00.694Z"
   },
   {
    "duration": 20,
    "start_time": "2023-05-30T04:55:00.724Z"
   },
   {
    "duration": 16,
    "start_time": "2023-05-30T04:55:00.745Z"
   },
   {
    "duration": 46,
    "start_time": "2023-05-30T04:55:00.763Z"
   },
   {
    "duration": 83,
    "start_time": "2023-05-30T04:55:00.811Z"
   },
   {
    "duration": 65,
    "start_time": "2023-05-30T04:55:00.896Z"
   },
   {
    "duration": 30,
    "start_time": "2023-05-30T04:55:00.963Z"
   },
   {
    "duration": 51,
    "start_time": "2023-05-30T04:55:00.995Z"
   },
   {
    "duration": 8864,
    "start_time": "2023-05-30T04:55:01.048Z"
   },
   {
    "duration": 4,
    "start_time": "2023-05-30T04:55:09.913Z"
   },
   {
    "duration": 9,
    "start_time": "2023-05-30T04:55:09.919Z"
   },
   {
    "duration": 7,
    "start_time": "2023-05-30T04:55:09.931Z"
   },
   {
    "duration": 4,
    "start_time": "2023-05-30T04:55:09.939Z"
   },
   {
    "duration": 5,
    "start_time": "2023-05-30T04:55:09.944Z"
   },
   {
    "duration": 321230,
    "start_time": "2023-05-30T04:55:09.950Z"
   },
   {
    "duration": 2050,
    "start_time": "2023-05-30T05:01:01.396Z"
   },
   {
    "duration": 2018,
    "start_time": "2023-05-30T05:01:03.449Z"
   },
   {
    "duration": 4,
    "start_time": "2023-05-30T05:01:05.469Z"
   },
   {
    "duration": 19,
    "start_time": "2023-05-30T05:01:05.474Z"
   },
   {
    "duration": 16,
    "start_time": "2023-05-30T05:01:05.495Z"
   },
   {
    "duration": 2316,
    "start_time": "2023-05-30T05:01:05.513Z"
   },
   {
    "duration": 11,
    "start_time": "2023-05-30T05:01:07.830Z"
   },
   {
    "duration": 7,
    "start_time": "2023-05-30T05:01:07.843Z"
   },
   {
    "duration": 51,
    "start_time": "2023-05-30T05:01:07.852Z"
   },
   {
    "duration": 43,
    "start_time": "2023-05-30T05:01:07.905Z"
   },
   {
    "duration": 337,
    "start_time": "2023-05-30T05:01:07.949Z"
   },
   {
    "duration": 8,
    "start_time": "2023-05-30T05:01:08.287Z"
   },
   {
    "duration": 17,
    "start_time": "2023-05-30T05:01:08.296Z"
   },
   {
    "duration": 3,
    "start_time": "2023-05-30T05:01:08.319Z"
   },
   {
    "duration": 9,
    "start_time": "2023-05-30T05:01:08.323Z"
   },
   {
    "duration": 5,
    "start_time": "2023-05-30T05:01:08.333Z"
   },
   {
    "duration": 15,
    "start_time": "2023-05-30T05:01:08.340Z"
   },
   {
    "duration": 13,
    "start_time": "2023-05-30T05:01:08.357Z"
   },
   {
    "duration": 12,
    "start_time": "2023-05-30T05:01:08.371Z"
   },
   {
    "duration": 9,
    "start_time": "2023-05-30T05:01:08.385Z"
   },
   {
    "duration": 46,
    "start_time": "2023-05-30T05:01:08.395Z"
   },
   {
    "duration": 66,
    "start_time": "2023-05-30T05:01:08.442Z"
   },
   {
    "duration": 407,
    "start_time": "2023-05-30T05:01:08.510Z"
   },
   {
    "duration": 2948,
    "start_time": "2023-05-30T05:01:08.919Z"
   },
   {
    "duration": 2,
    "start_time": "2023-05-30T05:01:11.869Z"
   },
   {
    "duration": 4,
    "start_time": "2023-05-30T05:01:11.873Z"
   },
   {
    "duration": 25,
    "start_time": "2023-05-30T05:01:11.878Z"
   },
   {
    "duration": 217,
    "start_time": "2023-05-30T05:01:11.905Z"
   },
   {
    "duration": 4,
    "start_time": "2023-05-30T05:01:12.123Z"
   },
   {
    "duration": 10,
    "start_time": "2023-05-30T05:01:12.129Z"
   },
   {
    "duration": 5,
    "start_time": "2023-05-30T05:01:12.140Z"
   },
   {
    "duration": 9,
    "start_time": "2023-05-30T05:01:12.146Z"
   },
   {
    "duration": 9,
    "start_time": "2023-05-30T05:01:12.157Z"
   },
   {
    "duration": 5,
    "start_time": "2023-05-30T05:01:12.168Z"
   },
   {
    "duration": 11,
    "start_time": "2023-05-30T05:01:12.175Z"
   },
   {
    "duration": 6,
    "start_time": "2023-05-30T05:01:12.187Z"
   },
   {
    "duration": 7,
    "start_time": "2023-05-30T05:01:12.195Z"
   },
   {
    "duration": 6,
    "start_time": "2023-05-30T05:01:12.203Z"
   },
   {
    "duration": 15,
    "start_time": "2023-05-30T05:01:12.211Z"
   },
   {
    "duration": 7,
    "start_time": "2023-05-30T05:01:12.228Z"
   },
   {
    "duration": 6,
    "start_time": "2023-05-30T05:01:12.238Z"
   },
   {
    "duration": 312804,
    "start_time": "2023-05-30T05:01:12.246Z"
   },
   {
    "duration": 3,
    "start_time": "2023-05-30T05:06:25.051Z"
   },
   {
    "duration": 20,
    "start_time": "2023-05-30T05:06:25.055Z"
   },
   {
    "duration": 20,
    "start_time": "2023-05-30T05:06:25.076Z"
   },
   {
    "duration": 2048,
    "start_time": "2023-05-30T05:06:54.781Z"
   },
   {
    "duration": 2001,
    "start_time": "2023-05-30T05:06:56.831Z"
   },
   {
    "duration": 4,
    "start_time": "2023-05-30T05:06:58.833Z"
   },
   {
    "duration": 8,
    "start_time": "2023-05-30T05:06:58.838Z"
   },
   {
    "duration": 19,
    "start_time": "2023-05-30T05:06:58.848Z"
   },
   {
    "duration": 2695,
    "start_time": "2023-05-30T05:06:58.869Z"
   },
   {
    "duration": 15,
    "start_time": "2023-05-30T05:07:01.566Z"
   },
   {
    "duration": 59,
    "start_time": "2023-05-30T05:07:01.582Z"
   },
   {
    "duration": 71,
    "start_time": "2023-05-30T05:07:01.643Z"
   },
   {
    "duration": 67,
    "start_time": "2023-05-30T05:07:01.716Z"
   },
   {
    "duration": 345,
    "start_time": "2023-05-30T05:07:01.785Z"
   },
   {
    "duration": 7,
    "start_time": "2023-05-30T05:07:02.132Z"
   },
   {
    "duration": 22,
    "start_time": "2023-05-30T05:07:02.141Z"
   },
   {
    "duration": 19,
    "start_time": "2023-05-30T05:07:02.166Z"
   },
   {
    "duration": 39,
    "start_time": "2023-05-30T05:07:02.187Z"
   },
   {
    "duration": 26,
    "start_time": "2023-05-30T05:07:02.228Z"
   },
   {
    "duration": 28,
    "start_time": "2023-05-30T05:07:02.256Z"
   },
   {
    "duration": 35,
    "start_time": "2023-05-30T05:07:02.286Z"
   },
   {
    "duration": 15,
    "start_time": "2023-05-30T05:07:02.323Z"
   },
   {
    "duration": 25,
    "start_time": "2023-05-30T05:07:02.340Z"
   },
   {
    "duration": 68,
    "start_time": "2023-05-30T05:07:02.366Z"
   },
   {
    "duration": 98,
    "start_time": "2023-05-30T05:07:02.436Z"
   },
   {
    "duration": 402,
    "start_time": "2023-05-30T05:07:02.536Z"
   },
   {
    "duration": 3005,
    "start_time": "2023-05-30T05:07:02.939Z"
   },
   {
    "duration": 3,
    "start_time": "2023-05-30T05:07:05.946Z"
   },
   {
    "duration": 28,
    "start_time": "2023-05-30T05:07:05.950Z"
   },
   {
    "duration": 41,
    "start_time": "2023-05-30T05:07:05.980Z"
   },
   {
    "duration": 271,
    "start_time": "2023-05-30T05:07:06.023Z"
   },
   {
    "duration": 4,
    "start_time": "2023-05-30T05:07:06.296Z"
   },
   {
    "duration": 23,
    "start_time": "2023-05-30T05:07:06.301Z"
   },
   {
    "duration": 20,
    "start_time": "2023-05-30T05:07:06.326Z"
   },
   {
    "duration": 21,
    "start_time": "2023-05-30T05:07:06.347Z"
   },
   {
    "duration": 20,
    "start_time": "2023-05-30T05:07:06.370Z"
   },
   {
    "duration": 129,
    "start_time": "2023-05-30T05:07:06.391Z"
   },
   {
    "duration": 43,
    "start_time": "2023-05-30T05:07:06.522Z"
   },
   {
    "duration": 42,
    "start_time": "2023-05-30T05:07:06.567Z"
   },
   {
    "duration": 18,
    "start_time": "2023-05-30T05:07:06.611Z"
   },
   {
    "duration": 29,
    "start_time": "2023-05-30T05:07:06.630Z"
   },
   {
    "duration": 11,
    "start_time": "2023-05-30T05:07:06.660Z"
   },
   {
    "duration": 12,
    "start_time": "2023-05-30T05:07:06.672Z"
   },
   {
    "duration": 14,
    "start_time": "2023-05-30T05:07:06.687Z"
   },
   {
    "duration": 326581,
    "start_time": "2023-05-30T05:07:06.703Z"
   },
   {
    "duration": 3,
    "start_time": "2023-05-30T05:12:33.285Z"
   },
   {
    "duration": 19,
    "start_time": "2023-05-30T05:12:33.289Z"
   },
   {
    "duration": 29,
    "start_time": "2023-05-30T05:12:33.309Z"
   },
   {
    "duration": 222894,
    "start_time": "2023-05-30T05:12:33.339Z"
   },
   {
    "duration": 2011,
    "start_time": "2023-05-30T05:16:34.511Z"
   },
   {
    "duration": 2037,
    "start_time": "2023-05-30T05:16:36.524Z"
   },
   {
    "duration": 3,
    "start_time": "2023-05-30T05:16:38.563Z"
   },
   {
    "duration": 34,
    "start_time": "2023-05-30T05:16:38.568Z"
   },
   {
    "duration": 7,
    "start_time": "2023-05-30T05:16:38.604Z"
   },
   {
    "duration": 2346,
    "start_time": "2023-05-30T05:16:38.613Z"
   },
   {
    "duration": 12,
    "start_time": "2023-05-30T05:16:40.961Z"
   },
   {
    "duration": 4,
    "start_time": "2023-05-30T05:16:40.974Z"
   },
   {
    "duration": 65,
    "start_time": "2023-05-30T05:16:40.979Z"
   },
   {
    "duration": 39,
    "start_time": "2023-05-30T05:16:41.045Z"
   },
   {
    "duration": 344,
    "start_time": "2023-05-30T05:16:41.086Z"
   },
   {
    "duration": 7,
    "start_time": "2023-05-30T05:16:41.431Z"
   },
   {
    "duration": 11,
    "start_time": "2023-05-30T05:16:41.440Z"
   },
   {
    "duration": 4,
    "start_time": "2023-05-30T05:16:41.454Z"
   },
   {
    "duration": 14,
    "start_time": "2023-05-30T05:16:41.460Z"
   },
   {
    "duration": 11,
    "start_time": "2023-05-30T05:16:41.475Z"
   },
   {
    "duration": 14,
    "start_time": "2023-05-30T05:16:41.488Z"
   },
   {
    "duration": 9,
    "start_time": "2023-05-30T05:16:41.503Z"
   },
   {
    "duration": 7,
    "start_time": "2023-05-30T05:16:41.514Z"
   },
   {
    "duration": 9,
    "start_time": "2023-05-30T05:16:41.523Z"
   },
   {
    "duration": 39,
    "start_time": "2023-05-30T05:16:41.533Z"
   },
   {
    "duration": 69,
    "start_time": "2023-05-30T05:16:41.574Z"
   },
   {
    "duration": 413,
    "start_time": "2023-05-30T05:16:41.645Z"
   },
   {
    "duration": 2951,
    "start_time": "2023-05-30T05:16:42.059Z"
   },
   {
    "duration": 2,
    "start_time": "2023-05-30T05:16:45.011Z"
   },
   {
    "duration": 29,
    "start_time": "2023-05-30T05:16:45.017Z"
   },
   {
    "duration": 44,
    "start_time": "2023-05-30T05:16:45.048Z"
   },
   {
    "duration": 307,
    "start_time": "2023-05-30T05:16:45.093Z"
   },
   {
    "duration": 5,
    "start_time": "2023-05-30T05:16:45.401Z"
   },
   {
    "duration": 16,
    "start_time": "2023-05-30T05:16:45.407Z"
   },
   {
    "duration": 12,
    "start_time": "2023-05-30T05:16:45.425Z"
   },
   {
    "duration": 5,
    "start_time": "2023-05-30T05:16:45.438Z"
   },
   {
    "duration": 5,
    "start_time": "2023-05-30T05:16:45.445Z"
   },
   {
    "duration": 10,
    "start_time": "2023-05-30T05:16:45.451Z"
   },
   {
    "duration": 42,
    "start_time": "2023-05-30T05:16:45.462Z"
   },
   {
    "duration": 8,
    "start_time": "2023-05-30T05:16:45.505Z"
   },
   {
    "duration": 10,
    "start_time": "2023-05-30T05:16:45.515Z"
   },
   {
    "duration": 21,
    "start_time": "2023-05-30T05:16:45.527Z"
   },
   {
    "duration": 12,
    "start_time": "2023-05-30T05:16:45.549Z"
   },
   {
    "duration": 9,
    "start_time": "2023-05-30T05:16:45.562Z"
   },
   {
    "duration": 11,
    "start_time": "2023-05-30T05:16:45.574Z"
   },
   {
    "duration": 314189,
    "start_time": "2023-05-30T05:16:45.586Z"
   },
   {
    "duration": 2,
    "start_time": "2023-05-30T05:21:59.777Z"
   },
   {
    "duration": 18,
    "start_time": "2023-05-30T05:21:59.780Z"
   },
   {
    "duration": 8,
    "start_time": "2023-05-30T05:21:59.799Z"
   },
   {
    "duration": 340926,
    "start_time": "2023-05-30T05:21:59.808Z"
   },
   {
    "duration": 3,
    "start_time": "2023-05-30T05:27:49.046Z"
   },
   {
    "duration": 3,
    "start_time": "2023-05-30T05:27:49.519Z"
   },
   {
    "duration": 3,
    "start_time": "2023-05-30T05:27:49.969Z"
   },
   {
    "duration": 992595,
    "start_time": "2023-05-30T05:27:50.558Z"
   },
   {
    "duration": 3,
    "start_time": "2023-05-30T05:44:23.155Z"
   },
   {
    "duration": 127,
    "start_time": "2023-05-30T05:44:23.159Z"
   },
   {
    "duration": 6,
    "start_time": "2023-05-30T05:44:23.289Z"
   },
   {
    "duration": 2035,
    "start_time": "2023-05-30T06:05:54.878Z"
   },
   {
    "duration": 2025,
    "start_time": "2023-05-30T06:05:56.915Z"
   },
   {
    "duration": 4,
    "start_time": "2023-05-30T06:05:58.941Z"
   },
   {
    "duration": 25,
    "start_time": "2023-05-30T06:05:58.946Z"
   },
   {
    "duration": 12,
    "start_time": "2023-05-30T06:05:58.972Z"
   },
   {
    "duration": 2717,
    "start_time": "2023-05-30T06:05:58.986Z"
   },
   {
    "duration": 13,
    "start_time": "2023-05-30T06:06:01.705Z"
   },
   {
    "duration": 37,
    "start_time": "2023-05-30T06:06:01.719Z"
   },
   {
    "duration": 68,
    "start_time": "2023-05-30T06:06:01.758Z"
   },
   {
    "duration": 41,
    "start_time": "2023-05-30T06:06:01.829Z"
   },
   {
    "duration": 355,
    "start_time": "2023-05-30T06:06:01.871Z"
   },
   {
    "duration": 8,
    "start_time": "2023-05-30T06:06:02.227Z"
   },
   {
    "duration": 41,
    "start_time": "2023-05-30T06:06:02.236Z"
   },
   {
    "duration": 29,
    "start_time": "2023-05-30T06:06:02.279Z"
   },
   {
    "duration": 34,
    "start_time": "2023-05-30T06:06:02.309Z"
   },
   {
    "duration": 26,
    "start_time": "2023-05-30T06:06:02.345Z"
   },
   {
    "duration": 17,
    "start_time": "2023-05-30T06:06:02.373Z"
   },
   {
    "duration": 36,
    "start_time": "2023-05-30T06:06:02.391Z"
   },
   {
    "duration": 20,
    "start_time": "2023-05-30T06:06:02.428Z"
   },
   {
    "duration": 20,
    "start_time": "2023-05-30T06:06:02.450Z"
   },
   {
    "duration": 53,
    "start_time": "2023-05-30T06:06:02.472Z"
   },
   {
    "duration": 65,
    "start_time": "2023-05-30T06:06:02.526Z"
   },
   {
    "duration": 409,
    "start_time": "2023-05-30T06:06:02.593Z"
   },
   {
    "duration": 2999,
    "start_time": "2023-05-30T06:06:03.004Z"
   },
   {
    "duration": 2,
    "start_time": "2023-05-30T06:06:06.005Z"
   },
   {
    "duration": 16,
    "start_time": "2023-05-30T06:06:06.017Z"
   },
   {
    "duration": 37,
    "start_time": "2023-05-30T06:06:06.034Z"
   },
   {
    "duration": 264,
    "start_time": "2023-05-30T06:06:06.074Z"
   },
   {
    "duration": 3,
    "start_time": "2023-05-30T06:06:06.339Z"
   },
   {
    "duration": 19,
    "start_time": "2023-05-30T06:06:06.344Z"
   },
   {
    "duration": 24,
    "start_time": "2023-05-30T06:06:06.365Z"
   },
   {
    "duration": 59,
    "start_time": "2023-05-30T06:06:06.390Z"
   },
   {
    "duration": 27,
    "start_time": "2023-05-30T06:06:06.451Z"
   },
   {
    "duration": 27,
    "start_time": "2023-05-30T06:06:06.480Z"
   },
   {
    "duration": 38,
    "start_time": "2023-05-30T06:06:06.509Z"
   },
   {
    "duration": 25,
    "start_time": "2023-05-30T06:06:06.548Z"
   },
   {
    "duration": 65,
    "start_time": "2023-05-30T06:06:06.574Z"
   },
   {
    "duration": 20,
    "start_time": "2023-05-30T06:06:06.640Z"
   },
   {
    "duration": 18,
    "start_time": "2023-05-30T06:06:06.662Z"
   },
   {
    "duration": 32,
    "start_time": "2023-05-30T06:06:06.681Z"
   },
   {
    "duration": 30,
    "start_time": "2023-05-30T06:06:06.714Z"
   },
   {
    "duration": 2033,
    "start_time": "2023-05-30T06:09:07.731Z"
   },
   {
    "duration": 1983,
    "start_time": "2023-05-30T06:09:09.766Z"
   },
   {
    "duration": 3,
    "start_time": "2023-05-30T06:09:11.751Z"
   },
   {
    "duration": 19,
    "start_time": "2023-05-30T06:09:11.755Z"
   },
   {
    "duration": 13,
    "start_time": "2023-05-30T06:09:11.776Z"
   },
   {
    "duration": 2393,
    "start_time": "2023-05-30T06:09:11.790Z"
   },
   {
    "duration": 11,
    "start_time": "2023-05-30T06:09:14.185Z"
   },
   {
    "duration": 8,
    "start_time": "2023-05-30T06:09:14.197Z"
   },
   {
    "duration": 47,
    "start_time": "2023-05-30T06:09:14.207Z"
   },
   {
    "duration": 45,
    "start_time": "2023-05-30T06:09:14.255Z"
   },
   {
    "duration": 340,
    "start_time": "2023-05-30T06:09:14.301Z"
   },
   {
    "duration": 8,
    "start_time": "2023-05-30T06:09:14.642Z"
   },
   {
    "duration": 7,
    "start_time": "2023-05-30T06:09:14.651Z"
   },
   {
    "duration": 8,
    "start_time": "2023-05-30T06:09:14.661Z"
   },
   {
    "duration": 5,
    "start_time": "2023-05-30T06:09:14.671Z"
   },
   {
    "duration": 5,
    "start_time": "2023-05-30T06:09:14.678Z"
   },
   {
    "duration": 5,
    "start_time": "2023-05-30T06:09:14.684Z"
   },
   {
    "duration": 31,
    "start_time": "2023-05-30T06:09:14.690Z"
   },
   {
    "duration": 7,
    "start_time": "2023-05-30T06:09:14.723Z"
   },
   {
    "duration": 8,
    "start_time": "2023-05-30T06:09:14.732Z"
   },
   {
    "duration": 38,
    "start_time": "2023-05-30T06:09:14.741Z"
   },
   {
    "duration": 83,
    "start_time": "2023-05-30T06:09:14.781Z"
   },
   {
    "duration": 410,
    "start_time": "2023-05-30T06:09:14.866Z"
   },
   {
    "duration": 2976,
    "start_time": "2023-05-30T06:09:15.278Z"
   },
   {
    "duration": 2,
    "start_time": "2023-05-30T06:09:18.256Z"
   },
   {
    "duration": 9,
    "start_time": "2023-05-30T06:09:18.260Z"
   },
   {
    "duration": 23,
    "start_time": "2023-05-30T06:09:18.270Z"
   },
   {
    "duration": 298,
    "start_time": "2023-05-30T06:09:18.295Z"
   },
   {
    "duration": 4,
    "start_time": "2023-05-30T06:09:18.595Z"
   },
   {
    "duration": 7,
    "start_time": "2023-05-30T06:09:18.600Z"
   },
   {
    "duration": 6,
    "start_time": "2023-05-30T06:09:18.609Z"
   },
   {
    "duration": 5,
    "start_time": "2023-05-30T06:09:18.617Z"
   },
   {
    "duration": 5,
    "start_time": "2023-05-30T06:09:18.624Z"
   },
   {
    "duration": 6,
    "start_time": "2023-05-30T06:09:18.630Z"
   },
   {
    "duration": 11,
    "start_time": "2023-05-30T06:09:18.638Z"
   },
   {
    "duration": 28,
    "start_time": "2023-05-30T06:09:18.651Z"
   },
   {
    "duration": 18,
    "start_time": "2023-05-30T06:09:18.680Z"
   },
   {
    "duration": 19,
    "start_time": "2023-05-30T06:09:18.700Z"
   },
   {
    "duration": 170,
    "start_time": "2023-05-30T06:09:18.721Z"
   },
   {
    "duration": 0,
    "start_time": "2023-05-30T06:09:18.893Z"
   },
   {
    "duration": 0,
    "start_time": "2023-05-30T06:09:18.894Z"
   },
   {
    "duration": 0,
    "start_time": "2023-05-30T06:09:18.896Z"
   },
   {
    "duration": 66,
    "start_time": "2023-05-30T06:09:46.816Z"
   },
   {
    "duration": 49,
    "start_time": "2023-05-30T06:09:49.143Z"
   },
   {
    "duration": 2,
    "start_time": "2023-05-30T06:09:49.556Z"
   },
   {
    "duration": 3,
    "start_time": "2023-05-30T06:09:50.906Z"
   },
   {
    "duration": 3,
    "start_time": "2023-05-30T06:09:51.318Z"
   },
   {
    "duration": 52,
    "start_time": "2023-05-30T06:09:51.729Z"
   },
   {
    "duration": 6,
    "start_time": "2023-05-30T06:10:14.282Z"
   },
   {
    "duration": 3,
    "start_time": "2023-05-30T06:10:33.195Z"
   },
   {
    "duration": 26464,
    "start_time": "2023-05-30T06:10:33.708Z"
   },
   {
    "duration": 2076,
    "start_time": "2023-05-30T06:11:12.576Z"
   },
   {
    "duration": 1990,
    "start_time": "2023-05-30T06:11:14.654Z"
   },
   {
    "duration": 4,
    "start_time": "2023-05-30T06:11:16.645Z"
   },
   {
    "duration": 9,
    "start_time": "2023-05-30T06:11:16.650Z"
   },
   {
    "duration": 5,
    "start_time": "2023-05-30T06:11:16.660Z"
   },
   {
    "duration": 2258,
    "start_time": "2023-05-30T06:11:16.666Z"
   },
   {
    "duration": 13,
    "start_time": "2023-05-30T06:11:18.925Z"
   },
   {
    "duration": 35,
    "start_time": "2023-05-30T06:11:18.939Z"
   },
   {
    "duration": 53,
    "start_time": "2023-05-30T06:11:18.976Z"
   },
   {
    "duration": 39,
    "start_time": "2023-05-30T06:11:19.031Z"
   },
   {
    "duration": 334,
    "start_time": "2023-05-30T06:11:19.072Z"
   },
   {
    "duration": 14,
    "start_time": "2023-05-30T06:11:19.408Z"
   },
   {
    "duration": 8,
    "start_time": "2023-05-30T06:11:19.423Z"
   },
   {
    "duration": 6,
    "start_time": "2023-05-30T06:11:19.434Z"
   },
   {
    "duration": 7,
    "start_time": "2023-05-30T06:11:19.442Z"
   },
   {
    "duration": 16,
    "start_time": "2023-05-30T06:11:19.450Z"
   },
   {
    "duration": 8,
    "start_time": "2023-05-30T06:11:19.468Z"
   },
   {
    "duration": 34,
    "start_time": "2023-05-30T06:11:19.478Z"
   },
   {
    "duration": 27,
    "start_time": "2023-05-30T06:11:19.513Z"
   },
   {
    "duration": 27,
    "start_time": "2023-05-30T06:11:19.542Z"
   },
   {
    "duration": 38,
    "start_time": "2023-05-30T06:11:19.571Z"
   },
   {
    "duration": 60,
    "start_time": "2023-05-30T06:11:19.611Z"
   },
   {
    "duration": 410,
    "start_time": "2023-05-30T06:11:19.673Z"
   },
   {
    "duration": 3000,
    "start_time": "2023-05-30T06:11:20.085Z"
   },
   {
    "duration": 3,
    "start_time": "2023-05-30T06:11:23.087Z"
   },
   {
    "duration": 9,
    "start_time": "2023-05-30T06:11:23.092Z"
   },
   {
    "duration": 31,
    "start_time": "2023-05-30T06:11:23.102Z"
   },
   {
    "duration": 209,
    "start_time": "2023-05-30T06:11:23.135Z"
   },
   {
    "duration": 4,
    "start_time": "2023-05-30T06:11:23.345Z"
   },
   {
    "duration": 7,
    "start_time": "2023-05-30T06:11:23.350Z"
   },
   {
    "duration": 10,
    "start_time": "2023-05-30T06:11:23.358Z"
   },
   {
    "duration": 10,
    "start_time": "2023-05-30T06:11:23.369Z"
   },
   {
    "duration": 5,
    "start_time": "2023-05-30T06:11:23.381Z"
   },
   {
    "duration": 5,
    "start_time": "2023-05-30T06:11:23.388Z"
   },
   {
    "duration": 20,
    "start_time": "2023-05-30T06:11:23.394Z"
   },
   {
    "duration": 10,
    "start_time": "2023-05-30T06:11:23.416Z"
   },
   {
    "duration": 8,
    "start_time": "2023-05-30T06:11:23.427Z"
   },
   {
    "duration": 6,
    "start_time": "2023-05-30T06:11:23.436Z"
   },
   {
    "duration": 5,
    "start_time": "2023-05-30T06:11:23.443Z"
   },
   {
    "duration": 10,
    "start_time": "2023-05-30T06:11:23.449Z"
   },
   {
    "duration": 3,
    "start_time": "2023-05-30T06:11:23.462Z"
   },
   {
    "duration": 2149,
    "start_time": "2023-05-30T06:11:38.438Z"
   },
   {
    "duration": 2045,
    "start_time": "2023-05-30T06:11:40.590Z"
   },
   {
    "duration": 4,
    "start_time": "2023-05-30T06:11:42.636Z"
   },
   {
    "duration": 13,
    "start_time": "2023-05-30T06:11:42.642Z"
   },
   {
    "duration": 5,
    "start_time": "2023-05-30T06:11:42.656Z"
   },
   {
    "duration": 2269,
    "start_time": "2023-05-30T06:11:42.663Z"
   },
   {
    "duration": 10,
    "start_time": "2023-05-30T06:11:44.933Z"
   },
   {
    "duration": 20,
    "start_time": "2023-05-30T06:11:44.945Z"
   },
   {
    "duration": 50,
    "start_time": "2023-05-30T06:11:44.967Z"
   },
   {
    "duration": 79,
    "start_time": "2023-05-30T06:11:45.020Z"
   },
   {
    "duration": 334,
    "start_time": "2023-05-30T06:11:45.101Z"
   },
   {
    "duration": 7,
    "start_time": "2023-05-30T06:11:45.437Z"
   },
   {
    "duration": 31,
    "start_time": "2023-05-30T06:11:45.446Z"
   },
   {
    "duration": 17,
    "start_time": "2023-05-30T06:11:45.479Z"
   },
   {
    "duration": 15,
    "start_time": "2023-05-30T06:11:45.497Z"
   },
   {
    "duration": 15,
    "start_time": "2023-05-30T06:11:45.514Z"
   },
   {
    "duration": 7,
    "start_time": "2023-05-30T06:11:45.531Z"
   },
   {
    "duration": 16,
    "start_time": "2023-05-30T06:11:45.539Z"
   },
   {
    "duration": 11,
    "start_time": "2023-05-30T06:11:45.557Z"
   },
   {
    "duration": 16,
    "start_time": "2023-05-30T06:11:45.570Z"
   },
   {
    "duration": 45,
    "start_time": "2023-05-30T06:11:45.588Z"
   },
   {
    "duration": 66,
    "start_time": "2023-05-30T06:11:45.635Z"
   },
   {
    "duration": 405,
    "start_time": "2023-05-30T06:11:45.702Z"
   },
   {
    "duration": 3183,
    "start_time": "2023-05-30T06:11:46.109Z"
   },
   {
    "duration": 2,
    "start_time": "2023-05-30T06:11:49.294Z"
   },
   {
    "duration": 28,
    "start_time": "2023-05-30T06:11:49.298Z"
   },
   {
    "duration": 24,
    "start_time": "2023-05-30T06:11:49.327Z"
   },
   {
    "duration": 158,
    "start_time": "2023-05-30T06:11:49.355Z"
   },
   {
    "duration": 4,
    "start_time": "2023-05-30T06:11:49.514Z"
   },
   {
    "duration": 14,
    "start_time": "2023-05-30T06:11:49.519Z"
   },
   {
    "duration": 34,
    "start_time": "2023-05-30T06:11:49.535Z"
   },
   {
    "duration": 7,
    "start_time": "2023-05-30T06:11:49.571Z"
   },
   {
    "duration": 12,
    "start_time": "2023-05-30T06:11:49.579Z"
   },
   {
    "duration": 10,
    "start_time": "2023-05-30T06:11:49.593Z"
   },
   {
    "duration": 17,
    "start_time": "2023-05-30T06:11:49.605Z"
   },
   {
    "duration": 5,
    "start_time": "2023-05-30T06:11:49.624Z"
   },
   {
    "duration": 14,
    "start_time": "2023-05-30T06:11:49.630Z"
   },
   {
    "duration": 20,
    "start_time": "2023-05-30T06:11:49.646Z"
   },
   {
    "duration": 5,
    "start_time": "2023-05-30T06:11:49.667Z"
   },
   {
    "duration": 6,
    "start_time": "2023-05-30T06:11:49.673Z"
   },
   {
    "duration": 8,
    "start_time": "2023-05-30T06:11:49.680Z"
   },
   {
    "duration": 314099,
    "start_time": "2023-05-30T06:11:49.689Z"
   },
   {
    "duration": 2,
    "start_time": "2023-05-30T06:17:03.790Z"
   },
   {
    "duration": 12,
    "start_time": "2023-05-30T06:17:03.793Z"
   },
   {
    "duration": 33,
    "start_time": "2023-05-30T06:17:03.807Z"
   },
   {
    "duration": 340190,
    "start_time": "2023-05-30T06:17:03.841Z"
   },
   {
    "duration": 2,
    "start_time": "2023-05-30T06:22:44.032Z"
   },
   {
    "duration": 7,
    "start_time": "2023-05-30T06:22:44.036Z"
   },
   {
    "duration": 6,
    "start_time": "2023-05-30T06:22:44.044Z"
   },
   {
    "duration": 986659,
    "start_time": "2023-05-30T06:22:44.051Z"
   },
   {
    "duration": 6,
    "start_time": "2023-05-30T06:39:10.711Z"
   },
   {
    "duration": 5,
    "start_time": "2023-05-30T06:39:10.718Z"
   },
   {
    "duration": 8,
    "start_time": "2023-05-30T06:39:10.724Z"
   },
   {
    "duration": 2326447,
    "start_time": "2023-05-30T06:39:10.734Z"
   },
   {
    "duration": 3,
    "start_time": "2023-05-30T07:17:57.182Z"
   },
   {
    "duration": 30,
    "start_time": "2023-05-30T07:17:57.188Z"
   },
   {
    "duration": 3,
    "start_time": "2023-05-30T07:17:57.220Z"
   },
   {
    "duration": 2211,
    "start_time": "2023-05-30T07:40:27.620Z"
   },
   {
    "duration": 5092,
    "start_time": "2023-05-30T07:40:29.833Z"
   },
   {
    "duration": 8,
    "start_time": "2023-05-30T07:40:34.926Z"
   },
   {
    "duration": 2,
    "start_time": "2023-05-30T07:40:34.937Z"
   },
   {
    "duration": 6,
    "start_time": "2023-05-30T07:40:34.941Z"
   },
   {
    "duration": 4468,
    "start_time": "2023-05-30T07:40:34.949Z"
   },
   {
    "duration": 11,
    "start_time": "2023-05-30T07:40:39.419Z"
   },
   {
    "duration": 17,
    "start_time": "2023-05-30T07:40:39.432Z"
   },
   {
    "duration": 46,
    "start_time": "2023-05-30T07:40:39.450Z"
   },
   {
    "duration": 40,
    "start_time": "2023-05-30T07:40:39.499Z"
   },
   {
    "duration": 327,
    "start_time": "2023-05-30T07:40:39.541Z"
   },
   {
    "duration": 7,
    "start_time": "2023-05-30T07:40:39.870Z"
   },
   {
    "duration": 7,
    "start_time": "2023-05-30T07:40:39.878Z"
   },
   {
    "duration": 7,
    "start_time": "2023-05-30T07:40:39.886Z"
   },
   {
    "duration": 25,
    "start_time": "2023-05-30T07:40:39.895Z"
   },
   {
    "duration": 15,
    "start_time": "2023-05-30T07:40:39.922Z"
   },
   {
    "duration": 6,
    "start_time": "2023-05-30T07:40:39.938Z"
   },
   {
    "duration": 6,
    "start_time": "2023-05-30T07:40:39.945Z"
   },
   {
    "duration": 7,
    "start_time": "2023-05-30T07:40:39.952Z"
   },
   {
    "duration": 12,
    "start_time": "2023-05-30T07:40:39.961Z"
   },
   {
    "duration": 43,
    "start_time": "2023-05-30T07:40:39.974Z"
   },
   {
    "duration": 75,
    "start_time": "2023-05-30T07:40:40.019Z"
   },
   {
    "duration": 414,
    "start_time": "2023-05-30T07:40:40.095Z"
   },
   {
    "duration": 3127,
    "start_time": "2023-05-30T07:40:40.511Z"
   },
   {
    "duration": 3,
    "start_time": "2023-05-30T07:40:43.639Z"
   },
   {
    "duration": 9,
    "start_time": "2023-05-30T07:40:43.643Z"
   },
   {
    "duration": 28,
    "start_time": "2023-05-30T07:40:43.654Z"
   },
   {
    "duration": 164,
    "start_time": "2023-05-30T07:40:43.685Z"
   },
   {
    "duration": 5,
    "start_time": "2023-05-30T07:40:43.851Z"
   },
   {
    "duration": 17,
    "start_time": "2023-05-30T07:40:43.857Z"
   },
   {
    "duration": 12,
    "start_time": "2023-05-30T07:40:43.876Z"
   },
   {
    "duration": 8,
    "start_time": "2023-05-30T07:40:43.889Z"
   },
   {
    "duration": 9,
    "start_time": "2023-05-30T07:40:43.898Z"
   },
   {
    "duration": 10,
    "start_time": "2023-05-30T07:40:43.908Z"
   },
   {
    "duration": 28,
    "start_time": "2023-05-30T07:40:43.919Z"
   },
   {
    "duration": 15,
    "start_time": "2023-05-30T07:40:43.948Z"
   },
   {
    "duration": 8,
    "start_time": "2023-05-30T07:40:43.964Z"
   },
   {
    "duration": 10,
    "start_time": "2023-05-30T07:40:43.973Z"
   },
   {
    "duration": 18,
    "start_time": "2023-05-30T07:40:43.984Z"
   },
   {
    "duration": 14,
    "start_time": "2023-05-30T07:40:44.003Z"
   },
   {
    "duration": 4,
    "start_time": "2023-05-30T07:40:44.019Z"
   },
   {
    "duration": 320416,
    "start_time": "2023-05-30T07:40:44.024Z"
   },
   {
    "duration": 3,
    "start_time": "2023-05-30T07:46:04.442Z"
   },
   {
    "duration": 23,
    "start_time": "2023-05-30T07:46:04.447Z"
   },
   {
    "duration": 20,
    "start_time": "2023-05-30T07:46:04.473Z"
   },
   {
    "duration": 339406,
    "start_time": "2023-05-30T07:46:04.494Z"
   },
   {
    "duration": 3,
    "start_time": "2023-05-30T07:51:43.901Z"
   },
   {
    "duration": 26,
    "start_time": "2023-05-30T07:51:43.905Z"
   },
   {
    "duration": 13,
    "start_time": "2023-05-30T07:51:43.932Z"
   },
   {
    "duration": 1041678,
    "start_time": "2023-05-30T07:51:43.946Z"
   },
   {
    "duration": 3,
    "start_time": "2023-05-30T08:09:05.625Z"
   },
   {
    "duration": 24,
    "start_time": "2023-05-30T08:09:05.630Z"
   },
   {
    "duration": 22,
    "start_time": "2023-05-30T08:09:05.656Z"
   },
   {
    "duration": 2883098,
    "start_time": "2023-05-30T08:09:05.679Z"
   },
   {
    "duration": 4,
    "start_time": "2023-05-30T08:57:08.780Z"
   },
   {
    "duration": 12,
    "start_time": "2023-05-30T08:57:08.786Z"
   },
   {
    "duration": 10,
    "start_time": "2023-05-30T08:57:08.817Z"
   },
   {
    "duration": 160,
    "start_time": "2023-05-30T08:57:08.829Z"
   },
   {
    "duration": 156,
    "start_time": "2023-05-30T08:57:16.111Z"
   },
   {
    "duration": 150,
    "start_time": "2023-05-30T08:57:20.474Z"
   },
   {
    "duration": 150,
    "start_time": "2023-05-30T08:57:24.747Z"
   },
   {
    "duration": 150,
    "start_time": "2023-05-30T08:57:29.313Z"
   },
   {
    "duration": 154,
    "start_time": "2023-05-30T08:57:32.410Z"
   },
   {
    "duration": 1183,
    "start_time": "2023-05-30T08:57:36.487Z"
   },
   {
    "duration": 3,
    "start_time": "2023-05-30T08:58:35.401Z"
   },
   {
    "duration": 192,
    "start_time": "2023-05-30T08:58:36.550Z"
   },
   {
    "duration": 3,
    "start_time": "2023-05-30T09:02:04.829Z"
   },
   {
    "duration": 2175,
    "start_time": "2023-05-30T09:03:15.361Z"
   },
   {
    "duration": 3900,
    "start_time": "2023-05-30T09:03:17.538Z"
   },
   {
    "duration": 7,
    "start_time": "2023-05-30T09:03:21.439Z"
   },
   {
    "duration": 10,
    "start_time": "2023-05-30T09:03:21.447Z"
   },
   {
    "duration": 3,
    "start_time": "2023-05-30T09:03:21.460Z"
   },
   {
    "duration": 2856,
    "start_time": "2023-05-30T09:03:21.465Z"
   },
   {
    "duration": 11,
    "start_time": "2023-05-30T09:03:24.322Z"
   },
   {
    "duration": 29,
    "start_time": "2023-05-30T09:03:24.334Z"
   },
   {
    "duration": 67,
    "start_time": "2023-05-30T09:03:24.365Z"
   },
   {
    "duration": 55,
    "start_time": "2023-05-30T09:03:24.434Z"
   },
   {
    "duration": 356,
    "start_time": "2023-05-30T09:03:24.491Z"
   },
   {
    "duration": 7,
    "start_time": "2023-05-30T09:03:24.849Z"
   },
   {
    "duration": 37,
    "start_time": "2023-05-30T09:03:24.857Z"
   },
   {
    "duration": 12,
    "start_time": "2023-05-30T09:03:24.897Z"
   },
   {
    "duration": 22,
    "start_time": "2023-05-30T09:03:24.910Z"
   },
   {
    "duration": 22,
    "start_time": "2023-05-30T09:03:24.934Z"
   },
   {
    "duration": 20,
    "start_time": "2023-05-30T09:03:24.958Z"
   },
   {
    "duration": 21,
    "start_time": "2023-05-30T09:03:24.980Z"
   },
   {
    "duration": 15,
    "start_time": "2023-05-30T09:03:25.003Z"
   },
   {
    "duration": 19,
    "start_time": "2023-05-30T09:03:25.020Z"
   },
   {
    "duration": 47,
    "start_time": "2023-05-30T09:03:25.041Z"
   },
   {
    "duration": 58,
    "start_time": "2023-05-30T09:03:25.090Z"
   },
   {
    "duration": 412,
    "start_time": "2023-05-30T09:03:25.150Z"
   },
   {
    "duration": 3180,
    "start_time": "2023-05-30T09:03:25.564Z"
   },
   {
    "duration": 3,
    "start_time": "2023-05-30T09:03:28.745Z"
   },
   {
    "duration": 23,
    "start_time": "2023-05-30T09:03:28.750Z"
   },
   {
    "duration": 23,
    "start_time": "2023-05-30T09:03:28.775Z"
   },
   {
    "duration": 172,
    "start_time": "2023-05-30T09:03:28.800Z"
   },
   {
    "duration": 6,
    "start_time": "2023-05-30T09:03:28.974Z"
   },
   {
    "duration": 9,
    "start_time": "2023-05-30T09:03:28.982Z"
   },
   {
    "duration": 4,
    "start_time": "2023-05-30T09:03:28.992Z"
   },
   {
    "duration": 7,
    "start_time": "2023-05-30T09:03:28.997Z"
   },
   {
    "duration": 6,
    "start_time": "2023-05-30T09:03:29.005Z"
   },
   {
    "duration": 7,
    "start_time": "2023-05-30T09:03:29.012Z"
   },
   {
    "duration": 19,
    "start_time": "2023-05-30T09:03:29.021Z"
   },
   {
    "duration": 9,
    "start_time": "2023-05-30T09:03:29.042Z"
   },
   {
    "duration": 8,
    "start_time": "2023-05-30T09:03:29.052Z"
   },
   {
    "duration": 7,
    "start_time": "2023-05-30T09:03:29.062Z"
   },
   {
    "duration": 10,
    "start_time": "2023-05-30T09:03:29.070Z"
   },
   {
    "duration": 5,
    "start_time": "2023-05-30T09:03:29.081Z"
   },
   {
    "duration": 4,
    "start_time": "2023-05-30T09:03:29.090Z"
   },
   {
    "duration": 322677,
    "start_time": "2023-05-30T09:03:29.095Z"
   },
   {
    "duration": 3,
    "start_time": "2023-05-30T09:08:51.773Z"
   },
   {
    "duration": 16,
    "start_time": "2023-05-30T09:08:51.777Z"
   },
   {
    "duration": 16,
    "start_time": "2023-05-30T09:08:51.795Z"
   },
   {
    "duration": 360903,
    "start_time": "2023-05-30T09:08:51.813Z"
   },
   {
    "duration": 2,
    "start_time": "2023-05-30T09:14:52.729Z"
   },
   {
    "duration": 25,
    "start_time": "2023-05-30T09:14:52.734Z"
   },
   {
    "duration": 27,
    "start_time": "2023-05-30T09:14:52.760Z"
   },
   {
    "duration": 1126585,
    "start_time": "2023-05-30T09:14:52.788Z"
   },
   {
    "duration": 2,
    "start_time": "2023-05-30T09:33:39.375Z"
   },
   {
    "duration": 12,
    "start_time": "2023-05-30T09:33:39.378Z"
   },
   {
    "duration": 15,
    "start_time": "2023-05-30T09:33:39.391Z"
   },
   {
    "duration": 2739,
    "start_time": "2023-05-30T11:33:34.432Z"
   },
   {
    "duration": 4333,
    "start_time": "2023-05-30T11:33:37.173Z"
   },
   {
    "duration": 6,
    "start_time": "2023-05-30T11:33:41.508Z"
   },
   {
    "duration": 47,
    "start_time": "2023-05-30T11:33:41.515Z"
   },
   {
    "duration": 6,
    "start_time": "2023-05-30T11:33:41.564Z"
   },
   {
    "duration": 3502,
    "start_time": "2023-05-30T11:33:41.571Z"
   },
   {
    "duration": 14,
    "start_time": "2023-05-30T11:33:45.074Z"
   },
   {
    "duration": 62,
    "start_time": "2023-05-30T11:33:45.090Z"
   },
   {
    "duration": 52,
    "start_time": "2023-05-30T11:33:45.153Z"
   },
   {
    "duration": 54,
    "start_time": "2023-05-30T11:33:45.207Z"
   },
   {
    "duration": 377,
    "start_time": "2023-05-30T11:33:45.263Z"
   },
   {
    "duration": 11,
    "start_time": "2023-05-30T11:33:45.642Z"
   },
   {
    "duration": 12,
    "start_time": "2023-05-30T11:33:45.655Z"
   },
   {
    "duration": 3,
    "start_time": "2023-05-30T11:33:45.671Z"
   },
   {
    "duration": 6,
    "start_time": "2023-05-30T11:33:45.676Z"
   },
   {
    "duration": 6,
    "start_time": "2023-05-30T11:33:45.684Z"
   },
   {
    "duration": 12,
    "start_time": "2023-05-30T11:33:45.692Z"
   },
   {
    "duration": 30,
    "start_time": "2023-05-30T11:33:45.717Z"
   },
   {
    "duration": 21,
    "start_time": "2023-05-30T11:33:45.749Z"
   },
   {
    "duration": 27,
    "start_time": "2023-05-30T11:33:45.771Z"
   },
   {
    "duration": 54,
    "start_time": "2023-05-30T11:33:45.800Z"
   },
   {
    "duration": 97,
    "start_time": "2023-05-30T11:33:45.855Z"
   },
   {
    "duration": 459,
    "start_time": "2023-05-30T11:33:45.955Z"
   },
   {
    "duration": 3956,
    "start_time": "2023-05-30T11:33:46.416Z"
   },
   {
    "duration": 2,
    "start_time": "2023-05-30T11:33:50.373Z"
   },
   {
    "duration": 15,
    "start_time": "2023-05-30T11:33:50.376Z"
   },
   {
    "duration": 34,
    "start_time": "2023-05-30T11:33:50.392Z"
   },
   {
    "duration": 235,
    "start_time": "2023-05-30T11:33:50.428Z"
   },
   {
    "duration": 4,
    "start_time": "2023-05-30T11:33:50.665Z"
   },
   {
    "duration": 28,
    "start_time": "2023-05-30T11:33:50.670Z"
   },
   {
    "duration": 10,
    "start_time": "2023-05-30T11:33:50.700Z"
   },
   {
    "duration": 38,
    "start_time": "2023-05-30T11:33:50.713Z"
   },
   {
    "duration": 32,
    "start_time": "2023-05-30T11:33:50.753Z"
   },
   {
    "duration": 36,
    "start_time": "2023-05-30T11:33:50.788Z"
   },
   {
    "duration": 65,
    "start_time": "2023-05-30T11:33:50.826Z"
   },
   {
    "duration": 40,
    "start_time": "2023-05-30T11:33:50.894Z"
   },
   {
    "duration": 48,
    "start_time": "2023-05-30T11:33:50.940Z"
   },
   {
    "duration": 35,
    "start_time": "2023-05-30T11:33:50.989Z"
   },
   {
    "duration": 40,
    "start_time": "2023-05-30T11:33:51.026Z"
   },
   {
    "duration": 30,
    "start_time": "2023-05-30T11:33:51.069Z"
   },
   {
    "duration": 49,
    "start_time": "2023-05-30T11:33:51.105Z"
   },
   {
    "duration": 393064,
    "start_time": "2023-05-30T11:33:51.156Z"
   },
   {
    "duration": 12,
    "start_time": "2023-05-30T11:40:24.226Z"
   },
   {
    "duration": 13,
    "start_time": "2023-05-30T11:40:24.249Z"
   },
   {
    "duration": 15,
    "start_time": "2023-05-30T11:40:24.264Z"
   },
   {
    "duration": 404327,
    "start_time": "2023-05-30T11:40:24.281Z"
   },
   {
    "duration": 3,
    "start_time": "2023-05-30T11:47:08.610Z"
   },
   {
    "duration": 41,
    "start_time": "2023-05-30T11:47:08.624Z"
   },
   {
    "duration": 16,
    "start_time": "2023-05-30T11:47:08.667Z"
   },
   {
    "duration": 1303331,
    "start_time": "2023-05-30T11:47:08.685Z"
   },
   {
    "duration": 10,
    "start_time": "2023-05-30T12:08:52.017Z"
   },
   {
    "duration": 39,
    "start_time": "2023-05-30T12:08:52.029Z"
   },
   {
    "duration": 15,
    "start_time": "2023-05-30T12:08:52.070Z"
   },
   {
    "duration": 2808,
    "start_time": "2023-05-30T13:51:50.538Z"
   },
   {
    "duration": 4611,
    "start_time": "2023-05-30T13:51:53.349Z"
   },
   {
    "duration": 10,
    "start_time": "2023-05-30T13:51:57.963Z"
   },
   {
    "duration": 11,
    "start_time": "2023-05-30T13:51:57.975Z"
   },
   {
    "duration": 19,
    "start_time": "2023-05-30T13:51:57.990Z"
   },
   {
    "duration": 4282,
    "start_time": "2023-05-30T13:51:58.012Z"
   },
   {
    "duration": 14,
    "start_time": "2023-05-30T13:52:02.296Z"
   },
   {
    "duration": 38,
    "start_time": "2023-05-30T13:52:02.317Z"
   },
   {
    "duration": 68,
    "start_time": "2023-05-30T13:52:02.358Z"
   },
   {
    "duration": 84,
    "start_time": "2023-05-30T13:52:02.437Z"
   },
   {
    "duration": 424,
    "start_time": "2023-05-30T13:52:02.523Z"
   },
   {
    "duration": 9,
    "start_time": "2023-05-30T13:52:02.949Z"
   },
   {
    "duration": 26,
    "start_time": "2023-05-30T13:52:02.960Z"
   },
   {
    "duration": 14,
    "start_time": "2023-05-30T13:52:02.991Z"
   },
   {
    "duration": 42,
    "start_time": "2023-05-30T13:52:03.007Z"
   },
   {
    "duration": 12,
    "start_time": "2023-05-30T13:52:03.051Z"
   },
   {
    "duration": 21,
    "start_time": "2023-05-30T13:52:03.065Z"
   },
   {
    "duration": 50,
    "start_time": "2023-05-30T13:52:03.088Z"
   },
   {
    "duration": 28,
    "start_time": "2023-05-30T13:52:03.140Z"
   },
   {
    "duration": 26,
    "start_time": "2023-05-30T13:52:03.169Z"
   },
   {
    "duration": 71,
    "start_time": "2023-05-30T13:52:03.197Z"
   },
   {
    "duration": 93,
    "start_time": "2023-05-30T13:52:03.270Z"
   },
   {
    "duration": 495,
    "start_time": "2023-05-30T13:52:03.365Z"
   },
   {
    "duration": 4110,
    "start_time": "2023-05-30T13:52:03.862Z"
   },
   {
    "duration": 3,
    "start_time": "2023-05-30T13:52:07.973Z"
   },
   {
    "duration": 10,
    "start_time": "2023-05-30T13:52:07.978Z"
   },
   {
    "duration": 46,
    "start_time": "2023-05-30T13:52:07.990Z"
   },
   {
    "duration": 230,
    "start_time": "2023-05-30T13:52:08.038Z"
   },
   {
    "duration": 11,
    "start_time": "2023-05-30T13:52:08.271Z"
   },
   {
    "duration": 49,
    "start_time": "2023-05-30T13:52:08.287Z"
   },
   {
    "duration": 38,
    "start_time": "2023-05-30T13:52:08.345Z"
   },
   {
    "duration": 24,
    "start_time": "2023-05-30T13:52:08.386Z"
   },
   {
    "duration": 65,
    "start_time": "2023-05-30T13:52:08.412Z"
   },
   {
    "duration": 22,
    "start_time": "2023-05-30T13:52:08.479Z"
   },
   {
    "duration": 56,
    "start_time": "2023-05-30T13:52:08.503Z"
   },
   {
    "duration": 27,
    "start_time": "2023-05-30T13:52:08.561Z"
   },
   {
    "duration": 68,
    "start_time": "2023-05-30T13:52:08.590Z"
   },
   {
    "duration": 19,
    "start_time": "2023-05-30T13:52:08.660Z"
   },
   {
    "duration": 54,
    "start_time": "2023-05-30T13:52:08.681Z"
   },
   {
    "duration": 27,
    "start_time": "2023-05-30T13:52:08.737Z"
   },
   {
    "duration": 13,
    "start_time": "2023-05-30T13:52:08.770Z"
   },
   {
    "duration": 464135,
    "start_time": "2023-05-30T13:52:08.786Z"
   },
   {
    "duration": 3,
    "start_time": "2023-05-30T13:59:52.924Z"
   },
   {
    "duration": 23,
    "start_time": "2023-05-30T13:59:52.929Z"
   },
   {
    "duration": 54,
    "start_time": "2023-05-30T13:59:52.956Z"
   },
   {
    "duration": 467870,
    "start_time": "2023-05-30T13:59:53.013Z"
   },
   {
    "duration": 4,
    "start_time": "2023-05-30T14:07:40.886Z"
   },
   {
    "duration": 39,
    "start_time": "2023-05-30T14:07:40.892Z"
   },
   {
    "duration": 25,
    "start_time": "2023-05-30T14:07:40.944Z"
   },
   {
    "duration": 1431507,
    "start_time": "2023-05-30T14:07:40.971Z"
   },
   {
    "duration": 3,
    "start_time": "2023-05-30T14:31:32.480Z"
   },
   {
    "duration": 16,
    "start_time": "2023-05-30T14:31:32.486Z"
   },
   {
    "duration": 38,
    "start_time": "2023-05-30T14:31:32.505Z"
   },
   {
    "duration": 4372631,
    "start_time": "2023-05-30T14:31:32.560Z"
   },
   {
    "duration": 40,
    "start_time": "2023-05-30T15:44:25.193Z"
   },
   {
    "duration": 25,
    "start_time": "2023-05-30T15:44:25.234Z"
   },
   {
    "duration": 25,
    "start_time": "2023-05-30T15:44:25.261Z"
   },
   {
    "duration": 263,
    "start_time": "2023-05-30T15:44:25.288Z"
   },
   {
    "duration": 4,
    "start_time": "2023-05-30T15:44:25.553Z"
   },
   {
    "duration": 299,
    "start_time": "2023-05-30T15:44:25.560Z"
   },
   {
    "duration": 3,
    "start_time": "2023-05-30T15:44:25.861Z"
   },
   {
    "duration": 13958,
    "start_time": "2023-05-30T15:44:25.866Z"
   },
   {
    "duration": 2714,
    "start_time": "2023-05-30T15:44:39.826Z"
   },
   {
    "duration": 14,
    "start_time": "2023-05-30T15:44:42.542Z"
   },
   {
    "duration": 61,
    "start_time": "2023-05-30T15:44:42.558Z"
   },
   {
    "duration": 161,
    "start_time": "2023-05-30T15:44:42.629Z"
   },
   {
    "duration": 2777,
    "start_time": "2023-05-30T15:44:42.792Z"
   },
   {
    "duration": 242,
    "start_time": "2023-05-31T15:36:47.227Z"
   },
   {
    "duration": 57,
    "start_time": "2023-05-31T15:36:52.301Z"
   },
   {
    "duration": 8,
    "start_time": "2023-05-31T15:36:56.705Z"
   },
   {
    "duration": 9,
    "start_time": "2023-05-31T15:36:57.386Z"
   },
   {
    "duration": 5,
    "start_time": "2023-05-31T15:37:24.497Z"
   },
   {
    "duration": 15402,
    "start_time": "2023-05-31T16:32:10.129Z"
   },
   {
    "duration": 8863,
    "start_time": "2023-05-31T16:32:25.534Z"
   },
   {
    "duration": 7,
    "start_time": "2023-05-31T16:32:34.399Z"
   },
   {
    "duration": 17,
    "start_time": "2023-05-31T16:32:34.409Z"
   },
   {
    "duration": 8,
    "start_time": "2023-05-31T16:32:34.428Z"
   },
   {
    "duration": 3015,
    "start_time": "2023-05-31T16:32:34.437Z"
   },
   {
    "duration": 17,
    "start_time": "2023-05-31T16:32:37.460Z"
   },
   {
    "duration": 14,
    "start_time": "2023-05-31T16:32:37.479Z"
   },
   {
    "duration": 65,
    "start_time": "2023-05-31T16:32:37.495Z"
   },
   {
    "duration": 65,
    "start_time": "2023-05-31T16:32:37.568Z"
   },
   {
    "duration": 348,
    "start_time": "2023-05-31T16:32:37.635Z"
   },
   {
    "duration": 8,
    "start_time": "2023-05-31T16:32:37.985Z"
   },
   {
    "duration": 33,
    "start_time": "2023-05-31T16:32:37.994Z"
   },
   {
    "duration": 6,
    "start_time": "2023-05-31T16:32:38.029Z"
   },
   {
    "duration": 44,
    "start_time": "2023-05-31T16:32:38.036Z"
   },
   {
    "duration": 12,
    "start_time": "2023-05-31T16:32:38.082Z"
   },
   {
    "duration": 15,
    "start_time": "2023-05-31T16:32:38.096Z"
   },
   {
    "duration": 30,
    "start_time": "2023-05-31T16:32:38.112Z"
   },
   {
    "duration": 41,
    "start_time": "2023-05-31T16:32:38.144Z"
   },
   {
    "duration": 12,
    "start_time": "2023-05-31T16:32:38.187Z"
   },
   {
    "duration": 56,
    "start_time": "2023-05-31T16:32:38.201Z"
   },
   {
    "duration": 116,
    "start_time": "2023-05-31T16:32:38.258Z"
   },
   {
    "duration": 379,
    "start_time": "2023-05-31T16:32:38.376Z"
   },
   {
    "duration": 3605,
    "start_time": "2023-05-31T16:32:38.761Z"
   },
   {
    "duration": 6,
    "start_time": "2023-05-31T16:32:42.369Z"
   },
   {
    "duration": 3,
    "start_time": "2023-05-31T16:32:42.377Z"
   },
   {
    "duration": 62,
    "start_time": "2023-05-31T16:32:42.382Z"
   },
   {
    "duration": 163,
    "start_time": "2023-05-31T16:32:42.451Z"
   },
   {
    "duration": 7,
    "start_time": "2023-05-31T16:32:42.617Z"
   },
   {
    "duration": 13,
    "start_time": "2023-05-31T16:32:42.625Z"
   },
   {
    "duration": 37,
    "start_time": "2023-05-31T16:32:42.641Z"
   },
   {
    "duration": 12,
    "start_time": "2023-05-31T16:32:42.680Z"
   },
   {
    "duration": 10,
    "start_time": "2023-05-31T16:32:42.694Z"
   },
   {
    "duration": 14,
    "start_time": "2023-05-31T16:32:42.707Z"
   },
   {
    "duration": 16,
    "start_time": "2023-05-31T16:32:42.723Z"
   },
   {
    "duration": 36,
    "start_time": "2023-05-31T16:32:42.741Z"
   },
   {
    "duration": 18,
    "start_time": "2023-05-31T16:32:42.780Z"
   },
   {
    "duration": 7,
    "start_time": "2023-05-31T16:32:42.800Z"
   },
   {
    "duration": 9,
    "start_time": "2023-05-31T16:32:42.809Z"
   },
   {
    "duration": 6,
    "start_time": "2023-05-31T16:32:42.819Z"
   },
   {
    "duration": 8,
    "start_time": "2023-05-31T16:32:42.827Z"
   },
   {
    "duration": 11,
    "start_time": "2023-05-31T16:32:42.837Z"
   },
   {
    "duration": 1214247,
    "start_time": "2023-05-31T16:32:42.849Z"
   },
   {
    "duration": 3,
    "start_time": "2023-05-31T16:52:57.098Z"
   },
   {
    "duration": 12,
    "start_time": "2023-05-31T16:52:57.102Z"
   },
   {
    "duration": 1128098,
    "start_time": "2023-05-31T16:52:57.116Z"
   },
   {
    "duration": 2,
    "start_time": "2023-05-31T17:11:45.218Z"
   },
   {
    "duration": 64,
    "start_time": "2023-05-31T17:11:45.222Z"
   },
   {
    "duration": 45,
    "start_time": "2023-05-31T17:11:45.289Z"
   },
   {
    "duration": 455494,
    "start_time": "2023-05-31T17:11:45.336Z"
   },
   {
    "duration": 4,
    "start_time": "2023-05-31T17:19:20.832Z"
   },
   {
    "duration": 34,
    "start_time": "2023-05-31T17:19:20.837Z"
   },
   {
    "duration": 1364069,
    "start_time": "2023-05-31T17:19:20.873Z"
   },
   {
    "duration": 4,
    "start_time": "2023-05-31T17:54:09.514Z"
   },
   {
    "duration": 3,
    "start_time": "2023-05-31T17:54:10.010Z"
   },
   {
    "duration": 3,
    "start_time": "2023-05-31T17:54:10.176Z"
   },
   {
    "duration": 4,
    "start_time": "2023-05-31T17:54:10.335Z"
   },
   {
    "duration": 3,
    "start_time": "2023-05-31T17:54:11.012Z"
   },
   {
    "duration": 6,
    "start_time": "2023-05-31T17:54:11.371Z"
   },
   {
    "duration": 4,
    "start_time": "2023-05-31T17:54:11.837Z"
   },
   {
    "duration": 1877685,
    "start_time": "2023-05-31T17:54:12.136Z"
   },
   {
    "duration": 3,
    "start_time": "2023-05-31T18:25:29.823Z"
   },
   {
    "duration": 21,
    "start_time": "2023-05-31T18:25:29.829Z"
   },
   {
    "duration": 8383,
    "start_time": "2023-05-31T23:30:07.371Z"
   },
   {
    "duration": 2217,
    "start_time": "2023-05-31T23:30:15.757Z"
   },
   {
    "duration": 7,
    "start_time": "2023-05-31T23:30:17.975Z"
   },
   {
    "duration": 5,
    "start_time": "2023-05-31T23:30:17.983Z"
   },
   {
    "duration": 9,
    "start_time": "2023-05-31T23:30:17.990Z"
   },
   {
    "duration": 2545,
    "start_time": "2023-05-31T23:30:18.000Z"
   },
   {
    "duration": 9,
    "start_time": "2023-05-31T23:30:20.547Z"
   },
   {
    "duration": 7,
    "start_time": "2023-05-31T23:30:20.557Z"
   },
   {
    "duration": 52,
    "start_time": "2023-05-31T23:30:20.565Z"
   },
   {
    "duration": 34,
    "start_time": "2023-05-31T23:30:20.619Z"
   },
   {
    "duration": 312,
    "start_time": "2023-05-31T23:30:20.655Z"
   },
   {
    "duration": 16,
    "start_time": "2023-05-31T23:30:20.969Z"
   },
   {
    "duration": 9,
    "start_time": "2023-05-31T23:30:20.987Z"
   },
   {
    "duration": 5,
    "start_time": "2023-05-31T23:30:21.000Z"
   },
   {
    "duration": 7,
    "start_time": "2023-05-31T23:30:21.006Z"
   },
   {
    "duration": 6,
    "start_time": "2023-05-31T23:30:21.015Z"
   },
   {
    "duration": 27,
    "start_time": "2023-05-31T23:30:21.023Z"
   },
   {
    "duration": 32,
    "start_time": "2023-05-31T23:30:21.052Z"
   },
   {
    "duration": 34,
    "start_time": "2023-05-31T23:30:21.085Z"
   },
   {
    "duration": 15,
    "start_time": "2023-05-31T23:30:21.120Z"
   },
   {
    "duration": 42,
    "start_time": "2023-05-31T23:30:21.136Z"
   },
   {
    "duration": 71,
    "start_time": "2023-05-31T23:30:21.179Z"
   },
   {
    "duration": 360,
    "start_time": "2023-05-31T23:30:21.252Z"
   },
   {
    "duration": 3033,
    "start_time": "2023-05-31T23:30:21.614Z"
   },
   {
    "duration": 2,
    "start_time": "2023-05-31T23:30:24.649Z"
   },
   {
    "duration": 13,
    "start_time": "2023-05-31T23:30:24.653Z"
   },
   {
    "duration": 27,
    "start_time": "2023-05-31T23:30:24.667Z"
   },
   {
    "duration": 208,
    "start_time": "2023-05-31T23:30:24.696Z"
   },
   {
    "duration": 5,
    "start_time": "2023-05-31T23:30:24.906Z"
   },
   {
    "duration": 13,
    "start_time": "2023-05-31T23:30:24.912Z"
   },
   {
    "duration": 10,
    "start_time": "2023-05-31T23:30:24.927Z"
   },
   {
    "duration": 26,
    "start_time": "2023-05-31T23:30:24.938Z"
   },
   {
    "duration": 23,
    "start_time": "2023-05-31T23:30:24.965Z"
   },
   {
    "duration": 12,
    "start_time": "2023-05-31T23:30:24.990Z"
   },
   {
    "duration": 8,
    "start_time": "2023-05-31T23:30:25.003Z"
   },
   {
    "duration": 16,
    "start_time": "2023-05-31T23:30:25.013Z"
   },
   {
    "duration": 23,
    "start_time": "2023-05-31T23:30:25.030Z"
   },
   {
    "duration": 15,
    "start_time": "2023-05-31T23:30:25.055Z"
   },
   {
    "duration": 4,
    "start_time": "2023-05-31T23:30:25.072Z"
   },
   {
    "duration": 6,
    "start_time": "2023-05-31T23:30:25.078Z"
   },
   {
    "duration": 3,
    "start_time": "2023-05-31T23:30:25.089Z"
   },
   {
    "duration": 6,
    "start_time": "2023-05-31T23:30:25.094Z"
   },
   {
    "duration": 1775726,
    "start_time": "2023-05-31T23:30:25.101Z"
   },
   {
    "duration": 3,
    "start_time": "2023-06-01T00:00:00.829Z"
   },
   {
    "duration": 76,
    "start_time": "2023-06-01T00:00:00.833Z"
   },
   {
    "duration": 1044896,
    "start_time": "2023-06-01T00:00:00.911Z"
   },
   {
    "duration": 2,
    "start_time": "2023-06-01T00:17:25.809Z"
   },
   {
    "duration": 18,
    "start_time": "2023-06-01T00:17:25.813Z"
   },
   {
    "duration": 4,
    "start_time": "2023-06-01T00:17:25.833Z"
   },
   {
    "duration": 363488,
    "start_time": "2023-06-01T00:17:25.839Z"
   },
   {
    "duration": 3,
    "start_time": "2023-06-01T00:23:29.329Z"
   },
   {
    "duration": 42,
    "start_time": "2023-06-01T00:23:29.333Z"
   },
   {
    "duration": 456839,
    "start_time": "2023-06-01T00:23:29.376Z"
   },
   {
    "duration": 2,
    "start_time": "2023-06-01T00:31:06.217Z"
   },
   {
    "duration": 11,
    "start_time": "2023-06-01T00:31:06.221Z"
   },
   {
    "duration": 21,
    "start_time": "2023-06-01T00:31:06.234Z"
   },
   {
    "duration": 1575167,
    "start_time": "2023-06-01T00:31:06.256Z"
   },
   {
    "duration": 2,
    "start_time": "2023-06-01T00:57:21.425Z"
   },
   {
    "duration": 18,
    "start_time": "2023-06-01T00:57:21.429Z"
   },
   {
    "duration": 986959,
    "start_time": "2023-06-01T00:57:21.449Z"
   },
   {
    "duration": 3,
    "start_time": "2023-06-01T01:13:48.409Z"
   },
   {
    "duration": 73,
    "start_time": "2023-06-01T01:13:48.414Z"
   },
   {
    "duration": 0,
    "start_time": "2023-06-01T01:13:48.489Z"
   },
   {
    "duration": 0,
    "start_time": "2023-06-01T01:13:48.490Z"
   },
   {
    "duration": 0,
    "start_time": "2023-06-01T01:13:48.491Z"
   },
   {
    "duration": 0,
    "start_time": "2023-06-01T01:13:48.492Z"
   },
   {
    "duration": 0,
    "start_time": "2023-06-01T01:13:48.493Z"
   },
   {
    "duration": 3,
    "start_time": "2023-06-01T01:27:44.670Z"
   },
   {
    "duration": 3,
    "start_time": "2023-06-01T01:27:45.127Z"
   },
   {
    "duration": 2,
    "start_time": "2023-06-01T01:27:45.890Z"
   },
   {
    "duration": 2199,
    "start_time": "2023-06-01T03:44:14.506Z"
   },
   {
    "duration": 2855,
    "start_time": "2023-06-01T03:44:16.707Z"
   },
   {
    "duration": 7,
    "start_time": "2023-06-01T03:44:19.564Z"
   },
   {
    "duration": 4,
    "start_time": "2023-06-01T03:44:19.573Z"
   },
   {
    "duration": 12,
    "start_time": "2023-06-01T03:44:19.578Z"
   },
   {
    "duration": 2635,
    "start_time": "2023-06-01T03:44:19.592Z"
   },
   {
    "duration": 14,
    "start_time": "2023-06-01T03:44:22.228Z"
   },
   {
    "duration": 6,
    "start_time": "2023-06-01T03:44:22.243Z"
   },
   {
    "duration": 51,
    "start_time": "2023-06-01T03:44:22.250Z"
   },
   {
    "duration": 37,
    "start_time": "2023-06-01T03:44:22.304Z"
   },
   {
    "duration": 377,
    "start_time": "2023-06-01T03:44:22.343Z"
   },
   {
    "duration": 9,
    "start_time": "2023-06-01T03:44:22.721Z"
   },
   {
    "duration": 13,
    "start_time": "2023-06-01T03:44:22.731Z"
   },
   {
    "duration": 7,
    "start_time": "2023-06-01T03:44:22.746Z"
   },
   {
    "duration": 6,
    "start_time": "2023-06-01T03:44:22.755Z"
   },
   {
    "duration": 13,
    "start_time": "2023-06-01T03:44:22.762Z"
   },
   {
    "duration": 4,
    "start_time": "2023-06-01T03:44:22.785Z"
   },
   {
    "duration": 12,
    "start_time": "2023-06-01T03:44:22.791Z"
   },
   {
    "duration": 5,
    "start_time": "2023-06-01T03:44:22.804Z"
   },
   {
    "duration": 7,
    "start_time": "2023-06-01T03:44:22.811Z"
   },
   {
    "duration": 37,
    "start_time": "2023-06-01T03:44:22.819Z"
   },
   {
    "duration": 84,
    "start_time": "2023-06-01T03:44:22.858Z"
   },
   {
    "duration": 399,
    "start_time": "2023-06-01T03:44:22.944Z"
   },
   {
    "duration": 3174,
    "start_time": "2023-06-01T03:44:23.344Z"
   },
   {
    "duration": 2,
    "start_time": "2023-06-01T03:44:26.520Z"
   },
   {
    "duration": 8,
    "start_time": "2023-06-01T03:44:26.524Z"
   },
   {
    "duration": 35,
    "start_time": "2023-06-01T03:44:26.534Z"
   },
   {
    "duration": 198,
    "start_time": "2023-06-01T03:44:26.584Z"
   },
   {
    "duration": 4,
    "start_time": "2023-06-01T03:44:26.783Z"
   },
   {
    "duration": 14,
    "start_time": "2023-06-01T03:44:26.788Z"
   },
   {
    "duration": 5,
    "start_time": "2023-06-01T03:44:26.804Z"
   },
   {
    "duration": 5,
    "start_time": "2023-06-01T03:44:26.811Z"
   },
   {
    "duration": 8,
    "start_time": "2023-06-01T03:44:26.817Z"
   },
   {
    "duration": 8,
    "start_time": "2023-06-01T03:44:26.826Z"
   },
   {
    "duration": 9,
    "start_time": "2023-06-01T03:44:26.836Z"
   },
   {
    "duration": 22,
    "start_time": "2023-06-01T03:44:26.847Z"
   },
   {
    "duration": 10,
    "start_time": "2023-06-01T03:44:26.871Z"
   },
   {
    "duration": 11,
    "start_time": "2023-06-01T03:44:26.883Z"
   },
   {
    "duration": 12,
    "start_time": "2023-06-01T03:44:26.896Z"
   },
   {
    "duration": 6,
    "start_time": "2023-06-01T03:44:26.910Z"
   },
   {
    "duration": 11,
    "start_time": "2023-06-01T03:44:26.918Z"
   },
   {
    "duration": 11,
    "start_time": "2023-06-01T03:44:26.931Z"
   },
   {
    "duration": 1920281,
    "start_time": "2023-06-01T03:44:26.944Z"
   },
   {
    "duration": 2,
    "start_time": "2023-06-01T04:16:27.227Z"
   },
   {
    "duration": 8,
    "start_time": "2023-06-01T04:16:27.230Z"
   },
   {
    "duration": 1111514,
    "start_time": "2023-06-01T04:16:27.239Z"
   },
   {
    "duration": 2,
    "start_time": "2023-06-01T04:34:58.755Z"
   },
   {
    "duration": 11,
    "start_time": "2023-06-01T04:34:58.758Z"
   },
   {
    "duration": 21,
    "start_time": "2023-06-01T04:34:58.770Z"
   },
   {
    "duration": 382753,
    "start_time": "2023-06-01T04:34:58.793Z"
   },
   {
    "duration": 2,
    "start_time": "2023-06-01T04:41:21.548Z"
   },
   {
    "duration": 25,
    "start_time": "2023-06-01T04:41:21.551Z"
   },
   {
    "duration": 2067,
    "start_time": "2023-06-01T04:46:51.270Z"
   },
   {
    "duration": 2002,
    "start_time": "2023-06-01T04:46:53.340Z"
   },
   {
    "duration": 4,
    "start_time": "2023-06-01T04:46:55.343Z"
   },
   {
    "duration": 4,
    "start_time": "2023-06-01T04:46:55.348Z"
   },
   {
    "duration": 10,
    "start_time": "2023-06-01T04:46:55.354Z"
   },
   {
    "duration": 3246,
    "start_time": "2023-06-01T04:46:55.366Z"
   },
   {
    "duration": 10,
    "start_time": "2023-06-01T04:46:58.614Z"
   },
   {
    "duration": 17,
    "start_time": "2023-06-01T04:46:58.626Z"
   },
   {
    "duration": 44,
    "start_time": "2023-06-01T04:46:58.644Z"
   },
   {
    "duration": 39,
    "start_time": "2023-06-01T04:46:58.690Z"
   },
   {
    "duration": 333,
    "start_time": "2023-06-01T04:46:58.731Z"
   },
   {
    "duration": 7,
    "start_time": "2023-06-01T04:46:59.066Z"
   },
   {
    "duration": 18,
    "start_time": "2023-06-01T04:46:59.075Z"
   },
   {
    "duration": 3,
    "start_time": "2023-06-01T04:46:59.096Z"
   },
   {
    "duration": 7,
    "start_time": "2023-06-01T04:46:59.100Z"
   },
   {
    "duration": 6,
    "start_time": "2023-06-01T04:46:59.108Z"
   },
   {
    "duration": 7,
    "start_time": "2023-06-01T04:46:59.115Z"
   },
   {
    "duration": 6,
    "start_time": "2023-06-01T04:46:59.123Z"
   },
   {
    "duration": 10,
    "start_time": "2023-06-01T04:46:59.130Z"
   },
   {
    "duration": 7,
    "start_time": "2023-06-01T04:46:59.141Z"
   },
   {
    "duration": 58,
    "start_time": "2023-06-01T04:46:59.150Z"
   },
   {
    "duration": 79,
    "start_time": "2023-06-01T04:46:59.209Z"
   },
   {
    "duration": 398,
    "start_time": "2023-06-01T04:46:59.290Z"
   },
   {
    "duration": 3151,
    "start_time": "2023-06-01T04:46:59.690Z"
   },
   {
    "duration": 2,
    "start_time": "2023-06-01T04:47:02.843Z"
   },
   {
    "duration": 152,
    "start_time": "2023-06-01T04:47:02.846Z"
   },
   {
    "duration": 119,
    "start_time": "2023-06-01T04:47:03.000Z"
   },
   {
    "duration": 228,
    "start_time": "2023-06-01T04:47:03.120Z"
   },
   {
    "duration": 4,
    "start_time": "2023-06-01T04:47:03.350Z"
   },
   {
    "duration": 16,
    "start_time": "2023-06-01T04:47:03.356Z"
   },
   {
    "duration": 75,
    "start_time": "2023-06-01T04:47:03.373Z"
   },
   {
    "duration": 63,
    "start_time": "2023-06-01T04:47:03.450Z"
   },
   {
    "duration": 119,
    "start_time": "2023-06-01T04:47:03.515Z"
   },
   {
    "duration": 19,
    "start_time": "2023-06-01T04:47:03.636Z"
   },
   {
    "duration": 18,
    "start_time": "2023-06-01T04:47:03.657Z"
   },
   {
    "duration": 31,
    "start_time": "2023-06-01T04:47:03.676Z"
   },
   {
    "duration": 43,
    "start_time": "2023-06-01T04:47:03.708Z"
   },
   {
    "duration": 158,
    "start_time": "2023-06-01T04:47:03.753Z"
   },
   {
    "duration": 111,
    "start_time": "2023-06-01T04:47:03.913Z"
   },
   {
    "duration": 57,
    "start_time": "2023-06-01T04:47:04.025Z"
   },
   {
    "duration": 72,
    "start_time": "2023-06-01T04:47:04.085Z"
   },
   {
    "duration": 30,
    "start_time": "2023-06-01T04:47:04.158Z"
   },
   {
    "duration": 2048,
    "start_time": "2023-06-01T05:02:20.290Z"
   },
   {
    "duration": 2105,
    "start_time": "2023-06-01T05:02:22.341Z"
   },
   {
    "duration": 4,
    "start_time": "2023-06-01T05:02:24.448Z"
   },
   {
    "duration": 18,
    "start_time": "2023-06-01T05:02:24.453Z"
   },
   {
    "duration": 6,
    "start_time": "2023-06-01T05:02:24.473Z"
   },
   {
    "duration": 3044,
    "start_time": "2023-06-01T05:02:24.480Z"
   },
   {
    "duration": 12,
    "start_time": "2023-06-01T05:02:27.526Z"
   },
   {
    "duration": 13,
    "start_time": "2023-06-01T05:02:27.539Z"
   },
   {
    "duration": 56,
    "start_time": "2023-06-01T05:02:27.554Z"
   },
   {
    "duration": 56,
    "start_time": "2023-06-01T05:02:27.612Z"
   },
   {
    "duration": 336,
    "start_time": "2023-06-01T05:02:27.669Z"
   },
   {
    "duration": 8,
    "start_time": "2023-06-01T05:02:28.007Z"
   },
   {
    "duration": 17,
    "start_time": "2023-06-01T05:02:28.017Z"
   },
   {
    "duration": 4,
    "start_time": "2023-06-01T05:02:28.037Z"
   },
   {
    "duration": 24,
    "start_time": "2023-06-01T05:02:28.044Z"
   },
   {
    "duration": 10,
    "start_time": "2023-06-01T05:02:28.070Z"
   },
   {
    "duration": 8,
    "start_time": "2023-06-01T05:02:28.082Z"
   },
   {
    "duration": 14,
    "start_time": "2023-06-01T05:02:28.092Z"
   },
   {
    "duration": 20,
    "start_time": "2023-06-01T05:02:28.107Z"
   },
   {
    "duration": 11,
    "start_time": "2023-06-01T05:02:28.128Z"
   },
   {
    "duration": 50,
    "start_time": "2023-06-01T05:02:28.141Z"
   },
   {
    "duration": 80,
    "start_time": "2023-06-01T05:02:28.193Z"
   },
   {
    "duration": 478,
    "start_time": "2023-06-01T05:02:28.275Z"
   },
   {
    "duration": 3230,
    "start_time": "2023-06-01T05:02:28.755Z"
   },
   {
    "duration": 2,
    "start_time": "2023-06-01T05:02:31.987Z"
   },
   {
    "duration": 61,
    "start_time": "2023-06-01T05:02:31.991Z"
   },
   {
    "duration": 33,
    "start_time": "2023-06-01T05:02:32.054Z"
   },
   {
    "duration": 160,
    "start_time": "2023-06-01T05:02:32.089Z"
   },
   {
    "duration": 4,
    "start_time": "2023-06-01T05:02:32.250Z"
   },
   {
    "duration": 68,
    "start_time": "2023-06-01T05:02:32.255Z"
   },
   {
    "duration": 20,
    "start_time": "2023-06-01T05:02:32.325Z"
   },
   {
    "duration": 14,
    "start_time": "2023-06-01T05:02:32.346Z"
   },
   {
    "duration": 26,
    "start_time": "2023-06-01T05:02:32.362Z"
   },
   {
    "duration": 22,
    "start_time": "2023-06-01T05:02:32.390Z"
   },
   {
    "duration": 24,
    "start_time": "2023-06-01T05:02:32.414Z"
   },
   {
    "duration": 48,
    "start_time": "2023-06-01T05:02:32.440Z"
   },
   {
    "duration": 38,
    "start_time": "2023-06-01T05:02:32.490Z"
   },
   {
    "duration": 69,
    "start_time": "2023-06-01T05:02:32.530Z"
   },
   {
    "duration": 36,
    "start_time": "2023-06-01T05:02:32.600Z"
   },
   {
    "duration": 46,
    "start_time": "2023-06-01T05:02:32.638Z"
   },
   {
    "duration": 33,
    "start_time": "2023-06-01T05:02:32.688Z"
   },
   {
    "duration": 29,
    "start_time": "2023-06-01T05:02:32.723Z"
   },
   {
    "duration": 49,
    "start_time": "2023-06-01T05:02:32.754Z"
   },
   {
    "duration": 1060704,
    "start_time": "2023-06-01T05:02:32.804Z"
   },
   {
    "duration": 3,
    "start_time": "2023-06-01T05:20:13.509Z"
   },
   {
    "duration": 8,
    "start_time": "2023-06-01T05:20:13.513Z"
   },
   {
    "duration": 1901,
    "start_time": "2023-06-01T05:21:56.282Z"
   },
   {
    "duration": 1908,
    "start_time": "2023-06-01T05:21:58.185Z"
   },
   {
    "duration": 3,
    "start_time": "2023-06-01T05:22:00.095Z"
   },
   {
    "duration": 36,
    "start_time": "2023-06-01T05:22:00.099Z"
   },
   {
    "duration": 12,
    "start_time": "2023-06-01T05:22:00.137Z"
   },
   {
    "duration": 2702,
    "start_time": "2023-06-01T05:22:00.150Z"
   },
   {
    "duration": 11,
    "start_time": "2023-06-01T05:22:02.854Z"
   },
   {
    "duration": 8,
    "start_time": "2023-06-01T05:22:02.867Z"
   },
   {
    "duration": 48,
    "start_time": "2023-06-01T05:22:02.877Z"
   },
   {
    "duration": 35,
    "start_time": "2023-06-01T05:22:02.927Z"
   },
   {
    "duration": 338,
    "start_time": "2023-06-01T05:22:02.964Z"
   },
   {
    "duration": 7,
    "start_time": "2023-06-01T05:22:03.304Z"
   },
   {
    "duration": 13,
    "start_time": "2023-06-01T05:22:03.312Z"
   },
   {
    "duration": 10,
    "start_time": "2023-06-01T05:22:03.328Z"
   },
   {
    "duration": 16,
    "start_time": "2023-06-01T05:22:03.339Z"
   },
   {
    "duration": 17,
    "start_time": "2023-06-01T05:22:03.356Z"
   },
   {
    "duration": 7,
    "start_time": "2023-06-01T05:22:03.375Z"
   },
   {
    "duration": 18,
    "start_time": "2023-06-01T05:22:03.383Z"
   },
   {
    "duration": 5,
    "start_time": "2023-06-01T05:22:03.403Z"
   },
   {
    "duration": 7,
    "start_time": "2023-06-01T05:22:03.410Z"
   },
   {
    "duration": 36,
    "start_time": "2023-06-01T05:22:03.419Z"
   },
   {
    "duration": 56,
    "start_time": "2023-06-01T05:22:03.456Z"
   },
   {
    "duration": 370,
    "start_time": "2023-06-01T05:22:03.514Z"
   },
   {
    "duration": 2946,
    "start_time": "2023-06-01T05:22:03.886Z"
   },
   {
    "duration": 2,
    "start_time": "2023-06-01T05:22:06.833Z"
   },
   {
    "duration": 11,
    "start_time": "2023-06-01T05:22:06.837Z"
   },
   {
    "duration": 29,
    "start_time": "2023-06-01T05:22:06.849Z"
   },
   {
    "duration": 197,
    "start_time": "2023-06-01T05:22:06.879Z"
   },
   {
    "duration": 3,
    "start_time": "2023-06-01T05:22:07.078Z"
   },
   {
    "duration": 6,
    "start_time": "2023-06-01T05:22:07.082Z"
   },
   {
    "duration": 5,
    "start_time": "2023-06-01T05:22:07.089Z"
   },
   {
    "duration": 4,
    "start_time": "2023-06-01T05:22:07.095Z"
   },
   {
    "duration": 5,
    "start_time": "2023-06-01T05:22:07.101Z"
   },
   {
    "duration": 5,
    "start_time": "2023-06-01T05:22:07.107Z"
   },
   {
    "duration": 6,
    "start_time": "2023-06-01T05:22:07.113Z"
   },
   {
    "duration": 7,
    "start_time": "2023-06-01T05:22:07.121Z"
   },
   {
    "duration": 4,
    "start_time": "2023-06-01T05:22:07.129Z"
   },
   {
    "duration": 12,
    "start_time": "2023-06-01T05:22:07.135Z"
   },
   {
    "duration": 4,
    "start_time": "2023-06-01T05:22:07.148Z"
   },
   {
    "duration": 12,
    "start_time": "2023-06-01T05:22:07.153Z"
   },
   {
    "duration": 14,
    "start_time": "2023-06-01T05:22:07.168Z"
   },
   {
    "duration": 5,
    "start_time": "2023-06-01T05:22:07.183Z"
   },
   {
    "duration": 5,
    "start_time": "2023-06-01T05:22:07.189Z"
   },
   {
    "duration": 9659,
    "start_time": "2023-06-01T05:22:07.195Z"
   },
   {
    "duration": 1966,
    "start_time": "2023-06-01T05:22:32.984Z"
   },
   {
    "duration": 1962,
    "start_time": "2023-06-01T05:22:34.952Z"
   },
   {
    "duration": 3,
    "start_time": "2023-06-01T05:22:36.916Z"
   },
   {
    "duration": 9,
    "start_time": "2023-06-01T05:22:36.920Z"
   },
   {
    "duration": 4,
    "start_time": "2023-06-01T05:22:36.930Z"
   },
   {
    "duration": 2251,
    "start_time": "2023-06-01T05:22:36.935Z"
   },
   {
    "duration": 10,
    "start_time": "2023-06-01T05:22:39.188Z"
   },
   {
    "duration": 37,
    "start_time": "2023-06-01T05:22:39.200Z"
   },
   {
    "duration": 59,
    "start_time": "2023-06-01T05:22:39.239Z"
   },
   {
    "duration": 34,
    "start_time": "2023-06-01T05:22:39.300Z"
   },
   {
    "duration": 315,
    "start_time": "2023-06-01T05:22:39.336Z"
   },
   {
    "duration": 7,
    "start_time": "2023-06-01T05:22:39.652Z"
   },
   {
    "duration": 7,
    "start_time": "2023-06-01T05:22:39.661Z"
   },
   {
    "duration": 3,
    "start_time": "2023-06-01T05:22:39.684Z"
   },
   {
    "duration": 9,
    "start_time": "2023-06-01T05:22:39.688Z"
   },
   {
    "duration": 20,
    "start_time": "2023-06-01T05:22:39.698Z"
   },
   {
    "duration": 33,
    "start_time": "2023-06-01T05:22:39.720Z"
   },
   {
    "duration": 6,
    "start_time": "2023-06-01T05:22:39.754Z"
   },
   {
    "duration": 26,
    "start_time": "2023-06-01T05:22:39.761Z"
   },
   {
    "duration": 13,
    "start_time": "2023-06-01T05:22:39.788Z"
   },
   {
    "duration": 35,
    "start_time": "2023-06-01T05:22:39.802Z"
   },
   {
    "duration": 68,
    "start_time": "2023-06-01T05:22:39.839Z"
   },
   {
    "duration": 376,
    "start_time": "2023-06-01T05:22:39.908Z"
   },
   {
    "duration": 3114,
    "start_time": "2023-06-01T05:22:40.286Z"
   },
   {
    "duration": 2,
    "start_time": "2023-06-01T05:22:43.402Z"
   },
   {
    "duration": 8,
    "start_time": "2023-06-01T05:22:43.405Z"
   },
   {
    "duration": 21,
    "start_time": "2023-06-01T05:22:43.414Z"
   },
   {
    "duration": 213,
    "start_time": "2023-06-01T05:22:43.436Z"
   },
   {
    "duration": 5,
    "start_time": "2023-06-01T05:22:43.651Z"
   },
   {
    "duration": 5,
    "start_time": "2023-06-01T05:22:43.658Z"
   },
   {
    "duration": 11,
    "start_time": "2023-06-01T05:22:43.664Z"
   },
   {
    "duration": 6,
    "start_time": "2023-06-01T05:22:43.676Z"
   },
   {
    "duration": 16,
    "start_time": "2023-06-01T05:22:43.684Z"
   },
   {
    "duration": 6,
    "start_time": "2023-06-01T05:22:43.702Z"
   },
   {
    "duration": 14,
    "start_time": "2023-06-01T05:22:43.710Z"
   },
   {
    "duration": 11,
    "start_time": "2023-06-01T05:22:43.726Z"
   },
   {
    "duration": 7,
    "start_time": "2023-06-01T05:22:43.738Z"
   },
   {
    "duration": 8,
    "start_time": "2023-06-01T05:22:43.746Z"
   },
   {
    "duration": 4,
    "start_time": "2023-06-01T05:22:43.755Z"
   },
   {
    "duration": 12,
    "start_time": "2023-06-01T05:22:43.761Z"
   },
   {
    "duration": 2,
    "start_time": "2023-06-01T05:22:43.776Z"
   },
   {
    "duration": 5,
    "start_time": "2023-06-01T05:22:43.780Z"
   },
   {
    "duration": 6,
    "start_time": "2023-06-01T05:22:43.787Z"
   },
   {
    "duration": 4886,
    "start_time": "2023-06-01T05:22:43.794Z"
   },
   {
    "duration": 1992,
    "start_time": "2023-06-01T05:24:25.792Z"
   },
   {
    "duration": 1940,
    "start_time": "2023-06-01T05:24:27.787Z"
   },
   {
    "duration": 4,
    "start_time": "2023-06-01T05:24:29.729Z"
   },
   {
    "duration": 3,
    "start_time": "2023-06-01T05:24:29.735Z"
   },
   {
    "duration": 4,
    "start_time": "2023-06-01T05:24:29.739Z"
   },
   {
    "duration": 2275,
    "start_time": "2023-06-01T05:24:29.744Z"
   },
   {
    "duration": 10,
    "start_time": "2023-06-01T05:24:32.021Z"
   },
   {
    "duration": 28,
    "start_time": "2023-06-01T05:24:32.032Z"
   },
   {
    "duration": 95,
    "start_time": "2023-06-01T05:24:32.061Z"
   },
   {
    "duration": 44,
    "start_time": "2023-06-01T05:24:32.159Z"
   },
   {
    "duration": 309,
    "start_time": "2023-06-01T05:24:32.204Z"
   },
   {
    "duration": 13,
    "start_time": "2023-06-01T05:24:32.515Z"
   },
   {
    "duration": 29,
    "start_time": "2023-06-01T05:24:32.530Z"
   },
   {
    "duration": 34,
    "start_time": "2023-06-01T05:24:32.560Z"
   },
   {
    "duration": 26,
    "start_time": "2023-06-01T05:24:32.596Z"
   },
   {
    "duration": 18,
    "start_time": "2023-06-01T05:24:32.623Z"
   },
   {
    "duration": 15,
    "start_time": "2023-06-01T05:24:32.642Z"
   },
   {
    "duration": 37,
    "start_time": "2023-06-01T05:24:32.658Z"
   },
   {
    "duration": 12,
    "start_time": "2023-06-01T05:24:32.697Z"
   },
   {
    "duration": 28,
    "start_time": "2023-06-01T05:24:32.711Z"
   },
   {
    "duration": 58,
    "start_time": "2023-06-01T05:24:32.741Z"
   },
   {
    "duration": 65,
    "start_time": "2023-06-01T05:24:32.800Z"
   },
   {
    "duration": 374,
    "start_time": "2023-06-01T05:24:32.866Z"
   },
   {
    "duration": 3033,
    "start_time": "2023-06-01T05:24:33.242Z"
   },
   {
    "duration": 2,
    "start_time": "2023-06-01T05:24:36.276Z"
   },
   {
    "duration": 10,
    "start_time": "2023-06-01T05:24:36.280Z"
   },
   {
    "duration": 34,
    "start_time": "2023-06-01T05:24:36.291Z"
   },
   {
    "duration": 127,
    "start_time": "2023-06-01T05:24:36.328Z"
   },
   {
    "duration": 4,
    "start_time": "2023-06-01T05:24:36.456Z"
   },
   {
    "duration": 7,
    "start_time": "2023-06-01T05:24:36.461Z"
   },
   {
    "duration": 3,
    "start_time": "2023-06-01T05:24:36.469Z"
   },
   {
    "duration": 10,
    "start_time": "2023-06-01T05:24:36.473Z"
   },
   {
    "duration": 15,
    "start_time": "2023-06-01T05:24:36.484Z"
   },
   {
    "duration": 6,
    "start_time": "2023-06-01T05:24:36.500Z"
   },
   {
    "duration": 9,
    "start_time": "2023-06-01T05:24:36.508Z"
   },
   {
    "duration": 11,
    "start_time": "2023-06-01T05:24:36.518Z"
   },
   {
    "duration": 8,
    "start_time": "2023-06-01T05:24:36.530Z"
   },
   {
    "duration": 7,
    "start_time": "2023-06-01T05:24:36.539Z"
   },
   {
    "duration": 5,
    "start_time": "2023-06-01T05:24:36.547Z"
   },
   {
    "duration": 5,
    "start_time": "2023-06-01T05:24:36.553Z"
   },
   {
    "duration": 6,
    "start_time": "2023-06-01T05:24:36.559Z"
   },
   {
    "duration": 7,
    "start_time": "2023-06-01T05:24:36.566Z"
   },
   {
    "duration": 5,
    "start_time": "2023-06-01T05:24:36.575Z"
   },
   {
    "duration": 6558,
    "start_time": "2023-06-01T05:24:36.581Z"
   },
   {
    "duration": 4,
    "start_time": "2023-06-01T05:24:57.768Z"
   },
   {
    "duration": 33393,
    "start_time": "2023-06-01T05:25:01.943Z"
   },
   {
    "duration": 68,
    "start_time": "2023-06-01T05:25:40.607Z"
   },
   {
    "duration": 4,
    "start_time": "2023-06-01T05:25:44.257Z"
   },
   {
    "duration": 14400,
    "start_time": "2023-06-01T05:25:44.870Z"
   },
   {
    "duration": 4,
    "start_time": "2023-06-01T05:31:47.182Z"
   },
   {
    "duration": 2722,
    "start_time": "2023-06-01T05:31:47.871Z"
   },
   {
    "duration": 4,
    "start_time": "2023-06-01T05:35:03.691Z"
   },
   {
    "duration": 3,
    "start_time": "2023-06-01T05:35:07.278Z"
   },
   {
    "duration": 6441,
    "start_time": "2023-06-01T05:35:07.902Z"
   },
   {
    "duration": 3,
    "start_time": "2023-06-01T05:35:24.654Z"
   },
   {
    "duration": 3421,
    "start_time": "2023-06-01T05:35:25.165Z"
   },
   {
    "duration": 4,
    "start_time": "2023-06-01T05:36:56.268Z"
   },
   {
    "duration": 17462,
    "start_time": "2023-06-01T05:36:57.056Z"
   },
   {
    "duration": 4,
    "start_time": "2023-06-01T05:38:05.472Z"
   },
   {
    "duration": 2013,
    "start_time": "2023-06-01T05:38:05.845Z"
   },
   {
    "duration": 3,
    "start_time": "2023-06-01T05:38:12.323Z"
   },
   {
    "duration": 4,
    "start_time": "2023-06-01T05:38:12.721Z"
   },
   {
    "duration": 2,
    "start_time": "2023-06-01T05:38:13.271Z"
   },
   {
    "duration": 117979,
    "start_time": "2023-06-01T05:38:13.658Z"
   },
   {
    "duration": 0,
    "start_time": "2023-06-01T05:40:11.638Z"
   },
   {
    "duration": 0,
    "start_time": "2023-06-01T05:40:11.639Z"
   },
   {
    "duration": 0,
    "start_time": "2023-06-01T05:40:11.640Z"
   },
   {
    "duration": 2006,
    "start_time": "2023-06-01T05:42:12.789Z"
   },
   {
    "duration": 1968,
    "start_time": "2023-06-01T05:42:14.798Z"
   },
   {
    "duration": 3,
    "start_time": "2023-06-01T05:42:16.768Z"
   },
   {
    "duration": 10,
    "start_time": "2023-06-01T05:42:16.772Z"
   },
   {
    "duration": 8,
    "start_time": "2023-06-01T05:42:16.783Z"
   },
   {
    "duration": 3148,
    "start_time": "2023-06-01T05:42:16.792Z"
   },
   {
    "duration": 11,
    "start_time": "2023-06-01T05:42:19.941Z"
   },
   {
    "duration": 12,
    "start_time": "2023-06-01T05:42:19.953Z"
   },
   {
    "duration": 40,
    "start_time": "2023-06-01T05:42:19.967Z"
   },
   {
    "duration": 32,
    "start_time": "2023-06-01T05:42:20.009Z"
   },
   {
    "duration": 298,
    "start_time": "2023-06-01T05:42:20.043Z"
   },
   {
    "duration": 7,
    "start_time": "2023-06-01T05:42:20.343Z"
   },
   {
    "duration": 40,
    "start_time": "2023-06-01T05:42:20.351Z"
   },
   {
    "duration": 16,
    "start_time": "2023-06-01T05:42:20.394Z"
   },
   {
    "duration": 12,
    "start_time": "2023-06-01T05:42:20.412Z"
   },
   {
    "duration": 12,
    "start_time": "2023-06-01T05:42:20.426Z"
   },
   {
    "duration": 17,
    "start_time": "2023-06-01T05:42:20.440Z"
   },
   {
    "duration": 33,
    "start_time": "2023-06-01T05:42:20.458Z"
   },
   {
    "duration": 23,
    "start_time": "2023-06-01T05:42:20.493Z"
   },
   {
    "duration": 18,
    "start_time": "2023-06-01T05:42:20.517Z"
   },
   {
    "duration": 47,
    "start_time": "2023-06-01T05:42:20.537Z"
   },
   {
    "duration": 68,
    "start_time": "2023-06-01T05:42:20.585Z"
   },
   {
    "duration": 361,
    "start_time": "2023-06-01T05:42:20.654Z"
   },
   {
    "duration": 2832,
    "start_time": "2023-06-01T05:42:21.016Z"
   },
   {
    "duration": 3,
    "start_time": "2023-06-01T05:42:23.849Z"
   },
   {
    "duration": 15,
    "start_time": "2023-06-01T05:42:23.853Z"
   },
   {
    "duration": 41,
    "start_time": "2023-06-01T05:42:23.869Z"
   },
   {
    "duration": 133,
    "start_time": "2023-06-01T05:42:23.911Z"
   },
   {
    "duration": 4,
    "start_time": "2023-06-01T05:42:24.045Z"
   },
   {
    "duration": 7,
    "start_time": "2023-06-01T05:42:24.050Z"
   },
   {
    "duration": 33,
    "start_time": "2023-06-01T05:42:24.058Z"
   },
   {
    "duration": 17,
    "start_time": "2023-06-01T05:42:24.092Z"
   },
   {
    "duration": 35,
    "start_time": "2023-06-01T05:42:24.111Z"
   },
   {
    "duration": 10,
    "start_time": "2023-06-01T05:42:24.147Z"
   },
   {
    "duration": 15,
    "start_time": "2023-06-01T05:42:24.158Z"
   },
   {
    "duration": 22,
    "start_time": "2023-06-01T05:42:24.174Z"
   },
   {
    "duration": 18,
    "start_time": "2023-06-01T05:42:24.198Z"
   },
   {
    "duration": 42,
    "start_time": "2023-06-01T05:42:24.218Z"
   },
   {
    "duration": 22,
    "start_time": "2023-06-01T05:42:24.262Z"
   },
   {
    "duration": 24,
    "start_time": "2023-06-01T05:42:24.286Z"
   },
   {
    "duration": 63,
    "start_time": "2023-06-01T05:42:24.313Z"
   },
   {
    "duration": 21,
    "start_time": "2023-06-01T05:42:24.377Z"
   },
   {
    "duration": 28,
    "start_time": "2023-06-01T05:42:24.403Z"
   },
   {
    "duration": 2147,
    "start_time": "2023-06-01T05:47:41.206Z"
   },
   {
    "duration": 2069,
    "start_time": "2023-06-01T05:47:43.355Z"
   },
   {
    "duration": 4,
    "start_time": "2023-06-01T05:47:45.426Z"
   },
   {
    "duration": 8,
    "start_time": "2023-06-01T05:47:45.432Z"
   },
   {
    "duration": 12,
    "start_time": "2023-06-01T05:47:45.442Z"
   },
   {
    "duration": 2783,
    "start_time": "2023-06-01T05:47:45.456Z"
   },
   {
    "duration": 10,
    "start_time": "2023-06-01T05:47:48.241Z"
   },
   {
    "duration": 4,
    "start_time": "2023-06-01T05:47:48.252Z"
   },
   {
    "duration": 51,
    "start_time": "2023-06-01T05:47:48.257Z"
   },
   {
    "duration": 35,
    "start_time": "2023-06-01T05:47:48.310Z"
   },
   {
    "duration": 336,
    "start_time": "2023-06-01T05:47:48.347Z"
   },
   {
    "duration": 7,
    "start_time": "2023-06-01T05:47:48.685Z"
   },
   {
    "duration": 6,
    "start_time": "2023-06-01T05:47:48.693Z"
   },
   {
    "duration": 9,
    "start_time": "2023-06-01T05:47:48.701Z"
   },
   {
    "duration": 7,
    "start_time": "2023-06-01T05:47:48.711Z"
   },
   {
    "duration": 7,
    "start_time": "2023-06-01T05:47:48.720Z"
   },
   {
    "duration": 7,
    "start_time": "2023-06-01T05:47:48.728Z"
   },
   {
    "duration": 5,
    "start_time": "2023-06-01T05:47:48.737Z"
   },
   {
    "duration": 6,
    "start_time": "2023-06-01T05:47:48.743Z"
   },
   {
    "duration": 8,
    "start_time": "2023-06-01T05:47:48.751Z"
   },
   {
    "duration": 58,
    "start_time": "2023-06-01T05:47:48.761Z"
   },
   {
    "duration": 65,
    "start_time": "2023-06-01T05:47:48.820Z"
   },
   {
    "duration": 382,
    "start_time": "2023-06-01T05:47:48.887Z"
   },
   {
    "duration": 2981,
    "start_time": "2023-06-01T05:47:49.271Z"
   },
   {
    "duration": 3,
    "start_time": "2023-06-01T05:47:52.253Z"
   },
   {
    "duration": 6,
    "start_time": "2023-06-01T05:47:52.257Z"
   },
   {
    "duration": 29,
    "start_time": "2023-06-01T05:47:52.264Z"
   },
   {
    "duration": 196,
    "start_time": "2023-06-01T05:47:52.295Z"
   },
   {
    "duration": 4,
    "start_time": "2023-06-01T05:47:52.492Z"
   },
   {
    "duration": 4,
    "start_time": "2023-06-01T05:47:52.498Z"
   },
   {
    "duration": 7,
    "start_time": "2023-06-01T05:47:52.503Z"
   },
   {
    "duration": 6,
    "start_time": "2023-06-01T05:47:52.511Z"
   },
   {
    "duration": 12,
    "start_time": "2023-06-01T05:47:52.518Z"
   },
   {
    "duration": 17,
    "start_time": "2023-06-01T05:47:52.531Z"
   },
   {
    "duration": 12,
    "start_time": "2023-06-01T05:47:52.549Z"
   },
   {
    "duration": 13,
    "start_time": "2023-06-01T05:47:52.562Z"
   },
   {
    "duration": 13,
    "start_time": "2023-06-01T05:47:52.577Z"
   },
   {
    "duration": 14,
    "start_time": "2023-06-01T05:47:52.592Z"
   },
   {
    "duration": 15,
    "start_time": "2023-06-01T05:47:52.607Z"
   },
   {
    "duration": 6,
    "start_time": "2023-06-01T05:47:52.623Z"
   },
   {
    "duration": 3,
    "start_time": "2023-06-01T05:47:52.632Z"
   },
   {
    "duration": 4,
    "start_time": "2023-06-01T05:47:52.636Z"
   },
   {
    "duration": 7,
    "start_time": "2023-06-01T05:47:52.641Z"
   },
   {
    "duration": 2071,
    "start_time": "2023-06-01T06:12:03.797Z"
   },
   {
    "duration": 2331,
    "start_time": "2023-06-01T06:12:05.871Z"
   },
   {
    "duration": 3,
    "start_time": "2023-06-01T06:12:08.203Z"
   },
   {
    "duration": 6,
    "start_time": "2023-06-01T06:12:08.207Z"
   },
   {
    "duration": 7,
    "start_time": "2023-06-01T06:12:08.215Z"
   },
   {
    "duration": 2794,
    "start_time": "2023-06-01T06:12:08.223Z"
   },
   {
    "duration": 10,
    "start_time": "2023-06-01T06:12:11.019Z"
   },
   {
    "duration": 14,
    "start_time": "2023-06-01T06:12:11.030Z"
   },
   {
    "duration": 50,
    "start_time": "2023-06-01T06:12:11.045Z"
   },
   {
    "duration": 35,
    "start_time": "2023-06-01T06:12:11.097Z"
   },
   {
    "duration": 364,
    "start_time": "2023-06-01T06:12:11.133Z"
   },
   {
    "duration": 8,
    "start_time": "2023-06-01T06:12:11.500Z"
   },
   {
    "duration": 17,
    "start_time": "2023-06-01T06:12:11.510Z"
   },
   {
    "duration": 6,
    "start_time": "2023-06-01T06:12:11.529Z"
   },
   {
    "duration": 5,
    "start_time": "2023-06-01T06:12:11.536Z"
   },
   {
    "duration": 6,
    "start_time": "2023-06-01T06:12:11.542Z"
   },
   {
    "duration": 8,
    "start_time": "2023-06-01T06:12:11.550Z"
   },
   {
    "duration": 9,
    "start_time": "2023-06-01T06:12:11.560Z"
   },
   {
    "duration": 8,
    "start_time": "2023-06-01T06:12:11.570Z"
   },
   {
    "duration": 27,
    "start_time": "2023-06-01T06:12:11.579Z"
   },
   {
    "duration": 35,
    "start_time": "2023-06-01T06:12:11.607Z"
   },
   {
    "duration": 59,
    "start_time": "2023-06-01T06:12:11.643Z"
   },
   {
    "duration": 394,
    "start_time": "2023-06-01T06:12:11.704Z"
   },
   {
    "duration": 3083,
    "start_time": "2023-06-01T06:12:12.100Z"
   },
   {
    "duration": 6,
    "start_time": "2023-06-01T06:12:15.191Z"
   },
   {
    "duration": 4,
    "start_time": "2023-06-01T06:12:15.199Z"
   },
   {
    "duration": 22,
    "start_time": "2023-06-01T06:12:15.204Z"
   },
   {
    "duration": 203,
    "start_time": "2023-06-01T06:12:15.227Z"
   },
   {
    "duration": 4,
    "start_time": "2023-06-01T06:12:15.431Z"
   },
   {
    "duration": 8,
    "start_time": "2023-06-01T06:12:15.436Z"
   },
   {
    "duration": 11,
    "start_time": "2023-06-01T06:12:15.445Z"
   },
   {
    "duration": 5,
    "start_time": "2023-06-01T06:12:15.458Z"
   },
   {
    "duration": 7,
    "start_time": "2023-06-01T06:12:15.464Z"
   },
   {
    "duration": 5,
    "start_time": "2023-06-01T06:12:15.473Z"
   },
   {
    "duration": 25,
    "start_time": "2023-06-01T06:12:15.479Z"
   },
   {
    "duration": 10,
    "start_time": "2023-06-01T06:12:15.506Z"
   },
   {
    "duration": 5,
    "start_time": "2023-06-01T06:12:15.517Z"
   },
   {
    "duration": 10,
    "start_time": "2023-06-01T06:12:15.523Z"
   },
   {
    "duration": 7,
    "start_time": "2023-06-01T06:12:15.535Z"
   },
   {
    "duration": 5,
    "start_time": "2023-06-01T06:12:15.543Z"
   },
   {
    "duration": 7,
    "start_time": "2023-06-01T06:12:15.551Z"
   },
   {
    "duration": 4,
    "start_time": "2023-06-01T06:12:15.559Z"
   },
   {
    "duration": 7,
    "start_time": "2023-06-01T06:12:15.565Z"
   },
   {
    "duration": 1969767,
    "start_time": "2023-06-01T06:12:15.573Z"
   },
   {
    "duration": 2,
    "start_time": "2023-06-01T06:45:05.343Z"
   },
   {
    "duration": 6,
    "start_time": "2023-06-01T06:45:05.347Z"
   },
   {
    "duration": 1291909,
    "start_time": "2023-06-01T06:45:05.354Z"
   },
   {
    "duration": 2,
    "start_time": "2023-06-01T08:17:58.866Z"
   },
   {
    "duration": 4,
    "start_time": "2023-06-01T08:17:59.571Z"
   },
   {
    "duration": 2,
    "start_time": "2023-06-01T08:18:00.376Z"
   },
   {
    "duration": 402437,
    "start_time": "2023-06-01T08:18:00.921Z"
   },
   {
    "duration": 2,
    "start_time": "2023-06-01T08:24:43.360Z"
   },
   {
    "duration": 6,
    "start_time": "2023-06-01T08:24:43.364Z"
   },
   {
    "duration": 445741,
    "start_time": "2023-06-01T08:24:43.371Z"
   },
   {
    "duration": 2,
    "start_time": "2023-06-01T08:38:37.130Z"
   },
   {
    "duration": 4,
    "start_time": "2023-06-01T08:38:37.555Z"
   },
   {
    "duration": 2,
    "start_time": "2023-06-01T08:38:38.157Z"
   },
   {
    "duration": 1316821,
    "start_time": "2023-06-01T08:38:38.581Z"
   },
   {
    "duration": 3,
    "start_time": "2023-06-01T09:00:35.403Z"
   },
   {
    "duration": 32,
    "start_time": "2023-06-01T09:00:35.407Z"
   },
   {
    "duration": 1245832,
    "start_time": "2023-06-01T09:00:35.441Z"
   },
   {
    "duration": 3,
    "start_time": "2023-06-01T09:37:05.948Z"
   },
   {
    "duration": 5,
    "start_time": "2023-06-01T09:37:06.486Z"
   },
   {
    "duration": 2,
    "start_time": "2023-06-01T09:37:07.269Z"
   },
   {
    "duration": 7908191,
    "start_time": "2023-06-01T09:37:07.824Z"
   },
   {
    "duration": 3,
    "start_time": "2023-06-01T11:57:05.913Z"
   },
   {
    "duration": 3,
    "start_time": "2023-06-01T11:57:06.773Z"
   },
   {
    "duration": 2149,
    "start_time": "2023-06-01T11:58:16.373Z"
   },
   {
    "duration": 2240,
    "start_time": "2023-06-01T11:58:18.525Z"
   },
   {
    "duration": 3,
    "start_time": "2023-06-01T11:58:20.767Z"
   },
   {
    "duration": 13,
    "start_time": "2023-06-01T11:58:20.772Z"
   },
   {
    "duration": 20,
    "start_time": "2023-06-01T11:58:20.787Z"
   },
   {
    "duration": 2805,
    "start_time": "2023-06-01T11:58:20.809Z"
   },
   {
    "duration": 9,
    "start_time": "2023-06-01T11:58:23.616Z"
   },
   {
    "duration": 32,
    "start_time": "2023-06-01T11:58:23.627Z"
   },
   {
    "duration": 46,
    "start_time": "2023-06-01T11:58:23.660Z"
   },
   {
    "duration": 43,
    "start_time": "2023-06-01T11:58:23.708Z"
   },
   {
    "duration": 310,
    "start_time": "2023-06-01T11:58:23.752Z"
   },
   {
    "duration": 7,
    "start_time": "2023-06-01T11:58:24.063Z"
   },
   {
    "duration": 18,
    "start_time": "2023-06-01T11:58:24.072Z"
   },
   {
    "duration": 10,
    "start_time": "2023-06-01T11:58:24.093Z"
   },
   {
    "duration": 10,
    "start_time": "2023-06-01T11:58:24.104Z"
   },
   {
    "duration": 16,
    "start_time": "2023-06-01T11:58:24.116Z"
   },
   {
    "duration": 15,
    "start_time": "2023-06-01T11:58:24.133Z"
   },
   {
    "duration": 12,
    "start_time": "2023-06-01T11:58:24.150Z"
   },
   {
    "duration": 6,
    "start_time": "2023-06-01T11:58:24.163Z"
   },
   {
    "duration": 26,
    "start_time": "2023-06-01T11:58:24.171Z"
   },
   {
    "duration": 44,
    "start_time": "2023-06-01T11:58:24.198Z"
   },
   {
    "duration": 69,
    "start_time": "2023-06-01T11:58:24.244Z"
   },
   {
    "duration": 390,
    "start_time": "2023-06-01T11:58:24.315Z"
   },
   {
    "duration": 3113,
    "start_time": "2023-06-01T11:58:24.706Z"
   },
   {
    "duration": 2,
    "start_time": "2023-06-01T11:58:27.821Z"
   },
   {
    "duration": 20,
    "start_time": "2023-06-01T11:58:27.825Z"
   },
   {
    "duration": 22,
    "start_time": "2023-06-01T11:58:27.847Z"
   },
   {
    "duration": 136,
    "start_time": "2023-06-01T11:58:27.871Z"
   },
   {
    "duration": 4,
    "start_time": "2023-06-01T11:58:28.009Z"
   },
   {
    "duration": 6,
    "start_time": "2023-06-01T11:58:28.015Z"
   },
   {
    "duration": 7,
    "start_time": "2023-06-01T11:58:28.023Z"
   },
   {
    "duration": 9,
    "start_time": "2023-06-01T11:58:28.031Z"
   },
   {
    "duration": 5,
    "start_time": "2023-06-01T11:58:28.041Z"
   },
   {
    "duration": 13,
    "start_time": "2023-06-01T11:58:28.048Z"
   },
   {
    "duration": 15,
    "start_time": "2023-06-01T11:58:28.063Z"
   },
   {
    "duration": 10,
    "start_time": "2023-06-01T11:58:28.080Z"
   },
   {
    "duration": 11,
    "start_time": "2023-06-01T11:58:28.091Z"
   },
   {
    "duration": 12,
    "start_time": "2023-06-01T11:58:28.103Z"
   },
   {
    "duration": 14,
    "start_time": "2023-06-01T11:58:28.116Z"
   },
   {
    "duration": 19,
    "start_time": "2023-06-01T11:58:28.131Z"
   },
   {
    "duration": 4,
    "start_time": "2023-06-01T11:58:28.153Z"
   },
   {
    "duration": 9,
    "start_time": "2023-06-01T11:58:28.158Z"
   },
   {
    "duration": 8,
    "start_time": "2023-06-01T11:58:28.168Z"
   },
   {
    "duration": 1795908,
    "start_time": "2023-06-01T11:58:28.178Z"
   },
   {
    "duration": 2,
    "start_time": "2023-06-01T12:28:24.087Z"
   },
   {
    "duration": 17,
    "start_time": "2023-06-01T12:28:24.091Z"
   },
   {
    "duration": 1062718,
    "start_time": "2023-06-01T12:28:24.110Z"
   },
   {
    "duration": 3,
    "start_time": "2023-06-01T12:46:06.829Z"
   },
   {
    "duration": 15,
    "start_time": "2023-06-01T12:46:06.833Z"
   },
   {
    "duration": 20,
    "start_time": "2023-06-01T12:46:06.850Z"
   },
   {
    "duration": 423188,
    "start_time": "2023-06-01T12:46:06.871Z"
   },
   {
    "duration": 3,
    "start_time": "2023-06-01T12:53:10.060Z"
   },
   {
    "duration": 18,
    "start_time": "2023-06-01T12:53:10.064Z"
   },
   {
    "duration": 459912,
    "start_time": "2023-06-01T12:53:10.084Z"
   },
   {
    "duration": 2,
    "start_time": "2023-06-01T13:10:13.418Z"
   },
   {
    "duration": 4,
    "start_time": "2023-06-01T13:10:13.816Z"
   },
   {
    "duration": 3,
    "start_time": "2023-06-01T13:10:14.577Z"
   },
   {
    "duration": 1324180,
    "start_time": "2023-06-01T13:10:15.193Z"
   },
   {
    "duration": 2,
    "start_time": "2023-06-01T13:32:19.375Z"
   },
   {
    "duration": 5,
    "start_time": "2023-06-01T13:32:19.385Z"
   },
   {
    "duration": 1213876,
    "start_time": "2023-06-01T13:32:19.392Z"
   },
   {
    "duration": 4,
    "start_time": "2023-06-01T14:12:45.988Z"
   },
   {
    "duration": 3,
    "start_time": "2023-06-01T14:12:46.463Z"
   },
   {
    "duration": 2,
    "start_time": "2023-06-01T14:12:47.208Z"
   },
   {
    "duration": 2046,
    "start_time": "2023-06-01T14:22:41.058Z"
   },
   {
    "duration": 2415,
    "start_time": "2023-06-01T14:22:43.107Z"
   },
   {
    "duration": 4,
    "start_time": "2023-06-01T14:22:45.524Z"
   },
   {
    "duration": 8,
    "start_time": "2023-06-01T14:22:45.530Z"
   },
   {
    "duration": 23,
    "start_time": "2023-06-01T14:22:45.540Z"
   },
   {
    "duration": 3074,
    "start_time": "2023-06-01T14:22:45.565Z"
   },
   {
    "duration": 10,
    "start_time": "2023-06-01T14:22:48.641Z"
   },
   {
    "duration": 8,
    "start_time": "2023-06-01T14:22:48.652Z"
   },
   {
    "duration": 51,
    "start_time": "2023-06-01T14:22:48.661Z"
   },
   {
    "duration": 52,
    "start_time": "2023-06-01T14:22:48.713Z"
   },
   {
    "duration": 313,
    "start_time": "2023-06-01T14:22:48.766Z"
   },
   {
    "duration": 6,
    "start_time": "2023-06-01T14:22:49.081Z"
   },
   {
    "duration": 7,
    "start_time": "2023-06-01T14:22:49.088Z"
   },
   {
    "duration": 3,
    "start_time": "2023-06-01T14:22:49.098Z"
   },
   {
    "duration": 6,
    "start_time": "2023-06-01T14:22:49.102Z"
   },
   {
    "duration": 6,
    "start_time": "2023-06-01T14:22:49.109Z"
   },
   {
    "duration": 9,
    "start_time": "2023-06-01T14:22:49.116Z"
   },
   {
    "duration": 24,
    "start_time": "2023-06-01T14:22:49.126Z"
   },
   {
    "duration": 28,
    "start_time": "2023-06-01T14:22:49.151Z"
   },
   {
    "duration": 20,
    "start_time": "2023-06-01T14:22:49.180Z"
   },
   {
    "duration": 37,
    "start_time": "2023-06-01T14:22:49.202Z"
   },
   {
    "duration": 65,
    "start_time": "2023-06-01T14:22:49.241Z"
   },
   {
    "duration": 377,
    "start_time": "2023-06-01T14:22:49.307Z"
   },
   {
    "duration": 2994,
    "start_time": "2023-06-01T14:22:49.685Z"
   },
   {
    "duration": 2,
    "start_time": "2023-06-01T14:22:52.685Z"
   },
   {
    "duration": 13,
    "start_time": "2023-06-01T14:22:52.688Z"
   },
   {
    "duration": 29,
    "start_time": "2023-06-01T14:22:52.703Z"
   },
   {
    "duration": 203,
    "start_time": "2023-06-01T14:22:52.733Z"
   },
   {
    "duration": 4,
    "start_time": "2023-06-01T14:22:52.937Z"
   },
   {
    "duration": 6,
    "start_time": "2023-06-01T14:22:52.942Z"
   },
   {
    "duration": 9,
    "start_time": "2023-06-01T14:22:52.949Z"
   },
   {
    "duration": 17,
    "start_time": "2023-06-01T14:22:52.959Z"
   },
   {
    "duration": 16,
    "start_time": "2023-06-01T14:22:52.977Z"
   },
   {
    "duration": 11,
    "start_time": "2023-06-01T14:22:52.995Z"
   },
   {
    "duration": 14,
    "start_time": "2023-06-01T14:22:53.008Z"
   },
   {
    "duration": 16,
    "start_time": "2023-06-01T14:22:53.023Z"
   },
   {
    "duration": 4,
    "start_time": "2023-06-01T14:22:53.041Z"
   },
   {
    "duration": 6,
    "start_time": "2023-06-01T14:22:53.047Z"
   },
   {
    "duration": 17,
    "start_time": "2023-06-01T14:22:53.054Z"
   },
   {
    "duration": 9,
    "start_time": "2023-06-01T14:22:53.072Z"
   },
   {
    "duration": 20,
    "start_time": "2023-06-01T14:22:53.085Z"
   },
   {
    "duration": 6,
    "start_time": "2023-06-01T14:22:53.106Z"
   },
   {
    "duration": 26,
    "start_time": "2023-06-01T14:22:53.113Z"
   },
   {
    "duration": 1804999,
    "start_time": "2023-06-01T14:22:53.140Z"
   },
   {
    "duration": 3,
    "start_time": "2023-06-01T14:52:58.140Z"
   },
   {
    "duration": 17,
    "start_time": "2023-06-01T14:52:58.144Z"
   },
   {
    "duration": 1109345,
    "start_time": "2023-06-01T14:52:58.162Z"
   },
   {
    "duration": 3,
    "start_time": "2023-06-01T15:11:27.508Z"
   },
   {
    "duration": 18,
    "start_time": "2023-06-01T15:11:27.513Z"
   },
   {
    "duration": 9,
    "start_time": "2023-06-01T15:11:27.532Z"
   },
   {
    "duration": 416946,
    "start_time": "2023-06-01T15:11:27.542Z"
   },
   {
    "duration": 3,
    "start_time": "2023-06-01T15:18:24.489Z"
   },
   {
    "duration": 17,
    "start_time": "2023-06-01T15:18:24.493Z"
   },
   {
    "duration": 441180,
    "start_time": "2023-06-01T15:18:24.511Z"
   },
   {
    "duration": 2,
    "start_time": "2023-06-01T15:25:45.693Z"
   },
   {
    "duration": 8,
    "start_time": "2023-06-01T15:25:45.696Z"
   },
   {
    "duration": 5,
    "start_time": "2023-06-01T15:25:45.705Z"
   },
   {
    "duration": 1279557,
    "start_time": "2023-06-01T15:25:45.712Z"
   },
   {
    "duration": 2,
    "start_time": "2023-06-01T15:47:05.271Z"
   },
   {
    "duration": 23,
    "start_time": "2023-06-01T15:47:05.275Z"
   },
   {
    "duration": 997860,
    "start_time": "2023-06-01T15:47:05.300Z"
   },
   {
    "duration": 3,
    "start_time": "2023-06-01T16:03:43.163Z"
   },
   {
    "duration": 12,
    "start_time": "2023-06-01T16:03:43.168Z"
   },
   {
    "duration": 31,
    "start_time": "2023-06-01T16:03:43.182Z"
   },
   {
    "duration": 2194,
    "start_time": "2023-06-01T16:19:40.879Z"
   },
   {
    "duration": 3270,
    "start_time": "2023-06-01T16:19:43.076Z"
   },
   {
    "duration": 18,
    "start_time": "2023-06-01T16:19:46.349Z"
   },
   {
    "duration": 4,
    "start_time": "2023-06-01T16:19:46.369Z"
   },
   {
    "duration": 18,
    "start_time": "2023-06-01T16:19:46.376Z"
   },
   {
    "duration": 2848,
    "start_time": "2023-06-01T16:19:46.407Z"
   },
   {
    "duration": 10,
    "start_time": "2023-06-01T16:19:49.257Z"
   },
   {
    "duration": 5,
    "start_time": "2023-06-01T16:19:49.269Z"
   },
   {
    "duration": 45,
    "start_time": "2023-06-01T16:19:49.290Z"
   },
   {
    "duration": 62,
    "start_time": "2023-06-01T16:19:49.337Z"
   },
   {
    "duration": 311,
    "start_time": "2023-06-01T16:19:49.401Z"
   },
   {
    "duration": 7,
    "start_time": "2023-06-01T16:19:49.713Z"
   },
   {
    "duration": 7,
    "start_time": "2023-06-01T16:19:49.722Z"
   },
   {
    "duration": 10,
    "start_time": "2023-06-01T16:19:49.732Z"
   },
   {
    "duration": 11,
    "start_time": "2023-06-01T16:19:49.744Z"
   },
   {
    "duration": 4,
    "start_time": "2023-06-01T16:19:49.757Z"
   },
   {
    "duration": 41,
    "start_time": "2023-06-01T16:19:49.763Z"
   },
   {
    "duration": 20,
    "start_time": "2023-06-01T16:19:49.806Z"
   },
   {
    "duration": 12,
    "start_time": "2023-06-01T16:19:49.827Z"
   },
   {
    "duration": 29,
    "start_time": "2023-06-01T16:19:49.840Z"
   },
   {
    "duration": 45,
    "start_time": "2023-06-01T16:19:49.871Z"
   },
   {
    "duration": 84,
    "start_time": "2023-06-01T16:19:49.918Z"
   },
   {
    "duration": 390,
    "start_time": "2023-06-01T16:19:50.004Z"
   },
   {
    "duration": 3230,
    "start_time": "2023-06-01T16:19:50.395Z"
   },
   {
    "duration": 3,
    "start_time": "2023-06-01T16:19:53.626Z"
   },
   {
    "duration": 15,
    "start_time": "2023-06-01T16:19:53.630Z"
   },
   {
    "duration": 44,
    "start_time": "2023-06-01T16:19:53.647Z"
   },
   {
    "duration": 219,
    "start_time": "2023-06-01T16:19:53.699Z"
   },
   {
    "duration": 4,
    "start_time": "2023-06-01T16:19:53.919Z"
   },
   {
    "duration": 33,
    "start_time": "2023-06-01T16:19:53.924Z"
   },
   {
    "duration": 52,
    "start_time": "2023-06-01T16:19:53.958Z"
   },
   {
    "duration": 36,
    "start_time": "2023-06-01T16:19:54.012Z"
   },
   {
    "duration": 11,
    "start_time": "2023-06-01T16:19:54.049Z"
   },
   {
    "duration": 7,
    "start_time": "2023-06-01T16:19:54.062Z"
   },
   {
    "duration": 38,
    "start_time": "2023-06-01T16:19:54.070Z"
   },
   {
    "duration": 29,
    "start_time": "2023-06-01T16:19:54.109Z"
   },
   {
    "duration": 65,
    "start_time": "2023-06-01T16:19:54.140Z"
   },
   {
    "duration": 71,
    "start_time": "2023-06-01T16:19:54.207Z"
   },
   {
    "duration": 35,
    "start_time": "2023-06-01T16:19:54.280Z"
   },
   {
    "duration": 16,
    "start_time": "2023-06-01T16:19:54.317Z"
   },
   {
    "duration": 24,
    "start_time": "2023-06-01T16:19:54.337Z"
   },
   {
    "duration": 29,
    "start_time": "2023-06-01T16:19:54.362Z"
   },
   {
    "duration": 56,
    "start_time": "2023-06-01T16:19:54.393Z"
   },
   {
    "duration": 1967186,
    "start_time": "2023-06-01T16:19:54.450Z"
   },
   {
    "duration": 3,
    "start_time": "2023-06-01T16:52:41.638Z"
   },
   {
    "duration": 11,
    "start_time": "2023-06-01T16:52:41.642Z"
   },
   {
    "duration": 1206955,
    "start_time": "2023-06-01T16:52:41.655Z"
   },
   {
    "duration": 2,
    "start_time": "2023-06-01T17:12:48.612Z"
   },
   {
    "duration": 11,
    "start_time": "2023-06-01T17:12:48.615Z"
   },
   {
    "duration": 8,
    "start_time": "2023-06-01T17:12:48.627Z"
   },
   {
    "duration": 403138,
    "start_time": "2023-06-01T17:12:48.636Z"
   },
   {
    "duration": 3,
    "start_time": "2023-06-01T17:19:31.775Z"
   },
   {
    "duration": 103,
    "start_time": "2023-06-01T17:19:31.780Z"
   },
   {
    "duration": 433547,
    "start_time": "2023-06-01T17:19:31.884Z"
   },
   {
    "duration": 2,
    "start_time": "2023-06-01T17:26:45.432Z"
   },
   {
    "duration": 5,
    "start_time": "2023-06-01T17:26:45.436Z"
   },
   {
    "duration": 4,
    "start_time": "2023-06-01T17:26:45.442Z"
   },
   {
    "duration": 2975271,
    "start_time": "2023-06-01T17:26:45.447Z"
   },
   {
    "duration": 3,
    "start_time": "2023-06-01T18:16:20.719Z"
   },
   {
    "duration": 15,
    "start_time": "2023-06-01T18:16:20.723Z"
   },
   {
    "duration": 682942,
    "start_time": "2023-06-01T18:16:20.740Z"
   },
   {
    "duration": 2,
    "start_time": "2023-06-01T18:27:43.685Z"
   },
   {
    "duration": 18,
    "start_time": "2023-06-01T18:27:43.688Z"
   },
   {
    "duration": 14,
    "start_time": "2023-06-01T18:27:43.708Z"
   },
   {
    "duration": 1875,
    "start_time": "2023-06-01T18:34:04.041Z"
   },
   {
    "duration": 2390,
    "start_time": "2023-06-01T18:34:05.918Z"
   },
   {
    "duration": 14,
    "start_time": "2023-06-01T18:34:08.309Z"
   },
   {
    "duration": 11,
    "start_time": "2023-06-01T18:34:08.324Z"
   },
   {
    "duration": 14,
    "start_time": "2023-06-01T18:34:08.336Z"
   },
   {
    "duration": 2682,
    "start_time": "2023-06-01T18:34:08.351Z"
   },
   {
    "duration": 10,
    "start_time": "2023-06-01T18:34:11.035Z"
   },
   {
    "duration": 14,
    "start_time": "2023-06-01T18:34:11.046Z"
   },
   {
    "duration": 62,
    "start_time": "2023-06-01T18:34:11.061Z"
   },
   {
    "duration": 40,
    "start_time": "2023-06-01T18:34:11.124Z"
   },
   {
    "duration": 312,
    "start_time": "2023-06-01T18:34:11.165Z"
   },
   {
    "duration": 8,
    "start_time": "2023-06-01T18:34:11.479Z"
   },
   {
    "duration": 16,
    "start_time": "2023-06-01T18:34:11.488Z"
   },
   {
    "duration": 18,
    "start_time": "2023-06-01T18:34:11.506Z"
   },
   {
    "duration": 25,
    "start_time": "2023-06-01T18:34:11.526Z"
   },
   {
    "duration": 11,
    "start_time": "2023-06-01T18:34:11.553Z"
   },
   {
    "duration": 17,
    "start_time": "2023-06-01T18:34:11.565Z"
   },
   {
    "duration": 16,
    "start_time": "2023-06-01T18:34:11.583Z"
   },
   {
    "duration": 20,
    "start_time": "2023-06-01T18:34:11.601Z"
   },
   {
    "duration": 30,
    "start_time": "2023-06-01T18:34:11.622Z"
   },
   {
    "duration": 37,
    "start_time": "2023-06-01T18:34:11.653Z"
   },
   {
    "duration": 56,
    "start_time": "2023-06-01T18:34:11.692Z"
   },
   {
    "duration": 367,
    "start_time": "2023-06-01T18:34:11.750Z"
   },
   {
    "duration": 2934,
    "start_time": "2023-06-01T18:34:12.118Z"
   },
   {
    "duration": 2,
    "start_time": "2023-06-01T18:34:15.054Z"
   },
   {
    "duration": 16,
    "start_time": "2023-06-01T18:34:15.058Z"
   },
   {
    "duration": 35,
    "start_time": "2023-06-01T18:34:15.076Z"
   },
   {
    "duration": 204,
    "start_time": "2023-06-01T18:34:15.112Z"
   },
   {
    "duration": 4,
    "start_time": "2023-06-01T18:34:15.317Z"
   },
   {
    "duration": 6,
    "start_time": "2023-06-01T18:34:15.323Z"
   },
   {
    "duration": 4,
    "start_time": "2023-06-01T18:34:15.330Z"
   },
   {
    "duration": 9,
    "start_time": "2023-06-01T18:34:15.335Z"
   },
   {
    "duration": 9,
    "start_time": "2023-06-01T18:34:15.345Z"
   },
   {
    "duration": 18,
    "start_time": "2023-06-01T18:34:15.355Z"
   },
   {
    "duration": 16,
    "start_time": "2023-06-01T18:34:15.374Z"
   },
   {
    "duration": 26,
    "start_time": "2023-06-01T18:34:15.391Z"
   },
   {
    "duration": 22,
    "start_time": "2023-06-01T18:34:15.418Z"
   },
   {
    "duration": 16,
    "start_time": "2023-06-01T18:34:15.441Z"
   },
   {
    "duration": 13,
    "start_time": "2023-06-01T18:34:15.458Z"
   },
   {
    "duration": 5,
    "start_time": "2023-06-01T18:34:15.472Z"
   },
   {
    "duration": 27,
    "start_time": "2023-06-01T18:34:15.480Z"
   },
   {
    "duration": 7,
    "start_time": "2023-06-01T18:34:15.509Z"
   },
   {
    "duration": 6,
    "start_time": "2023-06-01T18:34:15.517Z"
   },
   {
    "duration": 1801876,
    "start_time": "2023-06-01T18:34:15.524Z"
   },
   {
    "duration": 3,
    "start_time": "2023-06-01T19:04:17.401Z"
   },
   {
    "duration": 13,
    "start_time": "2023-06-01T19:04:17.406Z"
   },
   {
    "duration": 2017,
    "start_time": "2023-06-01T19:27:14.043Z"
   },
   {
    "duration": 2009,
    "start_time": "2023-06-01T19:27:16.064Z"
   },
   {
    "duration": 3,
    "start_time": "2023-06-01T19:27:18.075Z"
   },
   {
    "duration": 21,
    "start_time": "2023-06-01T19:27:18.080Z"
   },
   {
    "duration": 12,
    "start_time": "2023-06-01T19:27:18.103Z"
   },
   {
    "duration": 2552,
    "start_time": "2023-06-01T19:27:18.116Z"
   },
   {
    "duration": 10,
    "start_time": "2023-06-01T19:27:20.669Z"
   },
   {
    "duration": 38,
    "start_time": "2023-06-01T19:27:20.684Z"
   },
   {
    "duration": 56,
    "start_time": "2023-06-01T19:27:20.724Z"
   },
   {
    "duration": 54,
    "start_time": "2023-06-01T19:27:20.781Z"
   },
   {
    "duration": 310,
    "start_time": "2023-06-01T19:27:20.836Z"
   },
   {
    "duration": 7,
    "start_time": "2023-06-01T19:27:21.148Z"
   },
   {
    "duration": 15,
    "start_time": "2023-06-01T19:27:21.156Z"
   },
   {
    "duration": 13,
    "start_time": "2023-06-01T19:27:21.173Z"
   },
   {
    "duration": 41,
    "start_time": "2023-06-01T19:27:21.187Z"
   },
   {
    "duration": 28,
    "start_time": "2023-06-01T19:27:21.230Z"
   },
   {
    "duration": 15,
    "start_time": "2023-06-01T19:27:21.259Z"
   },
   {
    "duration": 7,
    "start_time": "2023-06-01T19:27:21.275Z"
   },
   {
    "duration": 40,
    "start_time": "2023-06-01T19:27:21.283Z"
   },
   {
    "duration": 21,
    "start_time": "2023-06-01T19:27:21.324Z"
   },
   {
    "duration": 54,
    "start_time": "2023-06-01T19:27:21.347Z"
   },
   {
    "duration": 72,
    "start_time": "2023-06-01T19:27:21.403Z"
   },
   {
    "duration": 386,
    "start_time": "2023-06-01T19:27:21.477Z"
   },
   {
    "duration": 3056,
    "start_time": "2023-06-01T19:27:21.864Z"
   },
   {
    "duration": 2,
    "start_time": "2023-06-01T19:27:24.922Z"
   },
   {
    "duration": 14,
    "start_time": "2023-06-01T19:27:24.925Z"
   },
   {
    "duration": 31,
    "start_time": "2023-06-01T19:27:24.941Z"
   },
   {
    "duration": 237,
    "start_time": "2023-06-01T19:27:24.973Z"
   },
   {
    "duration": 4,
    "start_time": "2023-06-01T19:27:25.212Z"
   },
   {
    "duration": 12,
    "start_time": "2023-06-01T19:27:25.218Z"
   },
   {
    "duration": 12,
    "start_time": "2023-06-01T19:27:25.231Z"
   },
   {
    "duration": 6,
    "start_time": "2023-06-01T19:27:25.244Z"
   },
   {
    "duration": 16,
    "start_time": "2023-06-01T19:27:25.251Z"
   },
   {
    "duration": 6,
    "start_time": "2023-06-01T19:27:25.268Z"
   },
   {
    "duration": 22,
    "start_time": "2023-06-01T19:27:25.275Z"
   },
   {
    "duration": 11,
    "start_time": "2023-06-01T19:27:25.298Z"
   },
   {
    "duration": 6,
    "start_time": "2023-06-01T19:27:25.310Z"
   },
   {
    "duration": 12,
    "start_time": "2023-06-01T19:27:25.318Z"
   },
   {
    "duration": 4,
    "start_time": "2023-06-01T19:27:25.331Z"
   },
   {
    "duration": 8,
    "start_time": "2023-06-01T19:27:25.336Z"
   },
   {
    "duration": 3,
    "start_time": "2023-06-01T19:27:25.347Z"
   },
   {
    "duration": 4,
    "start_time": "2023-06-01T19:27:25.352Z"
   },
   {
    "duration": 4,
    "start_time": "2023-06-01T19:27:25.357Z"
   },
   {
    "duration": 1885662,
    "start_time": "2023-06-01T19:27:25.362Z"
   },
   {
    "duration": 3,
    "start_time": "2023-06-01T19:58:51.026Z"
   },
   {
    "duration": 20,
    "start_time": "2023-06-01T19:58:51.031Z"
   },
   {
    "duration": 1080007,
    "start_time": "2023-06-01T19:58:51.052Z"
   },
   {
    "duration": 3,
    "start_time": "2023-06-01T20:16:51.061Z"
   },
   {
    "duration": 18,
    "start_time": "2023-06-01T20:16:51.065Z"
   },
   {
    "duration": 11,
    "start_time": "2023-06-01T20:16:51.084Z"
   },
   {
    "duration": 450204,
    "start_time": "2023-06-01T20:16:51.096Z"
   },
   {
    "duration": 3,
    "start_time": "2023-06-01T20:24:21.301Z"
   },
   {
    "duration": 23,
    "start_time": "2023-06-01T20:24:21.305Z"
   },
   {
    "duration": 343878,
    "start_time": "2023-06-01T20:24:21.329Z"
   },
   {
    "duration": 3,
    "start_time": "2023-06-01T20:30:05.208Z"
   },
   {
    "duration": 17,
    "start_time": "2023-06-01T20:30:05.212Z"
   },
   {
    "duration": 18,
    "start_time": "2023-06-01T20:30:05.230Z"
   },
   {
    "duration": 1320973,
    "start_time": "2023-06-01T20:30:05.249Z"
   },
   {
    "duration": 3,
    "start_time": "2023-06-01T20:52:06.224Z"
   },
   {
    "duration": 13,
    "start_time": "2023-06-01T20:52:06.228Z"
   },
   {
    "duration": 1100267,
    "start_time": "2023-06-01T20:52:06.243Z"
   },
   {
    "duration": 2,
    "start_time": "2023-06-01T21:10:26.511Z"
   },
   {
    "duration": 23,
    "start_time": "2023-06-01T21:10:26.515Z"
   },
   {
    "duration": 16,
    "start_time": "2023-06-01T21:10:26.539Z"
   },
   {
    "duration": 10274646,
    "start_time": "2023-06-01T21:10:26.556Z"
   },
   {
    "duration": 3,
    "start_time": "2023-06-02T00:01:41.204Z"
   },
   {
    "duration": 17,
    "start_time": "2023-06-02T00:01:41.208Z"
   },
   {
    "duration": 3137985,
    "start_time": "2023-06-02T00:01:41.227Z"
   },
   {
    "duration": 5,
    "start_time": "2023-06-02T04:42:59.441Z"
   },
   {
    "duration": 4,
    "start_time": "2023-06-02T04:43:00.938Z"
   },
   {
    "duration": 4,
    "start_time": "2023-06-02T04:43:02.076Z"
   },
   {
    "duration": 190,
    "start_time": "2023-06-02T04:43:07.576Z"
   },
   {
    "duration": 3,
    "start_time": "2023-06-02T04:43:22.027Z"
   },
   {
    "duration": 248,
    "start_time": "2023-06-02T04:43:22.752Z"
   },
   {
    "duration": 3,
    "start_time": "2023-06-02T04:45:49.079Z"
   },
   {
    "duration": 102,
    "start_time": "2023-06-02T04:47:52.668Z"
   },
   {
    "duration": 2149,
    "start_time": "2023-06-02T04:48:22.925Z"
   },
   {
    "duration": 3003,
    "start_time": "2023-06-02T04:48:25.077Z"
   },
   {
    "duration": 8,
    "start_time": "2023-06-02T04:48:28.082Z"
   },
   {
    "duration": 3,
    "start_time": "2023-06-02T04:48:28.092Z"
   },
   {
    "duration": 5,
    "start_time": "2023-06-02T04:48:28.097Z"
   },
   {
    "duration": 2759,
    "start_time": "2023-06-02T04:48:28.103Z"
   },
   {
    "duration": 10,
    "start_time": "2023-06-02T04:48:30.864Z"
   },
   {
    "duration": 41,
    "start_time": "2023-06-02T04:48:30.876Z"
   },
   {
    "duration": 79,
    "start_time": "2023-06-02T04:48:30.919Z"
   },
   {
    "duration": 67,
    "start_time": "2023-06-02T04:48:31.001Z"
   },
   {
    "duration": 365,
    "start_time": "2023-06-02T04:48:31.070Z"
   },
   {
    "duration": 8,
    "start_time": "2023-06-02T04:48:31.437Z"
   },
   {
    "duration": 106,
    "start_time": "2023-06-02T04:48:31.446Z"
   },
   {
    "duration": 102,
    "start_time": "2023-06-02T04:48:31.553Z"
   },
   {
    "duration": 26,
    "start_time": "2023-06-02T04:48:31.657Z"
   },
   {
    "duration": 20,
    "start_time": "2023-06-02T04:48:31.685Z"
   },
   {
    "duration": 15,
    "start_time": "2023-06-02T04:48:31.707Z"
   },
   {
    "duration": 22,
    "start_time": "2023-06-02T04:48:31.723Z"
   },
   {
    "duration": 7,
    "start_time": "2023-06-02T04:48:31.747Z"
   },
   {
    "duration": 23,
    "start_time": "2023-06-02T04:48:31.755Z"
   },
   {
    "duration": 45,
    "start_time": "2023-06-02T04:48:31.779Z"
   },
   {
    "duration": 70,
    "start_time": "2023-06-02T04:48:31.826Z"
   },
   {
    "duration": 411,
    "start_time": "2023-06-02T04:48:31.898Z"
   },
   {
    "duration": 3238,
    "start_time": "2023-06-02T04:48:32.310Z"
   },
   {
    "duration": 2,
    "start_time": "2023-06-02T04:48:35.550Z"
   },
   {
    "duration": 12,
    "start_time": "2023-06-02T04:48:35.553Z"
   },
   {
    "duration": 30,
    "start_time": "2023-06-02T04:48:35.566Z"
   },
   {
    "duration": 125,
    "start_time": "2023-06-02T04:48:35.600Z"
   },
   {
    "duration": 4,
    "start_time": "2023-06-02T04:48:35.727Z"
   },
   {
    "duration": 8,
    "start_time": "2023-06-02T04:48:35.733Z"
   },
   {
    "duration": 6,
    "start_time": "2023-06-02T04:48:35.743Z"
   },
   {
    "duration": 5,
    "start_time": "2023-06-02T04:48:35.751Z"
   },
   {
    "duration": 6,
    "start_time": "2023-06-02T04:48:35.757Z"
   },
   {
    "duration": 6,
    "start_time": "2023-06-02T04:48:35.764Z"
   },
   {
    "duration": 7,
    "start_time": "2023-06-02T04:48:35.771Z"
   },
   {
    "duration": 6,
    "start_time": "2023-06-02T04:48:35.780Z"
   },
   {
    "duration": 4,
    "start_time": "2023-06-02T04:48:35.788Z"
   },
   {
    "duration": 13,
    "start_time": "2023-06-02T04:48:35.793Z"
   },
   {
    "duration": 5,
    "start_time": "2023-06-02T04:48:35.808Z"
   },
   {
    "duration": 4,
    "start_time": "2023-06-02T04:48:35.815Z"
   },
   {
    "duration": 8,
    "start_time": "2023-06-02T04:48:35.820Z"
   },
   {
    "duration": 8,
    "start_time": "2023-06-02T04:48:35.829Z"
   },
   {
    "duration": 5,
    "start_time": "2023-06-02T04:48:35.839Z"
   },
   {
    "duration": 1921857,
    "start_time": "2023-06-02T04:48:35.846Z"
   },
   {
    "duration": 3,
    "start_time": "2023-06-02T05:20:37.704Z"
   },
   {
    "duration": 5,
    "start_time": "2023-06-02T05:20:37.708Z"
   },
   {
    "duration": 1298831,
    "start_time": "2023-06-02T05:20:37.714Z"
   },
   {
    "duration": 2,
    "start_time": "2023-06-02T05:42:16.547Z"
   },
   {
    "duration": 25,
    "start_time": "2023-06-02T05:42:16.552Z"
   },
   {
    "duration": 26,
    "start_time": "2023-06-02T05:42:16.578Z"
   },
   {
    "duration": 526733,
    "start_time": "2023-06-02T05:42:16.606Z"
   },
   {
    "duration": 3,
    "start_time": "2023-06-02T05:51:03.340Z"
   },
   {
    "duration": 12,
    "start_time": "2023-06-02T05:51:03.344Z"
   },
   {
    "duration": 395655,
    "start_time": "2023-06-02T05:51:03.358Z"
   },
   {
    "duration": 2,
    "start_time": "2023-06-02T05:57:39.015Z"
   },
   {
    "duration": 24,
    "start_time": "2023-06-02T05:57:39.019Z"
   },
   {
    "duration": 5,
    "start_time": "2023-06-02T05:57:39.044Z"
   },
   {
    "duration": 1481516,
    "start_time": "2023-06-02T05:57:39.051Z"
   },
   {
    "duration": 3,
    "start_time": "2023-06-02T06:22:20.568Z"
   },
   {
    "duration": 49,
    "start_time": "2023-06-02T06:22:20.572Z"
   },
   {
    "duration": 1311132,
    "start_time": "2023-06-02T06:22:20.623Z"
   },
   {
    "duration": 6,
    "start_time": "2023-06-02T06:52:17.225Z"
   },
   {
    "duration": 23,
    "start_time": "2023-06-02T06:52:17.583Z"
   },
   {
    "duration": 4,
    "start_time": "2023-06-02T06:52:18.744Z"
   },
   {
    "duration": 186,
    "start_time": "2023-06-02T06:52:20.014Z"
   },
   {
    "duration": 232,
    "start_time": "2023-06-02T06:52:23.382Z"
   },
   {
    "duration": 209,
    "start_time": "2023-06-02T06:52:28.856Z"
   },
   {
    "duration": 4,
    "start_time": "2023-06-02T06:52:35.128Z"
   },
   {
    "duration": 299,
    "start_time": "2023-06-02T06:52:36.057Z"
   },
   {
    "duration": 3,
    "start_time": "2023-06-02T06:53:19.429Z"
   },
   {
    "duration": 147291,
    "start_time": "2023-06-02T06:53:20.745Z"
   },
   {
    "duration": 4292,
    "start_time": "2023-06-02T06:55:48.038Z"
   },
   {
    "duration": 14,
    "start_time": "2023-06-02T06:55:52.333Z"
   },
   {
    "duration": 53,
    "start_time": "2023-06-02T06:56:00.130Z"
   },
   {
    "duration": 176,
    "start_time": "2023-06-02T06:56:01.462Z"
   },
   {
    "duration": 4697,
    "start_time": "2023-06-02T06:56:06.640Z"
   },
   {
    "duration": 12870,
    "start_time": "2023-08-12T06:44:23.318Z"
   },
   {
    "duration": 2376,
    "start_time": "2023-08-12T06:44:36.191Z"
   },
   {
    "duration": 32,
    "start_time": "2023-08-12T06:44:38.569Z"
   },
   {
    "duration": 52,
    "start_time": "2023-08-12T06:44:38.602Z"
   },
   {
    "duration": 39,
    "start_time": "2023-08-12T06:44:38.656Z"
   },
   {
    "duration": 2685,
    "start_time": "2023-08-12T06:44:38.696Z"
   },
   {
    "duration": 11,
    "start_time": "2023-08-12T06:44:41.382Z"
   },
   {
    "duration": 3,
    "start_time": "2023-08-12T06:44:41.399Z"
   },
   {
    "duration": 43,
    "start_time": "2023-08-12T06:44:41.404Z"
   },
   {
    "duration": 50,
    "start_time": "2023-08-12T06:44:41.449Z"
   },
   {
    "duration": 291,
    "start_time": "2023-08-12T06:44:41.501Z"
   },
   {
    "duration": 8,
    "start_time": "2023-08-12T06:44:41.794Z"
   },
   {
    "duration": 38,
    "start_time": "2023-08-12T06:44:41.803Z"
   },
   {
    "duration": 7,
    "start_time": "2023-08-12T06:44:41.844Z"
   },
   {
    "duration": 5,
    "start_time": "2023-08-12T06:44:41.853Z"
   },
   {
    "duration": 5,
    "start_time": "2023-08-12T06:44:41.860Z"
   },
   {
    "duration": 21,
    "start_time": "2023-08-12T06:44:41.866Z"
   },
   {
    "duration": 17,
    "start_time": "2023-08-12T06:44:41.888Z"
   },
   {
    "duration": 37,
    "start_time": "2023-08-12T06:44:41.907Z"
   },
   {
    "duration": 66,
    "start_time": "2023-08-12T06:44:41.945Z"
   },
   {
    "duration": 358,
    "start_time": "2023-08-12T06:44:42.013Z"
   },
   {
    "duration": 2763,
    "start_time": "2023-08-12T06:44:42.372Z"
   },
   {
    "duration": 3,
    "start_time": "2023-08-12T06:44:45.136Z"
   },
   {
    "duration": 26,
    "start_time": "2023-08-12T06:44:45.140Z"
   },
   {
    "duration": 128,
    "start_time": "2023-08-12T06:44:45.168Z"
   },
   {
    "duration": 4,
    "start_time": "2023-08-12T06:44:45.297Z"
   },
   {
    "duration": 12,
    "start_time": "2023-08-12T06:44:45.302Z"
   },
   {
    "duration": 15,
    "start_time": "2023-08-12T06:44:45.315Z"
   },
   {
    "duration": 24,
    "start_time": "2023-08-12T06:44:45.331Z"
   },
   {
    "duration": 5,
    "start_time": "2023-08-12T06:44:45.357Z"
   },
   {
    "duration": 5,
    "start_time": "2023-08-12T06:44:45.364Z"
   },
   {
    "duration": 9,
    "start_time": "2023-08-12T06:44:45.370Z"
   },
   {
    "duration": 10,
    "start_time": "2023-08-12T06:44:45.380Z"
   },
   {
    "duration": 12,
    "start_time": "2023-08-12T06:44:45.392Z"
   },
   {
    "duration": 5,
    "start_time": "2023-08-12T06:44:45.406Z"
   },
   {
    "duration": 6,
    "start_time": "2023-08-12T06:44:45.412Z"
   },
   {
    "duration": 6,
    "start_time": "2023-08-12T06:44:45.419Z"
   },
   {
    "duration": 9,
    "start_time": "2023-08-12T06:44:45.426Z"
   },
   {
    "duration": 14,
    "start_time": "2023-08-12T06:44:45.436Z"
   },
   {
    "duration": 8,
    "start_time": "2023-08-12T06:44:45.451Z"
   },
   {
    "duration": 2076,
    "start_time": "2023-08-12T06:48:18.079Z"
   },
   {
    "duration": 1952,
    "start_time": "2023-08-12T06:48:20.157Z"
   },
   {
    "duration": 4,
    "start_time": "2023-08-12T06:48:22.111Z"
   },
   {
    "duration": 3,
    "start_time": "2023-08-12T06:48:22.117Z"
   },
   {
    "duration": 11,
    "start_time": "2023-08-12T06:48:22.121Z"
   },
   {
    "duration": 2142,
    "start_time": "2023-08-12T06:48:22.134Z"
   },
   {
    "duration": 11,
    "start_time": "2023-08-12T06:48:24.278Z"
   },
   {
    "duration": 10,
    "start_time": "2023-08-12T06:48:24.290Z"
   },
   {
    "duration": 54,
    "start_time": "2023-08-12T06:48:24.302Z"
   },
   {
    "duration": 40,
    "start_time": "2023-08-12T06:48:24.360Z"
   },
   {
    "duration": 296,
    "start_time": "2023-08-12T06:48:24.402Z"
   },
   {
    "duration": 8,
    "start_time": "2023-08-12T06:48:24.700Z"
   },
   {
    "duration": 14,
    "start_time": "2023-08-12T06:48:24.710Z"
   },
   {
    "duration": 2,
    "start_time": "2023-08-12T06:48:24.726Z"
   },
   {
    "duration": 6,
    "start_time": "2023-08-12T06:48:24.729Z"
   },
   {
    "duration": 11,
    "start_time": "2023-08-12T06:48:24.736Z"
   },
   {
    "duration": 15,
    "start_time": "2023-08-12T06:48:24.749Z"
   },
   {
    "duration": 7,
    "start_time": "2023-08-12T06:48:24.766Z"
   },
   {
    "duration": 41,
    "start_time": "2023-08-12T06:48:24.774Z"
   },
   {
    "duration": 57,
    "start_time": "2023-08-12T06:48:24.816Z"
   },
   {
    "duration": 366,
    "start_time": "2023-08-12T06:48:24.874Z"
   },
   {
    "duration": 2836,
    "start_time": "2023-08-12T06:48:25.242Z"
   },
   {
    "duration": 2,
    "start_time": "2023-08-12T06:48:28.080Z"
   },
   {
    "duration": 34,
    "start_time": "2023-08-12T06:48:28.084Z"
   },
   {
    "duration": 133,
    "start_time": "2023-08-12T06:48:28.119Z"
   },
   {
    "duration": 4,
    "start_time": "2023-08-12T06:48:28.253Z"
   },
   {
    "duration": 10,
    "start_time": "2023-08-12T06:48:28.258Z"
   },
   {
    "duration": 15,
    "start_time": "2023-08-12T06:48:28.271Z"
   },
   {
    "duration": 11,
    "start_time": "2023-08-12T06:48:28.287Z"
   },
   {
    "duration": 8,
    "start_time": "2023-08-12T06:48:28.300Z"
   },
   {
    "duration": 6,
    "start_time": "2023-08-12T06:48:28.309Z"
   },
   {
    "duration": 6,
    "start_time": "2023-08-12T06:48:28.316Z"
   },
   {
    "duration": 16,
    "start_time": "2023-08-12T06:48:28.323Z"
   },
   {
    "duration": 13,
    "start_time": "2023-08-12T06:48:28.340Z"
   },
   {
    "duration": 13,
    "start_time": "2023-08-12T06:48:28.355Z"
   },
   {
    "duration": 6,
    "start_time": "2023-08-12T06:48:28.369Z"
   },
   {
    "duration": 15,
    "start_time": "2023-08-12T06:48:28.376Z"
   },
   {
    "duration": 11,
    "start_time": "2023-08-12T06:48:28.393Z"
   },
   {
    "duration": 9,
    "start_time": "2023-08-12T06:48:28.405Z"
   },
   {
    "duration": 10,
    "start_time": "2023-08-12T06:48:28.415Z"
   },
   {
    "duration": 1943,
    "start_time": "2023-08-12T06:51:27.645Z"
   },
   {
    "duration": 2048,
    "start_time": "2023-08-12T06:51:29.591Z"
   },
   {
    "duration": 2,
    "start_time": "2023-08-12T06:51:31.641Z"
   },
   {
    "duration": 24,
    "start_time": "2023-08-12T06:51:31.645Z"
   },
   {
    "duration": 29,
    "start_time": "2023-08-12T06:51:31.671Z"
   },
   {
    "duration": 20,
    "start_time": "2023-08-12T06:51:31.702Z"
   },
   {
    "duration": 2248,
    "start_time": "2023-08-12T06:51:31.723Z"
   },
   {
    "duration": 12,
    "start_time": "2023-08-12T06:51:33.973Z"
   },
   {
    "duration": 7,
    "start_time": "2023-08-12T06:51:33.987Z"
   },
   {
    "duration": 44,
    "start_time": "2023-08-12T06:51:34.000Z"
   },
   {
    "duration": 53,
    "start_time": "2023-08-12T06:51:34.047Z"
   },
   {
    "duration": 329,
    "start_time": "2023-08-12T06:51:34.102Z"
   },
   {
    "duration": 7,
    "start_time": "2023-08-12T06:51:34.433Z"
   },
   {
    "duration": 6,
    "start_time": "2023-08-12T06:51:34.443Z"
   },
   {
    "duration": 3,
    "start_time": "2023-08-12T06:51:34.451Z"
   },
   {
    "duration": 5,
    "start_time": "2023-08-12T06:51:34.455Z"
   },
   {
    "duration": 10,
    "start_time": "2023-08-12T06:51:34.461Z"
   },
   {
    "duration": 27,
    "start_time": "2023-08-12T06:51:34.473Z"
   },
   {
    "duration": 5,
    "start_time": "2023-08-12T06:51:34.502Z"
   },
   {
    "duration": 43,
    "start_time": "2023-08-12T06:51:34.509Z"
   },
   {
    "duration": 70,
    "start_time": "2023-08-12T06:51:34.554Z"
   },
   {
    "duration": 419,
    "start_time": "2023-08-12T06:51:34.625Z"
   },
   {
    "duration": 3184,
    "start_time": "2023-08-12T06:51:35.045Z"
   },
   {
    "duration": 3,
    "start_time": "2023-08-12T06:51:38.231Z"
   },
   {
    "duration": 38,
    "start_time": "2023-08-12T06:51:38.235Z"
   },
   {
    "duration": 213,
    "start_time": "2023-08-12T06:51:38.275Z"
   },
   {
    "duration": 4,
    "start_time": "2023-08-12T06:51:38.490Z"
   },
   {
    "duration": 10,
    "start_time": "2023-08-12T06:51:38.495Z"
   },
   {
    "duration": 4,
    "start_time": "2023-08-12T06:51:38.507Z"
   },
   {
    "duration": 8,
    "start_time": "2023-08-12T06:51:38.512Z"
   },
   {
    "duration": 8,
    "start_time": "2023-08-12T06:51:38.521Z"
   },
   {
    "duration": 9,
    "start_time": "2023-08-12T06:51:38.530Z"
   },
   {
    "duration": 11,
    "start_time": "2023-08-12T06:51:38.541Z"
   },
   {
    "duration": 7,
    "start_time": "2023-08-12T06:51:38.554Z"
   },
   {
    "duration": 15,
    "start_time": "2023-08-12T06:51:38.563Z"
   },
   {
    "duration": 12,
    "start_time": "2023-08-12T06:51:38.580Z"
   },
   {
    "duration": 5,
    "start_time": "2023-08-12T06:51:38.593Z"
   },
   {
    "duration": 7,
    "start_time": "2023-08-12T06:51:38.600Z"
   },
   {
    "duration": 7,
    "start_time": "2023-08-12T06:51:38.609Z"
   },
   {
    "duration": 12,
    "start_time": "2023-08-12T06:51:38.618Z"
   },
   {
    "duration": 8,
    "start_time": "2023-08-12T06:51:38.635Z"
   },
   {
    "duration": 1690287,
    "start_time": "2023-08-12T06:51:38.644Z"
   },
   {
    "duration": 3,
    "start_time": "2023-08-12T07:19:48.932Z"
   },
   {
    "duration": 15,
    "start_time": "2023-08-12T07:19:48.936Z"
   },
   {
    "duration": 1920,
    "start_time": "2023-08-12T07:22:17.266Z"
   },
   {
    "duration": 2027,
    "start_time": "2023-08-12T07:22:19.188Z"
   },
   {
    "duration": 2,
    "start_time": "2023-08-12T07:22:21.219Z"
   },
   {
    "duration": 19,
    "start_time": "2023-08-12T07:22:21.222Z"
   },
   {
    "duration": 41,
    "start_time": "2023-08-12T07:22:21.242Z"
   },
   {
    "duration": 33,
    "start_time": "2023-08-12T07:22:21.284Z"
   },
   {
    "duration": 2903,
    "start_time": "2023-08-12T07:22:21.319Z"
   },
   {
    "duration": 10,
    "start_time": "2023-08-12T07:22:24.223Z"
   },
   {
    "duration": 19,
    "start_time": "2023-08-12T07:22:24.234Z"
   },
   {
    "duration": 47,
    "start_time": "2023-08-12T07:22:24.255Z"
   },
   {
    "duration": 33,
    "start_time": "2023-08-12T07:22:24.304Z"
   },
   {
    "duration": 312,
    "start_time": "2023-08-12T07:22:24.339Z"
   },
   {
    "duration": 8,
    "start_time": "2023-08-12T07:22:24.655Z"
   },
   {
    "duration": 27,
    "start_time": "2023-08-12T07:22:24.664Z"
   },
   {
    "duration": 6,
    "start_time": "2023-08-12T07:22:24.693Z"
   },
   {
    "duration": 11,
    "start_time": "2023-08-12T07:22:24.700Z"
   },
   {
    "duration": 14,
    "start_time": "2023-08-12T07:22:24.712Z"
   },
   {
    "duration": 15,
    "start_time": "2023-08-12T07:22:24.727Z"
   },
   {
    "duration": 7,
    "start_time": "2023-08-12T07:22:24.743Z"
   },
   {
    "duration": 54,
    "start_time": "2023-08-12T07:22:24.751Z"
   },
   {
    "duration": 56,
    "start_time": "2023-08-12T07:22:24.807Z"
   },
   {
    "duration": 381,
    "start_time": "2023-08-12T07:22:24.865Z"
   },
   {
    "duration": 2917,
    "start_time": "2023-08-12T07:22:25.247Z"
   },
   {
    "duration": 2,
    "start_time": "2023-08-12T07:22:28.165Z"
   },
   {
    "duration": 35,
    "start_time": "2023-08-12T07:22:28.168Z"
   },
   {
    "duration": 144,
    "start_time": "2023-08-12T07:22:28.205Z"
   },
   {
    "duration": 3,
    "start_time": "2023-08-12T07:22:28.351Z"
   },
   {
    "duration": 25,
    "start_time": "2023-08-12T07:22:28.355Z"
   },
   {
    "duration": 4,
    "start_time": "2023-08-12T07:22:28.381Z"
   },
   {
    "duration": 16,
    "start_time": "2023-08-12T07:22:28.386Z"
   },
   {
    "duration": 9,
    "start_time": "2023-08-12T07:22:28.404Z"
   },
   {
    "duration": 16,
    "start_time": "2023-08-12T07:22:28.414Z"
   },
   {
    "duration": 10,
    "start_time": "2023-08-12T07:22:28.431Z"
   },
   {
    "duration": 18,
    "start_time": "2023-08-12T07:22:28.442Z"
   },
   {
    "duration": 11,
    "start_time": "2023-08-12T07:22:28.462Z"
   },
   {
    "duration": 8,
    "start_time": "2023-08-12T07:22:28.474Z"
   },
   {
    "duration": 6,
    "start_time": "2023-08-12T07:22:28.483Z"
   },
   {
    "duration": 6,
    "start_time": "2023-08-12T07:22:28.491Z"
   },
   {
    "duration": 26,
    "start_time": "2023-08-12T07:22:28.498Z"
   },
   {
    "duration": 5,
    "start_time": "2023-08-12T07:22:28.527Z"
   },
   {
    "duration": 6,
    "start_time": "2023-08-12T07:22:28.533Z"
   },
   {
    "duration": 1713104,
    "start_time": "2023-08-12T07:22:28.541Z"
   },
   {
    "duration": 2,
    "start_time": "2023-08-12T07:51:01.646Z"
   },
   {
    "duration": 43,
    "start_time": "2023-08-12T07:51:01.650Z"
   },
   {
    "duration": 1083883,
    "start_time": "2023-08-12T07:51:01.694Z"
   },
   {
    "duration": 2,
    "start_time": "2023-08-12T08:09:05.579Z"
   },
   {
    "duration": 17,
    "start_time": "2023-08-12T08:09:05.582Z"
   },
   {
    "duration": 34,
    "start_time": "2023-08-12T08:09:05.600Z"
   },
   {
    "duration": 447554,
    "start_time": "2023-08-12T08:09:05.635Z"
   },
   {
    "duration": 2,
    "start_time": "2023-08-12T08:16:33.190Z"
   },
   {
    "duration": 7,
    "start_time": "2023-08-12T08:16:33.193Z"
   },
   {
    "duration": 331103,
    "start_time": "2023-08-12T08:16:33.201Z"
   },
   {
    "duration": 3,
    "start_time": "2023-08-12T08:22:04.305Z"
   },
   {
    "duration": 27,
    "start_time": "2023-08-12T08:22:04.309Z"
   },
   {
    "duration": 5,
    "start_time": "2023-08-12T08:22:04.337Z"
   },
   {
    "duration": 1396420,
    "start_time": "2023-08-12T08:22:04.344Z"
   },
   {
    "duration": 2,
    "start_time": "2023-08-12T08:45:20.766Z"
   },
   {
    "duration": 15,
    "start_time": "2023-08-12T08:45:20.769Z"
   },
   {
    "duration": 1020605,
    "start_time": "2023-08-12T08:45:20.785Z"
   },
   {
    "duration": 7,
    "start_time": "2023-08-12T09:02:21.392Z"
   },
   {
    "duration": 22,
    "start_time": "2023-08-12T09:02:21.401Z"
   },
   {
    "duration": 31,
    "start_time": "2023-08-12T09:02:21.424Z"
   },
   {
    "duration": 179,
    "start_time": "2023-08-12T09:02:21.456Z"
   },
   {
    "duration": 2,
    "start_time": "2023-08-12T09:02:21.636Z"
   },
   {
    "duration": 235,
    "start_time": "2023-08-12T09:02:21.639Z"
   },
   {
    "duration": 2,
    "start_time": "2023-08-12T09:02:21.876Z"
   },
   {
    "duration": 123934,
    "start_time": "2023-08-12T09:02:21.879Z"
   },
   {
    "duration": 3732,
    "start_time": "2023-08-12T09:04:25.814Z"
   },
   {
    "duration": 14,
    "start_time": "2023-08-12T09:04:29.547Z"
   },
   {
    "duration": 54,
    "start_time": "2023-08-12T09:04:29.562Z"
   },
   {
    "duration": 157,
    "start_time": "2023-08-12T09:04:29.617Z"
   },
   {
    "duration": 4102,
    "start_time": "2023-08-12T09:04:29.776Z"
   }
  ],
  "kernelspec": {
   "display_name": "Python 3 (ipykernel)",
   "language": "python",
   "name": "python3"
  },
  "language_info": {
   "codemirror_mode": {
    "name": "ipython",
    "version": 3
   },
   "file_extension": ".py",
   "mimetype": "text/x-python",
   "name": "python",
   "nbconvert_exporter": "python",
   "pygments_lexer": "ipython3",
   "version": "3.10.11"
  },
  "toc": {
   "base_numbering": 1,
   "nav_menu": {},
   "number_sections": true,
   "sideBar": true,
   "skip_h1_title": true,
   "title_cell": "Содержание",
   "title_sidebar": "Contents",
   "toc_cell": true,
   "toc_position": {
    "height": "calc(100% - 180px)",
    "left": "10px",
    "top": "150px",
    "width": "302.388px"
   },
   "toc_section_display": true,
   "toc_window_display": false
  }
 },
 "nbformat": 4,
 "nbformat_minor": 2
}
