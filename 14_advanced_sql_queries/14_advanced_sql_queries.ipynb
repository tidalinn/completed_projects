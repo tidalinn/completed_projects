{
 "cells": [
  {
   "cell_type": "markdown",
   "metadata": {},
   "source": [
    "# Написание сложных SQL-запросов"
   ]
  },
  {
   "cell_type": "markdown",
   "metadata": {},
   "source": [
    "**Источник данных:** база данных PostgreSQL.\n",
    "\n",
    "**Характер данных:** информация о постах пользователей с сайта Stackoverflow.\n",
    "\n",
    "**Задача:** выполнить запросы к базе данных и проанализировать результаты."
   ]
  },
  {
   "cell_type": "markdown",
   "metadata": {},
   "source": [
    "---"
   ]
  },
  {
   "cell_type": "markdown",
   "metadata": {},
   "source": [
    "Импорт библиотек:"
   ]
  },
  {
   "cell_type": "code",
   "execution_count": 1,
   "metadata": {
    "id": "nlZBlglMDWKe"
   },
   "outputs": [],
   "source": [
    "import pandas as pd\n",
    "import matplotlib.pyplot as plt\n",
    "import seaborn as sns\n",
    "from sqlalchemy import create_engine \n",
    "\n",
    "font_s = 10"
   ]
  },
  {
   "cell_type": "markdown",
   "metadata": {},
   "source": [
    "---"
   ]
  },
  {
   "cell_type": "markdown",
   "metadata": {
    "id": "XnOE3n28DWKg"
   },
   "source": [
    "### Конфигурация для подключения к базе данных"
   ]
  },
  {
   "cell_type": "markdown",
   "metadata": {},
   "source": [
    "Задание конфигурации:"
   ]
  },
  {
   "cell_type": "code",
   "execution_count": 2,
   "metadata": {
    "id": "6p-yGp7qDWKg"
   },
   "outputs": [],
   "source": [
    "db_config = {\n",
    "    'user': 'praktikum_student', # имя пользователя\n",
    "    'pwd': 'Sdf4$2;d-d30pp', # пароль\n",
    "    'host': 'rc1b-wcoijxj3yxfsf3fs.mdb.yandexcloud.net',\n",
    "    'port': 6432, # порт подключения\n",
    "    'db': 'data-analyst-advanced-sql' # название базы данных\n",
    "}  \n",
    "\n",
    "connection_string = 'postgresql://{}:{}@{}:{}/{}'.format(\n",
    "    db_config['user'],\n",
    "    db_config['pwd'],\n",
    "    db_config['host'],\n",
    "    db_config['port'],\n",
    "    db_config['db'],\n",
    ")"
   ]
  },
  {
   "cell_type": "markdown",
   "metadata": {
    "id": "2Rg8ZpS0DWKh"
   },
   "source": [
    "Создание подключения:"
   ]
  },
  {
   "cell_type": "code",
   "execution_count": 3,
   "metadata": {
    "id": "DamCUTR6DWKi"
   },
   "outputs": [],
   "source": [
    "engine = create_engine(connection_string) "
   ]
  },
  {
   "cell_type": "markdown",
   "metadata": {},
   "source": [
    "Создание запроса:"
   ]
  },
  {
   "cell_type": "code",
   "execution_count": 4,
   "metadata": {
    "id": "6Z_fw0yLDWKk"
   },
   "outputs": [],
   "source": [
    "query = '''\n",
    "SELECT *\n",
    "FROM stackoverflow.users\n",
    "LIMIT 10;\n",
    "'''\n",
    "\n",
    "sample_df = pd.read_sql_query(query, con=engine) "
   ]
  },
  {
   "cell_type": "code",
   "execution_count": 5,
   "metadata": {
    "id": "ZpuZ290oDWKk",
    "outputId": "22785a0a-e2bc-4559-ec3c-4879c4b377eb"
   },
   "outputs": [
    {
     "data": {
      "text/html": [
       "<div>\n",
       "<style scoped>\n",
       "    .dataframe tbody tr th:only-of-type {\n",
       "        vertical-align: middle;\n",
       "    }\n",
       "\n",
       "    .dataframe tbody tr th {\n",
       "        vertical-align: top;\n",
       "    }\n",
       "\n",
       "    .dataframe thead th {\n",
       "        text-align: right;\n",
       "    }\n",
       "</style>\n",
       "<table border=\"1\" class=\"dataframe\">\n",
       "  <thead>\n",
       "    <tr style=\"text-align: right;\">\n",
       "      <th></th>\n",
       "      <th>id</th>\n",
       "      <th>creation_date</th>\n",
       "      <th>display_name</th>\n",
       "      <th>last_access_date</th>\n",
       "      <th>location</th>\n",
       "      <th>reputation</th>\n",
       "      <th>views</th>\n",
       "    </tr>\n",
       "  </thead>\n",
       "  <tbody>\n",
       "    <tr>\n",
       "      <th>0</th>\n",
       "      <td>1</td>\n",
       "      <td>2008-07-31 14:22:31</td>\n",
       "      <td>Jeff Atwood</td>\n",
       "      <td>2018-08-29 02:34:23</td>\n",
       "      <td>El Cerrito, CA</td>\n",
       "      <td>44300</td>\n",
       "      <td>408587</td>\n",
       "    </tr>\n",
       "    <tr>\n",
       "      <th>1</th>\n",
       "      <td>2</td>\n",
       "      <td>2008-07-31 14:22:31</td>\n",
       "      <td>Geoff Dalgas</td>\n",
       "      <td>2018-08-23 17:31:56</td>\n",
       "      <td>Corvallis, OR</td>\n",
       "      <td>3491</td>\n",
       "      <td>23966</td>\n",
       "    </tr>\n",
       "    <tr>\n",
       "      <th>2</th>\n",
       "      <td>3</td>\n",
       "      <td>2008-07-31 14:22:31</td>\n",
       "      <td>Jarrod Dixon</td>\n",
       "      <td>2018-08-30 20:56:24</td>\n",
       "      <td>Raleigh, NC, United States</td>\n",
       "      <td>13418</td>\n",
       "      <td>24396</td>\n",
       "    </tr>\n",
       "    <tr>\n",
       "      <th>3</th>\n",
       "      <td>4</td>\n",
       "      <td>2008-07-31 14:22:31</td>\n",
       "      <td>Joel Spolsky</td>\n",
       "      <td>2018-08-14 22:18:15</td>\n",
       "      <td>New York, NY</td>\n",
       "      <td>28768</td>\n",
       "      <td>73755</td>\n",
       "    </tr>\n",
       "    <tr>\n",
       "      <th>4</th>\n",
       "      <td>5</td>\n",
       "      <td>2008-07-31 14:22:31</td>\n",
       "      <td>Jon Galloway</td>\n",
       "      <td>2018-08-29 16:48:36</td>\n",
       "      <td>San Diego, CA</td>\n",
       "      <td>39172</td>\n",
       "      <td>11700</td>\n",
       "    </tr>\n",
       "    <tr>\n",
       "      <th>5</th>\n",
       "      <td>8</td>\n",
       "      <td>2008-07-31 21:33:24</td>\n",
       "      <td>Eggs McLaren</td>\n",
       "      <td>2018-04-09 02:04:56</td>\n",
       "      <td>None</td>\n",
       "      <td>942</td>\n",
       "      <td>6372</td>\n",
       "    </tr>\n",
       "    <tr>\n",
       "      <th>6</th>\n",
       "      <td>9</td>\n",
       "      <td>2008-07-31 21:35:27</td>\n",
       "      <td>Kevin Dente</td>\n",
       "      <td>2018-08-30 18:18:03</td>\n",
       "      <td>Oakland, CA</td>\n",
       "      <td>14337</td>\n",
       "      <td>4949</td>\n",
       "    </tr>\n",
       "    <tr>\n",
       "      <th>7</th>\n",
       "      <td>11</td>\n",
       "      <td>2008-08-01 00:59:11</td>\n",
       "      <td>Anonymous User</td>\n",
       "      <td>2008-08-01 00:59:11</td>\n",
       "      <td>None</td>\n",
       "      <td>1890</td>\n",
       "      <td>2123</td>\n",
       "    </tr>\n",
       "    <tr>\n",
       "      <th>8</th>\n",
       "      <td>13</td>\n",
       "      <td>2008-08-01 04:18:05</td>\n",
       "      <td>Chris Jester-Young</td>\n",
       "      <td>2018-08-30 02:47:23</td>\n",
       "      <td>Raleigh, NC, United States</td>\n",
       "      <td>177138</td>\n",
       "      <td>35414</td>\n",
       "    </tr>\n",
       "    <tr>\n",
       "      <th>9</th>\n",
       "      <td>17</td>\n",
       "      <td>2008-08-01 12:02:22</td>\n",
       "      <td>Nick Berardi</td>\n",
       "      <td>2018-01-22 01:35:38</td>\n",
       "      <td>Issaquah, WA</td>\n",
       "      <td>44443</td>\n",
       "      <td>4786</td>\n",
       "    </tr>\n",
       "  </tbody>\n",
       "</table>\n",
       "</div>"
      ],
      "text/plain": [
       "   id       creation_date        display_name    last_access_date  \\\n",
       "0   1 2008-07-31 14:22:31         Jeff Atwood 2018-08-29 02:34:23   \n",
       "1   2 2008-07-31 14:22:31        Geoff Dalgas 2018-08-23 17:31:56   \n",
       "2   3 2008-07-31 14:22:31        Jarrod Dixon 2018-08-30 20:56:24   \n",
       "3   4 2008-07-31 14:22:31        Joel Spolsky 2018-08-14 22:18:15   \n",
       "4   5 2008-07-31 14:22:31        Jon Galloway 2018-08-29 16:48:36   \n",
       "5   8 2008-07-31 21:33:24        Eggs McLaren 2018-04-09 02:04:56   \n",
       "6   9 2008-07-31 21:35:27         Kevin Dente 2018-08-30 18:18:03   \n",
       "7  11 2008-08-01 00:59:11      Anonymous User 2008-08-01 00:59:11   \n",
       "8  13 2008-08-01 04:18:05  Chris Jester-Young 2018-08-30 02:47:23   \n",
       "9  17 2008-08-01 12:02:22        Nick Berardi 2018-01-22 01:35:38   \n",
       "\n",
       "                     location  reputation   views  \n",
       "0              El Cerrito, CA       44300  408587  \n",
       "1               Corvallis, OR        3491   23966  \n",
       "2  Raleigh, NC, United States       13418   24396  \n",
       "3                New York, NY       28768   73755  \n",
       "4               San Diego, CA       39172   11700  \n",
       "5                        None         942    6372  \n",
       "6                 Oakland, CA       14337    4949  \n",
       "7                        None        1890    2123  \n",
       "8  Raleigh, NC, United States      177138   35414  \n",
       "9                Issaquah, WA       44443    4786  "
      ]
     },
     "execution_count": 5,
     "metadata": {},
     "output_type": "execute_result"
    }
   ],
   "source": [
    "sample_df"
   ]
  },
  {
   "cell_type": "markdown",
   "metadata": {},
   "source": [
    "---"
   ]
  },
  {
   "cell_type": "markdown",
   "metadata": {
    "id": "gnBMXkDBDWKm"
   },
   "source": [
    "# Задание 1"
   ]
  },
  {
   "cell_type": "markdown",
   "metadata": {
    "id": "vHsfOrrNDWKn"
   },
   "source": [
    ">Вывести общую сумму просмотров постов за каждый месяц 2008 года. Если данных за какой-либо месяц в базе нет, такой месяц можно пропустить. Результат отсортировать по убыванию общего количества просмотров."
   ]
  },
  {
   "cell_type": "markdown",
   "metadata": {},
   "source": [
    "Создание запроса:"
   ]
  },
  {
   "cell_type": "code",
   "execution_count": 6,
   "metadata": {
    "id": "eWvykcXTDWKo"
   },
   "outputs": [],
   "source": [
    "query = '''\n",
    "SELECT DISTINCT DATE_TRUNC('month', creation_date) AS month_date,\n",
    "       SUM(views_count) OVER (PARTITION BY DATE_TRUNC('month', creation_date)) AS total_views\n",
    "FROM stackoverflow.posts\n",
    "WHERE EXTRACT(YEAR FROM creation_date) = 2008\n",
    "ORDER BY total_views DESC;\n",
    "'''\n",
    "\n",
    "views_per_months_2008_df = pd.read_sql_query(query, con=engine) "
   ]
  },
  {
   "cell_type": "code",
   "execution_count": 7,
   "metadata": {
    "id": "luxSj17oDWKq"
   },
   "outputs": [
    {
     "data": {
      "text/html": [
       "<div>\n",
       "<style scoped>\n",
       "    .dataframe tbody tr th:only-of-type {\n",
       "        vertical-align: middle;\n",
       "    }\n",
       "\n",
       "    .dataframe tbody tr th {\n",
       "        vertical-align: top;\n",
       "    }\n",
       "\n",
       "    .dataframe thead th {\n",
       "        text-align: right;\n",
       "    }\n",
       "</style>\n",
       "<table border=\"1\" class=\"dataframe\">\n",
       "  <thead>\n",
       "    <tr style=\"text-align: right;\">\n",
       "      <th></th>\n",
       "      <th>month_date</th>\n",
       "      <th>total_views</th>\n",
       "    </tr>\n",
       "  </thead>\n",
       "  <tbody>\n",
       "    <tr>\n",
       "      <th>0</th>\n",
       "      <td>2008-09-01</td>\n",
       "      <td>452928568</td>\n",
       "    </tr>\n",
       "    <tr>\n",
       "      <th>1</th>\n",
       "      <td>2008-10-01</td>\n",
       "      <td>365400138</td>\n",
       "    </tr>\n",
       "    <tr>\n",
       "      <th>2</th>\n",
       "      <td>2008-11-01</td>\n",
       "      <td>221759651</td>\n",
       "    </tr>\n",
       "    <tr>\n",
       "      <th>3</th>\n",
       "      <td>2008-12-01</td>\n",
       "      <td>197792841</td>\n",
       "    </tr>\n",
       "    <tr>\n",
       "      <th>4</th>\n",
       "      <td>2008-08-01</td>\n",
       "      <td>131367083</td>\n",
       "    </tr>\n",
       "    <tr>\n",
       "      <th>5</th>\n",
       "      <td>2008-07-01</td>\n",
       "      <td>669895</td>\n",
       "    </tr>\n",
       "  </tbody>\n",
       "</table>\n",
       "</div>"
      ],
      "text/plain": [
       "  month_date  total_views\n",
       "0 2008-09-01    452928568\n",
       "1 2008-10-01    365400138\n",
       "2 2008-11-01    221759651\n",
       "3 2008-12-01    197792841\n",
       "4 2008-08-01    131367083\n",
       "5 2008-07-01       669895"
      ]
     },
     "execution_count": 7,
     "metadata": {},
     "output_type": "execute_result"
    }
   ],
   "source": [
    "views_per_months_2008_df"
   ]
  },
  {
   "cell_type": "markdown",
   "metadata": {},
   "source": [
    "Изменение сортировки таблицы:"
   ]
  },
  {
   "cell_type": "code",
   "execution_count": 8,
   "metadata": {},
   "outputs": [],
   "source": [
    "views_per_months_2008_df = views_per_months_2008_df.sort_values('month_date')"
   ]
  },
  {
   "cell_type": "markdown",
   "metadata": {},
   "source": [
    "Выведение на экран графика поведения данных:"
   ]
  },
  {
   "cell_type": "code",
   "execution_count": 9,
   "metadata": {},
   "outputs": [
    {
     "data": {
      "image/png": "[encoded data removed]",
      "text/plain": [
       "<Figure size 720x360 with 1 Axes>"
      ]
     },
     "metadata": {
      "needs_background": "light"
     },
     "output_type": "display_data"
    }
   ],
   "source": [
    "plt.figure(figsize=(10,5))\n",
    "\n",
    "plt.title('Общая сумма просмотров постов за каждый месяц\\n', fontsize=font_s+6)\n",
    "plt.plot(views_per_months_2008_df.month_date, \n",
    "         views_per_months_2008_df.total_views)\n",
    "\n",
    "plt.xlabel('month_date', fontsize=font_s)\n",
    "plt.ylabel('total_views', fontsize=font_s)\n",
    "\n",
    "plt.grid()\n",
    "plt.show()"
   ]
  },
  {
   "cell_type": "markdown",
   "metadata": {},
   "source": [
    "**Наблюдения**\n",
    "\n",
    "* С учётом количества просмотров в июле 2008 года и декабре 2008 года к концу 2008 года наблюдается возросшее в 2 раза количество просмотров постов в месяц\n",
    "* На сентябрь 2008 года приходится пик просмотров постов в месяц\n",
    "* Начиная с августа 2008 года по сентябрь 2008 года наблюдается резкий скачок просмотров в месяц\n",
    "* Начиная с сентября 2008 года до конца 2008 заметна общая тенденция спада просмотров в месяц\n",
    "\n",
    "**Вывод**\n",
    "\n",
    "Данные за разные месяцы различаются, сменяясь спадами и наращиванием просмотров. Отличия могут быть связаны с разными факторами, например, популярностью постов в свете актуальных для определённого периода вопросами (выход новой библиотеки/инструмента и пр.). Для установления более точного заключения о причинах скачков просмотров необходимо провести дополнительное исследование данных."
   ]
  },
  {
   "cell_type": "markdown",
   "metadata": {},
   "source": [
    "---"
   ]
  },
  {
   "cell_type": "markdown",
   "metadata": {
    "id": "FziIXkn5DWKr"
   },
   "source": [
    "# Задание 2"
   ]
  },
  {
   "cell_type": "markdown",
   "metadata": {
    "id": "fTGESZvYDWKr"
   },
   "source": [
    ">Вывести имена самых активных пользователей, которые в первый месяц после регистрации (включая день регистрации) дали больше 100 ответов. Вопросы, которые задавали пользователи, не учитывать. Для каждого имени пользователя выведисти количество уникальных значений `user_id`. Отсортировать результат по полю с именами в лексикографическом порядке."
   ]
  },
  {
   "cell_type": "markdown",
   "metadata": {},
   "source": [
    "Создание запроса:"
   ]
  },
  {
   "cell_type": "code",
   "execution_count": 10,
   "metadata": {
    "id": "fIO-y-YjDWKt",
    "scrolled": true
   },
   "outputs": [],
   "source": [
    "query = '''\n",
    "SELECT su.display_name,\n",
    "       COUNT(DISTINCT sp.user_id) AS total_ids\n",
    "FROM stackoverflow.users AS su\n",
    "JOIN stackoverflow.posts AS sp ON su.id = sp.user_id\n",
    "JOIN stackoverflow.post_types AS spt ON sp.post_type_id = spt.id\n",
    "WHERE sp.creation_date BETWEEN su.creation_date AND (su.creation_date + INTERVAL '1 month')\n",
    "      AND spt.type = 'Answer'\n",
    "GROUP BY su.display_name\n",
    "HAVING COUNT(sp.id) > 100\n",
    "ORDER BY su.display_name;\n",
    "'''\n",
    "\n",
    "ids_per_display_names_df = pd.read_sql_query(query, con=engine)"
   ]
  },
  {
   "cell_type": "code",
   "execution_count": 11,
   "metadata": {
    "id": "CEIGGQ6ODWKy"
   },
   "outputs": [
    {
     "data": {
      "text/html": [
       "<div>\n",
       "<style scoped>\n",
       "    .dataframe tbody tr th:only-of-type {\n",
       "        vertical-align: middle;\n",
       "    }\n",
       "\n",
       "    .dataframe tbody tr th {\n",
       "        vertical-align: top;\n",
       "    }\n",
       "\n",
       "    .dataframe thead th {\n",
       "        text-align: right;\n",
       "    }\n",
       "</style>\n",
       "<table border=\"1\" class=\"dataframe\">\n",
       "  <thead>\n",
       "    <tr style=\"text-align: right;\">\n",
       "      <th></th>\n",
       "      <th>display_name</th>\n",
       "      <th>total_ids</th>\n",
       "    </tr>\n",
       "  </thead>\n",
       "  <tbody>\n",
       "    <tr>\n",
       "      <th>0</th>\n",
       "      <td>1800 INFORMATION</td>\n",
       "      <td>1</td>\n",
       "    </tr>\n",
       "    <tr>\n",
       "      <th>1</th>\n",
       "      <td>Adam Bellaire</td>\n",
       "      <td>1</td>\n",
       "    </tr>\n",
       "    <tr>\n",
       "      <th>2</th>\n",
       "      <td>Adam Davis</td>\n",
       "      <td>1</td>\n",
       "    </tr>\n",
       "    <tr>\n",
       "      <th>3</th>\n",
       "      <td>Adam Liss</td>\n",
       "      <td>1</td>\n",
       "    </tr>\n",
       "    <tr>\n",
       "      <th>4</th>\n",
       "      <td>Alan</td>\n",
       "      <td>8</td>\n",
       "    </tr>\n",
       "    <tr>\n",
       "      <th>...</th>\n",
       "      <td>...</td>\n",
       "      <td>...</td>\n",
       "    </tr>\n",
       "    <tr>\n",
       "      <th>71</th>\n",
       "      <td>leppie</td>\n",
       "      <td>1</td>\n",
       "    </tr>\n",
       "    <tr>\n",
       "      <th>72</th>\n",
       "      <td>lomaxx</td>\n",
       "      <td>1</td>\n",
       "    </tr>\n",
       "    <tr>\n",
       "      <th>73</th>\n",
       "      <td>mattlant</td>\n",
       "      <td>1</td>\n",
       "    </tr>\n",
       "    <tr>\n",
       "      <th>74</th>\n",
       "      <td>paxdiablo</td>\n",
       "      <td>1</td>\n",
       "    </tr>\n",
       "    <tr>\n",
       "      <th>75</th>\n",
       "      <td>tzot</td>\n",
       "      <td>1</td>\n",
       "    </tr>\n",
       "  </tbody>\n",
       "</table>\n",
       "<p>76 rows × 2 columns</p>\n",
       "</div>"
      ],
      "text/plain": [
       "        display_name  total_ids\n",
       "0   1800 INFORMATION          1\n",
       "1      Adam Bellaire          1\n",
       "2         Adam Davis          1\n",
       "3          Adam Liss          1\n",
       "4               Alan          8\n",
       "..               ...        ...\n",
       "71            leppie          1\n",
       "72            lomaxx          1\n",
       "73          mattlant          1\n",
       "74         paxdiablo          1\n",
       "75              tzot          1\n",
       "\n",
       "[76 rows x 2 columns]"
      ]
     },
     "execution_count": 11,
     "metadata": {},
     "output_type": "execute_result"
    }
   ],
   "source": [
    "ids_per_display_names_df"
   ]
  },
  {
   "cell_type": "markdown",
   "metadata": {},
   "source": [
    "Выведение на экран графика поведения данных:"
   ]
  },
  {
   "cell_type": "code",
   "execution_count": 12,
   "metadata": {},
   "outputs": [
    {
     "data": {
      "image/png": "[encoded data removed]",
      "text/plain": [
       "<Figure size 720x360 with 1 Axes>"
      ]
     },
     "metadata": {},
     "output_type": "display_data"
    }
   ],
   "source": [
    "fig, ax = plt.subplots(figsize=(10,5))\n",
    "\n",
    "plt.title('Частота повторов количества уникальных идентификаторов\\n', \n",
    "          fontsize=font_s+6)\n",
    "\n",
    "wedges, texts = ax.pie(ids_per_display_names_df['total_ids'].value_counts(),\n",
    "                       labels=ids_per_display_names_df['total_ids'].value_counts().index)\n",
    "\n",
    "ax.axis('equal')\n",
    "ax.legend(loc='upper left', bbox_to_anchor=(1.0, 1.0))\n",
    "\n",
    "plt.grid()\n",
    "plt.show()"
   ]
  },
  {
   "cell_type": "markdown",
   "metadata": {},
   "source": [
    "Изменение сортировки таблицы:"
   ]
  },
  {
   "cell_type": "code",
   "execution_count": 13,
   "metadata": {},
   "outputs": [],
   "source": [
    "ids_per_display_names_df = ids_per_display_names_df.sort_values('total_ids')"
   ]
  },
  {
   "cell_type": "markdown",
   "metadata": {},
   "source": [
    "Выведение на экран графика поведения данных:"
   ]
  },
  {
   "cell_type": "code",
   "execution_count": 14,
   "metadata": {},
   "outputs": [
    {
     "data": {
      "image/png": "[encoded data removed]",
      "text/plain": [
       "<Figure size 720x360 with 1 Axes>"
      ]
     },
     "metadata": {
      "needs_background": "light"
     },
     "output_type": "display_data"
    }
   ],
   "source": [
    "plt.figure(figsize=(10,5))\n",
    "\n",
    "plt.title('Распределение повторяющихся имён пользователей\\nпо количеству идентификаторов\\n', \n",
    "          fontsize=font_s+6)\n",
    "\n",
    "plt.bar(ids_per_display_names_df.query('total_ids > 1').display_name, \n",
    "        ids_per_display_names_df.query('total_ids > 1').total_ids)\n",
    "\n",
    "plt.xlabel('display_name', fontsize=font_s)\n",
    "plt.ylabel('frequency', fontsize=font_s)\n",
    "\n",
    "plt.grid()\n",
    "plt.show()"
   ]
  },
  {
   "cell_type": "markdown",
   "metadata": {},
   "source": [
    "**Наблюдения**\n",
    "\n",
    "* У подавляющего большинства активных пользователей уникальные имена\n",
    "* У трети пользователей повторяются имена\n",
    "* Наиболее распространённые имена пользователей: Chris и Matt\n",
    "\n",
    "**Вывод**\n",
    "\n",
    "На сайте не предусмотрена проверка имён пользователей на существующие имена в базе."
   ]
  },
  {
   "cell_type": "markdown",
   "metadata": {},
   "source": [
    "---"
   ]
  },
  {
   "cell_type": "markdown",
   "metadata": {
    "id": "JhM2xXj5DWKu"
   },
   "source": [
    "# Задание 3"
   ]
  },
  {
   "cell_type": "markdown",
   "metadata": {
    "id": "IS6xPqyyDWKu"
   },
   "source": [
    ">Вывести количество постов за 2008 год по месяцам. Отобрать посты от пользователей, которые зарегистрировались в сентябре 2008 года и сделали хотя бы один пост в декабре того же года. Отсортировать таблицу по значению месяца по убыванию."
   ]
  },
  {
   "cell_type": "markdown",
   "metadata": {},
   "source": [
    "Создание запроса:"
   ]
  },
  {
   "cell_type": "code",
   "execution_count": 15,
   "metadata": {
    "id": "kVu0FB8WDWKv"
   },
   "outputs": [],
   "source": [
    "query = '''\n",
    "WITH filtered_data AS\n",
    "    (SELECT su.id AS user_id\n",
    "     FROM stackoverflow.posts AS sp\n",
    "     JOIN stackoverflow.users AS su ON sp.user_id = su.id\n",
    "     WHERE DATE_TRUNC('month', su.creation_date) = '2008-09-01'\n",
    "           AND DATE_TRUNC('month', sp.creation_date) = '2008-12-01'\n",
    "     GROUP BY su.id\n",
    "     HAVING COUNT(sp.id) > 0)\n",
    "           \n",
    "SELECT DATE_TRUNC('month', creation_date) AS month_date,\n",
    "       COUNT(id) AS total_posts\n",
    "FROM stackoverflow.posts\n",
    "WHERE user_id IN (SELECT *\n",
    "                  FROM filtered_data)\n",
    "GROUP BY month_date\n",
    "ORDER BY month_date DESC;\n",
    "'''\n",
    "\n",
    "posts_per_months_2008_df = pd.read_sql_query(query, con=engine)"
   ]
  },
  {
   "cell_type": "code",
   "execution_count": 16,
   "metadata": {
    "id": "MMVIz4yMlKpN"
   },
   "outputs": [
    {
     "data": {
      "text/html": [
       "<div>\n",
       "<style scoped>\n",
       "    .dataframe tbody tr th:only-of-type {\n",
       "        vertical-align: middle;\n",
       "    }\n",
       "\n",
       "    .dataframe tbody tr th {\n",
       "        vertical-align: top;\n",
       "    }\n",
       "\n",
       "    .dataframe thead th {\n",
       "        text-align: right;\n",
       "    }\n",
       "</style>\n",
       "<table border=\"1\" class=\"dataframe\">\n",
       "  <thead>\n",
       "    <tr style=\"text-align: right;\">\n",
       "      <th></th>\n",
       "      <th>month_date</th>\n",
       "      <th>total_posts</th>\n",
       "    </tr>\n",
       "  </thead>\n",
       "  <tbody>\n",
       "    <tr>\n",
       "      <th>0</th>\n",
       "      <td>2008-12-01</td>\n",
       "      <td>17641</td>\n",
       "    </tr>\n",
       "    <tr>\n",
       "      <th>1</th>\n",
       "      <td>2008-11-01</td>\n",
       "      <td>18294</td>\n",
       "    </tr>\n",
       "    <tr>\n",
       "      <th>2</th>\n",
       "      <td>2008-10-01</td>\n",
       "      <td>27171</td>\n",
       "    </tr>\n",
       "    <tr>\n",
       "      <th>3</th>\n",
       "      <td>2008-09-01</td>\n",
       "      <td>24870</td>\n",
       "    </tr>\n",
       "    <tr>\n",
       "      <th>4</th>\n",
       "      <td>2008-08-01</td>\n",
       "      <td>32</td>\n",
       "    </tr>\n",
       "  </tbody>\n",
       "</table>\n",
       "</div>"
      ],
      "text/plain": [
       "  month_date  total_posts\n",
       "0 2008-12-01        17641\n",
       "1 2008-11-01        18294\n",
       "2 2008-10-01        27171\n",
       "3 2008-09-01        24870\n",
       "4 2008-08-01           32"
      ]
     },
     "execution_count": 16,
     "metadata": {},
     "output_type": "execute_result"
    }
   ],
   "source": [
    "posts_per_months_2008_df"
   ]
  },
  {
   "cell_type": "markdown",
   "metadata": {},
   "source": [
    "Изменение сортировки таблицы:"
   ]
  },
  {
   "cell_type": "code",
   "execution_count": 17,
   "metadata": {},
   "outputs": [],
   "source": [
    "posts_per_months_2008_df = posts_per_months_2008_df.sort_values('month_date')"
   ]
  },
  {
   "cell_type": "markdown",
   "metadata": {},
   "source": [
    "Выведение на экран графика поведения данных:"
   ]
  },
  {
   "cell_type": "code",
   "execution_count": 18,
   "metadata": {},
   "outputs": [
    {
     "data": {
      "image/png": "[encoded data removed]",
      "text/plain": [
       "<Figure size 720x360 with 1 Axes>"
      ]
     },
     "metadata": {
      "needs_background": "light"
     },
     "output_type": "display_data"
    }
   ],
   "source": [
    "plt.figure(figsize=(10,5))\n",
    "\n",
    "plt.title('Общая сумма постов за каждый месяц\\n', fontsize=font_s+6)\n",
    "plt.plot(posts_per_months_2008_df.month_date, \n",
    "         posts_per_months_2008_df.total_posts)\n",
    "\n",
    "plt.xlabel('month_date', fontsize=font_s)\n",
    "plt.ylabel('total_posts', fontsize=font_s)\n",
    "\n",
    "plt.grid()\n",
    "plt.show()"
   ]
  },
  {
   "cell_type": "markdown",
   "metadata": {},
   "source": [
    "**Наблюдения**\n",
    "\n",
    "* С учётом количества постов в августе 2008 года и сентябре 2008 года наблюдается возросшее в 777 раз количество постов в месяц\n",
    "* На октябрь 2008 года приходится пик постов в месяц\n",
    "* Начиная с октября 2008 года до конца 2008 заметна общая тенденция спада постов в месяц\n",
    "\n",
    "**Вывод**\n",
    "\n",
    "Резкий скачок с августа по сентябрь может говорить об отсутствующих значениях в предоставленном наборе данных. Данные за разные месяцы различаются, сменяясь спадами и наращиванием постов. Тенденция спада может быть связана с разными факторами. Для установления более точного заключения о причинах спада необходимо провести дополнительное исследование данных."
   ]
  },
  {
   "cell_type": "markdown",
   "metadata": {},
   "source": [
    "---"
   ]
  },
  {
   "cell_type": "markdown",
   "metadata": {
    "id": "5Pcizm0DDWKz"
   },
   "source": [
    "# Задание 4"
   ]
  },
  {
   "cell_type": "markdown",
   "metadata": {
    "id": "KUZPF6vHDWKz"
   },
   "source": [
    ">Используя данные о постах, вывести несколько полей:\n",
    ">\n",
    ">- идентификатор пользователя, который написал пост;\n",
    ">- дата создания поста;\n",
    ">- количество просмотров у текущего поста;\n",
    ">- сумму просмотров постов автора с накоплением.\n",
    ">\n",
    ">Данные в таблице должны быть отсортированы по возрастанию идентификаторов пользователей, а данные об одном и том же пользователе — по возрастанию даты создания поста."
   ]
  },
  {
   "cell_type": "markdown",
   "metadata": {},
   "source": [
    "Создание запроса:"
   ]
  },
  {
   "cell_type": "code",
   "execution_count": 19,
   "metadata": {
    "id": "hDoJhMzfDWK0"
   },
   "outputs": [],
   "source": [
    "query = '''\n",
    "SELECT user_id,\n",
    "       creation_date,\n",
    "       views_count,\n",
    "       SUM(views_count) OVER (PARTITION BY user_id ORDER BY creation_date) AS cumulative_sum\n",
    "FROM stackoverflow.posts\n",
    "ORDER BY user_id, creation_date;\n",
    "'''\n",
    "\n",
    "post_info_df = pd.read_sql_query(query, con=engine)"
   ]
  },
  {
   "cell_type": "code",
   "execution_count": 20,
   "metadata": {},
   "outputs": [
    {
     "data": {
      "text/html": [
       "<div>\n",
       "<style scoped>\n",
       "    .dataframe tbody tr th:only-of-type {\n",
       "        vertical-align: middle;\n",
       "    }\n",
       "\n",
       "    .dataframe tbody tr th {\n",
       "        vertical-align: top;\n",
       "    }\n",
       "\n",
       "    .dataframe thead th {\n",
       "        text-align: right;\n",
       "    }\n",
       "</style>\n",
       "<table border=\"1\" class=\"dataframe\">\n",
       "  <thead>\n",
       "    <tr style=\"text-align: right;\">\n",
       "      <th></th>\n",
       "      <th>user_id</th>\n",
       "      <th>creation_date</th>\n",
       "      <th>views_count</th>\n",
       "      <th>cumulative_sum</th>\n",
       "    </tr>\n",
       "  </thead>\n",
       "  <tbody>\n",
       "    <tr>\n",
       "      <th>0</th>\n",
       "      <td>1</td>\n",
       "      <td>2008-07-31 23:41:00</td>\n",
       "      <td>480476</td>\n",
       "      <td>480476</td>\n",
       "    </tr>\n",
       "    <tr>\n",
       "      <th>1</th>\n",
       "      <td>1</td>\n",
       "      <td>2008-07-31 23:55:38</td>\n",
       "      <td>136033</td>\n",
       "      <td>616509</td>\n",
       "    </tr>\n",
       "    <tr>\n",
       "      <th>2</th>\n",
       "      <td>1</td>\n",
       "      <td>2008-07-31 23:56:41</td>\n",
       "      <td>0</td>\n",
       "      <td>616509</td>\n",
       "    </tr>\n",
       "    <tr>\n",
       "      <th>3</th>\n",
       "      <td>1</td>\n",
       "      <td>2008-08-04 02:45:08</td>\n",
       "      <td>0</td>\n",
       "      <td>616509</td>\n",
       "    </tr>\n",
       "    <tr>\n",
       "      <th>4</th>\n",
       "      <td>1</td>\n",
       "      <td>2008-08-04 04:31:03</td>\n",
       "      <td>0</td>\n",
       "      <td>616509</td>\n",
       "    </tr>\n",
       "    <tr>\n",
       "      <th>...</th>\n",
       "      <td>...</td>\n",
       "      <td>...</td>\n",
       "      <td>...</td>\n",
       "      <td>...</td>\n",
       "    </tr>\n",
       "    <tr>\n",
       "      <th>243791</th>\n",
       "      <td>5696608</td>\n",
       "      <td>2008-12-23 16:00:37</td>\n",
       "      <td>0</td>\n",
       "      <td>2804</td>\n",
       "    </tr>\n",
       "    <tr>\n",
       "      <th>243792</th>\n",
       "      <td>5696608</td>\n",
       "      <td>2008-12-23 17:35:09</td>\n",
       "      <td>0</td>\n",
       "      <td>2804</td>\n",
       "    </tr>\n",
       "    <tr>\n",
       "      <th>243793</th>\n",
       "      <td>5696608</td>\n",
       "      <td>2008-12-24 01:02:48</td>\n",
       "      <td>0</td>\n",
       "      <td>2804</td>\n",
       "    </tr>\n",
       "    <tr>\n",
       "      <th>243794</th>\n",
       "      <td>5696608</td>\n",
       "      <td>2008-12-30 14:34:45</td>\n",
       "      <td>0</td>\n",
       "      <td>2804</td>\n",
       "    </tr>\n",
       "    <tr>\n",
       "      <th>243795</th>\n",
       "      <td>5696608</td>\n",
       "      <td>2008-12-30 16:32:12</td>\n",
       "      <td>0</td>\n",
       "      <td>2804</td>\n",
       "    </tr>\n",
       "  </tbody>\n",
       "</table>\n",
       "<p>243796 rows × 4 columns</p>\n",
       "</div>"
      ],
      "text/plain": [
       "        user_id       creation_date  views_count  cumulative_sum\n",
       "0             1 2008-07-31 23:41:00       480476          480476\n",
       "1             1 2008-07-31 23:55:38       136033          616509\n",
       "2             1 2008-07-31 23:56:41            0          616509\n",
       "3             1 2008-08-04 02:45:08            0          616509\n",
       "4             1 2008-08-04 04:31:03            0          616509\n",
       "...         ...                 ...          ...             ...\n",
       "243791  5696608 2008-12-23 16:00:37            0            2804\n",
       "243792  5696608 2008-12-23 17:35:09            0            2804\n",
       "243793  5696608 2008-12-24 01:02:48            0            2804\n",
       "243794  5696608 2008-12-30 14:34:45            0            2804\n",
       "243795  5696608 2008-12-30 16:32:12            0            2804\n",
       "\n",
       "[243796 rows x 4 columns]"
      ]
     },
     "execution_count": 20,
     "metadata": {},
     "output_type": "execute_result"
    }
   ],
   "source": [
    "post_info_df"
   ]
  },
  {
   "cell_type": "markdown",
   "metadata": {},
   "source": [
    "Задание и обработка дополнительной таблицы на основе полученной для анализа результатов:"
   ]
  },
  {
   "cell_type": "code",
   "execution_count": 21,
   "metadata": {},
   "outputs": [],
   "source": [
    "post_info_filtered_df = (post_info_df\n",
    "                             .groupby('user_id')[['creation_date', 'cumulative_sum']]\n",
    "                             .max())\n",
    "\n",
    "post_info_filtered_df.creation_date = post_info_filtered_df.creation_date.dt.date\n",
    "\n",
    "post_info_filtered_df = (post_info_filtered_df\n",
    "                             .groupby('creation_date')[['creation_date', 'cumulative_sum']]\n",
    "                             .sum())"
   ]
  },
  {
   "cell_type": "code",
   "execution_count": 22,
   "metadata": {},
   "outputs": [
    {
     "data": {
      "text/html": [
       "<div>\n",
       "<style scoped>\n",
       "    .dataframe tbody tr th:only-of-type {\n",
       "        vertical-align: middle;\n",
       "    }\n",
       "\n",
       "    .dataframe tbody tr th {\n",
       "        vertical-align: top;\n",
       "    }\n",
       "\n",
       "    .dataframe thead th {\n",
       "        text-align: right;\n",
       "    }\n",
       "</style>\n",
       "<table border=\"1\" class=\"dataframe\">\n",
       "  <thead>\n",
       "    <tr style=\"text-align: right;\">\n",
       "      <th></th>\n",
       "      <th>cumulative_sum</th>\n",
       "    </tr>\n",
       "    <tr>\n",
       "      <th>creation_date</th>\n",
       "      <th></th>\n",
       "    </tr>\n",
       "  </thead>\n",
       "  <tbody>\n",
       "    <tr>\n",
       "      <th>2008-07-31</th>\n",
       "      <td>37080</td>\n",
       "    </tr>\n",
       "    <tr>\n",
       "      <th>2008-08-01</th>\n",
       "      <td>110765</td>\n",
       "    </tr>\n",
       "    <tr>\n",
       "      <th>2008-08-02</th>\n",
       "      <td>3418</td>\n",
       "    </tr>\n",
       "    <tr>\n",
       "      <th>2008-08-03</th>\n",
       "      <td>8525</td>\n",
       "    </tr>\n",
       "    <tr>\n",
       "      <th>2008-08-04</th>\n",
       "      <td>22735</td>\n",
       "    </tr>\n",
       "    <tr>\n",
       "      <th>...</th>\n",
       "      <td>...</td>\n",
       "    </tr>\n",
       "    <tr>\n",
       "      <th>2008-12-26</th>\n",
       "      <td>22907390</td>\n",
       "    </tr>\n",
       "    <tr>\n",
       "      <th>2008-12-27</th>\n",
       "      <td>24022952</td>\n",
       "    </tr>\n",
       "    <tr>\n",
       "      <th>2008-12-28</th>\n",
       "      <td>27561682</td>\n",
       "    </tr>\n",
       "    <tr>\n",
       "      <th>2008-12-29</th>\n",
       "      <td>66248996</td>\n",
       "    </tr>\n",
       "    <tr>\n",
       "      <th>2008-12-30</th>\n",
       "      <td>158881338</td>\n",
       "    </tr>\n",
       "  </tbody>\n",
       "</table>\n",
       "<p>153 rows × 1 columns</p>\n",
       "</div>"
      ],
      "text/plain": [
       "               cumulative_sum\n",
       "creation_date                \n",
       "2008-07-31              37080\n",
       "2008-08-01             110765\n",
       "2008-08-02               3418\n",
       "2008-08-03               8525\n",
       "2008-08-04              22735\n",
       "...                       ...\n",
       "2008-12-26           22907390\n",
       "2008-12-27           24022952\n",
       "2008-12-28           27561682\n",
       "2008-12-29           66248996\n",
       "2008-12-30          158881338\n",
       "\n",
       "[153 rows x 1 columns]"
      ]
     },
     "execution_count": 22,
     "metadata": {},
     "output_type": "execute_result"
    }
   ],
   "source": [
    "post_info_filtered_df"
   ]
  },
  {
   "cell_type": "markdown",
   "metadata": {},
   "source": [
    "Выведение на экран графика поведения данных:"
   ]
  },
  {
   "cell_type": "code",
   "execution_count": 23,
   "metadata": {},
   "outputs": [
    {
     "data": {
      "image/png": "[encoded data removed]",
      "text/plain": [
       "<Figure size 720x360 with 1 Axes>"
      ]
     },
     "metadata": {
      "needs_background": "light"
     },
     "output_type": "display_data"
    }
   ],
   "source": [
    "plt.figure(figsize=(10,5))\n",
    "\n",
    "plt.title('Общая сумма просмотров постов за каждый месяц\\n', fontsize=font_s+6)\n",
    "plt.plot(post_info_filtered_df)\n",
    "\n",
    "plt.xlabel('creation_date', fontsize=font_s)\n",
    "plt.ylabel('cumulative_sum', fontsize=font_s)\n",
    "\n",
    "plt.grid()\n",
    "plt.show()"
   ]
  },
  {
   "cell_type": "markdown",
   "metadata": {},
   "source": [
    "**Наблюдения**\n",
    "\n",
    "* Начиная с сентября 2008 года наблюдается тенденция на повышение просмотров постов авторов в месяц.\n",
    "* На декабрь 2008 года - январь 2009 года приходится резкий скачок количества просмотров.\n",
    "\n",
    "**Вывод**\n",
    "\n",
    "Несмотря на незначительные спады, перемежающиеся с подъёмами количества просмотров общая тенденция поведения пользователей демонстрирует увеличение количества просмотров постов авторов в месяц. Однако пик, приходящийся на конец 2008 года - начало 2009 года может говорить о некорректности предоставленных данных за указанный период."
   ]
  },
  {
   "cell_type": "markdown",
   "metadata": {},
   "source": [
    "---"
   ]
  },
  {
   "cell_type": "markdown",
   "metadata": {
    "id": "N0kHRHvIDWK2"
   },
   "source": [
    "# Задание 5"
   ]
  },
  {
   "cell_type": "markdown",
   "metadata": {
    "id": "gBgvmPtODWK2"
   },
   "source": [
    ">Найти среднее количество постов пользователей в день за август 2008 года. Отобрать данные о пользователях, которые опубликовали больше 120 постов за август. Дни без публикаций не учитывать. Отсортировать результат по возрастанию среднего количества постов. Значения можно не округлять."
   ]
  },
  {
   "cell_type": "markdown",
   "metadata": {},
   "source": [
    "Создание запроса:"
   ]
  },
  {
   "cell_type": "code",
   "execution_count": 24,
   "metadata": {
    "id": "YFyPNz5GDWK3"
   },
   "outputs": [],
   "source": [
    "query = '''\n",
    "WITH \n",
    "    filtered_data AS\n",
    "        (SELECT user_id\n",
    "         FROM stackoverflow.posts\n",
    "         WHERE DATE_TRUNC('month', creation_date) = '2008-08-01'\n",
    "         GROUP BY user_id\n",
    "         HAVING COUNT(id) > 120),\n",
    "    counted_data AS\n",
    "        (SELECT user_id,\n",
    "                DATE_TRUNC('day', creation_date) AS day_date,\n",
    "                COUNT(id) AS total_posts\n",
    "         FROM stackoverflow.posts\n",
    "         WHERE user_id IN (SELECT *\n",
    "                           FROM filtered_data)\n",
    "         GROUP BY user_id, day_date)\n",
    "\n",
    "SELECT DISTINCT user_id,\n",
    "       AVG(total_posts) AS avg_posts\n",
    "FROM counted_data\n",
    "WHERE DATE_TRUNC('month', day_date) = '2008-08-01'\n",
    "GROUP BY user_id\n",
    "ORDER BY avg_posts;\n",
    "'''\n",
    "\n",
    "avg_posts_per_day_2008_df = pd.read_sql_query(query, con=engine)"
   ]
  },
  {
   "cell_type": "code",
   "execution_count": 25,
   "metadata": {},
   "outputs": [
    {
     "data": {
      "text/html": [
       "<div>\n",
       "<style scoped>\n",
       "    .dataframe tbody tr th:only-of-type {\n",
       "        vertical-align: middle;\n",
       "    }\n",
       "\n",
       "    .dataframe tbody tr th {\n",
       "        vertical-align: top;\n",
       "    }\n",
       "\n",
       "    .dataframe thead th {\n",
       "        text-align: right;\n",
       "    }\n",
       "</style>\n",
       "<table border=\"1\" class=\"dataframe\">\n",
       "  <thead>\n",
       "    <tr style=\"text-align: right;\">\n",
       "      <th></th>\n",
       "      <th>user_id</th>\n",
       "      <th>avg_posts</th>\n",
       "    </tr>\n",
       "  </thead>\n",
       "  <tbody>\n",
       "    <tr>\n",
       "      <th>0</th>\n",
       "      <td>116</td>\n",
       "      <td>4.777778</td>\n",
       "    </tr>\n",
       "    <tr>\n",
       "      <th>1</th>\n",
       "      <td>234</td>\n",
       "      <td>5.208333</td>\n",
       "    </tr>\n",
       "    <tr>\n",
       "      <th>2</th>\n",
       "      <td>91</td>\n",
       "      <td>5.681818</td>\n",
       "    </tr>\n",
       "    <tr>\n",
       "      <th>3</th>\n",
       "      <td>905</td>\n",
       "      <td>7.000000</td>\n",
       "    </tr>\n",
       "    <tr>\n",
       "      <th>4</th>\n",
       "      <td>383</td>\n",
       "      <td>7.277778</td>\n",
       "    </tr>\n",
       "  </tbody>\n",
       "</table>\n",
       "</div>"
      ],
      "text/plain": [
       "   user_id  avg_posts\n",
       "0      116   4.777778\n",
       "1      234   5.208333\n",
       "2       91   5.681818\n",
       "3      905   7.000000\n",
       "4      383   7.277778"
      ]
     },
     "execution_count": 25,
     "metadata": {},
     "output_type": "execute_result"
    }
   ],
   "source": [
    "avg_posts_per_day_2008_df"
   ]
  },
  {
   "cell_type": "markdown",
   "metadata": {},
   "source": [
    "**Вывод**\n",
    "\n",
    "Среднее количество публикуемых постов в день примерно одинаково для всех пользователей."
   ]
  },
  {
   "cell_type": "markdown",
   "metadata": {},
   "source": [
    "---"
   ]
  },
  {
   "cell_type": "markdown",
   "metadata": {
    "id": "EQ0dcFH4DWK5"
   },
   "source": [
    "# Задание 6"
   ]
  },
  {
   "cell_type": "markdown",
   "metadata": {
    "id": "c7flfg_hDWK5"
   },
   "source": [
    ">Сколько в среднем дней в период с 1 по 7 декабря 2008 года пользователи взаимодействовали с платформой? Для каждого пользователя отобрать дни, в которые он или она опубликовали хотя бы один пост. Нужно получить одно целое число. "
   ]
  },
  {
   "cell_type": "markdown",
   "metadata": {},
   "source": [
    "Создание запроса:"
   ]
  },
  {
   "cell_type": "code",
   "execution_count": 26,
   "metadata": {
    "id": "kZ7LXTr6DWK6"
   },
   "outputs": [],
   "source": [
    "query = '''\n",
    "SELECT ROUND(AVG(total_posts)) AS result\n",
    "FROM\n",
    "    (SELECT user_id,\n",
    "            COUNT(DISTINCT creation_date::DATE) AS total_posts\n",
    "     FROM stackoverflow.posts\n",
    "     WHERE creation_date::DATE BETWEEN '2008-12-01' AND '2008-12-07'\n",
    "     GROUP BY user_id\n",
    "     HAVING COUNT(id) > 0) filtered_result;\n",
    "'''\n",
    "\n",
    "sessions_per_december_2008_df = pd.read_sql_query(query, con=engine)"
   ]
  },
  {
   "cell_type": "code",
   "execution_count": 27,
   "metadata": {
    "id": "LfUuYz-1DWK8"
   },
   "outputs": [
    {
     "data": {
      "text/html": [
       "<div>\n",
       "<style scoped>\n",
       "    .dataframe tbody tr th:only-of-type {\n",
       "        vertical-align: middle;\n",
       "    }\n",
       "\n",
       "    .dataframe tbody tr th {\n",
       "        vertical-align: top;\n",
       "    }\n",
       "\n",
       "    .dataframe thead th {\n",
       "        text-align: right;\n",
       "    }\n",
       "</style>\n",
       "<table border=\"1\" class=\"dataframe\">\n",
       "  <thead>\n",
       "    <tr style=\"text-align: right;\">\n",
       "      <th></th>\n",
       "      <th>result</th>\n",
       "    </tr>\n",
       "  </thead>\n",
       "  <tbody>\n",
       "    <tr>\n",
       "      <th>0</th>\n",
       "      <td>2.0</td>\n",
       "    </tr>\n",
       "  </tbody>\n",
       "</table>\n",
       "</div>"
      ],
      "text/plain": [
       "   result\n",
       "0     2.0"
      ]
     },
     "execution_count": 27,
     "metadata": {},
     "output_type": "execute_result"
    }
   ],
   "source": [
    "sessions_per_december_2008_df"
   ]
  },
  {
   "cell_type": "markdown",
   "metadata": {},
   "source": [
    "**Вывод**\n",
    "\n",
    "В среднем в период с 1 по 7 декабря 2008 года пользователи взаимодействовали с платформой 2 дня."
   ]
  },
  {
   "cell_type": "markdown",
   "metadata": {},
   "source": [
    "---"
   ]
  },
  {
   "cell_type": "markdown",
   "metadata": {
    "id": "wfOmqmfLDWK8"
   },
   "source": [
    "# Задание 7"
   ]
  },
  {
   "cell_type": "markdown",
   "metadata": {
    "id": "X4ARQimADWK9"
   },
   "source": [
    ">Вывести историю активности каждого пользователя в таком виде: идентификатор пользователя, дата публикации поста. Отсортировать вывод по возрастанию идентификаторов пользователей, а для каждого пользователя — по возрастанию даты публикации.\n",
    ">\n",
    ">Добавить в таблицу новое поле: для каждого поста в нём будет указано название месяца предпоследней публикации пользователя относительно текущей. Если такой публикации нет, указать `NULL`.  Python автоматически поменяет `NULL` на `None`, но дополнительно преобразовывать значения `None` не нужно.\n",
    ">\n",
    ">Посмотреть внимательно на образец таблицы: для первых двух постов предпоследней публикации нет, но, начиная с третьего поста, в новое поле входит нужный месяц. Для следующего пользователя в первые две записи поля `second_last_month` тоже войдёт `NULL`."
   ]
  },
  {
   "cell_type": "markdown",
   "metadata": {},
   "source": [
    "Создание запроса:"
   ]
  },
  {
   "cell_type": "code",
   "execution_count": 28,
   "metadata": {
    "id": "HzI1vhaMDWK-"
   },
   "outputs": [],
   "source": [
    "query = '''\n",
    "WITH counted_data AS\n",
    "    (SELECT *,\n",
    "            EXTRACT(MONTH FROM LAG(post_month, 1) OVER (PARTITION BY user_id ORDER BY creation_date)) AS preceding_month\n",
    "     FROM\n",
    "         (SELECT user_id,\n",
    "                 creation_date,\n",
    "                 DATE_TRUNC('month', creation_date) AS post_month\n",
    "          FROM stackoverflow.posts\n",
    "          ORDER BY user_id, creation_date) filtered_data)\n",
    "\n",
    "SELECT user_id,\n",
    "       creation_date,\n",
    "       CASE\n",
    "           WHEN preceding_month = 1 THEN 'January'\n",
    "           WHEN preceding_month = 2 THEN 'February'\n",
    "           WHEN preceding_month = 3 THEN 'March'\n",
    "           WHEN preceding_month = 4 THEN 'April'\n",
    "           WHEN preceding_month = 5 THEN 'May'\n",
    "           WHEN preceding_month = 6 THEN 'June'\n",
    "           WHEN preceding_month = 7 THEN 'July'\n",
    "           WHEN preceding_month = 8 THEN 'August'\n",
    "           WHEN preceding_month = 9 THEN 'September'\n",
    "           WHEN preceding_month = 10 THEN 'October'\n",
    "           WHEN preceding_month = 11 THEN 'November'\n",
    "           WHEN preceding_month = 12 THEN 'December'\n",
    "       END AS preceding_month\n",
    "FROM counted_data;\n",
    "'''\n",
    "\n",
    "user_activity_df = pd.read_sql_query(query, con=engine)"
   ]
  },
  {
   "cell_type": "code",
   "execution_count": 29,
   "metadata": {},
   "outputs": [
    {
     "data": {
      "text/html": [
       "<div>\n",
       "<style scoped>\n",
       "    .dataframe tbody tr th:only-of-type {\n",
       "        vertical-align: middle;\n",
       "    }\n",
       "\n",
       "    .dataframe tbody tr th {\n",
       "        vertical-align: top;\n",
       "    }\n",
       "\n",
       "    .dataframe thead th {\n",
       "        text-align: right;\n",
       "    }\n",
       "</style>\n",
       "<table border=\"1\" class=\"dataframe\">\n",
       "  <thead>\n",
       "    <tr style=\"text-align: right;\">\n",
       "      <th></th>\n",
       "      <th>user_id</th>\n",
       "      <th>creation_date</th>\n",
       "      <th>preceding_month</th>\n",
       "    </tr>\n",
       "  </thead>\n",
       "  <tbody>\n",
       "    <tr>\n",
       "      <th>0</th>\n",
       "      <td>1</td>\n",
       "      <td>2008-07-31 23:41:00</td>\n",
       "      <td>None</td>\n",
       "    </tr>\n",
       "    <tr>\n",
       "      <th>1</th>\n",
       "      <td>1</td>\n",
       "      <td>2008-07-31 23:55:38</td>\n",
       "      <td>July</td>\n",
       "    </tr>\n",
       "    <tr>\n",
       "      <th>2</th>\n",
       "      <td>1</td>\n",
       "      <td>2008-07-31 23:56:41</td>\n",
       "      <td>July</td>\n",
       "    </tr>\n",
       "    <tr>\n",
       "      <th>3</th>\n",
       "      <td>1</td>\n",
       "      <td>2008-08-04 02:45:08</td>\n",
       "      <td>July</td>\n",
       "    </tr>\n",
       "    <tr>\n",
       "      <th>4</th>\n",
       "      <td>1</td>\n",
       "      <td>2008-08-04 04:31:03</td>\n",
       "      <td>August</td>\n",
       "    </tr>\n",
       "    <tr>\n",
       "      <th>...</th>\n",
       "      <td>...</td>\n",
       "      <td>...</td>\n",
       "      <td>...</td>\n",
       "    </tr>\n",
       "    <tr>\n",
       "      <th>243791</th>\n",
       "      <td>5696608</td>\n",
       "      <td>2008-12-23 16:00:37</td>\n",
       "      <td>December</td>\n",
       "    </tr>\n",
       "    <tr>\n",
       "      <th>243792</th>\n",
       "      <td>5696608</td>\n",
       "      <td>2008-12-23 17:35:09</td>\n",
       "      <td>December</td>\n",
       "    </tr>\n",
       "    <tr>\n",
       "      <th>243793</th>\n",
       "      <td>5696608</td>\n",
       "      <td>2008-12-24 01:02:48</td>\n",
       "      <td>December</td>\n",
       "    </tr>\n",
       "    <tr>\n",
       "      <th>243794</th>\n",
       "      <td>5696608</td>\n",
       "      <td>2008-12-30 14:34:45</td>\n",
       "      <td>December</td>\n",
       "    </tr>\n",
       "    <tr>\n",
       "      <th>243795</th>\n",
       "      <td>5696608</td>\n",
       "      <td>2008-12-30 16:32:12</td>\n",
       "      <td>December</td>\n",
       "    </tr>\n",
       "  </tbody>\n",
       "</table>\n",
       "<p>243796 rows × 3 columns</p>\n",
       "</div>"
      ],
      "text/plain": [
       "        user_id       creation_date preceding_month\n",
       "0             1 2008-07-31 23:41:00            None\n",
       "1             1 2008-07-31 23:55:38            July\n",
       "2             1 2008-07-31 23:56:41            July\n",
       "3             1 2008-08-04 02:45:08            July\n",
       "4             1 2008-08-04 04:31:03          August\n",
       "...         ...                 ...             ...\n",
       "243791  5696608 2008-12-23 16:00:37        December\n",
       "243792  5696608 2008-12-23 17:35:09        December\n",
       "243793  5696608 2008-12-24 01:02:48        December\n",
       "243794  5696608 2008-12-30 14:34:45        December\n",
       "243795  5696608 2008-12-30 16:32:12        December\n",
       "\n",
       "[243796 rows x 3 columns]"
      ]
     },
     "execution_count": 29,
     "metadata": {},
     "output_type": "execute_result"
    }
   ],
   "source": [
    "user_activity_df"
   ]
  },
  {
   "cell_type": "markdown",
   "metadata": {},
   "source": [
    "Задание и обработка дополнительной таблицы на основе полученной для анализа результатов:"
   ]
  },
  {
   "cell_type": "code",
   "execution_count": 30,
   "metadata": {
    "scrolled": true
   },
   "outputs": [],
   "source": [
    "user_activity_filtered_df = user_activity_df.copy()[['creation_date', 'preceding_month']]\n",
    "\n",
    "user_activity_filtered_df.creation_date = user_activity_filtered_df.creation_date.dt.date\n",
    "\n",
    "user_activity_filtered_df = user_activity_filtered_df.sort_values('creation_date')\n",
    "user_activity_filtered_df = user_activity_filtered_df.value_counts().reset_index()\n",
    "\n",
    "user_activity_filtered_df = user_activity_filtered_df.drop('creation_date', axis=1)\n",
    "user_activity_filtered_df.columns = ['preceding_month', 'total']\n",
    "\n",
    "user_activity_filtered_df = (user_activity_filtered_df\n",
    "                                 .groupby('preceding_month')[['preceding_month', 'total']]\n",
    "                                 .sum())"
   ]
  },
  {
   "cell_type": "code",
   "execution_count": 31,
   "metadata": {},
   "outputs": [
    {
     "data": {
      "text/html": [
       "<div>\n",
       "<style scoped>\n",
       "    .dataframe tbody tr th:only-of-type {\n",
       "        vertical-align: middle;\n",
       "    }\n",
       "\n",
       "    .dataframe tbody tr th {\n",
       "        vertical-align: top;\n",
       "    }\n",
       "\n",
       "    .dataframe thead th {\n",
       "        text-align: right;\n",
       "    }\n",
       "</style>\n",
       "<table border=\"1\" class=\"dataframe\">\n",
       "  <thead>\n",
       "    <tr style=\"text-align: right;\">\n",
       "      <th></th>\n",
       "      <th>total</th>\n",
       "    </tr>\n",
       "    <tr>\n",
       "      <th>preceding_month</th>\n",
       "      <th></th>\n",
       "    </tr>\n",
       "  </thead>\n",
       "  <tbody>\n",
       "    <tr>\n",
       "      <th>August</th>\n",
       "      <td>18428</td>\n",
       "    </tr>\n",
       "    <tr>\n",
       "      <th>December</th>\n",
       "      <td>36288</td>\n",
       "    </tr>\n",
       "    <tr>\n",
       "      <th>July</th>\n",
       "      <td>5</td>\n",
       "    </tr>\n",
       "    <tr>\n",
       "      <th>November</th>\n",
       "      <td>42998</td>\n",
       "    </tr>\n",
       "    <tr>\n",
       "      <th>October</th>\n",
       "      <td>59837</td>\n",
       "    </tr>\n",
       "    <tr>\n",
       "      <th>September</th>\n",
       "      <td>67391</td>\n",
       "    </tr>\n",
       "  </tbody>\n",
       "</table>\n",
       "</div>"
      ],
      "text/plain": [
       "                 total\n",
       "preceding_month       \n",
       "August           18428\n",
       "December         36288\n",
       "July                 5\n",
       "November         42998\n",
       "October          59837\n",
       "September        67391"
      ]
     },
     "execution_count": 31,
     "metadata": {},
     "output_type": "execute_result"
    }
   ],
   "source": [
    "user_activity_filtered_df"
   ]
  },
  {
   "cell_type": "markdown",
   "metadata": {},
   "source": [
    "Выведение на экран графика поведения данных:"
   ]
  },
  {
   "cell_type": "code",
   "execution_count": 32,
   "metadata": {
    "scrolled": false
   },
   "outputs": [
    {
     "data": {
      "image/png": "[encoded data removed]",
      "text/plain": [
       "<Figure size 720x360 with 1 Axes>"
      ]
     },
     "metadata": {},
     "output_type": "display_data"
    }
   ],
   "source": [
    "fig, ax = plt.subplots(figsize=(10,5))\n",
    "\n",
    "plt.title('Частота постов за предыдущие месяцы\\n', fontsize=font_s+6)\n",
    "ax.pie(user_activity_filtered_df['total'],\n",
    "       labels=user_activity_filtered_df.index,\n",
    "       autopct='%.0f%%')\n",
    "\n",
    "ax.axis('equal')\n",
    "ax.legend(loc='upper left', bbox_to_anchor=(1.0, 1.0))\n",
    "\n",
    "plt.grid()\n",
    "plt.show()"
   ]
  },
  {
   "cell_type": "markdown",
   "metadata": {},
   "source": [
    "**Наблюдения**\n",
    "\n",
    "* Среди названий месяцев предпоследних публикаций пользователей относительно текущей меньше всего было опубликовано в июле и больше всего в сентябре.\n",
    "\n",
    "**Вывод**\n",
    "\n",
    "Показатели количества предпоследних публикаций пользователей демонстрируют рост осенью и зимой, а поскольку они напрямую связаны с текущими датами постов, можно заключить, что такой же рост будет приходиться и на зиму с весной. При этом стоит отметить, что летом авторы занимаются публикациями реже, чем в остальные времена года."
   ]
  },
  {
   "cell_type": "markdown",
   "metadata": {},
   "source": [
    "---"
   ]
  },
  {
   "cell_type": "markdown",
   "metadata": {
    "id": "tf9qq2yzDWK_"
   },
   "source": [
    "# Задание 8"
   ]
  },
  {
   "cell_type": "markdown",
   "metadata": {
    "id": "gfwLVXBYDWLA"
   },
   "source": [
    ">Рассчитать аналог Retention Rate по месяцам для пользователей. Объединить пользователей в когорты по месяцу их первого поста. Возвращение определять по наличию поста в текущем месяце. "
   ]
  },
  {
   "cell_type": "markdown",
   "metadata": {},
   "source": [
    "Создание запроса:"
   ]
  },
  {
   "cell_type": "code",
   "execution_count": 33,
   "metadata": {
    "id": "LUgFmwmTDWLB"
   },
   "outputs": [],
   "source": [
    "query = '''\n",
    "WITH\n",
    "    profile AS\n",
    "        (SELECT *,\n",
    "                COUNT(user_id) OVER (PARTITION BY cohort_date) AS cohort_users\n",
    "         FROM (SELECT DISTINCT user_id,\n",
    "                      FIRST_VALUE(DATE_TRUNC('month', creation_date)) OVER (PARTITION BY user_id ORDER BY DATE_TRUNC('month', creation_date)) AS cohort_date\n",
    "               FROM stackoverflow.posts) filtered_data),\n",
    "    sessions AS\n",
    "        (SELECT user_id,\n",
    "                DATE_TRUNC('month', creation_date) AS posted_date\n",
    "         FROM stackoverflow.posts\n",
    "         GROUP BY user_id, posted_date)\n",
    "        \n",
    "SELECT cohort_date, \n",
    "       posted_date,\n",
    "       COUNT(p.user_id) AS total_users,\n",
    "       cohort_users,\n",
    "       ROUND(COUNT(p.user_id) * 100.0 / cohort_users, 2) AS retention_rate\n",
    "FROM profile AS p\n",
    "JOIN sessions AS s ON p.user_id = s.user_id\n",
    "GROUP BY cohort_date, posted_date, cohort_users\n",
    "ORDER BY cohort_date, posted_date;\n",
    "'''\n",
    "\n",
    "retention_rate_df = pd.read_sql_query(query, con=engine)"
   ]
  },
  {
   "cell_type": "code",
   "execution_count": 34,
   "metadata": {},
   "outputs": [
    {
     "data": {
      "text/html": [
       "<div>\n",
       "<style scoped>\n",
       "    .dataframe tbody tr th:only-of-type {\n",
       "        vertical-align: middle;\n",
       "    }\n",
       "\n",
       "    .dataframe tbody tr th {\n",
       "        vertical-align: top;\n",
       "    }\n",
       "\n",
       "    .dataframe thead th {\n",
       "        text-align: right;\n",
       "    }\n",
       "</style>\n",
       "<table border=\"1\" class=\"dataframe\">\n",
       "  <thead>\n",
       "    <tr style=\"text-align: right;\">\n",
       "      <th></th>\n",
       "      <th>cohort_date</th>\n",
       "      <th>posted_date</th>\n",
       "      <th>total_users</th>\n",
       "      <th>cohort_users</th>\n",
       "      <th>retention_rate</th>\n",
       "    </tr>\n",
       "  </thead>\n",
       "  <tbody>\n",
       "    <tr>\n",
       "      <th>0</th>\n",
       "      <td>2008-07-01</td>\n",
       "      <td>2008-07-01</td>\n",
       "      <td>3</td>\n",
       "      <td>3</td>\n",
       "      <td>100.00</td>\n",
       "    </tr>\n",
       "    <tr>\n",
       "      <th>1</th>\n",
       "      <td>2008-07-01</td>\n",
       "      <td>2008-08-01</td>\n",
       "      <td>2</td>\n",
       "      <td>3</td>\n",
       "      <td>66.67</td>\n",
       "    </tr>\n",
       "    <tr>\n",
       "      <th>2</th>\n",
       "      <td>2008-07-01</td>\n",
       "      <td>2008-09-01</td>\n",
       "      <td>1</td>\n",
       "      <td>3</td>\n",
       "      <td>33.33</td>\n",
       "    </tr>\n",
       "    <tr>\n",
       "      <th>3</th>\n",
       "      <td>2008-07-01</td>\n",
       "      <td>2008-10-01</td>\n",
       "      <td>2</td>\n",
       "      <td>3</td>\n",
       "      <td>66.67</td>\n",
       "    </tr>\n",
       "    <tr>\n",
       "      <th>4</th>\n",
       "      <td>2008-07-01</td>\n",
       "      <td>2008-11-01</td>\n",
       "      <td>1</td>\n",
       "      <td>3</td>\n",
       "      <td>33.33</td>\n",
       "    </tr>\n",
       "    <tr>\n",
       "      <th>5</th>\n",
       "      <td>2008-07-01</td>\n",
       "      <td>2008-12-01</td>\n",
       "      <td>2</td>\n",
       "      <td>3</td>\n",
       "      <td>66.67</td>\n",
       "    </tr>\n",
       "    <tr>\n",
       "      <th>6</th>\n",
       "      <td>2008-08-01</td>\n",
       "      <td>2008-08-01</td>\n",
       "      <td>2151</td>\n",
       "      <td>2151</td>\n",
       "      <td>100.00</td>\n",
       "    </tr>\n",
       "    <tr>\n",
       "      <th>7</th>\n",
       "      <td>2008-08-01</td>\n",
       "      <td>2008-09-01</td>\n",
       "      <td>1571</td>\n",
       "      <td>2151</td>\n",
       "      <td>73.04</td>\n",
       "    </tr>\n",
       "    <tr>\n",
       "      <th>8</th>\n",
       "      <td>2008-08-01</td>\n",
       "      <td>2008-10-01</td>\n",
       "      <td>1275</td>\n",
       "      <td>2151</td>\n",
       "      <td>59.27</td>\n",
       "    </tr>\n",
       "    <tr>\n",
       "      <th>9</th>\n",
       "      <td>2008-08-01</td>\n",
       "      <td>2008-11-01</td>\n",
       "      <td>1050</td>\n",
       "      <td>2151</td>\n",
       "      <td>48.81</td>\n",
       "    </tr>\n",
       "    <tr>\n",
       "      <th>10</th>\n",
       "      <td>2008-08-01</td>\n",
       "      <td>2008-12-01</td>\n",
       "      <td>894</td>\n",
       "      <td>2151</td>\n",
       "      <td>41.56</td>\n",
       "    </tr>\n",
       "    <tr>\n",
       "      <th>11</th>\n",
       "      <td>2008-09-01</td>\n",
       "      <td>2008-09-01</td>\n",
       "      <td>7678</td>\n",
       "      <td>7678</td>\n",
       "      <td>100.00</td>\n",
       "    </tr>\n",
       "    <tr>\n",
       "      <th>12</th>\n",
       "      <td>2008-09-01</td>\n",
       "      <td>2008-10-01</td>\n",
       "      <td>4132</td>\n",
       "      <td>7678</td>\n",
       "      <td>53.82</td>\n",
       "    </tr>\n",
       "    <tr>\n",
       "      <th>13</th>\n",
       "      <td>2008-09-01</td>\n",
       "      <td>2008-11-01</td>\n",
       "      <td>2966</td>\n",
       "      <td>7678</td>\n",
       "      <td>38.63</td>\n",
       "    </tr>\n",
       "    <tr>\n",
       "      <th>14</th>\n",
       "      <td>2008-09-01</td>\n",
       "      <td>2008-12-01</td>\n",
       "      <td>2500</td>\n",
       "      <td>7678</td>\n",
       "      <td>32.56</td>\n",
       "    </tr>\n",
       "    <tr>\n",
       "      <th>15</th>\n",
       "      <td>2008-10-01</td>\n",
       "      <td>2008-10-01</td>\n",
       "      <td>3629</td>\n",
       "      <td>3629</td>\n",
       "      <td>100.00</td>\n",
       "    </tr>\n",
       "    <tr>\n",
       "      <th>16</th>\n",
       "      <td>2008-10-01</td>\n",
       "      <td>2008-11-01</td>\n",
       "      <td>1640</td>\n",
       "      <td>3629</td>\n",
       "      <td>45.19</td>\n",
       "    </tr>\n",
       "    <tr>\n",
       "      <th>17</th>\n",
       "      <td>2008-10-01</td>\n",
       "      <td>2008-12-01</td>\n",
       "      <td>1221</td>\n",
       "      <td>3629</td>\n",
       "      <td>33.65</td>\n",
       "    </tr>\n",
       "    <tr>\n",
       "      <th>18</th>\n",
       "      <td>2008-11-01</td>\n",
       "      <td>2008-11-01</td>\n",
       "      <td>2852</td>\n",
       "      <td>2852</td>\n",
       "      <td>100.00</td>\n",
       "    </tr>\n",
       "    <tr>\n",
       "      <th>19</th>\n",
       "      <td>2008-11-01</td>\n",
       "      <td>2008-12-01</td>\n",
       "      <td>1151</td>\n",
       "      <td>2852</td>\n",
       "      <td>40.36</td>\n",
       "    </tr>\n",
       "    <tr>\n",
       "      <th>20</th>\n",
       "      <td>2008-12-01</td>\n",
       "      <td>2008-12-01</td>\n",
       "      <td>2536</td>\n",
       "      <td>2536</td>\n",
       "      <td>100.00</td>\n",
       "    </tr>\n",
       "  </tbody>\n",
       "</table>\n",
       "</div>"
      ],
      "text/plain": [
       "   cohort_date posted_date  total_users  cohort_users  retention_rate\n",
       "0   2008-07-01  2008-07-01            3             3          100.00\n",
       "1   2008-07-01  2008-08-01            2             3           66.67\n",
       "2   2008-07-01  2008-09-01            1             3           33.33\n",
       "3   2008-07-01  2008-10-01            2             3           66.67\n",
       "4   2008-07-01  2008-11-01            1             3           33.33\n",
       "5   2008-07-01  2008-12-01            2             3           66.67\n",
       "6   2008-08-01  2008-08-01         2151          2151          100.00\n",
       "7   2008-08-01  2008-09-01         1571          2151           73.04\n",
       "8   2008-08-01  2008-10-01         1275          2151           59.27\n",
       "9   2008-08-01  2008-11-01         1050          2151           48.81\n",
       "10  2008-08-01  2008-12-01          894          2151           41.56\n",
       "11  2008-09-01  2008-09-01         7678          7678          100.00\n",
       "12  2008-09-01  2008-10-01         4132          7678           53.82\n",
       "13  2008-09-01  2008-11-01         2966          7678           38.63\n",
       "14  2008-09-01  2008-12-01         2500          7678           32.56\n",
       "15  2008-10-01  2008-10-01         3629          3629          100.00\n",
       "16  2008-10-01  2008-11-01         1640          3629           45.19\n",
       "17  2008-10-01  2008-12-01         1221          3629           33.65\n",
       "18  2008-11-01  2008-11-01         2852          2852          100.00\n",
       "19  2008-11-01  2008-12-01         1151          2852           40.36\n",
       "20  2008-12-01  2008-12-01         2536          2536          100.00"
      ]
     },
     "execution_count": 34,
     "metadata": {},
     "output_type": "execute_result"
    }
   ],
   "source": [
    "retention_rate_df"
   ]
  },
  {
   "cell_type": "markdown",
   "metadata": {},
   "source": [
    "Создание сводной таблицы с результатами:"
   ]
  },
  {
   "cell_type": "code",
   "execution_count": 35,
   "metadata": {
    "scrolled": true
   },
   "outputs": [],
   "source": [
    "retention = retention_rate_df.pivot('cohort_date', 'posted_date', 'retention_rate')\n",
    "retention.index = [str(x)[0:10] for x in retention.index]\n",
    "retention.columns = [str(x)[0:10] for x in retention.columns]"
   ]
  },
  {
   "cell_type": "markdown",
   "metadata": {},
   "source": [
    "Выведение на экран графика поведения данных:"
   ]
  },
  {
   "cell_type": "code",
   "execution_count": 36,
   "metadata": {
    "id": "qAEJc8H1DWLC"
   },
   "outputs": [
    {
     "data": {
      "image/png": "[encoded data removed]",
      "text/plain": [
       "<Figure size 576x432 with 2 Axes>"
      ]
     },
     "metadata": {
      "needs_background": "light"
     },
     "output_type": "display_data"
    }
   ],
   "source": [
    "plt.figure(figsize=(8,6))\n",
    "\n",
    "plt.title('Тепловая карта\\n', fontsize=font_s+6)\n",
    "sns.heatmap(retention, annot=True, fmt='')\n",
    "\n",
    "plt.xlabel('posted date', fontsize=font_s)\n",
    "plt.ylabel('cohort date', fontsize=font_s)\n",
    "\n",
    "plt.show()"
   ]
  },
  {
   "cell_type": "markdown",
   "metadata": {
    "id": "EgOfIsI4DWLC"
   },
   "source": [
    "**Наблюдения**\n",
    "\n",
    "* В первый день после публикации первого поста в когортах:\n",
    "    * 2008-08-01 - больше 70% пользователей опубликовали следующий пост\n",
    "    * 2008-10-01 и 2008-11-01 меньше 50% пользователей опубликовали первый пост\n",
    "* Максимальное количество постов за все месяцы опубликовала только когорта 2008-08-01\n",
    "* Когорта 2008-07-01 отличается стабильностью публикации постов, выкладывая поочерёдно одинаковое количество постов в месяц\n",
    "* В когортах 2008-08-01, 2008-09-01 и 2008-10-01 наблюдается спад активности с течением месяцев\n",
    "\n",
    "**Вывод**\n",
    "\n",
    "Самой стабильной по публикации постов показала себя когорта 2008-07-01, что говорит о регулярной запланированной публикации ею постов на сайте. Остальные когорты не отличаются стабильным распределением значений по месяцам, что говорит о написании ими постов по мере необходимости."
   ]
  },
  {
   "cell_type": "markdown",
   "metadata": {},
   "source": [
    "---"
   ]
  },
  {
   "cell_type": "markdown",
   "metadata": {
    "id": "1k7oPWt5DWLK"
   },
   "source": [
    "# Задание 9\n"
   ]
  },
  {
   "cell_type": "markdown",
   "metadata": {
    "id": "ALsYVSyRDWLM"
   },
   "source": [
    ">На сколько процентов менялось количество постов ежемесячно с 1 сентября по 31 декабря 2008 года? Отобразить таблицу со следующими полями:\n",
    ">\n",
    ">- номер месяца;\n",
    ">- количество постов за месяц;\n",
    ">- процент, который показывает, насколько изменилось количество постов в текущем месяце по сравнению с предыдущим.\n",
    ">\n",
    ">Если постов стало меньше, значение процента должно быть отрицательным, если больше — положительным. Округлить значение процента до двух знаков после запятой.\n",
    ">\n",
    ">Поскольку при делении одного целого числа на другое в PostgreSQL в результате получится целое число, округлённое до ближайшего целого вниз, перевести делимое в тип `numeric`."
   ]
  },
  {
   "cell_type": "markdown",
   "metadata": {},
   "source": [
    "Создание запроса:"
   ]
  },
  {
   "cell_type": "code",
   "execution_count": 38,
   "metadata": {
    "id": "Mb5pShStDWLN"
   },
   "outputs": [],
   "source": [
    "query = '''\n",
    "SELECT month_date,\n",
    "       total_posts,\n",
    "       ROUND((total_posts / LAG(total_posts, 1) OVER (ORDER BY month_date) - 1) * 100, 2) AS percentage\n",
    "FROM\n",
    "    (SELECT EXTRACT(MONTH FROM creation_date)::NUMERIC AS month_date,\n",
    "            COUNT(id)::NUMERIC AS total_posts\n",
    "     FROM stackoverflow.posts\n",
    "     WHERE creation_date::DATE BETWEEN '2008-09-01' AND '2008-12-31'\n",
    "     GROUP BY month_date) filtered_data;\n",
    "'''\n",
    "\n",
    "posts_per_december_2008_df = pd.read_sql_query(query, con=engine)"
   ]
  },
  {
   "cell_type": "code",
   "execution_count": 39,
   "metadata": {},
   "outputs": [
    {
     "data": {
      "text/html": [
       "<div>\n",
       "<style scoped>\n",
       "    .dataframe tbody tr th:only-of-type {\n",
       "        vertical-align: middle;\n",
       "    }\n",
       "\n",
       "    .dataframe tbody tr th {\n",
       "        vertical-align: top;\n",
       "    }\n",
       "\n",
       "    .dataframe thead th {\n",
       "        text-align: right;\n",
       "    }\n",
       "</style>\n",
       "<table border=\"1\" class=\"dataframe\">\n",
       "  <thead>\n",
       "    <tr style=\"text-align: right;\">\n",
       "      <th></th>\n",
       "      <th>month_date</th>\n",
       "      <th>total_posts</th>\n",
       "      <th>percentage</th>\n",
       "    </tr>\n",
       "  </thead>\n",
       "  <tbody>\n",
       "    <tr>\n",
       "      <th>0</th>\n",
       "      <td>9.0</td>\n",
       "      <td>70371.0</td>\n",
       "      <td>NaN</td>\n",
       "    </tr>\n",
       "    <tr>\n",
       "      <th>1</th>\n",
       "      <td>10.0</td>\n",
       "      <td>63102.0</td>\n",
       "      <td>-10.33</td>\n",
       "    </tr>\n",
       "    <tr>\n",
       "      <th>2</th>\n",
       "      <td>11.0</td>\n",
       "      <td>46975.0</td>\n",
       "      <td>-25.56</td>\n",
       "    </tr>\n",
       "    <tr>\n",
       "      <th>3</th>\n",
       "      <td>12.0</td>\n",
       "      <td>44592.0</td>\n",
       "      <td>-5.07</td>\n",
       "    </tr>\n",
       "  </tbody>\n",
       "</table>\n",
       "</div>"
      ],
      "text/plain": [
       "   month_date  total_posts  percentage\n",
       "0         9.0      70371.0         NaN\n",
       "1        10.0      63102.0      -10.33\n",
       "2        11.0      46975.0      -25.56\n",
       "3        12.0      44592.0       -5.07"
      ]
     },
     "execution_count": 39,
     "metadata": {},
     "output_type": "execute_result"
    }
   ],
   "source": [
    "posts_per_december_2008_df"
   ]
  },
  {
   "cell_type": "markdown",
   "metadata": {},
   "source": [
    "Выведение на экран графика поведения данных:"
   ]
  },
  {
   "cell_type": "code",
   "execution_count": 40,
   "metadata": {
    "id": "377ABjiVDWLP"
   },
   "outputs": [
    {
     "data": {
      "image/png": "[encoded data removed]",
      "text/plain": [
       "<Figure size 720x360 with 1 Axes>"
      ]
     },
     "metadata": {},
     "output_type": "display_data"
    }
   ],
   "source": [
    "fig, ax = plt.subplots(figsize=(10,5))\n",
    "\n",
    "plt.title('Частота повторов количества уникальных идентификаторов\\n', \n",
    "          fontsize=font_s+6)\n",
    "\n",
    "ax.pie(posts_per_december_2008_df.total_posts,\n",
    "       labels=posts_per_december_2008_df.month_date,\n",
    "       autopct='%.0f%%')\n",
    "\n",
    "ax.axis('equal')\n",
    "ax.legend(loc='upper left', bbox_to_anchor=(1.0, 1.0))\n",
    "\n",
    "plt.grid()\n",
    "plt.show()"
   ]
  },
  {
   "cell_type": "markdown",
   "metadata": {},
   "source": [
    "**Наблюдения**\n",
    "\n",
    "* Больше всего постов приходится на сентябрь.\n",
    "\n",
    "**Вывод**\n",
    "\n",
    "Начиная с сентября, количество постов ежемесячно имеет отрицательный рост."
   ]
  },
  {
   "cell_type": "markdown",
   "metadata": {},
   "source": [
    "---"
   ]
  },
  {
   "cell_type": "markdown",
   "metadata": {
    "id": "uw7qMtafDWLP"
   },
   "source": [
    "# Задание 10"
   ]
  },
  {
   "cell_type": "markdown",
   "metadata": {
    "id": "oRBpWKx3DWLQ"
   },
   "source": [
    ">Выгрузить данные активности пользователя, который опубликовал больше всего постов за всё время. Вывести данные за октябрь 2008 года в таком виде:\n",
    ">\n",
    ">- номер недели;\n",
    ">- дата и время последнего поста, опубликованного на этой неделе."
   ]
  },
  {
   "cell_type": "markdown",
   "metadata": {},
   "source": [
    "Создание запроса:"
   ]
  },
  {
   "cell_type": "code",
   "execution_count": 41,
   "metadata": {
    "id": "r5F5fSkwDWLQ"
   },
   "outputs": [],
   "source": [
    "query = '''\n",
    "WITH filtered_data AS\n",
    "    (SELECT DISTINCT user_id,\n",
    "            COUNT(id) OVER (PARTITION BY user_id) AS total_posts\n",
    "     FROM stackoverflow.posts\n",
    "     ORDER BY total_posts DESC\n",
    "     LIMIT 1)\n",
    "\n",
    "SELECT DISTINCT EXTRACT(WEEK FROM creation_date)::NUMERIC AS week_date,\n",
    "       MAX(creation_date) OVER (PARTITION BY EXTRACT(WEEK FROM creation_date)::NUMERIC) AS last_post_date\n",
    "FROM stackoverflow.posts\n",
    "WHERE user_id IN (SELECT user_id\n",
    "                  FROM filtered_data)\n",
    "      AND EXTRACT(MONTH FROM creation_date) = 10;\n",
    "'''\n",
    "\n",
    "user_max_posts_2008_df = pd.read_sql_query(query, con=engine)"
   ]
  },
  {
   "cell_type": "code",
   "execution_count": 42,
   "metadata": {},
   "outputs": [
    {
     "data": {
      "text/html": [
       "<div>\n",
       "<style scoped>\n",
       "    .dataframe tbody tr th:only-of-type {\n",
       "        vertical-align: middle;\n",
       "    }\n",
       "\n",
       "    .dataframe tbody tr th {\n",
       "        vertical-align: top;\n",
       "    }\n",
       "\n",
       "    .dataframe thead th {\n",
       "        text-align: right;\n",
       "    }\n",
       "</style>\n",
       "<table border=\"1\" class=\"dataframe\">\n",
       "  <thead>\n",
       "    <tr style=\"text-align: right;\">\n",
       "      <th></th>\n",
       "      <th>week_date</th>\n",
       "      <th>last_post_date</th>\n",
       "    </tr>\n",
       "  </thead>\n",
       "  <tbody>\n",
       "    <tr>\n",
       "      <th>0</th>\n",
       "      <td>40.0</td>\n",
       "      <td>2008-10-05 09:00:58</td>\n",
       "    </tr>\n",
       "    <tr>\n",
       "      <th>1</th>\n",
       "      <td>41.0</td>\n",
       "      <td>2008-10-12 21:22:23</td>\n",
       "    </tr>\n",
       "    <tr>\n",
       "      <th>2</th>\n",
       "      <td>42.0</td>\n",
       "      <td>2008-10-19 06:49:30</td>\n",
       "    </tr>\n",
       "    <tr>\n",
       "      <th>3</th>\n",
       "      <td>43.0</td>\n",
       "      <td>2008-10-26 21:44:36</td>\n",
       "    </tr>\n",
       "    <tr>\n",
       "      <th>4</th>\n",
       "      <td>44.0</td>\n",
       "      <td>2008-10-31 22:16:01</td>\n",
       "    </tr>\n",
       "  </tbody>\n",
       "</table>\n",
       "</div>"
      ],
      "text/plain": [
       "   week_date      last_post_date\n",
       "0       40.0 2008-10-05 09:00:58\n",
       "1       41.0 2008-10-12 21:22:23\n",
       "2       42.0 2008-10-19 06:49:30\n",
       "3       43.0 2008-10-26 21:44:36\n",
       "4       44.0 2008-10-31 22:16:01"
      ]
     },
     "execution_count": 42,
     "metadata": {},
     "output_type": "execute_result"
    }
   ],
   "source": [
    "user_max_posts_2008_df"
   ]
  },
  {
   "attachments": {
    "image.png": {
     "image/png": "[encoded data removed]"
    }
   },
   "cell_type": "markdown",
   "metadata": {},
   "source": [
    "**Наблюдения**\n",
    "\n",
    "* Все последние посты опубликованы в последний день недели.\n",
    "\n",
    "**Вывод**\n",
    "\n",
    "Поскольку последний день недели в основном является выходным днём, можно заключить, что у пользователя нет фиксированного времени публикации последнего поста на неделе и день недели не влияет на время его публикации.\n",
    "\n",
    "![image.png](attachment:image.png)"
   ]
  },
  {
   "cell_type": "markdown",
   "metadata": {},
   "source": [
    "---"
   ]
  },
  {
   "cell_type": "markdown",
   "metadata": {},
   "source": [
    "<div style=\"text-align: center; font-size: 20px; padding: 15px 0;\">\n",
    "    <a href=\"#Написание-сложных-SQL-запросов\" data-toc-modified-id=\"Написание сложных SQL-запросов\" style=\"text-decoration: none; color: #296eaa; border: 2px dashed #296eaa; opacity: 0.8; border-radius: 3px; padding: 10px 80px;\">\n",
    "        Наверх ↑\n",
    "    </a>\n",
    "</div>"
   ]
  }
 ],
 "metadata": {
  "ExecuteTimeLog": [
   {
    "duration": 848,
    "start_time": "2023-03-14T08:33:40.403Z"
   },
   {
    "duration": 4,
    "start_time": "2023-03-14T08:33:55.620Z"
   },
   {
    "duration": 7904,
    "start_time": "2023-03-14T08:33:57.672Z"
   },
   {
    "duration": 92,
    "start_time": "2023-03-14T08:34:17.633Z"
   },
   {
    "duration": 19,
    "start_time": "2023-03-14T08:34:19.964Z"
   },
   {
    "duration": 2,
    "start_time": "2023-03-14T08:35:04.924Z"
   },
   {
    "duration": 9,
    "start_time": "2023-03-14T08:35:37.476Z"
   },
   {
    "duration": 3,
    "start_time": "2023-03-14T08:35:38.734Z"
   },
   {
    "duration": 17,
    "start_time": "2023-03-14T08:35:43.339Z"
   },
   {
    "duration": 6,
    "start_time": "2023-03-14T08:37:05.651Z"
   },
   {
    "duration": 7,
    "start_time": "2023-03-14T08:37:06.601Z"
   },
   {
    "duration": 9,
    "start_time": "2023-03-14T08:37:27.564Z"
   },
   {
    "duration": 6,
    "start_time": "2023-03-14T08:37:28.202Z"
   },
   {
    "duration": 7,
    "start_time": "2023-03-14T08:38:04.266Z"
   },
   {
    "duration": 7,
    "start_time": "2023-03-14T08:38:04.914Z"
   },
   {
    "duration": 7,
    "start_time": "2023-03-14T08:38:13.786Z"
   },
   {
    "duration": 7,
    "start_time": "2023-03-14T08:38:14.201Z"
   },
   {
    "duration": 5,
    "start_time": "2023-03-14T08:38:43.285Z"
   },
   {
    "duration": 8,
    "start_time": "2023-03-14T08:38:44.005Z"
   },
   {
    "duration": 915,
    "start_time": "2023-03-14T08:38:59.067Z"
   },
   {
    "duration": 203,
    "start_time": "2023-03-14T08:39:04.405Z"
   },
   {
    "duration": 9,
    "start_time": "2023-03-14T08:39:05.131Z"
   },
   {
    "duration": 111,
    "start_time": "2023-03-14T08:39:49.608Z"
   },
   {
    "duration": 101,
    "start_time": "2023-03-14T08:39:58.802Z"
   },
   {
    "duration": 111,
    "start_time": "2023-03-14T08:40:18.720Z"
   },
   {
    "duration": 181,
    "start_time": "2023-03-14T08:41:40.299Z"
   },
   {
    "duration": 116,
    "start_time": "2023-03-14T08:41:44.399Z"
   },
   {
    "duration": 151,
    "start_time": "2023-03-14T08:42:14.006Z"
   },
   {
    "duration": 130,
    "start_time": "2023-03-14T08:42:52.552Z"
   },
   {
    "duration": 122,
    "start_time": "2023-03-14T08:42:56.605Z"
   },
   {
    "duration": 128,
    "start_time": "2023-03-14T08:43:00.799Z"
   },
   {
    "duration": 111,
    "start_time": "2023-03-14T08:44:38.343Z"
   },
   {
    "duration": 226,
    "start_time": "2023-03-14T08:44:52.308Z"
   },
   {
    "duration": 134,
    "start_time": "2023-03-14T08:45:23.589Z"
   },
   {
    "duration": 135,
    "start_time": "2023-03-14T08:45:38.044Z"
   },
   {
    "duration": 212,
    "start_time": "2023-03-14T08:46:03.558Z"
   },
   {
    "duration": 149,
    "start_time": "2023-03-14T08:46:13.721Z"
   },
   {
    "duration": 148,
    "start_time": "2023-03-14T08:47:48.114Z"
   },
   {
    "duration": 157,
    "start_time": "2023-03-14T08:47:52.551Z"
   },
   {
    "duration": 9,
    "start_time": "2023-03-14T09:04:33.259Z"
   },
   {
    "duration": 6,
    "start_time": "2023-03-14T09:04:47.009Z"
   },
   {
    "duration": 10,
    "start_time": "2023-03-14T09:04:52.984Z"
   },
   {
    "duration": 111,
    "start_time": "2023-03-14T09:10:11.933Z"
   },
   {
    "duration": 126,
    "start_time": "2023-03-14T09:10:17.158Z"
   },
   {
    "duration": 788,
    "start_time": "2023-03-14T09:10:31.609Z"
   },
   {
    "duration": 11,
    "start_time": "2023-03-14T09:10:33.373Z"
   },
   {
    "duration": 1740,
    "start_time": "2023-03-14T09:57:00.494Z"
   },
   {
    "duration": 17,
    "start_time": "2023-03-14T09:57:02.238Z"
   },
   {
    "duration": 190,
    "start_time": "2023-03-14T09:57:33.687Z"
   },
   {
    "duration": 831,
    "start_time": "2023-03-14T09:58:07.061Z"
   },
   {
    "duration": 16,
    "start_time": "2023-03-14T09:58:08.506Z"
   },
   {
    "duration": 1287,
    "start_time": "2023-03-14T10:02:32.558Z"
   },
   {
    "duration": 14,
    "start_time": "2023-03-14T10:02:33.847Z"
   },
   {
    "duration": 190,
    "start_time": "2023-03-14T10:04:05.112Z"
   },
   {
    "duration": 1211,
    "start_time": "2023-03-14T10:04:12.105Z"
   },
   {
    "duration": 13,
    "start_time": "2023-03-14T10:04:13.319Z"
   },
   {
    "duration": 572,
    "start_time": "2023-03-14T10:04:56.506Z"
   },
   {
    "duration": 19,
    "start_time": "2023-03-14T10:04:57.426Z"
   },
   {
    "duration": 324,
    "start_time": "2023-03-14T10:05:20.391Z"
   },
   {
    "duration": 12,
    "start_time": "2023-03-14T10:05:21.929Z"
   },
   {
    "duration": 264,
    "start_time": "2023-03-14T10:05:38.438Z"
   },
   {
    "duration": 13,
    "start_time": "2023-03-14T10:05:39.100Z"
   },
   {
    "duration": 295,
    "start_time": "2023-03-14T10:07:20.766Z"
   },
   {
    "duration": 19,
    "start_time": "2023-03-14T10:07:22.003Z"
   },
   {
    "duration": 149,
    "start_time": "2023-03-14T10:08:35.496Z"
   },
   {
    "duration": 203,
    "start_time": "2023-03-14T10:08:49.048Z"
   },
   {
    "duration": 8,
    "start_time": "2023-03-14T10:08:50.313Z"
   },
   {
    "duration": 200,
    "start_time": "2023-03-14T10:08:55.559Z"
   },
   {
    "duration": 180,
    "start_time": "2023-03-14T10:09:43.565Z"
   },
   {
    "duration": 9,
    "start_time": "2023-03-14T10:10:58.085Z"
   },
   {
    "duration": 9,
    "start_time": "2023-03-14T10:11:00.801Z"
   },
   {
    "duration": 201,
    "start_time": "2023-03-14T10:11:18.107Z"
   },
   {
    "duration": 258,
    "start_time": "2023-03-14T10:11:25.442Z"
   },
   {
    "duration": 209,
    "start_time": "2023-03-14T10:12:41.695Z"
   },
   {
    "duration": 7,
    "start_time": "2023-03-14T10:12:42.304Z"
   },
   {
    "duration": 12,
    "start_time": "2023-03-14T10:12:43.379Z"
   },
   {
    "duration": 225,
    "start_time": "2023-03-14T10:12:43.986Z"
   },
   {
    "duration": 137,
    "start_time": "2023-03-14T10:13:57.909Z"
   },
   {
    "duration": 199,
    "start_time": "2023-03-14T10:15:42.325Z"
   },
   {
    "duration": 116,
    "start_time": "2023-03-14T10:16:32.017Z"
   },
   {
    "duration": 141,
    "start_time": "2023-03-14T10:16:39.566Z"
   },
   {
    "duration": 137,
    "start_time": "2023-03-14T10:27:22.145Z"
   },
   {
    "duration": 146,
    "start_time": "2023-03-14T10:27:29.308Z"
   },
   {
    "duration": 1248,
    "start_time": "2023-03-14T10:28:57.225Z"
   },
   {
    "duration": 17,
    "start_time": "2023-03-14T10:29:00.878Z"
   },
   {
    "duration": 224,
    "start_time": "2023-03-14T10:29:53.963Z"
   },
   {
    "duration": 128,
    "start_time": "2023-03-14T10:29:58.226Z"
   },
   {
    "duration": 143,
    "start_time": "2023-03-14T11:12:12.098Z"
   },
   {
    "duration": 131,
    "start_time": "2023-03-14T11:12:23.335Z"
   },
   {
    "duration": 110,
    "start_time": "2023-03-14T11:12:50.624Z"
   },
   {
    "duration": 134,
    "start_time": "2023-03-14T11:13:26.656Z"
   },
   {
    "duration": 716,
    "start_time": "2023-03-14T11:13:43.956Z"
   },
   {
    "duration": 13,
    "start_time": "2023-03-14T11:13:47.204Z"
   },
   {
    "duration": 562,
    "start_time": "2023-03-14T11:14:24.632Z"
   },
   {
    "duration": 9,
    "start_time": "2023-03-14T11:14:25.904Z"
   },
   {
    "duration": 216,
    "start_time": "2023-03-14T11:14:37.345Z"
   },
   {
    "duration": 10,
    "start_time": "2023-03-14T11:14:38.032Z"
   },
   {
    "duration": 524,
    "start_time": "2023-03-14T11:14:55.107Z"
   },
   {
    "duration": 14,
    "start_time": "2023-03-14T11:14:55.833Z"
   },
   {
    "duration": 174,
    "start_time": "2023-03-14T11:16:05.375Z"
   },
   {
    "duration": 149,
    "start_time": "2023-03-14T11:18:08.150Z"
   },
   {
    "duration": 197,
    "start_time": "2023-03-14T11:18:24.083Z"
   },
   {
    "duration": 292,
    "start_time": "2023-03-14T11:18:35.230Z"
   },
   {
    "duration": 18,
    "start_time": "2023-03-14T11:18:37.002Z"
   },
   {
    "duration": 187,
    "start_time": "2023-03-14T11:19:24.334Z"
   },
   {
    "duration": 166,
    "start_time": "2023-03-14T11:20:19.216Z"
   },
   {
    "duration": 169,
    "start_time": "2023-03-14T11:20:44.299Z"
   },
   {
    "duration": 131,
    "start_time": "2023-03-14T11:23:31.397Z"
   },
   {
    "duration": 100,
    "start_time": "2023-03-14T11:23:53.404Z"
   },
   {
    "duration": 16,
    "start_time": "2023-03-14T11:23:56.357Z"
   },
   {
    "duration": 155,
    "start_time": "2023-03-14T11:25:18.954Z"
   },
   {
    "duration": 198,
    "start_time": "2023-03-14T11:26:44.912Z"
   },
   {
    "duration": 2095,
    "start_time": "2023-03-14T11:27:00.395Z"
   },
   {
    "duration": 181,
    "start_time": "2023-03-14T11:30:03.012Z"
   },
   {
    "duration": 157,
    "start_time": "2023-03-14T11:30:37.799Z"
   },
   {
    "duration": 136,
    "start_time": "2023-03-14T11:31:00.516Z"
   },
   {
    "duration": 15,
    "start_time": "2023-03-14T11:31:02.212Z"
   },
   {
    "duration": 153,
    "start_time": "2023-03-14T11:31:20.556Z"
   },
   {
    "duration": 14,
    "start_time": "2023-03-14T11:31:21.510Z"
   },
   {
    "duration": 8,
    "start_time": "2023-03-14T11:32:37.398Z"
   },
   {
    "duration": 12,
    "start_time": "2023-03-14T11:32:42.636Z"
   },
   {
    "duration": 47,
    "start_time": "2023-03-14T11:32:53.976Z"
   },
   {
    "duration": 7,
    "start_time": "2023-03-14T11:33:07.478Z"
   },
   {
    "duration": 1478,
    "start_time": "2023-03-14T11:33:38.834Z"
   },
   {
    "duration": 1357,
    "start_time": "2023-03-14T11:33:43.310Z"
   },
   {
    "duration": 200,
    "start_time": "2023-03-14T11:34:03.910Z"
   },
   {
    "duration": 202,
    "start_time": "2023-03-14T11:34:11.524Z"
   },
   {
    "duration": 264,
    "start_time": "2023-03-14T11:34:44.665Z"
   },
   {
    "duration": 251,
    "start_time": "2023-03-14T11:34:58.235Z"
   },
   {
    "duration": 180,
    "start_time": "2023-03-14T11:35:15.083Z"
   },
   {
    "duration": 270,
    "start_time": "2023-03-14T11:35:17.524Z"
   },
   {
    "duration": 140,
    "start_time": "2023-03-14T11:35:41.662Z"
   },
   {
    "duration": 143,
    "start_time": "2023-03-14T11:37:07.640Z"
   },
   {
    "duration": 154,
    "start_time": "2023-03-14T11:38:00.966Z"
   },
   {
    "duration": 116,
    "start_time": "2023-03-14T11:38:04.329Z"
   },
   {
    "duration": 206,
    "start_time": "2023-03-14T11:38:16.298Z"
   },
   {
    "duration": 17,
    "start_time": "2023-03-14T11:38:21.960Z"
   },
   {
    "duration": 8,
    "start_time": "2023-03-14T11:38:27.317Z"
   },
   {
    "duration": 206,
    "start_time": "2023-03-14T11:39:20.120Z"
   },
   {
    "duration": 7,
    "start_time": "2023-03-14T11:39:22.918Z"
   },
   {
    "duration": 393,
    "start_time": "2023-03-14T11:39:48.202Z"
   },
   {
    "duration": 10,
    "start_time": "2023-03-14T11:39:50.469Z"
   },
   {
    "duration": 5,
    "start_time": "2023-03-14T11:39:54.756Z"
   },
   {
    "duration": 187,
    "start_time": "2023-03-14T11:40:01.769Z"
   },
   {
    "duration": 123,
    "start_time": "2023-03-14T11:41:37.947Z"
   },
   {
    "duration": 10,
    "start_time": "2023-03-14T11:41:40.247Z"
   },
   {
    "duration": 4,
    "start_time": "2023-03-14T11:41:44.847Z"
   },
   {
    "duration": 214,
    "start_time": "2023-03-14T11:41:49.021Z"
   },
   {
    "duration": 8,
    "start_time": "2023-03-14T11:42:24.611Z"
   },
   {
    "duration": 8,
    "start_time": "2023-03-14T11:42:28.022Z"
   },
   {
    "duration": 5,
    "start_time": "2023-03-14T11:42:45.047Z"
   },
   {
    "duration": 5,
    "start_time": "2023-03-14T11:42:49.202Z"
   },
   {
    "duration": 147,
    "start_time": "2023-03-14T11:44:17.239Z"
   },
   {
    "duration": 182,
    "start_time": "2023-03-14T11:44:24.102Z"
   },
   {
    "duration": 144,
    "start_time": "2023-03-14T11:44:44.297Z"
   },
   {
    "duration": 149,
    "start_time": "2023-03-14T11:44:50.140Z"
   },
   {
    "duration": 133,
    "start_time": "2023-03-14T11:45:10.854Z"
   },
   {
    "duration": 229,
    "start_time": "2023-03-14T11:45:19.125Z"
   },
   {
    "duration": 10,
    "start_time": "2023-03-14T11:45:19.562Z"
   },
   {
    "duration": 4,
    "start_time": "2023-03-14T11:45:19.997Z"
   },
   {
    "duration": 170,
    "start_time": "2023-03-14T11:45:20.613Z"
   },
   {
    "duration": 3,
    "start_time": "2023-03-14T11:45:58.906Z"
   },
   {
    "duration": 3,
    "start_time": "2023-03-14T11:46:21.255Z"
   },
   {
    "duration": 175,
    "start_time": "2023-03-14T11:47:00.030Z"
   },
   {
    "duration": 760,
    "start_time": "2023-03-14T11:47:17.617Z"
   },
   {
    "duration": 5,
    "start_time": "2023-03-14T11:47:18.379Z"
   },
   {
    "duration": 9714,
    "start_time": "2023-03-14T11:47:18.386Z"
   },
   {
    "duration": 37,
    "start_time": "2023-03-14T11:47:28.103Z"
   },
   {
    "duration": 15,
    "start_time": "2023-03-14T11:47:28.142Z"
   },
   {
    "duration": 208,
    "start_time": "2023-03-14T11:47:28.159Z"
   },
   {
    "duration": 13,
    "start_time": "2023-03-14T11:47:28.368Z"
   },
   {
    "duration": 3,
    "start_time": "2023-03-14T11:47:28.383Z"
   },
   {
    "duration": 326,
    "start_time": "2023-03-14T11:47:28.388Z"
   },
   {
    "duration": 3,
    "start_time": "2023-03-14T11:47:36.133Z"
   },
   {
    "duration": 161,
    "start_time": "2023-03-14T11:47:38.897Z"
   },
   {
    "duration": 207,
    "start_time": "2023-03-14T11:47:45.033Z"
   },
   {
    "duration": 178,
    "start_time": "2023-03-14T11:47:48.245Z"
   },
   {
    "duration": 3,
    "start_time": "2023-03-14T11:50:13.016Z"
   },
   {
    "duration": 72,
    "start_time": "2023-03-14T11:50:26.505Z"
   },
   {
    "duration": 127,
    "start_time": "2023-03-14T11:51:56.008Z"
   },
   {
    "duration": 12,
    "start_time": "2023-03-14T11:51:56.897Z"
   },
   {
    "duration": 180,
    "start_time": "2023-03-14T11:51:59.106Z"
   },
   {
    "duration": 171,
    "start_time": "2023-03-14T11:53:17.975Z"
   },
   {
    "duration": 169,
    "start_time": "2023-03-14T11:53:41.636Z"
   },
   {
    "duration": 194,
    "start_time": "2023-03-14T11:54:54.328Z"
   },
   {
    "duration": 4,
    "start_time": "2023-03-14T11:55:30.350Z"
   },
   {
    "duration": 239,
    "start_time": "2023-03-14T11:56:01.224Z"
   },
   {
    "duration": 228,
    "start_time": "2023-03-14T11:56:44.529Z"
   },
   {
    "duration": 259,
    "start_time": "2023-03-14T11:59:19.750Z"
   },
   {
    "duration": 357,
    "start_time": "2023-03-14T11:59:31.897Z"
   },
   {
    "duration": 98,
    "start_time": "2023-03-14T12:01:23.500Z"
   },
   {
    "duration": 9,
    "start_time": "2023-03-14T12:01:26.365Z"
   },
   {
    "duration": 13,
    "start_time": "2023-03-14T12:01:35.012Z"
   },
   {
    "duration": 12,
    "start_time": "2023-03-14T12:01:43.912Z"
   },
   {
    "duration": 11,
    "start_time": "2023-03-14T12:02:00.404Z"
   },
   {
    "duration": 13,
    "start_time": "2023-03-14T12:02:05.401Z"
   },
   {
    "duration": 7,
    "start_time": "2023-03-14T12:02:59.253Z"
   },
   {
    "duration": 8,
    "start_time": "2023-03-14T12:03:10.852Z"
   },
   {
    "duration": 4,
    "start_time": "2023-03-14T12:07:04.439Z"
   },
   {
    "duration": 12,
    "start_time": "2023-03-14T12:07:34.666Z"
   },
   {
    "duration": 1725,
    "start_time": "2023-03-14T12:07:41.997Z"
   },
   {
    "duration": 1885,
    "start_time": "2023-03-14T12:08:03.268Z"
   },
   {
    "duration": 37,
    "start_time": "2023-03-14T12:08:05.555Z"
   },
   {
    "duration": 140,
    "start_time": "2023-03-14T12:08:55.304Z"
   },
   {
    "duration": 2838,
    "start_time": "2023-03-14T12:09:04.921Z"
   },
   {
    "duration": 729,
    "start_time": "2023-03-14T12:10:29.398Z"
   },
   {
    "duration": 30,
    "start_time": "2023-03-14T12:10:37.155Z"
   },
   {
    "duration": 173,
    "start_time": "2023-03-14T12:11:06.776Z"
   },
   {
    "duration": 35,
    "start_time": "2023-03-14T12:11:09.764Z"
   },
   {
    "duration": 2022,
    "start_time": "2023-03-14T12:12:52.193Z"
   },
   {
    "duration": 37,
    "start_time": "2023-03-14T12:12:54.256Z"
   },
   {
    "duration": 123,
    "start_time": "2023-03-14T12:14:08.508Z"
   },
   {
    "duration": 122,
    "start_time": "2023-03-14T12:14:34.860Z"
   },
   {
    "duration": 522,
    "start_time": "2023-03-14T12:15:18.012Z"
   },
   {
    "duration": 692,
    "start_time": "2023-03-14T12:15:41.462Z"
   },
   {
    "duration": 10,
    "start_time": "2023-03-14T12:15:42.596Z"
   },
   {
    "duration": 746,
    "start_time": "2023-03-14T12:16:11.695Z"
   },
   {
    "duration": 10,
    "start_time": "2023-03-14T12:16:12.849Z"
   },
   {
    "duration": 163,
    "start_time": "2023-03-14T12:16:19.638Z"
   },
   {
    "duration": 7,
    "start_time": "2023-03-14T12:16:20.124Z"
   },
   {
    "duration": 159,
    "start_time": "2023-03-14T12:17:52.005Z"
   },
   {
    "duration": 7,
    "start_time": "2023-03-14T12:17:53.518Z"
   },
   {
    "duration": 105,
    "start_time": "2023-03-14T12:19:55.712Z"
   },
   {
    "duration": 137,
    "start_time": "2023-03-14T12:20:52.865Z"
   },
   {
    "duration": 155,
    "start_time": "2023-03-14T12:21:03.802Z"
   },
   {
    "duration": 120,
    "start_time": "2023-03-14T12:21:57.203Z"
   },
   {
    "duration": 199,
    "start_time": "2023-03-14T12:21:59.905Z"
   },
   {
    "duration": 108,
    "start_time": "2023-03-14T12:24:36.247Z"
   },
   {
    "duration": 15179,
    "start_time": "2023-03-14T12:24:44.038Z"
   },
   {
    "duration": 7,
    "start_time": "2023-03-14T12:24:59.219Z"
   },
   {
    "duration": 87,
    "start_time": "2023-03-14T12:26:30.715Z"
   },
   {
    "duration": 945,
    "start_time": "2023-03-14T12:26:49.083Z"
   },
   {
    "duration": 17,
    "start_time": "2023-03-14T12:26:52.101Z"
   },
   {
    "duration": 146,
    "start_time": "2023-03-14T12:28:11.682Z"
   },
   {
    "duration": 7,
    "start_time": "2023-03-14T12:28:13.516Z"
   },
   {
    "duration": 148,
    "start_time": "2023-03-14T12:28:22.154Z"
   },
   {
    "duration": 7,
    "start_time": "2023-03-14T12:28:22.816Z"
   },
   {
    "duration": 148,
    "start_time": "2023-03-14T12:28:29.381Z"
   },
   {
    "duration": 7,
    "start_time": "2023-03-14T12:28:30.083Z"
   },
   {
    "duration": 124,
    "start_time": "2023-03-14T12:29:25.581Z"
   },
   {
    "duration": 100,
    "start_time": "2023-03-14T12:29:43.286Z"
   },
   {
    "duration": 206,
    "start_time": "2023-03-14T12:30:02.182Z"
   },
   {
    "duration": 122,
    "start_time": "2023-03-14T12:30:19.222Z"
   },
   {
    "duration": 151,
    "start_time": "2023-03-14T12:30:38.211Z"
   },
   {
    "duration": 7,
    "start_time": "2023-03-14T12:30:41.610Z"
   },
   {
    "duration": 122,
    "start_time": "2023-03-14T12:30:52.481Z"
   },
   {
    "duration": 13,
    "start_time": "2023-03-14T12:30:53.796Z"
   },
   {
    "duration": 3,
    "start_time": "2023-03-14T12:31:39.762Z"
   },
   {
    "duration": 503,
    "start_time": "2023-03-14T12:32:07.828Z"
   },
   {
    "duration": 7,
    "start_time": "2023-03-14T12:32:09.251Z"
   },
   {
    "duration": 4,
    "start_time": "2023-03-14T12:32:12.963Z"
   },
   {
    "duration": 123,
    "start_time": "2023-03-14T12:32:20.482Z"
   },
   {
    "duration": 224,
    "start_time": "2023-03-14T12:32:25.005Z"
   },
   {
    "duration": 4,
    "start_time": "2023-03-14T12:35:40.010Z"
   },
   {
    "duration": 534,
    "start_time": "2023-03-14T12:46:58.718Z"
   },
   {
    "duration": 348,
    "start_time": "2023-03-14T12:49:13.736Z"
   },
   {
    "duration": 384,
    "start_time": "2023-03-14T12:49:21.838Z"
   },
   {
    "duration": 277,
    "start_time": "2023-03-14T12:49:26.999Z"
   },
   {
    "duration": 281,
    "start_time": "2023-03-14T12:49:31.411Z"
   },
   {
    "duration": 291,
    "start_time": "2023-03-14T12:49:35.835Z"
   },
   {
    "duration": 173,
    "start_time": "2023-03-14T12:50:09.663Z"
   },
   {
    "duration": 240,
    "start_time": "2023-03-14T12:50:17.901Z"
   },
   {
    "duration": 254,
    "start_time": "2023-03-14T12:50:20.901Z"
   },
   {
    "duration": 8,
    "start_time": "2023-03-14T12:50:50.203Z"
   },
   {
    "duration": 288,
    "start_time": "2023-03-14T12:51:09.916Z"
   },
   {
    "duration": 255,
    "start_time": "2023-03-14T12:51:26.817Z"
   },
   {
    "duration": 1552,
    "start_time": "2023-03-14T12:59:21.344Z"
   },
   {
    "duration": 21,
    "start_time": "2023-03-14T12:59:25.044Z"
   },
   {
    "duration": 552,
    "start_time": "2023-03-14T12:59:54.046Z"
   },
   {
    "duration": 9,
    "start_time": "2023-03-14T12:59:55.427Z"
   },
   {
    "duration": 246,
    "start_time": "2023-03-14T13:02:09.112Z"
   },
   {
    "duration": 9,
    "start_time": "2023-03-14T13:02:10.811Z"
   },
   {
    "duration": 308,
    "start_time": "2023-03-14T13:02:41.649Z"
   },
   {
    "duration": 108,
    "start_time": "2023-03-14T13:04:08.389Z"
   },
   {
    "duration": 118,
    "start_time": "2023-03-14T13:04:11.845Z"
   },
   {
    "duration": 103,
    "start_time": "2023-03-14T13:04:31.241Z"
   },
   {
    "duration": 157,
    "start_time": "2023-03-14T13:04:43.115Z"
   },
   {
    "duration": 96,
    "start_time": "2023-03-14T13:04:48.368Z"
   },
   {
    "duration": 115,
    "start_time": "2023-03-14T13:05:45.031Z"
   },
   {
    "duration": 1559,
    "start_time": "2023-03-14T13:05:53.344Z"
   },
   {
    "duration": 18,
    "start_time": "2023-03-14T13:05:54.905Z"
   },
   {
    "duration": 862,
    "start_time": "2023-03-14T13:06:20.531Z"
   },
   {
    "duration": 9,
    "start_time": "2023-03-14T13:06:21.694Z"
   },
   {
    "duration": 272,
    "start_time": "2023-03-14T13:06:59.506Z"
   },
   {
    "duration": 12,
    "start_time": "2023-03-14T13:07:01.457Z"
   },
   {
    "duration": 274,
    "start_time": "2023-03-14T13:07:05.870Z"
   },
   {
    "duration": 8,
    "start_time": "2023-03-14T13:07:07.233Z"
   },
   {
    "duration": 218,
    "start_time": "2023-03-14T13:07:11.431Z"
   },
   {
    "duration": 6,
    "start_time": "2023-03-14T13:07:14.836Z"
   },
   {
    "duration": 248,
    "start_time": "2023-03-14T13:07:51.795Z"
   },
   {
    "duration": 18,
    "start_time": "2023-03-14T13:07:53.699Z"
   },
   {
    "duration": 269,
    "start_time": "2023-03-14T13:08:28.498Z"
   },
   {
    "duration": 273,
    "start_time": "2023-03-14T13:08:56.172Z"
   },
   {
    "duration": 15,
    "start_time": "2023-03-14T13:08:58.010Z"
   },
   {
    "duration": 272,
    "start_time": "2023-03-14T13:09:11.447Z"
   },
   {
    "duration": 11,
    "start_time": "2023-03-14T13:09:12.223Z"
   },
   {
    "duration": 270,
    "start_time": "2023-03-14T13:09:16.523Z"
   },
   {
    "duration": 11,
    "start_time": "2023-03-14T13:09:16.824Z"
   },
   {
    "duration": 111,
    "start_time": "2023-03-14T13:10:47.198Z"
   },
   {
    "duration": 1413,
    "start_time": "2023-03-14T13:11:07.053Z"
   },
   {
    "duration": 1107,
    "start_time": "2023-03-14T13:11:20.128Z"
   },
   {
    "duration": 12,
    "start_time": "2023-03-14T13:11:22.266Z"
   },
   {
    "duration": 884,
    "start_time": "2023-03-14T13:12:03.330Z"
   },
   {
    "duration": 13,
    "start_time": "2023-03-14T13:12:04.329Z"
   },
   {
    "duration": 95,
    "start_time": "2023-03-14T13:12:25.731Z"
   },
   {
    "duration": 268,
    "start_time": "2023-03-14T13:12:29.602Z"
   },
   {
    "duration": 11,
    "start_time": "2023-03-14T13:12:32.230Z"
   },
   {
    "duration": 115,
    "start_time": "2023-03-14T13:13:23.015Z"
   },
   {
    "duration": 12,
    "start_time": "2023-03-14T13:13:25.645Z"
   },
   {
    "duration": 246,
    "start_time": "2023-03-14T13:13:46.132Z"
   },
   {
    "duration": 11,
    "start_time": "2023-03-14T13:13:47.032Z"
   },
   {
    "duration": 370,
    "start_time": "2023-03-14T13:13:54.107Z"
   },
   {
    "duration": 8,
    "start_time": "2023-03-14T13:13:54.895Z"
   },
   {
    "duration": 262,
    "start_time": "2023-03-14T13:15:05.648Z"
   },
   {
    "duration": 9,
    "start_time": "2023-03-14T13:15:08.399Z"
   },
   {
    "duration": 199,
    "start_time": "2023-03-14T13:15:28.497Z"
   },
   {
    "duration": 185,
    "start_time": "2023-03-14T13:16:35.728Z"
   },
   {
    "duration": 186,
    "start_time": "2023-03-14T13:16:46.077Z"
   },
   {
    "duration": 250,
    "start_time": "2023-03-14T13:17:25.441Z"
   },
   {
    "duration": 11,
    "start_time": "2023-03-14T13:17:26.741Z"
   },
   {
    "duration": 197,
    "start_time": "2023-03-14T13:17:28.841Z"
   },
   {
    "duration": 2332,
    "start_time": "2023-03-14T13:18:00.042Z"
   },
   {
    "duration": 9,
    "start_time": "2023-03-14T13:18:02.376Z"
   },
   {
    "duration": 243,
    "start_time": "2023-03-14T13:18:17.556Z"
   },
   {
    "duration": 7,
    "start_time": "2023-03-14T13:18:18.230Z"
   },
   {
    "duration": 245,
    "start_time": "2023-03-14T13:18:29.069Z"
   },
   {
    "duration": 8,
    "start_time": "2023-03-14T13:18:30.104Z"
   },
   {
    "duration": 90,
    "start_time": "2023-03-14T13:19:00.920Z"
   },
   {
    "duration": 245,
    "start_time": "2023-03-14T13:19:09.298Z"
   },
   {
    "duration": 8,
    "start_time": "2023-03-14T13:19:10.098Z"
   },
   {
    "duration": 251,
    "start_time": "2023-03-14T13:19:12.969Z"
   },
   {
    "duration": 9,
    "start_time": "2023-03-14T13:19:13.269Z"
   },
   {
    "duration": 178,
    "start_time": "2023-03-14T13:19:21.958Z"
   },
   {
    "duration": 8,
    "start_time": "2023-03-14T13:19:22.586Z"
   },
   {
    "duration": 246,
    "start_time": "2023-03-14T13:19:24.820Z"
   },
   {
    "duration": 8,
    "start_time": "2023-03-14T13:19:25.107Z"
   },
   {
    "duration": 198,
    "start_time": "2023-03-14T13:19:26.098Z"
   },
   {
    "duration": 138,
    "start_time": "2023-03-14T13:19:48.396Z"
   },
   {
    "duration": 258,
    "start_time": "2023-03-14T13:19:59.346Z"
   },
   {
    "duration": 1117,
    "start_time": "2023-03-14T13:31:32.622Z"
   },
   {
    "duration": 1084,
    "start_time": "2023-03-14T13:32:01.827Z"
   },
   {
    "duration": 12,
    "start_time": "2023-03-14T13:32:02.913Z"
   },
   {
    "duration": 308,
    "start_time": "2023-03-14T13:36:45.177Z"
   },
   {
    "duration": 10,
    "start_time": "2023-03-14T13:36:50.526Z"
   },
   {
    "duration": 30,
    "start_time": "2023-03-14T13:37:05.129Z"
   },
   {
    "duration": 7,
    "start_time": "2023-03-14T13:37:05.813Z"
   },
   {
    "duration": 29,
    "start_time": "2023-03-14T13:38:45.520Z"
   },
   {
    "duration": 6,
    "start_time": "2023-03-14T13:38:46.409Z"
   },
   {
    "duration": 94,
    "start_time": "2023-03-14T13:41:12.549Z"
   },
   {
    "duration": 90,
    "start_time": "2023-03-14T13:41:19.181Z"
   },
   {
    "duration": 109,
    "start_time": "2023-03-14T13:41:30.409Z"
   },
   {
    "duration": 81,
    "start_time": "2023-03-14T13:41:43.081Z"
   },
   {
    "duration": 80,
    "start_time": "2023-03-14T13:42:05.581Z"
   },
   {
    "duration": 7,
    "start_time": "2023-03-14T13:42:06.929Z"
   },
   {
    "duration": 81,
    "start_time": "2023-03-14T13:42:13.625Z"
   },
   {
    "duration": 7,
    "start_time": "2023-03-14T13:42:13.897Z"
   },
   {
    "duration": 125,
    "start_time": "2023-03-14T13:42:55.514Z"
   },
   {
    "duration": 84,
    "start_time": "2023-03-14T13:43:00.441Z"
   },
   {
    "duration": 18,
    "start_time": "2023-03-14T13:43:02.591Z"
   },
   {
    "duration": 93,
    "start_time": "2023-03-14T13:43:30.027Z"
   },
   {
    "duration": 16,
    "start_time": "2023-03-14T13:43:30.609Z"
   },
   {
    "duration": 83,
    "start_time": "2023-03-14T13:44:56.484Z"
   },
   {
    "duration": 13,
    "start_time": "2023-03-14T13:44:57.311Z"
   },
   {
    "duration": 99,
    "start_time": "2023-03-14T13:48:08.504Z"
   },
   {
    "duration": 81,
    "start_time": "2023-03-14T13:48:20.744Z"
   },
   {
    "duration": 10,
    "start_time": "2023-03-14T13:48:21.554Z"
   },
   {
    "duration": 79,
    "start_time": "2023-03-14T13:51:29.108Z"
   },
   {
    "duration": 12,
    "start_time": "2023-03-14T13:51:30.253Z"
   },
   {
    "duration": 82,
    "start_time": "2023-03-14T13:52:15.413Z"
   },
   {
    "duration": 11,
    "start_time": "2023-03-14T13:52:15.918Z"
   },
   {
    "duration": 6,
    "start_time": "2023-03-14T13:52:46.711Z"
   },
   {
    "duration": 6,
    "start_time": "2023-03-14T13:52:49.757Z"
   },
   {
    "duration": 82,
    "start_time": "2023-03-14T13:53:05.714Z"
   },
   {
    "duration": 15,
    "start_time": "2023-03-14T13:53:06.412Z"
   },
   {
    "duration": 86,
    "start_time": "2023-03-14T13:53:46.105Z"
   },
   {
    "duration": 11,
    "start_time": "2023-03-14T13:53:46.647Z"
   },
   {
    "duration": 118,
    "start_time": "2023-03-14T13:54:00.109Z"
   },
   {
    "duration": 23,
    "start_time": "2023-03-14T13:54:00.459Z"
   },
   {
    "duration": 80,
    "start_time": "2023-03-14T13:54:28.824Z"
   },
   {
    "duration": 11,
    "start_time": "2023-03-14T13:54:29.324Z"
   },
   {
    "duration": 87,
    "start_time": "2023-03-14T13:55:30.745Z"
   },
   {
    "duration": 17,
    "start_time": "2023-03-14T13:55:31.539Z"
   },
   {
    "duration": 86,
    "start_time": "2023-03-14T13:56:14.576Z"
   },
   {
    "duration": 12,
    "start_time": "2023-03-14T13:56:15.371Z"
   },
   {
    "duration": 132,
    "start_time": "2023-03-14T15:08:13.906Z"
   },
   {
    "duration": 111,
    "start_time": "2023-03-14T15:08:18.014Z"
   },
   {
    "duration": 122,
    "start_time": "2023-03-14T15:09:33.503Z"
   },
   {
    "duration": 501,
    "start_time": "2023-03-14T15:09:43.418Z"
   },
   {
    "duration": 19,
    "start_time": "2023-03-14T15:09:49.038Z"
   },
   {
    "duration": 123,
    "start_time": "2023-03-14T15:12:16.148Z"
   },
   {
    "duration": 121,
    "start_time": "2023-03-14T15:12:29.424Z"
   },
   {
    "duration": 121,
    "start_time": "2023-03-14T15:12:35.024Z"
   },
   {
    "duration": 52,
    "start_time": "2023-03-14T15:13:34.323Z"
   },
   {
    "duration": 8,
    "start_time": "2023-03-14T15:13:36.809Z"
   },
   {
    "duration": 59,
    "start_time": "2023-03-14T15:13:54.451Z"
   },
   {
    "duration": 8,
    "start_time": "2023-03-14T15:13:55.546Z"
   },
   {
    "duration": 45,
    "start_time": "2023-03-14T15:14:39.690Z"
   },
   {
    "duration": 13,
    "start_time": "2023-03-14T15:14:40.565Z"
   },
   {
    "duration": 32,
    "start_time": "2023-03-14T15:14:50.904Z"
   },
   {
    "duration": 8,
    "start_time": "2023-03-14T15:14:52.040Z"
   },
   {
    "duration": 50,
    "start_time": "2023-03-14T15:14:54.356Z"
   },
   {
    "duration": 10,
    "start_time": "2023-03-14T15:14:55.115Z"
   },
   {
    "duration": 40,
    "start_time": "2023-03-14T15:18:39.350Z"
   },
   {
    "duration": 7,
    "start_time": "2023-03-14T15:18:40.245Z"
   },
   {
    "duration": 138,
    "start_time": "2023-03-14T15:18:54.452Z"
   },
   {
    "duration": 431,
    "start_time": "2023-03-14T15:19:07.938Z"
   },
   {
    "duration": 34,
    "start_time": "2023-03-14T15:19:08.926Z"
   },
   {
    "duration": 31,
    "start_time": "2023-03-14T15:20:07.727Z"
   },
   {
    "duration": 10,
    "start_time": "2023-03-14T15:20:08.609Z"
   },
   {
    "duration": 55,
    "start_time": "2023-03-14T15:20:26.452Z"
   },
   {
    "duration": 10,
    "start_time": "2023-03-14T15:20:26.804Z"
   },
   {
    "duration": 86,
    "start_time": "2023-03-14T15:20:35.766Z"
   },
   {
    "duration": 9,
    "start_time": "2023-03-14T15:20:36.113Z"
   },
   {
    "duration": 142,
    "start_time": "2023-03-14T15:25:45.669Z"
   },
   {
    "duration": 94,
    "start_time": "2023-03-14T15:26:01.445Z"
   },
   {
    "duration": 21,
    "start_time": "2023-03-14T15:26:02.193Z"
   },
   {
    "duration": 102,
    "start_time": "2023-03-14T15:26:36.400Z"
   },
   {
    "duration": 8,
    "start_time": "2023-03-14T15:26:37.406Z"
   },
   {
    "duration": 96,
    "start_time": "2023-03-14T15:26:51.407Z"
   },
   {
    "duration": 9,
    "start_time": "2023-03-14T15:26:52.107Z"
   },
   {
    "duration": 86,
    "start_time": "2023-03-14T15:27:28.660Z"
   },
   {
    "duration": 9,
    "start_time": "2023-03-14T15:27:29.346Z"
   },
   {
    "duration": 920,
    "start_time": "2023-03-14T15:30:36.631Z"
   },
   {
    "duration": 10,
    "start_time": "2023-03-14T15:30:37.554Z"
   },
   {
    "duration": 995,
    "start_time": "2023-03-14T15:31:04.156Z"
   },
   {
    "duration": 25,
    "start_time": "2023-03-14T15:31:05.154Z"
   },
   {
    "duration": 132,
    "start_time": "2023-03-14T15:31:10.407Z"
   },
   {
    "duration": 329,
    "start_time": "2023-03-14T15:31:16.208Z"
   },
   {
    "duration": 10,
    "start_time": "2023-03-14T15:31:16.555Z"
   },
   {
    "duration": 282,
    "start_time": "2023-03-14T15:31:41.810Z"
   },
   {
    "duration": 9,
    "start_time": "2023-03-14T15:31:42.119Z"
   },
   {
    "duration": 577,
    "start_time": "2023-03-14T15:32:04.345Z"
   },
   {
    "duration": 9,
    "start_time": "2023-03-14T15:32:05.833Z"
   },
   {
    "duration": 322,
    "start_time": "2023-03-14T15:32:11.558Z"
   },
   {
    "duration": 23,
    "start_time": "2023-03-14T15:32:11.889Z"
   },
   {
    "duration": 985,
    "start_time": "2023-03-14T15:34:57.965Z"
   },
   {
    "duration": 11,
    "start_time": "2023-03-14T15:34:58.951Z"
   },
   {
    "duration": 1319,
    "start_time": "2023-03-14T15:36:53.705Z"
   },
   {
    "duration": 10,
    "start_time": "2023-03-14T15:36:55.026Z"
   },
   {
    "duration": 1229,
    "start_time": "2023-03-14T15:37:03.969Z"
   },
   {
    "duration": 14,
    "start_time": "2023-03-14T15:37:05.244Z"
   },
   {
    "duration": 1309,
    "start_time": "2023-03-14T15:37:39.246Z"
   },
   {
    "duration": 13,
    "start_time": "2023-03-14T15:37:40.557Z"
   },
   {
    "duration": 1458,
    "start_time": "2023-03-14T15:39:35.205Z"
   },
   {
    "duration": 16,
    "start_time": "2023-03-14T15:39:36.665Z"
   },
   {
    "duration": 1277,
    "start_time": "2023-03-14T15:39:54.203Z"
   },
   {
    "duration": 13,
    "start_time": "2023-03-14T15:39:55.603Z"
   },
   {
    "duration": 1284,
    "start_time": "2023-03-14T15:40:01.440Z"
   },
   {
    "duration": 11,
    "start_time": "2023-03-14T15:40:02.726Z"
   },
   {
    "duration": 1501,
    "start_time": "2023-03-14T15:40:34.596Z"
   },
   {
    "duration": 12,
    "start_time": "2023-03-14T15:40:36.104Z"
   },
   {
    "duration": 1277,
    "start_time": "2023-03-14T15:40:59.619Z"
   },
   {
    "duration": 1343,
    "start_time": "2023-03-14T15:41:18.131Z"
   },
   {
    "duration": 16,
    "start_time": "2023-03-14T15:41:19.476Z"
   },
   {
    "duration": 117,
    "start_time": "2023-03-14T15:48:45.647Z"
   },
   {
    "duration": 1446,
    "start_time": "2023-03-14T15:49:14.801Z"
   },
   {
    "duration": 11,
    "start_time": "2023-03-14T15:49:16.249Z"
   },
   {
    "duration": 1405,
    "start_time": "2023-03-14T15:49:38.062Z"
   },
   {
    "duration": 31,
    "start_time": "2023-03-14T15:49:39.469Z"
   },
   {
    "duration": 148,
    "start_time": "2023-03-14T15:50:53.195Z"
   },
   {
    "duration": 1207,
    "start_time": "2023-03-14T15:51:23.140Z"
   },
   {
    "duration": 15,
    "start_time": "2023-03-14T15:51:24.702Z"
   },
   {
    "duration": 1211,
    "start_time": "2023-03-14T15:51:32.839Z"
   },
   {
    "duration": 109,
    "start_time": "2023-03-14T15:52:48.204Z"
   },
   {
    "duration": 126,
    "start_time": "2023-03-14T15:53:04.215Z"
   },
   {
    "duration": 1199,
    "start_time": "2023-03-14T15:53:14.001Z"
   },
   {
    "duration": 15,
    "start_time": "2023-03-14T15:53:15.202Z"
   },
   {
    "duration": 1321,
    "start_time": "2023-03-14T15:53:36.656Z"
   },
   {
    "duration": 15,
    "start_time": "2023-03-14T15:53:37.980Z"
   },
   {
    "duration": 19,
    "start_time": "2023-03-14T15:54:03.573Z"
   },
   {
    "duration": 23,
    "start_time": "2023-03-14T15:54:23.260Z"
   },
   {
    "duration": 10,
    "start_time": "2023-03-14T15:54:26.333Z"
   },
   {
    "duration": 13,
    "start_time": "2023-03-14T15:54:31.192Z"
   },
   {
    "duration": 147,
    "start_time": "2023-03-14T15:55:19.400Z"
   },
   {
    "duration": 18,
    "start_time": "2023-03-14T15:55:19.881Z"
   },
   {
    "duration": 8,
    "start_time": "2023-03-14T15:55:32.723Z"
   },
   {
    "duration": 1950,
    "start_time": "2023-03-14T15:57:51.969Z"
   },
   {
    "duration": 164,
    "start_time": "2023-03-14T15:58:26.598Z"
   },
   {
    "duration": 19,
    "start_time": "2023-03-14T15:58:27.132Z"
   },
   {
    "duration": 111,
    "start_time": "2023-03-14T15:58:50.709Z"
   },
   {
    "duration": 31,
    "start_time": "2023-03-14T15:58:57.808Z"
   },
   {
    "duration": 6,
    "start_time": "2023-03-14T15:58:58.407Z"
   },
   {
    "duration": 935,
    "start_time": "2023-03-14T19:58:35.114Z"
   },
   {
    "duration": 4,
    "start_time": "2023-03-14T19:58:36.052Z"
   },
   {
    "duration": 5046,
    "start_time": "2023-03-14T19:58:36.449Z"
   },
   {
    "duration": 218,
    "start_time": "2023-03-14T19:58:41.497Z"
   },
   {
    "duration": 22,
    "start_time": "2023-03-14T19:58:41.716Z"
   },
   {
    "duration": 236,
    "start_time": "2023-03-14T19:58:41.741Z"
   },
   {
    "duration": 10,
    "start_time": "2023-03-14T19:58:41.979Z"
   },
   {
    "duration": 21,
    "start_time": "2023-03-14T19:58:41.991Z"
   },
   {
    "duration": 344,
    "start_time": "2023-03-14T19:58:42.014Z"
   },
   {
    "duration": 148,
    "start_time": "2023-03-14T19:58:52.411Z"
   },
   {
    "duration": 10,
    "start_time": "2023-03-14T19:58:53.173Z"
   },
   {
    "duration": 265,
    "start_time": "2023-03-14T19:58:53.986Z"
   },
   {
    "duration": 4,
    "start_time": "2023-03-14T19:58:55.075Z"
   },
   {
    "duration": 254,
    "start_time": "2023-03-14T19:58:55.599Z"
   },
   {
    "duration": 140,
    "start_time": "2023-03-14T19:59:03.298Z"
   },
   {
    "duration": 8,
    "start_time": "2023-03-14T19:59:03.835Z"
   },
   {
    "duration": 4,
    "start_time": "2023-03-14T19:59:04.498Z"
   },
   {
    "duration": 227,
    "start_time": "2023-03-14T19:59:04.986Z"
   },
   {
    "duration": 1255,
    "start_time": "2023-03-14T19:59:20.162Z"
   },
   {
    "duration": 14,
    "start_time": "2023-03-14T19:59:21.420Z"
   },
   {
    "duration": 228,
    "start_time": "2023-03-14T19:59:21.436Z"
   },
   {
    "duration": 250,
    "start_time": "2023-03-14T20:00:15.954Z"
   },
   {
    "duration": 209,
    "start_time": "2023-03-14T20:00:38.717Z"
   },
   {
    "duration": 1320,
    "start_time": "2023-03-14T20:01:06.593Z"
   },
   {
    "duration": 13,
    "start_time": "2023-03-14T20:01:07.915Z"
   },
   {
    "duration": 191,
    "start_time": "2023-03-14T20:01:12.342Z"
   },
   {
    "duration": 154,
    "start_time": "2023-03-14T20:01:26.056Z"
   },
   {
    "duration": 196,
    "start_time": "2023-03-14T20:01:27.970Z"
   },
   {
    "duration": 325,
    "start_time": "2023-03-14T20:01:44.706Z"
   },
   {
    "duration": 612,
    "start_time": "2023-03-14T20:01:51.919Z"
   },
   {
    "duration": 177,
    "start_time": "2023-03-14T20:02:16.670Z"
   },
   {
    "duration": 198,
    "start_time": "2023-03-14T20:02:40.947Z"
   },
   {
    "duration": 140,
    "start_time": "2023-03-14T20:02:54.034Z"
   },
   {
    "duration": 133,
    "start_time": "2023-03-14T20:03:09.846Z"
   },
   {
    "duration": 195,
    "start_time": "2023-03-14T20:03:14.635Z"
   },
   {
    "duration": 5482,
    "start_time": "2023-03-14T20:04:14.425Z"
   },
   {
    "duration": 5652,
    "start_time": "2023-03-14T20:04:33.290Z"
   },
   {
    "duration": 5760,
    "start_time": "2023-03-14T20:06:11.827Z"
   },
   {
    "duration": 5894,
    "start_time": "2023-03-14T20:06:26.305Z"
   },
   {
    "duration": 5680,
    "start_time": "2023-03-14T20:06:51.744Z"
   },
   {
    "duration": 5677,
    "start_time": "2023-03-14T20:07:04.709Z"
   },
   {
    "duration": 1053,
    "start_time": "2023-03-14T20:07:13.732Z"
   },
   {
    "duration": 5480,
    "start_time": "2023-03-14T20:08:12.147Z"
   },
   {
    "duration": 5748,
    "start_time": "2023-03-14T20:08:24.041Z"
   },
   {
    "duration": 5686,
    "start_time": "2023-03-14T20:09:00.111Z"
   },
   {
    "duration": 5509,
    "start_time": "2023-03-14T20:09:27.687Z"
   },
   {
    "duration": 5809,
    "start_time": "2023-03-14T20:09:39.424Z"
   },
   {
    "duration": 1941,
    "start_time": "2023-03-14T20:10:40.354Z"
   },
   {
    "duration": 2012,
    "start_time": "2023-03-14T20:10:51.015Z"
   },
   {
    "duration": 201,
    "start_time": "2023-03-14T20:11:30.217Z"
   },
   {
    "duration": 15,
    "start_time": "2023-03-14T20:12:54.710Z"
   },
   {
    "duration": 5,
    "start_time": "2023-03-14T20:12:58.221Z"
   },
   {
    "duration": 6,
    "start_time": "2023-03-14T20:13:07.171Z"
   },
   {
    "duration": 19,
    "start_time": "2023-03-14T20:13:12.034Z"
   },
   {
    "duration": 13,
    "start_time": "2023-03-14T20:13:17.583Z"
   },
   {
    "duration": 192,
    "start_time": "2023-03-14T20:13:35.210Z"
   },
   {
    "duration": 25,
    "start_time": "2023-03-14T20:13:58.637Z"
   },
   {
    "duration": 15,
    "start_time": "2023-03-14T20:14:01.885Z"
   },
   {
    "duration": 156,
    "start_time": "2023-03-14T20:15:24.215Z"
   },
   {
    "duration": 245,
    "start_time": "2023-03-14T20:15:56.191Z"
   },
   {
    "duration": 234,
    "start_time": "2023-03-14T20:16:14.906Z"
   },
   {
    "duration": 9,
    "start_time": "2023-03-14T20:17:39.747Z"
   },
   {
    "duration": 17,
    "start_time": "2023-03-14T20:17:50.674Z"
   },
   {
    "duration": 5,
    "start_time": "2023-03-14T20:18:27.685Z"
   },
   {
    "duration": 12,
    "start_time": "2023-03-14T20:18:40.676Z"
   },
   {
    "duration": 23,
    "start_time": "2023-03-14T20:18:51.910Z"
   },
   {
    "duration": 20,
    "start_time": "2023-03-14T20:19:31.880Z"
   },
   {
    "duration": 11,
    "start_time": "2023-03-14T20:19:39.149Z"
   },
   {
    "duration": 10,
    "start_time": "2023-03-14T20:20:03.175Z"
   },
   {
    "duration": 9,
    "start_time": "2023-03-14T20:20:05.026Z"
   },
   {
    "duration": 5,
    "start_time": "2023-03-14T20:20:10.430Z"
   },
   {
    "duration": 12,
    "start_time": "2023-03-14T20:20:19.000Z"
   },
   {
    "duration": 51,
    "start_time": "2023-03-14T20:21:25.767Z"
   },
   {
    "duration": 7,
    "start_time": "2023-03-14T20:21:33.029Z"
   },
   {
    "duration": 380,
    "start_time": "2023-03-14T20:21:37.803Z"
   },
   {
    "duration": 5,
    "start_time": "2023-03-14T20:22:59.809Z"
   },
   {
    "duration": 7,
    "start_time": "2023-03-14T20:23:48.901Z"
   },
   {
    "duration": 14,
    "start_time": "2023-03-14T20:23:53.612Z"
   },
   {
    "duration": 15,
    "start_time": "2023-03-14T20:23:57.336Z"
   },
   {
    "duration": 26,
    "start_time": "2023-03-14T20:24:08.975Z"
   },
   {
    "duration": 6,
    "start_time": "2023-03-14T20:24:27.755Z"
   },
   {
    "duration": 16,
    "start_time": "2023-03-14T20:24:28.613Z"
   },
   {
    "duration": 15,
    "start_time": "2023-03-14T20:25:30.603Z"
   },
   {
    "duration": 14,
    "start_time": "2023-03-14T20:25:31.191Z"
   },
   {
    "duration": 15,
    "start_time": "2023-03-14T20:25:33.067Z"
   },
   {
    "duration": 29,
    "start_time": "2023-03-14T20:25:38.928Z"
   },
   {
    "duration": 13,
    "start_time": "2023-03-14T20:25:39.504Z"
   },
   {
    "duration": 14,
    "start_time": "2023-03-14T20:26:05.491Z"
   },
   {
    "duration": 21,
    "start_time": "2023-03-14T20:26:14.892Z"
   },
   {
    "duration": 11,
    "start_time": "2023-03-14T20:26:19.241Z"
   },
   {
    "duration": 30,
    "start_time": "2023-03-14T20:27:10.408Z"
   },
   {
    "duration": 13,
    "start_time": "2023-03-14T20:27:10.918Z"
   },
   {
    "duration": 22,
    "start_time": "2023-03-14T20:27:36.854Z"
   },
   {
    "duration": 28,
    "start_time": "2023-03-14T20:28:10.719Z"
   },
   {
    "duration": 19,
    "start_time": "2023-03-14T20:28:14.778Z"
   },
   {
    "duration": 229,
    "start_time": "2023-03-14T20:28:25.259Z"
   },
   {
    "duration": 150,
    "start_time": "2023-03-14T20:28:37.075Z"
   },
   {
    "duration": 207,
    "start_time": "2023-03-14T20:28:41.197Z"
   },
   {
    "duration": 59,
    "start_time": "2023-03-14T20:33:53.579Z"
   },
   {
    "duration": 8,
    "start_time": "2023-03-14T20:33:54.582Z"
   },
   {
    "duration": 103,
    "start_time": "2023-03-14T20:35:03.582Z"
   },
   {
    "duration": 23,
    "start_time": "2023-03-14T20:35:06.812Z"
   },
   {
    "duration": 110,
    "start_time": "2023-03-14T20:36:22.748Z"
   },
   {
    "duration": 96,
    "start_time": "2023-03-14T20:36:39.176Z"
   },
   {
    "duration": 88,
    "start_time": "2023-03-14T20:36:58.309Z"
   },
   {
    "duration": 13,
    "start_time": "2023-03-14T20:37:00.697Z"
   },
   {
    "duration": 567,
    "start_time": "2023-03-14T20:37:44.950Z"
   },
   {
    "duration": 15,
    "start_time": "2023-03-14T20:37:46.737Z"
   },
   {
    "duration": 88,
    "start_time": "2023-03-14T20:38:29.341Z"
   },
   {
    "duration": 8,
    "start_time": "2023-03-14T20:38:31.441Z"
   },
   {
    "duration": 98,
    "start_time": "2023-03-14T20:38:52.464Z"
   },
   {
    "duration": 9,
    "start_time": "2023-03-14T20:38:54.325Z"
   },
   {
    "duration": 100,
    "start_time": "2023-03-14T20:41:08.382Z"
   },
   {
    "duration": 94,
    "start_time": "2023-03-14T20:41:23.197Z"
   },
   {
    "duration": 7,
    "start_time": "2023-03-14T20:41:25.534Z"
   },
   {
    "duration": 123,
    "start_time": "2023-03-14T20:42:03.950Z"
   },
   {
    "duration": 101,
    "start_time": "2023-03-14T20:42:06.480Z"
   },
   {
    "duration": 110,
    "start_time": "2023-03-14T20:42:39.587Z"
   },
   {
    "duration": 90,
    "start_time": "2023-03-14T20:42:56.241Z"
   },
   {
    "duration": 7,
    "start_time": "2023-03-14T20:42:58.427Z"
   },
   {
    "duration": 92,
    "start_time": "2023-03-14T20:43:23.191Z"
   },
   {
    "duration": 8,
    "start_time": "2023-03-14T20:43:24.988Z"
   },
   {
    "duration": 111,
    "start_time": "2023-03-14T20:44:33.673Z"
   },
   {
    "duration": 103,
    "start_time": "2023-03-14T20:45:09.401Z"
   },
   {
    "duration": 111,
    "start_time": "2023-03-14T20:45:13.917Z"
   },
   {
    "duration": 199,
    "start_time": "2023-03-14T20:45:41.407Z"
   },
   {
    "duration": 73,
    "start_time": "2023-03-14T20:45:44.208Z"
   },
   {
    "duration": 10,
    "start_time": "2023-03-14T20:45:45.860Z"
   },
   {
    "duration": 106,
    "start_time": "2023-03-14T20:46:04.244Z"
   },
   {
    "duration": 114,
    "start_time": "2023-03-14T20:46:22.695Z"
   },
   {
    "duration": 120,
    "start_time": "2023-03-14T20:46:39.058Z"
   },
   {
    "duration": 75,
    "start_time": "2023-03-14T20:46:46.659Z"
   },
   {
    "duration": 8,
    "start_time": "2023-03-14T20:46:48.420Z"
   },
   {
    "duration": 97,
    "start_time": "2023-03-14T20:47:06.496Z"
   },
   {
    "duration": 333,
    "start_time": "2023-03-14T20:47:11.222Z"
   },
   {
    "duration": 13,
    "start_time": "2023-03-14T20:47:13.011Z"
   },
   {
    "duration": 61,
    "start_time": "2023-03-14T20:47:44.299Z"
   },
   {
    "duration": 7,
    "start_time": "2023-03-14T20:47:47.096Z"
   },
   {
    "duration": 68,
    "start_time": "2023-03-14T20:48:25.223Z"
   },
   {
    "duration": 8,
    "start_time": "2023-03-14T20:48:27.182Z"
   },
   {
    "duration": 111,
    "start_time": "2023-03-14T20:48:43.823Z"
   },
   {
    "duration": 105,
    "start_time": "2023-03-14T20:49:11.078Z"
   },
   {
    "duration": 105,
    "start_time": "2023-03-14T20:49:20.699Z"
   },
   {
    "duration": 107,
    "start_time": "2023-03-14T20:49:51.063Z"
   },
   {
    "duration": 122,
    "start_time": "2023-03-14T20:50:02.288Z"
   },
   {
    "duration": 144,
    "start_time": "2023-03-14T20:50:09.039Z"
   },
   {
    "duration": 103,
    "start_time": "2023-03-14T20:50:19.278Z"
   },
   {
    "duration": 109,
    "start_time": "2023-03-14T20:50:27.270Z"
   },
   {
    "duration": 103,
    "start_time": "2023-03-14T20:50:51.171Z"
   },
   {
    "duration": 107,
    "start_time": "2023-03-14T20:51:03.104Z"
   },
   {
    "duration": 72,
    "start_time": "2023-03-14T20:51:16.316Z"
   },
   {
    "duration": 7,
    "start_time": "2023-03-14T20:51:17.982Z"
   },
   {
    "duration": 92,
    "start_time": "2023-03-14T20:51:37.542Z"
   },
   {
    "duration": 8,
    "start_time": "2023-03-14T20:51:39.340Z"
   },
   {
    "duration": 88,
    "start_time": "2023-03-14T20:51:59.704Z"
   },
   {
    "duration": 8,
    "start_time": "2023-03-14T20:52:01.480Z"
   },
   {
    "duration": 449,
    "start_time": "2023-03-14T20:53:05.006Z"
   },
   {
    "duration": 8,
    "start_time": "2023-03-14T20:53:06.607Z"
   },
   {
    "duration": 112,
    "start_time": "2023-03-14T20:53:26.446Z"
   },
   {
    "duration": 96,
    "start_time": "2023-03-14T20:53:28.259Z"
   },
   {
    "duration": 66,
    "start_time": "2023-03-14T20:55:48.652Z"
   },
   {
    "duration": 8,
    "start_time": "2023-03-14T20:55:53.216Z"
   },
   {
    "duration": 1492,
    "start_time": "2023-03-14T20:57:01.629Z"
   },
   {
    "duration": 16,
    "start_time": "2023-03-14T20:57:03.191Z"
   },
   {
    "duration": 19,
    "start_time": "2023-03-14T21:00:11.237Z"
   },
   {
    "duration": 12,
    "start_time": "2023-03-14T21:00:16.798Z"
   },
   {
    "duration": 91,
    "start_time": "2023-03-14T21:00:35.829Z"
   },
   {
    "duration": 12,
    "start_time": "2023-03-14T21:00:36.399Z"
   },
   {
    "duration": 104,
    "start_time": "2023-03-14T21:01:04.499Z"
   },
   {
    "duration": 87,
    "start_time": "2023-03-14T21:01:13.250Z"
   },
   {
    "duration": 88,
    "start_time": "2023-03-14T21:01:22.337Z"
   },
   {
    "duration": 15,
    "start_time": "2023-03-14T21:01:22.502Z"
   },
   {
    "duration": 5,
    "start_time": "2023-03-14T21:01:25.688Z"
   },
   {
    "duration": 13,
    "start_time": "2023-03-14T21:01:32.277Z"
   },
   {
    "duration": 7,
    "start_time": "2023-03-14T21:01:47.454Z"
   },
   {
    "duration": 5,
    "start_time": "2023-03-14T21:01:50.177Z"
   },
   {
    "duration": 5,
    "start_time": "2023-03-14T21:01:58.888Z"
   },
   {
    "duration": 142,
    "start_time": "2023-03-14T21:02:05.363Z"
   },
   {
    "duration": 148,
    "start_time": "2023-03-14T21:02:30.890Z"
   },
   {
    "duration": 124,
    "start_time": "2023-03-14T21:02:33.127Z"
   },
   {
    "duration": 123,
    "start_time": "2023-03-14T21:02:36.490Z"
   },
   {
    "duration": 25,
    "start_time": "2023-03-14T21:03:23.388Z"
   },
   {
    "duration": 10,
    "start_time": "2023-03-14T21:04:06.820Z"
   },
   {
    "duration": 214,
    "start_time": "2023-03-14T21:04:10.044Z"
   },
   {
    "duration": 200,
    "start_time": "2023-03-14T21:05:33.112Z"
   },
   {
    "duration": 762,
    "start_time": "2023-03-14T21:06:33.114Z"
   },
   {
    "duration": 210,
    "start_time": "2023-03-14T21:06:46.402Z"
   },
   {
    "duration": 26,
    "start_time": "2023-03-14T21:07:03.702Z"
   },
   {
    "duration": 151,
    "start_time": "2023-03-14T21:07:12.153Z"
   },
   {
    "duration": 227,
    "start_time": "2023-03-14T21:07:16.917Z"
   },
   {
    "duration": 25,
    "start_time": "2023-03-14T21:07:27.128Z"
   },
   {
    "duration": 25,
    "start_time": "2023-03-14T21:07:32.254Z"
   },
   {
    "duration": 34,
    "start_time": "2023-03-14T21:07:45.892Z"
   },
   {
    "duration": 31,
    "start_time": "2023-03-14T21:07:49.217Z"
   },
   {
    "duration": 812,
    "start_time": "2023-03-14T21:08:05.442Z"
   },
   {
    "duration": 26,
    "start_time": "2023-03-14T21:08:09.067Z"
   },
   {
    "duration": 26,
    "start_time": "2023-03-14T21:08:49.769Z"
   },
   {
    "duration": 29,
    "start_time": "2023-03-14T21:09:08.756Z"
   },
   {
    "duration": 26,
    "start_time": "2023-03-14T21:09:12.257Z"
   },
   {
    "duration": 28,
    "start_time": "2023-03-14T21:09:17.957Z"
   },
   {
    "duration": 226,
    "start_time": "2023-03-14T21:09:30.959Z"
   },
   {
    "duration": 302,
    "start_time": "2023-03-14T21:10:02.410Z"
   },
   {
    "duration": 10,
    "start_time": "2023-03-14T21:10:02.879Z"
   },
   {
    "duration": 51,
    "start_time": "2023-03-14T21:10:05.334Z"
   },
   {
    "duration": 281,
    "start_time": "2023-03-14T21:10:06.684Z"
   },
   {
    "duration": 11,
    "start_time": "2023-03-14T21:10:47.675Z"
   },
   {
    "duration": 11,
    "start_time": "2023-03-14T21:10:50.376Z"
   },
   {
    "duration": 9,
    "start_time": "2023-03-14T21:10:56.450Z"
   },
   {
    "duration": 12,
    "start_time": "2023-03-14T21:11:03.637Z"
   },
   {
    "duration": 18,
    "start_time": "2023-03-14T21:11:23.812Z"
   },
   {
    "duration": 27,
    "start_time": "2023-03-14T21:11:38.487Z"
   },
   {
    "duration": 240,
    "start_time": "2023-03-14T21:11:42.400Z"
   },
   {
    "duration": 186,
    "start_time": "2023-03-14T21:12:01.917Z"
   },
   {
    "duration": 13,
    "start_time": "2023-03-14T21:12:19.704Z"
   },
   {
    "duration": 11,
    "start_time": "2023-03-14T21:12:32.277Z"
   },
   {
    "duration": 35,
    "start_time": "2023-03-14T21:12:48.240Z"
   },
   {
    "duration": 22,
    "start_time": "2023-03-14T21:12:50.477Z"
   },
   {
    "duration": 9,
    "start_time": "2023-03-14T21:13:08.040Z"
   },
   {
    "duration": 212,
    "start_time": "2023-03-14T21:13:44.778Z"
   },
   {
    "duration": 9,
    "start_time": "2023-03-14T21:14:18.443Z"
   },
   {
    "duration": 222,
    "start_time": "2023-03-14T21:14:27.133Z"
   },
   {
    "duration": 727,
    "start_time": "2023-03-14T21:15:13.895Z"
   },
   {
    "duration": 775,
    "start_time": "2023-03-14T21:15:19.933Z"
   },
   {
    "duration": 322,
    "start_time": "2023-03-14T21:16:51.333Z"
   },
   {
    "duration": 10,
    "start_time": "2023-03-14T21:16:53.796Z"
   },
   {
    "duration": 731,
    "start_time": "2023-03-14T21:17:04.958Z"
   },
   {
    "duration": 1125,
    "start_time": "2023-03-14T21:17:15.522Z"
   },
   {
    "duration": 6778,
    "start_time": "2023-03-14T21:17:35.884Z"
   },
   {
    "duration": 148,
    "start_time": "2023-03-14T21:18:03.887Z"
   },
   {
    "duration": 162,
    "start_time": "2023-03-14T21:18:11.337Z"
   },
   {
    "duration": 36,
    "start_time": "2023-03-14T21:19:06.026Z"
   },
   {
    "duration": 250,
    "start_time": "2023-03-14T21:19:13.203Z"
   },
   {
    "duration": 132,
    "start_time": "2023-03-14T21:20:05.341Z"
   },
   {
    "duration": 482,
    "start_time": "2023-03-14T21:21:09.156Z"
   },
   {
    "duration": 11,
    "start_time": "2023-03-14T21:21:14.094Z"
   },
   {
    "duration": 492,
    "start_time": "2023-03-14T21:21:59.999Z"
   },
   {
    "duration": 12,
    "start_time": "2023-03-14T21:22:00.633Z"
   },
   {
    "duration": 519,
    "start_time": "2023-03-14T21:22:22.858Z"
   },
   {
    "duration": 17,
    "start_time": "2023-03-14T21:22:25.334Z"
   },
   {
    "duration": 490,
    "start_time": "2023-03-14T21:22:57.559Z"
   },
   {
    "duration": 10,
    "start_time": "2023-03-14T21:22:58.209Z"
   },
   {
    "duration": 472,
    "start_time": "2023-03-14T21:23:09.421Z"
   },
   {
    "duration": 10,
    "start_time": "2023-03-14T21:23:09.895Z"
   },
   {
    "duration": 697,
    "start_time": "2023-03-14T21:23:29.335Z"
   },
   {
    "duration": 0,
    "start_time": "2023-03-14T21:23:30.035Z"
   },
   {
    "duration": 727,
    "start_time": "2023-03-14T21:23:54.861Z"
   },
   {
    "duration": 737,
    "start_time": "2023-03-14T21:24:17.538Z"
   },
   {
    "duration": 819,
    "start_time": "2023-03-14T21:24:24.650Z"
   },
   {
    "duration": 552,
    "start_time": "2023-03-14T21:24:31.288Z"
   },
   {
    "duration": 16,
    "start_time": "2023-03-14T21:24:31.849Z"
   },
   {
    "duration": 4,
    "start_time": "2023-03-14T21:24:37.000Z"
   },
   {
    "duration": 13,
    "start_time": "2023-03-14T21:24:40.437Z"
   },
   {
    "duration": 703,
    "start_time": "2023-03-14T21:25:07.415Z"
   },
   {
    "duration": 0,
    "start_time": "2023-03-14T21:25:08.120Z"
   },
   {
    "duration": 492,
    "start_time": "2023-03-14T21:25:40.114Z"
   },
   {
    "duration": 696,
    "start_time": "2023-03-14T21:25:49.503Z"
   },
   {
    "duration": 676,
    "start_time": "2023-03-14T21:25:52.703Z"
   },
   {
    "duration": 14,
    "start_time": "2023-03-14T21:25:53.566Z"
   },
   {
    "duration": 346,
    "start_time": "2023-03-14T21:26:52.933Z"
   },
   {
    "duration": 11,
    "start_time": "2023-03-14T21:26:53.931Z"
   },
   {
    "duration": 143,
    "start_time": "2023-03-14T21:27:03.407Z"
   },
   {
    "duration": 134,
    "start_time": "2023-03-14T21:27:07.990Z"
   },
   {
    "duration": 151,
    "start_time": "2023-03-14T21:27:17.469Z"
   },
   {
    "duration": 177,
    "start_time": "2023-03-14T21:27:22.169Z"
   },
   {
    "duration": 894,
    "start_time": "2023-03-14T21:27:37.421Z"
   },
   {
    "duration": 138,
    "start_time": "2023-03-14T21:27:40.220Z"
   },
   {
    "duration": 145,
    "start_time": "2023-03-14T21:28:53.861Z"
   },
   {
    "duration": 10,
    "start_time": "2023-03-14T21:28:56.836Z"
   },
   {
    "duration": 129,
    "start_time": "2023-03-14T21:29:06.412Z"
   },
   {
    "duration": 139,
    "start_time": "2023-03-14T21:29:45.414Z"
   },
   {
    "duration": 533,
    "start_time": "2023-03-14T21:30:21.164Z"
   },
   {
    "duration": 16,
    "start_time": "2023-03-14T21:30:22.439Z"
   },
   {
    "duration": 128,
    "start_time": "2023-03-14T21:33:49.789Z"
   },
   {
    "duration": 496,
    "start_time": "2023-03-14T21:34:17.263Z"
   },
   {
    "duration": 21,
    "start_time": "2023-03-14T21:34:17.761Z"
   },
   {
    "duration": 10,
    "start_time": "2023-03-14T21:34:32.714Z"
   },
   {
    "duration": 14,
    "start_time": "2023-03-14T21:34:34.666Z"
   },
   {
    "duration": 12,
    "start_time": "2023-03-14T21:34:59.879Z"
   },
   {
    "duration": 10,
    "start_time": "2023-03-14T21:35:14.842Z"
   },
   {
    "duration": 483,
    "start_time": "2023-03-14T21:36:02.630Z"
   },
   {
    "duration": 6,
    "start_time": "2023-03-14T21:36:03.115Z"
   },
   {
    "duration": 1125,
    "start_time": "2023-03-14T21:36:25.793Z"
   },
   {
    "duration": 181,
    "start_time": "2023-03-14T21:36:40.707Z"
   },
   {
    "duration": 160,
    "start_time": "2023-03-14T21:37:31.189Z"
   },
   {
    "duration": 161,
    "start_time": "2023-03-14T21:37:40.759Z"
   },
   {
    "duration": 156,
    "start_time": "2023-03-14T21:37:43.298Z"
   },
   {
    "duration": 189,
    "start_time": "2023-03-14T21:38:13.724Z"
   },
   {
    "duration": 142,
    "start_time": "2023-03-14T21:38:30.611Z"
   },
   {
    "duration": 183,
    "start_time": "2023-03-14T21:39:09.151Z"
   },
   {
    "duration": 142,
    "start_time": "2023-03-14T21:39:57.591Z"
   },
   {
    "duration": 171,
    "start_time": "2023-03-14T21:40:05.792Z"
   },
   {
    "duration": 143,
    "start_time": "2023-03-14T21:41:23.707Z"
   },
   {
    "duration": 160,
    "start_time": "2023-03-14T21:41:44.577Z"
   },
   {
    "duration": 130,
    "start_time": "2023-03-14T21:41:51.820Z"
   },
   {
    "duration": 150,
    "start_time": "2023-03-14T21:41:59.058Z"
   },
   {
    "duration": 142,
    "start_time": "2023-03-14T21:42:08.196Z"
   },
   {
    "duration": 146,
    "start_time": "2023-03-14T21:42:15.234Z"
   },
   {
    "duration": 153,
    "start_time": "2023-03-14T21:42:21.953Z"
   },
   {
    "duration": 136,
    "start_time": "2023-03-14T21:42:33.209Z"
   },
   {
    "duration": 156,
    "start_time": "2023-03-14T21:44:32.790Z"
   },
   {
    "duration": 52,
    "start_time": "2023-03-14T21:48:36.140Z"
   },
   {
    "duration": 61,
    "start_time": "2023-03-14T21:48:52.265Z"
   },
   {
    "duration": 314,
    "start_time": "2023-03-14T21:49:00.666Z"
   },
   {
    "duration": 128,
    "start_time": "2023-03-14T21:49:18.690Z"
   },
   {
    "duration": 134,
    "start_time": "2023-03-14T21:49:29.596Z"
   },
   {
    "duration": 52,
    "start_time": "2023-03-14T21:49:51.867Z"
   },
   {
    "duration": 134,
    "start_time": "2023-03-14T21:50:39.895Z"
   },
   {
    "duration": 133,
    "start_time": "2023-03-14T21:51:41.172Z"
   },
   {
    "duration": 140,
    "start_time": "2023-03-14T21:52:00.048Z"
   },
   {
    "duration": 126,
    "start_time": "2023-03-14T21:52:04.189Z"
   },
   {
    "duration": 117,
    "start_time": "2023-03-14T21:54:00.691Z"
   },
   {
    "duration": 132,
    "start_time": "2023-03-14T21:54:43.320Z"
   },
   {
    "duration": 55,
    "start_time": "2023-03-14T21:55:30.008Z"
   },
   {
    "duration": 128,
    "start_time": "2023-03-14T21:55:35.070Z"
   },
   {
    "duration": 135,
    "start_time": "2023-03-14T21:55:44.695Z"
   },
   {
    "duration": 140,
    "start_time": "2023-03-14T21:55:48.934Z"
   },
   {
    "duration": 123,
    "start_time": "2023-03-14T21:55:52.790Z"
   },
   {
    "duration": 183,
    "start_time": "2023-03-14T21:56:07.921Z"
   },
   {
    "duration": 184,
    "start_time": "2023-03-14T21:56:31.922Z"
   },
   {
    "duration": 114,
    "start_time": "2023-03-14T22:00:28.966Z"
   },
   {
    "duration": 10,
    "start_time": "2023-03-14T22:00:29.591Z"
   },
   {
    "duration": 135,
    "start_time": "2023-03-14T22:01:23.192Z"
   },
   {
    "duration": 109,
    "start_time": "2023-03-14T22:01:43.032Z"
   },
   {
    "duration": 275,
    "start_time": "2023-03-14T22:02:53.674Z"
   },
   {
    "duration": 233,
    "start_time": "2023-03-14T22:03:55.048Z"
   },
   {
    "duration": 417,
    "start_time": "2023-03-14T22:04:00.650Z"
   },
   {
    "duration": 229,
    "start_time": "2023-03-14T22:04:19.150Z"
   },
   {
    "duration": 227,
    "start_time": "2023-03-14T22:04:33.050Z"
   },
   {
    "duration": 173,
    "start_time": "2023-03-14T22:04:56.252Z"
   },
   {
    "duration": 113,
    "start_time": "2023-03-14T22:05:14.416Z"
   },
   {
    "duration": 174,
    "start_time": "2023-03-14T22:05:28.915Z"
   },
   {
    "duration": 111,
    "start_time": "2023-03-14T22:05:36.066Z"
   },
   {
    "duration": 129,
    "start_time": "2023-03-14T22:05:59.967Z"
   },
   {
    "duration": 155,
    "start_time": "2023-03-14T22:06:04.655Z"
   },
   {
    "duration": 112,
    "start_time": "2023-03-14T22:06:09.480Z"
   },
   {
    "duration": 135,
    "start_time": "2023-03-14T22:06:19.194Z"
   },
   {
    "duration": 276,
    "start_time": "2023-03-14T22:08:37.286Z"
   },
   {
    "duration": 9,
    "start_time": "2023-03-14T22:08:38.059Z"
   },
   {
    "duration": 98,
    "start_time": "2023-03-14T22:26:11.662Z"
   },
   {
    "duration": 301,
    "start_time": "2023-03-14T22:26:27.246Z"
   },
   {
    "duration": 11,
    "start_time": "2023-03-14T22:26:29.502Z"
   },
   {
    "duration": 178,
    "start_time": "2023-03-14T22:27:06.165Z"
   },
   {
    "duration": 13,
    "start_time": "2023-03-14T22:27:08.339Z"
   },
   {
    "duration": 177,
    "start_time": "2023-03-14T22:27:50.554Z"
   },
   {
    "duration": 12,
    "start_time": "2023-03-14T22:27:52.470Z"
   },
   {
    "duration": 192,
    "start_time": "2023-03-14T22:29:38.097Z"
   },
   {
    "duration": 12,
    "start_time": "2023-03-14T22:29:39.846Z"
   },
   {
    "duration": 299,
    "start_time": "2023-03-14T22:29:53.298Z"
   },
   {
    "duration": 11,
    "start_time": "2023-03-14T22:29:53.721Z"
   },
   {
    "duration": 142,
    "start_time": "2023-03-14T22:30:16.737Z"
   },
   {
    "duration": 203,
    "start_time": "2023-03-14T22:30:24.287Z"
   },
   {
    "duration": 9,
    "start_time": "2023-03-14T22:30:27.235Z"
   },
   {
    "duration": 101,
    "start_time": "2023-03-14T22:32:07.941Z"
   },
   {
    "duration": 215,
    "start_time": "2023-03-14T22:32:11.166Z"
   },
   {
    "duration": 12,
    "start_time": "2023-03-14T22:32:13.115Z"
   },
   {
    "duration": 329,
    "start_time": "2023-03-14T22:32:20.029Z"
   },
   {
    "duration": 236,
    "start_time": "2023-03-14T22:32:23.468Z"
   },
   {
    "duration": 11,
    "start_time": "2023-03-14T22:32:24.027Z"
   },
   {
    "duration": 96,
    "start_time": "2023-03-14T22:33:33.056Z"
   },
   {
    "duration": 97,
    "start_time": "2023-03-14T22:34:06.635Z"
   },
   {
    "duration": 112,
    "start_time": "2023-03-14T22:34:25.110Z"
   },
   {
    "duration": 111,
    "start_time": "2023-03-14T22:34:33.314Z"
   },
   {
    "duration": 10,
    "start_time": "2023-03-14T22:34:35.047Z"
   },
   {
    "duration": 115,
    "start_time": "2023-03-14T22:35:00.449Z"
   },
   {
    "duration": 11,
    "start_time": "2023-03-14T22:35:01.211Z"
   },
   {
    "duration": 117,
    "start_time": "2023-03-14T22:35:09.800Z"
   },
   {
    "duration": 11,
    "start_time": "2023-03-14T22:35:10.196Z"
   },
   {
    "duration": 107,
    "start_time": "2023-03-14T22:37:39.755Z"
   },
   {
    "duration": 106,
    "start_time": "2023-03-14T22:37:42.017Z"
   },
   {
    "duration": 154,
    "start_time": "2023-03-14T22:39:01.610Z"
   },
   {
    "duration": 110,
    "start_time": "2023-03-14T22:39:12.224Z"
   },
   {
    "duration": 99,
    "start_time": "2023-03-14T22:39:42.899Z"
   },
   {
    "duration": 157,
    "start_time": "2023-03-14T22:39:53.137Z"
   },
   {
    "duration": 298,
    "start_time": "2023-03-14T22:40:30.964Z"
   },
   {
    "duration": 14,
    "start_time": "2023-03-14T22:40:32.720Z"
   },
   {
    "duration": 285,
    "start_time": "2023-03-14T22:41:04.929Z"
   },
   {
    "duration": 11,
    "start_time": "2023-03-14T22:41:05.702Z"
   },
   {
    "duration": 99,
    "start_time": "2023-03-14T22:41:58.666Z"
   },
   {
    "duration": 93,
    "start_time": "2023-03-14T22:42:27.867Z"
   },
   {
    "duration": 185,
    "start_time": "2023-03-14T22:42:38.317Z"
   },
   {
    "duration": 9,
    "start_time": "2023-03-14T22:42:39.380Z"
   },
   {
    "duration": 186,
    "start_time": "2023-03-14T22:43:17.409Z"
   },
   {
    "duration": 11,
    "start_time": "2023-03-14T22:43:18.132Z"
   },
   {
    "duration": 99,
    "start_time": "2023-03-14T22:43:58.358Z"
   },
   {
    "duration": 196,
    "start_time": "2023-03-14T22:44:30.701Z"
   },
   {
    "duration": 13,
    "start_time": "2023-03-14T22:44:31.523Z"
   },
   {
    "duration": 7,
    "start_time": "2023-03-14T22:45:26.675Z"
   },
   {
    "duration": 13,
    "start_time": "2023-03-14T22:45:50.375Z"
   },
   {
    "duration": 559,
    "start_time": "2023-03-14T22:46:11.689Z"
   },
   {
    "duration": 437,
    "start_time": "2023-03-14T22:46:18.842Z"
   },
   {
    "duration": 389,
    "start_time": "2023-03-14T22:46:31.178Z"
   },
   {
    "duration": 356,
    "start_time": "2023-03-14T22:46:36.965Z"
   },
   {
    "duration": 139,
    "start_time": "2023-03-14T22:48:52.648Z"
   },
   {
    "duration": 104,
    "start_time": "2023-03-14T22:48:57.399Z"
   },
   {
    "duration": 389,
    "start_time": "2023-03-14T22:49:15.225Z"
   },
   {
    "duration": 11,
    "start_time": "2023-03-14T22:49:21.512Z"
   },
   {
    "duration": 382,
    "start_time": "2023-03-14T22:49:37.137Z"
   },
   {
    "duration": 12,
    "start_time": "2023-03-14T22:49:37.936Z"
   },
   {
    "duration": 117,
    "start_time": "2023-03-14T22:50:35.416Z"
   },
   {
    "duration": 388,
    "start_time": "2023-03-14T22:50:42.592Z"
   },
   {
    "duration": 12,
    "start_time": "2023-03-14T22:50:49.115Z"
   },
   {
    "duration": 100,
    "start_time": "2023-03-14T22:52:31.907Z"
   },
   {
    "duration": 116,
    "start_time": "2023-03-14T22:52:48.834Z"
   },
   {
    "duration": 100,
    "start_time": "2023-03-14T22:53:00.947Z"
   },
   {
    "duration": 95,
    "start_time": "2023-03-14T22:53:59.737Z"
   },
   {
    "duration": 103,
    "start_time": "2023-03-14T22:54:49.190Z"
   },
   {
    "duration": 55478,
    "start_time": "2023-03-14T22:55:00.915Z"
   },
   {
    "duration": 13,
    "start_time": "2023-03-14T22:55:56.396Z"
   },
   {
    "duration": 100,
    "start_time": "2023-03-14T22:56:36.496Z"
   },
   {
    "duration": 404,
    "start_time": "2023-03-14T22:56:39.770Z"
   },
   {
    "duration": 11,
    "start_time": "2023-03-14T22:56:41.269Z"
   },
   {
    "duration": 1397,
    "start_time": "2023-03-15T04:59:38.429Z"
   },
   {
    "duration": 3,
    "start_time": "2023-03-15T04:59:39.828Z"
   },
   {
    "duration": 7600,
    "start_time": "2023-03-15T04:59:39.833Z"
   },
   {
    "duration": 45,
    "start_time": "2023-03-15T04:59:47.435Z"
   },
   {
    "duration": 13,
    "start_time": "2023-03-15T04:59:47.482Z"
   },
   {
    "duration": 206,
    "start_time": "2023-03-15T04:59:47.496Z"
   },
   {
    "duration": 6,
    "start_time": "2023-03-15T04:59:47.704Z"
   },
   {
    "duration": 3,
    "start_time": "2023-03-15T04:59:47.712Z"
   },
   {
    "duration": 255,
    "start_time": "2023-03-15T04:59:47.717Z"
   },
   {
    "duration": 120,
    "start_time": "2023-03-15T04:59:47.974Z"
   },
   {
    "duration": 10,
    "start_time": "2023-03-15T04:59:48.096Z"
   },
   {
    "duration": 273,
    "start_time": "2023-03-15T04:59:48.108Z"
   },
   {
    "duration": 3,
    "start_time": "2023-03-15T04:59:48.382Z"
   },
   {
    "duration": 232,
    "start_time": "2023-03-15T04:59:48.388Z"
   },
   {
    "duration": 107,
    "start_time": "2023-03-15T04:59:48.621Z"
   },
   {
    "duration": 7,
    "start_time": "2023-03-15T04:59:48.730Z"
   },
   {
    "duration": 5,
    "start_time": "2023-03-15T04:59:48.738Z"
   },
   {
    "duration": 260,
    "start_time": "2023-03-15T04:59:48.745Z"
   },
   {
    "duration": 1057,
    "start_time": "2023-03-15T04:59:49.011Z"
   },
   {
    "duration": 12,
    "start_time": "2023-03-15T04:59:50.070Z"
   },
   {
    "duration": 37,
    "start_time": "2023-03-15T04:59:50.083Z"
   },
   {
    "duration": 8,
    "start_time": "2023-03-15T04:59:50.121Z"
   },
   {
    "duration": 182,
    "start_time": "2023-03-15T04:59:50.130Z"
   },
   {
    "duration": 61,
    "start_time": "2023-03-15T04:59:50.314Z"
   },
   {
    "duration": 8,
    "start_time": "2023-03-15T04:59:50.377Z"
   },
   {
    "duration": 48,
    "start_time": "2023-03-15T04:59:50.386Z"
   },
   {
    "duration": 7,
    "start_time": "2023-03-15T04:59:50.436Z"
   },
   {
    "duration": 1151,
    "start_time": "2023-03-15T04:59:50.445Z"
   },
   {
    "duration": 15,
    "start_time": "2023-03-15T04:59:51.597Z"
   },
   {
    "duration": 371,
    "start_time": "2023-03-15T04:59:51.614Z"
   },
   {
    "duration": 7,
    "start_time": "2023-03-15T04:59:51.987Z"
   },
   {
    "duration": 175,
    "start_time": "2023-03-15T04:59:51.996Z"
   },
   {
    "duration": 82,
    "start_time": "2023-03-15T04:59:52.175Z"
   },
   {
    "duration": 9,
    "start_time": "2023-03-15T04:59:52.258Z"
   },
   {
    "duration": 135,
    "start_time": "2023-03-15T05:01:21.700Z"
   },
   {
    "duration": 250,
    "start_time": "2023-03-15T05:01:22.520Z"
   },
   {
    "duration": 16,
    "start_time": "2023-03-15T05:01:22.805Z"
   },
   {
    "duration": 192,
    "start_time": "2023-03-15T05:03:38.177Z"
   },
   {
    "duration": 106,
    "start_time": "2023-03-15T05:03:51.463Z"
   },
   {
    "duration": 123,
    "start_time": "2023-03-15T05:04:06.077Z"
   },
   {
    "duration": 362,
    "start_time": "2023-03-15T05:04:59.529Z"
   },
   {
    "duration": 11,
    "start_time": "2023-03-15T05:05:01.188Z"
   },
   {
    "duration": 442,
    "start_time": "2023-03-15T05:07:01.450Z"
   },
   {
    "duration": 10,
    "start_time": "2023-03-15T05:07:02.212Z"
   },
   {
    "duration": 97,
    "start_time": "2023-03-15T05:09:59.945Z"
   },
   {
    "duration": 114,
    "start_time": "2023-03-15T05:10:11.459Z"
   },
   {
    "duration": 96,
    "start_time": "2023-03-15T05:10:39.612Z"
   },
   {
    "duration": 100,
    "start_time": "2023-03-15T05:10:45.673Z"
   },
   {
    "duration": 91,
    "start_time": "2023-03-15T05:11:03.483Z"
   },
   {
    "duration": 615,
    "start_time": "2023-03-15T05:11:20.011Z"
   },
   {
    "duration": 10,
    "start_time": "2023-03-15T05:11:21.101Z"
   },
   {
    "duration": 94,
    "start_time": "2023-03-15T05:12:30.240Z"
   },
   {
    "duration": 93,
    "start_time": "2023-03-15T05:12:38.877Z"
   },
   {
    "duration": 94,
    "start_time": "2023-03-15T05:12:53.639Z"
   },
   {
    "duration": 98,
    "start_time": "2023-03-15T05:13:47.456Z"
   },
   {
    "duration": 115,
    "start_time": "2023-03-15T05:13:55.717Z"
   },
   {
    "duration": 782,
    "start_time": "2023-03-15T05:15:00.943Z"
   },
   {
    "duration": 12,
    "start_time": "2023-03-15T05:15:01.902Z"
   },
   {
    "duration": 100,
    "start_time": "2023-03-15T05:15:25.599Z"
   },
   {
    "duration": 785,
    "start_time": "2023-03-15T05:15:33.618Z"
   },
   {
    "duration": 13,
    "start_time": "2023-03-15T05:15:34.404Z"
   },
   {
    "duration": 367,
    "start_time": "2023-03-15T05:16:21.920Z"
   },
   {
    "duration": 11,
    "start_time": "2023-03-15T05:16:22.611Z"
   },
   {
    "duration": 123,
    "start_time": "2023-03-15T05:16:54.303Z"
   },
   {
    "duration": 95,
    "start_time": "2023-03-15T05:17:36.301Z"
   },
   {
    "duration": 139,
    "start_time": "2023-03-15T05:17:44.601Z"
   },
   {
    "duration": 200,
    "start_time": "2023-03-15T05:17:56.411Z"
   },
   {
    "duration": 143,
    "start_time": "2023-03-15T05:19:01.202Z"
   },
   {
    "duration": 281,
    "start_time": "2023-03-15T05:19:18.729Z"
   },
   {
    "duration": 13,
    "start_time": "2023-03-15T05:19:20.317Z"
   },
   {
    "duration": 267,
    "start_time": "2023-03-15T05:19:53.105Z"
   },
   {
    "duration": 11,
    "start_time": "2023-03-15T05:19:53.604Z"
   },
   {
    "duration": 354,
    "start_time": "2023-03-15T05:20:39.806Z"
   },
   {
    "duration": 11,
    "start_time": "2023-03-15T05:20:40.933Z"
   },
   {
    "duration": 464,
    "start_time": "2023-03-15T05:26:36.467Z"
   },
   {
    "duration": 15,
    "start_time": "2023-03-15T05:26:37.655Z"
   },
   {
    "duration": 100,
    "start_time": "2023-03-15T05:29:33.849Z"
   },
   {
    "duration": 135,
    "start_time": "2023-03-15T05:30:08.097Z"
   },
   {
    "duration": 471,
    "start_time": "2023-03-15T05:30:18.651Z"
   },
   {
    "duration": 12,
    "start_time": "2023-03-15T05:30:25.506Z"
   },
   {
    "duration": 100,
    "start_time": "2023-03-15T05:32:51.836Z"
   },
   {
    "duration": 95,
    "start_time": "2023-03-15T05:32:59.548Z"
   },
   {
    "duration": 61,
    "start_time": "2023-03-15T05:33:27.813Z"
   },
   {
    "duration": 7,
    "start_time": "2023-03-15T05:33:28.511Z"
   },
   {
    "duration": 61,
    "start_time": "2023-03-15T05:35:41.457Z"
   },
   {
    "duration": 6,
    "start_time": "2023-03-15T05:35:42.870Z"
   },
   {
    "duration": 59,
    "start_time": "2023-03-15T05:36:12.332Z"
   },
   {
    "duration": 7,
    "start_time": "2023-03-15T05:36:13.605Z"
   },
   {
    "duration": 480,
    "start_time": "2023-03-15T05:36:51.870Z"
   },
   {
    "duration": 11,
    "start_time": "2023-03-15T05:36:52.723Z"
   },
   {
    "duration": 1175,
    "start_time": "2023-03-15T05:36:55.706Z"
   },
   {
    "duration": 0,
    "start_time": "2023-03-15T05:36:56.883Z"
   },
   {
    "duration": 7,
    "start_time": "2023-03-15T05:37:20.710Z"
   },
   {
    "duration": 411,
    "start_time": "2023-03-15T05:37:22.395Z"
   },
   {
    "duration": 353,
    "start_time": "2023-03-15T05:39:00.163Z"
   },
   {
    "duration": 350,
    "start_time": "2023-03-15T05:39:46.765Z"
   },
   {
    "duration": 370,
    "start_time": "2023-03-15T05:39:51.802Z"
   },
   {
    "duration": 490,
    "start_time": "2023-03-15T05:40:11.979Z"
   },
   {
    "duration": 10,
    "start_time": "2023-03-15T05:40:13.516Z"
   },
   {
    "duration": 1335,
    "start_time": "2023-03-15T05:40:15.466Z"
   },
   {
    "duration": 0,
    "start_time": "2023-03-15T05:40:16.802Z"
   },
   {
    "duration": 7,
    "start_time": "2023-03-15T05:40:34.916Z"
   },
   {
    "duration": 376,
    "start_time": "2023-03-15T05:40:36.317Z"
   },
   {
    "duration": 473,
    "start_time": "2023-03-15T05:40:49.105Z"
   },
   {
    "duration": 11,
    "start_time": "2023-03-15T05:40:49.955Z"
   },
   {
    "duration": 7,
    "start_time": "2023-03-15T05:41:04.568Z"
   },
   {
    "duration": 411,
    "start_time": "2023-03-15T05:41:05.296Z"
   },
   {
    "duration": 391,
    "start_time": "2023-03-15T05:41:28.907Z"
   },
   {
    "duration": 1227,
    "start_time": "2023-03-15T05:41:35.873Z"
   },
   {
    "duration": 4,
    "start_time": "2023-03-15T05:41:37.102Z"
   },
   {
    "duration": 7626,
    "start_time": "2023-03-15T05:41:37.111Z"
   },
   {
    "duration": 39,
    "start_time": "2023-03-15T05:41:44.739Z"
   },
   {
    "duration": 13,
    "start_time": "2023-03-15T05:41:44.780Z"
   },
   {
    "duration": 203,
    "start_time": "2023-03-15T05:41:44.795Z"
   },
   {
    "duration": 7,
    "start_time": "2023-03-15T05:41:45.000Z"
   },
   {
    "duration": 22,
    "start_time": "2023-03-15T05:41:45.008Z"
   },
   {
    "duration": 234,
    "start_time": "2023-03-15T05:41:45.032Z"
   },
   {
    "duration": 122,
    "start_time": "2023-03-15T05:41:45.268Z"
   },
   {
    "duration": 10,
    "start_time": "2023-03-15T05:41:45.392Z"
   },
   {
    "duration": 260,
    "start_time": "2023-03-15T05:41:45.403Z"
   },
   {
    "duration": 3,
    "start_time": "2023-03-15T05:41:45.665Z"
   },
   {
    "duration": 241,
    "start_time": "2023-03-15T05:41:45.671Z"
   },
   {
    "duration": 106,
    "start_time": "2023-03-15T05:41:45.913Z"
   },
   {
    "duration": 7,
    "start_time": "2023-03-15T05:41:46.021Z"
   },
   {
    "duration": 5,
    "start_time": "2023-03-15T05:41:46.029Z"
   },
   {
    "duration": 202,
    "start_time": "2023-03-15T05:41:46.036Z"
   },
   {
    "duration": 1198,
    "start_time": "2023-03-15T05:41:46.240Z"
   },
   {
    "duration": 13,
    "start_time": "2023-03-15T05:41:47.440Z"
   },
   {
    "duration": 28,
    "start_time": "2023-03-15T05:41:47.454Z"
   },
   {
    "duration": 14,
    "start_time": "2023-03-15T05:41:47.484Z"
   },
   {
    "duration": 179,
    "start_time": "2023-03-15T05:41:47.512Z"
   },
   {
    "duration": 59,
    "start_time": "2023-03-15T05:41:47.693Z"
   },
   {
    "duration": 7,
    "start_time": "2023-03-15T05:41:47.754Z"
   },
   {
    "duration": 35,
    "start_time": "2023-03-15T05:41:47.763Z"
   },
   {
    "duration": 6,
    "start_time": "2023-03-15T05:41:47.800Z"
   },
   {
    "duration": 1259,
    "start_time": "2023-03-15T05:41:47.807Z"
   },
   {
    "duration": 11,
    "start_time": "2023-03-15T05:41:49.068Z"
   },
   {
    "duration": 411,
    "start_time": "2023-03-15T05:41:49.081Z"
   },
   {
    "duration": 7,
    "start_time": "2023-03-15T05:41:49.494Z"
   },
   {
    "duration": 221,
    "start_time": "2023-03-15T05:41:49.503Z"
   },
   {
    "duration": 467,
    "start_time": "2023-03-15T05:41:49.726Z"
   },
   {
    "duration": 12,
    "start_time": "2023-03-15T05:41:50.195Z"
   },
   {
    "duration": 9,
    "start_time": "2023-03-15T05:41:50.209Z"
   },
   {
    "duration": 375,
    "start_time": "2023-03-15T05:41:50.220Z"
   },
   {
    "duration": 2,
    "start_time": "2023-03-15T05:41:50.597Z"
   },
   {
    "duration": 83,
    "start_time": "2023-03-15T05:41:50.612Z"
   },
   {
    "duration": 9,
    "start_time": "2023-03-15T05:41:50.697Z"
   },
   {
    "duration": 134,
    "start_time": "2023-03-15T05:41:50.707Z"
   },
   {
    "duration": 251,
    "start_time": "2023-03-15T05:41:50.845Z"
   },
   {
    "duration": 8,
    "start_time": "2023-03-15T05:41:51.098Z"
   }
  ],
  "colab": {
   "provenance": []
  },
  "kernelspec": {
   "display_name": "Python 3 (ipykernel)",
   "language": "python",
   "name": "python3"
  },
  "language_info": {
   "codemirror_mode": {
    "name": "ipython",
    "version": 3
   },
   "file_extension": ".py",
   "mimetype": "text/x-python",
   "name": "python",
   "nbconvert_exporter": "python",
   "pygments_lexer": "ipython3",
   "version": "3.10.11"
  },
  "toc": {
   "base_numbering": 1,
   "nav_menu": {},
   "number_sections": true,
   "sideBar": true,
   "skip_h1_title": true,
   "title_cell": "Table of Contents",
   "title_sidebar": "Contents",
   "toc_cell": false,
   "toc_position": {},
   "toc_section_display": true,
   "toc_window_display": false
  }
 },
 "nbformat": 4,
 "nbformat_minor": 1
}
