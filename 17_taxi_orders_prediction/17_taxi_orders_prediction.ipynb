{
 "cells": [
  {
   "cell_type": "markdown",
   "metadata": {},
   "source": [
    "#  Прогнозирование заказов такси"
   ]
  },
  {
   "cell_type": "markdown",
   "metadata": {},
   "source": [
    "**Источник данных:** данные предоставлены заказчиком.\n",
    "\n",
    "**Характер данных:** исторические данные о заказах такси в аэропортах.\n",
    "\n",
    "**Цель заказчика:** привлечение большего числа водителей в период пиковой нагрузки.\n",
    "\n",
    "**Задача исследования:** построение модели прогнозирования заказов такси на следующий час.\n",
    "\n",
    "**Условия разработки:** метрика RMSE < 48."
   ]
  },
  {
   "cell_type": "markdown",
   "metadata": {},
   "source": [
    "---"
   ]
  },
  {
   "cell_type": "markdown",
   "metadata": {
    "toc": true
   },
   "source": [
    "<h1>Содержание<span class=\"tocSkip\"></span></h1>\n",
    "<div class=\"toc\"><ul class=\"toc-item\"><li><span><a href=\"#Подготовка-окружения\" data-toc-modified-id=\"Подготовка-окружения-1\"><span class=\"toc-item-num\">1&nbsp;&nbsp;</span>Подготовка окружения</a></span></li><li><span><a href=\"#Загрузка-данных\" data-toc-modified-id=\"Загрузка-данных-2\"><span class=\"toc-item-num\">2&nbsp;&nbsp;</span>Загрузка данных</a></span></li><li><span><a href=\"#Подготовка-данных\" data-toc-modified-id=\"Подготовка-данных-3\"><span class=\"toc-item-num\">3&nbsp;&nbsp;</span>Подготовка данных</a></span><ul class=\"toc-item\"><li><span><a href=\"#Анализ-данных\" data-toc-modified-id=\"Анализ-данных-3.1\"><span class=\"toc-item-num\">3.1&nbsp;&nbsp;</span>Анализ данных</a></span></li><li><span><a href=\"#Ресемплирование\" data-toc-modified-id=\"Ресемплирование-3.2\"><span class=\"toc-item-num\">3.2&nbsp;&nbsp;</span>Ресемплирование</a></span></li><li><span><a href=\"#Тренд-и-сезонность\" data-toc-modified-id=\"Тренд-и-сезонность-3.3\"><span class=\"toc-item-num\">3.3&nbsp;&nbsp;</span>Тренд и сезонность</a></span></li><li><span><a href=\"#Создание-признаков\" data-toc-modified-id=\"Создание-признаков-3.4\"><span class=\"toc-item-num\">3.4&nbsp;&nbsp;</span>Создание признаков</a></span></li><li><span><a href=\"#Разделение-на-выборки\" data-toc-modified-id=\"Разделение-на-выборки-3.5\"><span class=\"toc-item-num\">3.5&nbsp;&nbsp;</span>Разделение на выборки</a></span></li><li><span><a href=\"#Масштабирование-признаков\" data-toc-modified-id=\"Масштабирование-признаков-3.6\"><span class=\"toc-item-num\">3.6&nbsp;&nbsp;</span>Масштабирование признаков</a></span></li></ul></li><li><span><a href=\"#Подбор-модели\" data-toc-modified-id=\"Подбор-модели-4\"><span class=\"toc-item-num\">4&nbsp;&nbsp;</span>Подбор модели</a></span><ul class=\"toc-item\"><li><span><a href=\"#Обучение-моделей\" data-toc-modified-id=\"Обучение-моделей-4.1\"><span class=\"toc-item-num\">4.1&nbsp;&nbsp;</span>Обучение моделей</a></span><ul class=\"toc-item\"><li><span><a href=\"#LinearRegression\" data-toc-modified-id=\"LinearRegression-4.1.1\"><span class=\"toc-item-num\">4.1.1&nbsp;&nbsp;</span>LinearRegression</a></span></li><li><span><a href=\"#DecisionTreeRegressor\" data-toc-modified-id=\"DecisionTreeRegressor-4.1.2\"><span class=\"toc-item-num\">4.1.2&nbsp;&nbsp;</span>DecisionTreeRegressor</a></span></li><li><span><a href=\"#RandomForestRegressor\" data-toc-modified-id=\"RandomForestRegressor-4.1.3\"><span class=\"toc-item-num\">4.1.3&nbsp;&nbsp;</span>RandomForestRegressor</a></span></li><li><span><a href=\"#KNeighborsRegressor\" data-toc-modified-id=\"KNeighborsRegressor-4.1.4\"><span class=\"toc-item-num\">4.1.4&nbsp;&nbsp;</span>KNeighborsRegressor</a></span></li><li><span><a href=\"#LGBMRegressor\" data-toc-modified-id=\"LGBMRegressor-4.1.5\"><span class=\"toc-item-num\">4.1.5&nbsp;&nbsp;</span>LGBMRegressor</a></span></li><li><span><a href=\"#CatBoostRegressor\" data-toc-modified-id=\"CatBoostRegressor-4.1.6\"><span class=\"toc-item-num\">4.1.6&nbsp;&nbsp;</span>CatBoostRegressor</a></span></li></ul></li><li><span><a href=\"#Анализ-моделей\" data-toc-modified-id=\"Анализ-моделей-4.2\"><span class=\"toc-item-num\">4.2&nbsp;&nbsp;</span>Анализ моделей</a></span></li></ul></li><li><span><a href=\"#Тестирование-модели\" data-toc-modified-id=\"Тестирование-модели-5\"><span class=\"toc-item-num\">5&nbsp;&nbsp;</span>Тестирование модели</a></span></li><li><span><a href=\"#Вменяемость-модели\" data-toc-modified-id=\"Вменяемость-модели-6\"><span class=\"toc-item-num\">6&nbsp;&nbsp;</span>Вменяемость модели</a></span></li><li><span><a href=\"#Общий-вывод\" data-toc-modified-id=\"Общий-вывод-7\"><span class=\"toc-item-num\">7&nbsp;&nbsp;</span>Общий вывод</a></span></li></ul></div>"
   ]
  },
  {
   "cell_type": "markdown",
   "metadata": {},
   "source": [
    "<div style=\"background-color: blue; height: 2px; margin: 10px 0;\"></div>"
   ]
  },
  {
   "cell_type": "markdown",
   "metadata": {},
   "source": [
    "## Подготовка окружения"
   ]
  },
  {
   "cell_type": "markdown",
   "metadata": {},
   "source": [
    "Установка дополнительных библиотек:"
   ]
  },
  {
   "cell_type": "code",
   "execution_count": 1,
   "metadata": {},
   "outputs": [],
   "source": [
    "%%capture --no-stderr\n",
    "!pip install lightgbm catboost"
   ]
  },
  {
   "cell_type": "markdown",
   "metadata": {},
   "source": [
    "Импорт необходимыхх библиотек:"
   ]
  },
  {
   "cell_type": "code",
   "execution_count": 2,
   "metadata": {},
   "outputs": [],
   "source": [
    "import pandas as pd\n",
    "import numpy as np\n",
    "\n",
    "import itertools\n",
    "import matplotlib.pyplot as plt\n",
    "from tqdm.notebook import tqdm\n",
    "\n",
    "from statsmodels.tsa.seasonal import seasonal_decompose\n",
    "\n",
    "from sklearn.preprocessing import StandardScaler\n",
    "from sklearn.model_selection import TimeSeriesSplit, train_test_split, \\\n",
    "                                    RandomizedSearchCV, GridSearchCV\n",
    "from sklearn.metrics import mean_squared_error\n",
    "\n",
    "from sklearn.linear_model import LinearRegression\n",
    "from sklearn.tree import DecisionTreeRegressor\n",
    "from sklearn.ensemble import RandomForestRegressor\n",
    "from sklearn.neighbors import KNeighborsRegressor\n",
    "\n",
    "from lightgbm import LGBMRegressor\n",
    "from catboost import CatBoostRegressor"
   ]
  },
  {
   "cell_type": "markdown",
   "metadata": {},
   "source": [
    "Задание случайных величин:"
   ]
  },
  {
   "cell_type": "code",
   "execution_count": 3,
   "metadata": {},
   "outputs": [],
   "source": [
    "SEED = 42\n",
    "np.random.seed(SEED)"
   ]
  },
  {
   "cell_type": "markdown",
   "metadata": {},
   "source": [
    "<div style=\"background-color: blue; height: 2px; margin: 10px 0;\"></div>"
   ]
  },
  {
   "cell_type": "markdown",
   "metadata": {},
   "source": [
    "## Загрузка данных"
   ]
  },
  {
   "cell_type": "markdown",
   "metadata": {},
   "source": [
    "Выведение пяти первых строк набора данных для определения столбца индексов:"
   ]
  },
  {
   "cell_type": "code",
   "execution_count": 4,
   "metadata": {},
   "outputs": [
    {
     "data": {
      "text/html": [
       "<div>\n",
       "<style scoped>\n",
       "    .dataframe tbody tr th:only-of-type {\n",
       "        vertical-align: middle;\n",
       "    }\n",
       "\n",
       "    .dataframe tbody tr th {\n",
       "        vertical-align: top;\n",
       "    }\n",
       "\n",
       "    .dataframe thead th {\n",
       "        text-align: right;\n",
       "    }\n",
       "</style>\n",
       "<table border=\"1\" class=\"dataframe\">\n",
       "  <thead>\n",
       "    <tr style=\"text-align: right;\">\n",
       "      <th></th>\n",
       "      <th>datetime</th>\n",
       "      <th>num_orders</th>\n",
       "    </tr>\n",
       "  </thead>\n",
       "  <tbody>\n",
       "    <tr>\n",
       "      <th>0</th>\n",
       "      <td>2018-03-01 00:00:00</td>\n",
       "      <td>9</td>\n",
       "    </tr>\n",
       "    <tr>\n",
       "      <th>1</th>\n",
       "      <td>2018-03-01 00:10:00</td>\n",
       "      <td>14</td>\n",
       "    </tr>\n",
       "    <tr>\n",
       "      <th>2</th>\n",
       "      <td>2018-03-01 00:20:00</td>\n",
       "      <td>28</td>\n",
       "    </tr>\n",
       "    <tr>\n",
       "      <th>3</th>\n",
       "      <td>2018-03-01 00:30:00</td>\n",
       "      <td>20</td>\n",
       "    </tr>\n",
       "    <tr>\n",
       "      <th>4</th>\n",
       "      <td>2018-03-01 00:40:00</td>\n",
       "      <td>32</td>\n",
       "    </tr>\n",
       "  </tbody>\n",
       "</table>\n",
       "</div>"
      ],
      "text/plain": [
       "              datetime  num_orders\n",
       "0  2018-03-01 00:00:00           9\n",
       "1  2018-03-01 00:10:00          14\n",
       "2  2018-03-01 00:20:00          28\n",
       "3  2018-03-01 00:30:00          20\n",
       "4  2018-03-01 00:40:00          32"
      ]
     },
     "execution_count": 4,
     "metadata": {},
     "output_type": "execute_result"
    }
   ],
   "source": [
    "pd.read_csv('/datasets/taxi.csv').head()"
   ]
  },
  {
   "cell_type": "markdown",
   "metadata": {},
   "source": [
    "Сохранение исходного набора данных с учётом столбца индексов и приведением его к формату дат `datetime64`:"
   ]
  },
  {
   "cell_type": "code",
   "execution_count": 5,
   "metadata": {},
   "outputs": [],
   "source": [
    "data = pd.read_csv('/datasets/taxi.csv', index_col=[0], parse_dates=[0])"
   ]
  },
  {
   "cell_type": "markdown",
   "metadata": {},
   "source": [
    "Сортировка набора данных по столбцу индексов:"
   ]
  },
  {
   "cell_type": "code",
   "execution_count": 6,
   "metadata": {},
   "outputs": [],
   "source": [
    "data.sort_index(inplace=True)"
   ]
  },
  {
   "cell_type": "markdown",
   "metadata": {},
   "source": [
    "Выведение на экран первых пяти строк набора данных:"
   ]
  },
  {
   "cell_type": "code",
   "execution_count": 7,
   "metadata": {},
   "outputs": [
    {
     "data": {
      "text/html": [
       "<div>\n",
       "<style scoped>\n",
       "    .dataframe tbody tr th:only-of-type {\n",
       "        vertical-align: middle;\n",
       "    }\n",
       "\n",
       "    .dataframe tbody tr th {\n",
       "        vertical-align: top;\n",
       "    }\n",
       "\n",
       "    .dataframe thead th {\n",
       "        text-align: right;\n",
       "    }\n",
       "</style>\n",
       "<table border=\"1\" class=\"dataframe\">\n",
       "  <thead>\n",
       "    <tr style=\"text-align: right;\">\n",
       "      <th></th>\n",
       "      <th>num_orders</th>\n",
       "    </tr>\n",
       "    <tr>\n",
       "      <th>datetime</th>\n",
       "      <th></th>\n",
       "    </tr>\n",
       "  </thead>\n",
       "  <tbody>\n",
       "    <tr>\n",
       "      <th>2018-03-01 00:00:00</th>\n",
       "      <td>9</td>\n",
       "    </tr>\n",
       "    <tr>\n",
       "      <th>2018-03-01 00:10:00</th>\n",
       "      <td>14</td>\n",
       "    </tr>\n",
       "    <tr>\n",
       "      <th>2018-03-01 00:20:00</th>\n",
       "      <td>28</td>\n",
       "    </tr>\n",
       "    <tr>\n",
       "      <th>2018-03-01 00:30:00</th>\n",
       "      <td>20</td>\n",
       "    </tr>\n",
       "    <tr>\n",
       "      <th>2018-03-01 00:40:00</th>\n",
       "      <td>32</td>\n",
       "    </tr>\n",
       "  </tbody>\n",
       "</table>\n",
       "</div>"
      ],
      "text/plain": [
       "                     num_orders\n",
       "datetime                       \n",
       "2018-03-01 00:00:00           9\n",
       "2018-03-01 00:10:00          14\n",
       "2018-03-01 00:20:00          28\n",
       "2018-03-01 00:30:00          20\n",
       "2018-03-01 00:40:00          32"
      ]
     },
     "execution_count": 7,
     "metadata": {},
     "output_type": "execute_result"
    }
   ],
   "source": [
    "data.head()"
   ]
  },
  {
   "cell_type": "markdown",
   "metadata": {},
   "source": [
    "Проверка хронологического порядка временного ряда:"
   ]
  },
  {
   "cell_type": "code",
   "execution_count": 8,
   "metadata": {},
   "outputs": [
    {
     "name": "stdout",
     "output_type": "stream",
     "text": [
      "Хронологический порядок соблюдён: True\n"
     ]
    }
   ],
   "source": [
    "print('Хронологический порядок соблюдён:', data.index.is_monotonic)"
   ]
  },
  {
   "cell_type": "markdown",
   "metadata": {},
   "source": [
    "Выведение на экран размера набора данных:"
   ]
  },
  {
   "cell_type": "code",
   "execution_count": 9,
   "metadata": {},
   "outputs": [
    {
     "name": "stdout",
     "output_type": "stream",
     "text": [
      "Размер набора данных: (26496, 1)\n"
     ]
    }
   ],
   "source": [
    "print('Размер набора данных:', data.shape)"
   ]
  },
  {
   "cell_type": "markdown",
   "metadata": {},
   "source": [
    "<div style=\"background-color: #EBF3FA; border-radius: 3px; padding: 20px;\">\n",
    "\n",
    "<strong>Вывод</strong>\n",
    "    \n",
    "* Данные соответствуют предоставленному описанию и представляют собой временной ряд.\n",
    "\n",
    "</div>"
   ]
  },
  {
   "cell_type": "markdown",
   "metadata": {},
   "source": [
    "<div style=\"background-color: blue; height: 2px; margin: 10px 0;\"></div>"
   ]
  },
  {
   "cell_type": "markdown",
   "metadata": {},
   "source": [
    "## Подготовка данных"
   ]
  },
  {
   "cell_type": "markdown",
   "metadata": {},
   "source": [
    "Задание функции построения графика по значениям времянного ряда:"
   ]
  },
  {
   "cell_type": "code",
   "execution_count": 10,
   "metadata": {},
   "outputs": [],
   "source": [
    "def plot_df(df: pd.DataFrame,\n",
    "            title: str) -> None:\n",
    "    \n",
    "    df.plot(ax=plt.gca(), figsize=(8,6))\n",
    "    plt.title(f'{title}\\n', fontsize=16)\n",
    "    \n",
    "    plt.grid()\n",
    "    plt.show()"
   ]
  },
  {
   "cell_type": "markdown",
   "metadata": {},
   "source": [
    "Задание функции построения графика тренда и сезонности:"
   ]
  },
  {
   "cell_type": "code",
   "execution_count": 11,
   "metadata": {},
   "outputs": [],
   "source": [
    "def plot_decomposed(df: pd.DataFrame) -> None:\n",
    "    \n",
    "    font_s=16\n",
    "    plt.figure(figsize=(8,12))\n",
    "    \n",
    "    decomposed = seasonal_decompose(df)\n",
    "    \n",
    "    plt.subplot(311)\n",
    "    decomposed.trend.plot(ax=plt.gca())\n",
    "    plt.title('Тренд', fontsize=font_s)\n",
    "    plt.grid()\n",
    "    \n",
    "    plt.subplot(312)\n",
    "    decomposed.seasonal.plot(ax=plt.gca())\n",
    "    plt.title('Сезонность', fontsize=font_s)\n",
    "    plt.grid()\n",
    "    \n",
    "    plt.subplot(313)\n",
    "    decomposed.resid.plot(ax=plt.gca())\n",
    "    plt.title('Шум', fontsize=font_s)\n",
    "    plt.grid()\n",
    "    \n",
    "    plt.tight_layout()\n",
    "    plt.show()"
   ]
  },
  {
   "cell_type": "markdown",
   "metadata": {},
   "source": [
    "---"
   ]
  },
  {
   "cell_type": "markdown",
   "metadata": {},
   "source": [
    "### Анализ данных"
   ]
  },
  {
   "cell_type": "markdown",
   "metadata": {},
   "source": [
    "Выведение на экран графика распределения данных:"
   ]
  },
  {
   "cell_type": "code",
   "execution_count": 12,
   "metadata": {},
   "outputs": [
    {
     "data": {
      "image/png": "[encoded data removed]",
      "text/plain": [
       "<Figure size 576x432 with 1 Axes>"
      ]
     },
     "metadata": {
      "needs_background": "light"
     },
     "output_type": "display_data"
    }
   ],
   "source": [
    "plot_df(data, 'Распределение значений\\nв исходном наборе данных')"
   ]
  },
  {
   "cell_type": "markdown",
   "metadata": {},
   "source": [
    "Выведение на экран значений месяцев, за которые предоставлены данные:"
   ]
  },
  {
   "cell_type": "code",
   "execution_count": 13,
   "metadata": {},
   "outputs": [
    {
     "name": "stdout",
     "output_type": "stream",
     "text": [
      "Данные предоставлены за 3, 4, 5, 6, 7, 8 месяц(ы)"
     ]
    }
   ],
   "source": [
    "print('Данные предоставлены за', end=' ')\n",
    "print(*data.index.month.unique(), sep=', ', end=' месяц(ы)')"
   ]
  },
  {
   "cell_type": "markdown",
   "metadata": {},
   "source": [
    "<div style=\"background-color: #f9f9f9; border-radius: 2px; padding: 20px 20px 10px 20px;\">\n",
    "    \n",
    "* Наблюдается тенденция учащения заказов к августу.\n",
    "    \n",
    "</div>"
   ]
  },
  {
   "cell_type": "markdown",
   "metadata": {},
   "source": [
    "Выведение на экран значений годов, за которые предоставлены данные:"
   ]
  },
  {
   "cell_type": "code",
   "execution_count": 14,
   "metadata": {},
   "outputs": [
    {
     "name": "stdout",
     "output_type": "stream",
     "text": [
      "Данные предоставлены за 2018 год(ы)"
     ]
    }
   ],
   "source": [
    "print('Данные предоставлены за', end=' ')\n",
    "print(*data.index.year.unique(), sep=', ', end=' год(ы)')"
   ]
  },
  {
   "cell_type": "markdown",
   "metadata": {},
   "source": [
    "---"
   ]
  },
  {
   "cell_type": "markdown",
   "metadata": {},
   "source": [
    "### Ресемплирование"
   ]
  },
  {
   "cell_type": "markdown",
   "metadata": {},
   "source": [
    "Поскольку задача исследования заключается в прогнозировании значений столбца `num_orders` на следующий час, а данные собраны за каждые 10 минут, необходимо изменить интервал со значениями ряда набор данных на длину в один час."
   ]
  },
  {
   "cell_type": "markdown",
   "metadata": {},
   "source": [
    "Изменение интервала: "
   ]
  },
  {
   "cell_type": "code",
   "execution_count": 15,
   "metadata": {},
   "outputs": [],
   "source": [
    "data = data.resample('1H').sum()"
   ]
  },
  {
   "cell_type": "markdown",
   "metadata": {},
   "source": [
    "Выведение на экран размера набора данных для проверки применённых изменений:"
   ]
  },
  {
   "cell_type": "code",
   "execution_count": 16,
   "metadata": {},
   "outputs": [
    {
     "name": "stdout",
     "output_type": "stream",
     "text": [
      "Размер набора данных: (4416, 1)\n"
     ]
    }
   ],
   "source": [
    "print('Размер набора данных:', data.shape)"
   ]
  },
  {
   "cell_type": "markdown",
   "metadata": {},
   "source": [
    "Выведение на экран графика распределения данных для проверки применённых изменений:"
   ]
  },
  {
   "cell_type": "code",
   "execution_count": 17,
   "metadata": {},
   "outputs": [
    {
     "data": {
      "image/png": "[encoded data removed]",
      "text/plain": [
       "<Figure size 576x432 with 1 Axes>"
      ]
     },
     "metadata": {
      "needs_background": "light"
     },
     "output_type": "display_data"
    }
   ],
   "source": [
    "plot_df(data, 'Распределение значений по 1 часу')"
   ]
  },
  {
   "cell_type": "markdown",
   "metadata": {},
   "source": [
    "<div style=\"background-color: #f9f9f9; border-radius: 2px; padding: 20px 20px 10px 20px;\">\n",
    "    \n",
    "* Временной ряд соответствует нестационарному стохастическому процессу — со временем его распределение меняется.\n",
    "    \n",
    "</div>"
   ]
  },
  {
   "cell_type": "markdown",
   "metadata": {},
   "source": [
    "---"
   ]
  },
  {
   "cell_type": "markdown",
   "metadata": {},
   "source": [
    "### Тренд и сезонность"
   ]
  },
  {
   "cell_type": "markdown",
   "metadata": {},
   "source": [
    "Построение графика трендов и сезонности:"
   ]
  },
  {
   "cell_type": "code",
   "execution_count": 18,
   "metadata": {},
   "outputs": [
    {
     "data": {
      "image/png": "[encoded data removed]",
      "text/plain": [
       "<Figure size 576x864 with 3 Axes>"
      ]
     },
     "metadata": {
      "needs_background": "light"
     },
     "output_type": "display_data"
    }
   ],
   "source": [
    "plot_decomposed(data)"
   ]
  },
  {
   "cell_type": "markdown",
   "metadata": {},
   "source": [
    "<div style=\"background-color: #f9f9f9; border-radius: 2px; padding: 20px 20px 10px 20px;\">\n",
    "    \n",
    "* Поскольку данные предоставлены только за один год, невозможно установить наличие трендов или сезонности.\n",
    "    \n",
    "</div>"
   ]
  },
  {
   "cell_type": "markdown",
   "metadata": {},
   "source": [
    "---"
   ]
  },
  {
   "cell_type": "markdown",
   "metadata": {},
   "source": [
    "### Создание признаков"
   ]
  },
  {
   "cell_type": "markdown",
   "metadata": {},
   "source": [
    "Задание функции, формирующей новые признаки:"
   ]
  },
  {
   "cell_type": "code",
   "execution_count": 19,
   "metadata": {},
   "outputs": [],
   "source": [
    "def make_features(df: pd.DataFrame, \n",
    "                  lag_max: int, \n",
    "                  rolling_window: int) -> pd.DataFrame:\n",
    "    \n",
    "    data = df.copy()\n",
    "    \n",
    "    data['month'] = data.index.month\n",
    "    data['day'] = data.index.day\n",
    "    data['dayofweek'] = data.index.dayofweek\n",
    "    \n",
    "    for lag in range(1, lag_max + 1):\n",
    "        data[f'lag_{lag}'] = data['num_orders'].shift(lag)\n",
    "\n",
    "    data['rolling_mean'] = data['num_orders'].shift().rolling(rolling_window).mean()\n",
    "    data['rolling_std'] = data['num_orders'].shift().rolling(rolling_window).std()\n",
    "    \n",
    "    data = data.dropna()\n",
    "    \n",
    "    return data"
   ]
  },
  {
   "cell_type": "markdown",
   "metadata": {},
   "source": [
    "---"
   ]
  },
  {
   "cell_type": "markdown",
   "metadata": {},
   "source": [
    "Согласно условию поставленной перед исследованием задачи скользящее среднее будет взято как двое суток, то есть 48 часов (как и для порога метрики RMSE на тестовой выборке), а в качестве разностей временного ряда будут взяты значения за сутки, то есть 24 часа."
   ]
  },
  {
   "cell_type": "markdown",
   "metadata": {},
   "source": [
    "Добавление признаков к исходному набору данных:"
   ]
  },
  {
   "cell_type": "code",
   "execution_count": 20,
   "metadata": {},
   "outputs": [],
   "source": [
    "data_with_features = make_features(data, 24, 48)"
   ]
  },
  {
   "cell_type": "markdown",
   "metadata": {},
   "source": [
    "Выведение на экран пяти первых строк преобразованного набора данных:"
   ]
  },
  {
   "cell_type": "code",
   "execution_count": 21,
   "metadata": {},
   "outputs": [
    {
     "data": {
      "text/html": [
       "<div>\n",
       "<style scoped>\n",
       "    .dataframe tbody tr th:only-of-type {\n",
       "        vertical-align: middle;\n",
       "    }\n",
       "\n",
       "    .dataframe tbody tr th {\n",
       "        vertical-align: top;\n",
       "    }\n",
       "\n",
       "    .dataframe thead th {\n",
       "        text-align: right;\n",
       "    }\n",
       "</style>\n",
       "<table border=\"1\" class=\"dataframe\">\n",
       "  <thead>\n",
       "    <tr style=\"text-align: right;\">\n",
       "      <th></th>\n",
       "      <th>num_orders</th>\n",
       "      <th>month</th>\n",
       "      <th>day</th>\n",
       "      <th>dayofweek</th>\n",
       "      <th>lag_1</th>\n",
       "      <th>lag_2</th>\n",
       "      <th>lag_3</th>\n",
       "      <th>lag_4</th>\n",
       "      <th>lag_5</th>\n",
       "      <th>lag_6</th>\n",
       "      <th>...</th>\n",
       "      <th>lag_17</th>\n",
       "      <th>lag_18</th>\n",
       "      <th>lag_19</th>\n",
       "      <th>lag_20</th>\n",
       "      <th>lag_21</th>\n",
       "      <th>lag_22</th>\n",
       "      <th>lag_23</th>\n",
       "      <th>lag_24</th>\n",
       "      <th>rolling_mean</th>\n",
       "      <th>rolling_std</th>\n",
       "    </tr>\n",
       "    <tr>\n",
       "      <th>datetime</th>\n",
       "      <th></th>\n",
       "      <th></th>\n",
       "      <th></th>\n",
       "      <th></th>\n",
       "      <th></th>\n",
       "      <th></th>\n",
       "      <th></th>\n",
       "      <th></th>\n",
       "      <th></th>\n",
       "      <th></th>\n",
       "      <th></th>\n",
       "      <th></th>\n",
       "      <th></th>\n",
       "      <th></th>\n",
       "      <th></th>\n",
       "      <th></th>\n",
       "      <th></th>\n",
       "      <th></th>\n",
       "      <th></th>\n",
       "      <th></th>\n",
       "      <th></th>\n",
       "    </tr>\n",
       "  </thead>\n",
       "  <tbody>\n",
       "    <tr>\n",
       "      <th>2018-03-03 00:00:00</th>\n",
       "      <td>163</td>\n",
       "      <td>3</td>\n",
       "      <td>3</td>\n",
       "      <td>5</td>\n",
       "      <td>72.0</td>\n",
       "      <td>119.0</td>\n",
       "      <td>101.0</td>\n",
       "      <td>93.0</td>\n",
       "      <td>49.0</td>\n",
       "      <td>89.0</td>\n",
       "      <td>...</td>\n",
       "      <td>7.0</td>\n",
       "      <td>11.0</td>\n",
       "      <td>11.0</td>\n",
       "      <td>20.0</td>\n",
       "      <td>64.0</td>\n",
       "      <td>75.0</td>\n",
       "      <td>120.0</td>\n",
       "      <td>90.0</td>\n",
       "      <td>59.791667</td>\n",
       "      <td>30.918533</td>\n",
       "    </tr>\n",
       "    <tr>\n",
       "      <th>2018-03-03 01:00:00</th>\n",
       "      <td>108</td>\n",
       "      <td>3</td>\n",
       "      <td>3</td>\n",
       "      <td>5</td>\n",
       "      <td>163.0</td>\n",
       "      <td>72.0</td>\n",
       "      <td>119.0</td>\n",
       "      <td>101.0</td>\n",
       "      <td>93.0</td>\n",
       "      <td>49.0</td>\n",
       "      <td>...</td>\n",
       "      <td>46.0</td>\n",
       "      <td>7.0</td>\n",
       "      <td>11.0</td>\n",
       "      <td>11.0</td>\n",
       "      <td>20.0</td>\n",
       "      <td>64.0</td>\n",
       "      <td>75.0</td>\n",
       "      <td>120.0</td>\n",
       "      <td>60.604167</td>\n",
       "      <td>33.078720</td>\n",
       "    </tr>\n",
       "    <tr>\n",
       "      <th>2018-03-03 02:00:00</th>\n",
       "      <td>25</td>\n",
       "      <td>3</td>\n",
       "      <td>3</td>\n",
       "      <td>5</td>\n",
       "      <td>108.0</td>\n",
       "      <td>163.0</td>\n",
       "      <td>72.0</td>\n",
       "      <td>119.0</td>\n",
       "      <td>101.0</td>\n",
       "      <td>93.0</td>\n",
       "      <td>...</td>\n",
       "      <td>45.0</td>\n",
       "      <td>46.0</td>\n",
       "      <td>7.0</td>\n",
       "      <td>11.0</td>\n",
       "      <td>11.0</td>\n",
       "      <td>20.0</td>\n",
       "      <td>64.0</td>\n",
       "      <td>75.0</td>\n",
       "      <td>61.083333</td>\n",
       "      <td>33.602073</td>\n",
       "    </tr>\n",
       "    <tr>\n",
       "      <th>2018-03-03 03:00:00</th>\n",
       "      <td>64</td>\n",
       "      <td>3</td>\n",
       "      <td>3</td>\n",
       "      <td>5</td>\n",
       "      <td>25.0</td>\n",
       "      <td>108.0</td>\n",
       "      <td>163.0</td>\n",
       "      <td>72.0</td>\n",
       "      <td>119.0</td>\n",
       "      <td>101.0</td>\n",
       "      <td>...</td>\n",
       "      <td>54.0</td>\n",
       "      <td>45.0</td>\n",
       "      <td>46.0</td>\n",
       "      <td>7.0</td>\n",
       "      <td>11.0</td>\n",
       "      <td>11.0</td>\n",
       "      <td>20.0</td>\n",
       "      <td>64.0</td>\n",
       "      <td>60.125000</td>\n",
       "      <td>33.967209</td>\n",
       "    </tr>\n",
       "    <tr>\n",
       "      <th>2018-03-03 04:00:00</th>\n",
       "      <td>44</td>\n",
       "      <td>3</td>\n",
       "      <td>3</td>\n",
       "      <td>5</td>\n",
       "      <td>64.0</td>\n",
       "      <td>25.0</td>\n",
       "      <td>108.0</td>\n",
       "      <td>163.0</td>\n",
       "      <td>72.0</td>\n",
       "      <td>119.0</td>\n",
       "      <td>...</td>\n",
       "      <td>91.0</td>\n",
       "      <td>54.0</td>\n",
       "      <td>45.0</td>\n",
       "      <td>46.0</td>\n",
       "      <td>7.0</td>\n",
       "      <td>11.0</td>\n",
       "      <td>11.0</td>\n",
       "      <td>20.0</td>\n",
       "      <td>60.083333</td>\n",
       "      <td>33.961075</td>\n",
       "    </tr>\n",
       "  </tbody>\n",
       "</table>\n",
       "<p>5 rows × 30 columns</p>\n",
       "</div>"
      ],
      "text/plain": [
       "                     num_orders  month  day  dayofweek  lag_1  lag_2  lag_3  \\\n",
       "datetime                                                                      \n",
       "2018-03-03 00:00:00         163      3    3          5   72.0  119.0  101.0   \n",
       "2018-03-03 01:00:00         108      3    3          5  163.0   72.0  119.0   \n",
       "2018-03-03 02:00:00          25      3    3          5  108.0  163.0   72.0   \n",
       "2018-03-03 03:00:00          64      3    3          5   25.0  108.0  163.0   \n",
       "2018-03-03 04:00:00          44      3    3          5   64.0   25.0  108.0   \n",
       "\n",
       "                     lag_4  lag_5  lag_6  ...  lag_17  lag_18  lag_19  lag_20  \\\n",
       "datetime                                  ...                                   \n",
       "2018-03-03 00:00:00   93.0   49.0   89.0  ...     7.0    11.0    11.0    20.0   \n",
       "2018-03-03 01:00:00  101.0   93.0   49.0  ...    46.0     7.0    11.0    11.0   \n",
       "2018-03-03 02:00:00  119.0  101.0   93.0  ...    45.0    46.0     7.0    11.0   \n",
       "2018-03-03 03:00:00   72.0  119.0  101.0  ...    54.0    45.0    46.0     7.0   \n",
       "2018-03-03 04:00:00  163.0   72.0  119.0  ...    91.0    54.0    45.0    46.0   \n",
       "\n",
       "                     lag_21  lag_22  lag_23  lag_24  rolling_mean  rolling_std  \n",
       "datetime                                                                        \n",
       "2018-03-03 00:00:00    64.0    75.0   120.0    90.0     59.791667    30.918533  \n",
       "2018-03-03 01:00:00    20.0    64.0    75.0   120.0     60.604167    33.078720  \n",
       "2018-03-03 02:00:00    11.0    20.0    64.0    75.0     61.083333    33.602073  \n",
       "2018-03-03 03:00:00    11.0    11.0    20.0    64.0     60.125000    33.967209  \n",
       "2018-03-03 04:00:00     7.0    11.0    11.0    20.0     60.083333    33.961075  \n",
       "\n",
       "[5 rows x 30 columns]"
      ]
     },
     "execution_count": 21,
     "metadata": {},
     "output_type": "execute_result"
    }
   ],
   "source": [
    "data_with_features.head()"
   ]
  },
  {
   "cell_type": "markdown",
   "metadata": {},
   "source": [
    "Выведение на экран графика распределения данных для проверки применённых изменений:"
   ]
  },
  {
   "cell_type": "code",
   "execution_count": 22,
   "metadata": {
    "scrolled": false
   },
   "outputs": [
    {
     "data": {
      "image/png": "[encoded data removed]",
      "text/plain": [
       "<Figure size 576x432 with 1 Axes>"
      ]
     },
     "metadata": {
      "needs_background": "light"
     },
     "output_type": "display_data"
    }
   ],
   "source": [
    "plot_df(data_with_features[['num_orders', 'rolling_mean', 'rolling_std']], \n",
    "        'Распределение значений со скользящим \\nсредним и стандартным отклонением')"
   ]
  },
  {
   "cell_type": "markdown",
   "metadata": {},
   "source": [
    "---"
   ]
  },
  {
   "cell_type": "markdown",
   "metadata": {},
   "source": [
    "### Разделение на выборки"
   ]
  },
  {
   "cell_type": "markdown",
   "metadata": {},
   "source": [
    "Разделение преобразованного набора данных на тренировочную и тестовую выборки:"
   ]
  },
  {
   "cell_type": "code",
   "execution_count": 23,
   "metadata": {},
   "outputs": [],
   "source": [
    "train, test = train_test_split(data_with_features, shuffle=False, test_size=0.1)"
   ]
  },
  {
   "cell_type": "markdown",
   "metadata": {},
   "source": [
    "Разделение тренировочной и тестовой выборок на признаки и целевой признак:"
   ]
  },
  {
   "cell_type": "code",
   "execution_count": 24,
   "metadata": {},
   "outputs": [],
   "source": [
    "X_train, y_train = train.drop('num_orders', axis=1), train['num_orders']\n",
    "X_test, y_test = test.drop('num_orders', axis=1), test['num_orders']"
   ]
  },
  {
   "cell_type": "markdown",
   "metadata": {},
   "source": [
    "---"
   ]
  },
  {
   "cell_type": "markdown",
   "metadata": {},
   "source": [
    "### Масштабирование признаков"
   ]
  },
  {
   "cell_type": "markdown",
   "metadata": {},
   "source": [
    "Значения в столбцах признаков отличаются большим диапазоном, поэтому их необходимо масштабировать."
   ]
  },
  {
   "cell_type": "markdown",
   "metadata": {},
   "source": [
    "Задание объекта масштабирования:"
   ]
  },
  {
   "cell_type": "code",
   "execution_count": 25,
   "metadata": {},
   "outputs": [],
   "source": [
    "scaler = StandardScaler()"
   ]
  },
  {
   "cell_type": "markdown",
   "metadata": {},
   "source": [
    "Обучение объекта на тренировочной выборке:"
   ]
  },
  {
   "cell_type": "code",
   "execution_count": 26,
   "metadata": {},
   "outputs": [
    {
     "data": {
      "text/html": [
       "<style>#sk-container-id-1 {color: black;}#sk-container-id-1 pre{padding: 0;}#sk-container-id-1 div.sk-toggleable {background-color: white;}#sk-container-id-1 label.sk-toggleable__label {cursor: pointer;display: block;width: 100%;margin-bottom: 0;padding: 0.3em;box-sizing: border-box;text-align: center;}#sk-container-id-1 label.sk-toggleable__label-arrow:before {content: \"▸\";float: left;margin-right: 0.25em;color: #696969;}#sk-container-id-1 label.sk-toggleable__label-arrow:hover:before {color: black;}#sk-container-id-1 div.sk-estimator:hover label.sk-toggleable__label-arrow:before {color: black;}#sk-container-id-1 div.sk-toggleable__content {max-height: 0;max-width: 0;overflow: hidden;text-align: left;background-color: #f0f8ff;}#sk-container-id-1 div.sk-toggleable__content pre {margin: 0.2em;color: black;border-radius: 0.25em;background-color: #f0f8ff;}#sk-container-id-1 input.sk-toggleable__control:checked~div.sk-toggleable__content {max-height: 200px;max-width: 100%;overflow: auto;}#sk-container-id-1 input.sk-toggleable__control:checked~label.sk-toggleable__label-arrow:before {content: \"▾\";}#sk-container-id-1 div.sk-estimator input.sk-toggleable__control:checked~label.sk-toggleable__label {background-color: #d4ebff;}#sk-container-id-1 div.sk-label input.sk-toggleable__control:checked~label.sk-toggleable__label {background-color: #d4ebff;}#sk-container-id-1 input.sk-hidden--visually {border: 0;clip: rect(1px 1px 1px 1px);clip: rect(1px, 1px, 1px, 1px);height: 1px;margin: -1px;overflow: hidden;padding: 0;position: absolute;width: 1px;}#sk-container-id-1 div.sk-estimator {font-family: monospace;background-color: #f0f8ff;border: 1px dotted black;border-radius: 0.25em;box-sizing: border-box;margin-bottom: 0.5em;}#sk-container-id-1 div.sk-estimator:hover {background-color: #d4ebff;}#sk-container-id-1 div.sk-parallel-item::after {content: \"\";width: 100%;border-bottom: 1px solid gray;flex-grow: 1;}#sk-container-id-1 div.sk-label:hover label.sk-toggleable__label {background-color: #d4ebff;}#sk-container-id-1 div.sk-serial::before {content: \"\";position: absolute;border-left: 1px solid gray;box-sizing: border-box;top: 0;bottom: 0;left: 50%;z-index: 0;}#sk-container-id-1 div.sk-serial {display: flex;flex-direction: column;align-items: center;background-color: white;padding-right: 0.2em;padding-left: 0.2em;position: relative;}#sk-container-id-1 div.sk-item {position: relative;z-index: 1;}#sk-container-id-1 div.sk-parallel {display: flex;align-items: stretch;justify-content: center;background-color: white;position: relative;}#sk-container-id-1 div.sk-item::before, #sk-container-id-1 div.sk-parallel-item::before {content: \"\";position: absolute;border-left: 1px solid gray;box-sizing: border-box;top: 0;bottom: 0;left: 50%;z-index: -1;}#sk-container-id-1 div.sk-parallel-item {display: flex;flex-direction: column;z-index: 1;position: relative;background-color: white;}#sk-container-id-1 div.sk-parallel-item:first-child::after {align-self: flex-end;width: 50%;}#sk-container-id-1 div.sk-parallel-item:last-child::after {align-self: flex-start;width: 50%;}#sk-container-id-1 div.sk-parallel-item:only-child::after {width: 0;}#sk-container-id-1 div.sk-dashed-wrapped {border: 1px dashed gray;margin: 0 0.4em 0.5em 0.4em;box-sizing: border-box;padding-bottom: 0.4em;background-color: white;}#sk-container-id-1 div.sk-label label {font-family: monospace;font-weight: bold;display: inline-block;line-height: 1.2em;}#sk-container-id-1 div.sk-label-container {text-align: center;}#sk-container-id-1 div.sk-container {/* jupyter's `normalize.less` sets `[hidden] { display: none; }` but bootstrap.min.css set `[hidden] { display: none !important; }` so we also need the `!important` here to be able to override the default hidden behavior on the sphinx rendered scikit-learn.org. See: https://github.com/scikit-learn/scikit-learn/issues/21755 */display: inline-block !important;position: relative;}#sk-container-id-1 div.sk-text-repr-fallback {display: none;}</style><div id=\"sk-container-id-1\" class=\"sk-top-container\"><div class=\"sk-text-repr-fallback\"><pre>StandardScaler()</pre><b>In a Jupyter environment, please rerun this cell to show the HTML representation or trust the notebook. <br />On GitHub, the HTML representation is unable to render, please try loading this page with nbviewer.org.</b></div><div class=\"sk-container\" hidden><div class=\"sk-item\"><div class=\"sk-estimator sk-toggleable\"><input class=\"sk-toggleable__control sk-hidden--visually\" id=\"sk-estimator-id-1\" type=\"checkbox\" checked><label for=\"sk-estimator-id-1\" class=\"sk-toggleable__label sk-toggleable__label-arrow\">StandardScaler</label><div class=\"sk-toggleable__content\"><pre>StandardScaler()</pre></div></div></div></div></div>"
      ],
      "text/plain": [
       "StandardScaler()"
      ]
     },
     "execution_count": 26,
     "metadata": {},
     "output_type": "execute_result"
    }
   ],
   "source": [
    "scaler.fit(X_train)"
   ]
  },
  {
   "cell_type": "markdown",
   "metadata": {},
   "source": [
    "Масштабирование тренировочной и тестовой выборок:"
   ]
  },
  {
   "cell_type": "code",
   "execution_count": 27,
   "metadata": {},
   "outputs": [],
   "source": [
    "X_train_scaled = scaler.transform(X_train)\n",
    "X_test_scaled = scaler.transform(X_test)"
   ]
  },
  {
   "cell_type": "markdown",
   "metadata": {},
   "source": [
    "Выведение на экран тренировочной выборки для проверки применённых изменений:"
   ]
  },
  {
   "cell_type": "code",
   "execution_count": 28,
   "metadata": {},
   "outputs": [
    {
     "data": {
      "text/plain": [
       "array([[-1.43790154e+00, -1.39617062e+00,  9.85304846e-01, ...,\n",
       "         3.12582436e-01, -1.00546523e+00, -4.20186422e-01],\n",
       "       [-1.43790154e+00, -1.39617062e+00,  9.85304846e-01, ...,\n",
       "         1.10104193e+00, -9.60992000e-01, -5.70784407e-02],\n",
       "       [-1.43790154e+00, -1.39617062e+00,  9.85304846e-01, ...,\n",
       "        -8.16473106e-02, -9.34764200e-01,  3.08925341e-02],\n",
       "       ...,\n",
       "       [ 1.74510948e+00, -2.59537496e-01, -1.49785540e+00, ...,\n",
       "         1.96834737e+00,  2.54555079e+00,  5.34056884e+00],\n",
       "       [ 1.74510948e+00, -2.59537496e-01, -1.49785540e+00, ...,\n",
       "         9.69632014e-01,  2.51134061e+00,  5.28339845e+00],\n",
       "       [ 1.74510948e+00, -2.59537496e-01, -1.49785540e+00, ...,\n",
       "        -2.80136121e-03,  2.54555079e+00,  5.30430049e+00]])"
      ]
     },
     "execution_count": 28,
     "metadata": {},
     "output_type": "execute_result"
    }
   ],
   "source": [
    "X_train_scaled"
   ]
  },
  {
   "cell_type": "markdown",
   "metadata": {},
   "source": [
    "<div style=\"background-color: #EBF3FA; border-radius: 3px; padding: 20px;\">\n",
    "\n",
    "<strong>Вывод</strong>\n",
    "    \n",
    "* Исходные данные были подготовлены к построению моделей пронозирования.\n",
    "\n",
    "</div>"
   ]
  },
  {
   "cell_type": "markdown",
   "metadata": {},
   "source": [
    "<div style=\"background-color: blue; height: 2px; margin: 10px 0;\"></div>"
   ]
  },
  {
   "cell_type": "markdown",
   "metadata": {},
   "source": [
    "## Подбор модели"
   ]
  },
  {
   "cell_type": "markdown",
   "metadata": {},
   "source": [
    "Поскольку поставленная перед исследованием задача заключается в решении задачи регрессии, для построения модели прогнозирования будут рассмотрены:\n",
    "\n",
    "* `DecisionTreeRegression`\n",
    "\n",
    "* `RandomForestRegressor`\n",
    "\n",
    "* `KNeighborsRegressor`\n",
    "\n",
    "* `LGBMRegressor`\n",
    "\n",
    "* `CatBoostRegressor`"
   ]
  },
  {
   "cell_type": "markdown",
   "metadata": {},
   "source": [
    "Задание словаря для сохранения результатов:"
   ]
  },
  {
   "cell_type": "code",
   "execution_count": 29,
   "metadata": {},
   "outputs": [],
   "source": [
    "results = {}"
   ]
  },
  {
   "cell_type": "markdown",
   "metadata": {},
   "source": [
    "---"
   ]
  },
  {
   "cell_type": "markdown",
   "metadata": {},
   "source": [
    "Задание функции сохранения значений:"
   ]
  },
  {
   "cell_type": "code",
   "execution_count": 30,
   "metadata": {},
   "outputs": [],
   "source": [
    "def save_results(name: str,\n",
    "                 model,\n",
    "                 params: dict,\n",
    "                 score: float,\n",
    "                 save_to: dict = results) -> dict:\n",
    "    \n",
    "    save_to[name] = {\n",
    "        'model': model,\n",
    "        'params': params,\n",
    "        'score': score\n",
    "    }"
   ]
  },
  {
   "cell_type": "markdown",
   "metadata": {},
   "source": [
    "Задание функции поиска лучшей модели:"
   ]
  },
  {
   "cell_type": "code",
   "execution_count": 31,
   "metadata": {},
   "outputs": [],
   "source": [
    "def search_model(estimator,\n",
    "                 params: dict,\n",
    "                 X_train: np.ndarray,\n",
    "                 y_train: np.ndarray,\n",
    "                 name: str,\n",
    "                 n_splits: int = 3,\n",
    "                 scoring: str = 'neg_mean_squared_error',\n",
    "                 n_verbose: int = 0,\n",
    "                 save_to: dict = results) -> None:\n",
    "    \n",
    "    print('Searching...')\n",
    "    \n",
    "    cv = TimeSeriesSplit(n_splits=n_splits)\n",
    "    \n",
    "    if params is None:\n",
    "        raise ValueError('params should not be empty')\n",
    "    \n",
    "    if len(params) > 2:\n",
    "        grid = RandomizedSearchCV(\n",
    "            estimator, \n",
    "            params, \n",
    "            cv=cv, \n",
    "            scoring=scoring, \n",
    "            verbose=n_verbose\n",
    "        )\n",
    "    else:\n",
    "        grid = GridSearchCV(\n",
    "            estimator, \n",
    "            params, \n",
    "            cv=cv, \n",
    "            scoring=scoring, \n",
    "            verbose=n_verbose\n",
    "        )\n",
    "\n",
    "    grid.fit(X_train, y_train)\n",
    "\n",
    "    best_model = grid.best_estimator_\n",
    "    best_params = grid.best_params_\n",
    "    best_score = np.sqrt(-grid.best_score_)\n",
    "\n",
    "    print(f'\\nBest model params: {best_params}')\n",
    "    print(f'Best RMSE: {best_score}')\n",
    "    \n",
    "    save_results(name, best_model, best_params, best_score, save_to)\n",
    "    \n",
    "    print('\\nFinished\\n')"
   ]
  },
  {
   "cell_type": "markdown",
   "metadata": {},
   "source": [
    "---"
   ]
  },
  {
   "cell_type": "markdown",
   "metadata": {},
   "source": [
    "### Обучение моделей"
   ]
  },
  {
   "cell_type": "markdown",
   "metadata": {},
   "source": [
    "#### LinearRegression"
   ]
  },
  {
   "cell_type": "markdown",
   "metadata": {},
   "source": [
    "Задание параметров модели:"
   ]
  },
  {
   "cell_type": "code",
   "execution_count": 32,
   "metadata": {},
   "outputs": [],
   "source": [
    "params_lr = {\n",
    "    'fit_intercept': [True, False]\n",
    "}"
   ]
  },
  {
   "cell_type": "markdown",
   "metadata": {},
   "source": [
    "Обучение модели:"
   ]
  },
  {
   "cell_type": "code",
   "execution_count": 33,
   "metadata": {},
   "outputs": [
    {
     "name": "stdout",
     "output_type": "stream",
     "text": [
      "Searching...\n",
      "\n",
      "Best model params: {'fit_intercept': True}\n",
      "Best RMSE: 28.102910491747423\n",
      "\n",
      "Finished\n",
      "\n",
      "CPU times: user 334 ms, sys: 917 ms, total: 1.25 s\n",
      "Wall time: 1.23 s\n"
     ]
    }
   ],
   "source": [
    "%%time\n",
    "search_model(LinearRegression(), params_lr, X_train_scaled, y_train, 'lin_reg')"
   ]
  },
  {
   "cell_type": "markdown",
   "metadata": {},
   "source": [
    "---"
   ]
  },
  {
   "cell_type": "markdown",
   "metadata": {},
   "source": [
    "#### DecisionTreeRegressor"
   ]
  },
  {
   "cell_type": "markdown",
   "metadata": {},
   "source": [
    "Задание параметров модели:"
   ]
  },
  {
   "cell_type": "code",
   "execution_count": 34,
   "metadata": {},
   "outputs": [],
   "source": [
    "params_dtr = {\n",
    "    'splitter': ['best', 'random'],\n",
    "    'max_depth': range(1, 20),\n",
    "    'random_state': [SEED, None]\n",
    "}"
   ]
  },
  {
   "cell_type": "markdown",
   "metadata": {},
   "source": [
    "Обучение модели:"
   ]
  },
  {
   "cell_type": "code",
   "execution_count": 35,
   "metadata": {
    "scrolled": true
   },
   "outputs": [
    {
     "name": "stdout",
     "output_type": "stream",
     "text": [
      "Searching...\n",
      "\n",
      "Best model params: {'splitter': 'best', 'random_state': None, 'max_depth': 3}\n",
      "Best RMSE: 33.75459485111269\n",
      "\n",
      "Finished\n",
      "\n",
      "CPU times: user 474 ms, sys: 70.9 ms, total: 545 ms\n",
      "Wall time: 555 ms\n"
     ]
    }
   ],
   "source": [
    "%%time\n",
    "search_model(DecisionTreeRegressor(), params_dtr, X_train_scaled, y_train, 'dt_reg')"
   ]
  },
  {
   "cell_type": "markdown",
   "metadata": {},
   "source": [
    "---"
   ]
  },
  {
   "cell_type": "markdown",
   "metadata": {},
   "source": [
    "#### RandomForestRegressor"
   ]
  },
  {
   "cell_type": "markdown",
   "metadata": {},
   "source": [
    "Задание параметров модели:"
   ]
  },
  {
   "cell_type": "code",
   "execution_count": 36,
   "metadata": {},
   "outputs": [],
   "source": [
    "params_rfr = {\n",
    "    'n_estimators': range(100, 2000, 100),\n",
    "    'max_depth': range(1, 20),\n",
    "    'random_state': [SEED, None]\n",
    "}"
   ]
  },
  {
   "cell_type": "markdown",
   "metadata": {},
   "source": [
    "Обучение модели:"
   ]
  },
  {
   "cell_type": "code",
   "execution_count": 37,
   "metadata": {
    "scrolled": true
   },
   "outputs": [
    {
     "name": "stdout",
     "output_type": "stream",
     "text": [
      "Searching...\n",
      "\n",
      "Best model params: {'random_state': None, 'n_estimators': 300, 'max_depth': 15}\n",
      "Best RMSE: 27.825260637493855\n",
      "\n",
      "Finished\n",
      "\n",
      "CPU times: user 11min 36s, sys: 1.15 s, total: 11min 38s\n",
      "Wall time: 11min 38s\n"
     ]
    }
   ],
   "source": [
    "%%time\n",
    "search_model(RandomForestRegressor(), params_rfr, X_train_scaled, y_train, 'rf_reg')"
   ]
  },
  {
   "cell_type": "markdown",
   "metadata": {},
   "source": [
    "---"
   ]
  },
  {
   "cell_type": "markdown",
   "metadata": {},
   "source": [
    "#### KNeighborsRegressor"
   ]
  },
  {
   "cell_type": "markdown",
   "metadata": {},
   "source": [
    "Задание параметров модели:"
   ]
  },
  {
   "cell_type": "code",
   "execution_count": 38,
   "metadata": {},
   "outputs": [],
   "source": [
    "params_knr = {\n",
    "    'n_neighbors': range(1, 20),\n",
    "    'weights': ['uniform', 'distance'],\n",
    "    'algorithm': ['auto', 'ball_tree', 'kd_tree', 'brute'],\n",
    "    'p': [1, 2]\n",
    "}"
   ]
  },
  {
   "cell_type": "markdown",
   "metadata": {},
   "source": [
    "Обучение модели:"
   ]
  },
  {
   "cell_type": "code",
   "execution_count": 39,
   "metadata": {
    "scrolled": true
   },
   "outputs": [
    {
     "name": "stdout",
     "output_type": "stream",
     "text": [
      "Searching...\n",
      "\n",
      "Best model params: {'weights': 'distance', 'p': 2, 'n_neighbors': 12, 'algorithm': 'ball_tree'}\n",
      "Best RMSE: 28.499947012902023\n",
      "\n",
      "Finished\n",
      "\n",
      "CPU times: user 1.64 s, sys: 184 ms, total: 1.82 s\n",
      "Wall time: 1.9 s\n"
     ]
    }
   ],
   "source": [
    "%%time\n",
    "search_model(KNeighborsRegressor(), params_knr, X_train_scaled, y_train, 'kn_reg')"
   ]
  },
  {
   "cell_type": "markdown",
   "metadata": {},
   "source": [
    "---"
   ]
  },
  {
   "cell_type": "markdown",
   "metadata": {},
   "source": [
    "#### LGBMRegressor"
   ]
  },
  {
   "cell_type": "markdown",
   "metadata": {},
   "source": [
    "Задание параметров модели:"
   ]
  },
  {
   "cell_type": "code",
   "execution_count": 40,
   "metadata": {},
   "outputs": [],
   "source": [
    "params_lgbmr = {\n",
    "    'n_estimators': range(100, 1000, 100),\n",
    "    'max_depth': [-1, *range(1, 20)],\n",
    "    'random_state': [SEED, None]\n",
    "}"
   ]
  },
  {
   "cell_type": "markdown",
   "metadata": {},
   "source": [
    "Обучение модели:"
   ]
  },
  {
   "cell_type": "code",
   "execution_count": 41,
   "metadata": {
    "scrolled": true
   },
   "outputs": [
    {
     "name": "stdout",
     "output_type": "stream",
     "text": [
      "Searching...\n",
      "\n",
      "Best model params: {'random_state': None, 'n_estimators': 100, 'max_depth': 14}\n",
      "Best RMSE: 27.70007034583824\n",
      "\n",
      "Finished\n",
      "\n",
      "CPU times: user 5min 16s, sys: 1.55 s, total: 5min 18s\n",
      "Wall time: 5min 18s\n"
     ]
    }
   ],
   "source": [
    "%%time\n",
    "search_model(LGBMRegressor(), params_lgbmr, X_train_scaled, y_train, 'lgbm_reg')"
   ]
  },
  {
   "cell_type": "markdown",
   "metadata": {},
   "source": [
    "---"
   ]
  },
  {
   "cell_type": "markdown",
   "metadata": {},
   "source": [
    "#### CatBoostRegressor"
   ]
  },
  {
   "cell_type": "markdown",
   "metadata": {},
   "source": [
    "Задание параметров модели:"
   ]
  },
  {
   "cell_type": "code",
   "execution_count": 42,
   "metadata": {},
   "outputs": [],
   "source": [
    "params_cbr = {\n",
    "    'n_estimators': range(100, 1000, 100),\n",
    "    'max_depth': range(1, 16),\n",
    "    'random_state': [SEED, None]\n",
    "}"
   ]
  },
  {
   "cell_type": "markdown",
   "metadata": {},
   "source": [
    "Обучение модели:"
   ]
  },
  {
   "cell_type": "code",
   "execution_count": 43,
   "metadata": {},
   "outputs": [
    {
     "name": "stdout",
     "output_type": "stream",
     "text": [
      "Searching...\n",
      "\n",
      "Best model params: {'random_state': 42, 'n_estimators': 600, 'max_depth': 7}\n",
      "Best RMSE: 26.951234126930196\n",
      "\n",
      "Finished\n",
      "\n",
      "CPU times: user 35min 3s, sys: 2min 12s, total: 37min 15s\n",
      "Wall time: 37min 41s\n"
     ]
    }
   ],
   "source": [
    "%%time\n",
    "search_model(CatBoostRegressor(verbose=0), params_cbr, X_train_scaled, y_train, 'cb_reg')"
   ]
  },
  {
   "cell_type": "markdown",
   "metadata": {},
   "source": [
    "---"
   ]
  },
  {
   "cell_type": "markdown",
   "metadata": {},
   "source": [
    "### Анализ моделей"
   ]
  },
  {
   "cell_type": "markdown",
   "metadata": {},
   "source": [
    "Задание функции, конвертирующей словарь в датафрейм:"
   ]
  },
  {
   "cell_type": "code",
   "execution_count": 44,
   "metadata": {},
   "outputs": [],
   "source": [
    "def convert_to_dataframe(results: dict) -> pd.DataFrame:\n",
    "    \n",
    "    return pd.DataFrame([val['score'] for val in results.values()], \n",
    "                        index=results.keys(),\n",
    "                        columns=['score'])"
   ]
  },
  {
   "cell_type": "markdown",
   "metadata": {},
   "source": [
    "Задание функции построения графика значений:"
   ]
  },
  {
   "cell_type": "code",
   "execution_count": 45,
   "metadata": {},
   "outputs": [],
   "source": [
    "def plot_bar(df: pd.DataFrame,\n",
    "             col_y: str,\n",
    "             title: str,\n",
    "             shift: float = 0.1) -> None:\n",
    "    \n",
    "    font_s = 12\n",
    "    fig = plt.subplots(figsize=(16,5))\n",
    "\n",
    "    plt.title(f'{title}\\n', fontsize=font_s+4)\n",
    "    \n",
    "    labels = df.index\n",
    "    x = range(len(labels))\n",
    "    y = df[col_y]\n",
    "    \n",
    "    plt.bar(x, y)\n",
    "    \n",
    "    for i, val in enumerate(y):\n",
    "        plt.text(i-shift,  val-7, str(round(val, 2)), fontsize=font_s+4, color='white')\n",
    "\n",
    "    plt.xticks([i for i in x], labels)\n",
    "\n",
    "    plt.xlabel('models', fontsize=font_s)\n",
    "    plt.ylabel(col_y, fontsize=font_s)\n",
    "\n",
    "    plt.grid()\n",
    "    plt.plot()"
   ]
  },
  {
   "cell_type": "markdown",
   "metadata": {},
   "source": [
    "---"
   ]
  },
  {
   "cell_type": "markdown",
   "metadata": {},
   "source": [
    "Конвертация результатов в датафрейм:"
   ]
  },
  {
   "cell_type": "code",
   "execution_count": 46,
   "metadata": {},
   "outputs": [],
   "source": [
    "data_results = convert_to_dataframe(results)"
   ]
  },
  {
   "cell_type": "markdown",
   "metadata": {},
   "source": [
    "Выведение на экран результатов с сортировкой по значениям метрик:"
   ]
  },
  {
   "cell_type": "code",
   "execution_count": 47,
   "metadata": {},
   "outputs": [
    {
     "data": {
      "text/html": [
       "<div>\n",
       "<style scoped>\n",
       "    .dataframe tbody tr th:only-of-type {\n",
       "        vertical-align: middle;\n",
       "    }\n",
       "\n",
       "    .dataframe tbody tr th {\n",
       "        vertical-align: top;\n",
       "    }\n",
       "\n",
       "    .dataframe thead th {\n",
       "        text-align: right;\n",
       "    }\n",
       "</style>\n",
       "<table border=\"1\" class=\"dataframe\">\n",
       "  <thead>\n",
       "    <tr style=\"text-align: right;\">\n",
       "      <th></th>\n",
       "      <th>score</th>\n",
       "    </tr>\n",
       "  </thead>\n",
       "  <tbody>\n",
       "    <tr>\n",
       "      <th>cb_reg</th>\n",
       "      <td>26.951234</td>\n",
       "    </tr>\n",
       "    <tr>\n",
       "      <th>lgbm_reg</th>\n",
       "      <td>27.700070</td>\n",
       "    </tr>\n",
       "    <tr>\n",
       "      <th>rf_reg</th>\n",
       "      <td>27.825261</td>\n",
       "    </tr>\n",
       "    <tr>\n",
       "      <th>lin_reg</th>\n",
       "      <td>28.102910</td>\n",
       "    </tr>\n",
       "    <tr>\n",
       "      <th>kn_reg</th>\n",
       "      <td>28.499947</td>\n",
       "    </tr>\n",
       "    <tr>\n",
       "      <th>dt_reg</th>\n",
       "      <td>33.754595</td>\n",
       "    </tr>\n",
       "  </tbody>\n",
       "</table>\n",
       "</div>"
      ],
      "text/plain": [
       "              score\n",
       "cb_reg    26.951234\n",
       "lgbm_reg  27.700070\n",
       "rf_reg    27.825261\n",
       "lin_reg   28.102910\n",
       "kn_reg    28.499947\n",
       "dt_reg    33.754595"
      ]
     },
     "execution_count": 47,
     "metadata": {},
     "output_type": "execute_result"
    }
   ],
   "source": [
    "data_results.sort_values('score')"
   ]
  },
  {
   "cell_type": "markdown",
   "metadata": {},
   "source": [
    "Построение графика значений метрик:"
   ]
  },
  {
   "cell_type": "code",
   "execution_count": 48,
   "metadata": {},
   "outputs": [
    {
     "data": {
      "image/png": "[encoded data removed]",
      "text/plain": [
       "<Figure size 1152x360 with 1 Axes>"
      ]
     },
     "metadata": {
      "needs_background": "light"
     },
     "output_type": "display_data"
    }
   ],
   "source": [
    "plot_bar(data_results, 'score', 'Models RMSE')"
   ]
  },
  {
   "cell_type": "markdown",
   "metadata": {},
   "source": [
    "<div style=\"background-color: #EBF3FA; border-radius: 3px; padding: 20px;\">\n",
    "\n",
    "<strong>Вывод</strong>\n",
    "    \n",
    "* Лучший показатель метрики RMSE продемонстрировала модель `CatBoostRegressor`.\n",
    "\n",
    "</div>"
   ]
  },
  {
   "cell_type": "markdown",
   "metadata": {},
   "source": [
    "<div style=\"background-color: blue; height: 2px; margin: 10px 0;\"></div>"
   ]
  },
  {
   "cell_type": "markdown",
   "metadata": {},
   "source": [
    "## Тестирование модели"
   ]
  },
  {
   "cell_type": "markdown",
   "metadata": {},
   "source": [
    ">В качестве порога метрики RMSE на тестовой выборке будет взято значение 48."
   ]
  },
  {
   "cell_type": "markdown",
   "metadata": {},
   "source": [
    "Задание функции, вычисляющей метрику RMSE:"
   ]
  },
  {
   "cell_type": "code",
   "execution_count": 49,
   "metadata": {},
   "outputs": [],
   "source": [
    "def root_mean_squared_error(y_train: np.array,\n",
    "                            y_pred: np.array) -> float:\n",
    "    \n",
    "    return mean_squared_error(y_train, y_pred, squared=False)"
   ]
  },
  {
   "cell_type": "markdown",
   "metadata": {},
   "source": [
    "---"
   ]
  },
  {
   "cell_type": "markdown",
   "metadata": {},
   "source": [
    "Задание модели:"
   ]
  },
  {
   "cell_type": "code",
   "execution_count": 50,
   "metadata": {},
   "outputs": [],
   "source": [
    "model = results['cb_reg']['model']"
   ]
  },
  {
   "cell_type": "markdown",
   "metadata": {},
   "source": [
    "Обчуение модели:"
   ]
  },
  {
   "cell_type": "code",
   "execution_count": 51,
   "metadata": {},
   "outputs": [
    {
     "data": {
      "text/plain": [
       "<catboost.core.CatBoostRegressor at 0x7f1a75383370>"
      ]
     },
     "execution_count": 51,
     "metadata": {},
     "output_type": "execute_result"
    }
   ],
   "source": [
    "model.fit(X_train_scaled, y_train, verbose=0)"
   ]
  },
  {
   "cell_type": "markdown",
   "metadata": {},
   "source": [
    "Получение предсказаний:"
   ]
  },
  {
   "cell_type": "code",
   "execution_count": 52,
   "metadata": {},
   "outputs": [],
   "source": [
    "y_preds = model.predict(X_test_scaled)"
   ]
  },
  {
   "cell_type": "markdown",
   "metadata": {},
   "source": [
    "Вычисление метрики:"
   ]
  },
  {
   "cell_type": "code",
   "execution_count": 53,
   "metadata": {},
   "outputs": [],
   "source": [
    "model_score = root_mean_squared_error(y_test, y_preds)"
   ]
  },
  {
   "cell_type": "markdown",
   "metadata": {},
   "source": [
    "Выведение на экран результата вычисления метрики:"
   ]
  },
  {
   "cell_type": "code",
   "execution_count": 54,
   "metadata": {},
   "outputs": [
    {
     "name": "stdout",
     "output_type": "stream",
     "text": [
      "RMSE Test: 41.326816900483244\n",
      "RMSE Train: 26.951234126930196\n"
     ]
    }
   ],
   "source": [
    "print('RMSE Test:', model_score)\n",
    "print('RMSE Train:', results['cb_reg']['score'])"
   ]
  },
  {
   "cell_type": "markdown",
   "metadata": {},
   "source": [
    "Построение графика значений метрик:"
   ]
  },
  {
   "cell_type": "code",
   "execution_count": 55,
   "metadata": {},
   "outputs": [
    {
     "data": {
      "image/png": "[encoded data removed]",
      "text/plain": [
       "<Figure size 1152x360 with 1 Axes>"
      ]
     },
     "metadata": {
      "needs_background": "light"
     },
     "output_type": "display_data"
    }
   ],
   "source": [
    "plot_bar(pd.DataFrame([results['lin_reg']['score'], model_score], \n",
    "                      columns=['score'],\n",
    "                      index=['train', 'test']), \n",
    "         'score', 'Train VS Test', shift=0.04)"
   ]
  },
  {
   "cell_type": "markdown",
   "metadata": {},
   "source": [
    "<div style=\"background-color: #EBF3FA; border-radius: 3px; padding: 20px;\">\n",
    "\n",
    "<strong>Вывод</strong>\n",
    "    \n",
    "* Модель продемонстрировала хороший результат метрики RMSE, не превышающий заявленного порога для тестовой выборки.\n",
    "\n",
    "</div>"
   ]
  },
  {
   "cell_type": "markdown",
   "metadata": {},
   "source": [
    "<div style=\"background-color: blue; height: 2px; margin: 10px 0;\"></div>"
   ]
  },
  {
   "cell_type": "markdown",
   "metadata": {},
   "source": [
    "## Вменяемость модели"
   ]
  },
  {
   "cell_type": "markdown",
   "metadata": {},
   "source": [
    "Отобранную модель необходимо проверить на вменяемость посредством прогнозирования временного ряда без обучения с помощью: \n",
    "\n",
    "* Константного значения — все значения тестовой выборки прогнозируются одним и тем же числом.\n",
    "* Предыдущего значения — все новые значения прогнозируются предыдущим значением ряда."
   ]
  },
  {
   "cell_type": "markdown",
   "metadata": {},
   "source": [
    "---"
   ]
  },
  {
   "cell_type": "markdown",
   "metadata": {},
   "source": [
    "**Константное значение**"
   ]
  },
  {
   "cell_type": "markdown",
   "metadata": {},
   "source": [
    "Задание константных значений по среднему арифметическому тренировочной выборки:"
   ]
  },
  {
   "cell_type": "code",
   "execution_count": 56,
   "metadata": {},
   "outputs": [],
   "source": [
    "pred_mean = np.ones(test.shape) * train['num_orders'].mean()"
   ]
  },
  {
   "cell_type": "markdown",
   "metadata": {},
   "source": [
    "Вычисление метрики:"
   ]
  },
  {
   "cell_type": "code",
   "execution_count": 57,
   "metadata": {},
   "outputs": [],
   "source": [
    "const_score = root_mean_squared_error(test, pred_mean)"
   ]
  },
  {
   "cell_type": "markdown",
   "metadata": {},
   "source": [
    "Выведение на экран метрик для сравнения результатов:"
   ]
  },
  {
   "cell_type": "code",
   "execution_count": 58,
   "metadata": {},
   "outputs": [
    {
     "name": "stdout",
     "output_type": "stream",
     "text": [
      "Среднее число заказов в час: 139.60411899313502\n",
      "RMSE константной модели: 79.7655314063154\n",
      "RMSE лучшей модели: 41.326816900483244\n"
     ]
    }
   ],
   "source": [
    "print('Среднее число заказов в час:', test['num_orders'].mean())\n",
    "print(f'RMSE константной модели: {const_score}')\n",
    "print(f'RMSE лучшей модели: {model_score}')"
   ]
  },
  {
   "cell_type": "markdown",
   "metadata": {},
   "source": [
    "Построение графика значений метрик:"
   ]
  },
  {
   "cell_type": "code",
   "execution_count": 59,
   "metadata": {},
   "outputs": [
    {
     "data": {
      "image/png": "[encoded data removed]",
      "text/plain": [
       "<Figure size 1152x360 with 1 Axes>"
      ]
     },
     "metadata": {
      "needs_background": "light"
     },
     "output_type": "display_data"
    }
   ],
   "source": [
    "plot_bar(pd.DataFrame([results['lin_reg']['score'], model_score, const_score], \n",
    "                      columns=['score'],\n",
    "                      index=['train', 'test', 'const']), \n",
    "         'score', 'Train VS Test VS Const', shift=0.07)"
   ]
  },
  {
   "cell_type": "markdown",
   "metadata": {},
   "source": [
    "---"
   ]
  },
  {
   "cell_type": "markdown",
   "metadata": {},
   "source": [
    "**Предыдущее значение**"
   ]
  },
  {
   "cell_type": "markdown",
   "metadata": {},
   "source": [
    "Задание предыдущих значений:"
   ]
  },
  {
   "cell_type": "code",
   "execution_count": 60,
   "metadata": {},
   "outputs": [],
   "source": [
    "pred_prev = test.shift()\n",
    "pred_prev.iloc[0] = train.iloc[-1]"
   ]
  },
  {
   "cell_type": "markdown",
   "metadata": {},
   "source": [
    "Вычисление метрики:"
   ]
  },
  {
   "cell_type": "code",
   "execution_count": 61,
   "metadata": {},
   "outputs": [],
   "source": [
    "prev_score = root_mean_squared_error(test, pred_prev)"
   ]
  },
  {
   "cell_type": "markdown",
   "metadata": {},
   "source": [
    "Выведение на экран метрик для сравнения результатов:"
   ]
  },
  {
   "cell_type": "code",
   "execution_count": 62,
   "metadata": {},
   "outputs": [
    {
     "name": "stdout",
     "output_type": "stream",
     "text": [
      "Среднее число заказов в час: 139.60411899313502\n",
      "RMSE модели: 49.53939423391295\n",
      "RMSE лучшей модели: 41.326816900483244\n"
     ]
    }
   ],
   "source": [
    "print('Среднее число заказов в час:', test['num_orders'].mean())\n",
    "print(f'RMSE модели: {prev_score}')\n",
    "print(f'RMSE лучшей модели: {model_score}')"
   ]
  },
  {
   "cell_type": "markdown",
   "metadata": {},
   "source": [
    "Построение графика значений метрик:"
   ]
  },
  {
   "cell_type": "code",
   "execution_count": 63,
   "metadata": {},
   "outputs": [
    {
     "data": {
      "image/png": "[encoded data removed]",
      "text/plain": [
       "<Figure size 1152x360 with 1 Axes>"
      ]
     },
     "metadata": {
      "needs_background": "light"
     },
     "output_type": "display_data"
    }
   ],
   "source": [
    "plot_bar(pd.DataFrame([results['lin_reg']['score'], model_score, prev_score], \n",
    "                      columns=['score'],\n",
    "                      index=['train', 'test', 'prev']), \n",
    "         'score', 'Train VS Test VS Prev', shift=0.07)"
   ]
  },
  {
   "cell_type": "markdown",
   "metadata": {},
   "source": [
    "<div style=\"background-color: #EBF3FA; border-radius: 3px; padding: 20px;\">\n",
    "\n",
    "<strong>Вывод</strong>\n",
    "    \n",
    "* Модель достаточно вменяема.\n",
    "\n",
    "</div>"
   ]
  },
  {
   "cell_type": "markdown",
   "metadata": {},
   "source": [
    "<div style=\"background-color: blue; height: 2px; margin: 10px 0;\"></div>"
   ]
  },
  {
   "cell_type": "markdown",
   "metadata": {},
   "source": [
    "## Общий вывод"
   ]
  },
  {
   "cell_type": "markdown",
   "metadata": {},
   "source": [
    "В ходе работы с данными был проведён первичный анализ и подготовка данных для построения моделей прогнозирования.\n",
    "\n",
    "При обучении различных моделей с подбором параметров сравнение полученных значений метрики RMSE показало, что лучше всего проявила себя модель `CatBoostRegressor `. При этом отобранная модель показала:\n",
    "\n",
    "* не превышающий заявленного порога для метрики RMSE результат на тестовой выборке\n",
    "* вменяемость относительно константного и предыдущего значений.\n",
    "\n",
    "Таким образом, подобранная модель пронозирования заказов такси на следующий час может быть реализована в рамках поставленной задачи для привлечения большего количества водителей в период пиковой нагрузки."
   ]
  },
  {
   "cell_type": "markdown",
   "metadata": {},
   "source": [
    "<div style=\"text-align: center; font-size: 20px; padding: 15px 0;\">\n",
    "    <a href=\"#Система-предсказания-ДТП\" data-toc-modified-id=\"Прогнозирование-температуры-звезды\" style=\"text-decoration: none; color: #296eaa; border: 2px dashed #296eaa; opacity: 0.8; border-radius: 3px; padding: 10px 80px;\">\n",
    "        В начало файла ↑\n",
    "    </a>\n",
    "</div>"
   ]
  }
 ],
 "metadata": {
  "ExecuteTimeLog": [
   {
    "duration": 859,
    "start_time": "2023-04-27T09:43:18.957Z"
   },
   {
    "duration": 170,
    "start_time": "2023-04-27T09:43:34.310Z"
   },
   {
    "duration": 11,
    "start_time": "2023-04-27T09:43:39.385Z"
   },
   {
    "duration": 4,
    "start_time": "2023-04-27T09:43:49.699Z"
   },
   {
    "duration": 47,
    "start_time": "2023-04-27T09:44:36.673Z"
   },
   {
    "duration": 7,
    "start_time": "2023-04-27T09:44:37.636Z"
   },
   {
    "duration": 3,
    "start_time": "2023-04-27T09:44:50.312Z"
   },
   {
    "duration": 9,
    "start_time": "2023-04-27T09:44:50.687Z"
   },
   {
    "duration": 10,
    "start_time": "2023-04-27T09:46:24.246Z"
   },
   {
    "duration": 7,
    "start_time": "2023-04-27T09:46:25.017Z"
   },
   {
    "duration": 3,
    "start_time": "2023-04-27T09:46:31.779Z"
   },
   {
    "duration": 654,
    "start_time": "2023-04-27T09:47:14.586Z"
   },
   {
    "duration": 49,
    "start_time": "2023-04-27T09:47:15.242Z"
   },
   {
    "duration": 2,
    "start_time": "2023-04-27T09:47:15.293Z"
   },
   {
    "duration": 4,
    "start_time": "2023-04-27T09:47:32.057Z"
   },
   {
    "duration": 9,
    "start_time": "2023-04-27T09:47:42.221Z"
   },
   {
    "duration": 10,
    "start_time": "2023-04-27T09:47:42.721Z"
   },
   {
    "duration": 3,
    "start_time": "2023-04-27T09:47:44.535Z"
   },
   {
    "duration": 222,
    "start_time": "2023-04-27T09:47:53.870Z"
   },
   {
    "duration": 266,
    "start_time": "2023-04-27T09:47:59.634Z"
   },
   {
    "duration": 604,
    "start_time": "2023-04-27T09:48:50.213Z"
   },
   {
    "duration": 50,
    "start_time": "2023-04-27T09:48:50.819Z"
   },
   {
    "duration": 3,
    "start_time": "2023-04-27T09:48:51.172Z"
   },
   {
    "duration": 3,
    "start_time": "2023-04-27T09:48:51.722Z"
   },
   {
    "duration": 3,
    "start_time": "2023-04-27T09:48:52.298Z"
   },
   {
    "duration": 10,
    "start_time": "2023-04-27T09:49:00.148Z"
   },
   {
    "duration": 636,
    "start_time": "2023-04-27T09:49:04.886Z"
   },
   {
    "duration": 8,
    "start_time": "2023-04-27T09:49:13.724Z"
   },
   {
    "duration": 3,
    "start_time": "2023-04-27T09:49:20.286Z"
   },
   {
    "duration": 275,
    "start_time": "2023-04-27T09:49:29.824Z"
   },
   {
    "duration": 4,
    "start_time": "2023-04-27T10:02:49.215Z"
   },
   {
    "duration": 1304,
    "start_time": "2023-04-27T10:02:53.001Z"
   },
   {
    "duration": 4,
    "start_time": "2023-04-27T10:03:10.076Z"
   },
   {
    "duration": 8,
    "start_time": "2023-04-27T10:03:10.702Z"
   },
   {
    "duration": 17,
    "start_time": "2023-04-27T10:03:12.426Z"
   },
   {
    "duration": 434,
    "start_time": "2023-04-27T10:04:14.013Z"
   },
   {
    "duration": 10,
    "start_time": "2023-04-27T10:04:19.098Z"
   },
   {
    "duration": 632,
    "start_time": "2023-04-27T10:07:17.676Z"
   },
   {
    "duration": 50,
    "start_time": "2023-04-27T10:07:18.311Z"
   },
   {
    "duration": 3,
    "start_time": "2023-04-27T10:07:18.363Z"
   },
   {
    "duration": 13,
    "start_time": "2023-04-27T10:07:18.369Z"
   },
   {
    "duration": 3,
    "start_time": "2023-04-27T10:07:18.384Z"
   },
   {
    "duration": 11,
    "start_time": "2023-04-27T10:07:18.389Z"
   },
   {
    "duration": 641,
    "start_time": "2023-04-27T10:07:18.401Z"
   },
   {
    "duration": 18,
    "start_time": "2023-04-27T10:07:19.044Z"
   },
   {
    "duration": 9,
    "start_time": "2023-04-27T10:07:19.064Z"
   },
   {
    "duration": 271,
    "start_time": "2023-04-27T10:07:19.076Z"
   },
   {
    "duration": 4,
    "start_time": "2023-04-27T10:07:54.981Z"
   },
   {
    "duration": 5,
    "start_time": "2023-04-27T10:08:02.903Z"
   },
   {
    "duration": 4,
    "start_time": "2023-04-27T10:08:29.671Z"
   },
   {
    "duration": 11,
    "start_time": "2023-04-27T10:08:30.632Z"
   },
   {
    "duration": 12,
    "start_time": "2023-04-27T10:08:31.606Z"
   },
   {
    "duration": 434,
    "start_time": "2023-04-27T10:08:39.045Z"
   },
   {
    "duration": 684,
    "start_time": "2023-04-27T10:09:41.285Z"
   },
   {
    "duration": 5,
    "start_time": "2023-04-27T10:10:38.489Z"
   },
   {
    "duration": 3,
    "start_time": "2023-04-27T10:12:59.903Z"
   },
   {
    "duration": 8,
    "start_time": "2023-04-27T10:13:03.778Z"
   },
   {
    "duration": 1420,
    "start_time": "2023-04-27T10:15:18.021Z"
   },
   {
    "duration": 5,
    "start_time": "2023-04-27T10:15:28.961Z"
   },
   {
    "duration": 7,
    "start_time": "2023-04-27T10:17:02.617Z"
   },
   {
    "duration": 81,
    "start_time": "2023-04-27T10:18:18.330Z"
   },
   {
    "duration": 10,
    "start_time": "2023-04-27T10:18:32.042Z"
   },
   {
    "duration": 10,
    "start_time": "2023-04-27T10:19:30.766Z"
   },
   {
    "duration": 47,
    "start_time": "2023-04-27T10:19:34.581Z"
   },
   {
    "duration": 19,
    "start_time": "2023-04-27T10:20:03.387Z"
   },
   {
    "duration": 6,
    "start_time": "2023-04-27T10:20:36.835Z"
   },
   {
    "duration": 18,
    "start_time": "2023-04-27T10:21:54.439Z"
   },
   {
    "duration": 15,
    "start_time": "2023-04-27T10:22:01.067Z"
   },
   {
    "duration": 5,
    "start_time": "2023-04-27T10:22:06.127Z"
   },
   {
    "duration": 6,
    "start_time": "2023-04-27T10:22:12.573Z"
   },
   {
    "duration": 573,
    "start_time": "2023-04-27T10:22:14.454Z"
   },
   {
    "duration": 5,
    "start_time": "2023-04-27T10:22:16.625Z"
   },
   {
    "duration": 8,
    "start_time": "2023-04-27T10:22:16.970Z"
   },
   {
    "duration": 11,
    "start_time": "2023-04-27T10:22:17.582Z"
   },
   {
    "duration": 6,
    "start_time": "2023-04-27T10:22:17.981Z"
   },
   {
    "duration": 7,
    "start_time": "2023-04-27T10:22:19.038Z"
   },
   {
    "duration": 14,
    "start_time": "2023-04-27T10:23:01.502Z"
   },
   {
    "duration": 6,
    "start_time": "2023-04-27T10:23:47.503Z"
   },
   {
    "duration": 10,
    "start_time": "2023-04-27T10:24:08.209Z"
   },
   {
    "duration": 1322,
    "start_time": "2023-04-27T10:24:22.656Z"
   },
   {
    "duration": 2,
    "start_time": "2023-04-27T10:24:23.980Z"
   },
   {
    "duration": 61,
    "start_time": "2023-04-27T10:24:23.984Z"
   },
   {
    "duration": 3,
    "start_time": "2023-04-27T10:24:24.047Z"
   },
   {
    "duration": 14,
    "start_time": "2023-04-27T10:24:24.051Z"
   },
   {
    "duration": 3,
    "start_time": "2023-04-27T10:24:24.067Z"
   },
   {
    "duration": 5,
    "start_time": "2023-04-27T10:24:24.072Z"
   },
   {
    "duration": 639,
    "start_time": "2023-04-27T10:24:24.079Z"
   },
   {
    "duration": 8,
    "start_time": "2023-04-27T10:24:24.720Z"
   },
   {
    "duration": 6,
    "start_time": "2023-04-27T10:24:24.731Z"
   },
   {
    "duration": 320,
    "start_time": "2023-04-27T10:24:24.739Z"
   },
   {
    "duration": 4,
    "start_time": "2023-04-27T10:24:25.061Z"
   },
   {
    "duration": 16,
    "start_time": "2023-04-27T10:24:25.067Z"
   },
   {
    "duration": 26,
    "start_time": "2023-04-27T10:24:25.084Z"
   },
   {
    "duration": 18,
    "start_time": "2023-04-27T10:24:25.112Z"
   },
   {
    "duration": 19,
    "start_time": "2023-04-27T10:24:25.132Z"
   },
   {
    "duration": 26,
    "start_time": "2023-04-27T10:24:25.152Z"
   },
   {
    "duration": 17,
    "start_time": "2023-04-27T10:24:25.180Z"
   },
   {
    "duration": 444,
    "start_time": "2023-04-27T10:24:25.198Z"
   },
   {
    "duration": 4,
    "start_time": "2023-04-27T10:24:25.643Z"
   },
   {
    "duration": 29,
    "start_time": "2023-04-27T10:24:25.648Z"
   },
   {
    "duration": 24,
    "start_time": "2023-04-27T10:24:25.678Z"
   },
   {
    "duration": 23,
    "start_time": "2023-04-27T10:24:25.703Z"
   },
   {
    "duration": 12,
    "start_time": "2023-04-27T10:24:25.727Z"
   },
   {
    "duration": 20,
    "start_time": "2023-04-27T10:24:25.741Z"
   },
   {
    "duration": 196,
    "start_time": "2023-04-27T10:24:25.763Z"
   },
   {
    "duration": 28,
    "start_time": "2023-04-27T10:29:10.982Z"
   },
   {
    "duration": 3,
    "start_time": "2023-04-27T10:29:34.644Z"
   },
   {
    "duration": 117,
    "start_time": "2023-04-27T11:23:35.989Z"
   },
   {
    "duration": 7,
    "start_time": "2023-04-27T11:24:14.291Z"
   },
   {
    "duration": 5,
    "start_time": "2023-04-27T11:25:59.933Z"
   },
   {
    "duration": 3,
    "start_time": "2023-04-27T11:49:34.381Z"
   },
   {
    "duration": 10,
    "start_time": "2023-04-27T11:50:36.540Z"
   },
   {
    "duration": 10,
    "start_time": "2023-04-27T11:50:40.536Z"
   },
   {
    "duration": 10,
    "start_time": "2023-04-27T11:51:01.736Z"
   },
   {
    "duration": 11,
    "start_time": "2023-04-27T11:51:09.535Z"
   },
   {
    "duration": 11,
    "start_time": "2023-04-27T11:51:15.920Z"
   },
   {
    "duration": 5,
    "start_time": "2023-04-27T11:51:18.511Z"
   },
   {
    "duration": 35,
    "start_time": "2023-04-27T11:59:13.845Z"
   },
   {
    "duration": 2,
    "start_time": "2023-04-27T12:01:23.353Z"
   },
   {
    "duration": 6,
    "start_time": "2023-04-27T12:01:25.504Z"
   },
   {
    "duration": 3,
    "start_time": "2023-04-27T12:02:53.782Z"
   },
   {
    "duration": 3,
    "start_time": "2023-04-27T12:03:38.831Z"
   },
   {
    "duration": 6,
    "start_time": "2023-04-27T12:03:40.282Z"
   },
   {
    "duration": 4,
    "start_time": "2023-04-27T12:28:30.849Z"
   },
   {
    "duration": 6,
    "start_time": "2023-04-27T12:30:19.026Z"
   },
   {
    "duration": 100,
    "start_time": "2023-04-27T12:34:28.232Z"
   },
   {
    "duration": 9,
    "start_time": "2023-04-27T12:34:32.156Z"
   },
   {
    "duration": 4,
    "start_time": "2023-04-27T12:34:35.044Z"
   },
   {
    "duration": 5,
    "start_time": "2023-04-27T12:34:35.355Z"
   },
   {
    "duration": 7,
    "start_time": "2023-04-27T12:34:35.808Z"
   },
   {
    "duration": 3,
    "start_time": "2023-04-27T12:34:37.781Z"
   },
   {
    "duration": 4,
    "start_time": "2023-04-27T12:34:38.055Z"
   },
   {
    "duration": 5,
    "start_time": "2023-04-27T12:34:38.342Z"
   },
   {
    "duration": 8,
    "start_time": "2023-04-27T12:34:38.647Z"
   },
   {
    "duration": 9,
    "start_time": "2023-04-27T12:35:24.735Z"
   },
   {
    "duration": 9,
    "start_time": "2023-04-27T12:36:01.435Z"
   },
   {
    "duration": 46,
    "start_time": "2023-04-27T12:36:38.610Z"
   },
   {
    "duration": 8,
    "start_time": "2023-04-27T12:37:34.675Z"
   },
   {
    "duration": 200,
    "start_time": "2023-04-27T12:37:35.578Z"
   },
   {
    "duration": 11,
    "start_time": "2023-04-27T12:37:54.271Z"
   },
   {
    "duration": 171,
    "start_time": "2023-04-27T12:37:55.608Z"
   },
   {
    "duration": 8,
    "start_time": "2023-04-27T12:38:20.439Z"
   },
   {
    "duration": 9382,
    "start_time": "2023-04-27T12:38:23.001Z"
   },
   {
    "duration": 8,
    "start_time": "2023-04-27T12:39:11.516Z"
   },
   {
    "duration": 4434,
    "start_time": "2023-04-27T12:39:24.241Z"
   },
   {
    "duration": 7,
    "start_time": "2023-04-27T12:41:11.886Z"
   },
   {
    "duration": 7990,
    "start_time": "2023-04-27T12:41:12.486Z"
   },
   {
    "duration": 4,
    "start_time": "2023-04-27T12:41:29.522Z"
   },
   {
    "duration": 1518,
    "start_time": "2023-04-27T12:41:59.424Z"
   },
   {
    "duration": 3,
    "start_time": "2023-04-27T12:42:00.944Z"
   },
   {
    "duration": 91,
    "start_time": "2023-04-27T12:42:00.949Z"
   },
   {
    "duration": 3,
    "start_time": "2023-04-27T12:42:01.042Z"
   },
   {
    "duration": 43,
    "start_time": "2023-04-27T12:42:01.048Z"
   },
   {
    "duration": 80,
    "start_time": "2023-04-27T12:42:01.094Z"
   },
   {
    "duration": 40,
    "start_time": "2023-04-27T12:42:01.176Z"
   },
   {
    "duration": 743,
    "start_time": "2023-04-27T12:42:01.219Z"
   },
   {
    "duration": 9,
    "start_time": "2023-04-27T12:42:01.964Z"
   },
   {
    "duration": 32,
    "start_time": "2023-04-27T12:42:01.975Z"
   },
   {
    "duration": 334,
    "start_time": "2023-04-27T12:42:02.009Z"
   },
   {
    "duration": 6,
    "start_time": "2023-04-27T12:42:02.345Z"
   },
   {
    "duration": 26,
    "start_time": "2023-04-27T12:42:02.359Z"
   },
   {
    "duration": 37,
    "start_time": "2023-04-27T12:42:02.388Z"
   },
   {
    "duration": 26,
    "start_time": "2023-04-27T12:42:02.427Z"
   },
   {
    "duration": 37,
    "start_time": "2023-04-27T12:42:02.455Z"
   },
   {
    "duration": 61,
    "start_time": "2023-04-27T12:42:02.494Z"
   },
   {
    "duration": 23,
    "start_time": "2023-04-27T12:42:02.557Z"
   },
   {
    "duration": 452,
    "start_time": "2023-04-27T12:42:02.582Z"
   },
   {
    "duration": 3,
    "start_time": "2023-04-27T12:42:03.035Z"
   },
   {
    "duration": 8,
    "start_time": "2023-04-27T12:42:03.039Z"
   },
   {
    "duration": 14,
    "start_time": "2023-04-27T12:42:03.049Z"
   },
   {
    "duration": 6,
    "start_time": "2023-04-27T12:42:03.064Z"
   },
   {
    "duration": 10,
    "start_time": "2023-04-27T12:42:03.071Z"
   },
   {
    "duration": 8,
    "start_time": "2023-04-27T12:42:03.083Z"
   },
   {
    "duration": 8,
    "start_time": "2023-04-27T12:42:03.092Z"
   },
   {
    "duration": 11,
    "start_time": "2023-04-27T12:42:03.102Z"
   },
   {
    "duration": 5,
    "start_time": "2023-04-27T12:42:03.114Z"
   },
   {
    "duration": 48,
    "start_time": "2023-04-27T12:42:03.120Z"
   },
   {
    "duration": 11,
    "start_time": "2023-04-27T12:42:03.170Z"
   },
   {
    "duration": 6176,
    "start_time": "2023-04-27T12:42:08.724Z"
   },
   {
    "duration": 8,
    "start_time": "2023-04-27T12:44:49.601Z"
   },
   {
    "duration": 8,
    "start_time": "2023-04-27T12:44:56.279Z"
   },
   {
    "duration": 553,
    "start_time": "2023-04-27T12:44:56.933Z"
   },
   {
    "duration": 690,
    "start_time": "2023-04-27T12:45:02.085Z"
   },
   {
    "duration": 11,
    "start_time": "2023-04-27T12:45:20.011Z"
   },
   {
    "duration": 637,
    "start_time": "2023-04-27T12:45:20.835Z"
   },
   {
    "duration": 93,
    "start_time": "2023-04-27T12:45:37.192Z"
   },
   {
    "duration": 591,
    "start_time": "2023-04-27T12:45:37.787Z"
   },
   {
    "duration": 4,
    "start_time": "2023-04-27T12:45:47.636Z"
   },
   {
    "duration": 7,
    "start_time": "2023-04-27T12:45:47.964Z"
   },
   {
    "duration": 754,
    "start_time": "2023-04-27T12:45:48.540Z"
   },
   {
    "duration": 5,
    "start_time": "2023-04-27T12:45:54.577Z"
   },
   {
    "duration": 8,
    "start_time": "2023-04-27T12:45:54.905Z"
   },
   {
    "duration": 586,
    "start_time": "2023-04-27T12:45:55.186Z"
   },
   {
    "duration": 5,
    "start_time": "2023-04-27T12:46:13.937Z"
   },
   {
    "duration": 12,
    "start_time": "2023-04-27T12:46:14.486Z"
   },
   {
    "duration": 1145,
    "start_time": "2023-04-27T12:46:14.787Z"
   },
   {
    "duration": 919,
    "start_time": "2023-04-27T12:46:30.052Z"
   },
   {
    "duration": 821,
    "start_time": "2023-04-27T12:46:36.238Z"
   },
   {
    "duration": 857,
    "start_time": "2023-04-27T12:46:39.403Z"
   },
   {
    "duration": 11,
    "start_time": "2023-04-27T12:46:48.996Z"
   },
   {
    "duration": 4618,
    "start_time": "2023-04-27T12:46:49.614Z"
   },
   {
    "duration": 6444,
    "start_time": "2023-04-27T12:47:19.617Z"
   },
   {
    "duration": 8,
    "start_time": "2023-04-27T12:47:43.354Z"
   },
   {
    "duration": 231,
    "start_time": "2023-04-27T12:47:43.729Z"
   },
   {
    "duration": 8,
    "start_time": "2023-04-27T12:47:58.605Z"
   },
   {
    "duration": 4431,
    "start_time": "2023-04-27T12:47:58.929Z"
   },
   {
    "duration": 4548,
    "start_time": "2023-04-27T12:48:05.418Z"
   },
   {
    "duration": 158,
    "start_time": "2023-04-27T12:48:13.005Z"
   },
   {
    "duration": 83,
    "start_time": "2023-04-27T12:48:32.056Z"
   },
   {
    "duration": 8,
    "start_time": "2023-04-27T12:48:36.580Z"
   },
   {
    "duration": 4282,
    "start_time": "2023-04-27T12:48:37.179Z"
   },
   {
    "duration": 47,
    "start_time": "2023-04-27T12:50:00.257Z"
   },
   {
    "duration": 6,
    "start_time": "2023-04-27T12:50:09.633Z"
   },
   {
    "duration": 4,
    "start_time": "2023-04-27T12:50:37.068Z"
   },
   {
    "duration": 16,
    "start_time": "2023-04-27T12:50:51.908Z"
   },
   {
    "duration": 4,
    "start_time": "2023-04-27T12:51:16.224Z"
   },
   {
    "duration": 8,
    "start_time": "2023-04-27T12:51:19.209Z"
   },
   {
    "duration": 3,
    "start_time": "2023-04-27T12:51:21.387Z"
   },
   {
    "duration": 0,
    "start_time": "2023-04-27T12:52:47.027Z"
   },
   {
    "duration": 0,
    "start_time": "2023-04-27T12:52:47.028Z"
   },
   {
    "duration": 1505,
    "start_time": "2023-04-27T12:53:31.996Z"
   },
   {
    "duration": 2,
    "start_time": "2023-04-27T12:53:33.503Z"
   },
   {
    "duration": 63,
    "start_time": "2023-04-27T12:53:33.507Z"
   },
   {
    "duration": 3,
    "start_time": "2023-04-27T12:53:33.572Z"
   },
   {
    "duration": 29,
    "start_time": "2023-04-27T12:53:33.578Z"
   },
   {
    "duration": 21,
    "start_time": "2023-04-27T12:53:33.610Z"
   },
   {
    "duration": 18,
    "start_time": "2023-04-27T12:53:33.633Z"
   },
   {
    "duration": 721,
    "start_time": "2023-04-27T12:53:33.653Z"
   },
   {
    "duration": 9,
    "start_time": "2023-04-27T12:53:34.376Z"
   },
   {
    "duration": 4,
    "start_time": "2023-04-27T12:53:34.387Z"
   },
   {
    "duration": 243,
    "start_time": "2023-04-27T12:53:34.393Z"
   },
   {
    "duration": 6,
    "start_time": "2023-04-27T12:53:34.638Z"
   },
   {
    "duration": 17,
    "start_time": "2023-04-27T12:53:34.646Z"
   },
   {
    "duration": 10,
    "start_time": "2023-04-27T12:53:34.667Z"
   },
   {
    "duration": 12,
    "start_time": "2023-04-27T12:53:34.679Z"
   },
   {
    "duration": 8,
    "start_time": "2023-04-27T12:53:34.693Z"
   },
   {
    "duration": 10,
    "start_time": "2023-04-27T12:53:34.702Z"
   },
   {
    "duration": 10,
    "start_time": "2023-04-27T12:53:34.713Z"
   },
   {
    "duration": 520,
    "start_time": "2023-04-27T12:53:34.725Z"
   },
   {
    "duration": 13,
    "start_time": "2023-04-27T12:53:35.248Z"
   },
   {
    "duration": 14,
    "start_time": "2023-04-27T12:53:35.263Z"
   },
   {
    "duration": 17,
    "start_time": "2023-04-27T12:53:35.280Z"
   },
   {
    "duration": 7,
    "start_time": "2023-04-27T12:53:35.299Z"
   },
   {
    "duration": 18,
    "start_time": "2023-04-27T12:53:35.309Z"
   },
   {
    "duration": 7,
    "start_time": "2023-04-27T12:53:35.329Z"
   },
   {
    "duration": 21,
    "start_time": "2023-04-27T12:53:35.338Z"
   },
   {
    "duration": 10,
    "start_time": "2023-04-27T12:53:35.361Z"
   },
   {
    "duration": 16,
    "start_time": "2023-04-27T12:53:35.373Z"
   },
   {
    "duration": 23,
    "start_time": "2023-04-27T12:53:35.392Z"
   },
   {
    "duration": 24,
    "start_time": "2023-04-27T12:53:35.417Z"
   },
   {
    "duration": 3319,
    "start_time": "2023-04-27T12:53:35.444Z"
   },
   {
    "duration": 94,
    "start_time": "2023-04-27T12:53:38.766Z"
   },
   {
    "duration": 1416,
    "start_time": "2023-04-27T13:29:55.685Z"
   },
   {
    "duration": 2,
    "start_time": "2023-04-27T13:29:57.104Z"
   },
   {
    "duration": 53,
    "start_time": "2023-04-27T13:29:57.108Z"
   },
   {
    "duration": 3,
    "start_time": "2023-04-27T13:29:57.163Z"
   },
   {
    "duration": 12,
    "start_time": "2023-04-27T13:29:57.169Z"
   },
   {
    "duration": 7,
    "start_time": "2023-04-27T13:29:57.183Z"
   },
   {
    "duration": 5,
    "start_time": "2023-04-27T13:29:57.192Z"
   },
   {
    "duration": 688,
    "start_time": "2023-04-27T13:29:57.198Z"
   },
   {
    "duration": 8,
    "start_time": "2023-04-27T13:29:57.888Z"
   },
   {
    "duration": 5,
    "start_time": "2023-04-27T13:29:57.897Z"
   },
   {
    "duration": 221,
    "start_time": "2023-04-27T13:29:57.903Z"
   },
   {
    "duration": 5,
    "start_time": "2023-04-27T13:29:58.125Z"
   },
   {
    "duration": 17,
    "start_time": "2023-04-27T13:29:58.132Z"
   },
   {
    "duration": 9,
    "start_time": "2023-04-27T13:29:58.152Z"
   },
   {
    "duration": 10,
    "start_time": "2023-04-27T13:29:58.163Z"
   },
   {
    "duration": 7,
    "start_time": "2023-04-27T13:29:58.175Z"
   },
   {
    "duration": 6,
    "start_time": "2023-04-27T13:29:58.184Z"
   },
   {
    "duration": 6,
    "start_time": "2023-04-27T13:29:58.191Z"
   },
   {
    "duration": 476,
    "start_time": "2023-04-27T13:29:58.199Z"
   },
   {
    "duration": 2,
    "start_time": "2023-04-27T13:29:58.677Z"
   },
   {
    "duration": 8,
    "start_time": "2023-04-27T13:29:58.681Z"
   },
   {
    "duration": 6,
    "start_time": "2023-04-27T13:29:58.690Z"
   },
   {
    "duration": 5,
    "start_time": "2023-04-27T13:29:58.698Z"
   },
   {
    "duration": 11,
    "start_time": "2023-04-27T13:29:58.704Z"
   },
   {
    "duration": 7,
    "start_time": "2023-04-27T13:29:58.716Z"
   },
   {
    "duration": 15,
    "start_time": "2023-04-27T13:29:58.724Z"
   },
   {
    "duration": 21,
    "start_time": "2023-04-27T13:29:58.741Z"
   },
   {
    "duration": 4,
    "start_time": "2023-04-27T13:29:58.764Z"
   },
   {
    "duration": 8,
    "start_time": "2023-04-27T13:29:58.770Z"
   },
   {
    "duration": 7,
    "start_time": "2023-04-27T13:29:58.780Z"
   },
   {
    "duration": 3884,
    "start_time": "2023-04-27T13:29:58.788Z"
   },
   {
    "duration": 3,
    "start_time": "2023-04-27T13:30:02.760Z"
   },
   {
    "duration": 1476,
    "start_time": "2023-04-27T13:31:17.415Z"
   },
   {
    "duration": 3,
    "start_time": "2023-04-27T13:31:18.893Z"
   },
   {
    "duration": 53,
    "start_time": "2023-04-27T13:31:18.897Z"
   },
   {
    "duration": 2,
    "start_time": "2023-04-27T13:31:18.952Z"
   },
   {
    "duration": 13,
    "start_time": "2023-04-27T13:31:18.957Z"
   },
   {
    "duration": 10,
    "start_time": "2023-04-27T13:31:18.972Z"
   },
   {
    "duration": 6,
    "start_time": "2023-04-27T13:31:18.984Z"
   },
   {
    "duration": 720,
    "start_time": "2023-04-27T13:31:18.991Z"
   },
   {
    "duration": 10,
    "start_time": "2023-04-27T13:31:19.713Z"
   },
   {
    "duration": 4,
    "start_time": "2023-04-27T13:31:19.725Z"
   },
   {
    "duration": 298,
    "start_time": "2023-04-27T13:31:19.731Z"
   },
   {
    "duration": 6,
    "start_time": "2023-04-27T13:31:20.031Z"
   },
   {
    "duration": 8,
    "start_time": "2023-04-27T13:31:20.039Z"
   },
   {
    "duration": 12,
    "start_time": "2023-04-27T13:31:20.060Z"
   },
   {
    "duration": 11,
    "start_time": "2023-04-27T13:31:20.074Z"
   },
   {
    "duration": 8,
    "start_time": "2023-04-27T13:31:20.087Z"
   },
   {
    "duration": 6,
    "start_time": "2023-04-27T13:31:20.096Z"
   },
   {
    "duration": 14,
    "start_time": "2023-04-27T13:31:20.104Z"
   },
   {
    "duration": 477,
    "start_time": "2023-04-27T13:31:20.119Z"
   },
   {
    "duration": 2,
    "start_time": "2023-04-27T13:31:20.598Z"
   },
   {
    "duration": 11,
    "start_time": "2023-04-27T13:31:20.602Z"
   },
   {
    "duration": 10,
    "start_time": "2023-04-27T13:31:20.615Z"
   },
   {
    "duration": 5,
    "start_time": "2023-04-27T13:31:20.627Z"
   },
   {
    "duration": 14,
    "start_time": "2023-04-27T13:31:20.633Z"
   },
   {
    "duration": 9,
    "start_time": "2023-04-27T13:31:20.660Z"
   },
   {
    "duration": 17,
    "start_time": "2023-04-27T13:31:20.671Z"
   },
   {
    "duration": 14,
    "start_time": "2023-04-27T13:31:20.689Z"
   },
   {
    "duration": 6,
    "start_time": "2023-04-27T13:31:20.705Z"
   },
   {
    "duration": 8,
    "start_time": "2023-04-27T13:31:20.713Z"
   },
   {
    "duration": 8,
    "start_time": "2023-04-27T13:31:20.723Z"
   },
   {
    "duration": 3735,
    "start_time": "2023-04-27T13:31:20.733Z"
   },
   {
    "duration": 91,
    "start_time": "2023-04-27T13:31:24.470Z"
   },
   {
    "duration": 32351,
    "start_time": "2023-04-27T13:31:24.564Z"
   },
   {
    "duration": 6,
    "start_time": "2023-04-27T13:32:19.381Z"
   },
   {
    "duration": 4,
    "start_time": "2023-04-27T13:32:23.668Z"
   },
   {
    "duration": 13,
    "start_time": "2023-04-27T13:32:32.430Z"
   },
   {
    "duration": 13,
    "start_time": "2023-04-27T13:32:34.618Z"
   },
   {
    "duration": 9,
    "start_time": "2023-04-27T13:32:39.080Z"
   },
   {
    "duration": 23067,
    "start_time": "2023-04-27T13:33:37.009Z"
   },
   {
    "duration": 3,
    "start_time": "2023-04-27T13:35:05.350Z"
   },
   {
    "duration": 70,
    "start_time": "2023-04-27T13:35:05.713Z"
   },
   {
    "duration": 4,
    "start_time": "2023-04-27T13:36:44.205Z"
   },
   {
    "duration": 126,
    "start_time": "2023-04-27T13:36:44.804Z"
   },
   {
    "duration": 3,
    "start_time": "2023-04-27T13:37:45.132Z"
   },
   {
    "duration": 251,
    "start_time": "2023-04-27T13:37:45.521Z"
   },
   {
    "duration": 10,
    "start_time": "2023-04-27T13:38:05.766Z"
   },
   {
    "duration": 3,
    "start_time": "2023-04-27T13:41:08.005Z"
   },
   {
    "duration": 6778,
    "start_time": "2023-04-27T13:41:09.057Z"
   },
   {
    "duration": 4,
    "start_time": "2023-04-27T13:41:21.425Z"
   },
   {
    "duration": 188112,
    "start_time": "2023-04-27T13:41:21.833Z"
   },
   {
    "duration": 4,
    "start_time": "2023-04-27T13:44:29.947Z"
   },
   {
    "duration": 16,
    "start_time": "2023-04-27T14:02:14.934Z"
   },
   {
    "duration": 2739,
    "start_time": "2023-04-27T14:02:15.420Z"
   },
   {
    "duration": 4,
    "start_time": "2023-04-27T14:02:20.714Z"
   },
   {
    "duration": 22584,
    "start_time": "2023-04-27T14:02:21.213Z"
   },
   {
    "duration": 0,
    "start_time": "2023-04-27T14:02:43.860Z"
   },
   {
    "duration": 0,
    "start_time": "2023-04-27T14:02:43.861Z"
   },
   {
    "duration": 3,
    "start_time": "2023-04-27T14:02:49.416Z"
   },
   {
    "duration": 1026837,
    "start_time": "2023-04-27T14:02:50.648Z"
   },
   {
    "duration": 15,
    "start_time": "2023-04-27T14:19:57.488Z"
   },
   {
    "duration": 0,
    "start_time": "2023-04-27T14:19:57.505Z"
   },
   {
    "duration": 0,
    "start_time": "2023-04-27T14:19:57.508Z"
   },
   {
    "duration": 15,
    "start_time": "2023-04-27T14:27:54.554Z"
   },
   {
    "duration": 7,
    "start_time": "2023-04-27T14:28:03.613Z"
   },
   {
    "duration": 14,
    "start_time": "2023-04-27T14:28:05.920Z"
   },
   {
    "duration": 20,
    "start_time": "2023-04-27T14:28:14.024Z"
   },
   {
    "duration": 11,
    "start_time": "2023-04-27T14:28:19.354Z"
   },
   {
    "duration": 8,
    "start_time": "2023-04-27T14:28:44.380Z"
   },
   {
    "duration": 7,
    "start_time": "2023-04-27T14:29:05.068Z"
   },
   {
    "duration": 8,
    "start_time": "2023-04-27T14:29:12.143Z"
   },
   {
    "duration": 9,
    "start_time": "2023-04-27T14:29:16.619Z"
   },
   {
    "duration": 5,
    "start_time": "2023-04-27T14:29:20.930Z"
   },
   {
    "duration": 9,
    "start_time": "2023-04-27T14:29:21.569Z"
   },
   {
    "duration": 142,
    "start_time": "2023-04-27T14:29:25.855Z"
   },
   {
    "duration": 4,
    "start_time": "2023-04-27T14:29:32.181Z"
   },
   {
    "duration": 7,
    "start_time": "2023-04-27T14:29:38.968Z"
   },
   {
    "duration": 1261,
    "start_time": "2023-04-27T14:29:42.424Z"
   },
   {
    "duration": 9,
    "start_time": "2023-04-27T14:30:54.785Z"
   },
   {
    "duration": 7,
    "start_time": "2023-04-27T14:30:56.837Z"
   },
   {
    "duration": 4,
    "start_time": "2023-04-27T14:31:37.924Z"
   },
   {
    "duration": 4,
    "start_time": "2023-04-27T14:31:43.492Z"
   },
   {
    "duration": 7,
    "start_time": "2023-04-27T14:31:43.819Z"
   },
   {
    "duration": 6,
    "start_time": "2023-04-27T14:32:17.378Z"
   },
   {
    "duration": 1353,
    "start_time": "2023-04-27T14:32:17.965Z"
   },
   {
    "duration": 6,
    "start_time": "2023-04-27T14:32:45.028Z"
   },
   {
    "duration": 7,
    "start_time": "2023-04-27T14:37:23.371Z"
   },
   {
    "duration": 177,
    "start_time": "2023-04-27T14:37:27.083Z"
   },
   {
    "duration": 5,
    "start_time": "2023-04-27T14:37:54.515Z"
   },
   {
    "duration": 6,
    "start_time": "2023-04-27T14:38:00.774Z"
   },
   {
    "duration": 188,
    "start_time": "2023-04-27T14:38:04.560Z"
   },
   {
    "duration": 6,
    "start_time": "2023-04-27T14:38:16.775Z"
   },
   {
    "duration": 186,
    "start_time": "2023-04-27T14:38:17.148Z"
   },
   {
    "duration": 5,
    "start_time": "2023-04-27T14:38:23.816Z"
   },
   {
    "duration": 190,
    "start_time": "2023-04-27T14:38:24.761Z"
   },
   {
    "duration": 8,
    "start_time": "2023-04-27T14:38:29.926Z"
   },
   {
    "duration": 199,
    "start_time": "2023-04-27T14:38:30.228Z"
   },
   {
    "duration": 5,
    "start_time": "2023-04-27T14:38:34.086Z"
   },
   {
    "duration": 175,
    "start_time": "2023-04-27T14:38:34.885Z"
   },
   {
    "duration": 5,
    "start_time": "2023-04-27T14:38:38.472Z"
   },
   {
    "duration": 275,
    "start_time": "2023-04-27T14:38:38.760Z"
   },
   {
    "duration": 5,
    "start_time": "2023-04-27T14:38:48.615Z"
   },
   {
    "duration": 175,
    "start_time": "2023-04-27T14:38:48.872Z"
   },
   {
    "duration": 5,
    "start_time": "2023-04-27T14:38:54.720Z"
   },
   {
    "duration": 176,
    "start_time": "2023-04-27T14:38:55.039Z"
   },
   {
    "duration": 5,
    "start_time": "2023-04-27T14:38:58.473Z"
   },
   {
    "duration": 169,
    "start_time": "2023-04-27T14:38:58.749Z"
   },
   {
    "duration": 6,
    "start_time": "2023-04-27T14:39:01.573Z"
   },
   {
    "duration": 188,
    "start_time": "2023-04-27T14:39:01.860Z"
   },
   {
    "duration": 6,
    "start_time": "2023-04-27T14:39:04.725Z"
   },
   {
    "duration": 177,
    "start_time": "2023-04-27T14:39:04.973Z"
   },
   {
    "duration": 5,
    "start_time": "2023-04-27T14:39:08.287Z"
   },
   {
    "duration": 171,
    "start_time": "2023-04-27T14:39:08.336Z"
   },
   {
    "duration": 7,
    "start_time": "2023-04-27T14:39:29.784Z"
   },
   {
    "duration": 207,
    "start_time": "2023-04-27T14:39:30.674Z"
   },
   {
    "duration": 5,
    "start_time": "2023-04-27T14:39:38.637Z"
   },
   {
    "duration": 172,
    "start_time": "2023-04-27T14:39:39.115Z"
   },
   {
    "duration": 6,
    "start_time": "2023-04-27T14:39:42.450Z"
   },
   {
    "duration": 192,
    "start_time": "2023-04-27T14:39:42.818Z"
   },
   {
    "duration": 5,
    "start_time": "2023-04-27T14:39:46.174Z"
   },
   {
    "duration": 179,
    "start_time": "2023-04-27T14:39:46.461Z"
   },
   {
    "duration": 4,
    "start_time": "2023-04-27T14:39:49.476Z"
   },
   {
    "duration": 292,
    "start_time": "2023-04-27T14:39:49.818Z"
   },
   {
    "duration": 2,
    "start_time": "2023-04-27T14:41:10.158Z"
   },
   {
    "duration": 7,
    "start_time": "2023-04-27T14:41:26.080Z"
   },
   {
    "duration": 3,
    "start_time": "2023-04-27T14:41:40.266Z"
   },
   {
    "duration": 7,
    "start_time": "2023-04-27T14:41:55.312Z"
   },
   {
    "duration": 4,
    "start_time": "2023-04-27T14:41:58.030Z"
   },
   {
    "duration": 4,
    "start_time": "2023-04-27T14:42:27.924Z"
   },
   {
    "duration": 1476,
    "start_time": "2023-04-27T15:19:51.810Z"
   },
   {
    "duration": 4,
    "start_time": "2023-04-27T15:19:53.289Z"
   },
   {
    "duration": 86,
    "start_time": "2023-04-27T15:19:53.295Z"
   },
   {
    "duration": 4,
    "start_time": "2023-04-27T15:19:53.383Z"
   },
   {
    "duration": 52,
    "start_time": "2023-04-27T15:19:53.389Z"
   },
   {
    "duration": 6,
    "start_time": "2023-04-27T15:19:53.444Z"
   },
   {
    "duration": 44,
    "start_time": "2023-04-27T15:19:53.452Z"
   },
   {
    "duration": 776,
    "start_time": "2023-04-27T15:19:53.498Z"
   },
   {
    "duration": 8,
    "start_time": "2023-04-27T15:19:54.276Z"
   },
   {
    "duration": 10,
    "start_time": "2023-04-27T15:19:54.286Z"
   },
   {
    "duration": 252,
    "start_time": "2023-04-27T15:19:54.298Z"
   },
   {
    "duration": 9,
    "start_time": "2023-04-27T15:19:54.551Z"
   },
   {
    "duration": 12,
    "start_time": "2023-04-27T15:19:54.562Z"
   },
   {
    "duration": 19,
    "start_time": "2023-04-27T15:19:54.577Z"
   },
   {
    "duration": 57,
    "start_time": "2023-04-27T15:19:54.598Z"
   },
   {
    "duration": 24,
    "start_time": "2023-04-27T15:19:54.657Z"
   },
   {
    "duration": 16,
    "start_time": "2023-04-27T15:19:54.683Z"
   },
   {
    "duration": 21,
    "start_time": "2023-04-27T15:19:54.701Z"
   },
   {
    "duration": 495,
    "start_time": "2023-04-27T15:19:54.724Z"
   },
   {
    "duration": 10,
    "start_time": "2023-04-27T15:20:21.803Z"
   },
   {
    "duration": 1710,
    "start_time": "2023-04-27T15:20:28.503Z"
   },
   {
    "duration": 2,
    "start_time": "2023-04-27T15:20:30.215Z"
   },
   {
    "duration": 76,
    "start_time": "2023-04-27T15:20:30.219Z"
   },
   {
    "duration": 3,
    "start_time": "2023-04-27T15:20:30.297Z"
   },
   {
    "duration": 29,
    "start_time": "2023-04-27T15:20:30.303Z"
   },
   {
    "duration": 18,
    "start_time": "2023-04-27T15:20:30.334Z"
   },
   {
    "duration": 20,
    "start_time": "2023-04-27T15:20:30.354Z"
   },
   {
    "duration": 807,
    "start_time": "2023-04-27T15:20:30.375Z"
   },
   {
    "duration": 8,
    "start_time": "2023-04-27T15:20:31.184Z"
   },
   {
    "duration": 38,
    "start_time": "2023-04-27T15:20:31.194Z"
   },
   {
    "duration": 261,
    "start_time": "2023-04-27T15:20:31.234Z"
   },
   {
    "duration": 4,
    "start_time": "2023-04-27T15:20:31.497Z"
   },
   {
    "duration": 36,
    "start_time": "2023-04-27T15:20:31.503Z"
   },
   {
    "duration": 38,
    "start_time": "2023-04-27T15:20:31.542Z"
   },
   {
    "duration": 15,
    "start_time": "2023-04-27T15:20:37.852Z"
   },
   {
    "duration": 8,
    "start_time": "2023-04-27T15:20:38.340Z"
   },
   {
    "duration": 7,
    "start_time": "2023-04-27T15:20:38.827Z"
   },
   {
    "duration": 6,
    "start_time": "2023-04-27T15:20:39.527Z"
   },
   {
    "duration": 488,
    "start_time": "2023-04-27T15:20:40.253Z"
   },
   {
    "duration": 681,
    "start_time": "2023-04-27T15:21:02.017Z"
   },
   {
    "duration": 514,
    "start_time": "2023-04-27T15:21:07.903Z"
   },
   {
    "duration": 636,
    "start_time": "2023-04-27T15:21:11.828Z"
   },
   {
    "duration": 61,
    "start_time": "2023-04-28T03:42:24.456Z"
   },
   {
    "duration": 1625,
    "start_time": "2023-04-28T04:23:09.334Z"
   },
   {
    "duration": 121,
    "start_time": "2023-04-28T04:23:29.069Z"
   },
   {
    "duration": 1350,
    "start_time": "2023-04-28T04:24:34.810Z"
   },
   {
    "duration": 2,
    "start_time": "2023-04-28T04:24:36.162Z"
   },
   {
    "duration": 51,
    "start_time": "2023-04-28T04:28:00.187Z"
   },
   {
    "duration": 46,
    "start_time": "2023-04-28T04:29:36.224Z"
   },
   {
    "duration": 2,
    "start_time": "2023-04-28T04:30:01.186Z"
   },
   {
    "duration": 6,
    "start_time": "2023-04-28T04:30:12.487Z"
   },
   {
    "duration": 4,
    "start_time": "2023-04-28T04:31:06.012Z"
   },
   {
    "duration": 3,
    "start_time": "2023-04-28T04:31:32.226Z"
   },
   {
    "duration": 612,
    "start_time": "2023-04-28T04:31:43.801Z"
   },
   {
    "duration": 3,
    "start_time": "2023-04-28T04:47:06.305Z"
   },
   {
    "duration": 8,
    "start_time": "2023-04-28T04:47:30.531Z"
   },
   {
    "duration": 3,
    "start_time": "2023-04-28T04:47:30.893Z"
   },
   {
    "duration": 185,
    "start_time": "2023-04-28T04:48:05.810Z"
   },
   {
    "duration": 1360,
    "start_time": "2023-04-28T04:52:22.539Z"
   },
   {
    "duration": 2,
    "start_time": "2023-04-28T04:52:23.901Z"
   },
   {
    "duration": 3,
    "start_time": "2023-04-28T04:52:57.559Z"
   },
   {
    "duration": 48,
    "start_time": "2023-04-28T04:52:59.823Z"
   },
   {
    "duration": 24,
    "start_time": "2023-04-28T04:53:00.109Z"
   },
   {
    "duration": 3,
    "start_time": "2023-04-28T04:53:00.471Z"
   },
   {
    "duration": 9,
    "start_time": "2023-04-28T04:53:01.023Z"
   },
   {
    "duration": 4,
    "start_time": "2023-04-28T04:53:02.258Z"
   },
   {
    "duration": 3,
    "start_time": "2023-04-28T04:53:02.972Z"
   },
   {
    "duration": 687,
    "start_time": "2023-04-28T04:53:11.147Z"
   },
   {
    "duration": 7,
    "start_time": "2023-04-28T04:54:35.037Z"
   },
   {
    "duration": 6,
    "start_time": "2023-04-28T04:54:38.874Z"
   },
   {
    "duration": 6,
    "start_time": "2023-04-28T04:55:08.138Z"
   },
   {
    "duration": 7,
    "start_time": "2023-04-28T04:55:16.201Z"
   },
   {
    "duration": 6,
    "start_time": "2023-04-28T04:55:19.676Z"
   },
   {
    "duration": 9,
    "start_time": "2023-04-28T05:01:45.420Z"
   },
   {
    "duration": 8,
    "start_time": "2023-04-28T05:07:33.351Z"
   },
   {
    "duration": 3,
    "start_time": "2023-04-28T05:07:33.807Z"
   },
   {
    "duration": 199,
    "start_time": "2023-04-28T05:07:34.532Z"
   },
   {
    "duration": 110,
    "start_time": "2023-04-28T05:07:40.645Z"
   },
   {
    "duration": 190,
    "start_time": "2023-04-28T05:07:47.782Z"
   },
   {
    "duration": 4,
    "start_time": "2023-04-28T05:15:29.670Z"
   },
   {
    "duration": 4,
    "start_time": "2023-04-28T05:24:37.525Z"
   },
   {
    "duration": 3,
    "start_time": "2023-04-28T05:24:51.488Z"
   },
   {
    "duration": 3,
    "start_time": "2023-04-28T05:25:20.738Z"
   },
   {
    "duration": 3,
    "start_time": "2023-04-28T05:25:31.825Z"
   },
   {
    "duration": 3,
    "start_time": "2023-04-28T05:25:44.501Z"
   },
   {
    "duration": 3,
    "start_time": "2023-04-28T05:25:55.964Z"
   },
   {
    "duration": 3,
    "start_time": "2023-04-28T05:25:56.101Z"
   },
   {
    "duration": 3,
    "start_time": "2023-04-28T05:27:26.881Z"
   },
   {
    "duration": 49,
    "start_time": "2023-04-28T05:27:51.968Z"
   },
   {
    "duration": 3,
    "start_time": "2023-04-28T05:27:55.895Z"
   },
   {
    "duration": 9,
    "start_time": "2023-04-28T05:28:49.697Z"
   },
   {
    "duration": 8,
    "start_time": "2023-04-28T05:29:10.674Z"
   },
   {
    "duration": 11,
    "start_time": "2023-04-28T05:29:12.911Z"
   },
   {
    "duration": 4,
    "start_time": "2023-04-28T05:29:19.849Z"
   },
   {
    "duration": 4,
    "start_time": "2023-04-28T05:29:36.587Z"
   },
   {
    "duration": 3,
    "start_time": "2023-04-28T05:29:40.224Z"
   },
   {
    "duration": 4,
    "start_time": "2023-04-28T05:50:36.797Z"
   },
   {
    "duration": 8,
    "start_time": "2023-04-28T05:50:45.313Z"
   },
   {
    "duration": 26,
    "start_time": "2023-04-28T05:51:54.303Z"
   },
   {
    "duration": 41,
    "start_time": "2023-04-28T05:52:06.216Z"
   },
   {
    "duration": 9,
    "start_time": "2023-04-28T05:52:46.844Z"
   },
   {
    "duration": 42,
    "start_time": "2023-04-28T05:52:52.881Z"
   },
   {
    "duration": 35,
    "start_time": "2023-04-28T05:53:00.918Z"
   },
   {
    "duration": 34,
    "start_time": "2023-04-28T05:53:10.380Z"
   },
   {
    "duration": 18,
    "start_time": "2023-04-28T05:53:18.694Z"
   },
   {
    "duration": 3,
    "start_time": "2023-04-28T05:54:23.985Z"
   },
   {
    "duration": 3,
    "start_time": "2023-04-28T05:54:32.821Z"
   },
   {
    "duration": 7,
    "start_time": "2023-04-28T05:55:07.348Z"
   },
   {
    "duration": 5,
    "start_time": "2023-04-28T06:00:14.146Z"
   },
   {
    "duration": 3,
    "start_time": "2023-04-28T06:00:16.170Z"
   },
   {
    "duration": 22,
    "start_time": "2023-04-28T06:01:15.733Z"
   },
   {
    "duration": 1518,
    "start_time": "2023-04-28T06:01:48.722Z"
   },
   {
    "duration": 3,
    "start_time": "2023-04-28T06:01:50.243Z"
   },
   {
    "duration": 14,
    "start_time": "2023-04-28T06:01:50.247Z"
   },
   {
    "duration": 51,
    "start_time": "2023-04-28T06:01:50.263Z"
   },
   {
    "duration": 23,
    "start_time": "2023-04-28T06:01:50.316Z"
   },
   {
    "duration": 3,
    "start_time": "2023-04-28T06:01:50.341Z"
   },
   {
    "duration": 26,
    "start_time": "2023-04-28T06:01:50.345Z"
   },
   {
    "duration": 15,
    "start_time": "2023-04-28T06:01:50.373Z"
   },
   {
    "duration": 13,
    "start_time": "2023-04-28T06:01:50.389Z"
   },
   {
    "duration": 658,
    "start_time": "2023-04-28T06:01:50.403Z"
   },
   {
    "duration": 6,
    "start_time": "2023-04-28T06:01:51.063Z"
   },
   {
    "duration": 11,
    "start_time": "2023-04-28T06:01:51.071Z"
   },
   {
    "duration": 13,
    "start_time": "2023-04-28T06:01:51.083Z"
   },
   {
    "duration": 9,
    "start_time": "2023-04-28T06:01:51.098Z"
   },
   {
    "duration": 230,
    "start_time": "2023-04-28T06:01:51.108Z"
   },
   {
    "duration": 4,
    "start_time": "2023-04-28T06:01:51.340Z"
   },
   {
    "duration": 31,
    "start_time": "2023-04-28T06:01:51.346Z"
   },
   {
    "duration": 14,
    "start_time": "2023-04-28T06:01:51.378Z"
   },
   {
    "duration": 133,
    "start_time": "2023-04-28T06:01:51.393Z"
   },
   {
    "duration": 4,
    "start_time": "2023-04-28T06:02:19.090Z"
   },
   {
    "duration": 3,
    "start_time": "2023-04-28T06:02:19.375Z"
   },
   {
    "duration": 12,
    "start_time": "2023-04-28T06:02:19.887Z"
   },
   {
    "duration": 5,
    "start_time": "2023-04-28T06:02:27.989Z"
   },
   {
    "duration": 4,
    "start_time": "2023-04-28T06:02:28.338Z"
   },
   {
    "duration": 17,
    "start_time": "2023-04-28T06:02:28.663Z"
   },
   {
    "duration": 5,
    "start_time": "2023-04-28T06:03:53.152Z"
   },
   {
    "duration": 3,
    "start_time": "2023-04-28T06:03:53.665Z"
   },
   {
    "duration": 20,
    "start_time": "2023-04-28T06:03:54.365Z"
   },
   {
    "duration": 5,
    "start_time": "2023-04-28T06:04:05.528Z"
   },
   {
    "duration": 3,
    "start_time": "2023-04-28T06:04:06.103Z"
   },
   {
    "duration": 19,
    "start_time": "2023-04-28T06:04:06.640Z"
   },
   {
    "duration": 5,
    "start_time": "2023-04-28T06:04:14.377Z"
   },
   {
    "duration": 3,
    "start_time": "2023-04-28T06:04:14.654Z"
   },
   {
    "duration": 19,
    "start_time": "2023-04-28T06:04:14.965Z"
   },
   {
    "duration": 6,
    "start_time": "2023-04-28T06:04:23.254Z"
   },
   {
    "duration": 3,
    "start_time": "2023-04-28T06:04:23.590Z"
   },
   {
    "duration": 17,
    "start_time": "2023-04-28T06:04:24.278Z"
   },
   {
    "duration": 4,
    "start_time": "2023-04-28T06:04:48.729Z"
   },
   {
    "duration": 5,
    "start_time": "2023-04-28T06:04:49.043Z"
   },
   {
    "duration": 3,
    "start_time": "2023-04-28T06:04:49.342Z"
   },
   {
    "duration": 23,
    "start_time": "2023-04-28T06:04:49.967Z"
   },
   {
    "duration": 4,
    "start_time": "2023-04-28T06:05:20.581Z"
   },
   {
    "duration": 4,
    "start_time": "2023-04-28T06:05:24.569Z"
   },
   {
    "duration": 4,
    "start_time": "2023-04-28T06:05:27.331Z"
   },
   {
    "duration": 76,
    "start_time": "2023-04-28T06:05:33.793Z"
   },
   {
    "duration": 4,
    "start_time": "2023-04-28T06:05:35.793Z"
   },
   {
    "duration": 4,
    "start_time": "2023-04-28T06:05:41.281Z"
   },
   {
    "duration": 5,
    "start_time": "2023-04-28T06:05:46.143Z"
   },
   {
    "duration": 9,
    "start_time": "2023-04-28T06:05:49.081Z"
   },
   {
    "duration": 9,
    "start_time": "2023-04-28T06:05:51.155Z"
   },
   {
    "duration": 4,
    "start_time": "2023-04-28T06:05:54.456Z"
   },
   {
    "duration": 4,
    "start_time": "2023-04-28T06:06:47.245Z"
   },
   {
    "duration": 6,
    "start_time": "2023-04-28T06:06:47.533Z"
   },
   {
    "duration": 2,
    "start_time": "2023-04-28T06:06:47.821Z"
   },
   {
    "duration": 20,
    "start_time": "2023-04-28T06:06:48.183Z"
   },
   {
    "duration": 5,
    "start_time": "2023-04-28T06:07:06.209Z"
   },
   {
    "duration": 2,
    "start_time": "2023-04-28T06:07:06.547Z"
   },
   {
    "duration": 19,
    "start_time": "2023-04-28T06:07:07.185Z"
   },
   {
    "duration": 4,
    "start_time": "2023-04-28T06:07:43.074Z"
   },
   {
    "duration": 4,
    "start_time": "2023-04-28T06:08:04.438Z"
   },
   {
    "duration": 3,
    "start_time": "2023-04-28T06:08:05.124Z"
   },
   {
    "duration": 22,
    "start_time": "2023-04-28T06:08:05.862Z"
   },
   {
    "duration": 5,
    "start_time": "2023-04-28T06:08:26.438Z"
   },
   {
    "duration": 4,
    "start_time": "2023-04-28T06:08:26.787Z"
   },
   {
    "duration": 32,
    "start_time": "2023-04-28T06:08:27.963Z"
   },
   {
    "duration": 4,
    "start_time": "2023-04-28T06:10:15.855Z"
   },
   {
    "duration": 3,
    "start_time": "2023-04-28T06:10:16.180Z"
   },
   {
    "duration": 22,
    "start_time": "2023-04-28T06:10:16.857Z"
   },
   {
    "duration": 6,
    "start_time": "2023-04-28T06:10:52.545Z"
   },
   {
    "duration": 4,
    "start_time": "2023-04-28T06:10:53.055Z"
   },
   {
    "duration": 26,
    "start_time": "2023-04-28T06:10:53.653Z"
   },
   {
    "duration": 8,
    "start_time": "2023-04-28T06:11:00.620Z"
   },
   {
    "duration": 6,
    "start_time": "2023-04-28T06:11:00.967Z"
   },
   {
    "duration": 13075,
    "start_time": "2023-04-28T06:11:01.268Z"
   },
   {
    "duration": 1446,
    "start_time": "2023-04-28T06:11:52.016Z"
   },
   {
    "duration": 3,
    "start_time": "2023-04-28T06:11:53.464Z"
   },
   {
    "duration": 8,
    "start_time": "2023-04-28T06:11:53.469Z"
   },
   {
    "duration": 57,
    "start_time": "2023-04-28T06:11:53.479Z"
   },
   {
    "duration": 34,
    "start_time": "2023-04-28T06:11:53.541Z"
   },
   {
    "duration": 3,
    "start_time": "2023-04-28T06:11:53.578Z"
   },
   {
    "duration": 12,
    "start_time": "2023-04-28T06:11:53.582Z"
   },
   {
    "duration": 9,
    "start_time": "2023-04-28T06:11:53.596Z"
   },
   {
    "duration": 11,
    "start_time": "2023-04-28T06:11:53.607Z"
   },
   {
    "duration": 678,
    "start_time": "2023-04-28T06:11:53.619Z"
   },
   {
    "duration": 7,
    "start_time": "2023-04-28T06:11:54.299Z"
   },
   {
    "duration": 6,
    "start_time": "2023-04-28T06:11:54.308Z"
   },
   {
    "duration": 10,
    "start_time": "2023-04-28T06:11:54.335Z"
   },
   {
    "duration": 14,
    "start_time": "2023-04-28T06:11:54.348Z"
   },
   {
    "duration": 206,
    "start_time": "2023-04-28T06:11:54.364Z"
   },
   {
    "duration": 4,
    "start_time": "2023-04-28T06:11:54.573Z"
   },
   {
    "duration": 6,
    "start_time": "2023-04-28T06:12:00.759Z"
   },
   {
    "duration": 3,
    "start_time": "2023-04-28T06:12:02.138Z"
   },
   {
    "duration": 15939,
    "start_time": "2023-04-28T06:12:02.997Z"
   },
   {
    "duration": 1378,
    "start_time": "2023-04-28T06:16:01.850Z"
   },
   {
    "duration": 2,
    "start_time": "2023-04-28T06:16:03.230Z"
   },
   {
    "duration": 9,
    "start_time": "2023-04-28T06:16:03.234Z"
   },
   {
    "duration": 55,
    "start_time": "2023-04-28T06:16:03.245Z"
   },
   {
    "duration": 23,
    "start_time": "2023-04-28T06:16:03.303Z"
   },
   {
    "duration": 3,
    "start_time": "2023-04-28T06:16:03.327Z"
   },
   {
    "duration": 18,
    "start_time": "2023-04-28T06:16:03.331Z"
   },
   {
    "duration": 5,
    "start_time": "2023-04-28T06:16:03.351Z"
   },
   {
    "duration": 14,
    "start_time": "2023-04-28T06:16:03.358Z"
   },
   {
    "duration": 631,
    "start_time": "2023-04-28T06:16:03.373Z"
   },
   {
    "duration": 6,
    "start_time": "2023-04-28T06:16:04.005Z"
   },
   {
    "duration": 11,
    "start_time": "2023-04-28T06:16:04.012Z"
   },
   {
    "duration": 16,
    "start_time": "2023-04-28T06:16:04.024Z"
   },
   {
    "duration": 3,
    "start_time": "2023-04-28T06:16:04.043Z"
   },
   {
    "duration": 207,
    "start_time": "2023-04-28T06:16:04.047Z"
   },
   {
    "duration": 3,
    "start_time": "2023-04-28T06:16:04.256Z"
   },
   {
    "duration": 66,
    "start_time": "2023-04-28T06:16:06.192Z"
   },
   {
    "duration": 11,
    "start_time": "2023-04-28T06:16:14.944Z"
   },
   {
    "duration": 3,
    "start_time": "2023-04-28T06:16:18.342Z"
   },
   {
    "duration": 4158,
    "start_time": "2023-04-28T06:16:28.210Z"
   },
   {
    "duration": 6,
    "start_time": "2023-04-28T06:16:50.905Z"
   },
   {
    "duration": 3,
    "start_time": "2023-04-28T06:16:51.204Z"
   },
   {
    "duration": 80595,
    "start_time": "2023-04-28T06:16:51.544Z"
   },
   {
    "duration": 6,
    "start_time": "2023-04-28T06:19:44.060Z"
   },
   {
    "duration": 3,
    "start_time": "2023-04-28T06:19:45.260Z"
   },
   {
    "duration": 72481,
    "start_time": "2023-04-28T06:19:45.761Z"
   },
   {
    "duration": 24,
    "start_time": "2023-04-28T06:21:14.875Z"
   },
   {
    "duration": 24,
    "start_time": "2023-04-28T06:21:16.288Z"
   },
   {
    "duration": 8,
    "start_time": "2023-04-28T06:21:25.301Z"
   },
   {
    "duration": 10,
    "start_time": "2023-04-28T06:21:33.950Z"
   },
   {
    "duration": 24,
    "start_time": "2023-04-28T06:21:34.976Z"
   },
   {
    "duration": 1215,
    "start_time": "2023-04-28T06:21:45.329Z"
   },
   {
    "duration": 1452,
    "start_time": "2023-04-28T06:22:09.973Z"
   },
   {
    "duration": 2,
    "start_time": "2023-04-28T06:22:11.427Z"
   },
   {
    "duration": 4,
    "start_time": "2023-04-28T06:22:11.434Z"
   },
   {
    "duration": 55,
    "start_time": "2023-04-28T06:22:11.441Z"
   },
   {
    "duration": 24,
    "start_time": "2023-04-28T06:22:11.498Z"
   },
   {
    "duration": 2,
    "start_time": "2023-04-28T06:22:11.524Z"
   },
   {
    "duration": 10,
    "start_time": "2023-04-28T06:22:11.529Z"
   },
   {
    "duration": 19,
    "start_time": "2023-04-28T06:22:11.540Z"
   },
   {
    "duration": 9,
    "start_time": "2023-04-28T06:22:11.560Z"
   },
   {
    "duration": 687,
    "start_time": "2023-04-28T06:22:11.572Z"
   },
   {
    "duration": 5,
    "start_time": "2023-04-28T06:22:12.261Z"
   },
   {
    "duration": 8,
    "start_time": "2023-04-28T06:22:12.267Z"
   },
   {
    "duration": 8,
    "start_time": "2023-04-28T06:22:12.276Z"
   },
   {
    "duration": 6,
    "start_time": "2023-04-28T06:22:12.286Z"
   },
   {
    "duration": 210,
    "start_time": "2023-04-28T06:22:12.294Z"
   },
   {
    "duration": 4,
    "start_time": "2023-04-28T06:22:12.505Z"
   },
   {
    "duration": 10,
    "start_time": "2023-04-28T06:22:12.510Z"
   },
   {
    "duration": 7,
    "start_time": "2023-04-28T06:22:12.521Z"
   },
   {
    "duration": 12872,
    "start_time": "2023-04-28T06:22:13.764Z"
   },
   {
    "duration": 96,
    "start_time": "2023-04-28T06:22:26.639Z"
   },
   {
    "duration": 19,
    "start_time": "2023-04-28T06:22:26.737Z"
   },
   {
    "duration": 6,
    "start_time": "2023-04-28T06:22:26.759Z"
   },
   {
    "duration": 16,
    "start_time": "2023-04-28T06:22:26.766Z"
   },
   {
    "duration": 702,
    "start_time": "2023-04-28T06:22:26.784Z"
   },
   {
    "duration": 1289,
    "start_time": "2023-04-28T06:22:59.593Z"
   },
   {
    "duration": 3,
    "start_time": "2023-04-28T06:23:00.883Z"
   },
   {
    "duration": 29,
    "start_time": "2023-04-28T06:23:00.887Z"
   },
   {
    "duration": 89,
    "start_time": "2023-04-28T06:23:00.918Z"
   },
   {
    "duration": 26,
    "start_time": "2023-04-28T06:23:01.009Z"
   },
   {
    "duration": 3,
    "start_time": "2023-04-28T06:23:01.038Z"
   },
   {
    "duration": 26,
    "start_time": "2023-04-28T06:23:01.043Z"
   },
   {
    "duration": 50,
    "start_time": "2023-04-28T06:23:01.070Z"
   },
   {
    "duration": 35,
    "start_time": "2023-04-28T06:23:01.121Z"
   },
   {
    "duration": 700,
    "start_time": "2023-04-28T06:23:01.159Z"
   },
   {
    "duration": 6,
    "start_time": "2023-04-28T06:23:01.861Z"
   },
   {
    "duration": 28,
    "start_time": "2023-04-28T06:23:01.868Z"
   },
   {
    "duration": 31,
    "start_time": "2023-04-28T06:23:01.898Z"
   },
   {
    "duration": 25,
    "start_time": "2023-04-28T06:23:01.931Z"
   },
   {
    "duration": 249,
    "start_time": "2023-04-28T06:23:01.957Z"
   },
   {
    "duration": 4,
    "start_time": "2023-04-28T06:23:02.207Z"
   },
   {
    "duration": 30,
    "start_time": "2023-04-28T06:23:02.212Z"
   },
   {
    "duration": 79,
    "start_time": "2023-04-28T06:23:02.244Z"
   },
   {
    "duration": 162,
    "start_time": "2023-04-28T06:23:02.516Z"
   },
   {
    "duration": 4,
    "start_time": "2023-04-28T06:23:20.344Z"
   },
   {
    "duration": 5,
    "start_time": "2023-04-28T06:23:20.685Z"
   },
   {
    "duration": 3,
    "start_time": "2023-04-28T06:23:21.265Z"
   },
   {
    "duration": 47,
    "start_time": "2023-04-28T06:23:22.668Z"
   },
   {
    "duration": 1566,
    "start_time": "2023-04-28T06:23:43.423Z"
   },
   {
    "duration": 3,
    "start_time": "2023-04-28T06:23:44.992Z"
   },
   {
    "duration": 37,
    "start_time": "2023-04-28T06:23:44.996Z"
   },
   {
    "duration": 91,
    "start_time": "2023-04-28T06:23:45.035Z"
   },
   {
    "duration": 36,
    "start_time": "2023-04-28T06:23:45.127Z"
   },
   {
    "duration": 11,
    "start_time": "2023-04-28T06:23:45.165Z"
   },
   {
    "duration": 40,
    "start_time": "2023-04-28T06:23:45.177Z"
   },
   {
    "duration": 16,
    "start_time": "2023-04-28T06:23:45.219Z"
   },
   {
    "duration": 16,
    "start_time": "2023-04-28T06:23:45.238Z"
   },
   {
    "duration": 777,
    "start_time": "2023-04-28T06:23:45.257Z"
   },
   {
    "duration": 13,
    "start_time": "2023-04-28T06:23:46.037Z"
   },
   {
    "duration": 15,
    "start_time": "2023-04-28T06:23:46.052Z"
   },
   {
    "duration": 14,
    "start_time": "2023-04-28T06:23:46.069Z"
   },
   {
    "duration": 3,
    "start_time": "2023-04-28T06:23:46.085Z"
   },
   {
    "duration": 232,
    "start_time": "2023-04-28T06:23:46.090Z"
   },
   {
    "duration": 4,
    "start_time": "2023-04-28T06:23:46.324Z"
   },
   {
    "duration": 8,
    "start_time": "2023-04-28T06:23:46.335Z"
   },
   {
    "duration": 11,
    "start_time": "2023-04-28T06:23:46.344Z"
   },
   {
    "duration": 211,
    "start_time": "2023-04-28T06:23:46.357Z"
   },
   {
    "duration": 4,
    "start_time": "2023-04-28T06:24:05.258Z"
   },
   {
    "duration": 7,
    "start_time": "2023-04-28T06:24:05.857Z"
   },
   {
    "duration": 4,
    "start_time": "2023-04-28T06:24:06.436Z"
   },
   {
    "duration": 14280,
    "start_time": "2023-04-28T06:24:07.059Z"
   },
   {
    "duration": 12,
    "start_time": "2023-04-28T06:24:24.634Z"
   },
   {
    "duration": 8,
    "start_time": "2023-04-28T06:24:25.334Z"
   },
   {
    "duration": 7,
    "start_time": "2023-04-28T06:24:26.272Z"
   },
   {
    "duration": 14,
    "start_time": "2023-04-28T06:24:26.671Z"
   },
   {
    "duration": 1381,
    "start_time": "2023-04-28T06:24:48.981Z"
   },
   {
    "duration": 3,
    "start_time": "2023-04-28T06:24:50.364Z"
   },
   {
    "duration": 6,
    "start_time": "2023-04-28T06:24:50.369Z"
   },
   {
    "duration": 55,
    "start_time": "2023-04-28T06:24:50.376Z"
   },
   {
    "duration": 30,
    "start_time": "2023-04-28T06:24:50.433Z"
   },
   {
    "duration": 3,
    "start_time": "2023-04-28T06:24:50.464Z"
   },
   {
    "duration": 12,
    "start_time": "2023-04-28T06:24:50.469Z"
   },
   {
    "duration": 23,
    "start_time": "2023-04-28T06:24:50.482Z"
   },
   {
    "duration": 8,
    "start_time": "2023-04-28T06:24:50.507Z"
   },
   {
    "duration": 663,
    "start_time": "2023-04-28T06:24:50.517Z"
   },
   {
    "duration": 6,
    "start_time": "2023-04-28T06:24:51.182Z"
   },
   {
    "duration": 20,
    "start_time": "2023-04-28T06:24:51.190Z"
   },
   {
    "duration": 10,
    "start_time": "2023-04-28T06:24:51.211Z"
   },
   {
    "duration": 18,
    "start_time": "2023-04-28T06:24:51.224Z"
   },
   {
    "duration": 227,
    "start_time": "2023-04-28T06:24:51.243Z"
   },
   {
    "duration": 4,
    "start_time": "2023-04-28T06:24:51.472Z"
   },
   {
    "duration": 7,
    "start_time": "2023-04-28T06:24:51.477Z"
   },
   {
    "duration": 10,
    "start_time": "2023-04-28T06:24:51.486Z"
   },
   {
    "duration": 13053,
    "start_time": "2023-04-28T06:24:51.498Z"
   },
   {
    "duration": 95,
    "start_time": "2023-04-28T06:25:04.553Z"
   },
   {
    "duration": 92,
    "start_time": "2023-04-28T06:25:04.651Z"
   },
   {
    "duration": 25,
    "start_time": "2023-04-28T06:25:04.746Z"
   },
   {
    "duration": 23,
    "start_time": "2023-04-28T06:25:04.773Z"
   },
   {
    "duration": 596,
    "start_time": "2023-04-28T06:25:04.799Z"
   },
   {
    "duration": 3,
    "start_time": "2023-04-28T06:26:18.126Z"
   },
   {
    "duration": 781,
    "start_time": "2023-04-28T06:26:20.738Z"
   },
   {
    "duration": 3,
    "start_time": "2023-04-28T06:27:25.978Z"
   },
   {
    "duration": 753,
    "start_time": "2023-04-28T06:27:33.016Z"
   },
   {
    "duration": 1459,
    "start_time": "2023-04-28T06:28:01.461Z"
   },
   {
    "duration": 2,
    "start_time": "2023-04-28T06:28:02.922Z"
   },
   {
    "duration": 35,
    "start_time": "2023-04-28T06:28:02.926Z"
   },
   {
    "duration": 55,
    "start_time": "2023-04-28T06:28:02.962Z"
   },
   {
    "duration": 38,
    "start_time": "2023-04-28T06:28:03.019Z"
   },
   {
    "duration": 2,
    "start_time": "2023-04-28T06:28:03.063Z"
   },
   {
    "duration": 14,
    "start_time": "2023-04-28T06:28:03.067Z"
   },
   {
    "duration": 7,
    "start_time": "2023-04-28T06:28:03.083Z"
   },
   {
    "duration": 9,
    "start_time": "2023-04-28T06:28:03.091Z"
   },
   {
    "duration": 718,
    "start_time": "2023-04-28T06:28:03.191Z"
   },
   {
    "duration": 5,
    "start_time": "2023-04-28T06:28:03.911Z"
   },
   {
    "duration": 7,
    "start_time": "2023-04-28T06:28:04.678Z"
   },
   {
    "duration": 3,
    "start_time": "2023-04-28T06:28:36.293Z"
   },
   {
    "duration": 680,
    "start_time": "2023-04-28T06:28:38.805Z"
   },
   {
    "duration": 7,
    "start_time": "2023-04-28T06:29:02.920Z"
   },
   {
    "duration": 4,
    "start_time": "2023-04-28T06:29:03.296Z"
   },
   {
    "duration": 252,
    "start_time": "2023-04-28T06:29:22.720Z"
   },
   {
    "duration": 4,
    "start_time": "2023-04-28T06:29:29.620Z"
   },
   {
    "duration": 6,
    "start_time": "2023-04-28T06:29:30.160Z"
   },
   {
    "duration": 3,
    "start_time": "2023-04-28T06:29:30.770Z"
   },
   {
    "duration": 12499,
    "start_time": "2023-04-28T06:29:31.654Z"
   },
   {
    "duration": 100,
    "start_time": "2023-04-28T06:29:44.155Z"
   },
   {
    "duration": 9,
    "start_time": "2023-04-28T06:29:44.261Z"
   },
   {
    "duration": 16,
    "start_time": "2023-04-28T06:29:44.272Z"
   },
   {
    "duration": 839,
    "start_time": "2023-04-28T06:30:37.289Z"
   },
   {
    "duration": 794,
    "start_time": "2023-04-28T06:31:05.955Z"
   },
   {
    "duration": 769,
    "start_time": "2023-04-28T06:31:15.111Z"
   },
   {
    "duration": 6,
    "start_time": "2023-04-28T06:31:54.265Z"
   },
   {
    "duration": 3,
    "start_time": "2023-04-28T06:31:54.605Z"
   },
   {
    "duration": 11605,
    "start_time": "2023-04-28T06:31:55.256Z"
   },
   {
    "duration": 5,
    "start_time": "2023-04-28T06:32:43.805Z"
   },
   {
    "duration": 3,
    "start_time": "2023-04-28T06:32:44.104Z"
   },
   {
    "duration": 12459,
    "start_time": "2023-04-28T06:32:44.592Z"
   },
   {
    "duration": 6,
    "start_time": "2023-04-28T06:33:02.805Z"
   },
   {
    "duration": 3,
    "start_time": "2023-04-28T06:33:03.105Z"
   },
   {
    "duration": 12039,
    "start_time": "2023-04-28T06:33:03.831Z"
   },
   {
    "duration": 1391,
    "start_time": "2023-04-28T06:34:37.114Z"
   },
   {
    "duration": 2,
    "start_time": "2023-04-28T06:34:38.507Z"
   },
   {
    "duration": 8,
    "start_time": "2023-04-28T06:34:38.511Z"
   },
   {
    "duration": 60,
    "start_time": "2023-04-28T06:34:38.520Z"
   },
   {
    "duration": 22,
    "start_time": "2023-04-28T06:34:38.582Z"
   },
   {
    "duration": 3,
    "start_time": "2023-04-28T06:34:38.606Z"
   },
   {
    "duration": 12,
    "start_time": "2023-04-28T06:34:38.610Z"
   },
   {
    "duration": 19,
    "start_time": "2023-04-28T06:34:38.623Z"
   },
   {
    "duration": 32,
    "start_time": "2023-04-28T06:34:38.646Z"
   },
   {
    "duration": 795,
    "start_time": "2023-04-28T06:34:38.679Z"
   },
   {
    "duration": 6,
    "start_time": "2023-04-28T06:34:39.476Z"
   },
   {
    "duration": 8,
    "start_time": "2023-04-28T06:34:39.483Z"
   },
   {
    "duration": 12,
    "start_time": "2023-04-28T06:34:39.492Z"
   },
   {
    "duration": 3,
    "start_time": "2023-04-28T06:34:39.507Z"
   },
   {
    "duration": 283,
    "start_time": "2023-04-28T06:34:39.512Z"
   },
   {
    "duration": 4,
    "start_time": "2023-04-28T06:34:39.796Z"
   },
   {
    "duration": 5,
    "start_time": "2023-04-28T06:34:41.708Z"
   },
   {
    "duration": 3,
    "start_time": "2023-04-28T06:34:42.695Z"
   },
   {
    "duration": 12800,
    "start_time": "2023-04-28T06:34:43.652Z"
   },
   {
    "duration": 7,
    "start_time": "2023-04-28T06:35:32.656Z"
   },
   {
    "duration": 4,
    "start_time": "2023-04-28T06:35:32.960Z"
   },
   {
    "duration": 13188,
    "start_time": "2023-04-28T06:35:33.460Z"
   },
   {
    "duration": 1407,
    "start_time": "2023-04-28T06:36:15.393Z"
   },
   {
    "duration": 2,
    "start_time": "2023-04-28T06:36:16.802Z"
   },
   {
    "duration": 63,
    "start_time": "2023-04-28T06:36:16.805Z"
   },
   {
    "duration": 63,
    "start_time": "2023-04-28T06:36:16.870Z"
   },
   {
    "duration": 37,
    "start_time": "2023-04-28T06:36:16.936Z"
   },
   {
    "duration": 2,
    "start_time": "2023-04-28T06:36:16.975Z"
   },
   {
    "duration": 40,
    "start_time": "2023-04-28T06:36:16.978Z"
   },
   {
    "duration": 40,
    "start_time": "2023-04-28T06:36:17.020Z"
   },
   {
    "duration": 26,
    "start_time": "2023-04-28T06:36:17.062Z"
   },
   {
    "duration": 812,
    "start_time": "2023-04-28T06:36:17.091Z"
   },
   {
    "duration": 6,
    "start_time": "2023-04-28T06:36:17.904Z"
   },
   {
    "duration": 12,
    "start_time": "2023-04-28T06:36:17.911Z"
   },
   {
    "duration": 11,
    "start_time": "2023-04-28T06:36:17.936Z"
   },
   {
    "duration": 18,
    "start_time": "2023-04-28T06:36:17.949Z"
   },
   {
    "duration": 255,
    "start_time": "2023-04-28T06:36:17.969Z"
   },
   {
    "duration": 4,
    "start_time": "2023-04-28T06:36:18.225Z"
   },
   {
    "duration": 29,
    "start_time": "2023-04-28T06:36:18.234Z"
   },
   {
    "duration": 8,
    "start_time": "2023-04-28T06:36:18.265Z"
   },
   {
    "duration": 12774,
    "start_time": "2023-04-28T06:36:18.274Z"
   },
   {
    "duration": 23,
    "start_time": "2023-04-28T06:36:31.134Z"
   },
   {
    "duration": 36,
    "start_time": "2023-04-28T06:36:31.158Z"
   },
   {
    "duration": 32,
    "start_time": "2023-04-28T06:36:31.195Z"
   },
   {
    "duration": 296,
    "start_time": "2023-04-28T06:36:31.229Z"
   },
   {
    "duration": 1443,
    "start_time": "2023-04-28T06:36:52.464Z"
   },
   {
    "duration": 2,
    "start_time": "2023-04-28T06:36:53.909Z"
   },
   {
    "duration": 8,
    "start_time": "2023-04-28T06:36:53.912Z"
   },
   {
    "duration": 81,
    "start_time": "2023-04-28T06:36:53.921Z"
   },
   {
    "duration": 22,
    "start_time": "2023-04-28T06:36:54.003Z"
   },
   {
    "duration": 2,
    "start_time": "2023-04-28T06:36:54.027Z"
   },
   {
    "duration": 34,
    "start_time": "2023-04-28T06:36:54.030Z"
   },
   {
    "duration": 9,
    "start_time": "2023-04-28T06:36:54.065Z"
   },
   {
    "duration": 7,
    "start_time": "2023-04-28T06:36:54.076Z"
   },
   {
    "duration": 738,
    "start_time": "2023-04-28T06:36:54.085Z"
   },
   {
    "duration": 21,
    "start_time": "2023-04-28T06:36:54.825Z"
   },
   {
    "duration": 14,
    "start_time": "2023-04-28T06:36:54.859Z"
   },
   {
    "duration": 18,
    "start_time": "2023-04-28T06:36:54.875Z"
   },
   {
    "duration": 12,
    "start_time": "2023-04-28T06:36:54.896Z"
   },
   {
    "duration": 327,
    "start_time": "2023-04-28T06:36:54.910Z"
   },
   {
    "duration": 9,
    "start_time": "2023-04-28T06:36:55.238Z"
   },
   {
    "duration": 29,
    "start_time": "2023-04-28T06:36:55.251Z"
   },
   {
    "duration": 10,
    "start_time": "2023-04-28T06:36:55.282Z"
   },
   {
    "duration": 11860,
    "start_time": "2023-04-28T06:36:55.294Z"
   },
   {
    "duration": 88,
    "start_time": "2023-04-28T06:37:07.156Z"
   },
   {
    "duration": 38,
    "start_time": "2023-04-28T06:37:07.246Z"
   },
   {
    "duration": 725,
    "start_time": "2023-04-28T06:37:07.286Z"
   },
   {
    "duration": 5,
    "start_time": "2023-04-28T06:41:58.933Z"
   },
   {
    "duration": 8,
    "start_time": "2023-04-28T06:42:29.333Z"
   },
   {
    "duration": 3,
    "start_time": "2023-04-28T06:46:02.200Z"
   },
   {
    "duration": 7,
    "start_time": "2023-04-28T06:46:03.677Z"
   },
   {
    "duration": 8,
    "start_time": "2023-04-28T06:46:04.588Z"
   },
   {
    "duration": 5,
    "start_time": "2023-04-28T06:46:05.388Z"
   },
   {
    "duration": 3,
    "start_time": "2023-04-28T07:21:42.297Z"
   },
   {
    "duration": 3,
    "start_time": "2023-04-28T07:25:11.532Z"
   },
   {
    "duration": 4,
    "start_time": "2023-04-28T07:25:50.508Z"
   },
   {
    "duration": 89,
    "start_time": "2023-04-28T07:31:17.381Z"
   },
   {
    "duration": 4,
    "start_time": "2023-04-28T07:31:40.719Z"
   },
   {
    "duration": 4,
    "start_time": "2023-04-28T07:31:41.456Z"
   },
   {
    "duration": 7,
    "start_time": "2023-04-28T07:32:54.738Z"
   },
   {
    "duration": 4604,
    "start_time": "2023-04-28T07:33:08.631Z"
   },
   {
    "duration": 87,
    "start_time": "2023-04-28T07:35:16.390Z"
   },
   {
    "duration": 3,
    "start_time": "2023-04-28T07:35:22.027Z"
   },
   {
    "duration": 130,
    "start_time": "2023-04-28T07:35:22.865Z"
   },
   {
    "duration": 4,
    "start_time": "2023-04-28T07:36:57.409Z"
   },
   {
    "duration": 9,
    "start_time": "2023-04-28T07:37:43.561Z"
   },
   {
    "duration": 2,
    "start_time": "2023-04-28T07:37:46.973Z"
   },
   {
    "duration": 23,
    "start_time": "2023-04-28T07:37:47.311Z"
   },
   {
    "duration": 2,
    "start_time": "2023-04-28T07:38:12.238Z"
   },
   {
    "duration": 142,
    "start_time": "2023-04-28T07:38:12.695Z"
   },
   {
    "duration": 119,
    "start_time": "2023-04-28T07:39:25.900Z"
   },
   {
    "duration": 7,
    "start_time": "2023-04-28T07:44:36.477Z"
   },
   {
    "duration": 6,
    "start_time": "2023-04-28T07:44:43.928Z"
   },
   {
    "duration": 13,
    "start_time": "2023-04-28T07:44:50.214Z"
   },
   {
    "duration": 8,
    "start_time": "2023-04-28T07:45:15.407Z"
   },
   {
    "duration": 11,
    "start_time": "2023-04-28T07:45:18.003Z"
   },
   {
    "duration": 5,
    "start_time": "2023-04-28T07:47:11.570Z"
   },
   {
    "duration": 5,
    "start_time": "2023-04-28T07:47:17.770Z"
   },
   {
    "duration": 12,
    "start_time": "2023-04-28T07:47:25.869Z"
   },
   {
    "duration": 5,
    "start_time": "2023-04-28T07:47:34.633Z"
   },
   {
    "duration": 11,
    "start_time": "2023-04-28T07:47:36.907Z"
   },
   {
    "duration": 205,
    "start_time": "2023-04-28T07:47:42.333Z"
   },
   {
    "duration": 4,
    "start_time": "2023-04-28T07:48:11.601Z"
   },
   {
    "duration": 1392,
    "start_time": "2023-04-28T07:49:03.705Z"
   },
   {
    "duration": 2,
    "start_time": "2023-04-28T07:49:05.099Z"
   },
   {
    "duration": 13,
    "start_time": "2023-04-28T07:49:05.103Z"
   },
   {
    "duration": 54,
    "start_time": "2023-04-28T07:49:05.117Z"
   },
   {
    "duration": 24,
    "start_time": "2023-04-28T07:49:05.173Z"
   },
   {
    "duration": 4,
    "start_time": "2023-04-28T07:49:05.198Z"
   },
   {
    "duration": 12,
    "start_time": "2023-04-28T07:49:05.203Z"
   },
   {
    "duration": 13,
    "start_time": "2023-04-28T07:49:05.216Z"
   },
   {
    "duration": 10,
    "start_time": "2023-04-28T07:49:05.230Z"
   },
   {
    "duration": 699,
    "start_time": "2023-04-28T07:49:05.241Z"
   },
   {
    "duration": 6,
    "start_time": "2023-04-28T07:49:05.941Z"
   },
   {
    "duration": 28,
    "start_time": "2023-04-28T07:49:05.948Z"
   },
   {
    "duration": 47,
    "start_time": "2023-04-28T07:49:05.977Z"
   },
   {
    "duration": 14,
    "start_time": "2023-04-28T07:49:06.027Z"
   },
   {
    "duration": 237,
    "start_time": "2023-04-28T07:49:06.043Z"
   },
   {
    "duration": 3,
    "start_time": "2023-04-28T07:49:06.282Z"
   },
   {
    "duration": 26,
    "start_time": "2023-04-28T07:49:06.287Z"
   },
   {
    "duration": 144,
    "start_time": "2023-04-28T07:49:06.314Z"
   },
   {
    "duration": 15073,
    "start_time": "2023-04-28T07:49:06.460Z"
   },
   {
    "duration": 108,
    "start_time": "2023-04-28T07:49:21.536Z"
   },
   {
    "duration": 13,
    "start_time": "2023-04-28T07:49:21.645Z"
   },
   {
    "duration": 647,
    "start_time": "2023-04-28T07:49:21.660Z"
   },
   {
    "duration": 4,
    "start_time": "2023-04-28T07:49:22.309Z"
   },
   {
    "duration": 8,
    "start_time": "2023-04-28T07:49:22.314Z"
   },
   {
    "duration": 5,
    "start_time": "2023-04-28T07:49:22.324Z"
   },
   {
    "duration": 12,
    "start_time": "2023-04-28T07:49:22.330Z"
   },
   {
    "duration": 15,
    "start_time": "2023-04-28T07:49:22.344Z"
   },
   {
    "duration": 7,
    "start_time": "2023-04-28T07:49:22.360Z"
   },
   {
    "duration": 11,
    "start_time": "2023-04-28T07:49:22.368Z"
   },
   {
    "duration": 12,
    "start_time": "2023-04-28T07:49:22.380Z"
   },
   {
    "duration": 84,
    "start_time": "2023-04-28T07:49:22.393Z"
   },
   {
    "duration": 6,
    "start_time": "2023-04-28T07:49:22.478Z"
   },
   {
    "duration": 10,
    "start_time": "2023-04-28T07:49:22.485Z"
   },
   {
    "duration": 6,
    "start_time": "2023-04-28T07:49:22.497Z"
   },
   {
    "duration": 337,
    "start_time": "2023-04-28T07:49:56.400Z"
   },
   {
    "duration": 125,
    "start_time": "2023-04-28T07:50:13.012Z"
   },
   {
    "duration": 3,
    "start_time": "2023-04-28T07:52:38.195Z"
   },
   {
    "duration": 101,
    "start_time": "2023-04-28T07:52:56.107Z"
   },
   {
    "duration": 142,
    "start_time": "2023-04-28T07:53:01.418Z"
   },
   {
    "duration": 2,
    "start_time": "2023-04-28T07:53:29.519Z"
   },
   {
    "duration": 375,
    "start_time": "2023-04-28T07:53:30.019Z"
   },
   {
    "duration": 3,
    "start_time": "2023-04-28T07:53:51.644Z"
   },
   {
    "duration": 276,
    "start_time": "2023-04-28T07:53:52.333Z"
   },
   {
    "duration": 3,
    "start_time": "2023-04-28T07:53:58.645Z"
   },
   {
    "duration": 280,
    "start_time": "2023-04-28T07:53:59.010Z"
   },
   {
    "duration": 2,
    "start_time": "2023-04-28T07:54:19.524Z"
   },
   {
    "duration": 270,
    "start_time": "2023-04-28T07:54:20.220Z"
   },
   {
    "duration": 3,
    "start_time": "2023-04-28T07:54:44.359Z"
   },
   {
    "duration": 330,
    "start_time": "2023-04-28T07:54:44.776Z"
   },
   {
    "duration": 2,
    "start_time": "2023-04-28T07:54:56.549Z"
   },
   {
    "duration": 332,
    "start_time": "2023-04-28T07:54:57.311Z"
   },
   {
    "duration": 10,
    "start_time": "2023-04-28T07:55:13.049Z"
   },
   {
    "duration": 375,
    "start_time": "2023-04-28T07:55:17.100Z"
   },
   {
    "duration": 1384,
    "start_time": "2023-04-28T07:56:44.697Z"
   },
   {
    "duration": 2,
    "start_time": "2023-04-28T07:56:46.084Z"
   },
   {
    "duration": 11,
    "start_time": "2023-04-28T07:56:46.087Z"
   },
   {
    "duration": 53,
    "start_time": "2023-04-28T07:56:46.099Z"
   },
   {
    "duration": 24,
    "start_time": "2023-04-28T07:56:46.154Z"
   },
   {
    "duration": 3,
    "start_time": "2023-04-28T07:56:46.179Z"
   },
   {
    "duration": 9,
    "start_time": "2023-04-28T07:56:46.183Z"
   },
   {
    "duration": 6,
    "start_time": "2023-04-28T07:56:46.194Z"
   },
   {
    "duration": 9,
    "start_time": "2023-04-28T07:56:46.202Z"
   },
   {
    "duration": 762,
    "start_time": "2023-04-28T07:56:46.212Z"
   },
   {
    "duration": 6,
    "start_time": "2023-04-28T07:56:46.976Z"
   },
   {
    "duration": 6,
    "start_time": "2023-04-28T07:56:46.984Z"
   },
   {
    "duration": 12,
    "start_time": "2023-04-28T07:56:46.992Z"
   },
   {
    "duration": 5,
    "start_time": "2023-04-28T07:56:47.007Z"
   },
   {
    "duration": 232,
    "start_time": "2023-04-28T07:56:47.035Z"
   },
   {
    "duration": 4,
    "start_time": "2023-04-28T07:56:47.268Z"
   },
   {
    "duration": 9,
    "start_time": "2023-04-28T07:56:47.274Z"
   },
   {
    "duration": 24,
    "start_time": "2023-04-28T07:56:47.284Z"
   },
   {
    "duration": 14730,
    "start_time": "2023-04-28T07:56:47.310Z"
   },
   {
    "duration": 102,
    "start_time": "2023-04-28T07:57:02.043Z"
   },
   {
    "duration": 30,
    "start_time": "2023-04-28T07:57:02.147Z"
   },
   {
    "duration": 665,
    "start_time": "2023-04-28T07:57:02.178Z"
   },
   {
    "duration": 4,
    "start_time": "2023-04-28T07:57:02.845Z"
   },
   {
    "duration": 20,
    "start_time": "2023-04-28T07:57:02.850Z"
   },
   {
    "duration": 18,
    "start_time": "2023-04-28T07:57:02.871Z"
   },
   {
    "duration": 44,
    "start_time": "2023-04-28T07:57:02.890Z"
   },
   {
    "duration": 23,
    "start_time": "2023-04-28T07:57:02.936Z"
   },
   {
    "duration": 18,
    "start_time": "2023-04-28T07:57:02.961Z"
   },
   {
    "duration": 13,
    "start_time": "2023-04-28T07:57:02.981Z"
   },
   {
    "duration": 47,
    "start_time": "2023-04-28T07:57:02.996Z"
   },
   {
    "duration": 87,
    "start_time": "2023-04-28T07:57:03.044Z"
   },
   {
    "duration": 14,
    "start_time": "2023-04-28T07:57:03.132Z"
   },
   {
    "duration": 14,
    "start_time": "2023-04-28T07:57:03.147Z"
   },
   {
    "duration": 10,
    "start_time": "2023-04-28T07:57:03.162Z"
   },
   {
    "duration": 562,
    "start_time": "2023-04-28T07:57:03.175Z"
   },
   {
    "duration": 4,
    "start_time": "2023-04-28T07:57:15.642Z"
   },
   {
    "duration": 233,
    "start_time": "2023-04-28T07:57:17.205Z"
   },
   {
    "duration": 3,
    "start_time": "2023-04-28T07:58:38.096Z"
   },
   {
    "duration": 1477,
    "start_time": "2023-04-28T08:03:22.227Z"
   },
   {
    "duration": 2,
    "start_time": "2023-04-28T08:03:23.706Z"
   },
   {
    "duration": 13,
    "start_time": "2023-04-28T08:03:23.710Z"
   },
   {
    "duration": 69,
    "start_time": "2023-04-28T08:03:23.724Z"
   },
   {
    "duration": 23,
    "start_time": "2023-04-28T08:03:23.796Z"
   },
   {
    "duration": 3,
    "start_time": "2023-04-28T08:03:23.821Z"
   },
   {
    "duration": 19,
    "start_time": "2023-04-28T08:03:23.825Z"
   },
   {
    "duration": 29,
    "start_time": "2023-04-28T08:03:23.845Z"
   },
   {
    "duration": 6,
    "start_time": "2023-04-28T08:03:23.876Z"
   },
   {
    "duration": 780,
    "start_time": "2023-04-28T08:03:23.884Z"
   },
   {
    "duration": 6,
    "start_time": "2023-04-28T08:03:24.668Z"
   },
   {
    "duration": 6,
    "start_time": "2023-04-28T08:03:24.676Z"
   },
   {
    "duration": 14,
    "start_time": "2023-04-28T08:03:24.684Z"
   },
   {
    "duration": 3,
    "start_time": "2023-04-28T08:03:24.702Z"
   },
   {
    "duration": 281,
    "start_time": "2023-04-28T08:03:24.707Z"
   },
   {
    "duration": 4,
    "start_time": "2023-04-28T08:03:24.989Z"
   },
   {
    "duration": 11,
    "start_time": "2023-04-28T08:03:24.995Z"
   },
   {
    "duration": 12,
    "start_time": "2023-04-28T08:03:25.007Z"
   },
   {
    "duration": 12632,
    "start_time": "2023-04-28T08:03:25.021Z"
   },
   {
    "duration": 84,
    "start_time": "2023-04-28T08:03:37.655Z"
   },
   {
    "duration": 114,
    "start_time": "2023-04-28T08:03:37.741Z"
   },
   {
    "duration": 708,
    "start_time": "2023-04-28T08:03:37.859Z"
   },
   {
    "duration": 4,
    "start_time": "2023-04-28T08:03:38.569Z"
   },
   {
    "duration": 12,
    "start_time": "2023-04-28T08:03:38.574Z"
   },
   {
    "duration": 9,
    "start_time": "2023-04-28T08:03:38.587Z"
   },
   {
    "duration": 10,
    "start_time": "2023-04-28T08:03:38.597Z"
   },
   {
    "duration": 8,
    "start_time": "2023-04-28T08:03:38.608Z"
   },
   {
    "duration": 5,
    "start_time": "2023-04-28T08:03:38.617Z"
   },
   {
    "duration": 36,
    "start_time": "2023-04-28T08:03:38.623Z"
   },
   {
    "duration": 24,
    "start_time": "2023-04-28T08:03:38.661Z"
   },
   {
    "duration": 93,
    "start_time": "2023-04-28T08:03:38.687Z"
   },
   {
    "duration": 17,
    "start_time": "2023-04-28T08:03:38.781Z"
   },
   {
    "duration": 6,
    "start_time": "2023-04-28T08:03:38.800Z"
   },
   {
    "duration": 60,
    "start_time": "2023-04-28T08:03:38.807Z"
   },
   {
    "duration": 185,
    "start_time": "2023-04-28T08:03:38.868Z"
   },
   {
    "duration": 80,
    "start_time": "2023-04-28T08:03:39.058Z"
   },
   {
    "duration": 349,
    "start_time": "2023-04-28T08:03:39.140Z"
   },
   {
    "duration": 3,
    "start_time": "2023-04-28T08:03:58.477Z"
   },
   {
    "duration": 163,
    "start_time": "2023-04-28T08:03:59.003Z"
   },
   {
    "duration": 3,
    "start_time": "2023-04-28T08:04:04.914Z"
   },
   {
    "duration": 384,
    "start_time": "2023-04-28T08:04:05.314Z"
   },
   {
    "duration": 3,
    "start_time": "2023-04-28T08:04:18.226Z"
   },
   {
    "duration": 357,
    "start_time": "2023-04-28T08:04:18.551Z"
   },
   {
    "duration": 3,
    "start_time": "2023-04-28T08:04:25.977Z"
   },
   {
    "duration": 433,
    "start_time": "2023-04-28T08:04:26.277Z"
   },
   {
    "duration": 3,
    "start_time": "2023-04-28T08:04:31.797Z"
   },
   {
    "duration": 1437,
    "start_time": "2023-04-28T08:06:18.362Z"
   },
   {
    "duration": 3,
    "start_time": "2023-04-28T08:06:19.800Z"
   },
   {
    "duration": 9,
    "start_time": "2023-04-28T08:06:19.805Z"
   },
   {
    "duration": 62,
    "start_time": "2023-04-28T08:06:19.815Z"
   },
   {
    "duration": 24,
    "start_time": "2023-04-28T08:06:19.880Z"
   },
   {
    "duration": 3,
    "start_time": "2023-04-28T08:06:19.906Z"
   },
   {
    "duration": 16,
    "start_time": "2023-04-28T08:06:19.910Z"
   },
   {
    "duration": 5,
    "start_time": "2023-04-28T08:06:19.927Z"
   },
   {
    "duration": 32,
    "start_time": "2023-04-28T08:06:19.936Z"
   },
   {
    "duration": 782,
    "start_time": "2023-04-28T08:06:19.970Z"
   },
   {
    "duration": 7,
    "start_time": "2023-04-28T08:06:20.757Z"
   },
   {
    "duration": 10,
    "start_time": "2023-04-28T08:06:20.766Z"
   },
   {
    "duration": 11,
    "start_time": "2023-04-28T08:06:20.777Z"
   },
   {
    "duration": 4,
    "start_time": "2023-04-28T08:06:20.791Z"
   },
   {
    "duration": 271,
    "start_time": "2023-04-28T08:06:20.796Z"
   },
   {
    "duration": 5,
    "start_time": "2023-04-28T08:06:21.071Z"
   },
   {
    "duration": 9,
    "start_time": "2023-04-28T08:06:21.078Z"
   },
   {
    "duration": 7,
    "start_time": "2023-04-28T08:06:21.088Z"
   },
   {
    "duration": 12940,
    "start_time": "2023-04-28T08:06:21.096Z"
   },
   {
    "duration": 25,
    "start_time": "2023-04-28T08:06:34.042Z"
   },
   {
    "duration": 14,
    "start_time": "2023-04-28T08:06:34.068Z"
   },
   {
    "duration": 788,
    "start_time": "2023-04-28T08:06:34.083Z"
   },
   {
    "duration": 6,
    "start_time": "2023-04-28T08:06:34.874Z"
   },
   {
    "duration": 10,
    "start_time": "2023-04-28T08:06:34.881Z"
   },
   {
    "duration": 29,
    "start_time": "2023-04-28T08:06:34.894Z"
   },
   {
    "duration": 60,
    "start_time": "2023-04-28T08:06:34.925Z"
   },
   {
    "duration": 13,
    "start_time": "2023-04-28T08:06:34.987Z"
   },
   {
    "duration": 51,
    "start_time": "2023-04-28T08:06:35.002Z"
   },
   {
    "duration": 22,
    "start_time": "2023-04-28T08:06:35.054Z"
   },
   {
    "duration": 18,
    "start_time": "2023-04-28T08:06:35.078Z"
   },
   {
    "duration": 111,
    "start_time": "2023-04-28T08:06:35.098Z"
   },
   {
    "duration": 21,
    "start_time": "2023-04-28T08:06:35.210Z"
   },
   {
    "duration": 38,
    "start_time": "2023-04-28T08:06:35.232Z"
   },
   {
    "duration": 19,
    "start_time": "2023-04-28T08:06:35.271Z"
   },
   {
    "duration": 552,
    "start_time": "2023-04-28T08:06:35.291Z"
   },
   {
    "duration": 14,
    "start_time": "2023-04-28T08:06:35.844Z"
   },
   {
    "duration": 350,
    "start_time": "2023-04-28T08:06:35.859Z"
   },
   {
    "duration": 3,
    "start_time": "2023-04-28T08:06:36.210Z"
   },
   {
    "duration": 1366,
    "start_time": "2023-04-28T08:09:25.009Z"
   },
   {
    "duration": 2,
    "start_time": "2023-04-28T08:09:26.377Z"
   },
   {
    "duration": 9,
    "start_time": "2023-04-28T08:09:26.381Z"
   },
   {
    "duration": 68,
    "start_time": "2023-04-28T08:09:26.391Z"
   },
   {
    "duration": 24,
    "start_time": "2023-04-28T08:09:26.461Z"
   },
   {
    "duration": 3,
    "start_time": "2023-04-28T08:09:26.486Z"
   },
   {
    "duration": 18,
    "start_time": "2023-04-28T08:09:26.490Z"
   },
   {
    "duration": 9,
    "start_time": "2023-04-28T08:09:26.510Z"
   },
   {
    "duration": 25,
    "start_time": "2023-04-28T08:09:26.521Z"
   },
   {
    "duration": 741,
    "start_time": "2023-04-28T08:09:26.549Z"
   },
   {
    "duration": 7,
    "start_time": "2023-04-28T08:09:27.291Z"
   },
   {
    "duration": 7,
    "start_time": "2023-04-28T08:09:27.299Z"
   },
   {
    "duration": 29,
    "start_time": "2023-04-28T08:09:27.308Z"
   },
   {
    "duration": 5,
    "start_time": "2023-04-28T08:09:27.340Z"
   },
   {
    "duration": 226,
    "start_time": "2023-04-28T08:09:27.349Z"
   },
   {
    "duration": 3,
    "start_time": "2023-04-28T08:09:27.577Z"
   },
   {
    "duration": 8,
    "start_time": "2023-04-28T08:09:27.581Z"
   },
   {
    "duration": 8,
    "start_time": "2023-04-28T08:09:27.591Z"
   },
   {
    "duration": 12536,
    "start_time": "2023-04-28T08:09:27.600Z"
   },
   {
    "duration": 108,
    "start_time": "2023-04-28T08:09:40.139Z"
   },
   {
    "duration": 17,
    "start_time": "2023-04-28T08:09:40.249Z"
   },
   {
    "duration": 755,
    "start_time": "2023-04-28T08:09:40.268Z"
   },
   {
    "duration": 5,
    "start_time": "2023-04-28T08:09:41.026Z"
   },
   {
    "duration": 19,
    "start_time": "2023-04-28T08:09:41.032Z"
   },
   {
    "duration": 5,
    "start_time": "2023-04-28T08:09:41.053Z"
   },
   {
    "duration": 20,
    "start_time": "2023-04-28T08:09:41.059Z"
   },
   {
    "duration": 7,
    "start_time": "2023-04-28T08:09:41.081Z"
   },
   {
    "duration": 5,
    "start_time": "2023-04-28T08:09:41.089Z"
   },
   {
    "duration": 4,
    "start_time": "2023-04-28T08:09:41.096Z"
   },
   {
    "duration": 5,
    "start_time": "2023-04-28T08:09:41.101Z"
   },
   {
    "duration": 96,
    "start_time": "2023-04-28T08:09:41.108Z"
   },
   {
    "duration": 6,
    "start_time": "2023-04-28T08:09:41.205Z"
   },
   {
    "duration": 6,
    "start_time": "2023-04-28T08:09:41.212Z"
   },
   {
    "duration": 19,
    "start_time": "2023-04-28T08:09:41.219Z"
   },
   {
    "duration": 199,
    "start_time": "2023-04-28T08:09:41.247Z"
   },
   {
    "duration": 102,
    "start_time": "2023-04-28T08:09:41.448Z"
   },
   {
    "duration": 335,
    "start_time": "2023-04-28T08:09:41.552Z"
   },
   {
    "duration": 3,
    "start_time": "2023-04-28T08:09:41.888Z"
   },
   {
    "duration": 833590,
    "start_time": "2023-04-28T08:09:41.893Z"
   },
   {
    "duration": 184,
    "start_time": "2023-04-28T08:23:35.486Z"
   },
   {
    "duration": 0,
    "start_time": "2023-04-28T08:23:35.672Z"
   },
   {
    "duration": 0,
    "start_time": "2023-04-28T08:23:35.673Z"
   },
   {
    "duration": 3,
    "start_time": "2023-04-28T08:23:57.025Z"
   },
   {
    "duration": 111,
    "start_time": "2023-04-28T08:23:59.696Z"
   },
   {
    "duration": 3265,
    "start_time": "2023-04-28T08:24:06.882Z"
   },
   {
    "duration": 2,
    "start_time": "2023-04-28T08:24:25.384Z"
   },
   {
    "duration": 9,
    "start_time": "2023-04-28T08:24:26.048Z"
   },
   {
    "duration": 11,
    "start_time": "2023-04-28T08:24:30.234Z"
   },
   {
    "duration": 11621,
    "start_time": "2023-04-28T08:24:32.747Z"
   },
   {
    "duration": 3,
    "start_time": "2023-04-28T08:24:51.548Z"
   },
   {
    "duration": 748300,
    "start_time": "2023-04-28T08:24:52.255Z"
   },
   {
    "duration": 4,
    "start_time": "2023-04-28T08:37:20.634Z"
   },
   {
    "duration": 46,
    "start_time": "2023-04-28T08:38:03.299Z"
   },
   {
    "duration": 1946,
    "start_time": "2023-04-28T08:39:22.276Z"
   },
   {
    "duration": 2,
    "start_time": "2023-04-28T08:39:24.224Z"
   },
   {
    "duration": 7,
    "start_time": "2023-04-28T08:39:24.228Z"
   },
   {
    "duration": 51,
    "start_time": "2023-04-28T08:39:24.237Z"
   },
   {
    "duration": 24,
    "start_time": "2023-04-28T08:39:24.291Z"
   },
   {
    "duration": 3,
    "start_time": "2023-04-28T08:39:24.317Z"
   },
   {
    "duration": 13,
    "start_time": "2023-04-28T08:39:24.321Z"
   },
   {
    "duration": 15,
    "start_time": "2023-04-28T08:39:24.335Z"
   },
   {
    "duration": 6,
    "start_time": "2023-04-28T08:39:24.352Z"
   },
   {
    "duration": 720,
    "start_time": "2023-04-28T08:39:24.360Z"
   },
   {
    "duration": 7,
    "start_time": "2023-04-28T08:39:25.082Z"
   },
   {
    "duration": 21,
    "start_time": "2023-04-28T08:39:25.090Z"
   },
   {
    "duration": 18,
    "start_time": "2023-04-28T08:39:25.113Z"
   },
   {
    "duration": 6,
    "start_time": "2023-04-28T08:39:25.135Z"
   },
   {
    "duration": 234,
    "start_time": "2023-04-28T08:39:25.143Z"
   },
   {
    "duration": 4,
    "start_time": "2023-04-28T08:39:25.379Z"
   },
   {
    "duration": 15,
    "start_time": "2023-04-28T08:39:25.384Z"
   },
   {
    "duration": 8,
    "start_time": "2023-04-28T08:39:25.401Z"
   },
   {
    "duration": 19,
    "start_time": "2023-04-28T08:39:25.410Z"
   },
   {
    "duration": 15304,
    "start_time": "2023-04-28T08:39:25.431Z"
   },
   {
    "duration": 14,
    "start_time": "2023-04-28T08:39:40.736Z"
   },
   {
    "duration": 14,
    "start_time": "2023-04-28T08:39:40.751Z"
   },
   {
    "duration": 696,
    "start_time": "2023-04-28T08:39:40.767Z"
   },
   {
    "duration": 4,
    "start_time": "2023-04-28T08:39:41.465Z"
   },
   {
    "duration": 11,
    "start_time": "2023-04-28T08:39:41.471Z"
   },
   {
    "duration": 7,
    "start_time": "2023-04-28T08:39:41.483Z"
   },
   {
    "duration": 9,
    "start_time": "2023-04-28T08:39:41.492Z"
   },
   {
    "duration": 6,
    "start_time": "2023-04-28T08:39:41.503Z"
   },
   {
    "duration": 6,
    "start_time": "2023-04-28T08:39:41.510Z"
   },
   {
    "duration": 5,
    "start_time": "2023-04-28T08:39:41.517Z"
   },
   {
    "duration": 11,
    "start_time": "2023-04-28T08:39:41.523Z"
   },
   {
    "duration": 99,
    "start_time": "2023-04-28T08:39:41.536Z"
   },
   {
    "duration": 7,
    "start_time": "2023-04-28T08:39:41.637Z"
   },
   {
    "duration": 14633,
    "start_time": "2023-04-28T08:39:41.645Z"
   },
   {
    "duration": 1533,
    "start_time": "2023-04-28T08:40:01.180Z"
   },
   {
    "duration": 3,
    "start_time": "2023-04-28T08:40:02.715Z"
   },
   {
    "duration": 37,
    "start_time": "2023-04-28T08:40:02.719Z"
   },
   {
    "duration": 75,
    "start_time": "2023-04-28T08:40:02.757Z"
   },
   {
    "duration": 22,
    "start_time": "2023-04-28T08:40:02.834Z"
   },
   {
    "duration": 42,
    "start_time": "2023-04-28T08:40:02.857Z"
   },
   {
    "duration": 80,
    "start_time": "2023-04-28T08:40:02.901Z"
   },
   {
    "duration": 21,
    "start_time": "2023-04-28T08:40:02.982Z"
   },
   {
    "duration": 42,
    "start_time": "2023-04-28T08:40:03.005Z"
   },
   {
    "duration": 697,
    "start_time": "2023-04-28T08:40:03.049Z"
   },
   {
    "duration": 6,
    "start_time": "2023-04-28T08:40:03.747Z"
   },
   {
    "duration": 7,
    "start_time": "2023-04-28T08:40:03.755Z"
   },
   {
    "duration": 7,
    "start_time": "2023-04-28T08:40:03.764Z"
   },
   {
    "duration": 21,
    "start_time": "2023-04-28T08:40:03.774Z"
   },
   {
    "duration": 255,
    "start_time": "2023-04-28T08:40:03.797Z"
   },
   {
    "duration": 3,
    "start_time": "2023-04-28T08:40:04.054Z"
   },
   {
    "duration": 62,
    "start_time": "2023-04-28T08:40:04.059Z"
   },
   {
    "duration": 53,
    "start_time": "2023-04-28T08:40:04.122Z"
   },
   {
    "duration": 73,
    "start_time": "2023-04-28T08:40:04.176Z"
   },
   {
    "duration": 15286,
    "start_time": "2023-04-28T08:40:04.251Z"
   },
   {
    "duration": 103,
    "start_time": "2023-04-28T08:40:19.543Z"
   },
   {
    "duration": 15,
    "start_time": "2023-04-28T08:40:19.648Z"
   },
   {
    "duration": 690,
    "start_time": "2023-04-28T08:40:19.665Z"
   },
   {
    "duration": 5,
    "start_time": "2023-04-28T08:40:20.357Z"
   },
   {
    "duration": 7,
    "start_time": "2023-04-28T08:40:20.363Z"
   },
   {
    "duration": 10,
    "start_time": "2023-04-28T08:40:20.371Z"
   },
   {
    "duration": 11,
    "start_time": "2023-04-28T08:40:20.382Z"
   },
   {
    "duration": 7,
    "start_time": "2023-04-28T08:40:20.394Z"
   },
   {
    "duration": 5,
    "start_time": "2023-04-28T08:40:20.402Z"
   },
   {
    "duration": 10,
    "start_time": "2023-04-28T08:40:20.408Z"
   },
   {
    "duration": 25,
    "start_time": "2023-04-28T08:40:20.419Z"
   },
   {
    "duration": 89,
    "start_time": "2023-04-28T08:40:20.445Z"
   },
   {
    "duration": 10,
    "start_time": "2023-04-28T08:40:20.535Z"
   },
   {
    "duration": 198,
    "start_time": "2023-04-28T08:40:20.546Z"
   },
   {
    "duration": 4,
    "start_time": "2023-04-28T08:40:20.840Z"
   },
   {
    "duration": 234,
    "start_time": "2023-04-28T08:40:20.935Z"
   },
   {
    "duration": 3,
    "start_time": "2023-04-28T08:40:21.170Z"
   },
   {
    "duration": 797095,
    "start_time": "2023-04-28T08:40:21.174Z"
   },
   {
    "duration": 2,
    "start_time": "2023-04-28T08:53:38.271Z"
   },
   {
    "duration": 3066,
    "start_time": "2023-04-28T08:53:38.274Z"
   },
   {
    "duration": 3,
    "start_time": "2023-04-28T08:53:41.344Z"
   },
   {
    "duration": 426587,
    "start_time": "2023-04-28T08:53:41.348Z"
   },
   {
    "duration": 2,
    "start_time": "2023-04-28T09:00:47.937Z"
   },
   {
    "duration": 2313,
    "start_time": "2023-04-28T09:27:50.239Z"
   },
   {
    "duration": 1925,
    "start_time": "2023-04-28T09:27:52.554Z"
   },
   {
    "duration": 1366,
    "start_time": "2023-04-28T09:27:54.481Z"
   },
   {
    "duration": 2,
    "start_time": "2023-04-28T09:27:55.849Z"
   },
   {
    "duration": 33,
    "start_time": "2023-04-28T09:27:55.853Z"
   },
   {
    "duration": 154,
    "start_time": "2023-04-28T09:27:55.887Z"
   },
   {
    "duration": 23,
    "start_time": "2023-04-28T09:27:56.042Z"
   },
   {
    "duration": 3,
    "start_time": "2023-04-28T09:27:56.066Z"
   },
   {
    "duration": 23,
    "start_time": "2023-04-28T09:27:56.070Z"
   },
   {
    "duration": 16,
    "start_time": "2023-04-28T09:27:56.094Z"
   },
   {
    "duration": 14,
    "start_time": "2023-04-28T09:27:56.111Z"
   },
   {
    "duration": 685,
    "start_time": "2023-04-28T09:27:56.126Z"
   },
   {
    "duration": 6,
    "start_time": "2023-04-28T09:27:56.813Z"
   },
   {
    "duration": 29,
    "start_time": "2023-04-28T09:27:56.821Z"
   },
   {
    "duration": 15,
    "start_time": "2023-04-28T09:27:56.852Z"
   },
   {
    "duration": 16,
    "start_time": "2023-04-28T09:27:56.869Z"
   },
   {
    "duration": 225,
    "start_time": "2023-04-28T09:27:56.886Z"
   },
   {
    "duration": 4,
    "start_time": "2023-04-28T09:27:57.113Z"
   },
   {
    "duration": 24,
    "start_time": "2023-04-28T09:27:57.118Z"
   },
   {
    "duration": 10,
    "start_time": "2023-04-28T09:27:57.144Z"
   },
   {
    "duration": 12,
    "start_time": "2023-04-28T09:27:57.155Z"
   },
   {
    "duration": 14767,
    "start_time": "2023-04-28T09:27:57.168Z"
   },
   {
    "duration": 106,
    "start_time": "2023-04-28T09:28:11.937Z"
   },
   {
    "duration": 15,
    "start_time": "2023-04-28T09:28:12.044Z"
   },
   {
    "duration": 730,
    "start_time": "2023-04-28T09:28:12.061Z"
   },
   {
    "duration": 5,
    "start_time": "2023-04-28T09:28:12.793Z"
   },
   {
    "duration": 7,
    "start_time": "2023-04-28T09:28:12.800Z"
   },
   {
    "duration": 14,
    "start_time": "2023-04-28T09:28:12.809Z"
   },
   {
    "duration": 12,
    "start_time": "2023-04-28T09:28:12.825Z"
   },
   {
    "duration": 6,
    "start_time": "2023-04-28T09:28:12.839Z"
   },
   {
    "duration": 4,
    "start_time": "2023-04-28T09:28:12.847Z"
   },
   {
    "duration": 14,
    "start_time": "2023-04-28T09:28:12.853Z"
   },
   {
    "duration": 11,
    "start_time": "2023-04-28T09:28:12.869Z"
   },
   {
    "duration": 93,
    "start_time": "2023-04-28T09:28:12.881Z"
   },
   {
    "duration": 8,
    "start_time": "2023-04-28T09:28:12.975Z"
   },
   {
    "duration": 655,
    "start_time": "2023-04-28T09:28:12.985Z"
   },
   {
    "duration": 92,
    "start_time": "2023-04-28T09:28:13.643Z"
   },
   {
    "duration": 316,
    "start_time": "2023-04-28T09:28:13.737Z"
   },
   {
    "duration": 4,
    "start_time": "2023-04-28T09:28:14.055Z"
   },
   {
    "duration": 795697,
    "start_time": "2023-04-28T09:28:14.061Z"
   },
   {
    "duration": 3,
    "start_time": "2023-04-28T09:41:29.762Z"
   },
   {
    "duration": 3066,
    "start_time": "2023-04-28T09:41:29.766Z"
   },
   {
    "duration": 3,
    "start_time": "2023-04-28T09:41:32.835Z"
   },
   {
    "duration": 537101,
    "start_time": "2023-04-28T09:41:32.840Z"
   },
   {
    "duration": 3,
    "start_time": "2023-04-28T09:50:29.943Z"
   },
   {
    "duration": 2225,
    "start_time": "2023-04-28T10:12:25.170Z"
   },
   {
    "duration": 2028,
    "start_time": "2023-04-28T10:12:27.397Z"
   },
   {
    "duration": 1555,
    "start_time": "2023-04-28T10:12:29.427Z"
   },
   {
    "duration": 3,
    "start_time": "2023-04-28T10:12:30.984Z"
   },
   {
    "duration": 37,
    "start_time": "2023-04-28T10:12:30.988Z"
   },
   {
    "duration": 172,
    "start_time": "2023-04-28T10:12:31.026Z"
   },
   {
    "duration": 23,
    "start_time": "2023-04-28T10:12:31.199Z"
   },
   {
    "duration": 10,
    "start_time": "2023-04-28T10:12:31.223Z"
   },
   {
    "duration": 37,
    "start_time": "2023-04-28T10:12:31.235Z"
   },
   {
    "duration": 33,
    "start_time": "2023-04-28T10:12:31.275Z"
   },
   {
    "duration": 31,
    "start_time": "2023-04-28T10:12:31.309Z"
   },
   {
    "duration": 757,
    "start_time": "2023-04-28T10:12:31.342Z"
   },
   {
    "duration": 6,
    "start_time": "2023-04-28T10:12:32.100Z"
   },
   {
    "duration": 6,
    "start_time": "2023-04-28T10:12:32.109Z"
   },
   {
    "duration": 8,
    "start_time": "2023-04-28T10:12:32.134Z"
   },
   {
    "duration": 10,
    "start_time": "2023-04-28T10:12:32.144Z"
   },
   {
    "duration": 228,
    "start_time": "2023-04-28T10:12:32.156Z"
   },
   {
    "duration": 4,
    "start_time": "2023-04-28T10:12:32.386Z"
   },
   {
    "duration": 9,
    "start_time": "2023-04-28T10:12:32.391Z"
   },
   {
    "duration": 23,
    "start_time": "2023-04-28T10:12:32.401Z"
   },
   {
    "duration": 19,
    "start_time": "2023-04-28T10:12:32.426Z"
   },
   {
    "duration": 14495,
    "start_time": "2023-04-28T10:12:32.447Z"
   },
   {
    "duration": 107,
    "start_time": "2023-04-28T10:12:46.944Z"
   },
   {
    "duration": 18,
    "start_time": "2023-04-28T10:12:47.052Z"
   },
   {
    "duration": 763,
    "start_time": "2023-04-28T10:12:47.072Z"
   },
   {
    "duration": 5,
    "start_time": "2023-04-28T10:12:47.837Z"
   },
   {
    "duration": 9,
    "start_time": "2023-04-28T10:12:47.844Z"
   },
   {
    "duration": 5,
    "start_time": "2023-04-28T10:12:47.855Z"
   },
   {
    "duration": 12,
    "start_time": "2023-04-28T10:12:47.862Z"
   },
   {
    "duration": 7,
    "start_time": "2023-04-28T10:12:47.875Z"
   },
   {
    "duration": 9,
    "start_time": "2023-04-28T10:12:47.884Z"
   },
   {
    "duration": 6,
    "start_time": "2023-04-28T10:12:47.894Z"
   },
   {
    "duration": 35,
    "start_time": "2023-04-28T10:12:47.902Z"
   },
   {
    "duration": 99,
    "start_time": "2023-04-28T10:12:47.939Z"
   },
   {
    "duration": 6,
    "start_time": "2023-04-28T10:12:48.039Z"
   },
   {
    "duration": 189,
    "start_time": "2023-04-28T10:12:48.047Z"
   },
   {
    "duration": 98,
    "start_time": "2023-04-28T10:12:48.238Z"
   },
   {
    "duration": 255,
    "start_time": "2023-04-28T10:12:48.337Z"
   },
   {
    "duration": 3,
    "start_time": "2023-04-28T10:12:48.593Z"
   },
   {
    "duration": 274763,
    "start_time": "2023-04-28T10:12:48.597Z"
   },
   {
    "duration": 2,
    "start_time": "2023-04-28T10:17:23.364Z"
   },
   {
    "duration": 2350,
    "start_time": "2023-04-28T10:17:23.368Z"
   },
   {
    "duration": 3,
    "start_time": "2023-04-28T10:17:25.719Z"
   },
   {
    "duration": 484813,
    "start_time": "2023-04-28T10:17:25.734Z"
   },
   {
    "duration": 87,
    "start_time": "2023-04-28T10:25:30.549Z"
   },
   {
    "duration": 1063003,
    "start_time": "2023-04-28T10:25:30.638Z"
   },
   {
    "duration": 3,
    "start_time": "2023-04-28T10:44:40.141Z"
   },
   {
    "duration": 2009,
    "start_time": "2023-04-28T11:21:25.691Z"
   },
   {
    "duration": 1994,
    "start_time": "2023-04-28T11:21:27.702Z"
   },
   {
    "duration": 1379,
    "start_time": "2023-04-28T11:21:29.698Z"
   },
   {
    "duration": 3,
    "start_time": "2023-04-28T11:21:31.079Z"
   },
   {
    "duration": 43,
    "start_time": "2023-04-28T11:21:31.083Z"
   },
   {
    "duration": 71,
    "start_time": "2023-04-28T11:21:31.128Z"
   },
   {
    "duration": 22,
    "start_time": "2023-04-28T11:21:31.201Z"
   },
   {
    "duration": 32,
    "start_time": "2023-04-28T11:21:31.224Z"
   },
   {
    "duration": 47,
    "start_time": "2023-04-28T11:21:31.257Z"
   },
   {
    "duration": 29,
    "start_time": "2023-04-28T11:21:31.306Z"
   },
   {
    "duration": 22,
    "start_time": "2023-04-28T11:21:31.337Z"
   },
   {
    "duration": 735,
    "start_time": "2023-04-28T11:21:31.360Z"
   },
   {
    "duration": 6,
    "start_time": "2023-04-28T11:21:32.097Z"
   },
   {
    "duration": 15,
    "start_time": "2023-04-28T11:21:32.106Z"
   },
   {
    "duration": 24,
    "start_time": "2023-04-28T11:21:32.123Z"
   },
   {
    "duration": 16,
    "start_time": "2023-04-28T11:21:32.148Z"
   },
   {
    "duration": 254,
    "start_time": "2023-04-28T11:21:32.165Z"
   },
   {
    "duration": 4,
    "start_time": "2023-04-28T11:21:32.420Z"
   },
   {
    "duration": 5,
    "start_time": "2023-04-28T11:21:32.434Z"
   },
   {
    "duration": 9,
    "start_time": "2023-04-28T11:21:32.440Z"
   },
   {
    "duration": 34,
    "start_time": "2023-04-28T11:21:32.451Z"
   },
   {
    "duration": 14849,
    "start_time": "2023-04-28T11:21:32.487Z"
   },
   {
    "duration": 104,
    "start_time": "2023-04-28T11:21:47.343Z"
   },
   {
    "duration": 13,
    "start_time": "2023-04-28T11:21:47.449Z"
   },
   {
    "duration": 726,
    "start_time": "2023-04-28T11:21:47.464Z"
   },
   {
    "duration": 5,
    "start_time": "2023-04-28T11:21:48.191Z"
   },
   {
    "duration": 10,
    "start_time": "2023-04-28T11:21:48.198Z"
   },
   {
    "duration": 8,
    "start_time": "2023-04-28T11:21:48.210Z"
   },
   {
    "duration": 10,
    "start_time": "2023-04-28T11:21:48.219Z"
   },
   {
    "duration": 10,
    "start_time": "2023-04-28T11:21:48.230Z"
   },
   {
    "duration": 7,
    "start_time": "2023-04-28T11:21:48.241Z"
   },
   {
    "duration": 4,
    "start_time": "2023-04-28T11:21:48.250Z"
   },
   {
    "duration": 5,
    "start_time": "2023-04-28T11:21:48.256Z"
   },
   {
    "duration": 98,
    "start_time": "2023-04-28T11:21:48.262Z"
   },
   {
    "duration": 4,
    "start_time": "2023-04-28T11:21:48.362Z"
   },
   {
    "duration": 471,
    "start_time": "2023-04-28T11:21:48.367Z"
   },
   {
    "duration": 94,
    "start_time": "2023-04-28T11:21:48.841Z"
   },
   {
    "duration": 304,
    "start_time": "2023-04-28T11:21:48.937Z"
   },
   {
    "duration": 4,
    "start_time": "2023-04-28T11:21:49.243Z"
   },
   {
    "duration": 273297,
    "start_time": "2023-04-28T11:21:49.248Z"
   },
   {
    "duration": 3,
    "start_time": "2023-04-28T11:26:22.548Z"
   },
   {
    "duration": 2376,
    "start_time": "2023-04-28T11:26:22.553Z"
   },
   {
    "duration": 3,
    "start_time": "2023-04-28T11:26:24.935Z"
   },
   {
    "duration": 162408,
    "start_time": "2023-04-28T11:26:24.939Z"
   },
   {
    "duration": 3,
    "start_time": "2023-04-28T11:29:07.435Z"
   },
   {
    "duration": 1859338,
    "start_time": "2023-04-28T11:29:07.440Z"
   },
   {
    "duration": 3,
    "start_time": "2023-04-28T12:00:15.842Z"
   },
   {
    "duration": 4,
    "start_time": "2023-04-28T12:00:16.655Z"
   },
   {
    "duration": 3,
    "start_time": "2023-04-28T12:00:18.354Z"
   },
   {
    "duration": 7,
    "start_time": "2023-04-28T12:00:19.904Z"
   },
   {
    "duration": 148,
    "start_time": "2023-04-28T12:00:23.506Z"
   },
   {
    "duration": 109,
    "start_time": "2023-04-28T12:01:03.620Z"
   },
   {
    "duration": 3,
    "start_time": "2023-04-28T12:01:07.207Z"
   },
   {
    "duration": 6,
    "start_time": "2023-04-28T12:01:08.395Z"
   },
   {
    "duration": 3,
    "start_time": "2023-04-28T12:01:10.669Z"
   },
   {
    "duration": 3,
    "start_time": "2023-04-28T12:01:13.244Z"
   },
   {
    "duration": 3,
    "start_time": "2023-04-28T12:01:16.332Z"
   },
   {
    "duration": 13317,
    "start_time": "2023-04-28T12:01:41.535Z"
   },
   {
    "duration": 2970,
    "start_time": "2023-04-28T12:01:56.773Z"
   },
   {
    "duration": 2115,
    "start_time": "2023-04-28T12:02:15.510Z"
   },
   {
    "duration": 2065,
    "start_time": "2023-04-28T12:02:17.627Z"
   },
   {
    "duration": 2220,
    "start_time": "2023-04-28T12:02:19.694Z"
   },
   {
    "duration": 3,
    "start_time": "2023-04-28T12:02:21.916Z"
   },
   {
    "duration": 12,
    "start_time": "2023-04-28T12:02:21.921Z"
   },
   {
    "duration": 57,
    "start_time": "2023-04-28T12:02:21.935Z"
   },
   {
    "duration": 25,
    "start_time": "2023-04-28T12:02:21.994Z"
   },
   {
    "duration": 3,
    "start_time": "2023-04-28T12:02:22.020Z"
   },
   {
    "duration": 28,
    "start_time": "2023-04-28T12:02:22.025Z"
   },
   {
    "duration": 14,
    "start_time": "2023-04-28T12:02:22.055Z"
   },
   {
    "duration": 14,
    "start_time": "2023-04-28T12:02:22.071Z"
   },
   {
    "duration": 739,
    "start_time": "2023-04-28T12:02:22.087Z"
   },
   {
    "duration": 10,
    "start_time": "2023-04-28T12:02:22.828Z"
   },
   {
    "duration": 5,
    "start_time": "2023-04-28T12:02:22.841Z"
   },
   {
    "duration": 8,
    "start_time": "2023-04-28T12:02:22.848Z"
   },
   {
    "duration": 5,
    "start_time": "2023-04-28T12:02:22.857Z"
   },
   {
    "duration": 270,
    "start_time": "2023-04-28T12:02:22.863Z"
   },
   {
    "duration": 4,
    "start_time": "2023-04-28T12:02:23.135Z"
   },
   {
    "duration": 15,
    "start_time": "2023-04-28T12:02:23.141Z"
   },
   {
    "duration": 9,
    "start_time": "2023-04-28T12:02:23.158Z"
   },
   {
    "duration": 11,
    "start_time": "2023-04-28T12:02:23.168Z"
   },
   {
    "duration": 2860,
    "start_time": "2023-04-28T12:02:23.182Z"
   },
   {
    "duration": 96,
    "start_time": "2023-04-28T12:02:26.045Z"
   },
   {
    "duration": 12,
    "start_time": "2023-04-28T12:02:26.143Z"
   },
   {
    "duration": 727,
    "start_time": "2023-04-28T12:02:26.156Z"
   },
   {
    "duration": 4,
    "start_time": "2023-04-28T12:02:26.885Z"
   },
   {
    "duration": 5,
    "start_time": "2023-04-28T12:02:26.934Z"
   },
   {
    "duration": 10,
    "start_time": "2023-04-28T12:02:26.941Z"
   },
   {
    "duration": 10,
    "start_time": "2023-04-28T12:02:26.952Z"
   },
   {
    "duration": 11,
    "start_time": "2023-04-28T12:02:26.964Z"
   },
   {
    "duration": 13,
    "start_time": "2023-04-28T12:02:26.976Z"
   },
   {
    "duration": 3,
    "start_time": "2023-04-28T12:02:27.035Z"
   },
   {
    "duration": 18,
    "start_time": "2023-04-28T12:02:27.039Z"
   },
   {
    "duration": 9,
    "start_time": "2023-04-28T12:02:27.059Z"
   },
   {
    "duration": 16,
    "start_time": "2023-04-28T12:02:27.069Z"
   },
   {
    "duration": 61,
    "start_time": "2023-04-28T12:02:27.087Z"
   },
   {
    "duration": 2,
    "start_time": "2023-04-28T12:02:27.149Z"
   },
   {
    "duration": 393,
    "start_time": "2023-04-28T12:02:27.153Z"
   },
   {
    "duration": 3,
    "start_time": "2023-04-28T12:02:27.547Z"
   },
   {
    "duration": 44050,
    "start_time": "2023-04-28T12:02:27.551Z"
   },
   {
    "duration": 0,
    "start_time": "2023-04-28T12:03:11.603Z"
   },
   {
    "duration": 0,
    "start_time": "2023-04-28T12:03:11.605Z"
   },
   {
    "duration": 0,
    "start_time": "2023-04-28T12:03:11.606Z"
   },
   {
    "duration": 0,
    "start_time": "2023-04-28T12:03:11.607Z"
   },
   {
    "duration": 0,
    "start_time": "2023-04-28T12:03:11.608Z"
   },
   {
    "duration": 0,
    "start_time": "2023-04-28T12:03:11.610Z"
   },
   {
    "duration": 0,
    "start_time": "2023-04-28T12:03:11.611Z"
   },
   {
    "duration": 0,
    "start_time": "2023-04-28T12:03:11.612Z"
   },
   {
    "duration": 0,
    "start_time": "2023-04-28T12:03:11.613Z"
   },
   {
    "duration": 0,
    "start_time": "2023-04-28T12:03:11.634Z"
   },
   {
    "duration": 0,
    "start_time": "2023-04-28T12:03:11.636Z"
   },
   {
    "duration": 2192,
    "start_time": "2023-04-28T12:03:42.907Z"
   },
   {
    "duration": 2111,
    "start_time": "2023-04-28T12:03:45.101Z"
   },
   {
    "duration": 1515,
    "start_time": "2023-04-28T12:03:47.214Z"
   },
   {
    "duration": 3,
    "start_time": "2023-04-28T12:03:48.731Z"
   },
   {
    "duration": 6,
    "start_time": "2023-04-28T12:03:48.735Z"
   },
   {
    "duration": 62,
    "start_time": "2023-04-28T12:03:48.743Z"
   },
   {
    "duration": 23,
    "start_time": "2023-04-28T12:03:48.807Z"
   },
   {
    "duration": 4,
    "start_time": "2023-04-28T12:03:48.832Z"
   },
   {
    "duration": 11,
    "start_time": "2023-04-28T12:03:48.838Z"
   },
   {
    "duration": 9,
    "start_time": "2023-04-28T12:03:48.852Z"
   },
   {
    "duration": 8,
    "start_time": "2023-04-28T12:03:48.863Z"
   },
   {
    "duration": 785,
    "start_time": "2023-04-28T12:03:48.873Z"
   },
   {
    "duration": 5,
    "start_time": "2023-04-28T12:03:49.660Z"
   },
   {
    "duration": 42,
    "start_time": "2023-04-28T12:03:49.667Z"
   },
   {
    "duration": 43,
    "start_time": "2023-04-28T12:03:49.735Z"
   },
   {
    "duration": 58,
    "start_time": "2023-04-28T12:03:49.780Z"
   },
   {
    "duration": 251,
    "start_time": "2023-04-28T12:03:49.841Z"
   },
   {
    "duration": 4,
    "start_time": "2023-04-28T12:03:50.094Z"
   },
   {
    "duration": 6,
    "start_time": "2023-04-28T12:03:50.100Z"
   },
   {
    "duration": 9,
    "start_time": "2023-04-28T12:03:50.108Z"
   },
   {
    "duration": 6,
    "start_time": "2023-04-28T12:03:50.135Z"
   },
   {
    "duration": 14208,
    "start_time": "2023-04-28T12:03:50.143Z"
   },
   {
    "duration": 108,
    "start_time": "2023-04-28T12:04:04.436Z"
   },
   {
    "duration": 19,
    "start_time": "2023-04-28T12:04:04.546Z"
   },
   {
    "duration": 717,
    "start_time": "2023-04-28T12:04:04.567Z"
   },
   {
    "duration": 8,
    "start_time": "2023-04-28T12:04:05.286Z"
   },
   {
    "duration": 30,
    "start_time": "2023-04-28T12:04:05.296Z"
   },
   {
    "duration": 45,
    "start_time": "2023-04-28T12:04:05.329Z"
   },
   {
    "duration": 28,
    "start_time": "2023-04-28T12:04:05.376Z"
   },
   {
    "duration": 11,
    "start_time": "2023-04-28T12:04:05.405Z"
   },
   {
    "duration": 10,
    "start_time": "2023-04-28T12:04:05.418Z"
   },
   {
    "duration": 30,
    "start_time": "2023-04-28T12:04:05.430Z"
   },
   {
    "duration": 23,
    "start_time": "2023-04-28T12:04:05.461Z"
   },
   {
    "duration": 17,
    "start_time": "2023-04-28T12:04:05.486Z"
   },
   {
    "duration": 14,
    "start_time": "2023-04-28T12:04:05.504Z"
   },
   {
    "duration": 816,
    "start_time": "2023-04-28T12:04:05.519Z"
   },
   {
    "duration": 3,
    "start_time": "2023-04-28T12:04:06.338Z"
   },
   {
    "duration": 327,
    "start_time": "2023-04-28T12:04:06.343Z"
   },
   {
    "duration": 2,
    "start_time": "2023-04-28T12:04:06.672Z"
   },
   {
    "duration": 278688,
    "start_time": "2023-04-28T12:04:06.676Z"
   },
   {
    "duration": 5,
    "start_time": "2023-04-28T12:08:45.367Z"
   },
   {
    "duration": 2464,
    "start_time": "2023-04-28T12:08:45.374Z"
   },
   {
    "duration": 3,
    "start_time": "2023-04-28T12:08:47.839Z"
   },
   {
    "duration": 171699,
    "start_time": "2023-04-28T12:08:47.844Z"
   },
   {
    "duration": 3,
    "start_time": "2023-04-28T12:11:39.545Z"
   },
   {
    "duration": 1805558,
    "start_time": "2023-04-28T12:11:39.550Z"
   },
   {
    "duration": 3,
    "start_time": "2023-04-28T12:42:43.400Z"
   },
   {
    "duration": 5,
    "start_time": "2023-04-28T12:42:44.050Z"
   },
   {
    "duration": 4,
    "start_time": "2023-04-28T12:42:45.036Z"
   },
   {
    "duration": 7,
    "start_time": "2023-04-28T12:42:45.694Z"
   },
   {
    "duration": 152,
    "start_time": "2023-04-28T12:42:49.813Z"
   },
   {
    "duration": 2,
    "start_time": "2023-04-28T12:43:22.477Z"
   },
   {
    "duration": 4607,
    "start_time": "2023-04-28T12:43:24.435Z"
   },
   {
    "duration": 4,
    "start_time": "2023-04-28T12:43:34.625Z"
   },
   {
    "duration": 3,
    "start_time": "2023-04-28T12:43:35.704Z"
   },
   {
    "duration": 4,
    "start_time": "2023-04-28T12:43:36.311Z"
   },
   {
    "duration": 3,
    "start_time": "2023-04-28T12:43:43.537Z"
   },
   {
    "duration": 5,
    "start_time": "2023-04-28T12:43:44.023Z"
   },
   {
    "duration": 5,
    "start_time": "2023-04-28T12:43:44.625Z"
   },
   {
    "duration": 4,
    "start_time": "2023-04-28T12:43:53.051Z"
   },
   {
    "duration": 7,
    "start_time": "2023-04-28T12:43:56.325Z"
   },
   {
    "duration": 7,
    "start_time": "2023-04-28T12:43:56.836Z"
   },
   {
    "duration": 5,
    "start_time": "2023-04-28T12:44:00.512Z"
   },
   {
    "duration": 4,
    "start_time": "2023-04-28T12:44:12.673Z"
   },
   {
    "duration": 6,
    "start_time": "2023-04-28T12:44:13.012Z"
   },
   {
    "duration": 5,
    "start_time": "2023-04-28T12:44:13.775Z"
   },
   {
    "duration": 4,
    "start_time": "2023-04-28T12:44:15.963Z"
   },
   {
    "duration": 5,
    "start_time": "2023-04-28T12:44:16.243Z"
   },
   {
    "duration": 4,
    "start_time": "2023-04-28T12:44:16.513Z"
   },
   {
    "duration": 18,
    "start_time": "2023-04-28T12:44:24.126Z"
   },
   {
    "duration": 11,
    "start_time": "2023-04-28T12:44:43.196Z"
   },
   {
    "duration": 9,
    "start_time": "2023-04-28T12:44:45.826Z"
   },
   {
    "duration": 7,
    "start_time": "2023-04-28T12:44:50.002Z"
   },
   {
    "duration": 4,
    "start_time": "2023-04-28T12:48:19.704Z"
   },
   {
    "duration": 4,
    "start_time": "2023-04-28T12:49:15.253Z"
   },
   {
    "duration": 157,
    "start_time": "2023-04-28T12:49:20.340Z"
   },
   {
    "duration": 2047,
    "start_time": "2023-04-28T12:49:33.836Z"
   },
   {
    "duration": 2054,
    "start_time": "2023-04-28T12:49:35.886Z"
   },
   {
    "duration": 1539,
    "start_time": "2023-04-28T12:49:37.942Z"
   },
   {
    "duration": 3,
    "start_time": "2023-04-28T12:49:39.483Z"
   },
   {
    "duration": 8,
    "start_time": "2023-04-28T12:49:39.489Z"
   },
   {
    "duration": 55,
    "start_time": "2023-04-28T12:49:39.499Z"
   },
   {
    "duration": 26,
    "start_time": "2023-04-28T12:49:39.556Z"
   },
   {
    "duration": 4,
    "start_time": "2023-04-28T12:49:39.583Z"
   },
   {
    "duration": 11,
    "start_time": "2023-04-28T12:49:39.589Z"
   },
   {
    "duration": 13,
    "start_time": "2023-04-28T12:49:39.602Z"
   },
   {
    "duration": 18,
    "start_time": "2023-04-28T12:49:39.617Z"
   },
   {
    "duration": 745,
    "start_time": "2023-04-28T12:49:39.636Z"
   },
   {
    "duration": 6,
    "start_time": "2023-04-28T12:49:40.383Z"
   },
   {
    "duration": 7,
    "start_time": "2023-04-28T12:49:40.392Z"
   },
   {
    "duration": 11,
    "start_time": "2023-04-28T12:49:40.400Z"
   },
   {
    "duration": 22,
    "start_time": "2023-04-28T12:49:40.412Z"
   },
   {
    "duration": 223,
    "start_time": "2023-04-28T12:49:40.436Z"
   },
   {
    "duration": 4,
    "start_time": "2023-04-28T12:49:40.660Z"
   },
   {
    "duration": 8,
    "start_time": "2023-04-28T12:49:40.666Z"
   },
   {
    "duration": 6,
    "start_time": "2023-04-28T12:49:40.676Z"
   },
   {
    "duration": 14,
    "start_time": "2023-04-28T12:49:40.684Z"
   },
   {
    "duration": 186,
    "start_time": "2023-04-28T12:49:40.700Z"
   },
   {
    "duration": 4,
    "start_time": "2023-04-28T12:50:59.382Z"
   },
   {
    "duration": 3,
    "start_time": "2023-04-28T12:50:59.697Z"
   },
   {
    "duration": 7,
    "start_time": "2023-04-28T12:50:59.981Z"
   },
   {
    "duration": 3,
    "start_time": "2023-04-28T12:51:00.256Z"
   },
   {
    "duration": 50,
    "start_time": "2023-04-28T12:51:00.819Z"
   },
   {
    "duration": 4,
    "start_time": "2023-04-28T12:51:05.120Z"
   },
   {
    "duration": 2,
    "start_time": "2023-04-28T12:51:05.431Z"
   },
   {
    "duration": 5,
    "start_time": "2023-04-28T12:51:05.707Z"
   },
   {
    "duration": 2,
    "start_time": "2023-04-28T12:51:05.981Z"
   },
   {
    "duration": 685261,
    "start_time": "2023-04-28T12:51:06.782Z"
   },
   {
    "duration": 212,
    "start_time": "2023-04-28T13:02:32.048Z"
   },
   {
    "duration": 22,
    "start_time": "2023-04-28T13:02:32.262Z"
   },
   {
    "duration": 2925,
    "start_time": "2023-04-28T13:02:32.286Z"
   },
   {
    "duration": 13,
    "start_time": "2023-04-28T13:02:57.402Z"
   },
   {
    "duration": 252,
    "start_time": "2023-04-28T13:03:05.814Z"
   },
   {
    "duration": 11,
    "start_time": "2023-04-28T13:04:31.531Z"
   },
   {
    "duration": 13,
    "start_time": "2023-04-28T13:04:44.731Z"
   },
   {
    "duration": 271,
    "start_time": "2023-04-28T13:04:52.344Z"
   },
   {
    "duration": 292,
    "start_time": "2023-04-28T13:05:00.608Z"
   },
   {
    "duration": 266,
    "start_time": "2023-04-28T13:05:24.132Z"
   },
   {
    "duration": 271,
    "start_time": "2023-04-28T13:05:27.345Z"
   },
   {
    "duration": 397,
    "start_time": "2023-04-28T13:05:33.833Z"
   },
   {
    "duration": 5,
    "start_time": "2023-04-28T13:06:01.877Z"
   },
   {
    "duration": 3,
    "start_time": "2023-04-28T13:06:02.418Z"
   },
   {
    "duration": 6,
    "start_time": "2023-04-28T13:06:03.084Z"
   },
   {
    "duration": 3,
    "start_time": "2023-04-28T13:06:03.634Z"
   },
   {
    "duration": 40,
    "start_time": "2023-04-28T13:06:04.760Z"
   },
   {
    "duration": 6,
    "start_time": "2023-04-28T13:06:22.473Z"
   },
   {
    "duration": 3,
    "start_time": "2023-04-28T13:06:22.784Z"
   },
   {
    "duration": 55,
    "start_time": "2023-04-28T13:06:23.574Z"
   },
   {
    "duration": 6,
    "start_time": "2023-04-28T13:06:50.640Z"
   },
   {
    "duration": 3,
    "start_time": "2023-04-28T13:06:50.926Z"
   },
   {
    "duration": 5,
    "start_time": "2023-04-28T13:06:51.214Z"
   },
   {
    "duration": 3,
    "start_time": "2023-04-28T13:06:51.526Z"
   },
   {
    "duration": 55,
    "start_time": "2023-04-28T13:06:52.211Z"
   },
   {
    "duration": 8,
    "start_time": "2023-04-28T13:06:59.830Z"
   },
   {
    "duration": 3,
    "start_time": "2023-04-28T13:07:00.089Z"
   },
   {
    "duration": 7,
    "start_time": "2023-04-28T13:07:00.326Z"
   },
   {
    "duration": 3,
    "start_time": "2023-04-28T13:07:00.622Z"
   },
   {
    "duration": 58,
    "start_time": "2023-04-28T13:07:01.324Z"
   },
   {
    "duration": 7,
    "start_time": "2023-04-28T13:09:11.745Z"
   },
   {
    "duration": 3,
    "start_time": "2023-04-28T13:09:12.123Z"
   },
   {
    "duration": 8,
    "start_time": "2023-04-28T13:09:12.444Z"
   },
   {
    "duration": 4,
    "start_time": "2023-04-28T13:09:12.794Z"
   },
   {
    "duration": 73,
    "start_time": "2023-04-28T13:09:13.733Z"
   },
   {
    "duration": 4,
    "start_time": "2023-04-28T13:11:01.351Z"
   },
   {
    "duration": 3,
    "start_time": "2023-04-28T13:11:01.727Z"
   },
   {
    "duration": 5,
    "start_time": "2023-04-28T13:11:02.054Z"
   },
   {
    "duration": 3,
    "start_time": "2023-04-28T13:11:02.349Z"
   },
   {
    "duration": 267,
    "start_time": "2023-04-28T13:13:51.493Z"
   },
   {
    "duration": 303,
    "start_time": "2023-04-28T13:14:02.085Z"
   },
   {
    "duration": 337,
    "start_time": "2023-04-28T13:14:34.511Z"
   },
   {
    "duration": 273,
    "start_time": "2023-04-28T13:14:38.877Z"
   },
   {
    "duration": 268,
    "start_time": "2023-04-28T13:15:08.035Z"
   },
   {
    "duration": 366,
    "start_time": "2023-04-28T13:15:24.103Z"
   },
   {
    "duration": 4,
    "start_time": "2023-04-28T13:18:26.315Z"
   },
   {
    "duration": 3,
    "start_time": "2023-04-28T13:18:26.717Z"
   },
   {
    "duration": 5,
    "start_time": "2023-04-28T13:18:26.974Z"
   },
   {
    "duration": 4,
    "start_time": "2023-04-28T13:18:28.135Z"
   },
   {
    "duration": 16321,
    "start_time": "2023-04-28T13:18:32.449Z"
   },
   {
    "duration": 25,
    "start_time": "2023-04-28T13:20:40.927Z"
   },
   {
    "duration": 25,
    "start_time": "2023-04-28T13:20:42.130Z"
   },
   {
    "duration": 251,
    "start_time": "2023-04-28T13:20:44.742Z"
   },
   {
    "duration": 46,
    "start_time": "2023-04-28T13:21:39.738Z"
   },
   {
    "duration": 23,
    "start_time": "2023-04-28T13:21:40.121Z"
   },
   {
    "duration": 263,
    "start_time": "2023-04-28T13:21:41.083Z"
   },
   {
    "duration": 27,
    "start_time": "2023-04-28T13:21:45.620Z"
   },
   {
    "duration": 24,
    "start_time": "2023-04-28T13:21:45.957Z"
   },
   {
    "duration": 259,
    "start_time": "2023-04-28T13:21:46.745Z"
   },
   {
    "duration": 11,
    "start_time": "2023-04-28T13:22:59.717Z"
   },
   {
    "duration": 10,
    "start_time": "2023-04-28T13:23:00.051Z"
   },
   {
    "duration": 263,
    "start_time": "2023-04-28T13:23:00.698Z"
   },
   {
    "duration": 14,
    "start_time": "2023-04-28T13:23:38.749Z"
   },
   {
    "duration": 4,
    "start_time": "2023-04-28T13:24:10.910Z"
   },
   {
    "duration": 9,
    "start_time": "2023-04-28T13:24:19.114Z"
   },
   {
    "duration": 11,
    "start_time": "2023-04-28T13:24:24.382Z"
   },
   {
    "duration": 11,
    "start_time": "2023-04-28T13:24:25.015Z"
   },
   {
    "duration": 35,
    "start_time": "2023-04-28T13:24:37.053Z"
   },
   {
    "duration": 23,
    "start_time": "2023-04-28T13:24:38.240Z"
   },
   {
    "duration": 377,
    "start_time": "2023-04-28T13:25:26.626Z"
   },
   {
    "duration": 5,
    "start_time": "2023-04-28T13:25:45.126Z"
   },
   {
    "duration": 37,
    "start_time": "2023-04-28T13:25:45.639Z"
   },
   {
    "duration": 26,
    "start_time": "2023-04-28T13:25:45.930Z"
   },
   {
    "duration": 292,
    "start_time": "2023-04-28T13:25:46.542Z"
   },
   {
    "duration": 4,
    "start_time": "2023-04-28T13:26:05.164Z"
   },
   {
    "duration": 32,
    "start_time": "2023-04-28T13:26:05.623Z"
   },
   {
    "duration": 23,
    "start_time": "2023-04-28T13:26:05.922Z"
   },
   {
    "duration": 283,
    "start_time": "2023-04-28T13:26:06.481Z"
   },
   {
    "duration": 303,
    "start_time": "2023-04-28T13:26:56.383Z"
   },
   {
    "duration": 269,
    "start_time": "2023-04-28T13:27:01.274Z"
   },
   {
    "duration": 29,
    "start_time": "2023-04-28T13:27:12.962Z"
   },
   {
    "duration": 25,
    "start_time": "2023-04-28T13:27:13.311Z"
   },
   {
    "duration": 307,
    "start_time": "2023-04-28T13:27:14.030Z"
   },
   {
    "duration": 42,
    "start_time": "2023-04-28T13:27:25.725Z"
   },
   {
    "duration": 23,
    "start_time": "2023-04-28T13:27:26.019Z"
   },
   {
    "duration": 391,
    "start_time": "2023-04-28T13:27:26.684Z"
   },
   {
    "duration": 37,
    "start_time": "2023-04-28T13:28:53.451Z"
   },
   {
    "duration": 30,
    "start_time": "2023-04-28T13:28:53.739Z"
   },
   {
    "duration": 287,
    "start_time": "2023-04-28T13:28:55.226Z"
   },
   {
    "duration": 2402,
    "start_time": "2023-04-28T13:29:12.043Z"
   },
   {
    "duration": 2244,
    "start_time": "2023-04-28T13:29:14.448Z"
   },
   {
    "duration": 2064,
    "start_time": "2023-04-28T13:29:16.694Z"
   },
   {
    "duration": 3,
    "start_time": "2023-04-28T13:29:18.762Z"
   },
   {
    "duration": 8,
    "start_time": "2023-04-28T13:29:18.769Z"
   },
   {
    "duration": 59,
    "start_time": "2023-04-28T13:29:18.779Z"
   },
   {
    "duration": 23,
    "start_time": "2023-04-28T13:29:18.840Z"
   },
   {
    "duration": 3,
    "start_time": "2023-04-28T13:29:18.865Z"
   },
   {
    "duration": 9,
    "start_time": "2023-04-28T13:29:18.869Z"
   },
   {
    "duration": 6,
    "start_time": "2023-04-28T13:29:18.879Z"
   },
   {
    "duration": 6,
    "start_time": "2023-04-28T13:29:18.886Z"
   },
   {
    "duration": 748,
    "start_time": "2023-04-28T13:29:18.893Z"
   },
   {
    "duration": 7,
    "start_time": "2023-04-28T13:29:19.643Z"
   },
   {
    "duration": 6,
    "start_time": "2023-04-28T13:29:19.653Z"
   },
   {
    "duration": 8,
    "start_time": "2023-04-28T13:29:19.661Z"
   },
   {
    "duration": 6,
    "start_time": "2023-04-28T13:29:19.671Z"
   },
   {
    "duration": 251,
    "start_time": "2023-04-28T13:29:19.679Z"
   },
   {
    "duration": 4,
    "start_time": "2023-04-28T13:29:19.934Z"
   },
   {
    "duration": 42,
    "start_time": "2023-04-28T13:29:19.940Z"
   },
   {
    "duration": 23,
    "start_time": "2023-04-28T13:29:19.983Z"
   },
   {
    "duration": 315,
    "start_time": "2023-04-28T13:29:20.008Z"
   },
   {
    "duration": 5,
    "start_time": "2023-04-28T13:29:20.325Z"
   },
   {
    "duration": 19,
    "start_time": "2023-04-28T13:29:20.331Z"
   },
   {
    "duration": 16,
    "start_time": "2023-04-28T13:29:20.351Z"
   },
   {
    "duration": 14,
    "start_time": "2023-04-28T13:29:20.369Z"
   },
   {
    "duration": 9,
    "start_time": "2023-04-28T13:29:20.384Z"
   },
   {
    "duration": 12,
    "start_time": "2023-04-28T13:29:20.394Z"
   },
   {
    "duration": 7,
    "start_time": "2023-04-28T13:29:20.408Z"
   },
   {
    "duration": 19,
    "start_time": "2023-04-28T13:29:20.417Z"
   },
   {
    "duration": 8,
    "start_time": "2023-04-28T13:29:20.438Z"
   },
   {
    "duration": 12,
    "start_time": "2023-04-28T13:29:20.448Z"
   },
   {
    "duration": 384,
    "start_time": "2023-04-28T13:29:20.461Z"
   },
   {
    "duration": 4,
    "start_time": "2023-04-28T13:29:20.935Z"
   },
   {
    "duration": 611,
    "start_time": "2023-04-28T13:29:20.941Z"
   },
   {
    "duration": 3,
    "start_time": "2023-04-28T13:29:21.554Z"
   },
   {
    "duration": 644427,
    "start_time": "2023-04-28T13:29:21.558Z"
   },
   {
    "duration": 3,
    "start_time": "2023-04-28T13:40:05.986Z"
   },
   {
    "duration": 5484,
    "start_time": "2023-04-28T13:40:05.991Z"
   },
   {
    "duration": 3,
    "start_time": "2023-04-28T13:40:11.476Z"
   },
   {
    "duration": 756069,
    "start_time": "2023-04-28T13:40:11.481Z"
   },
   {
    "duration": 3,
    "start_time": "2023-04-28T13:52:47.554Z"
   },
   {
    "duration": 2267063,
    "start_time": "2023-04-28T13:52:47.558Z"
   },
   {
    "duration": 0,
    "start_time": "2023-04-28T14:30:34.623Z"
   },
   {
    "duration": 0,
    "start_time": "2023-04-28T14:30:34.624Z"
   },
   {
    "duration": 0,
    "start_time": "2023-04-28T14:30:34.625Z"
   },
   {
    "duration": 0,
    "start_time": "2023-04-28T14:30:34.627Z"
   },
   {
    "duration": 0,
    "start_time": "2023-04-28T14:30:34.634Z"
   },
   {
    "duration": 3,
    "start_time": "2023-04-28T14:32:57.756Z"
   },
   {
    "duration": 4,
    "start_time": "2023-04-28T14:32:58.093Z"
   },
   {
    "duration": 3,
    "start_time": "2023-04-28T14:32:58.952Z"
   },
   {
    "duration": 7,
    "start_time": "2023-04-28T14:32:59.313Z"
   },
   {
    "duration": 3,
    "start_time": "2023-04-28T14:33:06.776Z"
   },
   {
    "duration": 3,
    "start_time": "2023-04-28T14:33:08.149Z"
   },
   {
    "duration": 15098,
    "start_time": "2023-04-28T14:33:08.651Z"
   },
   {
    "duration": 42,
    "start_time": "2023-04-28T14:33:23.751Z"
   },
   {
    "duration": 3,
    "start_time": "2023-04-28T14:33:23.795Z"
   },
   {
    "duration": 16,
    "start_time": "2023-04-28T14:33:23.799Z"
   },
   {
    "duration": 4,
    "start_time": "2023-04-28T14:33:35.103Z"
   },
   {
    "duration": 6,
    "start_time": "2023-04-28T14:33:35.427Z"
   },
   {
    "duration": 4,
    "start_time": "2023-04-28T14:33:35.715Z"
   },
   {
    "duration": 11,
    "start_time": "2023-04-28T14:33:36.440Z"
   },
   {
    "duration": 7,
    "start_time": "2023-04-28T14:33:36.702Z"
   },
   {
    "duration": 4,
    "start_time": "2023-04-28T14:33:36.990Z"
   },
   {
    "duration": 2208,
    "start_time": "2023-04-28T14:33:46.055Z"
   },
   {
    "duration": 2093,
    "start_time": "2023-04-28T14:33:48.265Z"
   },
   {
    "duration": 1313,
    "start_time": "2023-04-28T14:33:50.360Z"
   },
   {
    "duration": 3,
    "start_time": "2023-04-28T14:33:51.675Z"
   },
   {
    "duration": 13,
    "start_time": "2023-04-28T14:33:51.680Z"
   },
   {
    "duration": 56,
    "start_time": "2023-04-28T14:33:51.695Z"
   },
   {
    "duration": 22,
    "start_time": "2023-04-28T14:33:51.753Z"
   },
   {
    "duration": 3,
    "start_time": "2023-04-28T14:33:51.776Z"
   },
   {
    "duration": 17,
    "start_time": "2023-04-28T14:33:51.780Z"
   },
   {
    "duration": 28,
    "start_time": "2023-04-28T14:33:51.798Z"
   },
   {
    "duration": 16,
    "start_time": "2023-04-28T14:33:51.828Z"
   },
   {
    "duration": 691,
    "start_time": "2023-04-28T14:33:51.845Z"
   },
   {
    "duration": 5,
    "start_time": "2023-04-28T14:33:52.538Z"
   },
   {
    "duration": 6,
    "start_time": "2023-04-28T14:33:52.545Z"
   },
   {
    "duration": 9,
    "start_time": "2023-04-28T14:33:52.552Z"
   },
   {
    "duration": 3,
    "start_time": "2023-04-28T14:33:52.562Z"
   },
   {
    "duration": 237,
    "start_time": "2023-04-28T14:33:52.566Z"
   },
   {
    "duration": 4,
    "start_time": "2023-04-28T14:33:52.805Z"
   },
   {
    "duration": 43,
    "start_time": "2023-04-28T14:33:52.811Z"
   },
   {
    "duration": 22,
    "start_time": "2023-04-28T14:33:52.856Z"
   },
   {
    "duration": 311,
    "start_time": "2023-04-28T14:33:52.880Z"
   },
   {
    "duration": 4,
    "start_time": "2023-04-28T14:33:53.193Z"
   },
   {
    "duration": 8,
    "start_time": "2023-04-28T14:33:53.198Z"
   },
   {
    "duration": 19,
    "start_time": "2023-04-28T14:33:53.208Z"
   },
   {
    "duration": 20,
    "start_time": "2023-04-28T14:33:53.228Z"
   },
   {
    "duration": 20,
    "start_time": "2023-04-28T14:33:53.250Z"
   },
   {
    "duration": 6,
    "start_time": "2023-04-28T14:33:53.271Z"
   },
   {
    "duration": 8,
    "start_time": "2023-04-28T14:33:53.278Z"
   },
   {
    "duration": 13,
    "start_time": "2023-04-28T14:33:53.287Z"
   },
   {
    "duration": 18,
    "start_time": "2023-04-28T14:33:53.301Z"
   },
   {
    "duration": 14,
    "start_time": "2023-04-28T14:33:53.320Z"
   },
   {
    "duration": 708,
    "start_time": "2023-04-28T14:33:53.335Z"
   },
   {
    "duration": 4,
    "start_time": "2023-04-28T14:33:54.045Z"
   },
   {
    "duration": 592,
    "start_time": "2023-04-28T14:33:54.135Z"
   },
   {
    "duration": 3,
    "start_time": "2023-04-28T14:33:54.735Z"
   },
   {
    "duration": 642529,
    "start_time": "2023-04-28T14:33:54.740Z"
   },
   {
    "duration": 3,
    "start_time": "2023-04-28T14:44:37.272Z"
   },
   {
    "duration": 5991,
    "start_time": "2023-04-28T14:44:37.276Z"
   },
   {
    "duration": 3,
    "start_time": "2023-04-28T14:44:43.269Z"
   },
   {
    "duration": 303671,
    "start_time": "2023-04-28T14:44:43.274Z"
   },
   {
    "duration": 3,
    "start_time": "2023-04-28T14:49:46.950Z"
   },
   {
    "duration": 2334810,
    "start_time": "2023-04-28T14:49:46.955Z"
   },
   {
    "duration": 0,
    "start_time": "2023-04-28T15:28:41.767Z"
   },
   {
    "duration": 0,
    "start_time": "2023-04-28T15:28:41.768Z"
   },
   {
    "duration": 0,
    "start_time": "2023-04-28T15:28:41.769Z"
   },
   {
    "duration": 0,
    "start_time": "2023-04-28T15:28:41.770Z"
   },
   {
    "duration": 0,
    "start_time": "2023-04-28T15:28:41.771Z"
   },
   {
    "duration": 0,
    "start_time": "2023-04-28T15:28:41.772Z"
   },
   {
    "duration": 0,
    "start_time": "2023-04-28T15:28:41.773Z"
   },
   {
    "duration": 0,
    "start_time": "2023-04-28T15:28:41.774Z"
   },
   {
    "duration": 0,
    "start_time": "2023-04-28T15:28:41.775Z"
   },
   {
    "duration": 0,
    "start_time": "2023-04-28T15:28:41.776Z"
   },
   {
    "duration": 0,
    "start_time": "2023-04-28T15:28:41.778Z"
   },
   {
    "duration": 0,
    "start_time": "2023-04-28T15:28:41.778Z"
   },
   {
    "duration": 0,
    "start_time": "2023-04-28T15:28:41.780Z"
   },
   {
    "duration": 0,
    "start_time": "2023-04-28T15:28:41.781Z"
   },
   {
    "duration": 0,
    "start_time": "2023-04-28T15:28:41.782Z"
   },
   {
    "duration": 0,
    "start_time": "2023-04-28T15:28:41.783Z"
   },
   {
    "duration": 0,
    "start_time": "2023-04-28T15:28:41.784Z"
   },
   {
    "duration": 2040,
    "start_time": "2023-04-28T15:29:27.315Z"
   },
   {
    "duration": 2125,
    "start_time": "2023-04-28T15:29:29.357Z"
   },
   {
    "duration": 1302,
    "start_time": "2023-04-28T15:29:31.484Z"
   },
   {
    "duration": 3,
    "start_time": "2023-04-28T15:29:32.788Z"
   },
   {
    "duration": 9,
    "start_time": "2023-04-28T15:29:32.793Z"
   },
   {
    "duration": 65,
    "start_time": "2023-04-28T15:29:32.804Z"
   },
   {
    "duration": 24,
    "start_time": "2023-04-28T15:29:32.872Z"
   },
   {
    "duration": 3,
    "start_time": "2023-04-28T15:29:32.897Z"
   },
   {
    "duration": 23,
    "start_time": "2023-04-28T15:29:32.901Z"
   },
   {
    "duration": 4,
    "start_time": "2023-04-28T15:29:32.927Z"
   },
   {
    "duration": 20,
    "start_time": "2023-04-28T15:29:32.932Z"
   },
   {
    "duration": 712,
    "start_time": "2023-04-28T15:29:32.953Z"
   },
   {
    "duration": 5,
    "start_time": "2023-04-28T15:29:33.667Z"
   },
   {
    "duration": 8,
    "start_time": "2023-04-28T15:29:33.673Z"
   },
   {
    "duration": 8,
    "start_time": "2023-04-28T15:29:33.683Z"
   },
   {
    "duration": 6,
    "start_time": "2023-04-28T15:29:33.693Z"
   },
   {
    "duration": 249,
    "start_time": "2023-04-28T15:29:33.701Z"
   },
   {
    "duration": 4,
    "start_time": "2023-04-28T15:29:33.952Z"
   },
   {
    "duration": 70,
    "start_time": "2023-04-28T15:29:33.958Z"
   },
   {
    "duration": 25,
    "start_time": "2023-04-28T15:29:34.030Z"
   },
   {
    "duration": 342,
    "start_time": "2023-04-28T15:29:34.057Z"
   },
   {
    "duration": 4,
    "start_time": "2023-04-28T15:29:34.401Z"
   },
   {
    "duration": 13,
    "start_time": "2023-04-28T15:29:34.406Z"
   },
   {
    "duration": 9,
    "start_time": "2023-04-28T15:29:34.420Z"
   },
   {
    "duration": 20,
    "start_time": "2023-04-28T15:29:34.430Z"
   },
   {
    "duration": 14,
    "start_time": "2023-04-28T15:29:34.451Z"
   },
   {
    "duration": 11,
    "start_time": "2023-04-28T15:29:34.467Z"
   },
   {
    "duration": 8,
    "start_time": "2023-04-28T15:29:34.482Z"
   },
   {
    "duration": 8,
    "start_time": "2023-04-28T15:29:34.491Z"
   },
   {
    "duration": 11,
    "start_time": "2023-04-28T15:29:34.501Z"
   },
   {
    "duration": 8,
    "start_time": "2023-04-28T15:29:34.513Z"
   },
   {
    "duration": 834,
    "start_time": "2023-04-28T15:29:34.522Z"
   },
   {
    "duration": 3,
    "start_time": "2023-04-28T15:29:35.435Z"
   },
   {
    "duration": 2691,
    "start_time": "2023-04-28T15:29:35.440Z"
   },
   {
    "duration": 3,
    "start_time": "2023-04-28T15:29:38.147Z"
   },
   {
    "duration": 2292,
    "start_time": "2023-04-28T15:49:13.507Z"
   },
   {
    "duration": 2059,
    "start_time": "2023-04-28T15:49:15.802Z"
   },
   {
    "duration": 1318,
    "start_time": "2023-04-28T15:49:17.863Z"
   },
   {
    "duration": 2,
    "start_time": "2023-04-28T15:49:19.183Z"
   },
   {
    "duration": 6,
    "start_time": "2023-04-28T15:49:19.187Z"
   },
   {
    "duration": 56,
    "start_time": "2023-04-28T15:49:19.195Z"
   },
   {
    "duration": 26,
    "start_time": "2023-04-28T15:49:19.253Z"
   },
   {
    "duration": 3,
    "start_time": "2023-04-28T15:49:19.281Z"
   },
   {
    "duration": 19,
    "start_time": "2023-04-28T15:49:19.286Z"
   },
   {
    "duration": 20,
    "start_time": "2023-04-28T15:49:19.307Z"
   },
   {
    "duration": 32,
    "start_time": "2023-04-28T15:49:19.328Z"
   },
   {
    "duration": 721,
    "start_time": "2023-04-28T15:49:19.362Z"
   },
   {
    "duration": 6,
    "start_time": "2023-04-28T15:49:20.084Z"
   },
   {
    "duration": 17,
    "start_time": "2023-04-28T15:49:20.092Z"
   },
   {
    "duration": 17,
    "start_time": "2023-04-28T15:49:20.110Z"
   },
   {
    "duration": 8,
    "start_time": "2023-04-28T15:49:20.128Z"
   },
   {
    "duration": 504,
    "start_time": "2023-04-28T15:49:20.138Z"
   },
   {
    "duration": 5,
    "start_time": "2023-04-28T15:49:20.643Z"
   },
   {
    "duration": 84,
    "start_time": "2023-04-28T15:49:20.651Z"
   },
   {
    "duration": 23,
    "start_time": "2023-04-28T15:49:20.747Z"
   },
   {
    "duration": 692,
    "start_time": "2023-04-28T15:49:20.771Z"
   },
   {
    "duration": 5,
    "start_time": "2023-04-28T15:49:21.465Z"
   },
   {
    "duration": 18,
    "start_time": "2023-04-28T15:49:21.471Z"
   },
   {
    "duration": 8,
    "start_time": "2023-04-28T15:49:21.490Z"
   },
   {
    "duration": 41,
    "start_time": "2023-04-28T15:49:21.499Z"
   },
   {
    "duration": 22,
    "start_time": "2023-04-28T15:49:21.543Z"
   },
   {
    "duration": 24,
    "start_time": "2023-04-28T15:49:21.567Z"
   },
   {
    "duration": 42,
    "start_time": "2023-04-28T15:49:21.592Z"
   },
   {
    "duration": 17,
    "start_time": "2023-04-28T15:49:21.637Z"
   },
   {
    "duration": 10,
    "start_time": "2023-04-28T15:49:21.656Z"
   },
   {
    "duration": 9,
    "start_time": "2023-04-28T15:49:21.667Z"
   },
   {
    "duration": 1159,
    "start_time": "2023-04-28T15:49:21.677Z"
   },
   {
    "duration": 7,
    "start_time": "2023-04-28T15:49:22.839Z"
   },
   {
    "duration": 2759,
    "start_time": "2023-04-28T15:49:22.851Z"
   },
   {
    "duration": 3,
    "start_time": "2023-04-28T15:49:25.611Z"
   },
   {
    "duration": 25496,
    "start_time": "2023-04-28T15:49:25.615Z"
   },
   {
    "duration": 0,
    "start_time": "2023-04-28T15:49:51.114Z"
   },
   {
    "duration": 0,
    "start_time": "2023-04-28T15:49:51.116Z"
   },
   {
    "duration": 0,
    "start_time": "2023-04-28T15:49:51.133Z"
   },
   {
    "duration": 0,
    "start_time": "2023-04-28T15:49:51.136Z"
   },
   {
    "duration": 0,
    "start_time": "2023-04-28T15:49:51.137Z"
   },
   {
    "duration": 0,
    "start_time": "2023-04-28T15:49:51.137Z"
   },
   {
    "duration": 0,
    "start_time": "2023-04-28T15:49:51.142Z"
   },
   {
    "duration": 0,
    "start_time": "2023-04-28T15:49:51.143Z"
   },
   {
    "duration": 0,
    "start_time": "2023-04-28T15:49:51.144Z"
   },
   {
    "duration": 0,
    "start_time": "2023-04-28T15:49:51.149Z"
   },
   {
    "duration": 0,
    "start_time": "2023-04-28T15:49:51.150Z"
   },
   {
    "duration": 0,
    "start_time": "2023-04-28T15:49:51.151Z"
   },
   {
    "duration": 0,
    "start_time": "2023-04-28T15:49:51.152Z"
   },
   {
    "duration": 0,
    "start_time": "2023-04-28T15:49:51.153Z"
   },
   {
    "duration": 1,
    "start_time": "2023-04-28T15:49:51.153Z"
   },
   {
    "duration": 0,
    "start_time": "2023-04-28T15:49:51.156Z"
   },
   {
    "duration": 0,
    "start_time": "2023-04-28T15:49:51.157Z"
   },
   {
    "duration": 0,
    "start_time": "2023-04-28T15:49:51.158Z"
   },
   {
    "duration": 0,
    "start_time": "2023-04-28T15:49:51.159Z"
   },
   {
    "duration": 0,
    "start_time": "2023-04-28T15:49:51.160Z"
   },
   {
    "duration": 0,
    "start_time": "2023-04-28T15:49:51.161Z"
   },
   {
    "duration": 0,
    "start_time": "2023-04-28T15:49:51.162Z"
   },
   {
    "duration": 0,
    "start_time": "2023-04-28T15:49:51.163Z"
   },
   {
    "duration": 3,
    "start_time": "2023-04-28T15:49:56.056Z"
   },
   {
    "duration": 5067,
    "start_time": "2023-04-28T15:49:56.635Z"
   },
   {
    "duration": 3,
    "start_time": "2023-04-28T15:50:05.957Z"
   },
   {
    "duration": 869,
    "start_time": "2023-04-28T15:50:06.504Z"
   },
   {
    "duration": 2116,
    "start_time": "2023-04-28T15:50:29.105Z"
   },
   {
    "duration": 2040,
    "start_time": "2023-04-28T15:50:31.224Z"
   },
   {
    "duration": 1300,
    "start_time": "2023-04-28T15:50:33.266Z"
   },
   {
    "duration": 2,
    "start_time": "2023-04-28T15:50:34.568Z"
   },
   {
    "duration": 18,
    "start_time": "2023-04-28T15:50:34.572Z"
   },
   {
    "duration": 70,
    "start_time": "2023-04-28T15:50:34.592Z"
   },
   {
    "duration": 23,
    "start_time": "2023-04-28T15:50:34.663Z"
   },
   {
    "duration": 9,
    "start_time": "2023-04-28T15:50:34.687Z"
   },
   {
    "duration": 17,
    "start_time": "2023-04-28T15:50:34.698Z"
   },
   {
    "duration": 29,
    "start_time": "2023-04-28T15:50:34.717Z"
   },
   {
    "duration": 15,
    "start_time": "2023-04-28T15:50:34.748Z"
   },
   {
    "duration": 831,
    "start_time": "2023-04-28T15:50:34.764Z"
   },
   {
    "duration": 6,
    "start_time": "2023-04-28T15:50:35.596Z"
   },
   {
    "duration": 27,
    "start_time": "2023-04-28T15:50:35.605Z"
   },
   {
    "duration": 55,
    "start_time": "2023-04-28T15:50:35.634Z"
   },
   {
    "duration": 39,
    "start_time": "2023-04-28T15:50:35.691Z"
   },
   {
    "duration": 258,
    "start_time": "2023-04-28T15:50:35.731Z"
   },
   {
    "duration": 5,
    "start_time": "2023-04-28T15:50:35.991Z"
   },
   {
    "duration": 53,
    "start_time": "2023-04-28T15:50:35.998Z"
   },
   {
    "duration": 22,
    "start_time": "2023-04-28T15:50:36.053Z"
   },
   {
    "duration": 330,
    "start_time": "2023-04-28T15:50:36.077Z"
   },
   {
    "duration": 5,
    "start_time": "2023-04-28T15:50:36.409Z"
   },
   {
    "duration": 16,
    "start_time": "2023-04-28T15:50:36.415Z"
   },
   {
    "duration": 27,
    "start_time": "2023-04-28T15:50:36.433Z"
   },
   {
    "duration": 30,
    "start_time": "2023-04-28T15:50:36.462Z"
   },
   {
    "duration": 14,
    "start_time": "2023-04-28T15:50:36.494Z"
   },
   {
    "duration": 29,
    "start_time": "2023-04-28T15:50:36.510Z"
   },
   {
    "duration": 9,
    "start_time": "2023-04-28T15:50:36.541Z"
   },
   {
    "duration": 14,
    "start_time": "2023-04-28T15:50:36.551Z"
   },
   {
    "duration": 12,
    "start_time": "2023-04-28T15:50:36.566Z"
   },
   {
    "duration": 17,
    "start_time": "2023-04-28T15:50:36.579Z"
   },
   {
    "duration": 1345,
    "start_time": "2023-04-28T15:50:36.597Z"
   },
   {
    "duration": 3,
    "start_time": "2023-04-28T15:50:37.944Z"
   },
   {
    "duration": 660,
    "start_time": "2023-04-28T15:50:37.949Z"
   },
   {
    "duration": 2,
    "start_time": "2023-04-28T15:50:38.611Z"
   },
   {
    "duration": 665514,
    "start_time": "2023-04-28T15:50:38.615Z"
   },
   {
    "duration": 11,
    "start_time": "2023-04-28T16:01:44.131Z"
   },
   {
    "duration": 5424,
    "start_time": "2023-04-28T16:01:44.147Z"
   },
   {
    "duration": 3,
    "start_time": "2023-04-28T16:01:49.572Z"
   },
   {
    "duration": 1006969,
    "start_time": "2023-04-28T16:01:49.576Z"
   },
   {
    "duration": 2,
    "start_time": "2023-04-28T16:18:36.549Z"
   },
   {
    "duration": 2538,
    "start_time": "2023-04-28T16:52:03.533Z"
   },
   {
    "duration": 2690,
    "start_time": "2023-04-28T16:52:06.073Z"
   },
   {
    "duration": 1458,
    "start_time": "2023-04-28T16:52:08.765Z"
   },
   {
    "duration": 3,
    "start_time": "2023-04-28T16:52:10.225Z"
   },
   {
    "duration": 77,
    "start_time": "2023-04-28T16:52:10.229Z"
   },
   {
    "duration": 102,
    "start_time": "2023-04-28T16:52:10.310Z"
   },
   {
    "duration": 35,
    "start_time": "2023-04-28T16:52:10.414Z"
   },
   {
    "duration": 3,
    "start_time": "2023-04-28T16:52:10.451Z"
   },
   {
    "duration": 22,
    "start_time": "2023-04-28T16:52:10.456Z"
   },
   {
    "duration": 21,
    "start_time": "2023-04-28T16:52:10.479Z"
   },
   {
    "duration": 25,
    "start_time": "2023-04-28T16:52:10.502Z"
   },
   {
    "duration": 911,
    "start_time": "2023-04-28T16:52:10.530Z"
   },
   {
    "duration": 10,
    "start_time": "2023-04-28T16:52:11.443Z"
   },
   {
    "duration": 24,
    "start_time": "2023-04-28T16:52:11.456Z"
   },
   {
    "duration": 25,
    "start_time": "2023-04-28T16:52:11.482Z"
   },
   {
    "duration": 4,
    "start_time": "2023-04-28T16:52:11.508Z"
   },
   {
    "duration": 283,
    "start_time": "2023-04-28T16:52:11.513Z"
   },
   {
    "duration": 5,
    "start_time": "2023-04-28T16:52:11.798Z"
   },
   {
    "duration": 53,
    "start_time": "2023-04-28T16:52:11.805Z"
   },
   {
    "duration": 25,
    "start_time": "2023-04-28T16:52:11.859Z"
   },
   {
    "duration": 374,
    "start_time": "2023-04-28T16:52:11.885Z"
   },
   {
    "duration": 5,
    "start_time": "2023-04-28T16:52:12.262Z"
   },
   {
    "duration": 23,
    "start_time": "2023-04-28T16:52:12.269Z"
   },
   {
    "duration": 7,
    "start_time": "2023-04-28T16:52:12.294Z"
   },
   {
    "duration": 11,
    "start_time": "2023-04-28T16:52:12.302Z"
   },
   {
    "duration": 10,
    "start_time": "2023-04-28T16:52:12.315Z"
   },
   {
    "duration": 41,
    "start_time": "2023-04-28T16:52:12.327Z"
   },
   {
    "duration": 23,
    "start_time": "2023-04-28T16:52:12.370Z"
   },
   {
    "duration": 8,
    "start_time": "2023-04-28T16:52:12.394Z"
   },
   {
    "duration": 7,
    "start_time": "2023-04-28T16:52:12.404Z"
   },
   {
    "duration": 2,
    "start_time": "2023-04-28T16:53:16.220Z"
   },
   {
    "duration": 141,
    "start_time": "2023-04-28T16:53:16.661Z"
   },
   {
    "duration": 4,
    "start_time": "2023-04-28T16:55:54.154Z"
   },
   {
    "duration": 2846,
    "start_time": "2023-04-28T16:55:54.866Z"
   },
   {
    "duration": 3,
    "start_time": "2023-04-28T16:56:00.357Z"
   },
   {
    "duration": 2153,
    "start_time": "2023-04-28T16:56:19.290Z"
   },
   {
    "duration": 2334,
    "start_time": "2023-04-28T16:56:21.446Z"
   },
   {
    "duration": 1318,
    "start_time": "2023-04-28T16:56:23.782Z"
   },
   {
    "duration": 2,
    "start_time": "2023-04-28T16:56:25.102Z"
   },
   {
    "duration": 7,
    "start_time": "2023-04-28T16:56:25.107Z"
   },
   {
    "duration": 69,
    "start_time": "2023-04-28T16:56:25.115Z"
   },
   {
    "duration": 24,
    "start_time": "2023-04-28T16:56:25.185Z"
   },
   {
    "duration": 3,
    "start_time": "2023-04-28T16:56:25.211Z"
   },
   {
    "duration": 15,
    "start_time": "2023-04-28T16:56:25.215Z"
   },
   {
    "duration": 32,
    "start_time": "2023-04-28T16:56:25.231Z"
   },
   {
    "duration": 9,
    "start_time": "2023-04-28T16:56:25.265Z"
   },
   {
    "duration": 748,
    "start_time": "2023-04-28T16:56:25.276Z"
   },
   {
    "duration": 28,
    "start_time": "2023-04-28T16:56:26.026Z"
   },
   {
    "duration": 11,
    "start_time": "2023-04-28T16:56:26.063Z"
   },
   {
    "duration": 11,
    "start_time": "2023-04-28T16:56:26.075Z"
   },
   {
    "duration": 4,
    "start_time": "2023-04-28T16:56:26.087Z"
   },
   {
    "duration": 235,
    "start_time": "2023-04-28T16:56:26.093Z"
   },
   {
    "duration": 5,
    "start_time": "2023-04-28T16:56:26.334Z"
   },
   {
    "duration": 56,
    "start_time": "2023-04-28T16:56:26.340Z"
   },
   {
    "duration": 21,
    "start_time": "2023-04-28T16:56:26.397Z"
   },
   {
    "duration": 339,
    "start_time": "2023-04-28T16:56:26.420Z"
   },
   {
    "duration": 4,
    "start_time": "2023-04-28T16:56:26.760Z"
   },
   {
    "duration": 8,
    "start_time": "2023-04-28T16:56:26.766Z"
   },
   {
    "duration": 5,
    "start_time": "2023-04-28T16:56:26.775Z"
   },
   {
    "duration": 12,
    "start_time": "2023-04-28T16:56:26.781Z"
   },
   {
    "duration": 6,
    "start_time": "2023-04-28T16:56:26.795Z"
   },
   {
    "duration": 5,
    "start_time": "2023-04-28T16:56:26.803Z"
   },
   {
    "duration": 5,
    "start_time": "2023-04-28T16:56:26.809Z"
   },
   {
    "duration": 12,
    "start_time": "2023-04-28T16:56:26.816Z"
   },
   {
    "duration": 27,
    "start_time": "2023-04-28T16:56:26.830Z"
   },
   {
    "duration": 10,
    "start_time": "2023-04-28T16:56:26.858Z"
   },
   {
    "duration": 1402,
    "start_time": "2023-04-28T16:56:26.869Z"
   },
   {
    "duration": 7,
    "start_time": "2023-04-28T16:56:28.339Z"
   },
   {
    "duration": 617,
    "start_time": "2023-04-28T16:56:28.349Z"
   },
   {
    "duration": 2,
    "start_time": "2023-04-28T16:56:28.968Z"
   },
   {
    "duration": 702780,
    "start_time": "2023-04-28T16:56:28.972Z"
   },
   {
    "duration": 3,
    "start_time": "2023-04-28T17:08:11.756Z"
   },
   {
    "duration": 5316,
    "start_time": "2023-04-28T17:08:11.761Z"
   },
   {
    "duration": 2,
    "start_time": "2023-04-28T17:08:17.079Z"
   },
   {
    "duration": 2051,
    "start_time": "2023-04-28T17:40:12.348Z"
   },
   {
    "duration": 2144,
    "start_time": "2023-04-28T17:40:14.401Z"
   },
   {
    "duration": 1368,
    "start_time": "2023-04-28T17:40:16.547Z"
   },
   {
    "duration": 3,
    "start_time": "2023-04-28T17:40:17.916Z"
   },
   {
    "duration": 20,
    "start_time": "2023-04-28T17:40:17.921Z"
   },
   {
    "duration": 69,
    "start_time": "2023-04-28T17:40:17.942Z"
   },
   {
    "duration": 25,
    "start_time": "2023-04-28T17:40:18.012Z"
   },
   {
    "duration": 3,
    "start_time": "2023-04-28T17:40:18.041Z"
   },
   {
    "duration": 33,
    "start_time": "2023-04-28T17:40:18.045Z"
   },
   {
    "duration": 14,
    "start_time": "2023-04-28T17:40:18.080Z"
   },
   {
    "duration": 12,
    "start_time": "2023-04-28T17:40:18.095Z"
   },
   {
    "duration": 748,
    "start_time": "2023-04-28T17:40:18.109Z"
   },
   {
    "duration": 6,
    "start_time": "2023-04-28T17:40:18.858Z"
   },
   {
    "duration": 8,
    "start_time": "2023-04-28T17:40:18.867Z"
   },
   {
    "duration": 13,
    "start_time": "2023-04-28T17:40:18.876Z"
   },
   {
    "duration": 7,
    "start_time": "2023-04-28T17:40:18.890Z"
   },
   {
    "duration": 259,
    "start_time": "2023-04-28T17:40:18.898Z"
   },
   {
    "duration": 4,
    "start_time": "2023-04-28T17:40:19.158Z"
   },
   {
    "duration": 42,
    "start_time": "2023-04-28T17:40:19.164Z"
   },
   {
    "duration": 21,
    "start_time": "2023-04-28T17:40:19.207Z"
   },
   {
    "duration": 319,
    "start_time": "2023-04-28T17:40:19.229Z"
   },
   {
    "duration": 5,
    "start_time": "2023-04-28T17:40:19.549Z"
   },
   {
    "duration": 30,
    "start_time": "2023-04-28T17:40:19.555Z"
   },
   {
    "duration": 17,
    "start_time": "2023-04-28T17:40:19.587Z"
   },
   {
    "duration": 16,
    "start_time": "2023-04-28T17:40:19.605Z"
   },
   {
    "duration": 8,
    "start_time": "2023-04-28T17:40:19.622Z"
   },
   {
    "duration": 23,
    "start_time": "2023-04-28T17:40:19.631Z"
   },
   {
    "duration": 11,
    "start_time": "2023-04-28T17:40:19.655Z"
   },
   {
    "duration": 10,
    "start_time": "2023-04-28T17:40:19.667Z"
   },
   {
    "duration": 7,
    "start_time": "2023-04-28T17:40:19.679Z"
   },
   {
    "duration": 14,
    "start_time": "2023-04-28T17:40:19.688Z"
   },
   {
    "duration": 837,
    "start_time": "2023-04-28T17:40:19.704Z"
   },
   {
    "duration": 6,
    "start_time": "2023-04-28T17:40:20.547Z"
   },
   {
    "duration": 631,
    "start_time": "2023-04-28T17:40:20.556Z"
   },
   {
    "duration": 3,
    "start_time": "2023-04-28T17:40:21.189Z"
   },
   {
    "duration": 665432,
    "start_time": "2023-04-28T17:40:21.193Z"
   },
   {
    "duration": 4,
    "start_time": "2023-04-28T17:51:26.626Z"
   },
   {
    "duration": 6429,
    "start_time": "2023-04-28T17:51:26.634Z"
   },
   {
    "duration": 3,
    "start_time": "2023-04-28T17:51:33.065Z"
   },
   {
    "duration": 2155,
    "start_time": "2023-04-28T18:34:28.608Z"
   },
   {
    "duration": 2166,
    "start_time": "2023-04-28T18:34:30.766Z"
   },
   {
    "duration": 1376,
    "start_time": "2023-04-28T18:34:32.934Z"
   },
   {
    "duration": 3,
    "start_time": "2023-04-28T18:34:34.312Z"
   },
   {
    "duration": 14,
    "start_time": "2023-04-28T18:34:34.316Z"
   },
   {
    "duration": 84,
    "start_time": "2023-04-28T18:34:34.331Z"
   },
   {
    "duration": 37,
    "start_time": "2023-04-28T18:34:34.417Z"
   },
   {
    "duration": 4,
    "start_time": "2023-04-28T18:34:34.460Z"
   },
   {
    "duration": 9,
    "start_time": "2023-04-28T18:34:34.466Z"
   },
   {
    "duration": 6,
    "start_time": "2023-04-28T18:34:34.477Z"
   },
   {
    "duration": 5,
    "start_time": "2023-04-28T18:34:34.484Z"
   },
   {
    "duration": 811,
    "start_time": "2023-04-28T18:34:34.490Z"
   },
   {
    "duration": 7,
    "start_time": "2023-04-28T18:34:35.303Z"
   },
   {
    "duration": 7,
    "start_time": "2023-04-28T18:34:35.311Z"
   },
   {
    "duration": 30,
    "start_time": "2023-04-28T18:34:35.320Z"
   },
   {
    "duration": 22,
    "start_time": "2023-04-28T18:34:35.353Z"
   },
   {
    "duration": 245,
    "start_time": "2023-04-28T18:34:35.377Z"
   },
   {
    "duration": 12,
    "start_time": "2023-04-28T18:34:35.624Z"
   },
   {
    "duration": 53,
    "start_time": "2023-04-28T18:34:35.640Z"
   },
   {
    "duration": 21,
    "start_time": "2023-04-28T18:34:35.694Z"
   },
   {
    "duration": 346,
    "start_time": "2023-04-28T18:34:35.717Z"
   },
   {
    "duration": 4,
    "start_time": "2023-04-28T18:34:36.065Z"
   },
   {
    "duration": 8,
    "start_time": "2023-04-28T18:34:36.070Z"
   },
   {
    "duration": 8,
    "start_time": "2023-04-28T18:34:36.080Z"
   },
   {
    "duration": 17,
    "start_time": "2023-04-28T18:34:36.089Z"
   },
   {
    "duration": 8,
    "start_time": "2023-04-28T18:34:36.107Z"
   },
   {
    "duration": 9,
    "start_time": "2023-04-28T18:34:36.116Z"
   },
   {
    "duration": 36,
    "start_time": "2023-04-28T18:34:36.129Z"
   },
   {
    "duration": 12,
    "start_time": "2023-04-28T18:34:36.167Z"
   },
   {
    "duration": 9,
    "start_time": "2023-04-28T18:34:36.181Z"
   },
   {
    "duration": 11,
    "start_time": "2023-04-28T18:34:36.192Z"
   },
   {
    "duration": 1249,
    "start_time": "2023-04-28T18:34:36.206Z"
   },
   {
    "duration": 72,
    "start_time": "2023-04-28T18:34:37.466Z"
   },
   {
    "duration": 1008,
    "start_time": "2023-04-28T18:34:37.547Z"
   },
   {
    "duration": 4,
    "start_time": "2023-04-28T18:34:38.563Z"
   },
   {
    "duration": 682060,
    "start_time": "2023-04-28T18:34:38.568Z"
   },
   {
    "duration": 2,
    "start_time": "2023-04-28T18:46:00.634Z"
   },
   {
    "duration": 4997,
    "start_time": "2023-04-28T18:46:00.638Z"
   },
   {
    "duration": 3,
    "start_time": "2023-04-28T18:46:05.637Z"
   },
   {
    "duration": 371094,
    "start_time": "2023-04-28T18:46:05.641Z"
   },
   {
    "duration": 3,
    "start_time": "2023-04-28T18:52:16.737Z"
   },
   {
    "duration": 1947,
    "start_time": "2023-04-28T19:36:19.312Z"
   },
   {
    "duration": 1954,
    "start_time": "2023-04-28T19:36:21.262Z"
   },
   {
    "duration": 1311,
    "start_time": "2023-04-28T19:36:23.218Z"
   },
   {
    "duration": 2,
    "start_time": "2023-04-28T19:36:24.532Z"
   },
   {
    "duration": 10,
    "start_time": "2023-04-28T19:36:24.536Z"
   },
   {
    "duration": 70,
    "start_time": "2023-04-28T19:36:24.549Z"
   },
   {
    "duration": 29,
    "start_time": "2023-04-28T19:36:24.621Z"
   },
   {
    "duration": 19,
    "start_time": "2023-04-28T19:36:24.652Z"
   },
   {
    "duration": 43,
    "start_time": "2023-04-28T19:36:24.674Z"
   },
   {
    "duration": 50,
    "start_time": "2023-04-28T19:36:24.719Z"
   },
   {
    "duration": 68,
    "start_time": "2023-04-28T19:36:24.771Z"
   },
   {
    "duration": 751,
    "start_time": "2023-04-28T19:36:24.841Z"
   },
   {
    "duration": 6,
    "start_time": "2023-04-28T19:36:25.593Z"
   },
   {
    "duration": 23,
    "start_time": "2023-04-28T19:36:25.600Z"
   },
   {
    "duration": 21,
    "start_time": "2023-04-28T19:36:25.624Z"
   },
   {
    "duration": 12,
    "start_time": "2023-04-28T19:36:25.647Z"
   },
   {
    "duration": 247,
    "start_time": "2023-04-28T19:36:25.660Z"
   },
   {
    "duration": 4,
    "start_time": "2023-04-28T19:36:25.909Z"
   },
   {
    "duration": 46,
    "start_time": "2023-04-28T19:36:25.915Z"
   },
   {
    "duration": 25,
    "start_time": "2023-04-28T19:36:25.962Z"
   },
   {
    "duration": 331,
    "start_time": "2023-04-28T19:36:25.988Z"
   },
   {
    "duration": 4,
    "start_time": "2023-04-28T19:36:26.321Z"
   },
   {
    "duration": 24,
    "start_time": "2023-04-28T19:36:26.326Z"
   },
   {
    "duration": 25,
    "start_time": "2023-04-28T19:36:26.351Z"
   },
   {
    "duration": 23,
    "start_time": "2023-04-28T19:36:26.377Z"
   },
   {
    "duration": 25,
    "start_time": "2023-04-28T19:36:26.401Z"
   },
   {
    "duration": 18,
    "start_time": "2023-04-28T19:36:26.427Z"
   },
   {
    "duration": 12,
    "start_time": "2023-04-28T19:36:26.449Z"
   },
   {
    "duration": 24,
    "start_time": "2023-04-28T19:36:26.462Z"
   },
   {
    "duration": 8,
    "start_time": "2023-04-28T19:36:26.488Z"
   },
   {
    "duration": 24,
    "start_time": "2023-04-28T19:36:26.498Z"
   },
   {
    "duration": 720,
    "start_time": "2023-04-28T19:36:26.523Z"
   },
   {
    "duration": 4,
    "start_time": "2023-04-28T19:36:27.336Z"
   },
   {
    "duration": 583,
    "start_time": "2023-04-28T19:36:27.342Z"
   },
   {
    "duration": 3,
    "start_time": "2023-04-28T19:36:27.934Z"
   },
   {
    "duration": 646303,
    "start_time": "2023-04-28T19:36:27.939Z"
   },
   {
    "duration": 3,
    "start_time": "2023-04-28T19:47:14.244Z"
   },
   {
    "duration": 6230,
    "start_time": "2023-04-28T19:47:14.249Z"
   },
   {
    "duration": 2,
    "start_time": "2023-04-28T19:47:20.481Z"
   },
   {
    "duration": 144959,
    "start_time": "2023-04-28T19:47:20.485Z"
   },
   {
    "duration": 4,
    "start_time": "2023-04-28T19:49:45.445Z"
   },
   {
    "duration": 3153233,
    "start_time": "2023-04-28T19:49:45.450Z"
   },
   {
    "duration": 3,
    "start_time": "2023-04-29T01:29:31.669Z"
   },
   {
    "duration": 4,
    "start_time": "2023-04-29T01:29:32.499Z"
   },
   {
    "duration": 3,
    "start_time": "2023-04-29T01:29:33.718Z"
   },
   {
    "duration": 7,
    "start_time": "2023-04-29T01:29:34.207Z"
   },
   {
    "duration": 146,
    "start_time": "2023-04-29T01:29:36.259Z"
   },
   {
    "duration": 3,
    "start_time": "2023-04-29T01:29:50.845Z"
   },
   {
    "duration": 2,
    "start_time": "2023-04-29T01:29:58.520Z"
   },
   {
    "duration": 3114,
    "start_time": "2023-04-29T01:29:59.957Z"
   },
   {
    "duration": 3,
    "start_time": "2023-04-29T01:30:03.073Z"
   },
   {
    "duration": 3,
    "start_time": "2023-04-29T01:30:07.437Z"
   },
   {
    "duration": 3,
    "start_time": "2023-04-29T01:30:07.946Z"
   },
   {
    "duration": 4,
    "start_time": "2023-04-29T01:30:12.970Z"
   },
   {
    "duration": 6,
    "start_time": "2023-04-29T01:30:13.670Z"
   },
   {
    "duration": 4,
    "start_time": "2023-04-29T01:30:14.171Z"
   },
   {
    "duration": 11,
    "start_time": "2023-04-29T01:30:15.707Z"
   },
   {
    "duration": 6,
    "start_time": "2023-04-29T01:30:16.358Z"
   },
   {
    "duration": 4,
    "start_time": "2023-04-29T01:30:17.158Z"
   },
   {
    "duration": 2538,
    "start_time": "2023-04-29T12:34:34.061Z"
   },
   {
    "duration": 2401,
    "start_time": "2023-04-29T12:34:36.602Z"
   },
   {
    "duration": 1855,
    "start_time": "2023-04-29T12:34:39.005Z"
   },
   {
    "duration": 3,
    "start_time": "2023-04-29T12:34:40.862Z"
   },
   {
    "duration": 7,
    "start_time": "2023-04-29T12:34:40.867Z"
   },
   {
    "duration": 127,
    "start_time": "2023-04-29T12:34:40.890Z"
   },
   {
    "duration": 26,
    "start_time": "2023-04-29T12:34:41.020Z"
   },
   {
    "duration": 3,
    "start_time": "2023-04-29T12:34:41.047Z"
   },
   {
    "duration": 10,
    "start_time": "2023-04-29T12:34:41.052Z"
   },
   {
    "duration": 8,
    "start_time": "2023-04-29T12:34:41.063Z"
   },
   {
    "duration": 21,
    "start_time": "2023-04-29T12:34:41.072Z"
   },
   {
    "duration": 808,
    "start_time": "2023-04-29T12:34:41.098Z"
   },
   {
    "duration": 7,
    "start_time": "2023-04-29T12:34:41.907Z"
   },
   {
    "duration": 19,
    "start_time": "2023-04-29T12:34:41.916Z"
   },
   {
    "duration": 43,
    "start_time": "2023-04-29T12:34:41.937Z"
   },
   {
    "duration": 29,
    "start_time": "2023-04-29T12:34:41.982Z"
   },
   {
    "duration": 308,
    "start_time": "2023-04-29T12:34:42.014Z"
   },
   {
    "duration": 106,
    "start_time": "2023-04-29T12:36:11.663Z"
   },
   {
    "duration": 23,
    "start_time": "2023-04-29T12:36:26.339Z"
   },
   {
    "duration": 15,
    "start_time": "2023-04-29T12:36:30.058Z"
   },
   {
    "duration": 229,
    "start_time": "2023-04-29T12:36:50.578Z"
   },
   {
    "duration": 227,
    "start_time": "2023-04-29T12:37:00.027Z"
   },
   {
    "duration": 220,
    "start_time": "2023-04-29T12:37:21.165Z"
   },
   {
    "duration": 363,
    "start_time": "2023-04-29T12:38:22.429Z"
   },
   {
    "duration": 311,
    "start_time": "2023-04-29T12:38:54.917Z"
   },
   {
    "duration": 15,
    "start_time": "2023-04-29T12:39:25.543Z"
   },
   {
    "duration": 295,
    "start_time": "2023-04-29T12:39:28.441Z"
   },
   {
    "duration": 273,
    "start_time": "2023-04-29T12:42:19.676Z"
   },
   {
    "duration": 126,
    "start_time": "2023-04-29T12:42:22.500Z"
   },
   {
    "duration": 245,
    "start_time": "2023-04-29T12:42:25.361Z"
   },
   {
    "duration": 158,
    "start_time": "2023-04-29T12:42:30.137Z"
   },
   {
    "duration": 25,
    "start_time": "2023-04-29T12:42:47.764Z"
   },
   {
    "duration": 196,
    "start_time": "2023-04-29T12:42:55.973Z"
   },
   {
    "duration": 235,
    "start_time": "2023-04-29T12:43:03.689Z"
   },
   {
    "duration": 59,
    "start_time": "2023-04-29T12:45:11.314Z"
   },
   {
    "duration": 58,
    "start_time": "2023-04-29T12:45:20.375Z"
   },
   {
    "duration": 98,
    "start_time": "2023-04-29T12:45:30.242Z"
   },
   {
    "duration": 11,
    "start_time": "2023-04-29T12:45:42.485Z"
   },
   {
    "duration": 5,
    "start_time": "2023-04-29T12:46:00.180Z"
   },
   {
    "duration": 6,
    "start_time": "2023-04-29T12:46:05.840Z"
   },
   {
    "duration": 6,
    "start_time": "2023-04-29T12:46:36.280Z"
   },
   {
    "duration": 11,
    "start_time": "2023-04-29T12:46:44.674Z"
   },
   {
    "duration": 134,
    "start_time": "2023-04-29T12:46:50.292Z"
   },
   {
    "duration": 5,
    "start_time": "2023-04-29T12:47:02.474Z"
   },
   {
    "duration": 353,
    "start_time": "2023-04-29T12:47:05.581Z"
   },
   {
    "duration": 52,
    "start_time": "2023-04-29T12:47:51.705Z"
   },
   {
    "duration": 6,
    "start_time": "2023-04-29T12:47:59.248Z"
   },
   {
    "duration": 340,
    "start_time": "2023-04-29T12:48:10.406Z"
   },
   {
    "duration": 436,
    "start_time": "2023-04-29T12:48:31.312Z"
   },
   {
    "duration": 5,
    "start_time": "2023-04-29T12:48:49.046Z"
   },
   {
    "duration": 5,
    "start_time": "2023-04-29T12:48:53.196Z"
   },
   {
    "duration": 223,
    "start_time": "2023-04-29T12:49:46.311Z"
   },
   {
    "duration": 72,
    "start_time": "2023-04-29T12:50:49.279Z"
   },
   {
    "duration": 10,
    "start_time": "2023-04-29T12:50:56.291Z"
   },
   {
    "duration": 688,
    "start_time": "2023-04-29T12:50:59.932Z"
   },
   {
    "duration": 5,
    "start_time": "2023-04-29T12:51:10.504Z"
   },
   {
    "duration": 427,
    "start_time": "2023-04-29T12:51:13.902Z"
   },
   {
    "duration": 384,
    "start_time": "2023-04-29T12:51:34.573Z"
   },
   {
    "duration": 497,
    "start_time": "2023-04-29T12:51:37.940Z"
   },
   {
    "duration": 384,
    "start_time": "2023-04-29T12:51:42.245Z"
   },
   {
    "duration": 356,
    "start_time": "2023-04-29T12:51:47.275Z"
   },
   {
    "duration": 4,
    "start_time": "2023-04-29T12:52:08.277Z"
   },
   {
    "duration": 7,
    "start_time": "2023-04-29T12:52:11.639Z"
   },
   {
    "duration": 199,
    "start_time": "2023-04-29T12:52:17.204Z"
   },
   {
    "duration": 237,
    "start_time": "2023-04-29T12:52:21.115Z"
   },
   {
    "duration": 4,
    "start_time": "2023-04-29T12:52:27.903Z"
   },
   {
    "duration": 256,
    "start_time": "2023-04-29T12:52:44.840Z"
   },
   {
    "duration": 203,
    "start_time": "2023-04-29T12:52:58.842Z"
   },
   {
    "duration": 228,
    "start_time": "2023-04-29T12:53:03.783Z"
   },
   {
    "duration": 142,
    "start_time": "2023-04-29T12:53:07.083Z"
   },
   {
    "duration": 319,
    "start_time": "2023-04-29T12:53:08.854Z"
   },
   {
    "duration": 165,
    "start_time": "2023-04-29T12:53:15.989Z"
   },
   {
    "duration": 619,
    "start_time": "2023-04-29T12:53:18.030Z"
   },
   {
    "duration": 359,
    "start_time": "2023-04-29T12:53:24.788Z"
   },
   {
    "duration": 153,
    "start_time": "2023-04-29T12:53:31.118Z"
   },
   {
    "duration": 327,
    "start_time": "2023-04-29T12:53:33.230Z"
   },
   {
    "duration": 256,
    "start_time": "2023-04-29T12:53:37.128Z"
   },
   {
    "duration": 5,
    "start_time": "2023-04-29T12:55:15.901Z"
   },
   {
    "duration": 20,
    "start_time": "2023-04-29T12:55:19.910Z"
   },
   {
    "duration": 677,
    "start_time": "2023-04-29T12:55:23.321Z"
   },
   {
    "duration": 12,
    "start_time": "2023-04-29T12:55:41.593Z"
   },
   {
    "duration": 829,
    "start_time": "2023-04-29T12:55:44.899Z"
   },
   {
    "duration": 6,
    "start_time": "2023-04-29T12:55:53.924Z"
   },
   {
    "duration": 937,
    "start_time": "2023-04-29T12:55:56.281Z"
   },
   {
    "duration": 4,
    "start_time": "2023-04-29T12:56:22.748Z"
   },
   {
    "duration": 800,
    "start_time": "2023-04-29T12:56:25.150Z"
   },
   {
    "duration": 6,
    "start_time": "2023-04-29T12:56:31.448Z"
   },
   {
    "duration": 908,
    "start_time": "2023-04-29T12:56:33.981Z"
   },
   {
    "duration": 5,
    "start_time": "2023-04-29T12:57:08.812Z"
   },
   {
    "duration": 1172,
    "start_time": "2023-04-29T12:57:11.172Z"
   },
   {
    "duration": 5,
    "start_time": "2023-04-29T12:57:25.726Z"
   },
   {
    "duration": 886,
    "start_time": "2023-04-29T12:57:28.839Z"
   },
   {
    "duration": 8,
    "start_time": "2023-04-29T12:57:42.773Z"
   },
   {
    "duration": 831,
    "start_time": "2023-04-29T12:57:46.904Z"
   },
   {
    "duration": 9,
    "start_time": "2023-04-29T12:58:03.672Z"
   },
   {
    "duration": 1006,
    "start_time": "2023-04-29T12:58:06.729Z"
   },
   {
    "duration": 6,
    "start_time": "2023-04-29T12:59:55.113Z"
   },
   {
    "duration": 2544,
    "start_time": "2023-04-29T13:00:06.517Z"
   },
   {
    "duration": 2744,
    "start_time": "2023-04-29T13:00:09.064Z"
   },
   {
    "duration": 1673,
    "start_time": "2023-04-29T13:00:11.812Z"
   },
   {
    "duration": 11,
    "start_time": "2023-04-29T13:00:13.493Z"
   },
   {
    "duration": 63,
    "start_time": "2023-04-29T13:00:13.511Z"
   },
   {
    "duration": 37,
    "start_time": "2023-04-29T13:00:13.576Z"
   },
   {
    "duration": 4,
    "start_time": "2023-04-29T13:00:13.616Z"
   },
   {
    "duration": 19,
    "start_time": "2023-04-29T13:00:13.621Z"
   },
   {
    "duration": 16,
    "start_time": "2023-04-29T13:00:13.643Z"
   },
   {
    "duration": 30,
    "start_time": "2023-04-29T13:00:13.661Z"
   },
   {
    "duration": 18,
    "start_time": "2023-04-29T13:00:13.695Z"
   },
   {
    "duration": 22,
    "start_time": "2023-04-29T13:00:13.718Z"
   },
   {
    "duration": 920,
    "start_time": "2023-04-29T13:00:13.743Z"
   },
   {
    "duration": 21,
    "start_time": "2023-04-29T13:00:14.666Z"
   },
   {
    "duration": 9,
    "start_time": "2023-04-29T13:00:14.699Z"
   },
   {
    "duration": 11,
    "start_time": "2023-04-29T13:00:14.710Z"
   },
   {
    "duration": 6,
    "start_time": "2023-04-29T13:00:14.723Z"
   },
   {
    "duration": 326,
    "start_time": "2023-04-29T13:00:14.732Z"
   },
   {
    "duration": 1120,
    "start_time": "2023-04-29T13:00:15.060Z"
   },
   {
    "duration": 7,
    "start_time": "2023-04-29T13:00:16.182Z"
   },
   {
    "duration": 51,
    "start_time": "2023-04-29T13:00:16.191Z"
   },
   {
    "duration": 25,
    "start_time": "2023-04-29T13:00:16.244Z"
   },
   {
    "duration": 352,
    "start_time": "2023-04-29T13:00:16.271Z"
   },
   {
    "duration": 6,
    "start_time": "2023-04-29T13:00:16.626Z"
   },
   {
    "duration": 25,
    "start_time": "2023-04-29T13:00:16.634Z"
   },
   {
    "duration": 13,
    "start_time": "2023-04-29T13:00:16.661Z"
   },
   {
    "duration": 44,
    "start_time": "2023-04-29T13:00:16.676Z"
   },
   {
    "duration": 16,
    "start_time": "2023-04-29T13:00:16.723Z"
   },
   {
    "duration": 8,
    "start_time": "2023-04-29T13:00:16.743Z"
   },
   {
    "duration": 16,
    "start_time": "2023-04-29T13:00:16.754Z"
   },
   {
    "duration": 41,
    "start_time": "2023-04-29T13:00:16.772Z"
   },
   {
    "duration": 6,
    "start_time": "2023-04-29T13:08:08.831Z"
   },
   {
    "duration": 2,
    "start_time": "2023-04-29T13:08:12.131Z"
   },
   {
    "duration": 1351,
    "start_time": "2023-04-29T13:08:12.952Z"
   },
   {
    "duration": 3,
    "start_time": "2023-04-29T13:08:17.207Z"
   },
   {
    "duration": 534,
    "start_time": "2023-04-29T13:08:19.097Z"
   },
   {
    "duration": 117,
    "start_time": "2023-04-29T13:08:29.258Z"
   },
   {
    "duration": 4,
    "start_time": "2023-04-29T13:08:34.203Z"
   },
   {
    "duration": 4,
    "start_time": "2023-04-29T13:08:34.444Z"
   },
   {
    "duration": 10,
    "start_time": "2023-04-29T13:08:35.090Z"
   },
   {
    "duration": 8,
    "start_time": "2023-04-29T13:08:35.489Z"
   },
   {
    "duration": 173,
    "start_time": "2023-04-29T13:08:36.300Z"
   },
   {
    "duration": 8,
    "start_time": "2023-04-29T13:10:15.995Z"
   },
   {
    "duration": 3,
    "start_time": "2023-04-29T13:10:17.337Z"
   },
   {
    "duration": 8,
    "start_time": "2023-04-29T13:10:17.637Z"
   },
   {
    "duration": 140,
    "start_time": "2023-04-29T13:10:18.112Z"
   },
   {
    "duration": 5,
    "start_time": "2023-04-29T13:10:27.738Z"
   },
   {
    "duration": 4,
    "start_time": "2023-04-29T13:10:28.213Z"
   },
   {
    "duration": 11,
    "start_time": "2023-04-29T13:10:28.503Z"
   },
   {
    "duration": 148,
    "start_time": "2023-04-29T13:10:29.105Z"
   },
   {
    "duration": 9,
    "start_time": "2023-04-29T13:10:36.482Z"
   },
   {
    "duration": 3,
    "start_time": "2023-04-29T13:10:36.901Z"
   },
   {
    "duration": 8,
    "start_time": "2023-04-29T13:10:37.225Z"
   },
   {
    "duration": 148,
    "start_time": "2023-04-29T13:10:37.725Z"
   },
   {
    "duration": 5,
    "start_time": "2023-04-29T13:10:47.601Z"
   },
   {
    "duration": 6,
    "start_time": "2023-04-29T13:10:48.083Z"
   },
   {
    "duration": 18,
    "start_time": "2023-04-29T13:10:48.380Z"
   },
   {
    "duration": 155,
    "start_time": "2023-04-29T13:10:49.050Z"
   },
   {
    "duration": 6,
    "start_time": "2023-04-29T13:10:53.325Z"
   },
   {
    "duration": 4,
    "start_time": "2023-04-29T13:10:53.805Z"
   },
   {
    "duration": 9,
    "start_time": "2023-04-29T13:10:54.104Z"
   },
   {
    "duration": 153,
    "start_time": "2023-04-29T13:10:54.412Z"
   },
   {
    "duration": 6,
    "start_time": "2023-04-29T13:11:18.938Z"
   },
   {
    "duration": 6,
    "start_time": "2023-04-29T13:11:28.752Z"
   },
   {
    "duration": 9,
    "start_time": "2023-04-29T13:11:30.394Z"
   },
   {
    "duration": 9,
    "start_time": "2023-04-29T13:11:30.726Z"
   },
   {
    "duration": 165,
    "start_time": "2023-04-29T13:11:31.853Z"
   },
   {
    "duration": 8,
    "start_time": "2023-04-29T13:11:56.481Z"
   },
   {
    "duration": 29,
    "start_time": "2023-04-29T13:11:57.083Z"
   },
   {
    "duration": 7,
    "start_time": "2023-04-29T13:11:57.427Z"
   },
   {
    "duration": 10,
    "start_time": "2023-04-29T13:11:57.779Z"
   },
   {
    "duration": 3,
    "start_time": "2023-04-29T13:12:15.879Z"
   },
   {
    "duration": 4,
    "start_time": "2023-04-29T13:12:18.098Z"
   },
   {
    "duration": 13,
    "start_time": "2023-04-29T13:12:18.829Z"
   },
   {
    "duration": 4,
    "start_time": "2023-04-29T13:12:23.206Z"
   },
   {
    "duration": 144,
    "start_time": "2023-04-29T13:12:39.583Z"
   },
   {
    "duration": 124,
    "start_time": "2023-04-29T13:12:47.101Z"
   },
   {
    "duration": 152,
    "start_time": "2023-04-29T13:12:57.517Z"
   },
   {
    "duration": 173,
    "start_time": "2023-04-29T13:13:16.081Z"
   },
   {
    "duration": 147,
    "start_time": "2023-04-29T13:13:18.508Z"
   },
   {
    "duration": 7,
    "start_time": "2023-04-29T13:13:25.707Z"
   },
   {
    "duration": 3,
    "start_time": "2023-04-29T13:13:26.832Z"
   },
   {
    "duration": 9,
    "start_time": "2023-04-29T13:13:27.131Z"
   },
   {
    "duration": 308,
    "start_time": "2023-04-29T13:13:27.419Z"
   },
   {
    "duration": 12,
    "start_time": "2023-04-29T13:13:34.582Z"
   },
   {
    "duration": 3,
    "start_time": "2023-04-29T13:13:35.319Z"
   },
   {
    "duration": 8,
    "start_time": "2023-04-29T13:13:36.101Z"
   },
   {
    "duration": 210,
    "start_time": "2023-04-29T13:13:37.220Z"
   },
   {
    "duration": 6,
    "start_time": "2023-04-29T13:13:44.301Z"
   },
   {
    "duration": 6,
    "start_time": "2023-04-29T13:13:44.783Z"
   },
   {
    "duration": 10,
    "start_time": "2023-04-29T13:13:45.331Z"
   },
   {
    "duration": 160,
    "start_time": "2023-04-29T13:13:45.979Z"
   },
   {
    "duration": 8,
    "start_time": "2023-04-29T13:13:54.810Z"
   },
   {
    "duration": 4,
    "start_time": "2023-04-29T13:13:55.319Z"
   },
   {
    "duration": 10,
    "start_time": "2023-04-29T13:13:55.619Z"
   },
   {
    "duration": 148,
    "start_time": "2023-04-29T13:13:56.364Z"
   },
   {
    "duration": 8,
    "start_time": "2023-04-29T13:13:59.770Z"
   },
   {
    "duration": 5,
    "start_time": "2023-04-29T13:14:00.233Z"
   },
   {
    "duration": 9,
    "start_time": "2023-04-29T13:14:00.570Z"
   },
   {
    "duration": 148,
    "start_time": "2023-04-29T13:14:01.097Z"
   },
   {
    "duration": 5,
    "start_time": "2023-04-29T13:14:05.644Z"
   },
   {
    "duration": 6,
    "start_time": "2023-04-29T13:14:06.081Z"
   },
   {
    "duration": 40,
    "start_time": "2023-04-29T13:14:06.369Z"
   },
   {
    "duration": 155,
    "start_time": "2023-04-29T13:14:06.645Z"
   },
   {
    "duration": 9,
    "start_time": "2023-04-29T13:14:11.633Z"
   },
   {
    "duration": 5,
    "start_time": "2023-04-29T13:14:12.103Z"
   },
   {
    "duration": 9,
    "start_time": "2023-04-29T13:14:12.399Z"
   },
   {
    "duration": 143,
    "start_time": "2023-04-29T13:14:12.719Z"
   },
   {
    "duration": 15,
    "start_time": "2023-04-29T13:14:17.882Z"
   },
   {
    "duration": 5,
    "start_time": "2023-04-29T13:14:18.320Z"
   },
   {
    "duration": 12,
    "start_time": "2023-04-29T13:14:18.620Z"
   },
   {
    "duration": 202,
    "start_time": "2023-04-29T13:14:18.933Z"
   },
   {
    "duration": 6,
    "start_time": "2023-04-29T13:14:27.820Z"
   },
   {
    "duration": 3,
    "start_time": "2023-04-29T13:14:28.232Z"
   },
   {
    "duration": 14,
    "start_time": "2023-04-29T13:14:28.482Z"
   },
   {
    "duration": 268,
    "start_time": "2023-04-29T13:14:28.733Z"
   },
   {
    "duration": 6,
    "start_time": "2023-04-29T13:14:34.423Z"
   },
   {
    "duration": 6,
    "start_time": "2023-04-29T13:14:34.840Z"
   },
   {
    "duration": 10,
    "start_time": "2023-04-29T13:14:35.108Z"
   },
   {
    "duration": 136,
    "start_time": "2023-04-29T13:14:35.622Z"
   },
   {
    "duration": 5,
    "start_time": "2023-04-29T13:14:44.571Z"
   },
   {
    "duration": 7,
    "start_time": "2023-04-29T13:14:45.097Z"
   },
   {
    "duration": 7,
    "start_time": "2023-04-29T13:14:45.409Z"
   },
   {
    "duration": 137,
    "start_time": "2023-04-29T13:14:46.007Z"
   },
   {
    "duration": 6,
    "start_time": "2023-04-29T13:14:49.508Z"
   },
   {
    "duration": 4,
    "start_time": "2023-04-29T13:14:49.962Z"
   },
   {
    "duration": 11,
    "start_time": "2023-04-29T13:14:50.220Z"
   },
   {
    "duration": 162,
    "start_time": "2023-04-29T13:14:50.708Z"
   },
   {
    "duration": 6,
    "start_time": "2023-04-29T13:14:54.470Z"
   },
   {
    "duration": 4,
    "start_time": "2023-04-29T13:14:54.912Z"
   },
   {
    "duration": 10,
    "start_time": "2023-04-29T13:14:55.183Z"
   },
   {
    "duration": 146,
    "start_time": "2023-04-29T13:14:55.708Z"
   },
   {
    "duration": 5,
    "start_time": "2023-04-29T13:14:58.798Z"
   },
   {
    "duration": 5,
    "start_time": "2023-04-29T13:14:59.205Z"
   },
   {
    "duration": 10,
    "start_time": "2023-04-29T13:14:59.446Z"
   },
   {
    "duration": 179,
    "start_time": "2023-04-29T13:14:59.683Z"
   },
   {
    "duration": 10,
    "start_time": "2023-04-29T13:15:05.406Z"
   },
   {
    "duration": 5,
    "start_time": "2023-04-29T13:15:05.868Z"
   },
   {
    "duration": 11,
    "start_time": "2023-04-29T13:15:06.120Z"
   },
   {
    "duration": 149,
    "start_time": "2023-04-29T13:15:06.587Z"
   },
   {
    "duration": 9,
    "start_time": "2023-04-29T13:15:11.235Z"
   },
   {
    "duration": 7,
    "start_time": "2023-04-29T13:15:11.683Z"
   },
   {
    "duration": 11,
    "start_time": "2023-04-29T13:15:11.971Z"
   },
   {
    "duration": 141,
    "start_time": "2023-04-29T13:15:12.260Z"
   },
   {
    "duration": 6,
    "start_time": "2023-04-29T13:15:30.306Z"
   },
   {
    "duration": 7,
    "start_time": "2023-04-29T13:15:30.786Z"
   },
   {
    "duration": 9,
    "start_time": "2023-04-29T13:15:31.134Z"
   },
   {
    "duration": 144,
    "start_time": "2023-04-29T13:15:31.824Z"
   },
   {
    "duration": 187,
    "start_time": "2023-04-29T13:15:34.918Z"
   },
   {
    "duration": 132,
    "start_time": "2023-04-29T13:15:39.011Z"
   },
   {
    "duration": 125,
    "start_time": "2023-04-29T13:15:42.922Z"
   },
   {
    "duration": 5,
    "start_time": "2023-04-29T13:15:52.510Z"
   },
   {
    "duration": 9,
    "start_time": "2023-04-29T13:15:53.112Z"
   },
   {
    "duration": 6,
    "start_time": "2023-04-29T13:15:53.704Z"
   },
   {
    "duration": 155,
    "start_time": "2023-04-29T13:16:28.741Z"
   },
   {
    "duration": 140,
    "start_time": "2023-04-29T13:16:56.424Z"
   },
   {
    "duration": 181,
    "start_time": "2023-04-29T13:17:03.734Z"
   },
   {
    "duration": 254,
    "start_time": "2023-04-29T13:17:06.603Z"
   },
   {
    "duration": 164,
    "start_time": "2023-04-29T13:17:11.083Z"
   },
   {
    "duration": 167,
    "start_time": "2023-04-29T13:17:14.280Z"
   },
   {
    "duration": 158,
    "start_time": "2023-04-29T13:17:18.688Z"
   },
   {
    "duration": 226,
    "start_time": "2023-04-29T13:17:23.778Z"
   },
   {
    "duration": 128,
    "start_time": "2023-04-29T13:17:40.612Z"
   },
   {
    "duration": 6,
    "start_time": "2023-04-29T13:17:49.173Z"
   },
   {
    "duration": 140,
    "start_time": "2023-04-29T13:17:50.939Z"
   },
   {
    "duration": 5,
    "start_time": "2023-04-29T13:17:55.166Z"
   },
   {
    "duration": 5,
    "start_time": "2023-04-29T13:17:55.575Z"
   },
   {
    "duration": 11,
    "start_time": "2023-04-29T13:17:56.145Z"
   },
   {
    "duration": 155,
    "start_time": "2023-04-29T13:17:57.438Z"
   },
   {
    "duration": 156,
    "start_time": "2023-04-29T13:18:01.755Z"
   },
   {
    "duration": 184,
    "start_time": "2023-04-29T13:18:15.927Z"
   },
   {
    "duration": 168,
    "start_time": "2023-04-29T13:18:31.116Z"
   },
   {
    "duration": 18,
    "start_time": "2023-04-29T13:18:49.415Z"
   },
   {
    "duration": 15,
    "start_time": "2023-04-29T13:18:53.078Z"
   },
   {
    "duration": 12,
    "start_time": "2023-04-29T13:18:53.375Z"
   },
   {
    "duration": 6,
    "start_time": "2023-04-29T13:18:53.639Z"
   },
   {
    "duration": 149,
    "start_time": "2023-04-29T13:18:54.240Z"
   },
   {
    "duration": 2594,
    "start_time": "2023-04-29T13:20:02.920Z"
   },
   {
    "duration": 2318,
    "start_time": "2023-04-29T13:20:05.518Z"
   },
   {
    "duration": 1622,
    "start_time": "2023-04-29T13:20:07.838Z"
   },
   {
    "duration": 3,
    "start_time": "2023-04-29T13:20:09.462Z"
   },
   {
    "duration": 86,
    "start_time": "2023-04-29T13:20:09.467Z"
   },
   {
    "duration": 37,
    "start_time": "2023-04-29T13:20:09.555Z"
   },
   {
    "duration": 6,
    "start_time": "2023-04-29T13:20:09.596Z"
   },
   {
    "duration": 16,
    "start_time": "2023-04-29T13:20:09.605Z"
   },
   {
    "duration": 12,
    "start_time": "2023-04-29T13:20:09.622Z"
   },
   {
    "duration": 45,
    "start_time": "2023-04-29T13:20:09.637Z"
   },
   {
    "duration": 28,
    "start_time": "2023-04-29T13:20:09.688Z"
   },
   {
    "duration": 21,
    "start_time": "2023-04-29T13:20:09.718Z"
   },
   {
    "duration": 874,
    "start_time": "2023-04-29T13:20:09.741Z"
   },
   {
    "duration": 7,
    "start_time": "2023-04-29T13:20:10.618Z"
   },
   {
    "duration": 8,
    "start_time": "2023-04-29T13:20:10.626Z"
   },
   {
    "duration": 17,
    "start_time": "2023-04-29T13:20:10.636Z"
   },
   {
    "duration": 35,
    "start_time": "2023-04-29T13:20:10.655Z"
   },
   {
    "duration": 303,
    "start_time": "2023-04-29T13:20:10.692Z"
   },
   {
    "duration": 936,
    "start_time": "2023-04-29T13:20:11.001Z"
   },
   {
    "duration": 8,
    "start_time": "2023-04-29T13:20:11.939Z"
   },
   {
    "duration": 66,
    "start_time": "2023-04-29T13:20:11.949Z"
   },
   {
    "duration": 35,
    "start_time": "2023-04-29T13:20:12.018Z"
   },
   {
    "duration": 352,
    "start_time": "2023-04-29T13:20:12.055Z"
   },
   {
    "duration": 6,
    "start_time": "2023-04-29T13:20:12.409Z"
   },
   {
    "duration": 12,
    "start_time": "2023-04-29T13:20:12.417Z"
   },
   {
    "duration": 14,
    "start_time": "2023-04-29T13:20:12.431Z"
   },
   {
    "duration": 15,
    "start_time": "2023-04-29T13:20:12.447Z"
   },
   {
    "duration": 38,
    "start_time": "2023-04-29T13:20:12.464Z"
   },
   {
    "duration": 11,
    "start_time": "2023-04-29T13:20:12.504Z"
   },
   {
    "duration": 18,
    "start_time": "2023-04-29T13:20:12.517Z"
   },
   {
    "duration": 110,
    "start_time": "2023-04-29T13:20:12.536Z"
   },
   {
    "duration": 13,
    "start_time": "2023-04-29T13:20:12.648Z"
   },
   {
    "duration": 9,
    "start_time": "2023-04-29T13:20:12.663Z"
   },
   {
    "duration": 1022,
    "start_time": "2023-04-29T13:20:12.673Z"
   },
   {
    "duration": 4,
    "start_time": "2023-04-29T13:20:13.700Z"
   },
   {
    "duration": 546,
    "start_time": "2023-04-29T13:20:13.706Z"
   },
   {
    "duration": 3,
    "start_time": "2023-04-29T13:20:14.253Z"
   },
   {
    "duration": 557999,
    "start_time": "2023-04-29T13:20:14.258Z"
   },
   {
    "duration": 3,
    "start_time": "2023-04-29T13:29:32.259Z"
   },
   {
    "duration": 4262,
    "start_time": "2023-04-29T13:29:32.264Z"
   },
   {
    "duration": 4,
    "start_time": "2023-04-29T13:29:36.532Z"
   },
   {
    "duration": 2571,
    "start_time": "2023-04-29T13:58:06.759Z"
   },
   {
    "duration": 2547,
    "start_time": "2023-04-29T13:58:09.335Z"
   },
   {
    "duration": 3423,
    "start_time": "2023-04-29T13:58:11.890Z"
   },
   {
    "duration": 6,
    "start_time": "2023-04-29T13:58:15.317Z"
   },
   {
    "duration": 98,
    "start_time": "2023-04-29T13:58:15.326Z"
   },
   {
    "duration": 42,
    "start_time": "2023-04-29T13:58:15.426Z"
   },
   {
    "duration": 4,
    "start_time": "2023-04-29T13:58:15.470Z"
   },
   {
    "duration": 54,
    "start_time": "2023-04-29T13:58:15.488Z"
   },
   {
    "duration": 69,
    "start_time": "2023-04-29T13:58:15.544Z"
   },
   {
    "duration": 39,
    "start_time": "2023-04-29T13:58:15.616Z"
   },
   {
    "duration": 50,
    "start_time": "2023-04-29T13:58:15.658Z"
   },
   {
    "duration": 46,
    "start_time": "2023-04-29T13:58:15.710Z"
   },
   {
    "duration": 1144,
    "start_time": "2023-04-29T13:58:15.758Z"
   },
   {
    "duration": 9,
    "start_time": "2023-04-29T13:58:16.909Z"
   },
   {
    "duration": 16,
    "start_time": "2023-04-29T13:58:16.921Z"
   },
   {
    "duration": 16,
    "start_time": "2023-04-29T13:58:16.939Z"
   },
   {
    "duration": 7,
    "start_time": "2023-04-29T13:58:16.957Z"
   },
   {
    "duration": 452,
    "start_time": "2023-04-29T13:58:16.967Z"
   },
   {
    "duration": 1075,
    "start_time": "2023-04-29T13:58:17.421Z"
   },
   {
    "duration": 10,
    "start_time": "2023-04-29T13:58:18.498Z"
   },
   {
    "duration": 56,
    "start_time": "2023-04-29T13:58:18.510Z"
   },
   {
    "duration": 98,
    "start_time": "2023-04-29T13:58:18.568Z"
   },
   {
    "duration": 464,
    "start_time": "2023-04-29T13:58:18.669Z"
   },
   {
    "duration": 6,
    "start_time": "2023-04-29T13:58:19.136Z"
   },
   {
    "duration": 34,
    "start_time": "2023-04-29T13:58:19.144Z"
   },
   {
    "duration": 52,
    "start_time": "2023-04-29T13:58:19.180Z"
   },
   {
    "duration": 39,
    "start_time": "2023-04-29T13:58:19.234Z"
   },
   {
    "duration": 64,
    "start_time": "2023-04-29T13:58:19.275Z"
   },
   {
    "duration": 19,
    "start_time": "2023-04-29T13:58:19.343Z"
   },
   {
    "duration": 45,
    "start_time": "2023-04-29T13:58:19.364Z"
   },
   {
    "duration": 111,
    "start_time": "2023-04-29T13:58:19.411Z"
   },
   {
    "duration": 22,
    "start_time": "2023-04-29T13:58:19.525Z"
   },
   {
    "duration": 73,
    "start_time": "2023-04-29T13:58:19.549Z"
   },
   {
    "duration": 1280,
    "start_time": "2023-04-29T13:58:19.625Z"
   },
   {
    "duration": 62,
    "start_time": "2023-04-29T13:58:20.920Z"
   },
   {
    "duration": 659,
    "start_time": "2023-04-29T13:58:20.989Z"
   },
   {
    "duration": 4,
    "start_time": "2023-04-29T13:58:21.649Z"
   },
   {
    "duration": 565202,
    "start_time": "2023-04-29T13:58:21.655Z"
   },
   {
    "duration": 4,
    "start_time": "2023-04-29T14:07:46.859Z"
   },
   {
    "duration": 4547,
    "start_time": "2023-04-29T14:07:46.865Z"
   },
   {
    "duration": 3,
    "start_time": "2023-04-29T14:07:51.417Z"
   },
   {
    "duration": 2266,
    "start_time": "2023-04-29T14:40:05.300Z"
   },
   {
    "duration": 2293,
    "start_time": "2023-04-29T14:40:07.568Z"
   },
   {
    "duration": 2527,
    "start_time": "2023-04-29T14:40:09.863Z"
   },
   {
    "duration": 4,
    "start_time": "2023-04-29T14:40:12.392Z"
   },
   {
    "duration": 104,
    "start_time": "2023-04-29T14:40:12.401Z"
   },
   {
    "duration": 93,
    "start_time": "2023-04-29T14:40:12.506Z"
   },
   {
    "duration": 3,
    "start_time": "2023-04-29T14:40:12.601Z"
   },
   {
    "duration": 14,
    "start_time": "2023-04-29T14:40:12.605Z"
   },
   {
    "duration": 18,
    "start_time": "2023-04-29T14:40:12.620Z"
   },
   {
    "duration": 51,
    "start_time": "2023-04-29T14:40:12.639Z"
   },
   {
    "duration": 23,
    "start_time": "2023-04-29T14:40:12.693Z"
   },
   {
    "duration": 18,
    "start_time": "2023-04-29T14:40:12.717Z"
   },
   {
    "duration": 916,
    "start_time": "2023-04-29T14:40:12.737Z"
   },
   {
    "duration": 7,
    "start_time": "2023-04-29T14:40:13.656Z"
   },
   {
    "duration": 24,
    "start_time": "2023-04-29T14:40:13.664Z"
   },
   {
    "duration": 10,
    "start_time": "2023-04-29T14:40:13.696Z"
   },
   {
    "duration": 8,
    "start_time": "2023-04-29T14:40:13.708Z"
   },
   {
    "duration": 272,
    "start_time": "2023-04-29T14:40:13.718Z"
   },
   {
    "duration": 845,
    "start_time": "2023-04-29T14:40:13.995Z"
   },
   {
    "duration": 6,
    "start_time": "2023-04-29T14:40:14.842Z"
   },
   {
    "duration": 39,
    "start_time": "2023-04-29T14:40:14.850Z"
   },
   {
    "duration": 33,
    "start_time": "2023-04-29T14:40:14.890Z"
   },
   {
    "duration": 416,
    "start_time": "2023-04-29T14:40:14.926Z"
   },
   {
    "duration": 4,
    "start_time": "2023-04-29T14:40:15.345Z"
   },
   {
    "duration": 14,
    "start_time": "2023-04-29T14:40:15.351Z"
   },
   {
    "duration": 7,
    "start_time": "2023-04-29T14:40:15.367Z"
   },
   {
    "duration": 30,
    "start_time": "2023-04-29T14:40:15.375Z"
   },
   {
    "duration": 10,
    "start_time": "2023-04-29T14:40:15.407Z"
   },
   {
    "duration": 14,
    "start_time": "2023-04-29T14:40:15.418Z"
   },
   {
    "duration": 11,
    "start_time": "2023-04-29T14:40:15.433Z"
   },
   {
    "duration": 103,
    "start_time": "2023-04-29T14:40:15.445Z"
   },
   {
    "duration": 8,
    "start_time": "2023-04-29T14:40:15.549Z"
   },
   {
    "duration": 8,
    "start_time": "2023-04-29T14:40:15.559Z"
   },
   {
    "duration": 832,
    "start_time": "2023-04-29T14:40:15.568Z"
   },
   {
    "duration": 4,
    "start_time": "2023-04-29T14:40:16.402Z"
   },
   {
    "duration": 607,
    "start_time": "2023-04-29T14:40:16.408Z"
   },
   {
    "duration": 4,
    "start_time": "2023-04-29T14:40:17.017Z"
   },
   {
    "duration": 539912,
    "start_time": "2023-04-29T14:40:17.022Z"
   },
   {
    "duration": 3,
    "start_time": "2023-04-29T14:49:16.935Z"
   },
   {
    "duration": 4075,
    "start_time": "2023-04-29T14:49:16.940Z"
   },
   {
    "duration": 3,
    "start_time": "2023-04-29T14:49:21.019Z"
   },
   {
    "duration": 2643461,
    "start_time": "2023-04-29T14:49:21.024Z"
   },
   {
    "duration": 2,
    "start_time": "2023-04-29T15:33:24.488Z"
   },
   {
    "duration": 2807034,
    "start_time": "2023-04-29T15:33:24.492Z"
   },
   {
    "duration": 3,
    "start_time": "2023-04-29T16:20:11.528Z"
   },
   {
    "duration": 13,
    "start_time": "2023-04-29T16:20:11.533Z"
   },
   {
    "duration": 15,
    "start_time": "2023-04-29T16:20:11.547Z"
   },
   {
    "duration": 11,
    "start_time": "2023-04-29T16:20:11.565Z"
   },
   {
    "duration": 202,
    "start_time": "2023-04-29T16:20:11.578Z"
   },
   {
    "duration": 3,
    "start_time": "2023-04-29T16:20:11.782Z"
   },
   {
    "duration": 21,
    "start_time": "2023-04-29T16:20:11.787Z"
   },
   {
    "duration": 7291,
    "start_time": "2023-04-29T16:20:11.810Z"
   },
   {
    "duration": 3,
    "start_time": "2023-04-29T16:20:19.102Z"
   },
   {
    "duration": 6,
    "start_time": "2023-04-29T16:20:19.107Z"
   },
   {
    "duration": 6,
    "start_time": "2023-04-29T16:20:19.114Z"
   },
   {
    "duration": 130,
    "start_time": "2023-04-29T16:20:19.122Z"
   },
   {
    "duration": 3,
    "start_time": "2023-04-29T16:20:19.255Z"
   },
   {
    "duration": 10,
    "start_time": "2023-04-29T16:20:19.259Z"
   },
   {
    "duration": 17,
    "start_time": "2023-04-29T16:20:19.270Z"
   },
   {
    "duration": 147,
    "start_time": "2023-04-29T16:20:19.297Z"
   },
   {
    "duration": 9,
    "start_time": "2023-04-29T16:20:19.445Z"
   },
   {
    "duration": 15,
    "start_time": "2023-04-29T16:20:19.455Z"
   },
   {
    "duration": 9,
    "start_time": "2023-04-29T16:20:19.471Z"
   },
   {
    "duration": 139,
    "start_time": "2023-04-29T16:20:19.485Z"
   },
   {
    "duration": 2120,
    "start_time": "2023-08-12T09:46:30.765Z"
   },
   {
    "duration": 1217,
    "start_time": "2023-08-12T09:46:32.887Z"
   },
   {
    "duration": 2,
    "start_time": "2023-08-12T09:46:34.106Z"
   },
   {
    "duration": 122,
    "start_time": "2023-08-12T09:46:34.109Z"
   },
   {
    "duration": 22,
    "start_time": "2023-08-12T09:46:34.233Z"
   },
   {
    "duration": 5,
    "start_time": "2023-08-12T09:46:34.256Z"
   },
   {
    "duration": 14,
    "start_time": "2023-08-12T09:46:34.262Z"
   },
   {
    "duration": 10,
    "start_time": "2023-08-12T09:46:34.277Z"
   },
   {
    "duration": 6,
    "start_time": "2023-08-12T09:46:34.288Z"
   },
   {
    "duration": 5,
    "start_time": "2023-08-12T09:46:34.296Z"
   },
   {
    "duration": 29,
    "start_time": "2023-08-12T09:46:34.302Z"
   },
   {
    "duration": 568,
    "start_time": "2023-08-12T09:46:34.332Z"
   },
   {
    "duration": 5,
    "start_time": "2023-08-12T09:46:34.901Z"
   },
   {
    "duration": 13,
    "start_time": "2023-08-12T09:46:34.908Z"
   },
   {
    "duration": 13,
    "start_time": "2023-08-12T09:46:34.923Z"
   },
   {
    "duration": 4,
    "start_time": "2023-08-12T09:46:34.937Z"
   },
   {
    "duration": 237,
    "start_time": "2023-08-12T09:46:34.943Z"
   },
   {
    "duration": 697,
    "start_time": "2023-08-12T09:46:35.181Z"
   },
   {
    "duration": 4,
    "start_time": "2023-08-12T09:46:35.880Z"
   },
   {
    "duration": 25,
    "start_time": "2023-08-12T09:46:35.885Z"
   },
   {
    "duration": 18,
    "start_time": "2023-08-12T09:46:35.911Z"
   },
   {
    "duration": 299,
    "start_time": "2023-08-12T09:46:35.930Z"
   },
   {
    "duration": 5,
    "start_time": "2023-08-12T09:46:36.230Z"
   },
   {
    "duration": 13,
    "start_time": "2023-08-12T09:46:36.236Z"
   },
   {
    "duration": 8,
    "start_time": "2023-08-12T09:46:36.250Z"
   },
   {
    "duration": 16,
    "start_time": "2023-08-12T09:46:36.259Z"
   },
   {
    "duration": 6,
    "start_time": "2023-08-12T09:46:36.276Z"
   },
   {
    "duration": 13,
    "start_time": "2023-08-12T09:46:36.283Z"
   },
   {
    "duration": 18,
    "start_time": "2023-08-12T09:46:36.297Z"
   },
   {
    "duration": 5,
    "start_time": "2023-08-12T09:46:36.316Z"
   },
   {
    "duration": 12,
    "start_time": "2023-08-12T09:46:36.322Z"
   },
   {
    "duration": 6,
    "start_time": "2023-08-12T09:46:36.336Z"
   },
   {
    "duration": 559,
    "start_time": "2023-08-12T09:46:36.343Z"
   },
   {
    "duration": 95,
    "start_time": "2023-08-12T09:46:36.904Z"
   },
   {
    "duration": 451,
    "start_time": "2023-08-12T09:46:37.001Z"
   },
   {
    "duration": 3,
    "start_time": "2023-08-12T09:46:37.453Z"
   },
   {
    "duration": 2073,
    "start_time": "2023-08-12T09:47:35.884Z"
   },
   {
    "duration": 1148,
    "start_time": "2023-08-12T09:47:37.959Z"
   },
   {
    "duration": 2,
    "start_time": "2023-08-12T09:47:39.109Z"
   },
   {
    "duration": 59,
    "start_time": "2023-08-12T09:47:39.113Z"
   },
   {
    "duration": 21,
    "start_time": "2023-08-12T09:47:39.174Z"
   },
   {
    "duration": 2,
    "start_time": "2023-08-12T09:47:39.197Z"
   },
   {
    "duration": 10,
    "start_time": "2023-08-12T09:47:39.200Z"
   },
   {
    "duration": 8,
    "start_time": "2023-08-12T09:47:39.211Z"
   },
   {
    "duration": 6,
    "start_time": "2023-08-12T09:47:39.220Z"
   },
   {
    "duration": 5,
    "start_time": "2023-08-12T09:47:39.228Z"
   },
   {
    "duration": 12,
    "start_time": "2023-08-12T09:47:39.234Z"
   },
   {
    "duration": 579,
    "start_time": "2023-08-12T09:47:39.247Z"
   },
   {
    "duration": 5,
    "start_time": "2023-08-12T09:47:39.827Z"
   },
   {
    "duration": 9,
    "start_time": "2023-08-12T09:47:39.833Z"
   },
   {
    "duration": 32,
    "start_time": "2023-08-12T09:47:39.843Z"
   },
   {
    "duration": 20,
    "start_time": "2023-08-12T09:47:39.877Z"
   },
   {
    "duration": 227,
    "start_time": "2023-08-12T09:47:39.898Z"
   },
   {
    "duration": 700,
    "start_time": "2023-08-12T09:47:40.126Z"
   },
   {
    "duration": 4,
    "start_time": "2023-08-12T09:47:40.827Z"
   },
   {
    "duration": 29,
    "start_time": "2023-08-12T09:47:40.832Z"
   },
   {
    "duration": 18,
    "start_time": "2023-08-12T09:47:40.862Z"
   },
   {
    "duration": 276,
    "start_time": "2023-08-12T09:47:40.881Z"
   },
   {
    "duration": 4,
    "start_time": "2023-08-12T09:47:41.158Z"
   },
   {
    "duration": 14,
    "start_time": "2023-08-12T09:47:41.163Z"
   },
   {
    "duration": 14,
    "start_time": "2023-08-12T09:47:41.178Z"
   },
   {
    "duration": 17,
    "start_time": "2023-08-12T09:47:41.193Z"
   },
   {
    "duration": 15,
    "start_time": "2023-08-12T09:47:41.211Z"
   },
   {
    "duration": 8,
    "start_time": "2023-08-12T09:47:41.230Z"
   },
   {
    "duration": 7,
    "start_time": "2023-08-12T09:47:41.240Z"
   },
   {
    "duration": 9,
    "start_time": "2023-08-12T09:47:41.249Z"
   },
   {
    "duration": 23,
    "start_time": "2023-08-12T09:47:41.260Z"
   },
   {
    "duration": 12,
    "start_time": "2023-08-12T09:47:41.284Z"
   },
   {
    "duration": 2092,
    "start_time": "2023-08-12T09:48:17.459Z"
   },
   {
    "duration": 1240,
    "start_time": "2023-08-12T09:48:19.553Z"
   },
   {
    "duration": 3,
    "start_time": "2023-08-12T09:48:20.795Z"
   },
   {
    "duration": 58,
    "start_time": "2023-08-12T09:48:20.799Z"
   },
   {
    "duration": 22,
    "start_time": "2023-08-12T09:48:20.860Z"
   },
   {
    "duration": 3,
    "start_time": "2023-08-12T09:48:20.884Z"
   },
   {
    "duration": 26,
    "start_time": "2023-08-12T09:48:20.888Z"
   },
   {
    "duration": 8,
    "start_time": "2023-08-12T09:48:20.916Z"
   },
   {
    "duration": 6,
    "start_time": "2023-08-12T09:48:20.925Z"
   },
   {
    "duration": 33,
    "start_time": "2023-08-12T09:48:20.933Z"
   },
   {
    "duration": 13,
    "start_time": "2023-08-12T09:48:20.967Z"
   },
   {
    "duration": 609,
    "start_time": "2023-08-12T09:48:20.982Z"
   },
   {
    "duration": 7,
    "start_time": "2023-08-12T09:48:21.592Z"
   },
   {
    "duration": 14,
    "start_time": "2023-08-12T09:48:21.602Z"
   },
   {
    "duration": 9,
    "start_time": "2023-08-12T09:48:21.617Z"
   },
   {
    "duration": 4,
    "start_time": "2023-08-12T09:48:21.627Z"
   },
   {
    "duration": 219,
    "start_time": "2023-08-12T09:48:21.632Z"
   },
   {
    "duration": 698,
    "start_time": "2023-08-12T09:48:21.852Z"
   },
   {
    "duration": 4,
    "start_time": "2023-08-12T09:48:22.552Z"
   },
   {
    "duration": 29,
    "start_time": "2023-08-12T09:48:22.557Z"
   },
   {
    "duration": 18,
    "start_time": "2023-08-12T09:48:22.588Z"
   },
   {
    "duration": 255,
    "start_time": "2023-08-12T09:48:22.607Z"
   },
   {
    "duration": 4,
    "start_time": "2023-08-12T09:48:22.863Z"
   },
   {
    "duration": 39,
    "start_time": "2023-08-12T09:48:22.868Z"
   },
   {
    "duration": 6,
    "start_time": "2023-08-12T09:48:22.908Z"
   },
   {
    "duration": 34,
    "start_time": "2023-08-12T09:48:22.916Z"
   },
   {
    "duration": 17,
    "start_time": "2023-08-12T09:48:22.952Z"
   },
   {
    "duration": 35,
    "start_time": "2023-08-12T09:48:22.970Z"
   },
   {
    "duration": 22,
    "start_time": "2023-08-12T09:48:23.007Z"
   },
   {
    "duration": 27,
    "start_time": "2023-08-12T09:48:23.030Z"
   },
   {
    "duration": 48,
    "start_time": "2023-08-12T09:48:23.058Z"
   },
   {
    "duration": 5,
    "start_time": "2023-08-12T09:48:23.107Z"
   },
   {
    "duration": 596,
    "start_time": "2023-08-12T09:48:23.114Z"
   },
   {
    "duration": 89,
    "start_time": "2023-08-12T09:48:23.712Z"
   },
   {
    "duration": 1924,
    "start_time": "2023-08-12T09:48:44.386Z"
   },
   {
    "duration": 1156,
    "start_time": "2023-08-12T09:48:46.313Z"
   },
   {
    "duration": 2,
    "start_time": "2023-08-12T09:48:47.470Z"
   },
   {
    "duration": 54,
    "start_time": "2023-08-12T09:48:47.474Z"
   },
   {
    "duration": 21,
    "start_time": "2023-08-12T09:48:47.530Z"
   },
   {
    "duration": 2,
    "start_time": "2023-08-12T09:48:47.553Z"
   },
   {
    "duration": 8,
    "start_time": "2023-08-12T09:48:47.556Z"
   },
   {
    "duration": 4,
    "start_time": "2023-08-12T09:48:47.565Z"
   },
   {
    "duration": 5,
    "start_time": "2023-08-12T09:48:47.570Z"
   },
   {
    "duration": 7,
    "start_time": "2023-08-12T09:48:47.577Z"
   },
   {
    "duration": 15,
    "start_time": "2023-08-12T09:48:47.585Z"
   },
   {
    "duration": 569,
    "start_time": "2023-08-12T09:48:47.601Z"
   },
   {
    "duration": 5,
    "start_time": "2023-08-12T09:48:48.172Z"
   },
   {
    "duration": 12,
    "start_time": "2023-08-12T09:48:48.179Z"
   },
   {
    "duration": 6,
    "start_time": "2023-08-12T09:48:48.199Z"
   },
   {
    "duration": 5,
    "start_time": "2023-08-12T09:48:48.206Z"
   },
   {
    "duration": 205,
    "start_time": "2023-08-12T09:48:48.213Z"
   },
   {
    "duration": 710,
    "start_time": "2023-08-12T09:48:48.420Z"
   },
   {
    "duration": 4,
    "start_time": "2023-08-12T09:48:49.132Z"
   },
   {
    "duration": 29,
    "start_time": "2023-08-12T09:48:49.138Z"
   },
   {
    "duration": 18,
    "start_time": "2023-08-12T09:48:49.168Z"
   },
   {
    "duration": 238,
    "start_time": "2023-08-12T09:48:49.188Z"
   },
   {
    "duration": 4,
    "start_time": "2023-08-12T09:48:49.428Z"
   },
   {
    "duration": 7,
    "start_time": "2023-08-12T09:48:49.433Z"
   },
   {
    "duration": 4,
    "start_time": "2023-08-12T09:48:49.441Z"
   },
   {
    "duration": 10,
    "start_time": "2023-08-12T09:48:49.446Z"
   },
   {
    "duration": 6,
    "start_time": "2023-08-12T09:48:49.457Z"
   },
   {
    "duration": 4,
    "start_time": "2023-08-12T09:48:49.466Z"
   },
   {
    "duration": 3,
    "start_time": "2023-08-12T09:48:49.471Z"
   },
   {
    "duration": 26,
    "start_time": "2023-08-12T09:48:49.476Z"
   },
   {
    "duration": 7,
    "start_time": "2023-08-12T09:48:49.504Z"
   },
   {
    "duration": 4,
    "start_time": "2023-08-12T09:48:49.512Z"
   },
   {
    "duration": 285,
    "start_time": "2023-08-12T09:48:49.518Z"
   },
   {
    "duration": 97,
    "start_time": "2023-08-12T09:48:49.804Z"
   },
   {
    "duration": 538,
    "start_time": "2023-08-12T09:48:49.903Z"
   },
   {
    "duration": 3,
    "start_time": "2023-08-12T09:48:50.442Z"
   },
   {
    "duration": 2142,
    "start_time": "2023-08-12T09:49:36.433Z"
   },
   {
    "duration": 1210,
    "start_time": "2023-08-12T09:49:38.577Z"
   },
   {
    "duration": 2,
    "start_time": "2023-08-12T09:49:39.788Z"
   },
   {
    "duration": 49,
    "start_time": "2023-08-12T09:49:39.792Z"
   },
   {
    "duration": 22,
    "start_time": "2023-08-12T09:49:39.843Z"
   },
   {
    "duration": 2,
    "start_time": "2023-08-12T09:49:39.867Z"
   },
   {
    "duration": 8,
    "start_time": "2023-08-12T09:49:39.871Z"
   },
   {
    "duration": 16,
    "start_time": "2023-08-12T09:49:39.880Z"
   },
   {
    "duration": 7,
    "start_time": "2023-08-12T09:49:39.897Z"
   },
   {
    "duration": 21,
    "start_time": "2023-08-12T09:49:39.905Z"
   },
   {
    "duration": 4,
    "start_time": "2023-08-12T09:49:39.928Z"
   },
   {
    "duration": 573,
    "start_time": "2023-08-12T09:49:39.934Z"
   },
   {
    "duration": 5,
    "start_time": "2023-08-12T09:49:40.508Z"
   },
   {
    "duration": 11,
    "start_time": "2023-08-12T09:49:40.515Z"
   },
   {
    "duration": 8,
    "start_time": "2023-08-12T09:49:40.528Z"
   },
   {
    "duration": 9,
    "start_time": "2023-08-12T09:49:40.537Z"
   },
   {
    "duration": 228,
    "start_time": "2023-08-12T09:49:40.547Z"
   },
   {
    "duration": 681,
    "start_time": "2023-08-12T09:49:40.777Z"
   },
   {
    "duration": 4,
    "start_time": "2023-08-12T09:49:41.460Z"
   },
   {
    "duration": 31,
    "start_time": "2023-08-12T09:49:41.465Z"
   },
   {
    "duration": 21,
    "start_time": "2023-08-12T09:49:41.497Z"
   },
   {
    "duration": 264,
    "start_time": "2023-08-12T09:49:41.520Z"
   },
   {
    "duration": 4,
    "start_time": "2023-08-12T09:49:41.786Z"
   },
   {
    "duration": 5,
    "start_time": "2023-08-12T09:49:41.798Z"
   },
   {
    "duration": 10,
    "start_time": "2023-08-12T09:49:41.804Z"
   },
   {
    "duration": 10,
    "start_time": "2023-08-12T09:49:41.816Z"
   },
   {
    "duration": 6,
    "start_time": "2023-08-12T09:49:41.827Z"
   },
   {
    "duration": 4,
    "start_time": "2023-08-12T09:49:41.834Z"
   },
   {
    "duration": 4,
    "start_time": "2023-08-12T09:49:41.839Z"
   },
   {
    "duration": 11,
    "start_time": "2023-08-12T09:49:41.844Z"
   },
   {
    "duration": 6,
    "start_time": "2023-08-12T09:49:41.856Z"
   },
   {
    "duration": 6,
    "start_time": "2023-08-12T09:49:41.863Z"
   },
   {
    "duration": 431,
    "start_time": "2023-08-12T09:49:41.870Z"
   },
   {
    "duration": 3,
    "start_time": "2023-08-12T09:49:42.302Z"
   },
   {
    "duration": 565,
    "start_time": "2023-08-12T09:49:42.307Z"
   },
   {
    "duration": 3,
    "start_time": "2023-08-12T09:49:42.873Z"
   },
   {
    "duration": 676479,
    "start_time": "2023-08-12T09:49:42.877Z"
   },
   {
    "duration": 3,
    "start_time": "2023-08-12T10:00:59.357Z"
   },
   {
    "duration": 1580,
    "start_time": "2023-08-12T10:00:59.361Z"
   },
   {
    "duration": 2,
    "start_time": "2023-08-12T10:01:00.943Z"
   },
   {
    "duration": 196253,
    "start_time": "2023-08-12T10:01:00.949Z"
   },
   {
    "duration": 2,
    "start_time": "2023-08-12T10:04:17.204Z"
   },
   {
    "duration": 146145,
    "start_time": "2023-08-12T10:04:17.207Z"
   },
   {
    "duration": 0,
    "start_time": "2023-08-12T10:06:43.354Z"
   },
   {
    "duration": 0,
    "start_time": "2023-08-12T10:06:43.356Z"
   },
   {
    "duration": 0,
    "start_time": "2023-08-12T10:06:43.357Z"
   },
   {
    "duration": 0,
    "start_time": "2023-08-12T10:06:43.358Z"
   },
   {
    "duration": 0,
    "start_time": "2023-08-12T10:06:43.358Z"
   },
   {
    "duration": 0,
    "start_time": "2023-08-12T10:06:43.359Z"
   },
   {
    "duration": 0,
    "start_time": "2023-08-12T10:06:43.360Z"
   },
   {
    "duration": 0,
    "start_time": "2023-08-12T10:06:43.361Z"
   },
   {
    "duration": 0,
    "start_time": "2023-08-12T10:06:43.362Z"
   },
   {
    "duration": 0,
    "start_time": "2023-08-12T10:06:43.363Z"
   },
   {
    "duration": 0,
    "start_time": "2023-08-12T10:06:43.364Z"
   },
   {
    "duration": 0,
    "start_time": "2023-08-12T10:06:43.365Z"
   },
   {
    "duration": 0,
    "start_time": "2023-08-12T10:06:43.366Z"
   },
   {
    "duration": 0,
    "start_time": "2023-08-12T10:06:43.367Z"
   },
   {
    "duration": 0,
    "start_time": "2023-08-12T10:06:43.368Z"
   },
   {
    "duration": 0,
    "start_time": "2023-08-12T10:06:43.368Z"
   },
   {
    "duration": 0,
    "start_time": "2023-08-12T10:06:43.369Z"
   },
   {
    "duration": 0,
    "start_time": "2023-08-12T10:06:43.370Z"
   },
   {
    "duration": 0,
    "start_time": "2023-08-12T10:06:43.371Z"
   },
   {
    "duration": 0,
    "start_time": "2023-08-12T10:06:43.371Z"
   },
   {
    "duration": 1218645,
    "start_time": "2023-08-12T10:06:55.258Z"
   },
   {
    "duration": 3,
    "start_time": "2023-08-12T10:27:13.905Z"
   },
   {
    "duration": 6,
    "start_time": "2023-08-12T10:27:13.910Z"
   },
   {
    "duration": 9,
    "start_time": "2023-08-12T10:27:13.918Z"
   },
   {
    "duration": 23,
    "start_time": "2023-08-12T10:27:13.928Z"
   },
   {
    "duration": 160,
    "start_time": "2023-08-12T10:27:13.952Z"
   },
   {
    "duration": 3,
    "start_time": "2023-08-12T10:27:14.114Z"
   },
   {
    "duration": 15,
    "start_time": "2023-08-12T10:27:14.118Z"
   },
   {
    "duration": 2086,
    "start_time": "2023-08-12T10:27:14.136Z"
   },
   {
    "duration": 5,
    "start_time": "2023-08-12T10:27:16.225Z"
   },
   {
    "duration": 27,
    "start_time": "2023-08-12T10:27:16.231Z"
   },
   {
    "duration": 8,
    "start_time": "2023-08-12T10:27:16.260Z"
   },
   {
    "duration": 140,
    "start_time": "2023-08-12T10:27:16.269Z"
   },
   {
    "duration": 5,
    "start_time": "2023-08-12T10:27:16.411Z"
   },
   {
    "duration": 31,
    "start_time": "2023-08-12T10:27:16.420Z"
   },
   {
    "duration": 20,
    "start_time": "2023-08-12T10:27:16.453Z"
   },
   {
    "duration": 155,
    "start_time": "2023-08-12T10:27:16.475Z"
   },
   {
    "duration": 10,
    "start_time": "2023-08-12T10:27:16.632Z"
   },
   {
    "duration": 29,
    "start_time": "2023-08-12T10:27:16.643Z"
   },
   {
    "duration": 10,
    "start_time": "2023-08-12T10:27:16.674Z"
   },
   {
    "duration": 131,
    "start_time": "2023-08-12T10:27:16.685Z"
   },
   {
    "duration": 145,
    "start_time": "2023-08-12T10:27:54.972Z"
   },
   {
    "duration": 140,
    "start_time": "2023-08-12T10:27:58.245Z"
   },
   {
    "duration": 162,
    "start_time": "2023-08-12T10:28:02.697Z"
   },
   {
    "duration": 159,
    "start_time": "2023-08-12T10:28:06.121Z"
   },
   {
    "duration": 156,
    "start_time": "2023-08-12T10:28:08.996Z"
   },
   {
    "duration": 146,
    "start_time": "2023-08-12T10:28:15.697Z"
   },
   {
    "duration": 144,
    "start_time": "2023-08-12T10:28:18.247Z"
   },
   {
    "duration": 146,
    "start_time": "2023-08-12T10:28:22.922Z"
   },
   {
    "duration": 148,
    "start_time": "2023-08-12T10:28:33.959Z"
   },
   {
    "duration": 143,
    "start_time": "2023-08-12T10:28:40.075Z"
   },
   {
    "duration": 227,
    "start_time": "2023-08-12T10:28:43.646Z"
   },
   {
    "duration": 144,
    "start_time": "2023-08-12T10:28:47.882Z"
   },
   {
    "duration": 144,
    "start_time": "2023-08-12T10:28:53.570Z"
   },
   {
    "duration": 2364,
    "start_time": "2023-08-12T10:29:03.759Z"
   },
   {
    "duration": 1298,
    "start_time": "2023-08-12T10:29:06.126Z"
   },
   {
    "duration": 3,
    "start_time": "2023-08-12T10:29:07.426Z"
   },
   {
    "duration": 60,
    "start_time": "2023-08-12T10:29:07.431Z"
   },
   {
    "duration": 29,
    "start_time": "2023-08-12T10:29:07.494Z"
   },
   {
    "duration": 3,
    "start_time": "2023-08-12T10:29:07.525Z"
   },
   {
    "duration": 12,
    "start_time": "2023-08-12T10:29:07.530Z"
   },
   {
    "duration": 4,
    "start_time": "2023-08-12T10:29:07.543Z"
   },
   {
    "duration": 9,
    "start_time": "2023-08-12T10:29:07.548Z"
   },
   {
    "duration": 5,
    "start_time": "2023-08-12T10:29:07.558Z"
   },
   {
    "duration": 6,
    "start_time": "2023-08-12T10:29:07.564Z"
   },
   {
    "duration": 641,
    "start_time": "2023-08-12T10:29:07.571Z"
   },
   {
    "duration": 5,
    "start_time": "2023-08-12T10:29:08.213Z"
   },
   {
    "duration": 34,
    "start_time": "2023-08-12T10:29:08.221Z"
   },
   {
    "duration": 17,
    "start_time": "2023-08-12T10:29:08.256Z"
   },
   {
    "duration": 8,
    "start_time": "2023-08-12T10:29:08.275Z"
   },
   {
    "duration": 205,
    "start_time": "2023-08-12T10:29:08.285Z"
   },
   {
    "duration": 751,
    "start_time": "2023-08-12T10:29:08.491Z"
   },
   {
    "duration": 4,
    "start_time": "2023-08-12T10:29:09.244Z"
   },
   {
    "duration": 30,
    "start_time": "2023-08-12T10:29:09.250Z"
   },
   {
    "duration": 18,
    "start_time": "2023-08-12T10:29:09.282Z"
   },
   {
    "duration": 260,
    "start_time": "2023-08-12T10:29:09.301Z"
   },
   {
    "duration": 5,
    "start_time": "2023-08-12T10:29:09.562Z"
   },
   {
    "duration": 10,
    "start_time": "2023-08-12T10:29:09.568Z"
   },
   {
    "duration": 4,
    "start_time": "2023-08-12T10:29:09.579Z"
   },
   {
    "duration": 34,
    "start_time": "2023-08-12T10:29:09.584Z"
   },
   {
    "duration": 13,
    "start_time": "2023-08-12T10:29:09.619Z"
   },
   {
    "duration": 5,
    "start_time": "2023-08-12T10:29:09.633Z"
   },
   {
    "duration": 5,
    "start_time": "2023-08-12T10:29:09.640Z"
   },
   {
    "duration": 5,
    "start_time": "2023-08-12T10:29:09.646Z"
   },
   {
    "duration": 5,
    "start_time": "2023-08-12T10:29:09.653Z"
   },
   {
    "duration": 6,
    "start_time": "2023-08-12T10:29:09.660Z"
   },
   {
    "duration": 1238,
    "start_time": "2023-08-12T10:29:09.667Z"
   },
   {
    "duration": 3,
    "start_time": "2023-08-12T10:29:10.907Z"
   },
   {
    "duration": 645,
    "start_time": "2023-08-12T10:29:10.911Z"
   },
   {
    "duration": 3,
    "start_time": "2023-08-12T10:29:11.557Z"
   },
   {
    "duration": 698593,
    "start_time": "2023-08-12T10:29:11.561Z"
   },
   {
    "duration": 3,
    "start_time": "2023-08-12T10:40:50.156Z"
   },
   {
    "duration": 1951,
    "start_time": "2023-08-12T10:40:50.160Z"
   },
   {
    "duration": 3,
    "start_time": "2023-08-12T10:40:52.113Z"
   },
   {
    "duration": 318881,
    "start_time": "2023-08-12T10:40:52.121Z"
   },
   {
    "duration": 3,
    "start_time": "2023-08-12T10:46:11.004Z"
   },
   {
    "duration": 2261233,
    "start_time": "2023-08-12T10:46:11.009Z"
   },
   {
    "duration": 2,
    "start_time": "2023-08-12T11:23:52.244Z"
   },
   {
    "duration": 16,
    "start_time": "2023-08-12T11:23:52.247Z"
   },
   {
    "duration": 8,
    "start_time": "2023-08-12T11:23:52.265Z"
   },
   {
    "duration": 17,
    "start_time": "2023-08-12T11:23:52.274Z"
   },
   {
    "duration": 153,
    "start_time": "2023-08-12T11:23:52.292Z"
   },
   {
    "duration": 3,
    "start_time": "2023-08-12T11:23:52.446Z"
   },
   {
    "duration": 5,
    "start_time": "2023-08-12T11:23:52.450Z"
   },
   {
    "duration": 5584,
    "start_time": "2023-08-12T11:23:52.457Z"
   },
   {
    "duration": 3,
    "start_time": "2023-08-12T11:23:58.043Z"
   },
   {
    "duration": 9,
    "start_time": "2023-08-12T11:23:58.047Z"
   },
   {
    "duration": 14,
    "start_time": "2023-08-12T11:23:58.057Z"
   },
   {
    "duration": 129,
    "start_time": "2023-08-12T11:23:58.072Z"
   },
   {
    "duration": 3,
    "start_time": "2023-08-12T11:23:58.202Z"
   },
   {
    "duration": 9,
    "start_time": "2023-08-12T11:23:58.206Z"
   },
   {
    "duration": 6,
    "start_time": "2023-08-12T11:23:58.216Z"
   },
   {
    "duration": 125,
    "start_time": "2023-08-12T11:23:58.223Z"
   },
   {
    "duration": 8,
    "start_time": "2023-08-12T11:23:58.350Z"
   },
   {
    "duration": 9,
    "start_time": "2023-08-12T11:23:58.359Z"
   },
   {
    "duration": 9,
    "start_time": "2023-08-12T11:23:58.369Z"
   },
   {
    "duration": 116,
    "start_time": "2023-08-12T11:23:58.379Z"
   }
  ],
  "kernelspec": {
   "display_name": "Python 3 (ipykernel)",
   "language": "python",
   "name": "python3"
  },
  "language_info": {
   "codemirror_mode": {
    "name": "ipython",
    "version": 3
   },
   "file_extension": ".py",
   "mimetype": "text/x-python",
   "name": "python",
   "nbconvert_exporter": "python",
   "pygments_lexer": "ipython3",
   "version": "3.10.11"
  },
  "toc": {
   "base_numbering": 1,
   "nav_menu": {},
   "number_sections": true,
   "sideBar": true,
   "skip_h1_title": true,
   "title_cell": "Содержание",
   "title_sidebar": "Contents",
   "toc_cell": true,
   "toc_position": {
    "height": "calc(100% - 180px)",
    "left": "10px",
    "top": "150px",
    "width": "256.625px"
   },
   "toc_section_display": true,
   "toc_window_display": false
  }
 },
 "nbformat": 4,
 "nbformat_minor": 2
}
